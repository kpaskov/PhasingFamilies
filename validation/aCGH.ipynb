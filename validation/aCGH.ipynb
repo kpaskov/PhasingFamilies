{
 "cells": [
  {
   "cell_type": "code",
   "execution_count": 1,
   "metadata": {},
   "outputs": [],
   "source": [
    "import json\n",
    "from collections import defaultdict, Counter\n",
    "import numpy as np\n",
    "from os import listdir\n",
    "import matplotlib.pyplot as plt\n",
    "import scipy.stats as stats\n",
    "import gzip\n",
    "import scipy.sparse as sparse\n",
    "from sklearn.metrics import precision_recall_curve\n",
    "from matplotlib.patches import Rectangle\n",
    "import statsmodels.api as sm\n",
    "import matplotlib\n",
    "from itertools import compress"
   ]
  },
  {
   "cell_type": "code",
   "execution_count": 2,
   "metadata": {},
   "outputs": [],
   "source": [
    "ped_file = '../../DATA/ssc/ssc.ped'\n",
    "chroms = [str(x) for x in range(1, 23)]\n",
    "\n",
    "assembly = '37'"
   ]
  },
  {
   "cell_type": "code",
   "execution_count": 3,
   "metadata": {},
   "outputs": [],
   "source": [
    "colors=['#ef6c00', '#4db6ac', '#ce93d8ff']\n",
    "matplotlib.rcParams.update({'font.size': 15})\n"
   ]
  },
  {
   "cell_type": "code",
   "execution_count": 4,
   "metadata": {},
   "outputs": [],
   "source": [
    "ssc_old_id_to_new_id = dict()\n",
    "with open('../data/ssc.id_map.from.repository', 'r') as f:\n",
    "    for line in f:\n",
    "        pieces = line.strip().split('\\t')\n",
    "        ssc_old_id_to_new_id[pieces[1]] = pieces[0]\n",
    "        ssc_old_id_to_new_id[pieces[1].replace('.', '_')] = pieces[0]"
   ]
  },
  {
   "cell_type": "code",
   "execution_count": 5,
   "metadata": {},
   "outputs": [
    {
     "name": "stdout",
     "output_type": "stream",
     "text": [
      "ped loaded\n",
      "children 1037\n"
     ]
    }
   ],
   "source": [
    "# pull affected status\n",
    "# (0=unknown; 1=unaffected; 2=affected)\n",
    "child_id_to_affected = dict()\n",
    "child_id_to_sex = dict()\n",
    "fam_to_inds = dict()\n",
    "with open(ped_file, 'r') as f:\n",
    "    for line in f:\n",
    "        pieces = line.strip().split('\\t')\n",
    "        if len(pieces) >= 6:\n",
    "            fam_id, child_id, f_id, m_id, sex, disease_status = pieces[0:6]\n",
    "            if child_id in ssc_old_id_to_new_id and m_id in ssc_old_id_to_new_id and f_id in ssc_old_id_to_new_id:\n",
    "                child_id = ssc_old_id_to_new_id[child_id]\n",
    "                f_id = ssc_old_id_to_new_id[f_id]\n",
    "                m_id = ssc_old_id_to_new_id[m_id]\n",
    "                child_id_to_affected[child_id] = disease_status\n",
    "                child_id_to_sex[child_id] = sex\n",
    "\n",
    "                if (fam_id, m_id, f_id) not in fam_to_inds:\n",
    "                    fam_to_inds[(fam_id, m_id, f_id)] = [m_id, f_id]\n",
    "                fam_to_inds[(fam_id, m_id, f_id)].append(child_id)\n",
    "                \n",
    "print('ped loaded')\n",
    "print('children', len(child_id_to_affected))"
   ]
  },
  {
   "cell_type": "markdown",
   "metadata": {},
   "source": [
    "# pull our deletions"
   ]
  },
  {
   "cell_type": "code",
   "execution_count": 6,
   "metadata": {},
   "outputs": [
    {
     "name": "stdout",
     "output_type": "stream",
     "text": [
      "98295\n"
     ]
    }
   ],
   "source": [
    "# pull deletions\n",
    "deletions = []\n",
    "with open('../phased_ssc_del_qs/deletions.json') as f:\n",
    "    for d in json.load(f):\n",
    "        if d['is_inherited'] and not d['is_hts']:\n",
    "            nodel_parent = d['mother'] if d['is_pat'] else d['father']\n",
    "            for child in d['trans']:\n",
    "                #if ('%s_num_markers_aCGH' % child) in d and ('%s_num_markers_aCGH' % nodel_parent) in d:\n",
    "                deletions.append({\n",
    "                                'family': d['family'],\n",
    "                                'child': ssc_old_id_to_new_id[child],\n",
    "                                'chrom': d['chrom'],\n",
    "                                'start_pos': d['start_pos'],\n",
    "                                'end_pos': d['end_pos'],\n",
    "                                'length': d['length'],\n",
    "                                'opt_start_pos': d['opt_start_pos'],\n",
    "                                'opt_end_pos': d['opt_end_pos'],\n",
    "                                'is_mat': d['is_mat'],\n",
    "                                'is_pat': d['is_pat'],\n",
    "                                'mother': ssc_old_id_to_new_id[d['mother']],\n",
    "                                'father': ssc_old_id_to_new_id[d['father']],\n",
    "                                'is_inherited': d['is_inherited'],\n",
    "                                'is_denovo': d['is_denovo'],\n",
    "                                #'num_markers': d['num_markers'],\n",
    "                                'num_markers_aCGH': d.get('%s_num_markers_aCGH' % child, None),\n",
    "                                'med_aCGH': d.get('%s_med_aCGH' % child, None),\n",
    "                                'num_markers_aCGH_parent': d.get('%s_num_markers_aCGH' % nodel_parent, None),\n",
    "                                'med_aCGH_parent': d.get('%s_med_aCGH' % nodel_parent, None),\n",
    "                                'quality_score': None if 'quality_score' not in d else d['quality_score']\n",
    "                        })\n",
    "print(len(deletions))"
   ]
  },
  {
   "cell_type": "code",
   "execution_count": 7,
   "metadata": {},
   "outputs": [
    {
     "name": "stdout",
     "output_type": "stream",
     "text": [
      "93\n"
     ]
    }
   ],
   "source": [
    "# pull deletions\n",
    "hg002_deletions = []\n",
    "with open('../phased_hg002_del_qs/deletions.json') as f:\n",
    "    for d in json.load(f):\n",
    "        if d['is_inherited'] and not d['is_hts'] and d['length']>1000:\n",
    "            for child in d['trans']:\n",
    "                if d['chrom'] in chroms:\n",
    "                    hg002_deletions.append({\n",
    "                                    'family': d['family'],\n",
    "                                    'child': child,\n",
    "                                    'chrom': d['chrom'],\n",
    "                                    'start_pos': d['start_pos'],\n",
    "                                    'end_pos': d['end_pos'],\n",
    "                                    'length': d['length'],\n",
    "                                    'opt_start_pos': d['opt_start_pos'],\n",
    "                                    'opt_end_pos': d['opt_end_pos'],\n",
    "                                    'is_mat': d['is_mat'],\n",
    "                                    'is_pat': d['is_pat'],\n",
    "                                    'mother': d['mother'],\n",
    "                                    'father': d['father'],\n",
    "                                    'is_inherited': d['is_inherited'],\n",
    "                                    'is_denovo': d['is_denovo'],\n",
    "                                    'quality_score': None if 'quality_score' not in d else d['quality_score']\n",
    "                            })\n",
    "print(len(hg002_deletions))"
   ]
  },
  {
   "cell_type": "code",
   "execution_count": 8,
   "metadata": {},
   "outputs": [
    {
     "data": {
      "image/png": "[encoded data removed]",
      "text/plain": [
       "<Figure size 432x288 with 1 Axes>"
      ]
     },
     "metadata": {
      "needs_background": "light"
     },
     "output_type": "display_data"
    }
   ],
   "source": [
    "plt.hist(np.clip([d['quality_score'] for d in deletions if d['quality_score'] is not None], None, 100), \n",
    "         bins=np.arange(101))\n",
    "plt.show()"
   ]
  },
  {
   "cell_type": "code",
   "execution_count": 9,
   "metadata": {},
   "outputs": [
    {
     "name": "stdout",
     "output_type": "stream",
     "text": [
      "remaining deletions 98295\n"
     ]
    }
   ],
   "source": [
    "#remove deletions that aren't inherited\n",
    "deletions = [d for d in deletions if d['is_inherited']]\n",
    "print('remaining deletions', len(deletions))\n"
   ]
  },
  {
   "cell_type": "code",
   "execution_count": 10,
   "metadata": {},
   "outputs": [
    {
     "name": "stdout",
     "output_type": "stream",
     "text": [
      "remaining deletions 66226\n"
     ]
    }
   ],
   "source": [
    "#remove deletions <100bp\n",
    "deletions = [d for d in deletions if d['length']>=1000]\n",
    "print('remaining deletions', len(deletions))\n"
   ]
  },
  {
   "cell_type": "code",
   "execution_count": 11,
   "metadata": {},
   "outputs": [
    {
     "name": "stdout",
     "output_type": "stream",
     "text": [
      "{'segDup', 'TCR', 'unmapable', 'abparts', 'centromere'}\n",
      "{'LINE', 'LTR', 'Low_complexity', 'SINE', 'DNA', 'Other', 'STR'}\n"
     ]
    }
   ],
   "source": [
    "chrom_category_region_to_interval_starts, chrom_category_region_to_interval_ends = defaultdict(list), defaultdict(list)\n",
    "regions = set()\n",
    "with open('../data/filtered_regions_hg19.bed', 'r') as f:\n",
    "    for line in f:\n",
    "        pieces = line.strip().split('\\t')\n",
    "        chrom, region_type = pieces[0][3:], pieces[3]\n",
    "        if chrom in chroms:\n",
    "            chrom_category_region_to_interval_starts[(chrom, 'filtered', region_type)].append(int(pieces[1])+1)\n",
    "            chrom_category_region_to_interval_ends[(chrom, 'filtered', region_type)].append(int(pieces[2]))\n",
    "            regions.add(region_type)\n",
    "print(regions)\n",
    "            \n",
    "     \n",
    "            \n",
    "#with open('../data/microsat.txt', 'r') as f:\n",
    "#    for line in f:\n",
    "#        pieces = line.strip().split('\\t')\n",
    "#        if pieces[1][3:] in chroms:\n",
    "#            chrom_to_interval_starts[pieces[1][3:]].append(int(pieces[2]))\n",
    "#            chrom_to_interval_ends[pieces[1][3:]].append(int(pieces[3]))\n",
    "#            chrom_to_region_types[pieces[1][3:]].append('STR')\n",
    "#            \n",
    "#with open('../../FamilySeqError/data/btu356-suppl_data/btu356_LCR-hs37d5.bed/btu356_LCR-hs37d5.bed', 'r') as f:\n",
    "#    for line in f:\n",
    "#        pieces = line.strip().split('\\t')\n",
    "#        if pieces[0] in chroms:\n",
    "#            chrom_to_interval_starts[pieces[0]].append(int(pieces[1])+1)\n",
    "#            chrom_to_interval_ends[pieces[0]].append(int(pieces[2]))\n",
    "#            chrom_to_region_types[pieces[0]].append('LCR')\n",
    "\n",
    "region_type_mapping = {\n",
    "    'SINE': 'SINE',\n",
    "    'LINE': 'LINE',\n",
    "    'DNA': 'DNA',\n",
    "    'LTR': 'LTR',\n",
    "    'Low_complexity': 'Low_complexity',\n",
    "    'Simple_repeat': 'STR',\n",
    "    'Satellite': 'Other',\n",
    "     'Unknown': 'Other',\n",
    "    'snRNA': 'Other',\n",
    "    'tRNA': 'Other',\n",
    "    'DNA?': 'Other',\n",
    "    'srpRNA': 'Other',\n",
    "    'rRNA': 'Other',\n",
    "    'RC': 'Other',\n",
    "    'Other': 'Other',\n",
    "    'SINE?': 'Other',\n",
    "    'scRNA': 'Other',\n",
    "    'RNA': 'Other',\n",
    "    'LTR?': 'Other',\n",
    "    'Unknown?': 'Other',\n",
    "    'LINE?': 'Other',\n",
    "   \n",
    "}\n",
    "\n",
    "regions = set()\n",
    "with open('../data/hg19.fa.out', 'r') as f:\n",
    "    next(f) # skip header\n",
    "    next(f) # skip header\n",
    "    next(f) # skip header\n",
    "    for line in f:\n",
    "        pieces = line.strip().split()\n",
    "        chrom = pieces[4][3:]\n",
    "        start_pos = int(pieces[5])\n",
    "        end_pos = int(pieces[6])\n",
    "        region_type = region_type_mapping[pieces[10].split('/')[0]]\n",
    "        regions.add(region_type)\n",
    "        \n",
    "        if chrom in chroms:\n",
    "            chrom_category_region_to_interval_starts[(chrom, 'repeat', region_type)].append(start_pos)\n",
    "            chrom_category_region_to_interval_ends[(chrom, 'repeat', region_type)].append(end_pos)\n",
    "print(regions)"
   ]
  },
  {
   "cell_type": "code",
   "execution_count": 12,
   "metadata": {},
   "outputs": [],
   "source": [
    "with open('../data/hg19.trf.bed', 'r') as f:\n",
    "    for line in f:\n",
    "        pieces = line.strip().split()\n",
    "        chrom = pieces[0][3:]\n",
    "        start_pos = int(pieces[1])\n",
    "        end_pos = int(pieces[2])\n",
    "        \n",
    "        chrom_category_region_to_interval_starts[(chrom, 'repeat', 'TRF')].append(start_pos)\n",
    "        chrom_category_region_to_interval_ends[(chrom, 'repeat', 'TRF')].append(end_pos)\n",
    "            \n",
    "for key in chrom_category_region_to_interval_starts.keys():\n",
    "    chrom_category_region_to_interval_starts[key] = np.array(chrom_category_region_to_interval_starts[key])\n",
    "    chrom_category_region_to_interval_ends[key] = np.array(chrom_category_region_to_interval_ends[key])\n",
    "    "
   ]
  },
  {
   "cell_type": "code",
   "execution_count": 13,
   "metadata": {},
   "outputs": [
    {
     "name": "stdout",
     "output_type": "stream",
     "text": [
      "1 filtered.unmapable filtered.segDup filtered.centromere repeat.STR repeat.Other repeat.LINE repeat.DNA repeat.SINE repeat.LTR repeat.Low_complexity repeat.TRF \n",
      "2 filtered.unmapable filtered.segDup filtered.abparts filtered.centromere repeat.STR repeat.Other repeat.LTR repeat.SINE repeat.LINE repeat.DNA repeat.Low_complexity repeat.TRF \n",
      "3 filtered.unmapable filtered.segDup filtered.centromere repeat.DNA repeat.STR repeat.LINE repeat.Low_complexity repeat.SINE repeat.LTR repeat.Other repeat.TRF \n",
      "4 filtered.unmapable filtered.segDup filtered.centromere repeat.STR repeat.Other repeat.LTR repeat.SINE repeat.LINE repeat.DNA repeat.Low_complexity repeat.TRF \n",
      "5 filtered.unmapable filtered.segDup filtered.centromere repeat.STR repeat.Other repeat.LTR repeat.SINE repeat.LINE repeat.Low_complexity repeat.DNA repeat.TRF \n",
      "6 filtered.unmapable filtered.segDup filtered.centromere repeat.Low_complexity repeat.LTR repeat.SINE repeat.LINE repeat.STR repeat.DNA repeat.Other repeat.TRF \n",
      "7 filtered.unmapable filtered.segDup filtered.TCR filtered.centromere repeat.STR repeat.SINE repeat.Low_complexity repeat.DNA repeat.LINE repeat.LTR repeat.Other repeat.TRF \n",
      "8 filtered.unmapable filtered.segDup filtered.centromere repeat.LTR repeat.STR repeat.Low_complexity repeat.DNA repeat.LINE repeat.SINE repeat.Other repeat.TRF \n",
      "9 filtered.unmapable filtered.segDup filtered.TCR filtered.centromere repeat.STR repeat.Other repeat.LINE repeat.DNA repeat.SINE repeat.LTR repeat.Low_complexity repeat.TRF \n",
      "10 filtered.unmapable filtered.segDup filtered.centromere repeat.LINE repeat.SINE repeat.DNA repeat.Low_complexity repeat.STR repeat.LTR repeat.Other repeat.TRF \n",
      "11 filtered.unmapable filtered.segDup filtered.centromere repeat.LINE repeat.Low_complexity repeat.SINE repeat.STR repeat.LTR repeat.DNA repeat.Other repeat.TRF \n",
      "12 filtered.unmapable filtered.segDup filtered.centromere repeat.SINE repeat.LINE repeat.LTR repeat.Other repeat.STR repeat.DNA repeat.Low_complexity repeat.TRF \n",
      "13 filtered.unmapable filtered.centromere filtered.segDup repeat.SINE repeat.LTR repeat.Low_complexity repeat.LINE repeat.DNA repeat.STR repeat.Other repeat.TRF \n",
      "14 filtered.unmapable filtered.centromere filtered.segDup filtered.TCR filtered.abparts repeat.Other repeat.LINE repeat.LTR repeat.DNA repeat.SINE repeat.STR repeat.Low_complexity repeat.TRF \n",
      "15 filtered.unmapable filtered.centromere filtered.segDup filtered.abparts repeat.Other repeat.Low_complexity repeat.LINE repeat.LTR repeat.DNA repeat.SINE repeat.STR repeat.TRF \n",
      "16 filtered.unmapable filtered.segDup filtered.abparts filtered.centromere repeat.STR repeat.Other repeat.LINE repeat.DNA repeat.SINE repeat.LTR repeat.Low_complexity repeat.TRF \n",
      "17 filtered.unmapable filtered.segDup filtered.centromere repeat.LINE repeat.SINE repeat.DNA repeat.STR repeat.LTR repeat.Low_complexity repeat.Other repeat.TRF \n",
      "18 filtered.unmapable filtered.segDup filtered.centromere repeat.STR repeat.Other repeat.Low_complexity repeat.SINE repeat.LINE repeat.DNA repeat.LTR repeat.TRF \n",
      "19 filtered.unmapable filtered.segDup filtered.centromere repeat.LINE repeat.LTR repeat.SINE repeat.DNA repeat.STR repeat.Low_complexity repeat.Other repeat.TRF \n",
      "20 filtered.unmapable filtered.segDup filtered.centromere repeat.LINE repeat.SINE repeat.Low_complexity repeat.DNA repeat.STR repeat.LTR repeat.Other repeat.TRF \n",
      "21 filtered.unmapable filtered.segDup filtered.centromere repeat.LINE repeat.Low_complexity repeat.LTR repeat.STR repeat.SINE repeat.DNA repeat.Other repeat.TRF \n",
      "22 filtered.unmapable filtered.centromere filtered.segDup filtered.abparts repeat.SINE repeat.LTR repeat.STR repeat.Low_complexity repeat.LINE repeat.Other repeat.DNA repeat.TRF \n",
      "('repeat', 'SINE') 10096\n",
      "('repeat', 'LINE') 33950\n",
      "('repeat', 'DNA') 775\n",
      "('repeat', 'LTR') 10438\n",
      "('repeat', 'STR') 297\n",
      "('repeat', 'Low_complexity') 3\n",
      "('repeat', 'Other') 1291\n",
      "('repeat', 'TRF') 191\n",
      "('repeat', 'No_repeat') 15564\n",
      "('filtered', 'centromere') 1321\n",
      "('filtered', 'unmapable') 14023\n",
      "('filtered', 'segDup') 7637\n",
      "('filtered', 'abparts') 109\n",
      "('filtered', 'TCR') 250\n"
     ]
    }
   ],
   "source": [
    "regions_of_interest = [('repeat', 'SINE'),\n",
    "                      ('repeat', 'LINE'),\n",
    "                      ('repeat', 'DNA'),\n",
    "                      ('repeat', 'LTR'),\n",
    "                      ('repeat', 'STR'),\n",
    "                      ('repeat', 'Low_complexity'),\n",
    "                      ('repeat', 'Other'),\n",
    "                      ('repeat', 'TRF'),\n",
    "                      ('repeat', 'No_repeat'),\n",
    "                      ('filtered', 'centromere'),\n",
    "                      ('filtered', 'unmapable'),\n",
    "                      ('filtered', 'segDup'),\n",
    "                      ('filtered', 'abparts'),\n",
    "                      ('filtered', 'TCR')]\n",
    "region_to_index = dict([(x, i) for i, x in enumerate(regions_of_interest)])\n",
    "\n",
    "is_region = np.zeros((len(deletions), len(regions_of_interest)), dtype=bool)\n",
    "\n",
    "\n",
    "for chrom in chroms:\n",
    "    print(chrom, end=' ')\n",
    "    for (chrom, category, rt) in [x for x in chrom_category_region_to_interval_starts.keys() if x[0]==chrom]:\n",
    "        \n",
    "        starts, ends = chrom_category_region_to_interval_starts[(chrom, category, rt)], chrom_category_region_to_interval_ends[(chrom, category, rt)]\n",
    "        if (category, rt) in region_to_index:\n",
    "            print('%s.%s' % (category, rt), end=' ')\n",
    "            region_index = region_to_index[(category, rt)]\n",
    "\n",
    "            for i, d in [x for x in enumerate(deletions) if x[1]['chrom']==chrom]:\n",
    "                overlaps = np.clip(np.minimum(d['end_pos'], ends) - np.maximum(d['start_pos'], starts), 0, None)\n",
    "                if np.sum(overlaps)/d['length'] > 0.25:\n",
    "                    is_region[i, region_index] = True\n",
    "    print()\n",
    "\n",
    "    \n",
    "is_region[:, region_to_index[('repeat', 'STR')]] = is_region[:, region_to_index[('repeat', 'STR')]] | (is_region[:, region_to_index[('repeat', 'TRF')]] & \\\n",
    "            ~is_region[:, region_to_index[('repeat', 'SINE')]] & ~is_region[:, region_to_index[('repeat', 'LINE')]] & ~is_region[:, region_to_index[('repeat', 'DNA')]] & \\\n",
    "            ~is_region[:, region_to_index[('repeat', 'LTR')]] & ~is_region[:, region_to_index[('repeat', 'Low_complexity')]] & ~is_region[:, region_to_index[('repeat', 'Other')]])\n",
    "is_region[:, region_to_index[('repeat', 'No_repeat')]] = ~is_region[:, region_to_index[('repeat', 'SINE')]] & ~is_region[:, region_to_index[('repeat', 'LINE')]] & ~is_region[:, region_to_index[('repeat', 'DNA')]] & \\\n",
    "            ~is_region[:, region_to_index[('repeat', 'LTR')]] & ~is_region[:, region_to_index[('repeat', 'Low_complexity')]] & ~is_region[:, region_to_index[('repeat', 'Other')]] & ~is_region[:, region_to_index[('repeat', 'STR')]]\n",
    "      \n",
    "for i, region in enumerate(regions_of_interest):\n",
    "    print(region, np.sum(is_region[:, i]))\n",
    "    \n"
   ]
  },
  {
   "cell_type": "markdown",
   "metadata": {},
   "source": [
    "# validate with aCGH"
   ]
  },
  {
   "cell_type": "code",
   "execution_count": 14,
   "metadata": {},
   "outputs": [
    {
     "name": "stderr",
     "output_type": "stream",
     "text": [
      "//anaconda3/lib/python3.7/site-packages/ipykernel/__main__.py:4: RuntimeWarning: divide by zero encountered in log2\n",
      "//anaconda3/lib/python3.7/site-packages/ipykernel/__main__.py:5: RuntimeWarning: divide by zero encountered in log2\n"
     ]
    }
   ],
   "source": [
    "num_markers = np.array([d['num_markers_aCGH'] for d in deletions])\n",
    "has_acgh = np.array([(x is not None) and (x>2) for x in num_markers])\n",
    "has_parent_acgh = np.array([d['med_aCGH_parent'] is not None for d in deletions])\n",
    "acgh = np.log2([0 if d['med_aCGH'] is None else d['med_aCGH'] for d in deletions])\n",
    "parent_acgh = np.log2([0 if d['med_aCGH_parent'] is None else d['med_aCGH_parent'] for d in deletions])\n",
    "\n",
    "lengths = np.array([d['length'] for d in deletions])"
   ]
  },
  {
   "cell_type": "code",
   "execution_count": 15,
   "metadata": {},
   "outputs": [
    {
     "name": "stdout",
     "output_type": "stream",
     "text": [
      "nan\n"
     ]
    },
    {
     "name": "stderr",
     "output_type": "stream",
     "text": [
      "//anaconda3/lib/python3.7/site-packages/ipykernel/__main__.py:1: RuntimeWarning: invalid value encountered in long_scalars\n",
      "  if __name__ == '__main__':\n"
     ]
    }
   ],
   "source": [
    "print(np.sum(has_acgh)/np.sum([x is not None for x in num_markers]))"
   ]
  },
  {
   "cell_type": "code",
   "execution_count": 16,
   "metadata": {},
   "outputs": [
    {
     "name": "stdout",
     "output_type": "stream",
     "text": [
      "nan\n",
      "nan\n",
      "nan\n",
      "nan\n"
     ]
    },
    {
     "name": "stderr",
     "output_type": "stream",
     "text": [
      "//anaconda3/lib/python3.7/site-packages/ipykernel/__main__.py:1: RuntimeWarning: invalid value encountered in long_scalars\n",
      "  if __name__ == '__main__':\n",
      "//anaconda3/lib/python3.7/site-packages/ipykernel/__main__.py:2: RuntimeWarning: invalid value encountered in subtract\n",
      "  from ipykernel import kernelapp as app\n",
      "//anaconda3/lib/python3.7/site-packages/ipykernel/__main__.py:2: RuntimeWarning: invalid value encountered in less\n",
      "  from ipykernel import kernelapp as app\n",
      "//anaconda3/lib/python3.7/site-packages/ipykernel/__main__.py:2: RuntimeWarning: invalid value encountered in long_scalars\n",
      "  from ipykernel import kernelapp as app\n",
      "//anaconda3/lib/python3.7/site-packages/ipykernel/__main__.py:3: RuntimeWarning: invalid value encountered in subtract\n",
      "  app.launch_new_instance()\n",
      "//anaconda3/lib/python3.7/site-packages/ipykernel/__main__.py:3: RuntimeWarning: invalid value encountered in less\n",
      "  app.launch_new_instance()\n",
      "//anaconda3/lib/python3.7/site-packages/ipykernel/__main__.py:3: RuntimeWarning: invalid value encountered in long_scalars\n",
      "  app.launch_new_instance()\n",
      "//anaconda3/lib/python3.7/site-packages/ipykernel/__main__.py:5: RuntimeWarning: invalid value encountered in subtract\n",
      "//anaconda3/lib/python3.7/site-packages/ipykernel/__main__.py:5: RuntimeWarning: invalid value encountered in less\n",
      "//anaconda3/lib/python3.7/site-packages/ipykernel/__main__.py:5: RuntimeWarning: invalid value encountered in long_scalars\n",
      "//anaconda3/lib/python3.7/site-packages/ipykernel/__main__.py:7: RuntimeWarning: invalid value encountered in subtract\n",
      "//anaconda3/lib/python3.7/site-packages/ipykernel/__main__.py:7: RuntimeWarning: invalid value encountered in less\n"
     ]
    }
   ],
   "source": [
    "print(np.sum(has_acgh & (acgh<-0.25))/np.sum(has_acgh))\n",
    "print(np.sum(has_acgh & (acgh-parent_acgh<-0.3))/np.sum(has_acgh))\n",
    "print(np.sum(has_acgh & (acgh>-0.25) & (acgh-parent_acgh<-0.25))/np.sum(has_acgh))\n",
    "\n",
    "print(np.sum(has_acgh & ((acgh<-0.25) | (acgh-parent_acgh<-0.25)))/np.sum(has_acgh))\n",
    "\n",
    "is_val_acgh = has_acgh & ((acgh<-0.25) | (acgh-parent_acgh<-0.25))"
   ]
  },
  {
   "cell_type": "code",
   "execution_count": 17,
   "metadata": {},
   "outputs": [],
   "source": [
    "#sebat_acgh = np.log2([d['med_aCGH'] for d in sebat_deletions])\n",
    "                             "
   ]
  },
  {
   "cell_type": "code",
   "execution_count": 18,
   "metadata": {},
   "outputs": [
    {
     "data": {
      "image/png": "[encoded data removed]",
      "text/plain": [
       "<Figure size 432x288 with 1 Axes>"
      ]
     },
     "metadata": {
      "needs_background": "light"
     },
     "output_type": "display_data"
    }
   ],
   "source": [
    "plt.scatter(acgh[has_acgh & has_parent_acgh],\n",
    "            parent_acgh[has_acgh & has_parent_acgh],\n",
    "            alpha=0.1, marker='.')\n",
    "plt.plot(plt.xlim(), plt.xlim(), color='black', linestyle='--')\n",
    "plt.axvline(-0.3, color='black', linestyle='--')\n",
    "plt.xlim([-1, 1])\n",
    "plt.ylim([-1, 1])\n",
    "plt.show()"
   ]
  },
  {
   "cell_type": "code",
   "execution_count": 19,
   "metadata": {},
   "outputs": [
    {
     "name": "stderr",
     "output_type": "stream",
     "text": [
      "//anaconda3/lib/python3.7/site-packages/numpy/lib/histograms.py:893: RuntimeWarning: invalid value encountered in true_divide\n",
      "  return n/db/n.sum(), bin_edges\n"
     ]
    },
    {
     "data": {
      "image/png": "[encoded data removed]",
      "text/plain": [
       "<Figure size 360x288 with 1 Axes>"
      ]
     },
     "metadata": {
      "needs_background": "light"
     },
     "output_type": "display_data"
    }
   ],
   "source": [
    "matplotlib.rcParams.update({'font.size': 12})\n",
    "\n",
    "fig = plt.figure(figsize=(5, 4))\n",
    "#plt.hist(np.clip(sebat_acgh[sebat_has_acgh & ~is_sebat_excluded], -2, 2), \n",
    "#         alpha=0.5, bins=np.arange(-2.1, 2.1, 0.1), color=colors[1], label='Brandler 2018', density=True)\n",
    "plt.hist(np.clip(acgh[has_acgh], -2, 2), \n",
    "         alpha=0.5, bins=np.arange(-2.1, 2.1, 0.1), color=colors[0], label='Family-based method', density=True)\n",
    "\n",
    "plt.axvline(-0.25, color='black', linestyle='--')\n",
    "plt.legend()\n",
    "plt.xlabel('Lowess of local ratio')\n",
    "plt.title('Median aCGH probe value per deletion')\n",
    "plt.xticks(np.arange(-2, 3), ['1/4', '1/2', '1', '2', '4'])\n",
    "plt.yticks([])\n",
    "plt.ylabel('Distribution of deletions')\n",
    "#plt.show()\n",
    "fig.savefig('../plots/med_acgh.png', dpi=fig.dpi)"
   ]
  },
  {
   "cell_type": "code",
   "execution_count": 20,
   "metadata": {},
   "outputs": [
    {
     "data": {
      "image/png": "[encoded data removed]",
      "text/plain": [
       "<Figure size 432x288 with 1 Axes>"
      ]
     },
     "metadata": {
      "needs_background": "light"
     },
     "output_type": "display_data"
    }
   ],
   "source": [
    "plt.hist(acgh[has_acgh & has_parent_acgh]-parent_acgh[has_acgh & has_parent_acgh], bins=np.arange(-3, 3, 0.1))\n",
    "plt.axvline(-0.25, color='black', linestyle='--')\n",
    "plt.show()"
   ]
  },
  {
   "cell_type": "code",
   "execution_count": 21,
   "metadata": {},
   "outputs": [
    {
     "name": "stderr",
     "output_type": "stream",
     "text": [
      "//anaconda3/lib/python3.7/site-packages/ipykernel/__main__.py:26: RuntimeWarning: invalid value encountered in long_scalars\n",
      "//anaconda3/lib/python3.7/site-packages/statsmodels/stats/proportion.py:90: RuntimeWarning: invalid value encountered in double_scalars\n",
      "  q_ = count * 1. / nobs\n"
     ]
    },
    {
     "data": {
      "image/png": "[encoded data removed]",
      "text/plain": [
       "<Figure size 1080x360 with 2 Axes>"
      ]
     },
     "metadata": {
      "needs_background": "light"
     },
     "output_type": "display_data"
    }
   ],
   "source": [
    "fig = plt.figure(figsize=(15, 5))\n",
    "\n",
    "plt.subplot(1, 2, 1)\n",
    "plt.xlabel('Deletion length')\n",
    "plt.hist([np.log10(lengths[has_acgh]), \n",
    "          np.log10(lengths[~has_acgh & np.array([x is not None for x in num_markers])])],\n",
    "          bins=np.arange(3, 6.25, 0.25), color=colors[:2], label='Our method', stacked=True)\n",
    "handles = [Rectangle((0,0),1,1, color=c, linewidth=0, ec=\"k\") for c in colors]\n",
    "labels= [\">2 aCGH probes\",\"<=2 aCGH probes\"]\n",
    "plt.legend(handles, labels)\n",
    "plt.xticks(np.arange(3, 7), ['$10^{%d}$' % x for x in np.arange(3, 7)])\n",
    "plt.yticks([])\n",
    "plt.ylabel('Distribution of deletions')\n",
    "\n",
    "plt.subplot(1, 2, 2)\n",
    "\n",
    "bins = np.arange(3, 6.1, 0.1).tolist()\n",
    "\n",
    "percent_val = np.zeros((len(bins),))\n",
    "percent_val_ub, percent_val_lb = np.zeros((len(bins),)), np.zeros((len(bins),))\n",
    "#plt.xticks(np.arange(2, 7), ['$10^{%d}$' % x for x in np.arange(2, 7)])\n",
    "\n",
    "for i, j in enumerate(bins):\n",
    "    x = np.sum((np.log10(lengths)>=j) & has_acgh & is_val_acgh)\n",
    "    n = np.sum((np.log10(lengths)>=j) & has_acgh)\n",
    "    percent_val[i] = x/n\n",
    "    percent_val_ub[i], percent_val_lb[i] = sm.stats.proportion_confint(x, n, alpha=0.05, method='agresti_coull')\n",
    "\n",
    "plt.plot(bins, percent_val, label='Family-based method', color=colors[1])\n",
    "plt.fill_between(bins, percent_val_ub, percent_val_lb, color=colors[1], alpha=0.25)\n",
    "\n",
    "plt.xlabel('Deletion length')\n",
    "plt.ylabel('Precision verified by aCGH')\n",
    "plt.ylim([-0.05, 1.05])\n",
    "plt.xticks(np.arange(3, 7), ['$10^{%d}$' % x for x in np.arange(3, 7)])\n",
    "plt.xlim([2.75, 6.25])\n",
    "plt.tight_layout()\n",
    "\n",
    "\n",
    "\n",
    "\n",
    "#plt.show()\n",
    "fig.savefig('../plots/acgh_val.png', dpi=fig.dpi)"
   ]
  },
  {
   "cell_type": "code",
   "execution_count": 22,
   "metadata": {},
   "outputs": [],
   "source": [
    "def get_confint(x, n):\n",
    "    val = x/n\n",
    "    lb, ub = sm.stats.proportion_confint(x, n, alpha=0.05, method='agresti_coull')\n",
    "    return val, ub, lb"
   ]
  },
  {
   "cell_type": "code",
   "execution_count": 23,
   "metadata": {},
   "outputs": [
    {
     "name": "stderr",
     "output_type": "stream",
     "text": [
      "//anaconda3/lib/python3.7/site-packages/ipykernel/__main__.py:1: RuntimeWarning: invalid value encountered in long_scalars\n",
      "  if __name__ == '__main__':\n"
     ]
    }
   ],
   "source": [
    "overall_precision = np.sum(is_val_acgh)/np.sum(has_acgh)"
   ]
  },
  {
   "cell_type": "code",
   "execution_count": 24,
   "metadata": {},
   "outputs": [
    {
     "name": "stderr",
     "output_type": "stream",
     "text": [
      "//anaconda3/lib/python3.7/site-packages/ipykernel/__main__.py:2: RuntimeWarning: invalid value encountered in true_divide\n",
      "  from ipykernel import kernelapp as app\n",
      "//anaconda3/lib/python3.7/site-packages/statsmodels/stats/proportion.py:90: RuntimeWarning: invalid value encountered in true_divide\n",
      "  q_ = count * 1. / nobs\n"
     ]
    },
    {
     "name": "stdout",
     "output_type": "stream",
     "text": [
      "[0. 0. 0. 0. 0.] [0. 0. 0. 0. 0.]\n",
      "[0. 0. 0. 0. 0.] [0. 0. 0. 0. 0.]\n"
     ]
    },
    {
     "data": {
      "image/png": "[encoded data removed]",
      "text/plain": [
       "<Figure size 1080x360 with 2 Axes>"
      ]
     },
     "metadata": {
      "needs_background": "light"
     },
     "output_type": "display_data"
    }
   ],
   "source": [
    "fig = plt.figure(figsize=(15, 5))\n",
    "\n",
    "ax = plt.subplot(1, 2, 1)\n",
    "\n",
    "keys = ['SINE', 'LINE', 'DNA', 'LTR', 'STR']\n",
    "precision_x, precision_n = np.zeros((len(keys),)), np.zeros((len(keys),))\n",
    "\n",
    "for i, key in enumerate(keys):\n",
    "    precision_x[i] = np.sum(has_acgh & is_region[:, region_to_index[('repeat', key)]] & is_val_acgh)\n",
    "    precision_n[i] = np.sum(has_acgh & is_region[:, region_to_index[('repeat', key)]])\n",
    "\n",
    "print(precision_x, precision_n)    \n",
    "precision, precision_ub, precision_lb = get_confint(precision_x, precision_n)\n",
    "\n",
    "\n",
    "plt.bar(np.arange(len(keys)), precision, yerr=(precision-precision_lb, precision_ub-precision), \n",
    "        width=0.3, label='precision', color=colors[1])\n",
    "plt.axhline(overall_precision, linestyle='--', color=colors[1])\n",
    "\n",
    "plt.xticks(np.arange(len(keys)), keys)\n",
    "plt.title('Precision for deletions spanning repeat regions')\n",
    "#plt.xlabel('Repeat Type')\n",
    "#plt.ylim(-0.1, 1.1)\n",
    "\n",
    "plt.subplot(1, 2, 2, sharey=ax)\n",
    "\n",
    "keys = ['centromere', 'unmapable', 'segDup', 'abparts', 'TCR']\n",
    "precision_x, precision_n = np.zeros((len(keys),)), np.zeros((len(keys),))\n",
    "\n",
    "for i, key in enumerate(keys):\n",
    "    precision_x[i] = np.sum(has_acgh & is_region[:, region_to_index[('filtered', key)]] & is_val_acgh)\n",
    "    precision_n[i] = np.sum(has_acgh & is_region[:, region_to_index[('filtered', key)]])\n",
    "\n",
    "\n",
    "print(precision_x, precision_n)\n",
    "precision, precision_ub, precision_lb = get_confint(precision_x, precision_n)\n",
    "\n",
    "plt.bar(np.arange(len(keys)), precision, yerr=(precision-precision_lb, precision_ub-precision), \n",
    "        width=0.3, label='precision', color=colors[1])\n",
    "\n",
    "plt.axhline(overall_precision, linestyle='--', color=colors[1])\n",
    "\n",
    "#plt.xticks(np.arange(len(keys)), keys)\n",
    "plt.xticks(np.arange(len(keys)), ['pericentromeric', 'unmapable', 'segmental\\nduplication', 'immuno-\\nglobulins', 'T cell\\nreceptors'])\n",
    "plt.title('Precision for deletions spanning difficult regions')\n",
    "#plt.legend()\n",
    "#plt.ylim(None, 1.1)\n",
    "\n",
    "#plt.show()\n",
    "plt.tight_layout()\n",
    "fig.savefig('../plots/hard-to-sequence.png', dpi=fig.dpi)\n",
    "\n"
   ]
  },
  {
   "cell_type": "code",
   "execution_count": 25,
   "metadata": {},
   "outputs": [
    {
     "name": "stdout",
     "output_type": "stream",
     "text": [
      "(66226,) 66226\n"
     ]
    }
   ],
   "source": [
    "print(is_region[:, region_to_index[('filtered', 'abparts')]].shape, len(deletions))"
   ]
  },
  {
   "cell_type": "code",
   "execution_count": 26,
   "metadata": {},
   "outputs": [
    {
     "name": "stdout",
     "output_type": "stream",
     "text": [
      "0.8481947835965655\n",
      "0.9561194359669225\n",
      "0.8727236716578897\n",
      "0.486691847484157\n",
      "0.6605763643055425\n",
      "0.8165056950251399\n"
     ]
    }
   ],
   "source": [
    "print(stats.binom_test([len([x for x in compress(deletions, is_region[:, region_to_index[('filtered', 'abparts')]]) if child_id_to_affected[x['child']]=='2']),\n",
    "      len([x for x in compress(deletions, is_region[:, region_to_index[('filtered', 'abparts')]]) if child_id_to_affected[x['child']]=='1'])]))\n",
    "\n",
    "print(stats.binom_test([len([x for x in compress(deletions, is_region[:, region_to_index[('filtered', 'centromere')]]) if child_id_to_affected[x['child']]=='2']),\n",
    "      len([x for x in compress(deletions, is_region[:, region_to_index[('filtered', 'centromere')]]) if child_id_to_affected[x['child']]=='1'])]))\n",
    "\n",
    "print(stats.binom_test([len([x for x in compress(deletions, is_region[:, region_to_index[('filtered', 'segDup')]]) if child_id_to_affected[x['child']]=='2']),\n",
    "      len([x for x in compress(deletions, is_region[:, region_to_index[('filtered', 'segDup')]]) if child_id_to_affected[x['child']]=='1'])]))\n",
    "\n",
    "print(stats.binom_test([len([x for x in compress(deletions, is_region[:, region_to_index[('filtered', 'TCR')]]) if child_id_to_affected[x['child']]=='2']),\n",
    "      len([x for x in compress(deletions, is_region[:, region_to_index[('filtered', 'TCR')]]) if child_id_to_affected[x['child']]=='1'])]))\n",
    "     \n",
    "print(stats.binom_test([len([x for x in compress(deletions, is_region[:, region_to_index[('filtered', 'unmapable')]]) if child_id_to_affected[x['child']]=='2']),\n",
    "      len([x for x in compress(deletions, is_region[:, region_to_index[('filtered', 'unmapable')]]) if child_id_to_affected[x['child']]=='1'])]))\n",
    "          \n",
    "print(stats.binom_test([len([x for x in compress(deletions, is_region[:, region_to_index[('repeat', 'STR')]]) if child_id_to_affected[x['child']]=='2']),\n",
    "      len([x for x in compress(deletions, is_region[:, region_to_index[('repeat', 'STR')]]) if child_id_to_affected[x['child']]=='1'])]))\n",
    "     "
   ]
  },
  {
   "cell_type": "markdown",
   "metadata": {},
   "source": [
    "# Deletion profile"
   ]
  },
  {
   "cell_type": "code",
   "execution_count": 28,
   "metadata": {},
   "outputs": [],
   "source": [
    "\n",
    "with open('../phased_ssc_del_qs/families.json') as f:\n",
    "    families = json.load(f)\n",
    "    \n",
    "families.remove('12412') # missing data \n",
    "    \n",
    "family_to_index = dict([(x, i) for i, x in enumerate(families)])"
   ]
  },
  {
   "cell_type": "code",
   "execution_count": 34,
   "metadata": {},
   "outputs": [
    {
     "name": "stdout",
     "output_type": "stream",
     "text": [
      "159\n"
     ]
    }
   ],
   "source": [
    "print(len(set([x['family'] for x in deletions if 'num_markers_aCGH' in x and x['num_markers_aCGH'] is not None])))"
   ]
  },
  {
   "cell_type": "code",
   "execution_count": 29,
   "metadata": {},
   "outputs": [
    {
     "name": "stdout",
     "output_type": "stream",
     "text": [
      "518\n"
     ]
    }
   ],
   "source": [
    "print(len(families))"
   ]
  },
  {
   "cell_type": "code",
   "execution_count": 30,
   "metadata": {},
   "outputs": [
    {
     "name": "stdout",
     "output_type": "stream",
     "text": [
      "0.2777793417978097\n"
     ]
    }
   ],
   "source": [
    "keys = ['centromere', 'unmapable', 'segDup', 'abparts', 'TCR']\n",
    "is_hts = np.zeros((len(deletions),), dtype=bool)\n",
    "for i, key in enumerate(keys):\n",
    "    is_hts = is_hts | is_region[:, region_to_index[('filtered', key)]]\n",
    "\n",
    "print(np.sum(is_hts)/len(is_hts))"
   ]
  },
  {
   "cell_type": "code",
   "execution_count": 31,
   "metadata": {},
   "outputs": [],
   "source": [
    "# family, mat/pat, unaff/aff\n",
    "dels_per_child = np.zeros((len(families), 2, 2), dtype=int)\n",
    "bp_per_child = np.zeros((len(families), 2, 2), dtype=int)\n",
    "\n",
    "bp_per_child_not_hts = np.zeros((len(families), 2, 2), dtype=int)\n",
    "\n",
    "# family, unaff/aff\n",
    "family_to_sex = np.zeros((len(families), 2), dtype=int)\n",
    "           \n",
    "for i, d in enumerate(deletions):\n",
    "    if d['family'] in family_to_index:\n",
    "        dels_per_child[family_to_index[d['family']], int(d['is_pat']), int(child_id_to_affected[d['child']]=='2')] += 1\n",
    "        bp_per_child[family_to_index[d['family']], int(d['is_pat']), int(child_id_to_affected[d['child']]=='2')] += d['length']\n",
    "        \n",
    "        if not is_hts[i]:\n",
    "            bp_per_child_not_hts[family_to_index[d['family']], int(d['is_pat']), int(child_id_to_affected[d['child']]=='2')] += d['length']\n",
    "\n",
    "        family_to_sex[family_to_index[d['family']], int(child_id_to_affected[d['child']]=='2')] = int(child_id_to_sex[d['child']]=='1')\n",
    "\n"
   ]
  },
  {
   "cell_type": "code",
   "execution_count": 32,
   "metadata": {},
   "outputs": [
    {
     "data": {
      "text/plain": [
       "<matplotlib.collections.PathCollection at 0x1c24cdbcc0>"
      ]
     },
     "execution_count": 32,
     "metadata": {},
     "output_type": "execute_result"
    },
    {
     "data": {
      "image/png": "[encoded data removed]",
      "text/plain": [
       "<Figure size 432x288 with 1 Axes>"
      ]
     },
     "metadata": {
      "needs_background": "light"
     },
     "output_type": "display_data"
    }
   ],
   "source": [
    "plt.scatter(np.log10(bp_per_child), np.log10(bp_per_child_not_hts))"
   ]
  },
  {
   "cell_type": "code",
   "execution_count": 646,
   "metadata": {},
   "outputs": [],
   "source": [
    "mat_lengths = np.array([d['length'] for d in deletions if d['is_mat']])\n",
    "pat_lengths = np.array([d['length'] for d in deletions if d['is_pat']])\n"
   ]
  },
  {
   "cell_type": "code",
   "execution_count": 915,
   "metadata": {},
   "outputs": [
    {
     "name": "stdout",
     "output_type": "stream",
     "text": [
      "mat median 396312.5\n",
      "pat median 373428.5\n"
     ]
    },
    {
     "data": {
      "image/png": "[encoded data removed]",
      "text/plain": [
       "<Figure size 1080x360 with 2 Axes>"
      ]
     },
     "metadata": {
      "needs_background": "light"
     },
     "output_type": "display_data"
    }
   ],
   "source": [
    "fig = plt.figure(figsize=(15, 5))\n",
    "\n",
    "bins = np.arange(3, 5.5, 0.1)\n",
    "\n",
    "\n",
    "ax = plt.subplot(1, 2, 1)\n",
    "parts = plt.violinplot(\n",
    "                    [np.log10(mat_lengths), np.log10([d['length'] for d in hg002_deletions if d['is_mat']]),\n",
    "                     np.log10(pat_lengths), np.log10([d['length'] for d in hg002_deletions if d['is_pat']])], \n",
    "                [0, 0.7, 2, 2.7],\n",
    "                showmedians=True, showextrema=False, widths=[0.8, 0.2, 0.8, 0.2])\n",
    "#hg002_parts = plt.violinplot([np.log10([d['length'] for d in hg002_deletions if d['is_mat']]),\n",
    "#                np.log10([d['length'] for d in hg002_deletions if d['is_pat']])], \n",
    "#                showmedians=True, showextrema=False, widths=0.1)\n",
    "plt.ylabel('Deletion length')\n",
    "\n",
    "for i in range(4):\n",
    "    if i%2==0:\n",
    "        parts['bodies'][i].set_facecolor(colors[1])\n",
    "    else:\n",
    "        parts['bodies'][i].set_facecolor(colors[0])\n",
    "    parts['bodies'][i].set_edgecolor('black')\n",
    "    parts['bodies'][i].set_alpha(1)\n",
    "\n",
    "parts['cmedians'].set_edgecolor('black')\n",
    "parts['cmedians'].set_linewidth(2)\n",
    "\n",
    "#hg002_parts['bodies'][0].set_facecolor(colors[0])\n",
    "#hg002_parts['bodies'][0].set_edgecolor('black')\n",
    "#hg002_parts['bodies'][0].set_alpha(1)\n",
    "#hg002_parts['bodies'][1].set_facecolor(colors[0])\n",
    "#hg002_parts['bodies'][1].set_edgecolor('black')\n",
    "#hg002_parts['bodies'][1].set_alpha(1)\n",
    "#hg002_parts['cmedians'].set_edgecolor('black')\n",
    "#hg002_parts['cmedians'].set_linewidth(2)\n",
    "\n",
    "plt.yticks(np.log10([10**3, 10**4, 10**5, 10**6]), ['$10^3$', '$10^4$', '$10^5$', '$10^6$'])\n",
    "plt.xticks([0.2, 2.2], ['maternally inherited', 'paternally inherited'])\n",
    "plt.tick_params(bottom=False)\n",
    "bins = np.arange(5, 6.5, 0.1)\n",
    "\n",
    "\n",
    "plt.subplot(1, 2, 2)\n",
    "print('mat median', np.median(np.hstack((bp_per_child[:, 0, 0], bp_per_child[:, 0, 1]))))\n",
    "print('pat median', np.median(np.hstack((bp_per_child[:, 1, 0], bp_per_child[:, 1, 1]))))\n",
    "parts = plt.violinplot([np.log10(np.hstack((bp_per_child[:, 0, 0], bp_per_child[:, 0, 1]))), \n",
    "                        np.log10(np.hstack((bp_per_child[:, 1, 0], bp_per_child[:, 1, 1])))],\n",
    "              showmedians=True, showextrema=False, widths=0.8)\n",
    "#parts = plt.violinplot([np.log10(bp_per_child[:, 0, 0]), np.log10(bp_per_child[:, 0, 1]), \n",
    "#                        np.log10(bp_per_child[:, 1, 0]), np.log10(bp_per_child[:, 1, 1])],\n",
    "#              showmedians=True, showextrema=False, widths=0.8)\n",
    "plt.ylabel('Base-pairs deleted per child')\n",
    "plt.yticks(np.log10([10**5, 10**6, 10**7]), ['$10^5$', '$10^6$', '$10^7$'])\n",
    "plt.xticks([1, 2], ['maternally inherited', 'paternally inherited'])\n",
    "parts['bodies'][0].set_facecolor(colors[1])\n",
    "parts['bodies'][0].set_edgecolor('black')\n",
    "parts['bodies'][0].set_alpha(1)\n",
    "parts['bodies'][1].set_facecolor(colors[1])\n",
    "parts['bodies'][1].set_edgecolor('black')\n",
    "parts['bodies'][1].set_alpha(1)\n",
    "parts['cmedians'].set_edgecolor('black')\n",
    "parts['cmedians'].set_linewidth(2)\n",
    "\n",
    "plt.fill_between([2, 2], [5, 5], [5, 5], color=colors[1], label='SSC')\n",
    "plt.fill_between([2, 2], [5, 5], [5, 5], color=colors[0], label='HG002')\n",
    "plt.scatter([1, 2], [np.log10(np.sum([d['length'] for d in hg002_deletions if d['is_mat']])), \n",
    "                     np.log10(np.sum([d['length'] for d in hg002_deletions if d['is_pat']]))], \n",
    "                     marker='*', facecolor=colors[0], s=300, linewidth=1.5, edgecolor='black')\n",
    "\n",
    "plt.tick_params(bottom=False)\n",
    "\n",
    "fig.legend(ncol=2, loc='lower center')\n",
    "fig.tight_layout()\n",
    "fig.subplots_adjust(bottom=0.25) \n",
    "\n",
    "fig.savefig('../plots/deletion_summary.png', dpi=fig.dpi)\n",
    "#plt.show()\n",
    "\n"
   ]
  },
  {
   "cell_type": "code",
   "execution_count": 666,
   "metadata": {},
   "outputs": [
    {
     "name": "stdout",
     "output_type": "stream",
     "text": [
      "71042\n",
      "4812.0\n"
     ]
    }
   ],
   "source": [
    "print(len(deletions))\n",
    "print(np.median(np.hstack((mat_lengths, pat_lengths))))"
   ]
  },
  {
   "cell_type": "code",
   "execution_count": 661,
   "metadata": {},
   "outputs": [
    {
     "name": "stdout",
     "output_type": "stream",
     "text": [
      "Ttest_indResult(statistic=2.134731585615119, pvalue=0.03278635346510605)\n",
      "aut get more than nt? Ttest_relResult(statistic=0.5841888700877343, pvalue=0.5593480565869586)\n",
      "aut get more mat than nt? Ttest_relResult(statistic=-0.4654146230849245, pvalue=0.6418305472972823)\n",
      "aut get more pat than nt? Ttest_relResult(statistic=-0.456162602956609, pvalue=0.6484646114969261)\n",
      "mat more than pat? Ttest_relResult(statistic=2.253812702384629, pvalue=0.024416512384870203)\n",
      "mat more than pat for aut? Ttest_relResult(statistic=1.5808148531783328, pvalue=0.11453194057077047)\n",
      "mat more than pat for nt? Ttest_relResult(statistic=1.6052503222794283, pvalue=0.10904934650679782)\n"
     ]
    }
   ],
   "source": [
    "keys = sorted(bp_per_child_pat.keys())\n",
    "print(stats.ttest_ind(np.log10(mat_lengths),\n",
    "                      np.log10(pat_lengths)))\n",
    "\n",
    "print('aut get more than nt?', stats.ttest_rel(np.log10(np.sum(bp_per_child[:, :, 0], axis=1)),\n",
    "                      np.log10(np.sum(bp_per_child[:, :, 1], axis=1))))\n",
    "print('aut get more mat than nt?', stats.ttest_rel(np.log10(bp_per_child[:, 0, 1]),\n",
    "                      np.log10(bp_per_child[:, 0, 0])))\n",
    "print('aut get more pat than nt?', stats.ttest_rel(np.log10(bp_per_child[:, 1, 1]),\n",
    "                      np.log10(bp_per_child[:, 1, 0])))\n",
    "\n",
    "print('mat more than pat?', stats.ttest_rel(np.log10(np.hstack((bp_per_child[:, 0, 0], bp_per_child[:, 0, 1]))),\n",
    "                      np.log10(np.hstack((bp_per_child[:, 1, 0], bp_per_child[:, 1, 1])))))\n",
    "print('mat more than pat for aut?', stats.ttest_rel(np.log10(bp_per_child[:, 0, 1]),\n",
    "                      np.log10(bp_per_child[:, 1, 1])))\n",
    "print('mat more than pat for nt?', stats.ttest_rel(np.log10(bp_per_child[:, 0, 0]),\n",
    "                      np.log10(bp_per_child[:, 1, 0])))\n",
    "\n",
    "\n"
   ]
  },
  {
   "cell_type": "code",
   "execution_count": 628,
   "metadata": {},
   "outputs": [
    {
     "name": "stdout",
     "output_type": "stream",
     "text": [
      "(-0.02690484640137995, 0.3869859881641959)\n"
     ]
    },
    {
     "data": {
      "image/png": "[encoded data removed]",
      "text/plain": [
       "<Figure size 432x288 with 1 Axes>"
      ]
     },
     "metadata": {
      "needs_background": "light"
     },
     "output_type": "display_data"
    }
   ],
   "source": [
    "print(stats.pearsonr(np.log10(np.hstack((bp_per_child[:, 0, 0], bp_per_child[:, 0, 1]))),\n",
    "            np.log10(np.hstack((bp_per_child[:, 1, 0], bp_per_child[:, 1, 1])))))\n",
    "plt.scatter(np.log10(np.hstack((bp_per_child[:, 0, 0], bp_per_child[:, 0, 1]))),\n",
    "            np.log10(np.hstack((bp_per_child[:, 1, 0], bp_per_child[:, 1, 1]))))\n",
    "plt.show()"
   ]
  },
  {
   "cell_type": "code",
   "execution_count": null,
   "metadata": {},
   "outputs": [],
   "source": []
  }
 ],
 "metadata": {
  "kernelspec": {
   "display_name": "Python 3",
   "language": "python",
   "name": "python3"
  },
  "language_info": {
   "codemirror_mode": {
    "name": "ipython",
    "version": 3
   },
   "file_extension": ".py",
   "mimetype": "text/x-python",
   "name": "python",
   "nbconvert_exporter": "python",
   "pygments_lexer": "ipython3",
   "version": "3.7.3"
  }
 },
 "nbformat": 4,
 "nbformat_minor": 2
}
