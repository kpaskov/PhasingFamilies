{
 "cells": [
  {
   "cell_type": "code",
   "execution_count": 1,
   "metadata": {},
   "outputs": [],
   "source": [
    "import json\n",
    "from collections import defaultdict, namedtuple\n",
    "import sys\n",
    "import json\n",
    "import numpy as np\n",
    "import math"
   ]
  },
  {
   "cell_type": "code",
   "execution_count": 12,
   "metadata": {},
   "outputs": [
    {
     "name": "stdout",
     "output_type": "stream",
     "text": [
      "37\n"
     ]
    }
   ],
   "source": [
    "with open('../deletions_platinum/chr.2.collections.json', 'r') as f:\n",
    "    collections = json.load(f)\n",
    "    \n",
    "cols_of_interest = [x for x in collections if len([y for y in x['matches'] if not y['is_denovo'] and y['is_mat']])]\n",
    "print(len(cols_of_interest))"
   ]
  },
  {
   "cell_type": "code",
   "execution_count": 16,
   "metadata": {},
   "outputs": [
    {
     "name": "stdout",
     "output_type": "stream",
     "text": [
      "1883\tchr2:3733944-3735827\tsingle\t6\n",
      "8894\tchr2:14701199-14710093\tsingle\t6\n",
      "589\tchr2:22688555-22689144\tsingle\t3\n",
      "41882\tchr2:34697170-34739052\tdouble\t11\n",
      "5198\tchr2:53165520-53170718\tsingle\t4\n",
      "7049\tchr2:53174956-53182005\tsingle\t4\n",
      "7408\tchr2:59623488-59630896\tdouble\t11\n",
      "5912\tchr2:59624984-59630896\tdouble\t11\n",
      "196\tchr2:102232976-102233172\tsingle\t8\n",
      "5560\tchr2:123476908-123482468\tdouble\t11\n",
      "1233\tchr2:132294068-132295301\tsingle\t6\n",
      "6185\tchr2:154894804-154900989\tsingle\t3\n",
      "39\tchr2:154896439-154896478\tsingle\t4\n",
      "3912\tchr2:172906227-172910139\tsingle\t4\n",
      "1\tchr2:172906745-172906746\tsingle\t4\n",
      "3804\tchr2:172906745-172910549\tsingle\t7\n",
      "72\tchr2:172907142-172907214\tsingle\t7\n",
      "2972\tchr2:172907167-172910139\tsingle\t7\n",
      "20\tchr2:172907521-172907541\tsingle\t3\n",
      "1\tchr2:172907534-172907535\tsingle\t4\n",
      "2219\tchr2:172908331-172910550\tsingle\t7\n",
      "1808\tchr2:172908331-172910139\tsingle\t7\n",
      "8364\tchr2:208351143-208359507\tdouble\t11\n",
      "2070\tchr2:215727549-215729619\tsingle\t3\n",
      "737\tchr2:225293095-225293832\tsingle\t8\n",
      "1248\tchr2:239500228-239501476\tsingle\t6\n",
      "1303\tchr2:241629397-241630700\tsingle\t1\n",
      "449\tchr2:241629397-241629846\tsingle\t3\n"
     ]
    }
   ],
   "source": [
    "deletions_of_interest = []\n",
    "for c in cols_of_interest:\n",
    "    trans, notrans = set(), set()\n",
    "    num_matches = 0\n",
    "    for m in c['matches']:        \n",
    "        if not m['is_denovo'] and m['is_mat']:\n",
    "            trans.update(m['trans'])\n",
    "            notrans.update(m['notrans'])\n",
    "            num_matches += 1\n",
    "            \n",
    "    if len(trans & notrans) == 11:\n",
    "        print(c['deletion']['end_pos']-c['deletion']['start_pos'], 'chr%s:%d-%d' % (c['deletion']['chrom'], c['deletion']['start_pos'], c['deletion']['end_pos']), 'double', len(trans), sep='\\t')\n",
    "        deletions_of_interest.append(c['deletion'])\n",
    "    elif len(trans & notrans) == 0:\n",
    "        print(c['deletion']['end_pos']-c['deletion']['start_pos'], 'chr%s:%d-%d' % (c['deletion']['chrom'], c['deletion']['start_pos'], c['deletion']['end_pos']), 'single', len(trans),  sep='\\t')\n",
    "        deletions_of_interest.append(c['deletion'])\n",
    "    #else:\n",
    "    #    print(len(trans), len(notrans), len(trans & notrans))"
   ]
  },
  {
   "cell_type": "code",
   "execution_count": 17,
   "metadata": {},
   "outputs": [],
   "source": [
    "with open('../deletions_to_validate/platinum.json', 'w+') as f:\n",
    "    json.dump(deletions_of_interest, f, indent=4)"
   ]
  },
  {
   "cell_type": "code",
   "execution_count": 29,
   "metadata": {},
   "outputs": [
    {
     "name": "stdout",
     "output_type": "stream",
     "text": [
      "None\n"
     ]
    }
   ],
   "source": [
    "import argparse\n",
    "\n",
    "parser = argparse.ArgumentParser(description='Pull family genotype counts.')\n",
    "parser.add_argument('data_dir', type=str, help='Directory of genotype data in .npy format.')\n",
    "parser.add_argument('ped_file', type=str, help='Ped file.')\n",
    "parser.add_argument('chrom', type=str, help='Chromosome.')\n",
    "parser.add_argument('out_dir', type=str, help='Directory to write counts.')\n",
    "parser.add_argument('--include', type=str, default=None)\n",
    "parser.add_argument('--exclude', type=str, default=None)\n",
    "args = parser.parse_args(['split_gen_ihart', '.ped', '22', 'split_gen_ihart', '--include', 'regions_file'])\n",
    "\n",
    "print(args.exclude)\n",
    "\n"
   ]
  },
  {
   "cell_type": "code",
   "execution_count": null,
   "metadata": {},
   "outputs": [],
   "source": []
  }
 ],
 "metadata": {
  "kernelspec": {
   "display_name": "Python 3",
   "language": "python",
   "name": "python3"
  },
  "language_info": {
   "codemirror_mode": {
    "name": "ipython",
    "version": 3
   },
   "file_extension": ".py",
   "mimetype": "text/x-python",
   "name": "python",
   "nbconvert_exporter": "python",
   "pygments_lexer": "ipython3",
   "version": "3.7.3"
  }
 },
 "nbformat": 4,
 "nbformat_minor": 2
}
