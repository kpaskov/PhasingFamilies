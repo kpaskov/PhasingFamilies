{
 "cells": [
  {
   "cell_type": "code",
   "execution_count": 20,
   "metadata": {},
   "outputs": [],
   "source": [
    "import json\n",
    "from collections import defaultdict, Counter\n",
    "import numpy as np\n",
    "from os import listdir\n",
    "import matplotlib.pyplot as plt\n",
    "import scipy.stats as stats\n",
    "import gzip\n",
    "import scipy.sparse as sparse\n",
    "import statsmodels.api as sm\n",
    "import random\n",
    "from sklearn.metrics import precision_recall_curve\n",
    "from matplotlib.patches import Rectangle\n"
   ]
  },
  {
   "cell_type": "code",
   "execution_count": 21,
   "metadata": {},
   "outputs": [],
   "source": [
    "#ped_file = '../../DATA/spark/spark.ped'\n",
    "#phase_dir = '../phased_spark_del'\n",
    "\n",
    "ped_file = '../../DATA/ihart.v34/ihart.ped'\n",
    "wgs_phase_dir = '../phased_ihart.v34_del'\n",
    "chip_phase_dir = '../phased_ihart.chip_del'"
   ]
  },
  {
   "cell_type": "code",
   "execution_count": 22,
   "metadata": {},
   "outputs": [
    {
     "name": "stdout",
     "output_type": "stream",
     "text": [
      "ped loaded\n",
      "children 4611\n"
     ]
    }
   ],
   "source": [
    "# pull affected status\n",
    "# (0=unknown; 1=unaffected; 2=affected)\n",
    "child_id_to_affected = dict()\n",
    "child_id_to_sex = dict()\n",
    "fam_to_inds = dict()\n",
    "in_ped = set()\n",
    "with open(ped_file, 'r') as f:\n",
    "    for line in f:\n",
    "        pieces = line.strip().split('\\t')\n",
    "        if len(pieces) >= 6:\n",
    "            fam_id, child_id, f_id, m_id, sex, disease_status = pieces[0:6]\n",
    "            #if child_id in ssc_old_id_to_new_id and m_id in ssc_old_id_to_new_id and f_id in ssc_old_id_to_new_id:\n",
    "                #child_id = ssc_old_id_to_new_id[child_id]\n",
    "                #f_id = ssc_old_id_to_new_id[f_id]\n",
    "                #m_id = ssc_old_id_to_new_id[m_id]\n",
    "            child_id_to_affected[child_id] = disease_status\n",
    "            child_id_to_sex[child_id] = sex\n",
    "\n",
    "            if (fam_id, m_id, f_id) not in fam_to_inds:\n",
    "                fam_to_inds[(fam_id, m_id, f_id)] = [m_id, f_id]\n",
    "            fam_to_inds[(fam_id, m_id, f_id)].append(child_id)\n",
    "            in_ped.add(m_id)\n",
    "            in_ped.add(f_id)\n",
    "            in_ped.add(child_id)\n",
    "                \n",
    "print('ped loaded')\n",
    "print('children', len(child_id_to_affected))"
   ]
  },
  {
   "cell_type": "code",
   "execution_count": 26,
   "metadata": {},
   "outputs": [
    {
     "name": "stdout",
     "output_type": "stream",
     "text": [
      "remaining deletions wgs 315581 chip 583\n"
     ]
    }
   ],
   "source": [
    "wgs_deletions = []\n",
    "wgs_notrans_deletions = []\n",
    "with open('%s/deletions.json' % wgs_phase_dir) as f:\n",
    "    for d in json.load(f):\n",
    "        if d['is_inherited'] and d['family_size']>=4:\n",
    "            for child in d['trans']:\n",
    "                wgs_deletions.append({\n",
    "                                'family': d['family'],\n",
    "                                'child': child,\n",
    "                                'chrom': d['chrom'],\n",
    "                                'start_pos': d['start_pos'],\n",
    "                                'end_pos': d['end_pos'],\n",
    "                                'length': d['length'],\n",
    "                                'opt_start_pos': d['opt_start_pos'],\n",
    "                                'opt_end_pos': d['opt_end_pos'],\n",
    "                                'is_mat': d['is_mat'],\n",
    "                                'is_pat': d['is_pat'],\n",
    "                                'mother': d['mother'],\n",
    "                                'father': d['father'],\n",
    "                                'is_inherited': d['is_inherited'],\n",
    "                                'is_denovo': d['is_denovo'],\n",
    "                                'num_markers_ihart.chip': d['num_markers_ihart.chip']\n",
    "                        })\n",
    "            for child in d['notrans']:\n",
    "                wgs_notrans_deletions.append({\n",
    "                                'family': d['family'],\n",
    "                                'child': child,\n",
    "                                'chrom': d['chrom'],\n",
    "                                'start_pos': d['start_pos'],\n",
    "                                'end_pos': d['end_pos'],\n",
    "                                'length': d['length'],\n",
    "                                'opt_start_pos': d['opt_start_pos'],\n",
    "                                'opt_end_pos': d['opt_end_pos'],\n",
    "                                'is_mat': d['is_mat'],\n",
    "                                'is_pat': d['is_pat'],\n",
    "                                'mother': d['mother'],\n",
    "                                'father': d['father'],\n",
    "                                'is_inherited': d['is_inherited'],\n",
    "                                'is_denovo': d['is_denovo'],\n",
    "                                'num_markers_ihart.chip': d['num_markers_ihart.chip']\n",
    "                        })\n",
    "                \n",
    "chip_deletions = []\n",
    "chip_notrans_deletions = []\n",
    "with open('%s/deletions.json' % chip_phase_dir) as f:\n",
    "    for d in json.load(f):\n",
    "        if d['is_inherited'] and d['family_size']>=4:\n",
    "            for child in d['trans']:\n",
    "                chip_deletions.append({\n",
    "                                'family': d['family'],\n",
    "                                'child': child,\n",
    "                                'chrom': d['chrom'],\n",
    "                                'start_pos': d['start_pos'],\n",
    "                                'end_pos': d['end_pos'],\n",
    "                                'length': d['length'],\n",
    "                                'opt_start_pos': d['opt_start_pos'],\n",
    "                                'opt_end_pos': d['opt_end_pos'],\n",
    "                                'is_mat': d['is_mat'],\n",
    "                                'is_pat': d['is_pat'],\n",
    "                                'mother': d['mother'],\n",
    "                                'father': d['father'],\n",
    "                                'is_inherited': d['is_inherited'],\n",
    "                                'is_denovo': d['is_denovo'],\n",
    "                                'num_markers': d['num_markers']\n",
    "                        })\n",
    "            for child in d['notrans']:\n",
    "                chip_notrans_deletions.append({\n",
    "                                'family': d['family'],\n",
    "                                'child': child,\n",
    "                                'chrom': d['chrom'],\n",
    "                                'start_pos': d['start_pos'],\n",
    "                                'end_pos': d['end_pos'],\n",
    "                                'length': d['length'],\n",
    "                                'opt_start_pos': d['opt_start_pos'],\n",
    "                                'opt_end_pos': d['opt_end_pos'],\n",
    "                                'is_mat': d['is_mat'],\n",
    "                                'is_pat': d['is_pat'],\n",
    "                                'mother': d['mother'],\n",
    "                                'father': d['father'],\n",
    "                                'is_inherited': d['is_inherited'],\n",
    "                                'is_denovo': d['is_denovo'],\n",
    "                                'num_markers': d['num_markers']\n",
    "                        })\n",
    "                \n",
    "print('remaining deletions', 'wgs', len(wgs_deletions), 'chip', len(chip_deletions))\n"
   ]
  },
  {
   "cell_type": "code",
   "execution_count": 27,
   "metadata": {},
   "outputs": [],
   "source": [
    "with open('../../FamilySeqError/params/ihart.chip_params.json', 'r') as f:\n",
    "    params = json.load(f)\n",
    "    \n",
    "child_id_to_num_probes = dict([(k.split('.')[1], v['total_count']-v['observed_./.']) for k, v in params.items()])\n"
   ]
  },
  {
   "cell_type": "code",
   "execution_count": 28,
   "metadata": {},
   "outputs": [
    {
     "name": "stdout",
     "output_type": "stream",
     "text": [
      "wgs individuals 3347 families 733\n",
      "chip individuals 1087 families 241\n"
     ]
    }
   ],
   "source": [
    "with open('%s/individuals.json' % wgs_phase_dir) as f:\n",
    "    wgs_individuals = set(json.load(f))\n",
    "    \n",
    "with open('%s/families.json' % wgs_phase_dir) as f:\n",
    "    wgs_families = set(json.load(f))\n",
    "\n",
    "print('wgs', 'individuals', len(wgs_individuals), 'families', len(wgs_families))\n",
    "\n",
    "with open('%s/individuals.json' % chip_phase_dir) as f:\n",
    "    chip_individuals = set([x for x in json.load(f) if child_id_to_num_probes[x]>300000])\n",
    "\n",
    "# need to do it this way due to filtering on probes      \n",
    "chip_families = set([k[0] for k, v in fam_to_inds.items() if np.all([x in chip_individuals for x in v])])\n",
    "print('chip', 'individuals', len(chip_individuals), 'families', len(chip_families))\n"
   ]
  },
  {
   "cell_type": "code",
   "execution_count": 29,
   "metadata": {},
   "outputs": [
    {
     "name": "stdout",
     "output_type": "stream",
     "text": [
      "both families 212\n",
      "remaining deletions wgs 77448 chip 479\n"
     ]
    }
   ],
   "source": [
    "# remove deletions for families that aren't in both datasets\n",
    "both_families = wgs_families & chip_families\n",
    "print('both families', len(both_families))\n",
    "\n",
    "wgs_deletions = [d for d in wgs_deletions if d['family'] in both_families]\n",
    "chip_deletions = [d for d in chip_deletions if d['family'] in both_families]\n",
    "print('remaining deletions', 'wgs', len(wgs_deletions), 'chip', len(chip_deletions))\n"
   ]
  },
  {
   "cell_type": "code",
   "execution_count": 30,
   "metadata": {},
   "outputs": [
    {
     "name": "stdout",
     "output_type": "stream",
     "text": [
      "remaining deletions wgs 65071 chip 479\n",
      "remaining deletions wgs 65071 chip 479\n",
      "excluded deletions 25575\n",
      "excluded deletions 58\n",
      "remaining deletions wgs 39496 chip 421\n"
     ]
    }
   ],
   "source": [
    "# filter deletions\n",
    "wgs_deletions = [d for d in wgs_deletions if d['length']>=100]\n",
    "chip_deletions = [d for d in chip_deletions if d['length']>=100]\n",
    "print('remaining deletions', 'wgs', len(wgs_deletions), 'chip', len(chip_deletions))\n",
    "\n",
    "wgs_deletions = [d for d in wgs_deletions if d['is_inherited']]\n",
    "chip_deletions = [d for d in chip_deletions if d['is_inherited']]\n",
    "print('remaining deletions', 'wgs', len(wgs_deletions), 'chip', len(chip_deletions))\n",
    "\n",
    "chroms = [str(x) for x in range(1, 23)]\n",
    "chrom_to_interval_starts, chrom_to_interval_ends = defaultdict(list), defaultdict(list)\n",
    "with open('filtered_regions_hg19.bed', 'r') as f:\n",
    "    for line in f:\n",
    "        pieces = line.strip().split('\\t')\n",
    "        if pieces[0][3:] in chroms:\n",
    "            chrom_to_interval_starts[pieces[0][3:]].append(int(pieces[1]))\n",
    "            chrom_to_interval_ends[pieces[0][3:]].append(int(pieces[2]))\n",
    "            \n",
    "for chrom in [str(x) for x in range(1, 23)]:\n",
    "    chrom_to_interval_starts[chrom] = np.array(chrom_to_interval_starts[chrom])\n",
    "    chrom_to_interval_ends[chrom] = np.array(chrom_to_interval_ends[chrom])\n",
    "         \n",
    "excluded_deletions = set()\n",
    "for i, d in enumerate(wgs_deletions):\n",
    "    starts, ends = chrom_to_interval_starts[d['chrom']], chrom_to_interval_ends[d['chrom']]\n",
    "    overlaps = np.clip(np.minimum(d['end_pos'], ends) - np.maximum(d['start_pos'], starts), 0, None)\n",
    "    if np.sum(overlaps)/d['length'] > 0.66:\n",
    "        excluded_deletions.add(i)\n",
    "print('excluded deletions', len(excluded_deletions)) \n",
    "wgs_deletions = [d for i, d in enumerate(wgs_deletions) if i not in excluded_deletions]\n",
    "\n",
    "excluded_deletions = set()\n",
    "for i, d in enumerate(chip_deletions):\n",
    "    starts, ends = chrom_to_interval_starts[d['chrom']], chrom_to_interval_ends[d['chrom']]\n",
    "    overlaps = np.clip(np.minimum(d['end_pos'], ends) - np.maximum(d['start_pos'], starts), 0, None)\n",
    "    if np.sum(overlaps)/d['length'] > 0.66:\n",
    "        excluded_deletions.add(i)\n",
    "print('excluded deletions', len(excluded_deletions)) \n",
    "chip_deletions = [d for i, d in enumerate(chip_deletions) if i not in excluded_deletions]\n",
    "\n",
    "print('remaining deletions', 'wgs', len(wgs_deletions), 'chip', len(chip_deletions))\n"
   ]
  },
  {
   "cell_type": "code",
   "execution_count": 31,
   "metadata": {},
   "outputs": [
    {
     "name": "stdout",
     "output_type": "stream",
     "text": [
      "297\n"
     ]
    }
   ],
   "source": [
    "# look at overlaps\n",
    "\n",
    "wgs_chrom_fam_to_dels = defaultdict(list)\n",
    "for i, d in enumerate(wgs_deletions):\n",
    "    wgs_chrom_fam_to_dels[(d['family'], d['chrom'])].append((i, d))\n",
    "chip_chrom_fam_to_dels = defaultdict(list)\n",
    "for i, d in enumerate(chip_deletions):\n",
    "    chip_chrom_fam_to_dels[(d['family'], d['chrom'])].append((i, d))\n",
    "\n",
    "val_pairs = []\n",
    "wgs_del_to_overlaps = defaultdict(list)\n",
    "chip_del_to_overlaps = defaultdict(list)\n",
    "for (fam, chrom), ds in wgs_chrom_fam_to_dels.items():\n",
    "    sds = chip_chrom_fam_to_dels[(fam, chrom)]\n",
    "\n",
    "    for i, d in ds:\n",
    "        d_start, d_end = d['start_pos'], d['end_pos']\n",
    "        for j, sb in sds:\n",
    "            if (d['chrom']==sb['chrom']) and (d['child']==sb['child']):\n",
    "                overlap = min(d_end, sb['end_pos']) - max(d_start, sb['start_pos']) \n",
    "\n",
    "                if overlap>0:\n",
    "                    wgs_del_to_overlaps[i].append(j)\n",
    "                    chip_del_to_overlaps[j].append(i)\n",
    "\n",
    "                if overlap>0.5*d['length'] and overlap>0.5*sb['length']:\n",
    "                    val_pairs.append((d, sb))\n",
    "print(len(val_pairs))\n",
    "\n",
    "        \n",
    "        "
   ]
  },
  {
   "cell_type": "code",
   "execution_count": 32,
   "metadata": {},
   "outputs": [
    {
     "name": "stdout",
     "output_type": "stream",
     "text": [
      "0.008203362365809196\n",
      "0.9786223277909739\n"
     ]
    }
   ],
   "source": [
    "wgs_is_val = np.zeros((len(wgs_deletions),), dtype=bool)\n",
    "for del_index, overlap_indices in list(wgs_del_to_overlaps.items()):\n",
    "    start_pos = wgs_deletions[del_index]['start_pos']\n",
    "    length = wgs_deletions[del_index]['length']\n",
    "    d = np.zeros((length,), dtype=bool)\n",
    "    for overlap_index in overlap_indices:\n",
    "        d[max(0, chip_deletions[overlap_index]['start_pos']-start_pos):min(length, chip_deletions[overlap_index]['end_pos']-start_pos)] = True\n",
    "    if np.sum(d)>0.5*length:\n",
    "    #if np.sum(d)>0:\n",
    "        wgs_is_val[del_index] = True\n",
    "print(np.sum(wgs_is_val)/len(wgs_deletions))\n",
    "\n",
    "chip_is_val = np.zeros((len(chip_deletions),), dtype=bool)\n",
    "for del_index, overlap_indices in list(chip_del_to_overlaps.items()):\n",
    "    start_pos = chip_deletions[del_index]['start_pos']\n",
    "    length = chip_deletions[del_index]['length']\n",
    "    d = np.zeros((length,), dtype=bool)\n",
    "    for overlap_index in overlap_indices:\n",
    "        d[max(0, wgs_deletions[overlap_index]['start_pos']-start_pos):min(length, wgs_deletions[overlap_index]['end_pos']-start_pos)] = True\n",
    "    #if np.sum(d)>0:\n",
    "    if np.sum(d)>0.5*length:\n",
    "        chip_is_val[del_index] = True\n",
    "print(np.sum(chip_is_val)/len(chip_deletions))"
   ]
  },
  {
   "cell_type": "code",
   "execution_count": 33,
   "metadata": {},
   "outputs": [],
   "source": [
    "wgs_length = np.array([np.log10(d['length']) for d in wgs_deletions])\n",
    "wgs_notrans_length = np.array([np.log10(d['length']) for d in wgs_notrans_deletions])\n",
    "\n",
    "chip_length = np.array([np.log10(d['length']) for d in chip_deletions])\n",
    "chip_notrans_length = np.array([np.log10(d['length']) for d in chip_notrans_deletions])"
   ]
  },
  {
   "cell_type": "code",
   "execution_count": 34,
   "metadata": {},
   "outputs": [
    {
     "data": {
      "image/png": "[encoded data removed]",
      "text/plain": [
       "<Figure size 1080x360 with 2 Axes>"
      ]
     },
     "metadata": {
      "needs_background": "light"
     },
     "output_type": "display_data"
    }
   ],
   "source": [
    "plt.figure(figsize=(15, 5))\n",
    "plt.subplot(1, 2, 1)\n",
    "wgs_del_n, _, _ = plt.hist(wgs_length, bins=np.arange(1, 7, 0.5), alpha=0.5, density=True)\n",
    "chip_del_n, _, _ = plt.hist(chip_length, bins=np.arange(1, 7, 0.5), alpha=0.5, density=True)\n",
    "\n",
    "plt.subplot(1, 2, 2)\n",
    "wgs_nodel_n, _, _ = plt.hist(wgs_notrans_length, bins=np.arange(1, 7, 0.5), alpha=0.5, density=True)\n",
    "chip_nodel_n, _, _ = plt.hist(chip_notrans_length, bins=np.arange(1, 7, 0.5), alpha=0.5, density=True)\n",
    "\n",
    "plt.show()"
   ]
  },
  {
   "cell_type": "code",
   "execution_count": 35,
   "metadata": {},
   "outputs": [],
   "source": [
    "colors=['#ef6c00', '#4db6ac']"
   ]
  },
  {
   "cell_type": "code",
   "execution_count": 36,
   "metadata": {},
   "outputs": [],
   "source": [
    "num_markers = np.array([d['num_markers_ihart.chip'] for d in wgs_deletions])\n",
    "num_markers_notrans = np.array([d['num_markers_ihart.chip'] for d in wgs_notrans_deletions])\n",
    "\n",
    "num_markers_chip = np.array([d['num_markers'] for d in chip_deletions])"
   ]
  },
  {
   "cell_type": "code",
   "execution_count": 37,
   "metadata": {},
   "outputs": [
    {
     "data": {
      "text/plain": [
       "(array([324.,  61.,  12.,  13.,   3.,   2.,   3.,   2.,   0.,   1.]),\n",
       " array([ 2. ,  8.8, 15.6, 22.4, 29.2, 36. , 42.8, 49.6, 56.4, 63.2, 70. ]),\n",
       " <a list of 10 Patch objects>)"
      ]
     },
     "execution_count": 37,
     "metadata": {},
     "output_type": "execute_result"
    },
    {
     "data": {
      "image/png": "[encoded data removed]",
      "text/plain": [
       "<Figure size 432x288 with 1 Axes>"
      ]
     },
     "metadata": {
      "needs_background": "light"
     },
     "output_type": "display_data"
    }
   ],
   "source": [
    "plt.hist(num_markers_chip)"
   ]
  },
  {
   "cell_type": "code",
   "execution_count": 46,
   "metadata": {},
   "outputs": [
    {
     "name": "stderr",
     "output_type": "stream",
     "text": [
      "//anaconda3/lib/python3.7/site-packages/ipykernel/__main__.py:82: RuntimeWarning: invalid value encountered in long_scalars\n",
      "//anaconda3/lib/python3.7/site-packages/ipykernel/__main__.py:87: RuntimeWarning: invalid value encountered in long_scalars\n"
     ]
    },
    {
     "data": {
      "image/png": "[encoded data removed]",
      "text/plain": [
       "<Figure size 1080x504 with 6 Axes>"
      ]
     },
     "metadata": {
      "needs_background": "light"
     },
     "output_type": "display_data"
    }
   ],
   "source": [
    "plt.figure(figsize=(15, 7))\n",
    "ax = plt.subplot(2, 3, 1)\n",
    "bins = np.arange(0, 21, 1)\n",
    "plt.hist([np.clip(num_markers[wgs_is_val], 0, 20), np.clip(num_markers[~wgs_is_val], 0, 20)], bins=bins, stacked=True, color=colors)\n",
    "plt.xlabel('Informative microarray probes within deletion')\n",
    "plt.title('WGS Deletions')\n",
    "plt.xticks(np.arange(0, 22, 2))\n",
    "\n",
    "handles = [Rectangle((0,0),1,1, color=c, linewidth=0, ec=\"k\") for c in colors]\n",
    "labels= [\"Identified by microarray\",\"Missed by microarray\"]\n",
    "plt.legend(handles, labels)\n",
    "\n",
    "plt.subplot(2, 3, 2, sharex=ax)\n",
    "plt.hist([np.clip(num_markers_chip[chip_is_val], 0, 20), np.clip(num_markers_chip[~chip_is_val], 0, 20)], bins=bins, stacked=True, color=colors)\n",
    "plt.xlabel('Informative microarray probes within deletion')\n",
    "plt.title('Microarray Deletions')\n",
    "\n",
    "handles = [Rectangle((0,0),1,1, color=c, linewidth=0, ec=\"k\") for c in colors]\n",
    "labels= [\"Identified by WGS\",\"Missed by WGS\"]\n",
    "plt.legend(handles, labels)\n",
    "\n",
    "#plt.subplot(1, 3, 2)\n",
    "#precision, recall, _ = precision_recall_curve(wgs_is_val, num_markers)\n",
    "#plt.plot(recall, precision)\n",
    "#plt.xlabel('Recall')\n",
    "#plt.ylabel('Precision')\n",
    "#plt.title('Precision-Recall Curve')\n",
    "\n",
    "plt.subplot(2, 3, 3, sharex=ax)\n",
    "percent_val = np.zeros((21,))\n",
    "percent_val_ub, percent_val_lb = np.zeros((len(bins),)), np.zeros((len(bins),))\n",
    "percent_val_chip = np.zeros((21,))\n",
    "percent_val_chip_ub, percent_val_chip_lb = np.zeros((len(bins),)), np.zeros((len(bins),))\n",
    "for i in range(21):\n",
    "    x = np.sum((num_markers>=i) & wgs_is_val)\n",
    "    n = np.sum((num_markers>=i))\n",
    "    percent_val[i] = x/n\n",
    "    percent_val_ub[i], percent_val_lb[i] = sm.stats.proportion_confint(x, n, alpha=0.05, method='agresti_coull')    \n",
    "\n",
    "    x = np.sum((num_markers_chip>=i) & chip_is_val)\n",
    "    n = np.sum(num_markers_chip>=i)\n",
    "    percent_val_chip[i] = x/n\n",
    "    percent_val_chip_ub[i], percent_val_chip_lb[i] = sm.stats.proportion_confint(x, n, alpha=0.05, method='agresti_coull')    \n",
    "\n",
    "plt.plot(bins, percent_val, label='Recall', color=colors[0])\n",
    "plt.fill_between(bins, percent_val_ub, percent_val_lb, color=colors[0], alpha=0.25)\n",
    "plt.plot(bins, percent_val_chip, label='Precision', color=colors[1])\n",
    "plt.fill_between(bins, percent_val_chip_ub, percent_val_chip_lb, color=colors[1], alpha=0.25)\n",
    "plt.xlabel('Informative microarray probes within deletion')\n",
    "plt.legend()\n",
    "plt.title('Microarray Precision-Recall\\n(Assuming WGS ground truth)')\n",
    "\n",
    "\n",
    "bins = np.arange(2, 6.5, 0.25)\n",
    "ax = plt.subplot(2, 3, 4)\n",
    "chip_mark_del_n, _, _ = plt.hist([np.clip(wgs_length[wgs_is_val], 0, 6), np.clip(wgs_length[~wgs_is_val], 0, 6)], bins=bins, stacked=True, color=colors)\n",
    "plt.xlabel('$log_{10}(length)$')\n",
    "plt.title('WGS Deletions')\n",
    "\n",
    "handles = [Rectangle((0,0),1,1, color=c, linewidth=0, ec=\"k\") for c in colors]\n",
    "labels= [\"Identified by microarray\",\"Missed by microarray\"]\n",
    "plt.legend(handles, labels)\n",
    "\n",
    "plt.subplot(2, 3, 5, sharex=ax)\n",
    "chip_mark_del_n, _, _ = plt.hist([np.clip(chip_length[chip_is_val], 0, 6), np.clip(chip_length[~chip_is_val], 0, 6)], bins=bins, stacked=True, color=colors)\n",
    "plt.xlabel('$log_{10}(length)$')\n",
    "plt.ylabel('Num Deletions')\n",
    "plt.title('Microarray Deletions')\n",
    "\n",
    "handles = [Rectangle((0,0),1,1, color=c, linewidth=0, ec=\"k\") for c in colors]\n",
    "labels= [\"Identified by WGS\",\"Missed by WGS\"]\n",
    "plt.legend(handles, labels)\n",
    "\n",
    "plt.subplot(2, 3, 6, sharex=ax)\n",
    "percent_val = np.zeros((len(bins),))\n",
    "percent_val_ub, percent_val_lb = np.zeros((len(bins),)), np.zeros((len(bins),))\n",
    "percent_val_chip = np.zeros((len(bins),))\n",
    "percent_val_chip_ub, percent_val_chip_lb = np.zeros((len(bins),)), np.zeros((len(bins),))\n",
    "for i, j in enumerate(bins):\n",
    "    x = np.sum((wgs_length>=j) & wgs_is_val)\n",
    "    n = np.sum((wgs_length>=j))\n",
    "    percent_val[i] = x/n\n",
    "    percent_val_ub[i], percent_val_lb[i] = sm.stats.proportion_confint(x, n, alpha=0.05, method='agresti_coull')    \n",
    "    \n",
    "    x = np.sum((chip_length>=j) & chip_is_val)\n",
    "    n = np.sum(chip_length>=j)\n",
    "    percent_val_chip[i] = x/n\n",
    "    percent_val_chip_ub[i], percent_val_chip_lb[i] = sm.stats.proportion_confint(x, n, alpha=0.05, method='agresti_coull')    \n",
    "    \n",
    "plt.plot(bins, percent_val, label='Recall', color=colors[0])\n",
    "plt.fill_between(bins, percent_val_ub, percent_val_lb, color=colors[0], alpha=0.25)\n",
    "plt.plot(bins, percent_val_chip, label=' Precision', color=colors[1])\n",
    "plt.fill_between(bins, percent_val_chip_ub, percent_val_chip_lb, color=colors[1], alpha=0.25)\n",
    "plt.xlabel('$log_{10}(length)$')\n",
    "plt.legend()\n",
    "plt.title('Microarray Precision-Recall\\n(Assuming WGS ground truth)')\n",
    "\n",
    "plt.tight_layout()\n",
    "plt.show()"
   ]
  },
  {
   "cell_type": "code",
   "execution_count": 39,
   "metadata": {},
   "outputs": [
    {
     "data": {
      "image/png": "[encoded data removed]",
      "text/plain": [
       "<Figure size 1080x360 with 2 Axes>"
      ]
     },
     "metadata": {
      "needs_background": "light"
     },
     "output_type": "display_data"
    }
   ],
   "source": [
    "wgs_del_lengths = np.array([x['length'] for x in wgs_deletions])\n",
    "chip_del_lengths = np.array([x['length'] for x in chip_deletions])\n",
    "\n",
    "plt.figure(figsize=(15, 5))\n",
    "plt.subplot(1, 2, 1)\n",
    "wgs_n, _, _ = plt.hist(np.log10(wgs_del_lengths), alpha=0.5, bins=np.arange(1, 7.5, 0.5))\n",
    "wgs_val_n, _, _ = plt.hist(np.log10(wgs_del_lengths[wgs_is_val]), alpha=0.5, bins=np.arange(1, 7.5, 0.5))\n",
    "\n",
    "plt.subplot(1, 2, 2)\n",
    "chip_n, _, _ = plt.hist(np.log10(chip_del_lengths), alpha=0.5, bins=np.arange(1, 7.5, 0.5))\n",
    "chip_val_n, _, _ = plt.hist(np.log10(chip_del_lengths[chip_is_val]), alpha=0.5, bins=np.arange(1, 7.5, 0.5))\n",
    "\n",
    "plt.show()"
   ]
  },
  {
   "cell_type": "code",
   "execution_count": 40,
   "metadata": {},
   "outputs": [
    {
     "name": "stdout",
     "output_type": "stream",
     "text": [
      "[1.  1.5 2.  2.5 3.  3.5 4.  4.5 5.  5.5 6.  6.5 7. ]\n",
      "[  0.   0.   0.   5.   1.  17.  49. 137. 102.  12.   1.   0.]\n",
      "[  0.   0.   0.  13.  15.  38. 115. 139.  84.   7.   1.   0.]\n",
      "[  0.   0.   3.  13.  15.  38. 116. 144.  84.   7.   1.   0.]\n"
     ]
    }
   ],
   "source": [
    "print(np.arange(1, 7.5, 0.5))\n",
    "print(wgs_val_n)\n",
    "print(chip_val_n)\n",
    "print(chip_n)"
   ]
  },
  {
   "cell_type": "code",
   "execution_count": 41,
   "metadata": {},
   "outputs": [
    {
     "name": "stderr",
     "output_type": "stream",
     "text": [
      "//anaconda3/lib/python3.7/site-packages/ipykernel/__main__.py:1: RuntimeWarning: invalid value encountered in true_divide\n",
      "  if __name__ == '__main__':\n",
      "//anaconda3/lib/python3.7/site-packages/ipykernel/__main__.py:2: RuntimeWarning: invalid value encountered in true_divide\n",
      "  from ipykernel import kernelapp as app\n"
     ]
    },
    {
     "data": {
      "image/png": "[encoded data removed]",
      "text/plain": [
       "<Figure size 432x288 with 1 Axes>"
      ]
     },
     "metadata": {
      "needs_background": "light"
     },
     "output_type": "display_data"
    }
   ],
   "source": [
    "plt.plot(np.arange(1, 7, 0.5), chip_val_n/chip_n, label='precision')\n",
    "plt.plot(np.arange(1, 7, 0.5), wgs_val_n/wgs_n, label='recall')\n",
    "plt.legend()\n",
    "plt.show()"
   ]
  },
  {
   "cell_type": "code",
   "execution_count": 42,
   "metadata": {},
   "outputs": [],
   "source": [
    "end_offset = []\n",
    "for d, sb in val_pairs:\n",
    "    # start\n",
    "    overlap = min(d['start_pos'], sb['start_pos']) - max(d['opt_start_pos'], sb['opt_start_pos'])\n",
    "    if overlap>0:\n",
    "        end_offset.append(0)\n",
    "    elif d['start_pos']<sb['opt_start_pos']:\n",
    "        end_offset.append(sb['opt_start_pos']-d['start_pos'])\n",
    "    elif sb['start_pos']<d['opt_start_pos']:\n",
    "        end_offset.append(d['opt_start_pos']-sb['start_pos'])\n",
    "    else:\n",
    "        print('Error')\n",
    "        \n",
    "    # end\n",
    "    overlap = min(d['opt_end_pos'], sb['opt_end_pos']) - max(d['end_pos'], sb['end_pos'])\n",
    "    if overlap>0:\n",
    "        end_offset.append(0)\n",
    "    elif d['opt_end_pos']<sb['end_pos']:\n",
    "        end_offset.append(sb['end_pos']-d['opt_end_pos'])\n",
    "    elif sb['opt_end_pos']<d['end_pos']:\n",
    "        end_offset.append(d['end_pos']-sb['opt_end_pos'])\n",
    "    else:\n",
    "        print('Error')"
   ]
  },
  {
   "cell_type": "code",
   "execution_count": 43,
   "metadata": {},
   "outputs": [
    {
     "name": "stderr",
     "output_type": "stream",
     "text": [
      "//anaconda3/lib/python3.7/site-packages/ipykernel/__main__.py:1: RuntimeWarning: divide by zero encountered in log10\n",
      "  if __name__ == '__main__':\n"
     ]
    },
    {
     "data": {
      "image/png": "[encoded data removed]",
      "text/plain": [
       "<Figure size 432x288 with 1 Axes>"
      ]
     },
     "metadata": {
      "needs_background": "light"
     },
     "output_type": "display_data"
    }
   ],
   "source": [
    "plt.hist(np.clip(np.log10(end_offset), -1, None), bins=np.arange(-1, 6), density=True)\n",
    "plt.yticks(np.arange(0, 1.1, 0.1))\n",
    "plt.show()"
   ]
  },
  {
   "cell_type": "markdown",
   "metadata": {},
   "source": [
    "# look at a particular deletion"
   ]
  },
  {
   "cell_type": "code",
   "execution_count": 44,
   "metadata": {},
   "outputs": [],
   "source": [
    "frame_start, frame_end = d['opt_start_pos']-10000, d['opt_end_pos']+10000\n",
    "\n",
    "with open('%s/%s.phased.txt' % (chip_phase_dir, d['family']), 'r') as f:\n",
    "    header = next(f).split('\\t')\n",
    "    first_line = next(f).strip().split('\\t')\n",
    "    chip_phase = np.zeros((frame_end-frame_start, len(first_line)-3))\n",
    "\n",
    "with open('%s/%s.phased.txt' % (chip_phase_dir, d['family']), 'r') as f:\n",
    "    header = next(f).split('\\t')\n",
    "    for line in f:\n",
    "        pieces = line.strip().split('\\t')\n",
    "        start_pos, end_pos = [int(x) for x in pieces[-2:]]\n",
    "        if pieces[0]==('chr%s' % d['chrom']) and min(frame_end, end_pos) - max(frame_start, start_pos) > 0:\n",
    "            start_index, end_index = max(0, start_pos-frame_start), min(frame_end-frame_start, end_pos-frame_start)\n",
    "            chip_phase[start_index:end_index, :] = np.tile(pieces[1:-2], (end_index-start_index, 1))\n",
    "            \n",
    "            "
   ]
  },
  {
   "cell_type": "code",
   "execution_count": 111,
   "metadata": {},
   "outputs": [
    {
     "ename": "FileNotFoundError",
     "evalue": "[Errno 2] No such file or directory: '../phased_ihart.v34_del/AU3807.phased.txt'",
     "output_type": "error",
     "traceback": [
      "\u001b[0;31m---------------------------------------------------------------------------\u001b[0m",
      "\u001b[0;31mFileNotFoundError\u001b[0m                         Traceback (most recent call last)",
      "\u001b[0;32m<ipython-input-111-0329e34f6a61>\u001b[0m in \u001b[0;36m<module>\u001b[0;34m\u001b[0m\n\u001b[0;32m----> 1\u001b[0;31m \u001b[0;32mwith\u001b[0m \u001b[0mopen\u001b[0m\u001b[0;34m(\u001b[0m\u001b[0;34m'%s/%s.phased.txt'\u001b[0m \u001b[0;34m%\u001b[0m \u001b[0;34m(\u001b[0m\u001b[0mwgs_phase_dir\u001b[0m\u001b[0;34m,\u001b[0m \u001b[0md\u001b[0m\u001b[0;34m[\u001b[0m\u001b[0;34m'family'\u001b[0m\u001b[0;34m]\u001b[0m\u001b[0;34m)\u001b[0m\u001b[0;34m,\u001b[0m \u001b[0;34m'r'\u001b[0m\u001b[0;34m)\u001b[0m \u001b[0;32mas\u001b[0m \u001b[0mf\u001b[0m\u001b[0;34m:\u001b[0m\u001b[0;34m\u001b[0m\u001b[0;34m\u001b[0m\u001b[0m\n\u001b[0m\u001b[1;32m      2\u001b[0m     \u001b[0mheader\u001b[0m \u001b[0;34m=\u001b[0m \u001b[0mnext\u001b[0m\u001b[0;34m(\u001b[0m\u001b[0mf\u001b[0m\u001b[0;34m)\u001b[0m\u001b[0;34m.\u001b[0m\u001b[0msplit\u001b[0m\u001b[0;34m(\u001b[0m\u001b[0;34m'\\t'\u001b[0m\u001b[0;34m)\u001b[0m\u001b[0;34m\u001b[0m\u001b[0;34m\u001b[0m\u001b[0m\n\u001b[1;32m      3\u001b[0m     \u001b[0mfirst_line\u001b[0m \u001b[0;34m=\u001b[0m \u001b[0mnext\u001b[0m\u001b[0;34m(\u001b[0m\u001b[0mf\u001b[0m\u001b[0;34m)\u001b[0m\u001b[0;34m.\u001b[0m\u001b[0mstrip\u001b[0m\u001b[0;34m(\u001b[0m\u001b[0;34m)\u001b[0m\u001b[0;34m.\u001b[0m\u001b[0msplit\u001b[0m\u001b[0;34m(\u001b[0m\u001b[0;34m'\\t'\u001b[0m\u001b[0;34m)\u001b[0m\u001b[0;34m\u001b[0m\u001b[0;34m\u001b[0m\u001b[0m\n\u001b[1;32m      4\u001b[0m     \u001b[0mwgs_phase\u001b[0m \u001b[0;34m=\u001b[0m \u001b[0mnp\u001b[0m\u001b[0;34m.\u001b[0m\u001b[0mzeros\u001b[0m\u001b[0;34m(\u001b[0m\u001b[0;34m(\u001b[0m\u001b[0mframe_end\u001b[0m\u001b[0;34m-\u001b[0m\u001b[0mframe_start\u001b[0m\u001b[0;34m,\u001b[0m \u001b[0mlen\u001b[0m\u001b[0;34m(\u001b[0m\u001b[0mfirst_line\u001b[0m\u001b[0;34m)\u001b[0m\u001b[0;34m-\u001b[0m\u001b[0;36m3\u001b[0m\u001b[0;34m)\u001b[0m\u001b[0;34m)\u001b[0m\u001b[0;34m\u001b[0m\u001b[0;34m\u001b[0m\u001b[0m\n\u001b[1;32m      5\u001b[0m \u001b[0;34m\u001b[0m\u001b[0m\n",
      "\u001b[0;31mFileNotFoundError\u001b[0m: [Errno 2] No such file or directory: '../phased_ihart.v34_del/AU3807.phased.txt'"
     ]
    }
   ],
   "source": [
    "with open('%s/%s.phased.txt' % (wgs_phase_dir, d['family']), 'r') as f:\n",
    "    header = next(f).split('\\t')\n",
    "    first_line = next(f).strip().split('\\t')\n",
    "    wgs_phase = np.zeros((frame_end-frame_start, len(first_line)-3))\n",
    "\n",
    "with open('%s/%s.phased.txt' % (wgs_phase_dir, d['family']), 'r') as f:\n",
    "    header = next(f).split('\\t')\n",
    "    for line in f:\n",
    "        pieces = line.strip().split('\\t')\n",
    "        start_pos, end_pos = [int(x) for x in pieces[-2:]]\n",
    "        if pieces[0]==('chr%s' % d['chrom']) and min(frame_end, end_pos) - max(frame_start, start_pos) > 0:\n",
    "            start_index, end_index = max(0, start_pos-frame_start), min(frame_end-frame_start, end_pos-frame_start)\n",
    "            wgs_phase[start_index:end_index, :] = np.tile(pieces[1:-2], (end_index-start_index, 1))\n",
    "            \n",
    " "
   ]
  },
  {
   "cell_type": "code",
   "execution_count": 110,
   "metadata": {},
   "outputs": [
    {
     "data": {
      "image/png": "[encoded data removed]",
      "text/plain": [
       "<Figure size 1080x360 with 1 Axes>"
      ]
     },
     "metadata": {
      "needs_background": "light"
     },
     "output_type": "display_data"
    }
   ],
   "source": [
    "plt.figure(figsize=(15, 5))\n",
    "plt.imshow(chip_phase.T, aspect='auto')\n",
    "plt.show()"
   ]
  },
  {
   "cell_type": "code",
   "execution_count": null,
   "metadata": {},
   "outputs": [],
   "source": []
  }
 ],
 "metadata": {
  "kernelspec": {
   "display_name": "Python 3",
   "language": "python",
   "name": "python3"
  },
  "language_info": {
   "codemirror_mode": {
    "name": "ipython",
    "version": 3
   },
   "file_extension": ".py",
   "mimetype": "text/x-python",
   "name": "python",
   "nbconvert_exporter": "python",
   "pygments_lexer": "ipython3",
   "version": "3.7.3"
  }
 },
 "nbformat": 4,
 "nbformat_minor": 2
}
