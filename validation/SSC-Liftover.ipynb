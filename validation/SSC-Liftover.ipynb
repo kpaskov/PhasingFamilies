{
 "cells": [
  {
   "cell_type": "code",
   "execution_count": null,
   "metadata": {},
   "outputs": [],
   "source": []
  },
  {
   "cell_type": "code",
   "execution_count": 4,
   "metadata": {},
   "outputs": [],
   "source": [
    "with open('arrayCGH_ssc/GPL10815-16747.txt', 'r') as f, open('arrayCGH_ssc/hg18.bed', 'w+') as outf:\n",
    "    line = next(f)\n",
    "    # skip header\n",
    "    while line.startswith('#'):\n",
    "        line = next(f)\n",
    "    \n",
    "    for line in f:\n",
    "        pieces = line.strip().split('\\t')\n",
    "        \n",
    "        outf.write('\\t'.join([pieces[2], pieces[4], pieces[6], pieces[0]]) + '\\n')"
   ]
  },
  {
   "cell_type": "code",
   "execution_count": null,
   "metadata": {},
   "outputs": [],
   "source": []
  }
 ],
 "metadata": {
  "kernelspec": {
   "display_name": "Python 3",
   "language": "python",
   "name": "python3"
  },
  "language_info": {
   "codemirror_mode": {
    "name": "ipython",
    "version": 3
   },
   "file_extension": ".py",
   "mimetype": "text/x-python",
   "name": "python",
   "nbconvert_exporter": "python",
   "pygments_lexer": "ipython3",
   "version": "3.7.3"
  }
 },
 "nbformat": 4,
 "nbformat_minor": 2
}
