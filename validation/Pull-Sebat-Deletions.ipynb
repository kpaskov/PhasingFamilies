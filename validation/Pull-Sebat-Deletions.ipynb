{
 "cells": [
  {
   "cell_type": "code",
   "execution_count": 8,
   "metadata": {},
   "outputs": [],
   "source": [
    "import json"
   ]
  },
  {
   "cell_type": "code",
   "execution_count": 4,
   "metadata": {},
   "outputs": [],
   "source": [
    "ssc_old_id_to_new_id = dict()\n",
    "with open('../data/ssc.id_map.from.repository', 'r') as f:\n",
    "    for line in f:\n",
    "        pieces = line.strip().split('\\t')\n",
    "        ssc_old_id_to_new_id[pieces[1]] = pieces[0]\n",
    "        ssc_old_id_to_new_id[pieces[1].replace('.', '_')] = pieces[0]"
   ]
  },
  {
   "cell_type": "code",
   "execution_count": 5,
   "metadata": {},
   "outputs": [
    {
     "name": "stdout",
     "output_type": "stream",
     "text": [
      "ped loaded\n",
      "children 1037\n"
     ]
    }
   ],
   "source": [
    "ped_file = '../../DATA/ssc/ssc.ped'\n",
    "# pull affected status\n",
    "# (0=unknown; 1=unaffected; 2=affected)\n",
    "child_id_to_affected = dict()\n",
    "child_id_to_sex = dict()\n",
    "fam_to_inds = dict()\n",
    "with open(ped_file, 'r') as f:\n",
    "    for line in f:\n",
    "        pieces = line.strip().split('\\t')\n",
    "        if len(pieces) >= 6:\n",
    "            fam_id, child_id, f_id, m_id, sex, disease_status = pieces[0:6]\n",
    "            if child_id in ssc_old_id_to_new_id and m_id in ssc_old_id_to_new_id and f_id in ssc_old_id_to_new_id:\n",
    "                child_id = ssc_old_id_to_new_id[child_id]\n",
    "                f_id = ssc_old_id_to_new_id[f_id]\n",
    "                m_id = ssc_old_id_to_new_id[m_id]\n",
    "                child_id_to_affected[child_id] = disease_status\n",
    "                child_id_to_sex[child_id] = sex\n",
    "\n",
    "                if (fam_id, m_id, f_id) not in fam_to_inds:\n",
    "                    fam_to_inds[(fam_id, m_id, f_id)] = [m_id, f_id]\n",
    "                fam_to_inds[(fam_id, m_id, f_id)].append(child_id)\n",
    "                \n",
    "print('ped loaded')\n",
    "print('children', len(child_id_to_affected))"
   ]
  },
  {
   "cell_type": "code",
   "execution_count": 7,
   "metadata": {},
   "outputs": [
    {
     "name": "stdout",
     "output_type": "stream",
     "text": [
      "families 517\n",
      "2340252\n"
     ]
    }
   ],
   "source": [
    "sebat_deletions = []\n",
    "child_to_parents = dict()\n",
    "for family, inds in fam_to_inds.items():\n",
    "    for child in inds[2:]:\n",
    "        child_to_parents[child] = (family[0], tuple(inds[:2]))\n",
    "        \n",
    "trio_to_ismatpat = {\n",
    "    ('0/0', '0/0', '0/1'): (False, False),\n",
    "    ('0/0', '0/0', '1/1'): ((False, False), (False, False)),\n",
    "    ('0/0', '0/1', '0/1'): (False, True),\n",
    "    ('0/0', '0/1', '1/1'): ((False, True), (False, False)),\n",
    "    ('0/0', '1/1', '0/1'): (False, True),\n",
    "    ('0/0', '1/1', '1/1'): ((False, True), (False, False)),\n",
    "    ('0/0', './.', '0/1'): (False, False),\n",
    "    ('0/0', './.', '1/1'): ((False, False), (False, False)),\n",
    "    ('0/1', '0/0', '0/1'): (True, False),\n",
    "    ('0/1', '0/0', '1/1'): ((True, False), (False, False)),\n",
    "    ('0/1', '0/1', '0/1'): (True, True),\n",
    "    ('0/1', '0/1', '1/1'): ((True, False), (False, True)),\n",
    "    ('0/1', '1/1', '0/1'): (False, True),\n",
    "    ('0/1', '1/1', '1/1'): ((True, False), (False, True)),\n",
    "    ('0/1', './.', '0/1'): (True, False),\n",
    "    ('0/1', './.', '1/1'): ((True, False), (False, False)),\n",
    "    ('1/1', '0/0', '0/1'): (True, False),\n",
    "    ('1/1', '0/0', '1/1'): ((True, False), (False, False)),\n",
    "    ('1/1', '0/1', '0/1'): (True, False),\n",
    "    ('1/1', '0/1', '1/1'): ((True, False), (False, True)),\n",
    "    ('1/1', '1/1', '0/1'): (True, True),\n",
    "    ('1/1', '1/1', '1/1'): ((True, False), (False, True)),\n",
    "    ('1/1', './.', '0/1'): (True, False),\n",
    "    ('1/1', './.', '1/1'): ((True, False), (False, False)),\n",
    "    ('./.', '0/0', '0/1'): (False, False),\n",
    "    ('./.', '0/0', '1/1'): ((False, False), (False, False)),\n",
    "    ('./.', '0/1', '0/1'): (False, True),\n",
    "    ('./.', '0/1', '1/1'): ((False, True), (False, False)),\n",
    "    ('./.', '1/1', '0/1'): (False, True),\n",
    "    ('./.', '1/1', '1/1'): ((False, True), (False, False)),\n",
    "    ('./.', './.', '0/1'): (False, False),\n",
    "    ('./.', './.', '1/1'): ((False, False), (False, False)),\n",
    "\n",
    "}\n",
    "sebat_families = []\n",
    "with open('../data/Sebat_2017_SV_Callet.vcf', 'r') as f:\n",
    "    # skip header\n",
    "    header = next(f)\n",
    "    while header.startswith('##'):\n",
    "        #print(header)\n",
    "        header = next(f)\n",
    "    assert header.startswith('#CHROM')\n",
    "    header = header.strip().split()\n",
    "    samples = [x.split('|')[1] for x in header[9:]]\n",
    "    sample_to_index = dict([(x, i) for i, x in enumerate(samples)])\n",
    "    \n",
    "    for family_id, inds in fam_to_inds.items():\n",
    "        indices = [sample_to_index[x] for x in inds if x in sample_to_index]\n",
    "        if len(indices)==4:\n",
    "            sebat_families.append(family_id[0])\n",
    "    print('families', len(sebat_families))\n",
    "\n",
    "    for line in f:\n",
    "        pieces = line.strip().split('\\t', maxsplit=5)\n",
    "        if pieces[4]=='<DEL>':\n",
    "            pieces = line.strip().split('\\t')\n",
    "            \n",
    "            info = [x for x in pieces[7].split(';')]\n",
    "            start_pos = int(pieces[1])\n",
    "            end_pos = int([x for x in info if x.startswith('END=')][0][4:])\n",
    "            if 'CIPOS' in info:\n",
    "                ci_pos = [int(y) for y in [x for x in info if x.startswith('CIPOS=')][0][6:].split(',')]\n",
    "            else:\n",
    "                ci_pos = (0, 0)\n",
    "            if 'CIEND' in info:\n",
    "                ci_end = [int(y) for y in [x for x in info if x.startswith('CIEND=')][0][6:].split(',')]\n",
    "            else:\n",
    "                ci_end = (0, 0)\n",
    "            del_length = end_pos - start_pos\n",
    "            \n",
    "            for ind, gen in zip(samples, pieces[9:]):\n",
    "                if (gen == '0/1' or gen == '1/1') and ind in child_to_parents:\n",
    "                    family, (mom, dad) = child_to_parents[ind]\n",
    "                    mom_gen, dad_gen = pieces[9:][sample_to_index[mom]], pieces[9:][sample_to_index[dad]] \n",
    "                    if gen == '0/1' and (mom_gen, dad_gen, gen) in trio_to_ismatpat:\n",
    "                        is_mat, is_pat = trio_to_ismatpat[(mom_gen, dad_gen, gen)]\n",
    "                        sebat_deletions.append({\n",
    "                                'family': family,\n",
    "                                'trans': [ind],\n",
    "                                'chrom': pieces[0],\n",
    "                                'start_pos': start_pos,\n",
    "                                'end_pos': end_pos,\n",
    "                                'length': del_length,\n",
    "                                'opt_start_pos': start_pos+ci_pos[0],\n",
    "                                'opt_end_pos': end_pos+ci_end[1],\n",
    "                                'is_mat': is_mat,\n",
    "                                'is_pat': is_pat,\n",
    "                                'mother': mom,\n",
    "                                'father': dad,\n",
    "                                'is_inherited': is_mat or is_pat,\n",
    "                                'is_denovo': not is_mat and not is_pat\n",
    "                        })\n",
    "                    elif gen == '1/1' and (mom_gen, dad_gen, gen) in trio_to_ismatpat:\n",
    "                        for is_mat, is_pat in trio_to_ismatpat[(mom_gen, dad_gen, gen)]:\n",
    "                            sebat_deletions.append({\n",
    "                                    'family': family,\n",
    "                                    'trans': [ind],\n",
    "                                    'chrom': pieces[0],\n",
    "                                    'start_pos': start_pos,\n",
    "                                    'end_pos': end_pos,\n",
    "                                    'length': del_length,\n",
    "                                    'opt_start_pos': start_pos+ci_pos[0],\n",
    "                                    'opt_end_pos': end_pos+ci_end[1],\n",
    "                                    'is_mat': is_mat,\n",
    "                                    'is_pat': is_pat,\n",
    "                                    'mother': mom,\n",
    "                                    'father': dad,\n",
    "                                    'is_inherited': is_mat or is_pat,\n",
    "                                    'is_denovo': not is_mat and not is_pat\n",
    "                            })\n",
    "        \n",
    "print(len(sebat_deletions))"
   ]
  },
  {
   "cell_type": "code",
   "execution_count": 10,
   "metadata": {},
   "outputs": [
    {
     "name": "stdout",
     "output_type": "stream",
     "text": [
      "remaining deletions 1440092\n"
     ]
    }
   ],
   "source": [
    "sebat_deletions = [d for d in sebat_deletions if d['length']>=100]\n",
    "print('remaining deletions', len(sebat_deletions))"
   ]
  },
  {
   "cell_type": "code",
   "execution_count": 12,
   "metadata": {},
   "outputs": [
    {
     "name": "stdout",
     "output_type": "stream",
     "text": [
      "remaining deletions 1420888\n"
     ]
    }
   ],
   "source": [
    "sebat_deletions = [d for d in sebat_deletions if d['is_inherited']]\n",
    "print('remaining deletions', len(sebat_deletions))"
   ]
  },
  {
   "cell_type": "code",
   "execution_count": 13,
   "metadata": {},
   "outputs": [],
   "source": [
    "with open('../phased_ssc.sebat_del/deletions.json', 'w+') as f:\n",
    "    json.dump(sebat_deletions, f, indent=4)"
   ]
  },
  {
   "cell_type": "code",
   "execution_count": 15,
   "metadata": {},
   "outputs": [],
   "source": [
    "with open('../phased_ssc.sebat_del/families.json', 'w+') as f:\n",
    "    json.dump(sorted(sebat_families), f, indent=4)"
   ]
  },
  {
   "cell_type": "code",
   "execution_count": 18,
   "metadata": {},
   "outputs": [],
   "source": [
    "with open('../phased_ssc.sebat_del/info.json', 'w+') as f:\n",
    "    json.dump({\"ped_file\": \"../DATA/ssc/ssc.ped\", \n",
    "               \"assembly\": '37',\n",
    "               \"data_dir\": None, \n",
    "               \"param_file\": None, \n",
    "               \"num_loss_regions\": None, \n",
    "               \"detect_inherited_deletions\": True, \n",
    "               \"detect_denovo_deletions\": False, \n",
    "               \"chrom\": None, \n",
    "               \"detect_consanguinity\": False}, f, indent=4)"
   ]
  },
  {
   "cell_type": "code",
   "execution_count": null,
   "metadata": {},
   "outputs": [],
   "source": []
  }
 ],
 "metadata": {
  "kernelspec": {
   "display_name": "Python 3",
   "language": "python",
   "name": "python3"
  },
  "language_info": {
   "codemirror_mode": {
    "name": "ipython",
    "version": 3
   },
   "file_extension": ".py",
   "mimetype": "text/x-python",
   "name": "python",
   "nbconvert_exporter": "python",
   "pygments_lexer": "ipython3",
   "version": "3.7.3"
  }
 },
 "nbformat": 4,
 "nbformat_minor": 2
}
