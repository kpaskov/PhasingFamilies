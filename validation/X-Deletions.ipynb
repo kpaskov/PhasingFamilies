{
 "cells": [
  {
   "cell_type": "code",
   "execution_count": 11,
   "metadata": {},
   "outputs": [],
   "source": [
    "import json\n",
    "from collections import defaultdict, Counter\n",
    "import numpy as np\n",
    "from os import listdir\n",
    "import matplotlib.pyplot as plt\n",
    "import scipy.stats as stats\n",
    "import gzip\n",
    "import scipy.sparse as sparse\n",
    "import statsmodels.api as sm\n",
    "import random\n",
    "from sklearn.metrics import precision_recall_curve"
   ]
  },
  {
   "cell_type": "code",
   "execution_count": 12,
   "metadata": {},
   "outputs": [],
   "source": [
    "ped_file = '../../DATA/spark/spark.ped'\n",
    "phase_dir = '../phased_spark_del'\n",
    "assembly = '38'\n",
    "\n",
    "#ped_file = '../../DATA/ihart.v34/ihart.ped'\n",
    "#phase_dir = '../phased_ihart.v34_del'\n",
    "#assembly = '19'"
   ]
  },
  {
   "cell_type": "code",
   "execution_count": 13,
   "metadata": {},
   "outputs": [
    {
     "name": "stdout",
     "output_type": "stream",
     "text": [
      "ped loaded\n",
      "children 81355\n"
     ]
    }
   ],
   "source": [
    "# pull affected status\n",
    "# (0=unknown; 1=unaffected; 2=affected)\n",
    "child_id_to_affected = dict()\n",
    "child_id_to_sex = dict()\n",
    "fam_to_inds = dict()\n",
    "in_ped = set()\n",
    "with open(ped_file, 'r') as f:\n",
    "    for line in f:\n",
    "        pieces = line.strip().split('\\t')\n",
    "        if len(pieces) >= 6:\n",
    "            fam_id, child_id, f_id, m_id, sex, disease_status = pieces[0:6]\n",
    "            #if child_id in ssc_old_id_to_new_id and m_id in ssc_old_id_to_new_id and f_id in ssc_old_id_to_new_id:\n",
    "                #child_id = ssc_old_id_to_new_id[child_id]\n",
    "                #f_id = ssc_old_id_to_new_id[f_id]\n",
    "                #m_id = ssc_old_id_to_new_id[m_id]\n",
    "            child_id_to_affected[child_id] = disease_status\n",
    "            child_id_to_sex[child_id] = sex\n",
    "\n",
    "            if f_id != '0' and m_id != '0':\n",
    "                if (fam_id, m_id, f_id) not in fam_to_inds:\n",
    "                    fam_to_inds[(fam_id, m_id, f_id)] = [m_id, f_id]\n",
    "                fam_to_inds[(fam_id, m_id, f_id)].append(child_id)\n",
    "            in_ped.add(m_id)\n",
    "            in_ped.add(f_id)\n",
    "            in_ped.add(child_id)\n",
    "                \n",
    "print('ped loaded')\n",
    "print('children', len(child_id_to_affected))"
   ]
  },
  {
   "cell_type": "code",
   "execution_count": 14,
   "metadata": {},
   "outputs": [],
   "source": [
    "with open('%s/Xdeletions.json' % phase_dir) as f:\n",
    "    deletions = json.load(f)"
   ]
  },
  {
   "cell_type": "code",
   "execution_count": 16,
   "metadata": {},
   "outputs": [
    {
     "name": "stdout",
     "output_type": "stream",
     "text": [
      "remaining deletions 17697\n",
      "remaining deletions 17697\n",
      "excluded deletions 0\n",
      "remaining deletions 17697\n"
     ]
    }
   ],
   "source": [
    "# filter deletions\n",
    "deletions = [d for d in deletions if d['length']>=100]\n",
    "print('remaining deletions', len(deletions))\n",
    "\n",
    "deletions = [d for d in deletions if d['is_inherited']]\n",
    "print('remaining deletions', len(deletions))\n",
    "\n",
    "chroms = [str(x) for x in range(1, 23)]\n",
    "chrom_to_interval_starts, chrom_to_interval_ends = defaultdict(list), defaultdict(list)\n",
    "\n",
    "\n",
    "with open('../data/filtered_regions_hg%s.bed' % assembly, 'r') as f:\n",
    "    for line in f:\n",
    "        pieces = line.strip().split('\\t')\n",
    "        if pieces[0][3:] in chroms:\n",
    "            chrom_to_interval_starts[pieces[0][3:]].append(int(pieces[1]))\n",
    "            chrom_to_interval_ends[pieces[0][3:]].append(int(pieces[2]))\n",
    "            \n",
    "for chrom in ['X']:\n",
    "    chrom_to_interval_starts[chrom] = np.array(chrom_to_interval_starts[chrom])\n",
    "    chrom_to_interval_ends[chrom] = np.array(chrom_to_interval_ends[chrom])\n",
    "         \n",
    "excluded_deletions = set()\n",
    "for i, d in enumerate(deletions):\n",
    "    starts, ends = chrom_to_interval_starts[d['chrom']], chrom_to_interval_ends[d['chrom']]\n",
    "    overlaps = np.clip(np.minimum(d['end_pos'], ends) - np.maximum(d['start_pos'], starts), 0, None)\n",
    "    if np.sum(overlaps)/d['length'] > 0.66:\n",
    "        excluded_deletions.add(i)\n",
    "print('excluded deletions', len(excluded_deletions)) \n",
    "full_deletions = [d for i, d in enumerate(deletions) if i not in excluded_deletions]\n",
    "print('remaining deletions', len(deletions))"
   ]
  },
  {
   "cell_type": "code",
   "execution_count": 17,
   "metadata": {},
   "outputs": [],
   "source": [
    "deletions = []\n",
    "fam_to_num_bases = defaultdict(int)\n",
    "fam_to_num_dels = defaultdict(int)\n",
    "fam_to_size = dict([(x[0], len(v)) for x, v in fam_to_inds.items()])\n",
    "\n",
    "for d in full_deletions:\n",
    "    if d['is_inherited'] and d['family_size']>=4 and fam_to_size[d['family']] == d['family_size']:\n",
    "        for child in d['trans']:\n",
    "            #if child_id_to_sex[child]=='1':\n",
    "            deletions.append({\n",
    "                                'family': d['family'],\n",
    "                                'child': child,\n",
    "                                'chrom': d['chrom'],\n",
    "                                'start_pos': d['start_pos'],\n",
    "                                'end_pos': d['end_pos'],\n",
    "                                'length': d['length'],\n",
    "                                'opt_start_pos': d['opt_start_pos'],\n",
    "                                'opt_end_pos': d['opt_end_pos'],\n",
    "                                'is_mat': d['is_mat'],\n",
    "                                'is_pat': d['is_pat'],\n",
    "                                'mother': d['mother'],\n",
    "                                'father': d['father'],\n",
    "                                'is_inherited': d['is_inherited'],\n",
    "                                'is_denovo': d['is_denovo']\n",
    "                        })\n",
    "        assert fam_to_size[d['family']] == d['family_size']\n",
    "                \n",
    "        fam_to_num_bases[d['family']] += d['length']\n",
    "        fam_to_num_dels[d['family']] += 1"
   ]
  },
  {
   "cell_type": "code",
   "execution_count": 18,
   "metadata": {},
   "outputs": [],
   "source": [
    "with open('%s/families.json' % phase_dir) as f:\n",
    "    families = set(json.load(f))"
   ]
  },
  {
   "cell_type": "code",
   "execution_count": 19,
   "metadata": {},
   "outputs": [
    {
     "data": {
      "image/png": "[encoded data removed]",
      "text/plain": [
       "<Figure size 432x288 with 1 Axes>"
      ]
     },
     "metadata": {
      "needs_background": "light"
     },
     "output_type": "display_data"
    }
   ],
   "source": [
    "plt.hist([fam_to_size[x] for x in families])\n",
    "plt.show()"
   ]
  },
  {
   "cell_type": "code",
   "execution_count": 20,
   "metadata": {},
   "outputs": [
    {
     "name": "stdout",
     "output_type": "stream",
     "text": [
      "13175 6721\n"
     ]
    }
   ],
   "source": [
    "with open('%s/individuals.json' % phase_dir) as f:\n",
    "    individuals = set(json.load(f))\n",
    "    \n",
    "with open('%s/families.json' % phase_dir) as f:\n",
    "    families = set(json.load(f))\n",
    "    \n",
    "children = set()\n",
    "for fam, inds in fam_to_inds.items():\n",
    "    #print(fam, inds)\n",
    "    if fam[0] in families and len(inds)>3:\n",
    "        children.update([x for x in inds[2:] if x in individuals])\n",
    "    \n",
    "assert np.all(x in in_ped for x in individuals)\n",
    "child_to_index = dict([(x, i) for i, x in enumerate(children)])\n",
    "\n",
    "print(len(individuals), len(children))"
   ]
  },
  {
   "cell_type": "code",
   "execution_count": 25,
   "metadata": {},
   "outputs": [
    {
     "data": {
      "image/png": "[encoded data removed]",
      "text/plain": [
       "<Figure size 1080x360 with 1 Axes>"
      ]
     },
     "metadata": {
      "needs_background": "light"
     },
     "output_type": "display_data"
    }
   ],
   "source": [
    "plt.figure(figsize=(15, 5))\n",
    "\n",
    "plt.subplot(1, 3, 1)\n",
    "plt.hist([[np.log10(d['length']) for d in deletions if d['is_mat']],\n",
    "                        [np.log10(d['length']) for d in deletions if d['is_pat']]], \n",
    "                       stacked=True, bins=np.arange(1, 7, 0.5), alpha=0.5)\n",
    "plt.title('All Deletions')\n",
    "plt.xlabel('$log_{10}(length)$')\n",
    "\n",
    "\n",
    "plt.show()"
   ]
  },
  {
   "cell_type": "code",
   "execution_count": 29,
   "metadata": {},
   "outputs": [
    {
     "data": {
      "image/png": "[encoded data removed]",
      "text/plain": [
       "<Figure size 1080x360 with 3 Axes>"
      ]
     },
     "metadata": {
      "needs_background": "light"
     },
     "output_type": "display_data"
    }
   ],
   "source": [
    "plt.figure(figsize=(15, 5))\n",
    "plt.subplot(1, 3, 1)\n",
    "plt.hist([[np.log10(d['length']) for d in deletions if child_id_to_affected[d['child']]=='2'],\n",
    "          [np.log10(d['length']) for d in deletions if child_id_to_affected[d['child']]=='1']], \n",
    "         bins=np.arange(1, 7, 0.5), alpha=0.5, stacked=True)\n",
    "plt.title('All Deletions')\n",
    "plt.xlabel('$log_{10}(length)$')\n",
    "\n",
    "plt.subplot(1, 3, 2)\n",
    "plt.hist([[np.log10(d['length']) for d in deletions if child_id_to_affected[d['child']]=='2' and d['is_mat']],\n",
    "          [np.log10(d['length']) for d in deletions if child_id_to_affected[d['child']]=='1' and d['is_mat']]], \n",
    "         bins=np.arange(1, 7, 0.5), alpha=0.5, stacked=True)\n",
    "plt.title('Maternal Deletions')\n",
    "plt.xlabel('$log_{10}(length)$')\n",
    "\n",
    "plt.subplot(1, 3, 3)\n",
    "plt.hist([[np.log10(d['length']) for d in deletions if child_id_to_affected[d['child']]=='2' and d['is_pat']],\n",
    "          [np.log10(d['length']) for d in deletions if child_id_to_affected[d['child']]=='1' and d['is_pat']]], \n",
    "         bins=np.arange(1, 7, 0.5), alpha=0.5, stacked=True)\n",
    "plt.title('Paternal Deletions')\n",
    "plt.xlabel('$log_{10}(length)$')\n",
    "\n",
    "plt.tight_layout()\n",
    "plt.show()"
   ]
  },
  {
   "cell_type": "code",
   "execution_count": 31,
   "metadata": {},
   "outputs": [],
   "source": [
    "num_deletions = np.zeros((len(children),))\n",
    "mat_num_deletions = np.zeros((len(children),))\n",
    "pat_num_deletions = np.zeros((len(children),))\n",
    "\n",
    "num_bases = np.zeros((len(children),))\n",
    "mat_num_bases =np.zeros((len(children),))\n",
    "pat_num_bases = np.zeros((len(children),))\n",
    "\n",
    "for d in deletions:\n",
    "    child_index = child_to_index[d['child']]\n",
    "    num_deletions[child_index] += 1\n",
    "    num_bases[child_index] += d['length']\n",
    "    if d['is_mat']:\n",
    "        mat_num_deletions[child_index] += 1\n",
    "        mat_num_bases[child_index] += d['length']\n",
    "    if d['is_pat']:\n",
    "        pat_num_deletions[child_index] += 1\n",
    "        pat_num_bases[child_index] += d['length']\n"
   ]
  },
  {
   "cell_type": "code",
   "execution_count": 32,
   "metadata": {},
   "outputs": [],
   "source": [
    "is_aut = np.array([child_id_to_affected[x]=='2' for x in children])\n",
    "is_nt = np.array([child_id_to_affected[x]=='1' for x in children])"
   ]
  },
  {
   "cell_type": "code",
   "execution_count": 38,
   "metadata": {},
   "outputs": [
    {
     "data": {
      "image/png": "[encoded data removed]",
      "text/plain": [
       "<Figure size 1080x360 with 3 Axes>"
      ]
     },
     "metadata": {
      "needs_background": "light"
     },
     "output_type": "display_data"
    }
   ],
   "source": [
    "plt.figure(figsize=(15, 5))\n",
    "\n",
    "bins = np.arange(0, 15)\n",
    "max_clip = 14\n",
    "\n",
    "plt.subplot(1, 3, 1)\n",
    "plt.hist(np.clip(num_deletions[is_aut], 0, max_clip), alpha=0.5, bins=bins, density=True)\n",
    "plt.hist(np.clip(num_deletions[is_nt], 0, max_clip), alpha=0.5, bins=bins, density=True)\n",
    "plt.title('All Deletions')\n",
    "plt.xlabel('Num deletions per child')\n",
    "\n",
    "plt.subplot(1, 3, 2)\n",
    "plt.hist(np.clip(mat_num_deletions[is_aut], 0, max_clip), alpha=0.5, bins=bins, density=True)\n",
    "plt.hist(np.clip(mat_num_deletions[is_nt], 0, max_clip), alpha=0.5, bins=bins, density=True)\n",
    "plt.title('Maternal Deletions')\n",
    "plt.xlabel('Num deletions per child')\n",
    "\n",
    "plt.subplot(1, 3, 3)\n",
    "plt.hist(np.clip(pat_num_deletions[is_aut], 0, max_clip), alpha=0.5, bins=bins, density=True)\n",
    "plt.hist(np.clip(pat_num_deletions[is_nt], 0, max_clip), alpha=0.5, bins=bins, density=True)\n",
    "plt.title('Paternal Deletions')\n",
    "plt.xlabel('Num deletions per child')\n",
    "\n",
    "\n",
    "plt.tight_layout()\n",
    "plt.show()"
   ]
  },
  {
   "cell_type": "code",
   "execution_count": 40,
   "metadata": {},
   "outputs": [
    {
     "name": "stderr",
     "output_type": "stream",
     "text": [
      "//anaconda3/lib/python3.7/site-packages/ipykernel/__main__.py:6: RuntimeWarning: divide by zero encountered in log10\n",
      "//anaconda3/lib/python3.7/site-packages/ipykernel/__main__.py:7: RuntimeWarning: divide by zero encountered in log10\n",
      "//anaconda3/lib/python3.7/site-packages/ipykernel/__main__.py:12: RuntimeWarning: divide by zero encountered in log10\n",
      "//anaconda3/lib/python3.7/site-packages/ipykernel/__main__.py:13: RuntimeWarning: divide by zero encountered in log10\n",
      "//anaconda3/lib/python3.7/site-packages/ipykernel/__main__.py:18: RuntimeWarning: divide by zero encountered in log10\n",
      "//anaconda3/lib/python3.7/site-packages/ipykernel/__main__.py:19: RuntimeWarning: divide by zero encountered in log10\n"
     ]
    },
    {
     "data": {
      "image/png": "[encoded data removed]",
      "text/plain": [
       "<Figure size 1080x504 with 3 Axes>"
      ]
     },
     "metadata": {
      "needs_background": "light"
     },
     "output_type": "display_data"
    }
   ],
   "source": [
    "plt.figure(figsize=(15, 7))\n",
    "\n",
    "bins = np.arange(-1, 10, 1)\n",
    "\n",
    "plt.subplot(2, 3, 1)\n",
    "plt.hist(np.clip(np.log10(num_bases[is_aut]), -1, None), alpha=0.5, bins=bins, density=True)\n",
    "plt.hist(np.clip(np.log10(num_bases[is_nt]), -1, None), alpha=0.5, bins=bins, density=True)\n",
    "plt.title('All Deletions')\n",
    "plt.xlabel('Num bases deleted per child')\n",
    "\n",
    "plt.subplot(2, 3, 2)\n",
    "plt.hist(np.clip(np.log10(mat_num_bases[is_aut]), -1, None), alpha=0.5, bins=bins, density=True)\n",
    "plt.hist(np.clip(np.log10(mat_num_bases[is_nt]), -1, None), alpha=0.5, bins=bins, density=True)\n",
    "plt.title('Maternal Deletions')\n",
    "plt.xlabel('Num bases deleted per child')\n",
    "\n",
    "plt.subplot(2, 3, 3)\n",
    "plt.hist(np.clip(np.log10(pat_num_bases[is_aut]), -1, None), alpha=0.5, bins=bins, density=True)\n",
    "plt.hist(np.clip(np.log10(pat_num_bases[is_nt]), -1, None), alpha=0.5, bins=bins, density=True)\n",
    "plt.title('Paternal Deletions')\n",
    "plt.xlabel('Num bases deleted per child')\n",
    "\n",
    "plt.show()"
   ]
  },
  {
   "cell_type": "code",
   "execution_count": 41,
   "metadata": {},
   "outputs": [
    {
     "name": "stdout",
     "output_type": "stream",
     "text": [
      "3861 2860\n"
     ]
    }
   ],
   "source": [
    "print(np.sum(is_aut), np.sum(is_nt))"
   ]
  },
  {
   "cell_type": "code",
   "execution_count": 42,
   "metadata": {},
   "outputs": [
    {
     "data": {
      "image/png": "[encoded data removed]",
      "text/plain": [
       "<Figure size 432x288 with 1 Axes>"
      ]
     },
     "metadata": {
      "needs_background": "light"
     },
     "output_type": "display_data"
    }
   ],
   "source": [
    "precision, recall, _ = precision_recall_curve(is_aut, num_bases)\n",
    "plt.plot(recall, precision, alpha=0.5)\n",
    "plt.axhline(np.sum(is_aut)/len(children))\n",
    "plt.xlim([0, 1])\n",
    "plt.show()"
   ]
  },
  {
   "cell_type": "code",
   "execution_count": 45,
   "metadata": {},
   "outputs": [
    {
     "name": "stdout",
     "output_type": "stream",
     "text": [
      "3227\n"
     ]
    }
   ],
   "source": [
    "children_phens = []\n",
    "in_children_phen = set()\n",
    "\n",
    "for fam, inds in fam_to_inds.items():\n",
    "    fam_children = [x for x in inds[2:] if x in individuals]\n",
    "    if len(fam_children)>0:\n",
    "        phens = [child_id_to_affected[x] for x in fam_children]\n",
    "        random.shuffle(phens)\n",
    "        children_phens.append((fam_children, phens))\n",
    "        in_children_phen.update(fam_children)\n",
    "        \n",
    "print(len(children_phens))"
   ]
  },
  {
   "cell_type": "code",
   "execution_count": 47,
   "metadata": {},
   "outputs": [],
   "source": [
    "assert np.all([x['child'] in in_children_phen and (x['child'] in children) for x in deletions])\n"
   ]
  },
  {
   "cell_type": "code",
   "execution_count": 48,
   "metadata": {},
   "outputs": [
    {
     "name": "stdout",
     "output_type": "stream",
     "text": [
      "34\n",
      "27854\n"
     ]
    }
   ],
   "source": [
    "print(len([d for d in deletions if d['is_mat']]))\n",
    "print(len([d for d in deletions if d['is_pat']]))"
   ]
  },
  {
   "cell_type": "code",
   "execution_count": 51,
   "metadata": {},
   "outputs": [],
   "source": [
    "# do autistic children inherit more deletions from mom vs dad than their NT peers?\n",
    "\n",
    "# Python\n",
    "def calc_pvalue_hypergeom(c):\n",
    "    return stats.hypergeom(M=np.sum(c), n=c[0][0]+c[0][1], N=c[0][0]+c[1][0]).sf(c[0][0]-1)"
   ]
  },
  {
   "cell_type": "code",
   "execution_count": 54,
   "metadata": {},
   "outputs": [
    {
     "name": "stdout",
     "output_type": "stream",
     "text": [
      "0 100 200 300 400 500 600 700 800 900 "
     ]
    }
   ],
   "source": [
    "# result could be due to family size, so try a permutation test\n",
    "num_permutations = 1000\n",
    "\n",
    "del_is_mat = np.array([x['is_mat'] for x in deletions])\n",
    "del_is_pat = np.array([x['is_pat'] for x in deletions])\n",
    "del_is_f = np.array([child_id_to_sex[x['child']]=='2' for x in deletions])\n",
    "del_is_m = np.array([child_id_to_sex[x['child']]=='1' for x in deletions])\n",
    "\n",
    "def calculate_pvalues(aff):\n",
    "    del_is_aff = np.array([(aff[x['child']]=='2') for x in deletions])\n",
    "    del_is_unaff = np.array([(aff[x['child']]=='1') for x in deletions])\n",
    "\n",
    "\n",
    "    pvalue = calc_pvalue_hypergeom([[np.sum(del_is_aff & del_is_mat), \n",
    "                                      np.sum(del_is_unaff & del_is_mat)], \n",
    "                                     [np.sum(del_is_aff & del_is_pat), \n",
    "                                      np.sum(del_is_unaff & del_is_pat)]])\n",
    "    \n",
    "        \n",
    "    mat_pvalue = calc_pvalue_hypergeom([[np.sum(del_is_f & del_is_aff & del_is_mat), \n",
    "                                          np.sum(del_is_f & del_is_unaff & del_is_mat)], \n",
    "                                         [np.sum(del_is_f & del_is_aff & del_is_pat), \n",
    "                                          np.sum(del_is_f & del_is_unaff & del_is_pat)]])\n",
    "    \n",
    "    pat_pvalue = calc_pvalue_hypergeom([[np.sum(del_is_m & del_is_aff & del_is_mat), \n",
    "                                          np.sum(del_is_m & del_is_unaff & del_is_mat)], \n",
    "                                         [np.sum(del_is_m & del_is_aff & del_is_pat), \n",
    "                                          np.sum(del_is_m & del_is_unaff & del_is_pat)]])\n",
    "    \n",
    "    return pvalue, mat_pvalue, pat_pvalue\n",
    "    \n",
    "pp = np.ones((num_permutations,))\n",
    "pp_mat = np.ones((num_permutations,))\n",
    "pp_pat = np.ones((num_permutations,))\n",
    "\n",
    "for j in range(num_permutations):\n",
    "    new_child_id_to_affected = dict()\n",
    "    [random.shuffle(p) for c, p in children_phens]\n",
    "    for fam_children, phens in children_phens:\n",
    "        new_child_id_to_affected.update(list(zip(fam_children, phens)))\n",
    "            \n",
    "    pp[j], pp_mat[j], pp_pat[j] = calculate_pvalues(new_child_id_to_affected)\n",
    "        \n",
    "            \n",
    "    if j%100==0:\n",
    "        print(j, end=' ')\n",
    "    \n",
    "        "
   ]
  },
  {
   "cell_type": "code",
   "execution_count": 55,
   "metadata": {},
   "outputs": [
    {
     "name": "stdout",
     "output_type": "stream",
     "text": [
      "1.0\n",
      "0.998\n",
      "0.487\n"
     ]
    }
   ],
   "source": [
    "pvalue, mat_pvalue, pat_pvalue = calculate_pvalues(child_id_to_affected)\n",
    "\n",
    "print(np.sum(pp<=pvalue)/np.sum(~np.isnan(pp)))\n",
    "print(np.sum(pp_mat<=mat_pvalue)/np.sum(~np.isnan(pp_mat)))\n",
    "print(np.sum(pp_pat<=pat_pvalue)/np.sum(~np.isnan(pp_pat)))\n",
    "        "
   ]
  },
  {
   "cell_type": "code",
   "execution_count": null,
   "metadata": {},
   "outputs": [],
   "source": [
    "# Look at "
   ]
  },
  {
   "cell_type": "markdown",
   "metadata": {},
   "source": [
    "# Create matrix for GLRM "
   ]
  },
  {
   "cell_type": "code",
   "execution_count": null,
   "metadata": {},
   "outputs": [],
   "source": [
    "print(len(children))"
   ]
  },
  {
   "cell_type": "code",
   "execution_count": null,
   "metadata": {},
   "outputs": [],
   "source": [
    "del_matrices = []\n",
    "del_matrices_ismat = []\n",
    "del_matrices_ispat = []\n",
    "\n",
    "for chrom in ['X']:\n",
    "    chrom_deletions = [d for d in deletions if d['chrom']==chrom]\n",
    "    chrom_notrans_deletions = [d for d in notrans_deletions if d['chrom']==chrom]\n",
    "    \n",
    "    endpoints = [d['start_pos'] for d in chrom_deletions] \n",
    "    endpoints += [d['start_pos']-1 for d in chrom_deletions]\n",
    "    endpoints += [d['end_pos'] for d in chrom_deletions]\n",
    "    endpoints += [d['end_pos']-1 for d in chrom_deletions]\n",
    "    endpoints += [d['start_pos'] for d in chrom_notrans_deletions] \n",
    "    endpoints += [d['start_pos']-1 for d in chrom_notrans_deletions]\n",
    "    endpoints += [d['end_pos'] for d in chrom_notrans_deletions]\n",
    "    endpoints += [d['end_pos']-1 for d in chrom_notrans_deletions]\n",
    "    endpoints = sorted(set(endpoints))\n",
    "    endpoint_to_index = dict([(x, i) for i, x in enumerate(endpoints)])\n",
    "    \n",
    "    del_matrix = np.zeros((len(children), len(endpoints)), dtype=int)\n",
    "    for d in chrom_deletions:\n",
    "        del_matrix[child_to_index[d['child']], endpoint_to_index[d['start_pos']]:endpoint_to_index[d['end_pos']]] = 1\n",
    "    for d in chrom_notrans_deletions:\n",
    "        del_matrix[child_to_index[d['child']], endpoint_to_index[d['start_pos']]:endpoint_to_index[d['end_pos']]] = -1\n",
    "    del_matrices.append(del_matrix)\n",
    "    \n",
    "    del_matrix_ismat = np.zeros((len(children), len(endpoints)), dtype=int)\n",
    "    for d in chrom_deletions:\n",
    "        if d['is_mat']:\n",
    "            del_matrix_ismat[child_to_index[d['child']], endpoint_to_index[d['start_pos']]:endpoint_to_index[d['end_pos']]] = 1\n",
    "    for d in chrom_notrans_deletions:\n",
    "        if d['is_mat']:\n",
    "            del_matrix_ismat[child_to_index[d['child']], endpoint_to_index[d['start_pos']]:endpoint_to_index[d['end_pos']]] = -1\n",
    "    del_matrices_ismat.append(del_matrix_ismat)\n",
    "    \n",
    "    del_matrix_ispat = np.zeros((len(children), len(endpoints)), dtype=int)\n",
    "    for d in chrom_deletions:\n",
    "        if d['is_pat']:\n",
    "            del_matrix_ispat[child_to_index[d['child']], endpoint_to_index[d['start_pos']]:endpoint_to_index[d['end_pos']]] = 1\n",
    "    for d in chrom_notrans_deletions:\n",
    "        if d['is_pat']:\n",
    "            del_matrix_ispat[child_to_index[d['child']], endpoint_to_index[d['start_pos']]:endpoint_to_index[d['end_pos']]] = -1\n",
    "    del_matrices_ispat.append(del_matrix_ispat)\n",
    "    \n",
    "del_matrix = np.hstack(del_matrices)\n",
    "del_matrix_ismat = np.hstack(del_matrices_ismat)\n",
    "del_matrix_ispat = np.hstack(del_matrices_ispat)\n",
    "print(del_matrix.shape)"
   ]
  },
  {
   "cell_type": "code",
   "execution_count": null,
   "metadata": {},
   "outputs": [],
   "source": [
    "plt.figure(figsize=(15, 5))\n",
    "plt.imshow(del_matrix_ismat, aspect='auto')\n",
    "plt.show()"
   ]
  },
  {
   "cell_type": "code",
   "execution_count": null,
   "metadata": {},
   "outputs": [],
   "source": [
    "plt.figure(figsize=(15, 5))\n",
    "plt.imshow(del_matrix_ispat, aspect='auto')\n",
    "plt.show()"
   ]
  },
  {
   "cell_type": "code",
   "execution_count": null,
   "metadata": {},
   "outputs": [],
   "source": [
    "plt.figure(figsize=(15, 5))\n",
    "plt.hist(np.clip(np.sum((del_matrix==1), axis=0), None, 100), log=True, bins=np.arange(0, 200, 1), alpha=0.5)\n",
    "plt.hist(np.clip(np.sum((del_matrix==-1), axis=0), None, 100), log=True, bins=np.arange(0, 200, 1), alpha=0.5)\n",
    "plt.show()"
   ]
  },
  {
   "cell_type": "markdown",
   "metadata": {},
   "source": [
    "# Predict ASD"
   ]
  },
  {
   "cell_type": "code",
   "execution_count": null,
   "metadata": {},
   "outputs": [],
   "source": [
    "X = np.unique(del_matrix, axis=1)\n",
    "X = X[:, np.sum(X==1, axis=0)>5]\n",
    "print(X.shape)\n",
    "\n",
    "X_ismat = np.unique(del_matrix_ismat, axis=1)\n",
    "X_ismat = X_ismat[:, np.sum(X_ismat==1, axis=0)>5]\n",
    "print(X_ismat.shape)\n",
    "\n",
    "X_ispat = np.unique(del_matrix_ispat, axis=1)\n",
    "X_ispat = X_ispat[:, np.sum(X_ispat==1, axis=0)>5]\n",
    "print(X_ispat.shape)"
   ]
  },
  {
   "cell_type": "code",
   "execution_count": null,
   "metadata": {},
   "outputs": [],
   "source": [
    "plt.figure(figsize=(15, 5))\n",
    "plt.imshow(X_ismat, aspect='auto')\n",
    "plt.show()"
   ]
  },
  {
   "cell_type": "code",
   "execution_count": null,
   "metadata": {},
   "outputs": [],
   "source": [
    "y = np.array([child_id_to_affected[x]=='2' for x in children])"
   ]
  },
  {
   "cell_type": "code",
   "execution_count": null,
   "metadata": {},
   "outputs": [],
   "source": [
    "# try a permutation test\n",
    "\n",
    "num_permutations = 1000\n",
    "\n",
    "permute_pvalues = np.ones((X.shape[1], num_permutations))\n",
    "permute_pvalues_mat = np.ones((X_ismat.shape[1], num_permutations))\n",
    "permute_pvalues_pat = np.ones((X_ispat.shape[1], num_permutations))\n",
    "\n",
    "def calculate_pvalues(y):\n",
    "    c = np.array([[np.sum(X[y, :]==1, axis=0), \n",
    "                                      np.sum(X[~y, :]==1, axis=0)], \n",
    "                                     [np.sum(X[y, :]==-1, axis=0), \n",
    "                                      np.sum(X[~y, :]==-1, axis=0)]])\n",
    "    pvalues = np.ones((X.shape[1],))\n",
    "    for i in range(X.shape[1]):\n",
    "        try:\n",
    "            pvalues[i] = stats.chi2_contingency(c[:, :, i])[1]\n",
    "        except:\n",
    "            pass\n",
    "        \n",
    "    c = np.array([[np.sum(X[y, :]==1, axis=0), \n",
    "                                      np.sum(X_ismat[~y, :]==1, axis=0)], \n",
    "                                     [np.sum(X_ismat[y, :]==-1, axis=0), \n",
    "                                      np.sum(X_ismat[~y, :]==-1, axis=0)]])\n",
    "    mat_pvalues = np.ones((X_ismat.shape[1],))\n",
    "    for i in range(X_ismat.shape[1]):\n",
    "        try:\n",
    "            mat_pvalues[i] = stats.chi2_contingency(c[:, :, i])[1]\n",
    "        except:\n",
    "            pass\n",
    "        \n",
    "    c = np.array([[np.sum(X_ispat[y, :]==1, axis=0), \n",
    "                                      np.sum(X_ispat[~y, :]==1, axis=0)], \n",
    "                                     [np.sum(X_ispat[y, :]==-1, axis=0), \n",
    "                                      np.sum(X_ispat[~y, :]==-1, axis=0)]])\n",
    "    \n",
    "    pat_pvalues = np.ones((X_ispat.shape[1],))\n",
    "    for i in range(X_ispat.shape[1]):\n",
    "        try:\n",
    "            pat_pvalues[i] = stats.chi2_contingency(c[:, :, i])[1]\n",
    "        except:\n",
    "            pass\n",
    "    \n",
    "    return pvalues, mat_pvalues, pat_pvalues\n",
    "    \n",
    "permute_y = np.zeros((len(children),), dtype=bool)\n",
    "for j in range(num_permutations):\n",
    "    [random.shuffle(p) for c, p in children_phens]\n",
    "    for fam_children, phens in children_phens:\n",
    "        for child, new_phen in zip(fam_children, phens):\n",
    "            permute_y[child_to_index[child]] = (new_phen=='2')\n",
    "            \n",
    "    permute_pvalues[:, j], permute_pvalues_mat[:, j], permute_pvalues_pat[:, j] = calculate_pvalues(permute_y)\n",
    "        \n",
    "            \n",
    "    if j%100==0:\n",
    "        print(j, end=' ')\n",
    "    \n",
    "        "
   ]
  },
  {
   "cell_type": "code",
   "execution_count": null,
   "metadata": {},
   "outputs": [],
   "source": [
    "unadj_pvalues, unadj_pvalues_mat, unadj_pvalues_pat = calculate_pvalues(y)\n",
    "indices = np.argsort(unadj_pvalues)\n",
    "indices_mat = np.argsort(unadj_pvalues_mat)\n",
    "indices_pat = np.argsort(unadj_pvalues_pat)\n",
    "\n",
    "pi = np.ones((X.shape[1], 3))\n",
    "\n",
    "min_pvalues = np.min(permute_pvalues, axis=0)\n",
    "min_pvalues_mat = np.min(permute_pvalues_mat, axis=0)\n",
    "min_pvalues_pat = np.min(permute_pvalues_pat, axis=0)\n",
    "pi[0, 0] = np.sum(min_pvalues <= unadj_pvalues[indices[0]])/num_permutations\n",
    "pi[0, 1] = np.sum(min_pvalues_mat <= unadj_pvalues_mat[indices_mat[0]])/num_permutations\n",
    "pi[0, 2] = np.sum(min_pvalues_pat <= unadj_pvalues_pat[indices_pat[0]])/num_permutations\n",
    "for i in range(1, 20):\n",
    "    min_pvalues = np.min(permute_pvalues[indices>=i, :], axis=0)\n",
    "    min_pvalues_mat = np.min(permute_pvalues_mat[indices_mat>=i, :], axis=0)\n",
    "    min_pvalues_pat = np.min(permute_pvalues_pat[indices_pat>=i, :], axis=0)\n",
    "    pi[i, 0] = max(pi[i-1, 0], np.sum(min_pvalues <= unadj_pvalues[indices[i]])/num_permutations)\n",
    "    pi[i, 1] = max(pi[i-1, 1], np.sum(min_pvalues_mat <= unadj_pvalues_mat[indices_mat[i]])/num_permutations)\n",
    "    pi[i, 2] = max(pi[i-1, 2], np.sum(min_pvalues_pat <= unadj_pvalues_pat[indices_pat[i]])/num_permutations)\n",
    "    \n",
    "    if i%10==0:\n",
    "        print(i, '/', 20)\n"
   ]
  },
  {
   "cell_type": "code",
   "execution_count": null,
   "metadata": {},
   "outputs": [],
   "source": [
    "print(pi[:20])"
   ]
  },
  {
   "cell_type": "code",
   "execution_count": null,
   "metadata": {},
   "outputs": [],
   "source": [
    "pvalues = np.ones((X.shape[1],))\n",
    "\n",
    "perm_pvalues = np.ones((X.shape[1],))\n",
    "for i in range(X.shape[1]):\n",
    "    perm_pvalues[i] = np.sum(permute_pvalues[i, :]<=unadj_pvalues[i])/num_permutations\n",
    "    \n",
    "\n",
    "    \n",
    "plt.hist(-np.log10(perm_pvalues), alpha=0.5, bins=np.arange(0.1, 3, 0.1))\n",
    "#plt.hist(-np.log10(unadj_pvalues), alpha=0.5, bins=np.arange(0, 3, 0.1))\n",
    "plt.axvline(-np.log10(0.05), color='black', linestyle='--')\n",
    "plt.show()"
   ]
  },
  {
   "cell_type": "markdown",
   "metadata": {},
   "source": [
    "# try GLRM using G + P"
   ]
  },
  {
   "cell_type": "code",
   "execution_count": null,
   "metadata": {},
   "outputs": [],
   "source": [
    "phen_data = np.zeros((len(children), 40))\n",
    "with open('../phenotypes/spark/scq.csv', 'r') as f:\n",
    "    header = next(f).split(',')\n",
    "    for line in f:\n",
    "        pieces = line.strip().split(',')\n",
    "        if pieces[0] in child_to_index:\n",
    "            child_index = child_to_index[pieces[0]]\n",
    "            phen_data[child_index, :] = [1 if x=='1' else -1 if x=='0' else 0 for x in pieces[11:51]]"
   ]
  },
  {
   "cell_type": "code",
   "execution_count": null,
   "metadata": {},
   "outputs": [],
   "source": [
    "phen_data[phen_data==0] = np.nan"
   ]
  },
  {
   "cell_type": "code",
   "execution_count": null,
   "metadata": {},
   "outputs": [],
   "source": [
    "from pyglrm import glrm, observations\n",
    "g = glrm(n_components=2)\n",
    "g.fit_impute(A)\n",
    "g.get_hyperprams()"
   ]
  },
  {
   "cell_type": "code",
   "execution_count": null,
   "metadata": {},
   "outputs": [],
   "source": []
  }
 ],
 "metadata": {
  "kernelspec": {
   "display_name": "Python 3",
   "language": "python",
   "name": "python3"
  },
  "language_info": {
   "codemirror_mode": {
    "name": "ipython",
    "version": 3
   },
   "file_extension": ".py",
   "mimetype": "text/x-python",
   "name": "python",
   "nbconvert_exporter": "python",
   "pygments_lexer": "ipython3",
   "version": "3.7.3"
  }
 },
 "nbformat": 4,
 "nbformat_minor": 2
}
