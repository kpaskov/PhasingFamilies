{
 "cells": [
  {
   "cell_type": "code",
   "execution_count": 21,
   "metadata": {},
   "outputs": [
    {
     "name": "stdout",
     "output_type": "stream",
     "text": [
      "(10000, 2) [[        2  74254374]\n",
      " [        5 100848386]\n",
      " [        4  69033052]\n",
      " ...\n",
      " [        1 195245236]\n",
      " [        6  24087753]\n",
      " [        3  44935109]]\n",
      "(10000,)\n",
      "[[        1    720468]\n",
      " [        1    728242]\n",
      " [        1    814813]\n",
      " ...\n",
      " [        9 141051632]\n",
      " [        9 141087372]\n",
      " [        9 141109979]]\n",
      "9\n"
     ]
    }
   ],
   "source": [
    "import pickle\n",
    "import numpy as np\n",
    "\n",
    "coordinates = np.asarray([tuple(map(int, x.decode('UTF-8').split('-'))) for x in pickle.load( open( \"bootstrap/1e4_bootstrap/0.pkl\", \"rb\" ))], dtype=int)\n",
    "ind = np.lexsort((coordinates[:, 1], coordinates[:, 0]))\n",
    "print(coordinates.shape, coordinates)\n",
    "print(ind.shape)\n",
    "print(coordinates[ind, :])\n",
    "print(np.max(coordinates[:, 0]))"
   ]
  },
  {
   "cell_type": "code",
   "execution_count": 27,
   "metadata": {},
   "outputs": [
    {
     "name": "stdout",
     "output_type": "stream",
     "text": [
      "(1707845, 3) [[      20    60097        1]\n",
      " [      20    60175        1]\n",
      " [      20    60309        1]\n",
      " ...\n",
      " [      20 62965480        1]\n",
      " [      20 62965513        1]\n",
      " [      20 62965516        1]]\n"
     ]
    }
   ],
   "source": [
    "import gzip\n",
    "with gzip.open('../split_gen_miss/chr.20.gen.variants.txt.gz', 'rt') as f:\n",
    "    chrom_coord = []\n",
    "    for line in f:\n",
    "        chrom, pos, _, ref, alt = line.strip().split('\\t', maxsplit=5)[:5]\n",
    "        is_biallelic_snp = 1 if len(ref) == 1 and len(alt) == 1 and ref != '.' and alt != '.' else 0\n",
    "        chrom_coord.append((int(chrom), int(pos), is_biallelic_snp))\n",
    "        \n",
    "chrom_coord = np.asarray(chrom_coord, dtype=int)\n",
    "np.save('chr.20.gen.coordinates', chrom_coord)\n",
    "print(chrom_coord.shape, chrom_coord)"
   ]
  },
  {
   "cell_type": "code",
   "execution_count": null,
   "metadata": {
    "collapsed": true
   },
   "outputs": [],
   "source": []
  }
 ],
 "metadata": {
  "kernelspec": {
   "display_name": "Python 3",
   "language": "python",
   "name": "python3"
  },
  "language_info": {
   "codemirror_mode": {
    "name": "ipython",
    "version": 3
   },
   "file_extension": ".py",
   "mimetype": "text/x-python",
   "name": "python",
   "nbconvert_exporter": "python",
   "pygments_lexer": "ipython3",
   "version": "3.6.1"
  }
 },
 "nbformat": 4,
 "nbformat_minor": 2
}
