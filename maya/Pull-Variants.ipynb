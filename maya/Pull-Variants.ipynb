{
 "cells": [
  {
   "cell_type": "code",
   "execution_count": 57,
   "metadata": {},
   "outputs": [],
   "source": [
    "import pickle\n",
    "import numpy as np\n",
    "from scipy import sparse\n",
    "from os import listdir\n",
    "\n",
    "# Read in variant coordinates\n",
    "coord_file = 'bootstrap/1e4_bootstrap/0.pkl'\n",
    "coordinates = np.asarray([tuple(map(int, x.decode('UTF-8').split('-'))) for x in pickle.load(open(coord_file, 'rb'))], dtype=int)\n",
    "coordinates = coordinates[coordinates[:, 0] >= 21, :]\n",
    "\n",
    "order_indices = np.lexsort((coordinates[:, 1], coordinates[:, 0]))\n",
    "#print(coordinates.shape, coordinates)\n",
    "#print(coordinates[order_indices, :])"
   ]
  },
  {
   "cell_type": "code",
   "execution_count": 55,
   "metadata": {},
   "outputs": [
    {
     "name": "stdout",
     "output_type": "stream",
     "text": [
      "21 (4610, 1153632)\n",
      "22 (4610, 1096535)\n",
      "(4610, 741)\n"
     ]
    },
    {
     "ename": "NameError",
     "evalue": "name 'full_matrix' is not defined",
     "output_type": "error",
     "traceback": [
      "\u001b[0;31m---------------------------------------------------------------------------\u001b[0m",
      "\u001b[0;31mNameError\u001b[0m                                 Traceback (most recent call last)",
      "\u001b[0;32m<ipython-input-55-bef64337be8f>\u001b[0m in \u001b[0;36m<module>\u001b[0;34m()\u001b[0m\n\u001b[1;32m     29\u001b[0m \u001b[0mrandom_full_coords\u001b[0m \u001b[0;34m=\u001b[0m \u001b[0mordered_full_coords\u001b[0m\u001b[0;34m[\u001b[0m\u001b[0mreverse_order_indices\u001b[0m\u001b[0;34m,\u001b[0m \u001b[0;34m:\u001b[0m\u001b[0;34m]\u001b[0m\u001b[0;34m\u001b[0m\u001b[0m\n\u001b[1;32m     30\u001b[0m \u001b[0mrandom_full_matrix\u001b[0m \u001b[0;34m=\u001b[0m \u001b[0mordered_full_matrix\u001b[0m\u001b[0;34m[\u001b[0m\u001b[0;34m:\u001b[0m\u001b[0;34m,\u001b[0m \u001b[0mreverse_order_indices\u001b[0m\u001b[0;34m]\u001b[0m\u001b[0;34m\u001b[0m\u001b[0m\n\u001b[0;32m---> 31\u001b[0;31m \u001b[0mprint\u001b[0m\u001b[0;34m(\u001b[0m\u001b[0mfull_matrix\u001b[0m\u001b[0;34m.\u001b[0m\u001b[0mshape\u001b[0m\u001b[0;34m)\u001b[0m\u001b[0;34m\u001b[0m\u001b[0m\n\u001b[0m",
      "\u001b[0;31mNameError\u001b[0m: name 'full_matrix' is not defined"
     ]
    }
   ],
   "source": [
    "data_dir = '../split_gen_miss'\n",
    "\n",
    "subcoordinates = []\n",
    "submatrices = []\n",
    "for chrom in range(21, 23):\n",
    "\n",
    "    # pull coordinates for chromosome\n",
    "    chrom_coords = np.load('%s/chr.%d.gen.coordinates.npy' %(data_dir, chrom))\n",
    "    to_find = coordinates[order_indices, :]\n",
    "    to_find = to_find[to_find[:, 0]==chrom, :]\n",
    "    #print(chrom_coords.shape, to_find.shape)\n",
    "\n",
    "    # find indices of the variants we're looking for on this chromosome\n",
    "    pull_indices = np.searchsorted(chrom_coords[:, 1], to_find[:, 1])\n",
    "    #print(np.hstack((to_find, chrom_coords[pull_indices, :])))\n",
    "\n",
    "    # load genotype data from .npz\n",
    "    gen_files = sorted([f for f in listdir(data_dir) if ('chr.%s' % chrom) in f and 'gen.npz' in f])\n",
    "    whole_chrom = sparse.hstack([sparse.load_npz('%s/%s' % (data_dir, gen_file)) for gen_file in gen_files])\n",
    "    print(chrom, whole_chrom.shape)\n",
    "    \n",
    "    subcoordinates.append(chrom_coords[pull_indices, :])\n",
    "    submatrices.append(whole_chrom[:, pull_indices])\n",
    "\n",
    "ordered_full_coords = np.vstack(subcoordinates)\n",
    "ordered_full_matrix = sparse.hstack(submatrices)\n",
    "print(ordered_full_matrix.shape)\n",
    "\n",
    "reverse_order_indices = np.argsort(order_indices)\n",
    "random_full_coords = ordered_full_coords[reverse_order_indices, :]\n",
    "random_full_matrix = ordered_full_matrix[:, reverse_order_indices]\n",
    "#print(ordered_full_matrix.shape)\n",
    "#print(np.hstack((coordinates, random_full_coords)))"
   ]
  },
  {
   "cell_type": "code",
   "execution_count": 59,
   "metadata": {},
   "outputs": [],
   "source": [
    "sparse.save_npz(coord_file[:-3] + 'iHART', random_full_matrix)"
   ]
  },
  {
   "cell_type": "code",
   "execution_count": null,
   "metadata": {
    "collapsed": true
   },
   "outputs": [],
   "source": []
  }
 ],
 "metadata": {
  "kernelspec": {
   "display_name": "Python 3",
   "language": "python",
   "name": "python3"
  },
  "language_info": {
   "codemirror_mode": {
    "name": "ipython",
    "version": 3
   },
   "file_extension": ".py",
   "mimetype": "text/x-python",
   "name": "python",
   "nbconvert_exporter": "python",
   "pygments_lexer": "ipython3",
   "version": "3.6.1"
  }
 },
 "nbformat": 4,
 "nbformat_minor": 2
}
