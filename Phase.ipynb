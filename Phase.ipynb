{
 "cells": [
  {
   "cell_type": "code",
   "execution_count": 3,
   "metadata": {
    "collapsed": true
   },
   "outputs": [],
   "source": [
    "from collections import defaultdict\n",
    "# Classes\n",
    "class Individual:\n",
    "    def __init__(self, ind_id):\n",
    "        self.id = ind_id\n",
    "        self.vcf_index = None\n",
    "        self.autism_status = None\n",
    "        self.sex = None\n",
    "\n",
    "    def __repr__(self):\n",
    "        return '%s' % self.id\n",
    "\n",
    "class Family:\n",
    "\n",
    "    def __init__(self):\n",
    "        self.parents_to_children = defaultdict(list) # (mother_id, father_id) -> [child1, child2, ...]\n",
    "        self.members = {}\n",
    "\n",
    "    def add_trio(self, child_id, mother_id, father_id, child_autism_status, child_sex):\n",
    "        if child_id not in self.members:\n",
    "            self.members[child_id] = Individual(child_id)\n",
    "            self.members[child_id].autism_status = child_autism_status\n",
    "            self.members[child_id].sex = child_sex\n",
    "        child = self.members[child_id]\n",
    "        if mother_id not in self.members:\n",
    "            self.members[mother_id] = Individual(mother_id)\n",
    "        mother = self.members[mother_id]\n",
    "        if father_id not in self.members:\n",
    "            self.members[father_id] = Individual(father_id)\n",
    "        father = self.members[father_id]\n",
    "\n",
    "        self.parents_to_children[(mother_id, father_id)].append(child_id)\n",
    "\n",
    "    def add_vcf_index(self, ind_id, vcf_index):\n",
    "        if ind_id in self.members:\n",
    "            self.members[ind_id].vcf_index = vcf_index\n",
    "            \n",
    "    def get_ordered_member_ids(self):\n",
    "        ordered_member_ids = []\n",
    "        for (mother_id, father_id), child_ids in self.parents_to_children.items():\n",
    "            ordered_member_ids.extend([mother_id, father_id] + child_ids)\n",
    "        ordered_member_ids = [x for x in ordered_member_ids if self.members[x].vcf_index is not None]\n",
    "        return ordered_member_ids\n",
    "\n",
    "    def get_info(self):\n",
    "        ordered_member_ids = self.get_ordered_member_ids()\n",
    "        return [(self.members[ind_id].autism_status, self.members[ind_id].sex) for ind_id in ordered_member_ids]\n",
    "    \n",
    "    def get_vcf_indices(self):\n",
    "        ordered_member_ids = self.get_ordered_member_ids()\n",
    "        return [self.members[ind_id].vcf_index for ind_id in ordered_member_ids if self.members[ind_id].vcf_index is not None]"
   ]
  },
  {
   "cell_type": "code",
   "execution_count": 4,
   "metadata": {
    "collapsed": true
   },
   "outputs": [],
   "source": [
    "import numpy as np\n",
    "\n",
    "# Mappings\n",
    "phase_map = {\n",
    "    (0, 0, 0): (0, 0, 0, 0),\n",
    "    (0, 0, 1): (0, 0, 0, 0), # non-mendelian\n",
    "    (0, 0, 2): (0, 0, 0, 0), # non-mendelian\n",
    "    (0, 1, 0): (0, 0, 0, 1),\n",
    "    (0, 1, 1): (0, 0, 1, 0),\n",
    "    (0, 1, 2): (0, 0, 1, 0), # non-mendelian\n",
    "    (0, 2, 0): (0, 0, 0, 1), # non-mendelian\n",
    "    (0, 2, 1): (0, 0, 1, 1),\n",
    "    (0, 2, 2): (0, 0, 1, 1), # non-mendelian\n",
    "    (1, 0, 0): (0, 1, 0, 0),\n",
    "    (1, 0, 1): (1, 0, 0, 0),\n",
    "    (1, 0, 2): (1, 0, 0, 0), # non-mendelian\n",
    "    (1, 1, 0): (0, 1, 0, 1),\n",
    "    (1, 1, 1): (0, 0, 0, 0), # unknown phase\n",
    "    (1, 1, 2): (1, 0, 1, 0),\n",
    "    (1, 2, 0): (0, 1, 0, 1), # non-mendelian\n",
    "    (1, 2, 1): (0, 1, 1, 1),\n",
    "    (1, 2, 2): (1, 0, 1, 1),\n",
    "    (2, 0, 0): (0, 1, 0, 0), # non-mendelian\n",
    "    (2, 0, 1): (1, 1, 0, 0),\n",
    "    (2, 0, 2): (1, 1, 0, 0), # non-mendelian\n",
    "    (2, 1, 0): (0, 1, 0, 1), # non-mendelian\n",
    "    (2, 1, 1): (1, 1, 0, 1),\n",
    "    (2, 1, 2): (1, 1, 1, 0),\n",
    "    (2, 2, 0): (1, 1, 1, 1), # non-mendelian\n",
    "    (2, 2, 1): (1, 1, 1, 1), # non-mendelian\n",
    "    (2, 2, 2): (1, 1, 1, 1),\n",
    "}\n"
   ]
  },
  {
   "cell_type": "code",
   "execution_count": 5,
   "metadata": {},
   "outputs": [
    {
     "name": "stdout",
     "output_type": "stream",
     "text": [
      "Num families: 756\n",
      "Num families with genomic data: 756\n"
     ]
    },
    {
     "ename": "IndexError",
     "evalue": "list index out of range",
     "output_type": "error",
     "traceback": [
      "\u001b[0;31m---------------------------------------------------------------------------\u001b[0m",
      "\u001b[0;31mIndexError\u001b[0m                                Traceback (most recent call last)",
      "\u001b[0;32m<ipython-input-5-810bc929b163>\u001b[0m in \u001b[0;36m<module>\u001b[0;34m()\u001b[0m\n\u001b[1;32m     50\u001b[0m     \u001b[0mconverter\u001b[0m \u001b[0;34m=\u001b[0m \u001b[0;32mlambda\u001b[0m \u001b[0mgen\u001b[0m\u001b[0;34m:\u001b[0m\u001b[0mgen_mapping\u001b[0m\u001b[0;34m[\u001b[0m\u001b[0mgen\u001b[0m\u001b[0;34m[\u001b[0m\u001b[0;34m:\u001b[0m\u001b[0;36m3\u001b[0m\u001b[0;34m]\u001b[0m\u001b[0;34m]\u001b[0m\u001b[0;34m\u001b[0m\u001b[0m\n\u001b[1;32m     51\u001b[0m     \u001b[0mvcf_indices\u001b[0m \u001b[0;34m=\u001b[0m \u001b[0mrange\u001b[0m\u001b[0;34m(\u001b[0m\u001b[0;36m9\u001b[0m\u001b[0;34m,\u001b[0m \u001b[0mn\u001b[0m\u001b[0;34m+\u001b[0m\u001b[0;36m9\u001b[0m\u001b[0;34m)\u001b[0m\u001b[0;34m\u001b[0m\u001b[0m\n\u001b[0;32m---> 52\u001b[0;31m     \u001b[0mdata\u001b[0m \u001b[0;34m=\u001b[0m \u001b[0mnp\u001b[0m\u001b[0;34m.\u001b[0m\u001b[0mloadtxt\u001b[0m\u001b[0;34m(\u001b[0m\u001b[0mf\u001b[0m\u001b[0;34m,\u001b[0m \u001b[0mdtype\u001b[0m\u001b[0;34m=\u001b[0m\u001b[0mnp\u001b[0m\u001b[0;34m.\u001b[0m\u001b[0mint8\u001b[0m\u001b[0;34m,\u001b[0m \u001b[0mconverters\u001b[0m\u001b[0;34m=\u001b[0m\u001b[0mdict\u001b[0m\u001b[0;34m(\u001b[0m\u001b[0mzip\u001b[0m\u001b[0;34m(\u001b[0m\u001b[0mvcf_indices\u001b[0m\u001b[0;34m,\u001b[0m \u001b[0;34m[\u001b[0m\u001b[0mconverter\u001b[0m\u001b[0;34m]\u001b[0m\u001b[0;34m*\u001b[0m\u001b[0mn\u001b[0m\u001b[0;34m)\u001b[0m\u001b[0;34m)\u001b[0m\u001b[0;34m,\u001b[0m \u001b[0mdelimiter\u001b[0m\u001b[0;34m=\u001b[0m\u001b[0;34m'\\t'\u001b[0m\u001b[0;34m,\u001b[0m \u001b[0musecols\u001b[0m\u001b[0;34m=\u001b[0m\u001b[0mvcf_indices\u001b[0m\u001b[0;34m)\u001b[0m\u001b[0;34m.\u001b[0m\u001b[0mT\u001b[0m\u001b[0;34m\u001b[0m\u001b[0m\n\u001b[0m\u001b[1;32m     53\u001b[0m \u001b[0;34m\u001b[0m\u001b[0m\n\u001b[1;32m     54\u001b[0m \u001b[0mprint\u001b[0m\u001b[0;34m(\u001b[0m\u001b[0;34m'Full dataset'\u001b[0m\u001b[0;34m,\u001b[0m \u001b[0mdata\u001b[0m\u001b[0;34m.\u001b[0m\u001b[0mshape\u001b[0m\u001b[0;34m)\u001b[0m\u001b[0;34m\u001b[0m\u001b[0m\n",
      "\u001b[0;32m//anaconda/lib/python3.6/site-packages/numpy/lib/npyio.py\u001b[0m in \u001b[0;36mloadtxt\u001b[0;34m(fname, dtype, comments, delimiter, converters, skiprows, usecols, unpack, ndmin)\u001b[0m\n\u001b[1;32m    976\u001b[0m                 \u001b[0;32mcontinue\u001b[0m\u001b[0;34m\u001b[0m\u001b[0m\n\u001b[1;32m    977\u001b[0m             \u001b[0;32mif\u001b[0m \u001b[0musecols\u001b[0m\u001b[0;34m:\u001b[0m\u001b[0;34m\u001b[0m\u001b[0m\n\u001b[0;32m--> 978\u001b[0;31m                 \u001b[0mvals\u001b[0m \u001b[0;34m=\u001b[0m \u001b[0;34m[\u001b[0m\u001b[0mvals\u001b[0m\u001b[0;34m[\u001b[0m\u001b[0mi\u001b[0m\u001b[0;34m]\u001b[0m \u001b[0;32mfor\u001b[0m \u001b[0mi\u001b[0m \u001b[0;32min\u001b[0m \u001b[0musecols\u001b[0m\u001b[0;34m]\u001b[0m\u001b[0;34m\u001b[0m\u001b[0m\n\u001b[0m\u001b[1;32m    979\u001b[0m             \u001b[0;32mif\u001b[0m \u001b[0mlen\u001b[0m\u001b[0;34m(\u001b[0m\u001b[0mvals\u001b[0m\u001b[0;34m)\u001b[0m \u001b[0;34m!=\u001b[0m \u001b[0mN\u001b[0m\u001b[0;34m:\u001b[0m\u001b[0;34m\u001b[0m\u001b[0m\n\u001b[1;32m    980\u001b[0m                 \u001b[0mline_num\u001b[0m \u001b[0;34m=\u001b[0m \u001b[0mi\u001b[0m \u001b[0;34m+\u001b[0m \u001b[0mskiprows\u001b[0m \u001b[0;34m+\u001b[0m \u001b[0;36m1\u001b[0m\u001b[0;34m\u001b[0m\u001b[0m\n",
      "\u001b[0;32m//anaconda/lib/python3.6/site-packages/numpy/lib/npyio.py\u001b[0m in \u001b[0;36m<listcomp>\u001b[0;34m(.0)\u001b[0m\n\u001b[1;32m    976\u001b[0m                 \u001b[0;32mcontinue\u001b[0m\u001b[0;34m\u001b[0m\u001b[0m\n\u001b[1;32m    977\u001b[0m             \u001b[0;32mif\u001b[0m \u001b[0musecols\u001b[0m\u001b[0;34m:\u001b[0m\u001b[0;34m\u001b[0m\u001b[0m\n\u001b[0;32m--> 978\u001b[0;31m                 \u001b[0mvals\u001b[0m \u001b[0;34m=\u001b[0m \u001b[0;34m[\u001b[0m\u001b[0mvals\u001b[0m\u001b[0;34m[\u001b[0m\u001b[0mi\u001b[0m\u001b[0;34m]\u001b[0m \u001b[0;32mfor\u001b[0m \u001b[0mi\u001b[0m \u001b[0;32min\u001b[0m \u001b[0musecols\u001b[0m\u001b[0;34m]\u001b[0m\u001b[0;34m\u001b[0m\u001b[0m\n\u001b[0m\u001b[1;32m    979\u001b[0m             \u001b[0;32mif\u001b[0m \u001b[0mlen\u001b[0m\u001b[0;34m(\u001b[0m\u001b[0mvals\u001b[0m\u001b[0;34m)\u001b[0m \u001b[0;34m!=\u001b[0m \u001b[0mN\u001b[0m\u001b[0;34m:\u001b[0m\u001b[0;34m\u001b[0m\u001b[0m\n\u001b[1;32m    980\u001b[0m                 \u001b[0mline_num\u001b[0m \u001b[0;34m=\u001b[0m \u001b[0mi\u001b[0m \u001b[0;34m+\u001b[0m \u001b[0mskiprows\u001b[0m \u001b[0;34m+\u001b[0m \u001b[0;36m1\u001b[0m\u001b[0;34m\u001b[0m\u001b[0m\n",
      "\u001b[0;31mIndexError\u001b[0m: list index out of range"
     ]
    }
   ],
   "source": [
    "# load data\n",
    "import time\n",
    "import gzip\n",
    "import matplotlib.pyplot as plt\n",
    "\n",
    "# Pull arguments\n",
    "vcf_file = 'v34.22.vcf.gz'\n",
    "#vcf_file = 'v34.MT.vcf.gz'\n",
    "ped_file = 'data/v34.forCompoundHet.ped'\n",
    "\n",
    "start_time = time.time()\n",
    "\n",
    "# Pull family structure from ped file\n",
    "families = {}\n",
    "member_to_family = {}\n",
    "with open(ped_file, 'r') as f:\n",
    "    for line in f:\n",
    "        pieces = line.strip().split('\\t')\n",
    "        fam_id, child_id, father_id, mother_id = pieces[0:4]\n",
    "        if fam_id not in families:\n",
    "            families[fam_id] = Family()\n",
    "        families[fam_id].add_trio(child_id, mother_id, father_id, \n",
    "                                  'Autism' if pieces[5]=='2' else 'Control', \n",
    "                                  'Male' if pieces[4]=='1' else 'Female')\n",
    "        member_to_family[child_id] = fam_id\n",
    "        member_to_family[mother_id] = fam_id\n",
    "        member_to_family[father_id] = fam_id\n",
    "print('Num families:', len(families))\n",
    "\n",
    "# Pull data from vcf\n",
    "with gzip.open(vcf_file, 'rt') as f:\n",
    "    line = next(f)\n",
    "    while line.startswith('##'):\n",
    "        line = next(f)\n",
    "\n",
    "    # Pull header and add vcf indices\n",
    "    pieces = line.strip().split('\\t')\n",
    "    for i, ind_id in enumerate(pieces[9:]):\n",
    "        if ind_id in member_to_family:\n",
    "            families[member_to_family[ind_id]].add_vcf_index(ind_id, i)\n",
    "    line = next(f)\n",
    "    \n",
    "    # Remove families not included in vcf\n",
    "    families = dict([(i, x) for i, x in families.items() if len(x.get_vcf_indices()) > 0])\n",
    "    print('Num families with genomic data:', len(families))\n",
    "    \n",
    "    # Load genotypes into numpy arrays\n",
    "    n = len(pieces)-9\n",
    "    gen_mapping = {b'./.': -1, b'0/0': 0, b'0/1': 1, b'1/0': 1, b'1/1': 2}\n",
    "    converter = lambda gen:gen_mapping[gen[:3]]\n",
    "    vcf_indices = range(9, n+9)\n",
    "    data = np.loadtxt(f, dtype=np.int8, converters=dict(zip(vcf_indices, [converter]*n)), delimiter='\\t', usecols=vcf_indices).T\n",
    "\n",
    "print('Full dataset', data.shape)"
   ]
  },
  {
   "cell_type": "code",
   "execution_count": 44,
   "metadata": {
    "collapsed": true
   },
   "outputs": [],
   "source": [
    "from itertools import product\n",
    "\n",
    "\n",
    "def rough_phase(data, child_index=2, phase_map=phase_map):\n",
    "    return np.apply_along_axis(lambda x: phase_map[(x[0], x[1], x[child_index])], 0, data)\n",
    "\n",
    "\n",
    "def phase(data, X, Y):\n",
    "    m, _, n = X.shape\n",
    "    all_combinations = np.array(list(product([0, 1], repeat=4))).T\n",
    "    for i in range(n):\n",
    "        diff = np.repeat(data[:, i].reshape((m, 1)), 16, axis=1) - X[:, :, i].dot(all_combinations)\n",
    "        index = np.argmin(np.sum(np.abs(diff), axis=0))\n",
    "        Y[:, i] = all_combinations[:, index]\n",
    "\n",
    "\n",
    "def to_genotype(X, Y):\n",
    "    m, _, n = X.shape\n",
    "    genotype = np.zeros((m, n), dtype=np.int8)\n",
    "    for i in range(m):\n",
    "        genotype[i, :] = np.sum(X[i, :, :]*Y, axis=0) \n",
    "    return genotype"
   ]
  },
  {
   "cell_type": "code",
   "execution_count": 45,
   "metadata": {
    "collapsed": true
   },
   "outputs": [],
   "source": [
    "def detect_recombination(data, X, Y, switch_cost=50):\n",
    "    m, n = data.shape\n",
    "\n",
    "    X[0, 0, :] = X[0, 1, :] = 1 # Mom always has m1, m2\n",
    "    X[1, 2, :] = X[1, 3, :] = 1 # Dad always has p1, p2\n",
    "    X[2:m, :] = 0 # Reset all children\n",
    "    #X[2, 0, :] = X[2, 2, :] = 1 # Child1 always has m1, p1\n",
    "\n",
    "    # genotype possibilities for children\n",
    "    # m1p1, m1p2, m2p1, m2p2\n",
    "    Z = np.array([1, 0, 1, 0, \n",
    "                  1, 0, 0, 1, \n",
    "                  0, 1, 1, 0, \n",
    "                  0, 1, 0, 1]).reshape(4, 4).dot(Y)\n",
    "    transition_costs = np.array([0, 1, 1, 2,\n",
    "                                 1, 0, 2, 1,\n",
    "                                 1, 2, 0, 1,\n",
    "                                 2, 1, 1, 0]).reshape(4, 4)*switch_cost\n",
    "    index_to_indices = [(0, 2), (0, 3), (1, 2), (1, 3)]\n",
    "    \n",
    "    for i in range(2, m):\n",
    "        # for each child\n",
    "        \n",
    "        # Forward sweep\n",
    "        dp_cost = np.zeros((4, n+1), dtype=np.int)\n",
    "        dp_arrow = np.zeros((4, n+1), dtype=np.int8)\n",
    "        dp_arrow[:, 0] = -1\n",
    "\n",
    "        \n",
    "        for j in range(n):  \n",
    "            # costs is a 4x4 matrix representing the cost of transitioning from i -> j         \n",
    "            costs = np.repeat(dp_cost[:, j].reshape((4, 1)), 4, axis=1) # cost of i\n",
    "            costs += transition_costs # transition cost\n",
    "            costs += np.abs(data[i, j] - np.repeat(Z[:, j].reshape((1, 4)), 4, axis=0)) # cost of j\n",
    "\n",
    "            dp_arrow[:, j+1] = np.argmin(costs, axis=0)\n",
    "            dp_cost[:, j+1] = np.min(costs, axis=0)\n",
    "            \n",
    "        # Backward sweep\n",
    "        index = n\n",
    "        k = np.argmin(dp_cost[:, index])\n",
    "        while index > 0:\n",
    "            X[i, index_to_indices[k], index-1] = 1\n",
    "            k = dp_arrow[k, index]\n",
    "            index -= 1"
   ]
  },
  {
   "cell_type": "markdown",
   "metadata": {},
   "source": [
    "# Viterbi"
   ]
  },
  {
   "cell_type": "code",
   "execution_count": null,
   "metadata": {
    "collapsed": true
   },
   "outputs": [],
   "source": [
    "import numpy as np\n",
    "\n",
    "family_id = 'AU3368'\n",
    "chrom = '22'\n",
    "with open('split_gen/chr.%s.gen.samples.txt' % chrom, 'r') as f:\n",
    "    ind_to_index = dict([(line.strip(), i) for i, line in enumerate(f)])\n",
    "    \n",
    "mother_index = None\n",
    "father_index = None\n",
    "child_indices = []\n",
    "with open('data/v34.forCompoundHet.ped', 'r') as f:\n",
    "    for line in f:\n",
    "        pieces = line.strip().split('\\t')\n",
    "        fam_id, child_id, father_id, mother_id = pieces[0:4]\n",
    "        if fam_id == family_id:\n",
    "            mother_index = ind_to_index[mother_id]\n",
    "            father_index = ind_to_index[father_id]\n",
    "            child_indices.append(ind_to_index[child_id])\n",
    "family_indices = [mother_index, father_index] + child_indices\n",
    "print(family_indices)"
   ]
  },
  {
   "cell_type": "code",
   "execution_count": null,
   "metadata": {
    "collapsed": true
   },
   "outputs": [],
   "source": [
    "from scipy import sparse\n",
    "\n",
    "# Pull data from .npz\n",
    "whole_chrom = sparse.load_npz('split_gen/chr.%s.gen.npz' % chrom)\n",
    "m, n = whole_chrom.shape\n",
    "print(m, n)"
   ]
  },
  {
   "cell_type": "code",
   "execution_count": 153,
   "metadata": {
    "collapsed": true
   },
   "outputs": [],
   "source": [
    "import gzip\n",
    "snp_indices = []\n",
    "with gzip.open('split_gen/chr.%s.gen.variants.txt.gz' % chrom, 'rt') as f:\n",
    "    for i, line in enumerate(f):\n",
    "        pieces = line.strip().split('\\t')\n",
    "        if len(pieces[3]) == 1 and len(pieces[4]) ==1 and pieces[3] != '.' and pieces[4] != '.':\n",
    "            snp_indices.append(i)"
   ]
  },
  {
   "cell_type": "code",
   "execution_count": 156,
   "metadata": {},
   "outputs": [
    {
     "name": "stdout",
     "output_type": "stream",
     "text": [
      "(5, 1004649)\n"
     ]
    }
   ],
   "source": [
    "family_data = whole_chrom[np.ix_(family_indices, snp_indices)]\n",
    "print(family_data.shape)"
   ]
  },
  {
   "cell_type": "code",
   "execution_count": 157,
   "metadata": {},
   "outputs": [
    {
     "name": "stdout",
     "output_type": "stream",
     "text": [
      "p 5184\n",
      "states [(0, 0, 0, 0, 0, 0, 0, 0, 0, 0), (0, 0, 0, 0, 0, 0, 0, 0, 0, 1), (0, 0, 0, 0, 0, 0, 0, 0, 1, 0), (0, 0, 0, 0, 0, 0, 0, 0, 1, 1), (0, 0, 0, 0, 0, 0, 0, 1, 0, 0), (0, 0, 0, 0, 0, 0, 0, 1, 0, 1), (0, 0, 0, 0, 0, 0, 0, 1, 1, 0), (0, 0, 0, 0, 0, 0, 0, 1, 1, 1), (0, 0, 0, 0, 0, 0, 1, 0, 0, 0), (0, 0, 0, 0, 0, 0, 1, 0, 0, 1)] [(0, 1, 2, 0, 1, 1, 0, 0, 0, 0), (0, 0, 1, 0, 1, 0, 0, 1, 1, 0), (0, 0, 2, 2, 1, 0, 0, 1, 0, 0), (0, 2, 1, 2, 1, 1, 1, 1, 1, 1), (1, 2, 2, 0, 0, 0, 0, 0, 0, 1), (0, 0, 2, 0, 0, 0, 1, 1, 1, 0), (1, 2, 0, 0, 0, 1, 1, 1, 0, 1), (1, 2, 1, 2, 0, 0, 0, 0, 0, 1), (1, 0, 0, 0, 1, 0, 0, 0, 0, 0), (1, 2, 0, 2, 0, 1, 1, 0, 1, 0)]\n"
     ]
    }
   ],
   "source": [
    "import random\n",
    "\n",
    "# Setup viterbi\n",
    "m, n = family_data.shape\n",
    "\n",
    "# We're trying to find inheritance patterns:\n",
    "# For parents:\n",
    "# (0, 0) -> normal\n",
    "# (0, 1) -> deletion on parental2\n",
    "# (0, 2) -> insertion/CNV on parental2\n",
    "# (1, 0) -> deletion on parental1\n",
    "# (1, 1) -> deletion on parental1 and parental2\n",
    "# (1, 2) -> deletion on parental1 and insertion/CNV on parental2\n",
    "# (2, 0) -> insertion/CNV on parental1\n",
    "# (2, 1) -> insertion/CNV on parental1 and deletion on parental2\n",
    "# (2, 2) -> insertion/CNV on parental1 and parental2\n",
    "# \n",
    "# For children:\n",
    "# (0, 0) -> m1p1\n",
    "# (0, 1) -> m1p2\n",
    "# (1, 0) -> m2p1\n",
    "# (1, 1) -> m2p2\n",
    "\n",
    "# We'll do this through dynamic programming. We have p states, each represents an inheritance pattern \n",
    "states = [s for s in list(product(range(3), repeat=2*m)) if sum([x for x in s[4:] if x == 2]) == 0]\n",
    "state_to_index = dict([(s, i) for i, s in enumerate(states)])\n",
    "p = len(states)\n",
    "print('p', p)\n",
    "print('states', states[:10], random.sample(states, 10))"
   ]
  },
  {
   "cell_type": "code",
   "execution_count": 217,
   "metadata": {},
   "outputs": [
    {
     "name": "stdout",
     "output_type": "stream",
     "text": [
      "(5184, 15)\n",
      "[[   0 1728 3456 ...,    4    2    1]\n",
      " [   1    0 1729 ...,    9    5    3]\n",
      " [   2    0 1730 ...,   10    6    3]\n",
      " ..., \n",
      " [5181 1725 3453 ..., 5177 5180 5183]\n",
      " [5182 1726 3454 ..., 5178 5180 5183]\n",
      " [5183 1727 3455 ..., 5179 5181 5182]]\n",
      "[[  0.  50.  50. ...,  50.  50.  50.]\n",
      " [  0.  50.  50. ...,  50.  50.  50.]\n",
      " [  0.  50.  50. ...,  50.  50.  50.]\n",
      " ..., \n",
      " [  0.  50.  50. ...,  50.  50.  50.]\n",
      " [  0.  50.  50. ...,  50.  50.  50.]\n",
      " [  0.  50.  50. ...,  50.  50.  50.]]\n"
     ]
    }
   ],
   "source": [
    "from collections import defaultdict, Counter\n",
    "\n",
    "# Construct allowable transition matrix\n",
    "\n",
    "# Only allow one shift at a time\n",
    "\n",
    "valid_transitions = [[i] for i in range(p)]\n",
    "for i, state in enumerate(states):\n",
    "    for j, s in enumerate(state):\n",
    "        for k in range(s+1, 4):\n",
    "            new_state = list(state)\n",
    "            new_state[j] = k\n",
    "            new_state = tuple(new_state)\n",
    "            if new_state in state_to_index:\n",
    "                new_index = state_to_index[new_state]\n",
    "                valid_transitions[i].append(new_index)\n",
    "                valid_transitions[new_index].append(i)\n",
    "                \n",
    "restricted_transitions = np.array(valid_transitions)\n",
    "print(restricted_transitions.shape)\n",
    "print(restricted_transitions)\n",
    "\n",
    "restricted_transition_cost = np.ones(restricted_transitions.shape)*50\n",
    "restricted_transition_cost[:, 0] = 0\n",
    "print(restricted_transition_cost)"
   ]
  },
  {
   "cell_type": "code",
   "execution_count": 161,
   "metadata": {},
   "outputs": [
    {
     "name": "stdout",
     "output_type": "stream",
     "text": [
      "(4, 81)\n",
      "(1024, 5)\n"
     ]
    }
   ],
   "source": [
    "from sklearn.utils.extmath import cartesian\n",
    "\n",
    "# possible ancestral variants\n",
    "anc_variants = np.array(cartesian([[0, 0.5, 1]]*4)).T\n",
    "print(anc_variants.shape)\n",
    "\n",
    "# possible genotypes\n",
    "genotypes = np.array(cartesian([[-1, 0, 1, 2]]*m), dtype=np.int8)\n",
    "index_to_gen = dict([(tuple(g), i) for i, g in enumerate(genotypes)])\n",
    "q = genotypes.shape[0]\n",
    "print(genotypes.shape)"
   ]
  },
  {
   "cell_type": "code",
   "execution_count": 165,
   "metadata": {},
   "outputs": [
    {
     "name": "stdout",
     "output_type": "stream",
     "text": [
      "(5184, 5, 4)\n",
      "[[[1 1 0 0]\n",
      "  [0 0 1 1]\n",
      "  [1 0 1 0]\n",
      "  [1 0 1 0]\n",
      "  [1 0 1 0]]\n",
      "\n",
      " [[1 1 0 0]\n",
      "  [0 0 1 1]\n",
      "  [1 0 1 0]\n",
      "  [1 0 1 0]\n",
      "  [1 0 0 1]]\n",
      "\n",
      " [[1 1 0 0]\n",
      "  [0 0 1 1]\n",
      "  [1 0 1 0]\n",
      "  [1 0 1 0]\n",
      "  [0 1 1 0]]\n",
      "\n",
      " ..., \n",
      " [[1 1 0 0]\n",
      "  [0 0 1 1]\n",
      "  [0 1 0 1]\n",
      "  [0 1 0 1]\n",
      "  [1 0 0 1]]\n",
      "\n",
      " [[1 1 0 0]\n",
      "  [0 0 1 1]\n",
      "  [0 1 0 1]\n",
      "  [0 1 0 1]\n",
      "  [0 1 1 0]]\n",
      "\n",
      " [[1 1 0 0]\n",
      "  [0 0 1 1]\n",
      "  [0 1 0 1]\n",
      "  [0 1 0 1]\n",
      "  [0 1 0 1]]]\n"
     ]
    }
   ],
   "source": [
    "# Set up a state matrix\n",
    "state_matrix = np.zeros((p, m, 4), dtype=np.int8)\n",
    "print(state_matrix.shape)\n",
    "\n",
    "for i, s in enumerate(states):\n",
    "    # handle mom\n",
    "    if s[0] == 1 and s[1] == 1:\n",
    "        # deletion on m1 and m2\n",
    "        pass\n",
    "    elif s[0] == 1:\n",
    "        # deletion on m1\n",
    "        state_matrix[i, 0, 1] = 2\n",
    "    elif s[1] == 1:\n",
    "        # deletion on m2\n",
    "        state_matrix[i, 0, 0] = 2\n",
    "    else:\n",
    "        state_matrix[i, 0, 0] = 1\n",
    "        state_matrix[i, 0, 1] = 1\n",
    "     \n",
    "    # handle dad\n",
    "    if s[2] == 1 and s[3] == 1:\n",
    "        # deletion on p1 and p2\n",
    "        pass\n",
    "    elif s[2] == 1:\n",
    "        # deletion on p1\n",
    "        state_matrix[i, 1, 2] = 2\n",
    "    elif s[3] == 1:\n",
    "        # deletion on p2\n",
    "        state_matrix[i, 1, 2] = 2\n",
    "    else:\n",
    "        state_matrix[i, 1, 2] = 1\n",
    "        state_matrix[i, 1, 3] = 1\n",
    "        \n",
    "    # handle kids\n",
    "    for j in range(m-2):\n",
    "        mat, pat = s[(4+(j*2)):(6+(j*2))]\n",
    "        state_matrix[i, j+2, mat] = 1\n",
    "        state_matrix[i, j+2, pat+2] = 1\n",
    "print(state_matrix)"
   ]
  },
  {
   "cell_type": "code",
   "execution_count": 167,
   "metadata": {},
   "outputs": [
    {
     "name": "stdout",
     "output_type": "stream",
     "text": [
      "(5184, 5, 81)\n",
      "[[[ 0.   0.   0.  ...,  2.   2.   2. ]\n",
      "  [ 0.   0.5  1.  ...,  1.   1.5  2. ]\n",
      "  [ 0.   0.   0.  ...,  2.   2.   2. ]\n",
      "  [ 0.   0.   0.  ...,  2.   2.   2. ]\n",
      "  [ 0.   0.   0.  ...,  2.   2.   2. ]]\n",
      "\n",
      " [[ 0.   0.   0.  ...,  2.   2.   2. ]\n",
      "  [ 0.   0.5  1.  ...,  1.   1.5  2. ]\n",
      "  [ 0.   0.   0.  ...,  2.   2.   2. ]\n",
      "  [ 0.   0.   0.  ...,  2.   2.   2. ]\n",
      "  [ 0.   0.5  1.  ...,  1.   1.5  2. ]]\n",
      "\n",
      " [[ 0.   0.   0.  ...,  2.   2.   2. ]\n",
      "  [ 0.   0.5  1.  ...,  1.   1.5  2. ]\n",
      "  [ 0.   0.   0.  ...,  2.   2.   2. ]\n",
      "  [ 0.   0.   0.  ...,  2.   2.   2. ]\n",
      "  [ 0.   0.   0.  ...,  2.   2.   2. ]]\n",
      "\n",
      " ..., \n",
      " [[ 0.   0.   0.  ...,  2.   2.   2. ]\n",
      "  [ 0.   0.5  1.  ...,  1.   1.5  2. ]\n",
      "  [ 0.   0.5  1.  ...,  1.   1.5  2. ]\n",
      "  [ 0.   0.5  1.  ...,  1.   1.5  2. ]\n",
      "  [ 0.   0.5  1.  ...,  1.   1.5  2. ]]\n",
      "\n",
      " [[ 0.   0.   0.  ...,  2.   2.   2. ]\n",
      "  [ 0.   0.5  1.  ...,  1.   1.5  2. ]\n",
      "  [ 0.   0.5  1.  ...,  1.   1.5  2. ]\n",
      "  [ 0.   0.5  1.  ...,  1.   1.5  2. ]\n",
      "  [ 0.   0.   0.  ...,  2.   2.   2. ]]\n",
      "\n",
      " [[ 0.   0.   0.  ...,  2.   2.   2. ]\n",
      "  [ 0.   0.5  1.  ...,  1.   1.5  2. ]\n",
      "  [ 0.   0.5  1.  ...,  1.   1.5  2. ]\n",
      "  [ 0.   0.5  1.  ...,  1.   1.5  2. ]\n",
      "  [ 0.   0.5  1.  ...,  1.   1.5  2. ]]]\n"
     ]
    }
   ],
   "source": [
    "famgens = np.tensordot(state_matrix, anc_variants, axes=1)\n",
    "print(famgens.shape)"
   ]
  },
  {
   "cell_type": "code",
   "execution_count": 188,
   "metadata": {},
   "outputs": [
    {
     "name": "stdout",
     "output_type": "stream",
     "text": [
      "16\n"
     ]
    }
   ],
   "source": [
    "no_insertion_anc_variants = np.where(~np.any(anc_variants == 0.5, axis=0))[0]\n",
    "print(len(no_insertion_anc_variants))\n",
    "\n",
    "def genotype_dist(g1, g2):\n",
    "    d = 0\n",
    "    for n1, n2 in zip(g1, g2):\n",
    "        if (n1 == n2) or (n1 == -1) or (n2 == -1):\n",
    "            pass\n",
    "        else:\n",
    "            d += abs(n1 - n2)\n",
    "    return d\n",
    "\n",
    "genotype_to_equivalent = defaultdict(list)\n",
    "genotype_to_neighbors = defaultdict(list)\n",
    "\n",
    "no_missing_gen = [tuple(g) for g in genotypes if len([x for x in g if x == -1]) == 0]\n",
    "has_missing_gen = [tuple(g) for g in genotypes if len([x for x in g if x == -1]) > 0]\n",
    "print(len(no_missing_gen), len(has_missing_gen))\n",
    "\n",
    "for g1 in no_missing_gen:\n",
    "    for g2 in has_missing_gen:\n",
    "        if genotype_dist(g1, g2) == 0:\n",
    "            genotype_to_equivalent[g1].append(g2)\n",
    "        \n",
    "for g1 in no_missing_gen:\n",
    "    for g2 in no_missing_gen:\n",
    "        if genotype_dist(g1, g2) == 1:\n",
    "            genotype_to_neighbors[g1].append(g2)\n"
   ]
  },
  {
   "cell_type": "code",
   "execution_count": 207,
   "metadata": {},
   "outputs": [
    {
     "name": "stdout",
     "output_type": "stream",
     "text": [
      "(5184, 1024)\n",
      "0.0\n"
     ]
    }
   ],
   "source": [
    "# construct loss matrix\n",
    "losses = np.zeros((p, q)) - 1\n",
    "print(losses.shape)     \n",
    "\n",
    "for i in range(p):\n",
    "\n",
    "    # breadth first search\n",
    "    current_gen = set([tuple(famgens[i, :, j]) for j in range(anc_variants.shape[1])])\n",
    "    for g in current_gen:\n",
    "        new_g = tuple([1 if (x == 0.5 or x == 1.5) else int(x) for x in g])\n",
    "        losses[i, index_to_gen[new_g]] = 0\n",
    "        \n",
    "    current_cost = 1\n",
    "    while len(current_gen) > 0:\n",
    "        next_gen = set()\n",
    "        for g in current_gen:\n",
    "            for n in genotype_to_neighbors[g]:\n",
    "                if losses[i, index_to_gen[n]] == -1:\n",
    "                    losses[i, index_to_gen[n]] = current_cost\n",
    "                    next_gen.add(n)\n",
    "                    \n",
    "        current_gen = next_gen\n",
    "        current_cost += 1\n",
    "        \n",
    "    for g, es in genotype_to_equivalent.items():\n",
    "        cost = losses[i, index_to_gen[g]]\n",
    "        for e in es:\n",
    "            if losses[i, index_to_gen[e]] == -1:\n",
    "                losses[i, index_to_gen[e]] = cost\n",
    "            else:\n",
    "                losses[i, index_to_gen[e]] = min(cost, losses[i, index_to_gen[e]])\n",
    "    \n",
    "        \n",
    "print(np.sum(losses == -1)/(losses.shape[0]*losses.shape[1]))"
   ]
  },
  {
   "cell_type": "code",
   "execution_count": 208,
   "metadata": {},
   "outputs": [
    {
     "name": "stdout",
     "output_type": "stream",
     "text": [
      "0.0 6.0\n"
     ]
    }
   ],
   "source": [
    "print(np.min(losses), np.max(losses))"
   ]
  },
  {
   "cell_type": "code",
   "execution_count": 277,
   "metadata": {},
   "outputs": [
    {
     "name": "stdout",
     "output_type": "stream",
     "text": [
      "5 1004649\n"
     ]
    }
   ],
   "source": [
    "m, n = family_data.shape\n",
    "# We set up our viterbi tables\n",
    "# 1. Viterbi cost matrix of size p x n\n",
    "v_cost = np.zeros((p, n+1), dtype=int)\n",
    "# 2. Viterbi traceback matrix of size p x n\n",
    "v_traceback = np.zeros((p, n+1), dtype=int)\n",
    "print(m, n)"
   ]
  },
  {
   "cell_type": "code",
   "execution_count": 267,
   "metadata": {},
   "outputs": [
    {
     "name": "stdout",
     "output_type": "stream",
     "text": [
      "(5, 1004649)\n"
     ]
    },
    {
     "data": {
      "text/plain": [
       "(-1, -1, -1, -1, 2)"
      ]
     },
     "execution_count": 267,
     "metadata": {},
     "output_type": "execute_result"
    }
   ],
   "source": [
    "#family_data = family_data.toarray()\n",
    "print(family_data.shape)\n",
    "tuple(family_data[:, 0])"
   ]
  },
  {
   "cell_type": "code",
   "execution_count": 272,
   "metadata": {},
   "outputs": [
    {
     "name": "stdout",
     "output_type": "stream",
     "text": [
      "[[  0.  50.  50. ...,  50.  50.  50.]\n",
      " [  0.  50.  50. ...,  50.  50.  50.]\n",
      " [  0.  50.  50. ...,  50.  50.  50.]\n",
      " ..., \n",
      " [  0.  50.  50. ...,  50.  50.  50.]\n",
      " [  0.  50.  50. ...,  50.  50.  50.]\n",
      " [  0.  50.  50. ...,  50.  50.  50.]]\n",
      "[0 0 0 ..., 0 0 0]\n",
      "(-1, -1, -1, -1, 2) 3\n",
      "[0 0 0 ..., 0 0 0]\n"
     ]
    }
   ],
   "source": [
    "j = 0\n",
    "total_cost = v_cost[restricted_transitions, j] + restricted_transition_cost\n",
    "min_index = np.argmin(total_cost, axis=1)\n",
    "v_traceback[:, j+1] = restricted_transitions[range(p), min_index]\n",
    "v_cost[:, j+1] = total_cost[range(p), min_index] + losses[:, index_to_gen[tuple(family_data[:, j])]]\n",
    "print(total_cost)\n",
    "print(min_index)\n",
    "print(tuple(family_data[:, j]), index_to_gen[tuple(family_data[:, j])])\n",
    "print(v_cost[:, 1])"
   ]
  },
  {
   "cell_type": "code",
   "execution_count": 280,
   "metadata": {},
   "outputs": [
    {
     "ename": "KeyboardInterrupt",
     "evalue": "",
     "output_type": "error",
     "traceback": [
      "\u001b[0;31m---------------------------------------------------------------------------\u001b[0m",
      "\u001b[0;31mKeyboardInterrupt\u001b[0m                         Traceback (most recent call last)",
      "\u001b[0;32m<ipython-input-280-4cd29fa09336>\u001b[0m in \u001b[0;36m<module>\u001b[0;34m()\u001b[0m\n\u001b[1;32m      1\u001b[0m \u001b[0mpos_to_genindex\u001b[0m \u001b[0;34m=\u001b[0m \u001b[0;34m[\u001b[0m\u001b[0mindex_to_gen\u001b[0m\u001b[0;34m[\u001b[0m\u001b[0mtuple\u001b[0m\u001b[0;34m(\u001b[0m\u001b[0mfamily_data\u001b[0m\u001b[0;34m[\u001b[0m\u001b[0;34m:\u001b[0m\u001b[0;34m,\u001b[0m \u001b[0mj\u001b[0m\u001b[0;34m]\u001b[0m\u001b[0;34m)\u001b[0m\u001b[0;34m]\u001b[0m \u001b[0;32mfor\u001b[0m \u001b[0mj\u001b[0m \u001b[0;32min\u001b[0m \u001b[0mrange\u001b[0m\u001b[0;34m(\u001b[0m\u001b[0mn\u001b[0m\u001b[0;34m)\u001b[0m\u001b[0;34m]\u001b[0m\u001b[0;34m\u001b[0m\u001b[0m\n\u001b[0;32m----> 2\u001b[0;31m \u001b[0mloss\u001b[0m \u001b[0;34m=\u001b[0m \u001b[0mlosses\u001b[0m\u001b[0;34m[\u001b[0m\u001b[0;34m:\u001b[0m\u001b[0;34m,\u001b[0m \u001b[0mpos_to_genindex\u001b[0m\u001b[0;34m]\u001b[0m\u001b[0;34m\u001b[0m\u001b[0m\n\u001b[0m",
      "\u001b[0;31mKeyboardInterrupt\u001b[0m: "
     ]
    }
   ],
   "source": [
    "pos_to_genindex = [index_to_gen[tuple(family_data[:, j])] for j in range(n)]\n",
    "loss = losses[:, pos_to_genindex]\n",
    "print(loss.shape)"
   ]
  },
  {
   "cell_type": "code",
   "execution_count": 278,
   "metadata": {},
   "outputs": [
    {
     "name": "stdout",
     "output_type": "stream",
     "text": [
      "0\n"
     ]
    },
    {
     "ename": "KeyboardInterrupt",
     "evalue": "",
     "output_type": "error",
     "traceback": [
      "\u001b[0;31m---------------------------------------------------------------------------\u001b[0m",
      "\u001b[0;31mKeyboardInterrupt\u001b[0m                         Traceback (most recent call last)",
      "\u001b[0;32m<ipython-input-278-e65a3fd776ac>\u001b[0m in \u001b[0;36m<module>\u001b[0;34m()\u001b[0m\n\u001b[1;32m      3\u001b[0m \u001b[0mv_traceback\u001b[0m\u001b[0;34m[\u001b[0m\u001b[0;34m:\u001b[0m\u001b[0;34m,\u001b[0m \u001b[0;36m0\u001b[0m\u001b[0;34m]\u001b[0m \u001b[0;34m=\u001b[0m \u001b[0;34m-\u001b[0m\u001b[0;36m1\u001b[0m\u001b[0;34m\u001b[0m\u001b[0m\n\u001b[1;32m      4\u001b[0m \u001b[0;32mfor\u001b[0m \u001b[0mj\u001b[0m \u001b[0;32min\u001b[0m \u001b[0mrange\u001b[0m\u001b[0;34m(\u001b[0m\u001b[0mn\u001b[0m\u001b[0;34m)\u001b[0m\u001b[0;34m:\u001b[0m\u001b[0;34m\u001b[0m\u001b[0m\n\u001b[0;32m----> 5\u001b[0;31m     \u001b[0mtotal_cost\u001b[0m \u001b[0;34m=\u001b[0m \u001b[0mv_cost\u001b[0m\u001b[0;34m[\u001b[0m\u001b[0mrestricted_transitions\u001b[0m\u001b[0;34m,\u001b[0m \u001b[0mj\u001b[0m\u001b[0;34m]\u001b[0m\u001b[0;34m\u001b[0m\u001b[0m\n\u001b[0m\u001b[1;32m      6\u001b[0m     \u001b[0mtotal_cost\u001b[0m\u001b[0;34m[\u001b[0m\u001b[0;34m:\u001b[0m\u001b[0;34m,\u001b[0m \u001b[0;36m0\u001b[0m\u001b[0;34m]\u001b[0m \u001b[0;34m-=\u001b[0m \u001b[0mtcost\u001b[0m\u001b[0;34m\u001b[0m\u001b[0m\n\u001b[1;32m      7\u001b[0m     \u001b[0mmin_index\u001b[0m \u001b[0;34m=\u001b[0m \u001b[0mnp\u001b[0m\u001b[0;34m.\u001b[0m\u001b[0margmin\u001b[0m\u001b[0;34m(\u001b[0m\u001b[0mtotal_cost\u001b[0m\u001b[0;34m,\u001b[0m \u001b[0maxis\u001b[0m\u001b[0;34m=\u001b[0m\u001b[0;36m1\u001b[0m\u001b[0;34m)\u001b[0m\u001b[0;34m\u001b[0m\u001b[0m\n",
      "\u001b[0;31mKeyboardInterrupt\u001b[0m: "
     ]
    }
   ],
   "source": [
    "# Forward sweep\n",
    "prev_time = time.time()\n",
    "v_traceback[:, 0] = -1\n",
    "for j in range(n): \n",
    "    total_cost = v_cost[restricted_transitions, j]\n",
    "    total_cost[:, 0] -= tcost\n",
    "    min_index = np.argmin(total_cost, axis=1)\n",
    "    \n",
    "    v_traceback[:, j+1] = restricted_transitions[range(p), min_index]\n",
    "    v_cost[:, j+1] = total_cost[range(p), min_index] + losses[:, pos_to_genindex[j]] + tcost\n",
    "\n",
    "    if j % 10000 == 0:\n",
    "        print(j)\n",
    "print('Forward sweep complete', time.time()-prev_time, 'sec') \n"
   ]
  },
  {
   "cell_type": "code",
   "execution_count": null,
   "metadata": {
    "collapsed": true
   },
   "outputs": [],
   "source": [
    "# Backward sweep\n",
    "prev_time = time.time()\n",
    "\n",
    "index = n\n",
    "k = np.argmin(v_cost[:, index])\n",
    "print(list(zip(*np.unique(v_cost[:, index], return_counts=True))))\n",
    "\n",
    "X = np.zeros((m, 4, n))\n",
    "for i in range(num_anc):\n",
    "    X[i, (2*i), :] = 1\n",
    "    X[i, ((2*i)+1), :] = 1\n",
    "\n",
    "while index > 0:\n",
    "    current_state = states[k, :]\n",
    "    Y[:, index-1] = ancestral_variants[best_ancestral_variants[k, index-1], :].astype(int)\n",
    "        \n",
    "    # Check if there are multiple possible genotypes\n",
    "    best_qs = np.where(loss[k, :, index-1]==loss[k, best_ancestral_variants[k, index-1], index-1])[0]\n",
    "    num_pos = best_qs.shape[0]\n",
    "    if num_pos > 0:\n",
    "        possibilities = np.sum(ancestral_variants[best_qs, :], axis=0)\n",
    "\n",
    "        for i in range(2*num_anc):\n",
    "            if (possibilities[i] != num_pos) and (possibilities[i] != 0):\n",
    "                Y[i, index-1] = -9\n",
    "\n",
    "    for i in range(num_child):\n",
    "        X[(num_anc+i), 0, index-1] = 1-current_state[2*i].astype(int)\n",
    "        X[(num_anc+i), 1, index-1] = current_state[2*i].astype(int)\n",
    "        X[(num_anc+i), 2, index-1] = 1-current_state[(2*i)+1].astype(int)\n",
    "        X[(num_anc+i), 3, index-1] = current_state[(2*i)+1].astype(int)\n",
    "\n",
    "    k = v_traceback[k, index]\n",
    "    index -= 1\n",
    "print('Backward sweep complete', time.time()-prev_time, 'sec') "
   ]
  },
  {
   "cell_type": "code",
   "execution_count": 13,
   "metadata": {
    "collapsed": true
   },
   "outputs": [],
   "source": [
    "from itertools import product\n",
    "import time\n",
    "\n",
    "\n",
    "def phase_family_viterbi(family_data, recomb_cost=50, num_anc=2):\n",
    "    prev_time = time.time()\n",
    "    m, n = family_data.shape\n",
    "    num_child = m-num_anc\n",
    "\n",
    "    p = pow(2, 2*num_child)\n",
    "    q = pow(2, 2*num_anc)\n",
    "\n",
    "    # Our goal is to find\n",
    "    Y = np.zeros((4, n), dtype=bool) # ancestral chromosomes M1, M2, P1, P2\n",
    "    X = np.zeros((m, 4, n)) # Inheritance matrix with X_ijk 1 if individual i inherits ancestral chromosome j at position k and 0 otherwise\n",
    "    X[0, 0, :] = 1\n",
    "    X[0, 1, :] = 1\n",
    "    X[1, 2, :] = 1\n",
    "    X[1, 3, :] = 1\n",
    "\n",
    "    # We'll do this through dynamic programming. We have p states, each represents an inheritance pattern \n",
    "    states = np.array(list(product([False, True], repeat=2*num_child)), dtype=bool)\n",
    "    #print(states.shape)\n",
    "\n",
    "    # We set up our viterbi tables\n",
    "    # 1. Viterbi cost matrix of size p x n\n",
    "    v_cost = np.zeros((p, n+1), dtype=int)\n",
    "    # 2. Viterbi traceback matrix of size p x n\n",
    "    v_traceback = np.zeros((p, n+1), dtype=int)\n",
    "\n",
    "    # To form these efficiently, we'll precompute a few things:\n",
    "    # 1. Transition cost matrix which represents the cost of transitioning from state i to state j\n",
    "    transition_cost = np.zeros((p, p))\n",
    "    for i in range(num_child):\n",
    "        maternal_group0 = np.where(states[:, 2*i])[0]\n",
    "        maternal_group1 = np.where(~states[:, 2*i])[0]\n",
    "        transition_cost[np.ix_(maternal_group0, maternal_group1)] += recomb_cost\n",
    "        transition_cost[np.ix_(maternal_group1, maternal_group0)] += recomb_cost\n",
    "\n",
    "        paternal_group0 = np.where(states[:, (2*i)+1])[0]\n",
    "        paternal_group1 = np.where(~states[:, (2*i)+1])[0]\n",
    "        transition_cost[np.ix_(paternal_group0, paternal_group1)] += recomb_cost\n",
    "        transition_cost[np.ix_(paternal_group1, paternal_group0)] += recomb_cost\n",
    "\n",
    "    # 2. Restricted transition list which represents the states we are allowed to transition between\n",
    "    # In order to improve runtime, we only allow transitions that represent a single recombination\n",
    "    restricted_transitions = np.array([np.where(transition_cost[:, i] <= recomb_cost)[0] for i in range(p)], dtype=int)\n",
    "\n",
    "    # 3. Restricted transition cost matrix which represents transition costs for the states we are \n",
    "    # allowed to transition between\n",
    "    restricted_transition_cost = np.zeros((p, len(restricted_transitions[0, :])))\n",
    "    for i in range(p):\n",
    "        restricted_transition_cost[i, :] = transition_cost[i, restricted_transitions[i]]\n",
    "\n",
    "    # 4. All possible combinations of ancestral variants\n",
    "    ancestral_variants = np.array(list(product([False, True], repeat=2*num_anc)), dtype=bool)\n",
    "\n",
    "    # 5. All possible familial genotypes (assuming Mendelian inheritance)\n",
    "    ancestral_genotypes = np.zeros((num_anc, q), dtype=int)\n",
    "    descendant_genotypes = np.zeros((p, num_child, q), dtype=int)\n",
    "\n",
    "    for i in range(num_anc):\n",
    "        ancestral_genotypes[i, :] = ancestral_variants[:, (2*i)].astype(int) + ancestral_variants[:, ((2*i)+1)].astype(int)\n",
    "\n",
    "    for i in range(p):\n",
    "        for j in range(num_child):\n",
    "            descendant_genotypes[i, j, :] = ancestral_variants[:, states[i, (2*j)].astype(int)].astype(int) + \\\n",
    "                                            ancestral_variants[:, (2 + states[i, ((2*j)+1)].astype(int))].astype(int)\n",
    "\n",
    "    # print(ancestral_genotypes)\n",
    "    # print(descendant_genotypes)\n",
    "\n",
    "    # 5. Loss matrix, representing the value of the loss for each position at each state for each ancestral genotype combination\n",
    "    # We use an L1 loss function\n",
    "    \n",
    "    # Need better loss\n",
    "    # Taking into account LCL artifacts, transmission imbalances, etc\n",
    "    # If we have 0/1 and 0/0 parents that produce 4 0/0 children that is 1/2^4 = 1/16\n",
    "    loss = np.zeros((p, q, n), dtype=int)\n",
    "\n",
    "    for i in range(num_anc):\n",
    "        indexes = np.where(family_data[i, :] != -1)[0]\n",
    "        for j in range(q):\n",
    "            loss[:, j, indexes] += np.outer(np.ones(p, dtype=int), np.abs(ancestral_genotypes[i, j] - family_data[i, indexes]))\n",
    "\n",
    "    for i in range(num_child):\n",
    "        indexes = np.where(family_data[i, :] != -1)[0]\n",
    "        for j in range(p):\n",
    "            for k in range(q):\n",
    "                loss[j, k, indexes] += np.abs(descendant_genotypes[j, i, k] - family_data[(num_anc+i), indexes])\n",
    "\n",
    "    #np.set_printoptions(threshold=np.inf)\n",
    "    #print(family_data[:, 0])\n",
    "    #print(loss[:, :, 0])\n",
    "    #np.set_printoptions(threshold=1000)    \n",
    "    best_ancestral_variants = np.argmin(loss, axis=1)\n",
    "    #print(best_ancestral_variants.shape)\n",
    "    print('Setup complete', time.time()-prev_time, 'sec') \n",
    "    prev_time = time.time()\n",
    "    \n",
    "    # Now run Viterbi\n",
    "\n",
    "    # Forward sweep\n",
    "    v_traceback[:, 0] = -1\n",
    "    for j in range(n): \n",
    "        total_cost = v_cost[restricted_transitions, j] + restricted_transition_cost\n",
    "        min_index = np.argmin(total_cost, axis=1)\n",
    "        v_traceback[:, j+1] = restricted_transitions[range(p), min_index]\n",
    "        v_cost[:, j+1] = total_cost[range(p), min_index] + loss[range(p), best_ancestral_variants[:, j], j]\n",
    "\n",
    "    print('Forward sweep complete', time.time()-prev_time, 'sec') \n",
    "    prev_time = time.time()\n",
    "\n",
    "    # Backward sweep\n",
    "    index = n\n",
    "    k = np.argmin(v_cost[:, index])\n",
    "    print(list(zip(*np.unique(v_cost[:, index], return_counts=True))))\n",
    "\n",
    "    Y = np.zeros((4, n))\n",
    "    X = np.zeros((m, 4, n))\n",
    "    for i in range(num_anc):\n",
    "        X[i, (2*i), :] = 1\n",
    "        X[i, ((2*i)+1), :] = 1\n",
    "\n",
    "    while index > 0:\n",
    "        current_state = states[k, :]\n",
    "        Y[:, index-1] = ancestral_variants[best_ancestral_variants[k, index-1], :].astype(int)\n",
    "        \n",
    "        # Check if there are multiple possible genotypes\n",
    "        best_qs = np.where(loss[k, :, index-1]==loss[k, best_ancestral_variants[k, index-1], index-1])[0]\n",
    "        num_pos = best_qs.shape[0]\n",
    "        if num_pos > 0:\n",
    "            possibilities = np.sum(ancestral_variants[best_qs, :], axis=0)\n",
    "\n",
    "            for i in range(2*num_anc):\n",
    "                if (possibilities[i] != num_pos) and (possibilities[i] != 0):\n",
    "                    Y[i, index-1] = -9\n",
    "\n",
    "        for i in range(num_child):\n",
    "            X[(num_anc+i), 0, index-1] = 1-current_state[2*i].astype(int)\n",
    "            X[(num_anc+i), 1, index-1] = current_state[2*i].astype(int)\n",
    "            X[(num_anc+i), 2, index-1] = 1-current_state[(2*i)+1].astype(int)\n",
    "            X[(num_anc+i), 3, index-1] = current_state[(2*i)+1].astype(int)\n",
    "\n",
    "        k = v_traceback[k, index]\n",
    "        index -= 1\n",
    "    print('Backward sweep complete', time.time()-prev_time, 'sec') \n",
    "    prev_time = time.time()\n",
    "    \n",
    "    return X, Y"
   ]
  },
  {
   "cell_type": "code",
   "execution_count": 14,
   "metadata": {},
   "outputs": [
    {
     "name": "stderr",
     "output_type": "stream",
     "text": [
      "//anaconda/lib/python3.6/site-packages/scipy/sparse/compressed.py:248: SparseEfficiencyWarning: Comparing a sparse matrix with a nonzero scalar using != is inefficient, try using == instead.\n",
      "  \" is inefficient, try using == instead.\", SparseEfficiencyWarning)\n"
     ]
    },
    {
     "ename": "SystemError",
     "evalue": "<built-in function where> returned a result with an error set",
     "output_type": "error",
     "traceback": [
      "\u001b[0;31m---------------------------------------------------------------------------\u001b[0m",
      "\u001b[0;31mValueError\u001b[0m                                Traceback (most recent call last)",
      "\u001b[0;32m//anaconda/lib/python3.6/site-packages/scipy/sparse/base.py\u001b[0m in \u001b[0;36m__bool__\u001b[0;34m(self)\u001b[0m\n\u001b[1;32m    237\u001b[0m         \u001b[0;32melse\u001b[0m\u001b[0;34m:\u001b[0m\u001b[0;34m\u001b[0m\u001b[0m\n\u001b[0;32m--> 238\u001b[0;31m             raise ValueError(\"The truth value of an array with more than one \"\n\u001b[0m\u001b[1;32m    239\u001b[0m                              \"element is ambiguous. Use a.any() or a.all().\")\n",
      "\u001b[0;31mValueError\u001b[0m: The truth value of an array with more than one element is ambiguous. Use a.any() or a.all().",
      "\nThe above exception was the direct cause of the following exception:\n",
      "\u001b[0;31mSystemError\u001b[0m                               Traceback (most recent call last)",
      "\u001b[0;32m//anaconda/lib/python3.6/site-packages/scipy/sparse/base.py\u001b[0m in \u001b[0;36m__bool__\u001b[0;34m(self)\u001b[0m\n\u001b[1;32m    234\u001b[0m     \u001b[0;32mdef\u001b[0m \u001b[0m__bool__\u001b[0m\u001b[0;34m(\u001b[0m\u001b[0mself\u001b[0m\u001b[0;34m)\u001b[0m\u001b[0;34m:\u001b[0m  \u001b[0;31m# Simple -- other ideas?\u001b[0m\u001b[0;34m\u001b[0m\u001b[0m\n\u001b[0;32m--> 235\u001b[0;31m         \u001b[0;32mif\u001b[0m \u001b[0mself\u001b[0m\u001b[0;34m.\u001b[0m\u001b[0mshape\u001b[0m \u001b[0;34m==\u001b[0m \u001b[0;34m(\u001b[0m\u001b[0;36m1\u001b[0m\u001b[0;34m,\u001b[0m \u001b[0;36m1\u001b[0m\u001b[0;34m)\u001b[0m\u001b[0;34m:\u001b[0m\u001b[0;34m\u001b[0m\u001b[0m\n\u001b[0m\u001b[1;32m    236\u001b[0m             \u001b[0;32mreturn\u001b[0m \u001b[0mself\u001b[0m\u001b[0;34m.\u001b[0m\u001b[0mnnz\u001b[0m \u001b[0;34m!=\u001b[0m \u001b[0;36m0\u001b[0m\u001b[0;34m\u001b[0m\u001b[0m\n",
      "\u001b[0;31mSystemError\u001b[0m: PyEval_EvalFrameEx returned a result with an error set",
      "\nThe above exception was the direct cause of the following exception:\n",
      "\u001b[0;31mSystemError\u001b[0m                               Traceback (most recent call last)",
      "\u001b[0;32m<ipython-input-14-7acb3fccf46d>\u001b[0m in \u001b[0;36m<module>\u001b[0;34m()\u001b[0m\n\u001b[0;32m----> 1\u001b[0;31m \u001b[0mX\u001b[0m\u001b[0;34m,\u001b[0m \u001b[0mY\u001b[0m \u001b[0;34m=\u001b[0m \u001b[0mphase_family_viterbi\u001b[0m\u001b[0;34m(\u001b[0m\u001b[0mfamily_data\u001b[0m\u001b[0;34m,\u001b[0m \u001b[0mrecomb_cost\u001b[0m\u001b[0;34m=\u001b[0m\u001b[0;36m50\u001b[0m\u001b[0;34m)\u001b[0m\u001b[0;34m\u001b[0m\u001b[0m\n\u001b[0m",
      "\u001b[0;32m<ipython-input-13-59b077fdc7d8>\u001b[0m in \u001b[0;36mphase_family_viterbi\u001b[0;34m(family_data, recomb_cost, num_anc)\u001b[0m\n\u001b[1;32m     79\u001b[0m \u001b[0;34m\u001b[0m\u001b[0m\n\u001b[1;32m     80\u001b[0m     \u001b[0;32mfor\u001b[0m \u001b[0mi\u001b[0m \u001b[0;32min\u001b[0m \u001b[0mrange\u001b[0m\u001b[0;34m(\u001b[0m\u001b[0mnum_anc\u001b[0m\u001b[0;34m)\u001b[0m\u001b[0;34m:\u001b[0m\u001b[0;34m\u001b[0m\u001b[0m\n\u001b[0;32m---> 81\u001b[0;31m         \u001b[0mindexes\u001b[0m \u001b[0;34m=\u001b[0m \u001b[0mnp\u001b[0m\u001b[0;34m.\u001b[0m\u001b[0mwhere\u001b[0m\u001b[0;34m(\u001b[0m\u001b[0mfamily_data\u001b[0m\u001b[0;34m[\u001b[0m\u001b[0mi\u001b[0m\u001b[0;34m,\u001b[0m \u001b[0;34m:\u001b[0m\u001b[0;34m]\u001b[0m \u001b[0;34m!=\u001b[0m \u001b[0;34m-\u001b[0m\u001b[0;36m1\u001b[0m\u001b[0;34m)\u001b[0m\u001b[0;34m[\u001b[0m\u001b[0;36m0\u001b[0m\u001b[0;34m]\u001b[0m\u001b[0;34m\u001b[0m\u001b[0m\n\u001b[0m\u001b[1;32m     82\u001b[0m         \u001b[0;32mfor\u001b[0m \u001b[0mj\u001b[0m \u001b[0;32min\u001b[0m \u001b[0mrange\u001b[0m\u001b[0;34m(\u001b[0m\u001b[0mq\u001b[0m\u001b[0;34m)\u001b[0m\u001b[0;34m:\u001b[0m\u001b[0;34m\u001b[0m\u001b[0m\n\u001b[1;32m     83\u001b[0m             \u001b[0mloss\u001b[0m\u001b[0;34m[\u001b[0m\u001b[0;34m:\u001b[0m\u001b[0;34m,\u001b[0m \u001b[0mj\u001b[0m\u001b[0;34m,\u001b[0m \u001b[0mindexes\u001b[0m\u001b[0;34m]\u001b[0m \u001b[0;34m+=\u001b[0m \u001b[0mnp\u001b[0m\u001b[0;34m.\u001b[0m\u001b[0mouter\u001b[0m\u001b[0;34m(\u001b[0m\u001b[0mnp\u001b[0m\u001b[0;34m.\u001b[0m\u001b[0mones\u001b[0m\u001b[0;34m(\u001b[0m\u001b[0mp\u001b[0m\u001b[0;34m,\u001b[0m \u001b[0mdtype\u001b[0m\u001b[0;34m=\u001b[0m\u001b[0mint\u001b[0m\u001b[0;34m)\u001b[0m\u001b[0;34m,\u001b[0m \u001b[0mnp\u001b[0m\u001b[0;34m.\u001b[0m\u001b[0mabs\u001b[0m\u001b[0;34m(\u001b[0m\u001b[0mancestral_genotypes\u001b[0m\u001b[0;34m[\u001b[0m\u001b[0mi\u001b[0m\u001b[0;34m,\u001b[0m \u001b[0mj\u001b[0m\u001b[0;34m]\u001b[0m \u001b[0;34m-\u001b[0m \u001b[0mfamily_data\u001b[0m\u001b[0;34m[\u001b[0m\u001b[0mi\u001b[0m\u001b[0;34m,\u001b[0m \u001b[0mindexes\u001b[0m\u001b[0;34m]\u001b[0m\u001b[0;34m)\u001b[0m\u001b[0;34m)\u001b[0m\u001b[0;34m\u001b[0m\u001b[0m\n",
      "\u001b[0;31mSystemError\u001b[0m: <built-in function where> returned a result with an error set"
     ]
    }
   ],
   "source": [
    "X, Y = phase_family_viterbi(family_data, recomb_cost=50)"
   ]
  },
  {
   "cell_type": "code",
   "execution_count": 152,
   "metadata": {},
   "outputs": [
    {
     "name": "stdout",
     "output_type": "stream",
     "text": [
      "[1 1 2 ..., 0 1 1]\n",
      "[-1 -1 -1 ..., -1 -1 -1]\n",
      "Setup complete 33.02627515792847 sec\n",
      "Forward sweep complete 28.501487970352173 sec\n",
      "[(172446, 4), (172459, 4), (172460, 8), (172463, 4), (172464, 4), (172466, 4), (172475, 8), (172476, 4), (172478, 4), (172479, 8), (172480, 4), (172482, 4), (172484, 4)]\n",
      "Backward sweep complete 19.525970935821533 sec\n",
      "Missing calls 0.148491286143053\n",
      "Train Error 0.0194689058858\n",
      "Test Error 0.178987184922\n",
      "Setup complete 30.65608501434326 sec\n",
      "Forward sweep complete 28.835944175720215 sec\n",
      "[(172941, 4), (172984, 4), (172985, 8), (172988, 4), (172989, 4), (172991, 4), (173030, 8), (173031, 4), (173033, 4), (173034, 8), (173035, 4), (173037, 4), (173039, 4)]\n",
      "Backward sweep complete 19.126158237457275 sec\n",
      "Missing calls 0.14870434642985067\n",
      "Train Error 0.0193664130278\n",
      "Test Error 0.178135845854\n",
      "Setup complete 32.77920389175415 sec\n",
      "Forward sweep complete 27.590113162994385 sec\n",
      "[(173741, 4), (173834, 4), (173835, 8), (173838, 4), (173839, 4), (173841, 4), (173930, 8), (173931, 4), (173933, 4), (173934, 8), (173935, 4), (173937, 4), (173939, 4)]\n",
      "Backward sweep complete 18.824604034423828 sec\n",
      "Missing calls 0.14870434642985067\n",
      "Train Error 0.0193664130278\n",
      "Test Error 0.178135845854\n",
      "Setup complete 30.11628794670105 sec\n",
      "Forward sweep complete 27.497228860855103 sec\n",
      "[(175157, 4), (175350, 4), (175351, 8), (175354, 4), (175355, 4), (175357, 4), (175546, 8), (175547, 4), (175549, 4), (175550, 8), (175551, 4), (175553, 4), (175555, 4)]\n",
      "Backward sweep complete 18.753352165222168 sec\n",
      "Missing calls 0.14962513740844582\n",
      "Train Error 0.0191477278504\n",
      "Test Error 0.177785528223\n",
      "Setup complete 30.722501754760742 sec\n",
      "Forward sweep complete 28.34752893447876 sec\n",
      "[(179357, 4), (179850, 4), (179851, 8), (179854, 4), (179855, 4), (179857, 4), (180346, 8), (180347, 4), (180349, 4), (180350, 8), (180351, 4), (180353, 4), (180355, 4)]\n",
      "Backward sweep complete 17.688377857208252 sec\n",
      "Missing calls 0.14962513740844582\n",
      "Train Error 0.0191477278504\n",
      "Test Error 0.177785528223\n",
      "Setup complete 29.94450807571411 sec\n",
      "Forward sweep complete 27.580820083618164 sec\n",
      "[(185890, 4), (185965, 4), (186883, 4), (186884, 4), (186887, 4), (186888, 4), (186890, 4), (186959, 4), (186963, 4), (186965, 4), (187879, 4), (187880, 4), (187882, 4), (187883, 4), (187886, 4), (187888, 4)]\n",
      "Backward sweep complete 18.06183695793152 sec\n",
      "Missing calls 0.14973012363672294\n",
      "Train Error 0.0196614197477\n",
      "Test Error 0.180015006688\n"
     ]
    }
   ],
   "source": [
    "# Set recombination cost via holdout \n",
    "import random\n",
    "import math\n",
    "\n",
    "m, n = family_data.shape\n",
    "\n",
    "x, y = np.where(family_data != -1)\n",
    "num_entries_masked = int(round(0.1*x.shape[0]))\n",
    "entry_mask = random.sample(range(x.shape[0]), num_entries_masked)\n",
    "\n",
    "train_data = family_data.copy()\n",
    "train_data[x[entry_mask], y[entry_mask]] = -1\n",
    "\n",
    "print(family_data[x[entry_mask], y[entry_mask]])\n",
    "print(train_data[x[entry_mask], y[entry_mask]])\n",
    "\n",
    "for i in [20, 50, 100, 200, 500, 1000]:\n",
    "    X, Y = phase_family_viterbi(train_data, recomb_cost=i)\n",
    "    \n",
    "    Z = to_genotype(X, Y)\n",
    "    diff = np.abs(Z-family_data) \n",
    "    diff[Z<0] = 0\n",
    "    print('Missing calls', np.where(Z<0)[0].shape[0]/(m*n))\n",
    "    print('Train Error', np.sum(diff)/np.where(Z>=0)[0].shape[0])\n",
    "    print('Test Error', np.sum(diff[x[entry_mask], y[entry_mask]])/np.where(Z[x[entry_mask], y[entry_mask]]>=0)[0].shape[0])"
   ]
  },
  {
   "cell_type": "code",
   "execution_count": 155,
   "metadata": {},
   "outputs": [
    {
     "name": "stdout",
     "output_type": "stream",
     "text": [
      "Missing calls 0.14973012363672294\n",
      "Train Error 0.0196614197477\n",
      "Test Error 0.180015006688\n"
     ]
    }
   ],
   "source": [
    "Z = to_genotype(X, Y)\n",
    "diff = np.abs(Z-family_data) \n",
    "diff[Z<0] = 0\n",
    "\n",
    "print('Missing calls', np.where(Z<0)[0].shape[0]/(m*n))\n",
    "print('Missing calls', np.where(Z<0)[0].shape[0]/(m*n))\n",
    "print('Train Error', np.sum(diff)/np.where(Z>=0)[0].shape[0])\n",
    "print('Test Error', np.sum(diff[x[entry_mask], y[entry_mask]])/np.where(Z[x[entry_mask], y[entry_mask]]>=0)[0].shape[0])\n"
   ]
  },
  {
   "cell_type": "code",
   "execution_count": 64,
   "metadata": {},
   "outputs": [
    {
     "name": "stdout",
     "output_type": "stream",
     "text": [
      "Rough Phase 7.141118049621582 sec\n",
      "Detect Recomb 1 38.5337290763855 sec\n",
      "164332 0.101485863913\n",
      "30185 0.0932061558984\n",
      "30229 0.0933420204291\n",
      "32151 0.099276830157\n",
      "34795 0.107441053321\n",
      "36972 0.114163259761\n",
      "Phase 1 10.216811895370483 sec\n",
      "13251 0.00818336771118\n",
      "2553 0.00788323061151\n",
      "2346 0.00724404975112\n",
      "2851 0.00880340402406\n",
      "2897 0.00894544421526\n",
      "2604 0.00804070995393\n",
      "Detect Recomb 2 38.92126393318176 sec\n",
      "13248 0.00818151501303\n",
      "2553 0.00788323061151\n",
      "2346 0.00724404975112\n",
      "2851 0.00880340402406\n",
      "2895 0.00893926855477\n",
      "2603 0.00803762212369\n"
     ]
    }
   ],
   "source": [
    "import time\n",
    "\n",
    "prev_time = time.time()\n",
    "Y2 = rough_phase(family_data)\n",
    "print('Rough Phase', time.time()-prev_time, 'sec')\n",
    "\n",
    "m, n = family_data.shape\n",
    "X2 = np.zeros((m, 4, n))\n",
    "\n",
    "prev_time = time.time()\n",
    "detect_recombination(family_data, X2, Y2, switch_cost=500)\n",
    "print('Detect Recomb 1', time.time()-prev_time, 'sec')\n",
    "diff = to_genotype(X2, Y2)-family_data\n",
    "print(np.sum(np.abs(diff)), np.sum(np.abs(diff))/(m*n))\n",
    "for i in range(m):\n",
    "    print(np.sum(np.abs(diff[i, :])), np.sum(np.abs(diff[i, :]))/n)\n",
    "\n",
    "prev_time = time.time()\n",
    "phase(family_data, X2, Y2)\n",
    "print('Phase 1', time.time()-prev_time, 'sec')\n",
    "diff = to_genotype(X2, Y2)-family_data\n",
    "print(np.sum(np.abs(diff)), np.sum(np.abs(diff))/(m*n))\n",
    "for i in range(m):\n",
    "    print(np.sum(np.abs(diff[i, :])), np.sum(np.abs(diff[i, :]))/n)\n",
    "\n",
    "prev_time = time.time()\n",
    "detect_recombination(family_data, X2, Y2, switch_cost=500)\n",
    "print('Detect Recomb 2', time.time()-prev_time, 'sec')\n",
    "diff = to_genotype(X2, Y2)-family_data\n",
    "print(np.sum(np.abs(diff)), np.sum(np.abs(diff))/(m*n))\n",
    "for i in range(m):\n",
    "    print(np.sum(np.abs(diff[i, :])), np.sum(np.abs(diff[i, :]))/n)\n"
   ]
  },
  {
   "cell_type": "code",
   "execution_count": 81,
   "metadata": {},
   "outputs": [
    {
     "name": "stdout",
     "output_type": "stream",
     "text": [
      "0\n",
      "[0, 323851]\n",
      "[0, 323851]\n",
      "[0, 323851]\n",
      "[0, 323851]\n",
      "1\n",
      "[0, 323851]\n",
      "[0, 323851]\n",
      "[0, 323851]\n",
      "[0, 323851]\n",
      "2\n",
      "[0, 66443, 94305, 97677, 146857, 264859, 323851]\n",
      "[0, 14887, 236441, 318993, 323851]\n",
      "[0, 323851]\n",
      "[0, 323851]\n",
      "3\n",
      "[0, 220112, 294231, 323851]\n",
      "[0, 194170, 323851]\n",
      "[0, 66446, 146851, 220118, 264859, 294247, 323851]\n",
      "[0, 14887, 194170, 236433, 318997, 323851]\n",
      "4\n",
      "[0, 71020, 143094, 260033, 296557, 323851]\n",
      "[0, 282797, 323851]\n",
      "[0, 66443, 71024, 143094, 146857, 259994, 264872, 296557, 323851]\n",
      "[0, 14901, 236433, 282802, 318993, 323851]\n"
     ]
    }
   ],
   "source": [
    "m, n = family_data.shape\n",
    "for j in range(m):\n",
    "    print(j)\n",
    "    \n",
    "    maternal_recombinations = [0] + [i for i in range(n-1) if X[j, 0, i] != X[j, 0, i+1]] + [n-1]\n",
    "    paternal_recombinations = [0] + [i for i in range(n-1) if X[j, 2, i] != X[j, 2, i+1]] + [n-1]\n",
    "    print(maternal_recombinations)\n",
    "    print(paternal_recombinations)\n",
    "    \n",
    "    maternal_recombinations = [0] + [i for i in range(n-1) if X2[j, 0, i] != X2[j, 0, i+1]] + [n-1]\n",
    "    paternal_recombinations = [0] + [i for i in range(n-1) if X2[j, 2, i] != X2[j, 2, i+1]] + [n-1]\n",
    "    print(maternal_recombinations)\n",
    "    print(paternal_recombinations)"
   ]
  },
  {
   "cell_type": "code",
   "execution_count": 140,
   "metadata": {},
   "outputs": [
    {
     "data": {
      "image/png": "[encoded data removed]",
      "text/plain": [
       "<matplotlib.figure.Figure at 0x112d8a048>"
      ]
     },
     "metadata": {},
     "output_type": "display_data"
    }
   ],
   "source": [
    "plt.figure(figsize=(20,10))\n",
    "\n",
    "plt.subplot(2, 1, 1)\n",
    "for i in range(2, m):\n",
    "    plt.plot(2*i*X[i, 0, :], linestyle='None', marker='.', color='red')\n",
    "    plt.plot(2*i*X[i, 1, :], linestyle='None', marker='.', color='orange')\n",
    "    plt.plot(2*i*X[i, 2, :]+1, linestyle='None', marker='.', color='blue')\n",
    "    plt.plot(2*i*X[i, 3, :]+1, linestyle='None', marker='.', color='green')\n",
    "axes = plt.gca()\n",
    "axes.set_ylim([2,(m+1)*2])\n",
    "\n",
    "plt.subplot(2, 1, 2)\n",
    "for i in range(2, m):\n",
    "    plt.plot(2*i*X2[i, 0, :], linestyle='None', marker='.', color='red')\n",
    "    plt.plot(2*i*X2[i, 1, :], linestyle='None', marker='.', color='orange')\n",
    "    plt.plot(2*i*X2[i, 2, :]+1, linestyle='None', marker='.', color='blue')\n",
    "    plt.plot(2*i*X2[i, 3, :]+1, linestyle='None', marker='.', color='green')   \n",
    "axes = plt.gca()\n",
    "axes.set_ylim([2,(m+1)*2])\n",
    "\n",
    "plt.show()"
   ]
  },
  {
   "cell_type": "code",
   "execution_count": 147,
   "metadata": {},
   "outputs": [
    {
     "data": {
      "image/png": "[encoded data removed]",
      "text/plain": [
       "<matplotlib.figure.Figure at 0x1086e3b38>"
      ]
     },
     "metadata": {},
     "output_type": "display_data"
    }
   ],
   "source": [
    "q = 1000\n",
    "plt.figure(figsize=(20,8))\n",
    "\n",
    "plt.subplot(1, 1, 1)\n",
    "plt.plot(np.convolve(np.sum(diff, axis=0), np.ones((q,))/(m*q), mode='same'), label='All')\n",
    "#plt.plot(np.convolve(np.sum(np.abs(to_genotype(X2, Y2)-family_data), axis=0)/m, np.ones((q,))/(m*q), mode='same'))\n",
    "\n",
    "#for i in range(m):\n",
    "#    plt.plot(np.convolve(np.abs(to_genotype(X, Y)-family_data)[i, :], np.ones((q,))/q, mode='same'), label=str(i)+'V')\n",
    "#    #plt.plot(np.convolve(np.abs(to_genotype(X2, Y2)-family_data)[i, :], np.ones((q,))/q, mode='same'), label=str(i)+'H')\n",
    "\n",
    "axes = plt.gca()\n",
    "plt.legend()\n",
    "plt.show()"
   ]
  },
  {
   "cell_type": "code",
   "execution_count": 91,
   "metadata": {},
   "outputs": [
    {
     "name": "stdout",
     "output_type": "stream",
     "text": [
      "13030\n",
      "0.00804688561442\n"
     ]
    }
   ],
   "source": [
    "print(np.sum(np.abs(to_genotype(X, Y)-family_data)))\n",
    "print(np.sum(np.abs(to_genotype(X, Y)-family_data))/(m*n))"
   ]
  },
  {
   "cell_type": "code",
   "execution_count": 85,
   "metadata": {},
   "outputs": [
    {
     "name": "stdout",
     "output_type": "stream",
     "text": [
      "0.00695996936872\n",
      "0.00766708249447\n",
      "0.00905660610402\n",
      "0.00838037128071\n",
      "0.00817039882415\n"
     ]
    }
   ],
   "source": [
    "for i in range(m):\n",
    "    print(np.sum(np.abs(to_genotype(X, Y)-family_data)[i, :])/n)"
   ]
  },
  {
   "cell_type": "code",
   "execution_count": 42,
   "metadata": {},
   "outputs": [
    {
     "data": {
      "image/png": "[encoded data removed]",
      "text/plain": [
       "<matplotlib.figure.Figure at 0x113306e48>"
      ]
     },
     "metadata": {},
     "output_type": "display_data"
    }
   ],
   "source": [
    "start, end = 1000, 1100\n",
    "plt.figure(figsize=(20,20))\n",
    "plt.subplot(3, 1, 1)\n",
    "heatmap = plt.imshow(np.abs(to_genotype(X, Y)-family_data)[:, start:end])\n",
    "plt.colorbar(heatmap)\n",
    "plt.subplot(3, 1, 2)\n",
    "heatmap = plt.imshow(Y[:, start:end])\n",
    "plt.colorbar(heatmap)\n",
    "plt.subplot(3, 1, 3)\n",
    "heatmap = plt.imshow(family_data[:, start:end])\n",
    "plt.colorbar(heatmap)\n",
    "plt.show()"
   ]
  },
  {
   "cell_type": "code",
   "execution_count": 42,
   "metadata": {},
   "outputs": [
    {
     "name": "stdout",
     "output_type": "stream",
     "text": [
      "(6, 34)\n",
      "['AU4237202' 'AU4237201' 'AU4237301' 'AU4237302' 'AU4237303' 'AU4237304']\n"
     ]
    }
   ],
   "source": [
    "with np.load('raw_data/AU4237_AU4237202_AU4237201.MT.gen.ad.npz') as data:\n",
    "    gen=data['gen']\n",
    "    ad=data['ad'] \n",
    "    row_indices=data['row_indices']\n",
    "    col_indices=data['col_indices']\n",
    "    m=data['m']\n",
    "    n=data['n']\n",
    "    sample_ids=data['sample_ids']\n",
    "print(gen.shape)\n",
    "print(sample_ids)"
   ]
  },
  {
   "cell_type": "code",
   "execution_count": 43,
   "metadata": {},
   "outputs": [
    {
     "data": {
      "image/png": "[encoded data removed]",
      "text/plain": [
       "<matplotlib.figure.Figure at 0x119ab37b8>"
      ]
     },
     "metadata": {},
     "output_type": "display_data"
    }
   ],
   "source": [
    "import matplotlib.pyplot as plt\n",
    "\n",
    "plt.figure(figsize=(15, 6))\n",
    "\n",
    "plt.subplot(4, 2, 1)\n",
    "plt.imshow(gen)\n",
    "plt.colorbar()\n",
    "\n",
    "plt.subplot(4, 2, 3)\n",
    "plt.imshow(ad[:, :, 0], vmax=100)\n",
    "plt.colorbar()\n",
    "\n",
    "plt.subplot(4, 2, 4)\n",
    "plt.spy(ad[:, :, 0])\n",
    "\n",
    "plt.subplot(4, 2, 5)\n",
    "plt.imshow(ad[:, :, 1], vmax=100)\n",
    "plt.colorbar()\n",
    "\n",
    "plt.subplot(4, 2, 6)\n",
    "plt.spy(ad[:, :, 1])\n",
    "\n",
    "plt.subplot(4, 2, 7)\n",
    "plt.imshow(ad[:, :, 1]/(ad[:, :, 0]+ad[:, :, 1]))\n",
    "plt.colorbar()\n",
    "\n",
    "plt.show()"
   ]
  },
  {
   "cell_type": "code",
   "execution_count": 36,
   "metadata": {},
   "outputs": [
    {
     "name": "stdout",
     "output_type": "stream",
     "text": [
      "4610 3615\n",
      "[909 910 911 912]\n",
      "[   9   45   74  184  284  420  809  874 1286 1563 1742 3243 3607]\n"
     ]
    }
   ],
   "source": [
    "print(m, n)\n",
    "print(row_indices)\n",
    "print(col_indices)"
   ]
  },
  {
   "cell_type": "code",
   "execution_count": 37,
   "metadata": {},
   "outputs": [
    {
     "ename": "IndexError",
     "evalue": "index 37 is out of bounds for axis 1 with size 13",
     "output_type": "error",
     "traceback": [
      "\u001b[0;31m---------------------------------------------------------------------------\u001b[0m",
      "\u001b[0;31mIndexError\u001b[0m                                Traceback (most recent call last)",
      "\u001b[0;32m<ipython-input-37-3db34bae2f3f>\u001b[0m in \u001b[0;36m<module>\u001b[0;34m()\u001b[0m\n\u001b[0;32m----> 1\u001b[0;31m \u001b[0mprint\u001b[0m\u001b[0;34m(\u001b[0m\u001b[0mad\u001b[0m\u001b[0;34m[\u001b[0m\u001b[0;34m:\u001b[0m\u001b[0;34m,\u001b[0m \u001b[0;36m37\u001b[0m\u001b[0;34m,\u001b[0m \u001b[0;34m:\u001b[0m\u001b[0;34m]\u001b[0m\u001b[0;34m)\u001b[0m\u001b[0;34m\u001b[0m\u001b[0m\n\u001b[0m",
      "\u001b[0;31mIndexError\u001b[0m: index 37 is out of bounds for axis 1 with size 13"
     ]
    }
   ],
   "source": [
    "print(ad[:, 37, :])"
   ]
  },
  {
   "cell_type": "code",
   "execution_count": null,
   "metadata": {
    "collapsed": true
   },
   "outputs": [],
   "source": []
  }
 ],
 "metadata": {
  "kernelspec": {
   "display_name": "Python 3",
   "language": "python",
   "name": "python3"
  },
  "language_info": {
   "codemirror_mode": {
    "name": "ipython",
    "version": 3
   },
   "file_extension": ".py",
   "mimetype": "text/x-python",
   "name": "python",
   "nbconvert_exporter": "python",
   "pygments_lexer": "ipython3",
   "version": "3.6.1"
  }
 },
 "nbformat": 4,
 "nbformat_minor": 2
}
