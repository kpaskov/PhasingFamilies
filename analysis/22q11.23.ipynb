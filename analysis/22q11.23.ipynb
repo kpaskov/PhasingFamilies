{
 "cells": [
  {
   "cell_type": "code",
   "execution_count": null,
   "metadata": {
    "collapsed": true
   },
   "outputs": [],
   "source": []
  },
  {
   "cell_type": "code",
   "execution_count": 4,
   "metadata": {
    "collapsed": true
   },
   "outputs": [],
   "source": [
    "# pull inheritance pattern in region of interest\n",
    "start, end = 24340000, 24400000"
   ]
  },
  {
   "cell_type": "code",
   "execution_count": 5,
   "metadata": {},
   "outputs": [
    {
     "name": "stdout",
     "output_type": "stream",
     "text": [
      "Families 821\n",
      "Missing States set()\n"
     ]
    }
   ],
   "source": [
    "from collections import defaultdict\n",
    "\n",
    "family_to_individuals = dict()\n",
    "individual_to_index = dict()\n",
    "family_to_states = defaultdict(list)\n",
    "for j in range(3, 7):\n",
    "    with open('phased/chr.22.familysize.%d.families.txt' % j, 'r')  as f:\n",
    "        next(f) # skip header\n",
    "        for line in f:\n",
    "            pieces = line.strip().split('\\t')\n",
    "            family_key = pieces[0]\n",
    "            family_to_individuals[family_key] = pieces[1:(1+j)]\n",
    "            for ind_id, index in zip(pieces[1:(1+j)], [int(x) for x in pieces[(1+j):]]):\n",
    "                individual_to_index[ind_id] = index\n",
    "                \n",
    "    # load deletions\n",
    "    with open('phased/chr.22.familysize.%d.phased.txt' % j, 'r')  as f:\n",
    "        next(f) # skip header\n",
    "        for line in f:\n",
    "            pieces = line.strip().split('\\t')\n",
    "            family_key = pieces[0]\n",
    "            inheritance_state = [int(x) for x in pieces[2:(2+(j*2))]]\n",
    "            start_pos, end_pos, start_index, end_index = [int(x) for x in pieces[(2+(j*2)):(6+(j*2))]]\n",
    "            length = end_pos - start_pos + 1\n",
    "            \n",
    "            if start_pos >= start and start_pos <= end:\n",
    "                family_to_states[family_key].append((inheritance_state, start_pos, end_pos))\n",
    "            elif end_pos >= start and end_pos <= end:\n",
    "                family_to_states[family_key].append((inheritance_state, start_pos, end_pos))\n",
    "            elif start_pos <= start and end_pos >= end:\n",
    "                family_to_states[family_key].append((inheritance_state, start_pos, end_pos))\n",
    "            elif start_pos >= start and end_pos <= end:\n",
    "                family_to_states[family_key].append((inheritance_state, start_pos, end_pos))\n",
    "                \n",
    "index_to_individual = dict([(v, k) for k, v in individual_to_index.items()])\n",
    "print('Families', len(family_to_individuals))\n",
    "print('Missing States', family_to_individuals.keys() - family_to_states.keys())"
   ]
  },
  {
   "cell_type": "code",
   "execution_count": 6,
   "metadata": {
    "collapsed": true
   },
   "outputs": [],
   "source": [
    "for family, states in family_to_states.items():\n",
    "    if len(set([tuple(x[0][4:]) for x in states])) > 1:\n",
    "        print(family, states)\n",
    "        \n",
    "# Remove the one family with a recombination event here\n",
    "#del family_to_individuals['AU2410.AU2410202.AU2410201']\n",
    "#del family_to_states['AU2410.AU2410202.AU2410201']"
   ]
  },
  {
   "cell_type": "code",
   "execution_count": 10,
   "metadata": {},
   "outputs": [
    {
     "data": {
      "image/png": "[encoded data removed]",
      "text/plain": [
       "<matplotlib.figure.Figure at 0x1679f7860>"
      ]
     },
     "metadata": {},
     "output_type": "display_data"
    }
   ],
   "source": [
    "import matplotlib.pyplot as plt\n",
    "import math\n",
    "\n",
    "startings, endings = [], []\n",
    "for family, states in family_to_states.items():\n",
    "    startings.append(start-min([s[1] for s in states]))\n",
    "    endings.append(max([s[2] for s in states])-end)\n",
    "    \n",
    "max_length = max(startings+endings)\n",
    "base = 2\n",
    "plt.hist(startings, alpha=0.5, bins=[pow(base, i) for i in range(math.ceil(math.log(max_length, base))+1)])\n",
    "plt.hist(endings, alpha=0.5, bins=[pow(base, i) for i in range(math.ceil(math.log(max_length, base))+1)])\n",
    "plt.gca().set_xscale(\"log\")\n",
    "plt.show()\n",
    "\n"
   ]
  },
  {
   "cell_type": "code",
   "execution_count": 11,
   "metadata": {},
   "outputs": [
    {
     "name": "stdout",
     "output_type": "stream",
     "text": [
      "4610 1096535\n",
      "4610 1004649\n"
     ]
    }
   ],
   "source": [
    "from os import listdir\n",
    "import gzip\n",
    "import numpy as np\n",
    "from scipy import sparse\n",
    "\n",
    "# load genotypes\n",
    "chrom = 22\n",
    "gen_files = sorted([f for f in listdir('split_gen') if ('chr.%d' % chrom) in f and 'gen.npz' in f])\n",
    "whole_chrom = sparse.hstack([sparse.load_npz('split_gen/%s' % gen_file) for gen_file in gen_files])\n",
    "m, n = whole_chrom.shape\n",
    "print(m, n)\n",
    "\n",
    "# pull indices of snps\n",
    "variant_file = 'split_gen/chr.%d.gen.variants.txt.gz' % chrom\n",
    "snp_indices = []\n",
    "snp_positions = []\n",
    "with gzip.open(variant_file, 'rt') as f:\n",
    "    for i, line in enumerate(f):\n",
    "        pieces = line.strip().split('\\t')\n",
    "        if len(pieces[3]) == 1 and len(pieces[4]) == 1 and pieces[3] != '.' and pieces[4] != '.':\n",
    "            snp_indices.append(i)\n",
    "            snp_positions.append(int(pieces[1]))\n",
    "snp_positions = np.asarray(snp_positions)\n",
    "\n",
    "whole_chrom = whole_chrom[:, snp_indices]\n",
    "m, n = whole_chrom.shape\n",
    "print(m, n)"
   ]
  },
  {
   "cell_type": "code",
   "execution_count": 12,
   "metadata": {
    "collapsed": true
   },
   "outputs": [],
   "source": [
    "family_to_state = dict([(k, v[0][0][4:]) for k, v in family_to_states.items()])\n",
    "segment = whole_chrom[:, (snp_positions>=start) & (snp_positions <= end)].A\n",
    "m, n = segment.shape"
   ]
  },
  {
   "cell_type": "code",
   "execution_count": 13,
   "metadata": {},
   "outputs": [
    {
     "data": {
      "image/png": "[encoded data removed]",
      "text/plain": [
       "<matplotlib.figure.Figure at 0x1670fcba8>"
      ]
     },
     "metadata": {},
     "output_type": "display_data"
    }
   ],
   "source": [
    "plt.hist(np.sum(segment==-1, axis=1), log=True)\n",
    "plt.show()"
   ]
  },
  {
   "cell_type": "code",
   "execution_count": 14,
   "metadata": {},
   "outputs": [
    {
     "data": {
      "image/png": "[encoded data removed]",
      "text/plain": [
       "<matplotlib.figure.Figure at 0x11440ac18>"
      ]
     },
     "metadata": {},
     "output_type": "display_data"
    }
   ],
   "source": [
    "plt.hist(np.sum(segment==1, axis=1))\n",
    "plt.show()"
   ]
  },
  {
   "cell_type": "code",
   "execution_count": 21,
   "metadata": {},
   "outputs": [
    {
     "name": "stdout",
     "output_type": "stream",
     "text": [
      "699\n"
     ]
    }
   ],
   "source": [
    "doubledel_inds = set([index_to_individual[i] for i in np.where(np.sum(segment==-1, axis=1)>200)[0] if i in index_to_individual])\n",
    "#nodel_inds = set([index_to_individual[i] for i in np.where(np.sum(segment==1, axis=1)>50)[0] if i in index_to_individual])\n",
    "#nodel_inds = set()\n",
    "print(len(doubledel_inds))\n",
    "#print(len(nodel_inds))"
   ]
  },
  {
   "cell_type": "code",
   "execution_count": 23,
   "metadata": {},
   "outputs": [
    {
     "name": "stdout",
     "output_type": "stream",
     "text": [
      "No good options AU0487.AU048701.AU048702\n",
      "No good options AU0923.AU0923202.AU0923201\n",
      "No good options AU0944.AU0944202.AU0944201\n",
      "No good options AU1195.AU1195202.AU1195203\n",
      "No good options AU1390.AU1390202.AU1390201\n",
      "No good options AU1514.AU1514202.AU1514201\n",
      "No good options AU1532.AU1532202.AU1532201\n",
      "No good options AU1626.AU1626202.AU1626201\n",
      "No good options AU1692.AU1692202.AU1692201\n",
      "No good options AU1996.AU1996202.AU1996201\n",
      "No good options AU3302.AU3302202.AU3302201\n",
      "No good options AU3360.AU3360202.AU3360201\n",
      "No good options AU0043.AU004301.AU004302\n",
      "No good options AU0207.AU020701.AU020702\n",
      "No good options AU0289.AU028901.AU028902\n",
      "No good options AU0738.AU073801.AU073802\n",
      "No good options AU0746.AU074601.AU074602\n",
      "No good options AU0836.AU083601.AU083602\n",
      "No good options AU0897.AU0897202.AU0897201\n",
      "No good options AU1072.AU1072202.AU1072201\n",
      "No good options AU0871.AU0871202.AU0871201\n",
      "No good options AU1089.AU1089202.AU1089201\n",
      "No good options AU1340.AU1340202.AU1340201\n",
      "No good options AU1394.AU1394202.AU1394201\n",
      "No good options AU1412.AU1412202.AU1412201\n",
      "No good options AU1523.AU1523202.AU1523201\n",
      "No good options AU1773.AU1773202.AU1773201\n",
      "No good options AU1822.AU1822202.AU1822201\n",
      "No good options AU1886.AU1886202.AU1886201\n",
      "No good options AU1953.AU1953202.AU1953201\n",
      "No good options AU2358.AU2358202.AU2358201\n",
      "No good options AU1796.AU1796202.AU1796201\n",
      "No good options AU2455.AU2455202.AU2455201\n",
      "No good options AU0316.AU0316202.AU0316201\n",
      "No good options AU1163.AU1163202.AU1163201\n",
      "No good options AU1466.AU1466202.AU1466201\n",
      "No good options AU1560.AU1560202.AU1560201\n",
      "No good options AU1791.AU1791202.AU1791201\n",
      "No good options AU4235.AU4235202.AU4235201\n",
      "Maternal deletions 552\n",
      "Maybe maternal deletions 1114\n",
      "No maternal deletions 270\n",
      "Paternal deletions 553\n",
      "Maybe paternal deletions 1114\n",
      "No paternal deletions 269\n",
      "Double deletions 595\n",
      "Single deletions 716\n",
      "Maybe deletions 2074\n",
      "No deletions 108\n",
      "Maternal trans op 356 356\n",
      "Paternal trans op 359 359\n"
     ]
    }
   ],
   "source": [
    "from itertools import product\n",
    "\n",
    "anc_variants = np.array(list(product(*[[0, 1]]*4)), dtype=np.int8).T\n",
    "\n",
    "maternal_transmission_op = set() # child of a single deletion mom (used for TDT)\n",
    "paternal_transmission_op = set() # child of a single deletion dad (used for TDT)\n",
    "\n",
    "maternal_deletion = set() # child definitely has a maternal deletion\n",
    "paternal_deletion = set() # child definitely has a paternal deletion\n",
    "maybe_maternal_deletion = set() # child might have a maternal deletion\n",
    "maybe_paternal_deletion = set() # child might have a paternal deletion\n",
    "no_maternal_deletion = set() # child does not have a maternal deletion\n",
    "no_paternal_deletion = set() # child does not have a paternal deletion\n",
    "\n",
    "double_deletion = set() # child or parent definitely has a double deletion\n",
    "single_deletion = set() # child or parent definitely has a single deletion\n",
    "no_deletion = set() # child or parent definitely has no deletions\n",
    "maybe_deletion = set() # child or parent might have a deletion\n",
    "\n",
    "moms = set()\n",
    "dads = set()\n",
    "children = set()\n",
    "\n",
    "for f, s in family_to_state.items():\n",
    "    individuals = family_to_individuals[f]\n",
    "    moms.add(individuals[0])\n",
    "    dads.add(individuals[1])\n",
    "    children.update(individuals[2:])\n",
    "    \n",
    "    X = np.zeros((len(individuals), 4), dtype=int)\n",
    "    y = np.ones((len(individuals),), dtype=int)\n",
    "    X[0, :2] = 1\n",
    "    X[1, 2:4] = 1\n",
    "    if individuals[0] in doubledel_inds:\n",
    "        y[0] = 2\n",
    "    if individuals[1] in doubledel_inds:\n",
    "        y[1] = 2\n",
    "    #if individuals[0] in nodel_inds:\n",
    "    #    y[0] = 0\n",
    "    #if individuals[1] in nodel_inds:\n",
    "    #    y[1] = 0\n",
    "    for i, child in enumerate(individuals[2:]):\n",
    "        X[i+2, s[i*2]] = 1\n",
    "        X[i+2, 2+s[(i*2)+1]] = 1\n",
    "        if child in doubledel_inds:\n",
    "            y[i+2] = 2\n",
    "        #if child in nodel_inds:\n",
    "        #    y[i+2] = 0\n",
    "    #print(y)\n",
    "    good_options = np.where(np.all((X.dot(anc_variants)==2)==(np.outer(y, np.ones((16,)))==2), axis=0))[0]\n",
    "    if len(good_options) == 0:\n",
    "        print('No good options', f)\n",
    "    else:\n",
    "        options = anc_variants[:, good_options]\n",
    "        deletions = X.dot(options)\n",
    "        for i, ind in enumerate(individuals):\n",
    "            if np.all(np.equal(deletions[i, :], 2)):\n",
    "                double_deletion.add(ind)\n",
    "            elif np.all(np.equal(deletions[i, :], 1)):\n",
    "                single_deletion.add(ind)\n",
    "                if i == 0:\n",
    "                    maternal_transmission_op.update(individuals[2:])\n",
    "                if i == 1:\n",
    "                    paternal_transmission_op.update(individuals[2:])\n",
    "            elif np.all(np.equal(deletions[i, :], 0)):\n",
    "                no_deletion.add(ind)\n",
    "            else:\n",
    "                maybe_deletion.add(ind)\n",
    "                \n",
    "            if i>=2:\n",
    "                # child\n",
    "                if np.all(np.equal(options[s[(i-2)*2], :], 1)):\n",
    "                    maternal_deletion.add(ind)\n",
    "                elif np.all(np.equal(options[s[(i-2)*2], :], 0)):\n",
    "                    no_maternal_deletion.add(ind)\n",
    "                else:\n",
    "                    maybe_maternal_deletion.add(ind)\n",
    "                    \n",
    "                if np.all(np.equal(options[2+s[((i-2)*2)+1], :], 1)):\n",
    "                    paternal_deletion.add(ind)\n",
    "                elif np.all(np.equal(options[2+s[((i-2)*2)+1], :], 0)):\n",
    "                    no_paternal_deletion.add(ind)\n",
    "                else:\n",
    "                    maybe_paternal_deletion.add(ind)\n",
    "                    \n",
    "print('Maternal deletions', len(maternal_deletion))\n",
    "print('Maybe maternal deletions', len(maybe_maternal_deletion))\n",
    "print('No maternal deletions', len(no_maternal_deletion))\n",
    "\n",
    "print('Paternal deletions', len(paternal_deletion))\n",
    "print('Maybe paternal deletions', len(maybe_paternal_deletion))\n",
    "print('No paternal deletions', len(no_paternal_deletion))       \n",
    "\n",
    "print('Double deletions', len(double_deletion))\n",
    "print('Single deletions', len(single_deletion))\n",
    "print('Maybe deletions', len(maybe_deletion))\n",
    "print('No deletions', len(no_deletion))\n",
    "\n",
    "print('Maternal trans op', len(maternal_transmission_op), len(maternal_transmission_op & (maternal_deletion | no_maternal_deletion)))\n",
    "print('Paternal trans op', len(paternal_transmission_op), len(paternal_transmission_op & (paternal_deletion | no_paternal_deletion)))\n",
    "\n"
   ]
  },
  {
   "cell_type": "code",
   "execution_count": 18,
   "metadata": {},
   "outputs": [
    {
     "ename": "NameError",
     "evalue": "name 'child_id_to_affected' is not defined",
     "output_type": "error",
     "traceback": [
      "\u001b[0;31m---------------------------------------------------------------------------\u001b[0m",
      "\u001b[0;31mNameError\u001b[0m                                 Traceback (most recent call last)",
      "\u001b[0;32m<ipython-input-18-be201224ab9d>\u001b[0m in \u001b[0;36m<module>\u001b[0;34m()\u001b[0m\n\u001b[0;32m----> 1\u001b[0;31m \u001b[0maff_doubledel\u001b[0m \u001b[0;34m=\u001b[0m \u001b[0mlen\u001b[0m\u001b[0;34m(\u001b[0m\u001b[0;34m[\u001b[0m\u001b[0mx\u001b[0m \u001b[0;32mfor\u001b[0m \u001b[0mx\u001b[0m \u001b[0;32min\u001b[0m \u001b[0mchildren\u001b[0m \u001b[0;32mif\u001b[0m \u001b[0mx\u001b[0m \u001b[0;32min\u001b[0m \u001b[0mdouble_deletion\u001b[0m \u001b[0;32mand\u001b[0m \u001b[0mchild_id_to_affected\u001b[0m\u001b[0;34m[\u001b[0m\u001b[0mx\u001b[0m\u001b[0;34m]\u001b[0m \u001b[0;34m==\u001b[0m \u001b[0;34m'2'\u001b[0m\u001b[0;34m]\u001b[0m\u001b[0;34m)\u001b[0m\u001b[0;34m\u001b[0m\u001b[0m\n\u001b[0m\u001b[1;32m      2\u001b[0m \u001b[0maff_singledel\u001b[0m \u001b[0;34m=\u001b[0m \u001b[0mlen\u001b[0m\u001b[0;34m(\u001b[0m\u001b[0;34m[\u001b[0m\u001b[0mx\u001b[0m \u001b[0;32mfor\u001b[0m \u001b[0mx\u001b[0m \u001b[0;32min\u001b[0m \u001b[0mchildren\u001b[0m \u001b[0;32mif\u001b[0m \u001b[0mx\u001b[0m \u001b[0;32min\u001b[0m \u001b[0msingle_deletion\u001b[0m \u001b[0;32mand\u001b[0m \u001b[0mchild_id_to_affected\u001b[0m\u001b[0;34m[\u001b[0m\u001b[0mx\u001b[0m\u001b[0;34m]\u001b[0m \u001b[0;34m==\u001b[0m \u001b[0;34m'2'\u001b[0m\u001b[0;34m]\u001b[0m\u001b[0;34m)\u001b[0m\u001b[0;34m\u001b[0m\u001b[0m\n\u001b[1;32m      3\u001b[0m \u001b[0maff_nodel\u001b[0m \u001b[0;34m=\u001b[0m \u001b[0mlen\u001b[0m\u001b[0;34m(\u001b[0m\u001b[0;34m[\u001b[0m\u001b[0mx\u001b[0m \u001b[0;32mfor\u001b[0m \u001b[0mx\u001b[0m \u001b[0;32min\u001b[0m \u001b[0mchildren\u001b[0m \u001b[0;32mif\u001b[0m \u001b[0mx\u001b[0m \u001b[0;32min\u001b[0m \u001b[0mno_deletion\u001b[0m \u001b[0;32mand\u001b[0m \u001b[0mchild_id_to_affected\u001b[0m\u001b[0;34m[\u001b[0m\u001b[0mx\u001b[0m\u001b[0;34m]\u001b[0m \u001b[0;34m==\u001b[0m \u001b[0;34m'2'\u001b[0m\u001b[0;34m]\u001b[0m\u001b[0;34m)\u001b[0m\u001b[0;34m\u001b[0m\u001b[0m\n\u001b[1;32m      4\u001b[0m \u001b[0maff_maybedel\u001b[0m \u001b[0;34m=\u001b[0m \u001b[0mlen\u001b[0m\u001b[0;34m(\u001b[0m\u001b[0;34m[\u001b[0m\u001b[0mx\u001b[0m \u001b[0;32mfor\u001b[0m \u001b[0mx\u001b[0m \u001b[0;32min\u001b[0m \u001b[0mchildren\u001b[0m \u001b[0;32mif\u001b[0m \u001b[0mx\u001b[0m \u001b[0;32min\u001b[0m \u001b[0mmaybe_deletion\u001b[0m \u001b[0;32mand\u001b[0m \u001b[0mchild_id_to_affected\u001b[0m\u001b[0;34m[\u001b[0m\u001b[0mx\u001b[0m\u001b[0;34m]\u001b[0m \u001b[0;34m==\u001b[0m \u001b[0;34m'2'\u001b[0m\u001b[0;34m]\u001b[0m\u001b[0;34m)\u001b[0m\u001b[0;34m\u001b[0m\u001b[0m\n\u001b[1;32m      5\u001b[0m \u001b[0;34m\u001b[0m\u001b[0m\n",
      "\u001b[0;32m<ipython-input-18-be201224ab9d>\u001b[0m in \u001b[0;36m<listcomp>\u001b[0;34m(.0)\u001b[0m\n\u001b[0;32m----> 1\u001b[0;31m \u001b[0maff_doubledel\u001b[0m \u001b[0;34m=\u001b[0m \u001b[0mlen\u001b[0m\u001b[0;34m(\u001b[0m\u001b[0;34m[\u001b[0m\u001b[0mx\u001b[0m \u001b[0;32mfor\u001b[0m \u001b[0mx\u001b[0m \u001b[0;32min\u001b[0m \u001b[0mchildren\u001b[0m \u001b[0;32mif\u001b[0m \u001b[0mx\u001b[0m \u001b[0;32min\u001b[0m \u001b[0mdouble_deletion\u001b[0m \u001b[0;32mand\u001b[0m \u001b[0mchild_id_to_affected\u001b[0m\u001b[0;34m[\u001b[0m\u001b[0mx\u001b[0m\u001b[0;34m]\u001b[0m \u001b[0;34m==\u001b[0m \u001b[0;34m'2'\u001b[0m\u001b[0;34m]\u001b[0m\u001b[0;34m)\u001b[0m\u001b[0;34m\u001b[0m\u001b[0m\n\u001b[0m\u001b[1;32m      2\u001b[0m \u001b[0maff_singledel\u001b[0m \u001b[0;34m=\u001b[0m \u001b[0mlen\u001b[0m\u001b[0;34m(\u001b[0m\u001b[0;34m[\u001b[0m\u001b[0mx\u001b[0m \u001b[0;32mfor\u001b[0m \u001b[0mx\u001b[0m \u001b[0;32min\u001b[0m \u001b[0mchildren\u001b[0m \u001b[0;32mif\u001b[0m \u001b[0mx\u001b[0m \u001b[0;32min\u001b[0m \u001b[0msingle_deletion\u001b[0m \u001b[0;32mand\u001b[0m \u001b[0mchild_id_to_affected\u001b[0m\u001b[0;34m[\u001b[0m\u001b[0mx\u001b[0m\u001b[0;34m]\u001b[0m \u001b[0;34m==\u001b[0m \u001b[0;34m'2'\u001b[0m\u001b[0;34m]\u001b[0m\u001b[0;34m)\u001b[0m\u001b[0;34m\u001b[0m\u001b[0m\n\u001b[1;32m      3\u001b[0m \u001b[0maff_nodel\u001b[0m \u001b[0;34m=\u001b[0m \u001b[0mlen\u001b[0m\u001b[0;34m(\u001b[0m\u001b[0;34m[\u001b[0m\u001b[0mx\u001b[0m \u001b[0;32mfor\u001b[0m \u001b[0mx\u001b[0m \u001b[0;32min\u001b[0m \u001b[0mchildren\u001b[0m \u001b[0;32mif\u001b[0m \u001b[0mx\u001b[0m \u001b[0;32min\u001b[0m \u001b[0mno_deletion\u001b[0m \u001b[0;32mand\u001b[0m \u001b[0mchild_id_to_affected\u001b[0m\u001b[0;34m[\u001b[0m\u001b[0mx\u001b[0m\u001b[0;34m]\u001b[0m \u001b[0;34m==\u001b[0m \u001b[0;34m'2'\u001b[0m\u001b[0;34m]\u001b[0m\u001b[0;34m)\u001b[0m\u001b[0;34m\u001b[0m\u001b[0m\n\u001b[1;32m      4\u001b[0m \u001b[0maff_maybedel\u001b[0m \u001b[0;34m=\u001b[0m \u001b[0mlen\u001b[0m\u001b[0;34m(\u001b[0m\u001b[0;34m[\u001b[0m\u001b[0mx\u001b[0m \u001b[0;32mfor\u001b[0m \u001b[0mx\u001b[0m \u001b[0;32min\u001b[0m \u001b[0mchildren\u001b[0m \u001b[0;32mif\u001b[0m \u001b[0mx\u001b[0m \u001b[0;32min\u001b[0m \u001b[0mmaybe_deletion\u001b[0m \u001b[0;32mand\u001b[0m \u001b[0mchild_id_to_affected\u001b[0m\u001b[0;34m[\u001b[0m\u001b[0mx\u001b[0m\u001b[0;34m]\u001b[0m \u001b[0;34m==\u001b[0m \u001b[0;34m'2'\u001b[0m\u001b[0;34m]\u001b[0m\u001b[0;34m)\u001b[0m\u001b[0;34m\u001b[0m\u001b[0m\n\u001b[1;32m      5\u001b[0m \u001b[0;34m\u001b[0m\u001b[0m\n",
      "\u001b[0;31mNameError\u001b[0m: name 'child_id_to_affected' is not defined"
     ]
    }
   ],
   "source": [
    "aff_doubledel = len([x for x in children if x in double_deletion and child_id_to_affected[x] == '2'])\n",
    "aff_singledel = len([x for x in children if x in single_deletion and child_id_to_affected[x] == '2'])\n",
    "aff_nodel = len([x for x in children if x in no_deletion and child_id_to_affected[x] == '2'])\n",
    "aff_maybedel = len([x for x in children if x in maybe_deletion and child_id_to_affected[x] == '2'])\n",
    "\n",
    "unaff_doubledel = len([x for x in children if x in double_deletion and child_id_to_affected[x] != '2'])\n",
    "unaff_singledel = len([x for x in children if x in single_deletion and child_id_to_affected[x] != '2'])\n",
    "unaff_nodel = len([x for x in children if x in no_deletion and child_id_to_affected[x] != '2'])\n",
    "unaff_maybedel = len([x for x in children if x in maybe_deletion and child_id_to_affected[x] != '2'])\n",
    "\n",
    "mom_doubledel = len([x for x in moms if x in double_deletion])\n",
    "mom_singledel = len([x for x in moms if x in single_deletion])\n",
    "mom_nodel = len([x for x in moms if x in no_deletion])\n",
    "mom_maybedel = len([x for x in moms if x in maybe_deletion])\n",
    "\n",
    "dad_doubledel = len([x for x in dads if x in double_deletion])\n",
    "dad_singledel = len([x for x in dads if x in single_deletion])\n",
    "dad_nodel = len([x for x in dads if x in no_deletion])\n",
    "dad_maybedel = len([x for x in dads if x in maybe_deletion])\n",
    "\n",
    "total_aff = len([x for x in children if child_id_to_affected[x] == '2'])\n",
    "total_unaff = len([x for x in children if child_id_to_affected[x] != '2'])\n",
    "total_mom = len(moms)\n",
    "total_dad = len(dads)\n",
    "\n",
    "total_aff_known = len([x for x in children if child_id_to_affected[x] == '2' and x not in maybe_deletion])\n",
    "total_unaff_known = len([x for x in children if child_id_to_affected[x] != '2' and x not in maybe_deletion])\n",
    "total_mom_known = len([x for x in moms if x not in maybe_deletion])\n",
    "total_dad_known = len([x for x in dads if x not in maybe_deletion])\n",
    "\n",
    "\n",
    "print('Confusion')\n",
    "print('\\t\\tAffected\\tUnaffected\\tMom\\t\\tDad')\n",
    "print('Double Del\\t%d (%0.2f)\\t%d (%0.2f)\\t%d (%0.2f)\\t%d (%0.2f)' % (aff_doubledel, aff_doubledel/total_aff_known, \n",
    "                                                                      unaff_doubledel, unaff_doubledel/total_unaff_known,\n",
    "                                                                     mom_doubledel, mom_doubledel/total_mom_known,\n",
    "                                                                     dad_doubledel, dad_doubledel/total_dad_known))\n",
    "print('Single Del\\t%d (%0.2f)\\t%d (%0.2f)\\t%d (%0.2f)\\t%d (%0.2f)' % (aff_singledel, aff_singledel/total_aff_known, \n",
    "                                                                      unaff_singledel, unaff_singledel/total_unaff_known,\n",
    "                                                                     mom_singledel, mom_singledel/total_mom_known,\n",
    "                                                                     dad_singledel, dad_singledel/total_dad_known))\n",
    "print('No Del\\t\\t%d (%0.2f)\\t%d (%0.2f)\\t%d (%0.2f)\\t%d (%0.2f)' % (aff_nodel, aff_nodel/total_aff_known, \n",
    "                                                                    unaff_nodel, unaff_nodel/total_unaff_known,\n",
    "                                                                   mom_nodel, mom_nodel/total_mom_known,\n",
    "                                                                   dad_nodel, dad_nodel/total_dad_known))\n",
    "print('Not Included\\t%d (%0.2f)\\t%d (%0.2f)\\t%d (%0.2f)\\t%d (%0.2f)' % (aff_maybedel, aff_maybedel/total_aff, \n",
    "                                                                    unaff_maybedel, unaff_maybedel/total_unaff,\n",
    "                                                                   mom_maybedel, mom_maybedel/total_mom,\n",
    "                                                                   dad_maybedel, dad_maybedel/total_dad))\n",
    "\n",
    "print()\n",
    "print('Double Del p-value', chi2_contingency([[aff_doubledel, unaff_doubledel], [aff_singledel+aff_nodel, unaff_singledel+unaff_nodel]])[1])\n",
    "print('No Del p-value', chi2_contingency([[aff_nodel, unaff_nodel], [aff_doubledel+aff_singledel, unaff_doubledel+unaff_singledel]])[1])\n",
    "print()\n",
    "print('Del p-value', chi2_contingency([[aff_doubledel, unaff_doubledel], [aff_singledel, unaff_singledel], [aff_nodel, unaff_nodel]])[1])\n",
    "print('Del allele p-value', chi2_contingency([[2*aff_doubledel+aff_singledel, 2*unaff_doubledel+unaff_singledel], [2*aff_nodel+aff_singledel, 2*unaff_nodel+unaff_singledel]])[1])\n",
    "print('Mom/Dad p-value', chi2_contingency([[mom_doubledel, dad_doubledel], [mom_singledel, dad_singledel], [mom_nodel, dad_nodel]])[1])\n"
   ]
  },
  {
   "cell_type": "code",
   "execution_count": 19,
   "metadata": {},
   "outputs": [
    {
     "ename": "NameError",
     "evalue": "name 'child_id_to_affected' is not defined",
     "output_type": "error",
     "traceback": [
      "\u001b[0;31m---------------------------------------------------------------------------\u001b[0m",
      "\u001b[0;31mNameError\u001b[0m                                 Traceback (most recent call last)",
      "\u001b[0;32m<ipython-input-19-f04d6b755902>\u001b[0m in \u001b[0;36m<module>\u001b[0;34m()\u001b[0m\n\u001b[1;32m      1\u001b[0m \u001b[0;31m# TDT\u001b[0m\u001b[0;34m\u001b[0m\u001b[0;34m\u001b[0m\u001b[0m\n\u001b[0;32m----> 2\u001b[0;31m \u001b[0maff_male_maternal\u001b[0m \u001b[0;34m=\u001b[0m \u001b[0mlen\u001b[0m\u001b[0;34m(\u001b[0m\u001b[0;34m[\u001b[0m\u001b[0mx\u001b[0m \u001b[0;32mfor\u001b[0m \u001b[0mx\u001b[0m \u001b[0;32min\u001b[0m \u001b[0mchildren\u001b[0m \u001b[0;32mif\u001b[0m \u001b[0mx\u001b[0m \u001b[0;32min\u001b[0m \u001b[0mmaternal_deletion\u001b[0m \u001b[0;32mand\u001b[0m \u001b[0mchild_id_to_affected\u001b[0m\u001b[0;34m[\u001b[0m\u001b[0mx\u001b[0m\u001b[0;34m]\u001b[0m \u001b[0;34m==\u001b[0m \u001b[0;34m'2'\u001b[0m \u001b[0;32mand\u001b[0m \u001b[0mchild_id_to_sex\u001b[0m\u001b[0;34m[\u001b[0m\u001b[0mx\u001b[0m\u001b[0;34m]\u001b[0m \u001b[0;34m==\u001b[0m \u001b[0;34m'1'\u001b[0m \u001b[0;32mand\u001b[0m \u001b[0mx\u001b[0m \u001b[0;32min\u001b[0m \u001b[0mmaternal_transmission_op\u001b[0m\u001b[0;34m]\u001b[0m\u001b[0;34m)\u001b[0m\u001b[0;34m\u001b[0m\u001b[0m\n\u001b[0m\u001b[1;32m      3\u001b[0m \u001b[0maff_male_no_maternal\u001b[0m \u001b[0;34m=\u001b[0m \u001b[0mlen\u001b[0m\u001b[0;34m(\u001b[0m\u001b[0;34m[\u001b[0m\u001b[0mx\u001b[0m \u001b[0;32mfor\u001b[0m \u001b[0mx\u001b[0m \u001b[0;32min\u001b[0m \u001b[0mchildren\u001b[0m \u001b[0;32mif\u001b[0m \u001b[0mx\u001b[0m \u001b[0;32min\u001b[0m \u001b[0mno_maternal_deletion\u001b[0m \u001b[0;32mand\u001b[0m \u001b[0mchild_id_to_affected\u001b[0m\u001b[0;34m[\u001b[0m\u001b[0mx\u001b[0m\u001b[0;34m]\u001b[0m \u001b[0;34m==\u001b[0m \u001b[0;34m'2'\u001b[0m \u001b[0;32mand\u001b[0m \u001b[0mchild_id_to_sex\u001b[0m\u001b[0;34m[\u001b[0m\u001b[0mx\u001b[0m\u001b[0;34m]\u001b[0m \u001b[0;34m==\u001b[0m \u001b[0;34m'1'\u001b[0m \u001b[0;32mand\u001b[0m \u001b[0mx\u001b[0m \u001b[0;32min\u001b[0m \u001b[0mmaternal_transmission_op\u001b[0m\u001b[0;34m]\u001b[0m\u001b[0;34m)\u001b[0m\u001b[0;34m\u001b[0m\u001b[0m\n\u001b[1;32m      4\u001b[0m \u001b[0maff_male_maybe_maternal\u001b[0m \u001b[0;34m=\u001b[0m \u001b[0mlen\u001b[0m\u001b[0;34m(\u001b[0m\u001b[0;34m[\u001b[0m\u001b[0mx\u001b[0m \u001b[0;32mfor\u001b[0m \u001b[0mx\u001b[0m \u001b[0;32min\u001b[0m \u001b[0mchildren\u001b[0m \u001b[0;32mif\u001b[0m \u001b[0mx\u001b[0m \u001b[0;32min\u001b[0m \u001b[0mmaybe_maternal_deletion\u001b[0m \u001b[0;32mand\u001b[0m \u001b[0mchild_id_to_affected\u001b[0m\u001b[0;34m[\u001b[0m\u001b[0mx\u001b[0m\u001b[0;34m]\u001b[0m \u001b[0;34m==\u001b[0m \u001b[0;34m'2'\u001b[0m \u001b[0;32mand\u001b[0m \u001b[0mchild_id_to_sex\u001b[0m\u001b[0;34m[\u001b[0m\u001b[0mx\u001b[0m\u001b[0;34m]\u001b[0m \u001b[0;34m==\u001b[0m \u001b[0;34m'1'\u001b[0m \u001b[0;32mand\u001b[0m \u001b[0mx\u001b[0m \u001b[0;32min\u001b[0m \u001b[0mmaternal_transmission_op\u001b[0m\u001b[0;34m]\u001b[0m\u001b[0;34m)\u001b[0m\u001b[0;34m\u001b[0m\u001b[0m\n\u001b[1;32m      5\u001b[0m \u001b[0;34m\u001b[0m\u001b[0m\n",
      "\u001b[0;32m<ipython-input-19-f04d6b755902>\u001b[0m in \u001b[0;36m<listcomp>\u001b[0;34m(.0)\u001b[0m\n\u001b[1;32m      1\u001b[0m \u001b[0;31m# TDT\u001b[0m\u001b[0;34m\u001b[0m\u001b[0;34m\u001b[0m\u001b[0m\n\u001b[0;32m----> 2\u001b[0;31m \u001b[0maff_male_maternal\u001b[0m \u001b[0;34m=\u001b[0m \u001b[0mlen\u001b[0m\u001b[0;34m(\u001b[0m\u001b[0;34m[\u001b[0m\u001b[0mx\u001b[0m \u001b[0;32mfor\u001b[0m \u001b[0mx\u001b[0m \u001b[0;32min\u001b[0m \u001b[0mchildren\u001b[0m \u001b[0;32mif\u001b[0m \u001b[0mx\u001b[0m \u001b[0;32min\u001b[0m \u001b[0mmaternal_deletion\u001b[0m \u001b[0;32mand\u001b[0m \u001b[0mchild_id_to_affected\u001b[0m\u001b[0;34m[\u001b[0m\u001b[0mx\u001b[0m\u001b[0;34m]\u001b[0m \u001b[0;34m==\u001b[0m \u001b[0;34m'2'\u001b[0m \u001b[0;32mand\u001b[0m \u001b[0mchild_id_to_sex\u001b[0m\u001b[0;34m[\u001b[0m\u001b[0mx\u001b[0m\u001b[0;34m]\u001b[0m \u001b[0;34m==\u001b[0m \u001b[0;34m'1'\u001b[0m \u001b[0;32mand\u001b[0m \u001b[0mx\u001b[0m \u001b[0;32min\u001b[0m \u001b[0mmaternal_transmission_op\u001b[0m\u001b[0;34m]\u001b[0m\u001b[0;34m)\u001b[0m\u001b[0;34m\u001b[0m\u001b[0m\n\u001b[0m\u001b[1;32m      3\u001b[0m \u001b[0maff_male_no_maternal\u001b[0m \u001b[0;34m=\u001b[0m \u001b[0mlen\u001b[0m\u001b[0;34m(\u001b[0m\u001b[0;34m[\u001b[0m\u001b[0mx\u001b[0m \u001b[0;32mfor\u001b[0m \u001b[0mx\u001b[0m \u001b[0;32min\u001b[0m \u001b[0mchildren\u001b[0m \u001b[0;32mif\u001b[0m \u001b[0mx\u001b[0m \u001b[0;32min\u001b[0m \u001b[0mno_maternal_deletion\u001b[0m \u001b[0;32mand\u001b[0m \u001b[0mchild_id_to_affected\u001b[0m\u001b[0;34m[\u001b[0m\u001b[0mx\u001b[0m\u001b[0;34m]\u001b[0m \u001b[0;34m==\u001b[0m \u001b[0;34m'2'\u001b[0m \u001b[0;32mand\u001b[0m \u001b[0mchild_id_to_sex\u001b[0m\u001b[0;34m[\u001b[0m\u001b[0mx\u001b[0m\u001b[0;34m]\u001b[0m \u001b[0;34m==\u001b[0m \u001b[0;34m'1'\u001b[0m \u001b[0;32mand\u001b[0m \u001b[0mx\u001b[0m \u001b[0;32min\u001b[0m \u001b[0mmaternal_transmission_op\u001b[0m\u001b[0;34m]\u001b[0m\u001b[0;34m)\u001b[0m\u001b[0;34m\u001b[0m\u001b[0m\n\u001b[1;32m      4\u001b[0m \u001b[0maff_male_maybe_maternal\u001b[0m \u001b[0;34m=\u001b[0m \u001b[0mlen\u001b[0m\u001b[0;34m(\u001b[0m\u001b[0;34m[\u001b[0m\u001b[0mx\u001b[0m \u001b[0;32mfor\u001b[0m \u001b[0mx\u001b[0m \u001b[0;32min\u001b[0m \u001b[0mchildren\u001b[0m \u001b[0;32mif\u001b[0m \u001b[0mx\u001b[0m \u001b[0;32min\u001b[0m \u001b[0mmaybe_maternal_deletion\u001b[0m \u001b[0;32mand\u001b[0m \u001b[0mchild_id_to_affected\u001b[0m\u001b[0;34m[\u001b[0m\u001b[0mx\u001b[0m\u001b[0;34m]\u001b[0m \u001b[0;34m==\u001b[0m \u001b[0;34m'2'\u001b[0m \u001b[0;32mand\u001b[0m \u001b[0mchild_id_to_sex\u001b[0m\u001b[0;34m[\u001b[0m\u001b[0mx\u001b[0m\u001b[0;34m]\u001b[0m \u001b[0;34m==\u001b[0m \u001b[0;34m'1'\u001b[0m \u001b[0;32mand\u001b[0m \u001b[0mx\u001b[0m \u001b[0;32min\u001b[0m \u001b[0mmaternal_transmission_op\u001b[0m\u001b[0;34m]\u001b[0m\u001b[0;34m)\u001b[0m\u001b[0;34m\u001b[0m\u001b[0m\n\u001b[1;32m      5\u001b[0m \u001b[0;34m\u001b[0m\u001b[0m\n",
      "\u001b[0;31mNameError\u001b[0m: name 'child_id_to_affected' is not defined"
     ]
    }
   ],
   "source": [
    "# TDT\n",
    "aff_male_maternal = len([x for x in children if x in maternal_deletion and child_id_to_affected[x] == '2' and child_id_to_sex[x] == '1' and x in maternal_transmission_op])\n",
    "aff_male_no_maternal = len([x for x in children if x in no_maternal_deletion and child_id_to_affected[x] == '2' and child_id_to_sex[x] == '1' and x in maternal_transmission_op])\n",
    "aff_male_maybe_maternal = len([x for x in children if x in maybe_maternal_deletion and child_id_to_affected[x] == '2' and child_id_to_sex[x] == '1' and x in maternal_transmission_op])\n",
    "\n",
    "aff_female_maternal = len([x for x in children if x in maternal_deletion and child_id_to_affected[x] == '2' and child_id_to_sex[x] != '1' and x in maternal_transmission_op])\n",
    "aff_female_no_maternal = len([x for x in children if x in no_maternal_deletion and child_id_to_affected[x] == '2' and child_id_to_sex[x] != '1' and x in maternal_transmission_op])\n",
    "aff_female_maybe_maternal = len([x for x in children if x in maybe_maternal_deletion and child_id_to_affected[x] == '2' and child_id_to_sex[x] != '1' and x in maternal_transmission_op])\n",
    "\n",
    "unaff_male_maternal = len([x for x in children if x in maternal_deletion and child_id_to_affected[x] != '2' and child_id_to_sex[x] == '1' and x in maternal_transmission_op])\n",
    "unaff_male_no_maternal = len([x for x in children if x in no_maternal_deletion and child_id_to_affected[x] != '2' and child_id_to_sex[x] == '1' and x in maternal_transmission_op])\n",
    "unaff_male_maybe_maternal = len([x for x in children if x in maybe_maternal_deletion and child_id_to_affected[x] != '2' and child_id_to_sex[x] == '1' and x in maternal_transmission_op])\n",
    "\n",
    "unaff_female_maternal = len([x for x in children if x in maternal_deletion and child_id_to_affected[x] != '2' and child_id_to_sex[x] != '1' and x in maternal_transmission_op])\n",
    "unaff_female_no_maternal = len([x for x in children if x in no_maternal_deletion and child_id_to_affected[x] != '2' and child_id_to_sex[x] != '1' and x in maternal_transmission_op])\n",
    "unaff_female_maybe_maternal = len([x for x in children if x in maybe_maternal_deletion and child_id_to_affected[x] != '2' and child_id_to_sex[x] != '1' and x in maternal_transmission_op])\n",
    "\n",
    "aff_male_paternal = len([x for x in children if x in paternal_deletion and child_id_to_affected[x] == '2' and child_id_to_sex[x] == '1' and x in paternal_transmission_op])\n",
    "aff_male_no_paternal = len([x for x in children if x in no_paternal_deletion and child_id_to_affected[x] == '2' and child_id_to_sex[x] == '1' and x in paternal_transmission_op])\n",
    "aff_male_maybe_paternal = len([x for x in children if x in maybe_paternal_deletion and child_id_to_affected[x] == '2' and child_id_to_sex[x] == '1' and x in paternal_transmission_op])\n",
    "\n",
    "aff_female_paternal = len([x for x in children if x in paternal_deletion and child_id_to_affected[x] == '2' and child_id_to_sex[x] != '1' and x in paternal_transmission_op])\n",
    "aff_female_no_paternal = len([x for x in children if x in no_paternal_deletion and child_id_to_affected[x] == '2' and child_id_to_sex[x] != '1' and x in paternal_transmission_op])\n",
    "aff_female_maybe_paternal = len([x for x in children if x in maybe_paternal_deletion and child_id_to_affected[x] == '2' and child_id_to_sex[x] != '1' and x in paternal_transmission_op])\n",
    "\n",
    "unaff_male_paternal = len([x for x in children if x in paternal_deletion and child_id_to_affected[x] != '2' and child_id_to_sex[x] == '1' and x in paternal_transmission_op])\n",
    "unaff_male_no_paternal = len([x for x in children if x in no_paternal_deletion and child_id_to_affected[x] != '2' and child_id_to_sex[x] == '1' and x in paternal_transmission_op])\n",
    "unaff_male_maybe_paternal = len([x for x in children if x in maybe_paternal_deletion and child_id_to_affected[x] != '2' and child_id_to_sex[x] == '1' and x in paternal_transmission_op])\n",
    "\n",
    "unaff_female_paternal = len([x for x in children if x in paternal_deletion and child_id_to_affected[x] != '2' and child_id_to_sex[x] != '1' and x in paternal_transmission_op])\n",
    "unaff_female_no_paternal = len([x for x in children if x in no_paternal_deletion and child_id_to_affected[x] != '2' and child_id_to_sex[x] != '1' and x in paternal_transmission_op])\n",
    "unaff_female_maybe_paternal = len([x for x in children if x in maybe_paternal_deletion and child_id_to_affected[x] != '2' and child_id_to_sex[x] != '1' and x in paternal_transmission_op])\n",
    "\n",
    "total_aff_male_mat_known = len([x for x in children if child_id_to_affected[x] == '2' and x not in maybe_maternal_deletion and child_id_to_sex[x] == '1' and x in maternal_transmission_op])\n",
    "total_unaff_male_mat_known = len([x for x in children if child_id_to_affected[x] != '2' and x not in maybe_maternal_deletion and child_id_to_sex[x] == '1' and x in maternal_transmission_op])\n",
    "total_aff_male_pat_known = len([x for x in children if child_id_to_affected[x] == '2' and x not in maybe_paternal_deletion and child_id_to_sex[x] == '1' and x in paternal_transmission_op])\n",
    "total_unaff_male_pat_known = len([x for x in children if child_id_to_affected[x] != '2' and x not in maybe_paternal_deletion and child_id_to_sex[x] == '1' and x in paternal_transmission_op])\n",
    "total_aff_female_mat_known = len([x for x in children if child_id_to_affected[x] == '2' and x not in maybe_maternal_deletion and child_id_to_sex[x] != '1' and x in maternal_transmission_op])\n",
    "total_unaff_female_mat_known = len([x for x in children if child_id_to_affected[x] != '2' and x not in maybe_maternal_deletion and child_id_to_sex[x] != '1' and x in maternal_transmission_op])\n",
    "total_aff_female_pat_known = len([x for x in children if child_id_to_affected[x] == '2' and x not in maybe_paternal_deletion and child_id_to_sex[x] != '1' and x in paternal_transmission_op])\n",
    "total_unaff_female_pat_known = len([x for x in children if child_id_to_affected[x] != '2' and x not in maybe_paternal_deletion and child_id_to_sex[x] != '1' and x in paternal_transmission_op])\n",
    "\n",
    "total_aff_male = len([x for x in children if child_id_to_affected[x] == '2' and child_id_to_sex[x] == '1'])\n",
    "total_unaff_male = len([x for x in children if child_id_to_affected[x] != '2' and child_id_to_sex[x] == '1'])\n",
    "total_aff_female = len([x for x in children if child_id_to_affected[x] == '2' and child_id_to_sex[x] != '1'])\n",
    "total_unaff_female = len([x for x in children if child_id_to_affected[x] != '2' and child_id_to_sex[x] != '1'])\n",
    "\n",
    "print('Confusion')\n",
    "print('\\t\\t\\tAffected M\\tAffected F\\tUnaffected M\\tUnaffected F')\n",
    "print('Maternal Deletion\\t%d (%0.2f)\\t%d (%0.2f)\\t%d (%0.2f)\\t%d (%0.2f)' % (aff_male_maternal, aff_male_maternal/total_aff_male_mat_known, \n",
    "                                                     aff_female_maternal, aff_female_maternal/total_aff_female_mat_known,\n",
    "                                                     unaff_male_maternal, unaff_male_maternal/total_unaff_male_mat_known,\n",
    "                                                     unaff_female_maternal, unaff_female_maternal/total_unaff_female_mat_known))\n",
    "print('Maternal No Deletion\\t%d (%0.2f)\\t%d (%0.2f)\\t%d (%0.2f)\\t%d (%0.2f)' % (aff_male_no_maternal, aff_male_no_maternal/total_aff_male_mat_known, \n",
    "                                                        aff_female_no_maternal, aff_female_no_maternal/total_aff_female_mat_known,\n",
    "                                                        unaff_male_no_maternal, unaff_male_no_maternal/total_unaff_male_mat_known,\n",
    "                                                        unaff_female_no_maternal, unaff_female_no_maternal/total_unaff_female_mat_known))\n",
    "print('Maternal Not Included\\t%d (%0.2f)\\t%d (%0.2f)\\t%d (%0.2f)\\t%d (%0.2f)' % (aff_male_maybe_maternal, aff_male_maybe_maternal/total_aff_male, \n",
    "                                                         aff_female_maybe_maternal, aff_female_maybe_maternal/total_aff_female, \n",
    "                                                         unaff_male_maybe_maternal, unaff_male_maybe_maternal/total_unaff_male, \n",
    "                                                         unaff_female_maybe_maternal, unaff_female_maybe_maternal/total_unaff_female))\n",
    "print()\n",
    "print('Paternal Deletion\\t%d (%0.2f)\\t%d (%0.2f)\\t%d (%0.2f)\\t%d (%0.2f)' % (aff_male_paternal, aff_male_paternal/total_aff_male_pat_known, \n",
    "                                                     aff_female_paternal, aff_female_paternal/total_aff_female_pat_known, \n",
    "                                                     unaff_male_paternal, unaff_male_paternal/total_unaff_male_pat_known,\n",
    "                                                     unaff_female_paternal, unaff_female_paternal/total_unaff_female_pat_known))\n",
    "print('Paternal No Deletion\\t%d (%0.2f)\\t%d (%0.2f)\\t%d (%0.2f)\\t%d (%0.2f)' % (aff_male_no_paternal, aff_male_no_paternal/total_aff_male_pat_known, \n",
    "                                                        aff_female_no_paternal, aff_female_no_paternal/total_aff_female_pat_known, \n",
    "                                                        unaff_male_no_paternal, unaff_male_no_paternal/total_unaff_male_pat_known,\n",
    "                                                        unaff_female_no_paternal, unaff_female_no_paternal/total_unaff_female_pat_known))\n",
    "print('Paternal Not Included\\t%d (%0.2f)\\t%d (%0.2f)\\t%d (%0.2f)\\t%d (%0.2f)' % (aff_male_maybe_paternal, aff_male_maybe_paternal/total_aff_male, \n",
    "                                                        aff_female_maybe_paternal, aff_female_maybe_paternal/total_aff_female, \n",
    "                                                        unaff_male_maybe_paternal, unaff_male_maybe_paternal/total_unaff_male,\n",
    "                                                        unaff_female_maybe_paternal, unaff_female_maybe_paternal/total_unaff_female))\n",
    "print()\n",
    "print('TDT', chi2_contingency([[aff_male_maternal+aff_male_paternal+aff_female_maternal+aff_female_paternal, \n",
    "                                unaff_male_maternal+unaff_male_paternal+unaff_female_maternal+unaff_female_paternal], \n",
    "                               [aff_male_no_maternal+aff_male_no_paternal+aff_female_no_maternal+aff_female_no_paternal, \n",
    "                                unaff_male_no_maternal+unaff_male_no_paternal+unaff_female_no_maternal+unaff_female_no_paternal]])[1])\n",
    "\n",
    "print('TDT Affected-Mat-Pat-Sex', chi2_contingency(\n",
    "    [[[[aff_male_maternal, aff_male_paternal], [aff_female_maternal, aff_female_paternal]],\n",
    "      [[aff_male_no_maternal, aff_male_no_paternal], [aff_female_no_maternal, aff_female_no_paternal]]],\n",
    "     [[[unaff_male_maternal, unaff_male_paternal], [unaff_female_maternal, unaff_female_paternal]],\n",
    "      [[unaff_male_no_maternal, unaff_male_no_paternal], [unaff_female_no_maternal, unaff_female_no_paternal]]]])[1])\n",
    "print('TDT Affected-Mat-Sex', chi2_contingency(\n",
    "    [[[aff_male_maternal, aff_female_maternal],\n",
    "      [aff_male_no_maternal, aff_female_no_maternal]],\n",
    "     [[unaff_male_maternal, unaff_female_maternal],\n",
    "      [unaff_male_no_maternal, unaff_female_no_maternal]]])[1])\n",
    "print('TDT Affected-Pat-Sex', chi2_contingency(\n",
    "    [[[aff_male_paternal, aff_female_paternal],\n",
    "      [aff_male_no_paternal, aff_female_no_paternal]],\n",
    "     [[unaff_male_paternal, unaff_female_paternal],\n",
    "      [unaff_male_no_paternal, unaff_female_no_paternal]]])[1])\n",
    "print('TDT Affected-Mat-Pat', chi2_contingency(\n",
    "    [[[aff_male_maternal+aff_female_maternal, aff_male_paternal+aff_female_paternal],\n",
    "      [aff_male_no_maternal+aff_female_no_maternal, aff_male_no_paternal+aff_female_no_paternal]],\n",
    "     [[unaff_male_maternal+unaff_female_maternal, unaff_male_paternal+unaff_female_paternal],\n",
    "      [unaff_male_no_maternal+unaff_female_no_maternal, unaff_male_no_paternal+unaff_female_no_paternal]]])[1])\n",
    "print('TDT Mat-Pat-Sex', chi2_contingency(\n",
    "    [[[aff_male_maternal+unaff_male_maternal, aff_male_paternal+unaff_male_paternal], \n",
    "       [aff_female_maternal+unaff_female_maternal, aff_female_paternal+unaff_female_paternal]],\n",
    "      [[aff_male_no_maternal+unaff_male_no_maternal, aff_male_no_paternal+unaff_male_no_paternal], \n",
    "       [aff_female_no_maternal+unaff_female_no_maternal, aff_female_no_paternal+unaff_female_no_paternal]]])[1])\n",
    "print('TDT Affected-Mat', chi2_contingency(\n",
    "    [[aff_male_maternal+aff_female_maternal,\n",
    "      aff_male_no_maternal+aff_female_no_maternal],\n",
    "     [unaff_male_maternal+unaff_female_maternal,\n",
    "      unaff_male_no_maternal+unaff_female_no_maternal]])[1])\n",
    "print('TDT Affected-Pat', chi2_contingency(\n",
    "    [[aff_male_paternal+aff_female_paternal,\n",
    "      aff_male_no_paternal+aff_female_no_paternal],\n",
    "     [unaff_male_paternal+unaff_female_paternal,\n",
    "      unaff_male_no_paternal+unaff_female_no_paternal]])[1])\n",
    "print('TDT Affected-Sex Mat', chi2_contingency(\n",
    "    [[aff_male_maternal+aff_male_no_maternal, aff_female_maternal+aff_female_no_maternal],\n",
    "     [unaff_male_maternal+unaff_male_no_maternal, unaff_female_maternal+unaff_female_no_maternal]])[1])\n",
    "print('TDT Affected-Sex Pat', chi2_contingency(\n",
    "    [[aff_male_paternal+aff_male_no_paternal, aff_female_paternal+aff_female_no_paternal],\n",
    "     [unaff_male_paternal+unaff_male_no_paternal, unaff_female_paternal+unaff_female_no_paternal]])[1])\n",
    "\n",
    "print()\n",
    "print('TDT Male', chi2_contingency([[aff_male_maternal+aff_male_paternal, \n",
    "                                unaff_male_maternal+unaff_male_paternal], \n",
    "                               [aff_male_no_maternal+aff_male_no_paternal,\n",
    "                                unaff_male_no_maternal+unaff_male_no_paternal]])[1])\n",
    "print('TDT Female', chi2_contingency([[aff_female_maternal+aff_female_paternal, \n",
    "                                unaff_female_maternal+unaff_female_paternal], \n",
    "                               [aff_female_no_maternal+aff_female_no_paternal, \n",
    "                                unaff_female_no_maternal+unaff_female_no_paternal]])[1])\n",
    "print('TDT Maternal', chi2_contingency([[aff_male_maternal+aff_female_maternal, \n",
    "                                unaff_male_maternal+unaff_female_maternal], \n",
    "                               [aff_male_no_maternal+aff_female_no_maternal,\n",
    "                                unaff_male_no_maternal+unaff_female_no_paternal]])[1])\n",
    "print('TDT Paternal', chi2_contingency([[aff_male_paternal+aff_female_paternal, \n",
    "                                unaff_male_paternal+unaff_female_paternal], \n",
    "                               [aff_male_no_paternal+aff_female_no_paternal, \n",
    "                                unaff_male_no_paternal+unaff_female_no_paternal]])[1])\n",
    "print()\n",
    "print('Maternal Male', chi2_contingency([[aff_male_maternal, unaff_male_maternal], [aff_male_no_maternal, unaff_male_no_maternal]])[1])\n",
    "print('Paternal Male', chi2_contingency([[aff_male_paternal, unaff_male_paternal], [aff_male_no_paternal, unaff_male_no_paternal]])[1])\n",
    "print('Maternal Female', chi2_contingency([[aff_female_maternal, unaff_female_maternal], [aff_female_no_maternal, unaff_female_no_maternal]])[1])\n",
    "print('Paternal Female', chi2_contingency([[aff_female_paternal, unaff_female_paternal], [aff_female_no_paternal, unaff_female_no_paternal]])[1])\n",
    "\n",
    "print()\n",
    "print('Same', chi2_contingency([[aff_male_paternal+aff_female_maternal, unaff_male_paternal+unaff_female_maternal], [aff_male_no_paternal+aff_female_no_maternal, unaff_male_no_paternal+unaff_female_no_maternal]])[1])\n",
    "print('Opposite', chi2_contingency([[aff_male_maternal+aff_female_paternal, unaff_male_maternal+unaff_female_paternal], [aff_male_no_maternal+aff_female_no_paternal, unaff_male_no_maternal+unaff_female_no_paternal]])[1])\n"
   ]
  },
  {
   "cell_type": "code",
   "execution_count": 872,
   "metadata": {},
   "outputs": [
    {
     "name": "stdout",
     "output_type": "stream",
     "text": [
      "835\n",
      "835\n",
      "835\n"
     ]
    }
   ],
   "source": [
    "print(len(maternal_deletion | no_maternal_deletion))\n",
    "print(len(paternal_deletion | no_paternal_deletion))\n",
    "print(len((maternal_deletion | no_maternal_deletion) & (paternal_deletion | no_paternal_deletion)))"
   ]
  },
  {
   "cell_type": "code",
   "execution_count": 873,
   "metadata": {},
   "outputs": [
    {
     "name": "stdout",
     "output_type": "stream",
     "text": [
      "[[[156, 46], [80, 19]], [[21, 16], [12, 18]]]\n",
      "TDT Affected-Mat-Sex 8.84055441662e-07\n",
      "[[[158, 40], [76, 27]], [[21, 16], [20, 16]]]\n",
      "TDT Affected-Pat-Sex 0.000185936137478\n"
     ]
    },
    {
     "data": {
      "image/png": "[encoded data removed]",
      "text/plain": [
       "<matplotlib.figure.Figure at 0x11adf4e80>"
      ]
     },
     "metadata": {},
     "output_type": "display_data"
    }
   ],
   "source": [
    "c = [[[aff_male_maternal, aff_female_maternal],\n",
    "      [aff_male_no_maternal, aff_female_no_maternal]],\n",
    "     [[unaff_male_maternal, unaff_female_maternal],\n",
    "      [unaff_male_no_maternal, unaff_female_no_maternal]]]\n",
    "print(c)\n",
    "chisq = chi2_contingency(c)\n",
    "print('TDT Affected-Mat-Sex', chisq[1])\n",
    "plt.subplot(1, 2, 1)\n",
    "plt.imshow(np.log(np.reshape(np.power(c-chisq[3], 2)/chisq[3], (4, 2))), vmax=3, vmin=-3, cmap='PiYG')\n",
    "plt.colorbar()\n",
    "\n",
    "c = [[[aff_male_paternal, aff_female_paternal],\n",
    "      [aff_male_no_paternal, aff_female_no_paternal]],\n",
    "     [[unaff_male_paternal, unaff_female_paternal],\n",
    "      [unaff_male_no_paternal, unaff_female_no_paternal]]]\n",
    "print(c)\n",
    "chisq = chi2_contingency(c)\n",
    "print('TDT Affected-Pat-Sex', chisq[1])\n",
    "plt.subplot(1, 2, 2)\n",
    "plt.imshow(np.log(np.reshape(np.power(c-chisq[3], 2)/chisq[3], (4, 2))), vmax=3, vmin=-3, cmap='PiYG')\n",
    "plt.colorbar()\n",
    "plt.show()"
   ]
  },
  {
   "cell_type": "code",
   "execution_count": 874,
   "metadata": {},
   "outputs": [
    {
     "name": "stdout",
     "output_type": "stream",
     "text": [
      "Confusion\n",
      "\t\t\tAffected M\tAffected F\tUnaffected M\tUnaffected F\n",
      "Maternal Deletion\t372 (0.68)\t105 (0.69)\t49 (0.67)\t43 (0.61)\n",
      "Maternal No Deletion\t171 (0.31)\t44 (0.29)\t24 (0.33)\t27 (0.38)\n",
      "Maternal Not Included\t704 (0.56)\t182 (0.54)\t80 (0.52)\t86 (0.55)\n",
      "\n",
      "Paternal Deletion\t384 (0.70)\t102 (0.67)\t42 (0.58)\t45 (0.63)\n",
      "Paternal No Deletion\t159 (0.29)\t47 (0.31)\t31 (0.42)\t25 (0.35)\n",
      "Paternal Not Included\t704 (0.56)\t182 (0.54)\t80 (0.52)\t86 (0.55)\n",
      "\n",
      "Maternal Male 0.916491143571\n",
      "Paternal Male 0.0311662373047\n",
      "Maternal Female 0.238709900833\n",
      "Paternal Female 0.646618558519\n",
      "\n",
      "Same 0.0111838867529\n",
      "Opposite 0.584778916127\n"
     ]
    }
   ],
   "source": [
    "aff_male_maternal = len([x for x in children if x in maternal_deletion and child_id_to_affected[x] == '2' and child_id_to_sex[x] == '1'])\n",
    "aff_male_no_maternal = len([x for x in children if x in no_maternal_deletion and child_id_to_affected[x] == '2' and child_id_to_sex[x] == '1'])\n",
    "aff_male_maybe_maternal = len([x for x in children if x in maybe_maternal_deletion and child_id_to_affected[x] == '2' and child_id_to_sex[x] == '1'])\n",
    "\n",
    "aff_female_maternal = len([x for x in children if x in maternal_deletion and child_id_to_affected[x] == '2' and child_id_to_sex[x] != '1'])\n",
    "aff_female_no_maternal = len([x for x in children if x in no_maternal_deletion and child_id_to_affected[x] == '2' and child_id_to_sex[x] != '1'])\n",
    "aff_female_maybe_maternal = len([x for x in children if x in maybe_maternal_deletion and child_id_to_affected[x] == '2' and child_id_to_sex[x] != '1'])\n",
    "\n",
    "unaff_male_maternal = len([x for x in children if x in maternal_deletion and child_id_to_affected[x] != '2' and child_id_to_sex[x] == '1'])\n",
    "unaff_male_no_maternal = len([x for x in children if x in no_maternal_deletion and child_id_to_affected[x] != '2' and child_id_to_sex[x] == '1'])\n",
    "unaff_male_maybe_maternal = len([x for x in children if x in maybe_maternal_deletion and child_id_to_affected[x] != '2' and child_id_to_sex[x] == '1'])\n",
    "\n",
    "unaff_female_maternal = len([x for x in children if x in maternal_deletion and child_id_to_affected[x] != '2' and child_id_to_sex[x] != '1'])\n",
    "unaff_female_no_maternal = len([x for x in children if x in no_maternal_deletion and child_id_to_affected[x] != '2' and child_id_to_sex[x] != '1'])\n",
    "unaff_female_maybe_maternal = len([x for x in children if x in maybe_maternal_deletion and child_id_to_affected[x] != '2' and child_id_to_sex[x] != '1'])\n",
    "\n",
    "aff_male_paternal = len([x for x in children if x in paternal_deletion and child_id_to_affected[x] == '2' and child_id_to_sex[x] == '1'])\n",
    "aff_male_no_paternal = len([x for x in children if x in no_paternal_deletion and child_id_to_affected[x] == '2' and child_id_to_sex[x] == '1'])\n",
    "aff_male_maybe_paternal = len([x for x in children if x in maybe_paternal_deletion and child_id_to_affected[x] == '2' and child_id_to_sex[x] == '1'])\n",
    "\n",
    "aff_female_paternal = len([x for x in children if x in paternal_deletion and child_id_to_affected[x] == '2' and child_id_to_sex[x] != '1'])\n",
    "aff_female_no_paternal = len([x for x in children if x in no_paternal_deletion and child_id_to_affected[x] == '2' and child_id_to_sex[x] != '1'])\n",
    "aff_female_maybe_paternal = len([x for x in children if x in maybe_paternal_deletion and child_id_to_affected[x] == '2' and child_id_to_sex[x] != '1'])\n",
    "\n",
    "unaff_male_paternal = len([x for x in children if x in paternal_deletion and child_id_to_affected[x] != '2' and child_id_to_sex[x] == '1'])\n",
    "unaff_male_no_paternal = len([x for x in children if x in no_paternal_deletion and child_id_to_affected[x] != '2' and child_id_to_sex[x] == '1'])\n",
    "unaff_male_maybe_paternal = len([x for x in children if x in maybe_paternal_deletion and child_id_to_affected[x] != '2' and child_id_to_sex[x] == '1'])\n",
    "\n",
    "unaff_female_paternal = len([x for x in children if x in paternal_deletion and child_id_to_affected[x] != '2' and child_id_to_sex[x] != '1'])\n",
    "unaff_female_no_paternal = len([x for x in children if x in no_paternal_deletion and child_id_to_affected[x] != '2' and child_id_to_sex[x] != '1'])\n",
    "unaff_female_maybe_paternal = len([x for x in children if x in maybe_paternal_deletion and child_id_to_affected[x] != '2' and child_id_to_sex[x] != '1'])\n",
    "\n",
    "total_aff_male_mat_known = len([x for x in children if child_id_to_affected[x] == '2' and x not in maybe_maternal_deletion and child_id_to_sex[x] == '1'])\n",
    "total_unaff_male_mat_known = len([x for x in children if child_id_to_affected[x] != '2' and x not in maybe_maternal_deletion and child_id_to_sex[x] == '1'])\n",
    "total_aff_male_pat_known = len([x for x in children if child_id_to_affected[x] == '2' and x not in maybe_paternal_deletion and child_id_to_sex[x] == '1'])\n",
    "total_unaff_male_pat_known = len([x for x in children if child_id_to_affected[x] != '2' and x not in maybe_paternal_deletion and child_id_to_sex[x] == '1'])\n",
    "total_aff_female_mat_known = len([x for x in children if child_id_to_affected[x] == '2' and x not in maybe_maternal_deletion and child_id_to_sex[x] != '1'])\n",
    "total_unaff_female_mat_known = len([x for x in children if child_id_to_affected[x] != '2' and x not in maybe_maternal_deletion and child_id_to_sex[x] != '1'])\n",
    "total_aff_female_pat_known = len([x for x in children if child_id_to_affected[x] == '2' and x not in maybe_paternal_deletion and child_id_to_sex[x] != '1'])\n",
    "total_unaff_female_pat_known = len([x for x in children if child_id_to_affected[x] != '2' and x not in maybe_paternal_deletion and child_id_to_sex[x] != '1'])\n",
    "\n",
    "total_aff_male = len([x for x in children if child_id_to_affected[x] == '2' and child_id_to_sex[x] == '1'])\n",
    "total_unaff_male = len([x for x in children if child_id_to_affected[x] != '2' and child_id_to_sex[x] == '1'])\n",
    "total_aff_female = len([x for x in children if child_id_to_affected[x] == '2' and child_id_to_sex[x] != '1'])\n",
    "total_unaff_female = len([x for x in children if child_id_to_affected[x] != '2' and child_id_to_sex[x] != '1'])\n",
    "\n",
    "print('Confusion')\n",
    "print('\\t\\t\\tAffected M\\tAffected F\\tUnaffected M\\tUnaffected F')\n",
    "print('Maternal Deletion\\t%d (%0.2f)\\t%d (%0.2f)\\t%d (%0.2f)\\t%d (%0.2f)' % (aff_male_maternal, aff_male_maternal/total_aff_male_mat_known, \n",
    "                                                     aff_female_maternal, aff_female_maternal/total_aff_female_mat_known,\n",
    "                                                     unaff_male_maternal, unaff_male_maternal/total_unaff_male_mat_known,\n",
    "                                                     unaff_female_maternal, unaff_female_maternal/total_unaff_female_mat_known))\n",
    "print('Maternal No Deletion\\t%d (%0.2f)\\t%d (%0.2f)\\t%d (%0.2f)\\t%d (%0.2f)' % (aff_male_no_maternal, aff_male_no_maternal/total_aff_male_mat_known, \n",
    "                                                        aff_female_no_maternal, aff_female_no_maternal/total_aff_female_mat_known,\n",
    "                                                        unaff_male_no_maternal, unaff_male_no_maternal/total_unaff_male_mat_known,\n",
    "                                                        unaff_female_no_maternal, unaff_female_no_maternal/total_unaff_female_mat_known))\n",
    "print('Maternal Not Included\\t%d (%0.2f)\\t%d (%0.2f)\\t%d (%0.2f)\\t%d (%0.2f)' % (aff_male_maybe_maternal, aff_male_maybe_maternal/total_aff_male, \n",
    "                                                         aff_female_maybe_maternal, aff_female_maybe_maternal/total_aff_female, \n",
    "                                                         unaff_male_maybe_maternal, unaff_male_maybe_maternal/total_unaff_male, \n",
    "                                                         unaff_female_maybe_maternal, unaff_female_maybe_maternal/total_unaff_female))\n",
    "print()\n",
    "print('Paternal Deletion\\t%d (%0.2f)\\t%d (%0.2f)\\t%d (%0.2f)\\t%d (%0.2f)' % (aff_male_paternal, aff_male_paternal/total_aff_male_pat_known, \n",
    "                                                     aff_female_paternal, aff_female_paternal/total_aff_female_pat_known, \n",
    "                                                     unaff_male_paternal, unaff_male_paternal/total_unaff_male_pat_known,\n",
    "                                                     unaff_female_paternal, unaff_female_paternal/total_unaff_female_pat_known))\n",
    "print('Paternal No Deletion\\t%d (%0.2f)\\t%d (%0.2f)\\t%d (%0.2f)\\t%d (%0.2f)' % (aff_male_no_paternal, aff_male_no_paternal/total_aff_male_pat_known, \n",
    "                                                        aff_female_no_paternal, aff_female_no_paternal/total_aff_female_pat_known, \n",
    "                                                        unaff_male_no_paternal, unaff_male_no_paternal/total_unaff_male_pat_known,\n",
    "                                                        unaff_female_no_paternal, unaff_female_no_paternal/total_unaff_female_pat_known))\n",
    "print('Paternal Not Included\\t%d (%0.2f)\\t%d (%0.2f)\\t%d (%0.2f)\\t%d (%0.2f)' % (aff_male_maybe_paternal, aff_male_maybe_paternal/total_aff_male, \n",
    "                                                        aff_female_maybe_paternal, aff_female_maybe_paternal/total_aff_female, \n",
    "                                                        unaff_male_maybe_paternal, unaff_male_maybe_paternal/total_unaff_male,\n",
    "                                                        unaff_female_maybe_paternal, unaff_female_maybe_paternal/total_unaff_female))\n",
    "print()\n",
    "print('Maternal Male', chi2_contingency([[aff_male_maternal, unaff_male_maternal], [aff_male_no_maternal, unaff_male_no_maternal]])[1])\n",
    "print('Paternal Male', chi2_contingency([[aff_male_paternal, unaff_male_paternal], [aff_male_no_paternal, unaff_male_no_paternal]])[1])\n",
    "print('Maternal Female', chi2_contingency([[aff_female_maternal, unaff_female_maternal], [aff_female_no_maternal, unaff_female_no_maternal]])[1])\n",
    "print('Paternal Female', chi2_contingency([[aff_female_paternal, unaff_female_paternal], [aff_female_no_paternal, unaff_female_no_paternal]])[1])\n",
    "\n",
    "print()\n",
    "print('Same', chi2_contingency([[aff_male_paternal+aff_female_maternal, unaff_male_paternal+unaff_female_maternal], [aff_male_no_paternal+aff_female_no_maternal, unaff_male_no_paternal+unaff_female_no_maternal]])[1])\n",
    "print('Opposite', chi2_contingency([[aff_male_maternal+aff_female_paternal, unaff_male_maternal+unaff_female_paternal], [aff_male_no_maternal+aff_female_no_paternal, unaff_male_no_maternal+unaff_female_no_paternal]])[1])\n"
   ]
  },
  {
   "cell_type": "code",
   "execution_count": 876,
   "metadata": {},
   "outputs": [
    {
     "name": "stdout",
     "output_type": "stream",
     "text": [
      "[[[[372, 384], [105, 102]], [[171, 159], [44, 47]]], [[[49, 42], [43, 45]], [[24, 31], [27, 25]]]]\n",
      "Affected-Mat-Pat-Sex 1.40331893765e-16\n"
     ]
    },
    {
     "data": {
      "image/png": "[encoded data removed]",
      "text/plain": [
       "<matplotlib.figure.Figure at 0x126672978>"
      ]
     },
     "metadata": {},
     "output_type": "display_data"
    }
   ],
   "source": [
    "c = [[[[aff_male_maternal, aff_male_paternal], [aff_female_maternal, aff_female_paternal]],\n",
    "      [[aff_male_no_maternal, aff_male_no_paternal], [aff_female_no_maternal, aff_female_no_paternal]]],\n",
    "     [[[unaff_male_maternal, unaff_male_paternal], [unaff_female_maternal, unaff_female_paternal]],\n",
    "      [[unaff_male_no_maternal, unaff_male_no_paternal], [unaff_female_no_maternal, unaff_female_no_paternal]]]]\n",
    "print(c)\n",
    "chisq = chi2_contingency(c)\n",
    "print('Affected-Mat-Pat-Sex', chisq[1])\n",
    "plt.imshow(np.log(np.reshape(np.power(c-chisq[3], 2)/chisq[3], (4, 4))), vmax=3, vmin=-3, cmap='PiYG')\n",
    "plt.colorbar()\n",
    "plt.show()"
   ]
  },
  {
   "cell_type": "markdown",
   "metadata": {},
   "source": [
    "# Analyze Deletions"
   ]
  },
  {
   "cell_type": "code",
   "execution_count": 685,
   "metadata": {},
   "outputs": [
    {
     "ename": "StopIteration",
     "evalue": "",
     "output_type": "error",
     "traceback": [
      "\u001b[0;31m---------------------------------------------------------------------------\u001b[0m",
      "\u001b[0;31mStopIteration\u001b[0m                             Traceback (most recent call last)",
      "\u001b[0;32m<ipython-input-685-070545afa673>\u001b[0m in \u001b[0;36m<module>\u001b[0;34m()\u001b[0m\n\u001b[1;32m     12\u001b[0m \u001b[0;32mfor\u001b[0m \u001b[0mj\u001b[0m \u001b[0;32min\u001b[0m \u001b[0mrange\u001b[0m\u001b[0;34m(\u001b[0m\u001b[0;36m3\u001b[0m\u001b[0;34m,\u001b[0m \u001b[0;36m6\u001b[0m\u001b[0;34m)\u001b[0m\u001b[0;34m:\u001b[0m\u001b[0;34m\u001b[0m\u001b[0m\n\u001b[1;32m     13\u001b[0m     \u001b[0;32mwith\u001b[0m \u001b[0mopen\u001b[0m\u001b[0;34m(\u001b[0m\u001b[0;34m'phased/chr.22.familysize.%d.families.txt'\u001b[0m \u001b[0;34m%\u001b[0m \u001b[0mj\u001b[0m\u001b[0;34m,\u001b[0m \u001b[0;34m'r'\u001b[0m\u001b[0;34m)\u001b[0m  \u001b[0;32mas\u001b[0m \u001b[0mf\u001b[0m\u001b[0;34m:\u001b[0m\u001b[0;34m\u001b[0m\u001b[0m\n\u001b[0;32m---> 14\u001b[0;31m         \u001b[0mnext\u001b[0m\u001b[0;34m(\u001b[0m\u001b[0mf\u001b[0m\u001b[0;34m)\u001b[0m \u001b[0;31m# skip header\u001b[0m\u001b[0;34m\u001b[0m\u001b[0m\n\u001b[0m\u001b[1;32m     15\u001b[0m         \u001b[0;32mfor\u001b[0m \u001b[0mline\u001b[0m \u001b[0;32min\u001b[0m \u001b[0mf\u001b[0m\u001b[0;34m:\u001b[0m\u001b[0;34m\u001b[0m\u001b[0m\n\u001b[1;32m     16\u001b[0m             \u001b[0mpieces\u001b[0m \u001b[0;34m=\u001b[0m \u001b[0mline\u001b[0m\u001b[0;34m.\u001b[0m\u001b[0mstrip\u001b[0m\u001b[0;34m(\u001b[0m\u001b[0;34m)\u001b[0m\u001b[0;34m.\u001b[0m\u001b[0msplit\u001b[0m\u001b[0;34m(\u001b[0m\u001b[0;34m'\\t'\u001b[0m\u001b[0;34m)\u001b[0m\u001b[0;34m\u001b[0m\u001b[0m\n",
      "\u001b[0;31mStopIteration\u001b[0m: "
     ]
    }
   ],
   "source": [
    "from collections import namedtuple\n",
    "\n",
    "Deletion = namedtuple('Deletion', ['family',\n",
    "                                   'start_pos', 'end_pos', 'start_index', 'end_index', 'length',\n",
    "                                   'is_maternal', 'patterns'])\n",
    "\n",
    "chrom = '22'\n",
    "deletions = []\n",
    "family_to_individuals = dict()\n",
    "individual_to_indices = dict()\n",
    "\n",
    "for j in range(3, 6):\n",
    "    with open('phased/chr.22.familysize.%d.families.txt' % j, 'r')  as f:\n",
    "        next(f) # skip header\n",
    "        for line in f:\n",
    "            pieces = line.strip().split('\\t')\n",
    "            family_key = pieces[0]\n",
    "            family_to_individuals[family_key] = pieces[1:(1+j)]\n",
    "            for ind_id, index in zip(pieces[1:(1+j)], [int(x) for x in pieces[(1+j):]]):\n",
    "                individual_to_indices[ind_id] = index\n",
    "                \n",
    "    # load deletions\n",
    "    with open('phased/chr.22.familysize.%d.phased.txt' % j, 'r')  as f:\n",
    "        next(f) # skip header\n",
    "        family = None\n",
    "        maternal_start_pos, maternal_end_pos = -1, -1\n",
    "        maternal_start_index, maternal_end_index = -1, -1\n",
    "        maternal_patterns = []\n",
    "        paternal_start_pos, paternal_end_pos = -1, -1\n",
    "        paternal_start_index, paternal_end_index = -1, -1\n",
    "        paternal_patterns = []\n",
    "        for line in f:\n",
    "            pieces = line.strip().split('\\t')\n",
    "            family_key = pieces[0]\n",
    "            inheritance_state = [int(x) for x in pieces[2:(2+(j*2))]]\n",
    "            start_pos, end_pos, start_index, end_index, score = [int(x) for x in pieces[(2+(j*2)):]]\n",
    "            length = end_pos - start_pos + 1\n",
    "            \n",
    "            if family != family_key:\n",
    "                family = family_key\n",
    "                maternal_start_pos, maternal_end_pos = -1, -1\n",
    "                maternal_start_index, maternal_end_index = -1, -1\n",
    "                maternal_patterns = []\n",
    "                paternal_start_pos, paternal_end_pos = -1, -1\n",
    "                paternal_start_index, paternal_end_index = -1, -1\n",
    "                paternal_patterns = []\n",
    "                \n",
    "            if sum(inheritance_state[:2]) > 0:\n",
    "                # maternal deletion\n",
    "                if maternal_start_pos == -1:\n",
    "                    maternal_start_pos, maternal_start_index = start_pos, start_index\n",
    "                maternal_end_pos, maternal_end_index = end_pos, end_index\n",
    "                maternal_patterns.append((inheritance_state, end_pos-start_pos))\n",
    "            elif maternal_start_pos != -1:\n",
    "                deletions.append(Deletion(family, maternal_start_pos, maternal_end_pos, maternal_start_index, maternal_end_index, maternal_end_pos-maternal_start_pos, True, maternal_patterns))\n",
    "                maternal_start_pos, maternal_end_pos = -1, -1\n",
    "                maternal_start_index, maternal_end_index = -1, -1  \n",
    "                maternal_patterns = []\n",
    "                        \n",
    "            if sum(inheritance_state[2:4]) > 0:\n",
    "                # paternal deletion\n",
    "                if paternal_start_pos == -1:\n",
    "                    paternal_start_pos, paternal_start_index = start_pos, start_index\n",
    "                paternal_end_pos, paternal_end_index = end_pos, end_index\n",
    "                paternal_patterns.append((inheritance_state, end_pos-start_pos))\n",
    "            elif maternal_start_pos != -1:\n",
    "                deletions.append(Deletion(family, paternal_start_pos, paternal_end_pos, paternal_start_index, paternal_end_index, paternal_end_pos-paternal_start_pos, False, paternal_patterns))\n",
    "                paternal_start_pos, paternal_end_pos = -1, -1\n",
    "                paternal_start_index, paternal_end_index = -1, -1 \n",
    "                paternal_patterns = []\n",
    "\n",
    "print('length 0 deletions', len([d for d in deletions if d.start_pos == d.end_pos]))\n",
    "deletions = [d for d in deletions if d.start_pos != d.end_pos]\n",
    "\n",
    "print('Deletions', len(deletions), 'Maternal', len([x for x in deletions if x.is_maternal]),\n",
    "     'Paternal', len([x for x in deletions if not x.is_maternal]))\n",
    "print('Families', len(family_to_individuals))"
   ]
  },
  {
   "cell_type": "code",
   "execution_count": 765,
   "metadata": {
    "collapsed": true
   },
   "outputs": [],
   "source": [
    "ped_file = '160826.ped'\n",
    "# Affection (0=unknown; 1=unaffected; 2=affected)\n",
    "child_id_to_affected = dict()\n",
    "child_id_to_sex = dict()\n",
    "with open(ped_file, 'r') as f:\n",
    "    for line in f:\n",
    "        pieces = line.strip().split('\\t')\n",
    "        if len(pieces) >= 6:\n",
    "            fam_id, child_id, f_id, m_id, sex, disease_status = pieces[0:6]\n",
    "            child_id_to_affected[child_id] = disease_status\n",
    "            child_id_to_sex[child_id] = sex"
   ]
  },
  {
   "cell_type": "code",
   "execution_count": 687,
   "metadata": {},
   "outputs": [
    {
     "data": {
      "image/png": "[encoded data removed]",
      "text/plain": [
       "<matplotlib.figure.Figure at 0x12b8ef668>"
      ]
     },
     "metadata": {},
     "output_type": "display_data"
    }
   ],
   "source": [
    "from collections import Counter\n",
    "import matplotlib.pyplot as plt\n",
    "\n",
    "# Check for outliers\n",
    "c = Counter([x.family for x in deletions])\n",
    "plt.hist(list(c.values()))\n",
    "plt.show()"
   ]
  },
  {
   "cell_type": "code",
   "execution_count": 688,
   "metadata": {},
   "outputs": [
    {
     "name": "stdout",
     "output_type": "stream",
     "text": [
      "min length 0 max length 12805938\n"
     ]
    },
    {
     "data": {
      "image/png": "[encoded data removed]",
      "text/plain": [
       "<matplotlib.figure.Figure at 0x120325080>"
      ]
     },
     "metadata": {},
     "output_type": "display_data"
    }
   ],
   "source": [
    "import math\n",
    "\n",
    "# length of deletions\n",
    "base = 2\n",
    "max_length = max([d.length for d in deletions]) \n",
    "min_length = min([d.length for d in deletions]) \n",
    "print('min length', min_length, 'max length', max_length)\n",
    "plt.hist([d.length for d in deletions], bins=[pow(base, i) for i in range(math.ceil(math.log(max_length, base))+1)])\n",
    "plt.gca().set_xscale(\"log\")\n",
    "plt.show()"
   ]
  },
  {
   "cell_type": "code",
   "execution_count": 689,
   "metadata": {},
   "outputs": [
    {
     "data": {
      "image/png": "[encoded data removed]",
      "text/plain": [
       "<matplotlib.figure.Figure at 0x1214d0860>"
      ]
     },
     "metadata": {},
     "output_type": "display_data"
    }
   ],
   "source": [
    "import numpy as np\n",
    "\n",
    "max_index = max([d.end_index for d in deletions])\n",
    "snp_positions = np.zeros((max_index+1,))\n",
    "deldist = np.zeros((max_index+1,))\n",
    "for d in deletions:\n",
    "    deldist[d.start_index:(d.end_index+1)] += 1\n",
    "    snp_positions[d.start_index] = d.start_pos\n",
    "    snp_positions[d.end_index] = d.end_pos\n",
    "\n",
    "indices = np.where(snp_positions > 0)[0]\n",
    "\n",
    "plt.figure(figsize=(12, 5))\n",
    "plt.plot(snp_positions[indices], deldist[indices])\n",
    "plt.show()"
   ]
  },
  {
   "cell_type": "code",
   "execution_count": 690,
   "metadata": {},
   "outputs": [
    {
     "data": {
      "image/png": "[encoded data removed]",
      "text/plain": [
       "<matplotlib.figure.Figure at 0x1214d0a58>"
      ]
     },
     "metadata": {},
     "output_type": "display_data"
    }
   ],
   "source": [
    "start, end = 23500000, 25900000\n",
    "\n",
    "indices = np.where((snp_positions > 0) & (snp_positions >= start) & (snp_positions <= end))[0]\n",
    "\n",
    "plt.figure(figsize=(12, 5))\n",
    "plt.plot(snp_positions[indices], deldist[indices])\n",
    "plt.show()"
   ]
  },
  {
   "cell_type": "code",
   "execution_count": 691,
   "metadata": {},
   "outputs": [
    {
     "data": {
      "image/png": "[encoded data removed]",
      "text/plain": [
       "<matplotlib.figure.Figure at 0x11ab004e0>"
      ]
     },
     "metadata": {},
     "output_type": "display_data"
    }
   ],
   "source": [
    "start, end = 24340000, 24400000\n",
    "\n",
    "indices = np.where((snp_positions > 0) & (snp_positions >= start) & (snp_positions <= end))[0]\n",
    "\n",
    "plt.figure(figsize=(12, 5))\n",
    "plt.plot(snp_positions[indices], deldist[indices])\n",
    "plt.show()"
   ]
  },
  {
   "cell_type": "code",
   "execution_count": 692,
   "metadata": {},
   "outputs": [
    {
     "name": "stdout",
     "output_type": "stream",
     "text": [
      "7\n",
      "5\n"
     ]
    },
    {
     "data": {
      "image/png": "[encoded data removed]",
      "text/plain": [
       "<matplotlib.figure.Figure at 0x1228c03c8>"
      ]
     },
     "metadata": {},
     "output_type": "display_data"
    }
   ],
   "source": [
    "# start and end\n",
    "delsofinterest = [d for d in deletions if d.start_pos >= start and d.end_pos <= end]\n",
    "print(len(delsofinterest))\n",
    "family_to_del = dict()\n",
    "for d in delsofinterest:\n",
    "    if d.family not in family_to_del or family_to_del[d.family].length < d.length:\n",
    "        family_to_del[d.family] = d\n",
    "delsofinterest = list(family_to_del.values())\n",
    "print(len(delsofinterest))\n",
    "        \n",
    "plt.figure(figsize=(15, 5))\n",
    "plt.hist([d.start_pos for d in delsofinterest], bins=range(start, end, 600))\n",
    "plt.hist([d.end_pos for d in delsofinterest], bins=range(start, end, 600))\n",
    "plt.show()"
   ]
  },
  {
   "cell_type": "code",
   "execution_count": 693,
   "metadata": {},
   "outputs": [
    {
     "name": "stdout",
     "output_type": "stream",
     "text": [
      "Confusion\n",
      "\t\tAffected\tUnaffected\tMom\t\tDad\n",
      "Double Del\t4 (0.80)\t0 (0.00)\t2 (0.40)\t1 (0.20)\n",
      "Single Del Mat\t1 (0.20)\t0 (0.00)\t2 (0.40)\t4 (0.80)\n",
      "Single Del Pat\t0 (0.00)\t1 (1.00)\n",
      "No Del\t\t0 (0.00)\t0 (0.00)\t1 (0.20)\t0 (0.00)\n",
      "Not Included\t12 (0.71)\t1 (0.50)\t9 (0.64)\t9 (0.64)\n",
      "Double Del p-value 0.802033974283\n"
     ]
    },
    {
     "ename": "ValueError",
     "evalue": "The internally computed table of expected frequencies has a zero element at (0, 0).",
     "output_type": "error",
     "traceback": [
      "\u001b[0;31m---------------------------------------------------------------------------\u001b[0m",
      "\u001b[0;31mValueError\u001b[0m                                Traceback (most recent call last)",
      "\u001b[0;32m<ipython-input-693-29329d57ff5d>\u001b[0m in \u001b[0;36m<module>\u001b[0;34m()\u001b[0m\n\u001b[1;32m    186\u001b[0m                                                                    len(family_to_individuals)-total_dad, (len(family_to_individuals)-total_dad)/len(family_to_individuals)))\n\u001b[1;32m    187\u001b[0m \u001b[0mprint\u001b[0m\u001b[0;34m(\u001b[0m\u001b[0;34m'Double Del p-value'\u001b[0m\u001b[0;34m,\u001b[0m \u001b[0mchi2_contingency\u001b[0m\u001b[0;34m(\u001b[0m\u001b[0;34m[\u001b[0m\u001b[0;34m[\u001b[0m\u001b[0maff_doubledel\u001b[0m\u001b[0;34m,\u001b[0m \u001b[0munaff_doubledel\u001b[0m\u001b[0;34m]\u001b[0m\u001b[0;34m,\u001b[0m \u001b[0;34m[\u001b[0m\u001b[0maff_singledel\u001b[0m\u001b[0;34m+\u001b[0m\u001b[0maff_nodel\u001b[0m\u001b[0;34m,\u001b[0m \u001b[0munaff_singledel\u001b[0m\u001b[0;34m+\u001b[0m\u001b[0munaff_nodel\u001b[0m\u001b[0;34m]\u001b[0m\u001b[0;34m]\u001b[0m\u001b[0;34m)\u001b[0m\u001b[0;34m[\u001b[0m\u001b[0;36m1\u001b[0m\u001b[0;34m]\u001b[0m\u001b[0;34m)\u001b[0m\u001b[0;34m\u001b[0m\u001b[0m\n\u001b[0;32m--> 188\u001b[0;31m \u001b[0mprint\u001b[0m\u001b[0;34m(\u001b[0m\u001b[0;34m'No Del p-value'\u001b[0m\u001b[0;34m,\u001b[0m \u001b[0mchi2_contingency\u001b[0m\u001b[0;34m(\u001b[0m\u001b[0;34m[\u001b[0m\u001b[0;34m[\u001b[0m\u001b[0maff_nodel\u001b[0m\u001b[0;34m,\u001b[0m \u001b[0munaff_nodel\u001b[0m\u001b[0;34m]\u001b[0m\u001b[0;34m,\u001b[0m \u001b[0;34m[\u001b[0m\u001b[0maff_doubledel\u001b[0m\u001b[0;34m+\u001b[0m\u001b[0maff_singledel\u001b[0m\u001b[0;34m,\u001b[0m \u001b[0munaff_doubledel\u001b[0m\u001b[0;34m+\u001b[0m\u001b[0munaff_singledel\u001b[0m\u001b[0;34m]\u001b[0m\u001b[0;34m]\u001b[0m\u001b[0;34m)\u001b[0m\u001b[0;34m[\u001b[0m\u001b[0;36m1\u001b[0m\u001b[0;34m]\u001b[0m\u001b[0;34m)\u001b[0m\u001b[0;34m\u001b[0m\u001b[0m\n\u001b[0m\u001b[1;32m    189\u001b[0m \u001b[0mprint\u001b[0m\u001b[0;34m(\u001b[0m\u001b[0;34m'Del p-value'\u001b[0m\u001b[0;34m,\u001b[0m \u001b[0mchi2_contingency\u001b[0m\u001b[0;34m(\u001b[0m\u001b[0;34m[\u001b[0m\u001b[0;34m[\u001b[0m\u001b[0maff_doubledel\u001b[0m\u001b[0;34m,\u001b[0m \u001b[0munaff_doubledel\u001b[0m\u001b[0;34m]\u001b[0m\u001b[0;34m,\u001b[0m \u001b[0;34m[\u001b[0m\u001b[0maff_singledel\u001b[0m\u001b[0;34m,\u001b[0m \u001b[0munaff_singledel\u001b[0m\u001b[0;34m]\u001b[0m\u001b[0;34m,\u001b[0m \u001b[0;34m[\u001b[0m\u001b[0maff_nodel\u001b[0m\u001b[0;34m,\u001b[0m \u001b[0munaff_nodel\u001b[0m\u001b[0;34m]\u001b[0m\u001b[0;34m]\u001b[0m\u001b[0;34m)\u001b[0m\u001b[0;34m[\u001b[0m\u001b[0;36m1\u001b[0m\u001b[0;34m]\u001b[0m\u001b[0;34m)\u001b[0m\u001b[0;34m\u001b[0m\u001b[0m\n\u001b[1;32m    190\u001b[0m \u001b[0mprint\u001b[0m\u001b[0;34m(\u001b[0m\u001b[0;34m'Del allele p-value'\u001b[0m\u001b[0;34m,\u001b[0m \u001b[0mchi2_contingency\u001b[0m\u001b[0;34m(\u001b[0m\u001b[0;34m[\u001b[0m\u001b[0;34m[\u001b[0m\u001b[0;36m2\u001b[0m\u001b[0;34m*\u001b[0m\u001b[0maff_doubledel\u001b[0m\u001b[0;34m+\u001b[0m\u001b[0maff_singledel\u001b[0m\u001b[0;34m,\u001b[0m \u001b[0;36m2\u001b[0m\u001b[0;34m*\u001b[0m\u001b[0munaff_doubledel\u001b[0m\u001b[0;34m+\u001b[0m\u001b[0munaff_singledel\u001b[0m\u001b[0;34m]\u001b[0m\u001b[0;34m,\u001b[0m \u001b[0;34m[\u001b[0m\u001b[0;36m2\u001b[0m\u001b[0;34m*\u001b[0m\u001b[0maff_nodel\u001b[0m\u001b[0;34m+\u001b[0m\u001b[0maff_singledel\u001b[0m\u001b[0;34m,\u001b[0m \u001b[0;36m2\u001b[0m\u001b[0;34m*\u001b[0m\u001b[0munaff_nodel\u001b[0m\u001b[0;34m+\u001b[0m\u001b[0munaff_singledel\u001b[0m\u001b[0;34m]\u001b[0m\u001b[0;34m]\u001b[0m\u001b[0;34m)\u001b[0m\u001b[0;34m[\u001b[0m\u001b[0;36m1\u001b[0m\u001b[0;34m]\u001b[0m\u001b[0;34m)\u001b[0m\u001b[0;34m\u001b[0m\u001b[0m\n",
      "\u001b[0;32m//anaconda/lib/python3.6/site-packages/scipy/stats/contingency.py\u001b[0m in \u001b[0;36mchi2_contingency\u001b[0;34m(observed, correction, lambda_)\u001b[0m\n\u001b[1;32m    251\u001b[0m         \u001b[0mzeropos\u001b[0m \u001b[0;34m=\u001b[0m \u001b[0mlist\u001b[0m\u001b[0;34m(\u001b[0m\u001b[0mzip\u001b[0m\u001b[0;34m(\u001b[0m\u001b[0;34m*\u001b[0m\u001b[0mnp\u001b[0m\u001b[0;34m.\u001b[0m\u001b[0mwhere\u001b[0m\u001b[0;34m(\u001b[0m\u001b[0mexpected\u001b[0m \u001b[0;34m==\u001b[0m \u001b[0;36m0\u001b[0m\u001b[0;34m)\u001b[0m\u001b[0;34m)\u001b[0m\u001b[0;34m)\u001b[0m\u001b[0;34m[\u001b[0m\u001b[0;36m0\u001b[0m\u001b[0;34m]\u001b[0m\u001b[0;34m\u001b[0m\u001b[0m\n\u001b[1;32m    252\u001b[0m         raise ValueError(\"The internally computed table of expected \"\n\u001b[0;32m--> 253\u001b[0;31m                          \"frequencies has a zero element at %s.\" % (zeropos,))\n\u001b[0m\u001b[1;32m    254\u001b[0m \u001b[0;34m\u001b[0m\u001b[0m\n\u001b[1;32m    255\u001b[0m     \u001b[0;31m# The degrees of freedom\u001b[0m\u001b[0;34m\u001b[0m\u001b[0;34m\u001b[0m\u001b[0m\n",
      "\u001b[0;31mValueError\u001b[0m: The internally computed table of expected frequencies has a zero element at (0, 0)."
     ]
    }
   ],
   "source": [
    "from scipy.stats import chi2_contingency\n",
    "\n",
    "aff_male_doubledel, aff_female_doubledel, unaff_male_doubledel, unaff_female_doubledel, mom_doubledel, dad_doubledel = 0, 0, 0, 0, 0, 0\n",
    "aff_male_singledel_mat, aff_female_singledel_mat, unaff_male_singledel_mat, unaff_female_singledel_mat, mom_singledel, dad_singledel = 0, 0, 0, 0, 0, 0\n",
    "aff_male_singledel_pat, aff_female_singledel_pat, unaff_male_singledel_pat, unaff_female_singledel_pat, mom_singledel, dad_singledel = 0, 0, 0, 0, 0, 0\n",
    "aff_male_nodel, aff_female_nodel, unaff_male_nodel, unaff_female_nodel, mom_nodel, dad_nodel = 0, 0, 0, 0, 0, 0\n",
    "\n",
    "aff_male_mom_doubledel, aff_female_mom_doubledel, unaff_male_mom_doubledel, unaff_female_mom_doubledel = 0, 0, 0, 0\n",
    "aff_male_mom_singledel, aff_female_mom_singledel, unaff_male_mom_singledel, unaff_female_mom_singledel = 0, 0, 0, 0\n",
    "aff_male_mom_nodel, aff_female_mom_nodel, unaff_male_mom_nodel, unaff_female_mom_nodel = 0, 0, 0, 0\n",
    "\n",
    "mom_transop, dad_transop = 0, 0\n",
    "\n",
    "doubledel_inds = []\n",
    "singledel_inds = []\n",
    "nodel_inds = []\n",
    "\n",
    "for d in delsofinterest:\n",
    "    individuals = family_to_individuals[d.family]\n",
    "    inheritance_state = max(d.patterns, key=lambda x: x[1])[0]\n",
    "    \n",
    "    if sum(inheritance_state[:2]) == 2:\n",
    "        mom_doubledel += 1\n",
    "        doubledel_inds.append(individuals[0])\n",
    "        for k, child_id in enumerate(individuals[2:]):\n",
    "            is_affected = child_id_to_affected[child_id] == '2'\n",
    "            is_male = child_id_to_sex[child_id] == '1'\n",
    "            \n",
    "            if is_affected and is_male:\n",
    "                aff_male_mom_doubledel += 1\n",
    "            elif is_affected:\n",
    "                aff_female_mom_doubledel += 1\n",
    "            elif is_male:\n",
    "                unaff_male_mom_doubledel += 1\n",
    "            else:\n",
    "                unaff_female_mom_doubledel += 1\n",
    "    elif sum(inheritance_state[:2]) == 1:\n",
    "        mom_singledel += 1\n",
    "        singledel_inds.append(individuals[0])\n",
    "        for k, child_id in enumerate(individuals[2:]):\n",
    "            is_affected = child_id_to_affected[child_id] == '2'\n",
    "            is_male = child_id_to_sex[child_id] == '1'\n",
    "            \n",
    "            mom_transop += 1\n",
    "            if is_affected and is_male:\n",
    "                aff_male_mom_singledel += 1\n",
    "            elif is_affected:\n",
    "                aff_female_mom_singledel += 1\n",
    "            elif is_male:\n",
    "                unaff_male_mom_singledel += 1\n",
    "            else:\n",
    "                unaff_female_mom_singledel += 1\n",
    "    else:\n",
    "        mom_nodel += 1\n",
    "        nodel_inds.append(individuals[0])\n",
    "        for k, child_id in enumerate(individuals[2:]):\n",
    "            is_affected = child_id_to_affected[child_id] == '2'\n",
    "            is_male = child_id_to_sex[child_id] == '1'\n",
    "            \n",
    "            if is_affected and is_male:\n",
    "                aff_male_mom_nodel += 1\n",
    "            elif is_affected:\n",
    "                aff_female_mom_nodel += 1\n",
    "            elif is_male:\n",
    "                unaff_male_mom_nodel += 1\n",
    "            else:\n",
    "                unaff_female_mom_nodel += 1\n",
    "        \n",
    "        \n",
    "    if sum(inheritance_state[2:4]) == 2:\n",
    "        doubledel_inds.append(individuals[1])\n",
    "        dad_doubledel += 1\n",
    "    elif sum(inheritance_state[2:4]) == 1:\n",
    "        dad_singledel += 1\n",
    "        singledel_inds.append(individuals[1])\n",
    "        for k, child_id in enumerate(individuals[2:]):\n",
    "            is_affected = child_id_to_affected[child_id] == '2'\n",
    "            is_male = child_id_to_sex[child_id] == '1'\n",
    "            \n",
    "            dad_transop += 1\n",
    "    else:\n",
    "        nodel_inds.append(individuals[1])\n",
    "        dad_nodel += 1\n",
    "                \n",
    "    for k, child_id in enumerate(individuals[2:]):\n",
    "        is_affected = child_id_to_affected[child_id] == '2'\n",
    "        is_male = child_id_to_sex[child_id] == '1'\n",
    "        is_mat_inherited = inheritance_state[inheritance_state[4+(2*k)]] == 1\n",
    "        is_pat_inherited = inheritance_state[2+inheritance_state[5+(2*k)]] == 1\n",
    "\n",
    "        if is_affected and is_male:\n",
    "            if is_mat_inherited and is_pat_inherited:\n",
    "                doubledel_inds.append(child_id)\n",
    "                aff_male_doubledel += 1\n",
    "            elif is_mat_inherited:\n",
    "                singledel_inds.append(child_id)\n",
    "                aff_male_singledel_mat += 1\n",
    "            elif is_pat_inherited:\n",
    "                singledel_inds.append(child_id)\n",
    "                aff_male_singledel_pat += 1\n",
    "            else:\n",
    "                nodel_inds.append(child_id)\n",
    "                aff_male_nodel += 1\n",
    "        elif is_affected:\n",
    "            if is_mat_inherited and is_pat_inherited:\n",
    "                doubledel_inds.append(child_id)\n",
    "                aff_female_doubledel += 1\n",
    "            elif is_mat_inherited:\n",
    "                singledel_inds.append(child_id)\n",
    "                aff_female_singledel_mat += 1\n",
    "            elif is_pat_inherited:\n",
    "                singledel_inds.append(child_id)\n",
    "                aff_female_singledel_pat += 1\n",
    "            else:\n",
    "                nodel_inds.append(child_id)\n",
    "                aff_female_nodel += 1\n",
    "        elif is_male:\n",
    "            if is_mat_inherited and is_pat_inherited:\n",
    "                doubledel_inds.append(child_id)\n",
    "                unaff_male_doubledel += 1\n",
    "            elif is_mat_inherited:\n",
    "                singledel_inds.append(child_id)\n",
    "                unaff_male_singledel_mat += 1\n",
    "            elif is_pat_inherited:\n",
    "                singledel_inds.append(child_id)\n",
    "                unaff_male_singledel_pat += 1\n",
    "            else:\n",
    "                nodel_inds.append(child_id)\n",
    "                unaff_male_nodel += 1\n",
    "        else:\n",
    "            if is_mat_inherited and is_pat_inherited:\n",
    "                doubledel_inds.append(child_id)\n",
    "                unaff_female_doubledel += 1\n",
    "            elif is_mat_inherited:\n",
    "                singledel_inds.append(child_id)\n",
    "                unaff_female_singledel_mat += 1\n",
    "            elif is_pat_inherited:\n",
    "                singledel_inds.append(child_id)\n",
    "                unaff_female_singledel_pat += 1\n",
    "            else:\n",
    "                nodel_inds.append(child_id)\n",
    "                unaff_female_nodel += 1\n",
    "    \n",
    "total_aff_male = aff_male_doubledel + aff_male_singledel_mat + aff_male_singledel_pat + aff_male_nodel\n",
    "total_unaff_male = unaff_male_doubledel + unaff_male_singledel_mat + unaff_male_singledel_pat + unaff_male_nodel\n",
    "total_aff_female = aff_female_doubledel + aff_female_singledel_mat + aff_female_singledel_pat + aff_female_nodel\n",
    "total_unaff_female = unaff_female_doubledel + unaff_female_singledel_mat + unaff_female_singledel_pat + unaff_female_nodel\n",
    "\n",
    "aff_doubledel = aff_male_doubledel + aff_female_doubledel\n",
    "unaff_doubledel = unaff_male_doubledel + unaff_female_doubledel\n",
    "aff_singledel_mat = aff_male_singledel_mat + aff_female_singledel_mat\n",
    "aff_singledel_pat = aff_male_singledel_pat + aff_female_singledel_pat\n",
    "unaff_singledel_mat = unaff_male_singledel_mat + unaff_female_singledel_mat\n",
    "unaff_singledel_pat = unaff_male_singledel_pat + unaff_female_singledel_pat\n",
    "\n",
    "aff_nodel = aff_male_nodel + aff_female_nodel\n",
    "unaff_nodel = unaff_male_nodel + unaff_female_nodel\n",
    "\n",
    "total_aff = aff_doubledel + aff_singledel_mat + aff_singledel_pat + aff_nodel\n",
    "total_unaff = unaff_doubledel + unaff_singledel_mat + unaff_singledel_pat + unaff_nodel\n",
    "total_mom = mom_doubledel + mom_singledel + mom_nodel\n",
    "total_dad = dad_doubledel + dad_singledel + dad_nodel\n",
    "\n",
    "all_families_total_aff = sum([len([x for x in ind[2:] if child_id_to_affected[x] == '2']) for f, ind in family_to_individuals.items()])\n",
    "all_families_total_unaff = sum([len([x for x in ind[2:] if child_id_to_affected[x] != '2']) for f, ind in family_to_individuals.items()])\n",
    "\n",
    "print('Confusion')\n",
    "print('\\t\\tAffected\\tUnaffected\\tMom\\t\\tDad')\n",
    "print('Double Del\\t%d (%0.2f)\\t%d (%0.2f)\\t%d (%0.2f)\\t%d (%0.2f)' % (aff_doubledel, aff_doubledel/total_aff, \n",
    "                                                                      unaff_doubledel, unaff_doubledel/total_unaff,\n",
    "                                                                     mom_doubledel, mom_doubledel/total_mom,\n",
    "                                                                     dad_doubledel, dad_doubledel/total_dad))\n",
    "print('Single Del Mat\\t%d (%0.2f)\\t%d (%0.2f)\\t%d (%0.2f)\\t%d (%0.2f)' % (aff_singledel_mat, aff_singledel_mat/total_aff, \n",
    "                                                                      unaff_singledel_mat, unaff_singledel_mat/total_unaff,\n",
    "                                                                     mom_singledel, mom_singledel/total_mom,\n",
    "                                                                     dad_singledel, dad_singledel/total_dad))\n",
    "print('Single Del Pat\\t%d (%0.2f)\\t%d (%0.2f)' % (aff_singledel_pat, aff_singledel_pat/total_aff, \n",
    "                                                                      unaff_singledel_pat, unaff_singledel_pat/total_unaff))\n",
    "print('No Del\\t\\t%d (%0.2f)\\t%d (%0.2f)\\t%d (%0.2f)\\t%d (%0.2f)' % (aff_nodel, aff_nodel/total_aff, \n",
    "                                                                    unaff_nodel, unaff_nodel/total_unaff,\n",
    "                                                                   mom_nodel, mom_nodel/total_mom,\n",
    "                                                                   dad_nodel, dad_nodel/total_dad))\n",
    "print('Not Included\\t%d (%0.2f)\\t%d (%0.2f)\\t%d (%0.2f)\\t%d (%0.2f)' % (all_families_total_aff-total_aff, (all_families_total_aff-total_aff)/all_families_total_aff, \n",
    "                                                                    all_families_total_unaff-total_unaff, (all_families_total_unaff-total_unaff)/all_families_total_unaff, \n",
    "                                                                   len(family_to_individuals)-total_mom, (len(family_to_individuals)-total_mom)/len(family_to_individuals),\n",
    "                                                                   len(family_to_individuals)-total_dad, (len(family_to_individuals)-total_dad)/len(family_to_individuals)))\n",
    "print('Double Del p-value', chi2_contingency([[aff_doubledel, unaff_doubledel], [aff_singledel+aff_nodel, unaff_singledel+unaff_nodel]])[1])\n",
    "print('No Del p-value', chi2_contingency([[aff_nodel, unaff_nodel], [aff_doubledel+aff_singledel, unaff_doubledel+unaff_singledel]])[1])\n",
    "print('Del p-value', chi2_contingency([[aff_doubledel, unaff_doubledel], [aff_singledel, unaff_singledel], [aff_nodel, unaff_nodel]])[1])\n",
    "print('Del allele p-value', chi2_contingency([[2*aff_doubledel+aff_singledel, 2*unaff_doubledel+unaff_singledel], [2*aff_nodel+aff_singledel, 2*unaff_nodel+unaff_singledel]])[1])\n",
    "#print('Mom/Dad p-value', chi2_contingency([[mom_doubledel, dad_doubledel], [mom_singledel, dad_singledel], [mom_nodel, dad_nodel]])[1])\n",
    "print('Mom/Dad p-value', chi2_contingency([[mom_singledel, dad_singledel], [mom_nodel, dad_nodel]])[1])\n",
    "\n",
    "print('Mat/Pat p-value', chi2_contingency([[aff_singledel_mat, aff_singledel_pat], [unaff_singledel_mat, unaff_singledel_pat]])[1])\n",
    "\n",
    "print('Del p-value Mat', chi2_contingency([[aff_doubledel+aff_singledel_mat, unaff_doubledel+unaff_singledel_mat], [aff_singledel_pat+aff_nodel, unaff_singledel_pat+unaff_nodel]])[1])\n",
    "print('Del p-value Mat Female', chi2_contingency([[aff_female_doubledel+aff_female_singledel_mat, unaff_female_doubledel+unaff_female_singledel_mat], [aff_female_singledel_pat+aff_female_nodel, unaff_female_singledel_pat+unaff_female_nodel]])[1])\n",
    "print('Del p-value Mat Male', chi2_contingency([[aff_male_doubledel+aff_male_singledel_mat, unaff_male_doubledel+unaff_male_singledel_mat], [aff_male_singledel_pat+aff_male_nodel, unaff_male_singledel_pat+unaff_male_nodel]])[1])\n",
    "print('Del p-value Mat Female Allele', chi2_contingency([[2*aff_female_doubledel+aff_female_singledel_mat, 2*unaff_female_doubledel+unaff_female_singledel_mat], [aff_female_singledel_pat+2*aff_female_nodel, unaff_female_singledel_pat+2*unaff_female_nodel]])[1])\n",
    "\n",
    "print('Del p-value Pat', chi2_contingency([[aff_doubledel+aff_singledel_pat, unaff_doubledel+unaff_singledel_pat], [aff_singledel_mat+aff_nodel, unaff_singledel_mat+unaff_nodel]])[1])\n",
    "print('Del p-value Pat Female', chi2_contingency([[aff_female_doubledel+aff_female_singledel_pat, unaff_female_doubledel+unaff_female_singledel_pat], [aff_female_singledel_mat+aff_female_nodel, unaff_female_singledel_mat+unaff_female_nodel]])[1])\n",
    "print('Del p-value Pat Male', chi2_contingency([[aff_male_doubledel+aff_male_singledel_pat, unaff_male_doubledel+unaff_male_singledel_pat], [aff_male_singledel_mat+aff_male_nodel, unaff_male_singledel_mat+unaff_male_nodel]])[1])\n",
    "print('Del p-value Pat Male Allele', chi2_contingency([[2*aff_male_doubledel+aff_male_singledel_pat, 2*unaff_male_doubledel+unaff_male_singledel_pat], [aff_male_singledel_mat+2*aff_male_nodel, unaff_male_singledel_mat+2*unaff_male_nodel]])[1])\n",
    "\n",
    "print('Del p-value Sex, Mat/Pat Match', chi2_contingency([[aff_male_doubledel+aff_male_singledel_pat+aff_female_doubledel+aff_female_singledel_mat, \n",
    "                                                           unaff_male_doubledel+unaff_male_singledel_pat+unaff_female_doubledel+unaff_female_singledel_mat], \n",
    "                                                          [aff_male_singledel_mat+aff_male_nodel+aff_female_singledel_pat+aff_female_nodel, \n",
    "                                                           unaff_male_singledel_mat+unaff_male_nodel+unaff_female_singledel_pat+unaff_female_nodel]])[1])\n",
    "print('Del p-value Sex, Mat/Pat Match Allele', chi2_contingency([[2*aff_male_doubledel+aff_male_singledel_pat+2*aff_female_doubledel+aff_female_singledel_mat, \n",
    "                                                           2*unaff_male_doubledel+unaff_male_singledel_pat+2*unaff_female_doubledel+unaff_female_singledel_mat], \n",
    "                                                          [aff_male_singledel_mat+2*aff_male_nodel+aff_female_singledel_pat+2*aff_female_nodel, \n",
    "                                                           unaff_male_singledel_mat+2*unaff_male_nodel+unaff_female_singledel_pat+2*unaff_female_nodel]])[1])\n"
   ]
  },
  {
   "cell_type": "code",
   "execution_count": null,
   "metadata": {
    "collapsed": true
   },
   "outputs": [],
   "source": [
    "print('Mom transmission rate', (aff_singledel_mat+unaff_singledel_mat)/mom_transop)\n",
    "print('Dad transmission rate', (aff_singledel_pat+unaff_singledel_pat)/dad_transop)\n",
    "print(Counter([tuple(max(d.patterns, key=lambda x: x[1])[0][:4]) for d in delsofinterest]))\n"
   ]
  },
  {
   "cell_type": "code",
   "execution_count": null,
   "metadata": {
    "collapsed": true
   },
   "outputs": [],
   "source": [
    "print('Confusion')\n",
    "print('\\t\\tAffected M\\tAffected F\\tUnaffected M\\tUnaffected F')\n",
    "print('Mom Double Del\\t%d (%0.2f)\\t%d (%0.2f)\\t%d (%0.2f)\\t%d (%0.2f)' % (aff_male_mom_doubledel, aff_male_mom_doubledel/total_aff_male, \n",
    "                                                                      aff_female_mom_doubledel, aff_female_mom_doubledel/total_aff_female,\n",
    "                                                                     unaff_male_mom_doubledel, unaff_male_mom_doubledel/total_unaff_male,\n",
    "                                                                     unaff_female_mom_doubledel, unaff_female_mom_doubledel/total_unaff_female))\n",
    "print('Mom Single Del\\t%d (%0.2f)\\t%d (%0.2f)\\t%d (%0.2f)\\t%d (%0.2f)' % (aff_male_mom_singledel, aff_male_mom_singledel/total_aff_male, \n",
    "                                                                      aff_female_mom_singledel, aff_female_mom_singledel/total_aff_female,\n",
    "                                                                     unaff_male_mom_singledel, unaff_male_mom_singledel/total_unaff_male,\n",
    "                                                                     unaff_female_mom_singledel, unaff_female_mom_singledel/total_unaff_female))\n",
    "print('Mom No Del\\t%d (%0.2f)\\t%d (%0.2f)\\t%d (%0.2f)\\t%d (%0.2f)' % (aff_male_mom_nodel, aff_male_mom_nodel/total_aff_male, \n",
    "                                                                      aff_female_mom_nodel, aff_female_mom_nodel/total_aff_female,\n",
    "                                                                     unaff_male_mom_nodel, unaff_male_mom_nodel/total_unaff_male,\n",
    "                                                                     unaff_female_mom_nodel, unaff_female_mom_nodel/total_unaff_female))\n",
    "\n",
    "print('Mom del, affected pvalue', chi2_contingency([\n",
    "        #[aff_male_mom_doubledel+aff_female_mom_doubledel, \n",
    "         #unaff_male_mom_doubledel+unaff_female_mom_doubledel], \n",
    "        [aff_male_mom_singledel+aff_female_mom_singledel, \n",
    "         unaff_male_mom_singledel+unaff_female_mom_singledel], \n",
    "        [aff_male_mom_nodel+aff_female_mom_nodel, \n",
    "         unaff_male_mom_nodel+unaff_female_mom_nodel]])[1])\n",
    "print('Mom del, affected, Female pvalue', chi2_contingency([\n",
    "        #[aff_female_mom_doubledel, \n",
    "        # unaff_female_mom_doubledel], \n",
    "        [aff_female_mom_singledel, \n",
    "         unaff_female_mom_singledel], \n",
    "        [aff_female_mom_nodel, \n",
    "         unaff_female_mom_nodel]])[1])\n",
    "print('Mom del, affected, Male pvalue', chi2_contingency([\n",
    "        #[aff_male_mom_doubledel, \n",
    "        # unaff_male_mom_doubledel], \n",
    "        [aff_male_mom_singledel, \n",
    "         unaff_male_mom_singledel], \n",
    "        [aff_male_mom_nodel, \n",
    "         unaff_male_mom_nodel]])[1])\n",
    "print('Mom del, sex pvalue', chi2_contingency([\n",
    "        #[aff_male_mom_doubledel+unaff_male_mom_doubledel, \n",
    "        # aff_female_mom_doubledel+unaff_female_mom_doubledel], \n",
    "        [aff_male_mom_singledel+unaff_male_mom_singledel, \n",
    "         aff_female_mom_singledel+unaff_female_mom_singledel], \n",
    "        [aff_male_mom_nodel+unaff_male_mom_nodel, \n",
    "         aff_female_mom_nodel+unaff_female_mom_nodel]])[1])"
   ]
  },
  {
   "cell_type": "code",
   "execution_count": 694,
   "metadata": {},
   "outputs": [
    {
     "name": "stdout",
     "output_type": "stream",
     "text": [
      "Confusion\n",
      "\t\tAffected M\t Affected f\tUnaffected M\tUnaffected F\tMom\t\tDad\n"
     ]
    },
    {
     "ename": "ZeroDivisionError",
     "evalue": "division by zero",
     "output_type": "error",
     "traceback": [
      "\u001b[0;31m---------------------------------------------------------------------------\u001b[0m",
      "\u001b[0;31mZeroDivisionError\u001b[0m                         Traceback (most recent call last)",
      "\u001b[0;32m<ipython-input-694-ef7f60e797de>\u001b[0m in \u001b[0;36m<module>\u001b[0;34m()\u001b[0m\n\u001b[1;32m      4\u001b[0m     \u001b[0maff_male_doubledel\u001b[0m\u001b[0;34m,\u001b[0m \u001b[0maff_male_doubledel\u001b[0m\u001b[0;34m/\u001b[0m\u001b[0mtotal_aff_male\u001b[0m\u001b[0;34m,\u001b[0m\u001b[0;34m\u001b[0m\u001b[0m\n\u001b[1;32m      5\u001b[0m     \u001b[0maff_female_doubledel\u001b[0m\u001b[0;34m,\u001b[0m \u001b[0maff_female_doubledel\u001b[0m\u001b[0;34m/\u001b[0m\u001b[0mtotal_aff_female\u001b[0m\u001b[0;34m,\u001b[0m\u001b[0;34m\u001b[0m\u001b[0m\n\u001b[0;32m----> 6\u001b[0;31m     \u001b[0munaff_male_doubledel\u001b[0m\u001b[0;34m,\u001b[0m \u001b[0munaff_male_doubledel\u001b[0m\u001b[0;34m/\u001b[0m\u001b[0mtotal_unaff_male\u001b[0m\u001b[0;34m,\u001b[0m\u001b[0;34m\u001b[0m\u001b[0m\n\u001b[0m\u001b[1;32m      7\u001b[0m     \u001b[0munaff_female_doubledel\u001b[0m\u001b[0;34m,\u001b[0m \u001b[0munaff_female_doubledel\u001b[0m\u001b[0;34m/\u001b[0m\u001b[0mtotal_unaff_female\u001b[0m\u001b[0;34m,\u001b[0m\u001b[0;34m\u001b[0m\u001b[0m\n\u001b[1;32m      8\u001b[0m     \u001b[0mmom_doubledel\u001b[0m\u001b[0;34m,\u001b[0m \u001b[0mmom_doubledel\u001b[0m\u001b[0;34m/\u001b[0m\u001b[0mtotal_mom\u001b[0m\u001b[0;34m,\u001b[0m\u001b[0;34m\u001b[0m\u001b[0m\n",
      "\u001b[0;31mZeroDivisionError\u001b[0m: division by zero"
     ]
    }
   ],
   "source": [
    "print('Confusion')\n",
    "print('\\t\\tAffected M\\t Affected f\\tUnaffected M\\tUnaffected F\\tMom\\t\\tDad')\n",
    "print('Double Del\\t%d (%0.2f)\\t%d (%0.2f)\\t%d (%0.2f)\\t%d (%0.2f)\\t%d (%0.2f)\\t%d (%0.2f)' % (\n",
    "    aff_male_doubledel, aff_male_doubledel/total_aff_male,\n",
    "    aff_female_doubledel, aff_female_doubledel/total_aff_female,\n",
    "    unaff_male_doubledel, unaff_male_doubledel/total_unaff_male,\n",
    "    unaff_female_doubledel, unaff_female_doubledel/total_unaff_female,\n",
    "    mom_doubledel, mom_doubledel/total_mom,\n",
    "    dad_doubledel, dad_doubledel/total_dad))\n",
    "print('Single Del Mat\\t%d (%0.2f)\\t%d (%0.2f)\\t%d (%0.2f)\\t%d (%0.2f)\\t%d (%0.2f)\\t%d (%0.2f)' % (\n",
    "    aff_male_singledel_mat, aff_male_singledel_mat/total_aff_male, \n",
    "    aff_female_singledel_mat, aff_female_singledel_mat/total_aff_female, \n",
    "    unaff_male_singledel_mat, unaff_male_singledel_mat/total_unaff_male,\n",
    "    unaff_female_singledel_mat, unaff_female_singledel_mat/total_unaff_female,\n",
    "    mom_singledel, mom_singledel/total_mom,\n",
    "    dad_singledel, dad_singledel/total_dad))\n",
    "print('Single Del Pat\\t%d (%0.2f)\\t%d (%0.2f)\\t%d (%0.2f)\\t%d (%0.2f)\\t%d (%0.2f)\\t%d (%0.2f)' % (\n",
    "    aff_male_singledel_pat, aff_male_singledel_pat/total_aff_male, \n",
    "    aff_female_singledel_pat, aff_female_singledel_pat/total_aff_female, \n",
    "    unaff_male_singledel_pat, unaff_male_singledel_pat/total_unaff_male,\n",
    "    unaff_female_singledel_pat, unaff_female_singledel_pat/total_unaff_female,\n",
    "    mom_singledel, mom_singledel/total_mom,\n",
    "    dad_singledel, dad_singledel/total_dad))\n",
    "print('No Del\\t\\t%d (%0.2f)\\t%d (%0.2f)\\t%d (%0.2f)\\t%d (%0.2f)\\t%d (%0.2f)\\t%d (%0.2f)' % (\n",
    "    aff_male_nodel, aff_male_nodel/total_aff_male, \n",
    "    aff_female_nodel, aff_female_nodel/total_aff_female, \n",
    "    unaff_male_nodel, unaff_male_nodel/total_unaff_male,\n",
    "    unaff_female_nodel, unaff_female_nodel/total_unaff_female,\n",
    "    mom_nodel, mom_nodel/total_mom,\n",
    "    dad_nodel, dad_nodel/total_dad))\n",
    "\n",
    "#print([[[aff_male_singledel_mat, aff_male_singledel_pat], [unaff_male_singledel_mat, unaff_male_singledel_pat]], [[aff_female_singledel_mat, aff_female_singledel_pat], [unaff_female_singledel_mat, unaff_female_singledel_pat]]])\n",
    "#print('Affected, Gender, Mat/Pat p-value', chi2_contingency([[[aff_male_singledel_mat, aff_male_singledel_pat], [unaff_male_singledel_mat, unaff_male_singledel_pat]], [[aff_female_singledel_mat, aff_female_singledel_pat], [unaff_female_singledel_mat, unaff_female_singledel_pat]]]))\n",
    "print([[[aff_male_singledel_mat+aff_male_doubledel, aff_male_singledel_pat+aff_male_doubledel], [unaff_male_singledel_mat+unaff_male_doubledel, unaff_male_singledel_pat+unaff_male_doubledel]], [[aff_female_singledel_mat+aff_female_doubledel, aff_female_singledel_pat+aff_female_doubledel], [unaff_female_singledel_mat+unaff_female_doubledel, unaff_female_singledel_pat+unaff_female_doubledel]]])\n",
    "print('Affected, Sex, Mat/Pat p-value', chi2_contingency([[[aff_male_singledel_mat+aff_male_doubledel, aff_male_singledel_pat+aff_male_doubledel], [unaff_male_singledel_mat+unaff_male_doubledel, unaff_male_singledel_pat+unaff_male_doubledel]], [[aff_female_singledel_mat+aff_female_doubledel, aff_female_singledel_pat+aff_female_doubledel], [unaff_female_singledel_mat+unaff_female_doubledel, unaff_female_singledel_pat+unaff_female_doubledel]]]))\n",
    "\n",
    "print([[total_aff_male, total_aff_female], [total_unaff_male, total_unaff_female]])\n",
    "print('Affected, Sex', chi2_contingency([\n",
    "    [total_aff_male, total_aff_female], \n",
    "    [total_unaff_male, total_unaff_female]])[1])\n",
    "\n",
    "print('Affected, Sex Mat', chi2_contingency([\n",
    "    [aff_male_singledel_mat+aff_male_doubledel, \n",
    "     aff_female_singledel_mat+aff_female_doubledel], \n",
    "    [unaff_male_singledel_mat+unaff_male_doubledel, \n",
    "     unaff_female_singledel_mat+unaff_female_doubledel]])[1])\n",
    "\n",
    "print('Affected, Sex Pat', chi2_contingency([\n",
    "    [aff_male_singledel_pat+aff_male_doubledel, \n",
    "     aff_female_singledel_pat+aff_female_doubledel], \n",
    "    [unaff_male_singledel_pat+unaff_male_doubledel, \n",
    "     unaff_female_singledel_pat+unaff_female_doubledel]])[1])\n",
    "\n",
    "print([[aff_male_singledel_mat+aff_male_doubledel+aff_female_singledel_mat+aff_female_doubledel, \n",
    "         aff_male_singledel_pat+aff_male_doubledel+aff_female_singledel_pat+aff_female_doubledel], \n",
    "        [unaff_male_singledel_mat+unaff_male_doubledel+unaff_female_singledel_mat+unaff_female_doubledel, \n",
    "         unaff_male_singledel_pat+unaff_male_doubledel+unaff_female_singledel_pat+unaff_female_doubledel]])\n",
    "print('Affected, Mat/Pat', chi2_contingency([[aff_male_singledel_mat+aff_male_doubledel+aff_female_singledel_mat+aff_female_doubledel, \n",
    "         aff_male_singledel_pat+aff_male_doubledel+aff_female_singledel_pat+aff_female_doubledel], \n",
    "        [unaff_male_singledel_mat+unaff_male_doubledel+unaff_female_singledel_mat+unaff_female_doubledel, \n",
    "         unaff_male_singledel_pat+unaff_male_doubledel+unaff_female_singledel_pat+unaff_female_doubledel]])[1])\n",
    "\n",
    "print('Affected, Mat/Pat Female', chi2_contingency([\n",
    "        [aff_female_singledel_mat+aff_female_doubledel, \n",
    "         aff_female_singledel_pat+aff_female_doubledel], \n",
    "        [unaff_female_singledel_mat+unaff_female_doubledel, \n",
    "         unaff_female_singledel_pat+unaff_female_doubledel]])[1])\n",
    "\n",
    "print('Affected, Mat/Pat Male', chi2_contingency([\n",
    "        [aff_male_singledel_mat+aff_male_doubledel, \n",
    "         aff_male_singledel_pat+aff_male_doubledel], \n",
    "        [unaff_male_singledel_mat+unaff_male_doubledel, \n",
    "         unaff_male_singledel_pat+unaff_male_doubledel]])[1])\n",
    "\n",
    "print([[aff_male_singledel_mat+aff_male_doubledel+unaff_male_singledel_mat+unaff_male_doubledel, \n",
    "         aff_male_singledel_pat+aff_male_doubledel+unaff_male_singledel_pat+unaff_male_doubledel], \n",
    "        [aff_female_singledel_mat+aff_female_doubledel+unaff_female_singledel_mat+unaff_female_doubledel, \n",
    "         aff_female_singledel_pat+aff_female_doubledel+unaff_female_singledel_pat+unaff_female_doubledel]])\n",
    "print('Sex, Mat/Pat', chi2_contingency([[aff_male_singledel_mat+aff_male_doubledel+unaff_male_singledel_mat+unaff_male_doubledel, \n",
    "         aff_male_singledel_pat+aff_male_doubledel+unaff_male_singledel_pat+unaff_male_doubledel], \n",
    "        [aff_female_singledel_mat+aff_female_doubledel+unaff_female_singledel_mat+unaff_female_doubledel, \n",
    "         aff_female_singledel_pat+aff_female_doubledel+unaff_female_singledel_pat+unaff_female_doubledel]])[1])\n",
    "\n",
    "print('Sex, Mat/Pat Affected', chi2_contingency([\n",
    "        [aff_male_singledel_mat+aff_male_doubledel, \n",
    "         aff_male_singledel_pat+aff_male_doubledel], \n",
    "        [aff_female_singledel_mat+aff_female_doubledel, \n",
    "         aff_female_singledel_pat+aff_female_doubledel]])[1])\n",
    "print('Sex, Mat/Pat Unaffected', chi2_contingency([\n",
    "        [unaff_male_singledel_mat+unaff_male_doubledel, \n",
    "         unaff_male_singledel_pat+unaff_male_doubledel], \n",
    "        [unaff_female_singledel_mat+unaff_female_doubledel, \n",
    "         unaff_female_singledel_pat+unaff_female_doubledel]])[1])\n",
    "\n",
    "print('Male mat/pat p-value', chi2_contingency([[aff_male_singledel_mat, aff_male_singledel_pat], [unaff_male_singledel_mat, unaff_male_singledel_pat]]))\n",
    "print('Female mat/pat p-value', chi2_contingency([[aff_female_singledel_mat, aff_female_singledel_pat], [unaff_female_singledel_mat, unaff_female_singledel_pat]]))\n",
    "print('Gender mat/pat p-value', chi2_contingency([[aff_female_singledel_mat+unaff_female_singledel_mat, aff_female_singledel_pat+unaff_female_singledel_pat], [unaff_female_singledel_mat, unaff_female_singledel_pat]]))\n",
    "print('Unaffected m/f mat/pat p-value', chi2_contingency([[unaff_male_singledel_mat, unaff_male_singledel_pat], [unaff_female_singledel_mat, unaff_female_singledel_pat]])[1])\n",
    "\n",
    "#print('No del', (aff_male_doubledel+aff_female_doubledel)*(total_unaff_male+total_unaff_female)/((unaff_male_doubledel+unaff_female_doubledel)*(total_aff_male+total_aff_female)))\n",
    "\n",
    "\n",
    "top = (aff_male_doubledel+aff_female_doubledel)/(aff_male_doubledel+aff_female_doubledel + unaff_male_doubledel+unaff_female_doubledel)\n",
    "bottom = (total_aff_male+total_aff_female)/(total_aff_female+total_aff_male+total_unaff_female+total_unaff_male)\n",
    "print('Double del', top)\n",
    "print('Double del', bottom)\n",
    "print('Relative Risk', top/bottom)\n",
    "\n",
    "top = (aff_male_nodel+aff_female_nodel)/(aff_male_nodel+aff_female_nodel + unaff_male_nodel+unaff_female_nodel)\n",
    "bottom = (total_aff_male+total_aff_female)/(total_aff_female+total_aff_male+total_unaff_female+total_unaff_male)\n",
    "print('No del', top)\n",
    "print('No del', bottom)\n",
    "print('Relative Risk', top/bottom)\n",
    "\n",
    "top = (aff_male_doubledel+aff_female_doubledel)/(aff_male_doubledel+aff_female_doubledel + unaff_male_doubledel+unaff_female_doubledel)\n",
    "bottom = (aff_male_doubledel+aff_female_doubledel+aff_male_nodel+aff_female_nodel)/(aff_male_doubledel+aff_female_doubledel+aff_male_nodel+aff_female_nodel + unaff_male_doubledel+unaff_female_doubledel+unaff_male_nodel+unaff_female_nodel)\n",
    "print('Double del/No del', top)\n",
    "print('Double del/No del', bottom)\n",
    "print('Relative Risk', top/bottom)\n",
    "\n",
    "\n"
   ]
  },
  {
   "cell_type": "code",
   "execution_count": 695,
   "metadata": {},
   "outputs": [
    {
     "ename": "ValueError",
     "evalue": "The internally computed table of expected frequencies has a zero element at (2, 0).",
     "output_type": "error",
     "traceback": [
      "\u001b[0;31m---------------------------------------------------------------------------\u001b[0m",
      "\u001b[0;31mValueError\u001b[0m                                Traceback (most recent call last)",
      "\u001b[0;32m<ipython-input-695-91443b59e2a1>\u001b[0m in \u001b[0;36m<module>\u001b[0;34m()\u001b[0m\n\u001b[0;32m----> 1\u001b[0;31m \u001b[0mprint\u001b[0m\u001b[0;34m(\u001b[0m\u001b[0;34m'Female p-value'\u001b[0m\u001b[0;34m,\u001b[0m \u001b[0mchi2_contingency\u001b[0m\u001b[0;34m(\u001b[0m\u001b[0;34m[\u001b[0m\u001b[0;34m[\u001b[0m\u001b[0maff_female_doubledel\u001b[0m\u001b[0;34m,\u001b[0m \u001b[0munaff_female_doubledel\u001b[0m\u001b[0;34m]\u001b[0m\u001b[0;34m,\u001b[0m \u001b[0;34m[\u001b[0m\u001b[0maff_female_singledel\u001b[0m\u001b[0;34m,\u001b[0m \u001b[0munaff_female_singledel\u001b[0m\u001b[0;34m]\u001b[0m\u001b[0;34m,\u001b[0m \u001b[0;34m[\u001b[0m\u001b[0maff_female_nodel\u001b[0m\u001b[0;34m,\u001b[0m \u001b[0munaff_female_nodel\u001b[0m\u001b[0;34m]\u001b[0m\u001b[0;34m]\u001b[0m\u001b[0;34m)\u001b[0m\u001b[0;34m[\u001b[0m\u001b[0;36m1\u001b[0m\u001b[0;34m]\u001b[0m\u001b[0;34m)\u001b[0m\u001b[0;34m\u001b[0m\u001b[0m\n\u001b[0m\u001b[1;32m      2\u001b[0m \u001b[0mprint\u001b[0m\u001b[0;34m(\u001b[0m\u001b[0;34m'Male p-value'\u001b[0m\u001b[0;34m,\u001b[0m \u001b[0mchi2_contingency\u001b[0m\u001b[0;34m(\u001b[0m\u001b[0;34m[\u001b[0m\u001b[0;34m[\u001b[0m\u001b[0maff_male_doubledel\u001b[0m\u001b[0;34m,\u001b[0m \u001b[0munaff_male_doubledel\u001b[0m\u001b[0;34m]\u001b[0m\u001b[0;34m,\u001b[0m \u001b[0;34m[\u001b[0m\u001b[0maff_male_singledel\u001b[0m\u001b[0;34m,\u001b[0m \u001b[0munaff_male_singledel\u001b[0m\u001b[0;34m]\u001b[0m\u001b[0;34m,\u001b[0m \u001b[0;34m[\u001b[0m\u001b[0maff_male_nodel\u001b[0m\u001b[0;34m,\u001b[0m \u001b[0munaff_male_nodel\u001b[0m\u001b[0;34m]\u001b[0m\u001b[0;34m]\u001b[0m\u001b[0;34m)\u001b[0m\u001b[0;34m[\u001b[0m\u001b[0;36m1\u001b[0m\u001b[0;34m]\u001b[0m\u001b[0;34m)\u001b[0m\u001b[0;34m\u001b[0m\u001b[0m\n\u001b[1;32m      3\u001b[0m \u001b[0;34m\u001b[0m\u001b[0m\n\u001b[1;32m      4\u001b[0m \u001b[0mprint\u001b[0m\u001b[0;34m(\u001b[0m\u001b[0;34m'Affected Sex p-value'\u001b[0m\u001b[0;34m,\u001b[0m \u001b[0mchi2_contingency\u001b[0m\u001b[0;34m(\u001b[0m\u001b[0;34m[\u001b[0m\u001b[0;34m[\u001b[0m\u001b[0maff_female_doubledel\u001b[0m\u001b[0;34m,\u001b[0m \u001b[0maff_male_doubledel\u001b[0m\u001b[0;34m]\u001b[0m\u001b[0;34m,\u001b[0m \u001b[0;34m[\u001b[0m\u001b[0maff_female_singledel\u001b[0m\u001b[0;34m,\u001b[0m \u001b[0maff_male_singledel\u001b[0m\u001b[0;34m]\u001b[0m\u001b[0;34m,\u001b[0m \u001b[0;34m[\u001b[0m\u001b[0maff_female_nodel\u001b[0m\u001b[0;34m,\u001b[0m \u001b[0maff_male_nodel\u001b[0m\u001b[0;34m]\u001b[0m\u001b[0;34m]\u001b[0m\u001b[0;34m)\u001b[0m\u001b[0;34m[\u001b[0m\u001b[0;36m1\u001b[0m\u001b[0;34m]\u001b[0m\u001b[0;34m)\u001b[0m\u001b[0;34m\u001b[0m\u001b[0m\n\u001b[1;32m      5\u001b[0m \u001b[0mprint\u001b[0m\u001b[0;34m(\u001b[0m\u001b[0;34m'Unaffected Sex p-value'\u001b[0m\u001b[0;34m,\u001b[0m \u001b[0mchi2_contingency\u001b[0m\u001b[0;34m(\u001b[0m\u001b[0;34m[\u001b[0m\u001b[0;34m[\u001b[0m\u001b[0munaff_female_doubledel\u001b[0m\u001b[0;34m,\u001b[0m \u001b[0munaff_male_doubledel\u001b[0m\u001b[0;34m]\u001b[0m\u001b[0;34m,\u001b[0m \u001b[0;34m[\u001b[0m\u001b[0munaff_female_singledel\u001b[0m\u001b[0;34m,\u001b[0m \u001b[0munaff_male_singledel\u001b[0m\u001b[0;34m]\u001b[0m\u001b[0;34m,\u001b[0m \u001b[0;34m[\u001b[0m\u001b[0munaff_female_nodel\u001b[0m\u001b[0;34m,\u001b[0m \u001b[0munaff_male_nodel\u001b[0m\u001b[0;34m]\u001b[0m\u001b[0;34m]\u001b[0m\u001b[0;34m)\u001b[0m\u001b[0;34m[\u001b[0m\u001b[0;36m1\u001b[0m\u001b[0;34m]\u001b[0m\u001b[0;34m)\u001b[0m\u001b[0;34m\u001b[0m\u001b[0m\n",
      "\u001b[0;32m//anaconda/lib/python3.6/site-packages/scipy/stats/contingency.py\u001b[0m in \u001b[0;36mchi2_contingency\u001b[0;34m(observed, correction, lambda_)\u001b[0m\n\u001b[1;32m    251\u001b[0m         \u001b[0mzeropos\u001b[0m \u001b[0;34m=\u001b[0m \u001b[0mlist\u001b[0m\u001b[0;34m(\u001b[0m\u001b[0mzip\u001b[0m\u001b[0;34m(\u001b[0m\u001b[0;34m*\u001b[0m\u001b[0mnp\u001b[0m\u001b[0;34m.\u001b[0m\u001b[0mwhere\u001b[0m\u001b[0;34m(\u001b[0m\u001b[0mexpected\u001b[0m \u001b[0;34m==\u001b[0m \u001b[0;36m0\u001b[0m\u001b[0;34m)\u001b[0m\u001b[0;34m)\u001b[0m\u001b[0;34m)\u001b[0m\u001b[0;34m[\u001b[0m\u001b[0;36m0\u001b[0m\u001b[0;34m]\u001b[0m\u001b[0;34m\u001b[0m\u001b[0m\n\u001b[1;32m    252\u001b[0m         raise ValueError(\"The internally computed table of expected \"\n\u001b[0;32m--> 253\u001b[0;31m                          \"frequencies has a zero element at %s.\" % (zeropos,))\n\u001b[0m\u001b[1;32m    254\u001b[0m \u001b[0;34m\u001b[0m\u001b[0m\n\u001b[1;32m    255\u001b[0m     \u001b[0;31m# The degrees of freedom\u001b[0m\u001b[0;34m\u001b[0m\u001b[0;34m\u001b[0m\u001b[0m\n",
      "\u001b[0;31mValueError\u001b[0m: The internally computed table of expected frequencies has a zero element at (2, 0)."
     ]
    }
   ],
   "source": [
    "print('Female p-value', chi2_contingency([[aff_female_doubledel, unaff_female_doubledel], [aff_female_singledel, unaff_female_singledel], [aff_female_nodel, unaff_female_nodel]])[1])\n",
    "print('Male p-value', chi2_contingency([[aff_male_doubledel, unaff_male_doubledel], [aff_male_singledel, unaff_male_singledel], [aff_male_nodel, unaff_male_nodel]])[1])\n",
    "\n",
    "print('Affected Sex p-value', chi2_contingency([[aff_female_doubledel, aff_male_doubledel], [aff_female_singledel, aff_male_singledel], [aff_female_nodel, aff_male_nodel]])[1])\n",
    "print('Unaffected Sex p-value', chi2_contingency([[unaff_female_doubledel, unaff_male_doubledel], [unaff_female_singledel, unaff_male_singledel], [unaff_female_nodel, unaff_male_nodel]])[1])\n",
    "\n",
    "\n"
   ]
  },
  {
   "cell_type": "code",
   "execution_count": 696,
   "metadata": {},
   "outputs": [
    {
     "name": "stdout",
     "output_type": "stream",
     "text": [
      "5 14\n"
     ]
    }
   ],
   "source": [
    "print(len(set([d.family for d in delsofinterest])), len(set([d.family for d in deletions])))"
   ]
  },
  {
   "cell_type": "code",
   "execution_count": 697,
   "metadata": {},
   "outputs": [
    {
     "name": "stdout",
     "output_type": "stream",
     "text": [
      "(3240, 1140)\n"
     ]
    },
    {
     "data": {
      "image/png": "[encoded data removed]",
      "text/plain": [
       "<matplotlib.figure.Figure at 0x11a328860>"
      ]
     },
     "metadata": {},
     "output_type": "display_data"
    }
   ],
   "source": [
    "print(known.shape)\n",
    "plt.figure(figsize=(15, 15))\n",
    "plt.imshow(np.vstack((segment[[individual_to_indices[x] for x in doubledel_inds], :],\n",
    "                      segment[[individual_to_indices[x] for x in singledel_inds], :],\n",
    "                      segment[[individual_to_indices[x] for x in nodel_inds], :])))\n",
    "plt.colorbar()\n",
    "plt.show()"
   ]
  },
  {
   "cell_type": "code",
   "execution_count": 698,
   "metadata": {},
   "outputs": [
    {
     "data": {
      "image/png": "[encoded data removed]",
      "text/plain": [
       "<matplotlib.figure.Figure at 0x11ab62748>"
      ]
     },
     "metadata": {},
     "output_type": "display_data"
    }
   ],
   "source": [
    "delfams = set([d.family for d in delsofinterest])\n",
    "other_fams = set(family_to_individuals.keys()) - delfams\n",
    "other_inds = sum([family_to_individuals[f] for f in other_fams], [])\n",
    "other_parents = sum([family_to_individuals[f][:2] for f in other_fams], [])\n",
    "other_children = sum([family_to_individuals[f][2:] for f in other_fams], [])\n",
    "plt.figure(figsize=(15, 15))\n",
    "plt.imshow(segment[[individual_to_indices[x] for x in other_inds], :])\n",
    "plt.colorbar()\n",
    "plt.show()"
   ]
  },
  {
   "cell_type": "code",
   "execution_count": null,
   "metadata": {
    "collapsed": true
   },
   "outputs": [],
   "source": []
  },
  {
   "cell_type": "code",
   "execution_count": null,
   "metadata": {
    "collapsed": true
   },
   "outputs": [],
   "source": []
  }
 ],
 "metadata": {
  "kernelspec": {
   "display_name": "Python 3",
   "language": "python",
   "name": "python3"
  },
  "language_info": {
   "codemirror_mode": {
    "name": "ipython",
    "version": 3
   },
   "file_extension": ".py",
   "mimetype": "text/x-python",
   "name": "python",
   "nbconvert_exporter": "python",
   "pygments_lexer": "ipython3",
   "version": "3.6.1"
  }
 },
 "nbformat": 4,
 "nbformat_minor": 2
}
