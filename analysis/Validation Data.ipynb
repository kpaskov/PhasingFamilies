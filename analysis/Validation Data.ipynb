{
 "cells": [
  {
   "cell_type": "code",
   "execution_count": 5,
   "metadata": {},
   "outputs": [
    {
     "name": "stdout",
     "output_type": "stream",
     "text": [
      "4610 AU1005201\n"
     ]
    }
   ],
   "source": [
    "import gzip\n",
    "\n",
    "with gzip.open('v34.22.vcf.gz', 'rt') as f:\n",
    "    line = next(f)\n",
    "    while line.startswith('##'):\n",
    "        line = next(f)\n",
    "    sample_ids = line.strip().split('\\t')[9:]\n",
    "print(len(sample_ids), sample_ids[0])"
   ]
  },
  {
   "cell_type": "code",
   "execution_count": 14,
   "metadata": {},
   "outputs": [
    {
     "name": "stdout",
     "output_type": "stream",
     "text": [
      "Num LCL/WB pairs 19\n"
     ]
    }
   ],
   "source": [
    "sample_ids_of_interest = set()\n",
    "\n",
    "lcl_sample_ids = ['AU1043304_LCL', 'AU0965303_LCL', 'AU1860301_LCL', 'AU2911309_LCL', 'AU3051303_LCL', \n",
    "                  'AU3053301_LCL', 'AU3154301_LCL', 'AU3646301_LCL', 'AU3702307_LCL', 'AU3713302_LCL', \n",
    "                  'AU3761302_LCL', 'AU3766305_LCL', 'AU3846302_LCL', 'AU3913302_LCL', 'AU1308303_LCL', \n",
    "                  'AU2410302_LCL', 'AU3839303_LCL', 'AU4032306_LCL', 'AU4078302_LCL', 'AU4235303_LCL']\n",
    "\n",
    "lcl_pairs = []\n",
    "for lcl_sample_id in lcl_sample_ids:\n",
    "    if lcl_sample_id in sample_ids and lcl_sample_id[:-4] in sample_ids:\n",
    "        lcl_pairs.append((lcl_sample_id, lcl_sample_id[:-4]))\n",
    "        sample_ids_of_interest.add(lcl_sample_id)\n",
    "        sample_ids_of_interest.add(lcl_sample_id[:-4])\n",
    "print('Num LCL/WB pairs', len(lcl_pairs))"
   ]
  },
  {
   "cell_type": "code",
   "execution_count": 16,
   "metadata": {},
   "outputs": [
    {
     "name": "stdout",
     "output_type": "stream",
     "text": [
      "Num twin pairs 96\n"
     ]
    }
   ],
   "source": [
    "all_twin_pairs = [('AU000103', 'AU000104'), ('AU000105', 'AU000106'), ('AU002703', 'AU002704'), ('AU003004', 'AU003005'),\n",
    "              ('AU011504', 'AU011505'), ('AU013203', 'AU013204'), ('AU019003', 'AU019004'), ('AU019405', 'AU019406'),\n",
    "              ('AU020103', 'AU020104'), ('AU022203', 'AU022204'), ('AU022704', 'AU022705'), ('AU026503', 'AU026504'), \n",
    "              ('AU026704', 'AU026705'), ('AU032504', 'AU032505'), ('AU0331301', 'AU0331302'), ('AU033403', 'AU033404'), \n",
    "              ('AU035204', 'AU035205'), ('AU037103', 'AU037104'), ('AU038603', 'AU038604'), ('AU043003', 'AU043004'),\n",
    "              ('AU0532301', 'AU0532302'), ('AU0549301', 'AU0549302'), ('AU057904', 'AU057905'), ('AU0616301', 'AU0616302'),\n",
    "              ('AU0616303', 'AU0616304'), ('AU068803', 'AU068804'), ('AU0711301', 'AU0711302'), ('AU0806301', 'AU0806302'),\n",
    "              ('AU0885302', 'AU0885303'), ('AU0906302', 'AU0906303'), ('AU0910301', 'AU0910302'), ('AU0973301', 'AU0973302'),\n",
    "              ('AU1000303', 'AU1000304'), ('AU1004301', 'AU1004302'), ('AU1059302', 'AU1059303'), ('AU1137201', 'AU1137202'),\n",
    "              ('AU1138202', 'AU1138203'), ('AU1146301', 'AU1146302'), ('AU1194302', 'AU1194303'), ('AU1308301', 'AU1308302'),\n",
    "              ('AU1320301', 'AU1320302'), ('AU1335301', 'AU1335302'), ('AU1352301', 'AU1352302'), ('AU1397301', 'AU1397302'),\n",
    "              ('AU1414302', 'AU1414303'), ('AU1416301', 'AU1416302'), ('AU1419302', 'AU1419303'), ('AU1438303', 'AU1438304'),\n",
    "              ('AU1458307', 'AU1458308'), ('AU1505302', 'AU1505303'), ('AU1567301', 'AU1567302'), ('AU1568302', 'AU1568303'),\n",
    "              ('AU1574302', 'AU1574303'), ('AU1579302', 'AU1579303'), ('AU1585302', 'AU1585303'), ('AU1591301', 'AU1591302'),\n",
    "              ('AU1604301', 'AU1604302'), ('AU1616202', 'AU1616212'), ('AU1627301', 'AU1627302'), ('AU1629302', 'AU1629303'),\n",
    "              ('AU1651302', 'AU1651303'), ('AU1661201', 'AU1661202'), ('AU1674301', 'AU1674302'), ('AU1720202', 'AU1720212'),\n",
    "              ('AU1724303', 'AU1724304'), ('AU1745301', 'AU1745302'), ('AU1757302', 'AU1757303'), ('AU1766301', 'AU1766302'),\n",
    "              ('AU1791301', 'AU1791302'), ('AU1830302', 'AU1830303'), ('AU1833302', 'AU1833303'), ('AU1837301', 'AU1837302'),\n",
    "              ('AU1867302', 'AU1867303'), ('AU1905302', 'AU1905303'), ('AU1942302', 'AU1942303'), ('AU1953302', 'AU1953303'),\n",
    "              ('AU1986301', 'AU1986302'), ('AU2041301', 'AU2041302'), ('AU2116301', 'AU2116302'), ('AU2188302', 'AU2188303'),\n",
    "              ('AU2263301', 'AU2263302'), ('AU2298301', 'AU2298302'), ('AU2312302', 'AU2312303'), ('AU2371302', 'AU2371303'),\n",
    "              ('AU2380301', 'AU2380302'), ('AU2411301', 'AU2411302'), ('AU2492301', 'AU2492302'), ('AU2582301', 'AU2582302'),\n",
    "              ('AU2702302', 'AU2702303'), ('AU2911308', 'AU2911309'), ('AU3064304', 'AU3064305'), ('AU3114302', 'AU3114303'),\n",
    "              ('AU3143304', 'AU3143305'), ('AU3180303', 'AU3180304'), ('AU3646301', 'AU3646302'), ('AU4078301', 'AU4078302')]\n",
    "\n",
    "twin_pairs = []\n",
    "for twin_a, twin_b in all_twin_pairs:\n",
    "    if twin_a in sample_ids and twin_b in sample_ids:\n",
    "        twin_pairs.append((twin_a, twin_b))\n",
    "        sample_ids_of_interest.add(twin_a)\n",
    "        sample_ids_of_interest.add(twin_b)\n",
    "print('Num twin pairs', len(twin_pairs))\n"
   ]
  },
  {
   "cell_type": "code",
   "execution_count": 21,
   "metadata": {},
   "outputs": [
    {
     "name": "stdout",
     "output_type": "stream",
     "text": [
      "Samples 227\n",
      "Families 109\n"
     ]
    }
   ],
   "source": [
    "families = set()\n",
    "\n",
    "with open('../iHART/160826.ped', 'r') as f:\n",
    "    for line in f:\n",
    "        pieces = line.strip().split('\\t')\n",
    "        if pieces[1] in sample_ids_of_interest:\n",
    "            families.add(pieces[0])\n",
    "        \n",
    "print('Samples', len(sample_ids_of_interest))\n",
    "print('Families', len(families))"
   ]
  },
  {
   "cell_type": "code",
   "execution_count": null,
   "metadata": {
    "collapsed": true
   },
   "outputs": [],
   "source": []
  }
 ],
 "metadata": {
  "kernelspec": {
   "display_name": "Python 3",
   "language": "python",
   "name": "python3"
  },
  "language_info": {
   "codemirror_mode": {
    "name": "ipython",
    "version": 3
   },
   "file_extension": ".py",
   "mimetype": "text/x-python",
   "name": "python",
   "nbconvert_exporter": "python",
   "pygments_lexer": "ipython3",
   "version": "3.6.1"
  }
 },
 "nbformat": 4,
 "nbformat_minor": 2
}
