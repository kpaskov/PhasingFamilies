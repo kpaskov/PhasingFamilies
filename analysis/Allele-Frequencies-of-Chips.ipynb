{
 "cells": [
  {
   "cell_type": "code",
   "execution_count": 23,
   "metadata": {},
   "outputs": [],
   "source": [
    "import numpy as np\n",
    "from scipy import sparse\n",
    "from os import listdir\n",
    "import matplotlib.pyplot as plt\n",
    "\n",
    "data_dir1 = '../split_gen_ihart_23andme'\n",
    "data_dir2 = '../split_gen_ihart_ancestry'\n",
    "data_dir3 = '../split_gen_ihart_neuro'\n",
    "\n",
    "pos_file1 = '../data/23andme_positions.txt'\n",
    "pos_file2 = '../data/ancestry_positions.txt'\n",
    "pos_file3 = '../data/neurochip_positions.txt'\n",
    "\n",
    "chroms = [str(x) for x in range(1, 23)] + ['X', 'Y']"
   ]
  },
  {
   "cell_type": "code",
   "execution_count": 12,
   "metadata": {},
   "outputs": [],
   "source": [
    "def pull_chrom(data_dir, chrom):\n",
    "    # pull sample ids\n",
    "    sample_file = '%s/chr.%s.gen.samples.txt' % (data_dir, chrom)\n",
    "    with open(sample_file, 'r') as f:\n",
    "        sample_ids = [line.strip() for line in f]\n",
    "    sample_id_to_index = dict([(sample_id, i) for i, sample_id in enumerate(sample_ids)])\n",
    "\n",
    "    # pull coordinates\n",
    "    # coordinates[:, 1] is the position\n",
    "    # coordinates[:, 2] is 1 if the variant is a biallelic SNP else 0\n",
    "    coordinates = np.load('%s/chr.%s.gen.coordinates.npy' % (data_dir,  chrom))\n",
    "    snp_positions = coordinates[:, 1]\n",
    "    snp_indices = coordinates[:, 2]==1\n",
    "\n",
    "    # pull genotype data from .npz\n",
    "    gen_files = sorted([f for f in listdir(data_dir) if ('chr.%s.' % chrom) in f and 'gen.npz' in f])\n",
    "    whole_chrom = sparse.hstack([sparse.load_npz('%s/%s' % (data_dir, gen_file)) for gen_file in gen_files])\n",
    "\n",
    "    # only keep the biallelic SNPS\n",
    "    whole_chrom = whole_chrom[:, snp_indices]\n",
    "    snp_positions = snp_positions[snp_indices]\n",
    "\n",
    "    m, n = whole_chrom.shape\n",
    "    #print('chrom %s shape' % chrom, m, n)\n",
    "    return whole_chrom\n",
    "    \n",
    "    "
   ]
  },
  {
   "cell_type": "code",
   "execution_count": 13,
   "metadata": {},
   "outputs": [
    {
     "name": "stdout",
     "output_type": "stream",
     "text": [
      "1\n",
      "2\n",
      "3\n",
      "4\n",
      "5\n",
      "6\n",
      "7\n",
      "8\n",
      "9\n",
      "10\n",
      "11\n",
      "12\n",
      "13\n",
      "14\n",
      "15\n",
      "16\n",
      "17\n",
      "18\n",
      "19\n",
      "20\n",
      "21\n",
      "22\n",
      "X\n",
      "Y\n"
     ]
    }
   ],
   "source": [
    "afs1 = []\n",
    "for chrom in chroms:\n",
    "    print(chrom, sep=' ')\n",
    "    A = pull_chrom(data_dir1, chrom).A\n",
    "    homref = np.sum(A==0, axis=0)\n",
    "    het = np.sum(A==1, axis=0)\n",
    "    homalt = np.sum(A==2, axis=0)\n",
    "    afs1.append((het+2*homalt)/(2*homref + 2*het + 2*homalt))\n",
    "afs1 = np.hstack(afs1)"
   ]
  },
  {
   "cell_type": "code",
   "execution_count": 14,
   "metadata": {},
   "outputs": [
    {
     "name": "stdout",
     "output_type": "stream",
     "text": [
      "1\n",
      "2\n",
      "3\n",
      "4\n",
      "5\n",
      "6\n",
      "7\n",
      "8\n",
      "9\n",
      "10\n",
      "11\n",
      "12\n",
      "13\n",
      "14\n",
      "15\n",
      "16\n",
      "17\n",
      "18\n",
      "19\n",
      "20\n",
      "21\n",
      "22\n",
      "X\n",
      "Y\n"
     ]
    }
   ],
   "source": [
    "afs2 = []\n",
    "for chrom in chroms:\n",
    "    print(chrom, sep=' ')\n",
    "    A = pull_chrom(data_dir2, chrom).A\n",
    "    homref = np.sum(A==0, axis=0)\n",
    "    het = np.sum(A==1, axis=0)\n",
    "    homalt = np.sum(A==2, axis=0)\n",
    "    afs2.append((het+2*homalt)/(2*homref + 2*het + 2*homalt))\n",
    "afs2 = np.hstack(afs2)"
   ]
  },
  {
   "cell_type": "code",
   "execution_count": 16,
   "metadata": {},
   "outputs": [
    {
     "name": "stdout",
     "output_type": "stream",
     "text": [
      "1\n",
      "2\n",
      "3\n",
      "4\n",
      "5\n",
      "6\n",
      "7\n",
      "8\n",
      "9\n",
      "10\n",
      "11\n",
      "12\n",
      "13\n",
      "14\n",
      "15\n",
      "16\n",
      "17\n",
      "18\n",
      "19\n",
      "20\n",
      "21\n",
      "22\n",
      "X\n",
      "Y\n"
     ]
    }
   ],
   "source": [
    "afs3 = []\n",
    "for chrom in chroms:\n",
    "    print(chrom, sep=' ')\n",
    "    A = pull_chrom(data_dir3, chrom).A\n",
    "    homref = np.sum(A==0, axis=0)\n",
    "    het = np.sum(A==1, axis=0)\n",
    "    homalt = np.sum(A==2, axis=0)\n",
    "    afs3.append((het+2*homalt)/(2*homref + 2*het + 2*homalt))\n",
    "afs3 = np.hstack(afs3)"
   ]
  },
  {
   "cell_type": "code",
   "execution_count": 17,
   "metadata": {},
   "outputs": [],
   "source": [
    "afs1_sorted = sorted(afs1, reverse=True)\n",
    "afs2_sorted = sorted(afs2, reverse=True)\n",
    "afs3_sorted = sorted(afs3, reverse=True)"
   ]
  },
  {
   "cell_type": "code",
   "execution_count": 36,
   "metadata": {},
   "outputs": [
    {
     "data": {
      "image/png": "[encoded data removed]",
      "text/plain": [
       "<Figure size 432x288 with 1 Axes>"
      ]
     },
     "metadata": {},
     "output_type": "display_data"
    }
   ],
   "source": [
    "plt.plot(np.arange(0, 100, 100/len(afs1_sorted)), afs1_sorted, label='23andme')\n",
    "plt.plot(np.arange(0, 100, 100/len(afs2_sorted)), afs2_sorted, label='ancestry')\n",
    "plt.plot(np.arange(0, 100, 100/len(afs3_sorted)), afs3_sorted, label='neurochip')\n",
    "\n",
    "plt.ylabel('allele frequency')\n",
    "plt.xlabel('quantile')\n",
    "plt.legend()\n",
    "plt.show()"
   ]
  },
  {
   "cell_type": "code",
   "execution_count": 19,
   "metadata": {},
   "outputs": [],
   "source": [
    "afs1_minor = np.minimum(afs1, 1-afs1)\n",
    "afs2_minor = np.minimum(afs2, 1-afs2)\n",
    "afs3_minor = np.minimum(afs3, 1-afs3)\n",
    "\n",
    "afs1_minor_sorted = sorted(afs1_minor, reverse=True)\n",
    "afs2_minor_sorted = sorted(afs2_minor, reverse=True)\n",
    "afs3_minor_sorted = sorted(afs3_minor, reverse=True)"
   ]
  },
  {
   "cell_type": "code",
   "execution_count": 20,
   "metadata": {},
   "outputs": [
    {
     "data": {
      "image/png": "[encoded data removed]",
      "text/plain": [
       "<Figure size 432x288 with 1 Axes>"
      ]
     },
     "metadata": {},
     "output_type": "display_data"
    }
   ],
   "source": [
    "plt.plot(afs1_minor_sorted, label='23andme')\n",
    "plt.plot(afs2_minor_sorted, label='ancestry')\n",
    "plt.plot(afs3_minor_sorted, label='neurochip')\n",
    "\n",
    "plt.ylabel('allele frequency')\n",
    "plt.xlabel('ordered SNPs')\n",
    "plt.legend()\n",
    "plt.show()"
   ]
  },
  {
   "cell_type": "code",
   "execution_count": 21,
   "metadata": {},
   "outputs": [],
   "source": [
    "def find_missing_positions(data_dir, pos_file):\n",
    "    \n",
    "    # first pull all positions on chroms from pos_file\n",
    "    num_pos = 0\n",
    "    with open(pos_file, 'r') as f:\n",
    "        next(f) # skip header\n",
    "        for line in f:\n",
    "            pieces = line.strip().split('\\t')\n",
    "            if pieces[1] in chroms or (pieces[1] == '23' and 'X' in chroms) or (pieces[1] == '24' and 'Y' in chroms):\n",
    "                num_pos += 1\n",
    "    print('Positions of interest', num_pos)\n",
    "    \n",
    "    # now pull all positions from ihart_data\n",
    "    num_ihart_pos = 0\n",
    "    for chrom in chroms:\n",
    "        # pull coordinates\n",
    "        # coordinates[:, 1] is the position\n",
    "        # coordinates[:, 2] is 1 if the variant is a biallelic SNP else 0\n",
    "        coordinates = np.load('%s/chr.%s.gen.coordinates.npy' % (data_dir,  chrom))\n",
    "        snp_positions = coordinates[:, 1]\n",
    "        snp_indices = coordinates[:, 2]==1\n",
    "        num_ihart_pos += np.sum(snp_indices)\n",
    "    return num_pos, num_ihart_pos, (num_pos-num_ihart_pos)/num_pos\n",
    "        "
   ]
  },
  {
   "cell_type": "code",
   "execution_count": 24,
   "metadata": {},
   "outputs": [
    {
     "name": "stdout",
     "output_type": "stream",
     "text": [
      "% Missing\n",
      "Positions of interest 634230\n",
      "23andme (634230, 574293, 0.09450357125963767)\n",
      "Positions of interest 701038\n",
      "ancestry (701038, 678710, 0.031849913984691273)\n",
      "Positions of interest 485176\n",
      "neurochip (485176, 352772, 0.2728989067884644)\n"
     ]
    }
   ],
   "source": [
    "print('% Missing')\n",
    "print('23andme', find_missing_positions(data_dir1, pos_file1))\n",
    "print('ancestry', find_missing_positions(data_dir2, pos_file2))\n",
    "print('neurochip', find_missing_positions(data_dir3, pos_file3))"
   ]
  },
  {
   "cell_type": "code",
   "execution_count": 33,
   "metadata": {},
   "outputs": [],
   "source": [
    "def find_overlaps(pos_file1, pos_file2):\n",
    "    \n",
    "    # first pull all positions on chroms from pos1_file\n",
    "    poi1 = set()\n",
    "    with open(pos_file1, 'r') as f:\n",
    "        next(f) # skip header\n",
    "        for line in f:\n",
    "            pieces = line.strip().split('\\t')\n",
    "            chrom = pieces[1]\n",
    "            if chrom == '23':\n",
    "                chrom = 'X'\n",
    "            elif chrom == '24':\n",
    "                chrom = 'Y'\n",
    "            \n",
    "            if chrom in chroms:\n",
    "                poi1.add((chrom, int(pieces[2])))\n",
    "                \n",
    "    #print('Positions of interest 1', len(poi1))\n",
    "    \n",
    "    # now pull all positions on chroms from pos2_file\n",
    "    poi2 = set()\n",
    "    with open(pos_file2, 'r') as f:\n",
    "        next(f) # skip header\n",
    "        for line in f:\n",
    "            pieces = line.strip().split('\\t')\n",
    "            chrom = pieces[1]\n",
    "            if chrom == '23':\n",
    "                chrom = 'X'\n",
    "            elif chrom == '24':\n",
    "                chrom = 'Y'\n",
    "            \n",
    "            if chrom in chroms:\n",
    "                poi2.add((chrom, int(pieces[2])))\n",
    "                \n",
    "    #print('Positions of interest 2', len(poi2))\n",
    "    return len(poi1), len(poi2), len(poi1 | poi2), len(poi1 & poi2)\n",
    "        "
   ]
  },
  {
   "cell_type": "code",
   "execution_count": 34,
   "metadata": {},
   "outputs": [
    {
     "name": "stdout",
     "output_type": "stream",
     "text": [
      "Overlaps\n",
      "23andme vs ancestry (633582, 701038, 1168540, 166080)\n",
      "23andme vs neurochip (633582, 483857, 975366, 142073)\n",
      "ancestry vs neurochip (701038, 483857, 926038, 258857)\n"
     ]
    }
   ],
   "source": [
    "print('Overlaps')\n",
    "print('23andme vs ancestry', find_overlaps(pos_file1, pos_file2))\n",
    "print('23andme vs neurochip', find_overlaps(pos_file1, pos_file3))\n",
    "print('ancestry vs neurochip', find_overlaps(pos_file2, pos_file3))"
   ]
  },
  {
   "cell_type": "code",
   "execution_count": 38,
   "metadata": {},
   "outputs": [
    {
     "data": {
      "text/plain": [
       "0.5349865766125116"
      ]
     },
     "execution_count": 38,
     "metadata": {},
     "output_type": "execute_result"
    }
   ],
   "source": [
    "258857/483857\n"
   ]
  },
  {
   "cell_type": "code",
   "execution_count": null,
   "metadata": {},
   "outputs": [],
   "source": []
  }
 ],
 "metadata": {
  "kernelspec": {
   "display_name": "Python 3",
   "language": "python",
   "name": "python3"
  },
  "language_info": {
   "codemirror_mode": {
    "name": "ipython",
    "version": 3
   },
   "file_extension": ".py",
   "mimetype": "text/x-python",
   "name": "python",
   "nbconvert_exporter": "python",
   "pygments_lexer": "ipython3",
   "version": "3.6.7"
  }
 },
 "nbformat": 4,
 "nbformat_minor": 2
}
