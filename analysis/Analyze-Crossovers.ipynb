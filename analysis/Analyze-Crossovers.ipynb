{
 "cells": [
  {
   "cell_type": "code",
   "execution_count": 84,
   "metadata": {},
   "outputs": [],
   "source": [
    "import os\n",
    "import json\n",
    "from collections import defaultdict\n",
    "import matplotlib.pyplot as plt\n",
    "import numpy as np"
   ]
  },
  {
   "cell_type": "code",
   "execution_count": 85,
   "metadata": {},
   "outputs": [],
   "source": [
    "phase_dir = '../phased_ihart'\n",
    "ped_file = '../../DATA/ihart/ihart.ped'"
   ]
  },
  {
   "cell_type": "code",
   "execution_count": 105,
   "metadata": {},
   "outputs": [
    {
     "name": "stdout",
     "output_type": "stream",
     "text": [
      "1111\n"
     ]
    }
   ],
   "source": [
    "child_to_crossovers = defaultdict(list)\n",
    "for file in sorted(os.listdir(phase_dir)):\n",
    "    if file.endswith('.crossovers.json'):\n",
    "        with open('%s/%s' % (phase_dir, file), 'r') as f:\n",
    "            for co in json.load(f):\n",
    "                if isinstance(co['child'], str):\n",
    "                    pass\n",
    "                    #child_to_crossovers[(co['child'],)].append(co)\n",
    "                else:\n",
    "                    child_to_crossovers[tuple(co['child'])].append(co)\n",
    "print(len(child_to_crossovers))"
   ]
  },
  {
   "cell_type": "code",
   "execution_count": 106,
   "metadata": {},
   "outputs": [],
   "source": [
    "child_to_affected = dict()\n",
    "with open(ped_file, 'r') as f:\n",
    "    for line in f:\n",
    "        pieces = line.strip().split('\\t')\n",
    "        child_to_affected[pieces[1]] = pieces[5]"
   ]
  },
  {
   "cell_type": "code",
   "execution_count": 107,
   "metadata": {},
   "outputs": [],
   "source": [
    "child_to_num_mat_crossovers = dict()\n",
    "child_to_num_pat_crossovers = dict()\n",
    "child_to_famsize = dict()\n",
    "for children, crossovers in child_to_crossovers.items():\n",
    "    if len(children)==2:\n",
    "        child_to_num_mat_crossovers[children] = len([x for x in crossovers if x['is_mat']])/2\n",
    "        child_to_num_pat_crossovers[children] = len([x for x in crossovers if x['is_pat']])/2\n",
    "        child_to_famsize[children] = crossovers[0]['family_size']"
   ]
  },
  {
   "cell_type": "code",
   "execution_count": 121,
   "metadata": {},
   "outputs": [
    {
     "data": {
      "image/png": "[encoded data removed]",
      "text/plain": [
       "<Figure size 1080x360 with 2 Axes>"
      ]
     },
     "metadata": {
      "needs_background": "light"
     },
     "output_type": "display_data"
    }
   ],
   "source": [
    "children = sorted([x for x in child_to_num_mat_crossovers.keys()])\n",
    "num_crossovers_mat = np.array([child_to_num_mat_crossovers[x] for x in children])\n",
    "num_crossovers_pat = np.array([child_to_num_pat_crossovers[x] for x in children])\n",
    "famsize = np.array([child_to_famsize[x] for x in children])\n",
    "\n",
    "#bins = np.arange(0, 200, 5)\n",
    "bins = np.arange(0, 100, 2)\n",
    "\n",
    "plt.figure(figsize=(15, 5))\n",
    "plt.subplot(1, 2, 1)\n",
    "plt.hist(np.clip(num_crossovers_mat[famsize==4], 0, 99), bins=bins, alpha=0.5)\n",
    "plt.hist(np.clip(num_crossovers_mat[famsize==5], 0, 99), bins=bins, alpha=0.5)\n",
    "plt.hist(np.clip(num_crossovers_mat[famsize==6], 0, 99), bins=bins, alpha=0.5)\n",
    "plt.hist(np.clip(num_crossovers_mat[famsize>6], 0, 99), bins=bins, alpha=0.5)\n",
    "plt.axvline(np.median(num_crossovers_mat), color='black', linestyle='--')\n",
    "\n",
    "plt.subplot(1, 2, 2)\n",
    "plt.hist(np.clip(num_crossovers_pat[famsize==4], 0, 99), bins=bins, alpha=0.5)\n",
    "plt.hist(np.clip(num_crossovers_pat[famsize==5], 0, 99), bins=bins, alpha=0.5)\n",
    "plt.hist(np.clip(num_crossovers_pat[famsize==6], 0, 99), bins=bins, alpha=0.5)\n",
    "plt.hist(np.clip(num_crossovers_pat[famsize>6], 0, 99), bins=bins, alpha=0.5)\n",
    "plt.axvline(np.median(num_crossovers_pat), color='black', linestyle='--')\n",
    "plt.show()"
   ]
  },
  {
   "cell_type": "code",
   "execution_count": null,
   "metadata": {},
   "outputs": [],
   "source": []
  },
  {
   "cell_type": "code",
   "execution_count": 115,
   "metadata": {},
   "outputs": [
    {
     "data": {
      "image/png": "[encoded data removed]",
      "text/plain": [
       "<Figure size 1080x360 with 2 Axes>"
      ]
     },
     "metadata": {
      "needs_background": "light"
     },
     "output_type": "display_data"
    }
   ],
   "source": [
    "both_asd = np.array([child_to_affected[x[0]]=='2' and child_to_affected[x[1]]=='2' for x in children])\n",
    "one_asd = np.array([(child_to_affected[x[0]]=='1' and child_to_affected[x[1]]=='2') or (child_to_affected[x[0]]=='2' and child_to_affected[x[1]]=='1') for x in children])\n",
    "both_nt = np.array([child_to_affected[x[0]]=='1' and child_to_affected[x[1]]=='1' for x in children])\n",
    "\n",
    "\n",
    "plt.figure(figsize=(15, 5))\n",
    "\n",
    "plt.subplot(1, 2, 1)\n",
    "plt.hist(num_crossovers_mat[both_asd], bins=bins, alpha=0.5, density=True)\n",
    "plt.hist(num_crossovers_mat[one_asd], bins=bins, alpha=0.5, density=True)\n",
    "#plt.hist(num_crossovers_mat[both_nt], bins=bins, alpha=0.5, density=True)\n",
    "\n",
    "plt.subplot(1, 2, 2)\n",
    "plt.hist(num_crossovers_pat[both_asd], bins=bins, alpha=0.5, density=True)\n",
    "plt.hist(num_crossovers_pat[one_asd], bins=bins, alpha=0.5, density=True)\n",
    "#plt.hist(num_crossovers_pat[both_nt], bins=bins, alpha=0.5, density=True)\n",
    "\n",
    "plt.tight_layout()\n",
    "plt.show()"
   ]
  },
  {
   "cell_type": "code",
   "execution_count": null,
   "metadata": {},
   "outputs": [],
   "source": []
  }
 ],
 "metadata": {
  "kernelspec": {
   "display_name": "Python 3",
   "language": "python",
   "name": "python3"
  },
  "language_info": {
   "codemirror_mode": {
    "name": "ipython",
    "version": 3
   },
   "file_extension": ".py",
   "mimetype": "text/x-python",
   "name": "python",
   "nbconvert_exporter": "python",
   "pygments_lexer": "ipython3",
   "version": "3.7.3"
  }
 },
 "nbformat": 4,
 "nbformat_minor": 2
}
