{
 "cells": [
  {
   "cell_type": "code",
   "execution_count": 4,
   "metadata": {},
   "outputs": [],
   "source": [
    "import os\n",
    "import json\n",
    "from collections import defaultdict, Counter\n",
    "import matplotlib.pyplot as plt\n",
    "import numpy as np\n",
    "import scipy.stats as stats\n",
    "import scipy.optimize as opt\n",
    "from itertools import combinations\n",
    "import csv\n",
    "import datetime\n",
    "import statsmodels.api as sm\n",
    "from statsmodels.genmod.families import Poisson\n",
    "import statsmodels.api as sm\n",
    "import random\n",
    "from sklearn.neighbors.kde import KernelDensity\n"
   ]
  },
  {
   "cell_type": "code",
   "execution_count": 27,
   "metadata": {},
   "outputs": [],
   "source": [
    "#dataset_name = 'ihart.ms2'\n",
    "#ped_files = ['../../DATA/ihart.ms2/ihart.ped.quads.ped']\n",
    "#assembly = '38'\n",
    "\n",
    "#dataset_name = 'all_datasets'\n",
    "#ped_files = ['../../DATA/ihart.ms2/ihart.ped.quads.ped',\n",
    "#             '../../DATA/spark/sparkfam.ped',\n",
    "#             '../../DATA/ssc/ssc.ped'\n",
    "#            ]\n",
    "#assembly = '38'\n",
    "\n",
    "dataset_name = 'spark'\n",
    "ped_files = ['../../DATA/spark/sparkfam.ped']\n",
    "assembly = '38'\n",
    "\n",
    "#phase_dir = '../phased_ancestry_quads_del'\n",
    "#ped_file = '../../DATA/ancestry/ancestry.ped.quads.ped'\n",
    "#assembly = '38'"
   ]
  },
  {
   "cell_type": "code",
   "execution_count": 28,
   "metadata": {},
   "outputs": [],
   "source": [
    "child_to_mom = dict()\n",
    "child_to_dad = dict()\n",
    "\n",
    "sample_to_sex = dict()\n",
    "sample_to_affected = dict()\n",
    "parents_to_children = defaultdict(list)\n",
    "\n",
    "for ped_file in ped_files:\n",
    "    with open(ped_file, 'r') as f:\n",
    "        for line in f:\n",
    "            pieces = line.strip().split('\\t')\n",
    "            sample_to_sex[pieces[1]] = pieces[4]\n",
    "            sample_to_affected[pieces[1]] = pieces[5]\n",
    "            if pieces[2] != '0' and pieces[3] != '0':\n",
    "                parents_to_children[(pieces[3], pieces[2])].append(pieces[1])\n",
    "                child_to_mom[pieces[1]] = pieces[3]\n",
    "                child_to_dad[pieces[1]] = pieces[2]                "
   ]
  },
  {
   "cell_type": "code",
   "execution_count": 29,
   "metadata": {},
   "outputs": [
    {
     "name": "stdout",
     "output_type": "stream",
     "text": [
      "5674 5674 11348\n"
     ]
    }
   ],
   "source": [
    "sibpair_to_num_crossovers_mat = dict()\n",
    "sibpair_to_num_crossovers_pat = dict()\n",
    "\n",
    "sibpair_to_ibd_mat = dict()\n",
    "sibpair_to_ibd_pat = dict()\n",
    "\n",
    "with open('../%s/sibpairs.json' % dataset_name, 'r') as f:\n",
    "    sibpairs = json.load(f)\n",
    "    \n",
    "already_included = set()\n",
    "for (phase_file, family, child1, child2), mat_ibd, pat_ibd, mat_crossovers, pat_crossovers in sibpairs:\n",
    "    if child1 not in already_included and child2 not in already_included:\n",
    "        sibpair_to_num_crossovers_mat[(child1, child2)] = mat_crossovers\n",
    "        sibpair_to_num_crossovers_pat[(child1, child2)] = pat_crossovers\n",
    "        sibpair_to_ibd_mat[(child1, child2)] = mat_ibd\n",
    "        sibpair_to_ibd_pat[(child1, child2)] = pat_ibd\n",
    "        already_included.add(child1)\n",
    "        already_included.add(child2)\n",
    "                \n",
    "print(len(sibpair_to_num_crossovers_mat), len(sibpair_to_num_crossovers_pat), len(already_included))\n",
    "\n",
    "sibpairs = [(x[0][2], x[0][3]) for x in sibpairs]\n",
    "\n"
   ]
  },
  {
   "cell_type": "code",
   "execution_count": 30,
   "metadata": {},
   "outputs": [
    {
     "name": "stdout",
     "output_type": "stream",
     "text": [
      "[('SP0000027', 'SP0000034'), ('SP0000063', 'SP0000027')]\n"
     ]
    }
   ],
   "source": [
    "print(sibpairs[:2])"
   ]
  },
  {
   "cell_type": "markdown",
   "metadata": {},
   "source": [
    "# Check phenotype"
   ]
  },
  {
   "cell_type": "code",
   "execution_count": 31,
   "metadata": {},
   "outputs": [],
   "source": [
    "sibpairs_to_include_mat = [x for x in sibpair_to_num_crossovers_mat.keys() if (sample_to_affected.get(x[0], None) in {'1', '2'}) and (sample_to_affected.get(x[1], None) in {'1', '2'})]\n",
    "sibpairs_to_include_pat = [x for x in sibpair_to_num_crossovers_pat.keys() if (sample_to_affected.get(x[0], None) in {'1', '2'}) and (sample_to_affected.get(x[1], None) in {'1', '2'})]\n",
    "\n",
    "children_to_include_mat = sum([list(x) for x in sibpairs_to_include_mat], [])\n",
    "children_to_include_pat = sum([list(x) for x in sibpairs_to_include_pat], [])\n"
   ]
  },
  {
   "cell_type": "code",
   "execution_count": 32,
   "metadata": {},
   "outputs": [
    {
     "name": "stdout",
     "output_type": "stream",
     "text": [
      "Counter({1: 4452, 2: 1168, 0: 49}) Counter({1: 4452, 2: 1168, 0: 49})\n"
     ]
    }
   ],
   "source": [
    "phenotype_mat = np.array([int(sample_to_affected[sib1]=='2') + int(sample_to_affected[sib2]=='2') for sib1, sib2 in sibpairs_to_include_mat])\n",
    "phenotype_pat = np.array([int(sample_to_affected[sib1]=='2') + int(sample_to_affected[sib2]=='2') for sib1, sib2 in sibpairs_to_include_pat])\n",
    "\n",
    "mom_recomb = np.array([sibpair_to_num_crossovers_mat[x] for x in sibpairs_to_include_mat])\n",
    "dad_recomb = np.array([sibpair_to_num_crossovers_pat[x] for x in sibpairs_to_include_pat])\n",
    "print(Counter(phenotype_mat), Counter(phenotype_pat))\n"
   ]
  },
  {
   "cell_type": "code",
   "execution_count": 34,
   "metadata": {},
   "outputs": [
    {
     "data": {
      "image/png": "[encoded data removed]",
      "text/plain": [
       "<Figure size 1080x360 with 2 Axes>"
      ]
     },
     "metadata": {
      "needs_background": "light"
     },
     "output_type": "display_data"
    }
   ],
   "source": [
    "plt.figure(figsize=(15, 5))\n",
    "\n",
    "plt.subplot(1, 2, 1)\n",
    "plt.hist(mom_recomb[phenotype_mat==0], alpha=0.5, density=True, bins=np.arange(40, 130, 5))\n",
    "#plt.hist(mom_recomb[phenotype_mat==1], alpha=0.5, density=True, bins=np.arange(40, 130, 5))\n",
    "plt.hist(mom_recomb[phenotype_mat==2], alpha=0.5, density=True, bins=np.arange(40, 130, 5))\n",
    "\n",
    "plt.subplot(1, 2, 2)\n",
    "plt.hist(dad_recomb[phenotype_pat==0], alpha=0.5, density=True, bins=np.arange(30, 100, 5))\n",
    "#plt.hist(dad_recomb[phenotype_pat==1], alpha=0.5, density=True, bins=np.arange(30, 100, 5))\n",
    "plt.hist(dad_recomb[phenotype_pat==2], alpha=0.5, density=True, bins=np.arange(30, 100, 5))\n",
    "\n",
    "plt.show()"
   ]
  },
  {
   "cell_type": "code",
   "execution_count": null,
   "metadata": {},
   "outputs": [],
   "source": [
    "plt.figure(figsize=(15, 5))\n",
    "\n",
    "plt.subplot(1, 2, 1)\n",
    "\n",
    "plt.scatter(mom_age, mom_ibd, marker='.', alpha=0.25)\n",
    "\n",
    "# KDE\n",
    "kde = KernelDensity(kernel='gaussian', bandwidth=10).fit(np.hstack((mom_age[:, np.newaxis],\n",
    "                                                                    mom_ibd[:, np.newaxis]))) \n",
    "xintervals = plt.xticks()[0]\n",
    "yintervals = plt.yticks()[0]\n",
    "gridx, gridy = np.meshgrid(xintervals, yintervals)\n",
    "\n",
    "predict = kde.score_samples(np.hstack((gridx.flatten()[:, np.newaxis], gridy.flatten()[:, np.newaxis])))\n",
    "plt.contour(xintervals, yintervals, predict.reshape(len(yintervals), len(xintervals)))\n",
    "\n",
    "l = sm.nonparametric.lowess(mom_ibd, mom_age, return_sorted=True)\n",
    "plt.plot(l[:, 0], l[:, 1], linewidth=3, label='mat (r=%0.2f\\npvalue=%0.3f)' % stats.pearsonr(mom_age, mom_ibd),\n",
    "                )\n",
    "plt.legend()\n",
    "\n",
    "plt.subplot(1, 2, 2)\n",
    "\n",
    "plt.scatter(dad_age, dad_ibd, marker='.', alpha=0.25)\n",
    "\n",
    "# KDE\n",
    "kde = KernelDensity(kernel='gaussian', bandwidth=10).fit(np.hstack((dad_age[:, np.newaxis],\n",
    "                                                                    dad_ibd[:, np.newaxis]))) \n",
    "xintervals = plt.xticks()[0]\n",
    "yintervals = plt.yticks()[0]\n",
    "gridx, gridy = np.meshgrid(xintervals, yintervals)\n",
    "\n",
    "predict = kde.score_samples(np.hstack((gridx.flatten()[:, np.newaxis], gridy.flatten()[:, np.newaxis])))\n",
    "plt.contour(xintervals, yintervals, predict.reshape(len(yintervals), len(xintervals)))\n",
    "\n",
    "l = sm.nonparametric.lowess(dad_ibd, dad_age, return_sorted=True)\n",
    "plt.plot(l[:, 0], l[:, 1], linewidth=3, label='pat (r=%0.2f\\npvalue=%0.3f)' % stats.pearsonr(dad_age, dad_ibd),\n",
    "                )\n",
    "plt.legend()\n",
    "plt.show()"
   ]
  },
  {
   "cell_type": "code",
   "execution_count": null,
   "metadata": {},
   "outputs": [],
   "source": [
    "mat_model = sm.GLM(mom_recomb, mom_age_X)\n",
    "mat_results = mat_model.fit()\n",
    "print(mat_results.summary())\n",
    "\n",
    "pat_model = sm.GLM(dad_recomb, dad_age_X)\n",
    "pat_results = pat_model.fit()\n",
    "print(pat_results.summary())\n",
    "\n"
   ]
  },
  {
   "cell_type": "code",
   "execution_count": null,
   "metadata": {},
   "outputs": [],
   "source": [
    "plt.figure(figsize=(15, 5))\n",
    "\n",
    "plt.subplot(1, 2, 1)\n",
    "\n",
    "p = np.zeros((len(age_intervals_mat)+1, len(age_intervals_mat)+2))\n",
    "p[:, :-1] = np.identity(len(age_intervals_mat)+1)\n",
    "print()\n",
    "p[:, -1] = 1\n",
    "\n",
    "presults = mat_results.get_prediction(p)\n",
    "\n",
    "plt.plot([age_intervals_mat[0]-5] + age_intervals_mat.tolist(), mat_results.predict(p), marker='o')\n",
    "plt.fill_between([age_intervals_mat[0]-5] + age_intervals_mat.tolist(),\n",
    "                 presults.conf_int()[:, 0], presults.conf_int()[:, 1], alpha=0.25)\n",
    "\n",
    "plt.subplot(1, 2, 2)\n",
    "\n",
    "p = np.zeros((len(age_intervals_pat)+1, len(age_intervals_pat)+2))\n",
    "p[:, :-1] = np.identity(len(age_intervals_pat)+1)\n",
    "print()\n",
    "p[:, -1] = 1\n",
    "\n",
    "presults = pat_results.get_prediction(p)\n",
    "\n",
    "plt.plot([age_intervals_pat[0]-5] + age_intervals_pat.tolist(), pat_results.predict(p), marker='o')\n",
    "plt.fill_between([age_intervals_pat[0]-5] + age_intervals_pat.tolist(),\n",
    "                 presults.conf_int()[:, 0], presults.conf_int()[:, 1], alpha=0.25)\n",
    "\n",
    "plt.tight_layout()\n",
    "plt.show()\n"
   ]
  },
  {
   "cell_type": "code",
   "execution_count": null,
   "metadata": {},
   "outputs": [],
   "source": [
    "mat_model = sm.GLM(mom_recomb, mom_age_phen)\n",
    "mat_results = mat_model.fit()\n",
    "print(mat_results.summary())\n",
    "\n",
    "pat_model = sm.GLM(dad_recomb, dad_age_phen)\n",
    "pat_results = pat_model.fit()\n",
    "print(pat_results.summary())\n",
    "\n"
   ]
  },
  {
   "cell_type": "code",
   "execution_count": null,
   "metadata": {},
   "outputs": [],
   "source": [
    "plt.figure(figsize=(15, 5))\n",
    "\n",
    "plt.subplot(1, 2, 1)\n",
    "\n",
    "p = [[20, 0, 1, 0],\n",
    "     [100, 0, 1, 0],\n",
    "     [0, 20, 0, 1],\n",
    "     [0, 100, 0, 1]]\n",
    "\n",
    "presults = mat_results.get_prediction(p)\n",
    "\n",
    "plt.plot([20, 100], mat_results.predict(p)[:2], marker='o')\n",
    "plt.fill_between([20, 100],\n",
    "                 presults.conf_int()[:2, 0], presults.conf_int()[:2, 1], alpha=0.25)\n",
    "\n",
    "plt.plot([20, 100], mat_results.predict(p)[2:], marker='o')\n",
    "plt.fill_between([20, 100],\n",
    "                 presults.conf_int()[2:, 0], presults.conf_int()[2:, 1], alpha=0.25)\n",
    "\n",
    "plt.subplot(1, 2, 2)\n",
    "\n",
    "presults = pat_results.get_prediction(p)\n",
    "\n",
    "plt.plot([20, 100], pat_results.predict(p)[:2], marker='o')\n",
    "plt.fill_between([20, 100],\n",
    "                 presults.conf_int()[:2, 0], presults.conf_int()[:2, 1], alpha=0.25)\n",
    "\n",
    "plt.plot([20, 100], pat_results.predict(p)[2:], marker='o')\n",
    "plt.fill_between([20, 100],\n",
    "                 presults.conf_int()[2:, 0], presults.conf_int()[2:, 1], alpha=0.25)\n",
    "\n",
    "plt.tight_layout()\n",
    "plt.show()\n"
   ]
  },
  {
   "cell_type": "code",
   "execution_count": null,
   "metadata": {},
   "outputs": [],
   "source": []
  }
 ],
 "metadata": {
  "kernelspec": {
   "display_name": "Python 3",
   "language": "python",
   "name": "python3"
  },
  "language_info": {
   "codemirror_mode": {
    "name": "ipython",
    "version": 3
   },
   "file_extension": ".py",
   "mimetype": "text/x-python",
   "name": "python",
   "nbconvert_exporter": "python",
   "pygments_lexer": "ipython3",
   "version": "3.7.3"
  }
 },
 "nbformat": 4,
 "nbformat_minor": 2
}
