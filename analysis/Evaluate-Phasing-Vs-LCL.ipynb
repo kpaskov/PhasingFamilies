{
 "cells": [
  {
   "cell_type": "code",
   "execution_count": 1,
   "metadata": {},
   "outputs": [],
   "source": [
    "# pull lcl/wb pairs\n",
    "\n",
    "data_dir = '../split_gen_miss'\n",
    "chrom = '22'"
   ]
  },
  {
   "cell_type": "code",
   "execution_count": 101,
   "metadata": {},
   "outputs": [
    {
     "name": "stdout",
     "output_type": "stream",
     "text": [
      "17\n",
      "['AU1043304', 'AU2911309', 'AU1860301', 'AU3154301', 'AU3053301', 'AU3646301', 'AU3846302', 'AU3702307', 'AU3761302', 'AU3913302', 'AU3713302', 'AU3051303', 'AU3839303', 'AU4032306', 'AU2410302', 'AU1308303', 'AU4235303']\n"
     ]
    }
   ],
   "source": [
    "sample_id_to_index = dict()\n",
    "with open('%s/chr.%s.gen.samples.txt' % (data_dir, chrom), 'r') as f:\n",
    "    for i, line in enumerate(f):\n",
    "        sample_id = line.strip()\n",
    "        sample_id_to_index[sample_id] = i\n",
    "\n",
    "discard_sample_ids = ['AU3766305', 'AU4078302']\n",
    "sample_ids, lcl_indices, wb_indices = [], [], []\n",
    "for sample_id, index in sample_id_to_index.items():\n",
    "    if sample_id.endswith('_LCL') and sample_id[:-4] not in discard_sample_ids:\n",
    "        sample_ids.append(sample_id[:-4])\n",
    "        lcl_indices.append(index)\n",
    "        wb_indices.append(sample_id_to_index[sample_id[:-4]])\n",
    "\n",
    "#sample_ids.remove('AU4032306') # large family - haven't phased them\n",
    "m = len(sample_ids)\n",
    "print(m)\n",
    "print(sample_ids)"
   ]
  },
  {
   "cell_type": "code",
   "execution_count": 87,
   "metadata": {},
   "outputs": [
    {
     "name": "stdout",
     "output_type": "stream",
     "text": [
      "moms ['AU1043202', 'AU2911202', 'AU1860202', 'AU3154202', 'AU3053202', 'AU3646202', 'AU3846202', 'AU3702202', 'AU3761202', 'AU3913202', 'AU3713202', 'AU3051202', 'AU3839202', 'AU4032202', 'AU2410202', 'AU1308202', 'AU4235202']\n",
      "dads ['AU1043201', 'AU2911201', 'AU1860201', 'AU3154201', 'AU3053201', 'AU3646201', 'AU3846201', 'AU3702201', 'AU3761201', 'AU3913201', 'AU3713201', 'AU3051201', 'AU3839201', 'AU4032201', 'AU2410201', 'AU1308201', 'AU4235201']\n",
      "siblings [['AU1043301', 'AU1043302', 'AU1043303'], ['AU2911301', 'AU2911302', 'AU2911308'], ['AU1860302', 'AU1860303'], ['AU3154302'], ['AU3053302', 'AU3053303'], ['AU3646302'], ['AU3846301', 'AU3846303'], ['AU3702306', 'AU3702308', 'AU3702309'], ['AU3761301'], ['AU3913301', 'AU3913303', 'AU3913304'], ['AU3713301'], ['AU3051302'], ['AU3839301', 'AU3839302', 'AU3839304'], ['AU4032302', 'AU4032303', 'AU4032304', 'AU4032305', 'AU4032307'], ['AU2410301'], ['AU1308301', 'AU1308302'], ['AU4235301', 'AU4235302']]\n"
     ]
    }
   ],
   "source": [
    "from itertools import chain\n",
    "\n",
    "moms = [-1]*m\n",
    "dads = [-1]*m\n",
    "siblings = [[] for _ in range(m)]\n",
    "\n",
    "family_ids = [-1]*m\n",
    "with open('../data/160826.ped', 'r') as f:\n",
    "    for line in f:\n",
    "        pieces = line.strip().split('\\t')\n",
    "        if pieces[1] in sample_ids:\n",
    "            i = sample_ids.index(pieces[1])\n",
    "            family_ids[i] = pieces[0]\n",
    "            dads[i] = pieces[2]\n",
    "            moms[i] = pieces[3]\n",
    "            \n",
    "with open('../data/160826.ped', 'r') as f:\n",
    "    for line in f:\n",
    "        pieces = line.strip().split('\\t')\n",
    "        if pieces[0] in family_ids:\n",
    "            i = family_ids.index(pieces[0])\n",
    "            if not pieces[1].endswith('_LCL') and pieces[1] != moms[i] and pieces[1] != dads[i] and pieces[1] != sample_ids[i]:\n",
    "                siblings[i].append(pieces[1])\n",
    "\n",
    "print('moms', moms)\n",
    "print('dads', dads)\n",
    "print('siblings', siblings)\n",
    "\n",
    "mom_indices = [sample_id_to_index[sample_id] for sample_id in moms]\n",
    "dad_indices = [sample_id_to_index[sample_id] for sample_id in dads]\n",
    "sib_indices = [sample_id_to_index[sample_id] for sample_id in chain.from_iterable(siblings)]\n",
    "\n"
   ]
  },
  {
   "cell_type": "code",
   "execution_count": 88,
   "metadata": {},
   "outputs": [],
   "source": [
    "from os import listdir\n",
    "from scipy import sparse\n",
    "import numpy as np\n",
    "\n",
    "sample_file = '%s/chr.%s.gen.samples.txt' % (data_dir, chrom)\n",
    "coord_file = '%s/chr.%s.gen.coordinates.npy' % (data_dir,  chrom)\n",
    "gen_files = sorted([f for f in listdir(data_dir) if ('chr.%s' % chrom) in f and 'gen.npz' in f])\n",
    "    \n",
    "# use only \"cleaned\" variants - must be SNPs\n",
    "coordinates = np.load(coord_file)\n",
    "snp_positions = coordinates[:, 1]\n",
    "snp_indices = coordinates[:, 2]==1\n",
    "snp_positions = snp_positions[snp_indices]\n",
    "    \n",
    "data = sparse.hstack([sparse.load_npz('%s/%s' % (data_dir, gen_file))[lcl_indices+wb_indices+mom_indices+dad_indices+sib_indices, :] for gen_file in gen_files]).A\n",
    "data = data[:, snp_indices]\n",
    "data[data==-2] = -1\n",
    "        \n",
    "lcl_genotypes = data[:m, :]\n",
    "wb_genotypes = data[m:(2*m), :]\n",
    "mom_genotypes = data[(2*m):(3*m), :]\n",
    "dad_genotypes = data[(3*m):(4*m), :]\n",
    "sibling_genotypes = data[(4*m):, :]"
   ]
  },
  {
   "cell_type": "code",
   "execution_count": 89,
   "metadata": {},
   "outputs": [
    {
     "name": "stdout",
     "output_type": "stream",
     "text": [
      "17 1004649\n"
     ]
    }
   ],
   "source": [
    "n = data.shape[1]\n",
    "print(m, n)"
   ]
  },
  {
   "cell_type": "code",
   "execution_count": 95,
   "metadata": {},
   "outputs": [
    {
     "name": "stdout",
     "output_type": "stream",
     "text": [
      "0.9795281735212995\n",
      "0.9815557473306598\n",
      "0.9805922267378955\n",
      "0.9833971864800543\n",
      "0.9789279638958482\n",
      "0.9808659541790218\n",
      "0.9792036820820008\n",
      "0.9826277635273613\n",
      "0.9785288195180606\n",
      "0.9800915543637628\n",
      "0.9818364423793783\n",
      "0.9797889611197542\n",
      "0.9809117413146283\n",
      "0.979680465515817\n",
      "0.9771382841171394\n",
      "0.9794147010547962\n",
      "0.9795052799534962\n"
     ]
    }
   ],
   "source": [
    "# trio mendelian\n",
    "mendelian = {\n",
    "    (-1, -1, -1),\n",
    "    (-1, 0, 0), (-1, 0, 1), (0, -1, 0), (0, -1, 1),\n",
    "    (-1, 1, 0), (-1, 1, 1), (-1, 1, 2), (1, -1, 0), (1, -1, 1), (1, -1, 2),\n",
    "    (-1, 2, 1), (-1, 2, 2), (2, -1, 1), (2, -1, 2),\n",
    "    (0, 0, 0), \n",
    "    (0, 1, 0), (0, 1, 1), (1, 0, 0), (1, 0, 1),\n",
    "    (0, 2, 1), (2, 0, 1),\n",
    "    (1, 2, 1), (1, 2, 2), (2, 1, 1), (2, 1, 2),\n",
    "    (2, 2, 2)}\n",
    "\n",
    "is_trio_mendelian = np.ones((m, n), dtype=np.bool)\n",
    "\n",
    "for i in range(m):\n",
    "    triostack = np.vstack((mom_genotypes[i, :], dad_genotypes[i, :], lcl_genotypes[i, :]))\n",
    "    is_trio_mendelian[i, :] = np.apply_along_axis(lambda x: tuple(x) in mendelian, 0, triostack)\n",
    "    print(np.sum(is_trio_mendelian[i, :])/n)"
   ]
  },
  {
   "cell_type": "code",
   "execution_count": 96,
   "metadata": {},
   "outputs": [
    {
     "name": "stdout",
     "output_type": "stream",
     "text": [
      "0.9707032008193907\n",
      "0.9517314007180617\n",
      "0.9728770943881893\n",
      "0.9793778722718084\n",
      "0.9711391739801662\n",
      "0.97758520637556\n",
      "0.9587587306611562\n",
      "0.9728631591730047\n",
      "0.974639899109042\n",
      "0.9713173456600266\n",
      "0.9775802295129941\n",
      "0.9762036293272576\n",
      "0.9722410513522634\n",
      "0.9657621716639344\n",
      "0.9724978574606654\n",
      "0.9748897376098518\n",
      "0.9701806302499679\n"
     ]
    }
   ],
   "source": [
    "# fam mendelian\n",
    "is_fam_mendelian = np.ones((m, n), dtype=np.bool)\n",
    "\n",
    "sib_index = 0\n",
    "for i in range(m):\n",
    "    num_sibs = len(siblings[i])\n",
    "\n",
    "    is_fam_mend = is_trio_mendelian[i, :].copy()\n",
    "    for j in range(sib_index, sib_index+num_sibs):\n",
    "        triostack = np.vstack((mom_genotypes[i, :], dad_genotypes[i, :], sibling_genotypes[j, :]))\n",
    "        is_sibtrio_mendelian = np.apply_along_axis(lambda x: tuple(x) in mendelian, 0, triostack)\n",
    "        is_fam_mend[~is_sibtrio_mendelian] = 0\n",
    "    is_fam_mendelian[i, :] = is_fam_mend\n",
    "    sib_index += num_sibs\n",
    "    \n",
    "    print(np.sum(is_fam_mendelian[i, :])/n)"
   ]
  },
  {
   "cell_type": "code",
   "execution_count": 102,
   "metadata": {},
   "outputs": [
    {
     "name": "stdout",
     "output_type": "stream",
     "text": [
      "AU4032306\n",
      "(16, 1004649)\n"
     ]
    }
   ],
   "source": [
    "import os.path\n",
    "import scipy.sparse as sparse\n",
    "\n",
    "# now pull in blame (from phasing)\n",
    "phase_dir = '../phased_ihart_LCL'\n",
    "variant_dir = '%s/variants' % phase_dir\n",
    "\n",
    "# first we need to know the index of the target child (LCL/WB) within the phased family\n",
    "child_phase_index = dict()\n",
    "for i in range(4, 7):\n",
    "    with open('%s/chr.%s.familysize.%d.families.txt' % (phase_dir, chrom, i), 'r') as f:\n",
    "        next(f) # skip header\n",
    "        for line in f:\n",
    "            pieces = line.strip().split('\\t')\n",
    "            for j in range(i-2):\n",
    "                child_phase_index[pieces[j+3]] = j+2\n",
    "\n",
    "blame_data = []\n",
    "is_phase_matched = np.ones((m, n), dtype=np.bool)\n",
    "for i, (fam_id, mom_id, dad_id, sample_id) in enumerate(zip(family_ids, moms, dads, sample_ids)):\n",
    "    blame_file_name = '%s/chr.%s.%s.%s.%s.blame.npz' % (variant_dir, chrom, fam_id, mom_id, dad_id)\n",
    "    \n",
    "    if os.path.isfile(blame_file_name):\n",
    "        fam_blame_data = sparse.load_npz(blame_file_name)\n",
    "        blame_data.append(fam_blame_data[child_phase_index[sample_id + '_LCL'], :])\n",
    "        \n",
    "        fam_blame_data = fam_blame_data[:, snp_positions-1].A\n",
    "        is_phase_matched[i, :] = np.sum(fam_blame_data, axis=0)==0\n",
    "    else:\n",
    "        print(sample_id)\n",
    "\n",
    "blame_data = sparse.vstack(blame_data)\n",
    "blame_data = blame_data[:, snp_positions-1].A\n",
    "\n",
    "print(blame_data.shape)\n"
   ]
  },
  {
   "cell_type": "code",
   "execution_count": 103,
   "metadata": {},
   "outputs": [],
   "source": [
    "# sites where LCL and WB match are our gold standard true values\n",
    "# sites where they mismatch we mark as a possible error\n",
    "# sites where one or the other is unknown\n",
    "\n",
    "is_unknown = (lcl_genotypes == -1) | (wb_genotypes == -1)\n",
    "is_true = (lcl_genotypes == wb_genotypes) & (~is_unknown)\n",
    "is_possible_error = (lcl_genotypes != wb_genotypes) & (~is_unknown)"
   ]
  },
  {
   "cell_type": "code",
   "execution_count": 104,
   "metadata": {},
   "outputs": [
    {
     "name": "stdout",
     "output_type": "stream",
     "text": [
      "0\n",
      "23700\n"
     ]
    }
   ],
   "source": [
    "print(np.sum((~is_trio_mendelian[i, :]) & is_fam_mendelian[i, :]))\n",
    "print(np.sum((~is_fam_mendelian[i, :]) & is_phase_matched[i, :]))"
   ]
  },
  {
   "cell_type": "code",
   "execution_count": null,
   "metadata": {},
   "outputs": [],
   "source": [
    "print()"
   ]
  },
  {
   "cell_type": "code",
   "execution_count": 107,
   "metadata": {},
   "outputs": [
    {
     "data": {
      "image/png": "[encoded data removed]",
      "text/plain": [
       "<Figure size 1080x360 with 1 Axes>"
      ]
     },
     "metadata": {},
     "output_type": "display_data"
    }
   ],
   "source": [
    "q = 1000\n",
    "\n",
    "plt.figure(figsize=(15, 5))\n",
    "plt.plot(np.convolve(1-is_trio_mendelian[i, :], np.ones((q,))/q, mode='same'), label='trio')\n",
    "plt.plot(np.convolve(1-is_fam_mendelian[i, :], np.ones((q,))/q, mode='same'), label='fam')\n",
    "plt.plot(np.convolve(1-is_phase_matched[i, :], np.ones((q,))/q, mode='same'), label='phase')\n",
    "\n",
    "plt.legend()\n",
    "plt.show()"
   ]
  },
  {
   "cell_type": "code",
   "execution_count": 100,
   "metadata": {},
   "outputs": [
    {
     "name": "stdout",
     "output_type": "stream",
     "text": [
      "sample_id\ttrio\tfam\tphase\terror\tunknown\n",
      "AU1043304\t0.0205\t0.0293\t0.0118\t0.0032\t0.0090\n",
      "AU2911309\t0.0184\t0.0483\t0.0048\t0.0044\t0.0085\n",
      "AU1860301\t0.0194\t0.0271\t0.0087\t0.0035\t0.0094\n",
      "AU3154301\t0.0166\t0.0206\t0.0074\t0.0042\t0.0062\n",
      "AU3053301\t0.0211\t0.0289\t0.0101\t0.0036\t0.0087\n",
      "AU3646301\t0.0191\t0.0224\t0.0045\t0.0039\t0.0090\n",
      "AU3846302\t0.0208\t0.0412\t0.0078\t0.0038\t0.0073\n",
      "AU3702307\t0.0174\t0.0271\t0.0117\t0.0037\t0.0110\n",
      "AU3761302\t0.0215\t0.0254\t0.0068\t0.0037\t0.0089\n",
      "AU3913302\t0.0199\t0.0287\t0.0128\t0.0040\t0.0064\n",
      "AU3713302\t0.0182\t0.0224\t0.0071\t0.0037\t0.0073\n",
      "AU3051303\t0.0202\t0.0238\t0.0051\t0.0035\t0.0095\n",
      "AU3839303\t0.0191\t0.0278\t0.0118\t0.0038\t0.0098\n",
      "AU4032306\t0.0203\t0.0342\t0.0000\t0.0039\t0.0077\n",
      "AU2410302\t0.0229\t0.0275\t0.0085\t0.0039\t0.0114\n",
      "AU1308303\t0.0206\t0.0251\t0.0076\t0.0032\t0.0083\n",
      "AU4235303\t0.0205\t0.0298\t0.0101\t0.0035\t0.0090\n"
     ]
    }
   ],
   "source": [
    "# print a quick summary of each individual\n",
    "\n",
    "print('\\t'.join(['sample_id', 'trio', 'fam', 'phase', 'error', 'unknown']))\n",
    "for i in range(m):\n",
    "    print('\\t'.join([sample_ids[i], \n",
    "                    '%0.4f' % (1-(np.sum(is_trio_mendelian[i, :])/n)),\n",
    "                    '%0.4f' % (1-(np.sum(is_fam_mendelian[i, :])/n)),\n",
    "                    '%0.4f' % (1-(np.sum(is_phase_matched[i, :])/n)),\n",
    "                    '%0.4f' % (np.sum(is_possible_error[i, :])/n),\n",
    "                    '%0.4f' % (np.sum(is_unknown[i, :])/n)]))\n",
    "    "
   ]
  },
  {
   "cell_type": "code",
   "execution_count": 59,
   "metadata": {},
   "outputs": [],
   "source": [
    "import matplotlib.pyplot as plt\n",
    "\n",
    "# now precision recall for trio\n",
    "\n",
    "#print('\\t'.join(['sample_id', 'prec', 'recall']))\n",
    "trio_prec, trio_recall = [], []\n",
    "for i in range(m):\n",
    "    TP = np.sum((~is_trio_mendelian[i, :]) & is_possible_error[i, :])\n",
    "    FP = np.sum((~is_trio_mendelian[i, :]) & (~is_possible_error[i, :]) & (~is_unknown[i, :]))\n",
    "    FN = np.sum(is_trio_mendelian[i, :] & is_possible_error[i, :])\n",
    "    #print('\\t'.join([sample_ids[i], \n",
    "    #                '%0.4f' % (TP/(TP+FP)),\n",
    "    #                '%0.4f' % (TP/(TP+FN))]))\n",
    "    trio_prec.append(TP/(TP+FP))\n",
    "    trio_recall.append(TP/(TP+FN))    "
   ]
  },
  {
   "cell_type": "code",
   "execution_count": 60,
   "metadata": {},
   "outputs": [],
   "source": [
    "# now precision recall for fam\n",
    "\n",
    "#print('\\t'.join(['sample_id', 'prec', 'recall']))\n",
    "fam_prec, fam_recall = [], []\n",
    "for i in range(m):\n",
    "    TP = np.sum((~is_fam_mendelian[i, :]) & is_possible_error[i, :])\n",
    "    FP = np.sum((~is_fam_mendelian[i, :]) & (~is_possible_error[i, :]) & (~is_unknown[i, :]))\n",
    "    FN = np.sum(is_fam_mendelian[i, :] & is_possible_error[i, :])\n",
    "    #print('\\t'.join([sample_ids[i], \n",
    "    #                '%0.4f' % (TP/(TP+FP)),\n",
    "    #                '%0.4f' % (TP/(TP+FN))]))\n",
    "    fam_prec.append(TP/(TP+FP))\n",
    "    fam_recall.append(TP/(TP+FN))"
   ]
  },
  {
   "cell_type": "code",
   "execution_count": 63,
   "metadata": {},
   "outputs": [
    {
     "name": "stderr",
     "output_type": "stream",
     "text": [
      "//anaconda/lib/python3.6/site-packages/ipykernel_launcher.py:12: RuntimeWarning: invalid value encountered in long_scalars\n",
      "  if sys.path[0] == '':\n"
     ]
    }
   ],
   "source": [
    "# now precision recall for phase\n",
    "\n",
    "#print('\\t'.join(['sample_id', 'prec', 'recall']))\n",
    "phase_prec, phase_recall = [], []\n",
    "for i in range(m):\n",
    "    TP = np.sum((~is_phase_matched[i, :]) & is_possible_error[i, :])\n",
    "    FP = np.sum((~is_phase_matched[i, :]) & (~is_possible_error[i, :]) & (~is_unknown[i, :]))\n",
    "    FN = np.sum(is_phase_matched[i, :] & is_possible_error[i, :])\n",
    "    #print('\\t'.join([sample_ids[i], \n",
    "    #                '%0.4f' % (TP/(TP+FP)),\n",
    "    #                '%0.4f' % (TP/(TP+FN))]))\n",
    "    phase_prec.append(TP/(TP+FP))\n",
    "    phase_recall.append(TP/(TP+FN))\n",
    "    "
   ]
  },
  {
   "cell_type": "code",
   "execution_count": 70,
   "metadata": {},
   "outputs": [
    {
     "name": "stdout",
     "output_type": "stream",
     "text": [
      "17\n"
     ]
    },
    {
     "ename": "IndexError",
     "evalue": "index 16 is out of bounds for axis 0 with size 16",
     "output_type": "error",
     "traceback": [
      "\u001b[0;31m---------------------------------------------------------------------------\u001b[0m",
      "\u001b[0;31mIndexError\u001b[0m                                Traceback (most recent call last)",
      "\u001b[0;32m<ipython-input-70-ea274be12cb0>\u001b[0m in \u001b[0;36m<module>\u001b[0;34m\u001b[0m\n\u001b[1;32m      4\u001b[0m \u001b[0mblame_prec\u001b[0m\u001b[0;34m,\u001b[0m \u001b[0mblame_recall\u001b[0m \u001b[0;34m=\u001b[0m \u001b[0;34m[\u001b[0m\u001b[0;34m]\u001b[0m\u001b[0;34m,\u001b[0m \u001b[0;34m[\u001b[0m\u001b[0;34m]\u001b[0m\u001b[0;34m\u001b[0m\u001b[0m\n\u001b[1;32m      5\u001b[0m \u001b[0;32mfor\u001b[0m \u001b[0mi\u001b[0m \u001b[0;32min\u001b[0m \u001b[0mrange\u001b[0m\u001b[0;34m(\u001b[0m\u001b[0mm\u001b[0m\u001b[0;34m)\u001b[0m\u001b[0;34m:\u001b[0m\u001b[0;34m\u001b[0m\u001b[0m\n\u001b[0;32m----> 6\u001b[0;31m     \u001b[0mTP\u001b[0m \u001b[0;34m=\u001b[0m \u001b[0mnp\u001b[0m\u001b[0;34m.\u001b[0m\u001b[0msum\u001b[0m\u001b[0;34m(\u001b[0m\u001b[0;34m(\u001b[0m\u001b[0mblame_data\u001b[0m\u001b[0;34m[\u001b[0m\u001b[0mi\u001b[0m\u001b[0;34m,\u001b[0m \u001b[0;34m:\u001b[0m\u001b[0;34m]\u001b[0m \u001b[0;34m>\u001b[0m \u001b[0;36m0\u001b[0m\u001b[0;34m)\u001b[0m \u001b[0;34m&\u001b[0m \u001b[0mis_possible_error\u001b[0m\u001b[0;34m[\u001b[0m\u001b[0mi\u001b[0m\u001b[0;34m,\u001b[0m \u001b[0;34m:\u001b[0m\u001b[0;34m]\u001b[0m\u001b[0;34m)\u001b[0m\u001b[0;34m\u001b[0m\u001b[0m\n\u001b[0m\u001b[1;32m      7\u001b[0m     \u001b[0mFP\u001b[0m \u001b[0;34m=\u001b[0m \u001b[0mnp\u001b[0m\u001b[0;34m.\u001b[0m\u001b[0msum\u001b[0m\u001b[0;34m(\u001b[0m\u001b[0;34m(\u001b[0m\u001b[0mblame_data\u001b[0m\u001b[0;34m[\u001b[0m\u001b[0mi\u001b[0m\u001b[0;34m,\u001b[0m \u001b[0;34m:\u001b[0m\u001b[0;34m]\u001b[0m \u001b[0;34m>\u001b[0m \u001b[0;36m0\u001b[0m\u001b[0;34m)\u001b[0m \u001b[0;34m&\u001b[0m \u001b[0;34m(\u001b[0m\u001b[0;34m~\u001b[0m\u001b[0mis_possible_error\u001b[0m\u001b[0;34m[\u001b[0m\u001b[0mi\u001b[0m\u001b[0;34m,\u001b[0m \u001b[0;34m:\u001b[0m\u001b[0;34m]\u001b[0m\u001b[0;34m)\u001b[0m \u001b[0;34m&\u001b[0m \u001b[0;34m(\u001b[0m\u001b[0;34m~\u001b[0m\u001b[0mis_unknown\u001b[0m\u001b[0;34m[\u001b[0m\u001b[0mi\u001b[0m\u001b[0;34m,\u001b[0m \u001b[0;34m:\u001b[0m\u001b[0;34m]\u001b[0m\u001b[0;34m)\u001b[0m\u001b[0;34m)\u001b[0m\u001b[0;34m\u001b[0m\u001b[0m\n\u001b[1;32m      8\u001b[0m     \u001b[0mFN\u001b[0m \u001b[0;34m=\u001b[0m \u001b[0mnp\u001b[0m\u001b[0;34m.\u001b[0m\u001b[0msum\u001b[0m\u001b[0;34m(\u001b[0m\u001b[0;34m(\u001b[0m\u001b[0mblame_data\u001b[0m\u001b[0;34m[\u001b[0m\u001b[0mi\u001b[0m\u001b[0;34m,\u001b[0m \u001b[0;34m:\u001b[0m\u001b[0;34m]\u001b[0m \u001b[0;34m==\u001b[0m \u001b[0;36m0\u001b[0m\u001b[0;34m)\u001b[0m \u001b[0;34m&\u001b[0m \u001b[0mis_possible_error\u001b[0m\u001b[0;34m[\u001b[0m\u001b[0mi\u001b[0m\u001b[0;34m,\u001b[0m \u001b[0;34m:\u001b[0m\u001b[0;34m]\u001b[0m\u001b[0;34m)\u001b[0m\u001b[0;34m\u001b[0m\u001b[0m\n",
      "\u001b[0;31mIndexError\u001b[0m: index 16 is out of bounds for axis 0 with size 16"
     ]
    }
   ],
   "source": [
    "# now precision recall for blame==1\n",
    "\n",
    "#print('\\t'.join(['sample_id', 'prec', 'recall']))\n",
    "blame_prec, blame_recall = [], []\n",
    "for i in range(m):\n",
    "    TP = np.sum((blame_data[i, :] > 0) & is_possible_error[i, :])\n",
    "    FP = np.sum((blame_data[i, :] > 0) & (~is_possible_error[i, :]) & (~is_unknown[i, :]))\n",
    "    FN = np.sum((blame_data[i, :] == 0) & is_possible_error[i, :])\n",
    "    #print('\\t'.join([sample_ids[i], \n",
    "    #                '%0.4f' % (TP/(TP+FP)),\n",
    "    #                '%0.4f' % (TP/(TP+FN))]))\n",
    "    blame_prec.append(TP/(TP+FP))\n",
    "    blame_recall.append(TP/(TP+FN))\n",
    "    "
   ]
  },
  {
   "cell_type": "code",
   "execution_count": 62,
   "metadata": {},
   "outputs": [
    {
     "data": {
      "image/png": "[encoded data removed]",
      "text/plain": [
       "<Figure size 432x288 with 1 Axes>"
      ]
     },
     "metadata": {},
     "output_type": "display_data"
    }
   ],
   "source": [
    "plt.scatter(trio_prec, trio_recall, label='trio')\n",
    "plt.scatter(fam_prec, fam_recall, label='family')\n",
    "plt.scatter(phase_prec, phase_recall, label='phase')\n",
    "\n",
    "plt.xlim([0, 1])\n",
    "plt.ylim([0, 1])\n",
    "plt.xlabel('Precision')\n",
    "plt.ylabel('Recall')\n",
    "plt.legend()\n",
    "\n",
    "plt.show()"
   ]
  },
  {
   "cell_type": "code",
   "execution_count": null,
   "metadata": {},
   "outputs": [],
   "source": []
  }
 ],
 "metadata": {
  "kernelspec": {
   "display_name": "Python 3",
   "language": "python",
   "name": "python3"
  },
  "language_info": {
   "codemirror_mode": {
    "name": "ipython",
    "version": 3
   },
   "file_extension": ".py",
   "mimetype": "text/x-python",
   "name": "python",
   "nbconvert_exporter": "python",
   "pygments_lexer": "ipython3",
   "version": "3.6.7"
  }
 },
 "nbformat": 4,
 "nbformat_minor": 2
}
