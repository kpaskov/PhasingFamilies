{
 "cells": [
  {
   "cell_type": "code",
   "execution_count": 206,
   "metadata": {
    "collapsed": true
   },
   "outputs": [],
   "source": [
    "from scipy import sparse\n",
    "from os import listdir\n",
    "import numpy as np\n",
    "\n",
    "chrom = '22'\n",
    "data_dir = '../split_gen'\n",
    "dp_dir = '../split_dp'"
   ]
  },
  {
   "cell_type": "code",
   "execution_count": 207,
   "metadata": {
    "collapsed": true
   },
   "outputs": [],
   "source": [
    "# use only \"cleaned\" variants - must be SNPs and missingness in parents can't be sex-biased\n",
    "snp_indices = []\n",
    "snp_positions = []\n",
    "clean_file = '%s/clean_indices_%s.txt' % (data_dir, chrom) \n",
    "with open(clean_file, 'r') as f:\n",
    "    for i, line in enumerate(f):\n",
    "        index, position = line.strip().split('\\t')\n",
    "        snp_indices.append(int(index))\n",
    "        snp_positions.append(int(position))\n",
    "snp_positions = np.array(snp_positions)\n",
    "pos_to_index = dict([(x, i) for i, x in enumerate(snp_positions)])"
   ]
  },
  {
   "cell_type": "code",
   "execution_count": 208,
   "metadata": {},
   "outputs": [
    {
     "name": "stdout",
     "output_type": "stream",
     "text": [
      "chrom shape only SNPs 4610 1003938\n"
     ]
    }
   ],
   "source": [
    "gen_files = sorted([f for f in listdir(data_dir) if ('chr.%s' % chrom) in f and 'gen.npz' in f])\n",
    "\n",
    "# pull genotype data from .npz\n",
    "whole_chrom = sparse.hstack([sparse.load_npz('%s/%s' % (data_dir, gen_file)) for gen_file in gen_files])\n",
    "whole_chrom = whole_chrom[:, snp_indices]\n",
    "m, n = whole_chrom.shape\n",
    "print('chrom shape only SNPs', m, n)"
   ]
  },
  {
   "cell_type": "code",
   "execution_count": 209,
   "metadata": {},
   "outputs": [
    {
     "name": "stdout",
     "output_type": "stream",
     "text": [
      "chrom shape 4610 1003938\n"
     ]
    }
   ],
   "source": [
    "dp_files = sorted([f for f in listdir(dp_dir) if ('chr.%s' % chrom) in f and 'dp.npz' in f])\n",
    "\n",
    "# pull dp data from .npz\n",
    "chrom_dp = sparse.hstack([sparse.load_npz('%s/%s' % (dp_dir, dp_file)) for dp_file in dp_files])\n",
    "chrom_dp = chrom_dp[:, snp_indices]\n",
    "m, n = chrom_dp.shape\n",
    "print('chrom shape', m, n)"
   ]
  },
  {
   "cell_type": "code",
   "execution_count": 210,
   "metadata": {
    "collapsed": true
   },
   "outputs": [],
   "source": [
    "missing_dp, counts = np.unique(chrom_dp[whole_chrom==-1].A, return_counts=True)"
   ]
  },
  {
   "cell_type": "code",
   "execution_count": 211,
   "metadata": {
    "collapsed": true
   },
   "outputs": [],
   "source": [
    "het_dp, het_counts = np.unique(chrom_dp[whole_chrom==1].A, return_counts=True)"
   ]
  },
  {
   "cell_type": "code",
   "execution_count": 212,
   "metadata": {
    "collapsed": true
   },
   "outputs": [],
   "source": [
    "homalt_dp, homalt_counts = np.unique(chrom_dp[whole_chrom==2].A, return_counts=True)"
   ]
  },
  {
   "cell_type": "code",
   "execution_count": 213,
   "metadata": {},
   "outputs": [
    {
     "name": "stdout",
     "output_type": "stream",
     "text": [
      "[ 0  1  2  3  4  5  6  7  8  9 10 11 12 13 14 15 16 17 18 19 20 21]\n",
      "Missing\n",
      "Percent with depth>20 0.13305418388179946\n",
      "Percent with depth<5 0.7975717477927713\n",
      "Percent with depth<2 0.7577438038213654\n",
      "Percent with depth=0 0.721454252657719\n",
      "Homalt\n",
      "Percent with depth>20 0.9000176434473776\n",
      "Percent with depth<5 0.015482651573651841\n",
      "Percent with depth<2 0.0009617040342755857\n",
      "Percent with depth=0 7.820367840860693e-06\n",
      "Het\n",
      "Percent with depth>20 0.9247988743598893\n",
      "Percent with depth<5 0.0023249965917560675\n",
      "Percent with depth<2 1.091096959174968e-05\n",
      "Percent with depth=0 1.0023358894468437e-06\n"
     ]
    },
    {
     "data": {
      "image/png": "[encoded data removed]",
      "text/plain": [
       "<matplotlib.figure.Figure at 0x114685080>"
      ]
     },
     "metadata": {},
     "output_type": "display_data"
    }
   ],
   "source": [
    "import matplotlib.pyplot as plt\n",
    "\n",
    "print(missing_dp)\n",
    "\n",
    "print('Missing')\n",
    "print('Percent with depth>20', counts[0]/sum(counts))\n",
    "print('Percent with depth<5', sum(counts[1:6])/sum(counts))\n",
    "print('Percent with depth<2', sum(counts[1:3])/sum(counts))\n",
    "print('Percent with depth=0', counts[1]/sum(counts))\n",
    "\n",
    "print('Homalt')\n",
    "print('Percent with depth>20', homalt_counts[0]/sum(homalt_counts))\n",
    "print('Percent with depth<5', sum(homalt_counts[1:6])/sum(homalt_counts))\n",
    "print('Percent with depth<2', sum(homalt_counts[1:3])/sum(homalt_counts))\n",
    "print('Percent with depth=0', homalt_counts[1]/sum(homalt_counts))\n",
    "\n",
    "print('Het')\n",
    "print('Percent with depth>20', het_counts[0]/sum(het_counts))\n",
    "print('Percent with depth<5', sum(het_counts[1:6])/sum(het_counts))\n",
    "print('Percent with depth<2', sum(het_counts[1:3])/sum(het_counts))\n",
    "print('Percent with depth=0', het_counts[1]/sum(het_counts))\n",
    "\n",
    "plt.plot(missing_dp[1:], np.log10(counts[1:]))\n",
    "plt.plot(het_dp[1:], np.log10(het_counts[1:]))\n",
    "plt.plot(homalt_dp[1:], np.log10(homalt_counts[1:]))\n",
    "plt.xlabel('Depth')\n",
    "plt.ylabel('log10(entries)')\n",
    "plt.show()"
   ]
  },
  {
   "cell_type": "code",
   "execution_count": 214,
   "metadata": {
    "collapsed": true
   },
   "outputs": [],
   "source": [
    "ped_file = '../data/160826.ped'\n",
    "sample_file = '%s/chr.%s.gen.samples.txt' % (data_dir, chrom)\n",
    "# pull families with sequence data\n",
    "with open(sample_file, 'r') as f:\n",
    "\tsample_ids = [line.strip() for line in f]\n",
    "sample_id_to_index = dict([(sample_id, i) for i, sample_id in enumerate(sample_ids)])\n",
    "\n",
    "# pull families from ped file\n",
    "families = dict()\n",
    "with open(ped_file, 'r') as f:\t\n",
    "    for line in f:\n",
    "        pieces = line.strip().split('\\t')\n",
    "        fam_id, child_id, f_id, m_id = pieces[0:4]\n",
    "\n",
    "        if child_id in sample_ids and f_id in sample_ids and m_id in sample_ids:\n",
    "        \tif (fam_id, m_id, f_id) not in families:\n",
    "        \t\tfamilies[(fam_id, m_id, f_id)] = [m_id, f_id]\n",
    "        \tfamilies[(fam_id, m_id, f_id)].append(child_id)"
   ]
  },
  {
   "cell_type": "code",
   "execution_count": 215,
   "metadata": {
    "collapsed": true
   },
   "outputs": [],
   "source": [
    "famkey = [k for k, v in families.items() if len(v) == 5][0]\n",
    "indices = [sample_id_to_index[s] for s in families[famkey]]"
   ]
  },
  {
   "cell_type": "code",
   "execution_count": 216,
   "metadata": {},
   "outputs": [],
   "source": [
    "family_genotypes = whole_chrom[indices, :].A\n",
    "rep_indices = np.where(np.any(family_genotypes[:, 1:]!=family_genotypes[:, :-1], axis=0))[0]\n",
    "pos_gens = family_genotypes[:, rep_indices]\n",
    "\n",
    "gens, gen_counts = np.unique(pos_gens, axis=1, return_counts=True)"
   ]
  },
  {
   "cell_type": "code",
   "execution_count": 217,
   "metadata": {},
   "outputs": [
    {
     "name": "stdout",
     "output_type": "stream",
     "text": [
      "(5, 518) 1024\n"
     ]
    }
   ],
   "source": [
    "print(gens.shape, pow(4, len(indices)))"
   ]
  },
  {
   "cell_type": "code",
   "execution_count": 218,
   "metadata": {},
   "outputs": [],
   "source": [
    "ordered_is = sorted(range(gens.shape[1]), key=lambda x: gen_counts[x], reverse=True)"
   ]
  },
  {
   "cell_type": "code",
   "execution_count": 219,
   "metadata": {},
   "outputs": [
    {
     "data": {
      "image/png": "[encoded data removed]",
      "text/plain": [
       "<matplotlib.figure.Figure at 0x114738400>"
      ]
     },
     "metadata": {},
     "output_type": "display_data"
    }
   ],
   "source": [
    "plt.plot(np.log10(gen_counts[ordered_is]))\n",
    "plt.show()"
   ]
  },
  {
   "cell_type": "code",
   "execution_count": 220,
   "metadata": {},
   "outputs": [
    {
     "name": "stdout",
     "output_type": "stream",
     "text": [
      "Mendelian 375\n",
      "Deletion 1030\n"
     ]
    }
   ],
   "source": [
    "from itertools import chain, product\n",
    "\n",
    "mendelian_parents_to_children = {\n",
    "    (0, 0): [0],\n",
    "    (0, 1): [0, 1],\n",
    "    (0, 2): [1],\n",
    "    (1, 0): [0, 1],\n",
    "    (1, 1): [0, 1, 2],\n",
    "    (1, 2): [1, 2],\n",
    "    (2, 0): [1],\n",
    "    (2, 1): [1, 2],\n",
    "    (2, 2): [2]\n",
    "}\n",
    "\n",
    "def generate_mendelian_genotypes(): \n",
    "    for par, possible_children in mendelian_parents_to_children.items():\n",
    "        for child_gens in product(*[possible_children]*5):\n",
    "            yield par + tuple(child_gens)\n",
    "        \n",
    "mg = set(generate_mendelian_genotypes())\n",
    "print('Mendelian', len(mg))\n",
    "\n",
    "deletion_parents_to_children = {\n",
    "    (0, 0, 0, 1): [0],\n",
    "    (0, 0, 1, 0): [0],\n",
    "    (0, 0, 1, 1): [-1, 0],\n",
    "    (0, 1, 1, 0): [0, 1, 2],\n",
    "    (0, 2, 0, 1): [0, 1],\n",
    "    (0, 2, 1, 0): [1, 2],\n",
    "    #(0, 2, 1, 1): [-1, 0, 1, 2],\n",
    "    (1, 0, 0, 1): [0, 1, 2],\n",
    "    (1, 2, 0, 1): [0, 1, 2],\n",
    "    (2, 0, 0, 1): [1, 2],\n",
    "    (2, 0, 1, 0): [0, 1],\n",
    "    #(2, 0, 1, 1): [-1, 0, 1, 2],\n",
    "    (2, 1, 1, 0): [0, 1, 2],\n",
    "    (2, 2, 0, 1): [2],\n",
    "    (2, 2, 1, 0): [2],\n",
    "    (2, 2, 1, 1): [-1, 2]\n",
    "}\n",
    "\n",
    "def generate_deletion_genotypes(): \n",
    "    for par, possible_children in deletion_parents_to_children.items():\n",
    "        for child_gens in product(*[possible_children]*5):\n",
    "            yield par[:2] + tuple(child_gens)\n",
    "        \n",
    "dg = set(generate_deletion_genotypes())-mg\n",
    "print('Deletion', len(dg))"
   ]
  },
  {
   "cell_type": "code",
   "execution_count": 197,
   "metadata": {
    "collapsed": true
   },
   "outputs": [],
   "source": [
    "gen_to_count = dict(zip(map(tuple, gens.T), gen_counts))"
   ]
  },
  {
   "cell_type": "code",
   "execution_count": 198,
   "metadata": {},
   "outputs": [
    {
     "name": "stdout",
     "output_type": "stream",
     "text": [
      "0.4643738465780933\n"
     ]
    }
   ],
   "source": [
    "print(gen_to_count[(0,)*7]/sum(gen_counts))"
   ]
  },
  {
   "cell_type": "code",
   "execution_count": 205,
   "metadata": {},
   "outputs": [
    {
     "name": "stdout",
     "output_type": "stream",
     "text": [
      "375 0.9079807957462154\n",
      "502 0.9645895055399606\n",
      "507 0.9770835837569912\n"
     ]
    }
   ],
   "source": [
    "included_gens = mg\n",
    "print(len(included_gens), sum([gen_to_count[g] for g in included_gens if g in gen_to_count])/np.sum(gen_counts))\n",
    "\n",
    "#included_gens = dg | included_gens\n",
    "#print(len(included_gens), sum([gen_to_count[g] for g in included_gens if g in gen_to_count])/np.sum(gen_counts))\n",
    "\n",
    "included_gens = set(map(tuple, homref_missing)) | included_gens\n",
    "print(len(included_gens), sum([gen_to_count[g] for g in included_gens if g in gen_to_count])/np.sum(gen_counts))\n",
    "\n",
    "included_gens = set(map(tuple, np.eye(7, dtype=np.int8))) | included_gens\n",
    "print(len(included_gens), sum([gen_to_count[g] for g in included_gens if g in gen_to_count])/np.sum(gen_counts))\n"
   ]
  },
  {
   "cell_type": "code",
   "execution_count": 178,
   "metadata": {},
   "outputs": [
    {
     "name": "stdout",
     "output_type": "stream",
     "text": [
      "[((0, 0, 1, 0, 1, 0, 0), 119), ((0, 0, 0, 0, 0, 1, 1), 106), ((0, 0, 0, 1, 1, 0, 0), 105), ((0, 0, 1, 0, 0, 0, 1), 57), ((0, 0, 1, 0, 0, 1, 1), 57), ((0, 0, 1, 1, 1, 0, 0), 50), ((0, 0, 1, 0, 0, 1, 0), 49), ((0, 0, 1, 1, 0, 0, 0), 45), ((2, 0, 0, 0, 0, 1, 1), 44), ((0, 0, 0, 1, 0, 1, 1), 43), ((2, 0, 1, 1, 1, 0, 0), 43), ((0, 0, 0, 1, 0, 1, 0), 39), ((0, 0, 0, 0, 1, 1, 0), 32), ((0, 0, 0, 0, 1, 1, 1), 32), ((0, 0, 0, 1, 1, 1, 0), 27), ((0, 0, 0, 1, 0, 0, 1), 24), ((0, 0, 1, 1, 1, 1, 1), 20), ((0, 0, 0, 0, 1, 0, 1), 19), ((0, 0, 1, 0, 1, 0, 1), 17), ((0, 0, 1, 1, 0, 1, 0), 17), ((2, 0, 1, 0, 1, 1, 1), 16), ((2, 2, 2, -1, 2, 2, 2), 16), ((0, 0, 0, 1, 1, 1, 1), 15), ((0, 0, 1, 0, 1, 1, 1), 15), ((2, 0, 0, 0, 0, 0, 0), 15), ((0, 0, 1, 0, 1, 1, 0), 14), ((2, 1, 0, 2, 1, 2, 2), 14), ((0, 0, 1, 1, 0, 0, 1), 13), ((0, 1, 0, -1, 0, 0, 0), 13), ((0, 1, 2, 0, 1, 0, 0), 13), ((-1, -1, -1, -1, 1, -1, -1), 12), ((-1, 2, -1, -1, -1, -1, -1), 12), ((0, 0, 0, 0, 0, -1, 2), 12), ((0, 0, 0, 2, 0, 0, 0), 12), ((0, 0, 1, 1, 0, 1, 1), 12), ((0, 0, 1, 1, 1, 0, 1), 12), ((0, 0, 1, 1, 1, 1, 0), 12), ((0, 0, 0, 1, 1, 0, 1), 11), ((2, 0, 0, 1, 1, 1, 1), 11), ((0, -1, 0, 0, 0, 1, 0), 10), ((0, 0, 0, -1, 0, 0, 1), 10), ((0, 2, 0, 0, 0, 0, 0), 10), ((1, 0, 2, 0, 0, 1, 1), 10), ((2, 0, 1, 0, 0, 1, 1), 10), ((2, 2, 2, 2, -1, 2, 2), 10), ((-1, -1, -1, -1, -1, -1, 2), 9), ((-1, 2, 2, 2, 2, 2, 2), 9), ((0, 1, 0, 0, 2, 0, 0), 9), ((0, 1, 0, 2, 0, 1, 1), 9), ((1, -1, 1, 1, 1, 1, 1), 9), ((1, 1, 1, 1, 1, -1, 1), 9), ((2, 2, 2, 1, 2, 2, 2), 9), ((-1, -1, -1, -1, -1, 2, -1), 8), ((-1, -1, 1, -1, 1, -1, -1), 8), ((-1, 1, 0, 0, 0, 0, 0), 8), ((0, -1, 1, 0, 0, 0, 0), 8), ((0, 0, 0, 0, -1, 1, 0), 8), ((0, 2, 1, 0, 1, 0, 0), 8), ((1, 0, 1, -1, 0, 0, 0), 8), ((2, 1, 2, 0, 2, 1, 1), 8), ((2, 2, -1, 2, 2, 2, 2), 8), ((2, 2, 1, 2, 2, 2, 2), 8), ((-1, -1, -1, -1, -1, -1, 1), 7), ((-1, 0, 0, 0, 0, 1, 0), 7), ((-1, 0, 0, 0, 1, 0, 0), 7), ((-1, 1, 2, 2, 2, 1, 1), 7), ((0, -1, 0, 0, 1, 0, 0), 7), ((0, 0, -1, 0, 0, 1, 0), 7), ((0, 0, 0, 0, 0, -1, 1), 7), ((0, 0, 0, 0, 2, 0, 0), 7), ((0, 1, -1, 0, 0, 0, 0), 7), ((0, 1, 0, -1, 0, 1, 1), 7), ((0, 1, 0, 0, 0, -1, 2), 7), ((0, 2, 1, -1, 1, 1, 1), 7), ((1, -1, 0, 0, 0, 0, 0), 7), ((1, 0, 0, -1, 0, 0, 0), 7), ((2, 0, 0, 1, 1, 0, 0), 7), ((2, 1, 2, 1, 2, 0, 1), 7), ((2, 2, 2, 2, 2, -1, 2), 7), ((2, 2, 2, 2, 2, 1, 1), 7), ((-1, -1, 1, -1, -1, -1, -1), 6), ((-1, -1, 2, -1, -1, -1, -1), 6), ((-1, 2, 2, -1, 2, -1, -1), 6), ((0, 0, 0, 0, 0, 2, -1), 6), ((0, 1, 0, 0, 0, -1, 0), 6), ((0, 2, 1, -1, 2, 0, 0), 6), ((1, 0, 1, 0, 0, 2, 2), 6), ((1, 1, 1, 1, 1, 1, -1), 6), ((2, -1, -1, -1, 2, 2, 2), 6), ((2, 0, 0, 0, 0, 0, 1), 6), ((2, 2, 2, -1, 2, -1, 2), 6), ((2, 2, 2, 2, 1, 2, 2), 6), ((2, 2, 2, 2, 2, 1, 2), 6), ((2, 2, 2, 2, 2, 2, -1), 6), ((-1, 0, 0, 0, 0, 0, 1), 5), ((0, -1, 1, 0, 1, 0, 0), 5), ((0, 0, -1, 0, 1, 0, 0), 5), ((0, 0, 0, 1, 0, -1, -1), 5), ((0, 0, 1, 0, -1, 0, 0), 5), ((0, 1, 0, 0, -1, 0, 0), 5), ((0, 1, 0, 1, 0, 2, 2), 5), ((0, 1, 1, 2, 0, 1, 1), 5), ((0, 2, 0, 1, 0, 1, 1), 5), ((0, 2, 1, 0, 1, 1, 1), 5), ((1, 0, 0, 0, -1, 1, 1), 5), ((1, 0, 1, 1, 0, 2, 2), 5), ((2, -1, 2, 2, 2, 2, 2), 5), ((2, 0, 0, 0, 1, 1, 1), 5), ((2, 0, 2, 1, 2, 1, 1), 5), ((2, 2, 1, 2, 1, 2, 2), 5), ((2, 2, 2, -1, -1, 2, 2), 5), ((2, 2, 2, 2, 2, -1, -1), 5), ((-1, -1, -1, -1, 2, -1, 0), 4), ((-1, 1, 0, 0, 0, 1, 1), 4), ((-1, 1, 1, 1, 1, 1, -1), 4), ((0, 0, -1, 0, 0, 0, 1), 4), ((0, 0, 0, -1, -1, 0, 1), 4), ((0, 0, 0, -1, 1, 0, 0), 4), ((0, 0, 0, 1, 0, 0, -1), 4), ((0, 0, 1, -1, 0, 0, 0), 4), ((0, 0, 1, 0, 0, -1, -1), 4), ((0, 1, 0, -1, 0, 1, 0), 4), ((0, 1, 1, 0, 2, 0, 0), 4), ((0, 1, 1, 1, 0, 2, 1), 4), ((0, 1, 1, 1, 1, 2, 1), 4), ((0, 1, 2, 0, 1, 1, 1), 4), ((0, 2, 0, 0, 1, 0, 0), 4), ((0, 2, 0, 0, 2, 0, 0), 4), ((0, 2, 1, 1, 1, 0, 1), 4), ((0, 2, 2, 0, 1, -1, -1), 4), ((1, 0, 0, -1, 1, 0, 0), 4), ((1, 0, 0, 0, 0, -1, 0), 4), ((1, 0, 0, 0, 0, 2, 2), 4), ((1, 0, 0, 2, 0, 0, 0), 4), ((1, 0, 1, 1, 1, 1, -1), 4), ((1, 1, -1, 1, 1, 1, 1), 4), ((1, 2, 0, 1, 1, 2, 2), 4), ((1, 2, 2, 0, 1, 2, 2), 4), ((1, 2, 2, 2, 0, 1, 1), 4), ((2, -1, 2, -1, -1, 2, 2), 4), ((2, -1, 2, 2, 2, -1, 2), 4), ((2, 0, 0, 0, 1, 0, 0), 4), ((2, 0, 0, 2, 1, -1, -1), 4), ((2, 0, 1, 0, 1, 0, 0), 4), ((2, 0, 1, 1, 0, 0, 0), 4), ((2, 0, 1, 1, 0, 1, 1), 4), ((2, 0, 1, 2, 1, 1, 1), 4), ((2, 0, 2, 0, 2, 1, 1), 4), ((2, 0, 2, 2, 1, 2, 2), 4), ((2, 1, 1, 1, 2, 0, 0), 4), ((2, 1, 1, 2, 0, 2, 2), 4), ((2, 1, 2, 1, 2, 0, 0), 4), ((2, 2, -1, -1, 2, 2, 2), 4), ((2, 2, 2, -1, 2, 2, -1), 4), ((-1, -1, -1, -1, 2, -1, -1), 3), ((-1, -1, -1, -1, 2, -1, 2), 3), ((-1, -1, 2, -1, -1, 2, 2), 3), ((-1, -1, 2, -1, 2, -1, -1), 3), ((-1, 0, 0, 0, 0, -1, 1), 3), ((-1, 0, 0, 1, 0, 0, 0), 3), ((-1, 0, 1, 1, 0, 0, 0), 3), ((-1, 0, 1, 1, 1, 1, 1), 3), ((-1, 0, 2, -1, -1, -1, -1), 3), ((-1, 1, -1, -1, 1, -1, 1), 3), ((-1, 1, 0, -1, -1, -1, -1), 3), ((-1, 1, 1, 1, 1, 1, 1), 3), ((-1, 2, -1, -1, -1, 2, 0), 3), ((-1, 2, -1, 2, 2, 2, 2), 3), ((-1, 2, 2, -1, -1, -1, -1), 3), ((-1, 2, 2, -1, -1, 2, -1), 3), ((-1, 2, 2, -1, -1, 2, 2), 3), ((0, -1, 0, 1, 0, 0, 0), 3), ((0, 0, -1, 1, 0, 0, 0), 3), ((0, 0, 0, 0, 0, 0, 2), 3), ((0, 0, 0, 0, 0, 2, 2), 3), ((0, 0, 0, 0, 1, -1, -1), 3), ((0, 0, 0, 1, 0, -1, 0), 3), ((0, 0, 0, 2, 1, 0, 0), 3), ((0, 0, 1, 0, 0, -1, 1), 3), ((0, 0, 1, 0, 0, -1, 2), 3), ((0, 0, 1, 0, 0, 2, 2), 3), ((0, 1, -1, 1, 0, 1, 1), 3), ((0, 1, 0, 0, 0, 2, -1), 3), ((0, 1, 0, 0, 1, -1, 0), 3), ((0, 1, 1, -1, 0, 0, 0), 3), ((0, 1, 1, -1, 0, 1, 1), 3), ((0, 1, 1, -1, 1, 0, 0), 3), ((0, 1, 1, 0, 0, -1, 1), 3), ((0, 1, 1, 0, 1, 0, -1), 3), ((0, 1, 1, 1, 1, -1, 1), 3), ((0, 2, 0, 1, 0, 2, 2), 3), ((0, 2, 2, 0, 0, -1, -1), 3), ((1, -1, -1, -1, 0, -1, 1), 3), ((1, -1, 1, 0, 0, 1, 1), 3), ((1, -1, 2, 0, 0, 2, 2), 3), ((1, 0, -1, 0, 0, 1, 1), 3), ((1, 0, -1, 1, 1, 0, 0), 3), ((1, 0, 0, 0, 0, 0, -1), 3), ((1, 0, 0, 0, 1, 1, -1), 3), ((1, 0, 0, 0, 2, 1, 1), 3), ((1, 0, 0, 1, 1, -1, -1), 3), ((1, 0, 0, 1, 2, 0, 0), 3), ((1, 0, 0, 2, 1, 0, 0), 3), ((1, 0, 1, 1, 1, 2, 2), 3), ((1, 0, 1, 1, 2, 0, 0), 3), ((1, 0, 1, 2, 0, 0, 0), 3), ((1, 0, 2, 0, 1, 1, 1), 3), ((1, 0, 2, 2, 0, 1, 1), 3), ((1, 1, 1, -1, 1, 1, 1), 3), ((1, 2, 0, 2, 2, 1, 1), 3), ((1, 2, 1, 0, 0, 2, 2), 3), ((1, 2, 1, 0, 2, 2, 2), 3), ((1, 2, 1, 2, 2, 0, 0), 3), ((1, 2, 1, 2, 2, 1, 0), 3), ((1, 2, 2, 0, 0, 2, 2), 3), ((1, 2, 2, 1, 0, 2, 2), 3), ((2, -1, -1, 2, 2, -1, -1), 3), ((2, -1, -1, 2, 2, 2, -1), 3), ((2, -1, 2, 2, 1, 2, 2), 3), ((2, 0, -1, 0, -1, 0, 0), 3), ((2, 0, 0, 2, 0, 2, 2), 3), ((2, 0, 1, 0, 1, 0, 1), 3), ((2, 1, 0, 2, 0, -1, 2), 3), ((2, 1, 1, 1, 1, 0, 1), 3), ((2, 1, 2, 2, 0, 2, 2), 3), ((2, 2, -1, -1, 2, -1, -1), 3), ((2, 2, 1, 2, 2, 2, 1), 3), ((2, 2, 2, -1, -1, -1, -1), 3), ((2, 2, 2, 2, 2, 2, 1), 3), ((-1, -1, -1, 2, -1, 2, 2), 2), ((-1, -1, 0, -1, -1, -1, 2), 2), ((-1, -1, 2, -1, 2, 0, -1), 2), ((-1, 0, -1, -1, 0, -1, 1), 2), ((-1, 0, -1, 0, -1, -1, 1), 2), ((-1, 0, -1, 0, -1, 0, 1), 2), ((-1, 0, -1, 0, 0, 0, 1), 2), ((-1, 0, -1, 2, 0, -1, 0), 2), ((-1, 0, 0, -1, 0, 2, -1), 2), ((-1, 0, 0, 0, -1, 0, 1), 2), ((-1, 0, 0, 0, 0, 1, 1), 2), ((-1, 0, 0, 0, 1, 1, 1), 2), ((-1, 0, 0, 1, 1, 0, 0), 2), ((-1, 0, 0, 2, 0, -1, -1), 2), ((-1, 0, 1, -1, 1, -1, -1), 2), ((-1, 0, 1, 0, -1, 0, 0), 2), ((-1, 0, 1, 0, 0, -1, 0), 2), ((-1, 0, 1, 0, 0, 0, 0), 2), ((-1, 0, 1, 0, 0, 1, 1), 2), ((-1, 0, 1, 0, 0, 2, 2), 2), ((-1, 0, 1, 0, 1, 0, 0), 2), ((-1, 1, -1, -1, -1, -1, -1), 2), ((-1, 1, -1, 0, 0, 0, 0), 2), ((-1, 1, 0, -1, 0, -1, -1), 2), ((-1, 1, 0, -1, 0, 0, 0), 2), ((-1, 1, 0, 0, -1, 0, 0), 2), ((-1, 1, 0, 1, 0, 1, 1), 2), ((-1, 1, 0, 2, 1, 2, 2), 2), ((-1, 1, 1, -1, 1, -1, -1), 2), ((-1, 1, 1, 1, -1, 1, 1), 2), ((-1, 1, 1, 1, 1, -1, 1), 2), ((-1, 1, 1, 1, 1, 0, 0), 2), ((-1, 2, -1, -1, -1, -1, 0), 2), ((-1, 2, -1, -1, -1, -1, 2), 2), ((-1, 2, -1, -1, 2, -1, -1), 2), ((-1, 2, -1, -1, 2, -1, 2), 2), ((-1, 2, -1, -1, 2, 2, 2), 2), ((-1, 2, -1, 2, -1, 2, 2), 2), ((-1, 2, -1, 2, 2, -1, 2), 2), ((-1, 2, 1, 1, 1, 1, 1), 2), ((-1, 2, 2, -1, -1, -1, 2), 2), ((-1, 2, 2, -1, 0, -1, -1), 2), ((-1, 2, 2, -1, 2, 2, -1), 2), ((-1, 2, 2, -1, 2, 2, 2), 2), ((0, -1, -1, 0, 1, 0, 0), 2), ((0, -1, 0, -1, -1, 1, 1), 2), ((0, -1, 0, 0, 0, -1, 1), 2), ((0, -1, 0, 0, 0, 0, 1), 2), ((0, -1, 1, 0, 0, -1, 0), 2), ((0, -1, 1, 0, 0, 0, 1), 2), ((0, -1, 1, 0, 0, 1, -1), 2), ((0, 0, -1, 0, 0, 1, 1), 2), ((0, 0, 0, -1, 1, 0, 1), 2), ((0, 0, 0, 0, 1, -1, 1), 2), ((0, 0, 0, 1, 0, 1, -1), 2), ((0, 0, 0, 1, 0, 2, -1), 2), ((0, 0, 0, 1, 1, 2, 2), 2), ((0, 0, 0, 2, 0, 0, 1), 2), ((0, 0, 0, 2, 1, 1, 0), 2), ((0, 0, 0, 2, 1, 1, 1), 2), ((0, 0, 1, 0, 0, 0, -1), 2), ((0, 0, 1, 0, 1, 0, -1), 2), ((0, 0, 1, 0, 2, 0, 0), 2), ((0, 0, 1, 2, 0, 0, 0), 2), ((0, 0, 2, 0, 0, 0, 0), 2), ((0, 0, 2, 0, 0, 1, 1), 2), ((0, 0, 2, 1, 0, 0, 0), 2), ((0, 1, -1, -1, 0, -1, 0), 2), ((0, 1, -1, 0, -1, 0, 0), 2), ((0, 1, -1, 0, 1, 1, 1), 2), ((0, 1, 0, -1, -1, 0, 0), 2), ((0, 1, 0, -1, 0, 0, 1), 2), ((0, 1, 0, 0, 0, -1, 1), 2), ((0, 1, 0, 0, 0, 2, 1), 2), ((0, 1, 0, 0, 0, 2, 2), 2), ((0, 1, 0, 1, -1, 0, 0), 2), ((0, 1, 0, 1, 0, 1, -1), 2), ((0, 1, 0, 1, 0, 2, 1), 2), ((0, 1, 0, 2, 0, 1, 0), 2), ((0, 1, 0, 2, 1, 1, 0), 2), ((0, 1, 0, 2, 1, 1, 1), 2), ((0, 1, 1, -1, 0, 0, 1), 2), ((0, 1, 1, -1, 1, 0, 1), 2), ((0, 1, 1, 0, -1, 0, 0), 2), ((0, 1, 1, 0, 0, -1, -1), 2), ((0, 1, 1, 0, 0, -1, 2), 2), ((0, 1, 1, 0, 1, -1, 0), 2), ((0, 1, 1, 0, 1, 2, 2), 2), ((0, 1, 1, 1, -1, 1, 1), 2), ((0, 1, 1, 1, 0, 2, 2), 2), ((0, 1, 1, 1, 1, 1, 2), 2), ((0, 1, 1, 1, 2, 0, 0), 2), ((0, 1, 1, 2, 1, 2, 1), 2), ((0, 1, 2, 0, 0, 0, 1), 2), ((0, 1, 2, 0, 0, 1, 1), 2), ((0, 1, 2, 1, 1, 1, 1), 2), ((0, 2, -1, 0, 0, -1, -1), 2), ((0, 2, 0, -1, -1, 0, 1), 2), ((0, 2, 0, 0, 0, 1, 1), 2), ((0, 2, 0, 1, -1, 2, -1), 2), ((0, 2, 0, 1, 1, 1, 1), 2), ((0, 2, 0, 2, -1, 1, 1), 2), ((0, 2, 1, 0, 2, 0, 0), 2), ((0, 2, 1, 1, 0, 1, 1), 2), ((0, 2, 1, 1, 0, 2, 2), 2), ((0, 2, 2, 0, 0, 2, 2), 2), ((0, 2, 2, 1, 1, 1, 1), 2), ((0, 2, 2, 1, 1, 2, 2), 2), ((1, -1, -1, 1, 1, 2, 2), 2), ((1, -1, 0, 0, 0, 0, -1), 2), ((1, -1, 0, 0, 0, 0, 1), 2), ((1, -1, 0, 1, 0, 0, 0), 2), ((1, -1, 0, 2, 1, 1, 1), 2), ((1, -1, 1, 1, -1, -1, 1), 2), ((1, -1, 1, 1, 1, 0, 0), 2), ((1, -1, 2, 2, 0, 0, 0), 2), ((1, 0, -1, 0, 0, 0, 0), 2), ((1, 0, -1, 0, 0, 0, 1), 2), ((1, 0, -1, 1, 0, 0, 0), 2), ((1, 0, 0, -1, 0, 2, 2), 2), ((1, 0, 0, -1, 1, 1, 0), 2), ((1, 0, 0, 0, -1, -1, 0), 2), ((1, 0, 0, 0, -1, 0, 1), 2), ((1, 0, 0, 0, 0, -1, -1), 2), ((1, 0, 0, 0, 0, -1, 1), 2), ((1, 0, 0, 0, 0, -1, 2), 2), ((1, 0, 0, 0, 0, 1, -1), 2), ((1, 0, 0, 0, 0, 2, 0), 2), ((1, 0, 0, 0, 0, 2, 1), 2), ((1, 0, 0, 0, 1, -1, 2), 2), ((1, 0, 0, 0, 1, 2, 1), 2), ((1, 0, 0, 0, 2, 0, 1), 2), ((1, 0, 0, 1, 0, 2, 2), 2), ((1, 0, 0, 2, 1, 0, 1), 2), ((1, 0, 1, -1, 0, 1, 1), 2), ((1, 0, 1, -1, 1, 1, 1), 2), ((1, 0, 1, 0, -1, 1, 1), 2), ((1, 0, 1, 0, 0, -1, 2), 2), ((1, 0, 1, 0, 0, 0, 2), 2), ((1, 0, 1, 0, 2, 0, 0), 2), ((1, 0, 1, 0, 2, 1, 1), 2), ((1, 0, 1, 1, -1, 0, -1), 2), ((1, 0, 1, 1, -1, 0, 0), 2), ((1, 0, 1, 2, 1, 1, 1), 2), ((1, 0, 2, 1, 0, 0, 0), 2), ((1, 0, 2, 1, 1, 0, 0), 2), ((1, 0, 2, 1, 2, 0, 0), 2), ((1, 1, 0, -1, 1, 1, 1), 2), ((1, 1, 1, -1, 2, 1, 1), 2), ((1, 1, 1, 0, 0, 2, -1), 2), ((1, 1, 1, 1, -1, 1, 1), 2), ((1, 1, 1, 1, 1, 0, -1), 2), ((1, 2, -1, 1, 1, 2, 2), 2), ((1, 2, -1, 1, 2, 2, 2), 2), ((1, 2, -1, 2, 0, 1, 1), 2), ((1, 2, -1, 2, 1, 1, 1), 2), ((1, 2, -1, 2, 2, 1, 1), 2), ((1, 2, 0, 0, 0, 0, 0), 2), ((1, 2, 0, 1, 0, 2, 2), 2), ((1, 2, 0, 1, 1, 1, 1), 2), ((1, 2, 0, 1, 2, 2, 2), 2), ((1, 2, 1, -1, 2, 2, 2), 2), ((1, 2, 1, 1, 0, 2, 2), 2), ((1, 2, 1, 1, 1, 0, 0), 2), ((1, 2, 1, 2, 2, 0, 1), 2), ((1, 2, 2, 1, -1, 2, 2), 2), ((1, 2, 2, 2, 1, 1, 0), 2), ((2, -1, -1, -1, 0, -1, 1), 2), ((2, -1, -1, -1, 2, -1, 2), 2), ((2, -1, -1, 2, -1, 2, 2), 2), ((2, -1, 2, 2, 2, 2, -1), 2), ((2, 0, -1, -1, 0, -1, 0), 2), ((2, 0, 0, -1, 2, 0, 0), 2), ((2, 0, 0, 0, 1, 0, 1), 2), ((2, 0, 1, -1, 0, 1, 2), 2), ((2, 0, 1, -1, 1, 1, -1), 2), ((2, 0, 1, -1, 1, 1, 1), 2), ((2, 0, 1, 0, 0, -1, 0), 2), ((2, 0, 1, 0, 0, 0, 0), 2), ((2, 0, 1, 0, 0, 0, 1), 2), ((2, 0, 1, 0, 2, 1, 1), 2), ((2, 0, 1, 1, 0, 0, 1), 2), ((2, 0, 1, 1, 1, 1, 0), 2), ((2, 0, 1, 1, 2, 1, 1), 2), ((2, 0, 1, 2, 1, 2, 1), 2), ((2, 1, -1, 1, 2, 1, 1), 2), ((2, 1, -1, 2, 1, 2, 2), 2), ((2, 1, 1, 0, 1, 1, 1), 2), ((2, 1, 1, 1, -1, 1, 1), 2), ((2, 1, 1, 1, 2, 0, 1), 2), ((2, 1, 2, -1, 2, 1, 1), 2), ((2, 2, -1, 2, -1, -1, 2), 2), ((2, 2, -1, 2, 2, -1, 2), 2), ((2, 2, 1, 1, 1, 2, 2), 2), ((2, 2, 2, -1, 2, 2, 1), 2), ((2, 2, 2, 0, -1, -1, -1), 2), ((2, 2, 2, 2, -1, -1, 2), 2), ((-1, -1, -1, -1, -1, 0, 1), 1), ((-1, -1, -1, -1, -1, 2, 0), 1), ((-1, -1, -1, -1, -1, 2, 2), 1), ((-1, -1, -1, -1, 0, 2, 0), 1), ((-1, -1, -1, -1, 2, -1, 1), 1), ((-1, -1, -1, -1, 2, 2, -1), 1), ((-1, -1, -1, 0, -1, 2, -1), 1), ((-1, -1, -1, 0, 0, 0, 1), 1), ((-1, -1, -1, 0, 1, -1, -1), 1), ((-1, -1, -1, 0, 1, -1, 0), 1), ((-1, -1, -1, 0, 1, 0, -1), 1), ((-1, -1, -1, 0, 1, 1, -1), 1), ((-1, -1, -1, 1, -1, -1, 2), 1), ((-1, -1, -1, 1, -1, 0, 1), 1), ((-1, -1, -1, 1, 1, -1, -1), 1), ((-1, -1, -1, 1, 1, 1, 0), 1), ((-1, -1, -1, 2, -1, -1, -1), 1), ((-1, -1, -1, 2, -1, -1, 2), 1), ((-1, -1, -1, 2, 2, -1, 1), 1), ((-1, -1, 0, -1, 0, -1, 1), 1), ((-1, -1, 0, 0, 0, -1, 1), 1), ((-1, -1, 0, 0, 0, 0, 1), 1), ((-1, -1, 0, 0, 0, 1, 2), 1), ((-1, -1, 0, 0, 1, -1, 0), 1), ((-1, -1, 0, 0, 2, 0, -1), 1), ((-1, -1, 0, 0, 2, 0, 0), 1), ((-1, -1, 0, 1, -1, 1, 1), 1), ((-1, -1, 0, 2, 1, 1, 1), 1), ((-1, -1, 1, -1, -1, -1, 0), 1), ((-1, -1, 1, -1, -1, 1, 1), 1), ((-1, -1, 1, -1, -1, 2, 2), 1), ((-1, -1, 1, -1, 1, 0, -1), 1), ((-1, -1, 2, -1, -1, 2, -1), 1), ((-1, -1, 2, -1, 1, -1, -1), 1), ((-1, -1, 2, -1, 2, -1, 2), 1), ((-1, -1, 2, -1, 2, 2, 2), 1), ((-1, -1, 2, 0, 0, 0, 0), 1), ((-1, -1, 2, 0, 2, -1, -1), 1), ((-1, -1, 2, 1, -1, -1, 2), 1), ((-1, -1, 2, 2, -1, 2, -1), 1), ((-1, -1, 2, 2, 0, 0, 2), 1), ((-1, -1, 2, 2, 1, -1, 2), 1), ((-1, -1, 2, 2, 2, -1, -1), 1), ((-1, 0, -1, -1, -1, -1, 1), 1), ((-1, 0, -1, -1, -1, 1, 0), 1), ((-1, 0, -1, -1, 0, 1, 2), 1), ((-1, 0, -1, -1, 0, 2, 2), 1), ((-1, 0, -1, -1, 1, 0, 0), 1), ((-1, 0, -1, -1, 2, 0, -1), 1), ((-1, 0, -1, 0, -1, 1, 0), 1), ((-1, 0, -1, 0, -1, 1, 1), 1), ((-1, 0, -1, 0, 1, -1, -1), 1), ((-1, 0, -1, 0, 1, 0, -1), 1), ((-1, 0, -1, 0, 1, 0, 0), 1), ((-1, 0, -1, 1, 1, 0, 1), 1), ((-1, 0, -1, 1, 2, 1, 1), 1), ((-1, 0, -1, 2, -1, -1, -1), 1), ((-1, 0, -1, 2, -1, -1, 0), 1), ((-1, 0, 0, -1, -1, -1, 2), 1), ((-1, 0, 0, -1, -1, 1, 1), 1), ((-1, 0, 0, -1, 0, -1, 2), 1), ((-1, 0, 0, -1, 0, 1, 1), 1), ((-1, 0, 0, -1, 1, -1, 1), 1), ((-1, 0, 0, -1, 1, -1, 2), 1), ((-1, 0, 0, -1, 1, 0, 0), 1), ((-1, 0, 0, 0, -1, 1, 1), 1), ((-1, 0, 0, 0, 0, -1, 2), 1), ((-1, 0, 0, 0, 1, 0, 1), 1), ((-1, 0, 0, 0, 2, -1, 0), 1), ((-1, 0, 0, 0, 2, 0, 0), 1), ((-1, 0, 0, 1, -1, 0, 0), 1), ((-1, 0, 0, 1, 0, -1, -1), 1), ((-1, 0, 0, 1, 0, 1, 1), 1), ((-1, 0, 0, 2, 0, 1, -1), 1), ((-1, 0, 0, 2, 1, -1, -1), 1), ((-1, 0, 1, -1, -1, 0, 0), 1), ((-1, 0, 1, 0, -1, 0, -1), 1), ((-1, 0, 1, 0, 0, 0, 1), 1), ((-1, 0, 1, 0, 1, 2, 2), 1), ((-1, 0, 1, 1, 0, 1, 1), 1), ((-1, 0, 1, 1, 1, -1, 1), 1), ((-1, 0, 1, 2, 1, 2, 2), 1), ((-1, 0, 2, -1, -1, -1, 0), 1), ((-1, 0, 2, -1, -1, 0, 0), 1), ((-1, 0, 2, -1, 0, 0, 0), 1), ((-1, 0, 2, 0, -1, 0, 0), 1), ((-1, 0, 2, 0, -1, 1, 0), 1), ((-1, 0, 2, 0, 0, -1, 0), 1), ((-1, 0, 2, 0, 1, 0, 0), 1), ((-1, 0, 2, 0, 2, 0, 0), 1), ((-1, 0, 2, 2, -1, -1, -1), 1), ((-1, 0, 2, 2, 0, -1, 0), 1), ((-1, 1, -1, -1, 0, -1, -1), 1), ((-1, 1, -1, -1, 0, -1, 0), 1), ((-1, 1, -1, -1, 0, 1, 1), 1), ((-1, 1, -1, -1, 2, -1, 2), 1), ((-1, 1, -1, 0, 0, 2, 1), 1), ((-1, 1, -1, 1, -1, 1, 1), 1), ((-1, 1, -1, 1, 0, 2, 2), 1), ((-1, 1, -1, 2, 2, -1, 2), 1), ((-1, 1, -1, 2, 2, 1, 1), 1), ((-1, 1, -1, 2, 2, 2, 2), 1), ((-1, 1, 0, -1, 0, -1, 0), 1), ((-1, 1, 0, -1, 0, 0, 1), 1), ((-1, 1, 0, -1, 0, 2, -1), 1), ((-1, 1, 0, -1, 1, 2, -1), 1), ((-1, 1, 0, 0, -1, -1, 0), 1), ((-1, 1, 0, 0, 0, -1, -1), 1), ((-1, 1, 0, 0, 0, 0, 1), 1), ((-1, 1, 0, 0, 1, 0, 0), 1), ((-1, 1, 0, 0, 1, 1, 1), 1), ((-1, 1, 0, 0, 2, 0, 0), 1), ((-1, 1, 0, 1, -1, -1, 2), 1), ((-1, 1, 0, 1, 0, 0, 0), 1), ((-1, 1, 0, 1, 0, 0, 2), 1), ((-1, 1, 0, 1, 1, -1, 2), 1), ((-1, 1, 0, 1, 1, 0, 0), 1), ((-1, 1, 0, 1, 1, 2, 2), 1), ((-1, 1, 0, 2, 0, -1, -1), 1), ((-1, 1, 1, -1, -1, 0, 1), 1), ((-1, 1, 1, -1, 0, -1, 1), 1), ((-1, 1, 1, -1, 1, 0, 0), 1), ((-1, 1, 1, -1, 1, 2, 2), 1), ((-1, 1, 1, 0, 0, 0, 0), 1), ((-1, 1, 1, 0, 0, 1, 0), 1), ((-1, 1, 1, 0, 0, 1, 1), 1), ((-1, 1, 1, 0, 1, 0, 0), 1), ((-1, 1, 1, 1, 0, 1, 1), 1), ((-1, 1, 1, 1, 1, -1, -1), 1), ((-1, 1, 1, 1, 1, 2, 2), 1), ((-1, 1, 1, 1, 2, 2, -1), 1), ((-1, 1, 1, 2, 0, -1, -1), 1), ((-1, 1, 1, 2, 1, 1, 1), 1), ((-1, 1, 1, 2, 1, 2, 2), 1), ((-1, 1, 1, 2, 2, 2, 1), 1), ((-1, 1, 2, -1, -1, -1, -1), 1), ((-1, 1, 2, -1, -1, 2, 1), 1), ((-1, 1, 2, -1, -1, 2, 2), 1), ((-1, 1, 2, -1, 1, 2, 0), 1), ((-1, 1, 2, -1, 1, 2, 2), 1), ((-1, 1, 2, -1, 2, 0, 1), 1), ((-1, 1, 2, 0, 1, 0, 0), 1), ((-1, 1, 2, 1, -1, 0, 1), 1), ((-1, 1, 2, 1, 1, -1, 1), 1), ((-1, 2, -1, -1, 1, 0, 0), 1), ((-1, 2, -1, 0, -1, 0, 0), 1), ((-1, 2, -1, 2, -1, -1, -1), 1), ((-1, 2, -1, 2, -1, -1, 2), 1), ((-1, 2, -1, 2, -1, 2, -1), 1), ((-1, 2, -1, 2, -1, 2, 1), 1), ((-1, 2, -1, 2, 1, 1, 1), 1), ((-1, 2, -1, 2, 1, 2, 1), 1), ((-1, 2, -1, 2, 1, 2, 2), 1), ((-1, 2, 0, -1, -1, -1, -1), 1), ((-1, 2, 0, -1, 2, -1, -1), 1), ((-1, 2, 0, 2, -1, 2, 1), 1), ((-1, 2, 1, -1, 2, -1, -1), 1), ((-1, 2, 1, 0, 2, 2, 2), 1), ((-1, 2, 1, 1, 1, 0, 1), 1), ((-1, 2, 2, -1, 0, -1, 2), 1), ((-1, 2, 2, -1, 2, -1, 2), 1), ((-1, 2, 2, -1, 2, 0, 2), 1), ((-1, 2, 2, -1, 2, 1, 2), 1), ((-1, 2, 2, 0, -1, -1, -1), 1), ((-1, 2, 2, 2, -1, -1, -1), 1), ((-1, 2, 2, 2, -1, 2, 2), 1), ((-1, 2, 2, 2, 2, -1, 2), 1), ((-1, 2, 2, 2, 2, 2, -1), 1), ((0, -1, -1, -1, -1, -1, 1), 1), ((0, -1, -1, -1, 0, -1, 1), 1), ((0, -1, -1, -1, 0, 1, -1), 1), ((0, -1, -1, -1, 0, 1, 0), 1), ((0, -1, -1, -1, 2, -1, 0), 1), ((0, -1, -1, 0, -1, 0, 1), 1), ((0, -1, -1, 0, 0, -1, 2), 1), ((0, -1, -1, 0, 0, 1, 0), 1), ((0, -1, -1, 0, 0, 2, -1), 1), ((0, -1, -1, 0, 1, -1, -1), 1), ((0, -1, -1, 0, 2, -1, 0), 1), ((0, -1, -1, 1, 0, 0, 0), 1), ((0, -1, -1, 2, 2, 2, 2), 1), ((0, -1, 0, -1, -1, 0, 1), 1), ((0, -1, 0, -1, 1, -1, 0), 1), ((0, -1, 0, -1, 1, 0, 1), 1), ((0, -1, 0, 0, -1, 0, 1), 1), ((0, -1, 0, 0, 0, -1, 2), 1), ((0, -1, 0, 0, 0, 1, 1), 1), ((0, -1, 0, 0, 0, 1, 2), 1), ((0, -1, 0, 0, 0, 2, 0), 1), ((0, -1, 0, 0, 1, -1, 0), 1), ((0, -1, 0, 0, 1, 0, -1), 1), ((0, -1, 0, 0, 1, 2, 1), 1), ((0, -1, 0, 1, -1, 2, -1), 1), ((0, -1, 0, 1, 0, -1, 0), 1), ((0, -1, 0, 1, 0, 0, 1), 1), ((0, -1, 0, 1, 0, 1, -1), 1), ((0, -1, 0, 1, 0, 1, 1), 1), ((0, -1, 0, 1, 0, 2, 2), 1), ((0, -1, 0, 2, -1, 0, -1), 1), ((0, -1, 0, 2, 2, 1, 0), 1), ((0, -1, 1, -1, -1, -1, -1), 1), ((0, -1, 1, -1, 0, -1, -1), 1), ((0, -1, 1, -1, 0, -1, 0), 1), ((0, -1, 1, -1, 0, 0, 0), 1), ((0, -1, 1, 0, 0, 0, -1), 1), ((0, -1, 1, 0, 1, -1, -1), 1), ((0, -1, 1, 0, 1, -1, 0), 1), ((0, -1, 1, 1, -1, 0, 1), 1), ((0, -1, 1, 1, 0, 1, 1), 1), ((0, -1, 1, 1, 1, 1, 0), 1), ((0, -1, 1, 2, -1, -1, 0), 1), ((0, -1, 2, -1, -1, -1, -1), 1), ((0, -1, 2, 0, 0, -1, 0), 1), ((0, -1, 2, 0, 0, 0, -1), 1), ((0, -1, 2, 0, 1, -1, 2), 1), ((0, 0, -1, -1, 0, -1, 1), 1), ((0, 0, -1, -1, 0, 0, 1), 1), ((0, 0, -1, -1, 0, 1, 0), 1), ((0, 0, -1, -1, 0, 2, 0), 1), ((0, 0, -1, -1, 1, 0, 0), 1), ((0, 0, -1, -1, 2, 1, 2), 1), ((0, 0, -1, 0, -1, 1, -1), 1), ((0, 0, -1, 0, -1, 1, 0), 1), ((0, 0, -1, 0, 0, -1, 1), 1), ((0, 0, -1, 0, 0, 0, 2), 1), ((0, 0, -1, 0, 1, 0, -1), 1), ((0, 0, -1, 0, 1, 1, 0), 1), ((0, 0, -1, 0, 2, 0, 0), 1), ((0, 0, -1, 1, -1, -1, 0), 1), ((0, 0, -1, 1, -1, 0, 0), 1), ((0, 0, -1, 1, -1, 1, 0), 1), ((0, 0, -1, 2, -1, 0, -1), 1), ((0, 0, 0, -1, -1, 1, 0), 1), ((0, 0, 0, -1, 0, 0, 2), 1), ((0, 0, 0, -1, 0, 1, 0), 1), ((0, 0, 0, -1, 0, 1, 1), 1), ((0, 0, 0, -1, 1, -1, 0), 1), ((0, 0, 0, -1, 1, 0, -1), 1), ((0, 0, 0, -1, 1, 1, 1), 1), ((0, 0, 0, 0, -1, 1, -1), 1), ((0, 0, 0, 0, 0, 1, -1), 1), ((0, 0, 0, 0, 0, 2, 0), 1), ((0, 0, 0, 0, 0, 2, 1), 1), ((0, 0, 0, 0, 2, -1, 0), 1), ((0, 0, 0, 0, 2, 0, 1), 1), ((0, 0, 0, 1, -1, -1, -1), 1), ((0, 0, 0, 1, -1, 0, -1), 1), ((0, 0, 0, 1, -1, 0, 1), 1), ((0, 0, 0, 1, 1, 2, -1), 1), ((0, 0, 0, 2, 0, -1, 0), 1), ((0, 0, 0, 2, 0, 0, -1), 1), ((0, 0, 0, 2, 0, 1, 0), 1), ((0, 0, 1, -1, -1, -1, -1), 1), ((0, 0, 1, -1, -1, 0, 0), 1), ((0, 0, 1, -1, 0, -1, -1), 1), ((0, 0, 1, -1, 0, 0, 1), 1), ((0, 0, 1, -1, 0, 1, 1), 1), ((0, 0, 1, -1, 1, 0, 0), 1), ((0, 0, 1, 0, -1, 1, 0), 1), ((0, 0, 1, 0, 0, -1, 0), 1), ((0, 0, 1, 0, 0, 0, 2), 1), ((0, 0, 1, 0, 0, 2, -1), 1), ((0, 0, 1, 0, 0, 2, 0), 1), ((0, 0, 1, 0, 0, 2, 1), 1), ((0, 0, 1, 1, 0, -1, 2), 1), ((0, 0, 1, 1, 1, 1, 2), 1), ((0, 0, 2, -1, 0, -1, -1), 1), ((0, 0, 2, -1, 0, 0, 0), 1), ((0, 0, 2, 0, -1, 0, 0), 1), ((0, 0, 2, 0, 0, 0, 1), 1), ((0, 0, 2, 0, 0, 1, 0), 1), ((0, 0, 2, 0, 1, 0, 0), 1), ((0, 1, -1, -1, 0, 0, 0), 1), ((0, 1, -1, -1, 0, 1, 0), 1), ((0, 1, -1, -1, 0, 1, 1), 1), ((0, 1, -1, 0, 0, -1, 0), 1), ((0, 1, -1, 0, 0, 1, 1), 1), ((0, 1, -1, 0, 1, 0, 0), 1), ((0, 1, -1, 0, 1, 0, 1), 1), ((0, 1, -1, 0, 1, 1, 0), 1), ((0, 1, -1, 0, 2, -1, -1), 1), ((0, 1, -1, 1, -1, -1, 1), 1), ((0, 1, -1, 1, -1, 0, -1), 1), ((0, 1, -1, 1, -1, 0, 0), 1), ((0, 1, -1, 1, 0, 0, -1), 1), ((0, 1, -1, 1, 1, -1, -1), 1), ((0, 1, 0, -1, -1, -1, 0), 1), ((0, 1, 0, -1, -1, 0, 1), 1), ((0, 1, 0, -1, -1, 1, 0), 1), ((0, 1, 0, -1, 0, -1, 0), 1), ((0, 1, 0, -1, 0, -1, 1), 1), ((0, 1, 0, -1, 0, 0, -1), 1), ((0, 1, 0, -1, 0, 2, -1), 1), ((0, 1, 0, 0, -1, 1, 0), 1), ((0, 1, 0, 0, 0, -1, -1), 1), ((0, 1, 0, 0, 0, 0, -1), 1), ((0, 1, 0, 0, 1, -1, -1), 1), ((0, 1, 0, 0, 1, -1, 1), 1), ((0, 1, 0, 0, 1, -1, 2), 1), ((0, 1, 0, 0, 1, 2, 1), 1), ((0, 1, 0, 0, 1, 2, 2), 1), ((0, 1, 0, 0, 2, -1, 1), 1), ((0, 1, 0, 0, 2, 2, 2), 1), ((0, 1, 0, 1, -1, 0, 1), 1), ((0, 1, 0, 1, 0, -1, 0), 1), ((0, 1, 0, 1, 0, -1, 1), 1), ((0, 1, 0, 1, 0, 0, -1), 1), ((0, 1, 0, 1, 2, -1, 1), 1), ((0, 1, 0, 1, 2, 0, 0), 1), ((0, 1, 0, 1, 2, 0, 1), 1), ((0, 1, 0, 2, 0, 0, 0), 1), ((0, 1, 0, 2, 0, 0, 1), 1), ((0, 1, 0, 2, 0, 1, 2), 1), ((0, 1, 0, 2, 1, 0, 0), 1), ((0, 1, 1, -1, 0, 1, -1), 1), ((0, 1, 1, -1, 1, -1, 1), 1), ((0, 1, 1, 0, -1, 1, 1), 1), ((0, 1, 1, 0, 0, -1, 0), 1), ((0, 1, 1, 0, 0, 2, 1), 1), ((0, 1, 1, 0, 0, 2, 2), 1), ((0, 1, 1, 0, 2, 2, 0), 1), ((0, 1, 1, 1, 0, 1, -1), 1), ((0, 1, 1, 1, 0, 1, 2), 1), ((0, 1, 1, 1, 1, -1, 0), 1), ((0, 1, 1, 1, 1, -1, 2), 1), ((0, 1, 1, 1, 1, 2, 2), 1), ((0, 1, 1, 2, 0, 0, 0), 1), ((0, 1, 1, 2, 0, 2, 1), 1), ((0, 1, 1, 2, 1, 1, 1), 1), ((0, 1, 2, 0, 0, 1, 0), 1), ((0, 1, 2, 0, 1, 0, -1), 1), ((0, 1, 2, 0, 1, 1, 0), 1), ((0, 1, 2, 0, 1, 1, 2), 1), ((0, 1, 2, 0, 2, 1, 1), 1), ((0, 1, 2, 1, 0, 0, 0), 1), ((0, 1, 2, 1, 1, 0, 0), 1), ((0, 1, 2, 1, 2, 0, 0), 1), ((0, 1, 2, 2, 0, 1, 1), 1), ((0, 1, 2, 2, 1, 2, 1), 1), ((0, 2, -1, -1, -1, 1, 2), 1), ((0, 2, -1, -1, 2, -1, -1), 1), ((0, 2, -1, 0, 0, 0, 2), 1), ((0, 2, -1, 0, 0, 2, -1), 1), ((0, 2, -1, 0, 0, 2, 2), 1), ((0, 2, -1, 0, 1, -1, -1), 1), ((0, 2, -1, 0, 1, -1, 2), 1), ((0, 2, -1, 0, 2, 2, 2), 1), ((0, 2, -1, 1, 0, 2, 2), 1), ((0, 2, -1, 1, 1, 0, 2), 1), ((0, 2, -1, 2, -1, -1, -1), 1), ((0, 2, -1, 2, 2, 1, 1), 1), ((0, 2, 0, -1, -1, 0, 0), 1), ((0, 2, 0, -1, -1, 1, 0), 1), ((0, 2, 0, -1, 0, -1, 0), 1), ((0, 2, 0, -1, 0, -1, 2), 1), ((0, 2, 0, -1, 0, 0, 0), 1), ((0, 2, 0, -1, 1, 0, 0), 1), ((0, 2, 0, -1, 2, 0, 0), 1), ((0, 2, 0, 0, -1, -1, -1), 1), ((0, 2, 0, 0, -1, -1, 1), 1), ((0, 2, 0, 0, -1, 0, 0), 1), ((0, 2, 0, 0, 0, -1, 0), 1), ((0, 2, 0, 0, 0, 0, 1), 1), ((0, 2, 0, 0, 0, 1, 0), 1), ((0, 2, 0, 0, 0, 2, 2), 1), ((0, 2, 0, 0, 1, -1, 1), 1), ((0, 2, 0, 0, 1, 0, 1), 1), ((0, 2, 0, 0, 2, 1, 1), 1), ((0, 2, 0, 1, -1, 2, 2), 1), ((0, 2, 0, 2, 0, 1, 1), 1), ((0, 2, 0, 2, 2, 0, 0), 1), ((0, 2, 0, 2, 2, 0, 1), 1), ((0, 2, 0, 2, 2, 1, 0), 1), ((0, 2, 0, 2, 2, 1, 1), 1), ((0, 2, 1, -1, -1, 0, 0), 1), ((0, 2, 1, -1, 2, 2, 2), 1), ((0, 2, 1, 0, 0, 0, 0), 1), ((0, 2, 1, 0, 2, 2, 2), 1), ((0, 2, 1, 1, -1, 1, 0), 1), ((0, 2, 1, 1, 1, 1, -1), 1), ((0, 2, 1, 1, 1, 2, 2), 1), ((0, 2, 1, 1, 2, 1, 1), 1), ((0, 2, 1, 1, 2, 2, 2), 1), ((0, 2, 1, 2, 1, 1, 1), 1), ((0, 2, 1, 2, 2, 0, 0), 1), ((0, 2, 1, 2, 2, 1, 0), 1), ((0, 2, 1, 2, 2, 2, 0), 1), ((0, 2, 2, -1, -1, 0, 0), 1), ((0, 2, 2, -1, -1, 2, 1), 1), ((0, 2, 2, -1, 0, 0, 0), 1), ((0, 2, 2, -1, 1, 1, 1), 1), ((0, 2, 2, -1, 2, -1, -1), 1), ((0, 2, 2, -1, 2, 0, 0), 1), ((0, 2, 2, -1, 2, 1, 1), 1), ((0, 2, 2, 0, 1, 0, 0), 1), ((0, 2, 2, 0, 1, 2, 2), 1), ((0, 2, 2, 1, 1, -1, 2), 1), ((0, 2, 2, 2, 1, 1, 0), 1), ((0, 2, 2, 2, 1, 1, 1), 1), ((0, 2, 2, 2, 2, 2, 2), 1), ((1, -1, -1, -1, -1, -1, -1), 1), ((1, -1, -1, -1, -1, -1, 0), 1), ((1, -1, -1, -1, -1, -1, 1), 1), ((1, -1, -1, -1, -1, 0, -1), 1), ((1, -1, -1, -1, -1, 1, 1), 1), ((1, -1, -1, -1, 0, -1, -1), 1), ((1, -1, -1, -1, 0, 0, 0), 1), ((1, -1, -1, -1, 0, 0, 1), 1), ((1, -1, -1, -1, 1, 1, 1), 1), ((1, -1, -1, -1, 2, 2, 2), 1), ((1, -1, -1, 0, 0, -1, 2), 1), ((1, -1, -1, 0, 0, 0, 0), 1), ((1, -1, -1, 0, 1, 1, 1), 1), ((1, -1, -1, 1, -1, -1, -1), 1), ((1, -1, -1, 1, 0, 0, 0), 1), ((1, -1, -1, 1, 0, 2, 2), 1), ((1, -1, -1, 1, 1, 1, 1), 1), ((1, -1, -1, 1, 1, 1, 2), 1), ((1, -1, 0, -1, -1, -1, -1), 1), ((1, -1, 0, -1, 1, 0, 0), 1), ((1, -1, 0, -1, 1, 1, 1), 1), ((1, -1, 0, 0, -1, -1, -1), 1), ((1, -1, 0, 0, -1, 0, 0), 1), ((1, -1, 0, 0, -1, 1, 1), 1), ((1, -1, 0, 0, 0, -1, 0), 1), ((1, -1, 0, 0, 0, -1, 2), 1), ((1, -1, 0, 0, 1, -1, 1), 1), ((1, -1, 0, 0, 1, 1, 1), 1), ((1, -1, 0, 0, 2, -1, -1), 1), ((1, -1, 0, 1, -1, 0, 0), 1), ((1, -1, 0, 1, -1, 2, 2), 1), ((1, -1, 0, 1, 0, 0, 1), 1), ((1, -1, 0, 1, 1, 0, 0), 1), ((1, -1, 0, 1, 1, 2, 2), 1), ((1, -1, 1, -1, -1, 1, 1), 1), ((1, -1, 1, -1, 0, 0, 1), 1), ((1, -1, 1, -1, 1, -1, 1), 1), ((1, -1, 1, -1, 1, 0, 2), 1), ((1, -1, 1, 0, 0, -1, 2), 1), ((1, -1, 1, 0, 0, 1, 0), 1), ((1, -1, 1, 0, 1, 0, 0), 1), ((1, -1, 1, 0, 1, 1, -1), 1), ((1, -1, 1, 0, 1, 1, 0), 1), ((1, -1, 1, 0, 1, 1, 1), 1), ((1, -1, 1, 1, -1, 2, 2), 1), ((1, -1, 1, 1, 0, 1, 1), 1), ((1, -1, 1, 1, 1, -1, -1), 1), ((1, -1, 1, 1, 1, 0, -1), 1), ((1, -1, 1, 1, 1, 1, 0), 1), ((1, -1, 1, 1, 1, 1, 2), 1), ((1, -1, 1, 1, 2, 0, 0), 1), ((1, -1, 1, 2, 2, 0, 0), 1), ((1, -1, 2, -1, 2, 0, 0), 1), ((1, -1, 2, 0, 2, 0, 0), 1), ((1, -1, 2, 1, 1, 2, 2), 1), ((1, -1, 2, 2, 0, 0, -1), 1), ((1, -1, 2, 2, 1, 1, 2), 1), ((1, -1, 2, 2, 2, 1, 2), 1), ((1, 0, -1, 0, -1, -1, -1), 1), ((1, 0, -1, 0, 0, 1, 0), 1), ((1, 0, -1, 0, 0, 2, 0), 1), ((1, 0, -1, 1, 0, 0, 1), 1), ((1, 0, -1, 2, -1, 0, 1), 1), ((1, 0, -1, 2, 0, 1, 1), 1), ((1, 0, 0, -1, -1, -1, 0), 1), ((1, 0, 0, -1, 0, -1, -1), 1), ((1, 0, 0, -1, 0, -1, 0), 1), ((1, 0, 0, -1, 0, 0, -1), 1), ((1, 0, 0, -1, 0, 0, 1), 1), ((1, 0, 0, -1, 0, 1, 1), 1), ((1, 0, 0, -1, 1, -1, 1), 1), ((1, 0, 0, -1, 1, 0, -1), 1), ((1, 0, 0, 0, -1, 0, 0), 1), ((1, 0, 0, 0, 0, 0, 2), 1), ((1, 0, 0, 0, 1, -1, 1), 1), ((1, 0, 0, 0, 1, 0, -1), 1), ((1, 0, 0, 0, 1, 2, 2), 1), ((1, 0, 0, 0, 2, -1, 1), 1), ((1, 0, 0, 0, 2, 1, 0), 1), ((1, 0, 0, 1, 0, -1, -1), 1), ((1, 0, 0, 1, 0, -1, 0), 1), ((1, 0, 0, 1, 0, -1, 2), 1), ((1, 0, 0, 1, 0, 2, -1), 1), ((1, 0, 0, 1, 1, -1, 0), 1), ((1, 0, 0, 1, 1, 1, 2), 1), ((1, 0, 0, 1, 1, 2, 2), 1), ((1, 0, 0, 2, 1, 1, 1), 1), ((1, 0, 1, -1, 1, 0, 0), 1), ((1, 0, 1, 0, 0, -1, -1), 1), ((1, 0, 1, 0, 0, -1, 1), 1), ((1, 0, 1, 0, 0, 1, -1), 1), ((1, 0, 1, 0, 0, 1, 2), 1), ((1, 0, 1, 0, 0, 2, -1), 1), ((1, 0, 1, 0, 0, 2, 1), 1), ((1, 0, 1, 0, 1, -1, -1), 1), ((1, 0, 1, 0, 1, -1, 0), 1), ((1, 0, 1, 0, 1, 0, 2), 1), ((1, 0, 1, 0, 2, 1, 0), 1), ((1, 0, 1, 1, -1, -1, 1), 1), ((1, 0, 1, 1, -1, 0, 1), 1), ((1, 0, 1, 1, 0, -1, 0), 1), ((1, 0, 1, 1, 0, 1, -1), 1), ((1, 0, 1, 1, 0, 2, -1), 1), ((1, 0, 1, 1, 1, 1, 2), 1), ((1, 0, 1, 1, 1, 2, -1), 1), ((1, 0, 1, 2, 0, -1, -1), 1), ((1, 0, 1, 2, 2, 1, 1), 1), ((1, 0, 2, -1, 0, 0, 0), 1), ((1, 0, 2, -1, 1, 0, 1), 1), ((1, 0, 2, 0, 0, 0, 0), 1), ((1, 0, 2, 0, 2, 0, 0), 1), ((1, 0, 2, 1, 0, 1, 0), 1), ((1, 0, 2, 2, 0, 1, -1), 1), ((1, 1, -1, -1, -1, 2, 2), 1), ((1, 1, -1, -1, 1, 1, 1), 1), ((1, 1, -1, 0, 0, 2, 0), 1), ((1, 1, -1, 0, 0, 2, 2), 1), ((1, 1, -1, 0, 1, 0, -1), 1), ((1, 1, -1, 0, 1, 1, 0), 1), ((1, 1, -1, 0, 1, 1, 1), 1), ((1, 1, -1, 1, -1, 1, -1), 1), ((1, 1, -1, 1, 0, 0, 0), 1), ((1, 1, -1, 1, 0, 2, 2), 1), ((1, 1, -1, 1, 2, 1, 2), 1), ((1, 1, -1, 2, 0, 1, 1), 1), ((1, 1, 0, -1, 0, 0, 1), 1), ((1, 1, 0, -1, 1, 2, 2), 1), ((1, 1, 0, 0, -1, 1, -1), 1), ((1, 1, 0, 0, 0, -1, 0), 1), ((1, 1, 0, 0, 0, -1, 2), 1), ((1, 1, 0, 0, 2, -1, 1), 1), ((1, 1, 0, 1, -1, 2, 2), 1), ((1, 1, 0, 1, 0, -1, 1), 1), ((1, 1, 0, 1, 0, 2, -1), 1), ((1, 1, 0, 1, 1, 1, -1), 1), ((1, 1, 0, 1, 1, 2, -1), 1), ((1, 1, 1, -1, 0, 0, 0), 1), ((1, 1, 1, -1, 0, 2, -1), 1), ((1, 1, 1, -1, 0, 2, 2), 1), ((1, 1, 1, -1, 1, 0, 0), 1), ((1, 1, 1, -1, 2, 0, 0), 1), ((1, 1, 1, 0, 0, -1, 1), 1), ((1, 1, 1, 0, 0, -1, 2), 1), ((1, 1, 1, 0, 1, -1, 1), 1), ((1, 1, 1, 0, 1, 1, -1), 1), ((1, 1, 1, 0, 2, -1, 1), 1), ((1, 1, 1, 1, -1, -1, 1), 1), ((1, 1, 1, 1, -1, 2, 2), 1), ((1, 1, 1, 1, 0, -1, 2), 1), ((1, 1, 1, 1, 1, -1, -1), 1), ((1, 1, 1, 1, 1, -1, 0), 1), ((1, 1, 1, 1, 1, -1, 2), 1), ((1, 1, 1, 1, 1, 2, -1), 1), ((1, 1, 1, 1, 2, -1, 0), 1), ((1, 1, 1, 2, -1, -1, 0), 1), ((1, 1, 1, 2, -1, 2, 2), 1), ((1, 1, 1, 2, 1, -1, 1), 1), ((1, 1, 2, -1, -1, 0, 0), 1), ((1, 1, 2, -1, 2, 1, 0), 1), ((1, 1, 2, 0, 1, -1, 0), 1), ((1, 1, 2, 0, 1, -1, 1), 1), ((1, 1, 2, 1, -1, 0, 0), 1), ((1, 1, 2, 2, 0, -1, 1), 1), ((1, 1, 2, 2, 0, 1, -1), 1), ((1, 2, -1, -1, 2, -1, 2), 1), ((1, 2, -1, 0, 1, 2, 2), 1), ((1, 2, -1, 1, 0, 1, 1), 1), ((1, 2, -1, 2, 1, -1, 1), 1), ((1, 2, 0, -1, 2, 2, 2), 1), ((1, 2, 0, 0, 0, 1, 0), 1), ((1, 2, 0, 0, 0, 1, 1), 1), ((1, 2, 0, 0, 0, 2, 2), 1), ((1, 2, 0, 0, 2, 1, 1), 1), ((1, 2, 0, 1, 0, 0, 0), 1), ((1, 2, 0, 2, 1, 2, 2), 1), ((1, 2, 0, 2, 2, 0, 1), 1), ((1, 2, 0, 2, 2, 1, 2), 1), ((1, 2, 1, -1, 0, 2, 2), 1), ((1, 2, 1, -1, 1, 1, 1), 1), ((1, 2, 1, -1, 2, 1, 0), 1), ((1, 2, 1, -1, 2, 2, 1), 1), ((1, 2, 1, 0, 0, 2, 1), 1), ((1, 2, 1, 0, 1, 0, 0), 1), ((1, 2, 1, 0, 1, 2, 2), 1), ((1, 2, 1, 1, -1, 2, -1), 1), ((1, 2, 1, 1, 0, 1, 1), 1), ((1, 2, 1, 1, 1, -1, 0), 1), ((1, 2, 1, 1, 1, -1, 1), 1), ((1, 2, 1, 1, 1, 0, 1), 1), ((1, 2, 1, 1, 1, 1, 0), 1), ((1, 2, 1, 1, 2, 0, 0), 1), ((1, 2, 1, 2, 0, 1, 1), 1), ((1, 2, 1, 2, 0, 2, 1), 1), ((1, 2, 1, 2, 1, 0, 0), 1), ((1, 2, 2, -1, 2, 1, 1), 1), ((1, 2, 2, 1, -1, 0, 0), 1), ((1, 2, 2, 2, -1, -1, -1), 1), ((1, 2, 2, 2, 2, -1, 1), 1), ((1, 2, 2, 2, 2, 0, 1), 1), ((1, 2, 2, 2, 2, 1, -1), 1), ((1, 2, 2, 2, 2, 2, -1), 1), ((2, -1, -1, -1, -1, -1, -1), 1), ((2, -1, -1, -1, 0, -1, -1), 1), ((2, -1, -1, -1, 1, 1, 1), 1), ((2, -1, -1, 1, 0, 0, 0), 1), ((2, -1, -1, 1, 1, -1, -1), 1), ((2, -1, -1, 1, 2, 1, 0), 1), ((2, -1, -1, 2, -1, -1, 1), 1), ((2, -1, -1, 2, 2, -1, 0), 1), ((2, -1, -1, 2, 2, -1, 2), 1), ((2, -1, -1, 2, 2, 2, 2), 1), ((2, -1, 0, 0, -1, -1, 0), 1), ((2, -1, 1, -1, 1, 1, -1), 1), ((2, -1, 1, -1, 2, -1, 2), 1), ((2, -1, 1, 0, 2, -1, 1), 1), ((2, -1, 1, 1, 1, 1, 1), 1), ((2, -1, 1, 2, 2, 1, 2), 1), ((2, -1, 2, -1, -1, -1, -1), 1), ((2, -1, 2, -1, 0, -1, 0), 1), ((2, -1, 2, -1, 2, -1, -1), 1), ((2, -1, 2, -1, 2, 1, -1), 1), ((2, -1, 2, -1, 2, 1, 1), 1), ((2, -1, 2, -1, 2, 2, -1), 1), ((2, -1, 2, 1, -1, -1, 2), 1), ((2, -1, 2, 1, -1, 1, 0), 1), ((2, -1, 2, 2, -1, -1, -1), 1), ((2, -1, 2, 2, -1, -1, 2), 1), ((2, -1, 2, 2, -1, 2, 2), 1), ((2, 0, -1, 0, -1, -1, 1), 1), ((2, 0, -1, 1, 0, 0, 0), 1), ((2, 0, -1, 1, 1, 0, 2), 1), ((2, 0, -1, 1, 2, 1, 0), 1), ((2, 0, -1, 2, -1, 2, 2), 1), ((2, 0, 0, -1, 0, -1, 0), 1), ((2, 0, 0, -1, 0, -1, 2), 1), ((2, 0, 0, -1, 0, 1, 1), 1), ((2, 0, 0, -1, 1, -1, 2), 1), ((2, 0, 0, 0, 0, -1, 0), 1), ((2, 0, 0, 0, 0, 1, 2), 1), ((2, 0, 0, 0, 0, 2, 1), 1), ((2, 0, 0, 0, 0, 2, 2), 1), ((2, 0, 0, 1, 0, 0, 0), 1), ((2, 0, 0, 1, 0, 0, 1), 1), ((2, 0, 0, 1, 1, 0, 1), 1), ((2, 0, 0, 2, 1, 2, 2), 1), ((2, 0, 0, 2, 2, 0, -1), 1), ((2, 0, 0, 2, 2, 0, 0), 1), ((2, 0, 1, -1, -1, -1, 2), 1), ((2, 0, 1, -1, -1, 1, 2), 1), ((2, 0, 1, -1, 0, 0, -1), 1), ((2, 0, 1, -1, 0, 2, 2), 1), ((2, 0, 1, -1, 1, -1, 0), 1), ((2, 0, 1, -1, 1, 1, 2), 1), ((2, 0, 1, 0, -1, -1, 1), 1), ((2, 0, 1, 0, 0, -1, -1), 1), ((2, 0, 1, 0, 0, 2, -1), 1), ((2, 0, 1, 0, 1, 1, 0), 1), ((2, 0, 1, 1, 1, 0, 1), 1), ((2, 0, 1, 1, 1, 2, 1), 1), ((2, 0, 1, 1, 2, 0, 1), 1), ((2, 0, 1, 2, 0, -1, 2), 1), ((2, 0, 1, 2, 0, 0, -1), 1), ((2, 0, 1, 2, 0, 2, -1), 1), ((2, 0, 1, 2, 0, 2, 0), 1), ((2, 0, 1, 2, 0, 2, 2), 1), ((2, 0, 1, 2, 1, 2, 2), 1), ((2, 0, 2, 0, -1, -1, 0), 1), ((2, 0, 2, 0, 2, 0, -1), 1), ((2, 0, 2, 0, 2, 0, 0), 1), ((2, 0, 2, 0, 2, 0, 1), 1), ((2, 0, 2, 0, 2, 0, 2), 1), ((2, 0, 2, 1, -1, -1, 1), 1), ((2, 0, 2, 1, 1, 1, 1), 1), ((2, 0, 2, 1, 2, 0, 1), 1), ((2, 0, 2, 1, 2, 1, -1), 1), ((2, 0, 2, 2, 0, 0, 0), 1), ((2, 0, 2, 2, 2, 2, 2), 1), ((2, 1, -1, -1, -1, 0, 0), 1), ((2, 1, -1, -1, 2, 0, 1), 1), ((2, 1, -1, 2, -1, 2, 2), 1), ((2, 1, -1, 2, 2, 0, 1), 1), ((2, 1, 0, -1, 1, -1, 2), 1), ((2, 1, 0, -1, 1, 2, -1), 1), ((2, 1, 0, -1, 2, -1, 2), 1), ((2, 1, 0, 0, 0, 2, 1), 1), ((2, 1, 0, 0, 1, 1, 1), 1), ((2, 1, 0, 0, 1, 1, 2), 1), ((2, 1, 0, 0, 1, 2, 2), 1), ((2, 1, 0, 1, -1, 2, -1), 1), ((2, 1, 0, 2, 0, 2, 2), 1), ((2, 1, 1, -1, -1, 2, 2), 1), ((2, 1, 1, -1, 0, 2, -1), 1), ((2, 1, 1, -1, 1, 2, -1), 1), ((2, 1, 1, -1, 1, 2, 2), 1), ((2, 1, 1, 0, 0, 0, 0), 1), ((2, 1, 1, 0, 1, -1, 1), 1), ((2, 1, 1, 0, 1, 0, 0), 1), ((2, 1, 1, 0, 1, 0, 1), 1), ((2, 1, 1, 0, 2, 1, 1), 1), ((2, 1, 1, 1, 0, 0, 1), 1), ((2, 1, 1, 1, 0, 1, 1), 1), ((2, 1, 1, 1, 1, 0, 0), 1), ((2, 1, 1, 1, 1, 1, 0), 1), ((2, 1, 1, 1, 1, 2, -1), 1), ((2, 1, 1, 2, -1, 2, 2), 1), ((2, 1, 1, 2, 0, 1, 1), 1), ((2, 1, 1, 2, 1, -1, 2), 1), ((2, 1, 1, 2, 2, 1, 0), 1), ((2, 1, 2, -1, -1, -1, -1), 1), ((2, 1, 2, -1, -1, -1, 2), 1), ((2, 1, 2, -1, -1, 2, 2), 1), ((2, 1, 2, -1, 2, -1, 2), 1), ((2, 1, 2, -1, 2, 0, 1), 1), ((2, 1, 2, -1, 2, 2, 2), 1), ((2, 1, 2, 0, -1, 0, 1), 1), ((2, 1, 2, 0, 1, 2, 1), 1), ((2, 1, 2, 0, 2, -1, 1), 1), ((2, 1, 2, 0, 2, 0, 1), 1), ((2, 1, 2, 0, 2, 1, 0), 1), ((2, 1, 2, 1, -1, 1, 1), 1), ((2, 1, 2, 1, 1, -1, 2), 1), ((2, 1, 2, 1, 1, 0, 0), 1), ((2, 1, 2, 1, 2, 1, 0), 1), ((2, 1, 2, 2, -1, 0, 2), 1), ((2, 1, 2, 2, 2, -1, 1), 1), ((2, 2, -1, -1, -1, -1, -1), 1), ((2, 2, -1, -1, -1, -1, 2), 1), ((2, 2, -1, -1, -1, 2, 0), 1), ((2, 2, -1, -1, 2, -1, 2), 1), ((2, 2, -1, -1, 2, 1, 2), 1), ((2, 2, -1, -1, 2, 2, -1), 1), ((2, 2, -1, 2, 0, 2, 2), 1), ((2, 2, -1, 2, 1, 1, -1), 1), ((2, 2, 0, 1, 2, 2, 1), 1), ((2, 2, 1, -1, 2, 1, 1), 1), ((2, 2, 1, 0, 1, -1, -1), 1), ((2, 2, 1, 0, 2, 1, 1), 1), ((2, 2, 1, 1, 1, 2, 1), 1), ((2, 2, 1, 1, 2, 1, 1), 1), ((2, 2, 1, 1, 2, 2, -1), 1), ((2, 2, 1, 1, 2, 2, 1), 1), ((2, 2, 1, 2, 1, -1, 1), 1), ((2, 2, 1, 2, 2, -1, 0), 1), ((2, 2, 1, 2, 2, 2, -1), 1), ((2, 2, 2, -1, -1, -1, 1), 1), ((2, 2, 2, -1, -1, -1, 2), 1), ((2, 2, 2, -1, 1, 2, 2), 1), ((2, 2, 2, -1, 2, -1, 0), 1), ((2, 2, 2, -1, 2, 1, 2), 1), ((2, 2, 2, 0, 1, -1, -1), 1), ((2, 2, 2, 0, 1, -1, 1), 1), ((2, 2, 2, 1, 1, 2, 2), 1), ((2, 2, 2, 1, 2, -1, -1), 1), ((2, 2, 2, 1, 2, -1, 2), 1), ((2, 2, 2, 1, 2, 1, 1), 1), ((2, 2, 2, 2, 0, 1, 1), 1)]\n"
     ]
    }
   ],
   "source": [
    "print(sorted([(k, v) for k, v in gen_to_count.items() if k not in included_gens], reverse=True, key=lambda x: x[1]))"
   ]
  },
  {
   "cell_type": "code",
   "execution_count": null,
   "metadata": {
    "collapsed": true
   },
   "outputs": [],
   "source": []
  }
 ],
 "metadata": {
  "kernelspec": {
   "display_name": "Python 3",
   "language": "python",
   "name": "python3"
  },
  "language_info": {
   "codemirror_mode": {
    "name": "ipython",
    "version": 3
   },
   "file_extension": ".py",
   "mimetype": "text/x-python",
   "name": "python",
   "nbconvert_exporter": "python",
   "pygments_lexer": "ipython3",
   "version": "3.6.1"
  }
 },
 "nbformat": 4,
 "nbformat_minor": 2
}
