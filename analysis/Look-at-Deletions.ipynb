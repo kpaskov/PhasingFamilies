{
 "cells": [
  {
   "cell_type": "code",
   "execution_count": 44,
   "metadata": {
    "collapsed": true
   },
   "outputs": [],
   "source": [
    "chrom = '22'\n",
    "family_sizes = [3, 4, 5, 6]\n",
    "phase_dir = '../phased'\n",
    "data_dir = '../split_gen_miss'\n"
   ]
  },
  {
   "cell_type": "code",
   "execution_count": 45,
   "metadata": {
    "collapsed": true
   },
   "outputs": [],
   "source": [
    "ped_files = ['../data/160826.ped', '../data/ssc.ped']\n",
    "# Affection (0=unknown; 1=unaffected; 2=affected)\n",
    "child_id_to_affected = dict()\n",
    "child_id_to_sex = dict()\n",
    "\n",
    "for ped_file in ped_files:\n",
    "    with open(ped_file, 'r') as f:\n",
    "        for line in f:\n",
    "            pieces = line.strip().split('\\t')\n",
    "            if len(pieces) >= 6:\n",
    "                fam_id, child_id, f_id, m_id, sex, disease_status = pieces[0:6]\n",
    "                child_id_to_affected[child_id] = disease_status\n",
    "                child_id_to_sex[child_id] = sex"
   ]
  },
  {
   "cell_type": "code",
   "execution_count": 46,
   "metadata": {
    "collapsed": true
   },
   "outputs": [],
   "source": [
    "# From GRCh37.p13 https://www.ncbi.nlm.nih.gov/grc/human/data?asm=GRCh37.p13\n",
    "chrom_lengths = {\n",
    "\t'1': 249250621,\n",
    "\t'2': 243199373,\n",
    "\t'3': 198022430,\n",
    "\t'4': 191154276,\n",
    "\t'5': 180915260,\n",
    "\t'6': 171115067,\n",
    "\t'7': 159138663,\n",
    "\t'8': 146364022,\n",
    "\t'9': 141213431,\n",
    "\t'10': 135534747,\n",
    "\t'11': 135006516,\n",
    "\t'12': 133851895,\n",
    "\t'13': 115169878,\n",
    "\t'14': 107349540,\n",
    "\t'15': 102531392,\n",
    "\t'16': 90354753,\n",
    "\t'17': 81195210,\n",
    "\t'18': 78077248,\n",
    "\t'19': 59128983,\n",
    "\t'20': 63025520,\n",
    "\t'21': 48129895,\n",
    "\t'22': 51304566,\n",
    "\t'X': 155270560,\n",
    "\t'Y': 59373566\n",
    "}\n",
    "chrom_length = chrom_lengths[chrom]\n"
   ]
  },
  {
   "cell_type": "code",
   "execution_count": 47,
   "metadata": {
    "collapsed": true
   },
   "outputs": [],
   "source": [
    "# Pull cytogenetic coordinates\n",
    "with open('../data/cytoBand.txt', 'r') as f:\n",
    "    xticks, xticklabels = [], []\n",
    "    for line in f:\n",
    "        pieces = line.strip().split()\n",
    "        if pieces[0] == 'chr%s' % chrom:\n",
    "            xticks.append(int(pieces[1]))\n",
    "            xticklabels.append(pieces[3])"
   ]
  },
  {
   "cell_type": "code",
   "execution_count": 48,
   "metadata": {
    "collapsed": true
   },
   "outputs": [],
   "source": [
    "import numpy as np\n",
    "\n",
    "coord_file = '%s/chr.%s.gen.coordinates.npy' % (data_dir,  chrom)\n",
    "coordinates = np.load(coord_file)\n",
    "snp_positions = coordinates[:, 1]\n",
    "snp_indices = coordinates[:, 2]==1\n",
    "#snp_positions = snp_positions[snp_indices]"
   ]
  },
  {
   "cell_type": "code",
   "execution_count": 49,
   "metadata": {
    "collapsed": true
   },
   "outputs": [],
   "source": [
    "# pull families with sequence data\n",
    "sample_file = '%s/chr.%s.gen.samples.txt' % (data_dir, chrom)\n",
    "with open(sample_file, 'r') as f:\n",
    "    sample_ids = [line.strip() for line in f]\n",
    "sample_id_to_index = dict([(sample_id, i) for i, sample_id in enumerate(sample_ids)])"
   ]
  },
  {
   "cell_type": "code",
   "execution_count": 50,
   "metadata": {},
   "outputs": [
    {
     "name": "stdout",
     "output_type": "stream",
     "text": [
      "chrom shape 4610 1096535\n"
     ]
    }
   ],
   "source": [
    "from scipy import sparse\n",
    "from os import listdir\n",
    "\n",
    "# pull genotype data from .npz\n",
    "gen_files = sorted([f for f in listdir(data_dir) if ('chr.%s' % chrom) in f and 'gen.npz' in f])\n",
    "whole_chrom = sparse.hstack([sparse.load_npz('%s/%s' % (data_dir, gen_file)) for gen_file in gen_files])\n",
    "#whole_chrom = whole_chrom[:, snp_indices]\n",
    "\n",
    "total_inds, n = whole_chrom.shape\n",
    "print('chrom shape', total_inds, n)"
   ]
  },
  {
   "cell_type": "code",
   "execution_count": 103,
   "metadata": {
    "collapsed": true
   },
   "outputs": [],
   "source": [
    "del_pos = set()\n",
    "for j in family_sizes:\n",
    "    # load deletions\n",
    "    with open('%s/chr.%s.familysize.%d.phased.txt' % (phase_dir, chrom, j), 'r')  as f:\n",
    "        next(f) # skip header\n",
    "        for line in f:\n",
    "            pieces = line.strip().split('\\t')\n",
    "            start_pos, end_pos = [int(x) for x in pieces[(1+(j*2)):(3+(j*2))]]\n",
    "            del_pos.add(start_pos)\n",
    "            del_pos.add(end_pos)\n",
    "del_pos = np.asarray(sorted(del_pos), dtype=int)\n",
    "pos_to_index = dict([(x, i) for i, x in enumerate(del_pos)])"
   ]
  },
  {
   "cell_type": "code",
   "execution_count": 172,
   "metadata": {},
   "outputs": [
    {
     "name": "stdout",
     "output_type": "stream",
     "text": [
      "18 families of size 3\n",
      "436 families of size 4\n",
      "356 families of size 5\n",
      "57 families of size 6\n",
      "Chrom 22 total families 867\n"
     ]
    }
   ],
   "source": [
    "from collections import defaultdict\n",
    "\n",
    "# load deletions from all chromosomes\n",
    "deletions = -np.ones((whole_chrom.shape[0], len(del_pos), 2))\n",
    "family_to_individuals = dict()\n",
    "\n",
    "fams = set()\n",
    "for j in family_sizes:\n",
    "    with open('%s/chr.%s.familysize.%d.families.txt' % (phase_dir, chrom, j), 'r')  as f:\n",
    "        next(f) # skip header\n",
    "        num_fams_of_size = 0\n",
    "        for line in f:\n",
    "            pieces = line.strip().split('\\t')\n",
    "            family_key = pieces[0]\n",
    "            family_to_individuals[family_key] = pieces[1:(1+j)]\n",
    "            fams.add(family_key)\n",
    "            num_fams_of_size += 1\n",
    "        print('%d families of size %d' % (num_fams_of_size, j))\n",
    "                \n",
    "    # load deletions\n",
    "    with open('%s/chr.%s.familysize.%d.phased.txt' % (phase_dir, chrom, j), 'r')  as f:\n",
    "        next(f) # skip header\n",
    "        for line in f:\n",
    "            pieces = line.strip().split('\\t')\n",
    "            family_key = pieces[0]\n",
    "            inheritance_state = [int(x) for x in pieces[1:(1+(j*2))]]\n",
    "            start_pos, end_pos = [int(x) for x in pieces[(1+(j*2)):(3+(j*2))]]\n",
    "            start_index, end_index = pos_to_index[start_pos], pos_to_index[end_pos]\n",
    "            length = end_pos - start_pos + 1\n",
    "            individuals = family_to_individuals[family_key]    \n",
    "\n",
    "            # children\n",
    "            for k, child_id in enumerate(individuals[2:]):\n",
    "                mat, pat = inheritance_state[(4+(2*k)):(6+(2*k))]\n",
    "                \n",
    "                mat_del, pat_del = None, None\n",
    "                if mat >= 0 and inheritance_state[mat] >= 0:\n",
    "                    mat_del = inheritance_state[mat]==0\n",
    "                elif mat == -1 and inheritance_state[0] == inheritance_state[1] and inheritance_state[0] >= 0:\n",
    "                    mat_del = inheritance_state[0]==0\n",
    "                    \n",
    "                if pat >= 0 and inheritance_state[2+pat] >= 0:\n",
    "                    pat_del = inheritance_state[2+pat]==0\n",
    "                elif pat == -1 and inheritance_state[2] == inheritance_state[3] and inheritance_state[2] >= 0:\n",
    "                    pat_del = inheritance_state[2]==0\n",
    "                       \n",
    "                if mat_del is not None:\n",
    "                    if mat_del:\n",
    "                        deletions[sample_id_to_index[child_id], start_index:(end_index+1), 0] = 1\n",
    "                    else:\n",
    "                        deletions[sample_id_to_index[child_id], start_index:(end_index+1), 0] = 0\n",
    "                        \n",
    "                if pat_del is not None:\n",
    "                    if pat_del:\n",
    "                        deletions[sample_id_to_index[child_id], start_index:(end_index+1), 1] = 1\n",
    "                    else:\n",
    "                        deletions[sample_id_to_index[child_id], start_index:(end_index+1), 1] = 0\n",
    "                    \n",
    "            # decide how many deletions mom and dad have\n",
    "            mom_del, dad_del = None, None\n",
    "            if inheritance_state[0] == 0 or inheritance_state[1] == 0:\n",
    "                deletions[sample_id_to_index[individuals[0]], start_index:(end_index+1), 0] = 1\n",
    "            if inheritance_state[2] == 0 or inheritance_state[3] == 0:\n",
    "                deletions[sample_id_to_index[individuals[1]], start_index:(end_index+1), 1] = 1\n",
    "                \n",
    "print('Chrom', chrom, 'total families', len(fams))"
   ]
  },
  {
   "cell_type": "code",
   "execution_count": 112,
   "metadata": {},
   "outputs": [
    {
     "data": {
      "image/png": "[encoded data removed]",
      "text/plain": [
       "<Figure size 1080x360 with 1 Axes>"
      ]
     },
     "metadata": {},
     "output_type": "display_data"
    }
   ],
   "source": [
    "import matplotlib.pyplot as plt\n",
    "\n",
    "plt.figure(figsize=(15, 5))\n",
    "plt.imshow(deletions[:, :, 0], aspect='auto', vmin=-1, vmax=1)\n",
    "plt.show()"
   ]
  },
  {
   "cell_type": "code",
   "execution_count": 209,
   "metadata": {},
   "outputs": [
    {
     "name": "stdout",
     "output_type": "stream",
     "text": [
      "['AU1000202', 'AU1000201', 'AU1000304', 'AU1000303', 'AU1000301', 'AU1000302']\n",
      "['2', '1', '2', '2', '2', '2']\n",
      "['1', '1', '2', '2', '1', '1']\n"
     ]
    }
   ],
   "source": [
    "import random\n",
    "\n",
    "#family = ('AU0033', 'AU003301', 'AU003302')\n",
    "#family = ('AU1549', 'AU1549202', 'AU1549201')\n",
    "# 'AU062501', 'AU062502' deletion in mom and dad\n",
    "\n",
    "#individuals = family_to_individuals['.'.join(family)]  \n",
    "\n",
    "famkey, individuals = random.choice(list([(k, v) for k, v in family_to_individuals.items() if len(v) == 6]))\n",
    "family_indices = [sample_id_to_index[x] for x in individuals]\n",
    "print(individuals)\n",
    "print([child_id_to_sex[x] for x in individuals])\n",
    "print([child_id_to_affected[x] for x in individuals])\n"
   ]
  },
  {
   "cell_type": "code",
   "execution_count": 210,
   "metadata": {},
   "outputs": [
    {
     "name": "stdout",
     "output_type": "stream",
     "text": [
      "[2800 3989 4106]\n",
      "[2808 4029 4142]\n"
     ]
    }
   ],
   "source": [
    "famdel = deletions[family_indices, :]\n",
    "starts = np.where(((famdel[0, 1:, 0]==1) & (famdel[0, :-1, 0]!=1)) | ((famdel[1, 1:, 1]==1) & (famdel[1, :-1, 1]!=1)))[0]\n",
    "ends = np.where(((famdel[0, 1:, 0]!=1) & (famdel[0, :-1, 0]==1)) | ((famdel[1, 1:, 1]!=1) & (famdel[1, :-1, 1]==1)))[0]\n",
    "print(starts)\n",
    "print(ends)"
   ]
  },
  {
   "cell_type": "code",
   "execution_count": 211,
   "metadata": {},
   "outputs": [],
   "source": [
    "famgen = whole_chrom[family_indices, :].A"
   ]
  },
  {
   "cell_type": "code",
   "execution_count": 223,
   "metadata": {},
   "outputs": [
    {
     "name": "stdout",
     "output_type": "stream",
     "text": [
      "24272249 24319147 46898\n"
     ]
    },
    {
     "data": {
      "image/png": "[encoded data removed]",
      "text/plain": [
       "<Figure size 1080x720 with 3 Axes>"
      ]
     },
     "metadata": {},
     "output_type": "display_data"
    }
   ],
   "source": [
    "#start, end = random.choice(list(zip(starts, ends)))\n",
    "start_pos, end_pos = del_pos[start]-20000, del_pos[end]+20000\n",
    "print(start_pos, end_pos, end_pos-start_pos)\n",
    "\n",
    "plt.figure(figsize=(15, 10))\n",
    "\n",
    "plt.subplot(3, 1, 1)\n",
    "plt.imshow(famgen[:, (snp_positions>=start_pos) & (snp_positions<=end_pos)], aspect='auto', vmin=-1, vmax=2)\n",
    "\n",
    "plt.subplot(3, 1, 2)\n",
    "plt.imshow(famdel[:, (del_pos>=start_pos) & (del_pos<=end_pos), 0], aspect='auto', vmin=-1, vmax=1)\n",
    "\n",
    "plt.subplot(3, 1, 3)\n",
    "plt.imshow(famdel[:, (del_pos>=start_pos) & (del_pos<=end_pos), 1], aspect='auto', vmin=-1, vmax=1)\n",
    "\n",
    "plt.show()\n"
   ]
  },
  {
   "cell_type": "code",
   "execution_count": 43,
   "metadata": {},
   "outputs": [
    {
     "name": "stdout",
     "output_type": "stream",
     "text": [
      "39359344 39388216 28872\n"
     ]
    },
    {
     "data": {
      "image/png": "[encoded data removed]",
      "text/plain": [
       "<Figure size 1080x360 with 1 Axes>"
      ]
     },
     "metadata": {},
     "output_type": "display_data"
    }
   ],
   "source": [
    "start_pos, end_pos = del_pos[8495], del_pos[8616]\n",
    "print(start_pos, end_pos, end_pos-start_pos)\n",
    "\n",
    "plt.figure(figsize=(15, 5))\n",
    "\n",
    "plt.imshow(famgen[:, (snp_positions>=start_pos) & (snp_positions<=end_pos) & np.all(famgen>=0, axis=0)], aspect='auto', vmin=-1, vmax=2)\n",
    "plt.yticks(range(6), ['Mother', 'Father', 'Child 1', 'Child 2', 'Child 3', 'Child 4'])\n",
    "plt.show()"
   ]
  },
  {
   "cell_type": "code",
   "execution_count": null,
   "metadata": {
    "collapsed": true
   },
   "outputs": [],
   "source": []
  }
 ],
 "metadata": {
  "kernelspec": {
   "display_name": "Python 3",
   "language": "python",
   "name": "python3"
  },
  "language_info": {
   "codemirror_mode": {
    "name": "ipython",
    "version": 3
   },
   "file_extension": ".py",
   "mimetype": "text/x-python",
   "name": "python",
   "nbconvert_exporter": "python",
   "pygments_lexer": "ipython3",
   "version": "3.6.1"
  }
 },
 "nbformat": 4,
 "nbformat_minor": 2
}
