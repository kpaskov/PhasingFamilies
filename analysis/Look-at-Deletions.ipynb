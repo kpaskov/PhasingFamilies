{
 "cells": [
  {
   "cell_type": "code",
   "execution_count": 2,
   "metadata": {},
   "outputs": [],
   "source": [
    "chrom = '11'\n",
    "family_sizes = [3, 4, 5, 6]\n",
    "phase_dir = '../phased_ihart'\n",
    "data_dir = '../split_gen_ihart'\n"
   ]
  },
  {
   "cell_type": "code",
   "execution_count": 3,
   "metadata": {},
   "outputs": [],
   "source": [
    "ped_files = ['../data/160826.ped', '../data/ssc.ped']\n",
    "# Affection (0=unknown; 1=unaffected; 2=affected)\n",
    "child_id_to_affected = dict()\n",
    "child_id_to_sex = dict()\n",
    "\n",
    "for ped_file in ped_files:\n",
    "    with open(ped_file, 'r') as f:\n",
    "        for line in f:\n",
    "            pieces = line.strip().split('\\t')\n",
    "            if len(pieces) >= 6:\n",
    "                fam_id, child_id, f_id, m_id, sex, disease_status = pieces[0:6]\n",
    "                child_id_to_affected[child_id] = disease_status\n",
    "                child_id_to_sex[child_id] = sex"
   ]
  },
  {
   "cell_type": "code",
   "execution_count": 4,
   "metadata": {},
   "outputs": [],
   "source": [
    "# From GRCh37.p13 https://www.ncbi.nlm.nih.gov/grc/human/data?asm=GRCh37.p13\n",
    "chrom_lengths = {\n",
    "\t'1': 249250621,\n",
    "\t'2': 243199373,\n",
    "\t'3': 198022430,\n",
    "\t'4': 191154276,\n",
    "\t'5': 180915260,\n",
    "\t'6': 171115067,\n",
    "\t'7': 159138663,\n",
    "\t'8': 146364022,\n",
    "\t'9': 141213431,\n",
    "\t'10': 135534747,\n",
    "\t'11': 135006516,\n",
    "\t'12': 133851895,\n",
    "\t'13': 115169878,\n",
    "\t'14': 107349540,\n",
    "\t'15': 102531392,\n",
    "\t'16': 90354753,\n",
    "\t'17': 81195210,\n",
    "\t'18': 78077248,\n",
    "\t'19': 59128983,\n",
    "\t'20': 63025520,\n",
    "\t'21': 48129895,\n",
    "\t'22': 51304566,\n",
    "\t'X': 155270560,\n",
    "\t'Y': 59373566\n",
    "}\n",
    "chrom_length = chrom_lengths[chrom]\n"
   ]
  },
  {
   "cell_type": "code",
   "execution_count": 5,
   "metadata": {},
   "outputs": [],
   "source": [
    "# Pull cytogenetic coordinates\n",
    "with open('../data/cytoBand.txt', 'r') as f:\n",
    "    xticks, xticklabels = [], []\n",
    "    for line in f:\n",
    "        pieces = line.strip().split()\n",
    "        if pieces[0] == 'chr%s' % chrom:\n",
    "            xticks.append(int(pieces[1]))\n",
    "            xticklabels.append(pieces[3])"
   ]
  },
  {
   "cell_type": "code",
   "execution_count": 6,
   "metadata": {},
   "outputs": [],
   "source": [
    "# pull families with sequence data\n",
    "sample_file = '%s/chr.%s.gen.samples.txt' % (data_dir, chrom)\n",
    "with open(sample_file, 'r') as f:\n",
    "    sample_ids = [line.strip() for line in f]\n",
    "sample_id_to_index = dict([(sample_id, i) for i, sample_id in enumerate(sample_ids)])"
   ]
  },
  {
   "cell_type": "code",
   "execution_count": 7,
   "metadata": {},
   "outputs": [],
   "source": [
    "import numpy as np\n",
    "\n",
    "# use only \"cleaned\" variants - must be SNPs\n",
    "coordinates = np.load('%s/chr.%s.gen.coordinates.npy' % (data_dir,  chrom))\n",
    "snp_positions = coordinates[:, 1]\n",
    "snp_indices = coordinates[:, 2]==1\n",
    "snp_positions = snp_positions[snp_indices]"
   ]
  },
  {
   "cell_type": "code",
   "execution_count": 8,
   "metadata": {},
   "outputs": [
    {
     "name": "stdout",
     "output_type": "stream",
     "text": [
      "chrom shape 4610 3473317\n"
     ]
    }
   ],
   "source": [
    "from scipy import sparse\n",
    "from os import listdir\n",
    "\n",
    "# pull genotype data from .npz\n",
    "gen_files = sorted([f for f in listdir(data_dir) if ('chr.%s' % chrom) in f and 'gen.npz' in f])\n",
    "whole_chrom = sparse.hstack([sparse.load_npz('%s/%s' % (data_dir, gen_file)) for gen_file in gen_files])\n",
    "whole_chrom = whole_chrom[:, snp_indices]\n",
    "\n",
    "total_inds, n = whole_chrom.shape\n",
    "print('chrom shape', total_inds, n)"
   ]
  },
  {
   "cell_type": "code",
   "execution_count": 9,
   "metadata": {},
   "outputs": [],
   "source": [
    "del_pos = set()\n",
    "for j in family_sizes:\n",
    "    # load deletions\n",
    "    with open('%s/chr.%s.familysize.%d.phased.txt' % (phase_dir, chrom, j), 'r')  as f:\n",
    "        next(f) # skip header\n",
    "        for line in f:\n",
    "            pieces = line.strip().split('\\t')\n",
    "            start_pos, end_pos = [int(x) for x in pieces[(2+(j*2)):(4+(j*2))]]\n",
    "            del_pos.add(start_pos)\n",
    "            del_pos.add(end_pos)\n",
    "del_pos = np.asarray(sorted(del_pos), dtype=int)\n",
    "pos_to_index = dict([(x, i) for i, x in enumerate(del_pos)])"
   ]
  },
  {
   "cell_type": "code",
   "execution_count": 31,
   "metadata": {},
   "outputs": [
    {
     "name": "stdout",
     "output_type": "stream",
     "text": [
      "18 families of size 3\n",
      "436 families of size 4\n",
      "357 families of size 5\n",
      "56 families of size 6\n",
      "Chrom 11 total families 867\n"
     ]
    }
   ],
   "source": [
    "from collections import defaultdict\n",
    "\n",
    "# load deletions from all chromosomes\n",
    "deletions = -np.ones((whole_chrom.shape[0], len(del_pos), 2), dtype=np.int8)\n",
    "inheritance = -np.ones((whole_chrom.shape[0], len(del_pos), 2), dtype=np.int8)\n",
    "masks = 2*np.ones((whole_chrom.shape[0], len(del_pos)), dtype=np.int8)\n",
    "family_to_individuals = dict()\n",
    "\n",
    "fams = set()\n",
    "parents = set()\n",
    "children = set()\n",
    "for j in family_sizes:\n",
    "    with open('%s/chr.%s.familysize.%d.families.txt' % (phase_dir, chrom, j), 'r')  as f:\n",
    "        next(f) # skip header\n",
    "        num_fams_of_size = 0\n",
    "        for line in f:\n",
    "            pieces = line.strip().split('\\t')\n",
    "            family_key = pieces[0]\n",
    "            individuals = pieces[1:(1+j)]\n",
    "            family_to_individuals[family_key] = individuals\n",
    "            fams.add(family_key)\n",
    "            parents.add(individuals[0])\n",
    "            parents.add(individuals[1])\n",
    "            children.update(individuals[2:])\n",
    "            num_fams_of_size += 1\n",
    "        print('%d families of size %d' % (num_fams_of_size, j))\n",
    "                \n",
    "    # load deletions\n",
    "    with open('%s/chr.%s.familysize.%d.phased.txt' % (phase_dir, chrom, j), 'r')  as f:\n",
    "        next(f) # skip header\n",
    "        for line in f:\n",
    "            pieces = line.strip().split('\\t')\n",
    "            family_key = pieces[0]\n",
    "            inheritance_state = [int(x) for x in pieces[1:(2+(j*2))]]\n",
    "            start_pos, end_pos = [int(x) for x in pieces[(2+(j*2)):(4+(j*2))]]\n",
    "            start_index, end_index = pos_to_index[start_pos], pos_to_index[end_pos]\n",
    "            length = end_pos - start_pos + 1\n",
    "            assert length > 0\n",
    "            individuals = family_to_individuals[family_key] \n",
    "            \n",
    "            for ind in individuals:\n",
    "                masks[sample_id_to_index[ind], start_index:(end_index+1)] = inheritance_state[-1]\n",
    "                \n",
    "            if inheritance_state[-1] != 1:\n",
    "            \n",
    "                # children\n",
    "                for k, child_id in enumerate(individuals[2:]):\n",
    "                    mat, pat = inheritance_state[(4+(2*k)):(6+(2*k))]\n",
    "\n",
    "                    inheritance[sample_id_to_index[child_id], start_index:(end_index+1), 0] = mat\n",
    "                    inheritance[sample_id_to_index[child_id], start_index:(end_index+1), 1] = pat\n",
    "\n",
    "                    mat_del, pat_del = None, None\n",
    "                    if mat >= 0 and inheritance_state[mat] >= 0:\n",
    "                        mat_del = inheritance_state[mat]==0\n",
    "                    elif mat == -1 and inheritance_state[0] == inheritance_state[1] and inheritance_state[0] >= 0:\n",
    "                        mat_del = inheritance_state[0]==0\n",
    "\n",
    "                    if pat >= 0 and inheritance_state[2+pat] >= 0:\n",
    "                        pat_del = inheritance_state[2+pat]==0\n",
    "                    elif pat == -1 and inheritance_state[2] == inheritance_state[3] and inheritance_state[2] >= 0:\n",
    "                        pat_del = inheritance_state[2]==0\n",
    "\n",
    "                    if mat_del is not None:\n",
    "                        if mat_del:\n",
    "                            deletions[sample_id_to_index[child_id], start_index:(end_index+1), 0] = 1\n",
    "                        else:\n",
    "                            deletions[sample_id_to_index[child_id], start_index:(end_index+1), 0] = 0\n",
    "\n",
    "                    if pat_del is not None:\n",
    "                        if pat_del:\n",
    "                            deletions[sample_id_to_index[child_id], start_index:(end_index+1), 1] = 1\n",
    "                        else:\n",
    "                            deletions[sample_id_to_index[child_id], start_index:(end_index+1), 1] = 0\n",
    "\n",
    "                # decide how many deletions mom and dad have\n",
    "                mom_del, dad_del = None, None\n",
    "                if inheritance_state[0] == 0 or inheritance_state[1] == 0:\n",
    "                    deletions[sample_id_to_index[individuals[0]], start_index:(end_index+1), 0] = 1\n",
    "                if inheritance_state[2] == 0 or inheritance_state[3] == 0:\n",
    "                    deletions[sample_id_to_index[individuals[1]], start_index:(end_index+1), 1] = 1\n",
    "                \n",
    "print('Chrom', chrom, 'total families', len(fams))"
   ]
  },
  {
   "cell_type": "code",
   "execution_count": 40,
   "metadata": {},
   "outputs": [
    {
     "name": "stdout",
     "output_type": "stream",
     "text": [
      "[ True  True  True ...  True  True  True]\n",
      "700\n",
      "700\n",
      "31869600\n",
      "17215943\n"
     ]
    }
   ],
   "source": [
    "has_phase = ~np.any(masks==2, axis=1)\n",
    "\n",
    "print(has_phase)\n",
    "print(np.sum(np.any(masks==2, axis=1)))\n",
    "print(np.sum(np.all(masks==2, axis=1)))\n",
    "\n",
    "print(np.sum(masks==2))\n",
    "print(np.sum(masks==1))"
   ]
  },
  {
   "cell_type": "markdown",
   "metadata": {},
   "source": [
    "# Take a look at specific region"
   ]
  },
  {
   "cell_type": "code",
   "execution_count": 41,
   "metadata": {},
   "outputs": [],
   "source": [
    "start_pos = 85339733\n",
    "end_pos = 85342186"
   ]
  },
  {
   "cell_type": "code",
   "execution_count": 42,
   "metadata": {},
   "outputs": [],
   "source": [
    "pvalue_dir = '../parental_differences_ihart'\n",
    "sex_bias = np.load('%s/chr.%s.logpvalues.npy' % (pvalue_dir, chrom))"
   ]
  },
  {
   "cell_type": "code",
   "execution_count": 43,
   "metadata": {},
   "outputs": [
    {
     "name": "stdout",
     "output_type": "stream",
     "text": [
      "deletions 0\n"
     ]
    },
    {
     "data": {
      "image/png": "[encoded data removed]",
      "text/plain": [
       "<Figure size 1080x720 with 3 Axes>"
      ]
     },
     "metadata": {},
     "output_type": "display_data"
    }
   ],
   "source": [
    "import matplotlib.pyplot as plt\n",
    "\n",
    "indices = (snp_positions >= start_pos) & (snp_positions <= end_pos)\n",
    "gen_data = whole_chrom[:, indices].A\n",
    "sex_bias_data = sex_bias[indices, :]\n",
    "pos_data = snp_positions[indices]\n",
    "\n",
    "plt.figure(figsize=(15, 10))\n",
    "\n",
    "ax = plt.subplot(3, 1, 1)\n",
    "plt.imshow(gen_data[has_phase, :], aspect='auto')\n",
    "plt.xticks(range(pos_data.shape[0]), pos_data, rotation=90)\n",
    "\n",
    "plt.subplot(3, 1, 2, sharex=ax)\n",
    "plt.plot(sex_bias_data)\n",
    "plt.xticks(range(pos_data.shape[0]), pos_data, rotation=90)\n",
    "\n",
    "start_index = np.max([i for i, p in enumerate(del_pos) if p <= start_pos])\n",
    "end_index = np.min([i for i, p in enumerate(del_pos) if p >= end_pos])\n",
    "del_data = np.hstack((deletions[:, start_index:end_index, 0], deletions[:, start_index:end_index, 1]))\n",
    "inh_data = np.hstack((inheritance[:, start_index:end_index, 0], inheritance[:, start_index:end_index, 1]))\n",
    "mask_data = masks[:, start_index:end_index]\n",
    "\n",
    "print('deletions', np.sum(del_data==1))\n",
    "\n",
    "plt.subplot(3, 1, 3)\n",
    "plt.imshow(np.hstack((del_data[has_phase, :], inh_data[has_phase, :], mask_data[has_phase])).T, aspect='auto')\n",
    "\n",
    "plt.tight_layout()\n",
    "plt.show()"
   ]
  },
  {
   "cell_type": "code",
   "execution_count": null,
   "metadata": {},
   "outputs": [],
   "source": []
  },
  {
   "cell_type": "code",
   "execution_count": null,
   "metadata": {},
   "outputs": [],
   "source": [
    "plt.figure(figsize=(15, 5))\n",
    "plt.imshow(inheritance[child_indices, :, 1], aspect='auto', vmin=-1, vmax=1)\n",
    "plt.show()"
   ]
  },
  {
   "cell_type": "code",
   "execution_count": 196,
   "metadata": {},
   "outputs": [
    {
     "name": "stdout",
     "output_type": "stream",
     "text": [
      "['AU1251202', 'AU1251201', 'AU1251302', 'AU1251303']\n",
      "['2', '1', '2', '2']\n",
      "['1', '1', '2', '2']\n"
     ]
    }
   ],
   "source": [
    "import random\n",
    "\n",
    "#family = ('AU0033', 'AU003301', 'AU003302')\n",
    "#family = ('AU1549', 'AU1549202', 'AU1549201')\n",
    "#family = ('AU0941', 'AU0941202', 'AU0941201')\n",
    "# 'AU062501', 'AU062502' deletion in mom and dad\n",
    "\n",
    "#individuals = family_to_individuals['.'.join(family)]  \n",
    "\n",
    "famkey, individuals = random.choice(list([(k, v) for k, v in family_to_individuals.items()]))\n",
    "family_indices = [sample_id_to_index[x] for x in individuals]\n",
    "print(individuals)\n",
    "print([child_id_to_sex[x] for x in individuals])\n",
    "print([child_id_to_affected[x] for x in individuals])\n"
   ]
  },
  {
   "cell_type": "code",
   "execution_count": 197,
   "metadata": {},
   "outputs": [
    {
     "name": "stdout",
     "output_type": "stream",
     "text": [
      "AU1251.AU1251202.AU1251201\n"
     ]
    }
   ],
   "source": [
    "print(famkey)"
   ]
  },
  {
   "cell_type": "code",
   "execution_count": 198,
   "metadata": {},
   "outputs": [
    {
     "data": {
      "image/png": "[encoded data removed]",
      "text/plain": [
       "<Figure size 1080x504 with 4 Axes>"
      ]
     },
     "metadata": {},
     "output_type": "display_data"
    }
   ],
   "source": [
    "plt.figure(figsize=(15, 7))\n",
    "plt.subplot(5, 1, 1)\n",
    "plt.imshow(deletions[family_indices, :, 0], aspect='auto', vmin=-1, vmax=1)\n",
    "plt.subplot(5, 1, 2)\n",
    "plt.imshow(deletions[family_indices, :, 1], aspect='auto', vmin=-1, vmax=1)\n",
    "plt.subplot(5, 1, 3)\n",
    "plt.imshow(inheritance[family_indices, :, 0], aspect='auto', vmin=-1, vmax=1)\n",
    "plt.subplot(5, 1, 4)\n",
    "plt.imshow(inheritance[family_indices, :, 1], aspect='auto', vmin=-1, vmax=1)\n",
    "\n",
    "plt.show()"
   ]
  },
  {
   "cell_type": "code",
   "execution_count": 202,
   "metadata": {},
   "outputs": [
    {
     "name": "stdout",
     "output_type": "stream",
     "text": [
      "[20235 20241 27856]\n",
      "[20319 28343]\n"
     ]
    }
   ],
   "source": [
    "famdel = deletions[family_indices, :]\n",
    "starts = np.where(((famdel[0, 1:, 0]==1) & (famdel[0, :-1, 0]!=1)) | ((famdel[1, 1:, 1]==1) & (famdel[1, :-1, 1]!=1)))[0]\n",
    "ends = np.where(((famdel[0, 1:, 0]!=1) & (famdel[0, :-1, 0]==1)) | ((famdel[1, 1:, 1]!=1) & (famdel[1, :-1, 1]==1)))[0]\n",
    "print(starts)\n",
    "print(ends)"
   ]
  },
  {
   "cell_type": "code",
   "execution_count": 203,
   "metadata": {
    "collapsed": true
   },
   "outputs": [],
   "source": [
    "famgen = whole_chrom[family_indices, :].A"
   ]
  },
  {
   "cell_type": "code",
   "execution_count": 204,
   "metadata": {},
   "outputs": [
    {
     "name": "stdout",
     "output_type": "stream",
     "text": [
      "35851614 35863028 11414\n"
     ]
    },
    {
     "data": {
      "image/png": "[encoded data removed]",
      "text/plain": [
       "<Figure size 1080x720 with 3 Axes>"
      ]
     },
     "metadata": {},
     "output_type": "display_data"
    }
   ],
   "source": [
    "# 31734011 31989435 255424 either bad phasing or de novo deletion\n",
    "# 104408027 104529672 121645 who knows?\n",
    "\n",
    "start, end = random.choice(list(zip(starts, ends)))\n",
    "start_pos, end_pos = del_pos[start], del_pos[end]\n",
    "print(start_pos, end_pos, end_pos-start_pos)\n",
    "\n",
    "plt.figure(figsize=(15, 10))\n",
    "\n",
    "plt.subplot(3, 1, 1)\n",
    "plt.imshow(famgen[:, (snp_positions>=start_pos) & (snp_positions<=end_pos)], aspect='auto', vmin=-1, vmax=2)\n",
    "\n",
    "plt.subplot(3, 1, 2)\n",
    "plt.imshow(famdel[:, (del_pos>=start_pos) & (del_pos<=end_pos), 0], aspect='auto', vmin=-1, vmax=1)\n",
    "\n",
    "plt.subplot(3, 1, 3)\n",
    "plt.imshow(famdel[:, (del_pos>=start_pos) & (del_pos<=end_pos), 1], aspect='auto', vmin=-1, vmax=1)\n",
    "\n",
    "plt.show()\n"
   ]
  },
  {
   "cell_type": "code",
   "execution_count": 213,
   "metadata": {},
   "outputs": [
    {
     "name": "stdout",
     "output_type": "stream",
     "text": [
      "[ 5040 11485 15061 16303]\n",
      "[ 7381 12670 16233 16479]\n"
     ]
    }
   ],
   "source": [
    "starts = np.where(((faminh[2, 1:, 0]==-1) & (faminh[2, :-1, 0]!=-1)))[0]\n",
    "ends = np.where(((faminh[2, 1:, 0]!=-1) & (faminh[2, :-1, 0]==-1)))[0]\n",
    "print(starts)\n",
    "print(ends)"
   ]
  },
  {
   "cell_type": "code",
   "execution_count": 215,
   "metadata": {},
   "outputs": [
    {
     "name": "stdout",
     "output_type": "stream",
     "text": [
      "8785198 9413162 627964\n"
     ]
    },
    {
     "data": {
      "image/png": "[encoded data removed]",
      "text/plain": [
       "<Figure size 1080x720 with 3 Axes>"
      ]
     },
     "metadata": {},
     "output_type": "display_data"
    }
   ],
   "source": [
    "# 31734011 31989435 255424 either bad phasing or de novo deletion\n",
    "# 104408027 104529672 121645 who knows?\n",
    "faminh = inheritance[family_indices, :]\n",
    "\n",
    "start, end = random.choice(list(zip(starts, ends)))\n",
    "start_pos, end_pos = del_pos[start]-5000, del_pos[end]+5000\n",
    "print(start_pos, end_pos, end_pos-start_pos)\n",
    "\n",
    "plt.figure(figsize=(15, 10))\n",
    "\n",
    "plt.subplot(3, 1, 1)\n",
    "plt.imshow(famgen[:, (snp_positions>=start_pos) & (snp_positions<=end_pos)], aspect='auto', vmin=-1, vmax=2)\n",
    "\n",
    "plt.subplot(3, 1, 2)\n",
    "plt.imshow(faminh[:, (del_pos>=start_pos) & (del_pos<=end_pos), 0], aspect='auto', vmin=-1, vmax=1)\n",
    "\n",
    "plt.subplot(3, 1, 3)\n",
    "plt.imshow(faminh[:, (del_pos>=start_pos) & (del_pos<=end_pos), 1], aspect='auto', vmin=-1, vmax=1)\n",
    "\n",
    "plt.show()\n"
   ]
  },
  {
   "cell_type": "code",
   "execution_count": 450,
   "metadata": {},
   "outputs": [
    {
     "name": "stdout",
     "output_type": "stream",
     "text": [
      "cycler('color', ['#1f77b4', '#ff7f0e', '#2ca02c', '#d62728', '#9467bd', '#8c564b', '#e377c2', '#7f7f7f', '#bcbd22', '#17becf'])\n"
     ]
    }
   ],
   "source": [
    "import matplotlib\n",
    "print(matplotlib.rcParams['axes.prop_cycle'])"
   ]
  },
  {
   "cell_type": "code",
   "execution_count": 216,
   "metadata": {},
   "outputs": [
    {
     "data": {
      "image/png": "[encoded data removed]",
      "text/plain": [
       "<Figure size 432x288 with 1 Axes>"
      ]
     },
     "metadata": {},
     "output_type": "display_data"
    }
   ],
   "source": [
    "child_indices = [sample_id_to_index[x] for x in children]\n",
    "plt.hist(np.sum(inheritance[child_indices, :, :]==-1, axis=(0, 2)), bins=range(0, 100, 5))\n",
    "plt.show()"
   ]
  },
  {
   "cell_type": "code",
   "execution_count": null,
   "metadata": {
    "collapsed": true
   },
   "outputs": [],
   "source": []
  }
 ],
 "metadata": {
  "kernelspec": {
   "display_name": "Python 3",
   "language": "python",
   "name": "python3"
  },
  "language_info": {
   "codemirror_mode": {
    "name": "ipython",
    "version": 3
   },
   "file_extension": ".py",
   "mimetype": "text/x-python",
   "name": "python",
   "nbconvert_exporter": "python",
   "pygments_lexer": "ipython3",
   "version": "3.6.6"
  }
 },
 "nbformat": 4,
 "nbformat_minor": 2
}
