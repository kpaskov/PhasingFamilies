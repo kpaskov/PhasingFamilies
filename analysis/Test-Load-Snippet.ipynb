{
 "cells": [
  {
   "cell_type": "code",
   "execution_count": 70,
   "metadata": {},
   "outputs": [],
   "source": [
    "import numpy as np\n",
    "import scipy.sparse as sparse\n",
    "from os import listdir\n",
    "import matplotlib.pyplot as plt"
   ]
  },
  {
   "cell_type": "code",
   "execution_count": 195,
   "metadata": {},
   "outputs": [
    {
     "name": "stdout",
     "output_type": "stream",
     "text": [
      "Individuals of interest: 13249\n",
      "X\n",
      "Sites pulled from vcf: 16790\n",
      "Removed 621 sites that are not bi-allelic SNPs\n",
      "Removed 2624 sites that do not pass GATK\n",
      "Removed 6085 sites with >0.010 missing\n",
      "Removed 451 sites where everyone is hom-ref\n",
      "Final matrix (13249, 13545) (13545,)\n",
      "Y\n",
      "Sites pulled from vcf: 1454\n",
      "Removed 52 sites that are not bi-allelic SNPs\n",
      "Removed 51 sites that do not pass GATK\n",
      "Removed 1163 sites with >0.010 missing\n",
      "Removed 127 sites where everyone is hom-ref\n",
      "Final matrix (13249, 1351) (1351,)\n"
     ]
    }
   ],
   "source": [
    "\n",
    "\n",
    "#chroms = [str(x) for x in range(1, 23)]\n",
    "chroms = ['X', 'Y']\n",
    "#data_dir = '../split_gen_ihart'\n",
    "data_dir = '../split_gen_spark'\n",
    "ped_file = '../data/spark.ped'\n",
    "\n",
    "# read samples\n",
    "sample_file = '%s/chr.%s.gen.samples.txt' % (data_dir, chroms[0])\n",
    "with open(sample_file, 'r') as f:\n",
    "    sample_id_to_index = dict([(line.strip(), i) for i, line in enumerate(f)])\n",
    "\n",
    "# read family structure\n",
    "parents = set()\n",
    "children = set()\n",
    "mom_dad_pairs = list()\n",
    "with open(ped_file, 'r') as f:\n",
    "    for line in f:\n",
    "        fam_id, ind_id, dad_id, mom_id, sex, disease_status = line.strip().split('\\t')[:6]\n",
    "        # sex: 1=male, 2=female\n",
    "        # disease status: 1=unaffected, 2=affected\n",
    "        if dad_id != '0' and dad_id in sample_id_to_index:\n",
    "            parents.add(dad_id)\n",
    "        if mom_id != '0' and mom_id in sample_id_to_index:\n",
    "            parents.add(mom_id)\n",
    "        if dad_id != '0' and dad_id in sample_id_to_index and mom_id != '0' and mom_id in sample_id_to_index:\n",
    "            mom_dad_pairs.append((sample_id_to_index[mom_id], sample_id_to_index[dad_id]))\n",
    "        if (dad_id != '0' or mom_id != '0') and ind_id in sample_id_to_index:\n",
    "            children.add(ind_id)\n",
    "        \n",
    "# only interested in children, not parents\n",
    "samples_of_interest = sorted(children | parents)\n",
    "indices = [sample_id_to_index[s] for s in samples_of_interest]\n",
    "print('Individuals of interest:', len(indices))\n",
    "\n",
    "all_gen_data = []\n",
    "all_positions = []\n",
    "for chrom in chroms:\n",
    "    print(chrom)\n",
    "    \n",
    "    # load genotypes\n",
    "    gen_files = sorted([f for f in listdir(data_dir) if ('chr.%s.' % chrom) in f and 'gen.npz' in f])\n",
    "\n",
    "    # pull snp positions\n",
    "    pos_data = np.load('%s/chr.%s.gen.coordinates.npy' % (data_dir, chrom))\n",
    "    is_snp = pos_data[:, 2].astype(bool)\n",
    "    is_pass = pos_data[:, 3].astype(bool)\n",
    "    #is_pass = np.ones(is_snp.shape, dtype=bool)\n",
    "    snp_positions = pos_data[:, 1]\n",
    "    print('Sites pulled from vcf:', snp_positions.shape[0])\n",
    "\n",
    "    # pull PASS (from GATK)\n",
    "    #is_pass = np.load('%s/chr.%s.pass.npy' % (data_dir, chrom))\n",
    "\n",
    "    # Pull data together\n",
    "    A = sparse.hstack([sparse.load_npz('%s/%s' % (data_dir, gen_file)) for gen_file in gen_files])\n",
    "\n",
    "    # only look at snps that PASS GATK filter\n",
    "    A = A[:, is_snp & is_pass]\n",
    "    snp_positions = snp_positions[is_snp & is_pass]\n",
    "    print('Removed %d sites that are not bi-allelic SNPs' % np.sum(~is_snp))\n",
    "    print('Removed %d sites that do not pass GATK' % np.sum(is_snp & ~is_pass))\n",
    "\n",
    "    # sparse to dense\n",
    "    A = A.A\n",
    "\n",
    "    # filter out sites with too many missing values\n",
    "    missing_cutoff = 0.01\n",
    "    lots_of_missing_indices = np.sum(A<0, axis=0) > 0.01*len(indices)\n",
    "    #A = A[:, ~lots_of_missing_indices]\n",
    "    #snp_positions = snp_positions[~lots_of_missing_indices]\n",
    "    print('Removed %d sites with >%0.3f missing' % (np.sum(lots_of_missing_indices), missing_cutoff))\n",
    "\n",
    "    # remove sites where everyone is homref or missing\n",
    "    has_variants = np.any(A>0, axis=0)\n",
    "    #A = A[:, has_variants]\n",
    "    #snp_positions = snp_positions[has_variants]\n",
    "    print('Removed %d sites where everyone is hom-ref' % np.sum(~has_variants))\n",
    "\n",
    "    # remaining missing -> hom ref\n",
    "    #print('Changed %d calls from missing (-1) to hom-ref (0)' % np.sum(A<0))\n",
    "    #A[A<0] = 0\n",
    "\n",
    "    print('Final matrix', A.shape, snp_positions.shape)\n",
    "    \n",
    "    all_gen_data.append(A)\n",
    "    all_positions.append(snp_positions)\n"
   ]
  },
  {
   "cell_type": "code",
   "execution_count": 169,
   "metadata": {},
   "outputs": [
    {
     "name": "stdout",
     "output_type": "stream",
     "text": [
      "819 780\n"
     ]
    }
   ],
   "source": [
    "# pull male/female indices\n",
    "with open('%s/chr.%s.gen.samples.txt' % (data_dir, chrom), 'r') as f:\n",
    "    sample_ids = [x.strip() for x in f]\n",
    "\n",
    "sample_id_to_sex = dict()\n",
    "# Sex (1=male; 2=female; other=unknown)\n",
    "with open(ped_file, 'r') as f:\n",
    "    for line in f:\n",
    "        pieces = line.strip().split('\\t')\n",
    "        if len(pieces) >= 6:\n",
    "            fam_id, sample_id, f_id, m_id, sex, disease_status = pieces[0:6]\n",
    "            sample_id_to_sex[sample_id] = sex\n",
    "            \n",
    "is_male = np.array([x in sample_id_to_sex and sample_id_to_sex[x]=='1' for x in sample_ids], dtype=bool)\n",
    "is_female = np.array([x in sample_id_to_sex and sample_id_to_sex[x]=='2' for x in sample_ids], dtype=bool)\n",
    "print(np.sum(is_male), np.sum(is_female))"
   ]
  },
  {
   "cell_type": "code",
   "execution_count": 170,
   "metadata": {},
   "outputs": [
    {
     "name": "stdout",
     "output_type": "stream",
     "text": [
      "674 944\n",
      "348 316\n"
     ]
    }
   ],
   "source": [
    "is_parent = np.array([x in parents for x in sample_ids], dtype=bool)\n",
    "is_child = np.array([x in children for x in sample_ids], dtype=bool)\n",
    "\n",
    "is_mom = is_parent & is_female\n",
    "is_dad = is_parent & is_male\n",
    "\n",
    "print(np.sum(is_parent), np.sum(is_child))\n",
    "print(np.sum(is_mom), np.sum(is_dad))"
   ]
  },
  {
   "cell_type": "code",
   "execution_count": 171,
   "metadata": {},
   "outputs": [
    {
     "data": {
      "image/png": "[encoded data removed]",
      "text/plain": [
       "<Figure size 432x288 with 1 Axes>"
      ]
     },
     "metadata": {
      "needs_background": "light"
     },
     "output_type": "display_data"
    }
   ],
   "source": [
    "num_het_X = np.sum(all_gen_data[0]==1, axis=1)/all_gen_data[0].shape[1]\n",
    "num_missing_Y = np.sum(all_gen_data[1]<0, axis=1)/all_gen_data[1].shape[1]\n",
    "\n",
    "plt.scatter(num_het_X[is_male], num_missing_Y[is_male], alpha=0.5, marker='.')\n",
    "plt.scatter(num_het_X[is_female], num_missing_Y[is_female], alpha=0.5, marker='.')\n",
    "plt.xlabel('% Het X')\n",
    "plt.ylabel('% Missing Y')\n",
    "#plt.xlim([-.1, 1])\n",
    "#plt.ylim([-.1, 1])\n",
    "\n",
    "plt.show()"
   ]
  },
  {
   "cell_type": "code",
   "execution_count": 172,
   "metadata": {},
   "outputs": [
    {
     "data": {
      "image/png": "[encoded data removed]",
      "text/plain": [
       "<Figure size 432x288 with 1 Axes>"
      ]
     },
     "metadata": {
      "needs_background": "light"
     },
     "output_type": "display_data"
    }
   ],
   "source": [
    "plt.hist(num_missing_Y[is_male], log=True, bins=np.arange(0, 1.01, 0.01), alpha=0.5, label='male')\n",
    "#plt.hist(num_missing_Y[is_dad], log=True, bins=np.arange(0, 1.01, 0.01), alpha=0.5, label='dad')\n",
    "#plt.hist(num_missing_Y[is_child & is_male], log=True, bins=np.arange(0, 1.01, 0.01), alpha=0.5, label='son')\n",
    "\n",
    "plt.hist(num_missing_Y[is_female], log=True, bins=np.arange(0, 1.01, 0.01), alpha=0.5, label='female')\n",
    "#plt.hist(num_missing_Y[is_mom], log=True, bins=np.arange(0, 1.01, 0.01), alpha=0.5, label='mom')\n",
    "#plt.hist(num_missing_Y[is_child & is_female], log=True, bins=np.arange(0, 1.01, 0.01), alpha=0.5, label='daughter')\n",
    "\n",
    "plt.legend()\n",
    "plt.xlabel('% Missing Y Sites')\n",
    "plt.ylabel('Individuals')\n",
    "plt.show()"
   ]
  },
  {
   "cell_type": "code",
   "execution_count": 189,
   "metadata": {},
   "outputs": [],
   "source": [
    "homalt_m = np.sum(all_gen_data[0][is_male, :]==2, axis=0)\n",
    "het_m = np.sum(all_gen_data[0][is_male, :]==1, axis=0)\n",
    "miss_m = np.sum(all_gen_data[0][is_male, :]<0, axis=0)\n",
    "\n",
    "homalt_f = np.sum(all_gen_data[0][is_female, :]==2, axis=0)\n",
    "het_f = np.sum(all_gen_data[0][is_female, :]==1, axis=0)\n",
    "miss_f = np.sum(all_gen_data[0][is_female, :]<0, axis=0)\n",
    "\n",
    "af_m = (2*homalt_m + het_m)/(2*np.sum(is_male) - 2*miss_m)\n",
    "af_f = (2*homalt_f + het_f)/(2*np.sum(is_female) - 2*miss_f)\n",
    "\n",
    "percent_miss_m = miss_m/np.sum(is_male)\n",
    "percent_miss_f = miss_f/np.sum(is_female)\n",
    "\n",
    "pass_X = percent_miss_f < 0.10 "
   ]
  },
  {
   "cell_type": "code",
   "execution_count": 191,
   "metadata": {},
   "outputs": [
    {
     "name": "stderr",
     "output_type": "stream",
     "text": [
      "//anaconda3/lib/python3.7/site-packages/ipykernel/__main__.py:10: RuntimeWarning: divide by zero encountered in log10\n",
      "//anaconda3/lib/python3.7/site-packages/ipykernel/__main__.py:21: RuntimeWarning: divide by zero encountered in log10\n"
     ]
    },
    {
     "name": "stdout",
     "output_type": "stream",
     "text": [
      "y cutoff 0.257020757020757\n",
      "0.9973031283710896\n"
     ]
    },
    {
     "data": {
      "image/png": "[encoded data removed]",
      "text/plain": [
       "<Figure size 1080x720 with 4 Axes>"
      ]
     },
     "metadata": {
      "needs_background": "light"
     },
     "output_type": "display_data"
    }
   ],
   "source": [
    "plt.figure(figsize=(15, 10))\n",
    "\n",
    "plt.subplot(2, 2, 1)\n",
    "plt.hist(percent_miss_m[pass_X], log=True, bins=np.arange(0, 1.01, 0.01), alpha=0.5)\n",
    "plt.hist(percent_miss_m[~pass_X], log=True, bins=np.arange(0, 1.01, 0.01), alpha=0.5)\n",
    "plt.xlabel('% Missing')\n",
    "plt.ylabel('Variants')\n",
    "\n",
    "plt.subplot(2, 2, 2)\n",
    "plt.hist(np.log10(af_m), log=True, alpha=0.5, bins=np.arange(-5, 0.1, 0.1))\n",
    "plt.xlabel('log10(AF)')\n",
    "plt.ylabel('Variants')\n",
    "\n",
    "plt.subplot(2, 2, 3)\n",
    "plt.hist(percent_miss_f[pass_X], log=True, bins=np.arange(0, 1.01, 0.01), alpha=0.5)\n",
    "plt.hist(percent_miss_f[~pass_X], log=True, bins=np.arange(0, 1.01, 0.01), alpha=0.5)\n",
    "plt.xlabel('% Missing')\n",
    "plt.ylabel('Variants')\n",
    "\n",
    "plt.subplot(2, 2, 4)\n",
    "plt.hist(np.log10(af_f), log=True, alpha=0.5, bins=np.arange(-5, 0.1, 0.1))\n",
    "plt.xlabel('log10(AF)')\n",
    "plt.ylabel('Variants')\n",
    "\n",
    "Y_cutoff = np.quantile(percent_miss_m[~pass_X], 0.5)\n",
    "print('y cutoff', Y_cutoff)\n",
    "print(np.sum(pass_X)/pass_X.shape[0])\n",
    "\n",
    "plt.tight_layout()\n",
    "plt.show()"
   ]
  },
  {
   "cell_type": "code",
   "execution_count": 192,
   "metadata": {},
   "outputs": [],
   "source": [
    "homalt_m = np.sum(all_gen_data[1][is_male, :]==2, axis=0)\n",
    "het_m = np.sum(all_gen_data[1][is_male, :]==1, axis=0)\n",
    "miss_m = np.sum(all_gen_data[1][is_male, :]<0, axis=0)\n",
    "\n",
    "homalt_f = np.sum(all_gen_data[1][is_female, :]==2, axis=0)\n",
    "het_f = np.sum(all_gen_data[1][is_female, :]==1, axis=0)\n",
    "miss_f = np.sum(all_gen_data[1][is_female, :]<0, axis=0)\n",
    "\n",
    "af_m = (2*homalt_m + het_m)/(2*np.sum(is_male) - 2*miss_m)\n",
    "af_f = (2*homalt_f + het_f)/(2*np.sum(is_female) - 2*miss_f)\n",
    "\n",
    "percent_miss_m = miss_m/np.sum(is_male)\n",
    "percent_miss_f = miss_f/np.sum(is_female)"
   ]
  },
  {
   "cell_type": "code",
   "execution_count": 194,
   "metadata": {},
   "outputs": [
    {
     "name": "stderr",
     "output_type": "stream",
     "text": [
      "//anaconda3/lib/python3.7/site-packages/ipykernel/__main__.py:10: RuntimeWarning: divide by zero encountered in log10\n",
      "//anaconda3/lib/python3.7/site-packages/ipykernel/__main__.py:20: RuntimeWarning: divide by zero encountered in log10\n"
     ]
    },
    {
     "name": "stdout",
     "output_type": "stream",
     "text": [
      "0.983969465648855\n"
     ]
    },
    {
     "data": {
      "image/png": "[encoded data removed]",
      "text/plain": [
       "<Figure size 1080x720 with 4 Axes>"
      ]
     },
     "metadata": {
      "needs_background": "light"
     },
     "output_type": "display_data"
    }
   ],
   "source": [
    "plt.figure(figsize=(15, 10))\n",
    "\n",
    "plt.subplot(2, 2, 1)\n",
    "plt.hist(percent_miss_m, log=True, bins=np.arange(0, 1.01, 0.01), alpha=0.5)\n",
    "plt.xlabel('% Missing')\n",
    "plt.ylabel('Variants')\n",
    "plt.axvline(Y_cutoff, color='red')\n",
    "\n",
    "plt.subplot(2, 2, 2)\n",
    "plt.hist(np.log10(af_m), log=True, alpha=0.5, bins=np.arange(-5, 0.1, 0.1))\n",
    "plt.xlabel('log10(AF)')\n",
    "plt.ylabel('Variants')\n",
    "\n",
    "plt.subplot(2, 2, 3)\n",
    "plt.hist(percent_miss_f, log=True, bins=np.arange(0, 1.01, 0.01), alpha=0.5)\n",
    "plt.xlabel('% Missing')\n",
    "plt.ylabel('Variants')\n",
    "\n",
    "plt.subplot(2, 2, 4)\n",
    "plt.hist(np.log10(af_f), log=True, alpha=0.5, bins=np.arange(-5, 0.1, 0.1))\n",
    "plt.xlabel('log10(AF)')\n",
    "plt.ylabel('Variants')\n",
    "\n",
    "pass_Y = (percent_miss_m < Y_cutoff)\n",
    "print(np.sum(pass_Y)/pass_Y.shape[0])\n",
    "\n",
    "plt.tight_layout()\n",
    "plt.show()"
   ]
  },
  {
   "cell_type": "code",
   "execution_count": 14,
   "metadata": {},
   "outputs": [],
   "source": [
    "with open('../data/OMNI2.5_pruned_positions.txt', 'w+') as outf:\n",
    "    outf.write('# rsid\\tchromosome\\tposition\\n')\n",
    "    for chrom in [str(x) for x in range(1, 23)]:\n",
    "        with open('../../PrunediHART/%s.pruned.bim' % chrom) as f:\n",
    "            for line in f:\n",
    "                pieces = line.strip().split('\\t')\n",
    "                outf.write('.\\t%s\\t%s\\n' % (chrom, pieces[3]))\n",
    "    "
   ]
  },
  {
   "cell_type": "code",
   "execution_count": 29,
   "metadata": {},
   "outputs": [],
   "source": [
    "gen_files = sorted([f for f in listdir(data_dir) if ('chr.%s.' % chrom) in f and 'gen.npz' in f])\n",
    "\n",
    "# Pull data together\n",
    "A = sparse.hstack([sparse.load_npz('%s/%s' % (data_dir, gen_file)) for gen_file in gen_files])\n",
    "A = A[:, is_snp]\n",
    "\n",
    "# AF filter\n",
    "homalt = (A==2).sum(axis=0).A.flatten()\n",
    "het = (A==1).sum(axis=0).A.flatten()\n",
    "miss = (A<0).sum(axis=0).A.flatten()\n",
    "af = (2*homalt + het)/(2*gen_data.shape[0] - 2*miss)"
   ]
  },
  {
   "cell_type": "code",
   "execution_count": 32,
   "metadata": {},
   "outputs": [
    {
     "data": {
      "image/png": "[encoded data removed]",
      "text/plain": [
       "<Figure size 432x288 with 1 Axes>"
      ]
     },
     "metadata": {
      "needs_background": "light"
     },
     "output_type": "display_data"
    }
   ],
   "source": [
    "plt.hist(np.log10(af[af>0.01]))\n",
    "plt.show()"
   ]
  },
  {
   "cell_type": "code",
   "execution_count": 34,
   "metadata": {},
   "outputs": [
    {
     "data": {
      "image/png": "[encoded data removed]",
      "text/plain": [
       "<Figure size 432x288 with 1 Axes>"
      ]
     },
     "metadata": {
      "needs_background": "light"
     },
     "output_type": "display_data"
    }
   ],
   "source": [
    "plt.hist(miss[af>0.01]/A.shape[0])\n",
    "plt.show()"
   ]
  },
  {
   "cell_type": "code",
   "execution_count": 42,
   "metadata": {},
   "outputs": [
    {
     "name": "stdout",
     "output_type": "stream",
     "text": [
      "(13249, 13725)\n"
     ]
    }
   ],
   "source": [
    "print(A.shape)"
   ]
  },
  {
   "cell_type": "code",
   "execution_count": null,
   "metadata": {},
   "outputs": [],
   "source": []
  }
 ],
 "metadata": {
  "kernelspec": {
   "display_name": "Python 3",
   "language": "python",
   "name": "python3"
  },
  "language_info": {
   "codemirror_mode": {
    "name": "ipython",
    "version": 3
   },
   "file_extension": ".py",
   "mimetype": "text/x-python",
   "name": "python",
   "nbconvert_exporter": "python",
   "pygments_lexer": "ipython3",
   "version": "3.7.3"
  }
 },
 "nbformat": 4,
 "nbformat_minor": 2
}
