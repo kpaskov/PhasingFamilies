{
 "cells": [
  {
   "cell_type": "code",
   "execution_count": 9,
   "metadata": {},
   "outputs": [
    {
     "name": "stdout",
     "output_type": "stream",
     "text": [
      "Individuals of interest: 2700\n",
      "22\n",
      "Sites pulled from vcf: 1096535\n",
      "Removed 91886 sites that are not bi-allelic SNPs\n",
      "Removed 70557 sites that do not pass GATK\n"
     ]
    },
    {
     "ename": "KeyboardInterrupt",
     "evalue": "",
     "output_type": "error",
     "traceback": [
      "\u001b[0;31m---------------------------------------------------------------------------\u001b[0m",
      "\u001b[0;31mKeyboardInterrupt\u001b[0m                         Traceback (most recent call last)",
      "\u001b[0;32m<ipython-input-9-54a82b8b911c>\u001b[0m in \u001b[0;36m<module>\u001b[0;34m\u001b[0m\n\u001b[1;32m     65\u001b[0m     \u001b[0;31m# filter out sites with too many missing values\u001b[0m\u001b[0;34m\u001b[0m\u001b[0;34m\u001b[0m\u001b[0;34m\u001b[0m\u001b[0m\n\u001b[1;32m     66\u001b[0m     \u001b[0mmissing_cutoff\u001b[0m \u001b[0;34m=\u001b[0m \u001b[0;36m0.01\u001b[0m\u001b[0;34m\u001b[0m\u001b[0;34m\u001b[0m\u001b[0m\n\u001b[0;32m---> 67\u001b[0;31m     \u001b[0mlots_of_missing_indices\u001b[0m \u001b[0;34m=\u001b[0m \u001b[0mnp\u001b[0m\u001b[0;34m.\u001b[0m\u001b[0msum\u001b[0m\u001b[0;34m(\u001b[0m\u001b[0mA\u001b[0m\u001b[0;34m<\u001b[0m\u001b[0;36m0\u001b[0m\u001b[0;34m,\u001b[0m \u001b[0maxis\u001b[0m\u001b[0;34m=\u001b[0m\u001b[0;36m0\u001b[0m\u001b[0;34m)\u001b[0m \u001b[0;34m>\u001b[0m \u001b[0;36m0.01\u001b[0m\u001b[0;34m*\u001b[0m\u001b[0mlen\u001b[0m\u001b[0;34m(\u001b[0m\u001b[0mindices\u001b[0m\u001b[0;34m)\u001b[0m\u001b[0;34m\u001b[0m\u001b[0;34m\u001b[0m\u001b[0m\n\u001b[0m\u001b[1;32m     68\u001b[0m     \u001b[0;31m#A = A[:, ~lots_of_missing_indices]\u001b[0m\u001b[0;34m\u001b[0m\u001b[0;34m\u001b[0m\u001b[0;34m\u001b[0m\u001b[0m\n\u001b[1;32m     69\u001b[0m     \u001b[0;31m#snp_positions = snp_positions[~lots_of_missing_indices]\u001b[0m\u001b[0;34m\u001b[0m\u001b[0;34m\u001b[0m\u001b[0;34m\u001b[0m\u001b[0m\n",
      "\u001b[0;31mKeyboardInterrupt\u001b[0m: "
     ]
    }
   ],
   "source": [
    "import numpy as np\n",
    "import scipy.sparse as sparse\n",
    "from os import listdir\n",
    "\n",
    "chroms = [str(x) for x in range(22, 23)]\n",
    "#data_dir = '../split_gen_ihart'\n",
    "data_dir = '../split_gen_spark'\n",
    "ped_file = '../data/v34.vcf.ped'\n",
    "\n",
    "# read samples\n",
    "sample_file = '%s/chr.%s.gen.samples.txt' % (data_dir, '10')\n",
    "with open(sample_file, 'r') as f:\n",
    "    sample_id_to_index = dict([(line.strip(), i) for i, line in enumerate(f)])\n",
    "\n",
    "# read family structure\n",
    "parents = set()\n",
    "children = set()\n",
    "with open(ped_file, 'r') as f:\n",
    "    for line in f:\n",
    "        fam_id, ind_id, dad_id, mom_id, sex, disease_status = line.strip().split('\\t')[:6]\n",
    "        # sex: 1=male, 2=female\n",
    "        # disease status: 1=unaffected, 2=affected\n",
    "        if dad_id != '0' and dad_id in sample_id_to_index:\n",
    "            parents.add(dad_id)\n",
    "        if mom_id != '0' and mom_id in sample_id_to_index:\n",
    "            parents.add(mom_id)\n",
    "        if (dad_id != '0' or mom_id != '0') and ind_id in sample_id_to_index:\n",
    "            children.add(ind_id)\n",
    "        \n",
    "# only interested in children, not parents\n",
    "samples_of_interest = sorted(children - parents)\n",
    "indices = [sample_id_to_index[s] for s in samples_of_interest]\n",
    "print('Individuals of interest:', len(indices))\n",
    "\n",
    "all_gen_data = []\n",
    "all_positions = []\n",
    "for chrom in chroms:\n",
    "    print(chrom)\n",
    "    \n",
    "    # load genotypes\n",
    "    gen_files = sorted([f for f in listdir(data_dir) if ('chr.%s.' % chrom) in f and 'gen.npz' in f])\n",
    "\n",
    "    # pull snp positions\n",
    "    pos_data = np.load('%s/chr.%s.gen.coordinates.npy' % (data_dir, chrom))\n",
    "    is_snp = pos_data[:, 2].astype(bool)\n",
    "    is_pass = pos_data[:, 3].astype(bool)\n",
    "    snp_positions = pos_data[:, 1]\n",
    "    print('Sites pulled from vcf:', snp_positions.shape[0])\n",
    "\n",
    "    # pull PASS (from GATK)\n",
    "    #is_pass = np.load('%s/chr.%s.pass.npy' % (data_dir, chrom))\n",
    "\n",
    "    # Pull data together\n",
    "    A = sparse.hstack([sparse.load_npz('%s/%s' % (data_dir, gen_file))[indices, :] for gen_file in gen_files])\n",
    "\n",
    "    # only look at snps that PASS GATK filter\n",
    "    A = A[:, is_snp & is_pass]\n",
    "    snp_positions = snp_positions[is_snp & is_pass]\n",
    "    print('Removed %d sites that are not bi-allelic SNPs' % np.sum(~is_snp))\n",
    "    print('Removed %d sites that do not pass GATK' % np.sum(is_snp & ~is_pass))\n",
    "\n",
    "    # sparse to dense\n",
    "    A = A.A\n",
    "\n",
    "    # filter out sites with too many missing values\n",
    "    missing_cutoff = 0.01\n",
    "    lots_of_missing_indices = np.sum(A<0, axis=0) > 0.01*len(indices)\n",
    "    #A = A[:, ~lots_of_missing_indices]\n",
    "    #snp_positions = snp_positions[~lots_of_missing_indices]\n",
    "    print('Removed %d sites with >%0.3f missing' % (np.sum(lots_of_missing_indices), missing_cutoff))\n",
    "\n",
    "    # remove sites where everyone is homref or missing\n",
    "    has_variants = np.any(A>0, axis=0)\n",
    "    A = A[:, has_variants]\n",
    "    snp_positions = snp_positions[has_variants]\n",
    "    print('Removed %d sites where everyone is hom-ref' % np.sum(~has_variants))\n",
    "\n",
    "    # remaining missing -> hom ref\n",
    "    #print('Changed %d calls from missing (-1) to hom-ref (0)' % np.sum(A<0))\n",
    "    #A[A<0] = 0\n",
    "\n",
    "    print('Final matrix', A.shape, snp_positions.shape)\n",
    "    \n",
    "    all_gen_data.append(A)\n",
    "    all_positions.append(snp_positions)\n"
   ]
  },
  {
   "cell_type": "code",
   "execution_count": 11,
   "metadata": {},
   "outputs": [],
   "source": [
    "gen_files = sorted([f for f in listdir('../split_gen_ihart') if ('chr.%s.' % chrom) in f and 'gen.npz' in f])\n",
    "\n",
    "A = sparse.hstack([sparse.load_npz('%s/%s' % ('../split_gen_ihart', gen_file))[indices, :] for gen_file in gen_files])\n",
    "B = sparse.hstack([sparse.load_npz('%s/%s' % ('../split_gen_ihart_new', gen_file))[indices, :] for gen_file in gen_files])\n"
   ]
  },
  {
   "cell_type": "code",
   "execution_count": 12,
   "metadata": {},
   "outputs": [
    {
     "name": "stdout",
     "output_type": "stream",
     "text": [
      "(2700, 1096535) (2700, 1096535)\n"
     ]
    }
   ],
   "source": [
    "print(A.shape, B.shape)"
   ]
  },
  {
   "cell_type": "code",
   "execution_count": 19,
   "metadata": {},
   "outputs": [
    {
     "name": "stdout",
     "output_type": "stream",
     "text": [
      "True\n"
     ]
    }
   ],
   "source": [
    "print(np.all(A.nnz==B.nnz))"
   ]
  },
  {
   "cell_type": "code",
   "execution_count": 8,
   "metadata": {},
   "outputs": [
    {
     "name": "stdout",
     "output_type": "stream",
     "text": [
      "(2965432,)\n"
     ]
    }
   ],
   "source": [
    "print(all_positions[0].shape)"
   ]
  },
  {
   "cell_type": "code",
   "execution_count": 18,
   "metadata": {},
   "outputs": [
    {
     "name": "stdout",
     "output_type": "stream",
     "text": [
      "(931, 432965) (432965,)\n"
     ]
    }
   ],
   "source": [
    "gen_data = np.hstack(all_gen_data)\n",
    "positions = np.hstack(all_positions)\n",
    "print(gen_data.shape, positions.shape)"
   ]
  },
  {
   "cell_type": "code",
   "execution_count": 13,
   "metadata": {},
   "outputs": [
    {
     "data": {
      "image/png": "[encoded data removed]",
      "text/plain": [
       "<Figure size 432x288 with 1 Axes>"
      ]
     },
     "metadata": {},
     "output_type": "display_data"
    }
   ],
   "source": [
    "import matplotlib.pyplot as plt\n",
    "\n",
    "num_missing = np.sum(gen_data<0, axis=1)/gen_data.shape[1]\n",
    "plt.hist(num_missing, log=True)\n",
    "plt.show()"
   ]
  },
  {
   "cell_type": "code",
   "execution_count": 21,
   "metadata": {},
   "outputs": [
    {
     "data": {
      "image/png": "[encoded data removed]",
      "text/plain": [
       "<Figure size 432x288 with 1 Axes>"
      ]
     },
     "metadata": {},
     "output_type": "display_data"
    }
   ],
   "source": [
    "num_missing = np.sum(gen_data<0, axis=1)/gen_data.shape[1]\n",
    "plt.hist(num_missing, log=True, bins=np.arange(0, 1.01, 0.01))\n",
    "plt.show()"
   ]
  },
  {
   "cell_type": "code",
   "execution_count": 14,
   "metadata": {},
   "outputs": [
    {
     "data": {
      "image/png": "[encoded data removed]",
      "text/plain": [
       "<Figure size 432x288 with 1 Axes>"
      ]
     },
     "metadata": {},
     "output_type": "display_data"
    }
   ],
   "source": [
    "num_missing = np.sum(gen_data<0, axis=0)/gen_data.shape[0]\n",
    "plt.hist(num_missing, log=True)\n",
    "plt.show()"
   ]
  },
  {
   "cell_type": "code",
   "execution_count": 20,
   "metadata": {},
   "outputs": [
    {
     "data": {
      "image/png": "[encoded data removed]",
      "text/plain": [
       "<Figure size 432x288 with 1 Axes>"
      ]
     },
     "metadata": {},
     "output_type": "display_data"
    }
   ],
   "source": [
    "num_missing = np.sum(gen_data<0, axis=0)/gen_data.shape[0]\n",
    "plt.hist(num_missing, log=True)\n",
    "plt.show()"
   ]
  },
  {
   "cell_type": "code",
   "execution_count": 14,
   "metadata": {},
   "outputs": [],
   "source": [
    "with open('../data/OMNI2.5_pruned_positions.txt', 'w+') as outf:\n",
    "    outf.write('# rsid\\tchromosome\\tposition\\n')\n",
    "    for chrom in [str(x) for x in range(1, 23)]:\n",
    "        with open('../../PrunediHART/%s.pruned.bim' % chrom) as f:\n",
    "            for line in f:\n",
    "                pieces = line.strip().split('\\t')\n",
    "                outf.write('.\\t%s\\t%s\\n' % (chrom, pieces[3]))\n",
    "    "
   ]
  },
  {
   "cell_type": "code",
   "execution_count": null,
   "metadata": {},
   "outputs": [],
   "source": []
  }
 ],
 "metadata": {
  "kernelspec": {
   "display_name": "Python 3",
   "language": "python",
   "name": "python3"
  },
  "language_info": {
   "codemirror_mode": {
    "name": "ipython",
    "version": 3
   },
   "file_extension": ".py",
   "mimetype": "text/x-python",
   "name": "python",
   "nbconvert_exporter": "python",
   "pygments_lexer": "ipython3",
   "version": "3.7.3"
  }
 },
 "nbformat": 4,
 "nbformat_minor": 2
}
