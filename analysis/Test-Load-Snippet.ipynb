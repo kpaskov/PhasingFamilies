{
 "cells": [
  {
   "cell_type": "code",
   "execution_count": 35,
   "metadata": {},
   "outputs": [],
   "source": [
    "import numpy as np\n",
    "import scipy.sparse as sparse\n",
    "from os import listdir\n",
    "import matplotlib.pyplot as plt"
   ]
  },
  {
   "cell_type": "code",
   "execution_count": 45,
   "metadata": {},
   "outputs": [
    {
     "name": "stdout",
     "output_type": "stream",
     "text": [
      "Individuals of interest: 13249\n",
      "1\n",
      "Sites pulled from vcf: 49076\n",
      "Removed 455 sites that are not bi-allelic SNPs\n",
      "Removed 48621 sites that do not pass GATK\n",
      "Removed 0 sites with >0.010 missing\n",
      "Removed 0 sites where everyone is hom-ref\n",
      "Final matrix (13249, 0) (0,)\n",
      "2\n",
      "Sites pulled from vcf: 51804\n",
      "Removed 789 sites that are not bi-allelic SNPs\n",
      "Removed 51015 sites that do not pass GATK\n",
      "Removed 0 sites with >0.010 missing\n",
      "Removed 0 sites where everyone is hom-ref\n",
      "Final matrix (13249, 0) (0,)\n",
      "3\n",
      "Sites pulled from vcf: 43164\n",
      "Removed 485 sites that are not bi-allelic SNPs\n",
      "Removed 42679 sites that do not pass GATK\n",
      "Removed 0 sites with >0.010 missing\n",
      "Removed 0 sites where everyone is hom-ref\n",
      "Final matrix (13249, 0) (0,)\n",
      "4\n",
      "Sites pulled from vcf: 39709\n",
      "Removed 248 sites that are not bi-allelic SNPs\n",
      "Removed 39461 sites that do not pass GATK\n",
      "Removed 0 sites with >0.010 missing\n",
      "Removed 0 sites where everyone is hom-ref\n",
      "Final matrix (13249, 0) (0,)\n",
      "5\n",
      "Sites pulled from vcf: 37315\n",
      "Removed 434 sites that are not bi-allelic SNPs\n",
      "Removed 36881 sites that do not pass GATK\n",
      "Removed 0 sites with >0.010 missing\n",
      "Removed 0 sites where everyone is hom-ref\n",
      "Final matrix (13249, 0) (0,)\n",
      "6\n",
      "Sites pulled from vcf: 43997\n",
      "Removed 308 sites that are not bi-allelic SNPs\n",
      "Removed 43689 sites that do not pass GATK\n",
      "Removed 0 sites with >0.010 missing\n",
      "Removed 0 sites where everyone is hom-ref\n",
      "Final matrix (13249, 0) (0,)\n",
      "7\n",
      "Sites pulled from vcf: 34698\n",
      "Removed 334 sites that are not bi-allelic SNPs\n",
      "Removed 34364 sites that do not pass GATK\n",
      "Removed 0 sites with >0.010 missing\n",
      "Removed 0 sites where everyone is hom-ref\n",
      "Final matrix (13249, 0) (0,)\n",
      "8\n",
      "Sites pulled from vcf: 31841\n",
      "Removed 204 sites that are not bi-allelic SNPs\n",
      "Removed 31637 sites that do not pass GATK\n",
      "Removed 0 sites with >0.010 missing\n",
      "Removed 0 sites where everyone is hom-ref\n",
      "Final matrix (13249, 0) (0,)\n",
      "9\n",
      "Sites pulled from vcf: 26521\n",
      "Removed 237 sites that are not bi-allelic SNPs\n",
      "Removed 26284 sites that do not pass GATK\n",
      "Removed 0 sites with >0.010 missing\n",
      "Removed 0 sites where everyone is hom-ref\n",
      "Final matrix (13249, 0) (0,)\n",
      "10\n",
      "Sites pulled from vcf: 30509\n",
      "Removed 224 sites that are not bi-allelic SNPs\n",
      "Removed 30285 sites that do not pass GATK\n",
      "Removed 0 sites with >0.010 missing\n",
      "Removed 0 sites where everyone is hom-ref\n",
      "Final matrix (13249, 0) (0,)\n",
      "11\n",
      "Sites pulled from vcf: 31023\n",
      "Removed 439 sites that are not bi-allelic SNPs\n",
      "Removed 30584 sites that do not pass GATK\n",
      "Removed 0 sites with >0.010 missing\n",
      "Removed 0 sites where everyone is hom-ref\n",
      "Final matrix (13249, 0) (0,)\n",
      "12\n",
      "Sites pulled from vcf: 29582\n",
      "Removed 267 sites that are not bi-allelic SNPs\n",
      "Removed 29315 sites that do not pass GATK\n",
      "Removed 0 sites with >0.010 missing\n",
      "Removed 0 sites where everyone is hom-ref\n",
      "Final matrix (13249, 0) (0,)\n",
      "13\n",
      "Sites pulled from vcf: 21829\n",
      "Removed 340 sites that are not bi-allelic SNPs\n",
      "Removed 21489 sites that do not pass GATK\n",
      "Removed 0 sites with >0.010 missing\n",
      "Removed 0 sites where everyone is hom-ref\n",
      "Final matrix (13249, 0) (0,)\n",
      "14\n",
      "Sites pulled from vcf: 19879\n",
      "Removed 145 sites that are not bi-allelic SNPs\n",
      "Removed 19734 sites that do not pass GATK\n",
      "Removed 0 sites with >0.010 missing\n",
      "Removed 0 sites where everyone is hom-ref\n",
      "Final matrix (13249, 0) (0,)\n",
      "15\n",
      "Sites pulled from vcf: 18845\n",
      "Removed 227 sites that are not bi-allelic SNPs\n",
      "Removed 18618 sites that do not pass GATK\n",
      "Removed 0 sites with >0.010 missing\n",
      "Removed 0 sites where everyone is hom-ref\n",
      "Final matrix (13249, 0) (0,)\n",
      "16\n",
      "Sites pulled from vcf: 20428\n",
      "Removed 238 sites that are not bi-allelic SNPs\n",
      "Removed 20190 sites that do not pass GATK\n",
      "Removed 0 sites with >0.010 missing\n",
      "Removed 0 sites where everyone is hom-ref\n",
      "Final matrix (13249, 0) (0,)\n",
      "17\n",
      "Sites pulled from vcf: 18949\n",
      "Removed 397 sites that are not bi-allelic SNPs\n",
      "Removed 18552 sites that do not pass GATK\n",
      "Removed 0 sites with >0.010 missing\n",
      "Removed 0 sites where everyone is hom-ref\n",
      "Final matrix (13249, 0) (0,)\n",
      "18\n",
      "Sites pulled from vcf: 17820\n",
      "Removed 100 sites that are not bi-allelic SNPs\n",
      "Removed 17720 sites that do not pass GATK\n",
      "Removed 0 sites with >0.010 missing\n",
      "Removed 0 sites where everyone is hom-ref\n",
      "Final matrix (13249, 0) (0,)\n",
      "19\n",
      "Sites pulled from vcf: 14202\n",
      "Removed 157 sites that are not bi-allelic SNPs\n",
      "Removed 14045 sites that do not pass GATK\n",
      "Removed 0 sites with >0.010 missing\n",
      "Removed 0 sites where everyone is hom-ref\n",
      "Final matrix (13249, 0) (0,)\n",
      "20\n",
      "Sites pulled from vcf: 14888\n",
      "Removed 93 sites that are not bi-allelic SNPs\n",
      "Removed 14795 sites that do not pass GATK\n",
      "Removed 0 sites with >0.010 missing\n",
      "Removed 0 sites where everyone is hom-ref\n",
      "Final matrix (13249, 0) (0,)\n",
      "21\n",
      "Sites pulled from vcf: 8654\n",
      "Removed 61 sites that are not bi-allelic SNPs\n",
      "Removed 8593 sites that do not pass GATK\n",
      "Removed 0 sites with >0.010 missing\n",
      "Removed 0 sites where everyone is hom-ref\n",
      "Final matrix (13249, 0) (0,)\n",
      "22\n",
      "Sites pulled from vcf: 8967\n",
      "Removed 91 sites that are not bi-allelic SNPs\n",
      "Removed 8876 sites that do not pass GATK\n",
      "Removed 0 sites with >0.010 missing\n",
      "Removed 0 sites where everyone is hom-ref\n",
      "Final matrix (13249, 0) (0,)\n"
     ]
    }
   ],
   "source": [
    "\n",
    "\n",
    "chroms = [str(x) for x in range(1, 23)]\n",
    "#data_dir = '../split_gen_ihart'\n",
    "data_dir = '../split_gen_spark'\n",
    "ped_file = '../data/spark.ped'\n",
    "\n",
    "# read samples\n",
    "sample_file = '%s/chr.%s.gen.samples.txt' % (data_dir, '10')\n",
    "with open(sample_file, 'r') as f:\n",
    "    sample_id_to_index = dict([(line.strip(), i) for i, line in enumerate(f)])\n",
    "\n",
    "# read family structure\n",
    "parents = set()\n",
    "children = set()\n",
    "with open(ped_file, 'r') as f:\n",
    "    for line in f:\n",
    "        fam_id, ind_id, dad_id, mom_id, sex, disease_status = line.strip().split('\\t')[:6]\n",
    "        # sex: 1=male, 2=female\n",
    "        # disease status: 1=unaffected, 2=affected\n",
    "        if dad_id != '0' and dad_id in sample_id_to_index:\n",
    "            parents.add(dad_id)\n",
    "        if mom_id != '0' and mom_id in sample_id_to_index:\n",
    "            parents.add(mom_id)\n",
    "        if (dad_id != '0' or mom_id != '0') and ind_id in sample_id_to_index:\n",
    "            children.add(ind_id)\n",
    "        \n",
    "# only interested in children, not parents\n",
    "samples_of_interest = sorted(children | parents)\n",
    "indices = [sample_id_to_index[s] for s in samples_of_interest]\n",
    "print('Individuals of interest:', len(indices))\n",
    "\n",
    "all_gen_data = []\n",
    "all_positions = []\n",
    "for chrom in chroms:\n",
    "    print(chrom)\n",
    "    \n",
    "    # load genotypes\n",
    "    gen_files = sorted([f for f in listdir(data_dir) if ('chr.%s.' % chrom) in f and 'gen.npz' in f])\n",
    "\n",
    "    # pull snp positions\n",
    "    pos_data = np.load('%s/chr.%s.gen.coordinates.npy' % (data_dir, chrom))\n",
    "    is_snp = pos_data[:, 2].astype(bool)\n",
    "    is_pass = pos_data[:, 3].astype(bool)\n",
    "    #is_pass = np.ones(is_snp.shape, dtype=bool)\n",
    "    snp_positions = pos_data[:, 1]\n",
    "    print('Sites pulled from vcf:', snp_positions.shape[0])\n",
    "\n",
    "    # pull PASS (from GATK)\n",
    "    #is_pass = np.load('%s/chr.%s.pass.npy' % (data_dir, chrom))\n",
    "\n",
    "    # Pull data together\n",
    "    A = sparse.hstack([sparse.load_npz('%s/%s' % (data_dir, gen_file))[indices, :] for gen_file in gen_files])\n",
    "\n",
    "    # only look at snps that PASS GATK filter\n",
    "    A = A[:, is_snp & is_pass]\n",
    "    snp_positions = snp_positions[is_snp & is_pass]\n",
    "    print('Removed %d sites that are not bi-allelic SNPs' % np.sum(~is_snp))\n",
    "    print('Removed %d sites that do not pass GATK' % np.sum(is_snp & ~is_pass))\n",
    "\n",
    "    # sparse to dense\n",
    "    A = A.A\n",
    "\n",
    "    # filter out sites with too many missing values\n",
    "    missing_cutoff = 0.01\n",
    "    lots_of_missing_indices = np.sum(A<0, axis=0) > 0.01*len(indices)\n",
    "    #A = A[:, ~lots_of_missing_indices]\n",
    "    #snp_positions = snp_positions[~lots_of_missing_indices]\n",
    "    print('Removed %d sites with >%0.3f missing' % (np.sum(lots_of_missing_indices), missing_cutoff))\n",
    "\n",
    "    # remove sites where everyone is homref or missing\n",
    "    has_variants = np.any(A>0, axis=0)\n",
    "    #A = A[:, has_variants]\n",
    "    #snp_positions = snp_positions[has_variants]\n",
    "    print('Removed %d sites where everyone is hom-ref' % np.sum(~has_variants))\n",
    "\n",
    "    # remaining missing -> hom ref\n",
    "    #print('Changed %d calls from missing (-1) to hom-ref (0)' % np.sum(A<0))\n",
    "    #A[A<0] = 0\n",
    "\n",
    "    print('Final matrix', A.shape, snp_positions.shape)\n",
    "    \n",
    "    all_gen_data.append(A)\n",
    "    all_positions.append(snp_positions)\n"
   ]
  },
  {
   "cell_type": "code",
   "execution_count": 11,
   "metadata": {},
   "outputs": [],
   "source": [
    "gen_files = sorted([f for f in listdir('../split_gen_ihart') if ('chr.%s.' % chrom) in f and 'gen.npz' in f])\n",
    "\n",
    "A = sparse.hstack([sparse.load_npz('%s/%s' % ('../split_gen_ihart', gen_file))[indices, :] for gen_file in gen_files])\n",
    "B = sparse.hstack([sparse.load_npz('%s/%s' % ('../split_gen_ihart_new', gen_file))[indices, :] for gen_file in gen_files])\n"
   ]
  },
  {
   "cell_type": "code",
   "execution_count": 12,
   "metadata": {},
   "outputs": [
    {
     "name": "stdout",
     "output_type": "stream",
     "text": [
      "(2700, 1096535) (2700, 1096535)\n"
     ]
    }
   ],
   "source": [
    "print(A.shape, B.shape)"
   ]
  },
  {
   "cell_type": "code",
   "execution_count": 19,
   "metadata": {},
   "outputs": [
    {
     "name": "stdout",
     "output_type": "stream",
     "text": [
      "True\n"
     ]
    }
   ],
   "source": [
    "print(np.all(A.nnz==B.nnz))"
   ]
  },
  {
   "cell_type": "code",
   "execution_count": 8,
   "metadata": {},
   "outputs": [
    {
     "name": "stdout",
     "output_type": "stream",
     "text": [
      "(2965432,)\n"
     ]
    }
   ],
   "source": [
    "print(all_positions[0].shape)"
   ]
  },
  {
   "cell_type": "code",
   "execution_count": 15,
   "metadata": {},
   "outputs": [
    {
     "name": "stdout",
     "output_type": "stream",
     "text": [
      "(13249, 607427) (607427,)\n"
     ]
    }
   ],
   "source": [
    "gen_data = np.hstack(all_gen_data)\n",
    "positions = np.hstack(all_positions)\n",
    "print(gen_data.shape, positions.shape)"
   ]
  },
  {
   "cell_type": "code",
   "execution_count": 16,
   "metadata": {},
   "outputs": [
    {
     "data": {
      "image/png": "[encoded data removed]",
      "text/plain": [
       "<Figure size 432x288 with 1 Axes>"
      ]
     },
     "metadata": {
      "needs_background": "light"
     },
     "output_type": "display_data"
    }
   ],
   "source": [
    "num_missing = np.sum(gen_data<0, axis=1)/gen_data.shape[1]\n",
    "plt.hist(num_missing, log=True, bins=np.arange(0, 1.01, 0.01), alpha=0.5, label='missing')\n",
    "\n",
    "plt.legend()\n",
    "plt.xlabel('% Missing')\n",
    "plt.ylabel('Individuals')\n",
    "plt.show()"
   ]
  },
  {
   "cell_type": "code",
   "execution_count": 38,
   "metadata": {},
   "outputs": [],
   "source": [
    "homalt = np.sum(gen_data==2, axis=0)\n",
    "het = np.sum(gen_data==1, axis=0)\n",
    "miss = np.sum(gen_data<0, axis=0)"
   ]
  },
  {
   "cell_type": "code",
   "execution_count": 39,
   "metadata": {},
   "outputs": [],
   "source": [
    "af = (2*homalt + het)/(2*gen_data.shape[0] - 2*miss)\n",
    "percent_miss = miss/gen_data.shape[0]"
   ]
  },
  {
   "cell_type": "code",
   "execution_count": 40,
   "metadata": {},
   "outputs": [
    {
     "name": "stdout",
     "output_type": "stream",
     "text": [
      "0.18771309144967213\n",
      "0.19342571206087317\n"
     ]
    }
   ],
   "source": [
    "print(np.sum(af < 0.01)/af.shape[0])\n",
    "print(np.sum(percent_miss >= 0.01)/af.shape[0])\n",
    "print(np.sum(percent_miss >= 0.01)/af.shape[0])"
   ]
  },
  {
   "cell_type": "code",
   "execution_count": 41,
   "metadata": {},
   "outputs": [
    {
     "name": "stdout",
     "output_type": "stream",
     "text": [
      "0.3544952726829726\n"
     ]
    }
   ],
   "source": [
    "is_pass = (af >= 0.01) & (percent_miss < 0.01)\n",
    "print(np.sum(~is_pass)/af.shape[0])"
   ]
  },
  {
   "cell_type": "code",
   "execution_count": 18,
   "metadata": {},
   "outputs": [
    {
     "name": "stderr",
     "output_type": "stream",
     "text": [
      "//anaconda3/lib/python3.7/site-packages/ipykernel/__main__.py:10: RuntimeWarning: divide by zero encountered in log10\n"
     ]
    },
    {
     "data": {
      "image/png": "[encoded data removed]",
      "text/plain": [
       "<Figure size 1080x360 with 2 Axes>"
      ]
     },
     "metadata": {
      "needs_background": "light"
     },
     "output_type": "display_data"
    }
   ],
   "source": [
    "plt.figure(figsize=(15, 5))\n",
    "\n",
    "plt.subplot(1, 2, 1)\n",
    "plt.hist(miss/gen_data.shape[0], log=True, bins=np.arange(0, 1.01, 0.01), alpha=0.5)\n",
    "plt.xlabel('% Missing')\n",
    "plt.ylabel('Variants')\n",
    "\n",
    "plt.subplot(1, 2, 2)\n",
    "af = (2*homalt + het)/(2*gen_data.shape[0] - 2*miss)\n",
    "plt.hist(np.log10(af), log=True, alpha=0.5, bins=np.arange(-5, 0.1, 0.1))\n",
    "plt.xlabel('log10(AF)')\n",
    "plt.ylabel('Variants')\n",
    "\n",
    "plt.tight_layout()\n",
    "plt.show()"
   ]
  },
  {
   "cell_type": "code",
   "execution_count": 14,
   "metadata": {},
   "outputs": [],
   "source": [
    "with open('../data/OMNI2.5_pruned_positions.txt', 'w+') as outf:\n",
    "    outf.write('# rsid\\tchromosome\\tposition\\n')\n",
    "    for chrom in [str(x) for x in range(1, 23)]:\n",
    "        with open('../../PrunediHART/%s.pruned.bim' % chrom) as f:\n",
    "            for line in f:\n",
    "                pieces = line.strip().split('\\t')\n",
    "                outf.write('.\\t%s\\t%s\\n' % (chrom, pieces[3]))\n",
    "    "
   ]
  },
  {
   "cell_type": "code",
   "execution_count": 29,
   "metadata": {},
   "outputs": [],
   "source": [
    "gen_files = sorted([f for f in listdir(data_dir) if ('chr.%s.' % chrom) in f and 'gen.npz' in f])\n",
    "\n",
    "# Pull data together\n",
    "A = sparse.hstack([sparse.load_npz('%s/%s' % (data_dir, gen_file)) for gen_file in gen_files])\n",
    "A = A[:, is_snp]\n",
    "\n",
    "# AF filter\n",
    "homalt = (A==2).sum(axis=0).A.flatten()\n",
    "het = (A==1).sum(axis=0).A.flatten()\n",
    "miss = (A<0).sum(axis=0).A.flatten()\n",
    "af = (2*homalt + het)/(2*gen_data.shape[0] - 2*miss)"
   ]
  },
  {
   "cell_type": "code",
   "execution_count": 32,
   "metadata": {},
   "outputs": [
    {
     "data": {
      "image/png": "[encoded data removed]",
      "text/plain": [
       "<Figure size 432x288 with 1 Axes>"
      ]
     },
     "metadata": {
      "needs_background": "light"
     },
     "output_type": "display_data"
    }
   ],
   "source": [
    "plt.hist(np.log10(af[af>0.01]))\n",
    "plt.show()"
   ]
  },
  {
   "cell_type": "code",
   "execution_count": 34,
   "metadata": {},
   "outputs": [
    {
     "data": {
      "image/png": "[encoded data removed]",
      "text/plain": [
       "<Figure size 432x288 with 1 Axes>"
      ]
     },
     "metadata": {
      "needs_background": "light"
     },
     "output_type": "display_data"
    }
   ],
   "source": [
    "plt.hist(miss[af>0.01]/A.shape[0])\n",
    "plt.show()"
   ]
  },
  {
   "cell_type": "code",
   "execution_count": 42,
   "metadata": {},
   "outputs": [
    {
     "name": "stdout",
     "output_type": "stream",
     "text": [
      "(13249, 13725)\n"
     ]
    }
   ],
   "source": [
    "print(A.shape)"
   ]
  },
  {
   "cell_type": "code",
   "execution_count": null,
   "metadata": {},
   "outputs": [],
   "source": []
  }
 ],
 "metadata": {
  "kernelspec": {
   "display_name": "Python 3",
   "language": "python",
   "name": "python3"
  },
  "language_info": {
   "codemirror_mode": {
    "name": "ipython",
    "version": 3
   },
   "file_extension": ".py",
   "mimetype": "text/x-python",
   "name": "python",
   "nbconvert_exporter": "python",
   "pygments_lexer": "ipython3",
   "version": "3.7.3"
  }
 },
 "nbformat": 4,
 "nbformat_minor": 2
}
