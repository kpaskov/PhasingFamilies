{
 "cells": [
  {
   "cell_type": "code",
   "execution_count": 1,
   "metadata": {},
   "outputs": [],
   "source": [
    "import os\n",
    "import json\n",
    "from collections import defaultdict\n",
    "import numpy as np\n",
    "import random\n",
    "import matplotlib.pyplot as plt\n",
    "import scipy.stats as stats"
   ]
  },
  {
   "cell_type": "code",
   "execution_count": 2,
   "metadata": {},
   "outputs": [],
   "source": [
    "dist_from_end = 10000000\n",
    "phase_dirs = ['../phased_ihart.ms2_quads_del']\n",
    "ped_files = ['../../DATA/ihart.ms2/ihart.ped.quads.ped']"
   ]
  },
  {
   "cell_type": "code",
   "execution_count": 3,
   "metadata": {},
   "outputs": [],
   "source": [
    "\n",
    "\n",
    "# From GRCh38.p13 https://www.ncbi.nlm.nih.gov/grc/human/data?asm=GRCh38.p13\n",
    "chrom_lengths = {\n",
    "\t'1': 248956422,\n",
    "\t'2': 242193529,\n",
    "\t'3': 198295559,\n",
    "\t'4': 190214555,\n",
    "\t'5': 181538259,\n",
    "\t'6': 170805979,\n",
    "\t'7': 159345973,\n",
    "\t'8': 145138636,\n",
    "\t'9': 138394717,\n",
    "\t'10': 133797422,\n",
    "\t'11': 135086622,\n",
    "\t'12': 133275309,\n",
    "\t'13': 114364328,\n",
    "\t'14': 107043718,\n",
    "\t'15': 101991189,\n",
    "\t'16': 90338345,\n",
    "\t'17': 83257441,\n",
    "\t'18': 80373285,\n",
    "\t'19': 58617616,\n",
    "\t'20': 64444167,\n",
    "\t'21': 46709983,\n",
    "\t'22': 50818468,\n",
    "#\t'X': 156040895,\n",
    "#\t'Y': 57227415\n",
    "}\n"
   ]
  },
  {
   "cell_type": "code",
   "execution_count": 4,
   "metadata": {},
   "outputs": [],
   "source": [
    "# pull ped data\n",
    "def pull_phenotype_ped(ped_file):\n",
    "\tsample_to_sex = dict()\n",
    "\tsample_to_affected = dict()\n",
    "\tparents_to_children = defaultdict(list)\n",
    "\twith open(ped_file, 'r') as f:\n",
    "\t\tfor line in f:\n",
    "\t\t\tpieces = line.strip().split('\\t')\n",
    "\t\t\tsample_to_sex[pieces[1]] = pieces[4]\n",
    "\t\t\tsample_to_affected[pieces[1]] = pieces[5]\n",
    "\t\t\tif pieces[2] != '0' and pieces[3] != '0':\n",
    "\t\t\t\tparents_to_children[(pieces[3], pieces[2])].append(pieces[1])\n",
    "\treturn sample_to_affected, sample_to_sex, parents_to_children\n",
    "\n",
    "sample_to_affected = dict()\n",
    "for ped_file in ped_files:\n",
    "\ts_to_a, _, _ = pull_phenotype_ped(ped_file)\n",
    "\tsample_to_affected.update(s_to_a)"
   ]
  },
  {
   "cell_type": "code",
   "execution_count": 5,
   "metadata": {},
   "outputs": [
    {
     "name": "stdout",
     "output_type": "stream",
     "text": [
      "loading phase for ../phased_ihart.ms2_quads_del\n",
      "loading phase for ../phased_ihart.ms2_quads_del\n",
      "children with phase information 1806\n",
      "num_affected 0=41, 1=80, 2=782\n"
     ]
    }
   ],
   "source": [
    "# pull crossover information, preferentially pull sibpairs with same phenotype\n",
    "quad_to_crossovers = defaultdict(list)\n",
    "already_included = set()\n",
    "for phase_dir in phase_dirs:\n",
    "\tprint('loading phase for', phase_dir)\n",
    "\tfor file in sorted(os.listdir(phase_dir)):\n",
    "\t\tif file.endswith('.crossovers.json'):\n",
    "\t\t\twith open('%s/%s' % (phase_dir, file), 'r') as f:\n",
    "\t\t\t\tcos = json.load(f)\n",
    "\t\t\t\tchild1, child2 = cos[0]['child']\n",
    "\t\t\t\tif len(cos)>=250:\n",
    "\t\t\t\t\t#print('Are they related?', cos[0]['child'][0], cos[0]['child'][1], file)\n",
    "\t\t\t\t\tpass\n",
    "\t\t\t\telif child1 in already_included or child2 in already_included:\n",
    "\t\t\t\t\t#print('Child(ren) already included in analysis', cos[0]['child'][0], cos[0]['child'][1], file)\n",
    "\t\t\t\t\tpass\n",
    "\t\t\t\telif child1 in sample_to_affected and child2 in sample_to_affected and sample_to_affected[child1]==sample_to_affected[child2]:\n",
    "\t\t\t\t\tfor co in cos:\n",
    "\t\t\t\t\t\tco['num_affected'] = int(sample_to_affected[child1]=='2') + int(sample_to_affected[child2]=='2')\n",
    "\t\t\t\t\t\tquad_to_crossovers[tuple(co['child'])].append(co)\n",
    "\t\t\t\t\talready_included.add(co['child'][0])\n",
    "\t\t\t\t\talready_included.add(co['child'][1])\n",
    "\n",
    "for phase_dir in phase_dirs:\n",
    "\tprint('loading phase for', phase_dir)\n",
    "\tfor file in sorted(os.listdir(phase_dir)):\n",
    "\t\tif file.endswith('.crossovers.json'):\n",
    "\t\t\twith open('%s/%s' % (phase_dir, file), 'r') as f:\n",
    "\t\t\t\tcos = json.load(f)\n",
    "\t\t\t\tchild1, child2 = cos[0]['child']\n",
    "\t\t\t\tif len(cos)>=250:\n",
    "\t\t\t\t\t#print('Are they related?', cos[0]['child'][0], cos[0]['child'][1], file)\n",
    "\t\t\t\t\tpass\n",
    "\t\t\t\telif child1 in already_included or child2 in already_included:\n",
    "\t\t\t\t\t#print('Child(ren) already included in analysis', cos[0]['child'][0], cos[0]['child'][1], file)\n",
    "\t\t\t\t\tpass\n",
    "\t\t\t\telif child1 in sample_to_affected and child2 in sample_to_affected:\n",
    "\t\t\t\t\tfor co in cos:\n",
    "\t\t\t\t\t\tco['num_affected'] = int(sample_to_affected[child1]=='2') + int(sample_to_affected[child2]=='2')\n",
    "\t\t\t\t\t\tquad_to_crossovers[tuple(co['child'])].append(co)\n",
    "\t\t\t\t\talready_included.add(co['child'][0])\n",
    "\t\t\t\t\talready_included.add(co['child'][1])\n",
    "            \n",
    "print('children with phase information', 2*len(quad_to_crossovers))\n",
    "print('num_affected 0=%d, 1=%d, 2=%d' % (len([x for x in quad_to_crossovers.keys() if int(sample_to_affected[x[0]]=='2')+int(sample_to_affected[x[1]]=='2')==0]),\n",
    "\t\t\t\t\t\t\t\t\t\t len([x for x in quad_to_crossovers.keys() if int(sample_to_affected[x[0]]=='2')+int(sample_to_affected[x[1]]=='2')==1]),\n",
    "\t\t\t\t\t\t\t\t\t\t len([x for x in quad_to_crossovers.keys() if int(sample_to_affected[x[0]]=='2')+int(sample_to_affected[x[1]]=='2')==2])))\n"
   ]
  },
  {
   "cell_type": "code",
   "execution_count": 10,
   "metadata": {},
   "outputs": [],
   "source": [
    "tel_count = defaultdict(int)\n",
    "for quad, cos in quad_to_crossovers.items():\n",
    "    for co in cos:\n",
    "        if co['chrom']==1:\n",
    "            is_in_tel = (co['end_pos']<=dist_from_end) #or (co['start_pos']>=(chrom_lengths[str(co['chrom'])]-dist_from_end))\n",
    "            tel_count[(co['is_mat'], co['num_affected'], is_in_tel)] += 1\n",
    "        "
   ]
  },
  {
   "cell_type": "code",
   "execution_count": 11,
   "metadata": {},
   "outputs": [
    {
     "name": "stdout",
     "output_type": "stream",
     "text": [
      "defaultdict(<class 'int'>, {(True, 2, False): 5069, (False, 2, True): 456, (False, 2, False): 2803, (True, 2, True): 280, (True, 0, False): 264, (False, 0, True): 18, (False, 0, False): 151, (True, 0, True): 8, (True, 1, False): 515, (False, 1, False): 299, (True, 1, True): 33, (False, 1, True): 43})\n"
     ]
    }
   ],
   "source": [
    "print(tel_count)"
   ]
  },
  {
   "cell_type": "code",
   "execution_count": 12,
   "metadata": {},
   "outputs": [
    {
     "data": {
      "image/png": "[encoded data removed]",
      "text/plain": [
       "<Figure size 1080x360 with 2 Axes>"
      ]
     },
     "metadata": {
      "needs_background": "light"
     },
     "output_type": "display_data"
    }
   ],
   "source": [
    "plt.figure(figsize=(15, 5))\n",
    "\n",
    "plt.subplot(1, 2, 1)\n",
    "plt.plot([tel_count[(True, i, True)]/(tel_count[(True, i, True)]+tel_count[(True, i, False)]) for i in range(3)])\n",
    "\n",
    "plt.subplot(1, 2, 2)\n",
    "plt.plot([tel_count[(False, i, True)]/(tel_count[(False, i, True)]+tel_count[(False, i, False)]) for i in range(3)])\n",
    "#plt.plot([tel_count[(True, i, True)]/(tel_count[(True, i, True)]+tel_count[(True, i, False)]) for i in range(3)])\n",
    "#plt.plot([tel_count[(True, i, True)]/(tel_count[(True, i, True)]+tel_count[(True, i, False)]) for i in range(3)])\n",
    "plt.show()"
   ]
  },
  {
   "cell_type": "code",
   "execution_count": 13,
   "metadata": {},
   "outputs": [
    {
     "name": "stdout",
     "output_type": "stream",
     "text": [
      "(1.237911215543786, 0.26587399357876595, 1, array([[  23.36814469,  145.63185531],\n",
      "       [ 450.63185531, 2808.36814469]]))\n"
     ]
    }
   ],
   "source": [
    "print(stats.chi2_contingency([[tel_count[(False, 0, True)], tel_count[(False, 0, False)]],\n",
    "                              [tel_count[(False, 2, True)], tel_count[(False, 2, False)]]]))"
   ]
  },
  {
   "cell_type": "code",
   "execution_count": null,
   "metadata": {},
   "outputs": [],
   "source": []
  }
 ],
 "metadata": {
  "kernelspec": {
   "display_name": "Python 3",
   "language": "python",
   "name": "python3"
  },
  "language_info": {
   "codemirror_mode": {
    "name": "ipython",
    "version": 3
   },
   "file_extension": ".py",
   "mimetype": "text/x-python",
   "name": "python",
   "nbconvert_exporter": "python",
   "pygments_lexer": "ipython3",
   "version": "3.7.3"
  }
 },
 "nbformat": 4,
 "nbformat_minor": 2
}
