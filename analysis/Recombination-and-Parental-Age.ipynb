{
 "cells": [
  {
   "cell_type": "code",
   "execution_count": 263,
   "metadata": {},
   "outputs": [],
   "source": [
    "import os\n",
    "import json\n",
    "from collections import defaultdict\n",
    "import matplotlib.pyplot as plt\n",
    "import numpy as np\n",
    "import scipy.stats as stats\n",
    "from itertools import combinations\n",
    "import csv\n",
    "import datetime\n",
    "import statsmodels.api as sm\n",
    "from statsmodels.genmod.families import Poisson\n"
   ]
  },
  {
   "cell_type": "code",
   "execution_count": 333,
   "metadata": {},
   "outputs": [],
   "source": [
    "#phase_dirs = ['../phased_ssc.hg38', '../phased_mssng_quads', '../phased_ihart.ms2_quads']\n",
    "phase_dirs = ['../phased_ihart.ms2_quads']\n",
    "assembly = '38'"
   ]
  },
  {
   "cell_type": "code",
   "execution_count": 447,
   "metadata": {},
   "outputs": [
    {
     "name": "stdout",
     "output_type": "stream",
     "text": [
      "../phased_ihart.ms2_quads\n",
      "Are they related? AU0832.AU083203.AU083204.crossovers.json\n",
      "Are they related? AU0866.AU0866301.AU0866302.crossovers.json\n",
      "Are they related? AU0905.AU0905301.AU0905302.crossovers.json\n",
      "Are they related? AU0905.AU0905301.AU0905303.crossovers.json\n",
      "Are they related? AU0923.AU0923301.AU0923302.crossovers.json\n",
      "Are they related? AU0941.AU0941301.AU0941302.crossovers.json\n",
      "Are they related? AU0951.AU0951301.AU0951302.crossovers.json\n",
      "Are they related? AU1497.AU1497301.AU1497302.crossovers.json\n",
      "Are they related? AU1497.AU1497301.AU1497303.crossovers.json\n",
      "Are they related? AU1822.AU1822301.AU1822302.crossovers.json\n",
      "908\n",
      "../phased_ihart.ms2_quads\n",
      "Are they related? AU0832.AU083203.AU083204.gene_conversions.json\n",
      "Are they related? AU0866.AU0866301.AU0866302.gene_conversions.json\n",
      "Are they related? AU0905.AU0905301.AU0905302.gene_conversions.json\n",
      "Are they related? AU0905.AU0905301.AU0905303.gene_conversions.json\n",
      "Are they related? AU0923.AU0923301.AU0923302.gene_conversions.json\n",
      "Are they related? AU0941.AU0941301.AU0941302.gene_conversions.json\n",
      "Are they related? AU0951.AU0951301.AU0951302.gene_conversions.json\n",
      "908\n",
      "908 1816\n"
     ]
    }
   ],
   "source": [
    "child_to_num_crossovers_mat = dict()\n",
    "child_to_num_crossovers_pat = dict()\n",
    "\n",
    "already_seen = set()\n",
    "mom_child_pairs = set()\n",
    "dad_child_pairs = set()\n",
    "child_pair_to_dataset = dict()\n",
    "\n",
    "for phase_dir in phase_dirs:\n",
    "    print(phase_dir)\n",
    "    for file in sorted(os.listdir(phase_dir)):\n",
    "        if file.endswith('.crossovers.json'):\n",
    "            with open('%s/%s' % (phase_dir, file), 'r') as f:\n",
    "                cos = json.load(f)\n",
    "                if len(cos)<250:\n",
    "                    child1, child2 = cos[0]['child']\n",
    "                    if child1 not in already_seen and child2 not in already_seen:\n",
    "                        child_to_num_crossovers_mat[(child1, child2)] = len([x for x in cos if x['is_mat']])\n",
    "                        child_to_num_crossovers_pat[(child1, child2)] = len([x for x in cos if x['is_pat']])\n",
    "                        already_seen.add(child1)\n",
    "                        already_seen.add(child2)\n",
    "                        mom_child_pairs.add((cos[0]['mom'], child1))\n",
    "                        mom_child_pairs.add((cos[0]['mom'], child2))\n",
    "                        dad_child_pairs.add((cos[0]['dad'], child1))\n",
    "                        dad_child_pairs.add((cos[0]['dad'], child2))\n",
    "                        child_pair_to_dataset[(child1, child2)] = phase_dir\n",
    "                else:\n",
    "                    print('Are they related?', file)\n",
    "    print(len(child_to_num_crossovers_mat))\n",
    "    \n",
    "for phase_dir in phase_dirs:\n",
    "    print(phase_dir)\n",
    "    for file in sorted(os.listdir(phase_dir)):\n",
    "        if file.endswith('.gene_conversions.json'):\n",
    "            with open('%s/%s' % (phase_dir, file), 'r') as f:\n",
    "                cos = json.load(f)\n",
    "                if len(cos)<250:\n",
    "                    child1, child2 = cos[0]['child']\n",
    "                    if (child1, child2) in child_pair_to_dataset:\n",
    "                        child_to_num_crossovers_mat[(child1, child2)] += len([x for x in cos if x['is_mat']])\n",
    "                        child_to_num_crossovers_pat[(child1, child2)] += len([x for x in cos if x['is_pat']])\n",
    "                else:\n",
    "                    print('Are they related?', file)\n",
    "    print(len(child_to_num_crossovers_mat))\n",
    "            \n",
    "print(len(child_to_num_crossovers_mat),  len(already_seen))"
   ]
  },
  {
   "cell_type": "code",
   "execution_count": 448,
   "metadata": {},
   "outputs": [
    {
     "data": {
      "image/png": "[encoded data removed]",
      "text/plain": [
       "<Figure size 432x288 with 1 Axes>"
      ]
     },
     "metadata": {
      "needs_background": "light"
     },
     "output_type": "display_data"
    }
   ],
   "source": [
    "plt.rcParams.update({'font.size': 16})\n",
    "\n",
    "plt.hist(child_to_num_crossovers_mat.values(), bins=np.arange(0, 150, 2), alpha=0.5, label='mat')\n",
    "plt.hist(child_to_num_crossovers_pat.values(), bins=np.arange(0, 150, 2), alpha=0.5, label='pat')\n",
    "plt.axvline(42*2, linestyle='--', color='black')\n",
    "plt.axvline(28*2, linestyle='--', color='black')\n",
    "plt.legend()\n",
    "plt.xlabel('crossovers per quad')\n",
    "plt.tick_params(\n",
    "    axis='y',          # changes apply to the x-axis\n",
    "    which='both',      # both major and minor ticks are affected\n",
    "    left=False,      # ticks along the bottom edge are off\n",
    "    right=False,         # ticks along the top edge are off\n",
    "    labelleft=False) # labels along the bottom edge are off\n",
    "plt.show()"
   ]
  },
  {
   "cell_type": "code",
   "execution_count": 449,
   "metadata": {},
   "outputs": [
    {
     "name": "stdout",
     "output_type": "stream",
     "text": [
      "92 92\n"
     ]
    }
   ],
   "source": [
    "# pull parental ages\n",
    "child_to_mom_age_at_birth = dict()\n",
    "child_to_dad_age_at_birth = dict()\n",
    "with open('../phenotypes/mssng/agre_affchild1.csv', 'r') as f:\n",
    "    reader = csv.reader(f)\n",
    "    header = next(reader)\n",
    "    mat_age_index = header.index('MATERNAL_AGE_AT_PARTURITION')\n",
    "    pat_age_index = header.index('PATERNAL_AGE_AT_PARTURITION')\n",
    "    for pieces in reader:\n",
    "        if float(pieces[mat_age_index]) > 10:\n",
    "            child_to_mom_age_at_birth[pieces[0]] = float(pieces[mat_age_index])\n",
    "        if float(pieces[pat_age_index]) > 10:\n",
    "            child_to_dad_age_at_birth[pieces[0]] = float(pieces[pat_age_index])\n",
    "print(len(child_to_mom_age_at_birth), len(child_to_dad_age_at_birth))\n"
   ]
  },
  {
   "cell_type": "code",
   "execution_count": 450,
   "metadata": {},
   "outputs": [
    {
     "name": "stdout",
     "output_type": "stream",
     "text": [
      "244 241\n"
     ]
    }
   ],
   "source": [
    "with open('../phenotypes/mssng/rmq.csv', 'r') as f:\n",
    "    reader = csv.reader(f)\n",
    "    header = next(reader)\n",
    "    mat_age_index = header.index('MOMAGE')\n",
    "    pat_age_index = header.index('DADAGE')\n",
    "    for pieces in reader:\n",
    "        try:\n",
    "            child_to_mom_age_at_birth[pieces[0]] = float(pieces[mat_age_index])\n",
    "        except ValueError:\n",
    "            pass\n",
    "        try:\n",
    "            child_to_dad_age_at_birth[pieces[0]] = float(pieces[pat_age_index])\n",
    "        except ValueError:\n",
    "            pass\n",
    "print(len(child_to_mom_age_at_birth), len(child_to_dad_age_at_birth))\n"
   ]
  },
  {
   "cell_type": "code",
   "execution_count": 451,
   "metadata": {},
   "outputs": [
    {
     "name": "stdout",
     "output_type": "stream",
     "text": [
      "../phenotypes/ihart/Medical History Mother/MotherH1.csv\n",
      "../phenotypes/ihart/Medical History Father/FatherH1.csv\n",
      "../phenotypes/ihart/Medical History Affected Child/AffChild1.csv\n",
      "../phenotypes/ihart/Medical History Unaffected Child/Unaffec1.csv\n",
      "4152\n"
     ]
    }
   ],
   "source": [
    "person_to_birthyear = dict()\n",
    "filenames = ['../phenotypes/ihart/Medical History Mother/MotherH1.csv',\n",
    "             '../phenotypes/ihart/Medical History Father/FatherH1.csv',\n",
    "             '../phenotypes/ihart/Medical History Affected Child/AffChild1.csv',\n",
    "             '../phenotypes/ihart/Medical History Unaffected Child/Unaffec1.csv'\n",
    "            ]\n",
    "\n",
    "for filename in filenames:\n",
    "    print(filename)\n",
    "    with open(filename, 'r') as f:\n",
    "        reader = csv.reader(f)\n",
    "        header = next(reader)\n",
    "        age_index = header.index('age')\n",
    "        sample_id_index = header.index('Individual ID')\n",
    "        date_index = header.index('data_entry_date')\n",
    "        for pieces in reader:\n",
    "            try:\n",
    "                birth_year = (datetime.datetime.strptime(pieces[date_index], '%m/%d/%y') - datetime.timedelta(days=365.25*float(pieces[age_index]))).year\n",
    "                person_to_birthyear[pieces[sample_id_index]] = birth_year\n",
    "            except ValueError:\n",
    "                pass\n",
    "            \n",
    "with open('../phenotypes/mssng/bodymeas.csv', 'r') as f:\n",
    "    reader = csv.reader(f)\n",
    "    header = next(reader)\n",
    "    age_index = header.index('AgeN')\n",
    "    sample_id_index = header.index('Id')\n",
    "    date_index = header.index('testdate')\n",
    "    for pieces in reader:\n",
    "        try:\n",
    "            birth_year = (datetime.datetime.strptime(pieces[date_index], '%m/%d/%y') - datetime.timedelta(days=365.25*float(pieces[age_index])/12)).year\n",
    "            person_to_birthyear[pieces[sample_id_index]] = birth_year\n",
    "        except ValueError:\n",
    "            pass\n",
    "        \n",
    "with open('../phenotypes/mssng/srsadultresearchform.csv', 'r') as f:\n",
    "    reader = csv.reader(f)\n",
    "    header = next(reader)\n",
    "    age_index = header.index('SRSAAGE')\n",
    "    sample_id_index = header.index('Id')\n",
    "    date_index = header.index('testdate')\n",
    "    for pieces in reader:\n",
    "        try:\n",
    "            birth_year = (datetime.datetime.strptime(pieces[date_index], '%m/%d/%y') - datetime.timedelta(days=365.25*float(pieces[age_index])/12)).year\n",
    "            person_to_birthyear[pieces[sample_id_index]] = birth_year\n",
    "        except ValueError:\n",
    "            pass\n",
    "        \n",
    "with open('../phenotypes/mssng/srsparentreportforchild.csv', 'r') as f:\n",
    "    reader = csv.reader(f)\n",
    "    header = next(reader)\n",
    "    age_index = header.index('SRSAGE')\n",
    "    sample_id_index = header.index('Id')\n",
    "    date_index = header.index('testdate')\n",
    "    for pieces in reader:\n",
    "        try:\n",
    "            birth_year = (datetime.datetime.strptime(pieces[date_index], '%m/%d/%y') - datetime.timedelta(days=365.25*float(pieces[age_index])/12)).year\n",
    "            person_to_birthyear[pieces[sample_id_index]] = birth_year\n",
    "        except ValueError:\n",
    "            pass\n",
    "\n",
    "filenames = ['../phenotypes/mssng/agre_srs2srs20021.csv',\n",
    "             '../phenotypes/mssng/agre_srs2006preschool1.csv',\n",
    "             '../phenotypes/mssng/agre_srs20061.csv',\n",
    "            ]\n",
    "for filename in filenames:\n",
    "    with open(filename, 'r') as f:\n",
    "        reader = csv.reader(f)\n",
    "        header = next(reader)\n",
    "        age_index = header.index('AGE')\n",
    "        sample_id_index = header.index('Id')\n",
    "        date_index = header.index('testdate')\n",
    "        for pieces in reader:\n",
    "            try:\n",
    "                birth_year = (datetime.datetime.strptime(pieces[date_index], '%m/%d/%y') - datetime.timedelta(days=365.25*float(pieces[age_index]))).year\n",
    "                person_to_birthyear[pieces[sample_id_index]] = birth_year\n",
    "            except ValueError:\n",
    "                pass\n",
    "\n",
    "        \n",
    "filenames = ['../phenotypes/ihart/SRS/SRS_2006_Preschool1.csv',\n",
    "            '../phenotypes/ihart/SRS/SRS_20061_Adult.csv',\n",
    "            '../phenotypes/ihart/SRS/SRS_20061_Child.csv',\n",
    "            '../phenotypes/ihart/SRS/SRS_20061.csv',\n",
    "            '../phenotypes/ihart/SRS/SRS2_SRS20021_Child.csv',\n",
    "            '../phenotypes/ihart/SRS/SRS2_SRS20021_Preschool.csv',\n",
    "            '../phenotypes/ihart/SRS/SRS2_SRS20021.csv'\n",
    "            ]\n",
    "for filename in filenames:\n",
    "    with open(filename, 'r') as f:\n",
    "        reader = csv.reader(f)\n",
    "        header = next(reader)\n",
    "        age_index = header.index('age')\n",
    "        sample_id_index = header.index('Individual ID')\n",
    "        year_index = header.index('InterviewYear')\n",
    "        month_index = header.index('InterviewMonth')\n",
    "        day_index = header.index('InterviewDay')\n",
    "        for pieces in reader:\n",
    "            try:\n",
    "                birth_year = (datetime.date(int(pieces[year_index]), int(pieces[month_index]), int(pieces[day_index])) - datetime.timedelta(days=365.25*float(pieces[age_index]))).year\n",
    "                person_to_birthyear[pieces[sample_id_index]] = birth_year\n",
    "            except ValueError:\n",
    "                pass\n",
    "print(len(person_to_birthyear))\n"
   ]
  },
  {
   "cell_type": "code",
   "execution_count": 452,
   "metadata": {},
   "outputs": [
    {
     "data": {
      "image/png": "[encoded data removed]",
      "text/plain": [
       "<Figure size 432x288 with 1 Axes>"
      ]
     },
     "metadata": {
      "needs_background": "light"
     },
     "output_type": "display_data"
    }
   ],
   "source": [
    "plt.hist(person_to_birthyear.values(), bins=np.arange(1930, 2020, 5))\n",
    "plt.show()"
   ]
  },
  {
   "cell_type": "code",
   "execution_count": 453,
   "metadata": {},
   "outputs": [
    {
     "name": "stdout",
     "output_type": "stream",
     "text": [
      "638 627\n"
     ]
    }
   ],
   "source": [
    "for mom, child in mom_child_pairs:\n",
    "    if mom in person_to_birthyear and child in person_to_birthyear:\n",
    "        age_at_birth = person_to_birthyear[child] - person_to_birthyear[mom]\n",
    "        if age_at_birth > 10:\n",
    "            child_to_mom_age_at_birth[child] = age_at_birth\n",
    "for dad, child in dad_child_pairs:\n",
    "    if dad in person_to_birthyear and child in person_to_birthyear:\n",
    "        age_at_birth = person_to_birthyear[child] - person_to_birthyear[dad]\n",
    "        if age_at_birth > 10:\n",
    "            child_to_dad_age_at_birth[child] = age_at_birth\n",
    "print(len(child_to_mom_age_at_birth), len(child_to_dad_age_at_birth))\n",
    "\n",
    "              "
   ]
  },
  {
   "cell_type": "code",
   "execution_count": 454,
   "metadata": {},
   "outputs": [
    {
     "name": "stdout",
     "output_type": "stream",
     "text": [
      "638\n",
      "have ages for  394\n",
      "missing ages for  1422\n"
     ]
    }
   ],
   "source": [
    "print(len(child_to_mom_age_at_birth))\n",
    "\n",
    "print('have ages for ', len(already_seen & set(child_to_mom_age_at_birth.keys())))\n",
    "print('missing ages for ', len(already_seen - set(child_to_mom_age_at_birth.keys())))"
   ]
  },
  {
   "cell_type": "code",
   "execution_count": 455,
   "metadata": {},
   "outputs": [
    {
     "data": {
      "image/png": "[encoded data removed]",
      "text/plain": [
       "<Figure size 432x288 with 1 Axes>"
      ]
     },
     "metadata": {
      "needs_background": "light"
     },
     "output_type": "display_data"
    }
   ],
   "source": [
    "plt.hist(np.clip([child_to_mom_age_at_birth[x] for x in already_seen if x in child_to_mom_age_at_birth], 0, 64),\n",
    "        alpha=0.5, bins=np.arange(0, 65, 2), label='maternal')\n",
    "plt.hist(np.clip([child_to_dad_age_at_birth[x] for x in already_seen if x in child_to_dad_age_at_birth], 0, 64),\n",
    "        alpha=0.5, bins=np.arange(0, 65, 2), label='paternal')\n",
    "plt.title(\"Parent Age at Child's Birth\")\n",
    "plt.legend()\n",
    "plt.xlabel('Age')\n",
    "plt.tick_params(\n",
    "    axis='y',          # changes apply to the x-axis\n",
    "    which='both',      # both major and minor ticks are affected\n",
    "    left=False,      # ticks along the bottom edge are off\n",
    "    right=False,         # ticks along the top edge are off\n",
    "    labelleft=False) # labels along the bottom edge are off\n",
    "plt.show()\n"
   ]
  },
  {
   "cell_type": "code",
   "execution_count": 456,
   "metadata": {},
   "outputs": [],
   "source": [
    "mom_age, mom_recomb, mom_dataset = [], [], []\n",
    "dad_age, dad_recomb, dad_dataset = [], [], []\n",
    "for (child1, child2), cross_mat in child_to_num_crossovers_mat.items():\n",
    "    if child1 in child_to_mom_age_at_birth and child2 in child_to_mom_age_at_birth:\n",
    "        mom_age.append(child_to_mom_age_at_birth[child1]+child_to_mom_age_at_birth[child2])\n",
    "        mom_recomb.append(cross_mat)\n",
    "        mom_dataset.append([child_pair_to_dataset[(child1, child2)]==d for d in phase_dirs])\n",
    "        \n",
    "for (child1, child2), cross_pat in child_to_num_crossovers_pat.items():        \n",
    "    if child1 in child_to_dad_age_at_birth and child2 in child_to_dad_age_at_birth:\n",
    "        dad_age.append(child_to_dad_age_at_birth[child1]+child_to_dad_age_at_birth[child2])\n",
    "        dad_recomb.append(cross_pat)\n",
    "        dad_dataset.append([child_pair_to_dataset[(child1, child2)]==d for d in phase_dirs])\n",
    "        \n",
    "mom_dataset = np.array(mom_dataset)\n",
    "dad_dataset = np.array(dad_dataset)\n",
    "mom_age = np.array(mom_age)\n",
    "dad_age = np.array(dad_age)\n",
    "mom_recomb = np.array(mom_recomb)\n",
    "dad_recomb = np.array(dad_recomb)"
   ]
  },
  {
   "cell_type": "code",
   "execution_count": 457,
   "metadata": {},
   "outputs": [
    {
     "data": {
      "text/html": [
       "<table class=\"simpletable\">\n",
       "<caption>Generalized Linear Model Regression Results</caption>\n",
       "<tr>\n",
       "  <th>Dep. Variable:</th>           <td>y</td>        <th>  No. Observations:  </th>  <td>   194</td> \n",
       "</tr>\n",
       "<tr>\n",
       "  <th>Model:</th>                  <td>GLM</td>       <th>  Df Residuals:      </th>  <td>   192</td> \n",
       "</tr>\n",
       "<tr>\n",
       "  <th>Model Family:</th>         <td>Poisson</td>     <th>  Df Model:          </th>  <td>     1</td> \n",
       "</tr>\n",
       "<tr>\n",
       "  <th>Link Function:</th>          <td>log</td>       <th>  Scale:             </th> <td>  1.0000</td>\n",
       "</tr>\n",
       "<tr>\n",
       "  <th>Method:</th>                <td>IRLS</td>       <th>  Log-Likelihood:    </th> <td> -855.34</td>\n",
       "</tr>\n",
       "<tr>\n",
       "  <th>Date:</th>            <td>Sun, 26 Jul 2020</td> <th>  Deviance:          </th> <td>  462.23</td>\n",
       "</tr>\n",
       "<tr>\n",
       "  <th>Time:</th>                <td>17:02:01</td>     <th>  Pearson chi2:      </th>  <td>  471.</td> \n",
       "</tr>\n",
       "<tr>\n",
       "  <th>No. Iterations:</th>          <td>4</td>        <th>                     </th>     <td> </td>   \n",
       "</tr>\n",
       "<tr>\n",
       "  <th>Covariance Type:</th>     <td>nonrobust</td>    <th>                     </th>     <td> </td>   \n",
       "</tr>\n",
       "</table>\n",
       "<table class=\"simpletable\">\n",
       "<tr>\n",
       "    <td></td>       <th>coef</th>     <th>std err</th>      <th>z</th>      <th>P>|z|</th>  <th>[0.025</th>    <th>0.975]</th>  \n",
       "</tr>\n",
       "<tr>\n",
       "  <th>x1</th>    <td>    0.0025</td> <td>    0.001</td> <td>    3.523</td> <td> 0.000</td> <td>    0.001</td> <td>    0.004</td>\n",
       "</tr>\n",
       "<tr>\n",
       "  <th>const</th> <td>    4.4589</td> <td>    0.043</td> <td>  103.770</td> <td> 0.000</td> <td>    4.375</td> <td>    4.543</td>\n",
       "</tr>\n",
       "</table>"
      ],
      "text/plain": [
       "<class 'statsmodels.iolib.summary.Summary'>\n",
       "\"\"\"\n",
       "                 Generalized Linear Model Regression Results                  \n",
       "==============================================================================\n",
       "Dep. Variable:                      y   No. Observations:                  194\n",
       "Model:                            GLM   Df Residuals:                      192\n",
       "Model Family:                 Poisson   Df Model:                            1\n",
       "Link Function:                    log   Scale:                          1.0000\n",
       "Method:                          IRLS   Log-Likelihood:                -855.34\n",
       "Date:                Sun, 26 Jul 2020   Deviance:                       462.23\n",
       "Time:                        17:02:01   Pearson chi2:                     471.\n",
       "No. Iterations:                     4                                         \n",
       "Covariance Type:            nonrobust                                         \n",
       "==============================================================================\n",
       "                 coef    std err          z      P>|z|      [0.025      0.975]\n",
       "------------------------------------------------------------------------------\n",
       "x1             0.0025      0.001      3.523      0.000       0.001       0.004\n",
       "const          4.4589      0.043    103.770      0.000       4.375       4.543\n",
       "==============================================================================\n",
       "\"\"\""
      ]
     },
     "execution_count": 457,
     "metadata": {},
     "output_type": "execute_result"
    }
   ],
   "source": [
    "\n",
    "mat_model = sm.GLM(np.array(mom_recomb), np.hstack((np.array(mom_age)[:, np.newaxis], mom_dataset[:, np.sum(mom_dataset, axis=0)>0])), family=Poisson())\n",
    "mat_results = mat_model.fit()\n",
    "mat_results.summary()\n"
   ]
  },
  {
   "cell_type": "code",
   "execution_count": 460,
   "metadata": {},
   "outputs": [
    {
     "data": {
      "text/plain": [
       "array([0.00042604, 0.        ])"
      ]
     },
     "execution_count": 460,
     "metadata": {},
     "output_type": "execute_result"
    }
   ],
   "source": [
    "mat_results.pvalues"
   ]
  },
  {
   "cell_type": "code",
   "execution_count": 458,
   "metadata": {},
   "outputs": [
    {
     "data": {
      "text/html": [
       "<table class=\"simpletable\">\n",
       "<caption>Generalized Linear Model Regression Results</caption>\n",
       "<tr>\n",
       "  <th>Dep. Variable:</th>           <td>y</td>        <th>  No. Observations:  </th>  <td>   190</td> \n",
       "</tr>\n",
       "<tr>\n",
       "  <th>Model:</th>                  <td>GLM</td>       <th>  Df Residuals:      </th>  <td>   188</td> \n",
       "</tr>\n",
       "<tr>\n",
       "  <th>Model Family:</th>         <td>Poisson</td>     <th>  Df Model:          </th>  <td>     1</td> \n",
       "</tr>\n",
       "<tr>\n",
       "  <th>Link Function:</th>          <td>log</td>       <th>  Scale:             </th> <td>  1.0000</td>\n",
       "</tr>\n",
       "<tr>\n",
       "  <th>Method:</th>                <td>IRLS</td>       <th>  Log-Likelihood:    </th> <td> -720.41</td>\n",
       "</tr>\n",
       "<tr>\n",
       "  <th>Date:</th>            <td>Sun, 26 Jul 2020</td> <th>  Deviance:          </th> <td>  282.02</td>\n",
       "</tr>\n",
       "<tr>\n",
       "  <th>Time:</th>                <td>17:02:02</td>     <th>  Pearson chi2:      </th>  <td>  292.</td> \n",
       "</tr>\n",
       "<tr>\n",
       "  <th>No. Iterations:</th>          <td>4</td>        <th>                     </th>     <td> </td>   \n",
       "</tr>\n",
       "<tr>\n",
       "  <th>Covariance Type:</th>     <td>nonrobust</td>    <th>                     </th>     <td> </td>   \n",
       "</tr>\n",
       "</table>\n",
       "<table class=\"simpletable\">\n",
       "<tr>\n",
       "    <td></td>       <th>coef</th>     <th>std err</th>      <th>z</th>      <th>P>|z|</th>  <th>[0.025</th>    <th>0.975]</th>  \n",
       "</tr>\n",
       "<tr>\n",
       "  <th>x1</th>    <td>   -0.0010</td> <td>    0.001</td> <td>   -1.406</td> <td> 0.160</td> <td>   -0.002</td> <td>    0.000</td>\n",
       "</tr>\n",
       "<tr>\n",
       "  <th>const</th> <td>    4.3335</td> <td>    0.047</td> <td>   92.838</td> <td> 0.000</td> <td>    4.242</td> <td>    4.425</td>\n",
       "</tr>\n",
       "</table>"
      ],
      "text/plain": [
       "<class 'statsmodels.iolib.summary.Summary'>\n",
       "\"\"\"\n",
       "                 Generalized Linear Model Regression Results                  \n",
       "==============================================================================\n",
       "Dep. Variable:                      y   No. Observations:                  190\n",
       "Model:                            GLM   Df Residuals:                      188\n",
       "Model Family:                 Poisson   Df Model:                            1\n",
       "Link Function:                    log   Scale:                          1.0000\n",
       "Method:                          IRLS   Log-Likelihood:                -720.41\n",
       "Date:                Sun, 26 Jul 2020   Deviance:                       282.02\n",
       "Time:                        17:02:02   Pearson chi2:                     292.\n",
       "No. Iterations:                     4                                         \n",
       "Covariance Type:            nonrobust                                         \n",
       "==============================================================================\n",
       "                 coef    std err          z      P>|z|      [0.025      0.975]\n",
       "------------------------------------------------------------------------------\n",
       "x1            -0.0010      0.001     -1.406      0.160      -0.002       0.000\n",
       "const          4.3335      0.047     92.838      0.000       4.242       4.425\n",
       "==============================================================================\n",
       "\"\"\""
      ]
     },
     "execution_count": 458,
     "metadata": {},
     "output_type": "execute_result"
    }
   ],
   "source": [
    "\n",
    "dad_model = sm.GLM(np.array(dad_recomb), np.hstack((np.array(dad_age)[:, np.newaxis], dad_dataset[:, np.sum(dad_dataset, axis=0)>0])), family=Poisson())\n",
    "dad_results = dad_model.fit()\n",
    "dad_results.summary()\n",
    "\n"
   ]
  },
  {
   "cell_type": "code",
   "execution_count": 459,
   "metadata": {},
   "outputs": [
    {
     "data": {
      "image/png": "[encoded data removed]",
      "text/plain": [
       "<Figure size 1080x504 with 2 Axes>"
      ]
     },
     "metadata": {
      "needs_background": "light"
     },
     "output_type": "display_data"
    }
   ],
   "source": [
    "prop_cycle = plt.rcParams['axes.prop_cycle']\n",
    "colors = prop_cycle.by_key()['color']\n",
    "\n",
    "plt.figure(figsize=(15, 7))\n",
    "plt.subplot(1, 2, 1)\n",
    "plt.scatter(np.array(mom_age), np.array(mom_recomb))\n",
    "plt.plot(plt.xlim(), np.exp(mat_results.params[1] + mat_results.params[0]*np.array(plt.xlim())), color=colors[0])\n",
    "xs = np.arange(plt.xlim()[0], plt.xlim()[1], 1)\n",
    "plt.fill_between(xs, \n",
    "                 mat_results.get_prediction(np.hstack((xs[:, np.newaxis], np.ones((xs.shape[0], 1))))).conf_int()[:, 0],\n",
    "                 mat_results.get_prediction(np.hstack((xs[:, np.newaxis], np.ones((xs.shape[0], 1))))).conf_int()[:, 1], alpha=0.5, color=colors[0])\n",
    "plt.plot(plt.xlim(), np.mean(mom_recomb)*np.ones((2,)), color='black', linestyle='--')\n",
    "\n",
    "plt.xlabel('Maternal age at child1 birth +\\nMaternal age at child2 birth')\n",
    "plt.ylabel('Maternal crossovers in child1 +\\nMaternal crossovers in child2')\n",
    "plt.title('Maternal age vs crossovers')\n",
    "\n",
    "plt.subplot(1, 2, 2)\n",
    "plt.scatter(np.array(dad_age), np.array(dad_recomb))\n",
    "plt.plot(plt.xlim(), np.exp(dad_results.params[1] + dad_results.params[0]*np.array(plt.xlim())), color=colors[0])\n",
    "xs = np.arange(plt.xlim()[0], plt.xlim()[1], 1)\n",
    "plt.fill_between(xs, \n",
    "                 dad_results.get_prediction(np.hstack((xs[:, np.newaxis], np.ones((xs.shape[0], 1))))).conf_int()[:, 0],\n",
    "                 dad_results.get_prediction(np.hstack((xs[:, np.newaxis], np.ones((xs.shape[0], 1))))).conf_int()[:, 1], alpha=0.5, color=colors[0])\n",
    "plt.plot(plt.xlim(), np.mean(dad_recomb)*np.ones((2,)), color='black', linestyle='--')\n",
    "\n",
    "plt.xlabel('Paternal age at child1 birth +\\nPaternal age at child2 birth')\n",
    "plt.ylabel('Paternal crossovers in child1 +\\nPaternal crossovers in child2')\n",
    "plt.title('Paternal age vs crossovers')\n",
    "\n",
    "plt.tight_layout()\n",
    "plt.show()"
   ]
  },
  {
   "cell_type": "code",
   "execution_count": null,
   "metadata": {},
   "outputs": [],
   "source": []
  },
  {
   "cell_type": "code",
   "execution_count": null,
   "metadata": {},
   "outputs": [],
   "source": []
  }
 ],
 "metadata": {
  "kernelspec": {
   "display_name": "Python 3",
   "language": "python",
   "name": "python3"
  },
  "language_info": {
   "codemirror_mode": {
    "name": "ipython",
    "version": 3
   },
   "file_extension": ".py",
   "mimetype": "text/x-python",
   "name": "python",
   "nbconvert_exporter": "python",
   "pygments_lexer": "ipython3",
   "version": "3.7.3"
  }
 },
 "nbformat": 4,
 "nbformat_minor": 2
}
