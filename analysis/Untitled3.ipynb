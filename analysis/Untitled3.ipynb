{
 "cells": [
  {
   "cell_type": "code",
   "execution_count": 1,
   "metadata": {},
   "outputs": [
    {
     "name": "stdout",
     "output_type": "stream",
     "text": [
      "chrom 22 shape 4610 1004649\n"
     ]
    }
   ],
   "source": [
    "import numpy as np\n",
    "from scipy import sparse\n",
    "from os import listdir\n",
    "\n",
    "data_dir = '../split_gen_ihart'\n",
    "chrom = '22'\n",
    "\n",
    "# pull sample ids\n",
    "sample_file = '%s/chr.%s.gen.samples.txt' % (data_dir, chrom)\n",
    "with open(sample_file, 'r') as f:\n",
    "    sample_ids = [line.strip() for line in f]\n",
    "sample_id_to_index = dict([(sample_id, i) for i, sample_id in enumerate(sample_ids)])\n",
    "\n",
    "# pull coordinates\n",
    "# coordinates[:, 1] is the position\n",
    "# coordinates[:, 2] is 1 if the variant is a biallelic SNP else 0\n",
    "coordinates = np.load('%s/chr.%s.gen.coordinates.npy' % (data_dir,  chrom))\n",
    "snp_positions = coordinates[:, 1]\n",
    "snp_indices = coordinates[:, 2]==1\n",
    "\n",
    "# pull genotype data from .npz\n",
    "gen_files = sorted([f for f in listdir(data_dir) if ('chr.%s.' % chrom) in f and 'gen.npz' in f])\n",
    "whole_chrom = sparse.hstack([sparse.load_npz('%s/%s' % (data_dir, gen_file)) for gen_file in gen_files])\n",
    "\n",
    "# only keep the biallelic SNPS\n",
    "whole_chrom = whole_chrom[:, snp_indices]\n",
    "snp_positions = snp_positions[snp_indices]\n",
    "\n",
    "m, n = whole_chrom.shape\n",
    "print('chrom %s shape' % chrom, m, n)"
   ]
  },
  {
   "cell_type": "code",
   "execution_count": null,
   "metadata": {},
   "outputs": [],
   "source": []
  }
 ],
 "metadata": {
  "kernelspec": {
   "display_name": "Python 3",
   "language": "python",
   "name": "python3"
  },
  "language_info": {
   "codemirror_mode": {
    "name": "ipython",
    "version": 3
   },
   "file_extension": ".py",
   "mimetype": "text/x-python",
   "name": "python",
   "nbconvert_exporter": "python",
   "pygments_lexer": "ipython3",
   "version": "3.6.7"
  }
 },
 "nbformat": 4,
 "nbformat_minor": 2
}
