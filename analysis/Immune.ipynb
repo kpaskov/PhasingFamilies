{
 "cells": [
  {
   "cell_type": "code",
   "execution_count": 40,
   "metadata": {},
   "outputs": [],
   "source": [
    "import numpy as np\n",
    "import json\n",
    "import matplotlib.pyplot as plt\n",
    "import scipy.stats as stats"
   ]
  },
  {
   "cell_type": "code",
   "execution_count": 68,
   "metadata": {},
   "outputs": [],
   "source": [
    "#ped_file = '../../DATA/ssc.hg38/ssc.ped'\n",
    "ped_file = '../../DATA/ihart.ms2/ihart.ped.quads.ped'"
   ]
  },
  {
   "cell_type": "code",
   "execution_count": 69,
   "metadata": {},
   "outputs": [],
   "source": [
    "#with open('../ssc.hg38/deletions.json', 'r') as f:\n",
    "with open('../ihart.ms2/deletions.json', 'r') as f:\n",
    "    deletions = json.load(f)"
   ]
  },
  {
   "cell_type": "code",
   "execution_count": 70,
   "metadata": {},
   "outputs": [],
   "source": [
    "sample_to_affected = dict()\n",
    "with open(ped_file, 'r') as f:\n",
    "    for line in f:\n",
    "        pieces = line.strip().split('\\t')\n",
    "        sample_to_affected[pieces[1]] = pieces[5]"
   ]
  },
  {
   "cell_type": "code",
   "execution_count": 71,
   "metadata": {},
   "outputs": [
    {
     "name": "stdout",
     "output_type": "stream",
     "text": [
      "427774\n"
     ]
    }
   ],
   "source": [
    "print(len(deletions))"
   ]
  },
  {
   "cell_type": "code",
   "execution_count": 72,
   "metadata": {},
   "outputs": [
    {
     "data": {
      "image/png": "[encoded data removed]",
      "text/plain": [
       "<Figure size 432x288 with 1 Axes>"
      ]
     },
     "metadata": {
      "needs_background": "light"
     },
     "output_type": "display_data"
    }
   ],
   "source": [
    "plt.hist(np.log10([d['length'] for d in deletions if d['is_mat']]), bins=np.arange(0, 7, 0.1), alpha=0.5)\n",
    "plt.hist(np.log10([d['length'] for d in deletions if d['is_pat']]), bins=np.arange(0, 7, 0.1), alpha=0.5)\n",
    "plt.show()"
   ]
  },
  {
   "cell_type": "code",
   "execution_count": 77,
   "metadata": {},
   "outputs": [
    {
     "data": {
      "image/png": "[encoded data removed]",
      "text/plain": [
       "<Figure size 432x288 with 1 Axes>"
      ]
     },
     "metadata": {
      "needs_background": "light"
     },
     "output_type": "display_data"
    }
   ],
   "source": [
    "plt.hist(np.log10([d['length'] for d in deletions if d['is_mat'] and len(d['trans'])==1]), bins=np.arange(0, 7, 0.5), alpha=0.5)\n",
    "plt.hist(np.log10([d['length'] for d in deletions if d['is_pat'] and len(d['trans'])==1]), bins=np.arange(0, 7, 0.5), alpha=0.5)\n",
    "plt.show()"
   ]
  },
  {
   "cell_type": "code",
   "execution_count": 73,
   "metadata": {},
   "outputs": [
    {
     "name": "stdout",
     "output_type": "stream",
     "text": [
      "{'family': 'AU1047.AU1047301.AU1047302', 'chrom': '18', 'start_pos': 10679, 'end_pos': 63490, 'length': 52812, 'opt_start_pos': 10679, 'opt_end_pos': 63798, 'trans': ['AU1047301'], 'notrans': ['AU1047302'], 'family_size': 4, 'is_mat': True, 'is_pat': False, 'mother': 'AU1047202', 'father': 'AU1047201', 'is_denovo': False, 'is_inherited': True, 'quality_score': None, 'is_hts': False}\n"
     ]
    }
   ],
   "source": [
    "print(deletions[0])"
   ]
  },
  {
   "cell_type": "code",
   "execution_count": 74,
   "metadata": {},
   "outputs": [
    {
     "data": {
      "image/png": "[encoded data removed]",
      "text/plain": [
       "<Figure size 432x288 with 1 Axes>"
      ]
     },
     "metadata": {
      "needs_background": "light"
     },
     "output_type": "display_data"
    }
   ],
   "source": [
    "plt.hist([len(d['trans']) for d in deletions if d['is_mat']], alpha=0.5)\n",
    "plt.hist([len(d['trans']) for d in deletions if d['is_pat']], alpha=0.5)\n",
    "plt.show()"
   ]
  },
  {
   "cell_type": "code",
   "execution_count": 75,
   "metadata": {},
   "outputs": [
    {
     "name": "stdout",
     "output_type": "stream",
     "text": [
      "27592 27754 0.49375006500435575\n",
      "146493 145433 0.049993758017997776\n"
     ]
    }
   ],
   "source": [
    "x = len([x for x in deletions if x['is_mat'] and len(x['trans'])==1 and x['length']<100])\n",
    "y = len([x for x in deletions if x['is_pat'] and len(x['trans'])==1 and x['length']<100])\n",
    "print(x, y, stats.binom_test([x, y]))\n",
    "\n",
    "x = len([x for x in deletions if x['is_mat'] and x['length']>100])\n",
    "y = len([x for x in deletions if x['is_pat'] and x['length']>100])\n",
    "print(x, y, stats.binom_test([x, y]))"
   ]
  },
  {
   "cell_type": "code",
   "execution_count": null,
   "metadata": {},
   "outputs": [],
   "source": [
    "# ihart 84280 83134 0.005135515277722183\n",
    "# ssc 108654 110428 0.00015187752517273573\n",
    "# ssc 193531 195081 0.012961932540132342"
   ]
  },
  {
   "cell_type": "code",
   "execution_count": 55,
   "metadata": {},
   "outputs": [
    {
     "name": "stdout",
     "output_type": "stream",
     "text": [
      "0.00016729068524225208\n",
      "0.0363472794414628\n"
     ]
    }
   ],
   "source": [
    "print(stats.binom_test([122747, 124620]))\n",
    "print(stats.binom_test([111908, 110919]))"
   ]
  },
  {
   "cell_type": "code",
   "execution_count": null,
   "metadata": {},
   "outputs": [],
   "source": []
  }
 ],
 "metadata": {
  "kernelspec": {
   "display_name": "Python 3",
   "language": "python",
   "name": "python3"
  },
  "language_info": {
   "codemirror_mode": {
    "name": "ipython",
    "version": 3
   },
   "file_extension": ".py",
   "mimetype": "text/x-python",
   "name": "python",
   "nbconvert_exporter": "python",
   "pygments_lexer": "ipython3",
   "version": "3.7.3"
  }
 },
 "nbformat": 4,
 "nbformat_minor": 2
}
