{
 "cells": [
  {
   "cell_type": "markdown",
   "metadata": {},
   "source": [
    "# Prep data"
   ]
  },
  {
   "cell_type": "code",
   "execution_count": 3,
   "metadata": {
    "collapsed": true
   },
   "outputs": [],
   "source": [
    "import sys\n",
    "import time\n",
    "from os import listdir\n",
    "import gzip\n",
    "\n",
    "from collections import Counter, Hashable, defaultdict\n",
    "from itertools import chain, product\n",
    "\n",
    "import numpy as np\n",
    "from scipy import sparse\n",
    "import random"
   ]
  },
  {
   "cell_type": "code",
   "execution_count": 4,
   "metadata": {
    "collapsed": true
   },
   "outputs": [],
   "source": [
    "chrom = '22'\n",
    "m = 5\n",
    "ped_file = '../data/160826.ped'\n",
    "data_dir = '../split_gen_miss'\n",
    "\n",
    "sample_file = '%s/chr.%s.gen.samples.txt' % (data_dir, chrom)\n",
    "coord_file = '%s/chr.%s.gen.coordinates.npy' % (data_dir,  chrom)\n",
    "gen_files = sorted([f for f in listdir(data_dir) if ('chr.%s' % chrom) in f and 'gen.npz' in f])"
   ]
  },
  {
   "cell_type": "code",
   "execution_count": 5,
   "metadata": {
    "collapsed": true
   },
   "outputs": [],
   "source": [
    "# From GRCh37.p13 https://www.ncbi.nlm.nih.gov/grc/human/data?asm=GRCh37.p13\n",
    "chrom_lengths = {\n",
    "\t'1': 249250621,\n",
    "\t'2': 243199373,\n",
    "\t'3': 198022430,\n",
    "\t'4': 191154276,\n",
    "\t'5': 180915260,\n",
    "\t'6': 171115067,\n",
    "\t'7': 159138663,\n",
    "\t'8': 146364022,\n",
    "\t'9': 141213431,\n",
    "\t'10': 135534747,\n",
    "\t'11': 135006516,\n",
    "\t'12': 133851895,\n",
    "\t'13': 115169878,\n",
    "\t'14': 107349540,\n",
    "\t'15': 102531392,\n",
    "\t'16': 90354753,\n",
    "\t'17': 81195210,\n",
    "\t'18': 78077248,\n",
    "\t'19': 59128983,\n",
    "\t'20': 63025520,\n",
    "\t'21': 48129895,\n",
    "\t'22': 51304566,\n",
    "\t'X': 155270560,\n",
    "\t'Y': 59373566\n",
    "}\n",
    "chrom_length = chrom_lengths[chrom]"
   ]
  },
  {
   "cell_type": "code",
   "execution_count": 6,
   "metadata": {
    "collapsed": true
   },
   "outputs": [],
   "source": [
    "# genotype (pred, obs): cost\n",
    "g_cost = {\n",
    "\t(-1, 0): 1,\n",
    "\t(-1, 1): 1,\n",
    "\t(-1, 2): 1,\n",
    "\t(0, 0): 0,\n",
    "\t(0, 1): 1,\n",
    "\t(0, 2): 2,\n",
    "\t(1, 0): 1,\n",
    "\t(1, 1): 0,\n",
    "\t(1, 2): 1,\n",
    "\t(2, 0): 2,\n",
    "\t(2, 1): 1,\n",
    "\t(2, 2): 0\n",
    "}\n"
   ]
  },
  {
   "cell_type": "code",
   "execution_count": 7,
   "metadata": {},
   "outputs": [
    {
     "name": "stdout",
     "output_type": "stream",
     "text": [
      "families with sequence data 886\n",
      "families of size 5: 356\n"
     ]
    }
   ],
   "source": [
    "# pull families with sequence data\n",
    "with open(sample_file, 'r') as f:\n",
    "\tsample_ids = [line.strip() for line in f]\n",
    "sample_id_to_index = dict([(sample_id, i) for i, sample_id in enumerate(sample_ids)])\n",
    "\n",
    "# pull families from ped file\n",
    "families = dict()\n",
    "with open(ped_file, 'r') as f:\t\n",
    "    for line in f:\n",
    "        pieces = line.strip().split('\\t')\n",
    "        fam_id, child_id, f_id, m_id = pieces[0:4]\n",
    "\n",
    "        if child_id in sample_ids and f_id in sample_ids and m_id in sample_ids:\n",
    "        \tif (fam_id, m_id, f_id) not in families:\n",
    "        \t\tfamilies[(fam_id, m_id, f_id)] = [m_id, f_id]\n",
    "        \tfamilies[(fam_id, m_id, f_id)].append(child_id)\n",
    "\n",
    "# randomly permute children\n",
    "families = dict([(k, x[:2]+random.sample(x[2:], len(x)-2)) for k, x in families.items()])\n",
    "family_to_indices = dict([(fid, [sample_id_to_index[x] for x in vs]) for fid, vs in families.items()])\n",
    "print('families with sequence data', len(families))\n",
    "\n",
    "families_of_this_size = [(fkey, ind_indices) for fkey, ind_indices in family_to_indices.items() if len(ind_indices) == m]\n",
    "print('families of size %d: %d' % (m, len(families_of_this_size)))"
   ]
  },
  {
   "cell_type": "code",
   "execution_count": 184,
   "metadata": {},
   "outputs": [
    {
     "name": "stdout",
     "output_type": "stream",
     "text": [
      "inheritance states (904, 11)\n"
     ]
    }
   ],
   "source": [
    "# inheritance states\n",
    "#\n",
    "#\n",
    "# for parents:\n",
    "# (0, 0) -> double deletion\n",
    "# (0, 1) -> deletion on parental1\n",
    "# (1, 0) -> deletion on parental2\n",
    "# (1, 1) -> normal\n",
    "# \n",
    "# for children:\n",
    "# (0, 0) -> m1p1\n",
    "# (0, 1) -> m1p2\n",
    "# (1, 0) -> m2p1\n",
    "# (1, 1) -> m2p2\n",
    "#\n",
    "# for family:\n",
    "# (0) -> can't model\n",
    "# (1) -> we're good\n",
    "\n",
    "if m >= 5:\n",
    "\tinheritance_states = np.array(list(product(*([[0, 1]]*(2*m+1)))), dtype=np.int8)\n",
    "else:\n",
    "\tinheritance_states = np.array([x for x in product(*([[0, 1]]*(2*m+1))) if x[4]==0 and x[5]==0], dtype=np.int8)\n",
    "\n",
    "# parents aren't allowed to have deletions on a chromosome that no one inherits\n",
    "# deletions are also not allowed in the family-0 (can't model state)\n",
    "ok_states = []\n",
    "state_len = inheritance_states.shape[1]\n",
    "maternal_indices = range(4, state_len, 2)\n",
    "paternal_indices = range(5, state_len, 2)\n",
    "for i, s in enumerate(inheritance_states):\n",
    "    if np.all(s[maternal_indices]!=0) and s[0] == 0:\n",
    "        pass\n",
    "    elif np.all(s[maternal_indices]!=1) and s[1] == 0:\n",
    "        pass\n",
    "    elif np.all(s[paternal_indices]!=0) and s[2] == 0:\n",
    "        pass\n",
    "    elif np.all(s[paternal_indices]!=1) and s[3] == 0:\n",
    "        pass\n",
    "    elif np.any(s[:4]==0) and s[-1] == 0:\n",
    "        pass\n",
    "    else:\n",
    "        ok_states.append(i)\n",
    "\n",
    "# parents aren't allowed to have deletions unless both chromosomes are inherited\n",
    "#for i, s in enumerate(inheritance_states):\n",
    "#    if (np.all(s[maternal_indices]!=0) or np.all(s[maternal_indices]!=1)) and (s[0] == 0 or s[1] == 0):\n",
    "#        pass\n",
    "#    elif (np.all(s[paternal_indices]!=0) or np.all(s[paternal_indices]!=1)) and (s[2] == 0 or s[3] == 0):\n",
    "#        pass\n",
    "#    else:\n",
    "#        ok_states.append(i)\n",
    "inheritance_states = inheritance_states[ok_states, :]\n",
    "\n",
    "\n",
    "state_to_index = dict([(tuple(x), i) for i, x in enumerate(inheritance_states)])\n",
    "p = inheritance_states.shape[0]\n",
    "print('inheritance states', inheritance_states.shape)"
   ]
  },
  {
   "cell_type": "code",
   "execution_count": 250,
   "metadata": {},
   "outputs": [
    {
     "name": "stdout",
     "output_type": "stream",
     "text": [
      "(904, 23)\n",
      "(904, 23)\n"
     ]
    }
   ],
   "source": [
    "# transition matrix\n",
    "# only allow one shift at a time\n",
    "shift_costs = [10]*4 + [500]*(2*(m-2)) + [500]\n",
    "\n",
    "transitions = [[] for i in range(p)]\n",
    "transition_costs = [[] for i in range(p)]\n",
    "for i, state in enumerate(inheritance_states):\n",
    "\tfor delstate in list(product(*[[0, 1]]*5)):\n",
    "\t\tnew_state = tuple(delstate[:4]) + tuple(state[4:-1]) + (delstate[-1],)\n",
    "\t\tif new_state in state_to_index:\n",
    "\t\t\tnew_index = state_to_index[new_state]\n",
    "\t\t\ttransitions[i].append(new_index)\n",
    "\t\t\ttransition_costs[i].append(sum([shift_costs[j] for j, (old_s, new_s) in enumerate(zip(state[:4] + [state[-1]], delstate)) if old_s != new_s]))\n",
    "\n",
    "\t# allow a single recombination event\n",
    "\tfor j in range(4, inheritance_states.shape[1]-1):\n",
    "\t\tif state[-1] == 1: # only allow recombination in family-1\n",
    "\t\t\tnew_state = tuple(1-x if k == j else x for k, x in enumerate(state))\n",
    "\t\t\tif new_state in state_to_index:\n",
    "\t\t\t\tnew_index = state_to_index[new_state]\n",
    "\t\t\t\ttransitions[i].append(new_index)\n",
    "\t\t\t\ttransition_costs[i].append(shift_costs[j])\n",
    "            \n",
    "\n",
    "maxtrans = max([len(k) for k in transitions])\n",
    "for i, trans in enumerate(transitions):\n",
    "    num_trans = len(trans)\n",
    "    trans.extend([i]*(maxtrans-num_trans))\n",
    "    transition_costs[i].extend([0]*(maxtrans-num_trans))\n",
    "transitions = np.array(transitions)\n",
    "transition_costs = np.array(transition_costs)\n",
    "print(transitions.shape)\n",
    "print(transition_costs.shape)"
   ]
  },
  {
   "cell_type": "code",
   "execution_count": 251,
   "metadata": {},
   "outputs": [
    {
     "name": "stdout",
     "output_type": "stream",
     "text": [
      "transitions (904, 23)\n"
     ]
    }
   ],
   "source": [
    "starting_state = (1, 1, 1, 1, 0, 0)\n",
    "zero_transition_costs = np.zeros((p,), dtype=int)\n",
    "for i, ss in enumerate(starting_state):\n",
    "\tzero_transition_costs[inheritance_states[:, i] != ss] += shift_costs[i]\n",
    "    \n",
    "print('transitions', transitions.shape)"
   ]
  },
  {
   "cell_type": "code",
   "execution_count": 190,
   "metadata": {},
   "outputs": [
    {
     "name": "stdout",
     "output_type": "stream",
     "text": [
      "perfect matches (328, 5) Counter({4: 314, 8: 232, 2: 188, 16: 96, 1: 42, 15: 32})\n"
     ]
    }
   ],
   "source": [
    "# perfect match genotypes\n",
    "pm_gen_to_index = dict()\n",
    "pm_gen_indices = []\n",
    "for s in inheritance_states:\n",
    "    anc_pos = [[-1] if s[i] == 0 else [0, 1] for i in range(4)]\n",
    "    anc_variants = np.array(list(product(*anc_pos)), dtype=np.int8)\n",
    "    pred_gens = np.zeros((anc_variants.shape[0], m), dtype=np.int8)\n",
    "\n",
    "    # mom\n",
    "    # deletion\n",
    "    pred_gens[(anc_variants[:, 0]==-1) & (anc_variants[:, 1]==-1), 0] = -1\n",
    "    pred_gens[(anc_variants[:, 0]==-1) & (anc_variants[:, 1]==0), 0] = 0\n",
    "    pred_gens[(anc_variants[:, 0]==-1) & (anc_variants[:, 1]==1), 0] = 2\n",
    "    pred_gens[(anc_variants[:, 0]==0) & (anc_variants[:, 1]==-1), 0] = 0\n",
    "    pred_gens[(anc_variants[:, 0]==1) & (anc_variants[:, 1]==-1), 0] = 2\n",
    "    # normal\n",
    "    pred_gens[(anc_variants[:, 0]==0) & (anc_variants[:, 1]==0), 0] = 0\n",
    "    pred_gens[(anc_variants[:, 0]==1) & (anc_variants[:, 1]==1), 0] = 2\n",
    "    pred_gens[(anc_variants[:, 0]==0) & (anc_variants[:, 1]==1), 0] = 1\n",
    "    pred_gens[(anc_variants[:, 0]==1) & (anc_variants[:, 1]==0), 0] = 1\n",
    "\n",
    "    # dad\n",
    "    # deletion\n",
    "    pred_gens[(anc_variants[:, 2]==-1) & (anc_variants[:, 3]==-1), 1] = -1\n",
    "    pred_gens[(anc_variants[:, 2]==-1) & (anc_variants[:, 3]==0), 1] = 0\n",
    "    pred_gens[(anc_variants[:, 2]==-1) & (anc_variants[:, 3]==1), 1] = 2\n",
    "    pred_gens[(anc_variants[:, 2]==0) & (anc_variants[:, 3]==-1), 1] = 0\n",
    "    pred_gens[(anc_variants[:, 2]==1) & (anc_variants[:, 3]==-1), 1] = 2\n",
    "    # normal\n",
    "    pred_gens[(anc_variants[:, 2]==0) & (anc_variants[:, 3]==0), 1] = 0\n",
    "    pred_gens[(anc_variants[:, 2]==1) & (anc_variants[:, 3]==1), 1] = 2\n",
    "    pred_gens[(anc_variants[:, 2]==0) & (anc_variants[:, 3]==1), 1] = 1\n",
    "    pred_gens[(anc_variants[:, 2]==1) & (anc_variants[:, 3]==0), 1] = 1\n",
    "\n",
    "    # children\n",
    "    for index in range(m-2):\n",
    "        mat, pat = s[(4+(2*index)):(6+(2*index))]\n",
    "\n",
    "        # deletion\n",
    "        pred_gens[(anc_variants[:, mat]==-1) & (anc_variants[:, 2+pat]==-1), 2+index] = -1\n",
    "        pred_gens[(anc_variants[:, mat]==-1) & (anc_variants[:, 2+pat]==0), 2+index] = 0\n",
    "        pred_gens[(anc_variants[:, mat]==-1) & (anc_variants[:, 2+pat]==1), 2+index] = 2\n",
    "        pred_gens[(anc_variants[:, mat]==0) & (anc_variants[:, 2+pat]==-1), 2+index] = 0\n",
    "        pred_gens[(anc_variants[:, mat]==1) & (anc_variants[:, 2+pat]==-1), 2+index] = 2\n",
    "        # normal\n",
    "        pred_gens[(anc_variants[:, mat]==0) & (anc_variants[:, 2+pat]==0), 2+index] = 0\n",
    "        pred_gens[(anc_variants[:, mat]==1) & (anc_variants[:, 2+pat]==1), 2+index] = 2\n",
    "        pred_gens[(anc_variants[:, mat]==0) & (anc_variants[:, 2+pat]==1), 2+index] = 1\n",
    "        pred_gens[(anc_variants[:, mat]==1) & (anc_variants[:, 2+pat]==0), 2+index] = 1\n",
    "\n",
    "    unique_pred_gens = set(map(tuple, pred_gens))\n",
    "    for pg in unique_pred_gens:\n",
    "        if pg not in pm_gen_to_index:\n",
    "            pm_gen_to_index[pg] = len(pm_gen_to_index)\n",
    "    pm_gen_indices.append([pm_gen_to_index[pg] for pg in unique_pred_gens])\n",
    "\n",
    "pm_gen = np.zeros((len(pm_gen_to_index), m), dtype=np.int8)\n",
    "for pm, i in pm_gen_to_index.items():\n",
    "\tpm_gen[i, :] = pm\n",
    "print('perfect matches', pm_gen.shape, Counter([len(v) for v in pm_gen_indices]))"
   ]
  },
  {
   "cell_type": "code",
   "execution_count": 191,
   "metadata": {},
   "outputs": [
    {
     "name": "stdout",
     "output_type": "stream",
     "text": [
      "genotypes (243, 5)\n"
     ]
    }
   ],
   "source": [
    "genotypes = np.array(list(product(*[[0, 1, 2]]*m)), dtype=np.int8)\n",
    "genotype_to_index = dict([(tuple(x), i) for i, x in enumerate(genotypes)])\n",
    "q = genotypes.shape[0]\n",
    "print('genotypes', genotypes.shape)\n",
    "\n",
    "losses = np.zeros((p, q), dtype=np.int8)\n",
    "already_calculated = np.zeros((q,), dtype=bool)\n",
    "def calculate_loss(gen): \n",
    "\tgen_index = genotype_to_index[tuple(gen)]\n",
    "\tif not already_calculated[gen_index]:\n",
    "\t\ts = np.zeros((len(pm_gen_to_index),), dtype=np.int8)\n",
    "\t\tfor pm, i in pm_gen_to_index.items():\n",
    "\t\t\ts[i] = sum([g_cost[(pred, obs)] for pred, obs in zip(pm, gen)])\n",
    "\t\tfor i, indices in enumerate(pm_gen_indices):\n",
    "\t\t\tlosses[i, gen_index] = np.min(s[indices])\n",
    "\t\tlosses[inheritance_states[:, -1]==0, gen_index] = 0       \n",
    "\t\talready_calculated[gen_index] = True\n",
    "\treturn losses[:, gen_index]"
   ]
  },
  {
   "cell_type": "code",
   "execution_count": 15,
   "metadata": {},
   "outputs": [
    {
     "name": "stdout",
     "output_type": "stream",
     "text": [
      "chrom shape only SNPs 1780 1004649\n"
     ]
    }
   ],
   "source": [
    "# pull genotype data from .npz\n",
    "indices_of_interest = sum([v for k, v in families_of_this_size], [])\n",
    "old_index_to_new_index = dict([(ind, i) for (i, ind) in enumerate(indices_of_interest)])\n",
    "families_of_this_size = [(k, [old_index_to_new_index[x] for x in v]) for (k, v) in families_of_this_size]\n",
    "\n",
    "whole_chrom = sparse.hstack([sparse.load_npz('%s/%s' % (data_dir, gen_file))[indices_of_interest,:] for gen_file in gen_files])\n",
    "\t\n",
    "# use only \"cleaned\" variants - must be SNPs\n",
    "coordinates = np.load(coord_file)\n",
    "snp_positions = coordinates[:, 1]\n",
    "snp_indices = coordinates[:, 2]==1\n",
    "\n",
    "whole_chrom = whole_chrom[:, snp_indices]\n",
    "snp_positions = snp_positions[snp_indices]\n",
    "total_inds, n = whole_chrom.shape\n",
    "print('chrom shape only SNPs', total_inds, n)"
   ]
  },
  {
   "cell_type": "code",
   "execution_count": 245,
   "metadata": {},
   "outputs": [],
   "source": [
    "#fkey, ind_indices = random.choice(families_of_this_size)\n",
    "#fkey = ('AU0941', 'AU0941202', 'AU0941201')\n",
    "#fkey = ('AU0021', 'AU002101', 'AU002102')\n",
    "#fkey = ('AU0625', 'AU062501', 'AU062502')\n",
    "#fkey = ('AU0453', 'AU045301', 'AU045302')\n",
    "#fkey = ('AU1210', 'AU1210202', 'AU1210201')\n",
    "#fkey = ('AU1497', 'AU1497202', 'AU1497201')\n",
    "#fkey = ('AU0905', 'AU0905202', 'AU0905201')\n",
    "#fkey = ('AU0453', 'AU045301', 'AU045302')\n",
    "\n",
    "#fkey = ('AU0897', 'AU0897202', 'AU0897201')\n",
    "fkey = ('AU0809', 'AU080901', 'AU080902')\n",
    "fkey, ind_indices = [x for x in families_of_this_size if x[0] == fkey][0]"
   ]
  },
  {
   "cell_type": "code",
   "execution_count": 252,
   "metadata": {},
   "outputs": [
    {
     "name": "stdout",
     "output_type": "stream",
     "text": [
      "family ('AU0809', 'AU080901', 'AU080902')\n",
      "(5, 142483)\n",
      "Forward sweep complete 44.098206996917725 sec\n"
     ]
    }
   ],
   "source": [
    "inds = families[fkey]\n",
    "print('family', fkey)\n",
    "\n",
    "# pull genotype data for this family\n",
    "family_genotypes = whole_chrom[ind_indices, :].A\n",
    "\n",
    "# if any family member is missing, set whole family to 0 - this has the effect of ignoring missing positions\n",
    "family_genotypes[:, np.any(family_genotypes<0, axis=0)] = 0\n",
    "\n",
    "family_whole_chrom = np.zeros((m, chrom_length), dtype=np.int8)\n",
    "family_whole_chrom[:, snp_positions-1] = family_genotypes\n",
    "\n",
    "# condense repeated genotypes\n",
    "rep_indices = np.where(np.any(family_whole_chrom[:, 1:]!=family_whole_chrom[:, :-1], axis=0))[0]\n",
    "\n",
    "family_genotypes = family_whole_chrom[:, rep_indices]\n",
    "family_genotypes = np.append(family_genotypes, family_whole_chrom[:, -1][:, np.newaxis], axis=1)\n",
    "print(family_genotypes.shape)\n",
    "n = family_genotypes.shape[1]\n",
    "\n",
    "family_snp_positions = np.zeros((n, 2), dtype=int)\n",
    "family_snp_positions[0, 0] = 0\n",
    "family_snp_positions[-1, 1] = chrom_lengths[chrom]\n",
    "family_snp_positions[1:, 0] = (rep_indices+1)\n",
    "family_snp_positions[:-1, 1] = (rep_indices+1)\n",
    "mult_factor = family_snp_positions[:, 1] - family_snp_positions[:, 0]\n",
    "\n",
    "\n",
    "# viterbi\n",
    "v_cost = np.zeros((p, n), dtype=int)\n",
    "\n",
    "# forward sweep\n",
    "prev_time = time.time()\n",
    "\n",
    "# first step, break symmetry\n",
    "# we enforce that the chromosome starts with child1 (0, 0) and no deletions or duplications\n",
    "pos_gen = tuple(family_genotypes[:, 0])\n",
    "loss = calculate_loss(pos_gen).astype(int)\n",
    "#loss = losses[:, genotype_to_index[pos_gen]].astype(int)\n",
    "v_cost[:, 0] = mult_factor[0]*loss + zero_transition_costs\n",
    "\n",
    "# next steps\n",
    "no_model_states = np.where(inheritance_states[:, -1]==0)[0]\n",
    "for j in range(1, n): \n",
    "\tpos_gen = tuple(family_genotypes[:, j])\n",
    "\tloss = calculate_loss(pos_gen).astype(int)\n",
    "\t#loss = losses[:, genotype_to_index[pos_gen]].astype(int)\n",
    "\tv_cost[:, j] = np.min(v_cost[transitions, j-1] + transition_costs, axis=1) + mult_factor[j]*loss\n",
    "\tv_cost[no_model_states, j] += ((np.random.randint(10, size=no_model_states.shape[0])==0))\n",
    "\n",
    "print('Forward sweep complete', time.time()-prev_time, 'sec') "
   ]
  },
  {
   "cell_type": "code",
   "execution_count": 253,
   "metadata": {},
   "outputs": [
    {
     "name": "stdout",
     "output_type": "stream",
     "text": [
      "Num solutions (1,) [[1 1 1 1 1 0 0 0 0 0 0]]\n",
      "Num positions in fork 291\n",
      "Backward sweep complete 7.968288898468018 sec\n"
     ]
    }
   ],
   "source": [
    "# backward sweep\n",
    "prev_time = time.time()\n",
    "final_states = -np.ones((state_len, n), dtype=int)\n",
    "final_cost = np.zeros((n,), dtype=int)\n",
    "\n",
    "# choose best paths\n",
    "# we enforce that the chromosome ends with no deletions\n",
    "num_forks = 0\n",
    "no_delstates = np.all(inheritance_states[:, :4]==1, axis=1)\n",
    "min_value = np.min(v_cost[no_delstates, -1])\n",
    "paths = np.where((v_cost[:, -1]==min_value) & no_delstates)[0]\n",
    "print('Num solutions', paths.shape, inheritance_states[paths, :])\n",
    "\n",
    "# combine path states into a single state (unknown values represented with -1)\n",
    "if paths.shape[0] == 1:\n",
    "\tfinal_states[:, -1] = inheritance_states[paths[0], :]\n",
    "else:\n",
    "\tnum_forks += 1\n",
    "\tpath_states = inheritance_states[paths, :]\n",
    "\tknown_indices = np.all(path_states == path_states[0, :], axis=0)\n",
    "\tfinal_states[known_indices, -1] = path_states[0, known_indices]\n",
    "\n",
    "# now work backwards\n",
    "for j in reversed(range(n-1)):\n",
    "\n",
    "\t# traceback\n",
    "\ttotal_cost = v_cost[transitions[paths, :], j] + transition_costs[paths, :]\n",
    "\tmin_value = np.min(total_cost, axis=1)\n",
    "\tnew_paths = set()\n",
    "\tfor i, k in enumerate(paths):\n",
    "\t\tmin_indices = transitions[k, np.where(total_cost[i, :] == min_value[i])[0]]\t\n",
    "\t\tnew_paths.update(min_indices.tolist())\n",
    "\tpaths = np.asarray(list(new_paths), dtype=int)\n",
    "\n",
    "\t# combine path states a single state (unknown values represented with -1)\n",
    "\tavg_cost = 0\n",
    "\tif paths.shape[0] == 1:\n",
    "\t\tfinal_states[:, j] = inheritance_states[paths[0], :]\n",
    "\t\tpos_gen = tuple(family_genotypes[:, j])\n",
    "\t\tif final_states[-1, j] == 0:\n",
    "\t\t\tfinal_cost[j] = -1\n",
    "\t\telse:\n",
    "\t\t\tfinal_cost[j] = calculate_loss(pos_gen).astype(int)[paths[0]]*mult_factor[j]\n",
    "        \n",
    "\telse:\n",
    "\t\tnum_forks += 1\n",
    "\t\tpath_states = inheritance_states[paths, :]\n",
    "\t\tknown_indices = np.all(path_states == path_states[0, :], axis=0)\n",
    "\t\tfinal_states[known_indices, j] = path_states[0, known_indices]\n",
    "\t\tfinal_cost[j] = 0\n",
    "\n",
    "print('Num positions in fork', num_forks)\n",
    "print('Backward sweep complete', time.time()-prev_time, 'sec') "
   ]
  },
  {
   "cell_type": "code",
   "execution_count": null,
   "metadata": {
    "collapsed": true
   },
   "outputs": [],
   "source": [
    "# if a parental chromosome isn't inherited, then we don't know if it has a deletion\n",
    "maternal_indices = range(4, state_len, 2)\n",
    "paternal_indices = range(5, state_len, 2)\n",
    "\n",
    "final_states[0, np.all(final_states[maternal_indices, :]!=0, axis=0)] = -1\n",
    "final_states[1, np.all(final_states[maternal_indices, :]!=1, axis=0)] = -1\n",
    "final_states[2, np.all(final_states[paternal_indices, :]!=0, axis=0)] = -1\n",
    "final_states[3, np.all(final_states[paternal_indices, :]!=1, axis=0)] = -1"
   ]
  },
  {
   "cell_type": "markdown",
   "metadata": {},
   "source": [
    "# Check VCF"
   ]
  },
  {
   "cell_type": "code",
   "execution_count": 40,
   "metadata": {},
   "outputs": [
    {
     "name": "stdout",
     "output_type": "stream",
     "text": [
      "(5, 1004649) (5, 159395) (159395,)\n"
     ]
    }
   ],
   "source": [
    "orig_family_genotypes = whole_chrom[ind_indices, :].A\n",
    "# if any family member is missing, set whole family to 0 - this has the effect of ignoring missing positions\n",
    "orig_family_genotypes[:, np.any(orig_family_genotypes<0, axis=0)] = 0\n",
    "print(orig_family_genotypes.shape, family_genotypes.shape, mult_factor.shape)"
   ]
  },
  {
   "cell_type": "code",
   "execution_count": 41,
   "metadata": {},
   "outputs": [
    {
     "name": "stdout",
     "output_type": "stream",
     "text": [
      "[35569 36918 33974 33648 36038] [35569 36918 33974 33648 36038]\n",
      "[15375 14535 15201 16295 15160] [15375 14535 15201 16295 15160]\n"
     ]
    }
   ],
   "source": [
    "print(np.sum(orig_family_genotypes==1, axis=1), np.sum((family_genotypes==1)*mult_factor, axis=1))\n",
    "print(np.sum(orig_family_genotypes==2, axis=1), np.sum((family_genotypes==2)*mult_factor, axis=1))"
   ]
  },
  {
   "cell_type": "code",
   "execution_count": 236,
   "metadata": {},
   "outputs": [
    {
     "name": "stdout",
     "output_type": "stream",
     "text": [
      "['AU1399202', 'AU1399201', 'AU1399303', 'AU1399302', 'AU1399301']\n"
     ]
    }
   ],
   "source": [
    "print(inds)"
   ]
  },
  {
   "cell_type": "code",
   "execution_count": 254,
   "metadata": {},
   "outputs": [],
   "source": [
    "\n",
    "f = np.convolve(final_cost, np.ones(1000,), mode='same')"
   ]
  },
  {
   "cell_type": "code",
   "execution_count": 255,
   "metadata": {},
   "outputs": [
    {
     "name": "stdout",
     "output_type": "stream",
     "text": [
      "0.6852115690994716\n"
     ]
    }
   ],
   "source": [
    "print(np.sum(f<0)/f.shape[0])"
   ]
  },
  {
   "cell_type": "code",
   "execution_count": 260,
   "metadata": {},
   "outputs": [
    {
     "data": {
      "image/png": "[encoded data removed]",
      "text/plain": [
       "<Figure size 1080x360 with 1 Axes>"
      ]
     },
     "metadata": {},
     "output_type": "display_data"
    }
   ],
   "source": [
    "plt.figure(figsize=(15, 5))\n",
    "#plt.plot(a)\n",
    "#plt.plot(b)\n",
    "#plt.plot(c)\n",
    "#plt.plot(d)\n",
    "#plt.plot(np.clip(e, 0, None))\n",
    "plt.plot(family_snp_positions[:, 1], 400*(f<0), '.')\n",
    "plt.plot(family_snp_positions[:, 1], np.clip(f, 0, None))\n",
    "plt.show()"
   ]
  },
  {
   "cell_type": "code",
   "execution_count": 259,
   "metadata": {},
   "outputs": [
    {
     "data": {
      "image/png": "[encoded data removed]",
      "text/plain": [
       "<Figure size 1080x360 with 1 Axes>"
      ]
     },
     "metadata": {},
     "output_type": "display_data"
    }
   ],
   "source": [
    "plt.figure(figsize=(15, 5))\n",
    "plt.plot(family_snp_positions[:, 1], f)\n",
    "plt.show()"
   ]
  },
  {
   "cell_type": "code",
   "execution_count": 58,
   "metadata": {},
   "outputs": [
    {
     "name": "stdout",
     "output_type": "stream",
     "text": [
      "[[0 2 0 0 0 1 0 0 0 0 0 0 0 0 0 1 0 1 0 1]\n",
      " [0 0 0 0 0 0 0 0 0 0 0 0 0 0 0 0 0 0 0 0]\n",
      " [0 0 0 0 0 0 0 0 0 1 0 0 0 1 0 1 0 1 0 0]\n",
      " [0 0 0 1 0 1 0 0 0 0 0 0 0 0 0 0 0 0 0 1]\n",
      " [0 0 0 0 0 0 0 1 0 1 0 1 0 1 0 1 0 1 0 0]]\n",
      "[[       0 16050035]\n",
      " [16050035 16050036]\n",
      " [16050036 16050158]\n",
      " [16050158 16050159]\n",
      " [16050159 16050251]\n",
      " [16050251 16050252]\n",
      " [16050252 16050611]\n",
      " [16050611 16050612]\n",
      " [16050612 16050821]\n",
      " [16050821 16050822]\n",
      " [16050822 16050932]\n",
      " [16050932 16050933]\n",
      " [16050933 16051248]\n",
      " [16051248 16051249]\n",
      " [16051249 16051346]\n",
      " [16051346 16051347]\n",
      " [16051347 16051496]\n",
      " [16051496 16051497]\n",
      " [16051497 16051967]\n",
      " [16051967 16051968]]\n"
     ]
    }
   ],
   "source": [
    "print(family_genotypes[:, :20])\n",
    "print(family_snp_positions[:20, :])"
   ]
  },
  {
   "cell_type": "code",
   "execution_count": 51,
   "metadata": {},
   "outputs": [
    {
     "name": "stdout",
     "output_type": "stream",
     "text": [
      "['AU0897202', 'AU0897201', 'AU0897303', 'AU0897302', 'AU0897301']\n",
      "16050007 ['0/0', './.', '0/0', './.', './.']\n",
      "16050036 ['1/1', '0/0', '0/0', '0/0', '0/0']\n",
      "16050102 ['0/0', '0/0', '0/0', '0/0', '0/0']\n",
      "16050115 ['0/0', '0/0', '0/0', '0/0', '0/0']\n",
      "16050116 ['0/0', '0/0', '0/0', '0/0', '0/0']\n",
      "16050129 ['0/0', '0/0', '0/0', '0/0', '0/0']\n",
      "16050137 ['0/0', '0/0', '0/0', '0/0', '0/0']\n",
      "16050159 ['0/0', '0/0', '0/0', '0/1', '0/0']\n",
      "16050199 ['0/0', '0/0', '0/0', '0/0', '0/0']\n",
      "16050213 ['0/0', '0/0', '0/0', '0/0', '0/0']\n"
     ]
    }
   ],
   "source": [
    "import gzip\n",
    "\n",
    "with gzip.open('../data/22.reheader.vcf.gz', 'rb') as f:\n",
    "    # skip header\n",
    "    line = next(f).decode(\"utf-8\") \n",
    "    while line.startswith('##'):\n",
    "        line = next(f).decode(\"utf-8\") \n",
    "        pass\n",
    "    \n",
    "    sample_ids = line.strip().split('\\t')[9:]\n",
    "    sample_id_to_index = dict([(x, i) for i, x in enumerate(sample_ids)])\n",
    "    indices_of_interest = [sample_id_to_index[s] for s in inds]\n",
    "    print([sample_ids[x] for x in indices_of_interest])\n",
    "    \n",
    "    for _ in range(10):\n",
    "        pieces = next(f).decode(\"utf-8\").strip().split('\\t')\n",
    "        gens = [pieces[i+9][:3] for i in indices_of_interest]\n",
    "        print(pieces[1], gens)\n",
    "    #print(next(f).strip().split())"
   ]
  },
  {
   "cell_type": "markdown",
   "metadata": {
    "collapsed": true
   },
   "source": [
    "# Shape results"
   ]
  },
  {
   "cell_type": "code",
   "execution_count": 21,
   "metadata": {
    "collapsed": true
   },
   "outputs": [],
   "source": [
    "change_indices = [-1] + np.where(np.any(final_states[:, 1:]!=final_states[:, :-1], axis=0))[0].tolist()"
   ]
  },
  {
   "cell_type": "code",
   "execution_count": 264,
   "metadata": {},
   "outputs": [
    {
     "name": "stdout",
     "output_type": "stream",
     "text": [
      "[16050158 16050159]\n"
     ]
    }
   ],
   "source": [
    "print(family_snp_positions[1, :])"
   ]
  },
  {
   "cell_type": "code",
   "execution_count": 265,
   "metadata": {},
   "outputs": [
    {
     "name": "stdout",
     "output_type": "stream",
     "text": [
      "['AU045301', 'AU045302', 'AU045306', 'AU045303', 'AU045304']\n"
     ]
    }
   ],
   "source": [
    "print(inds)"
   ]
  },
  {
   "cell_type": "code",
   "execution_count": 261,
   "metadata": {},
   "outputs": [
    {
     "name": "stdout",
     "output_type": "stream",
     "text": [
      "[0 0 1 0 0]\n"
     ]
    }
   ],
   "source": [
    "print(family_genotypes[:, 1])"
   ]
  },
  {
   "cell_type": "code",
   "execution_count": 40,
   "metadata": {},
   "outputs": [
    {
     "data": {
      "image/png": "[encoded data removed]",
      "text/plain": [
       "<Figure size 1080x360 with 1 Axes>"
      ]
     },
     "metadata": {},
     "output_type": "display_data"
    }
   ],
   "source": [
    "# transition cost = 0\n",
    "plt.figure(figsize=(15, 5))\n",
    "plt.imshow(final_states[:, change_indices], aspect='auto', vmin=-1, vmax=1)\n",
    "plt.show()"
   ]
  },
  {
   "cell_type": "code",
   "execution_count": 45,
   "metadata": {},
   "outputs": [
    {
     "data": {
      "image/png": "[encoded data removed]",
      "text/plain": [
       "<Figure size 1080x360 with 1 Axes>"
      ]
     },
     "metadata": {},
     "output_type": "display_data"
    }
   ],
   "source": [
    "# transition cost = 10\n",
    "plt.figure(figsize=(15, 5))\n",
    "plt.imshow(final_states[:, change_indices], aspect='auto', vmin=-1, vmax=1)\n",
    "plt.show()"
   ]
  },
  {
   "cell_type": "code",
   "execution_count": 50,
   "metadata": {},
   "outputs": [
    {
     "data": {
      "image/png": "[encoded data removed]",
      "text/plain": [
       "<Figure size 1080x360 with 1 Axes>"
      ]
     },
     "metadata": {},
     "output_type": "display_data"
    }
   ],
   "source": [
    "# transition cost = 50\n",
    "plt.figure(figsize=(15, 5))\n",
    "plt.imshow(final_states[:, change_indices], aspect='auto', vmin=-1, vmax=1)\n",
    "plt.show()"
   ]
  },
  {
   "cell_type": "code",
   "execution_count": 55,
   "metadata": {},
   "outputs": [
    {
     "data": {
      "image/png": "[encoded data removed]",
      "text/plain": [
       "<Figure size 1080x360 with 1 Axes>"
      ]
     },
     "metadata": {},
     "output_type": "display_data"
    }
   ],
   "source": [
    "# transition cost = 100\n",
    "plt.figure(figsize=(15, 5))\n",
    "plt.imshow(final_states[:, change_indices], aspect='auto', vmin=-1, vmax=1)\n",
    "plt.show()"
   ]
  },
  {
   "cell_type": "code",
   "execution_count": 241,
   "metadata": {},
   "outputs": [
    {
     "data": {
      "image/png": "[encoded data removed]",
      "text/plain": [
       "<Figure size 1080x360 with 2 Axes>"
      ]
     },
     "metadata": {},
     "output_type": "display_data"
    }
   ],
   "source": [
    "start = 0\n",
    "end = 1000\n",
    "\n",
    "plt.figure(figsize=(15, 5))\n",
    "plt.subplot(2, 1, 1)\n",
    "plt.imshow(family_genotypes[:, start:end], aspect='auto', vmin=-1, vmax=2)\n",
    "plt.subplot(2, 1, 2)\n",
    "plt.imshow(final_states[:, start:end], aspect='auto', vmin=-1, vmax=1)\n",
    "\n",
    "plt.show()"
   ]
  },
  {
   "cell_type": "code",
   "execution_count": 242,
   "metadata": {},
   "outputs": [
    {
     "data": {
      "image/png": "[encoded data removed]",
      "text/plain": [
       "<Figure size 1080x360 with 2 Axes>"
      ]
     },
     "metadata": {},
     "output_type": "display_data"
    }
   ],
   "source": [
    "#start = np.where(np.any(final_states[:4, :]==0, axis=0))[0][1000]-500\n",
    "#end = start+1000\n",
    "\n",
    "plt.figure(figsize=(15, 5))\n",
    "plt.subplot(2, 1, 1)\n",
    "plt.imshow(family_genotypes, aspect='auto', vmin=-1, vmax=2)\n",
    "plt.subplot(2, 1, 2)\n",
    "plt.imshow(final_states, aspect='auto', vmin=-1, vmax=1)\n",
    "\n",
    "plt.show()"
   ]
  },
  {
   "cell_type": "code",
   "execution_count": 251,
   "metadata": {},
   "outputs": [
    {
     "name": "stdout",
     "output_type": "stream",
     "text": [
      "['AU045301', 'AU045302', 'AU045306', 'AU045303', 'AU045304']\n",
      "[1550, 1551, 1552, 1553, 1554]\n"
     ]
    }
   ],
   "source": [
    "print(inds)\n",
    "print(ind_indices)"
   ]
  },
  {
   "cell_type": "code",
   "execution_count": 184,
   "metadata": {},
   "outputs": [
    {
     "name": "stdout",
     "output_type": "stream",
     "text": [
      "34464\n"
     ]
    }
   ],
   "source": [
    "w = whole_chrom[ind_indices, :].A\n",
    "print(np.sum((w[4, :]>0) & (w[0, :] == 0) & (w[1, :] == 0)))"
   ]
  },
  {
   "cell_type": "code",
   "execution_count": 187,
   "metadata": {},
   "outputs": [
    {
     "name": "stdout",
     "output_type": "stream",
     "text": [
      "207472\n"
     ]
    }
   ],
   "source": [
    "print(np.sum(np.any(w>0, axis=0)))"
   ]
  },
  {
   "cell_type": "code",
   "execution_count": 188,
   "metadata": {},
   "outputs": [
    {
     "data": {
      "text/plain": [
       "0.16611398164571606"
      ]
     },
     "execution_count": 188,
     "metadata": {},
     "output_type": "execute_result"
    }
   ],
   "source": [
    "34464/207472\n"
   ]
  },
  {
   "cell_type": "code",
   "execution_count": 185,
   "metadata": {},
   "outputs": [
    {
     "name": "stdout",
     "output_type": "stream",
     "text": [
      "(5, 409641)\n"
     ]
    }
   ],
   "source": [
    "print(family_genotypes.shape)"
   ]
  },
  {
   "cell_type": "code",
   "execution_count": 42,
   "metadata": {},
   "outputs": [
    {
     "data": {
      "image/png": "[encoded data removed]",
      "text/plain": [
       "<Figure size 1080x360 with 1 Axes>"
      ]
     },
     "metadata": {},
     "output_type": "display_data"
    }
   ],
   "source": [
    "import matplotlib.pyplot as plt\n",
    "\n",
    "change_indices = [-1] + np.where(np.any(final_states[:, 1:]!=final_states[:, :-1], axis=0))[0].tolist()\n",
    "\n",
    "plt.figure(figsize=(15, 5))\n",
    "plt.imshow(final_states[:, change_indices], aspect='auto', vmin=-1, vmax=1)\n",
    "plt.show()"
   ]
  },
  {
   "cell_type": "code",
   "execution_count": 248,
   "metadata": {},
   "outputs": [
    {
     "data": {
      "image/png": "[encoded data removed]",
      "text/plain": [
       "<Figure size 1080x360 with 1 Axes>"
      ]
     },
     "metadata": {},
     "output_type": "display_data"
    }
   ],
   "source": [
    "change_indices = np.where(np.any(final_states[:, 1:]!=final_states[:, :-1], axis=0))[0].tolist() + [-1]\n",
    "\n",
    "plt.figure(figsize=(15, 5))\n",
    "plt.imshow(final_states[:, change_indices], aspect='auto', vmin=-1, vmax=1)\n",
    "plt.show()"
   ]
  },
  {
   "cell_type": "code",
   "execution_count": 249,
   "metadata": {},
   "outputs": [
    {
     "data": {
      "image/png": "[encoded data removed]",
      "text/plain": [
       "<Figure size 1080x360 with 1 Axes>"
      ]
     },
     "metadata": {},
     "output_type": "display_data"
    },
    {
     "name": "stdout",
     "output_type": "stream",
     "text": [
      "[[       0 16050158]\n",
      " [18034367 18034368]\n",
      " [18043089 18043090]\n",
      " [18219726 18219727]\n",
      " [18221312 18221957]\n",
      " [38038059 38038060]\n",
      " [38047801 38049165]\n",
      " [38679640 38679641]\n",
      " [38682954 38683636]\n",
      " [39282017 39282018]\n",
      " [39290137 39290138]\n",
      " [42517635 42517636]\n",
      " [42518426 42519214]\n",
      " [42538617 42538618]\n",
      " [42538618 42538668]\n",
      " [45583911 45583912]\n",
      " [45587269 45587744]\n",
      " [51117136 51117137]\n",
      " [51117580 51118055]\n",
      " [51242557 51304566]]\n"
     ]
    }
   ],
   "source": [
    "plt.figure(figsize=(15, 5))\n",
    "for i in range(final_states.shape[0]):\n",
    "    plt.plot(family_snp_positions[change_indices, 1], final_states[i, change_indices])\n",
    "plt.show()\n",
    "print(family_snp_positions[change_indices, :])"
   ]
  },
  {
   "cell_type": "code",
   "execution_count": 167,
   "metadata": {},
   "outputs": [
    {
     "data": {
      "image/png": "[encoded data removed]",
      "text/plain": [
       "<Figure size 1080x360 with 1 Axes>"
      ]
     },
     "metadata": {},
     "output_type": "display_data"
    }
   ],
   "source": [
    "plt.figure(figsize=(15, 5))\n",
    "plt.imshow(final_states[:, change_indices], aspect='auto', vmin=-1, vmax=1)\n",
    "plt.show()"
   ]
  },
  {
   "cell_type": "code",
   "execution_count": 189,
   "metadata": {},
   "outputs": [
    {
     "name": "stdout",
     "output_type": "stream",
     "text": [
      "['AU045301', 'AU045302', 'AU045306', 'AU045303', 'AU045304']\n"
     ]
    }
   ],
   "source": [
    "print(inds)"
   ]
  },
  {
   "cell_type": "code",
   "execution_count": 26,
   "metadata": {},
   "outputs": [
    {
     "name": "stdout",
     "output_type": "stream",
     "text": [
      "42686\n"
     ]
    }
   ],
   "source": [
    "print(np.min(v_cost[:, -1]))"
   ]
  },
  {
   "cell_type": "code",
   "execution_count": 175,
   "metadata": {},
   "outputs": [
    {
     "name": "stdout",
     "output_type": "stream",
     "text": [
      "135445\n"
     ]
    }
   ],
   "source": [
    "print(np.min(v_cost[:, -1]))\n"
   ]
  },
  {
   "cell_type": "code",
   "execution_count": 74,
   "metadata": {},
   "outputs": [
    {
     "name": "stdout",
     "output_type": "stream",
     "text": [
      "['AU1249202', 'AU1249201', 'AU1249301', 'AU1249303']\n",
      "107223\n"
     ]
    }
   ],
   "source": [
    "print(inds)\n",
    "print(np.min(v_cost[:, -1]))"
   ]
  },
  {
   "cell_type": "code",
   "execution_count": null,
   "metadata": {
    "collapsed": true
   },
   "outputs": [],
   "source": []
  }
 ],
 "metadata": {
  "kernelspec": {
   "display_name": "Python 3",
   "language": "python",
   "name": "python3"
  }
 },
 "nbformat": 4,
 "nbformat_minor": 2
}
