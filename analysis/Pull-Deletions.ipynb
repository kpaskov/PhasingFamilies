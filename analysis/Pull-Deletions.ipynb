{
 "cells": [
  {
   "cell_type": "code",
   "execution_count": 13,
   "metadata": {},
   "outputs": [],
   "source": [
    "import json\n",
    "import numpy as np\n",
    "import scipy.sparse as sparse\n",
    "from os import listdir\n",
    "import matplotlib.pyplot as plt"
   ]
  },
  {
   "cell_type": "code",
   "execution_count": 9,
   "metadata": {},
   "outputs": [],
   "source": [
    "deletion_file = '../deletions_to_validate/ihart_inherited_confident.json'\n",
    "data_dir = '../split_gen_ihart'"
   ]
  },
  {
   "cell_type": "code",
   "execution_count": 10,
   "metadata": {},
   "outputs": [
    {
     "name": "stdout",
     "output_type": "stream",
     "text": [
      "[{'family': 'AU2125.AU2125202.AU2125201', 'chrom': '2', 'start_pos': 145735762, 'end_pos': 147489202, 'length': 1753441, 'phase_length': 3942, 'opt_start_pos': 145735762, 'opt_end_pos': 147489202, 'trans': ['AU2125303', 'AU2125302'], 'notrans': [], 'family_size': 4, 'is_mat': True, 'is_pat': False, 'is_denovo': False, 'mother': 'AU2125202', 'father': 'AU2125201'}, {'family': 'AU0660.AU066001.AU066002', 'chrom': '3', 'start_pos': 2211941, 'end_pos': 2709401, 'length': 497461, 'phase_length': 2094, 'opt_start_pos': 2211941, 'opt_end_pos': 2709401, 'trans': ['AU066005', 'AU066004'], 'notrans': ['AU066003'], 'family_size': 5, 'is_mat': False, 'is_pat': True, 'is_denovo': False, 'mother': 'AU066001', 'father': 'AU066002'}, {'family': 'AU0951.AU0951202.AU0951201', 'chrom': '4', 'start_pos': 27991264, 'end_pos': 28437762, 'length': 446499, 'phase_length': 2170, 'opt_start_pos': 27991264, 'opt_end_pos': 28437762, 'trans': ['AU0951301'], 'notrans': ['AU0951302'], 'family_size': 4, 'is_mat': True, 'is_pat': False, 'is_denovo': False, 'mother': 'AU0951202', 'father': 'AU0951201'}, {'family': 'AU2075.AU2075202.AU2075201', 'chrom': '4', 'start_pos': 115889766, 'end_pos': 118589497, 'length': 2699732, 'phase_length': 8726, 'opt_start_pos': 115889766, 'opt_end_pos': 118589497, 'trans': ['AU2075302', 'AU2075303'], 'notrans': ['AU2075301'], 'family_size': 5, 'is_mat': True, 'is_pat': False, 'is_denovo': False, 'mother': 'AU2075202', 'father': 'AU2075201'}, {'family': 'AU2075.AU2075202.AU2075201', 'chrom': '4', 'start_pos': 118589528, 'end_pos': 119303431, 'length': 713904, 'phase_length': 2046, 'opt_start_pos': 118589528, 'opt_end_pos': 119303431, 'trans': ['AU2075302', 'AU2075303'], 'notrans': ['AU2075301'], 'family_size': 5, 'is_mat': True, 'is_pat': False, 'is_denovo': False, 'mother': 'AU2075202', 'father': 'AU2075201'}, {'family': 'AU2317.AU2317202.AU2317201', 'chrom': '8', 'start_pos': 15616646, 'end_pos': 16003484, 'length': 386839, 'phase_length': 2280, 'opt_start_pos': 15616646, 'opt_end_pos': 16003484, 'trans': ['AU2317301', 'AU2317302'], 'notrans': [], 'family_size': 4, 'is_mat': False, 'is_pat': True, 'is_denovo': False, 'mother': 'AU2317202', 'father': 'AU2317201'}, {'family': 'AU3724.AU3724202.AU3724201', 'chrom': '9', 'start_pos': 10555471, 'end_pos': 11105898, 'length': 550428, 'phase_length': 2540, 'opt_start_pos': 10555471, 'opt_end_pos': 11105898, 'trans': ['AU3724301', 'AU3724302'], 'notrans': [], 'family_size': 4, 'is_mat': True, 'is_pat': False, 'is_denovo': False, 'mother': 'AU3724202', 'father': 'AU3724201'}, {'family': 'AU1858.AU1858202.AU1858201', 'chrom': '9', 'start_pos': 28348237, 'end_pos': 28993948, 'length': 645712, 'phase_length': 2245, 'opt_start_pos': 28348237, 'opt_end_pos': 28993948, 'trans': ['AU1858304', 'AU1858302', 'AU1858301'], 'notrans': ['AU1858303'], 'family_size': 6, 'is_mat': True, 'is_pat': False, 'is_denovo': False, 'mother': 'AU1858202', 'father': 'AU1858201'}, {'family': 'AU1858.AU1858202.AU1858201', 'chrom': '9', 'start_pos': 28994599, 'end_pos': 30688235, 'length': 1693637, 'phase_length': 5315, 'opt_start_pos': 28994599, 'opt_end_pos': 30688235, 'trans': ['AU1858304', 'AU1858302', 'AU1858301'], 'notrans': ['AU1858303'], 'family_size': 6, 'is_mat': True, 'is_pat': False, 'is_denovo': False, 'mother': 'AU1858202', 'father': 'AU1858201'}]\n"
     ]
    }
   ],
   "source": [
    "with open(deletion_file, 'r') as f:\n",
    "    deletions = json.load(f)\n",
    "print(deletions)"
   ]
  },
  {
   "cell_type": "code",
   "execution_count": 169,
   "metadata": {},
   "outputs": [],
   "source": [
    "deletion_index = 8\n",
    "deletion = deletions[deletion_index]\n",
    "fr_left, fr_right = 1000000, 1000000"
   ]
  },
  {
   "cell_type": "code",
   "execution_count": 170,
   "metadata": {},
   "outputs": [
    {
     "name": "stdout",
     "output_type": "stream",
     "text": [
      "9:28994599-30688235\n"
     ]
    }
   ],
   "source": [
    "individuals = [deletion['mother'], deletion['father']] + deletion['trans'] + deletion['notrans']\n",
    "chrom = deletion['chrom']\n",
    "start_pos = deletion['start_pos']\n",
    "end_pos = deletion['end_pos']\n",
    "print('%s:%d-%d' % (chrom, start_pos, end_pos))"
   ]
  },
  {
   "cell_type": "code",
   "execution_count": 171,
   "metadata": {},
   "outputs": [
    {
     "name": "stdout",
     "output_type": "stream",
     "text": [
      "Sites pulled from vcf: 3590864\n"
     ]
    }
   ],
   "source": [
    "# read samples\n",
    "sample_file = '%s/chr.%s.gen.samples.txt' % (data_dir, chrom)\n",
    "with open(sample_file, 'r') as f:\n",
    "    sample_id_to_index = dict([(line.strip(), i) for i, line in enumerate(f)])\n",
    "family_indices = np.array([sample_id_to_index[x] for x in individuals])\n",
    "    \n",
    "# load genotypes\n",
    "gen_files = sorted([f for f in listdir(data_dir) if ('chr.%s.' % chrom) in f and 'gen.npz' in f])\n",
    "\n",
    "# pull snp positions\n",
    "pos_data = np.load('%s/chr.%s.gen.coordinates.npy' % (data_dir, chrom))\n",
    "snp_positions = pos_data[:, 1]\n",
    "is_snp = pos_data[:, 2].astype(bool)\n",
    "is_pass = pos_data[:, 3].astype(bool)\n",
    "is_in_region = (snp_positions >= start_pos-fr_left) & (snp_positions <= end_pos+fr_right)\n",
    "print('Sites pulled from vcf:', snp_positions.shape[0])\n",
    "\n",
    "# Pull data together\n",
    "A = sparse.hstack([sparse.load_npz('%s/%s' % (data_dir, gen_file))[family_indices, :] for gen_file in gen_files])\n",
    "\n",
    "# only look at snps that PASS GATK filter\n",
    "A = A[:, is_snp & is_pass & is_in_region]\n",
    "snp_positions = snp_positions[is_snp & is_pass & is_in_region]\n",
    "\n",
    "# sparse to dense\n",
    "A = A.A"
   ]
  },
  {
   "cell_type": "code",
   "execution_count": 172,
   "metadata": {},
   "outputs": [
    {
     "name": "stdout",
     "output_type": "stream",
     "text": [
      "12741\n",
      "(12741, 1)\n",
      "(6, 12741)\n"
     ]
    }
   ],
   "source": [
    "indices = np.any(A[:, 1:] != A[:, :-1], axis=0).tolist() + [True]\n",
    "print(np.sum(indices))\n",
    "print(((snp_positions >= start_pos) & (snp_positions <= end_pos))[indices, np.newaxis].shape)\n",
    "print(A[:, indices].shape)"
   ]
  },
  {
   "cell_type": "code",
   "execution_count": 173,
   "metadata": {},
   "outputs": [
    {
     "name": "stdout",
     "output_type": "stream",
     "text": [
      "{'family': 'AU1858.AU1858202.AU1858201', 'chrom': '9', 'start_pos': 28348237, 'end_pos': 28993948, 'length': 645712, 'phase_length': 2245, 'opt_start_pos': 28348237, 'opt_end_pos': 28993948, 'trans': ['AU1858304', 'AU1858302', 'AU1858301'], 'notrans': ['AU1858303'], 'family_size': 6, 'is_mat': True, 'is_pat': False, 'is_denovo': False, 'mother': 'AU1858202', 'father': 'AU1858201'}\n",
      "{'family': 'AU1858.AU1858202.AU1858201', 'chrom': '9', 'start_pos': 28994599, 'end_pos': 30688235, 'length': 1693637, 'phase_length': 5315, 'opt_start_pos': 28994599, 'opt_end_pos': 30688235, 'trans': ['AU1858304', 'AU1858302', 'AU1858301'], 'notrans': ['AU1858303'], 'family_size': 6, 'is_mat': True, 'is_pat': False, 'is_denovo': False, 'mother': 'AU1858202', 'father': 'AU1858201'}\n"
     ]
    }
   ],
   "source": [
    "family_has_deletion = np.zeros((3, snp_positions.shape[0]))\n",
    "with open('../deletions_ihart/chr.%s.deletions.json' % chrom, 'r') as f:\n",
    "    all_deletions = json.load(f)\n",
    "    for d in all_deletions:\n",
    "        if deletion['family'] == d['family'] and np.sum((snp_positions >= d['start_pos']) & (snp_positions <= d['end_pos'])):\n",
    "            print(d)\n",
    "            if d['is_mat'] and not d['is_denovo']:\n",
    "                family_has_deletion[0, (snp_positions >= d['start_pos']) & (snp_positions <= d['end_pos'])] += 1\n",
    "            elif d['is_pat'] and not d['is_denovo']:\n",
    "                family_has_deletion[1, (snp_positions >= d['start_pos']) & (snp_positions <= d['end_pos'])] += 1\n",
    "            elif d['is_denovo']:\n",
    "                family_has_deletion[2, (snp_positions >= d['start_pos']) & (snp_positions <= d['end_pos'])] += 1"
   ]
  },
  {
   "cell_type": "code",
   "execution_count": 174,
   "metadata": {},
   "outputs": [
    {
     "data": {
      "image/png": "[encoded data removed]",
      "text/plain": [
       "<Figure size 1080x360 with 1 Axes>"
      ]
     },
     "metadata": {
      "needs_background": "light"
     },
     "output_type": "display_data"
    }
   ],
   "source": [
    "plt.figure(figsize=(15, 5))\n",
    "indices = np.any(A[:, 1:] != A[:, :-1], axis=0).tolist() + [True]\n",
    "plt.imshow(np.vstack((family_has_deletion[:, indices],\n",
    "                      A[:, indices])), \n",
    "           aspect='auto', vmin=-1, vmax=2)\n",
    "plt.xticks(plt.xlim(), [snp_positions[indices][0], snp_positions[indices][1]])\n",
    "plt.show()"
   ]
  },
  {
   "cell_type": "code",
   "execution_count": 175,
   "metadata": {},
   "outputs": [
    {
     "name": "stdout",
     "output_type": "stream",
     "text": [
      "is_mat? True \n",
      "transmitted to 3 children\n"
     ]
    }
   ],
   "source": [
    "print('is_mat?', deletion['is_mat'], '\\ntransmitted to %d children' % len(deletion['trans']))"
   ]
  },
  {
   "cell_type": "code",
   "execution_count": 185,
   "metadata": {},
   "outputs": [
    {
     "name": "stdout",
     "output_type": "stream",
     "text": [
      "[ 0.   +0.j         -0.125+0.33071891j -0.125-0.33071891j\n",
      "  0.5  +0.j        ]\n",
      "[[ 0.00000000e+00 -6.32455532e-01 -6.32455532e-01  4.26401433e-01]\n",
      " [ 0.00000000e+00  1.58113883e-01  1.58113883e-01  2.13200716e-01]\n",
      " [ 0.00000000e+00  4.74341649e-01  4.74341649e-01  2.13200716e-01]\n",
      " [ 1.00000000e+00  1.17446762e-16  1.17446762e-16  8.52802865e-01]]\n"
     ]
    },
    {
     "name": "stderr",
     "output_type": "stream",
     "text": [
      "//anaconda3/lib/python3.7/site-packages/ipykernel/__main__.py:10: ComplexWarning: Casting complex values to real discards the imaginary part\n"
     ]
    }
   ],
   "source": [
    "transitions = np.array([[0.25, 0.00, 0.50, 0.00], \n",
    "                     [0.25, 0.00, 0.00, 0.00], \n",
    "                     [0.00, 0.50, 0.00, 0.00], \n",
    "                     [0.50, 0.50, 0.50, 0.00]])\n",
    "\n",
    "\n",
    "eigvalues, eigvectors = np.linalg.eig(transitions)\n",
    "\n",
    "print(eigvalues)\n",
    "print(eigvectors.astype(float))\n",
    "\n"
   ]
  },
  {
   "cell_type": "code",
   "execution_count": null,
   "metadata": {},
   "outputs": [],
   "source": []
  },
  {
   "cell_type": "code",
   "execution_count": null,
   "metadata": {},
   "outputs": [],
   "source": []
  }
 ],
 "metadata": {
  "kernelspec": {
   "display_name": "Python 3",
   "language": "python",
   "name": "python3"
  },
  "language_info": {
   "codemirror_mode": {
    "name": "ipython",
    "version": 3
   },
   "file_extension": ".py",
   "mimetype": "text/x-python",
   "name": "python",
   "nbconvert_exporter": "python",
   "pygments_lexer": "ipython3",
   "version": "3.7.3"
  }
 },
 "nbformat": 4,
 "nbformat_minor": 2
}
