{
 "cells": [
  {
   "cell_type": "code",
   "execution_count": 8,
   "metadata": {},
   "outputs": [],
   "source": [
    "import numpy as np\n",
    "import matplotlib.pyplot as plt\n",
    "import scipy.sparse as sparse"
   ]
  },
  {
   "cell_type": "code",
   "execution_count": 60,
   "metadata": {},
   "outputs": [],
   "source": [
    "recomb_file = '../recombination_rate/wgs'\n",
    "kfolds = 3\n",
    "lambs = [1, 100]\n",
    "cutoff = 10**-11"
   ]
  },
  {
   "cell_type": "code",
   "execution_count": 61,
   "metadata": {},
   "outputs": [],
   "source": [
    "all_positions = []\n",
    "with open('%s.positions.txt' % (recomb_file), 'r') as f:\n",
    "    for line in f:\n",
    "        pieces = line.strip().split('\\t')\n",
    "        all_positions.append((pieces[0], int(pieces[1])))\n",
    "\n",
    "lengths = np.hstack(([0 if all_positions[i][0] != all_positions[i+1][0] else all_positions[i+1][1]-all_positions[i][1] for i in range(len(all_positions)-1)], 0))\n",
    "\n",
    "#lengths = np.load('%s.lengths.npy' % recomb_file)\n"
   ]
  },
  {
   "cell_type": "code",
   "execution_count": 65,
   "metadata": {},
   "outputs": [
    {
     "name": "stderr",
     "output_type": "stream",
     "text": [
      "//anaconda3/lib/python3.7/site-packages/ipykernel/__main__.py:14: RuntimeWarning: divide by zero encountered in log10\n",
      "//anaconda3/lib/python3.7/site-packages/ipykernel/__main__.py:22: RuntimeWarning: divide by zero encountered in true_divide\n"
     ]
    },
    {
     "name": "stdout",
     "output_type": "stream",
     "text": [
      "Maternal\n",
      "genome in hotspot 0.1049391382926235\n",
      "train crossovers in hotspot 0.9999364014341476\n",
      "test crossovers in hotspot 0.738641984031654\n"
     ]
    },
    {
     "name": "stderr",
     "output_type": "stream",
     "text": [
      "//anaconda3/lib/python3.7/site-packages/ipykernel/__main__.py:44: RuntimeWarning: divide by zero encountered in log10\n",
      "//anaconda3/lib/python3.7/site-packages/ipykernel/__main__.py:44: RuntimeWarning: invalid value encountered in subtract\n"
     ]
    },
    {
     "name": "stdout",
     "output_type": "stream",
     "text": [
      "Paternal\n",
      "genome in hotspot 0.0907454472632449\n",
      "train crossovers in hotspot 0.9998962205983798\n",
      "test crossovers in hotspot 0.7314590669014085\n"
     ]
    },
    {
     "name": "stderr",
     "output_type": "stream",
     "text": [
      "//anaconda3/lib/python3.7/site-packages/ipykernel/__main__.py:52: RuntimeWarning: divide by zero encountered in true_divide\n",
      "//anaconda3/lib/python3.7/site-packages/ipykernel/__main__.py:52: RuntimeWarning: invalid value encountered in true_divide\n",
      "//anaconda3/lib/python3.7/site-packages/ipykernel/__main__.py:52: RuntimeWarning: invalid value encountered in greater\n",
      "//anaconda3/lib/python3.7/site-packages/ipykernel/__main__.py:57: RuntimeWarning: divide by zero encountered in log10\n"
     ]
    },
    {
     "data": {
      "image/png": "[encoded data removed]",
      "text/plain": [
       "<Figure size 1080x360 with 2 Axes>"
      ]
     },
     "metadata": {
      "needs_background": "light"
     },
     "output_type": "display_data"
    }
   ],
   "source": [
    "plt.figure(figsize=(15, 5))\n",
    "\n",
    "bins = np.arange(-20, 0, 0.5)\n",
    "k = 2\n",
    "lamb = 0\n",
    "\n",
    "plt.subplot(1, 2, 1)\n",
    "#co_ps_mat_train = np.load('%s.crossover_ps_mat_train.%.0f.%d.npy' % (recomb_file, lamb, k))\n",
    "#co_ps_mat_test = np.load('%s.crossover_ps_mat_test.%.0f.%d.npy' % (recomb_file, lamb, k))\n",
    "\n",
    "X_mat_train = sparse.load_npz('%s.X_mat_train.%.0f.%d.npz' % (recomb_file, lamb, k))\n",
    "X_mat_test = sparse.load_npz('%s.X_mat_test.%.0f.%d.npz' % (recomb_file, lamb, k))\n",
    "\n",
    "ps_mat = np.load('%s.ps_mat.%.0f.%d.npy' % (recomb_file, lamb, k))\n",
    "plt.hist(np.log10(ps_mat)-np.log10(lengths), alpha=0.5, bins=bins, density=True, label='genomic regions')\n",
    "    \n",
    "co_ps_mat_train = X_mat_train.dot(ps_mat)\n",
    "co_lengths_mat_train = X_mat_train.dot(lengths)\n",
    "co_ps_mat_test = X_mat_test.dot(ps_mat)\n",
    "co_lengths_mat_test = X_mat_test.dot(lengths)\n",
    "\n",
    "print('Maternal')\n",
    "print('genome in hotspot', (ps_mat/lengths > cutoff).dot(lengths)/np.sum(lengths))\n",
    "print('train crossovers in hotspot', np.sum(co_ps_mat_train/co_lengths_mat_train > cutoff)/len(co_ps_mat_train))\n",
    "print('test crossovers in hotspot', np.sum(co_ps_mat_test/co_lengths_mat_test > cutoff)/len(co_ps_mat_test))\n",
    "    \n",
    "plt.hist(np.clip(np.log10(co_ps_mat_train) - np.log10(co_lengths_mat_train), -15, 0), alpha=0.5, bins=bins, density=True, label='train crossovers')\n",
    "plt.hist(np.clip(np.log10(co_ps_mat_test) - np.log10(co_lengths_mat_test), -15, 0), alpha=0.5, bins=bins, density=True, label='test crossovers')\n",
    "\n",
    "plt.title('Maternal')\n",
    "plt.xlabel('P[crossover]')\n",
    "plt.ylabel('density')\n",
    "plt.xticks(np.arange(-20, 2, 2), ['$10^{%d}$' % x for x in np.arange(-20, 2, 2)])\n",
    "plt.legend()\n",
    "plt.axvline(np.log10(cutoff), color='black', linestyle='--')\n",
    "\n",
    "plt.subplot(1, 2, 2)\n",
    "#co_ps_pat_train = np.load('%s.crossover_ps_pat_train.%.0f.%d.npy' % (recomb_file, lamb, k))\n",
    "#co_ps_pat_test = np.load('%s.crossover_ps_pat_test.%.0f.%d.npy' % (recomb_file, lamb, k))\n",
    "    \n",
    "X_pat_train = sparse.load_npz('%s.X_pat_train.%.0f.%d.npz' % (recomb_file, lamb, k))\n",
    "X_pat_test = sparse.load_npz('%s.X_pat_test.%.0f.%d.npz' % (recomb_file, lamb, k))\n",
    "    \n",
    "ps_pat = np.load('%s.ps_pat.%.0f.%d.npy' % (recomb_file, lamb, k))\n",
    "plt.hist(np.log10(ps_pat)-np.log10(lengths), alpha=0.5, bins=bins, density=True, label='genome')\n",
    "\n",
    "co_ps_pat_train = X_pat_train.dot(ps_pat)\n",
    "co_lengths_pat_train = X_pat_train.dot(lengths)\n",
    "co_ps_pat_test = X_pat_test.dot(ps_pat)\n",
    "co_lengths_pat_test = X_pat_test.dot(lengths)\n",
    " \n",
    "print('Paternal')\n",
    "print('genome in hotspot', (ps_pat/lengths > cutoff).dot(lengths)/np.sum(lengths))\n",
    "print('train crossovers in hotspot', np.sum(co_ps_pat_train/co_lengths_pat_train > cutoff)/len(co_ps_pat_train))\n",
    "print('test crossovers in hotspot', np.sum(co_ps_pat_test/co_lengths_pat_test > cutoff)/len(co_ps_pat_test))\n",
    "\n",
    "plt.hist(np.clip(np.log10(co_ps_pat_train) - np.log10(co_lengths_pat_train), -15, 0), alpha=0.5, bins=bins, density=True, label='train crossovers')\n",
    "plt.hist(np.clip(np.log10(co_ps_pat_test) - np.log10(co_lengths_pat_test), -15, 0), alpha=0.5, bins=bins, density=True, label='test crossovers')\n",
    "\n",
    "plt.title('Paternal')\n",
    "plt.xlabel('P[crossover]')\n",
    "plt.xticks(np.arange(-20, 2, 2), ['$10^{%d}$' % x for x in np.arange(-20, 2, 2)])\n",
    "plt.ylabel('density')\n",
    "plt.legend()  \n",
    "plt.axvline(np.log10(cutoff), color='black', linestyle='--')\n",
    "\n",
    "plt.tight_layout()\n",
    "plt.show()"
   ]
  },
  {
   "cell_type": "code",
   "execution_count": 63,
   "metadata": {},
   "outputs": [
    {
     "name": "stderr",
     "output_type": "stream",
     "text": [
      "//anaconda3/lib/python3.7/site-packages/ipykernel/__main__.py:16: RuntimeWarning: divide by zero encountered in true_divide\n",
      "//anaconda3/lib/python3.7/site-packages/ipykernel/__main__.py:30: RuntimeWarning: divide by zero encountered in true_divide\n",
      "//anaconda3/lib/python3.7/site-packages/ipykernel/__main__.py:30: RuntimeWarning: invalid value encountered in true_divide\n",
      "//anaconda3/lib/python3.7/site-packages/ipykernel/__main__.py:30: RuntimeWarning: invalid value encountered in greater\n"
     ]
    }
   ],
   "source": [
    "genome_in_hotspot_mat, genome_in_hotspot_pat = [], []\n",
    "co_in_hotspot_mat_train, co_in_hotspot_pat_train = [], []\n",
    "co_in_hotspot_mat_test, co_in_hotspot_pat_test = [], []\n",
    "\n",
    "for k in range(kfolds):\n",
    "    X_mat_train = sparse.load_npz('%s.X_mat_train.%.0f.%d.npz' % (recomb_file, lamb, k))\n",
    "    X_mat_test = sparse.load_npz('%s.X_mat_test.%.0f.%d.npz' % (recomb_file, lamb, k))\n",
    "\n",
    "    ps_mat = np.load('%s.ps_mat.%.0f.%d.npy' % (recomb_file, lamb, k))\n",
    "\n",
    "    co_ps_mat_train = X_mat_train.dot(ps_mat)\n",
    "    co_lengths_mat_train = X_mat_train.dot(lengths)\n",
    "    co_ps_mat_test = X_mat_test.dot(ps_mat)\n",
    "    co_lengths_mat_test = X_mat_test.dot(lengths)\n",
    "    \n",
    "    genome_in_hotspot_mat.append((ps_mat/lengths > cutoff).dot(lengths)/np.sum(lengths))\n",
    "    co_in_hotspot_mat_train.append(np.sum(co_ps_mat_train/co_lengths_mat_train > cutoff)/len(co_ps_mat_train))\n",
    "    co_in_hotspot_mat_test.append(np.sum(co_ps_mat_test/co_lengths_mat_test > cutoff)/len(co_ps_mat_test))\n",
    "    \n",
    "    X_pat_train = sparse.load_npz('%s.X_pat_train.%.0f.%d.npz' % (recomb_file, lamb, k))\n",
    "    X_pat_test = sparse.load_npz('%s.X_pat_test.%.0f.%d.npz' % (recomb_file, lamb, k))\n",
    "\n",
    "    ps_pat = np.load('%s.ps_pat.%.0f.%d.npy' % (recomb_file, lamb, k))\n",
    "\n",
    "    co_ps_pat_train = X_pat_train.dot(ps_pat)\n",
    "    co_lengths_pat_train = X_pat_train.dot(lengths)\n",
    "    co_ps_pat_test = X_pat_test.dot(ps_pat)\n",
    "    co_lengths_pat_test = X_pat_test.dot(lengths)\n",
    "    \n",
    "    genome_in_hotspot_pat.append((ps_pat/lengths > cutoff).dot(lengths)/np.sum(lengths))\n",
    "    co_in_hotspot_pat_train.append(np.sum(co_ps_pat_train/co_lengths_pat_train > cutoff)/len(co_ps_pat_train))\n",
    "    co_in_hotspot_pat_test.append(np.sum(co_ps_pat_test/co_lengths_pat_test > cutoff)/len(co_ps_pat_test))"
   ]
  },
  {
   "cell_type": "code",
   "execution_count": 68,
   "metadata": {},
   "outputs": [
    {
     "data": {
      "image/png": "[encoded data removed]",
      "text/plain": [
       "<Figure size 1080x360 with 3 Axes>"
      ]
     },
     "metadata": {
      "needs_background": "light"
     },
     "output_type": "display_data"
    }
   ],
   "source": [
    "plt.figure(figsize=(15, 5))\n",
    "plt.subplot(1, 3, 1)\n",
    "plt.boxplot([genome_in_hotspot_mat, genome_in_hotspot_pat])\n",
    "plt.title('Genome in Hotspot')\n",
    "plt.subplot(1, 3, 2)\n",
    "plt.boxplot([co_in_hotspot_mat_train, co_in_hotspot_pat_train])\n",
    "plt.title('Train Crossovers in Hotspot')\n",
    "plt.subplot(1, 3, 3)\n",
    "plt.boxplot([co_in_hotspot_mat_test, co_in_hotspot_pat_test])\n",
    "plt.title('Test Crossovers in Hotspot')\n",
    "\n",
    "plt.tight_layout()\n",
    "plt.show()"
   ]
  },
  {
   "cell_type": "code",
   "execution_count": null,
   "metadata": {},
   "outputs": [],
   "source": [
    "print()"
   ]
  }
 ],
 "metadata": {
  "kernelspec": {
   "display_name": "Python 3",
   "language": "python",
   "name": "python3"
  },
  "language_info": {
   "codemirror_mode": {
    "name": "ipython",
    "version": 3
   },
   "file_extension": ".py",
   "mimetype": "text/x-python",
   "name": "python",
   "nbconvert_exporter": "python",
   "pygments_lexer": "ipython3",
   "version": "3.7.3"
  }
 },
 "nbformat": 4,
 "nbformat_minor": 2
}
