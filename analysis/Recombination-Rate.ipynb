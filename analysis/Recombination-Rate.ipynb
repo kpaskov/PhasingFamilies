{
 "cells": [
  {
   "cell_type": "code",
   "execution_count": 324,
   "metadata": {},
   "outputs": [],
   "source": [
    "import numpy as np\n",
    "import matplotlib.pyplot as plt\n",
    "import scipy.sparse as sparse\n",
    "import scipy.stats as stats\n"
   ]
  },
  {
   "cell_type": "code",
   "execution_count": 325,
   "metadata": {},
   "outputs": [],
   "source": [
    "recomb_file = '../recombination_rate/wgs'\n",
    "kfolds = 3\n",
    "lambs = [10, 100, 1000, 10000, 100000, 1000000]\n",
    "cutoff = 10**-11"
   ]
  },
  {
   "cell_type": "code",
   "execution_count": 326,
   "metadata": {},
   "outputs": [],
   "source": [
    "all_positions = []\n",
    "with open('%s.positions.txt' % (recomb_file), 'r') as f:\n",
    "    for line in f:\n",
    "        pieces = line.strip().split('\\t')\n",
    "        all_positions.append((pieces[0], int(pieces[1])))\n",
    "\n",
    "lengths = np.hstack(([0 if all_positions[i][0] != all_positions[i+1][0] else all_positions[i+1][1]-all_positions[i][1] for i in range(len(all_positions)-1)], 0))\n",
    "\n",
    "#lengths = np.load('%s.lengths.npy' % recomb_file)\n"
   ]
  },
  {
   "cell_type": "code",
   "execution_count": 327,
   "metadata": {},
   "outputs": [
    {
     "name": "stderr",
     "output_type": "stream",
     "text": [
      "//anaconda3/lib/python3.7/site-packages/ipykernel/__main__.py:15: RuntimeWarning: divide by zero encountered in log10\n",
      "//anaconda3/lib/python3.7/site-packages/ipykernel/__main__.py:16: RuntimeWarning: divide by zero encountered in true_divide\n",
      "//anaconda3/lib/python3.7/site-packages/ipykernel/__main__.py:24: RuntimeWarning: divide by zero encountered in true_divide\n"
     ]
    },
    {
     "name": "stdout",
     "output_type": "stream",
     "text": [
      "Maternal\n",
      "genome in hotspot 0.9586681026079464\n",
      "train crossovers in hotspot 0.9999484098322923\n",
      "test crossovers in hotspot 0.9999283102731379\n"
     ]
    },
    {
     "name": "stderr",
     "output_type": "stream",
     "text": [
      "//anaconda3/lib/python3.7/site-packages/ipykernel/__main__.py:46: RuntimeWarning: divide by zero encountered in log10\n",
      "//anaconda3/lib/python3.7/site-packages/ipykernel/__main__.py:54: RuntimeWarning: divide by zero encountered in true_divide\n"
     ]
    },
    {
     "name": "stdout",
     "output_type": "stream",
     "text": [
      "Paternal\n",
      "genome in hotspot 0.9566910093786039\n",
      "train crossovers in hotspot 0.999914494417707\n",
      "test crossovers in hotspot 0.9997808579411603\n"
     ]
    },
    {
     "data": {
      "image/png": "[encoded data removed]",
      "text/plain": [
       "<Figure size 1080x360 with 2 Axes>"
      ]
     },
     "metadata": {
      "needs_background": "light"
     },
     "output_type": "display_data"
    }
   ],
   "source": [
    "plt.figure(figsize=(15, 5))\n",
    "\n",
    "bins = np.arange(-20, 0, 0.5)\n",
    "k = 0\n",
    "lamb = lambs[-1]\n",
    "\n",
    "plt.subplot(1, 2, 1)\n",
    "#co_ps_mat_train = np.load('%s.crossover_ps_mat_train.%.0f.%d.npy' % (recomb_file, lamb, k))\n",
    "#co_ps_mat_test = np.load('%s.crossover_ps_mat_test.%.0f.%d.npy' % (recomb_file, lamb, k))\n",
    "\n",
    "X_mat_train = sparse.load_npz('%s.X_mat_train.%d.%d.npz' % (recomb_file, lamb, k))\n",
    "X_mat_test = sparse.load_npz('%s.X_mat_test.%d.%d.npz' % (recomb_file, lamb, k))\n",
    "\n",
    "ps_mat = np.load('%s.ps_mat.%d.%d.npy' % (recomb_file, lamb, k))\n",
    "plt.hist(np.log10(ps_mat)-np.log10(lengths), alpha=0.5, bins=bins, density=True, label='genomic regions')\n",
    "is_hotspot_mat = (ps_mat/lengths > cutoff)\n",
    "    \n",
    "co_ps_mat_train = X_mat_train.dot(ps_mat)\n",
    "co_lengths_mat_train = X_mat_train.dot(lengths)\n",
    "co_ps_mat_test = X_mat_test.dot(ps_mat)\n",
    "co_lengths_mat_test = X_mat_test.dot(lengths)\n",
    "\n",
    "print('Maternal')\n",
    "print('genome in hotspot', (ps_mat/lengths > cutoff).dot(lengths)/np.sum(lengths))\n",
    "print('train crossovers in hotspot', np.sum(co_ps_mat_train/co_lengths_mat_train > cutoff)/len(co_ps_mat_train))\n",
    "print('test crossovers in hotspot', np.sum(co_ps_mat_test/co_lengths_mat_test > cutoff)/len(co_ps_mat_test))\n",
    "    \n",
    "plt.hist(np.clip(np.log10(co_ps_mat_train) - np.log10(co_lengths_mat_train), -15, 0), alpha=0.5, bins=bins, density=True, label='train crossovers')\n",
    "plt.hist(np.clip(np.log10(co_ps_mat_test) - np.log10(co_lengths_mat_test), -15, 0), alpha=0.5, bins=bins, density=True, label='test crossovers')\n",
    "\n",
    "plt.title('Maternal')\n",
    "plt.xlabel('P[crossover]')\n",
    "plt.ylabel('density')\n",
    "plt.xticks(np.arange(-20, 2, 2), ['$10^{%d}$' % x for x in np.arange(-20, 2, 2)])\n",
    "plt.legend()\n",
    "plt.axvline(np.log10(cutoff), color='black', linestyle='--')\n",
    "\n",
    "plt.subplot(1, 2, 2)\n",
    "#co_ps_pat_train = np.load('%s.crossover_ps_pat_train.%.0f.%d.npy' % (recomb_file, lamb, k))\n",
    "#co_ps_pat_test = np.load('%s.crossover_ps_pat_test.%.0f.%d.npy' % (recomb_file, lamb, k))\n",
    "    \n",
    "X_pat_train = sparse.load_npz('%s.X_pat_train.%d.%d.npz' % (recomb_file, lamb, k))\n",
    "X_pat_test = sparse.load_npz('%s.X_pat_test.%d.%d.npz' % (recomb_file, lamb, k))\n",
    "    \n",
    "ps_pat = np.load('%s.ps_pat.%d.%d.npy' % (recomb_file, lamb, k))\n",
    "plt.hist(np.log10(ps_pat)-np.log10(lengths), alpha=0.5, bins=bins, density=True, label='genome')\n",
    "\n",
    "co_ps_pat_train = X_pat_train.dot(ps_pat)\n",
    "co_lengths_pat_train = X_pat_train.dot(lengths)\n",
    "co_ps_pat_test = X_pat_test.dot(ps_pat)\n",
    "co_lengths_pat_test = X_pat_test.dot(lengths)\n",
    " \n",
    "print('Paternal')\n",
    "print('genome in hotspot', (ps_pat/lengths > cutoff).dot(lengths)/np.sum(lengths))\n",
    "print('train crossovers in hotspot', np.sum(co_ps_pat_train/co_lengths_pat_train > cutoff)/len(co_ps_pat_train))\n",
    "print('test crossovers in hotspot', np.sum(co_ps_pat_test/co_lengths_pat_test > cutoff)/len(co_ps_pat_test))\n",
    "\n",
    "plt.hist(np.clip(np.log10(co_ps_pat_train) - np.log10(co_lengths_pat_train), -15, 0), alpha=0.5, bins=bins, density=True, label='train crossovers')\n",
    "plt.hist(np.clip(np.log10(co_ps_pat_test) - np.log10(co_lengths_pat_test), -15, 0), alpha=0.5, bins=bins, density=True, label='test crossovers')\n",
    "\n",
    "plt.title('Paternal')\n",
    "plt.xlabel('P[crossover]')\n",
    "plt.xticks(np.arange(-20, 2, 2), ['$10^{%d}$' % x for x in np.arange(-20, 2, 2)])\n",
    "plt.ylabel('density')\n",
    "plt.legend()  \n",
    "plt.axvline(np.log10(cutoff), color='black', linestyle='--')\n",
    "\n",
    "plt.tight_layout()\n",
    "plt.show()"
   ]
  },
  {
   "cell_type": "code",
   "execution_count": 328,
   "metadata": {},
   "outputs": [
    {
     "name": "stderr",
     "output_type": "stream",
     "text": [
      "//anaconda3/lib/python3.7/site-packages/ipykernel/__main__.py:5: RuntimeWarning: divide by zero encountered in true_divide\n",
      "//anaconda3/lib/python3.7/site-packages/ipykernel/__main__.py:9: RuntimeWarning: divide by zero encountered in log10\n"
     ]
    },
    {
     "ename": "FileNotFoundError",
     "evalue": "[Errno 2] No such file or directory: '../recombination_rate/wgs.ps_mat.1e+06.0.npy'",
     "output_type": "error",
     "traceback": [
      "\u001b[0;31m---------------------------------------------------------------------------\u001b[0m",
      "\u001b[0;31mFileNotFoundError\u001b[0m                         Traceback (most recent call last)",
      "\u001b[0;32m<ipython-input-328-a570311f4df2>\u001b[0m in \u001b[0;36m<module>\u001b[0;34m\u001b[0m\n\u001b[1;32m      2\u001b[0m \u001b[0mplt\u001b[0m\u001b[0;34m.\u001b[0m\u001b[0msubplot\u001b[0m\u001b[0;34m(\u001b[0m\u001b[0;36m1\u001b[0m\u001b[0;34m,\u001b[0m \u001b[0;36m2\u001b[0m\u001b[0;34m,\u001b[0m \u001b[0;36m1\u001b[0m\u001b[0;34m)\u001b[0m\u001b[0;34m\u001b[0m\u001b[0;34m\u001b[0m\u001b[0m\n\u001b[1;32m      3\u001b[0m \u001b[0;32mfor\u001b[0m \u001b[0mlamb\u001b[0m \u001b[0;32min\u001b[0m \u001b[0mlambs\u001b[0m\u001b[0;34m:\u001b[0m\u001b[0;34m\u001b[0m\u001b[0;34m\u001b[0m\u001b[0m\n\u001b[0;32m----> 4\u001b[0;31m     \u001b[0mps_mat\u001b[0m \u001b[0;34m=\u001b[0m \u001b[0mnp\u001b[0m\u001b[0;34m.\u001b[0m\u001b[0mload\u001b[0m\u001b[0;34m(\u001b[0m\u001b[0;34m'%s.ps_mat.%g.%d.npy'\u001b[0m \u001b[0;34m%\u001b[0m \u001b[0;34m(\u001b[0m\u001b[0mrecomb_file\u001b[0m\u001b[0;34m,\u001b[0m \u001b[0mlamb\u001b[0m\u001b[0;34m,\u001b[0m \u001b[0mk\u001b[0m\u001b[0;34m)\u001b[0m\u001b[0;34m)\u001b[0m\u001b[0;34m\u001b[0m\u001b[0;34m\u001b[0m\u001b[0m\n\u001b[0m\u001b[1;32m      5\u001b[0m     \u001b[0mis_hotspot_mat\u001b[0m \u001b[0;34m=\u001b[0m \u001b[0;34m(\u001b[0m\u001b[0mps_mat\u001b[0m\u001b[0;34m/\u001b[0m\u001b[0mlengths\u001b[0m \u001b[0;34m>\u001b[0m \u001b[0mcutoff\u001b[0m\u001b[0;34m)\u001b[0m\u001b[0;34m\u001b[0m\u001b[0;34m\u001b[0m\u001b[0m\n\u001b[1;32m      6\u001b[0m     \u001b[0mhotspot_length\u001b[0m \u001b[0;34m=\u001b[0m \u001b[0;34m[\u001b[0m\u001b[0;34m]\u001b[0m\u001b[0;34m\u001b[0m\u001b[0;34m\u001b[0m\u001b[0m\n",
      "\u001b[0;32m//anaconda3/lib/python3.7/site-packages/numpy/lib/npyio.py\u001b[0m in \u001b[0;36mload\u001b[0;34m(file, mmap_mode, allow_pickle, fix_imports, encoding)\u001b[0m\n\u001b[1;32m    420\u001b[0m         \u001b[0mown_fid\u001b[0m \u001b[0;34m=\u001b[0m \u001b[0;32mFalse\u001b[0m\u001b[0;34m\u001b[0m\u001b[0;34m\u001b[0m\u001b[0m\n\u001b[1;32m    421\u001b[0m     \u001b[0;32melse\u001b[0m\u001b[0;34m:\u001b[0m\u001b[0;34m\u001b[0m\u001b[0;34m\u001b[0m\u001b[0m\n\u001b[0;32m--> 422\u001b[0;31m         \u001b[0mfid\u001b[0m \u001b[0;34m=\u001b[0m \u001b[0mopen\u001b[0m\u001b[0;34m(\u001b[0m\u001b[0mos_fspath\u001b[0m\u001b[0;34m(\u001b[0m\u001b[0mfile\u001b[0m\u001b[0;34m)\u001b[0m\u001b[0;34m,\u001b[0m \u001b[0;34m\"rb\"\u001b[0m\u001b[0;34m)\u001b[0m\u001b[0;34m\u001b[0m\u001b[0;34m\u001b[0m\u001b[0m\n\u001b[0m\u001b[1;32m    423\u001b[0m         \u001b[0mown_fid\u001b[0m \u001b[0;34m=\u001b[0m \u001b[0;32mTrue\u001b[0m\u001b[0;34m\u001b[0m\u001b[0;34m\u001b[0m\u001b[0m\n\u001b[1;32m    424\u001b[0m \u001b[0;34m\u001b[0m\u001b[0m\n",
      "\u001b[0;31mFileNotFoundError\u001b[0m: [Errno 2] No such file or directory: '../recombination_rate/wgs.ps_mat.1e+06.0.npy'"
     ]
    },
    {
     "data": {
      "image/png": "[encoded data removed]",
      "text/plain": [
       "<Figure size 1080x360 with 1 Axes>"
      ]
     },
     "metadata": {
      "needs_background": "light"
     },
     "output_type": "display_data"
    }
   ],
   "source": [
    "plt.figure(figsize=(15, 5))\n",
    "plt.subplot(1, 2, 1)\n",
    "for lamb in lambs:\n",
    "    ps_mat = np.load('%s.ps_mat.%g.%d.npy' % (recomb_file, lamb, k))\n",
    "    is_hotspot_mat = (ps_mat/lengths > cutoff)\n",
    "    hotspot_length = []\n",
    "    for hotspot_start_index, hotspot_end_index in zip(np.where(~is_hotspot_mat[:-1] & is_hotspot_mat[1:])[0]+1, np.where(is_hotspot_mat[:-1] & ~is_hotspot_mat[1:])[0]+1):\n",
    "        hotspot_length.append(np.sum(lengths[hotspot_start_index:hotspot_end_index]))\n",
    "    plt.hist(np.clip(np.log10(hotspot_length), 0, 7), alpha=0.5, bins=np.arange(0, 8, 0.1), density=True, label='lamb=%g' % lamb)\n",
    "\n",
    "plt.title('Maternal')\n",
    "plt.xlabel('Hotspot Lengths')\n",
    "plt.ylabel('density')\n",
    "plt.xticks(np.arange(0, 8), ['$10^{%d}$' % x for x in np.arange(0, 8)])\n",
    "plt.legend()\n",
    "\n",
    "plt.subplot(1, 2, 2)\n",
    "for lamb in lambs:   \n",
    "    ps_pat = np.load('%s.ps_pat.%g.%d.npy' % (recomb_file, lamb, k))\n",
    "    is_hotspot_pat = (ps_pat/lengths > cutoff)\n",
    "    hotspot_length = []\n",
    "    for hotspot_start_index, hotspot_end_index in zip(np.where(~is_hotspot_pat[:-1] & is_hotspot_pat[1:])[0]+1, np.where(is_hotspot_pat[:-1] & ~is_hotspot_pat[1:])[0]+1):\n",
    "        hotspot_length.append(np.sum(lengths[hotspot_start_index:hotspot_end_index]))\n",
    "    plt.hist(np.clip(np.log10(hotspot_length), 0, 7), alpha=0.5, bins=np.arange(0, 8, 0.1), density=True, label='lamb=%g' % lamb)\n",
    "\n",
    "plt.title('Paternal')\n",
    "plt.xlabel('P[crossover]')\n",
    "plt.xticks(np.arange(0, 8), ['$10^{%d}$' % x for x in np.arange(0, 8)])\n",
    "plt.ylabel('Hotspot Lengths')\n",
    "plt.legend()  \n",
    "\n",
    "plt.tight_layout()\n",
    "plt.show()"
   ]
  },
  {
   "cell_type": "code",
   "execution_count": null,
   "metadata": {},
   "outputs": [],
   "source": [
    "plt.figure(figsize=(15, 5))\n",
    "plt.subplot(1, 2, 1)\n",
    "for lamb in lambs:\n",
    "    ps_mat = np.load('%s.ps_mat.%g.%d.npy' % (recomb_file, lamb, k))\n",
    "    plt.hist(np.log10(ps_mat)-np.log10(lengths), alpha=0.5, bins=bins, density=True, label='lamb=%g' % lamb)\n",
    "\n",
    "plt.title('Maternal')\n",
    "plt.xlabel('P[crossover]')\n",
    "plt.ylabel('density')\n",
    "plt.xticks(np.arange(-20, 2, 2), ['$10^{%d}$' % x for x in np.arange(-20, 2, 2)])\n",
    "plt.legend()\n",
    "plt.axvline(np.log10(cutoff), color='black', linestyle='--')\n",
    "\n",
    "plt.subplot(1, 2, 2)\n",
    "for lamb in lambs:   \n",
    "    ps_pat = np.load('%s.ps_pat.%g.%d.npy' % (recomb_file, lamb, k))\n",
    "    plt.hist(np.log10(ps_pat)-np.log10(lengths), alpha=0.5, bins=bins, density=True, label='lamb=%g' % lamb)\n",
    "\n",
    "plt.title('Paternal')\n",
    "plt.xlabel('P[crossover]')\n",
    "plt.xticks(np.arange(-20, 2, 2), ['$10^{%d}$' % x for x in np.arange(-20, 2, 2)])\n",
    "plt.ylabel('density')\n",
    "plt.legend()  \n",
    "plt.axvline(np.log10(cutoff), color='black', linestyle='--')\n",
    "\n",
    "plt.tight_layout()\n",
    "plt.show()"
   ]
  },
  {
   "cell_type": "code",
   "execution_count": null,
   "metadata": {},
   "outputs": [],
   "source": [
    "chrom = '20'\n",
    "lamb = 100000\n",
    "k = 0\n",
    "\n",
    "ps_mat = np.load('%s.ps_mat.%d.%d.npy' % (recomb_file, lamb, k))\n",
    "ps_pat = np.load('%s.ps_pat.%d.%d.npy' % (recomb_file, lamb, k))\n",
    "print(ps_mat, ps_pat)\n",
    "\n",
    "plt.figure(figsize=(15, 5))\n",
    "indices = [c==chrom for c, p in all_positions]\n",
    "#p = plt.plot(np.repeat([p for c, p in all_positions[:-1] if c==chrom], 2)[1:], \n",
    "#         np.repeat((np.log10(ps_mat)-np.log10(lengths))[indices], 2)[:-1], marker='.', alpha=0.5)\n",
    "#indices = [c==chrom for c, p in all_positions]\n",
    "#q = plt.plot(np.repeat([p for c, p in all_positions[:-1] if c==chrom], 2)[1:], \n",
    "#         np.repeat((np.log10(ps_pat)-np.log10(lengths))[indices], 2)[:-1], marker='.', alpha=0.5)\n",
    "\n",
    "plt.plot(np.log10(ps_mat)-np.log10(lengths), alpha=0.1, marker='.')\n",
    "plt.plot(np.log10(ps_pat)-np.log10(lengths), alpha=0.1, marker='.')\n",
    "plt.axhline(-11, color='black', linestyle='--')\n",
    "\n",
    "#plt.xticks([x[1] for x in cyto if x[0]=='chr%d' % chrom], [str(chrom) + x[3] for x in cyto if x[0]=='chr%d' % chrom], rotation=90)\n",
    "\n",
    "#plt.xlim([0, 1000000])\n",
    "plt.show()\n"
   ]
  },
  {
   "cell_type": "code",
   "execution_count": null,
   "metadata": {},
   "outputs": [],
   "source": [
    "lamb = 100000\n",
    "k = 0\n",
    "\n",
    "ps_mat = np.load('%s.ps_mat.%d.%d.npy' % (recomb_file, lamb, k))\n",
    "ps_pat = np.load('%s.ps_pat.%d.%d.npy' % (recomb_file, lamb, k))\n",
    "\n",
    "plt.figure(figsize=(12, 10))\n",
    "plt.hexbin(np.clip(np.log10(ps_mat[lengths!=0]) - np.log10(lengths[lengths!=0]), -20, 0), \n",
    "            np.clip(np.log10(ps_pat[lengths!=0]) - np.log10(lengths[lengths!=0]), -20, 0),\n",
    "          gridsize=100, bins='log')#, marker='.', alpha=0.1)\n",
    "plt.colorbar()\n",
    "plt.plot(plt.xlim(), plt.xlim(), color='black', linestyle='--')\n",
    "plt.axhline(np.log10(cutoff), color='black')\n",
    "plt.axvline(np.log10(cutoff), color='black')\n",
    "plt.show()"
   ]
  },
  {
   "cell_type": "code",
   "execution_count": null,
   "metadata": {},
   "outputs": [],
   "source": [
    "genome_in_hotspot_mat, genome_in_hotspot_pat, genome_in_hotspot = np.zeros((len(lambs), kfolds)), np.zeros((len(lambs), kfolds)), np.zeros((len(lambs), kfolds))\n",
    "co_in_hotspot_mat_train, co_in_hotspot_pat_train = np.zeros((len(lambs), kfolds)), np.zeros((len(lambs), kfolds))\n",
    "co_in_hotspot_mat_test, co_in_hotspot_pat_test = np.zeros((len(lambs), kfolds)), np.zeros((len(lambs), kfolds))\n",
    "\n",
    "for i, lamb in enumerate(lambs):\n",
    "    for k in range(kfolds):\n",
    "        X_mat_train = sparse.load_npz('%s.X_mat_train.%d.%d.npz' % (recomb_file, lamb, k))\n",
    "        X_mat_test = sparse.load_npz('%s.X_mat_test.%d.%d.npz' % (recomb_file, lamb, k))\n",
    "\n",
    "        ps_mat = np.load('%s.ps_mat.%d.%d.npy' % (recomb_file, lamb, k))\n",
    "        ps_mat[ps_mat==0] = np.min(ps_mat[ps_mat>0])\n",
    "        is_mat_hotspot = (ps_mat/lengths > cutoff)\n",
    "        \n",
    "        co_ps_mat_train = X_mat_train.dot(ps_mat)\n",
    "        co_lengths_mat_train = X_mat_train.dot(lengths)\n",
    "        co_ps_mat_test = X_mat_test.dot(ps_mat)\n",
    "        co_lengths_mat_test = X_mat_test.dot(lengths)\n",
    "\n",
    "        genome_in_hotspot_mat[i, k] = is_mat_hotspot.dot(lengths)/np.sum(lengths)\n",
    "        #co_in_hotspot_mat_train[i, k] = np.sum(co_ps_mat_train/co_lengths_mat_train > cutoff)/len(co_ps_mat_train)\n",
    "        #co_in_hotspot_mat_test[i, k] = np.sum(co_ps_mat_test/co_lengths_mat_test > cutoff)/len(co_ps_mat_test)\n",
    "        #co_in_hotspot_mat_train[i, k] = np.median(np.log(co_ps_mat_train))\n",
    "        #co_in_hotspot_mat_test[i, k] = np.median(np.log(co_ps_mat_test))\n",
    "        co_in_hotspot_mat_train[i, k] = np.sum(np.log(co_ps_mat_train))\n",
    "        co_in_hotspot_mat_test[i, k] = np.sum(np.log(co_ps_mat_test))\n",
    "        #co_in_hotspot_mat_train[i, k] = stats.binom_test(np.sum(X_mat_train.dot(is_mat_hotspot)>0), len(co_ps_mat_train), p=genome_in_hotspot_mat[i, k])\n",
    "        #co_in_hotspot_mat_test[i, k] = stats.binom_test(np.sum(X_mat_test.dot(is_mat_hotspot)>0), len(co_ps_mat_test), p=genome_in_hotspot_mat[i, k])\n",
    "        #co_in_hotspot_mat_train[i, k] = np.sum(X_mat_train.dot(is_mat_hotspot)>0)*np.log(genome_in_hotspot_mat[i, k]) \\\n",
    "        #                                + np.sum(X_mat_train.dot(is_mat_hotspot)==0)*np.log(1-genome_in_hotspot_mat[i, k])\n",
    "        #co_in_hotspot_mat_test[i, k] = np.sum(X_mat_test.dot(is_mat_hotspot)>0)*np.log(genome_in_hotspot_mat[i, k]) \\\n",
    "        #                                + np.sum(X_mat_test.dot(is_mat_hotspot)==0)*np.log(1-genome_in_hotspot_mat[i, k])\n",
    "        \n",
    "        X_pat_train = sparse.load_npz('%s.X_pat_train.%d.%d.npz' % (recomb_file, lamb, k))\n",
    "        X_pat_test = sparse.load_npz('%s.X_pat_test.%d.%d.npz' % (recomb_file, lamb, k))\n",
    "\n",
    "        ps_pat = np.load('%s.ps_pat.%d.%d.npy' % (recomb_file, lamb, k))\n",
    "        ps_pat[ps_pat==0] = np.min(ps_pat[ps_pat>0])\n",
    "        is_pat_hotspot = (ps_pat/lengths > cutoff)\n",
    "        \n",
    "        co_ps_pat_train = X_pat_train.dot(ps_pat)\n",
    "        co_lengths_pat_train = X_pat_train.dot(lengths)\n",
    "        co_ps_pat_test = X_pat_test.dot(ps_pat)\n",
    "        co_lengths_pat_test = X_pat_test.dot(lengths)\n",
    "\n",
    "        genome_in_hotspot_pat[i, k] = is_pat_hotspot.dot(lengths)/np.sum(lengths)\n",
    "        #co_in_hotspot_pat_train[i, k] = np.sum(co_ps_pat_train/co_lengths_pat_train > cutoff)/len(co_ps_pat_train)\n",
    "        #co_in_hotspot_pat_test[i, k] = np.sum(co_ps_pat_test/co_lengths_pat_test > cutoff)/len(co_ps_pat_test)\n",
    "        #co_in_hotspot_pat_train[i, k] = np.median(np.log(co_ps_pat_train))\n",
    "        #co_in_hotspot_pat_test[i, k] = np.median(np.log(co_ps_pat_test))\n",
    "        co_in_hotspot_pat_train[i, k] = np.sum(np.log(co_ps_pat_train))\n",
    "        co_in_hotspot_pat_test[i, k] = np.sum(np.log(co_ps_pat_test))\n",
    "        #co_in_hotspot_pat_train[i, k] = stats.binom_test(np.sum(X_pat_train.dot(is_pat_hotspot)>0), len(co_ps_pat_train), p=genome_in_hotspot_pat[i, k])\n",
    "        #co_in_hotspot_pat_test[i, k] = stats.binom_test(np.sum(X_pat_test.dot(is_pat_hotspot)>0), len(co_ps_pat_test), p=genome_in_hotspot_pat[i, k])\n",
    "        #co_in_hotspot_pat_train[i, k] = np.sum(X_pat_train.dot(is_mat_hotspot)>0)*np.log(genome_in_hotspot_pat[i, k]) \\\n",
    "        #                                + np.sum(X_pat_train.dot(is_mat_hotspot)==0)*np.log(1-genome_in_hotspot_pat[i, k])\n",
    "        #co_in_hotspot_pat_test[i, k] = np.sum(X_pat_test.dot(is_mat_hotspot)>0)*np.log(genome_in_hotspot_pat[i, k]) \\\n",
    "        #                                + np.sum(X_pat_test.dot(is_mat_hotspot)==0)*np.log(1-genome_in_hotspot_pat[i, k])\n",
    "        \n",
    "        genome_in_hotspot[i, k] = (is_mat_hotspot & is_pat_hotspot).dot(lengths)/np.sum(lengths)\n"
   ]
  },
  {
   "cell_type": "code",
   "execution_count": null,
   "metadata": {},
   "outputs": [],
   "source": [
    "def plot_with_confidence(data, label):\n",
    "    print(np.mean(data, axis=1))\n",
    "    plt.plot(np.mean(data, axis=1), label=label)\n",
    "    lower, upper = stats.t.interval(0.95, data.shape[1]-1, loc=np.mean(data, axis=1), scale=stats.sem(data, axis=1)) # from https://stackoverflow.com/questions/15033511/compute-a-confidence-interval-from-sample-data\n",
    "    plt.fill_between(np.arange(len(lambs)), lower, upper, alpha=0.5)\n",
    "\n",
    "\n",
    "plt.figure(figsize=(15, 5))\n",
    "plt.subplot(1, 3, 1)\n",
    "plot_with_confidence(genome_in_hotspot_mat, 'mat')\n",
    "plot_with_confidence(genome_in_hotspot_pat, 'pat')\n",
    "plot_with_confidence(genome_in_hotspot, 'both')\n",
    "plt.title('Fraction of genome in a hotspot')\n",
    "plt.xticks(range(len(lambs)), map(lambda x: '%g' % x, lambs))\n",
    "plt.legend()\n",
    "\n",
    "plt.subplot(1, 3, 2)\n",
    "plot_with_confidence(co_in_hotspot_mat_train, 'mat')\n",
    "plot_with_confidence(co_in_hotspot_pat_train, 'pat')\n",
    "plt.title('Likelihood of observing training crossovers]')\n",
    "plt.xticks(range(len(lambs)), map(lambda x: '%g' % x, lambs))\n",
    "plt.legend()\n",
    "\n",
    "plt.subplot(1, 3, 3)\n",
    "plot_with_confidence(co_in_hotspot_mat_test, 'mat')\n",
    "plot_with_confidence(co_in_hotspot_pat_test, 'pat')\n",
    "plt.title('Likelihood of observing heldout crossovers')\n",
    "plt.xticks(range(len(lambs)), map(lambda x: '$10^{%d}$' % np.log10(x), lambs))\n",
    "plt.legend()\n",
    "\n",
    "plt.tight_layout()\n",
    "plt.show()"
   ]
  },
  {
   "cell_type": "code",
   "execution_count": null,
   "metadata": {},
   "outputs": [],
   "source": [
    "print(lambs[np.argmax(np.mean(co_in_hotspot_mat_test, axis=1))])\n",
    "print(lambs[np.argmax(np.mean(co_in_hotspot_pat_test, axis=1))])"
   ]
  },
  {
   "cell_type": "code",
   "execution_count": null,
   "metadata": {},
   "outputs": [],
   "source": []
  }
 ],
 "metadata": {
  "kernelspec": {
   "display_name": "Python 3",
   "language": "python",
   "name": "python3"
  },
  "language_info": {
   "codemirror_mode": {
    "name": "ipython",
    "version": 3
   },
   "file_extension": ".py",
   "mimetype": "text/x-python",
   "name": "python",
   "nbconvert_exporter": "python",
   "pygments_lexer": "ipython3",
   "version": "3.7.3"
  }
 },
 "nbformat": 4,
 "nbformat_minor": 2
}
