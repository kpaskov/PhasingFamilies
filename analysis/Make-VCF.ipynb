{
 "cells": [
  {
   "cell_type": "code",
   "execution_count": 165,
   "metadata": {
    "collapsed": true
   },
   "outputs": [],
   "source": [
    "chrom = '16'\n",
    "family_sizes = [3, 4, 5]\n",
    "phase_dir = '../sherlock_phased_ssc'\n",
    "data_dir = '../split_gen_ssc'"
   ]
  },
  {
   "cell_type": "code",
   "execution_count": 166,
   "metadata": {},
   "outputs": [
    {
     "name": "stdout",
     "output_type": "stream",
     "text": [
      "Chrom length 90354753\n",
      "n 32814\n"
     ]
    }
   ],
   "source": [
    "# Pull chrom length from cytogenetic coordinates\n",
    "chrom_length = 0\n",
    "xticks, xticklabels = [], []\n",
    "with open('../data/cytoBand.txt', 'r') as f:\n",
    "    for line in f:\n",
    "        pieces = line.strip().split()\n",
    "        if pieces[0] == 'chr%s' % chrom:\n",
    "            xticks.append(int(pieces[1]))\n",
    "            xticklabels.append(pieces[3])\n",
    "            chrom_length = max(chrom_length, int(pieces[1]), int(pieces[2]))\n",
    "print('Chrom length', chrom_length)\n",
    "    \n",
    "# pull positions that appear as deletion start/endpoints\n",
    "snp_positions = set([1, chrom_length])\n",
    "for j in family_sizes:\n",
    "    with open('%s/chr.%s.familysize.%d.phased.txt' % (phase_dir, chrom, j), 'r')  as phasef:\n",
    "        next(phasef) # skip header\n",
    "        \n",
    "        for line in phasef:\n",
    "            pieces = line.strip().split('\\t')\n",
    "            start_pos, end_pos = [int(x) for x in pieces[(1+(j*2)):(3+(j*2))]]\n",
    "            snp_positions.add(start_pos)\n",
    "            snp_positions.add(end_pos)\n",
    "            \n",
    "snp_positions = np.asarray(sorted(snp_positions))\n",
    "pos_to_index = dict([(x, i) for i, x in enumerate(snp_positions)])\n",
    "n = snp_positions.shape[0]\n",
    "print('n', n)"
   ]
  },
  {
   "cell_type": "code",
   "execution_count": 167,
   "metadata": {},
   "outputs": [
    {
     "name": "stdout",
     "output_type": "stream",
     "text": [
      "Removing individuals in multiple families 0\n",
      "m 2073 parents 1038 children 1035\n"
     ]
    }
   ],
   "source": [
    "from collections import Counter\n",
    "\n",
    "# sample_ids\n",
    "sample_ids = []\n",
    "parent_ids = set()\n",
    "for j in family_sizes:\n",
    "    with open('%s/chr.%s.familysize.%d.families.txt' % (phase_dir, chrom, j), 'r')  as famf:\n",
    "        next(famf) # skip header\n",
    "        for line in famf:\n",
    "            individuals = line.strip().split('\\t')[1:(1+j)]\n",
    "    \n",
    "            parent_ids.update(individuals[:2])\n",
    "            sample_ids.extend(individuals)\n",
    "            \n",
    "# Remove individuals from multiple families\n",
    "appearances = Counter(sample_ids)\n",
    "print('Removing individuals in multiple families', len([k for k, v in appearances.items() if v>1]))\n",
    "sample_ids = [x for x in sample_ids if appearances[x] == 1]\n",
    "\n",
    "# map sample ids to index\n",
    "sample_id_to_index = dict([(sample_id, i) for i, sample_id in enumerate(sample_ids)])\n",
    "parent_indices = [i for i, x in enumerate(sample_ids) if x in parent_ids]\n",
    "child_indices = [i for i, x in enumerate(sample_ids) if x not in parent_ids]\n",
    "m = len(sample_id_to_index)\n",
    "print('m', m, 'parents', len(parent_indices), 'children', len(child_indices))"
   ]
  },
  {
   "cell_type": "code",
   "execution_count": 168,
   "metadata": {},
   "outputs": [],
   "source": [
    "from collections import defaultdict\n",
    "\n",
    "# load deletions along with inherited/not inherited counts\n",
    "deletions = np.zeros((m, n), dtype=int)-1\n",
    "inherited = np.zeros((max(family_sizes)-1, n), dtype=int)\n",
    "not_inherited = np.zeros((max(family_sizes)-1, n), dtype=int)\n",
    "\n",
    "for j in family_sizes:\n",
    "    with open('%s/chr.%s.familysize.%d.families.txt' % (phase_dir, chrom, j), 'r')  as famf, \\\n",
    "    open('%s/chr.%s.familysize.%d.phased.txt' % (phase_dir, chrom, j), 'r')  as phasef:\n",
    "        next(famf) # skip header\n",
    "        next(phasef) # skip header\n",
    "        \n",
    "        fam_pieces = (None,)\n",
    "        \n",
    "        for line in phasef:\n",
    "            pieces = line.strip().split('\\t')\n",
    "            family_key = pieces[0]\n",
    "            inheritance_state = [None if x == '*' else int(x) for x in pieces[1:(1+(j*2))]]\n",
    "            del_state = [0 if x is None else x for x in inheritance_state[:4]]\n",
    "            start_pos, end_pos = [int(x) for x in pieces[(1+(j*2)):(3+(j*2))]]\n",
    "            start_index, end_index = pos_to_index[start_pos], pos_to_index[end_pos]\n",
    "            \n",
    "            # make sure we're on the right family\n",
    "            while family_key != fam_pieces[0]:\n",
    "                fam_pieces = next(famf).strip().split('\\t')\n",
    "                fam_individuals = fam_pieces[1:(1+j)]\n",
    "               \n",
    "            if fam_individuals[0] in sample_id_to_index:\n",
    "                deletions[sample_id_to_index[fam_individuals[0]], start_index:(end_index+1)] = sum(del_state[:2])\n",
    "            if fam_individuals[1] in sample_id_to_index:\n",
    "                deletions[sample_id_to_index[fam_individuals[1]], start_index:(end_index+1)] = sum(del_state[2:4])\n",
    "            \n",
    "            par_inh = [0, 0, 0, 0]\n",
    "            for k, child_id in enumerate(fam_individuals[2:]):\n",
    "                mat, pat = inheritance_state[(4+(2*k)):(6+(2*k))]\n",
    "                if mat is not None and pat is not None:\n",
    "                    if child_id in sample_id_to_index:\n",
    "                        deletions[sample_id_to_index[child_id], start_index:(end_index+1)] = (del_state[mat]+del_state[2+pat])\n",
    "                    par_inh[mat] += 1\n",
    "                    par_inh[2+pat] += 1\n",
    "                elif (mat is None) and (pat is not None) and (del_state[0] == del_state[1]):\n",
    "                    if child_id in sample_id_to_index:\n",
    "                        deletions[sample_id_to_index[child_id], start_index:(end_index+1)] = (del_state[0]+del_state[2+pat])\n",
    "                    par_inh[2+pat] += 1\n",
    "                elif (pat is None) and (mat is not None) and (del_state[2] == del_state[3]):\n",
    "                    if child_id in sample_id_to_index:\n",
    "                        deletions[sample_id_to_index[child_id], start_index:(end_index+1)] = (del_state[mat]+del_state[2])\n",
    "                    par_inh[mat] += 1\n",
    "                elif (del_state[0] == del_state[1]) and (del_state[2] == del_state[3]):\n",
    "                    if child_id in sample_id_to_index:\n",
    "                        deletions[sample_id_to_index[child_id], start_index:(end_index+1)] = (del_state[0]+del_state[2])\n",
    "                    \n",
    "            not_inherited[par_inh[0]+par_inh[1], start_index:(end_index+1)] += (int(par_inh[0]==0) + int(par_inh[1]==0))\n",
    "            inherited[par_inh[0]+par_inh[1], start_index:(end_index+1)] += (int(par_inh[0]!=0) + int(par_inh[1]!=0))\n",
    "            \n",
    "            not_inherited[par_inh[2]+par_inh[3], start_index:(end_index+1)] += (int(par_inh[2]==0) + int(par_inh[3]==0))\n",
    "            inherited[par_inh[2]+par_inh[3], start_index:(end_index+1)] += (int(par_inh[2]!=0) + int(par_inh[3]!=0))  \n",
    "            "
   ]
  },
  {
   "cell_type": "code",
   "execution_count": 169,
   "metadata": {},
   "outputs": [
    {
     "name": "stdout",
     "output_type": "stream",
     "text": [
      "Percent missing 0.0129882469012\n",
      "Inferred ends, Percent missing 0.0128934560217\n",
      "start and end xs should be equal True\n",
      "Inferred intermediate missing, Percent missing 0.00459557885812\n"
     ]
    }
   ],
   "source": [
    "# fix up missing deletions where we can\n",
    "print('Percent missing', np.sum(deletions==-1)/(deletions.shape[0]*deletions.shape[1]))\n",
    "\n",
    "# extend first and last calls to end\n",
    "first_nonmissing = np.argmax(deletions != -1, axis=1)\n",
    "last_nonmissing = np.argmax(np.flip(deletions, axis=1) != -1, axis=1)\n",
    "for i, (fnm, lnm) in enumerate(zip(first_nonmissing, last_nonmissing)):\n",
    "    deletions[i, 0:fnm] = 0\n",
    "    deletions[i, (-1-lnm):n] = 0\n",
    "print('Inferred ends, Percent missing', np.sum(deletions==-1)/(deletions.shape[0]*deletions.shape[1]))\n",
    "\n",
    "\n",
    "miss_start_x, miss_start_y = np.where((deletions[:, :-1] != -1) & (deletions[:, 1:] == -1))\n",
    "miss_end_x, miss_end_y = np.where((deletions[:, :-1] == -1) & (deletions[:, 1:] != -1))\n",
    "\n",
    "print('start and end xs should be equal', np.array_equal(miss_start_x, miss_end_x))\n",
    "for i, start, end in zip(miss_start_x, miss_start_y, miss_end_y):\n",
    "    if deletions[i, start] == deletions[i, end+1]:\n",
    "        #print(i, start, end+1, deletions[i, start], deletions[i, end+1])\n",
    "        deletions[i, (start+1):(end+1)] = deletions[i, start]\n",
    "print('Inferred intermediate missing, Percent missing', np.sum(deletions==-1)/(deletions.shape[0]*deletions.shape[1]))"
   ]
  },
  {
   "cell_type": "code",
   "execution_count": 170,
   "metadata": {},
   "outputs": [
    {
     "data": {
      "image/png": "[encoded data removed]",
      "text/plain": [
       "<matplotlib.figure.Figure at 0x139d70208>"
      ]
     },
     "metadata": {},
     "output_type": "display_data"
    }
   ],
   "source": [
    "from scipy.stats import binom\n",
    "import matplotlib.pyplot as plt\n",
    "\n",
    "# Remove deletions in tricky regions\n",
    "pvalues = np.zeros((n,))\n",
    "for i in range(n):\n",
    "    for j in range(1, max(family_sizes)-1):\n",
    "        p_not_inherited = pow(0.5, j)\n",
    "        inh, notinh = inherited[j, i], not_inherited[j, i]\n",
    "        total = inh+notinh\n",
    "        if total > 0:\n",
    "            pvalues[i] = max(pvalues[i], -np.log10(binom.cdf(notinh, total, p_not_inherited)), -np.log10(binom.sf(notinh, total, p_not_inherited)))\n",
    "    \n",
    "plt.figure(figsize=(15, 3))\n",
    "plt.plot(snp_positions, pvalues) \n",
    "plt.xticks(xticks, xticklabels, rotation='vertical')\n",
    "plt.show()"
   ]
  },
  {
   "cell_type": "code",
   "execution_count": 171,
   "metadata": {},
   "outputs": [
    {
     "name": "stdout",
     "output_type": "stream",
     "text": [
      "removing 6474 indices due to imbalanced transmission\n",
      "1149734 single deletion positions removed\n",
      "1966728 double deletion positions removed\n",
      "Percent missing 0.00404447975398\n"
     ]
    }
   ],
   "source": [
    "cutoff = 2 + np.log10(n)\n",
    "print('removing %d indices due to imbalanced transmission' % np.sum(pvalues >= cutoff))\n",
    "print('%d single deletion positions removed' % np.sum(deletions[:, pvalues >= cutoff]==1))\n",
    "print('%d double deletion positions removed' % np.sum(deletions[:, pvalues >= cutoff]==2))\n",
    "\n",
    "deletions = deletions[:, pvalues < cutoff]\n",
    "snp_positions = snp_positions[pvalues < cutoff]\n",
    "print('Percent missing', np.sum(deletions==-1)/(deletions.shape[0]*deletions.shape[1]))"
   ]
  },
  {
   "cell_type": "code",
   "execution_count": 172,
   "metadata": {},
   "outputs": [
    {
     "data": {
      "image/png": "[encoded data removed]",
      "text/plain": [
       "<matplotlib.figure.Figure at 0x11e438908>"
      ]
     },
     "metadata": {},
     "output_type": "display_data"
    }
   ],
   "source": [
    "plt.figure(figsize=(15, 5))\n",
    "plt.imshow(deletions, aspect='auto', vmax=2)\n",
    "plt.show()"
   ]
  },
  {
   "cell_type": "code",
   "execution_count": 173,
   "metadata": {
    "collapsed": true
   },
   "outputs": [],
   "source": [
    "# write to file\n",
    "np.savez_compressed('%s/chr.%s.deletions' % (phase_dir, chrom), \n",
    "                    deletions=deletions, snp_positions=snp_positions, sample_ids=sample_ids)"
   ]
  },
  {
   "cell_type": "markdown",
   "metadata": {},
   "source": [
    "# load lumpy"
   ]
  },
  {
   "cell_type": "code",
   "execution_count": 118,
   "metadata": {
    "collapsed": true
   },
   "outputs": [],
   "source": [
    "import scipy.sparse as sparse\n",
    "lumpy_d = sparse.load_npz('lumpy_svs/chrom%s_deletions.npz' % chrom).A\n",
    "lumpy_positions = np.load('lumpy_svs/chrom%s_positions.npy' % chrom)"
   ]
  },
  {
   "cell_type": "code",
   "execution_count": 111,
   "metadata": {},
   "outputs": [
    {
     "name": "stdout",
     "output_type": "stream",
     "text": [
      "(1807,)\n"
     ]
    }
   ],
   "source": [
    "samples_in_both = np.where((np.sum(lumpy_d != 0, axis=1)>0) & (np.sum(deletions!=-1, axis=1)>0))[0]\n",
    "print(samples_in_both.shape)"
   ]
  },
  {
   "cell_type": "code",
   "execution_count": 141,
   "metadata": {
    "collapsed": true
   },
   "outputs": [],
   "source": [
    "mismatch = np.where(lumpy_d[samples_in_both, :-1] != lumpy_d[samples_in_both, 1:])\n",
    "lumpy_ind = np.unique(mismatch[1])\n",
    "lumpy_important = lumpy_positions[lumpy_ind]"
   ]
  },
  {
   "cell_type": "code",
   "execution_count": 136,
   "metadata": {},
   "outputs": [
    {
     "name": "stdout",
     "output_type": "stream",
     "text": [
      "127546\n"
     ]
    }
   ],
   "source": [
    "merged_positions = sorted(set(snp_positions.tolist() + lumpy_important.tolist()))\n",
    "pos_to_index = dict([(x, i) for i, x in enumerate(merged_positions)])\n",
    "print(len(pos_to_index))"
   ]
  },
  {
   "cell_type": "code",
   "execution_count": 137,
   "metadata": {
    "collapsed": true
   },
   "outputs": [],
   "source": [
    "my_merged_d = np.zeros((samples_in_both.shape[0], len(merged_positions)))-1\n",
    "my_merged_d[:, [pos_to_index[p] for p in snp_positions]] = deletions[samples_in_both, :]"
   ]
  },
  {
   "cell_type": "code",
   "execution_count": 142,
   "metadata": {
    "collapsed": true
   },
   "outputs": [],
   "source": [
    "lumpy_merged_d = np.zeros((samples_in_both.shape[0], len(merged_positions)))-1\n",
    "lumpy_merged_d[:, [pos_to_index[p] for p in lumpy_important]] = lumpy_d[np.ix_(samples_in_both, lumpy_ind)]"
   ]
  },
  {
   "cell_type": "code",
   "execution_count": 143,
   "metadata": {},
   "outputs": [
    {
     "name": "stdout",
     "output_type": "stream",
     "text": [
      "Percent missing 0.246156359218\n",
      "1804 1807\n",
      "1807 1807\n",
      "Inferred ends, Percent missing 0.244496161941\n",
      "start and end xs should be equal True\n",
      "Inferred intermediate missing, Percent missing 0.000344648164134\n",
      "Percent missing 0.75421416587\n",
      "0 0\n",
      "1807 1807\n",
      "Inferred ends, Percent missing 0.711053267057\n",
      "start and end xs should be equal True\n",
      "Inferred intermediate missing, Percent missing 0.00910247679037\n"
     ]
    }
   ],
   "source": [
    "# fix up missing deletions where we can\n",
    "def clean_up(deletions):\n",
    "    m, n = deletions.shape\n",
    "    print('Percent missing', np.sum(deletions==-1)/(m*n))\n",
    "\n",
    "    # extend first and last calls to end\n",
    "    first_nonmissing = np.argmax(deletions != -1, axis=1)\n",
    "    last_nonmissing = np.argmax(np.flip(deletions, axis=1) != -1, axis=1)\n",
    "    print(np.sum(first_nonmissing == 0), np.sum(last_nonmissing==0))\n",
    "    for i, (fnm, lnm) in enumerate(zip(first_nonmissing, last_nonmissing)):\n",
    "        deletions[i, 0:fnm] = 0\n",
    "        deletions[i, (-1-lnm):n] = 0\n",
    "    first_nonmissing = np.argmax(deletions != -1, axis=1)\n",
    "    last_nonmissing = np.argmax(np.flip(deletions, axis=1) != -1, axis=1)\n",
    "    print(np.sum(first_nonmissing == 0), np.sum(last_nonmissing==0))\n",
    "    print('Inferred ends, Percent missing', np.sum(deletions==-1)/(m*n))\n",
    "\n",
    "\n",
    "    miss_start_x, miss_start_y = np.where((deletions[:, :-1] != -1) & (deletions[:, 1:] == -1))\n",
    "    miss_end_x, miss_end_y = np.where((deletions[:, :-1] == -1) & (deletions[:, 1:] != -1))\n",
    "\n",
    "    print('start and end xs should be equal', np.array_equal(miss_start_x, miss_end_x))\n",
    "    for i, start, end in zip(miss_start_x, miss_start_y, miss_end_y):\n",
    "        if deletions[i, start] == deletions[i, end+1]:\n",
    "            #print(i, start, end+1, deletions[i, start], deletions[i, end+1])\n",
    "            deletions[i, (start+1):(end+1)] = deletions[i, start]\n",
    "    print('Inferred intermediate missing, Percent missing', np.sum(deletions==-1)/(m*n))\n",
    "    \n",
    "clean_up(my_merged_d)\n",
    "clean_up(lumpy_merged_d)"
   ]
  },
  {
   "cell_type": "code",
   "execution_count": 145,
   "metadata": {},
   "outputs": [
    {
     "data": {
      "image/png": "[encoded data removed]",
      "text/plain": [
       "<matplotlib.figure.Figure at 0x15856a550>"
      ]
     },
     "metadata": {},
     "output_type": "display_data"
    }
   ],
   "source": [
    "plt.figure(figsize=(15, 5))\n",
    "plt.subplot(1, 2, 1)\n",
    "plt.imshow(my_merged_d[:, 30000:40000], aspect='auto', vmax=2)\n",
    "#plt.colorbar()\n",
    "plt.subplot(1, 2, 2)\n",
    "plt.imshow(lumpy_merged_d[:, 30000:40000], aspect='auto', vmax=2)\n",
    "#plt.colorbar()\n",
    "plt.show()"
   ]
  },
  {
   "cell_type": "markdown",
   "metadata": {},
   "source": [
    "# Estimate deletion lengths"
   ]
  },
  {
   "cell_type": "code",
   "execution_count": 150,
   "metadata": {},
   "outputs": [
    {
     "name": "stdout",
     "output_type": "stream",
     "text": [
      "start and end xs should be equal False\n"
     ]
    }
   ],
   "source": [
    "del_conserve_lengths = []\n",
    "del_start_x, del_start_y = np.where((my_merged_d[:, :-1] < 1) & (my_merged_d[:, 1:] >= 1))\n",
    "del_end_x, del_end_y = np.where((my_merged_d[:, :-1] >= 1) & (my_merged_d[:, 1:] < 1))\n",
    "print('start and end xs should be equal', np.array_equal(del_start_x, del_end_x))\n",
    "for i, start, end in zip(del_start_x, del_start_y, del_end_y):\n",
    "    del_conserve_lengths.append(merged_positions[end] - merged_positions[start])"
   ]
  },
  {
   "cell_type": "code",
   "execution_count": 151,
   "metadata": {},
   "outputs": [
    {
     "name": "stdout",
     "output_type": "stream",
     "text": [
      "Conserve 4248.0\n",
      "Full 305.0\n",
      "Conserve min length -249215768 max length 249219645 num 7790\n",
      "Best min length -249219709 max length 249219720 num 14277\n"
     ]
    },
    {
     "data": {
      "image/png": "[encoded data removed]",
      "text/plain": [
       "<matplotlib.figure.Figure at 0x10b0add68>"
      ]
     },
     "metadata": {},
     "output_type": "display_data"
    }
   ],
   "source": [
    "import math\n",
    "\n",
    "print('Conserve', np.median([x for x in del_conserve_lengths]))\n",
    "print('Full', np.median([x for x in del_full_lengths]))\n",
    "\n",
    "plt.figure(figsize=(15, 5))\n",
    "base = 1.4\n",
    "max_length = max(del_full_lengths) \n",
    "min_length = min(del_full_lengths) \n",
    "print('Conserve min length', min(del_conserve_lengths) , 'max length', max(del_conserve_lengths) , 'num', len(del_conserve_lengths))\n",
    "print('Best min length', min(del_full_lengths) , 'max length', max(del_full_lengths) , 'num', len(del_full_lengths))\n",
    "\n",
    "plt.hist(del_conserve_lengths, bins=[pow(base, i) for i in range(math.ceil(math.log(max_length, base))+1)], alpha=0.5)\n",
    "plt.hist(del_full_lengths, bins=[pow(base, i) for i in range(math.ceil(math.log(max_length, base))+1)], alpha=0.5)\n",
    "\n",
    "plt.gca().set_xscale(\"log\")\n",
    "plt.show()"
   ]
  },
  {
   "cell_type": "code",
   "execution_count": 78,
   "metadata": {},
   "outputs": [
    {
     "name": "stdout",
     "output_type": "stream",
     "text": [
      "start and end xs should be equal True\n"
     ]
    }
   ],
   "source": [
    "del_unknown_endpoints = []\n",
    "del_direct_endpoints = []\n",
    "\n",
    "# unknown transitions\n",
    "del_start_x, del_start_y = np.where((deletions[parent_indices, :-1] != -1) & (deletions[parent_indices, 1:] == -1))\n",
    "del_end_x, del_end_y = np.where((deletions[parent_indices, :-1] == -1) & (deletions[parent_indices, 1:] != -1))\n",
    "print('start and end xs should be equal', np.array_equal(del_start_x, del_end_x))\n",
    "for i, start, end in zip(del_start_x, del_start_y, del_end_y):\n",
    "    del_unknown_endpoints.append(snp_positions[end+1] - snp_positions[start])\n",
    "    \n",
    "# direction transitions\n",
    "del_trans_x, del_trans_y = np.where((deletions[parent_indices, :-1] == 0) & (deletions[parent_indices, 1:] > 0))\n",
    "for i, start in zip(del_trans_x, del_trans_y):\n",
    "    del_direct_endpoints.append(snp_positions[start+1] - snp_positions[start])\n",
    "    \n",
    "del_trans_x, del_trans_y = np.where((deletions[parent_indices, :-1] > 0) & (deletions[parent_indices, 1:] == 0))\n",
    "for i, start in zip(del_trans_x, del_trans_y):\n",
    "    del_direct_endpoints.append(snp_positions[start+1] - snp_positions[start])"
   ]
  },
  {
   "cell_type": "code",
   "execution_count": 79,
   "metadata": {},
   "outputs": [
    {
     "name": "stdout",
     "output_type": "stream",
     "text": [
      "Unknown transitions 201.0\n",
      "Direct transitions 18.0\n",
      "Transitions 45.0\n",
      "min length 2 max length 25933318 num 113523\n",
      "min length 1 max length 25356234 num 182983\n"
     ]
    },
    {
     "data": {
      "image/png": "[encoded data removed]",
      "text/plain": [
       "<matplotlib.figure.Figure at 0x11a6b2400>"
      ]
     },
     "metadata": {},
     "output_type": "display_data"
    }
   ],
   "source": [
    "import math\n",
    "\n",
    "print('Unknown transitions', np.median([x for x in del_unknown_endpoints]))\n",
    "print('Direct transitions', np.median([x for x in del_direct_endpoints]))\n",
    "print('Transitions', np.median([x for x in del_direct_endpoints+del_unknown_endpoints]))\n",
    "\n",
    "plt.figure(figsize=(15, 5))\n",
    "base = 1.4\n",
    "max_length = max(del_unknown_endpoints) \n",
    "min_length = min(del_unknown_endpoints) \n",
    "print('min length', min(del_unknown_endpoints) , 'max length', max(del_unknown_endpoints) , 'num', len(del_unknown_endpoints))\n",
    "print('min length', min(del_direct_endpoints) , 'max length', max(del_direct_endpoints) , 'num', len(del_direct_endpoints))\n",
    "\n",
    "plt.hist(del_unknown_endpoints, bins=[pow(base, i) for i in range(math.ceil(math.log(max_length, base))+1)], alpha=0.5)\n",
    "plt.hist(del_direct_endpoints, bins=[pow(base, i) for i in range(math.ceil(math.log(max_length, base))+1)], alpha=0.5)\n",
    "\n",
    "plt.gca().set_xscale(\"log\")\n",
    "plt.show()"
   ]
  },
  {
   "cell_type": "code",
   "execution_count": 155,
   "metadata": {},
   "outputs": [
    {
     "name": "stdout",
     "output_type": "stream",
     "text": [
      "m 4610\n",
      "1\n",
      "snp pos (5734717,)\n",
      "n 133909\n",
      "deletions loaded\n",
      "pvalues calculated\n"
     ]
    },
    {
     "ename": "FileNotFoundError",
     "evalue": "[Errno 2] No such file or directory: 'phase_dir/chr.%d.bad_regions.txt'",
     "output_type": "error",
     "traceback": [
      "\u001b[0;31m---------------------------------------------------------------------------\u001b[0m",
      "\u001b[0;31mFileNotFoundError\u001b[0m                         Traceback (most recent call last)",
      "\u001b[0;32m<ipython-input-155-655adf0d8a8e>\u001b[0m in \u001b[0;36m<module>\u001b[0;34m()\u001b[0m\n\u001b[1;32m    121\u001b[0m \u001b[0;34m\u001b[0m\u001b[0m\n\u001b[1;32m    122\u001b[0m     \u001b[0mregion_switch\u001b[0m \u001b[0;34m=\u001b[0m \u001b[0mnp\u001b[0m\u001b[0;34m.\u001b[0m\u001b[0mwhere\u001b[0m\u001b[0;34m(\u001b[0m\u001b[0;34m(\u001b[0m\u001b[0mpvalues\u001b[0m\u001b[0;34m[\u001b[0m\u001b[0;34m:\u001b[0m\u001b[0;34m-\u001b[0m\u001b[0;36m1\u001b[0m\u001b[0;34m]\u001b[0m \u001b[0;34m<=\u001b[0m \u001b[0;36m0.01\u001b[0m\u001b[0;34m/\u001b[0m\u001b[0mn\u001b[0m\u001b[0;34m)\u001b[0m \u001b[0;34m!=\u001b[0m \u001b[0;34m(\u001b[0m\u001b[0mpvalues\u001b[0m\u001b[0;34m[\u001b[0m\u001b[0;36m1\u001b[0m\u001b[0;34m:\u001b[0m\u001b[0;34m]\u001b[0m \u001b[0;34m<=\u001b[0m \u001b[0;36m0.01\u001b[0m\u001b[0;34m/\u001b[0m\u001b[0mn\u001b[0m\u001b[0;34m)\u001b[0m\u001b[0;34m)\u001b[0m\u001b[0;34m[\u001b[0m\u001b[0;36m0\u001b[0m\u001b[0;34m]\u001b[0m\u001b[0;34m\u001b[0m\u001b[0m\n\u001b[0;32m--> 123\u001b[0;31m     \u001b[0;32mwith\u001b[0m \u001b[0mopen\u001b[0m\u001b[0;34m(\u001b[0m\u001b[0;34m'phase_dir/chr.%d.bad_regions.txt'\u001b[0m\u001b[0;34m,\u001b[0m \u001b[0;34m'w+'\u001b[0m\u001b[0;34m)\u001b[0m \u001b[0;32mas\u001b[0m \u001b[0mf\u001b[0m\u001b[0;34m:\u001b[0m\u001b[0;34m\u001b[0m\u001b[0m\n\u001b[0m\u001b[1;32m    124\u001b[0m         \u001b[0;32mif\u001b[0m \u001b[0mpvalues\u001b[0m\u001b[0;34m[\u001b[0m\u001b[0;36m0\u001b[0m\u001b[0;34m]\u001b[0m \u001b[0;34m<=\u001b[0m \u001b[0;36m0.01\u001b[0m\u001b[0;34m/\u001b[0m\u001b[0mn\u001b[0m\u001b[0;34m:\u001b[0m\u001b[0;34m\u001b[0m\u001b[0m\n\u001b[1;32m    125\u001b[0m             \u001b[0mstart\u001b[0m \u001b[0;34m=\u001b[0m \u001b[0;36m1\u001b[0m\u001b[0;34m\u001b[0m\u001b[0m\n",
      "\u001b[0;31mFileNotFoundError\u001b[0m: [Errno 2] No such file or directory: 'phase_dir/chr.%d.bad_regions.txt'"
     ]
    }
   ],
   "source": [
    "from collections import defaultdict\n",
    "\n",
    "family_sizes = [3, 4, 5, 6, 7]\n",
    "phase_dir = 'sherlock_phased'\n",
    "data_dir = 'split_gen'\n",
    "\n",
    "# sample_ids\n",
    "sample_file = 'split_gen/chr.22.gen.samples.txt'\n",
    "#sample_file = 'split_gen/chr.%s.gen.samples.txt' % ('X' if chrom.startswith('PAR') else chrom)\n",
    "with open(sample_file, 'r') as f:\n",
    "    sample_ids = [line.strip() for line in f]\n",
    "sample_id_to_index = dict([(sample_id, i) for i, sample_id in enumerate(sample_ids)])\n",
    "m = max(sample_id_to_index.values())+1\n",
    "print('m', m)\n",
    "\n",
    "dels = []\n",
    "snppos = []\n",
    "\n",
    "for chrom in range(1, 23):\n",
    "    chrom = str(chrom)\n",
    "    print(chrom)\n",
    "    \n",
    "    # snp positions\n",
    "    clean_file = '%s/clean_indices_%s.txt' % (data_dir, 'X' if chrom.startswith('PAR') else chrom) \n",
    "    snp_positions = []\n",
    "    with open(clean_file, 'r') as f:\n",
    "        for i, line in enumerate(f):\n",
    "            index, position = line.strip().split('\\t')\n",
    "            snp_positions.append(int(position))\n",
    "    snp_positions = np.array(snp_positions)\n",
    "    print('snp pos', snp_positions.shape)\n",
    "\n",
    "    # pull positions that appear as deletion start/endpoints\n",
    "    important_indices = set([0, len(snp_positions)-1])\n",
    "    for j in family_sizes:\n",
    "        with open('%s/chr.%s.familysize.%d.phased.txt' % (phase_dir, chrom, j), 'r')  as phasef:\n",
    "            next(phasef) # skip header\n",
    "\n",
    "            for line in phasef:\n",
    "                pieces = line.strip().split('\\t')\n",
    "                start_pos, end_pos, start_index, end_index = [int(x) for x in pieces[(1+(j*2)):(5+(j*2))]]\n",
    "                important_indices.add(start_index)\n",
    "                important_indices.add(end_index)\n",
    "\n",
    "    important_indices = sorted(important_indices)\n",
    "    snp_positions = snp_positions[important_indices]\n",
    "    old_index_to_new_index = dict([(x, i) for i, x in enumerate(important_indices)])\n",
    "    n = snp_positions.shape[0]\n",
    "    print('n', n)\n",
    "\n",
    "    deletions = np.zeros((m, n), dtype=int)-1\n",
    "    inherited = np.zeros((max(family_sizes)-1, n), dtype=int)\n",
    "    not_inherited = np.zeros((max(family_sizes)-1, n), dtype=int)\n",
    "\n",
    "    # load deletions\n",
    "    for j in family_sizes:\n",
    "        with open('%s/chr.%s.familysize.%d.families.txt' % (phase_dir, chrom, j), 'r')  as famf, \\\n",
    "        open('%s/chr.%s.familysize.%d.phased.txt' % (phase_dir, chrom, j), 'r')  as phasef:\n",
    "            next(famf) # skip header\n",
    "            next(phasef) # skip header\n",
    "\n",
    "            fam_pieces = next(famf).strip().split('\\t')\n",
    "            fam_individuals = fam_pieces[1:(1+j)]\n",
    "            fam_indices = [sample_id_to_index[ind] for ind in fam_individuals]\n",
    "\n",
    "            for line in phasef:\n",
    "                pieces = line.strip().split('\\t')\n",
    "                family_key = pieces[0]\n",
    "                inheritance_state = [None if x == '*' else int(x) for x in pieces[1:(1+(j*2))]]\n",
    "                del_state = [0 if x is None else x for x in inheritance_state[:4]]\n",
    "                start_pos, end_pos, start_index, end_index = [int(x) for x in pieces[(1+(j*2)):(5+(j*2))]]\n",
    "                start_index, end_index = old_index_to_new_index[start_index], old_index_to_new_index[end_index]\n",
    "\n",
    "                # make sure we're on the right family\n",
    "                while family_key != fam_pieces[0]:\n",
    "                    fam_pieces = next(famf).strip().split('\\t')\n",
    "                    fam_individuals = fam_pieces[1:(1+j)]\n",
    "                    fam_indices = [sample_id_to_index[ind] for ind in fam_individuals]\n",
    "\n",
    "                deletions[fam_indices[0], start_index:(end_index+1)] = sum(del_state[:2])\n",
    "                deletions[fam_indices[1], start_index:(end_index+1)] = sum(del_state[2:4])\n",
    "\n",
    "                par_inh = [0, 0, 0, 0]\n",
    "                for k, child_index in enumerate(fam_indices[2:]):\n",
    "                    mat, pat = inheritance_state[(4+(2*k)):(6+(2*k))]\n",
    "                    if mat is not None and pat is not None:\n",
    "                        deletions[child_index, start_index:(end_index+1)] = (del_state[mat]+del_state[2+pat])\n",
    "                        par_inh[mat] += 1\n",
    "                        par_inh[2+pat] += 1\n",
    "                    elif (mat is None) and (pat is not None) and (del_state[0] == del_state[1]):\n",
    "                        deletions[child_index, start_index:(end_index+1)] = (del_state[0]+del_state[2+pat])\n",
    "                        par_inh[2+pat] += 1\n",
    "                    elif (pat is None) and (mat is not None) and (del_state[2] == del_state[3]):\n",
    "                        deletions[child_index, start_index:(end_index+1)] = (del_state[mat]+del_state[2])\n",
    "                        par_inh[mat] += 1\n",
    "                    elif (del_state[0] == del_state[1]) and (del_state[2] == del_state[3]):\n",
    "                        deletions[child_index, start_index:(end_index+1)] = (del_state[0]+del_state[2])\n",
    "\n",
    "                not_inherited[par_inh[0]+par_inh[1], start_index:(end_index+1)] += (int(par_inh[0]==0) + int(par_inh[1]==0))\n",
    "                inherited[par_inh[0]+par_inh[1], start_index:(end_index+1)] += (int(par_inh[0]!=0) + int(par_inh[1]!=0))\n",
    "\n",
    "                not_inherited[par_inh[2]+par_inh[3], start_index:(end_index+1)] += (int(par_inh[2]==0) + int(par_inh[3]==0))\n",
    "                inherited[par_inh[2]+par_inh[3], start_index:(end_index+1)] += (int(par_inh[2]!=0) + int(par_inh[3]!=0))  \n",
    "\n",
    "    print('deletions loaded')\n",
    "    \n",
    "    # Remove deletions in tricky regions\n",
    "    pvalues = np.ones((n,))\n",
    "    for i in range(n):\n",
    "        actual = []\n",
    "        expected = []\n",
    "        for j in range(1, inherited.shape[0]):\n",
    "            p_not_inherited = pow(0.5, j)\n",
    "            inh, notinh = inherited[j, i], not_inherited[j, i]\n",
    "            total = inh+notinh\n",
    "            if total != 0:\n",
    "                actual.extend([inh, notinh])\n",
    "                expected.extend([total*(1-p_not_inherited), total*p_not_inherited])\n",
    "\n",
    "        pvalues[i] = chisquare(actual, expected)[1]\n",
    "    print('pvalues calculated')\n",
    "    \n",
    "    region_switch = np.where((pvalues[:-1] <= 0.01/n) != (pvalues[1:] <= 0.01/n))[0]\n",
    "    with open('%s/chr.%d.bad_regions.txt' % (phase_dir, chrom), 'w+') as f:\n",
    "        if pvalues[0] <= 0.01/n:\n",
    "            start = 1\n",
    "        else:\n",
    "            start = region_switch[0]\n",
    "            region_switch = region_switch[1:]\n",
    "            \n",
    "        for i in range(0, region_switch.shape[0], 2):\n",
    "            f.write('%d\\t%d\\n' % (start, snp_positions[region_switch[i]]))\n",
    "            start = snp_positions[region_switch[i+1]]"
   ]
  },
  {
   "cell_type": "code",
   "execution_count": null,
   "metadata": {
    "collapsed": true
   },
   "outputs": [],
   "source": []
  }
 ],
 "metadata": {
  "kernelspec": {
   "display_name": "Python 3",
   "language": "python",
   "name": "python3"
  },
  "language_info": {
   "codemirror_mode": {
    "name": "ipython",
    "version": 3
   },
   "file_extension": ".py",
   "mimetype": "text/x-python",
   "name": "python",
   "nbconvert_exporter": "python",
   "pygments_lexer": "ipython3",
   "version": "3.6.1"
  }
 },
 "nbformat": 4,
 "nbformat_minor": 2
}
