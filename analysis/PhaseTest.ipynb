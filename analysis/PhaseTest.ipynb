{
 "cells": [
  {
   "cell_type": "code",
   "execution_count": 394,
   "metadata": {},
   "outputs": [],
   "source": [
    "from collections import defaultdict, namedtuple\n",
    "import sys\n",
    "import json\n",
    "import numpy as np\n",
    "import math\n",
    "import matplotlib.pyplot as plt\n",
    "import scipy.stats\n"
   ]
  },
  {
   "cell_type": "code",
   "execution_count": 395,
   "metadata": {},
   "outputs": [],
   "source": [
    "phase_dir = '../phased_spark'\n",
    "ped_file = '../data/spark.ped'\n",
    "\n",
    "chrom = '21'\n",
    "family_sizes = [4, 5, 6, 7]\n",
    "build = '38'"
   ]
  },
  {
   "cell_type": "code",
   "execution_count": 396,
   "metadata": {},
   "outputs": [],
   "source": [
    "cyto = []\n",
    "with open('../data/cytoBand%s.txt' % build, 'r') as f:\n",
    "    for line in f:\n",
    "        pieces = line.strip().split('\\t')\n",
    "        if pieces[0].startswith('chr'):\n",
    "            cyto.append((pieces[0][3:], int(pieces[1]), int(pieces[2]), pieces[3], pieces[4]))"
   ]
  },
  {
   "cell_type": "code",
   "execution_count": 397,
   "metadata": {},
   "outputs": [],
   "source": [
    "sample_to_affected = dict()\n",
    "sample_to_sex = dict()\n",
    "\n",
    "with open(ped_file, 'r') as f:\n",
    "    for line in f:\n",
    "        pieces = line.strip().split('\\t')\n",
    "        sample_to_affected[pieces[1]] = pieces[5]\n",
    "        sample_to_sex[pieces[1]] = pieces[4]\n",
    "        \n",
    "        "
   ]
  },
  {
   "cell_type": "code",
   "execution_count": 398,
   "metadata": {},
   "outputs": [],
   "source": [
    "\n",
    "def pull_phase(phase_dir, chrom):\n",
    "    # pull individuals\n",
    "    sample_ids = set()\n",
    "    family_to_inds = defaultdict(list)\n",
    "    for family_size in family_sizes:\n",
    "        with open('%s/chr.%s.familysize.%d.families.txt' % (phase_dir, chrom, family_size), 'r') as f:\n",
    "            next(f) # skip header\n",
    "            for line in f:\n",
    "                pieces = line.strip().split('\\t')\n",
    "                sample_ids.update(pieces[3:])\n",
    "                family_to_inds[pieces[0]] = pieces[1:]\n",
    "                \n",
    "    sample_ids = sorted(sample_ids)\n",
    "    sample_id_to_index = dict([(x, i) for i, x in enumerate(sample_ids)])\n",
    "    print('samples', len(sample_id_to_index))\n",
    "    \n",
    "    # pull positions\n",
    "    all_positions = set()\n",
    "    for family_size in family_sizes:\n",
    "        with open('%s/chr.%s.familysize.%d.phased.txt' % (phase_dir, chrom, family_size), 'r')  as f:\n",
    "            next(f) # skip header\n",
    "\n",
    "            for line in f:\n",
    "                pieces = line.strip().split('\\t')\n",
    "                family_key = pieces[0]\n",
    "                start_pos, end_pos = [int(x) for x in pieces[(6+2*family_size):(8+2*family_size)]]\n",
    "                if end_pos < start_pos:\n",
    "                    print(start_pos, end_pos, pieces)\n",
    "                assert end_pos >= start_pos\n",
    "                \n",
    "                all_positions.add(start_pos)\n",
    "                all_positions.add(end_pos)\n",
    "                \n",
    "    all_positions = sorted(all_positions)\n",
    "    position_to_index = dict([(x, i) for i, x in enumerate(all_positions)])\n",
    "    print('positions', len(position_to_index))\n",
    "    \n",
    "    # pull phase data\n",
    "    # sample, position\n",
    "    mat_phase_data = -np.ones((len(sample_id_to_index), len(position_to_index)), dtype=int)\n",
    "    pat_phase_data = -np.ones((len(sample_id_to_index), len(position_to_index)), dtype=int)\n",
    "    for family_size in family_sizes:\n",
    "        with open('%s/chr.%s.familysize.%d.phased.txt' % (phase_dir, chrom, family_size), 'r')  as f:\n",
    "            next(f) # skip header\n",
    "\n",
    "            for line in f:\n",
    "                pieces = line.strip().split('\\t')\n",
    "                family_key = pieces[0]\n",
    "                start_pos, end_pos = [int(x) for x in pieces[(6+2*family_size):(8+2*family_size)]]\n",
    "                state = np.array([int(x) for x in pieces[1:(6+2*family_size)]])\n",
    "                inds = family_to_inds[family_key]\n",
    "                child_indices = [sample_id_to_index[x] for x in inds[2:]]\n",
    "                \n",
    "                if True: #state[-1] == 0:\n",
    "                    for child_index, state_index in zip(child_indices, np.arange(8, 4+2*len(inds), 2)):\n",
    "                        mat_phase_data[child_index, (position_to_index[start_pos]):(position_to_index[end_pos]+1)] = state[state_index]\n",
    "                    for child_index, state_index in zip(child_indices, np.arange(9, 4+2*len(inds), 2)):  \n",
    "                        pat_phase_data[child_index, (position_to_index[start_pos]):(position_to_index[end_pos]+1)] = state[state_index]\n",
    "    \n",
    "    \n",
    "    return sample_ids, family_to_inds, all_positions, mat_phase_data, pat_phase_data\n"
   ]
  },
  {
   "cell_type": "code",
   "execution_count": 399,
   "metadata": {},
   "outputs": [
    {
     "name": "stdout",
     "output_type": "stream",
     "text": [
      "samples 1638\n",
      "positions 3019\n"
     ]
    }
   ],
   "source": [
    "sample_ids, family_to_inds, all_positions, mat_phase_data, pat_phase_data = pull_phase(phase_dir, chrom)\n",
    "sample_id_to_index = dict([(x, i) for i, x in enumerate(sample_ids)])\n"
   ]
  },
  {
   "cell_type": "code",
   "execution_count": 400,
   "metadata": {},
   "outputs": [
    {
     "name": "stdout",
     "output_type": "stream",
     "text": [
      "4.75815462196739\n"
     ]
    }
   ],
   "source": [
    "bonferonni_cutoff = -np.log10(0.05/np.sum((np.any(mat_phase_data[:, 1:] != mat_phase_data[:, :-1], axis=0)) | \\\n",
    "                                         (np.any(pat_phase_data[:, 1:] != pat_phase_data[:, :-1], axis=0))))\n",
    "print(bonferonni_cutoff)"
   ]
  },
  {
   "cell_type": "code",
   "execution_count": 401,
   "metadata": {},
   "outputs": [
    {
     "name": "stdout",
     "output_type": "stream",
     "text": [
      "(1638, 3019) (3019, 1638)\n"
     ]
    }
   ],
   "source": [
    "print(mat_phase_data.shape, np.tile([sample_to_affected[x]=='2' for x in sample_ids], \n",
    "                                            (len(all_positions), 1)).shape)"
   ]
  },
  {
   "cell_type": "code",
   "execution_count": 402,
   "metadata": {},
   "outputs": [
    {
     "name": "stdout",
     "output_type": "stream",
     "text": [
      "(array([-1,  0,  1]), array([  10885, 3493577, 1440660]))\n",
      "(array([-1,  2,  3]), array([   6896, 3536648, 1401578]))\n"
     ]
    }
   ],
   "source": [
    "print(np.unique(mat_phase_data, return_counts=True))\n",
    "print(np.unique(pat_phase_data, return_counts=True))"
   ]
  },
  {
   "cell_type": "code",
   "execution_count": 403,
   "metadata": {},
   "outputs": [],
   "source": [
    "# table of our test statistic\n",
    "# family_size, max matching, position\n",
    "mat_st = np.zeros((max(family_sizes)-1, max(family_sizes)-1, len(all_positions)))\n",
    "pat_st = np.zeros((max(family_sizes)-1, max(family_sizes)-1, len(all_positions)))\n",
    "\n",
    "mat_match = mat_phase_data == np.tile([sample_to_affected[x]=='2' for x in sample_ids], \n",
    "                                            (len(all_positions), 1)).T\n",
    "pat_match = pat_phase_data == (2+np.tile([sample_to_affected[x]=='2' for x in sample_ids], \n",
    "                                            (len(all_positions), 1)).T)\n",
    "\n",
    "for family_key, inds in family_to_inds.items():\n",
    "    child_indices = [sample_id_to_index[x] for x in inds[2:]]\n",
    "    \n",
    "    no_missing = np.all(mat_phase_data[child_indices, :]>=0, axis=0)\n",
    "    family_mat_match = np.sum(mat_match[child_indices, :], axis=0)\n",
    "    max_family_mat_match = np.maximum(family_mat_match, len(inds[2:]) - family_mat_match)\n",
    "    mat_st[len(inds[2:])*np.ones((np.sum(no_missing),), dtype=int), max_family_mat_match[no_missing], np.where(no_missing)[0]] += 1\n",
    "    \n",
    "    no_missing = np.all(pat_phase_data[child_indices, :]>=0, axis=0)\n",
    "    family_pat_match = np.sum(pat_match[child_indices, :], axis=0)\n",
    "    max_family_pat_match = np.maximum(family_pat_match, len(child_indices) - family_pat_match)\n",
    "    pat_st[len(inds[2:])*np.ones((np.sum(no_missing),), dtype=int), max_family_pat_match[no_missing], np.where(no_missing)[0]] += 1\n",
    "    "
   ]
  },
  {
   "cell_type": "code",
   "execution_count": 404,
   "metadata": {},
   "outputs": [
    {
     "name": "stdout",
     "output_type": "stream",
     "text": [
      "[[  0.   0.   0. ...   0.   0.   0.]\n",
      " [228. 228. 228. ... 224. 224. 224.]\n",
      " [246. 246. 246. ... 250. 250. 250.]\n",
      " [  0.   0.   0. ...   0.   0.   0.]\n",
      " [  0.   0.   0. ...   0.   0.   0.]\n",
      " [  0.   0.   0. ...   0.   0.   0.]]\n"
     ]
    }
   ],
   "source": [
    "print(mat_st[2, :, :])"
   ]
  },
  {
   "cell_type": "code",
   "execution_count": 405,
   "metadata": {},
   "outputs": [],
   "source": [
    "mat_pvalues = np.ones((len(all_positions),))\n",
    "pat_pvalues = np.ones((len(all_positions),))\n",
    "both_pvalues = np.ones((len(all_positions),))\n",
    "\n",
    "for index in range(len(all_positions)):\n",
    "    # mat\n",
    "    obs = mat_st[:, :, index]\n",
    "    num_fams = np.sum(obs, axis=1)\n",
    "\n",
    "    exp = np.zeros(obs.shape)\n",
    "    exp[2, :] = num_fams[2]*np.array([0, 1/2, 1/2, 0, 0, 0])\n",
    "    exp[3, :] = num_fams[3]*np.array([0, 0, 3/4, 1/4, 0, 0])\n",
    "    exp[4, :] = num_fams[4]*np.array([0, 0, 3/8, 4/8, 1/8, 0])\n",
    "    exp[5, :] = num_fams[5]*np.array([0, 0, 0, 10/16, 5/16, 1/16])\n",
    "    \n",
    "    indices = np.where(exp>0)\n",
    "    mat_pvalues[index] = scipy.stats.chisquare(obs[indices], exp[indices], ddof=3).pvalue\n",
    "    \n",
    "    # pat\n",
    "    obs = pat_st[:, :, index]\n",
    "    num_fams = np.sum(obs, axis=1)\n",
    "\n",
    "    exp = np.zeros(obs.shape)\n",
    "    exp[2, :] = num_fams[2]*np.array([0, 1/2, 1/2, 0, 0, 0])\n",
    "    exp[3, :] = num_fams[3]*np.array([0, 0, 3/4, 1/4, 0, 0])\n",
    "    exp[4, :] = num_fams[4]*np.array([0, 0, 3/8, 4/8, 1/8, 0])\n",
    "    exp[5, :] = num_fams[5]*np.array([0, 0, 0, 10/16, 5/16, 1/16])\n",
    "    \n",
    "    indices = np.where(exp>0)\n",
    "    pat_pvalues[index] = scipy.stats.chisquare(obs[indices], exp[indices], ddof=3).pvalue\n",
    "    \n",
    "    # both\n",
    "    obs = mat_st[:, :, index]+pat_st[:, :, index]\n",
    "    num_fams = np.sum(obs, axis=1)\n",
    "\n",
    "    exp = np.zeros(obs.shape)\n",
    "    exp[2, :] = num_fams[2]*np.array([0, 1/2, 1/2, 0, 0, 0])\n",
    "    exp[3, :] = num_fams[3]*np.array([0, 0, 3/4, 1/4, 0, 0])\n",
    "    exp[4, :] = num_fams[4]*np.array([0, 0, 3/8, 4/8, 1/8, 0])\n",
    "    exp[5, :] = num_fams[5]*np.array([0, 0, 0, 10/16, 5/16, 1/16])\n",
    "    \n",
    "    indices = np.where(exp>0)\n",
    "    both_pvalues[index] = scipy.stats.chisquare(obs[indices], exp[indices], ddof=3).pvalue"
   ]
  },
  {
   "cell_type": "code",
   "execution_count": 406,
   "metadata": {},
   "outputs": [
    {
     "data": {
      "image/png": "[encoded data removed]",
      "text/plain": [
       "<Figure size 1080x360 with 1 Axes>"
      ]
     },
     "metadata": {
      "needs_background": "light"
     },
     "output_type": "display_data"
    }
   ],
   "source": [
    "plt.figure(figsize=(15, 5))\n",
    "plt.plot(all_positions, -np.log10(mat_pvalues), label='maternal')\n",
    "plt.plot(all_positions, -np.log10(pat_pvalues), label='paternal')\n",
    "plt.plot(all_positions, -np.log10(both_pvalues), label='combined')\n",
    "plt.axhline(bonferonni_cutoff, color='black', linestyle='--')\n",
    "\n",
    "plt.legend()\n",
    "plt.xticks([x[1] for x in cyto if x[0]==chrom], [chrom + x[3] for x in cyto if x[0]==chrom], rotation=90)\n",
    "plt.show()"
   ]
  },
  {
   "cell_type": "code",
   "execution_count": 407,
   "metadata": {},
   "outputs": [
    {
     "data": {
      "image/png": "[encoded data removed]",
      "text/plain": [
       "<Figure size 432x288 with 1 Axes>"
      ]
     },
     "metadata": {
      "needs_background": "light"
     },
     "output_type": "display_data"
    }
   ],
   "source": [
    "plt.hist(-np.log10(mat_pvalues), log=True, bins=30)\n",
    "plt.show()"
   ]
  },
  {
   "cell_type": "code",
   "execution_count": null,
   "metadata": {},
   "outputs": [],
   "source": []
  }
 ],
 "metadata": {
  "kernelspec": {
   "display_name": "Python 3",
   "language": "python",
   "name": "python3"
  },
  "language_info": {
   "codemirror_mode": {
    "name": "ipython",
    "version": 3
   },
   "file_extension": ".py",
   "mimetype": "text/x-python",
   "name": "python",
   "nbconvert_exporter": "python",
   "pygments_lexer": "ipython3",
   "version": "3.7.3"
  }
 },
 "nbformat": 4,
 "nbformat_minor": 2
}
