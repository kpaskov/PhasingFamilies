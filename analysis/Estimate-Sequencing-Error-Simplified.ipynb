{
 "cells": [
  {
   "cell_type": "code",
   "execution_count": 224,
   "metadata": {},
   "outputs": [],
   "source": [
    "import numpy as np\n",
    "import scipy.sparse as sparse\n",
    "from os import listdir\n",
    "import random\n",
    "import matplotlib.pyplot as plt\n",
    "from itertools import product, combinations, zip_longest\n",
    "import cvxpy as cp\n",
    "from collections import namedtuple\n",
    "\n",
    "# Pull genotypes for a chromosome\n",
    "m = 6\n",
    "data_dir = '../split_gen_ihart'\n",
    "#data_dir = '../split_gen_ihart_chip'\n",
    "sample_file = '%s/chr.1.gen.samples.txt' % (data_dir)\n",
    "ped_file = '../data/160826.ped'"
   ]
  },
  {
   "cell_type": "code",
   "execution_count": 130,
   "metadata": {},
   "outputs": [
    {
     "name": "stdout",
     "output_type": "stream",
     "text": [
      "families of size 6: 57\n"
     ]
    }
   ],
   "source": [
    "# pull families with sequence data\n",
    "with open(sample_file, 'r') as f:\n",
    "    sample_id_to_index = dict([(line.strip(), i) for i, line in enumerate(f)])\n",
    "with open(sample_file, 'r') as f:\n",
    "    sample_ids = [line.strip() for line in f]\n",
    "\n",
    "# pull families from ped file\n",
    "families = dict()\n",
    "sample_id_to_sex = dict()\n",
    "with open(ped_file, 'r') as f:\t\n",
    "    for line in f:\n",
    "        pieces = line.strip().split('\\t')\n",
    "        fam_id, child_id, f_id, m_id = pieces[0:4]\n",
    "\n",
    "        if child_id in sample_id_to_index and f_id in sample_id_to_index and m_id in sample_id_to_index and 'LCL' not in child_id:\n",
    "            if (fam_id, m_id, f_id) not in families:\n",
    "                families[(fam_id, m_id, f_id)] = [m_id, f_id]\n",
    "                sample_id_to_sex[m_id] = '2'\n",
    "                sample_id_to_sex[f_id] = '1'\n",
    "            families[(fam_id, m_id, f_id)].append(child_id)\n",
    "            sample_id_to_sex[child_id] = pieces[4]\n",
    "            \n",
    "families_of_this_size = [(fkey, inds) for fkey, inds in families.items() if len(inds) == m]\n",
    "print('families of size %d: %d' % (m, len(families_of_this_size)))"
   ]
  },
  {
   "cell_type": "markdown",
   "metadata": {},
   "source": [
    "# Look at one family"
   ]
  },
  {
   "cell_type": "code",
   "execution_count": 3,
   "metadata": {},
   "outputs": [
    {
     "name": "stdout",
     "output_type": "stream",
     "text": [
      "4\n"
     ]
    }
   ],
   "source": [
    "lcl_wb_inds = set(['AU1043304', 'AU2911309', 'AU1860301', 'AU3154301', 'AU3053301', 'AU3646301', 'AU3846302', 'AU3702307', 'AU3761302', 'AU3913302', 'AU3713302', 'AU3051303', 'AU3839303', 'AU4032306', 'AU2410302', 'AU1308303', 'AU4235303'])\n",
    "families_of_this_size_with_lcl_wb_ind = [(fkey, inds) for fkey, inds in families_of_this_size if len(set(inds) & lcl_wb_inds) > 0]\n",
    "print(len(families_of_this_size_with_lcl_wb_ind))\n"
   ]
  },
  {
   "cell_type": "code",
   "execution_count": 4,
   "metadata": {},
   "outputs": [
    {
     "name": "stdout",
     "output_type": "stream",
     "text": [
      "('AU1043', 'AU1043202', 'AU1043201') ['AU1043202', 'AU1043201', 'AU1043301', 'AU1043302', 'AU1043303', 'AU1043304'] [825, 824, 816, 807, 817, 808, 809]\n"
     ]
    }
   ],
   "source": [
    "# WGS family: ('AU1163', 'AU1163202', 'AU1163201') ['AU1163202', 'AU1163201', 'AU1163302', 'AU1163303', 'AU1163304', 'AU1163305'] [1523, 1528, 1524, 1526, 1525, 1527]\n",
    "\n",
    "# pick family\n",
    "famkey, inds = random.choice(families_of_this_size_with_lcl_wb_ind)\n",
    "lcl_wb_ind = list(set(inds) & lcl_wb_inds)[0]\n",
    "\n",
    "\n",
    "indices = [sample_id_to_index[i] for i in inds] + [sample_id_to_index[lcl_wb_ind + '_LCL']]\n",
    "print(famkey, inds, indices)\n",
    "\n"
   ]
  },
  {
   "cell_type": "code",
   "execution_count": 5,
   "metadata": {},
   "outputs": [
    {
     "name": "stdout",
     "output_type": "stream",
     "text": [
      "['2', '1', '2', '2', '2', '2']\n"
     ]
    }
   ],
   "source": [
    "print([sample_id_to_sex[x] for x in inds])"
   ]
  },
  {
   "cell_type": "code",
   "execution_count": 7,
   "metadata": {},
   "outputs": [
    {
     "name": "stdout",
     "output_type": "stream",
     "text": [
      "1 (7, 449934)\n",
      "2 (7, 455795)\n",
      "3 (7, 360006)\n",
      "4 (7, 401408)\n",
      "5 (7, 327646)\n",
      "6 (7, 346913)\n",
      "7 (7, 347425)\n",
      "8 (7, 287741)\n",
      "9 (7, 313512)\n",
      "10 (7, 286269)\n",
      "11 (7, 267657)\n",
      "12 (7, 250483)\n",
      "13 (7, 195321)\n",
      "14 (7, 189580)\n",
      "15 (7, 179329)\n",
      "16 (7, 196576)\n",
      "17 (7, 160077)\n",
      "18 (7, 150868)\n",
      "19 (7, 131330)\n",
      "20 (7, 125936)\n",
      "21 (7, 106422)\n",
      "22 (7, 89447)\n"
     ]
    }
   ],
   "source": [
    "chroms = [str(x) for x in range(1, 23)]\n",
    "all_gens = [None for _ in chroms]\n",
    "all_positions = [None for _ in chroms]\n",
    "num_calls = [None for _ in chroms]\n",
    "for i, chrom in enumerate(chroms):\n",
    "    print(chrom, end=' ')\n",
    "    try:\n",
    "        gen_files = sorted([f for f in listdir(data_dir) if ('chr.%s.' % chrom) in f and 'gen.npz' in f])\n",
    "\n",
    "        # pull snp positions\n",
    "        pos_data = np.load('%s/chr.%s.gen.coordinates.npy' % (data_dir, chrom))\n",
    "        snp_positions = pos_data[:, 1]\n",
    "        is_snp = pos_data[:, 2].astype(bool)\n",
    "\n",
    "        # Pull data together\n",
    "        A = sparse.hstack([sparse.load_npz('%s/%s' % (data_dir, gen_file))[indices, :] for gen_file in gen_files])\n",
    "\n",
    "        # filter out snps\n",
    "        A = A[:, is_snp].A\n",
    "        snp_positions = snp_positions[is_snp]\n",
    "        num_calls[i] = snp_positions.shape[0]\n",
    "\n",
    "        # don't need low coverage flag on missing values\n",
    "        A[A<0] = 3\n",
    "\n",
    "        # remove positions where whole family is missing or whole family is homref\n",
    "        ok_indices = np.any(A>0, axis=0)\n",
    "        A = A[:, ok_indices]\n",
    "        snp_positions = snp_positions[ok_indices]\n",
    "\n",
    "        print(A.shape)\n",
    "        all_gens[i] = A\n",
    "        all_positions[i] = snp_positions\n",
    "    except Exception as e:\n",
    "        print('Error')\n",
    "        print(e)"
   ]
  },
  {
   "cell_type": "markdown",
   "metadata": {},
   "source": [
    "# Poisson Regression"
   ]
  },
  {
   "cell_type": "code",
   "execution_count": 8,
   "metadata": {},
   "outputs": [],
   "source": [
    "chrom_lengths = {\n",
    "\t'1': 225934550,\n",
    "\t'2': 238204522,\n",
    "\t'3': 194797140,\n",
    "\t'4': 188042934,\n",
    "\t'5': 177695260,\n",
    "\t'6': 167395067,\n",
    "\t'7': 155536559,\n",
    "\t'8': 142964911,\n",
    "\t'9': 120626573,\n",
    "\t'10': 131314747,\n",
    "\t'11': 131169619,\n",
    "\t'12': 130481395,\n",
    "\t'13': 95589878,\n",
    "\t'14': 88289540,\n",
    "\t'15': 81694769,\n",
    "\t'16': 78884753,\n",
    "\t'17': 78129607,\n",
    "\t'18': 74661510,\n",
    "\t'19': 56060841,\n",
    "\t'20': 59505520,\n",
    "\t'21': 35134224,\n",
    "\t'22': 34894566,\n",
    "\t'X': 151100560,\n",
    "\t'Y': 25653566\n",
    "}\n"
   ]
  },
  {
   "cell_type": "code",
   "execution_count": 9,
   "metadata": {},
   "outputs": [
    {
     "name": "stdout",
     "output_type": "stream",
     "text": [
      "famgens 4096\n"
     ]
    }
   ],
   "source": [
    "possible_genotypes_parents = [0, 1, 2, 3]\n",
    "possible_genotypes_children = [0, 1, 2, 3]\n",
    "possible_genotypes_famgen = [possible_genotypes_parents, possible_genotypes_parents] + [possible_genotypes_children]*(m-2)\n",
    "all_famgens = list(product(*possible_genotypes_famgen))\n",
    "#all_famgens = list(product(*[[0, 1, 2]]*m))\n",
    "famgen_to_index = dict([(x, i) for i, x in enumerate(all_famgens)])\n",
    "print('famgens', len(famgen_to_index))"
   ]
  },
  {
   "cell_type": "code",
   "execution_count": 10,
   "metadata": {},
   "outputs": [
    {
     "name": "stdout",
     "output_type": "stream",
     "text": [
      "Mendelian 149 Nonmendelian 3947\n",
      "(4, 4, 4, 4, 4, 4)\n"
     ]
    }
   ],
   "source": [
    "mendelian_trios = {\n",
    "    (0, 0, 0), \n",
    "    (0, 1, 0), (0, 1, 1),\n",
    "    (0, 2, 1),\n",
    "    (1, 0, 0), (1, 0, 1),\n",
    "    (1, 1, 0), (1, 1, 1), (1, 1, 2),\n",
    "    (1, 2, 1), (1, 2, 2),\n",
    "    (2, 0, 1),\n",
    "    (2, 1, 1), (2, 1, 2),\n",
    "    (2, 2, 2)\n",
    "}\n",
    "\n",
    "is_mendelian = np.ones(tuple(len(x) for x in possible_genotypes_famgen), dtype=bool)\n",
    "for famgen in all_famgens:\n",
    "    is_mend = True\n",
    "    for j in range(2, m):\n",
    "        if tuple([famgen[x] for x in [0, 1, j]]) not in mendelian_trios:\n",
    "            is_mend = False\n",
    "    is_mendelian[famgen] = is_mend\n",
    "print('Mendelian', np.sum(is_mendelian), 'Nonmendelian', np.sum(~is_mendelian))\n",
    "print(is_mendelian.shape)\n",
    "\n"
   ]
  },
  {
   "cell_type": "code",
   "execution_count": 33,
   "metadata": {},
   "outputs": [
    {
     "name": "stdout",
     "output_type": "stream",
     "text": [
      "transitions 50\n",
      "one step 50\n"
     ]
    }
   ],
   "source": [
    "from collections import defaultdict\n",
    "\n",
    "nonmendelian_famgens = list(zip(*np.where(~is_mendelian)))\n",
    "mendelian_famgens = list(zip(*np.where(is_mendelian)))\n",
    "\n",
    "nm_famgen_to_index = dict([(x, i) for i, x in enumerate(nonmendelian_famgens)])\n",
    "\n",
    "transition_to_fg_pairs = defaultdict(list)\n",
    "for nmfg in nonmendelian_famgens:\n",
    "    for j in range(m):\n",
    "        for i in range(len(possible_genotypes_famgen[j])):\n",
    "            mfg = tuple(i if k==j else nmfg[k] for k in range(m))\n",
    "            if is_mendelian[mfg]:\n",
    "                new_transition = tuple([(j, b, a) for j, (a, b) in enumerate(zip(nmfg, mfg)) if a != b])\n",
    "                transition_to_fg_pairs[new_transition].append((nmfg, mfg))\n",
    "        \n",
    "all_transitions = sorted(transition_to_fg_pairs.keys())\n",
    "print('transitions', len(all_transitions))\n",
    "is_one_step = np.asarray([len(t)==1 for t in all_transitions])\n",
    "print('one step', np.sum(is_one_step))\n",
    "transition_to_index = dict([(x, i) for i, x in enumerate(all_transitions)])"
   ]
  },
  {
   "cell_type": "code",
   "execution_count": 34,
   "metadata": {},
   "outputs": [
    {
     "name": "stdout",
     "output_type": "stream",
     "text": [
      "[((0, 0, 2),), ((0, 0, 3),), ((0, 1, 0),), ((0, 1, 2),), ((0, 1, 3),), ((0, 2, 0),), ((0, 2, 3),), ((1, 0, 2),), ((1, 0, 3),), ((1, 1, 0),), ((1, 1, 2),), ((1, 1, 3),), ((1, 2, 0),), ((1, 2, 3),), ((2, 0, 1),), ((2, 0, 2),), ((2, 0, 3),), ((2, 1, 0),), ((2, 1, 2),), ((2, 1, 3),), ((2, 2, 0),), ((2, 2, 1),), ((2, 2, 3),), ((3, 0, 1),), ((3, 0, 2),), ((3, 0, 3),), ((3, 1, 0),), ((3, 1, 2),), ((3, 1, 3),), ((3, 2, 0),), ((3, 2, 1),), ((3, 2, 3),), ((4, 0, 1),), ((4, 0, 2),), ((4, 0, 3),), ((4, 1, 0),), ((4, 1, 2),), ((4, 1, 3),), ((4, 2, 0),), ((4, 2, 1),), ((4, 2, 3),), ((5, 0, 1),), ((5, 0, 2),), ((5, 0, 3),), ((5, 1, 0),), ((5, 1, 2),), ((5, 1, 3),), ((5, 2, 0),), ((5, 2, 1),), ((5, 2, 3),)]\n"
     ]
    }
   ],
   "source": [
    "print(all_transitions)"
   ]
  },
  {
   "cell_type": "code",
   "execution_count": 35,
   "metadata": {},
   "outputs": [],
   "source": [
    "def build_genome_X_and_y(chroms, family_genotypes_for_chroms, num_calls):\n",
    "    genotype_to_counts = np.zeros(tuple(len(x) for x in possible_genotypes_famgen), dtype=int)\n",
    "    \n",
    "    for chrom, family_genotypes_for_chrom, nc in zip(chroms, family_genotypes_for_chroms, num_calls):\n",
    "        unique_gens, counts = np.unique(family_genotypes_for_chrom, return_counts=True, axis=1)\n",
    "\n",
    "        # fill in genotype_to_counts\n",
    "        ref_counts = 0\n",
    "        for g, c in zip(unique_gens.T, counts):\n",
    "            if tuple(g) in famgen_to_index:\n",
    "                genotype_to_counts[tuple(g)] += c\n",
    "                \n",
    "                if tuple(g) == tuple([0]*m):\n",
    "                    ref_counts = c\n",
    "\n",
    "        genotype_to_counts[tuple([0]*m)] += (nc - family_genotypes_for_chrom.shape[1]) + ref_counts\n",
    "\n",
    "    # form X\n",
    "    X = np.zeros((len(nonmendelian_famgens), len(all_transitions)))\n",
    "    \n",
    "    for trans, fg_pairs in transition_to_fg_pairs.items():\n",
    "        trans_index = transition_to_index[trans]\n",
    "        for famgen, neighbor in fg_pairs: # nmfg, mfg\n",
    "            famgen_index = nm_famgen_to_index[famgen]\n",
    "            \n",
    "            if genotype_to_counts[neighbor]>0:\n",
    "                slice_def = tuple(slice(None, None, None) if a==b else b for a, b in zip(famgen, neighbor))\n",
    "                X[famgen_index, trans_index] = genotype_to_counts[neighbor]/np.sum((genotype_to_counts*is_mendelian)[slice_def])\n",
    "                \n",
    "    y = np.asarray([genotype_to_counts[x] for x in nonmendelian_famgens])\n",
    "\n",
    "    print('zeros rows:', np.sum(np.sum(X, axis=1)==0), 'cols:', np.sum(np.sum(X, axis=0)==0))\n",
    "    indices = np.where(np.sum(X, axis=1) != 0)[0]\n",
    "    unused_famgens = [nonmendelian_famgens[i] for i in range(len(nonmendelian_famgens)) if i not in indices]\n",
    "    X = X[indices, :]\n",
    "    y = y[indices]\n",
    "    nm = [nonmendelian_famgens[i] for i in indices]\n",
    "    \n",
    "    \n",
    "    return X, y, nm, genotype_to_counts, unused_famgens\n",
    "    "
   ]
  },
  {
   "cell_type": "code",
   "execution_count": 80,
   "metadata": {},
   "outputs": [],
   "source": [
    "def estimate_family_error(X, y, all_transitions, tie_inds=False):\n",
    "    \n",
    "    old_trans_index_to_new_trans_index = dict()\n",
    "    \n",
    "    new_transitions = []\n",
    "    \n",
    "    if tie_inds:\n",
    "        for s1, e1 in set([t[0][1:] for t in all_transitions if len(t)==1]):\n",
    "            ts = [i for i, t in enumerate(all_transitions) if len(t) == 1 and t[0][1] == s1 and t[0][2] == e1]\n",
    "            for t in ts:\n",
    "                old_trans_index_to_new_trans_index[t] = len(new_transitions)  \n",
    "            new_transitions.append((s1, e1))\n",
    "    else: \n",
    "        for j, s, e in set([(t[0][0], t[0][1], t[0][2]) for t in all_transitions if len(t)==1]):\n",
    "            ts = [i for i, t in enumerate(all_transitions) if len(t) == 1 and t[0][0] == j and t[0][1] == s and t[0][2] == e]\n",
    "            for t in ts:\n",
    "                old_trans_index_to_new_trans_index[t] = len(new_transitions)  \n",
    "            new_transitions.append((j, s, e))\n",
    "    \n",
    "    \n",
    "            \n",
    "    newX = np.zeros((X.shape[0], len(new_transitions)))\n",
    "    for old_trans_index, new_trans_index in old_trans_index_to_new_trans_index.items():\n",
    "        newX[:, new_trans_index] += X[:, old_trans_index]\n",
    "        \n",
    "    print(newX.shape)\n",
    "    \n",
    "    # cvxpy\n",
    "    n = cp.Variable(newX.shape[1])\n",
    "\n",
    "    #objective = cp.Minimize(cp.norm(X*n - y, 2)**2)  \n",
    "    #prob = cp.Problem(objective, [0 <= n])\n",
    "    \n",
    "    mu = np.sum(newX, axis=0)\n",
    "    objective = cp.Minimize(mu*n - y*cp.log(newX*n))\n",
    "    constraints = [n>=0, newX[y>0, :]*n <= y[y>0]]\n",
    "    \n",
    "    prob = cp.Problem(objective, constraints)\n",
    "    \n",
    "    result = prob.solve(solver='ECOS', max_iters=1000)\n",
    "    print(prob.status)\n",
    "    \n",
    "    n = np.asarray([v[0, 0] for v in n.value])\n",
    "    n = [n[old_trans_index_to_new_trans_index[i]] for i in range(len(old_trans_index_to_new_trans_index))]\n",
    "    \n",
    "    return prob.status, n, X.dot(n), y\n",
    "\n",
    "            \n"
   ]
  },
  {
   "cell_type": "code",
   "execution_count": 82,
   "metadata": {},
   "outputs": [
    {
     "name": "stdout",
     "output_type": "stream",
     "text": [
      "[0, 1, 2, 3, 4, 5]\n",
      "zeros rows: 3111 cols: 0\n",
      "Percent mendelian 0.999705003555\n",
      "(836, 50)\n",
      "optimal\n",
      "(836, 9)\n",
      "optimal\n",
      "[0, 1, 2, 3, 4, -1]\n",
      "zeros rows: 3111 cols: 0\n",
      "Percent mendelian 0.999711173267\n",
      "(836, 50)\n",
      "optimal\n",
      "(836, 9)\n",
      "optimal\n"
     ]
    }
   ],
   "source": [
    "wb_indices = list(range(m))\n",
    "print(wb_indices)\n",
    "\n",
    "X_genome, y_genome, nm_genome, genotype_to_counts_genome, unused_famgens_genome = build_genome_X_and_y(chroms, [x[wb_indices, :] for x in all_gens], [chrom_lengths[chrom] for chrom in chroms])\n",
    "print('Percent mendelian', np.sum(genotype_to_counts_genome*is_mendelian)/np.sum(genotype_to_counts_genome))\n",
    "\n",
    "prob_status, n_genome_wb, expected_genome_wb, observed_genome_wb = estimate_family_error(X_genome, y_genome, all_transitions, tie_inds=False)\n",
    "prob_status, n_genome_wb_tied, expected_genome_wb_tied, observed_genome_wb_tied = estimate_family_error(X_genome, y_genome, all_transitions, tie_inds=True)\n",
    "\n",
    "lcl_indices = list(range(m))\n",
    "lcl_wb_index = inds.index(lcl_wb_ind)\n",
    "lcl_indices[lcl_wb_index] = -1\n",
    "print(lcl_indices)\n",
    "\n",
    "X_genome, y_genome, nm_genome, genotype_to_counts_genome, unused_famgens_genome = build_genome_X_and_y(chroms, [x[lcl_indices, :] for x in all_gens], [chrom_lengths[chrom] for chrom in chroms])\n",
    "print('Percent mendelian', np.sum(genotype_to_counts_genome*is_mendelian)/np.sum(genotype_to_counts_genome))\n",
    "\n",
    "prob_status, n_genome_lcl, expected_genome_lcl, observed_genome_lcl = estimate_family_error(X_genome, y_genome, all_transitions, tie_inds=False)\n",
    "prob_status, n_genome_lcl_tied, expected_genome_lcl_tied, observed_genome_lcl_tied = estimate_family_error(X_genome, y_genome, all_transitions, tie_inds=True)\n",
    "\n"
   ]
  },
  {
   "cell_type": "markdown",
   "metadata": {},
   "source": [
    "# Look at results"
   ]
  },
  {
   "cell_type": "code",
   "execution_count": 84,
   "metadata": {},
   "outputs": [
    {
     "name": "stderr",
     "output_type": "stream",
     "text": [
      "//anaconda/lib/python3.6/site-packages/ipykernel_launcher.py:14: RuntimeWarning: divide by zero encountered in log10\n",
      "  \n",
      "//anaconda/lib/python3.6/site-packages/ipykernel_launcher.py:29: RuntimeWarning: divide by zero encountered in log10\n"
     ]
    },
    {
     "data": {
      "image/png": "[encoded data removed]",
      "text/plain": [
       "<Figure size 720x360 with 2 Axes>"
      ]
     },
     "metadata": {},
     "output_type": "display_data"
    }
   ],
   "source": [
    "import scipy.stats.stats as stats\n",
    "\n",
    "plt.figure(figsize=(10, 5))\n",
    "\n",
    "plt.subplot(1, 2, 1)\n",
    "\n",
    "indices = observed_genome_wb != 0\n",
    "pearsonr = stats.pearsonr(np.log10(observed_genome_wb[indices]), np.clip(np.log10(expected_genome_wb[indices]), 0, None))[0]\n",
    "spearmanr = stats.spearmanr(np.log10(observed_genome_wb[indices]), np.clip(np.log10(expected_genome_wb[indices]), 0, None))[0]\n",
    "plt.title('Untied pearson r=%0.2f, spearman r=%0.2f' % (pearsonr, spearmanr))\n",
    "\n",
    "plt.scatter(np.log10(observed_genome_wb[indices]), np.clip(np.log10(expected_genome_wb[indices]), 0, None), alpha=0.5)\n",
    "        \n",
    "max_value = np.ceil(np.max(np.log10(observed_genome_wb)))\n",
    "plt.plot([0, max_value], [0, max_value], linestyle='--', color='black')\n",
    "plt.xlabel('-log10(Observed)')\n",
    "plt.ylabel('-log10(Expected)')\n",
    "plt.ylim([0, None])\n",
    "\n",
    "plt.subplot(1, 2, 2)\n",
    "\n",
    "indices = observed_genome_wb_tied != 0\n",
    "pearsonr = stats.pearsonr(np.log10(observed_genome_wb_tied[indices]), np.clip(np.log10(expected_genome_wb_tied[indices]), 0, None))[0]\n",
    "spearmanr = stats.spearmanr(np.log10(observed_genome_wb_tied[indices]), np.clip(np.log10(expected_genome_wb_tied[indices]), 0, None))[0]\n",
    "plt.title('Tied pearson r=%0.2f, spearman r=%0.2f' % (pearsonr, spearmanr))\n",
    "\n",
    "plt.scatter(np.log10(observed_genome_wb_tied[indices]), np.clip(np.log10(expected_genome_wb_tied[indices]), 0, None), alpha=0.5)\n",
    "        \n",
    "max_value = np.ceil(np.max(np.log10(observed_genome_wb_tied)))\n",
    "plt.plot([0, max_value], [0, max_value], linestyle='--', color='black')\n",
    "plt.xlabel('-log10(Observed)')\n",
    "plt.ylabel('-log10(Expected)')\n",
    "plt.ylim([0, None])\n",
    "\n",
    "\n",
    "plt.tight_layout()\n",
    "plt.show()"
   ]
  },
  {
   "cell_type": "code",
   "execution_count": 85,
   "metadata": {},
   "outputs": [],
   "source": [
    "error_types = [(0, 1), (0, 2), (0, 3), (1, 0), (1, 2), (1, 3), (2, 0), (2, 1), (2, 3)]\n",
    "error_type_to_index = dict([(x, i) for i, x in enumerate(error_types)])\n",
    "\n",
    "errors_genome_wb = np.zeros((len(error_types), m))\n",
    "errors_genome_lcl = np.zeros((len(error_types), m))\n",
    "errors_genome_wb_tied = np.zeros((len(error_types), m))\n",
    "errors_genome_lcl_tied = np.zeros((len(error_types), m))\n",
    "\n",
    "\n",
    "# Genome WB\n",
    "for trans, n in zip(all_transitions, n_genome_wb):\n",
    "    if len(trans) == 1:\n",
    "        for t in trans:\n",
    "            errors_genome_wb[error_type_to_index[tuple(t[1:])], t[0]] += n\n",
    "\n",
    "for trans, n in zip(all_transitions, n_genome_wb_tied):\n",
    "    if len(trans) == 1:\n",
    "        for t in trans:\n",
    "            errors_genome_wb_tied[error_type_to_index[tuple(t[1:])], t[0]] += n\n",
    "            \n",
    "# Genome LCL\n",
    "for trans, n in zip(all_transitions, n_genome_lcl):\n",
    "    if len(trans) == 1:\n",
    "        for t in trans:\n",
    "            errors_genome_lcl[error_type_to_index[tuple(t[1:])], t[0]] += n\n",
    "\n",
    "for trans, n in zip(all_transitions, n_genome_lcl_tied):\n",
    "    if len(trans) == 1:\n",
    "        for t in trans:\n",
    "            errors_genome_lcl_tied[error_type_to_index[tuple(t[1:])], t[0]] += n\n"
   ]
  },
  {
   "cell_type": "code",
   "execution_count": 87,
   "metadata": {},
   "outputs": [
    {
     "name": "stdout",
     "output_type": "stream",
     "text": [
      "Fraction unexplained non-mendelian (untied) 0.152540275663\n",
      "65659.4362563\n",
      "\n",
      "Fraction unexplained non-mendelian (tied) 0.323424582057\n",
      "139214.877101\n"
     ]
    }
   ],
   "source": [
    "f = np.sum(observed_genome_wb-expected_genome_wb)/np.sum(observed_genome_wb)\n",
    "print('Fraction unexplained non-mendelian (untied)', f)\n",
    "print(np.sum(observed_genome_wb-expected_genome_wb))\n",
    "\n",
    "f = np.sum(observed_genome_wb_tied-expected_genome_wb_tied)/np.sum(observed_genome_wb_tied)\n",
    "print('\\nFraction unexplained non-mendelian (tied)', f)\n",
    "print(np.sum(observed_genome_wb_tied-expected_genome_wb_tied))"
   ]
  },
  {
   "cell_type": "code",
   "execution_count": 200,
   "metadata": {},
   "outputs": [
    {
     "name": "stderr",
     "output_type": "stream",
     "text": [
      "//anaconda/lib/python3.6/site-packages/ipykernel_launcher.py:17: RuntimeWarning: divide by zero encountered in log10\n",
      "//anaconda/lib/python3.6/site-packages/ipykernel_launcher.py:18: RuntimeWarning: divide by zero encountered in log10\n"
     ]
    },
    {
     "data": {
      "image/png": "[encoded data removed]",
      "text/plain": [
       "<Figure size 1080x1080 with 9 Axes>"
      ]
     },
     "metadata": {},
     "output_type": "display_data"
    }
   ],
   "source": [
    "plt.figure(figsize=(15, 15))\n",
    "\n",
    "cost = np.zeros((len(error_types),), dtype=float)\n",
    "\n",
    "for i, (f, t) in enumerate(error_types):\n",
    "    plt.subplot(3, 3, i+1)\n",
    "    \n",
    "    errors = errors_genome_wb[i, :]\n",
    "    errors_tied = errors_genome_wb_tied[i, :]\n",
    "    \n",
    "    norm_factors = np.zeros((m,))\n",
    "    for j in range(m):\n",
    "        norm_factors[j] = np.sum((genotype_to_counts_genome*is_mendelian)[tuple(f if k==j else slice(None, None, None) for k in range(m))])\n",
    "        plt.axhline(-np.log10(norm_factors[j]), color='black')\n",
    "    \n",
    "    \n",
    "    plt.plot(np.clip(np.log10(errors), 0, None)-np.log10(norm_factors))\n",
    "    plt.plot(np.clip(np.log10(errors_tied), 0, None)-np.log10(norm_factors))\n",
    "    cost[i] = -(np.clip(np.log10(errors_tied[-1]), 0, None)-np.log10(norm_factors[-1]))\n",
    "        \n",
    "    plt.title('%d -> %d' % (f, t))\n",
    "    plt.xticks(range(m), ['Mother', 'Father'] + ['Child%d' % i for i in range(1, m-1)])\n",
    "    plt.ylim([-12, -1])\n",
    "\n",
    "plt.tight_layout()            \n",
    "plt.show()\n",
    "\n"
   ]
  },
  {
   "cell_type": "code",
   "execution_count": 202,
   "metadata": {},
   "outputs": [
    {
     "name": "stdout",
     "output_type": "stream",
     "text": [
      "(0, 1) 5.06355804022\n",
      "(0, 2) 7.02354087895\n",
      "(0, 3) 4.94146261578\n",
      "(1, 0) 2.98674026891\n",
      "(1, 2) 3.50427197273\n",
      "(1, 3) 4.17651249194\n",
      "(2, 0) 5.60258127541\n",
      "(2, 1) 3.19542864628\n",
      "(2, 3) 4.15130603735\n"
     ]
    }
   ],
   "source": [
    "for e, c in zip(error_types, cost):\n",
    "    print(e, c)"
   ]
  },
  {
   "cell_type": "markdown",
   "metadata": {},
   "source": [
    "# Estimate double deletion rate"
   ]
  },
  {
   "cell_type": "code",
   "execution_count": 142,
   "metadata": {},
   "outputs": [
    {
     "name": "stdout",
     "output_type": "stream",
     "text": [
      "['chr.Y.gen.npz']\n",
      "(4610, 231075)\n"
     ]
    }
   ],
   "source": [
    "chrom = 'Y'\n",
    "gen_files = sorted([f for f in listdir(data_dir) if ('chr.%s.' % chrom) in f and 'gen.npz' in f])\n",
    "print(gen_files)\n",
    "\n",
    "# pull snp positions\n",
    "pos_data = np.load('%s/chr.%s.gen.coordinates.npy' % (data_dir, chrom))\n",
    "snp_positions = pos_data[:, 1]\n",
    "is_snp = pos_data[:, 2].astype(bool)\n",
    "\n",
    "# Pull data together\n",
    "A = sparse.hstack([sparse.load_npz('%s/%s' % (data_dir, gen_file)) for gen_file in gen_files])\n",
    "\n",
    "# filter out snps\n",
    "A = A[:, is_snp].A\n",
    "snp_positions = snp_positions[is_snp]\n",
    "num_callsY = snp_positions.shape[0]\n",
    "\n",
    "# don't need low coverage flag on missing values\n",
    "A[A<0] = 3\n",
    "\n",
    "# remove positions where whole family is missing or whole family is homref\n",
    "#ok_indices = np.any(A>0, axis=0)\n",
    "#A = A[:, ok_indices]\n",
    "#snp_positions = snp_positions[ok_indices]\n",
    "\n",
    "print(A.shape)\n",
    "genY = A\n",
    "positionsY = snp_positions"
   ]
  },
  {
   "cell_type": "code",
   "execution_count": 143,
   "metadata": {},
   "outputs": [
    {
     "name": "stdout",
     "output_type": "stream",
     "text": [
      "(4610, 231075)\n"
     ]
    }
   ],
   "source": [
    "# skip PAR\n",
    "start, end = 2649520, 59034050\n",
    "ok_indices = (positionsY>start) & (positionsY<end)\n",
    "genY = genY[:, ok_indices]\n",
    "positionsY = positionsY[ok_indices]\n",
    "num_callsY = positionsY.shape[0]\n",
    "\n",
    "print(genY.shape)"
   ]
  },
  {
   "cell_type": "code",
   "execution_count": 144,
   "metadata": {},
   "outputs": [
    {
     "name": "stdout",
     "output_type": "stream",
     "text": [
      "1514 4610\n"
     ]
    }
   ],
   "source": [
    "female_indices = [sample_id in sample_id_to_sex and sample_id_to_sex[sample_id]=='2' for sample_id in sample_ids]\n",
    "print(np.sum(female_indices), len(female_indices))"
   ]
  },
  {
   "cell_type": "code",
   "execution_count": 196,
   "metadata": {},
   "outputs": [
    {
     "name": "stdout",
     "output_type": "stream",
     "text": [
      "[0 1 2 3] [ 77653592  10724778  10661379 250807801]\n",
      "-1 -> -1 0.716905980905 -0.144537796426\n",
      "-1 -> 0 0.221964086929 -0.653717287308\n",
      "-1 -> 1 0.03065557555 -1.5134905257\n",
      "-1 -> 2 0.0304743566162 -1.51606545457\n"
     ]
    }
   ],
   "source": [
    "g, c = np.unique(genY[female_indices, :], return_counts=True)\n",
    "print(g, c)\n",
    "print('-1 -> -1', c[-1]/np.sum(c), np.log10(c[-1]/np.sum(c)))\n",
    "print('-1 -> 0', c[0]/np.sum(c), np.log10(c[0]/np.sum(c)))\n",
    "print('-1 -> 1', c[1]/np.sum(c), np.log10(c[1]/np.sum(c)))\n",
    "print('-1 -> 2', c[2]/np.sum(c), np.log10(c[2]/np.sum(c)))"
   ]
  },
  {
   "cell_type": "markdown",
   "metadata": {},
   "source": [
    "# Estimate single deletion error rate"
   ]
  },
  {
   "cell_type": "code",
   "execution_count": 160,
   "metadata": {},
   "outputs": [
    {
     "name": "stdout",
     "output_type": "stream",
     "text": [
      "1640\n"
     ]
    }
   ],
   "source": [
    "mother_son_pairs = []\n",
    "for fkey, inds in families.items():\n",
    "    for child in inds[2:]:\n",
    "        if sample_id_to_sex[child] == '1':\n",
    "            mother_son_pairs.append((inds[0], child))\n",
    "\n",
    "print(len(mother_son_pairs))"
   ]
  },
  {
   "cell_type": "code",
   "execution_count": 162,
   "metadata": {},
   "outputs": [
    {
     "name": "stdout",
     "output_type": "stream",
     "text": [
      "['chr.X.0.gen.npz', 'chr.X.1.gen.npz']\n",
      "(4610, 2965581)\n"
     ]
    }
   ],
   "source": [
    "chrom = 'X'\n",
    "gen_files = sorted([f for f in listdir(data_dir) if ('chr.%s.' % chrom) in f and 'gen.npz' in f])\n",
    "print(gen_files)\n",
    "\n",
    "# pull snp positions\n",
    "pos_data = np.load('%s/chr.%s.gen.coordinates.npy' % (data_dir, chrom))\n",
    "snp_positions = pos_data[:, 1]\n",
    "is_snp = pos_data[:, 2].astype(bool)\n",
    "\n",
    "# Pull data together\n",
    "A = sparse.hstack([sparse.load_npz('%s/%s' % (data_dir, gen_file)) for gen_file in gen_files])\n",
    "\n",
    "# filter out snps\n",
    "A = A[:, is_snp].A\n",
    "snp_positions = snp_positions[is_snp]\n",
    "num_callsX = snp_positions.shape[0]\n",
    "\n",
    "# don't need low coverage flag on missing values\n",
    "A[A<0] = 3\n",
    "\n",
    "# remove positions where whole family is missing or whole family is homref\n",
    "#ok_indices = np.any(A>0, axis=0)\n",
    "#A = A[:, ok_indices]\n",
    "#snp_positions = snp_positions[ok_indices]\n",
    "\n",
    "print(A.shape)\n",
    "genX = A\n",
    "positionsX = snp_positions"
   ]
  },
  {
   "cell_type": "code",
   "execution_count": 167,
   "metadata": {},
   "outputs": [
    {
     "name": "stdout",
     "output_type": "stream",
     "text": [
      "(4610, 2965581)\n",
      "[    60014     60016     60021 ..., 155260268 155260274 155260455]\n"
     ]
    }
   ],
   "source": [
    "print(genX.shape)"
   ]
  },
  {
   "cell_type": "code",
   "execution_count": 171,
   "metadata": {},
   "outputs": [
    {
     "name": "stdout",
     "output_type": "stream",
     "text": [
      "95116 2955906 2699522 154930651\n",
      "(4610, 2860791)\n"
     ]
    }
   ],
   "source": [
    "# skip PAR\n",
    "\n",
    "start, end = 2699520, 154931044\n",
    "start_index, end_index = None, None\n",
    "for i, x in enumerate(positionsX):\n",
    "    if x>start:\n",
    "        start_index = i\n",
    "        break\n",
    "\n",
    "for i, x in enumerate(reversed(positionsX)):\n",
    "    if x < end:\n",
    "        end_index = positionsX.shape[0] - 1 - i\n",
    "        break\n",
    "        \n",
    "print(start_index, end_index, positionsX[start_index], positionsX[end_index])\n",
    "genX = genX[:, start_index:(end_index+1)]\n",
    "positionsX = positionsX[start_index:(end_index+1)]\n",
    "num_callsX = positionsX.shape[0]\n",
    "\n",
    "print(genX.shape)"
   ]
  },
  {
   "cell_type": "code",
   "execution_count": 190,
   "metadata": {},
   "outputs": [
    {
     "name": "stdout",
     "output_type": "stream",
     "text": [
      "AU1665202 AU1665303\n",
      "AU3197202 AU3197302\n",
      "AU1887202 AU1887302\n",
      "AU1916202 AU1916301\n",
      "AU1691202 AU1691303\n",
      "AU3506202 AU3506302\n",
      "AU2522202 AU2522301\n",
      "AU1088202 AU1088302\n",
      "AU3636202 AU3636301\n",
      "AU1589202 AU1589301\n",
      "AU2490202 AU2490304\n",
      "AU054501 AU054505\n",
      "AU2887202 AU2887303\n",
      "AU002101 AU002105\n",
      "AU2298202 AU2298302\n",
      "AU002101 AU002103\n",
      "AU1558202 AU1558302\n",
      "AU1414202 AU1414304\n",
      "AU0897202 AU0897303\n",
      "AU019301 AU019303\n"
     ]
    }
   ],
   "source": [
    "counts = np.zeros((4, 4), dtype=int)\n",
    "#for mother, son in mother_son_pairs:\n",
    "moson_to_counts = defaultdict(int)\n",
    "\n",
    "for _ in range(20):\n",
    "    mother, son = random.choice(mother_son_pairs)\n",
    "    print(mother, son)\n",
    "    mother_index, son_index = sample_id_to_index[mother], sample_id_to_index[son]\n",
    "    g, c = np.unique(genX[[mother_index, son_index], :], axis=1, return_counts=True)\n",
    "    for x, y in zip(g.T, c):\n",
    "        moson_to_counts[tuple(x)] += y"
   ]
  },
  {
   "cell_type": "code",
   "execution_count": 197,
   "metadata": {},
   "outputs": [
    {
     "name": "stdout",
     "output_type": "stream",
     "text": [
      "Mother 0\n",
      "0 0.995169258548 -0.00210304809644\n",
      "1 0.00121374460987 -2.91587268574\n",
      "2 0.00043772364316 -3.35879999482\n",
      "3 0.00317927319871 -2.49767215104\n",
      "Mother 1\n",
      "0 0.508664933605 -0.293568200774\n",
      "1 0.0333400220804 -1.47703411688\n",
      "2 0.454859600193 -0.342122634707\n",
      "3 0.00313544412153 -2.50370093462\n",
      "Mother 2\n",
      "0 0.0139312525826 -1.85600983366\n",
      "1 0.00315647668889 -2.50079741366\n",
      "2 0.976121606161 -0.0104960741421\n",
      "3 0.00679066456792 -2.16808772144\n",
      "Mother 3\n",
      "0 0.222577197493 -0.652519330165\n",
      "1 0.00384759813975 -2.41481029391\n",
      "2 0.0103238106242 -1.98615997058\n",
      "3 0.763251393743 -0.117332393981\n"
     ]
    }
   ],
   "source": [
    "mgen = 0\n",
    "print('Mother %d' % mgen)\n",
    "norm_factor = np.sum([moson_to_counts[(mgen, i)] for i in range(4)])\n",
    "print('0', moson_to_counts[(mgen, 0)]/norm_factor, np.log10(moson_to_counts[(mgen, 0)]/norm_factor))\n",
    "print('1', moson_to_counts[(mgen, 1)]/norm_factor, np.log10(moson_to_counts[(mgen, 1)]/norm_factor))\n",
    "print('2', moson_to_counts[(mgen, 2)]/norm_factor, np.log10(moson_to_counts[(mgen, 2)]/norm_factor))\n",
    "print('3', moson_to_counts[(mgen, 3)]/norm_factor, np.log10(moson_to_counts[(mgen, 3)]/norm_factor))\n",
    "\n",
    "mgen = 1\n",
    "print('Mother %d' % mgen)\n",
    "norm_factor = np.sum([moson_to_counts[(mgen, i)] for i in range(4)])\n",
    "print('0', moson_to_counts[(mgen, 0)]/norm_factor, np.log10(moson_to_counts[(mgen, 0)]/norm_factor))\n",
    "print('1', moson_to_counts[(mgen, 1)]/norm_factor, np.log10(moson_to_counts[(mgen, 1)]/norm_factor))\n",
    "print('2', moson_to_counts[(mgen, 2)]/norm_factor, np.log10(moson_to_counts[(mgen, 2)]/norm_factor))\n",
    "print('3', moson_to_counts[(mgen, 3)]/norm_factor, np.log10(moson_to_counts[(mgen, 3)]/norm_factor))\n",
    "\n",
    "mgen = 2\n",
    "print('Mother %d' % mgen)\n",
    "norm_factor = np.sum([moson_to_counts[(mgen, i)] for i in range(4)])\n",
    "print('0', moson_to_counts[(mgen, 0)]/norm_factor, np.log10(moson_to_counts[(mgen, 0)]/norm_factor))\n",
    "print('1', moson_to_counts[(mgen, 1)]/norm_factor, np.log10(moson_to_counts[(mgen, 1)]/norm_factor))\n",
    "print('2', moson_to_counts[(mgen, 2)]/norm_factor, np.log10(moson_to_counts[(mgen, 2)]/norm_factor))\n",
    "print('3', moson_to_counts[(mgen, 3)]/norm_factor, np.log10(moson_to_counts[(mgen, 3)]/norm_factor))\n",
    "\n",
    "mgen = 3\n",
    "print('Mother %d' % mgen)\n",
    "norm_factor = np.sum([moson_to_counts[(mgen, i)] for i in range(4)])\n",
    "print('0', moson_to_counts[(mgen, 0)]/norm_factor, np.log10(moson_to_counts[(mgen, 0)]/norm_factor))\n",
    "print('1', moson_to_counts[(mgen, 1)]/norm_factor, np.log10(moson_to_counts[(mgen, 1)]/norm_factor))\n",
    "print('2', moson_to_counts[(mgen, 2)]/norm_factor, np.log10(moson_to_counts[(mgen, 2)]/norm_factor))\n",
    "print('3', moson_to_counts[(mgen, 3)]/norm_factor, np.log10(moson_to_counts[(mgen, 3)]/norm_factor))\n"
   ]
  },
  {
   "cell_type": "markdown",
   "metadata": {},
   "source": [
    "# Estimate crossover rate"
   ]
  },
  {
   "cell_type": "code",
   "execution_count": 102,
   "metadata": {},
   "outputs": [
    {
     "name": "stdout",
     "output_type": "stream",
     "text": [
      "Crossovers per child 61.56000000000001\n",
      "Maternal crossover log10(P) -8.09900216768\n",
      "Paternal crossover log10(P) -7.8685532463\n",
      "Overall crossover log10(P) -7.66763840352\n"
     ]
    }
   ],
   "source": [
    "# estimate probability of recombination\n",
    "print('Crossovers per child', (1+1.7)*22.8)\n",
    "print('Maternal crossover log10(P)', np.log10(22.8)-np.log10(sum(chrom_lengths.values())))\n",
    "print('Paternal crossover log10(P)', np.log10(1.7*22.8)-np.log10(sum(chrom_lengths.values())))\n",
    "print('Overall crossover log10(P)', np.log10((1+1.7)*22.8)-np.log10(sum(chrom_lengths.values())))"
   ]
  },
  {
   "cell_type": "code",
   "execution_count": 119,
   "metadata": {},
   "outputs": [
    {
     "name": "stdout",
     "output_type": "stream",
     "text": [
      "Total independent errors 349227.907886\n",
      "Overall error rate -3.91382807244\n",
      "Average cost per bp 0.00118994027401\n"
     ]
    }
   ],
   "source": [
    "print('Total independent errors', m*sum(errors_genome_wb_tied[:, -1]))\n",
    "print('Overall error rate', np.log10(m*sum(errors_genome_wb_tied[:, -1])) - np.log10(sum(chrom_lengths.values())))\n",
    "print('Average cost per bp', m*sum(errors_genome_wb_tied[:, -1] * cost)/sum(chrom_lengths.values()))"
   ]
  },
  {
   "cell_type": "code",
   "execution_count": 115,
   "metadata": {},
   "outputs": [
    {
     "name": "stdout",
     "output_type": "stream",
     "text": [
      "[10 14 10  6  7  8 11  6  8]\n"
     ]
    }
   ],
   "source": [
    "print(cost)"
   ]
  },
  {
   "cell_type": "code",
   "execution_count": 235,
   "metadata": {},
   "outputs": [
    {
     "name": "stdout",
     "output_type": "stream",
     "text": [
      "Deletion transition -9.15590701902\n",
      "Hard to sequence region transition -6.15590701902\n"
     ]
    }
   ],
   "source": [
    "print('Deletion transition', np.log10(2)-np.log10(sum(chrom_lengths.values())))\n",
    "print('Hard to sequence region transition', np.log10(2000)-np.log10(sum(chrom_lengths.values())))"
   ]
  },
  {
   "cell_type": "markdown",
   "metadata": {},
   "source": [
    "# Estimate emmision probabilities in hard-to-sequence regions"
   ]
  },
  {
   "cell_type": "code",
   "execution_count": 226,
   "metadata": {},
   "outputs": [
    {
     "name": "stdout",
     "output_type": "stream",
     "text": [
      "Del Mendelian 569\n",
      "(4, 4, 4, 4, 4, 4)\n"
     ]
    }
   ],
   "source": [
    "del_mendelian_trios = {\n",
    "    (0, 0, 0), \n",
    "    (0, 1, 0), (0, 1, 1), (0, 1, 2),\n",
    "    (0, 2, 1), (0, 2, 0), (0, 2, 2),\n",
    "    (1, 0, 0), (1, 0, 1), (1, 0, 2),\n",
    "    (1, 1, 0), (1, 1, 1), (1, 1, 2),\n",
    "    (1, 2, 1), (1, 2, 2), (1, 2, 0),\n",
    "    (2, 0, 1), (2, 0, 0), (2, 0, 2),\n",
    "    (2, 1, 1), (2, 1, 2), (2, 1, 0),\n",
    "    (2, 2, 2)\n",
    "}\n",
    "is_del_mendelian = np.ones(tuple(len(x) for x in possible_genotypes_famgen), dtype=bool)\n",
    "for famgen in all_famgens:\n",
    "    is_del_mend = True\n",
    "    for j in range(2, m):\n",
    "        if tuple([famgen[x] for x in [0, 1, j]]) not in del_mendelian_trios:\n",
    "            is_del_mend = False\n",
    "    is_del_mendelian[famgen] = is_del_mend\n",
    "print('Del Mendelian', np.sum(is_del_mendelian))\n",
    "print(is_del_mendelian.shape)\n"
   ]
  },
  {
   "cell_type": "code",
   "execution_count": 229,
   "metadata": {},
   "outputs": [],
   "source": [
    "two_plus_steps = []\n",
    "del_nonmendelian_famgens = list(zip(*np.where(~is_del_mendelian)))\n",
    "del_mendelian_famgens = list(zip(*np.where(is_del_mendelian)))\n",
    "for nm in del_nonmendelian_famgens:\n",
    "    has_neighbor = False\n",
    "    for m in del_mendelian_famgens:\n",
    "        diff = len([_ for x, y in zip(nm, m) if x!=y])\n",
    "        if diff == 1:\n",
    "            has_neighbor = True\n",
    "    if not has_neighbor:\n",
    "        two_plus_steps.append(nm)"
   ]
  },
  {
   "cell_type": "code",
   "execution_count": 230,
   "metadata": {},
   "outputs": [
    {
     "name": "stdout",
     "output_type": "stream",
     "text": [
      "2117\n"
     ]
    }
   ],
   "source": [
    "print(len(two_plus_steps))"
   ]
  },
  {
   "cell_type": "code",
   "execution_count": 231,
   "metadata": {},
   "outputs": [
    {
     "name": "stdout",
     "output_type": "stream",
     "text": [
      "[]\n"
     ]
    }
   ],
   "source": [
    "print([x for x in two_plus_steps if 3 not in x])"
   ]
  },
  {
   "cell_type": "code",
   "execution_count": 232,
   "metadata": {},
   "outputs": [],
   "source": [
    "emissions = [0]*4\n",
    "for nm in two_plus_steps:\n",
    "    for g in nm:\n",
    "        emissions[g] += genotype_to_counts_genome[nm]"
   ]
  },
  {
   "cell_type": "code",
   "execution_count": 233,
   "metadata": {},
   "outputs": [
    {
     "name": "stdout",
     "output_type": "stream",
     "text": [
      "[-0.41768609 -1.83750238 -1.78115939 -0.23159119]\n"
     ]
    }
   ],
   "source": [
    "print(np.log10(emissions/np.sum(emissions)))"
   ]
  },
  {
   "cell_type": "code",
   "execution_count": 237,
   "metadata": {},
   "outputs": [
    {
     "name": "stdout",
     "output_type": "stream",
     "text": [
      "0.47712125472\n"
     ]
    }
   ],
   "source": [
    "print(np.log10(3))"
   ]
  },
  {
   "cell_type": "code",
   "execution_count": 240,
   "metadata": {},
   "outputs": [
    {
     "name": "stdout",
     "output_type": "stream",
     "text": [
      "0->0 -8.76251358641e-06\n",
      "1->1 -0.000613107855169\n",
      "2->2 -0.000308768398653\n"
     ]
    }
   ],
   "source": [
    "print('0->0', np.log10(1 - pow(10, -5.06355804022) - pow(10, -4.94146261578) - pow(10, -7.02354087895)))\n",
    "print('1->1', np.log10(1 - pow(10, -4.17651249194) - pow(10, -2.98674026891,) - pow(10, -3.50427197273)))\n",
    "print('2->2', np.log10(1 - pow(10, -4.15130603735) - pow(10, -5.60258127541,) - pow(10, -3.19542864628)))\n",
    "\n",
    "\n",
    "\n"
   ]
  },
  {
   "cell_type": "code",
   "execution_count": 243,
   "metadata": {},
   "outputs": [
    {
     "name": "stdout",
     "output_type": "stream",
     "text": [
      "[[ 1.       0.5      0.25   ]\n",
      " [ 0.125    0.0625   0.03125]]\n"
     ]
    }
   ],
   "source": [
    "# in a hard to sequence region, errors are 10x more likely\n",
    "a = np.asarray([[0, -1, -2], [-3, -4, -5]], dtype=float)\n",
    "print(np.power(2, a))"
   ]
  },
  {
   "cell_type": "code",
   "execution_count": null,
   "metadata": {},
   "outputs": [],
   "source": []
  }
 ],
 "metadata": {
  "kernelspec": {
   "display_name": "Python 3",
   "language": "python",
   "name": "python3"
  },
  "language_info": {
   "codemirror_mode": {
    "name": "ipython",
    "version": 3
   },
   "file_extension": ".py",
   "mimetype": "text/x-python",
   "name": "python",
   "nbconvert_exporter": "python",
   "pygments_lexer": "ipython3",
   "version": "3.6.7"
  }
 },
 "nbformat": 4,
 "nbformat_minor": 2
}
