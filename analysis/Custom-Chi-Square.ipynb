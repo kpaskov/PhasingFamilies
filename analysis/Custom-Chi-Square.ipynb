{
 "cells": [
  {
   "cell_type": "code",
   "execution_count": 24,
   "metadata": {},
   "outputs": [],
   "source": [
    "import matplotlib.pyplot as plt"
   ]
  },
  {
   "cell_type": "code",
   "execution_count": 201,
   "metadata": {},
   "outputs": [],
   "source": [
    "chrom, pos = '22', 24380000\n",
    "\n",
    "phase_dir = '../phased_ihart'\n",
    "#family_sizes = [3, 4, 5, 6, 7]\n",
    "family_sizes = [4, 5, 6, 7]\n",
    "\n",
    "ssc_phase_dir = '../phased_ssc'"
   ]
  },
  {
   "cell_type": "code",
   "execution_count": 202,
   "metadata": {},
   "outputs": [],
   "source": [
    "ped_files = ['../data/160826.ped', '../data/ssc.ped']\n",
    "# Affection (0=unknown; 1=unaffected; 2=affected)\n",
    "child_id_to_affected = dict()\n",
    "child_id_to_sex = dict()\n",
    "\n",
    "for ped_file in ped_files:\n",
    "    with open(ped_file, 'r') as f:\n",
    "        for line in f:\n",
    "            pieces = line.strip().split('\\t')\n",
    "            if len(pieces) >= 6:\n",
    "                fam_id, child_id, f_id, m_id, sex, disease_status = pieces[0:6]\n",
    "                child_id_to_affected[child_id] = disease_status\n",
    "                child_id_to_sex[child_id] = sex"
   ]
  },
  {
   "cell_type": "code",
   "execution_count": 203,
   "metadata": {},
   "outputs": [],
   "source": [
    "family_to_individuals = dict()\n",
    "parent_id_to_genotype = dict()\n",
    "child_id_to_maternal_gen = dict()\n",
    "child_id_to_paternal_gen = dict()\n",
    "\n",
    "del_to_gen = {0: 1, 1:0, -1:3}\n",
    "\n",
    "for j in family_sizes:\n",
    "    with open('%s/chr.%s.familysize.%d.families.txt' % (phase_dir, chrom, j), 'r')  as f:\n",
    "        next(f) # skip header\n",
    "        for line in f:\n",
    "            pieces = line.strip().split('\\t')\n",
    "            family_key = pieces[0]\n",
    "            family_to_individuals[family_key] = pieces[1:(1+j)]\n",
    "\n",
    "    # load deletions\n",
    "    with open('%s/chr.%s.familysize.%d.phased.txt' % (phase_dir, chrom, j), 'r')  as f:\n",
    "        next(f) # skip header\n",
    "\n",
    "        for line in f:\n",
    "            pieces = line.strip().split('\\t')\n",
    "            family_key = pieces[0]\n",
    "            inds = family_to_individuals[family_key]\n",
    "            \n",
    "            inheritance_state = [int(x) for x in pieces[1:(2+(j*2))]]\n",
    "            start_pos, end_pos = [int(x) for x in pieces[(2+(j*2)):(4+(j*2))]]\n",
    "            \n",
    "            if start_pos <= pos and pos <= end_pos:\n",
    "                # this is our position of interest\n",
    "                mom_gen = [del_to_gen[x] for x in inheritance_state[:2]]\n",
    "                trans0 = len([i for i in range(4, 2*len(inds), 2) if inheritance_state[i]==0])\n",
    "                trans1 = len([i for i in range(4, 2*len(inds), 2) if inheritance_state[i]==1])\n",
    "                if trans0 == 0:\n",
    "                    mom_gen[0] = 3\n",
    "                elif trans1 == 0:\n",
    "                    mom_gen[1] = 3\n",
    "                parent_id_to_genotype[inds[0]] = tuple(mom_gen)\n",
    "                \n",
    "                dad_gen = [del_to_gen[x] for x in inheritance_state[2:4]]\n",
    "                trans0 = len([i for i in range(5, 2*len(inds), 2) if inheritance_state[i]==0])\n",
    "                trans1 = len([i for i in range(5, 2*len(inds), 2) if inheritance_state[i]==1])\n",
    "                if trans0 == 0:\n",
    "                    dad_gen[0] = 3\n",
    "                elif trans1 == 0:\n",
    "                    dad_gen[1] = 3\n",
    "                parent_id_to_genotype[inds[1]] = tuple(dad_gen)\n",
    "                \n",
    "                for i, child in enumerate(inds[2:]):\n",
    "                    mat_s, pat_s = inheritance_state[4+(2*i)], inheritance_state[5+(2*i)]\n",
    "                    if mat_s == -1:\n",
    "                        child_id_to_maternal_gen[child] = 4\n",
    "                    else:\n",
    "                        child_id_to_maternal_gen[child] = mom_gen[mat_s]\n",
    "                    if pat_s == -1:\n",
    "                        child_id_to_paternal_gen[child] = 4\n",
    "                    else:\n",
    "                        child_id_to_paternal_gen[child] = dad_gen[pat_s]\n",
    "                    "
   ]
  },
  {
   "cell_type": "code",
   "execution_count": 204,
   "metadata": {},
   "outputs": [],
   "source": [
    "j = 4\n",
    "with open('%s/chr.%s.familysize.4.families.txt' % (ssc_phase_dir, chrom), 'r')  as f:\n",
    "    next(f) # skip header\n",
    "    for line in f:\n",
    "        pieces = line.strip().split('\\t')\n",
    "        family_key = pieces[0]\n",
    "        family_to_individuals[family_key] = pieces[1:(1+j)]\n",
    "\n",
    "# load deletions\n",
    "with open('%s/chr.%s.familysize.4.phased.txt' % (ssc_phase_dir, chrom), 'r')  as f:\n",
    "    next(f) # skip header\n",
    "\n",
    "    for line in f:\n",
    "        pieces = line.strip().split('\\t')\n",
    "        family_key = pieces[0]\n",
    "        inds = family_to_individuals[family_key]\n",
    "            \n",
    "        inheritance_state = [int(x) for x in pieces[1:(2+(j*2))]]\n",
    "        start_pos, end_pos = [int(x) for x in pieces[(2+(j*2)):(4+(j*2))]]\n",
    "            \n",
    "        if start_pos <= pos and pos <= end_pos:\n",
    "            # this is our position of interest\n",
    "            mom_gen = [del_to_gen[x] for x in inheritance_state[:2]]\n",
    "            trans0 = len([i for i in range(4, 2*len(inds), 2) if inheritance_state[i]==0])\n",
    "            trans1 = len([i for i in range(4, 2*len(inds), 2) if inheritance_state[i]==1])\n",
    "            if trans0 == 0:\n",
    "                mom_gen[0] = 3\n",
    "            elif trans1 == 0:\n",
    "                mom_gen[1] = 3\n",
    "            parent_id_to_genotype[inds[0]] = tuple(mom_gen)\n",
    "                \n",
    "            dad_gen = [del_to_gen[x] for x in inheritance_state[2:4]]\n",
    "            trans0 = len([i for i in range(5, 2*len(inds), 2) if inheritance_state[i]==0])\n",
    "            trans1 = len([i for i in range(5, 2*len(inds), 2) if inheritance_state[i]==1])\n",
    "            if trans0 == 0:\n",
    "                dad_gen[0] = 3\n",
    "            elif trans1 == 0:\n",
    "                dad_gen[1] = 3\n",
    "            parent_id_to_genotype[inds[1]] = tuple(dad_gen)\n",
    "                \n",
    "            for i, child in enumerate(inds[2:]):\n",
    "                mat_s, pat_s = inheritance_state[4+(2*i)], inheritance_state[5+(2*i)]\n",
    "                if mat_s == -1:\n",
    "                    child_id_to_maternal_gen[child] = 4\n",
    "                else:\n",
    "                    child_id_to_maternal_gen[child] = mom_gen[mat_s]\n",
    "                if pat_s == -1:\n",
    "                    child_id_to_paternal_gen[child] = 4\n",
    "                else:\n",
    "                    child_id_to_paternal_gen[child] = dad_gen[pat_s]"
   ]
  },
  {
   "cell_type": "code",
   "execution_count": 205,
   "metadata": {},
   "outputs": [
    {
     "name": "stdout",
     "output_type": "stream",
     "text": [
      "Counter({(0, 0): 1385, (0, 3): 1184, (1, 0): 71, (0, 1): 66, (1, 3): 49})\n",
      "Counter({0: 3079, 1: 147, 4: 22})\n",
      "Counter({0: 3083, 1: 147, 4: 18})\n"
     ]
    }
   ],
   "source": [
    "from collections import Counter\n",
    "print(Counter(parent_id_to_genotype.values()))\n",
    "print(Counter(child_id_to_maternal_gen.values()))\n",
    "print(Counter(child_id_to_paternal_gen.values()))"
   ]
  },
  {
   "cell_type": "code",
   "execution_count": 206,
   "metadata": {},
   "outputs": [],
   "source": [
    "sample_id_to_family_size = dict()\n",
    "for inds in family_to_individuals.values():\n",
    "    for ind in inds:\n",
    "        sample_id_to_family_size[ind] = len(inds)"
   ]
  },
  {
   "cell_type": "code",
   "execution_count": 207,
   "metadata": {},
   "outputs": [
    {
     "name": "stdout",
     "output_type": "stream",
     "text": [
      "Counter({4: 1918, 5: 707, 6: 112, 7: 18})\n"
     ]
    }
   ],
   "source": [
    "print(Counter(sample_id_to_family_size[k] for k in parent_id_to_genotype.keys()))"
   ]
  },
  {
   "cell_type": "code",
   "execution_count": 208,
   "metadata": {},
   "outputs": [
    {
     "data": {
      "image/png": "[encoded data removed]",
      "text/plain": [
       "<Figure size 1080x360 with 2 Axes>"
      ]
     },
     "metadata": {},
     "output_type": "display_data"
    }
   ],
   "source": [
    "plt.figure(figsize=(15, 5))\n",
    "\n",
    "plt.subplot(1, 2, 1)\n",
    "parent_norms = [len([x for p, x in parent_id_to_genotype.items() if sample_id_to_family_size[p] == famsize]) for famsize in family_sizes]\n",
    "for k in [[(0, 0)], [(0, 1), (1, 0)], [(1, 1)], [(0, 3), (3, 0)], [(1, 3), (3, 1)]]:\n",
    "    plt.plot([len([x for p, x in parent_id_to_genotype.items() if sample_id_to_family_size[p] == famsize and x in k])/parent_norms[i] for i, famsize in enumerate(family_sizes)],\n",
    "            label=str(k))\n",
    "    \n",
    "plt.legend()\n",
    "plt.xticks(range(len(family_sizes)), family_sizes)\n",
    "plt.ylim([0, 1])\n",
    "\n",
    "plt.subplot(1, 2, 2)\n",
    "fs = []\n",
    "for k in [0, 1, 3]:\n",
    "    f = [sum([(x[0]==k)+(x[1]==k) for p, x in parent_id_to_genotype.items() if sample_id_to_family_size[p] == famsize]) for famsize in family_sizes] \n",
    "    plt.plot([x/(2*y) for x, y in zip(f, parent_norms)], label=str(k))\n",
    "    fs.append(f)\n",
    "f = [x/(x+y) for x, y in zip(fs[1], fs[0])]\n",
    "e = [1.96*np.sqrt(x*(1-x)/(y+z)) for x, y, z in zip(f, fs[1], fs[0])]\n",
    "plt.plot(f, color='black')\n",
    "plt.fill_between(range(len(family_sizes)), \n",
    "                 [x-y for x, y in zip(f, e)], \n",
    "                 [x+y for x, y in zip(f, e)], color='black', alpha=0.1)\n",
    "af = sum(fs[1])/(sum(fs[1])+sum(fs[0]))\n",
    "plt.axhline(af, color='black', linestyle='--', alpha=0.5)    \n",
    "\n",
    "#f = [x/(x+y+z) for x, y, z in zip(fs[2], fs[0], fs[1])]\n",
    "#e = [1.96*np.sqrt(x*(1-x)/(y+z+a)) for x, y, z, a in zip(f, fs[2], fs[0], fs[1])]\n",
    "#plt.plot(f, color='red')\n",
    "#plt.fill_between(range(len(family_sizes)), \n",
    "#                 [x-y for x, y in zip(f, e)], \n",
    "#                 [x+y for x, y in zip(f, e)], color='red', alpha=0.1)\n",
    "#\n",
    "\n",
    "    \n",
    "plt.legend()\n",
    "plt.xticks(range(len(family_sizes)), family_sizes)\n",
    "plt.ylim([0, 1])\n",
    "\n",
    "\n",
    "\n",
    "plt.show()\n",
    "\n"
   ]
  },
  {
   "cell_type": "code",
   "execution_count": 209,
   "metadata": {},
   "outputs": [
    {
     "name": "stdout",
     "output_type": "stream",
     "text": [
      "0.04348842646714987\n"
     ]
    }
   ],
   "source": [
    "print(af)"
   ]
  },
  {
   "cell_type": "code",
   "execution_count": 210,
   "metadata": {},
   "outputs": [
    {
     "name": "stdout",
     "output_type": "stream",
     "text": [
      "autism af 0.04812254303917582\n",
      "typical af 0.041810642709053214\n"
     ]
    }
   ],
   "source": [
    "aut_parvar, typ_parvar = 0, 0\n",
    "aut_noparvar, typ_noparvar = 0, 0\n",
    "\n",
    "for inds in family_to_individuals.values():\n",
    "    mom, dad = inds[:2]\n",
    "    momgen = parent_id_to_genotype[mom]\n",
    "    dadgen = parent_id_to_genotype[dad]\n",
    "    for child in inds[2:]:\n",
    "        is_aff = child_id_to_affected[child] == '2'\n",
    "                \n",
    "        if is_aff:\n",
    "            aut_noparvar += ((momgen[0]==0) + (momgen[1]==0) + (dadgen[0]==0) + (dadgen[1]==0))\n",
    "            aut_parvar += ((momgen[0]==1) + (momgen[1]==1) +  (dadgen[0]==1) + (dadgen[1]==1))\n",
    "        else:\n",
    "            typ_noparvar += ((momgen[0]==0) + (momgen[1]==0) + (dadgen[0]==0) + (dadgen[1]==0))\n",
    "            typ_parvar += ((momgen[0]==1) + (momgen[1]==1) +  (dadgen[0]==1) + (dadgen[1]==1))\n",
    "\n",
    "print('autism af', aut_parvar/(aut_parvar+aut_noparvar))\n",
    "print('typical af', typ_parvar/(typ_parvar+typ_noparvar))\n"
   ]
  },
  {
   "cell_type": "code",
   "execution_count": 211,
   "metadata": {},
   "outputs": [
    {
     "name": "stdout",
     "output_type": "stream",
     "text": [
      "[122, 183, 56, 5]\n",
      "[196, 219, 56, 5]\n",
      "[275.7577741407523, 243.2230535422023, 59.04418985270047, 5.217442132335748]\n"
     ]
    }
   ],
   "source": [
    "import numpy as np\n",
    "\n",
    "tdt_no_miss_trans = [0]*len(family_sizes)\n",
    "tdt_no_miss_attempts = [0]*len(family_sizes)\n",
    "tdt_no_miss_aff = [[0, 0], [0, 0]]\n",
    "tdt_no_miss_sex = [[0, 0], [0, 0]]\n",
    "\n",
    "tdt_miss_trans = [0]*len(family_sizes)\n",
    "tdt_miss_attempts = [0]*len(family_sizes)\n",
    "tdt_miss_aff = [[0, 0], [0, 0]]\n",
    "tdt_miss_sex = [[0, 0], [0, 0]]\n",
    "\n",
    "tdt_aug_trans = [0]*len(family_sizes)\n",
    "tdt_aug_attempts = [0]*len(family_sizes)\n",
    "tdt_aug_aff = [[0, 0], [0, 0]]\n",
    "tdt_aug_sex = [[0, 0], [0, 0]]\n",
    "\n",
    "tdt_no_miss_trio_weights = {\n",
    "    (0, 1, 0): [1, 0], (0, 1, 1): [0, 1],\n",
    "    (1, 0, 0): [1, 0], (1, 0, 1): [0, 1],\n",
    "}\n",
    "\n",
    "tdt_miss_trio_weights = {\n",
    "    (0, 1, 0): [1, 0], (0, 1, 1): [0, 1],\n",
    "    (1, 0, 0): [1, 0], (1, 0, 1): [0, 1],\n",
    "    (1, 3, 1): [0, 1], (1, 3, 3): [1, 0],\n",
    "    (3, 1, 1): [0, 1], (3, 1, 3): [1, 0]\n",
    "}\n",
    "\n",
    "tdt_aug_trio_weights = {\n",
    "    (0, 1, 0): [1, 0], (0, 1, 1): [0, 1],\n",
    "    (1, 0, 0): [1, 0], (1, 0, 1): [0, 1],\n",
    "    (0, 3, 0): [af, 0], (0, 3, 3): [0, af],\n",
    "    (3, 0, 0): [af, 0], (3, 0, 3): [0, af],\n",
    "    (1, 3, 1): [0, 1-af], (1, 3, 3): [1-af, 0],\n",
    "    (3, 1, 1): [0, 1-af], (3, 1, 3): [1-af, 0]\n",
    "}\n",
    "\n",
    "for i, famsize in enumerate(family_sizes):\n",
    "    for inds in family_to_individuals.values():\n",
    "        if len(inds) == famsize:\n",
    "            mom, dad = inds[:2]\n",
    "            \n",
    "            momgen = parent_id_to_genotype[mom]\n",
    "            dadgen = parent_id_to_genotype[dad]\n",
    "            for child in inds[2:]:\n",
    "                is_aff = child_id_to_affected[child] == '2'\n",
    "                is_f = child_id_to_sex[child] == '2'\n",
    "                \n",
    "                # maternal transmissions\n",
    "                trio = (momgen[0], momgen[1], child_id_to_maternal_gen[child])\n",
    "                if trio in tdt_no_miss_trio_weights:\n",
    "                    for w, is_trans in zip(tdt_no_miss_trio_weights[trio], [False, True]):\n",
    "                        tdt_no_miss_attempts[i] += w\n",
    "                        tdt_no_miss_aff[is_aff][is_trans] += w\n",
    "                        tdt_no_miss_sex[is_f][is_trans] += w\n",
    "                        if is_trans:\n",
    "                            tdt_no_miss_trans[i] += w\n",
    "                    \n",
    "                if trio in tdt_miss_trio_weights:\n",
    "                    for w, is_trans in zip(tdt_miss_trio_weights[trio], [False, True]):\n",
    "                        tdt_miss_attempts[i] += w\n",
    "                        tdt_miss_aff[is_aff][is_trans] += w\n",
    "                        tdt_miss_sex[is_f][is_trans] += w\n",
    "                        if is_trans:\n",
    "                            tdt_miss_trans[i] += w\n",
    "                            \n",
    "                if trio in tdt_aug_trio_weights:\n",
    "                    for w, is_trans in zip(tdt_aug_trio_weights[trio], [False, True]):\n",
    "                        tdt_aug_attempts[i] += w\n",
    "                        tdt_aug_aff[is_aff][is_trans] += w\n",
    "                        tdt_aug_sex[is_f][is_trans] += w\n",
    "                        if is_trans:\n",
    "                            tdt_aug_trans[i] += w\n",
    "                    \n",
    "                # paternal transmissions  \n",
    "                trio = (dadgen[0], dadgen[1], child_id_to_paternal_gen[child])\n",
    "                if trio in tdt_no_miss_trio_weights:\n",
    "                    for w, is_trans in zip(tdt_no_miss_trio_weights[trio], [False, True]):\n",
    "                        tdt_no_miss_attempts[i] += w\n",
    "                        tdt_no_miss_aff[is_aff][is_trans] += w\n",
    "                        tdt_no_miss_sex[is_f][is_trans] += w\n",
    "                        if is_trans:\n",
    "                            tdt_no_miss_trans[i] += w\n",
    "\n",
    "                if trio in tdt_miss_trio_weights:\n",
    "                    for w, is_trans in zip(tdt_miss_trio_weights[trio], [False, True]):\n",
    "                        tdt_miss_attempts[i] += w\n",
    "                        tdt_miss_aff[is_aff][is_trans] += w\n",
    "                        tdt_miss_sex[is_f][is_trans] += w\n",
    "                        if is_trans:\n",
    "                            tdt_miss_trans[i] += w\n",
    "                            \n",
    "                if trio in tdt_aug_trio_weights:\n",
    "                    for w, is_trans in zip(tdt_aug_trio_weights[trio], [False, True]):\n",
    "                        tdt_aug_attempts[i] += w\n",
    "                        tdt_aug_aff[is_aff][is_trans] += w\n",
    "                        tdt_aug_sex[is_f][is_trans] += w\n",
    "                        if is_trans:\n",
    "                            tdt_aug_trans[i] += w\n",
    "\n",
    "\n",
    "\n",
    "print(tdt_no_miss_attempts)\n",
    "print(tdt_miss_attempts)\n",
    "print(tdt_aug_attempts)"
   ]
  },
  {
   "cell_type": "code",
   "execution_count": 212,
   "metadata": {},
   "outputs": [
    {
     "name": "stdout",
     "output_type": "stream",
     "text": [
      "[275.7577741407523, 243.2230535422023, 59.04418985270047, 5.217442132335748]\n",
      "[131.78185644143093, 126.43441664718262, 29, 2]\n"
     ]
    }
   ],
   "source": [
    "print(tdt_aug_attempts)\n",
    "print(tdt_aug_trans)"
   ]
  },
  {
   "cell_type": "code",
   "execution_count": 213,
   "metadata": {},
   "outputs": [
    {
     "data": {
      "image/png": "[encoded data removed]",
      "text/plain": [
       "<Figure size 1080x360 with 2 Axes>"
      ]
     },
     "metadata": {},
     "output_type": "display_data"
    }
   ],
   "source": [
    "plt.figure(figsize=(15, 5))\n",
    "\n",
    "plt.subplot(1, 2, 1)\n",
    "f = [np.inf if y == 0 else x/y for x, y in zip(tdt_no_miss_trans, tdt_no_miss_attempts)]\n",
    "e = [np.inf if y == 0 else 1.96*np.sqrt(x*(1-x)/y) for x, y in zip(f, tdt_no_miss_attempts)]\n",
    "p = plt.plot(f, label='ignore missing')\n",
    "plt.fill_between(range(len(family_sizes)), \n",
    "                 [x-y for x, y in zip(f, e)], \n",
    "                 [x+y for x, y in zip(f, e)], color=p[0].get_color(), alpha=0.1)\n",
    "\n",
    "f = [np.inf if y == 0 else x/y for x, y in zip(tdt_miss_trans, tdt_miss_attempts)]\n",
    "e = [np.inf if y == 0 else 1.96*np.sqrt(x*(1-x)/y) for x, y in zip(f, tdt_miss_attempts)]\n",
    "p = plt.plot(f, label='naive missing')\n",
    "plt.fill_between(range(len(family_sizes)), \n",
    "                 [x-y for x, y in zip(f, e)], \n",
    "                 [x+y for x, y in zip(f, e)], color=p[0].get_color(), alpha=0.1)\n",
    "\n",
    "f = [np.inf if y == 0 else x/y for x, y in zip(tdt_aug_trans, tdt_aug_attempts)]\n",
    "e = [np.inf if y == 0 else 1.96*np.sqrt(x*(1-x)/y) for x, y in zip(f, tdt_aug_attempts)]\n",
    "p = plt.plot(f, label='augment missing')\n",
    "plt.fill_between(range(len(family_sizes)), \n",
    "                 [x-y for x, y in zip(f, e)], \n",
    "                 [x+y for x, y in zip(f, e)], color=p[0].get_color(), alpha=0.1)\n",
    "\n",
    "plt.legend()\n",
    "plt.xticks(range(len(family_sizes)), family_sizes)\n",
    "plt.ylim([0, 1.1])\n",
    "plt.axhline(0.5, color='black', linestyle='--')\n",
    "\n",
    "plt.subplot(1, 2, 2)\n",
    "f = [np.inf if y == 0 else x/y for x, y in zip(tdt_no_miss_trans, tdt_no_miss_attempts)]\n",
    "e = [np.inf if y == 0 else 1.96*np.sqrt(x*(1-x)/y) for x, y in zip(f, tdt_no_miss_attempts)]\n",
    "p = plt.plot(f, label='ignore missing')\n",
    "plt.fill_between(range(len(family_sizes)), \n",
    "                 [x-y for x, y in zip(f, e)], \n",
    "                 [x+y for x, y in zip(f, e)], color=p[0].get_color(), alpha=0.1)\n",
    "\n",
    "f = [np.inf if y == 0 else x/y for x, y in zip(tdt_miss_trans, tdt_miss_attempts)]\n",
    "e = [np.inf if y == 0 else 1.96*np.sqrt(x*(1-x)/y) for x, y in zip(f, tdt_miss_attempts)]\n",
    "p = plt.plot(f, label='naive missing')\n",
    "plt.fill_between(range(len(family_sizes)), \n",
    "                 [x-y for x, y in zip(f, e)], \n",
    "                 [x+y for x, y in zip(f, e)], color=p[0].get_color(), alpha=0.1)\n",
    "\n",
    "f = [np.inf if y == 0 else x/y for x, y in zip(tdt_aug_trans, tdt_aug_attempts)]\n",
    "e = [np.inf if y == 0 else 1.96*np.sqrt(x*(1-x)/y) for x, y in zip(f, tdt_aug_attempts)]\n",
    "p = plt.plot(f, label='augment missing')\n",
    "plt.fill_between(range(len(family_sizes)), \n",
    "                 [x-y for x, y in zip(f, e)], \n",
    "                 [x+y for x, y in zip(f, e)], color=p[0].get_color(), alpha=0.1)\n",
    "\n",
    "plt.legend()\n",
    "plt.xticks(range(len(family_sizes)), family_sizes)\n",
    "plt.ylim([0, 1.1])\n",
    "plt.axhline(0.5, color='black', linestyle='--')\n",
    "\n",
    "plt.show()"
   ]
  },
  {
   "cell_type": "code",
   "execution_count": 214,
   "metadata": {},
   "outputs": [
    {
     "name": "stdout",
     "output_type": "stream",
     "text": [
      "no miss, aff 0.00107254006434\n",
      "miss, aff 0.000966034149322\n",
      "aug, aff 0.00171134751182\n",
      "\n",
      "no miss, sex 0.458024548429\n",
      "miss, sex 0.260742203014\n",
      "aug, sex 0.673041542076\n"
     ]
    }
   ],
   "source": [
    "import scipy.stats\n",
    "\n",
    "print('no miss, aff', scipy.stats.chi2_contingency(tdt_no_miss_aff)[1])\n",
    "print('miss, aff', scipy.stats.chi2_contingency(tdt_miss_aff)[1])\n",
    "print('aug, aff', scipy.stats.chi2_contingency(tdt_aug_aff)[1])\n",
    "\n",
    "print()\n",
    "print('no miss, sex', scipy.stats.chi2_contingency(tdt_no_miss_sex)[1])\n",
    "print('miss, sex', scipy.stats.chi2_contingency(tdt_miss_sex)[1])\n",
    "print('aug, sex', scipy.stats.chi2_contingency(tdt_aug_sex)[1])\n"
   ]
  },
  {
   "cell_type": "code",
   "execution_count": null,
   "metadata": {},
   "outputs": [],
   "source": []
  },
  {
   "cell_type": "code",
   "execution_count": null,
   "metadata": {},
   "outputs": [],
   "source": []
  }
 ],
 "metadata": {
  "kernelspec": {
   "display_name": "Python 3",
   "language": "python",
   "name": "python3"
  },
  "language_info": {
   "codemirror_mode": {
    "name": "ipython",
    "version": 3
   },
   "file_extension": ".py",
   "mimetype": "text/x-python",
   "name": "python",
   "nbconvert_exporter": "python",
   "pygments_lexer": "ipython3",
   "version": "3.6.7"
  }
 },
 "nbformat": 4,
 "nbformat_minor": 2
}
