{
 "cells": [
  {
   "cell_type": "code",
   "execution_count": 174,
   "metadata": {},
   "outputs": [],
   "source": [
    "import json\n",
    "import numpy as np\n",
    "from collections import Counter\n",
    "import matplotlib.pyplot as plt"
   ]
  },
  {
   "cell_type": "code",
   "execution_count": 189,
   "metadata": {},
   "outputs": [],
   "source": [
    "dataset = '../recomb_ssc.hg38'"
   ]
  },
  {
   "cell_type": "code",
   "execution_count": 190,
   "metadata": {},
   "outputs": [],
   "source": [
    "ssc_old_id_to_new_id = dict()\n",
    "with open('../data/ssc.id_map.from.repository', 'r') as f:\n",
    "    for line in f:\n",
    "        pieces = line.strip().split('\\t')\n",
    "        ssc_old_id_to_new_id[pieces[1]] = pieces[0]\n",
    "        ssc_old_id_to_new_id[pieces[1].replace('.', '_')] = pieces[0]"
   ]
  },
  {
   "cell_type": "code",
   "execution_count": 191,
   "metadata": {},
   "outputs": [
    {
     "name": "stdout",
     "output_type": "stream",
     "text": [
      "deletions 440707\n",
      "crossovers 270750\n"
     ]
    }
   ],
   "source": [
    "with open('%s/deletions.json' % dataset, 'r') as f:\n",
    "    deletions = json.load(f)\n",
    "    \n",
    "with open('%s/crossovers.json' % dataset, 'r') as f:\n",
    "    crossovers = json.load(f)\n",
    "    \n",
    "print('deletions', len(deletions))\n",
    "print('crossovers', len(crossovers))"
   ]
  },
  {
   "cell_type": "code",
   "execution_count": 192,
   "metadata": {},
   "outputs": [
    {
     "name": "stdout",
     "output_type": "stream",
     "text": [
      "9 3.3240997229916896e-05\n"
     ]
    }
   ],
   "source": [
    "print(len([x for x in crossovers if x['deletions']]), \n",
    "      len([x for x in crossovers if x['deletions']])/len(crossovers))"
   ]
  },
  {
   "cell_type": "code",
   "execution_count": 193,
   "metadata": {},
   "outputs": [
    {
     "name": "stdout",
     "output_type": "stream",
     "text": [
      "{'family': '11520', 'chrom': '19', 'start_pos': 35363380, 'end_pos': 35520093, 'child': ['SSC02099', 'SSC02117'], 'is_mat': True, 'is_pat': False, 'is_complex': True, 'recombinations': [['11520', '19', 35363380, 35365370, ['SSC02099', 'SSC02117'], True, False, 4, 'SSC02106', 'SSC02114', True], ['11520', '19', 35373433, 35373789, ['SSC02099', 'SSC02117'], True, False, 4, 'SSC02106', 'SSC02114', False], ['11520', '19', 35519784, 35520093, ['SSC02099', 'SSC02117'], True, False, 4, 'SSC02106', 'SSC02114', False]], 'family_size': 4, 'mom': 'SSC02106', 'dad': 'SSC02114', 'deletions': True}\n",
      "{'family': '11644', 'chrom': '13', 'start_pos': 97875612, 'end_pos': 97882510, 'child': ['SSC03004', 'SSC03127'], 'is_mat': True, 'is_pat': False, 'is_complex': False, 'recombinations': [['11644', '13', 97875612, 97882510, ['SSC03004', 'SSC03127'], True, False, 4, 'SSC03006', 'SSC03126', True]], 'family_size': 4, 'mom': 'SSC03006', 'dad': 'SSC03126', 'deletions': True}\n",
      "{'family': '12252', 'chrom': '4', 'start_pos': 189269941, 'end_pos': 189276911, 'child': ['SSC05425', 'SSC05414'], 'is_mat': False, 'is_pat': True, 'is_complex': False, 'recombinations': [['12252', '4', 189269941, 189276911, ['SSC05425', 'SSC05414'], False, True, 4, 'SSC05419', 'SSC05424', True]], 'family_size': 4, 'mom': 'SSC05419', 'dad': 'SSC05424', 'deletions': True}\n",
      "{'family': '11056', 'chrom': '19', 'start_pos': 9114247, 'end_pos': 9173837, 'child': ['SSC01951', 'SSC02036'], 'is_mat': True, 'is_pat': False, 'is_complex': True, 'recombinations': [['11056', '19', 9114247, 9114388, ['SSC01951', 'SSC02036'], True, False, 4, 'SSC01950', 'SSC00957', False], ['11056', '19', 9166633, 9167097, ['SSC01951', 'SSC02036'], True, False, 4, 'SSC01950', 'SSC00957', False], ['11056', '19', 9167432, 9173837, ['SSC01951', 'SSC02036'], True, False, 4, 'SSC01950', 'SSC00957', True]], 'family_size': 4, 'mom': 'SSC01950', 'dad': 'SSC00957', 'deletions': True}\n",
      "{'family': '11144', 'chrom': '4', 'start_pos': 105559676, 'end_pos': 105581005, 'child': ['SS0013029', 'SSC02493'], 'is_mat': False, 'is_pat': True, 'is_complex': False, 'recombinations': [['11144', '4', 105559676, 105581005, ['SS0013029', 'SSC02493'], False, True, 4, 'SSC02246', 'SSC02249', True]], 'family_size': 4, 'mom': 'SSC02246', 'dad': 'SSC02249', 'deletions': True}\n",
      "{'family': '11499', 'chrom': '18', 'start_pos': 54027620, 'end_pos': 54305634, 'child': ['SSC00549', 'SSC00553'], 'is_mat': True, 'is_pat': False, 'is_complex': False, 'recombinations': [['11499', '18', 54027620, 54305634, ['SSC00549', 'SSC00553'], True, False, 4, 'SSC00551', 'SSC00552', True]], 'family_size': 4, 'mom': 'SSC00551', 'dad': 'SSC00552', 'deletions': True}\n",
      "{'family': '14253', 'chrom': '10', 'start_pos': 72064944, 'end_pos': 72098478, 'child': ['SSC10898', 'SSC10880'], 'is_mat': True, 'is_pat': False, 'is_complex': False, 'recombinations': [['14253', '10', 72064944, 72098478, ['SSC10898', 'SSC10880'], True, False, 4, 'SSC10887', 'SSC10897', True]], 'family_size': 4, 'mom': 'SSC10887', 'dad': 'SSC10897', 'deletions': True}\n",
      "{'family': '13916', 'chrom': '21', 'start_pos': 44084598, 'end_pos': 44213200, 'child': ['SSC09610', 'SSC09590'], 'is_mat': False, 'is_pat': True, 'is_complex': False, 'recombinations': [['13916', '21', 44084598, 44213200, ['SSC09610', 'SSC09590'], False, True, 4, 'SSC09597', 'SSC09303', True]], 'family_size': 4, 'mom': 'SSC09597', 'dad': 'SSC09303', 'deletions': True}\n",
      "{'family': '12449', 'chrom': '20', 'start_pos': 29296541, 'end_pos': 30519352, 'child': ['SSC05056', 'SSC05051'], 'is_mat': True, 'is_pat': False, 'is_complex': True, 'recombinations': [['12449', '20', 29296541, 29296557, ['SSC05056', 'SSC05051'], True, False, 4, 'SSC05053', 'SSC05055', False], ['12449', '20', 29296750, 29296795, ['SSC05056', 'SSC05051'], True, False, 4, 'SSC05053', 'SSC05055', False], ['12449', '20', 29302669, 30273047, ['SSC05056', 'SSC05051'], True, False, 4, 'SSC05053', 'SSC05055', True], ['12449', '20', 30354432, 30513325, ['SSC05056', 'SSC05051'], True, False, 4, 'SSC05053', 'SSC05055', False], ['12449', '20', 30514059, 30519352, ['SSC05056', 'SSC05051'], True, False, 4, 'SSC05053', 'SSC05055', False]], 'family_size': 4, 'mom': 'SSC05053', 'dad': 'SSC05055', 'deletions': True}\n"
     ]
    }
   ],
   "source": [
    "for x in crossovers:\n",
    "    if x['deletions']:\n",
    "        print(x)"
   ]
  },
  {
   "cell_type": "code",
   "execution_count": 180,
   "metadata": {},
   "outputs": [],
   "source": [
    "# transfer acgh info\n",
    "\n",
    "def key_to_del(d):\n",
    "    return (d['family'], d['is_mat'], d['chrom'], d['start_pos'], d['end_pos'], tuple(sorted(d['trans'])))\n",
    "def key_to_cross(d):\n",
    "    return (d['family'], d['is_mat'], d['chrom'], d['start_pos'], d['end_pos'], tuple(sorted(d['child'])))\n",
    "def pull_acgh(d):\n",
    "    acgh = []\n",
    "    for key, value in d.items():\n",
    "        if key=='num_markers':\n",
    "            acgh.append((key, value))\n",
    "        elif 'aCGH' in key:\n",
    "            acgh.append((key, value))\n",
    "    return acgh\n",
    "\n",
    "with open('../phased_ssc_del_qs/deletions.json', 'r') as f:\n",
    "    key_to_acgh = dict([(key_to_del(d), pull_acgh(d)) for d in json.load(f)])\n",
    "    \n",
    "\n",
    "for d in deletions:\n",
    "    key = key_to_del(d)\n",
    "    if key in key_to_acgh:\n",
    "        d.update(key_to_acgh[key])\n",
    "    "
   ]
  },
  {
   "cell_type": "code",
   "execution_count": 181,
   "metadata": {},
   "outputs": [
    {
     "name": "stdout",
     "output_type": "stream",
     "text": [
      "families 483\n"
     ]
    }
   ],
   "source": [
    "families = sorted(set([x['family'] for x in deletions]) | set([x['family'] for x in crossovers]))\n",
    "print('families', len(families))\n"
   ]
  },
  {
   "cell_type": "code",
   "execution_count": 182,
   "metadata": {},
   "outputs": [],
   "source": [
    "del_crossover_pairs = []\n",
    "\n",
    "for chrom in [str(x) for x in range(1, 23)]:\n",
    "    chrom_dels = [x for x in deletions if x['chrom']==chrom]\n",
    "    chrom_cross = [x for x in crossovers if x['chrom']==chrom]\n",
    "    for family in families:\n",
    "        fam_mat_dels = [x for x in chrom_dels if x['family']==family and x['is_mat']]\n",
    "        fam_mat_cross = [x for x in chrom_cross if x['family']==family and x['is_mat']]\n",
    "\n",
    "        mat_del_starts = np.array([x['start_pos'] for x in fam_mat_dels])\n",
    "        mat_del_ends = np.array([x['end_pos'] for x in fam_mat_dels])\n",
    "\n",
    "        for c in fam_mat_cross:\n",
    "            overlap = np.minimum(mat_del_ends, c['end_pos'])-np.maximum(mat_del_starts, c['start_pos'])\n",
    "            for i in np.where(overlap>0)[0]:\n",
    "                del_crossover_pairs.append((fam_mat_dels[i], c))\n",
    "\n",
    "        fam_pat_dels = [x for x in chrom_dels if x['family']==family and x['is_pat']]\n",
    "        fam_pat_cross = [x for x in chrom_cross if x['family']==family and x['is_pat']]\n",
    "\n",
    "        pat_del_starts = np.array([x['start_pos'] for x in fam_pat_dels])\n",
    "        pat_del_ends = np.array([x['end_pos'] for x in fam_pat_dels])\n",
    "\n",
    "        for c in fam_pat_cross:\n",
    "            overlap = np.minimum(pat_del_ends, c['end_pos'])-np.maximum(pat_del_starts, c['start_pos'])\n",
    "            for i in np.where(overlap>0)[0]:\n",
    "                del_crossover_pairs.append((fam_pat_dels[i], c))"
   ]
  },
  {
   "cell_type": "code",
   "execution_count": 183,
   "metadata": {},
   "outputs": [
    {
     "name": "stdout",
     "output_type": "stream",
     "text": [
      "812\n",
      "frac deletions 0.007855049190794501\n",
      "frac crossovers 0.01154934786009928\n"
     ]
    }
   ],
   "source": [
    "print(len(del_crossover_pairs))\n",
    "print('frac deletions', len(del_crossover_pairs)/len(deletions))\n",
    "print('frac crossovers', len(del_crossover_pairs)/len(crossovers))"
   ]
  },
  {
   "cell_type": "code",
   "execution_count": 173,
   "metadata": {},
   "outputs": [
    {
     "name": "stdout",
     "output_type": "stream",
     "text": [
      "812 812\n",
      "476 812\n",
      "96168\n"
     ]
    }
   ],
   "source": [
    "key_to_deletion = dict([(key_to_del(d), d) for d in deletions])\n",
    "\n",
    "delkeys_in_cross = set([key_to_del(d) for d, c in del_crossover_pairs])\n",
    "crosskeys_in_del = set([key_to_cross(c) for d, c in del_crossover_pairs])\n",
    "\n",
    "print(len(delkeys_in_cross), len(del_crossover_pairs))\n",
    "print(len(crosskeys_in_del), len(del_crossover_pairs))\n",
    "print(len(delkeys_notin_cross))"
   ]
  },
  {
   "cell_type": "code",
   "execution_count": null,
   "metadata": {},
   "outputs": [],
   "source": [
    "print(Counter([len(key_to_deletion[d]['trans']) for d in delkeys_in_cross]))\n",
    "\n",
    "delkeys_in_cross_single_trans = [d for d in delkeys_in_cross if len(key_to_deletion[d]['trans'])==1]\n",
    "delkeys_in_cross_double_trans = [d for d in delkeys_in_cross if len(key_to_deletion[d]['trans'])==2]\n",
    "print(len(delkeys_in_cross_single_trans))"
   ]
  },
  {
   "cell_type": "code",
   "execution_count": 133,
   "metadata": {},
   "outputs": [],
   "source": [
    "def is_validated(d, index=0):\n",
    "    child = d['trans'][index]\n",
    "    child_acgh = d.get('%s_med_aCGH' % child, None)\n",
    "    nodel_parent = d['mother'] if d['is_pat'] else d['father']\n",
    "    nodel_parent_acgh = d.get('%s_med_aCGH' % nodel_parent, None)\n",
    "    \n",
    "    if child_acgh is not None and nodel_parent_acgh is not None and not d['is_hts'] and d['length']>1000:\n",
    "        return (np.log2(child_acgh)<-0.25) or (np.log2(child_acgh)-np.log2(nodel_parent_acgh)<-0.25)\n",
    "    else:\n",
    "        return None"
   ]
  },
  {
   "cell_type": "code",
   "execution_count": 134,
   "metadata": {},
   "outputs": [
    {
     "name": "stdout",
     "output_type": "stream",
     "text": [
      "8268 3452 0.7054607508532423\n"
     ]
    }
   ],
   "source": [
    "no_cross_single_trans_val, no_cross_single_trans_noval = 0, 0\n",
    "for d in set([key_to_del(d) for d in deletions]) - delkeys_in_cross:\n",
    "    is_val = is_validated(key_to_deletion[d])\n",
    "    if is_val is not None:\n",
    "        if is_val:\n",
    "            no_cross_single_trans_val += 1\n",
    "        else:\n",
    "            no_cross_single_trans_noval += 1\n",
    "            \n",
    "print(no_cross_single_trans_val, no_cross_single_trans_noval, no_cross_single_trans_val/(no_cross_single_trans_val+no_cross_single_trans_noval))\n",
    "\n"
   ]
  },
  {
   "cell_type": "code",
   "execution_count": 135,
   "metadata": {},
   "outputs": [
    {
     "name": "stdout",
     "output_type": "stream",
     "text": [
      "269 125 0.682741116751269\n"
     ]
    }
   ],
   "source": [
    "in_cross_single_trans_val, in_cross_single_trans_noval = 0, 0\n",
    "for d in delkeys_in_cross_single_trans:\n",
    "    is_val = is_validated(key_to_deletion[d])\n",
    "    if is_val is not None:\n",
    "        if is_val:\n",
    "            in_cross_single_trans_val += 1\n",
    "        else:\n",
    "            in_cross_single_trans_noval += 1\n",
    "            \n",
    "print(in_cross_single_trans_val, in_cross_single_trans_noval, in_cross_single_trans_val/(in_cross_single_trans_val+in_cross_single_trans_noval))\n",
    "    \n",
    "    "
   ]
  },
  {
   "cell_type": "code",
   "execution_count": 136,
   "metadata": {},
   "outputs": [
    {
     "name": "stdout",
     "output_type": "stream",
     "text": [
      "210 45 64 0.7288401253918495\n"
     ]
    }
   ],
   "source": [
    "in_cross_double_trans_bothval, in_cross_double_trans_oneval, in_cross_double_trans_noval = 0, 0, 0\n",
    "for d in delkeys_in_cross_double_trans:\n",
    "    is_val1 = is_validated(key_to_deletion[d])\n",
    "    is_val2 = is_validated(key_to_deletion[d], index=1)\n",
    "    if is_val1 is not None and is_val2 is not None:\n",
    "        if is_val1 and is_val2:\n",
    "            in_cross_double_trans_bothval += 1\n",
    "        elif is_val1 or is_val2:\n",
    "            in_cross_double_trans_oneval += 1\n",
    "        else:\n",
    "            in_cross_double_trans_noval += 1\n",
    "            \n",
    "print(in_cross_double_trans_bothval, in_cross_double_trans_oneval, in_cross_double_trans_noval,\n",
    "      (2*in_cross_double_trans_bothval + in_cross_double_trans_oneval)/(2*in_cross_double_trans_bothval + 2*in_cross_double_trans_oneval + 2*in_cross_double_trans_noval))\n",
    "    \n",
    "    "
   ]
  },
  {
   "cell_type": "code",
   "execution_count": 137,
   "metadata": {},
   "outputs": [
    {
     "name": "stdout",
     "output_type": "stream",
     "text": [
      "0.49845440494590415\n"
     ]
    }
   ],
   "source": [
    "print(np.sum([key_to_deletion[d]['is_hts'] for d in delkeys_in_cross_single_trans])/len(delkeys_in_cross_single_trans))\n",
    "\n"
   ]
  },
  {
   "cell_type": "code",
   "execution_count": 130,
   "metadata": {},
   "outputs": [
    {
     "data": {
      "image/png": "[encoded data removed]",
      "text/plain": [
       "<Figure size 432x288 with 1 Axes>"
      ]
     },
     "metadata": {
      "needs_background": "light"
     },
     "output_type": "display_data"
    }
   ],
   "source": [
    "plt.hist(np.log10([key_to_deletion[d]['length'] for d in delkeys_in_cross if not key_to_deletion[d]['is_hts'] ]), bins=np.arange(0, 8, 0.1))\n",
    "plt.show()"
   ]
  },
  {
   "cell_type": "code",
   "execution_count": null,
   "metadata": {},
   "outputs": [],
   "source": []
  }
 ],
 "metadata": {
  "kernelspec": {
   "display_name": "Python 3",
   "language": "python",
   "name": "python3"
  },
  "language_info": {
   "codemirror_mode": {
    "name": "ipython",
    "version": 3
   },
   "file_extension": ".py",
   "mimetype": "text/x-python",
   "name": "python",
   "nbconvert_exporter": "python",
   "pygments_lexer": "ipython3",
   "version": "3.7.3"
  }
 },
 "nbformat": 4,
 "nbformat_minor": 2
}
