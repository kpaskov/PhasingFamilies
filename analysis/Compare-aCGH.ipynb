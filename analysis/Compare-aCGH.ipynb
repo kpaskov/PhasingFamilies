{
 "cells": [
  {
   "cell_type": "markdown",
   "metadata": {},
   "source": [
    "Array-CGH is the gold standard CNV detection method. This paper: \n",
    "\n",
    "Celestino-Soper PB, Shaw CA, Sanders SJ, Li J, Murtha MT, Ercan-Sencicek AG, Davis L, Thomson S, Gambin T, Chinault AC, Ou Z. Use of array CGH to detect exonic copy number variants throughout the genome in autism families detects a novel deletion in TMLHE. Human molecular genetics. 2011 Aug 24;20(22):4360-70.\n",
    "\n",
    "ran aCGH on 99 probands from SSC. We ran our deletion detection algorithm on the same individuals (from quads) using WGSd data. We want to know how the deletions we detected compare to the deletions detected by aCGH.\n",
    "\n",
    "As a first pass, we'll look for the deletions they confirmed (so we're evaluating sensitivity)."
   ]
  },
  {
   "cell_type": "code",
   "execution_count": 26,
   "metadata": {
    "collapsed": true
   },
   "outputs": [],
   "source": [
    "from collections import namedtuple\n",
    "Deletion = namedtuple('Deletion', ['family', 'individual', 'chrom', 'start_pos', 'end_pos', 'length'])"
   ]
  },
  {
   "cell_type": "code",
   "execution_count": 27,
   "metadata": {},
   "outputs": [
    {
     "name": "stdout",
     "output_type": "stream",
     "text": [
      "Num DDR dels 167\n"
     ]
    }
   ],
   "source": [
    "ddr_dels = []\n",
    "with open('../other_sv_calls/ddr363_Supplementary_Data/valid_dels.txt', 'r') as f:\n",
    "    next(f) # skip header\n",
    "    for line in f:\n",
    "        pieces = line.strip().split('\\t')\n",
    "        if pieces[10].lower() == 'loss':\n",
    "            fam_id, chrom, start, end  = pieces[0], pieces[2][3:], int(pieces[7]), int(pieces[8])\n",
    "            ddr_dels.append(Deletion(fam_id, fam_id +  '.p1', chrom, start, end, end-start+1))\n",
    "print('Num DDR dels', len(ddr_dels))"
   ]
  },
  {
   "cell_type": "code",
   "execution_count": 28,
   "metadata": {},
   "outputs": [
    {
     "name": "stdout",
     "output_type": "stream",
     "text": [
      "3 families of size 3\n",
      "516 families of size 4\n"
     ]
    }
   ],
   "source": [
    "# pull families that we've phased\n",
    "phase_dir = '../sherlock_phased_ssc'\n",
    "\n",
    "family_to_individuals = dict()\n",
    "for j in [3, 4]:\n",
    "    with open('%s/chr.%s.familysize.%d.families.txt' % (phase_dir, chrom, j), 'r')  as f:\n",
    "        next(f) # skip header\n",
    "        num_fams_of_size = 0\n",
    "        for line in f:\n",
    "            pieces = line.strip().split('\\t')\n",
    "            family_to_individuals[pieces[0].split('.')[0]] = pieces[1:(1+j)]\n",
    "            num_fams_of_size += 1\n",
    "        print('%d families of size %d' % (num_fams_of_size, j))"
   ]
  },
  {
   "cell_type": "code",
   "execution_count": 32,
   "metadata": {},
   "outputs": [
    {
     "name": "stdout",
     "output_type": "stream",
     "text": [
      "Families 12 Individuals 47\n"
     ]
    }
   ],
   "source": [
    "# find intersection between families\n",
    "phased_families = set([x.split('.')[0] for x in family_to_individuals.keys()])\n",
    "ddr_families = set([x.family for x in ddr_dels])\n",
    "intersect_families = phased_families & ddr_families\n",
    "\n",
    "individuals = sum([family_to_individuals[x] for x in intersect_families], [])\n",
    "sample_id_to_index = dict([(x, i) for i, x in enumerate(individuals)])\n",
    "m = len(individuals)\n",
    "print('Families', len(intersect_families), 'Individuals', m)\n"
   ]
  },
  {
   "cell_type": "code",
   "execution_count": 66,
   "metadata": {},
   "outputs": [
    {
     "name": "stdout",
     "output_type": "stream",
     "text": [
      "Ddr deletions [Deletion(family='11098', individual='11098.p1', chrom='2', start_pos=98129729, end_pos=98132487, length=2759), Deletion(family='11411', individual='11411.p1', chrom='2', start_pos=209210784, end_pos=209210912, length=129), Deletion(family='11554', individual='11554.p1', chrom='2', start_pos=132479994, end_pos=132509195, length=29202)]\n"
     ]
    },
    {
     "ename": "FileNotFoundError",
     "evalue": "[Errno 2] No such file or directory: '../sherlock_phased_ssc/chr.2.deletions.npz'",
     "output_type": "error",
     "traceback": [
      "\u001b[0;31m---------------------------------------------------------------------------\u001b[0m",
      "\u001b[0;31mFileNotFoundError\u001b[0m                         Traceback (most recent call last)",
      "\u001b[0;32m<ipython-input-66-f10e62bcb7f7>\u001b[0m in \u001b[0;36m<module>\u001b[0;34m()\u001b[0m\n\u001b[1;32m      5\u001b[0m \u001b[0;34m\u001b[0m\u001b[0m\n\u001b[1;32m      6\u001b[0m \u001b[0;31m# pull snp_positions for this chromosome\u001b[0m\u001b[0;34m\u001b[0m\u001b[0;34m\u001b[0m\u001b[0m\n\u001b[0;32m----> 7\u001b[0;31m \u001b[0mDATA\u001b[0m \u001b[0;34m=\u001b[0m \u001b[0mnp\u001b[0m\u001b[0;34m.\u001b[0m\u001b[0mload\u001b[0m\u001b[0;34m(\u001b[0m\u001b[0;34m'%s/chr.%s.deletions.npz'\u001b[0m \u001b[0;34m%\u001b[0m \u001b[0;34m(\u001b[0m\u001b[0mphase_dir\u001b[0m\u001b[0;34m,\u001b[0m \u001b[0mchrom\u001b[0m\u001b[0;34m)\u001b[0m\u001b[0;34m)\u001b[0m\u001b[0;34m\u001b[0m\u001b[0m\n\u001b[0m\u001b[1;32m      8\u001b[0m \u001b[0msnp_positions\u001b[0m \u001b[0;34m=\u001b[0m \u001b[0mDATA\u001b[0m\u001b[0;34m[\u001b[0m\u001b[0;34m'snp_positions'\u001b[0m\u001b[0;34m]\u001b[0m\u001b[0;34m\u001b[0m\u001b[0m\n\u001b[1;32m      9\u001b[0m \u001b[0;34m\u001b[0m\u001b[0m\n",
      "\u001b[0;32m//anaconda/lib/python3.6/site-packages/numpy/lib/npyio.py\u001b[0m in \u001b[0;36mload\u001b[0;34m(file, mmap_mode, allow_pickle, fix_imports, encoding)\u001b[0m\n\u001b[1;32m    368\u001b[0m     \u001b[0mown_fid\u001b[0m \u001b[0;34m=\u001b[0m \u001b[0;32mFalse\u001b[0m\u001b[0;34m\u001b[0m\u001b[0m\n\u001b[1;32m    369\u001b[0m     \u001b[0;32mif\u001b[0m \u001b[0misinstance\u001b[0m\u001b[0;34m(\u001b[0m\u001b[0mfile\u001b[0m\u001b[0;34m,\u001b[0m \u001b[0mbasestring\u001b[0m\u001b[0;34m)\u001b[0m\u001b[0;34m:\u001b[0m\u001b[0;34m\u001b[0m\u001b[0m\n\u001b[0;32m--> 370\u001b[0;31m         \u001b[0mfid\u001b[0m \u001b[0;34m=\u001b[0m \u001b[0mopen\u001b[0m\u001b[0;34m(\u001b[0m\u001b[0mfile\u001b[0m\u001b[0;34m,\u001b[0m \u001b[0;34m\"rb\"\u001b[0m\u001b[0;34m)\u001b[0m\u001b[0;34m\u001b[0m\u001b[0m\n\u001b[0m\u001b[1;32m    371\u001b[0m         \u001b[0mown_fid\u001b[0m \u001b[0;34m=\u001b[0m \u001b[0;32mTrue\u001b[0m\u001b[0;34m\u001b[0m\u001b[0m\n\u001b[1;32m    372\u001b[0m     \u001b[0;32melif\u001b[0m \u001b[0mis_pathlib_path\u001b[0m\u001b[0;34m(\u001b[0m\u001b[0mfile\u001b[0m\u001b[0;34m)\u001b[0m\u001b[0;34m:\u001b[0m\u001b[0;34m\u001b[0m\u001b[0m\n",
      "\u001b[0;31mFileNotFoundError\u001b[0m: [Errno 2] No such file or directory: '../sherlock_phased_ssc/chr.2.deletions.npz'"
     ]
    }
   ],
   "source": [
    "import numpy as np\n",
    "\n",
    "chrom = '2'\n",
    "print('Ddr deletions', [x for x in ddr_dels if x.family in intersect_families and x.chrom == chrom])\n",
    "\n",
    "# pull snp_positions for this chromosome\n",
    "DATA = np.load('%s/chr.%s.deletions.npz' % (phase_dir, chrom))\n",
    "snp_positions = DATA['snp_positions']\n",
    "\n",
    "# add snp_positions from ddr deletions\n",
    "snp_positions = set(snp_positions.tolist())\n",
    "snp_positions = snp_positions | set(sum([[x.start_pos, x.end_pos] for x in ddr_dels \\\n",
    "                                         if x.family in intersect_families and x.chrom == chrom], []))\n",
    "snp_positions = np.asarray(sorted(snp_positions))\n",
    "pos_to_index = dict([(x, i) for i, x in enumerate(snp_positions)])\n",
    "n = snp_positions.shape[0]\n",
    "print('n', n)"
   ]
  },
  {
   "cell_type": "code",
   "execution_count": 64,
   "metadata": {},
   "outputs": [
    {
     "name": "stdout",
     "output_type": "stream",
     "text": [
      "22029 22030\n"
     ]
    }
   ],
   "source": [
    "# load ddr deletions\n",
    "ddr_deletions = np.zeros((m, n))\n",
    "for d in ddr_dels:\n",
    "    if d.family in intersect_families and d.chrom == chrom:\n",
    "        start_index, end_index = pos_to_index[d.start_pos], pos_to_index[d.end_pos]\n",
    "        print(start_index, end_index)\n",
    "        ddr_deletions[sample_id_to_index[d.individual], start_index:(end_index+1)] = 1"
   ]
  },
  {
   "cell_type": "code",
   "execution_count": 63,
   "metadata": {},
   "outputs": [
    {
     "data": {
      "image/png": "[encoded data removed]",
      "text/plain": [
       "<matplotlib.figure.Figure at 0x112a356a0>"
      ]
     },
     "metadata": {},
     "output_type": "display_data"
    }
   ],
   "source": [
    "import matplotlib.pyplot as plt\n",
    "\n",
    "plt.figure(figsize=(15, 5))\n",
    "plt.imshow(ddr_deletions, aspect='auto', vmax=2)\n",
    "plt.colorbar()\n",
    "plt.show()"
   ]
  },
  {
   "cell_type": "code",
   "execution_count": null,
   "metadata": {
    "collapsed": true
   },
   "outputs": [],
   "source": []
  }
 ],
 "metadata": {
  "kernelspec": {
   "display_name": "Python 3",
   "language": "python",
   "name": "python3"
  },
  "language_info": {
   "codemirror_mode": {
    "name": "ipython",
    "version": 3
   },
   "file_extension": ".py",
   "mimetype": "text/x-python",
   "name": "python",
   "nbconvert_exporter": "python",
   "pygments_lexer": "ipython3",
   "version": "3.6.1"
  }
 },
 "nbformat": 4,
 "nbformat_minor": 2
}
