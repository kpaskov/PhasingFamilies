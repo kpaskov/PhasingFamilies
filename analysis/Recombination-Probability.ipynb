{
 "cells": [
  {
   "cell_type": "code",
   "execution_count": 6,
   "metadata": {},
   "outputs": [],
   "source": [
    "import numpy as np\n",
    "import matplotlib.pyplot as plt"
   ]
  },
  {
   "cell_type": "code",
   "execution_count": 28,
   "metadata": {},
   "outputs": [],
   "source": [
    "chrom_lengths = {'chr1': 247249719,\n",
    "                 'chr2': 242951149,\n",
    "                 'chr3': 199501827,\n",
    "                 'chr4': 191273063,\n",
    "                 'chr5': 180857866,\n",
    "                 'chr6': 170899992,\n",
    "                 'chr7': 158821424,\n",
    "                 'chr8': 146274826,\n",
    "                 'chr9': 140273252,\n",
    "                 'chr10': 135374737,\n",
    "                 'chr11': 134452384,\n",
    "                 'chr12': 132349534,\n",
    "                 'chr13': 114142980,\n",
    "                 'chr14': 106368585,\n",
    "                 'chr15': 100338915,\n",
    "                 'chr16': 88827254,\n",
    "                 'chr17': 78774742,\n",
    "                 'chr18': 76117153,\n",
    "                 'chr19': 63811651,\n",
    "                 'chr20': 62435964,\n",
    "                 'chr21': 46944323,\n",
    "                 'chr22': 49691432}"
   ]
  },
  {
   "cell_type": "code",
   "execution_count": 37,
   "metadata": {},
   "outputs": [
    {
     "name": "stdout",
     "output_type": "stream",
     "text": [
      "endpoints 616786\n"
     ]
    }
   ],
   "source": [
    "endpoints = set([(k, v) for k, v in chrom_lengths.items()] + [(k, 0) for k in chrom_lengths.keys()])\n",
    "\n",
    "with open('../data/DECODE/DECODE_Recombination_Events_Paternal_01OCT2013.txt', 'r') as f:\n",
    "    next(f) # skip header\n",
    "    for line in f:\n",
    "        pieces = line.strip().split()\n",
    "        if pieces[0] != 'chrX':\n",
    "            endpoints.add((pieces[0], int(pieces[1])-1))\n",
    "            endpoints.add((pieces[0], int(pieces[1])))\n",
    "            endpoints.add((pieces[0], int(pieces[2])-1))\n",
    "            endpoints.add((pieces[0], int(pieces[2])))\n",
    "\n",
    "endpoints = sorted(endpoints)\n",
    "endpoint_to_index = dict([(x, i) for i, x in enumerate(endpoints)])\n",
    "print('endpoints', len(endpoints))"
   ]
  },
  {
   "cell_type": "code",
   "execution_count": 41,
   "metadata": {},
   "outputs": [],
   "source": [
    "recomb_prob = np.zeros((len(endpoints),))\n",
    "with open('../data/DECODE/DECODE_Recombination_Events_Paternal_01OCT2013.txt', 'r') as f:\n",
    "    next(f) # skip header\n",
    "    for line in f:\n",
    "        pieces = line.strip().split()\n",
    "        if pieces[0] != 'chrX':\n",
    "            start_pos, end_pos = int(pieces[1]), int(pieces[2])\n",
    "            recomb_prob[endpoint_to_index[(pieces[0], start_pos)]:(endpoint_to_index[(pieces[0], end_pos)])] += 1/(end_pos-start_pos)\n",
    "\n",
    "#recomb_prob = recomb_prob/41745 # from paper - the number of meioses\n",
    "recomb_prob = recomb_prob/30184"
   ]
  },
  {
   "cell_type": "code",
   "execution_count": 42,
   "metadata": {},
   "outputs": [
    {
     "name": "stdout",
     "output_type": "stream",
     "text": [
      "genome length 2867732772\n"
     ]
    }
   ],
   "source": [
    "genome_length = sum(chrom_lengths.values())\n",
    "print('genome length', genome_length)"
   ]
  },
  {
   "cell_type": "code",
   "execution_count": 43,
   "metadata": {},
   "outputs": [
    {
     "name": "stdout",
     "output_type": "stream",
     "text": [
      "-8.578163698218093\n"
     ]
    }
   ],
   "source": [
    "current_spot = 0\n",
    "for i in np.argsort(recomb_prob[:-1]):\n",
    "    if endpoints[i][0] == endpoints[i+1][0]:\n",
    "        # not in a chromosome break\n",
    "        current_spot += endpoints[i+1][1]-endpoints[i][1]\n",
    "        if current_spot > genome_length/2:\n",
    "            print(np.log10(recomb_prob[i]))\n",
    "            break"
   ]
  },
  {
   "cell_type": "code",
   "execution_count": 10,
   "metadata": {},
   "outputs": [
    {
     "data": {
      "text/plain": [
       "1.512832623158528e-08"
      ]
     },
     "execution_count": 10,
     "metadata": {},
     "output_type": "execute_result"
    }
   ],
   "source": [
    "np.median(recomb_prob)"
   ]
  },
  {
   "cell_type": "code",
   "execution_count": null,
   "metadata": {},
   "outputs": [],
   "source": []
  }
 ],
 "metadata": {
  "kernelspec": {
   "display_name": "Python 3",
   "language": "python",
   "name": "python3"
  },
  "language_info": {
   "codemirror_mode": {
    "name": "ipython",
    "version": 3
   },
   "file_extension": ".py",
   "mimetype": "text/x-python",
   "name": "python",
   "nbconvert_exporter": "python",
   "pygments_lexer": "ipython3",
   "version": "3.7.3"
  }
 },
 "nbformat": 4,
 "nbformat_minor": 2
}
