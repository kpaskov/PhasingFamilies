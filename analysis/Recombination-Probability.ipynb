{
 "cells": [
  {
   "cell_type": "code",
   "execution_count": 2,
   "metadata": {},
   "outputs": [],
   "source": [
    "import numpy as np\n",
    "import matplotlib.pyplot as plt"
   ]
  },
  {
   "cell_type": "code",
   "execution_count": 3,
   "metadata": {},
   "outputs": [],
   "source": [
    "chrom_lengths = {'chr1': 247249719,\n",
    "                 'chr2': 242951149,\n",
    "                 'chr3': 199501827,\n",
    "                 'chr4': 191273063,\n",
    "                 'chr5': 180857866,\n",
    "                 'chr6': 170899992,\n",
    "                 'chr7': 158821424,\n",
    "                 'chr8': 146274826,\n",
    "                 'chr9': 140273252,\n",
    "                 'chr10': 135374737,\n",
    "                 'chr11': 134452384,\n",
    "                 'chr12': 132349534,\n",
    "                 'chr13': 114142980,\n",
    "                 'chr14': 106368585,\n",
    "                 'chr15': 100338915,\n",
    "                 'chr16': 88827254,\n",
    "                 'chr17': 78774742,\n",
    "                 'chr18': 76117153,\n",
    "                 'chr19': 63811651,\n",
    "                 'chr20': 62435964,\n",
    "                 'chr21': 46944323,\n",
    "                 'chr22': 49691432}"
   ]
  },
  {
   "cell_type": "code",
   "execution_count": 4,
   "metadata": {},
   "outputs": [
    {
     "name": "stdout",
     "output_type": "stream",
     "text": [
      "endpoints 967883\n"
     ]
    }
   ],
   "source": [
    "endpoints = set([(k, v) for k, v in chrom_lengths.items()] + [(k, 0) for k in chrom_lengths.keys()])\n",
    "\n",
    "with open('../data/DECODE/DECODE_Recombination_Events_Maternal_01OCT2013.txt', 'r') as f:\n",
    "    next(f) # skip header\n",
    "    for line in f:\n",
    "        pieces = line.strip().split()\n",
    "        if pieces[0] != 'chrX':\n",
    "            endpoints.add((pieces[0], int(pieces[1])-1))\n",
    "            endpoints.add((pieces[0], int(pieces[1])))\n",
    "            endpoints.add((pieces[0], int(pieces[2])-1))\n",
    "            endpoints.add((pieces[0], int(pieces[2])))\n",
    "            \n",
    "with open('../data/DECODE/DECODE_Recombination_Events_Paternal_01OCT2013.txt', 'r') as f:\n",
    "    next(f) # skip header\n",
    "    for line in f:\n",
    "        pieces = line.strip().split()\n",
    "        if pieces[0] != 'chrX':\n",
    "            endpoints.add((pieces[0], int(pieces[1])-1))\n",
    "            endpoints.add((pieces[0], int(pieces[1])))\n",
    "            endpoints.add((pieces[0], int(pieces[2])-1))\n",
    "            endpoints.add((pieces[0], int(pieces[2])))\n",
    "\n",
    "endpoints = sorted(endpoints)\n",
    "endpoint_to_index = dict([(x, i) for i, x in enumerate(endpoints)])\n",
    "print('endpoints', len(endpoints))"
   ]
  },
  {
   "cell_type": "code",
   "execution_count": 5,
   "metadata": {},
   "outputs": [],
   "source": [
    "# endpoints, mat/pat\n",
    "recomb_prob = np.zeros((len(endpoints), 2))\n",
    "with open('../data/DECODE/DECODE_Recombination_Events_Maternal_01OCT2013.txt', 'r') as f:\n",
    "    next(f) # skip header\n",
    "    for line in f:\n",
    "        pieces = line.strip().split()\n",
    "        if pieces[0] != 'chrX':\n",
    "            start_pos, end_pos = int(pieces[1]), int(pieces[2])\n",
    "            recomb_prob[endpoint_to_index[(pieces[0], start_pos)]:(endpoint_to_index[(pieces[0], end_pos)]), 0] += 1/(end_pos-start_pos)\n",
    "\n",
    "with open('../data/DECODE/DECODE_Recombination_Events_Paternal_01OCT2013.txt', 'r') as f:\n",
    "    next(f) # skip header\n",
    "    for line in f:\n",
    "        pieces = line.strip().split()\n",
    "        if pieces[0] != 'chrX':\n",
    "            start_pos, end_pos = int(pieces[1]), int(pieces[2])\n",
    "            recomb_prob[endpoint_to_index[(pieces[0], start_pos)]:(endpoint_to_index[(pieces[0], end_pos)]), 1] += 1/(end_pos-start_pos)\n",
    "\n",
    "recomb_prob[:, 0] = recomb_prob[:, 0]/41745 # from paper - the number of meioses\n",
    "recomb_prob[:, 1] = recomb_prob[:, 1]/30184"
   ]
  },
  {
   "cell_type": "code",
   "execution_count": 6,
   "metadata": {},
   "outputs": [
    {
     "name": "stdout",
     "output_type": "stream",
     "text": [
      "genome length 2867732772\n"
     ]
    }
   ],
   "source": [
    "genome_length = sum(chrom_lengths.values())\n",
    "print('genome length', genome_length)"
   ]
  },
  {
   "cell_type": "code",
   "execution_count": 38,
   "metadata": {},
   "outputs": [
    {
     "name": "stdout",
     "output_type": "stream",
     "text": [
      "8.219091120540256\n",
      "8.578163698218093\n"
     ]
    }
   ],
   "source": [
    "current_spot = 0\n",
    "for i in np.argsort(recomb_prob[:-1, 0]):\n",
    "    if endpoints[i][0] == endpoints[i+1][0]:\n",
    "        # not in a chromosome break\n",
    "        current_spot += (endpoints[i+1][1]-endpoints[i][1])\n",
    "        if current_spot > genome_length/2:\n",
    "            print(-np.log10(recomb_prob[i, 0]))\n",
    "            break\n",
    "            \n",
    "current_spot = 0\n",
    "for i in np.argsort(recomb_prob[:-1, 1]):\n",
    "    if endpoints[i][0] == endpoints[i+1][0]:\n",
    "        # not in a chromosome break\n",
    "        current_spot += (endpoints[i+1][1]-endpoints[i][1])\n",
    "        if current_spot > genome_length/2:\n",
    "            print(-np.log10(recomb_prob[i, 1]))\n",
    "            break"
   ]
  },
  {
   "cell_type": "code",
   "execution_count": 42,
   "metadata": {},
   "outputs": [],
   "source": [
    "chrom = 'chr5'\n",
    "is_in_chrom = np.array([c==chrom for c, p in endpoints])\n",
    "pos = np.array([p for c, p in endpoints if c==chrom])"
   ]
  },
  {
   "cell_type": "code",
   "execution_count": 46,
   "metadata": {},
   "outputs": [
    {
     "name": "stdout",
     "output_type": "stream",
     "text": [
      "[        1   6001979   6001980 ... 241912790 241912791 247249720]\n"
     ]
    }
   ],
   "source": [
    "print(pos)"
   ]
  },
  {
   "cell_type": "code",
   "execution_count": 73,
   "metadata": {},
   "outputs": [
    {
     "data": {
      "image/png": "[encoded data removed]",
      "text/plain": [
       "<Figure size 432x288 with 1 Axes>"
      ]
     },
     "metadata": {
      "needs_background": "light"
     },
     "output_type": "display_data"
    }
   ],
   "source": [
    "chrom = 'chr1'\n",
    "is_in_chrom = np.array([c==chrom for c, p in endpoints]) & (np.sum(recomb_prob, axis=1)>0)\n",
    "pos = np.array([p for i, (c, p) in enumerate(endpoints) if is_in_chrom[i]])\n",
    "\n",
    "plt.plot(pos, np.log10(np.clip(recomb_prob[is_in_chrom][np.argsort(recomb_prob[is_in_chrom][:, 0]), 0], 10**-11, 1)))\n",
    "plt.plot(pos, np.log10(np.clip(recomb_prob[is_in_chrom][np.argsort(recomb_prob[is_in_chrom][:, 1]), 1], 10**-11, 1)))\n",
    "\n",
    "plt.show()"
   ]
  },
  {
   "cell_type": "code",
   "execution_count": 10,
   "metadata": {},
   "outputs": [
    {
     "data": {
      "text/plain": [
       "1.512832623158528e-08"
      ]
     },
     "execution_count": 10,
     "metadata": {},
     "output_type": "execute_result"
    }
   ],
   "source": [
    "-np.log10(np.median(recomb_prob))"
   ]
  },
  {
   "cell_type": "code",
   "execution_count": null,
   "metadata": {},
   "outputs": [],
   "source": []
  }
 ],
 "metadata": {
  "kernelspec": {
   "display_name": "Python 3",
   "language": "python",
   "name": "python3"
  },
  "language_info": {
   "codemirror_mode": {
    "name": "ipython",
    "version": 3
   },
   "file_extension": ".py",
   "mimetype": "text/x-python",
   "name": "python",
   "nbconvert_exporter": "python",
   "pygments_lexer": "ipython3",
   "version": "3.7.3"
  }
 },
 "nbformat": 4,
 "nbformat_minor": 2
}
