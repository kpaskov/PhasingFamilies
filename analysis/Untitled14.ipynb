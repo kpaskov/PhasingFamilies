{
 "cells": [
  {
   "cell_type": "code",
   "execution_count": 80,
   "metadata": {},
   "outputs": [],
   "source": [
    "import os\n",
    "import json\n",
    "from collections import defaultdict\n",
    "import matplotlib.pyplot as plt\n",
    "import numpy as np\n",
    "import scipy.stats as stats\n",
    "import scipy.optimize as opt\n",
    "from itertools import combinations, compress, product\n",
    "import csv\n",
    "import datetime\n",
    "import statsmodels.api as sm\n",
    "from statsmodels.genmod.families import Poisson\n",
    "import statsmodels.api as sm\n",
    "import random\n",
    "from numpyencoder import NumpyEncoder\n",
    "from sklearn.neighbors.kde import KernelDensity\n",
    "import math\n",
    "import cvxpy as cp"
   ]
  },
  {
   "cell_type": "code",
   "execution_count": 81,
   "metadata": {},
   "outputs": [],
   "source": [
    "with open('../recomb_ihart.ms2/gene_conversions.json', 'r') as f:\n",
    "    crossovers = json.load(f)"
   ]
  },
  {
   "cell_type": "code",
   "execution_count": 82,
   "metadata": {},
   "outputs": [],
   "source": [
    "with open('../recomb_ihart.ms2/sibpairs.json', 'r') as f:\n",
    "    sibpairs = json.load(f)"
   ]
  },
  {
   "cell_type": "code",
   "execution_count": 83,
   "metadata": {},
   "outputs": [
    {
     "name": "stdout",
     "output_type": "stream",
     "text": [
      "ped loaded\n",
      "children 2635\n"
     ]
    }
   ],
   "source": [
    "ped_file = '../../DATA/ihart.ms2/ihart.ped.quads.ped'\n",
    "# pull affected status\n",
    "# (0=unknown; 1=unaffected; 2=affected)\n",
    "child_id_to_affected = dict()\n",
    "child_id_to_sex = dict()\n",
    "with open(ped_file, 'r') as f:\n",
    "    for line in f:\n",
    "        pieces = line.strip().split('\\t')\n",
    "        if len(pieces) >= 6:\n",
    "            fam_id, child_id, f_id, m_id, sex, disease_status = pieces[0:6]\n",
    "            if 'ssc' in ped_file:\n",
    "                child_id = child_id.replace('.', '_')\n",
    "            child_id_to_affected[child_id] = disease_status\n",
    "            child_id_to_sex[child_id] = sex\n",
    "\n",
    "\n",
    "print('ped loaded')\n",
    "print('children', len(child_id_to_affected))\n",
    "\n",
    "\n"
   ]
  },
  {
   "cell_type": "code",
   "execution_count": 99,
   "metadata": {},
   "outputs": [],
   "source": [
    "chroms = sorted(set([x['chrom'] for x in crossovers]))\n",
    "chrom_mat_to_index = dict([(x, i) for i, x in enumerate(chroms)])"
   ]
  },
  {
   "cell_type": "code",
   "execution_count": 100,
   "metadata": {},
   "outputs": [],
   "source": [
    "\n",
    "X = np.zeros((len(sibpairs), len(chroms)))\n",
    "sibpair_to_index = dict([((x['sibling2'], x['sibling1']), i) for i, x in enumerate(sibpairs)])\n",
    "for co in crossovers:\n",
    "    X[sibpair_to_index[tuple(co['child'])], chrom_mat_to_index[co['chrom']]] += 1\n",
    "    \n",
    "X = sm.add_constant(X)"
   ]
  },
  {
   "cell_type": "code",
   "execution_count": 101,
   "metadata": {},
   "outputs": [],
   "source": [
    "num_aff = np.array([int(child_id_to_affected[x['sibling1']]=='2')+int(child_id_to_affected[x['sibling2']]=='2') for x in sibpairs])\n",
    "num_male = np.array([int(child_id_to_sex[x['sibling1']]=='1')+int(child_id_to_sex[x['sibling2']]=='1') for x in sibpairs])\n"
   ]
  },
  {
   "cell_type": "code",
   "execution_count": 104,
   "metadata": {},
   "outputs": [
    {
     "name": "stdout",
     "output_type": "stream",
     "text": [
      "Optimization terminated successfully.\n",
      "         Current function value: 0.637197\n",
      "         Iterations 5\n",
      "                           Logit Regression Results                           \n",
      "==============================================================================\n",
      "Dep. Variable:                      y   No. Observations:                  935\n",
      "Model:                          Logit   Df Residuals:                      911\n",
      "Method:                           MLE   Df Model:                           23\n",
      "Date:                Thu, 24 Mar 2022   Pseudo R-squ.:                 0.01354\n",
      "Time:                        16:04:37   Log-Likelihood:                -595.78\n",
      "converged:                       True   LL-Null:                       -603.96\n",
      "Covariance Type:            nonrobust   LLR p-value:                    0.8396\n",
      "==============================================================================\n",
      "                 coef    std err          z      P>|z|      [0.025      0.975]\n",
      "------------------------------------------------------------------------------\n",
      "const          0.9846      0.264      3.724      0.000       0.466       1.503\n",
      "1             -0.0291      0.044     -0.655      0.513      -0.116       0.058\n",
      "10            -0.0060      0.044     -0.136      0.892      -0.092       0.080\n",
      "11            -0.0078      0.049     -0.159      0.874      -0.103       0.088\n",
      "12            -0.0284      0.049     -0.584      0.559      -0.124       0.067\n",
      "13             0.0298      0.063      0.476      0.634      -0.093       0.152\n",
      "14             0.0428      0.052      0.829      0.407      -0.058       0.144\n",
      "15             0.0136      0.053      0.260      0.795      -0.089       0.117\n",
      "16            -0.0010      0.057     -0.018      0.985      -0.113       0.111\n",
      "17            -0.0035      0.054     -0.065      0.948      -0.109       0.102\n",
      "18            -0.0240      0.065     -0.372      0.710      -0.150       0.102\n",
      "19            -0.1081      0.055     -1.948      0.051      -0.217       0.001\n",
      "2             -0.0364      0.043     -0.851      0.395      -0.120       0.047\n",
      "20             0.0395      0.068      0.578      0.563      -0.094       0.173\n",
      "21            -0.0297      0.074     -0.402      0.688      -0.174       0.115\n",
      "22            -0.0187      0.067     -0.279      0.780      -0.150       0.113\n",
      "3              0.0344      0.041      0.841      0.400      -0.046       0.114\n",
      "4              0.0890      0.051      1.729      0.084      -0.012       0.190\n",
      "5             -0.0541      0.047     -1.144      0.253      -0.147       0.039\n",
      "6             -0.0032      0.037     -0.086      0.931      -0.076       0.070\n",
      "7             -0.0686      0.044     -1.574      0.115      -0.154       0.017\n",
      "8             -0.0054      0.058     -0.092      0.926      -0.119       0.109\n",
      "9              0.0388      0.058      0.675      0.500      -0.074       0.152\n",
      "X             -0.0401      0.071     -0.566      0.572      -0.179       0.099\n",
      "==============================================================================\n"
     ]
    }
   ],
   "source": [
    "indices = ((num_aff==2) | (num_aff==1)) & (num_male==2)\n",
    "model = sm.Logit(num_aff[indices]==2, X[indices, :])\n",
    "results = model.fit()\n",
    "model.exog_names[:] = ['const'] + chroms\n",
    "print(results.summary())"
   ]
  },
  {
   "cell_type": "code",
   "execution_count": null,
   "metadata": {},
   "outputs": [],
   "source": [
    "indices = (num_aff==2) | (num_aff==1)\n",
    "model = sm.Logit(num_aff[indices]==2, X[indices, :])\n",
    "results = model.fit()\n",
    "model.exog_names[:] = ['const'] + chroms\n",
    "print(results.summary())"
   ]
  },
  {
   "cell_type": "code",
   "execution_count": 72,
   "metadata": {},
   "outputs": [
    {
     "data": {
      "image/png": "[encoded data removed]",
      "text/plain": [
       "<Figure size 432x288 with 1 Axes>"
      ]
     },
     "metadata": {
      "needs_background": "light"
     },
     "output_type": "display_data"
    },
    {
     "name": "stdout",
     "output_type": "stream",
     "text": [
      "6.0 7.0 7.0\n"
     ]
    }
   ],
   "source": [
    "bins = np.arange(0, 20, 1)\n",
    "\n",
    "plt.hist(X[num_aff==2, 3], alpha=0.5, bins=bins, density=True)\n",
    "plt.hist(X[num_aff==1, 3], alpha=0.5, bins=bins, density=True)\n",
    "plt.hist(X[num_aff==0, 3], alpha=0.5, bins=bins, density=True)\n",
    "plt.show()\n",
    "\n",
    "print(np.median(X[num_aff==2, 3]), np.median(X[num_aff==1, 3]), np.median(X[num_aff==0, 3]))"
   ]
  },
  {
   "cell_type": "code",
   "execution_count": 26,
   "metadata": {},
   "outputs": [
    {
     "name": "stdout",
     "output_type": "stream",
     "text": [
      "[[ 1. 43. 77.]\n",
      " [ 1. 56. 90.]\n",
      " [ 1. 45. 65.]\n",
      " ...\n",
      " [ 1. 49. 77.]\n",
      " [ 1. 58. 66.]\n",
      " [ 1. 60. 86.]]\n"
     ]
    }
   ],
   "source": [
    "print(X)"
   ]
  },
  {
   "cell_type": "code",
   "execution_count": null,
   "metadata": {},
   "outputs": [],
   "source": []
  }
 ],
 "metadata": {
  "kernelspec": {
   "display_name": "Python 3",
   "language": "python",
   "name": "python3"
  },
  "language_info": {
   "codemirror_mode": {
    "name": "ipython",
    "version": 3
   },
   "file_extension": ".py",
   "mimetype": "text/x-python",
   "name": "python",
   "nbconvert_exporter": "python",
   "pygments_lexer": "ipython3",
   "version": "3.7.3"
  }
 },
 "nbformat": 4,
 "nbformat_minor": 2
}
