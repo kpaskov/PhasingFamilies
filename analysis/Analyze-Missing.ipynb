{
 "cells": [
  {
   "cell_type": "code",
   "execution_count": 1,
   "metadata": {},
   "outputs": [
    {
     "name": "stdout",
     "output_type": "stream",
     "text": [
      "4610 1096535\n",
      "4610 1004649\n"
     ]
    }
   ],
   "source": [
    "from os import listdir\n",
    "import gzip\n",
    "import numpy as np\n",
    "from scipy import sparse\n",
    "\n",
    "# load genotypes\n",
    "chrom = 22\n",
    "gen_files = sorted([f for f in listdir('split_gen') if ('chr.%d' % chrom) in f and 'gen.npz' in f])\n",
    "whole_chrom = sparse.hstack([sparse.load_npz('split_gen/%s' % gen_file) for gen_file in gen_files])\n",
    "m, n = whole_chrom.shape\n",
    "print(m, n)\n",
    "\n",
    "# pull indices of snps\n",
    "variant_file = 'split_gen/chr.%d.gen.variants.txt.gz' % chrom\n",
    "snp_indices = []\n",
    "snp_positions_all = []\n",
    "with gzip.open(variant_file, 'rt') as f:\n",
    "    for i, line in enumerate(f):\n",
    "        pieces = line.strip().split('\\t')\n",
    "        if len(pieces[3]) == 1 and len(pieces[4]) == 1 and pieces[3] != '.' and pieces[4] != '.':\n",
    "            snp_indices.append(i)\n",
    "            snp_positions_all.append(int(pieces[1]))\n",
    "snp_positions_all = np.asarray(snp_positions_all)\n",
    "\n",
    "whole_chrom = whole_chrom[:, snp_indices]\n",
    "m, n = whole_chrom.shape\n",
    "print(m, n)"
   ]
  },
  {
   "cell_type": "code",
   "execution_count": 2,
   "metadata": {},
   "outputs": [
    {
     "name": "stdout",
     "output_type": "stream",
     "text": [
      "4610 1004649\n",
      "(4610, 1004649) (4610, 1004649)\n"
     ]
    }
   ],
   "source": [
    "from os import listdir\n",
    "import gzip\n",
    "import numpy as np\n",
    "from scipy import sparse\n",
    "\n",
    "# load dp\n",
    "dp_files = sorted([f for f in listdir('split_dp') if ('chr.%d' % chrom) in f and 'dp.npz' in f])\n",
    "whole_dp = sparse.hstack([sparse.load_npz('split_dp/%s' % dp_file) for dp_file in dp_files])\n",
    "m, n = whole_chrom.shape\n",
    "print(m, n)\n",
    "\n",
    "# pull indices of snps\n",
    "variant_file = 'split_dp/chr.%d.dp.variants.txt.gz' % chrom\n",
    "snp_indices = []\n",
    "snp_positions_all = []\n",
    "with gzip.open(variant_file, 'rt') as f:\n",
    "    for i, line in enumerate(f):\n",
    "        pieces = line.strip().split('\\t')\n",
    "        if len(pieces[3]) == 1 and len(pieces[4]) == 1 and pieces[3] != '.' and pieces[4] != '.':\n",
    "            snp_indices.append(i)\n",
    "            snp_positions_all.append(int(pieces[1]))\n",
    "snp_positions_all = np.asarray(snp_positions_all)\n",
    "\n",
    "whole_dp = whole_dp[:, snp_indices]\n",
    "print(whole_chrom.shape, whole_dp.shape)"
   ]
  },
  {
   "cell_type": "code",
   "execution_count": 3,
   "metadata": {},
   "outputs": [
    {
     "name": "stdout",
     "output_type": "stream",
     "text": [
      "Male 2823 Female 1773\n"
     ]
    }
   ],
   "source": [
    "sample_file = 'split_gen/chr.%d.gen.samples.txt' % chrom\n",
    "with open(sample_file, 'r') as f:\n",
    "    individual_to_index = dict([(x.strip(), i) for i, x in enumerate(f)])\n",
    "\n",
    "ped_file = '160826.ped'\n",
    "# Affection (0=unknown; 1=unaffected; 2=affected)\n",
    "id_to_affected = dict()\n",
    "id_to_sex = dict()\n",
    "with open(ped_file, 'r') as f:\n",
    "    for line in f:\n",
    "        pieces = line.strip().split('\\t')\n",
    "        if len(pieces) >= 6:\n",
    "            fam_id, child_id, f_id, m_id, sex, disease_status = pieces[0:6]\n",
    "            id_to_affected[child_id] = disease_status\n",
    "            id_to_sex[child_id] = sex\n",
    "            id_to_sex[f_id] = '1'\n",
    "            id_to_sex[m_id] = '2'\n",
    "            \n",
    "male_indices = [i for x, i in individual_to_index.items() if x in id_to_sex and id_to_sex[x] == '1']\n",
    "female_indices = [i for x, i in individual_to_index.items() if x in id_to_sex and id_to_sex[x] != '1']\n",
    "print('Male', len(male_indices), 'Female', len(female_indices))"
   ]
  },
  {
   "cell_type": "code",
   "execution_count": 4,
   "metadata": {
    "collapsed": true
   },
   "outputs": [],
   "source": [
    "# Pull cytogenetic coordinates\n",
    "with open('cytoBand.txt', 'r') as f:\n",
    "    xticks, xticklabels = [], []\n",
    "    for line in f:\n",
    "        pieces = line.strip().split()\n",
    "        if pieces[0] == 'chr%s' % chrom:\n",
    "            xticks.append(int(pieces[1]))\n",
    "            xticklabels.append(pieces[3])"
   ]
  },
  {
   "cell_type": "code",
   "execution_count": 5,
   "metadata": {
    "collapsed": true
   },
   "outputs": [],
   "source": [
    "male_missing = np.sum(whole_chrom[male_indices, :]==-1, axis=0)\n",
    "male_het = np.sum(whole_chrom[male_indices, :]==1, axis=0)\n",
    "male_homalt = np.sum(whole_chrom[male_indices, :]==2, axis=0)\n",
    "\n",
    "female_missing = np.sum(whole_chrom[female_indices, :]==-1, axis=0)\n",
    "female_het = np.sum(whole_chrom[female_indices, :]==1, axis=0)\n",
    "female_homalt = np.sum(whole_chrom[female_indices, :]==2, axis=0)\n",
    "\n",
    "total_male = len(male_indices)\n",
    "total_female = len(female_indices)"
   ]
  },
  {
   "cell_type": "code",
   "execution_count": 6,
   "metadata": {},
   "outputs": [
    {
     "name": "stdout",
     "output_type": "stream",
     "text": [
      "7.04781593767\n",
      "(0, 3, 0, 2, 0, 0)\n",
      "(3, 0, 1, 0, 0, 0)\n",
      "(5, 0, 0, 0, 1, 0)\n",
      "(3, 0, 0, 0, 2, 0)\n",
      "(0, 142, 0, 1, 0, 0)\n",
      "(0, 47, 0, 1, 0, 0)\n",
      "(0, 41, 0, 0, 0, 1)\n",
      "(0, 2, 0, 1, 0, 0)\n",
      "(0, 725, 0, 1, 0, 0)\n",
      "(0, 301, 0, 3, 0, 0)\n",
      "(0, 0, 0, 8, 0, 1)\n",
      "(0, 0, 1, 0, 1, 0)\n",
      "(0, 0, 1, 0, 1, 0)\n",
      "8.00164243217\n",
      "8.00168958902\n"
     ]
    }
   ],
   "source": [
    "from scipy.stats import chi2_contingency\n",
    "\n",
    "trans_to_pvalue = dict()\n",
    "\n",
    "male_v_female_missing = np.ones((whole_chrom.shape[1],))\n",
    "male_v_female_gen = np.ones((whole_chrom.shape[1],))\n",
    "male_v_female_both = np.ones((whole_chrom.shape[1],))\n",
    "\n",
    "num_tests = 0\n",
    "for i in range(whole_chrom.shape[1]):\n",
    "    t = (male_missing[0, i], female_missing[0, i], total_male-male_missing[0, i], total_female-female_missing[0, i])\n",
    "    cont = np.asarray([[t[0], t[1]], [t[2], t[3]]])\n",
    "    cont = cont[np.sum(cont, axis=1)>0, :]\n",
    "    if t not in trans_to_pvalue and cont.shape[0]>1 and cont.shape[1]>1:\n",
    "        try:\n",
    "            trans_to_pvalue[t] = chi2_contingency([[t[0], t[1]], [t[2], t[3]]])[1]\n",
    "        except ValueError:\n",
    "            print(t)\n",
    "    if t in trans_to_pvalue:\n",
    "        male_v_female_missing[i] = trans_to_pvalue[t]\n",
    "        num_tests += 1\n",
    "\n",
    "print(-np.log10(0.01/num_tests))\n",
    "\n",
    "num_tests = 0\n",
    "for i in range(whole_chrom.shape[1]):\n",
    "    t = (total_male-male_missing[0, i]-male_het[0, i]-male_homalt[0, i], \n",
    "         total_female-female_missing[0, i]-female_het[0, i]-female_homalt[0, i], \n",
    "         male_het[0, i], female_het[0, i], \n",
    "         male_homalt[0, i], female_homalt[0, i])\n",
    "    \n",
    "    cont = np.asarray([[t[0], t[1]], [t[2], t[3]], [t[4], t[5]]])\n",
    "    cont = cont[np.sum(cont, axis=1)>0, :]\n",
    "    if t not in trans_to_pvalue and cont.shape[0]>1 and cont.shape[1]>1:\n",
    "        try:\n",
    "            trans_to_pvalue[t] = chi2_contingency(cont)[1]\n",
    "        except ValueError:\n",
    "            print(t)\n",
    "    if t in trans_to_pvalue:\n",
    "        male_v_female_gen[i] = trans_to_pvalue[t]\n",
    "        num_tests += 1\n",
    "print(-np.log10(0.01/num_tests))\n",
    "\n",
    "num_tests = 0\n",
    "for i in range(whole_chrom.shape[1]):\n",
    "    t = (total_male-male_missing[0, i]-male_het[0, i]-male_homalt[0, i], \n",
    "         total_female-female_missing[0, i]-female_het[0, i]-female_homalt[0, i], \n",
    "         male_het[0, i], female_het[0, i], \n",
    "         male_homalt[0, i], female_homalt[0, i],\n",
    "         male_missing[0, i], female_missing[0, i])\n",
    "    \n",
    "    cont = np.asarray([[t[0], t[1]], [t[2], t[3]], [t[4], t[5]], [t[6], t[7]]])\n",
    "    cont = cont[np.sum(cont, axis=1)>0, :]\n",
    "    if t not in trans_to_pvalue and cont.shape[0]>1 and cont.shape[1]>1:\n",
    "        try:\n",
    "            trans_to_pvalue[t] = chi2_contingency(cont)[1]\n",
    "        except ValueError:\n",
    "            print(t)\n",
    "    if t in trans_to_pvalue:\n",
    "        male_v_female_both[i] = trans_to_pvalue[t]\n",
    "        num_tests += 1\n",
    "print(-np.log10(0.01/num_tests))\n"
   ]
  },
  {
   "cell_type": "code",
   "execution_count": 7,
   "metadata": {},
   "outputs": [
    {
     "name": "stderr",
     "output_type": "stream",
     "text": [
      "//anaconda/lib/python3.6/site-packages/ipykernel_launcher.py:5: RuntimeWarning: divide by zero encountered in log10\n",
      "  \"\"\"\n",
      "//anaconda/lib/python3.6/site-packages/ipykernel_launcher.py:6: RuntimeWarning: divide by zero encountered in log10\n",
      "  \n"
     ]
    },
    {
     "data": {
      "image/png": "[encoded data removed]",
      "text/plain": [
       "<matplotlib.figure.Figure at 0x10f43d048>"
      ]
     },
     "metadata": {},
     "output_type": "display_data"
    }
   ],
   "source": [
    "import matplotlib.pyplot as plt\n",
    "plt.figure(figsize=(15, 5))\n",
    "\n",
    "plt.subplot(2, 1, 1)\n",
    "plt.plot(snp_positions_all, -np.log10(male_v_female_missing), alpha=0.5, label='male-female missing')\n",
    "plt.plot(snp_positions_all, -np.log10(male_v_female_gen), alpha=0.5, label='male-female gen')\n",
    "#plt.plot(snp_positions_all, -np.log10(male_v_female_both), alpha=0.5, label='male-female both')\n",
    "\n",
    "plt.axhline(y=-np.log10(0.01/(num_tests*6*100)), linewidth=1, linestyle='--', color='r')\n",
    "plt.ylim(0, 50)\n",
    "plt.xticks(xticks, xticklabels, rotation='vertical')\n",
    "plt.legend()\n",
    "\n",
    "plt.subplot(2, 1, 2)\n",
    "plt.plot(snp_positions_all, np.ravel(male_missing)/total_male - np.ravel(female_missing)/total_female, alpha=0.5, label='male-female')\n",
    "\n",
    "plt.xticks(xticks, xticklabels, rotation='vertical')\n",
    "plt.legend()\n",
    "\n",
    "plt.show()"
   ]
  },
  {
   "cell_type": "code",
   "execution_count": 51,
   "metadata": {},
   "outputs": [
    {
     "name": "stdout",
     "output_type": "stream",
     "text": [
      "21\n",
      "[(36725, 36734), (136509, 136527), (136528, 136547), (136549, 136563), (136589, 136598), (136604, 136664), (136669, 136698), (136699, 136704), (136713, 136746), (136750, 136755), (136758, 136783), (136785, 136804), (136805, 136810), (136814, 136821), (258374, 258391), (351958, 352001), (707706, 707711), (707725, 707734), (746996, 747001), (793562, 793571), (793573, 793579)]\n"
     ]
    },
    {
     "name": "stderr",
     "output_type": "stream",
     "text": [
      "//anaconda/lib/python3.6/site-packages/ipykernel_launcher.py:2: RuntimeWarning: divide by zero encountered in log10\n",
      "  \n",
      "//anaconda/lib/python3.6/site-packages/ipykernel_launcher.py:3: RuntimeWarning: divide by zero encountered in log10\n",
      "  This is separate from the ipykernel package so we can avoid doing imports until\n"
     ]
    }
   ],
   "source": [
    "plt.figure(figsize=(15, 5))\n",
    "is_sig = -np.log10(male_v_female_both) >= 15\n",
    "all_sig = -np.log10(male_v_female_both) >= 15\n",
    "for i in range(2):\n",
    "    all_sig[np.where(is_sig[(i+1):])[0]] = True\n",
    "    all_sig[(i+1) + np.where(is_sig[:-(i+1)])[0]] = True\n",
    "    \n",
    "peaks = list(zip(np.where(~all_sig[:-1] & all_sig[1:])[0], np.where(all_sig[:-1] & ~all_sig[1:])[0]))\n",
    "print(len(peaks))\n",
    "print(peaks)"
   ]
  },
  {
   "cell_type": "code",
   "execution_count": 64,
   "metadata": {
    "scrolled": false
   },
   "outputs": [
    {
     "name": "stdout",
     "output_type": "stream",
     "text": [
      "136758 136783\n",
      "11187531 11187817\n",
      "64.7614314611\n",
      "[[1144 1182]\n",
      " [   1    1]\n",
      " [   0    0]\n",
      " [1678  590]]\n",
      "[[  4.05242650e-01   6.66666667e-01]\n",
      " [  3.54233085e-04   5.64015792e-04]\n",
      " [  0.00000000e+00   0.00000000e+00]\n",
      " [  5.94403117e-01   3.32769318e-01]]\n",
      "228.717060252\n",
      "[[ 461 1119]\n",
      " [   1    2]\n",
      " [   1    1]\n",
      " [2360  651]]\n",
      "[[  1.63301452e-01   6.31133672e-01]\n",
      " [  3.54233085e-04   1.12803158e-03]\n",
      " [  3.54233085e-04   5.64015792e-04]\n",
      " [  8.35990081e-01   3.67174281e-01]]\n",
      "244.680494484\n",
      "[[ 322 1025]\n",
      " [   2    2]\n",
      " [   1    0]\n",
      " [2498  746]]\n",
      "[[  1.14063053e-01   5.78116187e-01]\n",
      " [  7.08466171e-04   1.12803158e-03]\n",
      " [  3.54233085e-04   0.00000000e+00]\n",
      " [  8.84874247e-01   4.20755781e-01]]\n",
      "61.0981653419\n",
      "[[ 132  365]\n",
      " [ 863  440]\n",
      " [ 125   73]\n",
      " [1703  895]]\n",
      "[[ 0.04675877  0.20586576]\n",
      " [ 0.30570315  0.24816695]\n",
      " [ 0.04427914  0.04117315]\n",
      " [ 0.60325894  0.50479413]]\n",
      "52.6125515529\n",
      "[[  67  255]\n",
      " [   1    2]\n",
      " [   0    0]\n",
      " [2755 1516]]\n",
      "[[  2.37336167e-02   1.43824027e-01]\n",
      " [  3.54233085e-04   1.12803158e-03]\n",
      " [  0.00000000e+00   0.00000000e+00]\n",
      " [  9.75912150e-01   8.55047941e-01]]\n",
      "61.0406117678\n",
      "[[ 337  570]\n",
      " [   1    1]\n",
      " [   0    0]\n",
      " [2485 1202]]\n",
      "[[  1.19376550e-01   3.21489002e-01]\n",
      " [  3.54233085e-04   5.64015792e-04]\n",
      " [  0.00000000e+00   0.00000000e+00]\n",
      " [  8.80269217e-01   6.77946983e-01]]\n",
      "19.7890025554\n",
      "[[ 106  190]\n",
      " [   2    5]\n",
      " [   0    0]\n",
      " [2715 1578]]\n",
      "[[  3.75487070e-02   1.07163001e-01]\n",
      " [  7.08466171e-04   2.82007896e-03]\n",
      " [  0.00000000e+00   0.00000000e+00]\n",
      " [  9.61742827e-01   8.90016920e-01]]\n",
      "17.65351309\n",
      "[[ 110  181]\n",
      " [   5   12]\n",
      " [   0    0]\n",
      " [2708 1580]]\n",
      "[[ 0.03896564  0.10208686]\n",
      " [ 0.00177117  0.00676819]\n",
      " [ 0.          0.        ]\n",
      " [ 0.9592632   0.89114495]]\n",
      "147.806718756\n",
      "[[ 612 1058]\n",
      " [   2    2]\n",
      " [   0    0]\n",
      " [2209  713]]\n",
      "[[  2.16790648e-01   5.96728708e-01]\n",
      " [  7.08466171e-04   1.12803158e-03]\n",
      " [  0.00000000e+00   0.00000000e+00]\n",
      " [  7.82500886e-01   4.02143260e-01]]\n",
      "18.0890465401\n",
      "[[ 111  191]\n",
      " [   2    2]\n",
      " [   0    0]\n",
      " [2710 1580]]\n",
      "[[  3.93198725e-02   1.07727016e-01]\n",
      " [  7.08466171e-04   1.12803158e-03]\n",
      " [  0.00000000e+00   0.00000000e+00]\n",
      " [  9.59971661e-01   8.91144952e-01]]\n",
      "18.2787320929\n",
      "[[ 107  188]\n",
      " [   2    1]\n",
      " [   0    0]\n",
      " [2714 1584]]\n",
      "[[  3.79029401e-02   1.06034969e-01]\n",
      " [  7.08466171e-04   5.64015792e-04]\n",
      " [  0.00000000e+00   0.00000000e+00]\n",
      " [  9.61388594e-01   8.93401015e-01]]\n",
      "16.6619449585\n",
      "[[ 124  198]\n",
      " [  25   15]\n",
      " [   0    0]\n",
      " [2674 1560]]\n",
      "[[ 0.0439249   0.11167513]\n",
      " [ 0.00885583  0.00846024]\n",
      " [ 0.          0.        ]\n",
      " [ 0.94721927  0.87986464]]\n",
      "60.3442982406\n",
      "[[1466 1353]\n",
      " [   0    2]\n",
      " [   0    0]\n",
      " [1357  418]]\n",
      "[[ 0.5193057   0.76311337]\n",
      " [ 0.          0.00112803]\n",
      " [ 0.          0.        ]\n",
      " [ 0.4806943   0.2357586 ]]\n",
      "inf\n",
      "[[  66 1214]\n",
      " [  11   15]\n",
      " [   0    0]\n",
      " [2746  544]]\n",
      "[[ 0.02337938  0.68471517]\n",
      " [ 0.00389656  0.00846024]\n",
      " [ 0.          0.        ]\n",
      " [ 0.97272405  0.30682459]]\n",
      "inf\n",
      "[[   7 1395]\n",
      " [   4    4]\n",
      " [   0    0]\n",
      " [2812  374]]\n",
      "[[ 0.00247963  0.78680203]\n",
      " [ 0.00141693  0.00225606]\n",
      " [ 0.          0.        ]\n",
      " [ 0.99610344  0.21094191]]\n"
     ]
    },
    {
     "name": "stderr",
     "output_type": "stream",
     "text": [
      "//anaconda/lib/python3.6/site-packages/ipykernel_launcher.py:16: RuntimeWarning: divide by zero encountered in log10\n",
      "  app.launch_new_instance()\n"
     ]
    },
    {
     "data": {
      "image/png": "[encoded data removed]",
      "text/plain": [
       "<matplotlib.figure.Figure at 0x1258b9048>"
      ]
     },
     "metadata": {},
     "output_type": "display_data"
    }
   ],
   "source": [
    "peak_index = 10\n",
    "start_index, stop_index = peaks[peak_index]\n",
    "start_pos, end_pos = snp_positions_all[start_index], snp_positions_all[stop_index]\n",
    "print(start_index, stop_index)\n",
    "print(start_pos, end_pos)\n",
    "\n",
    "for i in range(start_index, stop_index+1):\n",
    "    if is_sig[i]:\n",
    "        t = (total_male-male_missing[0, i]-male_het[0, i]-male_homalt[0, i], \n",
    "             total_female-female_missing[0, i]-female_het[0, i]-female_homalt[0, i], \n",
    "            male_het[0, i], female_het[0, i], \n",
    "             male_homalt[0, i], female_homalt[0, i],\n",
    "            male_missing[0, i], female_missing[0, i])\n",
    "    \n",
    "        cont = np.reshape(t, (4, 2))\n",
    "        print(-np.log10(male_v_female_both[i]))\n",
    "        print(cont)\n",
    "        print(cont/np.sum(cont, axis=0))\n",
    "\n",
    "sig_region = np.zeros((m, end_pos-start_pos+1))\n",
    "sig_region[:, snp_positions_all[start_index:stop_index]-start_pos] = np.outer(np.ones(m,), is_sig[start_index:stop_index])\n",
    "\n",
    "gen_region = np.zeros((m, end_pos-start_pos+1))-1\n",
    "gen_region[:, snp_positions_all[start_index:stop_index]-start_pos] = whole_chrom[:, start_index:stop_index].A\n",
    "\n",
    "dp_region = np.zeros((m, end_pos-start_pos+1))-1\n",
    "dp_region[:, snp_positions_all[start_index:stop_index]-start_pos] = whole_dp[:, start_index:stop_index].A\n",
    "dp_region[dp_region == 0] = 20\n",
    "\n",
    "plt.figure(figsize=(15, 20))\n",
    "\n",
    "plt.subplot(3, 1, 1)\n",
    "plt.imshow(sig_region[female_indices + male_indices, :], aspect='auto')\n",
    "plt.colorbar()\n",
    "\n",
    "plt.subplot(3, 1, 2)\n",
    "plt.imshow(gen_region[female_indices + male_indices, :], aspect='auto')\n",
    "plt.colorbar()\n",
    "\n",
    "#plt.subplot(3, 1, 3)\n",
    "#plt.imshow(dp_region[female_indices + male_indices, :], aspect='auto')\n",
    "#plt.colorbar()\n",
    "\n",
    "plt.show()"
   ]
  },
  {
   "cell_type": "code",
   "execution_count": 54,
   "metadata": {
    "scrolled": true
   },
   "outputs": [
    {
     "name": "stdout",
     "output_type": "stream",
     "text": [
      "(4610, 60)\n"
     ]
    }
   ],
   "source": [
    "print(np.outer(np.ones(m,), is_sig[start_index:stop_index]).shape)"
   ]
  },
  {
   "cell_type": "code",
   "execution_count": null,
   "metadata": {
    "collapsed": true
   },
   "outputs": [],
   "source": []
  }
 ],
 "metadata": {
  "kernelspec": {
   "display_name": "Python 3",
   "language": "python",
   "name": "python3"
  },
  "language_info": {
   "codemirror_mode": {
    "name": "ipython",
    "version": 3
   },
   "file_extension": ".py",
   "mimetype": "text/x-python",
   "name": "python",
   "nbconvert_exporter": "python",
   "pygments_lexer": "ipython3",
   "version": "3.6.1"
  }
 },
 "nbformat": 4,
 "nbformat_minor": 2
}
