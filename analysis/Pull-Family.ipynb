{
 "cells": [
  {
   "cell_type": "code",
   "execution_count": 57,
   "metadata": {
    "collapsed": true
   },
   "outputs": [],
   "source": [
    "from scipy import sparse\n",
    "G = sparse.load_npz('split_gen/chr.17.gen.npz')"
   ]
  },
  {
   "cell_type": "code",
   "execution_count": 58,
   "metadata": {},
   "outputs": [
    {
     "name": "stdout",
     "output_type": "stream",
     "text": [
      "Counter({1: 341129025, 2: 171596517, -1: 39220104})\n",
      "[(1, 0.03336204634311211), (2, 0.016781952085345494), (-1, 0.0038356833671062632)]\n",
      "Nonzero 0.053979681795563866\n"
     ]
    }
   ],
   "source": [
    "from collections import Counter\n",
    "c = Counter(G.data)\n",
    "m, n = G.shape\n",
    "print(c)\n",
    "print([(k, v/(m*n)) for k, v in c.items()])\n",
    "print('Nonzero', sum(c.values())/(m*n))"
   ]
  },
  {
   "cell_type": "code",
   "execution_count": 59,
   "metadata": {},
   "outputs": [
    {
     "name": "stdout",
     "output_type": "stream",
     "text": [
      "4610 2218018\n"
     ]
    }
   ],
   "source": [
    "print(m, n)"
   ]
  },
  {
   "cell_type": "code",
   "execution_count": 60,
   "metadata": {},
   "outputs": [],
   "source": [
    "import numpy as np\n",
    "A = sparse.csc_matrix((m, n))\n",
    "B = G.copy()\n",
    "U = sparse.csc_matrix((m, n))\n",
    "rho = 1\n",
    "lamb = 1"
   ]
  },
  {
   "cell_type": "code",
   "execution_count": 61,
   "metadata": {},
   "outputs": [],
   "source": [
    "from scipy.sparse.linalg import svds, eigs\n",
    "\n",
    "def update_a(B, U, k=5):\n",
    "    ua, sa, vta = svds(G - B - U, k=k)\n",
    "    for i in range(k):\n",
    "        if sa[i] > rho:\n",
    "            sa[i] = sa[i] - rho\n",
    "        else:\n",
    "            break\n",
    "\n",
    "    if i == k:\n",
    "        print('k was too small', sa)\n",
    "        \n",
    "    return \n",
    "\n",
    "    A1 = sparse.csc_matrix(ua[:, :i])\n",
    "    A2 = sparse.csc_matrix(np.diag(sa[:i]).dot(vta[:i, :]))\n",
    "    return A1.dot(A2)"
   ]
  },
  {
   "cell_type": "code",
   "execution_count": 62,
   "metadata": {},
   "outputs": [
    {
     "data": {
      "text/plain": [
       "array([0, 0, 0, ..., 0, 0, 0], dtype=int8)"
      ]
     },
     "execution_count": 62,
     "metadata": {},
     "output_type": "execute_result"
    }
   ],
   "source": [
    "s = np.sign(B.data)\n",
    "np.clip(np.abs(B.data) - (lamb/rho), 0, None, out=B.data)\n",
    "np.multiply(B.data, s, out=B.data)"
   ]
  },
  {
   "cell_type": "code",
   "execution_count": 64,
   "metadata": {},
   "outputs": [],
   "source": [
    "U = U + A + B - G"
   ]
  },
  {
   "cell_type": "code",
   "execution_count": 65,
   "metadata": {},
   "outputs": [],
   "source": [
    "A = update_a(B, U)"
   ]
  },
  {
   "cell_type": "code",
   "execution_count": 56,
   "metadata": {},
   "outputs": [
    {
     "name": "stdout",
     "output_type": "stream",
     "text": [
      "\n"
     ]
    }
   ],
   "source": [
    "print(A)"
   ]
  },
  {
   "cell_type": "code",
   "execution_count": null,
   "metadata": {
    "collapsed": true
   },
   "outputs": [],
   "source": []
  }
 ],
 "metadata": {
  "kernelspec": {
   "display_name": "Python 3",
   "language": "python",
   "name": "python3"
  },
  "language_info": {
   "codemirror_mode": {
    "name": "ipython",
    "version": 3
   },
   "file_extension": ".py",
   "mimetype": "text/x-python",
   "name": "python",
   "nbconvert_exporter": "python",
   "pygments_lexer": "ipython3",
   "version": "3.6.1"
  }
 },
 "nbformat": 4,
 "nbformat_minor": 2
}
