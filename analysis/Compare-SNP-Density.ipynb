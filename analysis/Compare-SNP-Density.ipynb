{
 "cells": [
  {
   "cell_type": "code",
   "execution_count": 1,
   "metadata": {},
   "outputs": [],
   "source": [
    "import numpy as np\n",
    "import scipy.sparse as sparse\n",
    "from os import listdir\n",
    "import matplotlib.pyplot as plt"
   ]
  },
  {
   "cell_type": "code",
   "execution_count": 2,
   "metadata": {},
   "outputs": [],
   "source": [
    "chroms = [str(x) for x in range(1, 23)]\n",
    "data_dir1 = '../split_gen_ihart'\n",
    "data_dir2 = '../split_gen_spark'\n"
   ]
  },
  {
   "cell_type": "code",
   "execution_count": 5,
   "metadata": {},
   "outputs": [
    {
     "name": "stdout",
     "output_type": "stream",
     "text": [
      "1 2 3 4 5 6 7 8 9 10 11 12 13 14 15 16 17 18 19 20 21 22 1 2 3 4 5 6 7 8 9 10 11 12 13 14 15 16 17 18 19 20 21 22 "
     ]
    }
   ],
   "source": [
    "def pull_positions(data_dir):\n",
    "    all_positions = []\n",
    "    for chrom in chroms:\n",
    "        print(chrom, end=' ')\n",
    "    \n",
    "        # pull snp positions\n",
    "        pos_data = np.load('%s/chr.%s.gen.coordinates.npy' % (data_dir, chrom))\n",
    "        is_snp = pos_data[:, 2].astype(bool)\n",
    "        is_pass = pos_data[:, 3].astype(bool)\n",
    "        snp_positions = pos_data[:, 1]\n",
    "        all_positions.append(snp_positions[is_snp & is_pass])\n",
    "    return all_positions\n",
    "\n",
    "all_positions1 = pull_positions(data_dir1)\n",
    "all_positions2 = pull_positions(data_dir2)"
   ]
  },
  {
   "cell_type": "code",
   "execution_count": 30,
   "metadata": {},
   "outputs": [
    {
     "name": "stderr",
     "output_type": "stream",
     "text": [
      "//anaconda3/lib/python3.7/site-packages/ipykernel/__main__.py:8: RuntimeWarning: divide by zero encountered in log10\n",
      "//anaconda3/lib/python3.7/site-packages/ipykernel/__main__.py:9: RuntimeWarning: divide by zero encountered in log10\n"
     ]
    },
    {
     "data": {
      "image/png": "[encoded data removed]",
      "text/plain": [
       "<Figure size 432x288 with 1 Axes>"
      ]
     },
     "metadata": {
      "needs_background": "light"
     },
     "output_type": "display_data"
    }
   ],
   "source": [
    "colors = plt.rcParams['axes.prop_cycle'].by_key()['color']\n",
    "\n",
    "bins = np.arange(0, 8, 0.1)\n",
    "d = np.hstack([all_positions1[i][1:]-all_positions1[i][:-1] for i in range(len(chroms))])\n",
    "plt.hist(np.log10(d), bins=bins, log=True, alpha=0.5, label='iHART')\n",
    "plt.axvline(np.median(np.log10(d)), linestyle='--', color=colors[0])\n",
    "d = np.hstack([all_positions2[i][1:]-all_positions2[i][:-1] for i in range(len(chroms))])\n",
    "plt.hist(np.log10(d), bins=bins, log=True, alpha=0.5, label='SPARK')\n",
    "plt.axvline(np.median(np.log10(d)), linestyle='--', color=colors[1])\n",
    "\n",
    "plt.xticks(np.arange(8), ['$10^%d$' % i for i in np.arange(8)])\n",
    "plt.legend()\n",
    "plt.show()"
   ]
  },
  {
   "cell_type": "code",
   "execution_count": null,
   "metadata": {},
   "outputs": [],
   "source": []
  }
 ],
 "metadata": {
  "kernelspec": {
   "display_name": "Python 3",
   "language": "python",
   "name": "python3"
  },
  "language_info": {
   "codemirror_mode": {
    "name": "ipython",
    "version": 3
   },
   "file_extension": ".py",
   "mimetype": "text/x-python",
   "name": "python",
   "nbconvert_exporter": "python",
   "pygments_lexer": "ipython3",
   "version": "3.7.3"
  }
 },
 "nbformat": 4,
 "nbformat_minor": 2
}
