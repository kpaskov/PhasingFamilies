{
 "cells": [
  {
   "cell_type": "code",
   "execution_count": 64,
   "metadata": {
    "collapsed": true
   },
   "outputs": [],
   "source": [
    "chrom = '22'\n",
    "family_sizes = [5]\n",
    "data_dir = '../split_gen_miss'"
   ]
  },
  {
   "cell_type": "code",
   "execution_count": 65,
   "metadata": {},
   "outputs": [
    {
     "name": "stdout",
     "output_type": "stream",
     "text": [
      "Chrom length 51304566\n"
     ]
    }
   ],
   "source": [
    "import numpy as np\n",
    "\n",
    "# Pull chrom length from cytogenetic coordinates\n",
    "chrom_length = 0\n",
    "xticks, xticklabels = [], []\n",
    "with open('../data/cytoBand.txt', 'r') as f:\n",
    "    for line in f:\n",
    "        pieces = line.strip().split()\n",
    "        if pieces[0] == 'chr%s' % chrom:\n",
    "            xticks.append(int(pieces[1]))\n",
    "            xticklabels.append(pieces[3])\n",
    "            chrom_length = max(chrom_length, int(pieces[1]), int(pieces[2]))\n",
    "print('Chrom length', chrom_length)"
   ]
  },
  {
   "cell_type": "code",
   "execution_count": 66,
   "metadata": {},
   "outputs": [
    {
     "name": "stdout",
     "output_type": "stream",
     "text": [
      "m 12\n"
     ]
    }
   ],
   "source": [
    "from collections import Counter\n",
    "\n",
    "phase_dir = '../phased'\n",
    "# sample_ids\n",
    "families = dict()\n",
    "sample_ids = []\n",
    "for j in family_sizes:\n",
    "    with open('%s/chr.%s.familysize.%d.families.txt' % (phase_dir, chrom, j), 'r')  as famf:\n",
    "        next(famf) # skip header\n",
    "        for line in famf:\n",
    "            pieces = line.strip().split('\\t')\n",
    "            families[pieces[0]] = pieces[1:(1+j)]\n",
    "            sample_ids.extend(pieces[1:(1+j)])\n",
    "            \n",
    "family_to_index = dict([(x, i) for i, x in enumerate(families)])\n",
    "sample_id_to_index = dict([(x, i) for i, x in enumerate(sample_ids)])\n",
    "m = 4*len(family_to_index)\n",
    "print('m', m)"
   ]
  },
  {
   "cell_type": "code",
   "execution_count": 67,
   "metadata": {},
   "outputs": [
    {
     "name": "stdout",
     "output_type": "stream",
     "text": [
      "n 1004649\n"
     ]
    }
   ],
   "source": [
    "from scipy import sparse\n",
    "from os import listdir\n",
    "\n",
    "clean_file = '%s/clean_indices_%s.txt' % (data_dir, chrom) \n",
    "\n",
    "# use only \"cleaned\" variants - must be SNPs and missingness in parents can't be sex-biased\n",
    "snp_indices = []\n",
    "snp_positions = []\n",
    "with open(clean_file, 'r') as f:\n",
    "    for i, line in enumerate(f):\n",
    "        index, position = line.strip().split('\\t')\n",
    "        snp_indices.append(int(index))\n",
    "        snp_positions.append(int(position))\n",
    "snp_positions = np.array(snp_positions)\n",
    "pos_to_index = dict([(x, i) for i, x in enumerate(snp_positions)])\n",
    "\n",
    "n = len(pos_to_index)\n",
    "print('n', n)"
   ]
  },
  {
   "cell_type": "code",
   "execution_count": 68,
   "metadata": {},
   "outputs": [],
   "source": [
    "from collections import defaultdict\n",
    "\n",
    "# load deletions\n",
    "phase_dir = '../phased'\n",
    "deletions1 = np.zeros((m, n), dtype=np.int8)-1\n",
    "inheritance1 = np.zeros((2*len(sample_ids), n), dtype=np.int8)-1 \n",
    "\n",
    "for j in family_sizes:\n",
    "    with open('%s/chr.%s.familysize.%d.families.txt' % (phase_dir, chrom, j), 'r')  as famf, \\\n",
    "    open('%s/chr.%s.familysize.%d.phased.txt' % (phase_dir, chrom, j), 'r')  as phasef:\n",
    "        next(famf) # skip header\n",
    "        next(phasef) # skip header\n",
    "        \n",
    "        fam_pieces = (None,)\n",
    "        \n",
    "        for line in phasef:\n",
    "            pieces = line.strip().split('\\t')\n",
    "            family_key = pieces[0]\n",
    "            state = list(map(int, pieces[1:(1+(j*2))]))\n",
    "            start_pos, end_pos = [int(x) for x in pieces[(1+(j*2)):(3+(j*2))]]\n",
    "            start_index, end_index = pos_to_index[start_pos], pos_to_index[end_pos]\n",
    "            \n",
    "            # make sure we're on the right family\n",
    "            while family_key != fam_pieces[0]:\n",
    "                fam_pieces = next(famf).strip().split('\\t')\n",
    "                fam_individuals = fam_pieces[1:(1+j)]\n",
    "                fam_indices = sum([[2*sample_id_to_index[x], (2*sample_id_to_index[x])+1] for x in fam_individuals[2:]], [])\n",
    "                \n",
    "            if family_key in family_to_index:\n",
    "                deletions1[4*family_to_index[family_key], start_index:(end_index+1)] = state[0]\n",
    "                deletions1[(4*family_to_index[family_key])+1, start_index:(end_index+1)] = state[1]\n",
    "                deletions1[(4*family_to_index[family_key])+2, start_index:(end_index+1)] = state[2]\n",
    "                deletions1[(4*family_to_index[family_key])+3, start_index:(end_index+1)] = state[3]\n",
    "                \n",
    "            inheritance1[fam_indices, start_index:(end_index+1)] = np.tile(state[4:], (end_index-start_index+1, 1)).T"
   ]
  },
  {
   "cell_type": "code",
   "execution_count": 69,
   "metadata": {
    "collapsed": true
   },
   "outputs": [],
   "source": [
    "from collections import defaultdict\n",
    "\n",
    "# load deletions\n",
    "phase_dir = '../phased50'\n",
    "deletions2 = np.zeros((m, n), dtype=np.int8)-1\n",
    "\n",
    "for j in family_sizes:\n",
    "    with open('%s/chr.%s.familysize.%d.families.txt' % (phase_dir, chrom, j), 'r')  as famf, \\\n",
    "    open('%s/chr.%s.familysize.%d.phased.txt' % (phase_dir, chrom, j), 'r')  as phasef:\n",
    "        next(famf) # skip header\n",
    "        next(phasef) # skip header\n",
    "        \n",
    "        fam_pieces = (None,)\n",
    "        \n",
    "        for line in phasef:\n",
    "            pieces = line.strip().split('\\t')\n",
    "            family_key = pieces[0]\n",
    "            state = list(map(int, pieces[1:(1+(j*2))]))\n",
    "            start_pos, end_pos = [int(x) for x in pieces[(1+(j*2)):(3+(j*2))]]\n",
    "            start_index, end_index = pos_to_index[start_pos], pos_to_index[end_pos]\n",
    "            \n",
    "            # make sure we're on the right family\n",
    "            while family_key != fam_pieces[0]:\n",
    "                fam_pieces = next(famf).strip().split('\\t')\n",
    "                fam_individuals = fam_pieces[1:(1+j)]\n",
    "                \n",
    "            if family_key in family_to_index:\n",
    "                deletions2[4*family_to_index[family_key], start_index:(end_index+1)] = state[0]\n",
    "                deletions2[(4*family_to_index[family_key])+1, start_index:(end_index+1)] = state[1]\n",
    "                deletions2[(4*family_to_index[family_key])+2, start_index:(end_index+1)] = state[2]\n",
    "                deletions2[(4*family_to_index[family_key])+3, start_index:(end_index+1)] = state[3]"
   ]
  },
  {
   "cell_type": "code",
   "execution_count": 70,
   "metadata": {},
   "outputs": [
    {
     "data": {
      "image/png": "[encoded data removed]",
      "text/plain": [
       "<Figure size 1080x360 with 1 Axes>"
      ]
     },
     "metadata": {},
     "output_type": "display_data"
    }
   ],
   "source": [
    "import matplotlib.pyplot as plt\n",
    "\n",
    "plt.figure(figsize=(15, 5))\n",
    "plt.imshow(deletions1, aspect='auto', vmax=2, vmin=-1)\n",
    "plt.show()"
   ]
  },
  {
   "cell_type": "code",
   "execution_count": 71,
   "metadata": {},
   "outputs": [
    {
     "data": {
      "image/png": "[encoded data removed]",
      "text/plain": [
       "<Figure size 1080x360 with 1 Axes>"
      ]
     },
     "metadata": {},
     "output_type": "display_data"
    }
   ],
   "source": [
    "plt.figure(figsize=(15, 5))\n",
    "plt.imshow(inheritance1, aspect='auto', vmax=1, vmin=-1)\n",
    "plt.show()"
   ]
  },
  {
   "cell_type": "code",
   "execution_count": 72,
   "metadata": {},
   "outputs": [
    {
     "name": "stdout",
     "output_type": "stream",
     "text": [
      "chrom shape only SNPs 15 1004649\n"
     ]
    }
   ],
   "source": [
    "sample_file = '%s/chr.%s.gen.samples.txt' % (data_dir, chrom)\n",
    "\n",
    "# pull families with sequence data\n",
    "with open(sample_file, 'r') as f:\n",
    "    gen_sample_ids = [line.strip() for line in f]\n",
    "gen_sample_id_to_index = dict([(sample_id, i) for i, sample_id in enumerate(gen_sample_ids)])\n",
    "gen_indices = [gen_sample_id_to_index[x] for x in sample_ids]\n",
    "\n",
    "gen_files = sorted([f for f in listdir(data_dir) if ('chr.%s' % chrom) in f and 'gen.npz' in f])\n",
    "\n",
    "# pull genotype data from .npz\n",
    "whole_chrom = sparse.hstack([sparse.load_npz('%s/%s' % (data_dir, gen_file))[gen_indices, :] for gen_file in gen_files])\n",
    "whole_chrom = whole_chrom[:, snp_indices]\n",
    "m, n = whole_chrom.shape\n",
    "print('chrom shape only SNPs', m, n)"
   ]
  },
  {
   "cell_type": "code",
   "execution_count": 107,
   "metadata": {
    "collapsed": true
   },
   "outputs": [],
   "source": [
    "# pull events\n",
    "anc_index = 2\n",
    "start_indices = np.where((deletions1[anc_index, :-1] == 1) & (deletions1[anc_index, 1:] != 1))[0]+1\n",
    "end_indices = np.where((deletions1[anc_index, :-1] != 1) & (deletions1[anc_index, 1:] == 1))[0]\n"
   ]
  },
  {
   "cell_type": "code",
   "execution_count": 108,
   "metadata": {},
   "outputs": [
    {
     "name": "stdout",
     "output_type": "stream",
     "text": [
      "1853 47006 16099799 17039962\n",
      "45153 940163\n"
     ]
    }
   ],
   "source": [
    "event_index = 0\n",
    "start_index, end_index = start_indices[event_index]-10, end_indices[event_index]+10\n",
    "print(start_index, end_index, snp_positions[start_index], snp_positions[end_index])\n",
    "print(end_index-start_index, snp_positions[end_index]-snp_positions[start_index])"
   ]
  },
  {
   "cell_type": "code",
   "execution_count": 109,
   "metadata": {},
   "outputs": [
    {
     "data": {
      "image/png": "[encoded data removed]",
      "text/plain": [
       "<Figure size 1080x720 with 3 Axes>"
      ]
     },
     "metadata": {},
     "output_type": "display_data"
    }
   ],
   "source": [
    "plt.figure(figsize=(15, 10))\n",
    "\n",
    "plt.subplot(3, 1, 1)\n",
    "plt.imshow(deletions1[:4, start_index:(end_index+1)], aspect='auto', vmax=2, vmin=-1)\n",
    "\n",
    "plt.subplot(3, 1, 2)\n",
    "plt.imshow(inheritance1[:10, start_index:(end_index+1)], aspect='auto', vmax=1, vmin=-1)\n",
    "\n",
    "plt.subplot(3, 1, 3)\n",
    "plt.imshow(whole_chrom[:5, start_index:(end_index+1)].A, aspect='auto', vmax=2, vmin=-1)\n",
    "\n",
    "plt.show()"
   ]
  },
  {
   "cell_type": "code",
   "execution_count": null,
   "metadata": {
    "collapsed": true
   },
   "outputs": [],
   "source": []
  },
  {
   "cell_type": "code",
   "execution_count": null,
   "metadata": {
    "collapsed": true
   },
   "outputs": [],
   "source": []
  }
 ],
 "metadata": {
  "kernelspec": {
   "display_name": "Python 3",
   "language": "python",
   "name": "python3"
  },
  "language_info": {
   "codemirror_mode": {
    "name": "ipython",
    "version": 3
   },
   "file_extension": ".py",
   "mimetype": "text/x-python",
   "name": "python",
   "nbconvert_exporter": "python",
   "pygments_lexer": "ipython3",
   "version": "3.6.1"
  }
 },
 "nbformat": 4,
 "nbformat_minor": 2
}
