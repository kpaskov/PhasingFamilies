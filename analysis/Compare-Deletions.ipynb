{
 "cells": [
  {
   "cell_type": "code",
   "execution_count": 8,
   "metadata": {},
   "outputs": [
    {
     "name": "stdout",
     "output_type": "stream",
     "text": [
      "Num families 450\n",
      "Num individuals 1967\n"
     ]
    }
   ],
   "source": [
    "import gzip\n",
    "\n",
    "# map sample to individual\n",
    "ind_id_to_sample_id = dict()\n",
    "with open('../data/160826.iHART.db.query.csv', 'r') as f:\n",
    "    for line in f:\n",
    "        pieces = line.strip().split(',')\n",
    "        ind_id_to_sample_id[pieces[2]] = pieces[1]\n",
    "        \n",
    "# pull samples present in sv file\n",
    "variant_file = '../other_sv_calls/lumpy_svs/lp.b12_19.vcf.gz'\n",
    "\n",
    "with gzip.open(variant_file, 'rt') as f:\n",
    "    # skip header\n",
    "    header = '##'\n",
    "    while header.startswith('##'):\n",
    "        header = next(f)\n",
    "        \n",
    "    header = header.strip().split('\\t')[9:]\n",
    "    sample_id_to_index = dict([(x, i) for i, x in enumerate(header)])\n",
    "    ind_id_to_index = dict([(k, sample_id_to_index[v]) for k, v in ind_id_to_sample_id.items() if v in sample_id_to_index])\n",
    "    \n",
    "# pull families from ped file\n",
    "ped_file = '../data/160826.ped'\n",
    "family_to_inds = dict()\n",
    "with open(ped_file, 'r') as f:\n",
    "    for line in f:\n",
    "        pieces = line.strip().split('\\t')\n",
    "        fam_id, child_id, f_id, m_id = pieces[0:4]\n",
    "        fkey = (fam_id, m_id, f_id)\n",
    "        if child_id in ind_id_to_index and f_id in ind_id_to_index and m_id in ind_id_to_index:\n",
    "            if fkey not in family_to_inds:\n",
    "                family_to_inds[fkey] = [m_id, f_id]\n",
    "            family_to_inds[fkey].append(child_id)\n",
    "family_to_indices = dict([(k, [ind_id_to_index[x] for x in v]) for k, v in family_to_inds.items()])\n",
    "families = sorted(family_to_indices.keys())\n",
    "\n",
    "print('Num families', len(family_to_indices))\n",
    "print('Num individuals', len(sum(family_to_indices.values(), [])))"
   ]
  },
  {
   "cell_type": "code",
   "execution_count": 10,
   "metadata": {},
   "outputs": [
    {
     "name": "stdout",
     "output_type": "stream",
     "text": [
      "4610\n"
     ]
    }
   ],
   "source": [
    "with open('../split_gen/chr.22.gen.samples.txt', 'r') as f:\n",
    "    ind_ids = [line.strip() for line in f]\n",
    "ind_id_to_new_index = dict([(ind_id, i) for i, ind_id in enumerate(ind_ids)])\n",
    "family_to_new_indices = dict([(k, [ind_id_to_new_index[x] for x in v]) for k, v in family_to_inds.items()])\n",
    "m = max(ind_id_to_new_index.values())+1\n",
    "print(m)"
   ]
  },
  {
   "cell_type": "code",
   "execution_count": 58,
   "metadata": {},
   "outputs": [
    {
     "name": "stdout",
     "output_type": "stream",
     "text": [
      "(415, 2)\n"
     ]
    }
   ],
   "source": [
    "import numpy as np\n",
    "\n",
    "parent_indices = np.asarray([family_to_indices[f][:2] for f in families])\n",
    "print(parent_indices.shape)"
   ]
  },
  {
   "cell_type": "code",
   "execution_count": 54,
   "metadata": {},
   "outputs": [
    {
     "name": "stdout",
     "output_type": "stream",
     "text": [
      "0 [0, 0, 0, 0, 0, 0, 0, 0, 0, 0, 0, 0, 0, 0, 0, 0, 0, 0, 0, 0, 0, 0, 0]\n",
      "100000 [0, 126550, 5418, 0, 0, 0, 0, 0, 0, 0, 0, 0, 0, 0, 0, 0, 0, 0, 0, 0, 0, 0, 0]\n",
      "200000 [0, 126550, 124770, 0, 0, 0, 0, 0, 0, 0, 0, 0, 0, 0, 0, 0, 0, 0, 0, 0, 0, 0, 0]\n",
      "300000 [0, 126550, 126676, 77450, 51218, 0, 0, 0, 0, 0, 0, 0, 0, 0, 0, 0, 0, 0, 0, 0, 0, 0, 0]\n",
      "400000 [0, 126550, 126676, 77450, 156030, 0, 0, 0, 0, 0, 0, 0, 0, 0, 0, 0, 0, 0, 0, 0, 0, 0, 0]\n",
      "500000 [0, 126550, 126676, 77450, 158736, 68846, 64380, 0, 0, 0, 0, 0, 0, 0, 0, 0, 0, 0, 0, 0, 0, 0, 0]\n",
      "600000 [0, 126550, 126676, 77450, 158736, 68846, 124366, 69470, 0, 0, 0, 0, 0, 0, 0, 0, 0, 0, 0, 0, 0, 0, 0]\n",
      "700000 [0, 126550, 126676, 77450, 158736, 68846, 124366, 124874, 59846, 30342, 0, 0, 0, 0, 0, 0, 0, 0, 0, 0, 0, 0, 0]\n",
      "800000 [0, 126550, 126676, 77450, 158736, 68846, 124366, 124874, 59846, 46824, 90122, 0, 0, 0, 0, 0, 0, 0, 0, 0, 0, 0, 0]\n",
      "900000 [0, 126550, 126676, 77450, 158736, 68846, 124366, 124874, 59846, 46824, 163624, 51236, 0, 0, 0, 0, 0, 0, 0, 0, 0, 0, 0]\n",
      "1000000 [0, 126550, 126676, 77450, 158736, 68846, 124366, 124874, 59846, 46824, 163624, 67140, 78218, 41776, 10208, 0, 0, 0, 0, 0, 0, 0, 0]\n",
      "1100000 [0, 126550, 126676, 77450, 158736, 68846, 124366, 124874, 59846, 46824, 163624, 67140, 78218, 41776, 73208, 39972, 28438, 0, 0, 0, 0, 0, 0]\n",
      "1200000 [0, 126550, 126676, 77450, 158736, 68846, 124366, 124874, 59846, 46824, 163624, 67140, 78218, 41776, 73208, 39972, 88888, 60152, 0, 0, 0, 0, 0]\n",
      "1300000 [0, 126550, 126676, 77450, 158736, 68846, 124366, 124874, 59846, 46824, 163624, 67140, 78218, 41776, 73208, 39972, 88888, 68454, 44476, 77684, 0, 0, 0]\n",
      "1400000 [0, 126550, 126676, 77450, 158736, 68846, 124366, 124874, 59846, 46824, 163624, 67140, 78218, 41776, 73208, 39972, 88888, 68454, 44476, 94864, 34372, 46408, 33822]\n"
     ]
    }
   ],
   "source": [
    "# pull positions\n",
    "snp_positions = [[] for i in range(23)]\n",
    "with gzip.open(variant_file, 'rt') as f, open('lp.b12_19.inherited_dels.txt', 'w+') as outf:\n",
    "    # skip header\n",
    "    header = '##'\n",
    "    while header.startswith('##'):\n",
    "        header = next(f)\n",
    "        \n",
    "    header = header.strip().split('\\t')\n",
    "        \n",
    "    for i, line in enumerate(f):\n",
    "        if '<DEL>' in line:\n",
    "            pieces = line.strip().split('\\t', 3)\n",
    "            chrom = None if pieces[0] == 'X' or pieces[0] == 'Y' or pieces[0] == 'MT' else int(pieces[0])\n",
    "            start, end = int(pieces[1]), int(pieces[2])\n",
    "            \n",
    "            if chrom is not None:\n",
    "                snp_positions[chrom].append(start)\n",
    "                snp_positions[chrom].append(end)\n",
    "        if i%100000 == 0:\n",
    "            print(i, [len(x) for x in snp_positions])"
   ]
  },
  {
   "cell_type": "code",
   "execution_count": 64,
   "metadata": {
    "collapsed": true
   },
   "outputs": [],
   "source": [
    "snp_positions = [sorted(x) for x in snp_positions]\n",
    "pos_to_index = [dict([(x, i) for i, x in enumerate(p)]) for p in snp_positions]\n",
    "deletions = [np.zeros((m, len(p))) for p in snp_positions]"
   ]
  },
  {
   "cell_type": "code",
   "execution_count": 82,
   "metadata": {},
   "outputs": [
    {
     "name": "stdout",
     "output_type": "stream",
     "text": [
      "0 [0, 0, 0, 0, 0, 0, 0, 0, 0, 0, 0, 0, 0, 0, 0, 0, 0, 0, 0, 0, 0, 0, 0]\n",
      "100000 [0, 0, 0, 0, 0, 0, 0, 0, 0, 0, 0, 0, 0, 0, 0, 0, 0, 0, 0, 0, 0, 0, 0]\n",
      "200000 [0, 0, 0, 0, 0, 0, 0, 0, 0, 0, 0, 0, 0, 0, 0, 0, 0, 0, 0, 0, 0, 0, 0]\n",
      "300000 [0, 0, 0, 0, 0, 0, 0, 0, 0, 0, 0, 0, 0, 0, 0, 0, 0, 0, 0, 0, 0, 0, 0]\n",
      "400000 [0, 0, 0, 0, 0, 0, 0, 0, 0, 0, 0, 0, 0, 0, 0, 0, 0, 0, 0, 0, 0, 0, 0]\n",
      "500000 [0, 0, 0, 0, 0, 0, 0, 0, 0, 0, 0, 0, 0, 0, 0, 0, 0, 0, 0, 0, 0, 0, 0]\n",
      "600000 [0, 0, 0, 0, 0, 0, 0, 0, 0, 0, 0, 0, 0, 0, 0, 0, 0, 0, 0, 0, 0, 0, 0]\n",
      "700000 [0, 0, 0, 0, 0, 0, 0, 0, 0, 0, 0, 0, 0, 0, 0, 0, 0, 0, 0, 0, 0, 0, 0]\n",
      "800000 [0, 0, 0, 0, 0, 0, 0, 0, 0, 0, 0, 0, 0, 0, 0, 0, 0, 0, 0, 0, 0, 0, 0]\n",
      "900000 [0, 0, 0, 0, 0, 0, 0, 0, 0, 0, 0, 0, 0, 0, 0, 0, 0, 0, 0, 0, 0, 0, 0]\n",
      "1000000 [0, 0, 0, 0, 0, 0, 0, 0, 0, 0, 0, 0, 0, 0, 0, 0, 0, 0, 0, 0, 0, 0, 0]\n",
      "1100000 [0, 0, 0, 0, 0, 0, 0, 0, 0, 0, 0, 0, 0, 0, 0, 0, 0, 0, 0, 0, 0, 0, 0]\n",
      "1200000 [0, 0, 0, 0, 0, 0, 0, 0, 0, 0, 0, 0, 0, 0, 0, 0, 0, 0, 0, 0, 0, 0, 0]\n",
      "1300000 [0, 0, 0, 0, 0, 0, 0, 0, 0, 0, 0, 0, 0, 0, 0, 0, 0, 0, 0, 0, 0, 0, 0]\n",
      "1400000 [0, 0, 0, 0, 0, 0, 0, 0, 0, 0, 0, 0, 0, 0, 0, 0, 0, 0, 0, 0, 0, 0, 0]\n"
     ]
    }
   ],
   "source": [
    "import gzip\n",
    "\n",
    "# load lumpy deletions\n",
    "variant_file = 'lp.b12_19.vcf.gz'\n",
    "\n",
    "gen_to_code = {'0/0': 0, '0/1': 1, '1/1': 2, './.': -1}\n",
    "\n",
    "num_dels = [0 for i in range(23)]\n",
    "with gzip.open(variant_file, 'rt') as f:\n",
    "    # skip header\n",
    "    header = '##'\n",
    "    while header.startswith('##'):\n",
    "        header = next(f)\n",
    "        \n",
    "    header = header.strip().split('\\t')\n",
    "        \n",
    "    for i, line in enumerate(f):\n",
    "        if '<DEL>' in line:\n",
    "            pieces = line.strip().split('\\t')\n",
    "            chrom = None if pieces[0] == 'X' or pieces[0] == 'Y' or pieces[0] == 'MT' else int(pieces[0])\n",
    "            start, end = int(pieces[1]), int(pieces[2])\n",
    "            \n",
    "            if chrom is not None:\n",
    "                start_index, end_index = pos_to_index[chrom][start], pos_to_index[chrom][end]\n",
    "\n",
    "                gens = np.asarray([gen_to_code[g[:3]] for g in pieces[9:]])\n",
    "                \n",
    "                # choose families with a deletion in at least one parent\n",
    "                fkeys = [families[x] for x in np.where(np.sum(gens[parent_indices]>0, axis=1) > 0)[0]]\n",
    "                \n",
    "                for f in fkeys:\n",
    "                    famgens = gens[family_to_indices[f]]\n",
    "                    # choose families with a deletion in at least one child\n",
    "                    if np.sum(famgens[2:]>0)>0:\n",
    "                        for index, gen in zip(family_to_new_indices[f], famgens):\n",
    "                            deletions[chrom][index, start_index:(end_index+1)] = gen\n",
    "        \n",
    "        if i%100000 == 0:\n",
    "            print(i, num_dels)\n"
   ]
  },
  {
   "cell_type": "code",
   "execution_count": 89,
   "metadata": {},
   "outputs": [
    {
     "name": "stdout",
     "output_type": "stream",
     "text": [
      "(4610, 35362)\n"
     ]
    }
   ],
   "source": [
    "chrom = 22\n",
    "d = deletions[chrom]\n",
    "indices = np.where(np.sum(d, axis=0)> 0)[0]\n",
    "d = d[:, indices]\n",
    "print(d.shape)"
   ]
  },
  {
   "cell_type": "code",
   "execution_count": 90,
   "metadata": {},
   "outputs": [
    {
     "data": {
      "image/png": "[encoded data removed]",
      "text/plain": [
       "<matplotlib.figure.Figure at 0x10ee3b668>"
      ]
     },
     "metadata": {},
     "output_type": "display_data"
    }
   ],
   "source": [
    "import matplotlib.pyplot as plt\n",
    "plt.figure(figsize=(15, 5))\n",
    "plt.imshow(d[np.sum(d, axis=1)>0, :], aspect='auto')\n",
    "plt.colorbar()\n",
    "plt.show()"
   ]
  },
  {
   "cell_type": "code",
   "execution_count": 98,
   "metadata": {},
   "outputs": [
    {
     "name": "stdout",
     "output_type": "stream",
     "text": [
      "(4610, 73208)\n",
      "(73208,)\n",
      "(4610, 39972)\n",
      "(39972,)\n",
      "(4610, 88888)\n",
      "(88888,)\n",
      "(4610, 68454)\n",
      "(68454,)\n",
      "(4610, 44476)\n",
      "(44476,)\n",
      "(4610, 94864)\n",
      "(94864,)\n",
      "(4610, 34372)\n",
      "(34372,)\n",
      "(4610, 46408)\n",
      "(46408,)\n",
      "(4610, 35946)\n",
      "(35946,)\n"
     ]
    }
   ],
   "source": [
    "import scipy.sparse as sparse\n",
    "for chrom in range(14, 23):\n",
    "    d = deletions[chrom].astype(int)\n",
    "    print(d.shape)\n",
    "    d = sparse.csr_matrix(d)\n",
    "    sparse.save_npz('lumpy_svs/chrom%d_deletions' % chrom, d)\n",
    "    sp = np.asarray(snp_positions[chrom], dtype=int)\n",
    "    print(sp.shape)\n",
    "    np.save('lumpy_svs/chrom%d_positions' % chrom, sp)"
   ]
  },
  {
   "cell_type": "code",
   "execution_count": 12,
   "metadata": {},
   "outputs": [
    {
     "name": "stdout",
     "output_type": "stream",
     "text": [
      "0 [0, 0, 0, 0, 0, 0, 0, 0, 0, 0, 0, 0, 0, 0, 0, 0, 0, 0, 0, 0, 0, 0, 0]\n"
     ]
    },
    {
     "ename": "KeyboardInterrupt",
     "evalue": "",
     "output_type": "error",
     "traceback": [
      "\u001b[0;31m---------------------------------------------------------------------------\u001b[0m",
      "\u001b[0;31mKeyboardInterrupt\u001b[0m                         Traceback (most recent call last)",
      "\u001b[0;32m<ipython-input-12-9c33e5606cd5>\u001b[0m in \u001b[0;36m<module>\u001b[0;34m()\u001b[0m\n\u001b[1;32m      9\u001b[0m     \u001b[0mheader\u001b[0m \u001b[0;34m=\u001b[0m \u001b[0mheader\u001b[0m\u001b[0;34m.\u001b[0m\u001b[0mstrip\u001b[0m\u001b[0;34m(\u001b[0m\u001b[0;34m)\u001b[0m\u001b[0;34m.\u001b[0m\u001b[0msplit\u001b[0m\u001b[0;34m(\u001b[0m\u001b[0;34m'\\t'\u001b[0m\u001b[0;34m)\u001b[0m\u001b[0;34m\u001b[0m\u001b[0m\n\u001b[1;32m     10\u001b[0m \u001b[0;34m\u001b[0m\u001b[0m\n\u001b[0;32m---> 11\u001b[0;31m     \u001b[0;32mfor\u001b[0m \u001b[0mi\u001b[0m\u001b[0;34m,\u001b[0m \u001b[0mline\u001b[0m \u001b[0;32min\u001b[0m \u001b[0menumerate\u001b[0m\u001b[0;34m(\u001b[0m\u001b[0mf\u001b[0m\u001b[0;34m)\u001b[0m\u001b[0;34m:\u001b[0m\u001b[0;34m\u001b[0m\u001b[0m\n\u001b[0m\u001b[1;32m     12\u001b[0m         \u001b[0;32mif\u001b[0m \u001b[0;34m'<DEL>'\u001b[0m \u001b[0;32min\u001b[0m \u001b[0mline\u001b[0m\u001b[0;34m:\u001b[0m\u001b[0;34m\u001b[0m\u001b[0m\n\u001b[1;32m     13\u001b[0m             \u001b[0mpieces\u001b[0m \u001b[0;34m=\u001b[0m \u001b[0mline\u001b[0m\u001b[0;34m.\u001b[0m\u001b[0mstrip\u001b[0m\u001b[0;34m(\u001b[0m\u001b[0;34m)\u001b[0m\u001b[0;34m.\u001b[0m\u001b[0msplit\u001b[0m\u001b[0;34m(\u001b[0m\u001b[0;34m'\\t'\u001b[0m\u001b[0;34m,\u001b[0m \u001b[0;36m3\u001b[0m\u001b[0;34m)\u001b[0m\u001b[0;34m\u001b[0m\u001b[0m\n",
      "\u001b[0;32m//anaconda/lib/python3.6/gzip.py\u001b[0m in \u001b[0;36mread1\u001b[0;34m(self, size)\u001b[0m\n\u001b[1;32m    287\u001b[0m         \u001b[0;32mif\u001b[0m \u001b[0msize\u001b[0m \u001b[0;34m<\u001b[0m \u001b[0;36m0\u001b[0m\u001b[0;34m:\u001b[0m\u001b[0;34m\u001b[0m\u001b[0m\n\u001b[1;32m    288\u001b[0m             \u001b[0msize\u001b[0m \u001b[0;34m=\u001b[0m \u001b[0mio\u001b[0m\u001b[0;34m.\u001b[0m\u001b[0mDEFAULT_BUFFER_SIZE\u001b[0m\u001b[0;34m\u001b[0m\u001b[0m\n\u001b[0;32m--> 289\u001b[0;31m         \u001b[0;32mreturn\u001b[0m \u001b[0mself\u001b[0m\u001b[0;34m.\u001b[0m\u001b[0m_buffer\u001b[0m\u001b[0;34m.\u001b[0m\u001b[0mread1\u001b[0m\u001b[0;34m(\u001b[0m\u001b[0msize\u001b[0m\u001b[0;34m)\u001b[0m\u001b[0;34m\u001b[0m\u001b[0m\n\u001b[0m\u001b[1;32m    290\u001b[0m \u001b[0;34m\u001b[0m\u001b[0m\n\u001b[1;32m    291\u001b[0m     \u001b[0;32mdef\u001b[0m \u001b[0mpeek\u001b[0m\u001b[0;34m(\u001b[0m\u001b[0mself\u001b[0m\u001b[0;34m,\u001b[0m \u001b[0mn\u001b[0m\u001b[0;34m)\u001b[0m\u001b[0;34m:\u001b[0m\u001b[0;34m\u001b[0m\u001b[0m\n",
      "\u001b[0;32m//anaconda/lib/python3.6/_compression.py\u001b[0m in \u001b[0;36mreadinto\u001b[0;34m(self, b)\u001b[0m\n\u001b[1;32m     66\u001b[0m     \u001b[0;32mdef\u001b[0m \u001b[0mreadinto\u001b[0m\u001b[0;34m(\u001b[0m\u001b[0mself\u001b[0m\u001b[0;34m,\u001b[0m \u001b[0mb\u001b[0m\u001b[0;34m)\u001b[0m\u001b[0;34m:\u001b[0m\u001b[0;34m\u001b[0m\u001b[0m\n\u001b[1;32m     67\u001b[0m         \u001b[0;32mwith\u001b[0m \u001b[0mmemoryview\u001b[0m\u001b[0;34m(\u001b[0m\u001b[0mb\u001b[0m\u001b[0;34m)\u001b[0m \u001b[0;32mas\u001b[0m \u001b[0mview\u001b[0m\u001b[0;34m,\u001b[0m \u001b[0mview\u001b[0m\u001b[0;34m.\u001b[0m\u001b[0mcast\u001b[0m\u001b[0;34m(\u001b[0m\u001b[0;34m\"B\"\u001b[0m\u001b[0;34m)\u001b[0m \u001b[0;32mas\u001b[0m \u001b[0mbyte_view\u001b[0m\u001b[0;34m:\u001b[0m\u001b[0;34m\u001b[0m\u001b[0m\n\u001b[0;32m---> 68\u001b[0;31m             \u001b[0mdata\u001b[0m \u001b[0;34m=\u001b[0m \u001b[0mself\u001b[0m\u001b[0;34m.\u001b[0m\u001b[0mread\u001b[0m\u001b[0;34m(\u001b[0m\u001b[0mlen\u001b[0m\u001b[0;34m(\u001b[0m\u001b[0mbyte_view\u001b[0m\u001b[0;34m)\u001b[0m\u001b[0;34m)\u001b[0m\u001b[0;34m\u001b[0m\u001b[0m\n\u001b[0m\u001b[1;32m     69\u001b[0m             \u001b[0mbyte_view\u001b[0m\u001b[0;34m[\u001b[0m\u001b[0;34m:\u001b[0m\u001b[0mlen\u001b[0m\u001b[0;34m(\u001b[0m\u001b[0mdata\u001b[0m\u001b[0;34m)\u001b[0m\u001b[0;34m]\u001b[0m \u001b[0;34m=\u001b[0m \u001b[0mdata\u001b[0m\u001b[0;34m\u001b[0m\u001b[0m\n\u001b[1;32m     70\u001b[0m         \u001b[0;32mreturn\u001b[0m \u001b[0mlen\u001b[0m\u001b[0;34m(\u001b[0m\u001b[0mdata\u001b[0m\u001b[0;34m)\u001b[0m\u001b[0;34m\u001b[0m\u001b[0m\n",
      "\u001b[0;32m//anaconda/lib/python3.6/gzip.py\u001b[0m in \u001b[0;36mread\u001b[0;34m(self, size)\u001b[0m\n\u001b[1;32m    455\u001b[0m                 \u001b[0mself\u001b[0m\u001b[0;34m.\u001b[0m\u001b[0m_new_member\u001b[0m \u001b[0;34m=\u001b[0m \u001b[0;32mTrue\u001b[0m\u001b[0;34m\u001b[0m\u001b[0m\n\u001b[1;32m    456\u001b[0m                 self._decompressor = self._decomp_factory(\n\u001b[0;32m--> 457\u001b[0;31m                     **self._decomp_args)\n\u001b[0m\u001b[1;32m    458\u001b[0m \u001b[0;34m\u001b[0m\u001b[0m\n\u001b[1;32m    459\u001b[0m             \u001b[0;32mif\u001b[0m \u001b[0mself\u001b[0m\u001b[0;34m.\u001b[0m\u001b[0m_new_member\u001b[0m\u001b[0;34m:\u001b[0m\u001b[0;34m\u001b[0m\u001b[0m\n",
      "\u001b[0;31mKeyboardInterrupt\u001b[0m: "
     ]
    }
   ],
   "source": [
    "# pull positions\n",
    "d_lengths = [[] for i in range(23)]\n",
    "with gzip.open(variant_file, 'rt') as f:\n",
    "    # skip header\n",
    "    header = '##'\n",
    "    while header.startswith('##'):\n",
    "        header = next(f)\n",
    "        \n",
    "    header = header.strip().split('\\t')\n",
    "        \n",
    "    for i, line in enumerate(f):\n",
    "        if '<DEL>' in line:\n",
    "            pieces = line.strip().split('\\t', 3)\n",
    "            chrom = None if pieces[0] == 'X' or pieces[0] == 'Y' or pieces[0] == 'MT' else int(pieces[0])\n",
    "            start, end = int(pieces[1]), int(pieces[2])\n",
    "            \n",
    "            if chrom is not None:\n",
    "                d_lengths[chrom].append(end-start)\n",
    "        if i%100000 == 0:\n",
    "            print(i, [len(x) for x in d_lengths])"
   ]
  },
  {
   "cell_type": "code",
   "execution_count": 11,
   "metadata": {},
   "outputs": [
    {
     "ename": "NameError",
     "evalue": "name 'd_lengths' is not defined",
     "output_type": "error",
     "traceback": [
      "\u001b[0;31m---------------------------------------------------------------------------\u001b[0m",
      "\u001b[0;31mNameError\u001b[0m                                 Traceback (most recent call last)",
      "\u001b[0;32m<ipython-input-11-2aeda74d166f>\u001b[0m in \u001b[0;36m<module>\u001b[0;34m()\u001b[0m\n\u001b[1;32m      3\u001b[0m \u001b[0mchrom\u001b[0m \u001b[0;34m=\u001b[0m \u001b[0;36m1\u001b[0m\u001b[0;34m\u001b[0m\u001b[0m\n\u001b[1;32m      4\u001b[0m \u001b[0;34m\u001b[0m\u001b[0m\n\u001b[0;32m----> 5\u001b[0;31m \u001b[0mdl\u001b[0m \u001b[0;34m=\u001b[0m \u001b[0md_lengths\u001b[0m\u001b[0;34m[\u001b[0m\u001b[0mchrom\u001b[0m\u001b[0;34m]\u001b[0m\u001b[0;34m\u001b[0m\u001b[0m\n\u001b[0m\u001b[1;32m      6\u001b[0m \u001b[0mplt\u001b[0m\u001b[0;34m.\u001b[0m\u001b[0mfigure\u001b[0m\u001b[0;34m(\u001b[0m\u001b[0mfigsize\u001b[0m\u001b[0;34m=\u001b[0m\u001b[0;34m(\u001b[0m\u001b[0;36m15\u001b[0m\u001b[0;34m,\u001b[0m \u001b[0;36m5\u001b[0m\u001b[0;34m)\u001b[0m\u001b[0;34m)\u001b[0m\u001b[0;34m\u001b[0m\u001b[0m\n\u001b[1;32m      7\u001b[0m \u001b[0mbase\u001b[0m \u001b[0;34m=\u001b[0m \u001b[0;36m1.4\u001b[0m\u001b[0;34m\u001b[0m\u001b[0m\n",
      "\u001b[0;31mNameError\u001b[0m: name 'd_lengths' is not defined"
     ]
    }
   ],
   "source": [
    "import math\n",
    "\n",
    "chrom = 1\n",
    "\n",
    "dl = d_lengths[chrom]\n",
    "plt.figure(figsize=(15, 5))\n",
    "base = 1.4\n",
    "max_length = max(dl) \n",
    "min_length = min(dl) \n",
    "print('min length', min(dl) , 'max length', max(dl) , 'num', len(dl))\n",
    "\n",
    "plt.hist(dl, bins=[pow(base, i) for i in range(math.ceil(math.log(max_length, base))+1)], alpha=0.5)\n",
    "\n",
    "plt.gca().set_xscale(\"log\")\n",
    "plt.show()"
   ]
  },
  {
   "cell_type": "code",
   "execution_count": null,
   "metadata": {
    "collapsed": true
   },
   "outputs": [],
   "source": []
  }
 ],
 "metadata": {
  "kernelspec": {
   "display_name": "Python 3",
   "language": "python",
   "name": "python3"
  },
  "language_info": {
   "codemirror_mode": {
    "name": "ipython",
    "version": 3
   },
   "file_extension": ".py",
   "mimetype": "text/x-python",
   "name": "python",
   "nbconvert_exporter": "python",
   "pygments_lexer": "ipython3",
   "version": "3.6.1"
  }
 },
 "nbformat": 4,
 "nbformat_minor": 2
}
