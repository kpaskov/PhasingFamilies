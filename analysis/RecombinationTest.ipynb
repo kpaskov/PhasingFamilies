{
 "cells": [
  {
   "cell_type": "code",
   "execution_count": 1,
   "metadata": {},
   "outputs": [],
   "source": [
    "from collections import defaultdict, namedtuple, Counter\n",
    "import sys\n",
    "import json\n",
    "import numpy as np\n",
    "import math\n",
    "import matplotlib.pyplot as plt\n",
    "import scipy.stats\n"
   ]
  },
  {
   "cell_type": "code",
   "execution_count": 2,
   "metadata": {},
   "outputs": [],
   "source": [
    "#phase_dir = '../phased_ancestry_quads'\n",
    "#build = '37'\n",
    "#phenotype = ''\n",
    "\n",
    "phase_dir = '../phased_spark_quads'\n",
    "build = '38'\n",
    "\n",
    "chroms = [str(x) for x in range(1, 23)]\n",
    "#name = 'cyto'\n",
    "name = '500000'\n"
   ]
  },
  {
   "cell_type": "code",
   "execution_count": 3,
   "metadata": {},
   "outputs": [],
   "source": [
    "cyto = []\n",
    "with open('../data/cytoBand%s.txt' % build, 'r') as f:\n",
    "    for line in f:\n",
    "        pieces = line.strip().split('\\t')\n",
    "        if pieces[0].startswith('chr') and pieces[0][3:] in chroms:\n",
    "            cyto.append((pieces[0][3:], int(pieces[1]), int(pieces[2]), pieces[3], pieces[4]))\n",
    "\n",
    "chrom_to_start_pos = [1]\n",
    "for chrom in chroms[:-1]:\n",
    "    chrom_length = max([x[2] for x in cyto if x[0]==chrom])\n",
    "    chrom_to_start_pos.append(chrom_to_start_pos[-1] + chrom_length)\n",
    "    "
   ]
  },
  {
   "cell_type": "code",
   "execution_count": 4,
   "metadata": {},
   "outputs": [
    {
     "ename": "FileNotFoundError",
     "evalue": "[Errno 2] No such file or directory: '../phased_spark_quads/chr.1.recomb.pvalues.intervals.cyto.regions.npy'",
     "output_type": "error",
     "traceback": [
      "\u001b[0;31m---------------------------------------------------------------------------\u001b[0m",
      "\u001b[0;31mFileNotFoundError\u001b[0m                         Traceback (most recent call last)",
      "\u001b[0;32m<ipython-input-4-67435127e3ee>\u001b[0m in \u001b[0;36m<module>\u001b[0;34m\u001b[0m\n\u001b[1;32m      3\u001b[0m \u001b[0mcontingency\u001b[0m \u001b[0;34m=\u001b[0m \u001b[0;34m[\u001b[0m\u001b[0;34m]\u001b[0m\u001b[0;34m\u001b[0m\u001b[0;34m\u001b[0m\u001b[0m\n\u001b[1;32m      4\u001b[0m \u001b[0;32mfor\u001b[0m \u001b[0mi\u001b[0m\u001b[0;34m,\u001b[0m \u001b[0mchrom\u001b[0m \u001b[0;32min\u001b[0m \u001b[0menumerate\u001b[0m\u001b[0;34m(\u001b[0m\u001b[0mchroms\u001b[0m\u001b[0;34m)\u001b[0m\u001b[0;34m:\u001b[0m\u001b[0;34m\u001b[0m\u001b[0;34m\u001b[0m\u001b[0m\n\u001b[0;32m----> 5\u001b[0;31m     \u001b[0mregions\u001b[0m \u001b[0;34m=\u001b[0m \u001b[0mnp\u001b[0m\u001b[0;34m.\u001b[0m\u001b[0mload\u001b[0m\u001b[0;34m(\u001b[0m\u001b[0;34m'%s/chr.%s.recomb.pvalues.intervals.%s.regions.npy'\u001b[0m \u001b[0;34m%\u001b[0m \u001b[0;34m(\u001b[0m\u001b[0mphase_dir\u001b[0m\u001b[0;34m,\u001b[0m \u001b[0mchrom\u001b[0m\u001b[0;34m,\u001b[0m \u001b[0mname\u001b[0m\u001b[0;34m)\u001b[0m\u001b[0;34m)\u001b[0m\u001b[0;34m\u001b[0m\u001b[0;34m\u001b[0m\u001b[0m\n\u001b[0m\u001b[1;32m      6\u001b[0m     \u001b[0mall_chroms\u001b[0m\u001b[0;34m.\u001b[0m\u001b[0mappend\u001b[0m\u001b[0;34m(\u001b[0m\u001b[0mi\u001b[0m\u001b[0;34m*\u001b[0m\u001b[0mnp\u001b[0m\u001b[0;34m.\u001b[0m\u001b[0mones\u001b[0m\u001b[0;34m(\u001b[0m\u001b[0;34m(\u001b[0m\u001b[0mregions\u001b[0m\u001b[0;34m.\u001b[0m\u001b[0mshape\u001b[0m\u001b[0;34m[\u001b[0m\u001b[0;36m0\u001b[0m\u001b[0;34m]\u001b[0m\u001b[0;34m,\u001b[0m\u001b[0;34m)\u001b[0m\u001b[0;34m,\u001b[0m \u001b[0mdtype\u001b[0m\u001b[0;34m=\u001b[0m\u001b[0mint\u001b[0m\u001b[0;34m)\u001b[0m\u001b[0;34m)\u001b[0m\u001b[0;34m\u001b[0m\u001b[0;34m\u001b[0m\u001b[0m\n\u001b[1;32m      7\u001b[0m     \u001b[0mall_regions\u001b[0m\u001b[0;34m.\u001b[0m\u001b[0mappend\u001b[0m\u001b[0;34m(\u001b[0m\u001b[0mregions\u001b[0m\u001b[0;34m)\u001b[0m\u001b[0;34m\u001b[0m\u001b[0;34m\u001b[0m\u001b[0m\n",
      "\u001b[0;32m//anaconda3/lib/python3.7/site-packages/numpy/lib/npyio.py\u001b[0m in \u001b[0;36mload\u001b[0;34m(file, mmap_mode, allow_pickle, fix_imports, encoding)\u001b[0m\n\u001b[1;32m    420\u001b[0m         \u001b[0mown_fid\u001b[0m \u001b[0;34m=\u001b[0m \u001b[0;32mFalse\u001b[0m\u001b[0;34m\u001b[0m\u001b[0;34m\u001b[0m\u001b[0m\n\u001b[1;32m    421\u001b[0m     \u001b[0;32melse\u001b[0m\u001b[0;34m:\u001b[0m\u001b[0;34m\u001b[0m\u001b[0;34m\u001b[0m\u001b[0m\n\u001b[0;32m--> 422\u001b[0;31m         \u001b[0mfid\u001b[0m \u001b[0;34m=\u001b[0m \u001b[0mopen\u001b[0m\u001b[0;34m(\u001b[0m\u001b[0mos_fspath\u001b[0m\u001b[0;34m(\u001b[0m\u001b[0mfile\u001b[0m\u001b[0;34m)\u001b[0m\u001b[0;34m,\u001b[0m \u001b[0;34m\"rb\"\u001b[0m\u001b[0;34m)\u001b[0m\u001b[0;34m\u001b[0m\u001b[0;34m\u001b[0m\u001b[0m\n\u001b[0m\u001b[1;32m    423\u001b[0m         \u001b[0mown_fid\u001b[0m \u001b[0;34m=\u001b[0m \u001b[0;32mTrue\u001b[0m\u001b[0;34m\u001b[0m\u001b[0;34m\u001b[0m\u001b[0m\n\u001b[1;32m    424\u001b[0m \u001b[0;34m\u001b[0m\u001b[0m\n",
      "\u001b[0;31mFileNotFoundError\u001b[0m: [Errno 2] No such file or directory: '../phased_spark_quads/chr.1.recomb.pvalues.intervals.cyto.regions.npy'"
     ]
    }
   ],
   "source": [
    "all_chroms, all_regions = [], []\n",
    "mat_pvalues, pat_pvalues, combined_pvalues = [], [], []\n",
    "contingency = []\n",
    "for i, chrom in enumerate(chroms):\n",
    "    regions = np.load('%s/chr.%s.recomb.pvalues.intervals.%s.regions.npy' % (phase_dir, chrom, name))\n",
    "    all_chroms.append(i*np.ones((regions.shape[0],), dtype=int))\n",
    "    all_regions.append(regions)\n",
    "    p = np.load('%s/chr.%s.recomb.pvalues.intervals.%s.npy' % (phase_dir, chrom, name))\n",
    "    r = np.load('%s/chr.%s.recomb.pvalues.intervals.%s.contingency.npy' % (phase_dir, chrom, name))\n",
    "    \n",
    "    mat_pvalues.append(p[:, 0, :])\n",
    "    pat_pvalues.append(p[:, 1, :])\n",
    "    combined_pvalues.append(p[:, 2, :])\n",
    "    contingency.append(r)\n",
    "    \n",
    "all_chroms = np.hstack(all_chroms)\n",
    "all_regions = np.vstack(all_regions)\n",
    "contingency = np.vstack(contingency)\n",
    "\n",
    "mat_pvalues = np.vstack(mat_pvalues)\n",
    "pat_pvalues = np.vstack(pat_pvalues)\n",
    "combined_pvalues = np.vstack(combined_pvalues)\n",
    "\n",
    "\n",
    "print(all_regions.shape, combined_pvalues.shape, contingency.shape)\n"
   ]
  },
  {
   "cell_type": "code",
   "execution_count": null,
   "metadata": {},
   "outputs": [],
   "source": [
    "#include_in_display = np.zeros(all_positions.shape, dtype=bool)\n",
    "#include_in_display[0] = True\n",
    "#last_pos = all_positions[0]\n",
    "#for i, pos in enumerate(all_positions):\n",
    "#    if np.abs(pos - last_pos) > cutoff:\n",
    "#        include_in_display[i] = True\n",
    "#        last_ps = pos\n",
    "\n",
    "include_in_display = np.ones((all_regions.shape[0]), dtype=bool)\n",
    "#for c in cyto:\n",
    "#    if c[0] in chroms and c[-1] == 'acen':\n",
    "#        include_in_display[(all_chroms==chroms.index(c[0])) & (np.minimum(all_regions[:, 1], c[2])-np.maximum(all_regions[:, 0], c[1])>0)]=False\n",
    "print('including', np.sum(include_in_display)/include_in_display.shape[0])\n",
    "\n"
   ]
  },
  {
   "cell_type": "code",
   "execution_count": null,
   "metadata": {},
   "outputs": [],
   "source": [
    "bonferonni_cutoff = -np.log10(0.05/np.sum(include_in_display))\n",
    "print(bonferonni_cutoff)"
   ]
  },
  {
   "cell_type": "code",
   "execution_count": null,
   "metadata": {},
   "outputs": [],
   "source": [
    "binsize = 0.3\n",
    "x_chrom = -1 if 'X' not in chroms else chroms.index('X')\n",
    "n = np.sum(include_in_display & (all_chroms != x_chrom))\n",
    "\n",
    "def plot_pvalue_dist(pvalues):\n",
    "    plt.hist(np.clip(-np.log10(pvalues[include_in_display & (all_chroms != x_chrom), 0]), None, 9), \n",
    "                     log=True, bins=np.arange(0, 10, binsize), alpha=0.5)\n",
    "\n",
    "    plt.plot([binsize/2, np.log10(n*(1-(10**-binsize))) + binsize/2], \n",
    "             [n*(1-(10**-binsize)), 1], color='black', linestyle='--')  \n",
    "    plt.axvline(bonferonni_cutoff, color='black', linestyle='--')\n",
    "\n",
    "plt.figure(figsize=(15, 5))\n",
    "\n",
    "plt.subplot(1, 3, 1)\n",
    "plot_pvalue_dist(mat_pvalues)\n",
    "plt.title('mat')#\n",
    "\n",
    "plt.subplot(1, 3, 2)\n",
    "plot_pvalue_dist(pat_pvalues)\n",
    "plt.title('pat')\n",
    "\n",
    "plt.subplot(1, 3, 3)\n",
    "plot_pvalue_dist(combined_pvalues)\n",
    "plt.title('combined')\n",
    "\n",
    "plt.tight_layout()\n",
    "plt.show()"
   ]
  },
  {
   "cell_type": "code",
   "execution_count": null,
   "metadata": {},
   "outputs": [],
   "source": [
    "xs = np.array([p+chrom_to_start_pos[c] for p, c in zip(all_regions[:, 0], all_chroms)])\n"
   ]
  },
  {
   "cell_type": "code",
   "execution_count": null,
   "metadata": {},
   "outputs": [],
   "source": [
    "import matplotlib\n",
    "plt.figure(figsize=(15, 4))\n",
    "matplotlib.rcParams.update({'font.size': 14})\n",
    "\n",
    "index = 0\n",
    "plt.plot(xs[include_in_display], -np.log10(mat_pvalues[include_in_display, index]), label='mat')\n",
    "plt.plot(xs[include_in_display], -np.log10(pat_pvalues[include_in_display, index]), label='pat')\n",
    "plt.plot(xs[include_in_display], -np.log10(combined_pvalues[include_in_display, index]), label='all')\n",
    "plt.ylim([0, 10])\n",
    "\n",
    "plt.xticks(chrom_to_start_pos, chroms, rotation=90)\n",
    "plt.axhline(bonferonni_cutoff, color='black', linestyle='--')\n",
    "plt.legend(loc='upper left')\n",
    "plt.show()"
   ]
  },
  {
   "cell_type": "code",
   "execution_count": null,
   "metadata": {},
   "outputs": [],
   "source": [
    "#print('simplex combined')\n",
    "#indices = -np.log10(simplex_combined_pvalues)>bonferonni_cutoff\n",
    "#start_indices, end_indices = np.where(~indices[:-1] & indices[1:])[0], np.where(indices[:-1] & ~indices[1:])[0]+1\n",
    "#for start_index, end_index in zip(start_indices, end_indices):\n",
    "#    print('%s:%d-%d (hg%s)' % (chroms[all_chroms[start_index]], all_regions[start_index, 0], all_regions[end_index, 1], build))\n",
    "\n",
    "#print('\\nmultiplex combined')\n",
    "#indices = -np.log10(multiplex_combined_pvalues)>bonferonni_cutoff\n",
    "#start_indices, end_indices = np.where(~indices[:-1] & indices[1:])[0], np.where(indices[:-1] & ~indices[1:])[0]+1\n",
    "#for start_index, end_index in zip(start_indices, end_indices):\n",
    "#    print('%s:%d-%d (hg%s)' % (chroms[all_chroms[start_index]], all_regions[start_index, 0], all_regions[end_index, 1], build))\n",
    "\n",
    "indices = -np.log10(combined_pvalues)>bonferonni_cutoff\n",
    "start_indices, end_indices = np.where(~indices[:-1] & indices[1:])[0]+1, np.where(indices[:-1] & ~indices[1:])[0]\n",
    "for start_index, end_index in zip(start_indices, end_indices):\n",
    "    if all_chroms[start_index] == all_chroms[end_index]:\n",
    "        print(start_index, end_index, -np.log10(combined_pvalues[start_index]), -np.log10(combined_pvalues[end_index]), bonferonni_cutoff)\n",
    "        print('%s:%d-%d (hg%s)' % (chroms[all_chroms[start_index]], all_regions[start_index, 0], all_regions[end_index, 1], build))\n",
    "    \n",
    "#print('\\nmultiplex pat')\n",
    "#indices = -np.log10(multiplex_pat_pvalues)>bonferonni_cutoff-0.5\n",
    "#start_indices, end_indices = np.where(~indices[:-1] & indices[1:])[0], np.where(indices[:-1] & ~indices[1:])[0]+1\n",
    "#for start_index, end_index in zip(start_indices, end_indices):\n",
    "#    print('%s:%d-%d (hg%s)' % (chroms[all_chroms[start_index]], all_regions[start_index, 0], all_regions[end_index, 1], build))\n"
   ]
  },
  {
   "cell_type": "code",
   "execution_count": null,
   "metadata": {},
   "outputs": [],
   "source": [
    "import matplotlib\n",
    "plt.figure(figsize=(15, 7))\n",
    "matplotlib.rcParams.update({'font.size': 14})\n",
    "\n",
    "ax = plt.subplot(2, 1, 1)\n",
    "plt.plot(xs[include_in_display], contingency[include_in_display, 0, 0, 1]/(2*np.sum(contingency[include_in_display, 0, 0, :], axis=1)), label='UU mat')\n",
    "plt.plot(xs[include_in_display], contingency[include_in_display, 1, 0, 1]/(2*np.sum(contingency[include_in_display, 1, 0, :], axis=1)), label='AU mat')\n",
    "plt.plot(xs[include_in_display], contingency[include_in_display, 2, 0, 1]/(2*np.sum(contingency[include_in_display, 2, 0, :], axis=1)), label='AA mat')\n",
    "plt.title('Mat')\n",
    "plt.legend()\n",
    "\n",
    "plt.subplot(2, 1, 2, sharex=ax, sharey=ax)\n",
    "plt.plot(xs[include_in_display], contingency[include_in_display, 0, 1, 1]/(2*np.sum(contingency[include_in_display, 0, 1, :], axis=1)), label='UU pat')\n",
    "plt.plot(xs[include_in_display], contingency[include_in_display, 1, 1, 1]/(2*np.sum(contingency[include_in_display, 1, 1, :], axis=1)), label='AU pat')\n",
    "plt.plot(xs[include_in_display], contingency[include_in_display, 2, 1, 1]/(2*np.sum(contingency[include_in_display, 2, 1, :], axis=1)), label='AA pat')\n",
    "plt.title('Pat')\n",
    "plt.legend()\n",
    "\n",
    "plt.xticks(chrom_to_start_pos, chroms, rotation=90)\n",
    "plt.show()"
   ]
  },
  {
   "cell_type": "code",
   "execution_count": null,
   "metadata": {},
   "outputs": [],
   "source": [
    "chrom = '19'\n",
    "chrom_index = chroms.index(chrom)\n",
    "\n",
    "plt.figure(figsize=(15, 4))\n",
    "\n",
    "plt.plot(xs[include_in_display & (all_chroms==chrom_index)], \n",
    "         contingency[include_in_display & (all_chroms==chrom_index), 0, 0, 1]/(2*np.sum(contingency[include_in_display & (all_chroms==chrom_index), 0, 0, :], axis=1)), label='UU mat')\n",
    "plt.plot(xs[include_in_display & (all_chroms==chrom_index)], \n",
    "         contingency[include_in_display & (all_chroms==chrom_index), 0, 1, 1]/(2*np.sum(contingency[include_in_display & (all_chroms==chrom_index), 0, 1, :], axis=1)), label='UU pat')\n",
    "plt.plot(xs[include_in_display & (all_chroms==chrom_index)], \n",
    "         contingency[include_in_display & (all_chroms==chrom_index), 1, 0, 1]/(2*np.sum(contingency[include_in_display & (all_chroms==chrom_index), 1, 0, :], axis=1)), label='AU mat')\n",
    "plt.plot(xs[include_in_display & (all_chroms==chrom_index)],\n",
    "         contingency[include_in_display & (all_chroms==chrom_index), 1, 1, 1]/(2*np.sum(contingency[include_in_display & (all_chroms==chrom_index), 1, 1, :], axis=1)), label='AU pat')\n",
    "plt.plot(xs[include_in_display & (all_chroms==chrom_index)], \n",
    "         contingency[include_in_display & (all_chroms==chrom_index), 2, 0, 1]/(2*np.sum(contingency[include_in_display & (all_chroms==chrom_index), 2, 0, :], axis=1)), label='AA mat')\n",
    "plt.plot(xs[include_in_display & (all_chroms==chrom_index)], \n",
    "         contingency[include_in_display & (all_chroms==chrom_index), 2, 1, 1]/(2*np.sum(contingency[include_in_display & (all_chroms==chrom_index), 2, 1, :], axis=1)), label='AA pat')\n",
    "#plt.ylim([0, 10])\n",
    "\n",
    "plt.xticks([chrom_to_start_pos[chrom_index]+x[1] for x in cyto if x[0]==chrom], \n",
    "       [x[3] for x in cyto if x[0]==chrom], rotation=90)\n",
    "plt.legend()\n",
    "plt.show()"
   ]
  },
  {
   "cell_type": "code",
   "execution_count": null,
   "metadata": {},
   "outputs": [],
   "source": [
    "plt.figure(figsize=(15, 4))\n",
    "\n",
    "plt.plot(xs[include_in_display & (all_chroms==chrom_index)], \n",
    "         np.sum(contingency[include_in_display & (all_chroms==chrom_index), :, 0, 1], axis=1)/(2*np.sum(contingency[include_in_display & (all_chroms==chrom_index), :, 0, :], axis=(1, 2))), label='mat')\n",
    "plt.plot(xs[include_in_display & (all_chroms==chrom_index)], \n",
    "         np.sum(contingency[include_in_display & (all_chroms==chrom_index), :, 1, 1], axis=1)/(2*np.sum(contingency[include_in_display & (all_chroms==chrom_index), :, 1, :], axis=(1, 2))), label='pat')\n",
    "#plt.ylim([0, 10])\n",
    "\n",
    "plt.xticks([chrom_to_start_pos[chrom_index]+x[1] for x in cyto if x[0]==chrom], \n",
    "       [x[3] for x in cyto if x[0]==chrom], rotation=90)\n",
    "plt.legend()\n",
    "plt.show()"
   ]
  },
  {
   "cell_type": "code",
   "execution_count": null,
   "metadata": {},
   "outputs": [],
   "source": [
    "plt.figure(figsize=(15, 10))\n",
    "\n",
    "ax = plt.subplot(3, 1, 1)\n",
    "\n",
    "plt.plot(xs[include_in_display & (all_chroms==chrom_index)], \n",
    "         -np.log10(mat_pvalues[include_in_display & (all_chroms==chrom_index), index]), label='mat')\n",
    "plt.plot(xs[include_in_display & (all_chroms==chrom_index)], \n",
    "         -np.log10(pat_pvalues[include_in_display & (all_chroms==chrom_index), index]), label='pat')\n",
    "plt.plot(xs[include_in_display & (all_chroms==chrom_index)], \n",
    "         -np.log10(combined_pvalues[include_in_display & (all_chroms==chrom_index), index]), label='combined')\n",
    "plt.axhline(bonferonni_cutoff, color='black', linestyle='--')\n",
    "plt.title('pvalues')\n",
    "plt.legend()\n",
    "\n",
    "plt.subplot(3, 1, 2, sharex=ax)\n",
    "plt.plot(xs[include_in_display & (all_chroms==chrom_index)], \n",
    "         contingency[include_in_display & (all_chroms==chrom_index), 0, 0, 1]/(2*np.sum(contingency[include_in_display & (all_chroms==chrom_index), 0, 0, :], axis=1)), label='UU')\n",
    "plt.plot(xs[include_in_display & (all_chroms==chrom_index)], \n",
    "         contingency[include_in_display & (all_chroms==chrom_index), 1, 0, 1]/(2*np.sum(contingency[include_in_display & (all_chroms==chrom_index), 1, 0, :], axis=1)), label='AU')\n",
    "plt.plot(xs[include_in_display & (all_chroms==chrom_index)], \n",
    "         contingency[include_in_display & (all_chroms==chrom_index), 2, 0, 1]/(2*np.sum(contingency[include_in_display & (all_chroms==chrom_index), 2, 0, :], axis=1)), label='AA')\n",
    "plt.legend()\n",
    "plt.title('Mat')\n",
    "\n",
    "plt.subplot(3, 1, 3, sharex=ax)\n",
    "plt.plot(xs[include_in_display & (all_chroms==chrom_index)], \n",
    "         contingency[include_in_display & (all_chroms==chrom_index), 0, 1, 1]/(2*np.sum(contingency[include_in_display & (all_chroms==chrom_index), 0, 1, :], axis=1)), label='UU')\n",
    "plt.plot(xs[include_in_display & (all_chroms==chrom_index)], \n",
    "         contingency[include_in_display & (all_chroms==chrom_index), 1, 1, 1]/(2*np.sum(contingency[include_in_display & (all_chroms==chrom_index), 1, 1, :], axis=1)), label='AU')\n",
    "plt.plot(xs[include_in_display & (all_chroms==chrom_index)], \n",
    "         contingency[include_in_display & (all_chroms==chrom_index), 2, 1, 1]/(2*np.sum(contingency[include_in_display & (all_chroms==chrom_index), 2, 1, :], axis=1)), label='AA')\n",
    "plt.title('Pat')\n",
    "#plt.ylim([0, 10])\n",
    "plt.legend()\n",
    "\n",
    "plt.xticks([chrom_to_start_pos[chrom_index]+x[1] for x in cyto if x[0]==chrom], \n",
    "       [x[3] for x in cyto if x[0]==chrom], rotation=90)\n",
    "\n",
    "plt.show()"
   ]
  },
  {
   "cell_type": "code",
   "execution_count": null,
   "metadata": {},
   "outputs": [],
   "source": []
  },
  {
   "cell_type": "code",
   "execution_count": null,
   "metadata": {},
   "outputs": [],
   "source": []
  },
  {
   "cell_type": "code",
   "execution_count": null,
   "metadata": {},
   "outputs": [],
   "source": []
  }
 ],
 "metadata": {
  "kernelspec": {
   "display_name": "Python 3",
   "language": "python",
   "name": "python3"
  },
  "language_info": {
   "codemirror_mode": {
    "name": "ipython",
    "version": 3
   },
   "file_extension": ".py",
   "mimetype": "text/x-python",
   "name": "python",
   "nbconvert_exporter": "python",
   "pygments_lexer": "ipython3",
   "version": "3.7.3"
  }
 },
 "nbformat": 4,
 "nbformat_minor": 2
}
