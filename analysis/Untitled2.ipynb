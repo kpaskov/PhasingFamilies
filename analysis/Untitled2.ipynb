{
 "cells": [
  {
   "cell_type": "code",
   "execution_count": 3,
   "metadata": {},
   "outputs": [
    {
     "ename": "ModuleNotFoundError",
     "evalue": "No module named 'inheritance_states'",
     "output_type": "error",
     "traceback": [
      "\u001b[0;31m---------------------------------------------------------------------------\u001b[0m",
      "\u001b[0;31mModuleNotFoundError\u001b[0m                       Traceback (most recent call last)",
      "\u001b[0;32m<ipython-input-3-be9191d2720d>\u001b[0m in \u001b[0;36m<module>\u001b[0;34m\u001b[0m\n\u001b[1;32m      4\u001b[0m \u001b[0;34m\u001b[0m\u001b[0m\n\u001b[1;32m      5\u001b[0m \u001b[0;34m\u001b[0m\u001b[0m\n\u001b[0;32m----> 6\u001b[0;31m \u001b[0;32mfrom\u001b[0m \u001b[0minheritance_states\u001b[0m \u001b[0;32mimport\u001b[0m \u001b[0mAutosomalInheritanceStates\u001b[0m\u001b[0;34m\u001b[0m\u001b[0m\n\u001b[0m\u001b[1;32m      7\u001b[0m \u001b[0;32mfrom\u001b[0m \u001b[0minput_output\u001b[0m \u001b[0;32mimport\u001b[0m \u001b[0mWGSData\u001b[0m\u001b[0;34m,\u001b[0m \u001b[0mwrite_to_file\u001b[0m\u001b[0;34m,\u001b[0m \u001b[0mpull_families\u001b[0m\u001b[0;34m\u001b[0m\u001b[0m\n\u001b[1;32m      8\u001b[0m \u001b[0;32mfrom\u001b[0m \u001b[0mtransition_matrices\u001b[0m \u001b[0;32mimport\u001b[0m \u001b[0mAutosomalTransitionMatrix\u001b[0m\u001b[0;34m\u001b[0m\u001b[0m\n",
      "\u001b[0;31mModuleNotFoundError\u001b[0m: No module named 'inheritance_states'"
     ]
    }
   ],
   "source": [
    "import sys\n",
    "from os import listdir\n",
    "from itertools import product\n",
    "\n",
    "\n",
    "from inheritance_states import AutosomalInheritanceStates\n",
    "from input_output import WGSData, write_to_file, pull_families\n",
    "from transition_matrices import AutosomalTransitionMatrix\n",
    "from genotypes import Genotypes\n",
    "from losses import LazyLoss\n",
    "from viterbi import viterbi_forward_sweep_autosomes, viterbi_backward_sweep_autosomes\n",
    "from mask import mask_states\n"
   ]
  },
  {
   "cell_type": "code",
   "execution_count": 1,
   "metadata": {},
   "outputs": [],
   "source": [
    "# Read in command line arguments\n",
    "chrom = '18'\n",
    "m = 4\n",
    "ped_file = '../data/v34.vcf.ped'\n",
    "data_dir = '../split_gen_miss'\n",
    "batch_num = None\n",
    "batch_offset = None\n",
    "\n",
    "#shift_costs = [10]*4 + [500]*(2*(m-2))\n",
    "shift_costs = [10]*4 + [3*(m-2)]*(2*(m-2))"
   ]
  },
  {
   "cell_type": "code",
   "execution_count": 2,
   "metadata": {},
   "outputs": [
    {
     "ename": "NameError",
     "evalue": "name 'listdir' is not defined",
     "output_type": "error",
     "traceback": [
      "\u001b[0;31m---------------------------------------------------------------------------\u001b[0m",
      "\u001b[0;31mNameError\u001b[0m                                 Traceback (most recent call last)",
      "\u001b[0;32m<ipython-input-2-c5bd8a4b7cea>\u001b[0m in \u001b[0;36m<module>\u001b[0;34m\u001b[0m\n\u001b[1;32m      2\u001b[0m \u001b[0msample_file\u001b[0m \u001b[0;34m=\u001b[0m \u001b[0;34m'%s/chr.%s.gen.samples.txt'\u001b[0m \u001b[0;34m%\u001b[0m \u001b[0;34m(\u001b[0m\u001b[0mdata_dir\u001b[0m\u001b[0;34m,\u001b[0m \u001b[0mchrom\u001b[0m\u001b[0;34m)\u001b[0m\u001b[0;34m\u001b[0m\u001b[0m\n\u001b[1;32m      3\u001b[0m \u001b[0mcoord_file\u001b[0m \u001b[0;34m=\u001b[0m \u001b[0;34m'%s/chr.%s.gen.coordinates.npy'\u001b[0m \u001b[0;34m%\u001b[0m \u001b[0;34m(\u001b[0m\u001b[0mdata_dir\u001b[0m\u001b[0;34m,\u001b[0m  \u001b[0mchrom\u001b[0m\u001b[0;34m)\u001b[0m\u001b[0;34m\u001b[0m\u001b[0m\n\u001b[0;32m----> 4\u001b[0;31m \u001b[0mgen_files\u001b[0m \u001b[0;34m=\u001b[0m \u001b[0msorted\u001b[0m\u001b[0;34m(\u001b[0m\u001b[0;34m[\u001b[0m\u001b[0mf\u001b[0m \u001b[0;32mfor\u001b[0m \u001b[0mf\u001b[0m \u001b[0;32min\u001b[0m \u001b[0mlistdir\u001b[0m\u001b[0;34m(\u001b[0m\u001b[0mdata_dir\u001b[0m\u001b[0;34m)\u001b[0m \u001b[0;32mif\u001b[0m \u001b[0;34m(\u001b[0m\u001b[0;34m'chr.%s'\u001b[0m \u001b[0;34m%\u001b[0m \u001b[0mchrom\u001b[0m\u001b[0;34m)\u001b[0m \u001b[0;32min\u001b[0m \u001b[0mf\u001b[0m \u001b[0;32mand\u001b[0m \u001b[0;34m'gen.npz'\u001b[0m \u001b[0;32min\u001b[0m \u001b[0mf\u001b[0m\u001b[0;34m]\u001b[0m\u001b[0;34m)\u001b[0m\u001b[0;34m\u001b[0m\u001b[0m\n\u001b[0m\u001b[1;32m      5\u001b[0m \u001b[0;34m\u001b[0m\u001b[0m\n\u001b[1;32m      6\u001b[0m \u001b[0mfam_output_file\u001b[0m \u001b[0;34m=\u001b[0m \u001b[0;34m'%s/chr.%s.familysize.%s.families.txt'\u001b[0m \u001b[0;34m%\u001b[0m \u001b[0;34m(\u001b[0m\u001b[0mout_dir\u001b[0m\u001b[0;34m,\u001b[0m \u001b[0mchrom\u001b[0m\u001b[0;34m,\u001b[0m \u001b[0mm\u001b[0m\u001b[0;34m)\u001b[0m\u001b[0;34m\u001b[0m\u001b[0m\n",
      "\u001b[0;31mNameError\u001b[0m: name 'listdir' is not defined"
     ]
    }
   ],
   "source": [
    "# set up filenames\n",
    "sample_file = '%s/chr.%s.gen.samples.txt' % (data_dir, chrom)\n",
    "coord_file = '%s/chr.%s.gen.coordinates.npy' % (data_dir,  chrom)\n",
    "gen_files = sorted([f for f in listdir(data_dir) if ('chr.%s' % chrom) in f and 'gen.npz' in f])\n",
    "\n",
    "fam_output_file = '%s/chr.%s.familysize.%s.families.txt' % (out_dir, chrom, m)\n",
    "phase_output_file = '%s/chr.%s.familysize.%s.phased.txt' % (out_dir, chrom, m)\n",
    "\n",
    "if batch_size is not None:\n",
    "\tbatch_offset = batch_size*batch_num\n",
    "\tfam_output_file = fam_output_file[:-4] + str(batch_num) + '.txt'\n",
    "\tphase_output_file = phase_output_file[:-4] + str(batch_num) + '.txt'\n",
    "\n",
    "# pull families of interest\n",
    "families_of_this_size = pull_families(sample_file, ped_file, m, batch_size, batch_offset)\n",
    "\n",
    "# create inheritance states\n",
    "inheritance_states = AutosomalInheritanceStates(m)\n",
    "\n",
    "# create transition matrix\n",
    "transition_matrix = AutosomalTransitionMatrix(inheritance_states, shift_costs)\n",
    "\n",
    "# create genotypes\n",
    "genotypes = Genotypes(m)\n",
    "\n",
    "# create loss function\n",
    "loss = LazyLoss(m, inheritance_states, genotypes)\n",
    "\n",
    "# get ready to pull processed WGS data \n",
    "wgs_data = WGSData(data_dir, gen_files, coord_file, sample_file, chrom)"
   ]
  },
  {
   "cell_type": "code",
   "execution_count": null,
   "metadata": {},
   "outputs": [],
   "source": []
  }
 ],
 "metadata": {
  "kernelspec": {
   "display_name": "Python 3",
   "language": "python",
   "name": "python3"
  },
  "language_info": {
   "codemirror_mode": {
    "name": "ipython",
    "version": 3
   },
   "file_extension": ".py",
   "mimetype": "text/x-python",
   "name": "python",
   "nbconvert_exporter": "python",
   "pygments_lexer": "ipython3",
   "version": "3.6.6"
  }
 },
 "nbformat": 4,
 "nbformat_minor": 2
}
