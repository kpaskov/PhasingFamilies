{
 "cells": [
  {
   "cell_type": "code",
   "execution_count": 1,
   "metadata": {},
   "outputs": [
    {
     "name": "stderr",
     "output_type": "stream",
     "text": [
      "//anaconda3/lib/python3.7/site-packages/statsmodels/tools/_testing.py:19: FutureWarning: pandas.util.testing is deprecated. Use the functions in the public API at pandas.testing instead.\n",
      "  import pandas.util.testing as tm\n",
      "//anaconda3/lib/python3.7/site-packages/statsmodels/compat/pandas.py:23: FutureWarning: The Panel class is removed from pandas. Accessing it from the top-level namespace will also be removed in the next version\n",
      "  data_klasses = (pandas.Series, pandas.DataFrame, pandas.Panel)\n"
     ]
    }
   ],
   "source": [
    "import os\n",
    "import json\n",
    "from collections import defaultdict\n",
    "import matplotlib.pyplot as plt\n",
    "import numpy as np\n",
    "import scipy.stats as stats\n",
    "from itertools import combinations\n",
    "import statsmodels.api as sm\n"
   ]
  },
  {
   "cell_type": "code",
   "execution_count": 2,
   "metadata": {},
   "outputs": [],
   "source": [
    "phase_dir = '../phased_ssc.hg38_del'\n",
    "ped_file = '../../DATA/ssc.hg38/ssc.ped'\n",
    "assembly = '38'\n",
    "\n",
    "#phase_dir = '../phased_spark_quads_del'\n",
    "#ped_file = '../../DATA/spark/spark.ped.quads.ped'\n",
    "#assembly = '38'"
   ]
  },
  {
   "cell_type": "code",
   "execution_count": 3,
   "metadata": {},
   "outputs": [],
   "source": [
    "def pull_phenotype_ped(ped_file):\n",
    "\tsample_to_sex = dict()\n",
    "\tsample_to_affected = dict()\n",
    "\tparents_to_children = defaultdict(list)\n",
    "\twith open(ped_file, 'r') as f:\n",
    "\t\tfor line in f:\n",
    "\t\t\tpieces = line.strip().split('\\t')\n",
    "\t\t\tsample_to_sex[pieces[1]] = pieces[4]\n",
    "\t\t\tsample_to_affected[pieces[1]] = pieces[5]\n",
    "\t\t\tif pieces[2] != '0' and pieces[3] != '0':\n",
    "\t\t\t\tparents_to_children[(pieces[3], pieces[2])].append(pieces[1])\n",
    "\treturn sample_to_affected, sample_to_sex, parents_to_children\n",
    "sample_to_affected, sample_to_sex, parents_to_children = pull_phenotype_ped(ped_file)"
   ]
  },
  {
   "cell_type": "code",
   "execution_count": 4,
   "metadata": {},
   "outputs": [],
   "source": [
    "# From GRCh37.p13 https://www.ncbi.nlm.nih.gov/grc/human/data?asm=GRCh37.p13\n",
    "chrom_lengths37 = {\n",
    "\t'1': 249250621,\n",
    "\t'2': 243199373,\n",
    "\t'3': 198022430,\n",
    "\t'4': 191154276,\n",
    "\t'5': 180915260,\n",
    "\t'6': 171115067,\n",
    "\t'7': 159138663,\n",
    "\t'8': 146364022,\n",
    "\t'9': 141213431,\n",
    "\t'10': 135534747,\n",
    "\t'11': 135006516,\n",
    "\t'12': 133851895,\n",
    "\t'13': 115169878,\n",
    "\t'14': 107349540,\n",
    "\t'15': 102531392,\n",
    "\t'16': 90354753,\n",
    "\t'17': 81195210,\n",
    "\t'18': 78077248,\n",
    "\t'19': 59128983,\n",
    "\t'20': 63025520,\n",
    "\t'21': 48129895,\n",
    "\t'22': 51304566,\n",
    "#\t'X': 155270560,\n",
    "#\t'Y': 59373566\n",
    "}\n",
    "\n",
    "# From GRCh38.p13 https://www.ncbi.nlm.nih.gov/grc/human/data?asm=GRCh38.p13\n",
    "chrom_lengths38 = {\n",
    "\t'1': 248956422,\n",
    "\t'2': 242193529,\n",
    "\t'3': 198295559,\n",
    "\t'4': 190214555,\n",
    "\t'5': 181538259,\n",
    "\t'6': 170805979,\n",
    "\t'7': 159345973,\n",
    "\t'8': 145138636,\n",
    "\t'9': 138394717,\n",
    "\t'10': 133797422,\n",
    "\t'11': 135086622,\n",
    "\t'12': 133275309,\n",
    "\t'13': 114364328,\n",
    "\t'14': 107043718,\n",
    "\t'15': 101991189,\n",
    "\t'16': 90338345,\n",
    "\t'17': 83257441,\n",
    "\t'18': 80373285,\n",
    "\t'19': 58617616,\n",
    "\t'20': 64444167,\n",
    "\t'21': 46709983,\n",
    "\t'22': 50818468,\n",
    "#\t'X': 156040895,\n",
    "#\t'Y': 57227415\n",
    "}\n",
    "\n",
    "if assembly == '38':\n",
    "    chrom_lengths = chrom_lengths38\n",
    "else:\n",
    "    chrom_lengths = chrom_lengths37"
   ]
  },
  {
   "cell_type": "code",
   "execution_count": 5,
   "metadata": {},
   "outputs": [],
   "source": [
    "cyto = []\n",
    "with open('../data/cytoBand%s.txt' % assembly, 'r') as f:\n",
    "    next(f)\n",
    "    for line in f:\n",
    "        pieces = line.strip().split('\\t')\n",
    "        cyto.append((pieces[0], int(pieces[1]), int(pieces[2]), pieces[3], pieces[4]))\n",
    "\n"
   ]
  },
  {
   "cell_type": "code",
   "execution_count": 6,
   "metadata": {},
   "outputs": [
    {
     "name": "stdout",
     "output_type": "stream",
     "text": [
      "1924\n"
     ]
    }
   ],
   "source": [
    "child_to_crossovers = defaultdict(list)\n",
    "already_included = set()\n",
    "\n",
    "# preferentially pull aut-aut and nt-nt sibpairs\n",
    "for file in sorted(os.listdir(phase_dir)):\n",
    "    if file.endswith('.crossovers.json'):\n",
    "        with open('%s/%s' % (phase_dir, file), 'r') as f:\n",
    "            cos = json.load(f)\n",
    "            if cos[0]['child'][0] in already_included or cos[0]['child'][1] in already_included:\n",
    "                pass\n",
    "                #print('Child(ren) already included in analysis', cos[0]['child'][0], cos[0]['child'][1], file)\n",
    "            elif sample_to_affected[cos[0]['child'][0]]==sample_to_affected[cos[0]['child'][1]]:\n",
    "                for co in cos:\n",
    "                    child_to_crossovers[tuple(co['child'])].append(co)\n",
    "                already_included.add(co['child'][0])\n",
    "                already_included.add(co['child'][1])\n",
    "\n",
    "for file in sorted(os.listdir(phase_dir)):\n",
    "    if file.endswith('.crossovers.json'):\n",
    "        with open('%s/%s' % (phase_dir, file), 'r') as f:\n",
    "            cos = json.load(f)\n",
    "            if cos[0]['child'][0] in already_included or cos[0]['child'][1] in already_included:\n",
    "                pass\n",
    "                #print('Child(ren) already included in analysis', cos[0]['child'][0], cos[0]['child'][1], file)\n",
    "            else:\n",
    "                for co in cos:\n",
    "                    child_to_crossovers[tuple(co['child'])].append(co)\n",
    "                already_included.add(co['child'][0])\n",
    "                already_included.add(co['child'][1])\n",
    "            \n",
    "print(len(child_to_crossovers))"
   ]
  },
  {
   "cell_type": "code",
   "execution_count": 7,
   "metadata": {},
   "outputs": [
    {
     "name": "stdout",
     "output_type": "stream",
     "text": [
      "removing outliers 9\n",
      "1915\n"
     ]
    }
   ],
   "source": [
    "# remove outliers\n",
    "children = sorted(child_to_crossovers.keys())\n",
    "num_cos = np.array([len(child_to_crossovers[x]) for x in children])\n",
    "num_mat_cos = np.array([len([y for y in child_to_crossovers[x] if y['is_mat']]) for x in children])\n",
    "num_pat_cos = np.array([len([y for y in child_to_crossovers[x] if y['is_pat']]) for x in children])\n",
    "\n",
    "co_med = np.median(num_cos)\n",
    "co_mad = np.median(np.abs(num_cos-co_med))\n",
    "co_cutoff = co_mad*4/0.6745\n",
    "\n",
    "mat_co_med = np.median(num_mat_cos)\n",
    "mat_co_mad = np.median(np.abs(num_mat_cos-mat_co_med))\n",
    "mat_co_cutoff = mat_co_mad*4/0.6745\n",
    "\n",
    "pat_co_med = np.median(num_pat_cos)\n",
    "pat_co_mad = np.median(np.abs(num_pat_cos-pat_co_med))\n",
    "pat_co_cutoff = pat_co_mad*4/0.6745\n",
    "\n",
    "is_outlier = (num_cos>co_med+co_cutoff) | (num_cos<co_med-co_cutoff) | \\\n",
    "    (num_mat_cos>mat_co_med+mat_co_cutoff) | (num_mat_cos<mat_co_med-mat_co_cutoff) | \\\n",
    "    (num_pat_cos>pat_co_med+pat_co_cutoff) | (num_pat_cos<pat_co_med-pat_co_cutoff)\n",
    "print('removing outliers', np.sum(is_outlier))\n",
    "\n",
    "for i in np.where(is_outlier)[0]:\n",
    "    del child_to_crossovers[children[i]]\n",
    "print(len(child_to_crossovers))"
   ]
  },
  {
   "cell_type": "code",
   "execution_count": 8,
   "metadata": {},
   "outputs": [
    {
     "name": "stdout",
     "output_type": "stream",
     "text": [
      "0 0 278938\n"
     ]
    }
   ],
   "source": [
    "aut_crossovers = []\n",
    "nt_crossovers = []\n",
    "autnt_crossovers = []\n",
    "for child, crossovers in child_to_crossovers.items():\n",
    "    if sample_to_affected[child[0]]=='2' and sample_to_affected[child[1]]=='2':\n",
    "        aut_crossovers.extend(crossovers)\n",
    "    elif sample_to_affected[child[0]]=='1' and sample_to_affected[child[1]]=='1':\n",
    "        nt_crossovers.extend(crossovers)\n",
    "    elif (sample_to_affected[child[0]]=='1' and sample_to_affected[child[1]]=='2') or (sample_to_affected[child[0]]=='2' and sample_to_affected[child[1]]=='1'):\n",
    "        autnt_crossovers.extend(crossovers)\n",
    "        \n",
    "print(len(aut_crossovers), len(nt_crossovers), len(autnt_crossovers))"
   ]
  },
  {
   "cell_type": "code",
   "execution_count": 9,
   "metadata": {},
   "outputs": [
    {
     "name": "stdout",
     "output_type": "stream",
     "text": [
      "0\n",
      "0\n",
      "1915\n"
     ]
    }
   ],
   "source": [
    "print(len([x for x in child_to_crossovers.keys() if sample_to_affected[x[0]]=='2' and sample_to_affected[x[1]]=='2']))\n",
    "print(len([x for x in child_to_crossovers.keys() if sample_to_affected[x[0]]=='1' and sample_to_affected[x[1]]=='1']))\n",
    "print(len([x for x in child_to_crossovers.keys() if sample_to_affected[x[0]]!=sample_to_affected[x[1]]]))\n",
    "\n",
    "\n"
   ]
  },
  {
   "cell_type": "code",
   "execution_count": 10,
   "metadata": {},
   "outputs": [
    {
     "ename": "ValueError",
     "evalue": "zero-size array to reduction operation minimum which has no identity",
     "output_type": "error",
     "traceback": [
      "\u001b[0;31m---------------------------------------------------------------------------\u001b[0m",
      "\u001b[0;31mValueError\u001b[0m                                Traceback (most recent call last)",
      "\u001b[0;32m<ipython-input-10-482a7fcd724f>\u001b[0m in \u001b[0;36m<module>\u001b[0;34m\u001b[0m\n\u001b[1;32m      5\u001b[0m                 \u001b[0;34m[\u001b[0m\u001b[0mlen\u001b[0m\u001b[0;34m(\u001b[0m\u001b[0mx\u001b[0m\u001b[0;34m)\u001b[0m \u001b[0;32mfor\u001b[0m \u001b[0mchild\u001b[0m\u001b[0;34m,\u001b[0m \u001b[0mx\u001b[0m \u001b[0;32min\u001b[0m \u001b[0mchild_to_crossovers\u001b[0m\u001b[0;34m.\u001b[0m\u001b[0mitems\u001b[0m\u001b[0;34m(\u001b[0m\u001b[0;34m)\u001b[0m \u001b[0;32mif\u001b[0m \u001b[0msample_to_affected\u001b[0m\u001b[0;34m[\u001b[0m\u001b[0mchild\u001b[0m\u001b[0;34m[\u001b[0m\u001b[0;36m0\u001b[0m\u001b[0;34m]\u001b[0m\u001b[0;34m]\u001b[0m\u001b[0;34m!=\u001b[0m\u001b[0msample_to_affected\u001b[0m\u001b[0;34m[\u001b[0m\u001b[0mchild\u001b[0m\u001b[0;34m[\u001b[0m\u001b[0;36m1\u001b[0m\u001b[0;34m]\u001b[0m\u001b[0;34m]\u001b[0m\u001b[0;34m]\u001b[0m\u001b[0;34m,\u001b[0m\u001b[0;34m\u001b[0m\u001b[0;34m\u001b[0m\u001b[0m\n\u001b[1;32m      6\u001b[0m                 [len(x) for child, x in child_to_crossovers.items() if sample_to_affected[child[0]]=='2' and sample_to_affected[child[1]]=='2']],\n\u001b[0;32m----> 7\u001b[0;31m               showmedians=True, showextrema=True)\n\u001b[0m\u001b[1;32m      8\u001b[0m \u001b[0mplt\u001b[0m\u001b[0;34m.\u001b[0m\u001b[0mxticks\u001b[0m\u001b[0;34m(\u001b[0m\u001b[0;34m[\u001b[0m\u001b[0;36m1\u001b[0m\u001b[0;34m,\u001b[0m \u001b[0;36m2\u001b[0m\u001b[0;34m,\u001b[0m \u001b[0;36m3\u001b[0m\u001b[0;34m]\u001b[0m\u001b[0;34m,\u001b[0m \u001b[0;34m[\u001b[0m\u001b[0;34m'typ-typ'\u001b[0m\u001b[0;34m,\u001b[0m \u001b[0;34m'aff-typ'\u001b[0m\u001b[0;34m,\u001b[0m \u001b[0;34m'aff-aff'\u001b[0m\u001b[0;34m]\u001b[0m\u001b[0;34m)\u001b[0m\u001b[0;34m\u001b[0m\u001b[0;34m\u001b[0m\u001b[0m\n\u001b[1;32m      9\u001b[0m \u001b[0mplt\u001b[0m\u001b[0;34m.\u001b[0m\u001b[0maxhline\u001b[0m\u001b[0;34m(\u001b[0m\u001b[0;36m2\u001b[0m\u001b[0;34m*\u001b[0m\u001b[0;34m(\u001b[0m\u001b[0;36m28\u001b[0m\u001b[0;34m+\u001b[0m\u001b[0;36m42\u001b[0m\u001b[0;34m)\u001b[0m\u001b[0;34m,\u001b[0m \u001b[0mcolor\u001b[0m\u001b[0;34m=\u001b[0m\u001b[0;34m'black'\u001b[0m\u001b[0;34m,\u001b[0m \u001b[0mlinestyle\u001b[0m\u001b[0;34m=\u001b[0m\u001b[0;34m'--'\u001b[0m\u001b[0;34m)\u001b[0m\u001b[0;34m\u001b[0m\u001b[0;34m\u001b[0m\u001b[0m\n",
      "\u001b[0;32m//anaconda3/lib/python3.7/site-packages/matplotlib/pyplot.py\u001b[0m in \u001b[0;36mviolinplot\u001b[0;34m(dataset, positions, vert, widths, showmeans, showextrema, showmedians, points, bw_method, data)\u001b[0m\n\u001b[1;32m   3019\u001b[0m         \u001b[0mshowmeans\u001b[0m\u001b[0;34m=\u001b[0m\u001b[0mshowmeans\u001b[0m\u001b[0;34m,\u001b[0m \u001b[0mshowextrema\u001b[0m\u001b[0;34m=\u001b[0m\u001b[0mshowextrema\u001b[0m\u001b[0;34m,\u001b[0m\u001b[0;34m\u001b[0m\u001b[0;34m\u001b[0m\u001b[0m\n\u001b[1;32m   3020\u001b[0m         \u001b[0mshowmedians\u001b[0m\u001b[0;34m=\u001b[0m\u001b[0mshowmedians\u001b[0m\u001b[0;34m,\u001b[0m \u001b[0mpoints\u001b[0m\u001b[0;34m=\u001b[0m\u001b[0mpoints\u001b[0m\u001b[0;34m,\u001b[0m \u001b[0mbw_method\u001b[0m\u001b[0;34m=\u001b[0m\u001b[0mbw_method\u001b[0m\u001b[0;34m,\u001b[0m\u001b[0;34m\u001b[0m\u001b[0;34m\u001b[0m\u001b[0m\n\u001b[0;32m-> 3021\u001b[0;31m         **({\"data\": data} if data is not None else {}))\n\u001b[0m\u001b[1;32m   3022\u001b[0m \u001b[0;34m\u001b[0m\u001b[0m\n\u001b[1;32m   3023\u001b[0m \u001b[0;34m\u001b[0m\u001b[0m\n",
      "\u001b[0;32m//anaconda3/lib/python3.7/site-packages/matplotlib/__init__.py\u001b[0m in \u001b[0;36minner\u001b[0;34m(ax, data, *args, **kwargs)\u001b[0m\n\u001b[1;32m   1587\u001b[0m     \u001b[0;32mdef\u001b[0m \u001b[0minner\u001b[0m\u001b[0;34m(\u001b[0m\u001b[0max\u001b[0m\u001b[0;34m,\u001b[0m \u001b[0;34m*\u001b[0m\u001b[0margs\u001b[0m\u001b[0;34m,\u001b[0m \u001b[0mdata\u001b[0m\u001b[0;34m=\u001b[0m\u001b[0;32mNone\u001b[0m\u001b[0;34m,\u001b[0m \u001b[0;34m**\u001b[0m\u001b[0mkwargs\u001b[0m\u001b[0;34m)\u001b[0m\u001b[0;34m:\u001b[0m\u001b[0;34m\u001b[0m\u001b[0;34m\u001b[0m\u001b[0m\n\u001b[1;32m   1588\u001b[0m         \u001b[0;32mif\u001b[0m \u001b[0mdata\u001b[0m \u001b[0;32mis\u001b[0m \u001b[0;32mNone\u001b[0m\u001b[0;34m:\u001b[0m\u001b[0;34m\u001b[0m\u001b[0;34m\u001b[0m\u001b[0m\n\u001b[0;32m-> 1589\u001b[0;31m             \u001b[0;32mreturn\u001b[0m \u001b[0mfunc\u001b[0m\u001b[0;34m(\u001b[0m\u001b[0max\u001b[0m\u001b[0;34m,\u001b[0m \u001b[0;34m*\u001b[0m\u001b[0mmap\u001b[0m\u001b[0;34m(\u001b[0m\u001b[0msanitize_sequence\u001b[0m\u001b[0;34m,\u001b[0m \u001b[0margs\u001b[0m\u001b[0;34m)\u001b[0m\u001b[0;34m,\u001b[0m \u001b[0;34m**\u001b[0m\u001b[0mkwargs\u001b[0m\u001b[0;34m)\u001b[0m\u001b[0;34m\u001b[0m\u001b[0;34m\u001b[0m\u001b[0m\n\u001b[0m\u001b[1;32m   1590\u001b[0m \u001b[0;34m\u001b[0m\u001b[0m\n\u001b[1;32m   1591\u001b[0m         \u001b[0mbound\u001b[0m \u001b[0;34m=\u001b[0m \u001b[0mnew_sig\u001b[0m\u001b[0;34m.\u001b[0m\u001b[0mbind\u001b[0m\u001b[0;34m(\u001b[0m\u001b[0max\u001b[0m\u001b[0;34m,\u001b[0m \u001b[0;34m*\u001b[0m\u001b[0margs\u001b[0m\u001b[0;34m,\u001b[0m \u001b[0;34m**\u001b[0m\u001b[0mkwargs\u001b[0m\u001b[0;34m)\u001b[0m\u001b[0;34m\u001b[0m\u001b[0;34m\u001b[0m\u001b[0m\n",
      "\u001b[0;32m//anaconda3/lib/python3.7/site-packages/matplotlib/axes/_axes.py\u001b[0m in \u001b[0;36mviolinplot\u001b[0;34m(self, dataset, positions, vert, widths, showmeans, showextrema, showmedians, points, bw_method)\u001b[0m\n\u001b[1;32m   8030\u001b[0m             \u001b[0;32mreturn\u001b[0m \u001b[0mkde\u001b[0m\u001b[0;34m.\u001b[0m\u001b[0mevaluate\u001b[0m\u001b[0;34m(\u001b[0m\u001b[0mcoords\u001b[0m\u001b[0;34m)\u001b[0m\u001b[0;34m\u001b[0m\u001b[0;34m\u001b[0m\u001b[0m\n\u001b[1;32m   8031\u001b[0m \u001b[0;34m\u001b[0m\u001b[0m\n\u001b[0;32m-> 8032\u001b[0;31m         \u001b[0mvpstats\u001b[0m \u001b[0;34m=\u001b[0m \u001b[0mcbook\u001b[0m\u001b[0;34m.\u001b[0m\u001b[0mviolin_stats\u001b[0m\u001b[0;34m(\u001b[0m\u001b[0mdataset\u001b[0m\u001b[0;34m,\u001b[0m \u001b[0m_kde_method\u001b[0m\u001b[0;34m,\u001b[0m \u001b[0mpoints\u001b[0m\u001b[0;34m=\u001b[0m\u001b[0mpoints\u001b[0m\u001b[0;34m)\u001b[0m\u001b[0;34m\u001b[0m\u001b[0;34m\u001b[0m\u001b[0m\n\u001b[0m\u001b[1;32m   8033\u001b[0m         return self.violin(vpstats, positions=positions, vert=vert,\n\u001b[1;32m   8034\u001b[0m                            \u001b[0mwidths\u001b[0m\u001b[0;34m=\u001b[0m\u001b[0mwidths\u001b[0m\u001b[0;34m,\u001b[0m \u001b[0mshowmeans\u001b[0m\u001b[0;34m=\u001b[0m\u001b[0mshowmeans\u001b[0m\u001b[0;34m,\u001b[0m\u001b[0;34m\u001b[0m\u001b[0;34m\u001b[0m\u001b[0m\n",
      "\u001b[0;32m//anaconda3/lib/python3.7/site-packages/matplotlib/cbook/__init__.py\u001b[0m in \u001b[0;36mviolin_stats\u001b[0;34m(X, method, points)\u001b[0m\n\u001b[1;32m   1482\u001b[0m \u001b[0;34m\u001b[0m\u001b[0m\n\u001b[1;32m   1483\u001b[0m         \u001b[0;31m# Calculate basic stats for the distribution\u001b[0m\u001b[0;34m\u001b[0m\u001b[0;34m\u001b[0m\u001b[0;34m\u001b[0m\u001b[0m\n\u001b[0;32m-> 1484\u001b[0;31m         \u001b[0mmin_val\u001b[0m \u001b[0;34m=\u001b[0m \u001b[0mnp\u001b[0m\u001b[0;34m.\u001b[0m\u001b[0mmin\u001b[0m\u001b[0;34m(\u001b[0m\u001b[0mx\u001b[0m\u001b[0;34m)\u001b[0m\u001b[0;34m\u001b[0m\u001b[0;34m\u001b[0m\u001b[0m\n\u001b[0m\u001b[1;32m   1485\u001b[0m         \u001b[0mmax_val\u001b[0m \u001b[0;34m=\u001b[0m \u001b[0mnp\u001b[0m\u001b[0;34m.\u001b[0m\u001b[0mmax\u001b[0m\u001b[0;34m(\u001b[0m\u001b[0mx\u001b[0m\u001b[0;34m)\u001b[0m\u001b[0;34m\u001b[0m\u001b[0;34m\u001b[0m\u001b[0m\n\u001b[1;32m   1486\u001b[0m \u001b[0;34m\u001b[0m\u001b[0m\n",
      "\u001b[0;32m//anaconda3/lib/python3.7/site-packages/numpy/core/fromnumeric.py\u001b[0m in \u001b[0;36mamin\u001b[0;34m(a, axis, out, keepdims, initial)\u001b[0m\n\u001b[1;32m   2616\u001b[0m     \"\"\"\n\u001b[1;32m   2617\u001b[0m     return _wrapreduction(a, np.minimum, 'min', axis, None, out, keepdims=keepdims,\n\u001b[0;32m-> 2618\u001b[0;31m                           initial=initial)\n\u001b[0m\u001b[1;32m   2619\u001b[0m \u001b[0;34m\u001b[0m\u001b[0m\n\u001b[1;32m   2620\u001b[0m \u001b[0;34m\u001b[0m\u001b[0m\n",
      "\u001b[0;32m//anaconda3/lib/python3.7/site-packages/numpy/core/fromnumeric.py\u001b[0m in \u001b[0;36m_wrapreduction\u001b[0;34m(obj, ufunc, method, axis, dtype, out, **kwargs)\u001b[0m\n\u001b[1;32m     84\u001b[0m                 \u001b[0;32mreturn\u001b[0m \u001b[0mreduction\u001b[0m\u001b[0;34m(\u001b[0m\u001b[0maxis\u001b[0m\u001b[0;34m=\u001b[0m\u001b[0maxis\u001b[0m\u001b[0;34m,\u001b[0m \u001b[0mout\u001b[0m\u001b[0;34m=\u001b[0m\u001b[0mout\u001b[0m\u001b[0;34m,\u001b[0m \u001b[0;34m**\u001b[0m\u001b[0mpasskwargs\u001b[0m\u001b[0;34m)\u001b[0m\u001b[0;34m\u001b[0m\u001b[0;34m\u001b[0m\u001b[0m\n\u001b[1;32m     85\u001b[0m \u001b[0;34m\u001b[0m\u001b[0m\n\u001b[0;32m---> 86\u001b[0;31m     \u001b[0;32mreturn\u001b[0m \u001b[0mufunc\u001b[0m\u001b[0;34m.\u001b[0m\u001b[0mreduce\u001b[0m\u001b[0;34m(\u001b[0m\u001b[0mobj\u001b[0m\u001b[0;34m,\u001b[0m \u001b[0maxis\u001b[0m\u001b[0;34m,\u001b[0m \u001b[0mdtype\u001b[0m\u001b[0;34m,\u001b[0m \u001b[0mout\u001b[0m\u001b[0;34m,\u001b[0m \u001b[0;34m**\u001b[0m\u001b[0mpasskwargs\u001b[0m\u001b[0;34m)\u001b[0m\u001b[0;34m\u001b[0m\u001b[0;34m\u001b[0m\u001b[0m\n\u001b[0m\u001b[1;32m     87\u001b[0m \u001b[0;34m\u001b[0m\u001b[0m\n\u001b[1;32m     88\u001b[0m \u001b[0;34m\u001b[0m\u001b[0m\n",
      "\u001b[0;31mValueError\u001b[0m: zero-size array to reduction operation minimum which has no identity"
     ]
    },
    {
     "data": {
      "image/png": "[encoded data removed]",
      "text/plain": [
       "<Figure size 1080x360 with 1 Axes>"
      ]
     },
     "metadata": {
      "needs_background": "light"
     },
     "output_type": "display_data"
    }
   ],
   "source": [
    "plt.figure(figsize=(15, 5))\n",
    "\n",
    "plt.subplot(1, 3, 1)\n",
    "plt.violinplot([[len(x) for child, x in child_to_crossovers.items() if sample_to_affected[child[0]]=='1' and sample_to_affected[child[1]]=='1'],\n",
    "                [len(x) for child, x in child_to_crossovers.items() if sample_to_affected[child[0]]!=sample_to_affected[child[1]]],\n",
    "                [len(x) for child, x in child_to_crossovers.items() if sample_to_affected[child[0]]=='2' and sample_to_affected[child[1]]=='2']],\n",
    "              showmedians=True, showextrema=True)\n",
    "plt.xticks([1, 2, 3], ['typ-typ', 'aff-typ', 'aff-aff'])\n",
    "plt.axhline(2*(28+42), color='black', linestyle='--')\n",
    "\n",
    "plt.subplot(1, 3, 2)\n",
    "plt.violinplot([[len([y for y in x if y['is_mat']]) for child, x in child_to_crossovers.items() if sample_to_affected[child[0]]=='1' and sample_to_affected[child[1]]=='1'],\n",
    "                [len([y for y in x if y['is_mat']]) for child, x in child_to_crossovers.items() if sample_to_affected[child[0]]!=sample_to_affected[child[1]]],\n",
    "                [len([y for y in x if y['is_mat']]) for child, x in child_to_crossovers.items() if sample_to_affected[child[0]]=='2' and sample_to_affected[child[1]]=='2']],\n",
    "               showmedians=True, showextrema=True)\n",
    "plt.xticks([1, 2, 3], ['typ-typ', 'aff-typ', 'aff-aff'])\n",
    "plt.axhline(2*42, color='black', linestyle='--')\n",
    "\n",
    "plt.subplot(1, 3, 3)\n",
    "plt.violinplot([[len([y for y in x if y['is_pat']]) for child, x in child_to_crossovers.items() if sample_to_affected[child[0]]=='1' and sample_to_affected[child[1]]=='1'],\n",
    "                [len([y for y in x if y['is_pat']]) for child, x in child_to_crossovers.items() if sample_to_affected[child[0]]!=sample_to_affected[child[1]]],\n",
    "                [len([y for y in x if y['is_pat']]) for child, x in child_to_crossovers.items() if sample_to_affected[child[0]]=='2' and sample_to_affected[child[1]]=='2']],\n",
    "               showmedians=True, showextrema=True)\n",
    "plt.xticks([1, 2, 3], ['typ-typ', 'aff-typ', 'aff-aff'])\n",
    "plt.axhline(2*28, color='black', linestyle='--')\n",
    "\n",
    "plt.show()"
   ]
  },
  {
   "cell_type": "code",
   "execution_count": null,
   "metadata": {},
   "outputs": [],
   "source": [
    "X = np.zeros((len(child_to_crossovers), 5))\n",
    "y = -np.ones((len(child_to_crossovers),))\n",
    "for i, (child, cos) in enumerate(child_to_crossovers.items()):\n",
    "    X[i, 0] = len([c for c in cos if c['is_mat']])\n",
    "    X[i, 1] = len([c for c in cos if c['is_pat']])\n",
    "    X[i, 2] = int(sample_to_sex[child[0]]=='1' and sample_to_sex[child[1]]=='1')\n",
    "    X[i, 3] = int(sample_to_sex[child[0]]=='2' and sample_to_sex[child[1]]=='2')\n",
    "    X[i, 4] = 1\n",
    "    if sample_to_affected[child[0]]=='2' and sample_to_affected[child[1]]=='2':\n",
    "        y[i] = 1\n",
    "    elif sample_to_affected[child[0]]=='1' and sample_to_affected[child[1]]=='1':\n",
    "        y[i] = 0\n",
    "    \n",
    "print(np.sum(y==1), np.sum(y==0))\n",
    "model = sm.Logit(y[y!=-1], X[y!=-1, :])\n",
    "results = model.fit(disp=False)\n",
    "results.summary()\n"
   ]
  },
  {
   "cell_type": "code",
   "execution_count": null,
   "metadata": {},
   "outputs": [],
   "source": [
    "X = np.zeros((len(child_to_crossovers), 4))\n",
    "y = -np.ones((len(child_to_crossovers),))\n",
    "for i, (child, cos) in enumerate(child_to_crossovers.items()):\n",
    "    X[i, 0] = len([c for c in cos])\n",
    "    X[i, 1] = int(sample_to_sex[child[0]]=='1' and sample_to_sex[child[1]]=='1')\n",
    "    X[i, 2] = int(sample_to_sex[child[0]]=='2' and sample_to_sex[child[1]]=='2')\n",
    "    X[i, 3] = 1\n",
    "    if sample_to_affected[child[0]]=='2' and sample_to_affected[child[1]]=='2':\n",
    "        y[i] = 1\n",
    "    elif sample_to_affected[child[0]]=='1' and sample_to_affected[child[1]]=='1':\n",
    "        y[i] = 0\n",
    "    \n",
    "print(np.sum(y==1), np.sum(y==0))\n",
    "model = sm.Logit(y[y!=-1], X[y!=-1, :])\n",
    "results = model.fit(disp=False)\n",
    "results.summary()\n"
   ]
  },
  {
   "cell_type": "code",
   "execution_count": null,
   "metadata": {},
   "outputs": [],
   "source": [
    "positions = set()\n",
    "for chrom in np.arange(1, 23):\n",
    "    l = chrom_lengths[str(chrom)]\n",
    "    cens = [x for x in cyto if x[0]=='chr%d'%chrom and x[4]=='acen']\n",
    "    \n",
    "    positions.add((chrom, 1))\n",
    "    positions.add((chrom, cens[0][1]))\n",
    "    positions.add((chrom, cens[-1][2]))\n",
    "    positions.add((chrom, l))\n",
    "    \n",
    "    \n",
    "positions = sorted(positions)\n",
    "print(len(positions))"
   ]
  },
  {
   "cell_type": "code",
   "execution_count": null,
   "metadata": {},
   "outputs": [],
   "source": [
    "interval_lengths = np.array([0 if positions[i+1][0] != positions[i][0] else positions[i+1][1]-positions[i][1] for i in np.arange(len(positions)-1)])"
   ]
  },
  {
   "cell_type": "code",
   "execution_count": null,
   "metadata": {},
   "outputs": [],
   "source": [
    "p_autcross, p_ntcross = np.zeros((len(positions),)), np.zeros((len(positions),))\n",
    "for chrom in range(1, 23):\n",
    "    print(chrom, end=' ')\n",
    "    indices = [i for i in np.arange(len(positions)-1) if positions[i][0]==chrom and positions[i+1][0]==chrom]\n",
    "    for co in [x for x in aut_crossovers if x['chrom']==chrom and x['is_pat']]:\n",
    "        for i in indices:\n",
    "            overlap = min(positions[i+1][1], co['end_pos']) - max(positions[i][1], co['start_pos'])\n",
    "            if overlap>0:\n",
    "                p_autcross[i] += overlap/(co['end_pos']-co['start_pos'])\n",
    "                \n",
    "    for co in [x for x in nt_crossovers if x['chrom']==chrom and x['is_pat']]:\n",
    "        for i in indices:\n",
    "            overlap = min(positions[i+1][1], co['end_pos']) - max(positions[i][1], co['start_pos'])\n",
    "            if overlap>0:\n",
    "                p_ntcross[i] += overlap/(co['end_pos']-co['start_pos'])\n",
    "p_autcross = p_autcross/len(aut_crossovers)\n",
    "p_ntcross = p_ntcross/len(nt_crossovers)\n"
   ]
  },
  {
   "cell_type": "code",
   "execution_count": 11,
   "metadata": {},
   "outputs": [
    {
     "ename": "NameError",
     "evalue": "name 'p_autcross' is not defined",
     "output_type": "error",
     "traceback": [
      "\u001b[0;31m---------------------------------------------------------------------------\u001b[0m",
      "\u001b[0;31mNameError\u001b[0m                                 Traceback (most recent call last)",
      "\u001b[0;32m<ipython-input-11-5040662fedbf>\u001b[0m in \u001b[0;36m<module>\u001b[0;34m\u001b[0m\n\u001b[1;32m      1\u001b[0m \u001b[0mplt\u001b[0m\u001b[0;34m.\u001b[0m\u001b[0mfigure\u001b[0m\u001b[0;34m(\u001b[0m\u001b[0mfigsize\u001b[0m\u001b[0;34m=\u001b[0m\u001b[0;34m(\u001b[0m\u001b[0;36m15\u001b[0m\u001b[0;34m,\u001b[0m \u001b[0;36m5\u001b[0m\u001b[0;34m)\u001b[0m\u001b[0;34m)\u001b[0m\u001b[0;34m\u001b[0m\u001b[0;34m\u001b[0m\u001b[0m\n\u001b[0;32m----> 2\u001b[0;31m \u001b[0mplt\u001b[0m\u001b[0;34m.\u001b[0m\u001b[0mplot\u001b[0m\u001b[0;34m(\u001b[0m\u001b[0mp_autcross\u001b[0m\u001b[0;34m,\u001b[0m \u001b[0malpha\u001b[0m\u001b[0;34m=\u001b[0m\u001b[0;36m0.5\u001b[0m\u001b[0;34m)\u001b[0m\u001b[0;34m\u001b[0m\u001b[0;34m\u001b[0m\u001b[0m\n\u001b[0m\u001b[1;32m      3\u001b[0m \u001b[0mplt\u001b[0m\u001b[0;34m.\u001b[0m\u001b[0mplot\u001b[0m\u001b[0;34m(\u001b[0m\u001b[0mp_ntcross\u001b[0m\u001b[0;34m,\u001b[0m \u001b[0malpha\u001b[0m\u001b[0;34m=\u001b[0m\u001b[0;36m0.5\u001b[0m\u001b[0;34m)\u001b[0m\u001b[0;34m\u001b[0m\u001b[0;34m\u001b[0m\u001b[0m\n\u001b[1;32m      4\u001b[0m plt.xticks([0] + np.where([positions[i+1][0]!=positions[i][0] for i in np.arange(len(positions)-1)])[0].tolist(), \n\u001b[1;32m      5\u001b[0m           [str(x) for x in range(1, 23)])\n",
      "\u001b[0;31mNameError\u001b[0m: name 'p_autcross' is not defined"
     ]
    },
    {
     "data": {
      "text/plain": [
       "<Figure size 1080x360 with 0 Axes>"
      ]
     },
     "metadata": {},
     "output_type": "display_data"
    }
   ],
   "source": [
    "plt.figure(figsize=(15, 5))\n",
    "plt.plot(p_autcross, alpha=0.5)\n",
    "plt.plot(p_ntcross, alpha=0.5)\n",
    "plt.xticks([0] + np.where([positions[i+1][0]!=positions[i][0] for i in np.arange(len(positions)-1)])[0].tolist(), \n",
    "          [str(x) for x in range(1, 23)])\n",
    "plt.show()"
   ]
  },
  {
   "cell_type": "code",
   "execution_count": 329,
   "metadata": {},
   "outputs": [
    {
     "data": {
      "image/png": "[encoded data removed]",
      "text/plain": [
       "<Figure size 1080x360 with 1 Axes>"
      ]
     },
     "metadata": {
      "needs_background": "light"
     },
     "output_type": "display_data"
    }
   ],
   "source": [
    "plt.figure(figsize=(15, 5))\n",
    "plt.plot((p_autcross-p_ntcross), alpha=0.5)\n",
    "plt.xticks([0] + np.where([positions[i+1][0]!=positions[i][0] for i in np.arange(len(positions)-1)])[0].tolist(), \n",
    "          [str(x) for x in range(1, 23)])\n",
    "plt.show()"
   ]
  },
  {
   "cell_type": "code",
   "execution_count": 336,
   "metadata": {},
   "outputs": [
    {
     "name": "stderr",
     "output_type": "stream",
     "text": [
      "//anaconda3/lib/python3.7/site-packages/ipykernel/__main__.py:1: RuntimeWarning: divide by zero encountered in log10\n",
      "  if __name__ == '__main__':\n"
     ]
    },
    {
     "data": {
      "image/png": "[encoded data removed]",
      "text/plain": [
       "<Figure size 432x288 with 1 Axes>"
      ]
     },
     "metadata": {
      "needs_background": "light"
     },
     "output_type": "display_data"
    }
   ],
   "source": [
    "plt.scatter(np.log10(p_autcross[np.arange(0, 88, 4)]), np.log10(p_ntcross[np.arange(0, 88, 4)]), alpha=0.5)\n",
    "plt.scatter(np.log10(p_autcross[np.arange(2, 88, 4)]), np.log10(p_ntcross[np.arange(2, 88, 4)]), alpha=0.5)\n",
    "plt.plot(plt.xlim(), plt.xlim(), color='black', linestyle='--')\n",
    "plt.xlim([-2.5, None])\n",
    "plt.ylim([-2.5, None])\n",
    "plt.show()"
   ]
  },
  {
   "cell_type": "code",
   "execution_count": null,
   "metadata": {},
   "outputs": [],
   "source": []
  }
 ],
 "metadata": {
  "kernelspec": {
   "display_name": "Python 3",
   "language": "python",
   "name": "python3"
  },
  "language_info": {
   "codemirror_mode": {
    "name": "ipython",
    "version": 3
   },
   "file_extension": ".py",
   "mimetype": "text/x-python",
   "name": "python",
   "nbconvert_exporter": "python",
   "pygments_lexer": "ipython3",
   "version": "3.7.3"
  }
 },
 "nbformat": 4,
 "nbformat_minor": 2
}
