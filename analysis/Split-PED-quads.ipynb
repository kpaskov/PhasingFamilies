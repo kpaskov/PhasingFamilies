{
 "cells": [
  {
   "cell_type": "code",
   "execution_count": 4,
   "metadata": {},
   "outputs": [
    {
     "name": "stdout",
     "output_type": "stream",
     "text": [
      "4611\n"
     ]
    }
   ],
   "source": [
    "from collections import defaultdict\n",
    "\n",
    "famkey_to_individuals = defaultdict(list)\n",
    "with open('../data/v34.vcf.ped') as f:\n",
    "    header = next(f).strip().split('\\t')\n",
    "    \n",
    "    for line in f:\n",
    "        pieces = line.strip().split('\\t')\n",
    "        famkey_to_individuals[pieces[0]] = pieces[1:]\n",
    "print(len(famkey_to_individuals))"
   ]
  },
  {
   "cell_type": "code",
   "execution_count": null,
   "metadata": {},
   "outputs": [],
   "source": [
    "famkey_to_individuals = dict()\n",
    "\n",
    "for line in lines[1:]:\n",
    "    \n",
    "\n",
    "with open('../data/v34.quad.vcf.ped') as f:\n",
    "    f.write(lines[0]) # write header\n",
    "    \n",
    "    "
   ]
  }
 ],
 "metadata": {
  "kernelspec": {
   "display_name": "Python 3",
   "language": "python",
   "name": "python3"
  },
  "language_info": {
   "codemirror_mode": {
    "name": "ipython",
    "version": 3
   },
   "file_extension": ".py",
   "mimetype": "text/x-python",
   "name": "python",
   "nbconvert_exporter": "python",
   "pygments_lexer": "ipython3",
   "version": "3.6.6"
  }
 },
 "nbformat": 4,
 "nbformat_minor": 2
}
