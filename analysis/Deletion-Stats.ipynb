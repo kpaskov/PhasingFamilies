{
 "cells": [
  {
   "cell_type": "code",
   "execution_count": 85,
   "metadata": {
    "collapsed": true
   },
   "outputs": [],
   "source": [
    "chrom = '22'\n",
    "family_sizes = [3, 4, 5]\n",
    "phase_dir = '../phased'\n",
    "data_dir = '../split_gen_miss'"
   ]
  },
  {
   "cell_type": "code",
   "execution_count": 86,
   "metadata": {},
   "outputs": [
    {
     "name": "stdout",
     "output_type": "stream",
     "text": [
      "Chrom length 51304566\n"
     ]
    }
   ],
   "source": [
    "import numpy as np\n",
    "\n",
    "# Pull chrom length from cytogenetic coordinates\n",
    "chrom_length = 0\n",
    "xticks, xticklabels = [], []\n",
    "with open('../data/cytoBand.txt', 'r') as f:\n",
    "    for line in f:\n",
    "        pieces = line.strip().split()\n",
    "        if pieces[0] == 'chr%s' % chrom:\n",
    "            xticks.append(int(pieces[1]))\n",
    "            xticklabels.append(pieces[3])\n",
    "            chrom_length = max(chrom_length, int(pieces[1]), int(pieces[2]))\n",
    "print('Chrom length', chrom_length)"
   ]
  },
  {
   "cell_type": "code",
   "execution_count": 87,
   "metadata": {},
   "outputs": [
    {
     "name": "stdout",
     "output_type": "stream",
     "text": [
      "m 3240\n"
     ]
    }
   ],
   "source": [
    "from collections import Counter\n",
    "\n",
    "# sample_ids\n",
    "families = set()\n",
    "for j in family_sizes:\n",
    "    with open('%s/chr.%s.familysize.%d.families.txt' % (phase_dir, chrom, j), 'r')  as famf:\n",
    "        next(famf) # skip header\n",
    "        for line in famf:\n",
    "            pieces = line.strip().split('\\t')\n",
    "            families.add(pieces[0])\n",
    "            \n",
    "family_to_index = dict([(x, i) for i, x in enumerate(families)])\n",
    "m = 4*len(family_to_index)\n",
    "print('m', m)"
   ]
  },
  {
   "cell_type": "code",
   "execution_count": 88,
   "metadata": {},
   "outputs": [
    {
     "name": "stdout",
     "output_type": "stream",
     "text": [
      "n 1003938\n"
     ]
    }
   ],
   "source": [
    "from scipy import sparse\n",
    "from os import listdir\n",
    "\n",
    "clean_file = '%s/clean_indices_%s.txt' % (data_dir, chrom) \n",
    "\n",
    "# use only \"cleaned\" variants - must be SNPs and missingness in parents can't be sex-biased\n",
    "snp_indices = []\n",
    "snp_positions = []\n",
    "with open(clean_file, 'r') as f:\n",
    "    for i, line in enumerate(f):\n",
    "        index, position = line.strip().split('\\t')\n",
    "        snp_indices.append(int(index))\n",
    "        snp_positions.append(int(position))\n",
    "snp_positions = np.array(snp_positions)\n",
    "pos_to_index = dict([(x, i) for i, x in enumerate(snp_positions)])\n",
    "\n",
    "n = len(pos_to_index)\n",
    "print('n', n)"
   ]
  },
  {
   "cell_type": "code",
   "execution_count": 89,
   "metadata": {},
   "outputs": [],
   "source": [
    "from collections import defaultdict\n",
    "\n",
    "# load deletions\n",
    "deletions = np.zeros((m, n), dtype=np.int8)-1\n",
    "\n",
    "for j in family_sizes:\n",
    "    with open('%s/chr.%s.familysize.%d.families.txt' % (phase_dir, chrom, j), 'r')  as famf, \\\n",
    "    open('%s/chr.%s.familysize.%d.phased.txt' % (phase_dir, chrom, j), 'r')  as phasef:\n",
    "        next(famf) # skip header\n",
    "        next(phasef) # skip header\n",
    "        \n",
    "        fam_pieces = (None,)\n",
    "        \n",
    "        for line in phasef:\n",
    "            pieces = line.strip().split('\\t')\n",
    "            family_key = pieces[0]\n",
    "            state = list(map(int, pieces[1:(1+(j*2))]))\n",
    "            start_pos, end_pos = [int(x) for x in pieces[(1+(j*2)):(3+(j*2))]]\n",
    "            start_index, end_index = pos_to_index[start_pos], pos_to_index[end_pos]\n",
    "            \n",
    "            # make sure we're on the right family\n",
    "            while family_key != fam_pieces[0]:\n",
    "                fam_pieces = next(famf).strip().split('\\t')\n",
    "                fam_individuals = fam_pieces[1:(1+j)]\n",
    "                \n",
    "            if family_key in family_to_index:\n",
    "                deletions[4*family_to_index[family_key], start_index:(end_index+1)] = state[0]\n",
    "                deletions[(4*family_to_index[family_key])+1, start_index:(end_index+1)] = state[1]\n",
    "                deletions[(4*family_to_index[family_key])+2, start_index:(end_index+1)] = state[2]\n",
    "                deletions[(4*family_to_index[family_key])+3, start_index:(end_index+1)] = state[3]"
   ]
  },
  {
   "cell_type": "code",
   "execution_count": 97,
   "metadata": {},
   "outputs": [],
   "source": [
    "deletions[deletions[:, 0]==1, 0] = -1\n",
    "deletions[deletions[:, -1]==1, -1] = -1\n",
    "del_starts = np.where((deletions[:, :-1] != 1) & (deletions[:, 1:] == 1))\n",
    "del_ends = np.where((deletions[:, :-1] == 1) & (deletions[:, 1:] != 1))\n",
    "del_lengths = snp_positions[del_ends[1]]-snp_positions[del_starts[1]+1]+1\n",
    "\n",
    "opt_del_starts = []\n",
    "opt_del_ends = []\n",
    "\n",
    "for ind_index, start, ind_index2, end in zip(del_starts[0], del_starts[1], del_ends[0], del_ends[1]):\n",
    "    if ind_index == ind_index2:\n",
    "        for i in range(start+1):\n",
    "            if deletions[ind_index, start-i] == 0:\n",
    "                break\n",
    "        opt_del_starts.append(start-i+1)\n",
    "        \n",
    "        for i in range(1, n-end):\n",
    "            if deletions[ind_index, end+i] == 0:\n",
    "                break\n",
    "        opt_del_ends.append(end+i-1)\n",
    "    else:\n",
    "        print('Error', in_index, ind_index2, start, end)\n",
    "        \n",
    "opt_del_lengths = snp_positions[opt_del_ends]-snp_positions[opt_del_starts]+1\n"
   ]
  },
  {
   "cell_type": "code",
   "execution_count": 98,
   "metadata": {},
   "outputs": [
    {
     "name": "stdout",
     "output_type": "stream",
     "text": [
      "min length 21 max length 960035 num 136310 median 2452.0\n",
      "min length 24 max length 29526195 num 136310 median 3835.0\n"
     ]
    },
    {
     "data": {
      "image/png": "[encoded data removed]",
      "text/plain": [
       "<matplotlib.figure.Figure at 0x11e49e908>"
      ]
     },
     "metadata": {},
     "output_type": "display_data"
    }
   ],
   "source": [
    "import math\n",
    "\n",
    "plt.figure(figsize=(10, 5))\n",
    "base = 1.5\n",
    "max_length = max(opt_del_lengths) \n",
    "min_length = min(del_lengths) \n",
    "print('min length', min(del_lengths) , 'max length', max(del_lengths) , 'num', len(del_lengths), 'median', np.median(del_lengths))\n",
    "print('min length', min(opt_del_lengths) , 'max length', max(opt_del_lengths) , 'num', len(opt_del_lengths), 'median', np.median(opt_del_lengths))\n",
    "\n",
    "plt.hist(del_lengths, bins=[pow(base, i) for i in range(math.ceil(math.log(max_length, base))+1)], alpha=0.5)\n",
    "plt.hist(opt_del_lengths, bins=[pow(base, i) for i in range(math.ceil(math.log(max_length, base))+1)], alpha=0.5)\n",
    "\n",
    "plt.gca().set_xscale(\"log\")\n",
    "plt.show()"
   ]
  },
  {
   "cell_type": "code",
   "execution_count": 100,
   "metadata": {},
   "outputs": [
    {
     "name": "stdout",
     "output_type": "stream",
     "text": [
      "Percent 1 0.4323013718729367\n",
      "Percent 1 0.4222140708678747\n",
      "min length 1 max length 9389781 num 136310 median 46.0\n",
      "min length 1 max length 29517832 num 136310 median 53.0\n"
     ]
    },
    {
     "data": {
      "image/png": "[encoded data removed]",
      "text/plain": [
       "<matplotlib.figure.Figure at 0x11ec14f60>"
      ]
     },
     "metadata": {},
     "output_type": "display_data"
    }
   ],
   "source": [
    "plt.figure(figsize=(10, 5))\n",
    "base = 1.5\n",
    "\n",
    "start_unknown = snp_positions[del_starts[1]+1]-snp_positions[opt_del_starts]+1\n",
    "end_unknown = snp_positions[opt_del_ends]-snp_positions[del_ends[1]]+1\n",
    "\n",
    "print('Percent 1', len([x for x in start_unknown if x == 1])/len(start_unknown))\n",
    "print('Percent 1', len([x for x in end_unknown if x == 1])/len(end_unknown))\n",
    "\n",
    "max_length = max(max(start_unknown), max(end_unknown))\n",
    "min_length = min(min(start_unknown), min(end_unknown))\n",
    "print('min length', min(start_unknown) , 'max length', max(start_unknown) , 'num', len(start_unknown), 'median', np.median(start_unknown))\n",
    "print('min length', min(end_unknown) , 'max length', max(end_unknown) , 'num', len(end_unknown), 'median', np.median(end_unknown))\n",
    "\n",
    "plt.hist(start_unknown, bins=[pow(base, i) for i in range(1, math.ceil(math.log(max_length, base))+1)], alpha=0.5)\n",
    "plt.hist(end_unknown, bins=[pow(base, i) for i in range(1, math.ceil(math.log(max_length, base))+1)], alpha=0.5)\n",
    "\n",
    "plt.gca().set_xscale(\"log\")\n",
    "plt.show()"
   ]
  },
  {
   "cell_type": "code",
   "execution_count": null,
   "metadata": {
    "collapsed": true
   },
   "outputs": [],
   "source": []
  }
 ],
 "metadata": {
  "kernelspec": {
   "display_name": "Python 3",
   "language": "python",
   "name": "python3"
  },
  "language_info": {
   "codemirror_mode": {
    "name": "ipython",
    "version": 3
   },
   "file_extension": ".py",
   "mimetype": "text/x-python",
   "name": "python",
   "nbconvert_exporter": "python",
   "pygments_lexer": "ipython3",
   "version": "3.6.1"
  }
 },
 "nbformat": 4,
 "nbformat_minor": 2
}
