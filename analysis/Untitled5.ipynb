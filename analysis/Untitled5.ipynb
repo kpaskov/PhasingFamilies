{
 "cells": [
  {
   "cell_type": "code",
   "execution_count": 110,
   "metadata": {},
   "outputs": [],
   "source": [
    "import sys\n",
    "import json\n",
    "import numpy as np\n",
    "from statsmodels.discrete.discrete_model import Logit\n",
    "from collections import defaultdict, Counter\n",
    "import random\n",
    "from sklearn.linear_model import LogisticRegression, ElasticNet,Lasso\n",
    "import matplotlib.pyplot as plt\n",
    "from sklearn import metrics\n",
    "import cvxpy as cp\n",
    "import csv\n",
    "from scipy.stats import pearsonr, binom_test"
   ]
  },
  {
   "cell_type": "code",
   "execution_count": 126,
   "metadata": {},
   "outputs": [],
   "source": [
    "deletion_dir = '../phased_spark_quads_del_X'\n",
    "ped_file = '../../DATA/spark/spark.ped.quads.ped'\n",
    "\n",
    "chroms = [str(x) for x in range(1, 23)] + ['X']\n",
    "#chroms = ['10']\n",
    "#deletion_dir2 = '../deletions_ssc'\n",
    "#ped_file2 = '../data/ssc.ped'\n",
    "\n",
    "deletion_share_cutoff=0.9"
   ]
  },
  {
   "cell_type": "code",
   "execution_count": 127,
   "metadata": {},
   "outputs": [
    {
     "name": "stdout",
     "output_type": "stream",
     "text": [
      "ped loaded\n",
      "children 25117\n"
     ]
    }
   ],
   "source": [
    "# pull affected status\n",
    "# (0=unknown; 1=unaffected; 2=affected)\n",
    "\n",
    "child_id_to_sex = dict()\n",
    "child_id_to_affected = dict()\n",
    "family_to_people = defaultdict(set)\n",
    "child_id_to_dataset = dict()\n",
    "\n",
    "def load_ped(ped_file):\n",
    "    with open(ped_file, 'r') as f:\n",
    "        for line in f:\n",
    "            pieces = line.strip().split('\\t')\n",
    "            if len(pieces) >= 6:\n",
    "                fam_id, child_id, f_id, m_id, sex, disease_status = pieces[0:6]\n",
    "                child_id_to_affected[child_id] = disease_status\n",
    "                child_id_to_sex[child_id] = sex\n",
    "                family_to_people[fam_id].add(child_id)\n",
    "                child_id_to_dataset[child_id] = ped_file\n",
    "load_ped(ped_file)\n",
    "#load_ped(ped_file2)\n",
    "\n",
    "child_id_to_famsize = dict()\n",
    "for people in family_to_people.values():\n",
    "    for child in people:\n",
    "        child_id_to_famsize[child] = len(people)\n",
    "\n",
    "print('ped loaded')\n",
    "print('children', len(child_id_to_affected))"
   ]
  },
  {
   "cell_type": "code",
   "execution_count": 128,
   "metadata": {},
   "outputs": [
    {
     "name": "stdout",
     "output_type": "stream",
     "text": [
      "Counter({1: 11925, 2: 2724, 0: 406})\n"
     ]
    }
   ],
   "source": [
    "print(Counter([sum([child_id_to_affected[x]=='2' for x in v]) for v in family_to_people.values()]))"
   ]
  },
  {
   "cell_type": "code",
   "execution_count": 129,
   "metadata": {},
   "outputs": [],
   "source": [
    "children = sorted(set(sum([list(v) for v in family_to_people.values()], [])))"
   ]
  },
  {
   "cell_type": "code",
   "execution_count": 130,
   "metadata": {},
   "outputs": [],
   "source": [
    "# pull MDS\n",
    "#mds_file = '../../SBSE/mds/1kg+v34+ssc+psp-mds.mds'\n",
    "#sample_to_mds = dict()\n",
    "#with open(mds_file, 'r') as f:\n",
    "#    next(f) # skip header\n",
    "#    for line in f:\n",
    "#        pieces = line.strip().split()\n",
    "#        sample_id = pieces[1]\n",
    "#        if sample_id.startswith('NYGC'):\n",
    "#            # unfortunately, the MDS has slightly different sample ids for the PSP samples compared to the ped/vcf\n",
    "#            sample_id = sample_id[5:]\n",
    "#        elif sample_id.startswith('AFR') or sample_id.startswith('AMR') or sample_id.startswith('EAS') or sample_id.startswith('EUR') or sample_id.startswith('SAS'):\n",
    "#            sample_id = sample_id[8:]\n",
    "#\n",
    "#        sample_to_mds[sample_id] = [float(pieces[3]), float(pieces[4]), float(pieces[5]), float(pieces[6])]#\n",
    "#\n",
    " #       \n",
    "#children = [x for x in children if x in sample_to_mds]\n",
    "#M = np.array([sample_to_mds[x] for x in children])\n",
    "#print(M.shape)"
   ]
  },
  {
   "cell_type": "code",
   "execution_count": 131,
   "metadata": {},
   "outputs": [
    {
     "name": "stdout",
     "output_type": "stream",
     "text": [
      "14334 10783 0 0\n"
     ]
    }
   ],
   "source": [
    "child_to_index = dict([(x, i) for i, x in enumerate(children)])\n",
    "y = np.array([child_id_to_affected[x]=='2' for x in children])\n",
    "is_ihart = np.array([child_id_to_dataset[x] == ped_file for x in children])\n",
    "print(np.sum(y[is_ihart]), np.sum(~y[is_ihart]), np.sum(y[~is_ihart]), np.sum(~y[~is_ihart]))"
   ]
  },
  {
   "cell_type": "code",
   "execution_count": 132,
   "metadata": {},
   "outputs": [
    {
     "name": "stdout",
     "output_type": "stream",
     "text": [
      "253\n"
     ]
    }
   ],
   "source": [
    "with open('%s/deletions.json' % deletion_dir, 'r') as f:\n",
    "    deletions = json.load(f)\n",
    "    familes = set([x['family'] for x in deletions])\n",
    "    \n",
    "# load first deletion_dir collections\n",
    "with open('%s/collections.json' % deletion_dir, 'r') as f:\n",
    "    collections = json.load(f)\n",
    "    collections = [c for c in collections if len(c['matches'])>5]\n",
    "    print(len(collections))\n"
   ]
  },
  {
   "cell_type": "code",
   "execution_count": 133,
   "metadata": {},
   "outputs": [
    {
     "name": "stdout",
     "output_type": "stream",
     "text": [
      "14835\n",
      "253\n"
     ]
    }
   ],
   "source": [
    "print(len(deletions))\n",
    "print(len(collections))"
   ]
  },
  {
   "cell_type": "code",
   "execution_count": 134,
   "metadata": {},
   "outputs": [
    {
     "name": "stdout",
     "output_type": "stream",
     "text": [
      "(25117, 253)\n"
     ]
    }
   ],
   "source": [
    "Xs_mat = []\n",
    "Xs_pat = []\n",
    "Zs_mat = []\n",
    "Zs_pat = []\n",
    "all_deletions = []\n",
    "parents = set()\n",
    "\n",
    "X_mat = np.zeros((len(children), len(collections)), dtype=np.int8)\n",
    "X_pat = np.zeros((len(children), len(collections)), dtype=np.int8)\n",
    "all_deletions.extend([(c['deletion']['chrom'], c['deletion']['start_pos'], c['deletion']['end_pos'])  for c in collections])\n",
    "\n",
    "for i, c in enumerate(collections):\n",
    "    for m in c['matches']:\n",
    "        if m['is_mat']:\n",
    "            for child in m['trans']:\n",
    "                if child in child_to_index:\n",
    "                    X_mat[child_to_index[child], i] = 1\n",
    "        else:\n",
    "            for child in m['trans']:\n",
    "                if child in child_to_index:\n",
    "                    X_pat[child_to_index[child], i] = 1\n",
    "        parents.add(m['father'])\n",
    "        parents.add(m['mother'])\n",
    "                \n",
    "X = X_mat + X_pat\n",
    "print(X.shape)"
   ]
  },
  {
   "cell_type": "code",
   "execution_count": 135,
   "metadata": {},
   "outputs": [],
   "source": [
    "\n",
    "is_parent = np.array([x in parents for x in children])\n",
    "is_male = np.array([child_id_to_sex[x]=='1' for x in children])"
   ]
  },
  {
   "cell_type": "code",
   "execution_count": 136,
   "metadata": {},
   "outputs": [
    {
     "name": "stdout",
     "output_type": "stream",
     "text": [
      "6771\n"
     ]
    }
   ],
   "source": [
    "has_data = np.zeros((X.shape[0],), dtype=bool)\n",
    "\n",
    "with open('%s/individuals.json' % deletion_dir, 'r') as f:\n",
    "    individuals = json.load(f)\n",
    "    for ind in individuals:\n",
    "        if ind in child_to_index:\n",
    "            has_data[child_to_index[ind]] = True\n",
    "            \n",
    "has_data = has_data & ~is_parent\n",
    "\n",
    "print(np.sum(has_data))\n"
   ]
  },
  {
   "cell_type": "code",
   "execution_count": 137,
   "metadata": {},
   "outputs": [],
   "source": [
    "lengths = np.array([x[2]-x[1] for x in all_deletions])\n"
   ]
  },
  {
   "cell_type": "code",
   "execution_count": 138,
   "metadata": {},
   "outputs": [],
   "source": [
    "## remove centromeres\n",
    "#with open('../data/cytoBand.txt') as f:\n",
    "#    for line in f:\n",
    "#        pieces = line.strip().split('\\t')\n",
    "#        if pieces[4] == 'acen':\n",
    "#            ch = pieces[0][3:]\n",
    "#            start_pos, end_pos = int(pieces[1]), int(pieces[2])\n",
    "#            for i, d in enumerate(all_deletions):\n",
    "#                if d[0] == ch:\n",
    "#                    overlap = min(d[2], end_pos) - max(d[1], start_pos)\n",
    "#                    if overlap>0:\n",
    "#                        lengths[i] = 0"
   ]
  },
  {
   "cell_type": "code",
   "execution_count": 139,
   "metadata": {},
   "outputs": [
    {
     "data": {
      "image/png": "[encoded data removed]",
      "text/plain": [
       "<Figure size 432x288 with 1 Axes>"
      ]
     },
     "metadata": {
      "needs_background": "light"
     },
     "output_type": "display_data"
    }
   ],
   "source": [
    "plt.hist(np.log10(lengths), bins=np.arange(0, 7, 0.1))\n",
    "plt.show()"
   ]
  },
  {
   "cell_type": "code",
   "execution_count": 140,
   "metadata": {},
   "outputs": [
    {
     "data": {
      "image/png": "[encoded data removed]",
      "text/plain": [
       "<Figure size 1080x360 with 2 Axes>"
      ]
     },
     "metadata": {
      "needs_background": "light"
     },
     "output_type": "display_data"
    }
   ],
   "source": [
    "plt.figure(figsize=(15, 5))\n",
    "plt.subplot(1, 2, 1)\n",
    "plt.hist(np.sum(X[is_ihart & has_data, :], axis=0)/X.shape[0], bins=np.arange(0, 0.2, 0.01), alpha=0.5)\n",
    "#plt.hist(np.sum(Z[is_ihart & has_data, :], axis=0)/X.shape[0], bins=np.arange(0, 0.2, 0.01), alpha=0.5)\n",
    "plt.subplot(1, 2, 2)\n",
    "plt.hist(np.sum(X[is_ihart & has_data, :], axis=1)/X.shape[1], bins=np.arange(0, 0.2, 0.01), alpha=0.5)\n",
    "#plt.hist(np.sum(Z[is_ihart & has_data, :], axis=1)/X.shape[1], bins=np.arange(0, 0.2, 0.01), alpha=0.5)\n",
    "plt.show()"
   ]
  },
  {
   "cell_type": "markdown",
   "metadata": {},
   "source": [
    "# Model"
   ]
  },
  {
   "cell_type": "code",
   "execution_count": 141,
   "metadata": {},
   "outputs": [],
   "source": [
    "test_families = random.sample(family_to_people.keys(), int(np.floor(len(family_to_people)*0.2)))"
   ]
  },
  {
   "cell_type": "code",
   "execution_count": 142,
   "metadata": {},
   "outputs": [
    {
     "name": "stdout",
     "output_type": "stream",
     "text": [
      "5746 19371\n"
     ]
    }
   ],
   "source": [
    "test_children = set(sum([list(family_to_people[fam_id]) for fam_id in test_families], []))\n",
    "test_indices = np.array([x in test_children for x in children])\n",
    "print(np.sum(test_indices), np.sum(~test_indices))"
   ]
  },
  {
   "cell_type": "code",
   "execution_count": 143,
   "metadata": {},
   "outputs": [
    {
     "name": "stdout",
     "output_type": "stream",
     "text": [
      "3334 2412 0\n"
     ]
    }
   ],
   "source": [
    "print(np.sum(y[test_indices]), np.sum(~y[test_indices]), np.sum(y[test_indices & ~is_ihart]))"
   ]
  },
  {
   "cell_type": "code",
   "execution_count": 144,
   "metadata": {},
   "outputs": [
    {
     "name": "stdout",
     "output_type": "stream",
     "text": [
      "(25117, 409)\n"
     ]
    }
   ],
   "source": [
    "#has_homalt = np.any((X+Z)==2, axis=0)\n",
    "##\n",
    "#X_bin = np.zeros((X.shape[0], X.shape[1]+np.sum(has_homalt)))\n",
    "#X_bin[:, :X.shape[1]] = (X+Z)>0\n",
    "#X_bin[:, X.shape[1]:] = (X+Z)[:, has_homalt]==2\n",
    "#print(X_bin.shape)\n",
    "\n",
    "has_homalt = np.any(X==2, axis=0)\n",
    "\n",
    "X_bin = np.zeros((X.shape[0], X.shape[1]+np.sum(has_homalt)))\n",
    "X_bin[:, :X.shape[1]] = X>0\n",
    "X_bin[:, X.shape[1]:] = X[:, has_homalt]==2\n",
    "print(X_bin.shape)"
   ]
  },
  {
   "cell_type": "code",
   "execution_count": 150,
   "metadata": {},
   "outputs": [
    {
     "name": "stdout",
     "output_type": "stream",
     "text": [
      "20\n"
     ]
    }
   ],
   "source": [
    "#model = LogisticRegression(penalty='elasticnet', solver='saga', C=0.05, l1_ratio=0.9)\n",
    "X_full = np.hstack((is_male[:, np.newaxis],\n",
    "                              ~is_male[:, np.newaxis], \n",
    "                               X_bin[:, :]\n",
    "                    ))\n",
    "\n",
    "model = LogisticRegression(penalty='l1', solver='liblinear', C=0.1)\n",
    "result = model.fit(X_full[~test_indices & is_ihart & has_data & ~is_parent, :], y[~test_indices & is_ihart & has_data & ~is_parent])\n",
    "coeffs = result.coef_.flatten()[2:]\n",
    "\n",
    "predict = model.predict_proba(X_full)[:, 1]\n",
    "print(np.sum(~np.isclose(coeffs, 0)))"
   ]
  },
  {
   "cell_type": "code",
   "execution_count": 151,
   "metadata": {},
   "outputs": [],
   "source": [
    "## nonnegative\n",
    "#indices = ~np.isclose(result.coef_.flatten(), 0)\n",
    "#indices[:2] = True\n",
    "#n = np.sum(indices)\n",
    "#print(indices)\n",
    "#\n",
    "#lambd = 0.05\n",
    "#beta = cp.Variable(n)\n",
    "#log_likelihood = cp.sum(\n",
    "#    cp.multiply(y[~test_indices & is_ihart & has_data & ~is_parent], X_full[np.ix_(~test_indices & is_ihart & has_data & ~is_parent, indices)] @ beta) - cp.logistic(X_full[np.ix_(~test_indices & is_ihart & has_data & ~is_parent, indices)] @ beta)\n",
    "#)\n",
    "#problem = cp.Problem(cp.Maximize(log_likelihood/n - lambd * cp.norm(beta[2:], 1)), [beta[2:]>=0])\n",
    "#problem.solve()#\n",
    "#\n",
    "#predict = 1/(1+np.exp((-X_full[:, indices] @ beta).value))\n",
    "#coeffs = beta.value[2:]\n",
    "#\n",
    "#print(np.sum(~np.isclose(beta.value, 0)))"
   ]
  },
  {
   "cell_type": "code",
   "execution_count": 152,
   "metadata": {},
   "outputs": [],
   "source": [
    "#model = LogisticRegression(penalty='elasticnet', solver='saga', C=0.05, l1_ratio=0.9)\n",
    "simple_model = LogisticRegression(penalty='none', solver='newton-cg')\n",
    "simple_result = simple_model.fit(np.hstack((is_male[~test_indices & is_ihart & has_data & ~is_parent, np.newaxis],\n",
    "                                 ~is_male[~test_indices & is_ihart & has_data & ~is_parent, np.newaxis])), \n",
    "                   y[~test_indices & is_ihart & has_data & ~is_parent])\n",
    "simple_predict = simple_model.predict_proba(np.hstack((is_male[:, np.newaxis], ~is_male[:, np.newaxis])))[:, 1]"
   ]
  },
  {
   "cell_type": "code",
   "execution_count": 153,
   "metadata": {},
   "outputs": [
    {
     "data": {
      "image/png": "[encoded data removed]",
      "text/plain": [
       "<Figure size 432x288 with 1 Axes>"
      ]
     },
     "metadata": {
      "needs_background": "light"
     },
     "output_type": "display_data"
    }
   ],
   "source": [
    "plt.hist(coeffs[~np.isclose(coeffs, 0)], bins=30)\n",
    "plt.show()"
   ]
  },
  {
   "cell_type": "code",
   "execution_count": 154,
   "metadata": {
    "scrolled": false
   },
   "outputs": [
    {
     "name": "stdout",
     "output_type": "stream",
     "text": [
      "0.6542629848065213\n",
      "M 0.540788869333355\n",
      "F 0.494692144373673\n",
      "simple 0.6376317775584568\n"
     ]
    },
    {
     "data": {
      "image/png": "[encoded data removed]",
      "text/plain": [
       "<Figure size 864x360 with 2 Axes>"
      ]
     },
     "metadata": {
      "needs_background": "light"
     },
     "output_type": "display_data"
    }
   ],
   "source": [
    "plt.rcParams.update({'font.size': 18})\n",
    "\n",
    "\n",
    "\n",
    "\n",
    "plt.figure(figsize=(12, 5))\n",
    "\n",
    "ax = plt.subplot(1, 2, 1)\n",
    "train_fpr, train_tpr, _ = metrics.roc_curve(y[~test_indices & is_ihart & has_data], predict[~test_indices & is_ihart & has_data])\n",
    "\n",
    "test_fpr, test_tpr, _ = metrics.roc_curve(y[test_indices & is_ihart & has_data], predict[test_indices & is_ihart & has_data])\n",
    "plt.plot(test_fpr, test_tpr, label='All')#, color='#009668')\n",
    "print(metrics.auc(test_fpr, test_tpr))\n",
    "\n",
    "test_fpr, test_tpr, _ = metrics.roc_curve(y[test_indices & is_ihart & has_data & is_male], predict[test_indices & is_ihart & has_data & is_male])\n",
    "plt.plot(test_fpr, test_tpr, label='Males')\n",
    "print('M', metrics.auc(test_fpr, test_tpr))\n",
    "\n",
    "test_fpr, test_tpr, _ = metrics.roc_curve(y[test_indices & is_ihart & has_data & ~is_male], predict[test_indices & is_ihart & has_data & ~is_male])\n",
    "plt.plot(test_fpr, test_tpr, label='Females')\n",
    "print('F', metrics.auc(test_fpr, test_tpr))\n",
    "\n",
    "plt.plot(train_fpr, train_tpr, label='train', alpha=0.5)\n",
    "\n",
    "simple_test_fpr, simple_test_tpr, _ = metrics.roc_curve(y[test_indices & is_ihart & has_data], simple_predict[test_indices & is_ihart & has_data])\n",
    "plt.plot(simple_test_fpr, simple_test_tpr, label='simple', alpha=0.5)\n",
    "print('simple', metrics.auc(simple_test_fpr, simple_test_tpr))\n",
    "\n",
    "#test_fpr, test_tpr, _ = metrics.roc_curve(y[test_indices & is_ihart & has_data & ~is_parent], predict[test_indices & is_ihart & has_data & ~is_parent])\n",
    "#plt.plot(test_fpr, test_tpr, label='test child')\n",
    "#print(metrics.auc(test_fpr, test_tpr))\n",
    "\n",
    "#test_fpr, test_tpr, _ = metrics.roc_curve(y[test_indices & is_ihart & has_data & is_parent], predict[test_indices & is_ihart & has_data & is_parent])\n",
    "#plt.plot(test_fpr, test_tpr, label='test parent')\n",
    "#print(metrics.auc(test_fpr, test_tpr))\n",
    "plt.legend()\n",
    "plt.plot([0, 1], [0, 1], linestyle='--', color='black')\n",
    "\n",
    "#for famsize in [5, 6]:\n",
    "#    indices = np.array([child_id_to_famsize[child]==famsize for child in children])\n",
    "#    fpr, tpr, _ = metrics.roc_curve(y[test_indices & is_ihart & has_data & indices & is_male], \n",
    "#                                    predict[test_indices & is_ihart & has_data & indices & is_male, 1])\n",
    "#    plt.plot(fpr, tpr, label=str(famsize), linestyle='--')\n",
    "#    \n",
    "#    print(np.sum(test_indices & is_ihart & has_data & indices  & is_male & y), \n",
    "#          np.sum(test_indices & is_ihart & has_data & indices  & is_male & ~y),\n",
    "#          metrics.auc(fpr, tpr))\n",
    "#    \n",
    "#    fpr, tpr, _ = metrics.roc_curve(y[test_indices & is_ihart & has_data & indices & ~is_male], \n",
    "#                                    predict[test_indices & is_ihart & has_data & indices  & ~is_male, 1])\n",
    "#    plt.plot(fpr, tpr, label=str(famsize), linestyle='--')\n",
    "#    \n",
    "#    print(np.sum(test_indices & is_ihart & has_data & indices & ~is_male & y), \n",
    "#          np.sum(test_indices & is_ihart & has_data & indices & ~is_male & ~y),\n",
    "#          metrics.auc(fpr, tpr))\n",
    "\n",
    "plt.xlabel('False Positive Rate')\n",
    "plt.ylabel('True Positive Rate')\n",
    "#plt.legend()\n",
    "bottom, top = plt.ylim()\n",
    "\n",
    "plt.subplot(1, 2, 2, sharex=ax)\n",
    "train_precision, train_recall, _ = metrics.precision_recall_curve(y[~test_indices & is_ihart & has_data], predict[~test_indices & is_ihart & has_data])\n",
    "\n",
    "test_precision, test_recall, _ = metrics.precision_recall_curve(y[test_indices & is_ihart & has_data], predict[test_indices & is_ihart & has_data])\n",
    "plt.plot(test_recall, test_precision, label='All')#, color='#009668')\n",
    "\n",
    "test_precision, test_recall, _ = metrics.precision_recall_curve(y[test_indices & is_ihart & has_data & is_male], predict[test_indices & is_ihart & has_data & is_male])\n",
    "plt.plot(test_recall, test_precision, label='Males')\n",
    "\n",
    "test_precision, test_recall, _ = metrics.precision_recall_curve(y[test_indices & is_ihart & has_data & ~is_male], predict[test_indices & is_ihart & has_data & ~is_male])\n",
    "plt.plot(test_recall, test_precision, label='Females')\n",
    "\n",
    "plt.plot(train_recall, train_precision, label='train', alpha=0.5)\n",
    "\n",
    "simple_test_precision, simple_test_recall, _ = metrics.precision_recall_curve(y[test_indices & is_ihart & has_data], simple_predict[test_indices & is_ihart & has_data])\n",
    "plt.plot(simple_test_recall, simple_test_precision, label='simple', alpha=0.5)\n",
    "\n",
    "#test_precision, test_recall, _ = metrics.precision_recall_curve(y[test_indices & is_ihart & has_data & ~is_parent], predict[test_indices & is_ihart & has_data & ~is_parent])\n",
    "#plt.plot(test_recall, test_precision, label='test child')\n",
    "\n",
    "#test_precision, test_recall, _ = metrics.precision_recall_curve(y[test_indices & is_ihart & has_data & is_parent], predict[test_indices & is_ihart & has_data & is_parent])\n",
    "#plt.plot(test_recall, test_precision, label='test parent')\n",
    "\n",
    "#plt.axhline(np.sum(y & test_indices & is_ihart & has_data)/np.sum(test_indices & is_ihart & has_data), linestyle='--', color='black')\n",
    "#plt.axhline(np.sum(y & test_indices & is_ihart & has_data)/np.sum(test_indices & is_ihart & has_data & ~is_parent), linestyle='--', color='black')\n",
    "#plt.axhline(np.sum(y & test_indices & is_ihart & has_data)/np.sum(test_indices & is_ihart & has_data & is_parent), linestyle='--', color='black')\n",
    "\n",
    "#for famsize in [5, 6]:\n",
    "#    indices = np.array([child_id_to_famsize[child]==famsize for child in children])\n",
    "#    precision, recall, _ = metrics.precision_recall_curve(y[test_indices & is_ihart & has_data & indices], \n",
    "#                                                          predict[test_indices & is_ihart & has_data & indices, 1])\n",
    "#    plt.plot(recall, precision, label=str(famsize), linestyle='--')\n",
    "#    precision, recall, _ = metrics.precision_recall_curve(y[test_indices & is_ihart & has_data & indices & is_male], \n",
    "#                                                          predict[test_indices & is_ihart & has_data & indices & is_male, 1])\n",
    "#    plt.plot(recall, precision, label='%d M' % famsize, linestyle='--')\n",
    "#    precision, recall, _ = metrics.precision_recall_curve(y[test_indices & is_ihart & has_data & indices & ~is_male], \n",
    "#                                                          predict[test_indices & is_ihart & has_data & indices & ~is_male, 1])\n",
    "#    plt.plot(recall, precision, label='%d F' % famsize, linestyle='--')\n",
    "plt.legend()\n",
    "plt.xlabel('Recall')\n",
    "plt.ylabel('Precision')\n",
    "plt.ylim([0.5, 1 + (top-1)/2])\n",
    "#plt.legend()\n",
    "\n",
    "#plt.subplot(1, 3, 3)\n",
    "#plt.hist(predict[test_indices & is_ihart & has_data & y & ~is_parent & is_male, 1], bins=bins, alpha=0.5, label='aff-M')\n",
    "#plt.hist(predict[test_indices & is_ihart & has_data & ~y & ~is_parent & is_male, 1], bins=bins, alpha=0.5, label='nt-M')\n",
    "#plt.hist(predict[test_indices & is_ihart & has_data & y & ~is_parent & ~is_male, 1], bins=bins, alpha=0.5, label='aff-F')\n",
    "#plt.hist(predict[test_indices & is_ihart & has_data & ~y & ~is_parent & ~is_male, 1], bins=bins, alpha=0.5, label='nt-F')\n",
    "#plt.legend()\n",
    "\n",
    "plt.tight_layout()\n",
    "plt.show()"
   ]
  },
  {
   "cell_type": "code",
   "execution_count": 155,
   "metadata": {},
   "outputs": [
    {
     "data": {
      "image/png": "[encoded data removed]",
      "text/plain": [
       "<Figure size 864x216 with 3 Axes>"
      ]
     },
     "metadata": {
      "needs_background": "light"
     },
     "output_type": "display_data"
    }
   ],
   "source": [
    "bins = np.arange(0, 1.2, 0.05)\n",
    "\n",
    "plt.figure(figsize=(12, 3))\n",
    "\n",
    "plt.subplot(1, 3, 1)\n",
    "plt.hist(predict[test_indices & is_ihart & has_data & y & ~is_parent], bins=bins, alpha=0.5)\n",
    "plt.hist(predict[test_indices & is_ihart & has_data & ~y & ~is_parent], bins=bins, alpha=0.5)\n",
    "plt.title('All')\n",
    "\n",
    "plt.subplot(1, 3, 2)\n",
    "plt.hist(predict[test_indices & is_ihart & has_data & y & ~is_parent & is_male], bins=bins, alpha=0.5)\n",
    "plt.hist(predict[test_indices & is_ihart & has_data & ~y & ~is_parent & is_male], bins=bins, alpha=0.5)\n",
    "plt.title('Male')\n",
    "\n",
    "plt.subplot(1, 3, 3)\n",
    "plt.hist(predict[test_indices & is_ihart & has_data & y & ~is_parent & ~is_male], bins=bins, alpha=0.5)\n",
    "plt.hist(predict[test_indices & is_ihart & has_data & ~y & ~is_parent & ~is_male], bins=bins, alpha=0.5)\n",
    "plt.title('Female')\n",
    "\n",
    "plt.show()"
   ]
  },
  {
   "cell_type": "code",
   "execution_count": 94,
   "metadata": {},
   "outputs": [
    {
     "name": "stdout",
     "output_type": "stream",
     "text": [
      "22:25717388-27848929 HET 2131541 702\n",
      "0.0\n",
      "\n",
      "22:241909589-242065218 HOMALT 2064\n",
      "0.0\n",
      "\n",
      "22:26528557-28157356 HET 1628799 717\n",
      "0.0\n",
      "\n",
      "22:26943616-29244593 HET 2300977 724\n",
      "0.0\n",
      "\n",
      "22:26799969-26897738 HET 97769 721\n",
      "0.0\n",
      "\n",
      "22:26684904-26796474 HET 111570 720\n",
      "0.0\n",
      "\n",
      "22:26637733-26683650 HET 45917 719\n",
      "0.0\n",
      "\n",
      "22:26585075-27101743 HET 516668 718\n",
      "0.0\n",
      "\n",
      "22:26972496-27434104 HET 461608 725\n",
      "0.0\n",
      "\n",
      "22:25823078-25970680 HET 147602 704\n",
      "0.0\n",
      "\n",
      "22:27005186-28238949 HET 1233763 726\n",
      "0.0\n",
      "\n",
      "22:26507213-26659565 HET 152352 716\n",
      "0.0\n",
      "\n",
      "22:26448457-26496852 HET 48395 715\n",
      "0.0\n",
      "\n",
      "22:26325958-26735643 HET 409685 714\n",
      "0.0\n",
      "\n",
      "22:26806125-27142724 HET 336599 722\n",
      "0.0\n",
      "\n",
      "22:26311586-28373218 HET 2061632 713\n",
      "0.0\n",
      "\n",
      "22:26256018-26455315 HET 199297 711\n",
      "0.0\n",
      "\n",
      "22:27044006-27340889 HET 296883 727\n",
      "0.0\n",
      "\n",
      "22:27217733-32055629 HET 4837896 728\n",
      "0.0\n",
      "\n",
      "22:26210449-26555765 HET 345316 710\n",
      "0.0\n",
      "\n",
      "22:26189295-26410034 HET 220739 709\n",
      "0.0\n",
      "\n",
      "22:26089465-27621735 HET 1532270 708\n",
      "0.0\n",
      "\n",
      "22:25987257-26118553 HET 131296 707\n",
      "0.0\n",
      "\n",
      "22:27254876-27646542 HET 391666 729\n",
      "0.0\n",
      "\n",
      "22:25960167-25982266 HET 22099 706\n",
      "0.0\n",
      "\n",
      "22:25823079-25881883 HET 58804 705\n",
      "0.0\n",
      "\n",
      "22:27275807-27390868 HET 115061 730\n",
      "0.0\n",
      "\n",
      "22:26289253-26462346 HET 173093 712\n",
      "0.0\n",
      "\n",
      "22:26851964-27239646 HET 387682 723\n",
      "0.0\n",
      "\n",
      "22:241531129-242037524 HET 506395 2061\n",
      "0.009403289091141234\n",
      "\n",
      "22:147247998-147357639 HET 109641 1936\n",
      "0.009846307561854128\n",
      "\n",
      "22:45623925-46332634 HET 708709 1026\n",
      "-0.014591762023192602\n",
      "\n",
      "22:139157212-139993073 HET 835861 1910\n",
      "0.016886745490353548\n",
      "\n",
      "22:232363123-232449688 HET 86565 2057\n",
      "0.04272517393078125\n",
      "\n",
      "22:62935405-63385768 HET 450363 1253\n",
      "-0.043928478583279494\n",
      "\n",
      "22:12308108-13332235 HET 1024127 434\n",
      "0.08970619789735489\n",
      "\n",
      "22:1516558-1538140 HET 21582 69\n",
      "0.09019256615315772\n",
      "\n",
      "22:62284105-62323480 HET 39375 1245\n",
      "-0.09198731494930756\n",
      "\n",
      "22:11449296-11495033 HET 45737 411\n",
      "0.14782031992800398\n",
      "\n",
      "22:205965-537358 HET 331393 17\n",
      "0.15279937976877367\n",
      "\n"
     ]
    }
   ],
   "source": [
    "for i in np.argsort(np.abs(coeffs))[-40:]:\n",
    "    del_index = i-2\n",
    "    if del_index<X.shape[1]:\n",
    "        print('%s:%d-%d HET' % all_deletions[del_index], all_deletions[del_index][2]-all_deletions[del_index][1], del_index)\n",
    "        print(coeffs[i])\n",
    "        print()\n",
    "    else:\n",
    "        del_index = np.where(has_homalt)[0][del_index-X.shape[1]]\n",
    "        print('%s:%d-%d HOMALT' % all_deletions[del_index], del_index)\n",
    "        print(coeffs[i])\n",
    "        print()\n",
    "    \n"
   ]
  },
  {
   "cell_type": "code",
   "execution_count": 136,
   "metadata": {},
   "outputs": [
    {
     "name": "stdout",
     "output_type": "stream",
     "text": [
      "0.5974849993058724\n",
      "0.21102359760880082\n",
      "77 93 0.24988603184543673\n",
      "\n",
      "0.548828125\n",
      "1.0\n",
      "9 7 0.8036193847656252\n"
     ]
    }
   ],
   "source": [
    "print(binom_test(np.sum(X_mat[is_ihart & has_data & ~is_parent & y, 46168]), \n",
    "                 np.sum(X[is_ihart & has_data & ~is_parent & y, 46168])))\n",
    "print(binom_test(np.sum(Z_mat[is_ihart & has_data & ~is_parent & y, 46168]), \n",
    "                 np.sum(Z[is_ihart & has_data & ~is_parent & y, 46168])))\n",
    "print(np.sum(X_mat[is_ihart & has_data & ~is_parent & y, 46168] + Z_mat[is_ihart & has_data & ~is_parent & y, 46168]), \n",
    "      np.sum(X_pat[is_ihart & has_data & ~is_parent & y, 46168] + Z_pat[is_ihart & has_data & ~is_parent & y, 46168]),\n",
    "      binom_test(np.sum(X_mat[is_ihart & has_data & ~is_parent & y, 46168] + Z_mat[is_ihart & has_data & ~is_parent & y, 46168]), \n",
    "                 np.sum(X[is_ihart & has_data & ~is_parent & y, 46168] + Z[is_ihart & has_data & ~is_parent & y, 46168])))\n",
    "print()\n",
    "print(binom_test(np.sum(X_mat[is_ihart & has_data & ~is_parent & ~y, 46168]), \n",
    "                 np.sum(X[is_ihart & has_data & ~is_parent & ~y, 46168])))\n",
    "print(binom_test(np.sum(Z_mat[is_ihart & has_data & ~is_parent & ~y, 46168]), \n",
    "                 np.sum(Z[is_ihart & has_data & ~is_parent & ~y, 46168])))\n",
    "print(np.sum(X_mat[is_ihart & has_data & ~is_parent & ~y, 46168] + Z_mat[is_ihart & has_data & ~is_parent & ~y, 46168]), \n",
    "      np.sum(X_pat[is_ihart & has_data & ~is_parent & ~y, 46168] + Z_pat[is_ihart & has_data & ~is_parent & ~y, 46168]),\n",
    "      binom_test(np.sum(X_mat[is_ihart & has_data & ~is_parent & ~y, 46168] + Z_mat[is_ihart & has_data & ~is_parent & ~y, 46168]), \n",
    "                 np.sum(X[is_ihart & has_data & ~is_parent & ~y, 46168] + Z[is_ihart & has_data & ~is_parent & ~y, 46168])))\n"
   ]
  },
  {
   "cell_type": "code",
   "execution_count": 51,
   "metadata": {},
   "outputs": [
    {
     "ename": "IndexError",
     "evalue": "boolean index did not match indexed array along dimension 1; dimension is 63954 but corresponding boolean dimension is 82301",
     "output_type": "error",
     "traceback": [
      "\u001b[0;31m---------------------------------------------------------------------------\u001b[0m",
      "\u001b[0;31mIndexError\u001b[0m                                Traceback (most recent call last)",
      "\u001b[0;32m<ipython-input-51-0a99c1ac6c2c>\u001b[0m in \u001b[0;36m<module>\u001b[0;34m\u001b[0m\n\u001b[1;32m      2\u001b[0m \u001b[0;34m\u001b[0m\u001b[0m\n\u001b[1;32m      3\u001b[0m \u001b[0mplt\u001b[0m\u001b[0;34m.\u001b[0m\u001b[0msubplot\u001b[0m\u001b[0;34m(\u001b[0m\u001b[0;36m2\u001b[0m\u001b[0;34m,\u001b[0m \u001b[0;36m2\u001b[0m\u001b[0;34m,\u001b[0m \u001b[0;36m1\u001b[0m\u001b[0;34m)\u001b[0m\u001b[0;34m\u001b[0m\u001b[0;34m\u001b[0m\u001b[0m\n\u001b[0;32m----> 4\u001b[0;31m plt.scatter(np.clip(np.sum(X[has_data & is_ihart & test_indices & y, :][:, ~np.isclose(coeffs, 0) & (coeffs>0)]/np.sum(has_data & is_ihart & test_indices & y), axis=0), 0, 1), \n\u001b[0m\u001b[1;32m      5\u001b[0m          \u001b[0mnp\u001b[0m\u001b[0;34m.\u001b[0m\u001b[0mclip\u001b[0m\u001b[0;34m(\u001b[0m\u001b[0mnp\u001b[0m\u001b[0;34m.\u001b[0m\u001b[0msum\u001b[0m\u001b[0;34m(\u001b[0m\u001b[0mX\u001b[0m\u001b[0;34m[\u001b[0m\u001b[0mhas_data\u001b[0m \u001b[0;34m&\u001b[0m \u001b[0mis_ihart\u001b[0m \u001b[0;34m&\u001b[0m \u001b[0mtest_indices\u001b[0m \u001b[0;34m&\u001b[0m \u001b[0;34m~\u001b[0m\u001b[0my\u001b[0m\u001b[0;34m,\u001b[0m \u001b[0;34m:\u001b[0m\u001b[0;34m]\u001b[0m\u001b[0;34m[\u001b[0m\u001b[0;34m:\u001b[0m\u001b[0;34m,\u001b[0m \u001b[0;34m~\u001b[0m\u001b[0mnp\u001b[0m\u001b[0;34m.\u001b[0m\u001b[0misclose\u001b[0m\u001b[0;34m(\u001b[0m\u001b[0mcoeffs\u001b[0m\u001b[0;34m,\u001b[0m \u001b[0;36m0\u001b[0m\u001b[0;34m)\u001b[0m \u001b[0;34m&\u001b[0m \u001b[0;34m(\u001b[0m\u001b[0mcoeffs\u001b[0m\u001b[0;34m>\u001b[0m\u001b[0;36m0\u001b[0m\u001b[0;34m)\u001b[0m\u001b[0;34m]\u001b[0m\u001b[0;34m/\u001b[0m\u001b[0mnp\u001b[0m\u001b[0;34m.\u001b[0m\u001b[0msum\u001b[0m\u001b[0;34m(\u001b[0m\u001b[0mhas_data\u001b[0m \u001b[0;34m&\u001b[0m \u001b[0mis_ihart\u001b[0m \u001b[0;34m&\u001b[0m \u001b[0mtest_indices\u001b[0m \u001b[0;34m&\u001b[0m \u001b[0;34m~\u001b[0m\u001b[0my\u001b[0m\u001b[0;34m)\u001b[0m\u001b[0;34m,\u001b[0m \u001b[0maxis\u001b[0m\u001b[0;34m=\u001b[0m\u001b[0;36m0\u001b[0m\u001b[0;34m)\u001b[0m\u001b[0;34m,\u001b[0m \u001b[0;36m0\u001b[0m\u001b[0;34m,\u001b[0m \u001b[0;36m1\u001b[0m\u001b[0;34m)\u001b[0m\u001b[0;34m,\u001b[0m\u001b[0;34m\u001b[0m\u001b[0;34m\u001b[0m\u001b[0m\n\u001b[1;32m      6\u001b[0m          alpha=0.5, label='+')\n",
      "\u001b[0;31mIndexError\u001b[0m: boolean index did not match indexed array along dimension 1; dimension is 63954 but corresponding boolean dimension is 82301"
     ]
    },
    {
     "data": {
      "image/png": "[encoded data removed]",
      "text/plain": [
       "<Figure size 1080x504 with 1 Axes>"
      ]
     },
     "metadata": {
      "needs_background": "light"
     },
     "output_type": "display_data"
    }
   ],
   "source": [
    "plt.figure(figsize=(15, 7))\n",
    "\n",
    "plt.subplot(2, 2, 1)\n",
    "plt.scatter(np.clip(np.sum(X[has_data & is_ihart & test_indices & y, :][:, ~np.isclose(coeffs, 0) & (coeffs>0)]/np.sum(has_data & is_ihart & test_indices & y), axis=0), 0, 1), \n",
    "         np.clip(np.sum(X[has_data & is_ihart & test_indices & ~y, :][:, ~np.isclose(coeffs, 0) & (coeffs>0)]/np.sum(has_data & is_ihart & test_indices & ~y), axis=0), 0, 1), \n",
    "         alpha=0.5, label='+')\n",
    "plt.scatter(np.clip(np.sum(X[has_data & is_ihart & test_indices & y, :][:, ~np.isclose(coeffs, 0) & (coeffs<0)]/np.sum(has_data & is_ihart & test_indices & y), axis=0), 0, 1), \n",
    "         np.clip(np.sum(X[has_data & is_ihart & test_indices & ~y, :][:, ~np.isclose(coeffs, 0) & (coeffs<0)]/np.sum(has_data & is_ihart & test_indices & ~y), axis=0), 0, 1), \n",
    "         alpha=0.5, label='-')\n",
    "plt.xlabel('autism')\n",
    "plt.ylabel('neurotypical')\n",
    "plt.title('Inherited Allele Frequency')\n",
    "plt.plot(plt.xlim(), plt.xlim(), color='black', linestyle='--')\n",
    "plt.legend()\n",
    "\n",
    "plt.subplot(2, 2, 2)\n",
    "plt.hist(np.clip(np.sum(X[has_data & is_ihart & test_indices & y, :][:, ~np.isclose(coeffs, 0)], axis=1), 0, 100), \n",
    "         bins=np.arange(101), alpha=0.5, label='aut')\n",
    "plt.hist(np.clip(np.sum(X[has_data & is_ihart & test_indices & ~y, :][:, ~np.isclose(coeffs, 0)], axis=1), 0, 100), \n",
    "         bins=np.arange(101), alpha=0.5, label='nt')\n",
    "plt.xlabel('Inherited deletions/sample')\n",
    "plt.legend()\n",
    "\n",
    "plt.subplot(2, 2, 3)\n",
    "plt.scatter(np.clip(np.sum(Z[has_data & is_ihart & test_indices & y, :][:, ~np.isclose(coeffs, 0) & (coeffs>0)]/np.sum(has_data & is_ihart & test_indices & y), axis=0), 0, 1), \n",
    "         np.clip(np.sum(Z[has_data & is_ihart & test_indices & ~y, :][:, ~np.isclose(coeffs, 0) & (coeffs>0)]/np.sum(has_data & is_ihart & test_indices & ~y), axis=0), 0, 1), \n",
    "         alpha=0.5, label='+')\n",
    "plt.scatter(np.clip(np.sum(Z[has_data & is_ihart & test_indices & y, :][:, ~np.isclose(coeffs, 0) & (coeffs<0)]/np.sum(has_data & is_ihart & test_indices & y), axis=0), 0, 1), \n",
    "         np.clip(np.sum(Z[has_data & is_ihart & test_indices & ~y, :][:, ~np.isclose(coeffs, 0) & (coeffs<0)]/np.sum(has_data & is_ihart & test_indices & ~y), axis=0), 0, 1), \n",
    "         alpha=0.5, label='-')\n",
    "plt.xlabel('autism')\n",
    "plt.ylabel('neurotypical')\n",
    "plt.title('De novo Allele Frequency')\n",
    "plt.plot(plt.xlim(), plt.xlim(), color='black', linestyle='--')\n",
    "\n",
    "plt.subplot(2, 2, 4)\n",
    "plt.hist(np.clip(np.sum(Z[has_data & is_ihart & test_indices & y, :][:, ~np.isclose(coeffs, 0)], axis=1), 0, 20), \n",
    "         bins=np.arange(21), alpha=0.5, label='aut')\n",
    "plt.hist(np.clip(np.sum(Z[has_data & is_ihart & test_indices & ~y, :][:, ~np.isclose(coeffs, 0)], axis=1), 0, 20), \n",
    "         bins=np.arange(21), alpha=0.5, label='nt')\n",
    "plt.xlabel('De novo deletions/sample')\n",
    "plt.legend()\n",
    "\n",
    "plt.tight_layout()\n",
    "plt.show()"
   ]
  },
  {
   "cell_type": "code",
   "execution_count": null,
   "metadata": {},
   "outputs": [],
   "source": [
    "plt.scatter(np.sum(X[has_data & is_ihart & test_indices, :][:, ~np.isclose(coeffs, 0)], axis=0), \n",
    "            np.sum(Z[has_data & is_ihart & test_indices, :][:, ~np.isclose(coeffs, 0)], axis=0), \n",
    "         )\n",
    "\n",
    "plt.show()"
   ]
  },
  {
   "cell_type": "code",
   "execution_count": null,
   "metadata": {},
   "outputs": [],
   "source": [
    "for i in np.argsort(np.abs(coeffs))[-40:]:\n",
    "    print(all_deletions[i], coeffs[i])"
   ]
  },
  {
   "cell_type": "code",
   "execution_count": null,
   "metadata": {},
   "outputs": [],
   "source": []
  },
  {
   "cell_type": "markdown",
   "metadata": {},
   "source": [
    "# Try for scores"
   ]
  },
  {
   "cell_type": "code",
   "execution_count": null,
   "metadata": {},
   "outputs": [],
   "source": [
    "# pull scores\n",
    "\n",
    "z = np.zeros(y.shape, dtype=float)\n",
    "z[:] = np.nan\n",
    "\n",
    "value = 'ADIR2003:communication'\n",
    "with open('../../PhenotypeGLRM/data/all_samples.csv', 'r') as f:\n",
    "    reader = csv.reader(f)\n",
    "    header = next(reader)\n",
    "    identifier_index = header.index('identifier')\n",
    "    value_index = header.index(value)\n",
    "    \n",
    "    for line in reader:\n",
    "        sample_id = line[identifier_index]\n",
    "        if sample_id in child_to_index:\n",
    "            z[child_to_index[sample_id]] = np.nan if line[value_index] == '' else float(line[value_index])\n",
    "            \n",
    "#print(np.nanmean(z[y==1]), np.nanmean(z[y==0]))\n",
    "#z[np.isnan(z) & (y==1)] = np.nanmean(z[y==1])\n",
    "#z[np.isnan(z) & (y==0)] = 0\n",
    "#z[z<10] = 0\n",
    "#z[(z>=10) & (z<20)] = 1\n",
    "#z[(z>=20)] = 2"
   ]
  },
  {
   "cell_type": "code",
   "execution_count": null,
   "metadata": {},
   "outputs": [],
   "source": [
    "plt.hist(z[is_ihart & has_data & y], alpha=0.5)\n",
    "plt.hist(z[~is_ihart & has_data & y], alpha=0.5)\n",
    "plt.show()"
   ]
  },
  {
   "cell_type": "code",
   "execution_count": 674,
   "metadata": {},
   "outputs": [
    {
     "name": "stdout",
     "output_type": "stream",
     "text": [
      "97\n"
     ]
    }
   ],
   "source": [
    "#model = ElasticNet(alpha=0.015, l1_ratio=0.9, fit_intercept=True, normalize=True)\n",
    "model = Lasso(alpha=0.1, positive=True, fit_intercept=True)\n",
    "result = model.fit(np.hstack((~is_male[~test_indices & is_ihart & has_data & ~is_parent & ~np.isnan(z), np.newaxis], \n",
    "                              X[~test_indices & is_ihart & has_data & ~is_parent & ~np.isnan(z), :] +\\\n",
    "                              Z[~test_indices & is_ihart & has_data & ~is_parent & ~np.isnan(z), :],\n",
    ")), \n",
    "                   z[~test_indices & is_ihart & has_data & ~is_parent & ~np.isnan(z)])\n",
    "coeffs = result.coef_\n",
    "print(np.sum(~np.isclose(coeffs, 0)))"
   ]
  },
  {
   "cell_type": "code",
   "execution_count": 675,
   "metadata": {},
   "outputs": [
    {
     "name": "stdout",
     "output_type": "stream",
     "text": [
      "(6687,) (6687, 63954) (6687, 63954) (63955,)\n"
     ]
    }
   ],
   "source": [
    "print(is_male.shape, X.shape, Z.shape, coeffs.shape)"
   ]
  },
  {
   "cell_type": "code",
   "execution_count": 676,
   "metadata": {},
   "outputs": [],
   "source": [
    "predict = model.predict(np.hstack((~is_male[:, np.newaxis], X+Z)))\n"
   ]
  },
  {
   "cell_type": "code",
   "execution_count": 677,
   "metadata": {},
   "outputs": [
    {
     "data": {
      "image/png": "[encoded data removed]",
      "text/plain": [
       "<Figure size 432x288 with 1 Axes>"
      ]
     },
     "metadata": {
      "needs_background": "light"
     },
     "output_type": "display_data"
    }
   ],
   "source": [
    "plt.scatter(predict[test_indices & is_ihart & has_data & ~is_parent ], z[test_indices & is_ihart & has_data & ~is_parent ])\n",
    "plt.plot(plt.xlim(), plt.xlim(), color='black', linestyle='--')\n",
    "plt.show()\n",
    "\n"
   ]
  },
  {
   "cell_type": "code",
   "execution_count": 665,
   "metadata": {},
   "outputs": [
    {
     "name": "stderr",
     "output_type": "stream",
     "text": [
      "//anaconda3/lib/python3.7/site-packages/ipykernel/__main__.py:23: RuntimeWarning: invalid value encountered in long_scalars\n"
     ]
    },
    {
     "name": "stdout",
     "output_type": "stream",
     "text": [
      "0.6105902686848584\n"
     ]
    },
    {
     "data": {
      "image/png": "[encoded data removed]",
      "text/plain": [
       "<Figure size 1080x360 with 2 Axes>"
      ]
     },
     "metadata": {
      "needs_background": "light"
     },
     "output_type": "display_data"
    }
   ],
   "source": [
    "plt.figure(figsize=(15, 5))\n",
    "\n",
    "ax = plt.subplot(1, 2, 1)\n",
    "train_fpr, train_tpr, _ = metrics.roc_curve(y[~test_indices & ~np.isnan(z) & is_ihart & has_data & ~is_parent], \n",
    "                                            predict[~test_indices & ~np.isnan(z) & is_ihart & has_data & ~is_parent])\n",
    "test_fpr, test_tpr, _ = metrics.roc_curve(y[test_indices & is_ihart & has_data & ~is_parent], \n",
    "                                          predict[test_indices & is_ihart & has_data & ~is_parent])\n",
    "#test_fpr2, test_tpr2, _ = metrics.roc_curve(y[~is_ihart & has_data], predict[~is_ihart & has_data])\n",
    "\n",
    "plt.plot([0, 1], [0, 1], linestyle='--', color='black')\n",
    "plt.plot(train_fpr, train_tpr)\n",
    "plt.plot(test_fpr, test_tpr)\n",
    "#plt.plot(test_fpr2, test_tpr2)\n",
    "plt.xlabel('FPR')\n",
    "plt.ylabel('TPR')\n",
    "\n",
    "plt.subplot(1, 2, 2, sharex=ax, sharey=ax)\n",
    "train_precision, train_recall, _ = metrics.precision_recall_curve(y[~test_indices & ~np.isnan(z) & is_ihart & has_data], predict[~test_indices & ~np.isnan(z) & is_ihart & has_data])\n",
    "test_precision, test_recall, _ = metrics.precision_recall_curve(y[test_indices & is_ihart & has_data], predict[test_indices & is_ihart & has_data])\n",
    "#test_precision2, test_recall2, _ = metrics.precision_recall_curve(y[~is_ihart & has_data], predict[~is_ihart & has_data])\n",
    "\n",
    "plt.axhline(np.sum(y & test_indices & is_ihart & has_data)/np.sum(test_indices & is_ihart & has_data), linestyle='--', color='black')\n",
    "plt.axhline(np.sum(y & ~is_ihart & has_data)/np.sum(~is_ihart & has_data), linestyle='--', color='black')\n",
    "plt.plot(train_recall, train_precision)\n",
    "plt.plot(test_recall, test_precision)\n",
    "#plt.plot(test_recall2, test_precision2)\n",
    "plt.xlabel('Recall')\n",
    "plt.ylabel('Precision')\n",
    "\n",
    "print(metrics.auc(test_fpr, test_tpr))\n",
    "\n",
    "plt.show()"
   ]
  },
  {
   "cell_type": "code",
   "execution_count": null,
   "metadata": {},
   "outputs": [],
   "source": [
    "plt.figure(figsize=(15, 5))\n",
    "\n",
    "ax = plt.subplot(1, 2, 1)\n",
    "plt.boxplot([predict[test_indices & ~np.isnan(z) & is_ihart & has_data & (z==x)] for x in range(0, 3)])\n",
    "\n",
    "plt.xlabel('Actual')\n",
    "plt.ylabel('Predicted')\n",
    "\n",
    "print(pearsonr(z[~test_indices & ~np.isnan(z) & (z>0) & is_ihart & has_data], predict[~test_indices & ~np.isnan(z) & (z>0) & is_ihart & has_data]))\n",
    "print(pearsonr(z[test_indices & ~np.isnan(z) & (z>0) & is_ihart & has_data], predict[test_indices & ~np.isnan(z) & (z>0) & is_ihart & has_data]))\n",
    "\n",
    "ax = plt.subplot(1, 2, 2)\n",
    "plt.boxplot([predict[~is_ihart & has_data & ~np.isnan(z) & (z==x)] for x in range(0, 3)])\n",
    "\n",
    "plt.xlabel('Actual')\n",
    "plt.ylabel('Predicted')\n",
    "\n",
    "print(pearsonr(z[~is_ihart & has_data & ~np.isnan(z) & (z>0)], predict[~is_ihart & has_data & ~np.isnan(z) & (z>0)]))\n",
    "\n",
    "#plt.subplot(1, 2, 2, sharex=ax, sharey=ax)\n",
    "#train_precision, train_recall, _ = metrics.precision_recall_curve(y[~test_indices], predict[~test_indices, 1])\n",
    "#test_precision, test_recall, _ = metrics.precision_recall_curve(y[test_indices], predict[test_indices, 1])\n",
    "#\n",
    "#plt.axhline(np.sum(y/y.shape[0]), linestyle='--', color='black')\n",
    "#plt.plot(train_recall, train_precision)\n",
    "#plt.plot(test_recall, test_precision)\n",
    "#plt.xlabel('Recall')\n",
    "#plt.ylabel('Precision')\n",
    "\n",
    "#print(metrics.auc(test_fpr, test_tpr))\n",
    "plt.show()"
   ]
  },
  {
   "cell_type": "code",
   "execution_count": null,
   "metadata": {},
   "outputs": [],
   "source": [
    "n = X.shape[1]\n",
    "beta = cp.Variable(n)\n",
    "lambd = 0.9\n",
    "log_likelihood = cp.sum(\n",
    "    cp.multiply(y, X @ beta) - cp.logistic(X @ beta)\n",
    ")\n",
    "problem = cp.Problem(cp.Maximize(log_likelihood/n - lambd * cp.norm(beta[5:], 1) - lambd * cp.norm(beta[5:], 2)), [])\n",
    "problem.solve()"
   ]
  },
  {
   "cell_type": "code",
   "execution_count": null,
   "metadata": {},
   "outputs": [],
   "source": [
    "print(np.sum(~np.isclose(beta.value, 0)))"
   ]
  },
  {
   "cell_type": "code",
   "execution_count": null,
   "metadata": {},
   "outputs": [],
   "source": [
    "for i in np.argsort(np.abs(coeffs.flatten()))[-20:]:\n",
    "    print(deletions[i], coeffs[0, i])"
   ]
  },
  {
   "cell_type": "code",
   "execution_count": null,
   "metadata": {},
   "outputs": [],
   "source": [
    "for i in np.argsort(np.abs(coeffs.flatten()))[-20:]:\n",
    "    print(deletions[i], coeffs[0, i])"
   ]
  },
  {
   "cell_type": "code",
   "execution_count": null,
   "metadata": {},
   "outputs": [],
   "source": [
    "model = Logit(y, X[:, ~np.isclose(coeffs, 0).flatten()])\n",
    "result = model.fit()\n",
    "print(result.summary())"
   ]
  },
  {
   "cell_type": "code",
   "execution_count": null,
   "metadata": {},
   "outputs": [],
   "source": [
    "0.655"
   ]
  },
  {
   "cell_type": "markdown",
   "metadata": {},
   "source": [
    "# Try sibpairs"
   ]
  },
  {
   "cell_type": "code",
   "execution_count": null,
   "metadata": {},
   "outputs": [],
   "source": []
  }
 ],
 "metadata": {
  "kernelspec": {
   "display_name": "Python 3",
   "language": "python",
   "name": "python3"
  },
  "language_info": {
   "codemirror_mode": {
    "name": "ipython",
    "version": 3
   },
   "file_extension": ".py",
   "mimetype": "text/x-python",
   "name": "python",
   "nbconvert_exporter": "python",
   "pygments_lexer": "ipython3",
   "version": "3.7.3"
  }
 },
 "nbformat": 4,
 "nbformat_minor": 2
}
