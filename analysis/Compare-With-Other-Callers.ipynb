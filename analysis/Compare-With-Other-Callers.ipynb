{
 "cells": [
  {
   "cell_type": "code",
   "execution_count": 2,
   "metadata": {
    "collapsed": true
   },
   "outputs": [],
   "source": [
    "lumpy_trans_file = '../final_calls/lumpy.calls'\n",
    "genomestrip_trans_file = '../final_calls/genomestrip.calls'\n",
    "breakdancer_trans_file = '../final_calls/breakdancer.calls'"
   ]
  },
  {
   "cell_type": "code",
   "execution_count": 3,
   "metadata": {
    "collapsed": true
   },
   "outputs": [],
   "source": [
    "ped_files = ['../data/160826.ped', '../data/ssc.ped']\n",
    "# Affection (0=unknown; 1=unaffected; 2=affected)\n",
    "sample_id_to_affected = dict()\n",
    "sample_id_to_sex = dict()\n",
    "sample_id_to_parent_ids = dict()\n",
    "\n",
    "for ped_file in ped_files:\n",
    "    with open(ped_file, 'r') as f:\n",
    "        for line in f:\n",
    "            pieces = line.strip().split('\\t')\n",
    "            if len(pieces) >= 6:\n",
    "                fam_id, child_id, f_id, m_id, sex, disease_status = pieces[0:6]\n",
    "                sample_id_to_affected[child_id] = disease_status\n",
    "                sample_id_to_sex[child_id] = sex\n",
    "                sample_id_to_parent_ids[child_id] = (f_id, m_id)"
   ]
  },
  {
   "cell_type": "code",
   "execution_count": 4,
   "metadata": {
    "collapsed": true
   },
   "outputs": [],
   "source": [
    "import json\n",
    "\n",
    "# load iHART deletions\n",
    "with open('../final_calls/filtered_iHART_deletions.json', 'r') as f:\n",
    "    ihart_deletions = json.load(f)"
   ]
  },
  {
   "cell_type": "code",
   "execution_count": 5,
   "metadata": {},
   "outputs": [
    {
     "name": "stdout",
     "output_type": "stream",
     "text": [
      "{'family': 'AU0080.AU008001.AU008002', 'chrom': 1, 'start_pos': 49243, 'end_pos': 76610, 'length': 27368, 'opt_start_pos': 47961, 'opt_end_pos': 97952, 'opt_length': 49992, 'trans': ['AU008004'], 'notrans': [], 'is_mat': True, 'is_pat': False, 'mother': 'AU008001', 'father': 'AU008002'}\n"
     ]
    }
   ],
   "source": [
    "print(ihart_deletions[0])"
   ]
  },
  {
   "cell_type": "code",
   "execution_count": 6,
   "metadata": {
    "collapsed": true
   },
   "outputs": [],
   "source": [
    "from collections import defaultdict\n",
    "\n",
    "my_trans = defaultdict(list)\n",
    "for d in ihart_deletions:\n",
    "    if d['is_mat']:\n",
    "        for c in d['trans']:\n",
    "            trans = (d['mother'], c)\n",
    "            my_trans[(trans, str(d['chrom']))].append(d)     \n",
    "    if d['is_pat']:\n",
    "        for c in d['trans']:\n",
    "            trans = (d['father'], c)\n",
    "            my_trans[(trans, str(d['chrom']))].append(d)   "
   ]
  },
  {
   "cell_type": "code",
   "execution_count": 7,
   "metadata": {
    "collapsed": true
   },
   "outputs": [],
   "source": [
    "lumpy_trans = defaultdict(list)\n",
    "with open(lumpy_trans_file, 'r') as f:\n",
    "    for line in f:\n",
    "        pieces = line.strip().split('\\t')\n",
    "        chrom, start, end = pieces[:3]\n",
    "        trans = pieces[9:]\n",
    "        for x in trans:\n",
    "            lumpy_trans[(tuple(x.split('-')), chrom)].append((chrom, int(start), int(end)))"
   ]
  },
  {
   "cell_type": "code",
   "execution_count": 8,
   "metadata": {},
   "outputs": [
    {
     "name": "stdout",
     "output_type": "stream",
     "text": [
      "[('1', 714046, 243265030), ('1', 724869, 224200101), ('1', 726273, 224201675), ('1', 726801, 224202080), ('1', 826022, 5727117), ('1', 829170, 829205), ('1', 869471, 870218), ('1', 1232649, 1233072), ('1', 1339353, 1339636), ('1', 1465927, 1466230), ('1', 1584586, 1647687), ('1', 1650061, 1650602), ('1', 1866399, 1866977), ('1', 1869284, 1869311), ('1', 2053562, 2055573), ('1', 2583931, 2623413), ('1', 2583937, 2584699), ('1', 2583948, 2585344), ('1', 2583969, 2615479), ('1', 2584492, 2623451), ('1', 2585504, 2615431), ('1', 2585678, 2620897), ('1', 2585713, 2628852), ('1', 2586443, 2619277), ('1', 2586472, 2586516), ('1', 2618836, 2626293), ('1', 2619851, 2627668), ('1', 2620905, 2628874), ('1', 2622812, 2629144), ('1', 3216326, 3216959), ('1', 3708278, 3708553), ('1', 4125562, 4126986), ('1', 4155159, 4155460), ('1', 4196016, 4196563), ('1', 4204658, 4204726), ('1', 4204679, 4204726), ('1', 4480354, 4480417), ('1', 4692817, 4693485), ('1', 4871290, 4871319), ('1', 4999561, 4999608), ('1', 5796427, 5796472), ('1', 6066007, 6066620), ('1', 7570071, 7571526), ('1', 8594743, 8594767), ('1', 9595641, 9597609), ('1', 13180992, 13181862), ('1', 14436308, 14438241), ('1', 14436354, 14436655), ('1', 14437074, 14438939), ('1', 14822051, 14822075), ('1', 16029079, 16029361), ('1', 16293686, 16293963), ('1', 16362123, 16385165), ('1', 16363803, 16387020), ('1', 16376518, 16386257), ('1', 16875690, 17007978), ('1', 16902421, 16908813), ('1', 17009482, 21739195), ('1', 17009557, 17012755), ('1', 17054431, 17054471), ('1', 17676184, 17677653), ('1', 17684780, 17685086), ('1', 17687331, 17687653), ('1', 18689989, 18689999), ('1', 19724712, 19724753), ('1', 20913608, 20913663), ('1', 21019529, 147392059), ('1', 21786420, 21786690), ('1', 21787745, 21787809), ('1', 22307742, 22332274), ('1', 23343691, 23343705), ('1', 24403010, 24403302), ('1', 25158703, 25161509), ('1', 25789287, 25789288), ('1', 26489823, 26490138), ('1', 26740697, 26740735), ('1', 28083535, 28083776), ('1', 28247807, 28248108), ('1', 29739772, 29739799), ('1', 30298160, 30298182), ('1', 30307670, 30307682), ('1', 30484189, 30484204), ('1', 33104843, 33104954), ('1', 33453304, 33453615), ('1', 33476436, 59096412), ('1', 34454632, 34454652), ('1', 35101422, 35111976), ('1', 37424238, 37425748), ('1', 37816473, 37816731), ('1', 38077349, 38077420), ('1', 41150967, 41150994), ('1', 45983489, 45983583), ('1', 46366125, 46366436), ('1', 49703204, 49703228), ('1', 51409363, 51409396), ('1', 53211292, 53211575), ('1', 53564935, 53565274), ('1', 53594099, 53594948), ('1', 53594099, 53595603), ('1', 53595128, 53595603), ('1', 56132872, 56133046), ('1', 56194672, 56194700), ('1', 56401293, 56401603), ('1', 56831124, 56834961), ('1', 56864865, 56864898), ('1', 56887711, 56888019), ('1', 57242625, 57242946), ('1', 58343223, 58343535), ('1', 58743910, 58744822), ('1', 59059634, 59059941), ('1', 59116990, 59117031), ('1', 62060131, 62060138), ('1', 62113414, 62119520), ('1', 62128531, 94341694), ('1', 62390602, 62390935), ('1', 63151835, 63152158), ('1', 63245913, 63246588), ('1', 64112947, 64112965), ('1', 64446626, 64448002), ('1', 65767940, 65767965), ('1', 66079154, 66079451), ('1', 66263923, 66264242), ('1', 66694579, 66694640), ('1', 67054860, 67054886), ('1', 67201222, 67201536), ('1', 68007994, 68008815), ('1', 69082536, 69082567), ('1', 69230640, 69230760), ('1', 69807004, 69807311), ('1', 69943725, 69944021), ('1', 70946205, 70946520), ('1', 71741332, 71741629), ('1', 72449620, 72450032), ('1', 72766324, 72811839), ('1', 73022580, 73022636), ('1', 73753607, 73753915), ('1', 73974514, 73974543), ('1', 74038794, 74038817), ('1', 74312432, 74312682), ('1', 74755170, 74755289), ('1', 76011881, 76012195), ('1', 76111400, 79480656), ('1', 76240304, 76240315), ('1', 76585488, 76585527), ('1', 76768729, 76768797), ('1', 77100375, 77100649), ('1', 79401526, 79401830), ('1', 81194353, 81194668), ('1', 81687796, 81688113), ('1', 81979732, 81979852), ('1', 82085250, 82085299), ('1', 82963304, 82963615), ('1', 83042654, 83042964), ('1', 83125976, 83127569), ('1', 83149850, 83149910), ('1', 83484969, 83485006), ('1', 84517939, 84524629), ('1', 84712005, 84715874), ('1', 85748634, 85748950), ('1', 85906486, 85906559), ('1', 86405796, 86406118), ('1', 86740979, 86741697), ('1', 86844425, 86844625), ('1', 88457676, 88457694), ('1', 88780100, 88780104), ('1', 89807175, 89812290), ('1', 89811416, 89812289), ('1', 91624787, 91625054), ('1', 92134278, 92134833), ('1', 92283850, 92283862), ('1', 92681353, 92681405), ('1', 93406555, 93406594), ('1', 94288375, 94291256), ('1', 94850026, 94850070), ('1', 95690524, 95690829), ('1', 96154601, 143694359), ('1', 99179944, 99180049), ('1', 100462979, 100463000), ('1', 101283390, 101283454), ('1', 101724154, 101724207), ('1', 102350378, 196143364), ('1', 103047692, 103048008), ('1', 103096080, 103096384), ('1', 103216042, 103216072), ('1', 103700038, 103700041), ('1', 105135015, 105135024), ('1', 105255033, 105256188), ('1', 105428318, 105428639), ('1', 105606381, 105606401), ('1', 106015814, 106023397), ('1', 108187567, 108187585), ('1', 109209200, 109209207), ('1', 109597726, 109598040), ('1', 109614598, 109614743), ('1', 109690879, 109690917), ('1', 110187216, 110191329), ('1', 110212720, 110212725), ('1', 111788443, 111788462), ('1', 112764716, 112764771), ('1', 112835105, 112837665), ('1', 113611339, 113613777), ('1', 113799631, 113800090), ('1', 116229486, 116232840), ('1', 117571895, 192525773), ('1', 118091051, 118091258), ('1', 120393297, 147389651), ('1', 121352064, 121355703), ('1', 121352242, 121352539), ('1', 121352453, 121354131), ('1', 121354619, 121483760), ('1', 121355294, 121360006), ('1', 121355302, 121356876), ('1', 121358043, 121359713), ('1', 121358101, 121386230), ('1', 121358166, 121480079), ('1', 121358617, 121483197), ('1', 121359569, 121482170), ('1', 121360198, 121478369), ('1', 121386412, 121480082), ('1', 121479055, 121483674), ('1', 121480503, 121483241), ('1', 121481226, 121481968), ('1', 121484164, 121485251), ('1', 121484378, 121484447), ('1', 121484547, 121484603), ('1', 121484679, 121484994), ('1', 121484717, 121484784), ('1', 121484721, 121485043), ('1', 121484722, 121485381), ('1', 121484777, 121484846), ('1', 121484790, 121485188), ('1', 121484799, 121484870), ('1', 121484828, 121484889), ('1', 121484859, 121484889), ('1', 121484969, 121485384), ('1', 121485070, 121485144), ('1', 121485115, 121485183), ('1', 121485183, 121485251), ('1', 121485209, 121485259), ('1', 121485234, 121485301), ('1', 121485284, 121485354), ('1', 121485310, 121485382), ('1', 142535636, 142536875), ('1', 142536723, 142536736), ('1', 142536751, 142538187), ('1', 142536923, 142537136), ('1', 142537793, 142537828), ('1', 142538194, 142540462), ('1', 142538864, 142538870), ('1', 142538969, 142540913), ('1', 144594283, 148556370), ('1', 144685680, 144960939), ('1', 144894206, 144895152), ('1', 144896296, 144906805), ('1', 144896297, 144901046), ('1', 144901180, 144906809), ('1', 145017407, 145017441), ('1', 145026746, 145027052), ('1', 145092948, 145097085), ('1', 145291842, 145291954), ('1', 145592276, 145592292), ('1', 147390171, 147390467), ('1', 148682508, 148844110), ('1', 148849211, 148849929), ('1', 148855108, 148855136), ('1', 149034470, 149034729), ('1', 149208713, 149208764), ('1', 149277391, 149662947), ('1', 150037852, 150037898), ('1', 150614866, 150614872), ('1', 150691451, 150691769), ('1', 151742570, 151742582), ('1', 151752757, 151752780), ('1', 152034178, 152034380), ('1', 153098649, 153098737), ('1', 153133708, 153133963), ('1', 153215875, 153216451), ('1', 154799009, 154799036), ('1', 154932465, 154932758), ('1', 154969453, 154969554), ('1', 156526723, 156528935), ('1', 158712047, 158712353), ('1', 158867533, 158869981), ('1', 158946678, 158946686), ('1', 159648708, 159649657), ('1', 159738494, 224528372), ('1', 160935035, 160935336), ('1', 160946567, 160946616), ('1', 160954924, 160955121), ('1', 161208967, 161209323), ('1', 161667742, 161800339), ('1', 162052680, 162052985), ('1', 163727968, 163728029), ('1', 164845210, 164845260), ('1', 165731245, 165731489), ('1', 167090087, 167090102), ('1', 167601923, 167601951), ('1', 168305442, 168305459), ('1', 169007753, 169007849), ('1', 169160037, 169160349), ('1', 171457158, 171457200), ('1', 171781663, 171781673), ('1', 171783587, 171783649), ('1', 176179734, 176180066), ('1', 176478236, 176478773), ('1', 177572159, 177572180), ('1', 180183845, 180184080), ('1', 180293000, 180293313), ('1', 184318148, 184318174), ('1', 184599470, 184599478), ('1', 184814743, 184820784), ('1', 184937053, 184937359), ('1', 185373106, 185373431), ('1', 185589159, 185589235), ('1', 186883524, 186883550), ('1', 186967870, 186968167), ('1', 187464827, 187466729), ('1', 188539456, 188540229), ('1', 188994964, 188995283), ('1', 189004269, 189004295), ('1', 189829498, 189829534), ('1', 190664057, 190664078), ('1', 190837322, 190837490), ('1', 191545989, 191546019), ('1', 193235430, 193235657), ('1', 194060080, 194060242), ('1', 194350507, 194351285), ('1', 194451119, 194454310), ('1', 194517608, 194517867), ('1', 196144477, 196144491), ('1', 196158059, 196158323), ('1', 196736122, 196745339), ('1', 196766881, 196891721), ('1', 196768203, 196892829), ('1', 197500518, 197503271), ('1', 198304656, 198310278), ('1', 198773749, 198775414), ('1', 199438743, 199440233), ('1', 201947007, 201947025), ('1', 203234822, 203235125), ('1', 203374615, 203374623), ('1', 203462523, 203462552), ('1', 203684383, 203686199), ('1', 204385920, 204386205), ('1', 205355434, 205355730), ('1', 207020372, 207020714), ('1', 207097683, 207097956), ('1', 207292362, 207293195), ('1', 207542034, 207545564), ('1', 208623928, 208623951), ('1', 209627223, 213087892), ('1', 209935338, 209936076), ('1', 210078055, 210085977), ('1', 210295320, 210295622), ('1', 210722460, 210724879), ('1', 211224794, 211224821), ('1', 212019515, 212019521), ('1', 212471153, 212472616), ('1', 212697563, 212697572), ('1', 213083484, 213087739), ('1', 213292778, 213292829), ('1', 213739799, 213739816), ('1', 213834020, 213834066), ('1', 214610144, 214610185), ('1', 215194727, 215194780), ('1', 216085816, 216085857), ('1', 217497139, 217497168), ('1', 217577665, 217577674), ('1', 217754090, 217754377), ('1', 218182502, 218188594), ('1', 218635100, 218635150), ('1', 218785930, 218786233), ('1', 218789915, 218789939), ('1', 219923323, 219923626), ('1', 220277975, 247568959), ('1', 220879684, 220879731), ('1', 221816451, 221816460), ('1', 222034158, 222034475), ('1', 222137858, 227462928), ('1', 222941835, 222941856), ('1', 224247117, 224247578), ('1', 224261869, 224261896), ('1', 224392834, 224393134), ('1', 225133686, 225248656), ('1', 225256545, 225256801), ('1', 225762321, 225762625), ('1', 225992562, 225992594), ('1', 226101911, 226101935), ('1', 227482279, 227482582), ('1', 228024106, 228024405), ('1', 228572175, 228572489), ('1', 228814818, 228815141), ('1', 229373388, 229373762), ('1', 230470874, 230471314), ('1', 231868791, 231868840), ('1', 232423133, 232423446), ('1', 232775540, 232775843), ('1', 233962211, 233963563), ('1', 234318646, 234319747), ('1', 234587211, 234587512), ('1', 234884740, 234884771), ('1', 236279301, 236279796), ('1', 236549103, 236551329), ('1', 236796470, 236796529), ('1', 238852317, 238853250), ('1', 240617007, 240617314), ('1', 240641246, 240641562), ('1', 240708774, 240708817), ('1', 241149873, 241150181), ('1', 241227651, 241227938), ('1', 241360553, 241360852), ('1', 241586227, 241586488), ('1', 241838174, 241838213), ('1', 243127797, 243129215), ('1', 243782745, 243783763), ('1', 244643930, 244643943), ('1', 244746227, 244746264), ('1', 245433549, 245433623), ('1', 245977178, 245977188), ('1', 246125969, 246126155), ('1', 246558916, 246558946), ('1', 246969897, 246969989), ('1', 247027893, 247028188), ('1', 247597258, 247597349), ('1', 247850475, 247856508), ('1', 248051492, 248057638)]\n"
     ]
    }
   ],
   "source": [
    "print(lumpy_trans[list(lumpy_trans.keys())[0]])"
   ]
  },
  {
   "cell_type": "code",
   "execution_count": 9,
   "metadata": {
    "collapsed": true
   },
   "outputs": [],
   "source": [
    "genomestrip_trans = defaultdict(list)\n",
    "with open(genomestrip_trans_file, 'r') as f:\n",
    "    for line in f:\n",
    "        pieces = line.strip().split('\\t')\n",
    "        chrom, start, end = pieces[:3]\n",
    "        trans = pieces[9:]\n",
    "        for x in trans:\n",
    "            genomestrip_trans[(tuple(x.split('-')), chrom)].append((chrom, int(start), int(end)))"
   ]
  },
  {
   "cell_type": "code",
   "execution_count": 10,
   "metadata": {
    "collapsed": true
   },
   "outputs": [],
   "source": [
    "breakdancer_trans = defaultdict(list)\n",
    "with open(breakdancer_trans_file, 'r') as f:\n",
    "    for line in f:\n",
    "        pieces = line.strip().split('\\t')\n",
    "        chrom, start, end = pieces[:3]\n",
    "        trans = pieces[9:]\n",
    "        for x in trans:\n",
    "            breakdancer_trans[(tuple(x.split('-')), chrom)].append((chrom, int(start), int(end)))"
   ]
  },
  {
   "cell_type": "code",
   "execution_count": 11,
   "metadata": {},
   "outputs": [
    {
     "name": "stdout",
     "output_type": "stream",
     "text": [
      "26850 51390 35565 51478\n"
     ]
    }
   ],
   "source": [
    "print(len(my_trans), len(lumpy_trans), len(genomestrip_trans), len(breakdancer_trans))"
   ]
  },
  {
   "cell_type": "code",
   "execution_count": 12,
   "metadata": {},
   "outputs": [
    {
     "name": "stdout",
     "output_type": "stream",
     "text": [
      "3390 2231 2126 2231 1403\n"
     ]
    }
   ],
   "source": [
    "# make sure we're using same set of families\n",
    "my_sample_ids = set([x[0][0] for x in my_trans.keys()] + [x[0][1] for x in my_trans.keys()])\n",
    "lumpy_sample_ids = set([x[0][0] for x in lumpy_trans.keys()] + [x[0][1] for x in lumpy_trans.keys()])\n",
    "genomestrip_sample_ids = set([x[0][0] for x in genomestrip_trans.keys()] + [x[0][1] for x in genomestrip_trans.keys()])\n",
    "breakdancer_sample_ids = set([x[0][0] for x in breakdancer_trans.keys()] + [x[0][1] for x in breakdancer_trans.keys()])\n",
    "\n",
    "all_sample_ids = my_sample_ids & lumpy_sample_ids & genomestrip_sample_ids & breakdancer_sample_ids\n",
    "print(len(my_sample_ids), len(lumpy_sample_ids), len(genomestrip_sample_ids), len(breakdancer_sample_ids), len(all_sample_ids))"
   ]
  },
  {
   "cell_type": "code",
   "execution_count": 13,
   "metadata": {},
   "outputs": [
    {
     "name": "stdout",
     "output_type": "stream",
     "text": [
      "7031 21980 23200 21956\n"
     ]
    }
   ],
   "source": [
    "my_trans = dict([(k, v) for k, v in my_trans.items() if k[0][0] in all_sample_ids and k[0][1] in all_sample_ids])\n",
    "lumpy_trans = dict([(k, v) for k, v in lumpy_trans.items() if k[0][0] in all_sample_ids and k[0][1] in all_sample_ids])\n",
    "genomestrip_trans = dict([(k, v) for k, v in genomestrip_trans.items() if k[0][0] in all_sample_ids and k[0][1] in all_sample_ids])\n",
    "breakdancer_trans = dict([(k, v) for k, v in breakdancer_trans.items() if k[0][0] in all_sample_ids and k[0][1] in all_sample_ids])\n",
    "\n",
    "print(len(my_trans), len(lumpy_trans), len(genomestrip_trans), len(breakdancer_trans))"
   ]
  },
  {
   "cell_type": "code",
   "execution_count": 14,
   "metadata": {},
   "outputs": [
    {
     "name": "stdout",
     "output_type": "stream",
     "text": [
      "22 24 24 24 22\n"
     ]
    }
   ],
   "source": [
    "# make sure we have same chroms\n",
    "my_chroms = set([x[1] for x in my_trans.keys()])\n",
    "lumpy_chroms = set([x[1] for x in lumpy_trans.keys()])\n",
    "genomestrip_chroms = set([x[1] for x in genomestrip_trans.keys()])\n",
    "breakdancer_chroms = set([x[1] for x in breakdancer_trans.keys()])\n",
    "\n",
    "all_chroms = my_chroms & lumpy_chroms & genomestrip_chroms & breakdancer_chroms\n",
    "print(len(my_chroms), len(lumpy_chroms), len(genomestrip_chroms), len(breakdancer_chroms), len(all_chroms))"
   ]
  },
  {
   "cell_type": "code",
   "execution_count": 15,
   "metadata": {},
   "outputs": [
    {
     "name": "stdout",
     "output_type": "stream",
     "text": [
      "7031 21786 21846 21793\n"
     ]
    }
   ],
   "source": [
    "my_trans = dict([(k, v) for k, v in my_trans.items() if k[1] in all_chroms])\n",
    "lumpy_trans = dict([(k, v) for k, v in lumpy_trans.items() if k[1] in all_chroms])\n",
    "genomestrip_trans = dict([(k, v) for k, v in genomestrip_trans.items() if k[1] in all_chroms])\n",
    "breakdancer_trans = dict([(k, v) for k, v in breakdancer_trans.items() if k[1] in all_chroms])\n",
    "\n",
    "print(len(my_trans), len(lumpy_trans), len(genomestrip_trans), len(breakdancer_trans))"
   ]
  },
  {
   "cell_type": "code",
   "execution_count": 16,
   "metadata": {},
   "outputs": [],
   "source": [
    "lumpy_support = set()\n",
    "for k, other_dels in lumpy_trans.items():\n",
    "    if k in my_trans:\n",
    "        my_dels = my_trans[k]\n",
    "    \n",
    "        for od in other_dels:\n",
    "            od_start, od_end = od[1:3]\n",
    "            for md in my_dels:\n",
    "                md_start, md_end = md['start_pos'], md['end_pos']\n",
    "                if od_end < md_start or md_end < od_start:\n",
    "                    overlap = 0\n",
    "                elif od_start <= md_start and od_end >= md_end:\n",
    "                    overlap = md_end-md_start+1\n",
    "                elif md_start <= od_start and md_end >= od_end:\n",
    "                    overlap = od_end-od_start+1\n",
    "                elif md_start < od_end:\n",
    "                    overlap = od_end - md_start + 1\n",
    "                elif od_start < md_end:\n",
    "                    overlap = md_end - od_start + 1\n",
    "\n",
    "                if overlap/(md_end-md_start+1) >= 0.5 and overlap/(od_end-od_start+1) >= 0.5:\n",
    "                    lumpy_support.add((k[0][0], k[0][1], k[1], md_start, md_end))\n",
    "\n",
    "\n"
   ]
  },
  {
   "cell_type": "code",
   "execution_count": 17,
   "metadata": {
    "collapsed": true
   },
   "outputs": [],
   "source": [
    "genomestrip_support = set()\n",
    "for k, other_dels in genomestrip_trans.items():\n",
    "    if k in my_trans:\n",
    "        my_dels = my_trans[k]\n",
    "    \n",
    "        for od in other_dels:\n",
    "            od_start, od_end = od[1:3]\n",
    "            for md in my_dels:\n",
    "                md_start, md_end = md['start_pos'], md['end_pos']\n",
    "                if od_end < md_start or md_end < od_start:\n",
    "                    overlap = 0\n",
    "                elif od_start <= md_start and od_end >= md_end:\n",
    "                    overlap = md_end-md_start+1\n",
    "                elif md_start <= od_start and md_end >= od_end:\n",
    "                    overlap = od_end-od_start+1\n",
    "                elif md_start < od_end:\n",
    "                    overlap = od_end - md_start + 1\n",
    "                elif od_start < md_end:\n",
    "                    overlap = md_end - od_start + 1\n",
    "\n",
    "                if overlap/(md_end-md_start+1) >= 0.5 and overlap/(od_end-od_start+1) >= 0.5:\n",
    "                    genomestrip_support.add((k[0][0], k[0][1], k[1], md_start, md_end))"
   ]
  },
  {
   "cell_type": "code",
   "execution_count": 18,
   "metadata": {
    "collapsed": true
   },
   "outputs": [],
   "source": [
    "breakdancer_support = set()\n",
    "for k, other_dels in breakdancer_trans.items():\n",
    "    if k in my_trans:\n",
    "        my_dels = my_trans[k]\n",
    "    \n",
    "        for od in other_dels:\n",
    "            od_start, od_end = od[1:3]\n",
    "            for md in my_dels:\n",
    "                md_start, md_end = md['start_pos'], md['end_pos']\n",
    "                if od_end < md_start or md_end < od_start:\n",
    "                    overlap = 0\n",
    "                elif od_start <= md_start and od_end >= md_end:\n",
    "                    overlap = md_end-md_start+1\n",
    "                elif md_start <= od_start and md_end >= od_end:\n",
    "                    overlap = od_end-od_start+1\n",
    "                elif md_start < od_end:\n",
    "                    overlap = od_end - md_start + 1\n",
    "                elif od_start < md_end:\n",
    "                    overlap = md_end - od_start + 1\n",
    "\n",
    "                if overlap/(md_end-md_start+1) >= 0.5 and overlap/(od_end-od_start+1) >= 0.5:\n",
    "                    breakdancer_support.add((k[0][0], k[0][1], k[1], md_start, md_end))"
   ]
  },
  {
   "cell_type": "code",
   "execution_count": 19,
   "metadata": {},
   "outputs": [
    {
     "name": "stdout",
     "output_type": "stream",
     "text": [
      "I called 9487 transmissions\n",
      "Lumpy supported 5291\n",
      "Genomestrip supported 5210\n",
      "Breakdancer supported 4606\n",
      "All supported 4055\n",
      "At least one supported 5775\n",
      "\n",
      "Lumpy called 5338380\n",
      "Genomestrip called 1548581\n",
      "Breakdancer called 1896393\n"
     ]
    }
   ],
   "source": [
    "print('I called', sum([len(v) for v in my_trans.values()]), 'transmissions')\n",
    "print('Lumpy supported', len(lumpy_support))\n",
    "print('Genomestrip supported', len(genomestrip_support))\n",
    "print('Breakdancer supported', len(breakdancer_support))\n",
    "print('All supported', len(lumpy_support & genomestrip_support & breakdancer_support))\n",
    "print('At least one supported', len(lumpy_support | genomestrip_support | breakdancer_support))\n",
    "\n",
    "print()\n",
    "\n",
    "print('Lumpy called', sum([len(v) for v in lumpy_trans.values()]))\n",
    "print('Genomestrip called', sum([len(v) for v in genomestrip_trans.values()]))\n",
    "print('Breakdancer called', sum([len(v) for v in breakdancer_trans.values()]))"
   ]
  },
  {
   "cell_type": "code",
   "execution_count": 29,
   "metadata": {},
   "outputs": [
    {
     "data": {
      "text/plain": [
       "1403"
      ]
     },
     "execution_count": 29,
     "metadata": {},
     "output_type": "execute_result"
    }
   ],
   "source": [
    "len(all_sample_ids)"
   ]
  },
  {
   "cell_type": "code",
   "execution_count": 30,
   "metadata": {},
   "outputs": [
    {
     "name": "stdout",
     "output_type": "stream",
     "text": [
      "a 156\n",
      "b 305\n",
      "c 37\n",
      "ab 708\n",
      "ac 372\n",
      "bc 142\n",
      "abc 4055\n"
     ]
    }
   ],
   "source": [
    "print('a', len(lumpy_support - genomestrip_support - breakdancer_support))\n",
    "print('b', len(genomestrip_support - lumpy_support - breakdancer_support))\n",
    "print('c', len(breakdancer_support - genomestrip_support - lumpy_support))\n",
    "print('ab', len((lumpy_support & genomestrip_support) - breakdancer_support))\n",
    "print('ac', len((lumpy_support & breakdancer_support) - genomestrip_support))\n",
    "print('bc', len((genomestrip_support & breakdancer_support) - lumpy_support))\n",
    "print('abc', len(lumpy_support & genomestrip_support & breakdancer_support))"
   ]
  },
  {
   "cell_type": "code",
   "execution_count": null,
   "metadata": {
    "collapsed": true
   },
   "outputs": [],
   "source": []
  },
  {
   "cell_type": "code",
   "execution_count": null,
   "metadata": {
    "collapsed": true
   },
   "outputs": [],
   "source": []
  }
 ],
 "metadata": {
  "kernelspec": {
   "display_name": "Python 3",
   "language": "python",
   "name": "python3"
  },
  "language_info": {
   "codemirror_mode": {
    "name": "ipython",
    "version": 3
   },
   "file_extension": ".py",
   "mimetype": "text/x-python",
   "name": "python",
   "nbconvert_exporter": "python",
   "pygments_lexer": "ipython3",
   "version": "3.6.1"
  }
 },
 "nbformat": 4,
 "nbformat_minor": 2
}
