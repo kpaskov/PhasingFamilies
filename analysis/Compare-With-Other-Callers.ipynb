{
 "cells": [
  {
   "cell_type": "code",
   "execution_count": 1,
   "metadata": {},
   "outputs": [],
   "source": [
    "lumpy_trans_file = '../final_calls/lumpy.calls'\n",
    "genomestrip_trans_file = '../final_calls/genomestrip.calls'\n",
    "breakdancer_trans_file = '../final_calls/breakdancer.calls'"
   ]
  },
  {
   "cell_type": "code",
   "execution_count": 2,
   "metadata": {
    "collapsed": true
   },
   "outputs": [],
   "source": [
    "ped_files = ['../data/160826.ped', '../data/ssc.ped']\n",
    "# Affection (0=unknown; 1=unaffected; 2=affected)\n",
    "sample_id_to_affected = dict()\n",
    "sample_id_to_sex = dict()\n",
    "sample_id_to_parent_ids = dict()\n",
    "\n",
    "for ped_file in ped_files:\n",
    "    with open(ped_file, 'r') as f:\n",
    "        for line in f:\n",
    "            pieces = line.strip().split('\\t')\n",
    "            if len(pieces) >= 6:\n",
    "                fam_id, child_id, f_id, m_id, sex, disease_status = pieces[0:6]\n",
    "                sample_id_to_affected[child_id] = disease_status\n",
    "                sample_id_to_sex[child_id] = sex\n",
    "                sample_id_to_parent_ids[child_id] = (f_id, m_id)"
   ]
  },
  {
   "cell_type": "code",
   "execution_count": 72,
   "metadata": {},
   "outputs": [],
   "source": [
    "import json\n",
    "\n",
    "# load iHART deletions\n",
    "with open('../final_calls/filtered_test_deletions.json', 'r') as f:\n",
    "    ihart_deletions = json.load(f)"
   ]
  },
  {
   "cell_type": "code",
   "execution_count": 73,
   "metadata": {},
   "outputs": [
    {
     "name": "stdout",
     "output_type": "stream",
     "text": [
      "{'family': 'AU0012.AU001201.AU001202', 'chrom': '15', 'start_pos': 20683616, 'end_pos': 20683754, 'length': 139, 'opt_start_pos': 20683616, 'opt_end_pos': 20683754, 'opt_length': 139, 'trans': ['AU001203', 'AU001204'], 'notrans': [], 'is_mat': True, 'is_pat': False, 'mother': 'AU001201', 'father': 'AU001202'}\n"
     ]
    }
   ],
   "source": [
    "print(ihart_deletions[0])"
   ]
  },
  {
   "cell_type": "code",
   "execution_count": 74,
   "metadata": {},
   "outputs": [],
   "source": [
    "from collections import defaultdict\n",
    "\n",
    "my_trans = defaultdict(list)\n",
    "for d in ihart_deletions:\n",
    "    if d['is_mat']:\n",
    "        for c in d['trans']:\n",
    "            trans = (d['mother'], c)\n",
    "            my_trans[(trans, str(d['chrom']))].append(d)     \n",
    "    if d['is_pat']:\n",
    "        for c in d['trans']:\n",
    "            trans = (d['father'], c)\n",
    "            my_trans[(trans, str(d['chrom']))].append(d)   "
   ]
  },
  {
   "cell_type": "code",
   "execution_count": 80,
   "metadata": {},
   "outputs": [],
   "source": [
    "lumpy_trans = defaultdict(list)\n",
    "with open(lumpy_trans_file, 'r') as f:\n",
    "    for line in f:\n",
    "        pieces = line.strip().split('\\t')\n",
    "        chrom, start, end = pieces[:3]\n",
    "        trans = pieces[9:]\n",
    "        for x in trans:\n",
    "            lumpy_trans[(tuple(x.split('-')), chrom)].append((chrom, int(start), int(end)))"
   ]
  },
  {
   "cell_type": "code",
   "execution_count": 81,
   "metadata": {},
   "outputs": [],
   "source": [
    "genomestrip_trans = defaultdict(list)\n",
    "with open(genomestrip_trans_file, 'r') as f:\n",
    "    for line in f:\n",
    "        pieces = line.strip().split('\\t')\n",
    "        chrom, start, end = pieces[:3]\n",
    "        trans = pieces[9:]\n",
    "        for x in trans:\n",
    "            genomestrip_trans[(tuple(x.split('-')), chrom)].append((chrom, int(start), int(end)))"
   ]
  },
  {
   "cell_type": "code",
   "execution_count": 82,
   "metadata": {},
   "outputs": [],
   "source": [
    "breakdancer_trans = defaultdict(list)\n",
    "with open(breakdancer_trans_file, 'r') as f:\n",
    "    for line in f:\n",
    "        pieces = line.strip().split('\\t')\n",
    "        chrom, start, end = pieces[:3]\n",
    "        trans = pieces[9:]\n",
    "        for x in trans:\n",
    "            breakdancer_trans[(tuple(x.split('-')), chrom)].append((chrom, int(start), int(end)))"
   ]
  },
  {
   "cell_type": "code",
   "execution_count": 83,
   "metadata": {},
   "outputs": [
    {
     "name": "stdout",
     "output_type": "stream",
     "text": [
      "35 51390 35565 51478\n"
     ]
    }
   ],
   "source": [
    "print(len(my_trans), len(lumpy_trans), len(genomestrip_trans), len(breakdancer_trans))"
   ]
  },
  {
   "cell_type": "code",
   "execution_count": 84,
   "metadata": {},
   "outputs": [
    {
     "name": "stdout",
     "output_type": "stream",
     "text": [
      "54 2231 2126 2231 54\n"
     ]
    }
   ],
   "source": [
    "# make sure we're using same set of families\n",
    "my_sample_ids = set([x[0][0] for x in my_trans.keys()] + [x[0][1] for x in my_trans.keys()])\n",
    "lumpy_sample_ids = set([x[0][0] for x in lumpy_trans.keys()] + [x[0][1] for x in lumpy_trans.keys()])\n",
    "genomestrip_sample_ids = set([x[0][0] for x in genomestrip_trans.keys()] + [x[0][1] for x in genomestrip_trans.keys()])\n",
    "breakdancer_sample_ids = set([x[0][0] for x in breakdancer_trans.keys()] + [x[0][1] for x in breakdancer_trans.keys()])\n",
    "\n",
    "all_sample_ids = my_sample_ids & lumpy_sample_ids & genomestrip_sample_ids & breakdancer_sample_ids\n",
    "print(len(my_sample_ids), len(lumpy_sample_ids), len(genomestrip_sample_ids), len(breakdancer_sample_ids), len(all_sample_ids))"
   ]
  },
  {
   "cell_type": "code",
   "execution_count": 85,
   "metadata": {},
   "outputs": [
    {
     "name": "stdout",
     "output_type": "stream",
     "text": [
      "35 770 825 770\n"
     ]
    }
   ],
   "source": [
    "my_trans = dict([(k, v) for k, v in my_trans.items() if k[0][0] in all_sample_ids and k[0][1] in all_sample_ids])\n",
    "lumpy_trans = dict([(k, v) for k, v in lumpy_trans.items() if k[0][0] in all_sample_ids and k[0][1] in all_sample_ids])\n",
    "genomestrip_trans = dict([(k, v) for k, v in genomestrip_trans.items() if k[0][0] in all_sample_ids and k[0][1] in all_sample_ids])\n",
    "breakdancer_trans = dict([(k, v) for k, v in breakdancer_trans.items() if k[0][0] in all_sample_ids and k[0][1] in all_sample_ids])\n",
    "\n",
    "print(len(my_trans), len(lumpy_trans), len(genomestrip_trans), len(breakdancer_trans))"
   ]
  },
  {
   "cell_type": "code",
   "execution_count": 86,
   "metadata": {},
   "outputs": [
    {
     "name": "stdout",
     "output_type": "stream",
     "text": [
      "1 22 24 22 1\n"
     ]
    }
   ],
   "source": [
    "# make sure we have same chroms\n",
    "my_chroms = set([x[1] for x in my_trans.keys()])\n",
    "lumpy_chroms = set([x[1] for x in lumpy_trans.keys()])\n",
    "genomestrip_chroms = set([x[1] for x in genomestrip_trans.keys()])\n",
    "breakdancer_chroms = set([x[1] for x in breakdancer_trans.keys()])\n",
    "\n",
    "all_chroms = my_chroms & lumpy_chroms & genomestrip_chroms & breakdancer_chroms\n",
    "print(len(my_chroms), len(lumpy_chroms), len(genomestrip_chroms), len(breakdancer_chroms), len(all_chroms))"
   ]
  },
  {
   "cell_type": "code",
   "execution_count": 79,
   "metadata": {},
   "outputs": [
    {
     "name": "stdout",
     "output_type": "stream",
     "text": [
      "35 38 38 38\n"
     ]
    }
   ],
   "source": [
    "my_trans = dict([(k, v) for k, v in my_trans.items() if k[1] in all_chroms])\n",
    "lumpy_trans = dict([(k, v) for k, v in lumpy_trans.items() if k[1] in all_chroms])\n",
    "genomestrip_trans = dict([(k, v) for k, v in genomestrip_trans.items() if k[1] in all_chroms])\n",
    "breakdancer_trans = dict([(k, v) for k, v in breakdancer_trans.items() if k[1] in all_chroms])\n",
    "\n",
    "print(len(my_trans), len(lumpy_trans), len(genomestrip_trans), len(breakdancer_trans))"
   ]
  },
  {
   "cell_type": "code",
   "execution_count": 65,
   "metadata": {},
   "outputs": [],
   "source": [
    "lumpy_support = set()\n",
    "for k, other_dels in lumpy_trans.items():\n",
    "    if k in my_trans:\n",
    "        my_dels = my_trans[k]\n",
    "    \n",
    "        for od in other_dels:\n",
    "            od_start, od_end = od[1:3]\n",
    "            for md in my_dels:\n",
    "                md_start, md_end = md['start_pos'], md['end_pos']\n",
    "                if od_end < md_start or md_end < od_start:\n",
    "                    overlap = 0\n",
    "                elif od_start <= md_start and od_end >= md_end:\n",
    "                    overlap = md_end-md_start+1\n",
    "                elif md_start <= od_start and md_end >= od_end:\n",
    "                    overlap = od_end-od_start+1\n",
    "                elif md_start < od_end:\n",
    "                    overlap = od_end - md_start + 1\n",
    "                elif od_start < md_end:\n",
    "                    overlap = md_end - od_start + 1\n",
    "\n",
    "                if overlap/(md_end-md_start+1) >= 0.5 and overlap/(od_end-od_start+1) >= 0.5:\n",
    "                    lumpy_support.add((k[0][0], k[0][1], k[1], md_start, md_end))\n",
    "\n",
    "\n"
   ]
  },
  {
   "cell_type": "code",
   "execution_count": 66,
   "metadata": {},
   "outputs": [],
   "source": [
    "genomestrip_support = set()\n",
    "for k, other_dels in genomestrip_trans.items():\n",
    "    if k in my_trans:\n",
    "        my_dels = my_trans[k]\n",
    "    \n",
    "        for od in other_dels:\n",
    "            od_start, od_end = od[1:3]\n",
    "            for md in my_dels:\n",
    "                md_start, md_end = md['start_pos'], md['end_pos']\n",
    "                if od_end < md_start or md_end < od_start:\n",
    "                    overlap = 0\n",
    "                elif od_start <= md_start and od_end >= md_end:\n",
    "                    overlap = md_end-md_start+1\n",
    "                elif md_start <= od_start and md_end >= od_end:\n",
    "                    overlap = od_end-od_start+1\n",
    "                elif md_start < od_end:\n",
    "                    overlap = od_end - md_start + 1\n",
    "                elif od_start < md_end:\n",
    "                    overlap = md_end - od_start + 1\n",
    "\n",
    "                if overlap/(md_end-md_start+1) >= 0.5 and overlap/(od_end-od_start+1) >= 0.5:\n",
    "                    genomestrip_support.add((k[0][0], k[0][1], k[1], md_start, md_end))"
   ]
  },
  {
   "cell_type": "code",
   "execution_count": 67,
   "metadata": {},
   "outputs": [],
   "source": [
    "breakdancer_support = set()\n",
    "for k, other_dels in breakdancer_trans.items():\n",
    "    if k in my_trans:\n",
    "        my_dels = my_trans[k]\n",
    "    \n",
    "        for od in other_dels:\n",
    "            od_start, od_end = od[1:3]\n",
    "            for md in my_dels:\n",
    "                md_start, md_end = md['start_pos'], md['end_pos']\n",
    "                if od_end < md_start or md_end < od_start:\n",
    "                    overlap = 0\n",
    "                elif od_start <= md_start and od_end >= md_end:\n",
    "                    overlap = md_end-md_start+1\n",
    "                elif md_start <= od_start and md_end >= od_end:\n",
    "                    overlap = od_end-od_start+1\n",
    "                elif md_start < od_end:\n",
    "                    overlap = od_end - md_start + 1\n",
    "                elif od_start < md_end:\n",
    "                    overlap = md_end - od_start + 1\n",
    "\n",
    "                if overlap/(md_end-md_start+1) >= 0.5 and overlap/(od_end-od_start+1) >= 0.5:\n",
    "                    breakdancer_support.add((k[0][0], k[0][1], k[1], md_start, md_end))"
   ]
  },
  {
   "cell_type": "code",
   "execution_count": 68,
   "metadata": {},
   "outputs": [
    {
     "name": "stdout",
     "output_type": "stream",
     "text": [
      "I called 104 transmissions\n",
      "Lumpy supported 17\n",
      "Genomestrip supported 8\n",
      "Breakdancer supported 13\n",
      "All supported 8\n",
      "At least one supported 18\n",
      "\n",
      "Lumpy called 5237\n",
      "Genomestrip called 1068\n",
      "Breakdancer called 1940\n"
     ]
    }
   ],
   "source": [
    "print('I called', sum([len(v) for v in my_trans.values()]), 'transmissions')\n",
    "print('Lumpy supported', len(lumpy_support))\n",
    "print('Genomestrip supported', len(genomestrip_support))\n",
    "print('Breakdancer supported', len(breakdancer_support))\n",
    "print('All supported', len(lumpy_support & genomestrip_support & breakdancer_support))\n",
    "print('At least one supported', len(lumpy_support | genomestrip_support | breakdancer_support))\n",
    "\n",
    "print()\n",
    "\n",
    "print('Lumpy called', sum([len(v) for v in lumpy_trans.values()]))\n",
    "print('Genomestrip called', sum([len(v) for v in genomestrip_trans.values()]))\n",
    "print('Breakdancer called', sum([len(v) for v in breakdancer_trans.values()]))"
   ]
  },
  {
   "cell_type": "code",
   "execution_count": 69,
   "metadata": {},
   "outputs": [
    {
     "data": {
      "text/plain": [
       "57"
      ]
     },
     "execution_count": 69,
     "metadata": {},
     "output_type": "execute_result"
    }
   ],
   "source": [
    "len(all_sample_ids)"
   ]
  },
  {
   "cell_type": "code",
   "execution_count": 70,
   "metadata": {},
   "outputs": [
    {
     "name": "stdout",
     "output_type": "stream",
     "text": [
      "a 5\n",
      "b 0\n",
      "c 1\n",
      "ab 0\n",
      "ac 4\n",
      "bc 0\n",
      "abc 8\n"
     ]
    }
   ],
   "source": [
    "print('a', len(lumpy_support - genomestrip_support - breakdancer_support))\n",
    "print('b', len(genomestrip_support - lumpy_support - breakdancer_support))\n",
    "print('c', len(breakdancer_support - genomestrip_support - lumpy_support))\n",
    "print('ab', len((lumpy_support & genomestrip_support) - breakdancer_support))\n",
    "print('ac', len((lumpy_support & breakdancer_support) - genomestrip_support))\n",
    "print('bc', len((genomestrip_support & breakdancer_support) - lumpy_support))\n",
    "print('abc', len(lumpy_support & genomestrip_support & breakdancer_support))"
   ]
  },
  {
   "cell_type": "code",
   "execution_count": 71,
   "metadata": {},
   "outputs": [
    {
     "name": "stdout",
     "output_type": "stream",
     "text": [
      "7 28\n"
     ]
    },
    {
     "data": {
      "image/png": "[encoded data removed]",
      "text/plain": [
       "<Figure size 432x288 with 1 Axes>"
      ]
     },
     "metadata": {},
     "output_type": "display_data"
    }
   ],
   "source": [
    "import matplotlib.pyplot as plt\n",
    "import math\n",
    "\n",
    "base = 1.5\n",
    "lengths = [x['length'] for x in sum(my_trans.values(), [])]\n",
    "min_bin = math.floor(math.log(min(lengths), base))\n",
    "max_bin = math.ceil(math.log(max(lengths), base))+1\n",
    "print(min_bin, max_bin)\n",
    "\n",
    "plt.hist(lengths, \n",
    "         bins=[pow(base, i) for i in range(min_bin, max_bin)], alpha=0.5)\n",
    "plt.hist([x[-1]-x[-2] for x in lumpy_support], \n",
    "         bins=[pow(base, i) for i in range(min_bin, max_bin)], alpha=0.5)\n",
    "plt.hist([x[-1]-x[-2] for x in genomestrip_support], \n",
    "         bins=[pow(base, i) for i in range(min_bin, max_bin)], alpha=0.5)\n",
    "plt.hist([x[-1]-x[-2] for x in breakdancer_support], \n",
    "         bins=[pow(base, i) for i in range(min_bin, max_bin)], alpha=0.5)\n",
    "\n",
    "plt.gca().set_xscale(\"log\")\n",
    "plt.show()"
   ]
  },
  {
   "cell_type": "code",
   "execution_count": null,
   "metadata": {},
   "outputs": [],
   "source": []
  }
 ],
 "metadata": {
  "kernelspec": {
   "display_name": "Python 3",
   "language": "python",
   "name": "python3"
  },
  "language_info": {
   "codemirror_mode": {
    "name": "ipython",
    "version": 3
   },
   "file_extension": ".py",
   "mimetype": "text/x-python",
   "name": "python",
   "nbconvert_exporter": "python",
   "pygments_lexer": "ipython3",
   "version": "3.6.7"
  }
 },
 "nbformat": 4,
 "nbformat_minor": 2
}
