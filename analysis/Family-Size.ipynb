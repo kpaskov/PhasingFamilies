{
 "cells": [
  {
   "cell_type": "code",
   "execution_count": 152,
   "metadata": {
    "collapsed": true
   },
   "outputs": [],
   "source": [
    "import sys\n",
    "import time\n",
    "from os import listdir\n",
    "import gzip\n",
    "\n",
    "from collections import Counter\n",
    "from itertools import chain, product\n",
    "\n",
    "import numpy as np\n",
    "from scipy import sparse\n",
    "import random"
   ]
  },
  {
   "cell_type": "code",
   "execution_count": 153,
   "metadata": {},
   "outputs": [],
   "source": [
    "chrom = '22'\n",
    "fkey = ('AU1274', 'AU1274202', 'AU1274201')\n",
    "ped_file = '../data/160826.ped'\n",
    "data_dir = '../split_gen'\n",
    "phase_dir = '../sherlock_phased'\n",
    "\n",
    "sample_file = '%s/chr.%s.gen.samples.txt' % (data_dir, 'X' if chrom.startswith('PAR') else chrom)\n",
    "variant_file = '%s/chr.%s.gen.variants.txt.gz' % (data_dir, 'X' if chrom.startswith('PAR') else chrom)\n",
    "clean_file = '%s/clean_indices_%s.txt' % (data_dir, 'X' if chrom.startswith('PAR') else chrom) \n",
    "gen_files = sorted([f for f in listdir(data_dir) if ('chr.%s' % ('X' if chrom.startswith('PAR') else chrom)) in f and 'gen.npz' in f])\n"
   ]
  },
  {
   "cell_type": "code",
   "execution_count": 154,
   "metadata": {},
   "outputs": [
    {
     "name": "stdout",
     "output_type": "stream",
     "text": [
      "families with sequence data 886\n"
     ]
    }
   ],
   "source": [
    "# genotype (pred, obs): cost\n",
    "g_cost = {\n",
    "\t(-1, -1): 0,\n",
    "\t(-1, 0): 1,\n",
    "\t(-1, 1): 1,\n",
    "\t(-1, 2): 1,\n",
    "\t(0, -1): 1,\n",
    "\t(0, 0): 0,\n",
    "\t(0, 1): 1,\n",
    "\t(0, 2): 2,\n",
    "\t(1, -1): 1,\n",
    "\t(1, 0): 1,\n",
    "\t(1, 1): 0,\n",
    "\t(1, 2): 1,\n",
    "\t(2, -1): 1,\n",
    "\t(2, 0): 2,\n",
    "\t(2, 1): 1,\n",
    "\t(2, 2): 0\n",
    "}\n",
    "\n",
    "PAR1X = (60001, 2699520)\n",
    "PAR2X = (154931044, 155260560)\n",
    "\n",
    "# pull families with sequence data\n",
    "with open(sample_file, 'r') as f:\n",
    "\tsample_ids = [line.strip() for line in f]\n",
    "sample_id_to_index = dict([(sample_id, i) for i, sample_id in enumerate(sample_ids)])\n",
    "\n",
    "# pull families from ped file\n",
    "families = dict()\n",
    "with open(ped_file, 'r') as f:\t\n",
    "    for line in f:\n",
    "        pieces = line.strip().split('\\t')\n",
    "        fam_id, child_id, f_id, m_id = pieces[0:4]\n",
    "\n",
    "        if child_id in sample_ids and f_id in sample_ids and m_id in sample_ids:\n",
    "        \tif (fam_id, m_id, f_id) not in families:\n",
    "        \t\tfamilies[(fam_id, m_id, f_id)] = [m_id, f_id]\n",
    "        \tfamilies[(fam_id, m_id, f_id)].append(child_id)\n",
    "\n",
    "# randomly permute parents and children (separately)\n",
    "family_to_mom_dad = dict([(k, tuple(x[:2])) for k, x in families.items()])\n",
    "families = dict([(k, random.sample(x[:2], 2)+random.sample(x[2:], len(x)-2)) for k, x in families.items()])\n",
    "family_to_indices = dict([(fid, [sample_id_to_index[x] for x in vs]) for fid, vs in families.items()])\n",
    "family_to_index = dict([(fid, i) for i, fid in enumerate(families.keys())])\n",
    "\n",
    "print('families with sequence data', len(families))"
   ]
  },
  {
   "cell_type": "code",
   "execution_count": 155,
   "metadata": {},
   "outputs": [
    {
     "name": "stdout",
     "output_type": "stream",
     "text": [
      "family size 7\n"
     ]
    }
   ],
   "source": [
    "family_indices = family_to_indices[fkey]\n",
    "family_size = len(family_indices)\n",
    "print('family size %d' % family_size)"
   ]
  },
  {
   "cell_type": "code",
   "execution_count": 156,
   "metadata": {},
   "outputs": [
    {
     "name": "stdout",
     "output_type": "stream",
     "text": [
      "ancestral variants (16, 4)\n",
      "chrom shape 7 1096535\n"
     ]
    }
   ],
   "source": [
    "# ancestral_variants (m1, m2, p1, p2)\n",
    "anc_variants = np.array(list(product(*[[0, 1]]*4)), dtype=np.int8)\n",
    "anc_variant_to_index = dict([(tuple(x), i) for i, x in enumerate(anc_variants)])\n",
    "print('ancestral variants', anc_variants.shape)\n",
    "\n",
    "# pull genotype data from .npz\n",
    "indices_of_interest = list(family_indices)\n",
    "old_index_to_new_index = dict([(ind, i) for (i, ind) in enumerate(indices_of_interest)])\n",
    "family_indices = [old_index_to_new_index[x] for x in family_indices]\n",
    "whole_chrom = sparse.hstack([sparse.load_npz('%s/%s' % (data_dir, gen_file))[indices_of_interest,:] for gen_file in gen_files])\n",
    "m, n = whole_chrom.shape\n",
    "print('chrom shape', m, n)"
   ]
  },
  {
   "cell_type": "code",
   "execution_count": 157,
   "metadata": {},
   "outputs": [
    {
     "name": "stdout",
     "output_type": "stream",
     "text": [
      "chrom shape only SNPs 7 1003938\n",
      "chrom shape no hom ref 7 88982\n"
     ]
    }
   ],
   "source": [
    "# use only \"cleaned\" variants - must be SNPs and missingness in parents can't be sex-biased\n",
    "snp_indices = []\n",
    "snp_positions = []\n",
    "with open(clean_file, 'r') as f:\n",
    "    for i, line in enumerate(f):\n",
    "        index, position = line.strip().split('\\t')\n",
    "        snp_indices.append(int(index))\n",
    "        snp_positions.append(int(position))\n",
    "snp_positions = np.array(snp_positions)\n",
    "\n",
    "whole_chrom = whole_chrom[:, snp_indices].A\n",
    "m, n = whole_chrom.shape\n",
    "print('chrom shape only SNPs', m, n)\n",
    "\n",
    "# filter out all_hom_ref\n",
    "family_indices = np.where(np.sum(whole_chrom!=0, axis=0) != 0)[0]\n",
    "whole_chrom = whole_chrom[:, family_indices]\n",
    "snp_positions = snp_positions[family_indices]\n",
    "n = snp_positions.shape[0]\n",
    "print('chrom shape no hom ref', m, n)\n",
    "\n",
    "# If we're looking at one of the PAR, restrict X to appropriate region\n",
    "if chrom == 'PAR1':\n",
    "\tPAR1X_indices = np.where(np.logical_and(snp_positions >= PAR1X[0], snp_positions <= PAR1X[1]))[0]\n",
    "\twhole_chrom = whole_chrom[:, PAR1X_indices]\n",
    "\tsnp_positions = snp_positions[PAR1X_indices]\n",
    "elif chrom == 'PAR2':\n",
    "\tPAR2X_indices = np.where(np.logical_and(snp_positions >= PAR2X[0], snp_positions <= PAR2X[1]))[0]\n",
    "\twhole_chrom = whole_chrom[:, PAR2X_indices]\n",
    "\tsnp_positions = snp_positions[PAR2X_indices]"
   ]
  },
  {
   "cell_type": "code",
   "execution_count": 232,
   "metadata": {},
   "outputs": [
    {
     "name": "stdout",
     "output_type": "stream",
     "text": [
      "Family size 3\n",
      "inheritance states (16, 6)\n",
      "genotypes (64, 3)\n",
      "transitions (16, 16)\n",
      "losses (16, 64) [[3 2 2 ..., 2 1 0]\n",
      " [3 2 2 ..., 2 1 0]\n",
      " [3 2 3 ..., 1 1 0]\n",
      " ..., \n",
      " [2 1 2 ..., 3 2 1]\n",
      " [1 2 2 ..., 2 2 2]\n",
      " [0 1 1 ..., 3 3 3]]\n",
      "Forward sweep complete 1.6862759590148926 sec\n",
      "Num solutions 1\n",
      "Num positions in fork 868\n",
      "Backward sweep complete 3.823549270629883 sec\n",
      "Family size 4\n",
      "inheritance states (64, 8)\n",
      "genotypes (256, 4)\n",
      "transitions (64, 18)\n",
      "losses (64, 256) [[4 3 3 ..., 2 1 0]\n",
      " [4 3 3 ..., 2 1 0]\n",
      " [4 3 3 ..., 2 1 0]\n",
      " ..., \n",
      " [0 1 1 ..., 4 4 4]\n",
      " [0 1 1 ..., 4 4 4]\n",
      " [0 1 1 ..., 4 4 4]]\n",
      "Forward sweep complete 2.3006322383880615 sec\n",
      "Num solutions 1\n",
      "Num positions in fork 975\n",
      "Backward sweep complete 3.734498977661133 sec\n",
      "Family size 5\n",
      "inheritance states (1024, 10)\n",
      "genotypes (1024, 5)\n",
      "transitions (1024, 22)\n",
      "losses (1024, 1024) [[5 4 4 ..., 2 1 0]\n",
      " [5 4 4 ..., 2 1 0]\n",
      " [5 4 4 ..., 2 1 0]\n",
      " ..., \n",
      " [0 1 1 ..., 5 5 5]\n",
      " [0 1 1 ..., 5 5 5]\n",
      " [0 1 1 ..., 5 5 5]]\n",
      "Forward sweep complete 25.85419487953186 sec\n",
      "Num solutions 1\n",
      "Num positions in fork 885\n",
      "Backward sweep complete 3.6031911373138428 sec\n",
      "Family size 6\n",
      "inheritance states (4096, 12)\n",
      "genotypes (4096, 6)\n",
      "transitions (4096, 24)\n",
      "losses (4096, 4096) [[6 5 5 ..., 2 1 0]\n",
      " [6 5 5 ..., 2 1 0]\n",
      " [6 5 5 ..., 2 1 0]\n",
      " ..., \n",
      " [0 1 1 ..., 6 6 6]\n",
      " [0 1 1 ..., 6 6 6]\n",
      " [0 1 1 ..., 6 6 6]]\n",
      "Forward sweep complete 154.94975328445435 sec\n",
      "Num solutions 1\n",
      "Num positions in fork 772\n",
      "Backward sweep complete 4.01735782623291 sec\n"
     ]
    }
   ],
   "source": [
    "deletions = -np.ones((8, 7, n))\n",
    "anc_dels = -np.ones((8, 4, n))\n",
    "inh_state = -np.ones((8, 5, 2, n))\n",
    "for family_size in range(3, 7):\n",
    "    m = family_size\n",
    "    print('Family size', m)\n",
    "    # inheritance states\n",
    "    #\n",
    "    # for parents:\n",
    "    # (0, 0) -> normal\n",
    "    # (0, 1) -> deletion on parental2\n",
    "    # (1, 0) -> deletion on parental1\n",
    "    # (1, 1) -> deletion on parental1 and parental2\n",
    "    # \n",
    "    # for children:\n",
    "    # (0, 0) -> m1p1\n",
    "    # (0, 1) -> m1p2\n",
    "    # (1, 0) -> m2p1\n",
    "    # (1, 1) -> m2p2\n",
    "\n",
    "    if family_size >= 5:\n",
    "        inheritance_states = list(product(*[[0, 1]]*(2*m)))\n",
    "    else:\n",
    "        inheritance_states = [x for x in product(*[[0, 1]]*(2*m)) if x[4] == 0 and x[5] == 0]\n",
    "    inheritance_states = np.asarray(inheritance_states, dtype=np.int8)\n",
    "    \n",
    "    state_to_index = dict([(tuple(x), i) for i, x in enumerate(inheritance_states)])\n",
    "    p = inheritance_states.shape[0]\n",
    "    print('inheritance states', inheritance_states.shape)\n",
    "\n",
    "    # genotypes\n",
    "    genotypes = np.array(list(product(*[[-1, 0, 1, 2]]*m)), dtype=np.int8)\n",
    "    genotype_to_index = dict([(tuple(x), i) for i, x in enumerate(genotypes)])\n",
    "    q = genotypes.shape[0]\n",
    "    print('genotypes', genotypes.shape)\n",
    "\n",
    "    # transition matrix\n",
    "    # only allow one shift at a time\n",
    "    shift_costs = [10]*4 + [500]*(2*(m-2))\n",
    "\n",
    "    transitions = [[] for i in range(p)]\n",
    "    transition_costs = [[] for i in range(p)]\n",
    "    for i, state in enumerate(inheritance_states):\n",
    "        # allow multiple deletion transitions\n",
    "        for delstate in list(product(*[[0, 1]]*4)):\n",
    "            new_state = tuple(delstate[:4]) + tuple(state[4:(2*m)])\n",
    "            if new_state in state_to_index:\n",
    "                new_index = state_to_index[new_state]\n",
    "                transitions[i].append(new_index)\n",
    "                transition_costs[i].append(sum([shift_costs[j] for j, (old_s, new_s) in enumerate(zip(state[:4], delstate)) if old_s != new_s]))\n",
    "\n",
    "        # allow a single recombination event\n",
    "        for j in range(4, 2*m):\n",
    "            new_state = tuple(1-x if k == j else x for k, x in enumerate(state))\n",
    "            if new_state in state_to_index:\n",
    "                new_index = state_to_index[new_state]\n",
    "                transitions[i].append(new_index)\n",
    "                transition_costs[i].append(shift_costs[j])\n",
    "\n",
    "    transitions = np.array(transitions)\n",
    "    transition_costs = np.array(transition_costs)\n",
    "    print('transitions', transitions.shape)\n",
    "\n",
    "    # loss matrix\n",
    "    losses = np.zeros((p, q), dtype=np.int16)\n",
    "    for i, s in enumerate(inheritance_states):\n",
    "        state_losses = np.zeros((q, anc_variants.shape[0]), dtype=np.int16)\n",
    "\n",
    "        # mom\n",
    "        if s[0] == 0 and s[1] == 0:\n",
    "            pred_gens = anc_variants[:, 0] + anc_variants[:, 1]\n",
    "        elif s[0] == 0:\n",
    "            pred_gens = 2*anc_variants[:, 0]\n",
    "        elif s[1] == 0:\n",
    "            pred_gens = 2*anc_variants[:, 1]\n",
    "        else:\n",
    "            pred_gens = -1*np.ones((anc_variants.shape[0],))\n",
    "        for obs_gen in [-1, 0, 1, 2]:\n",
    "            state_losses[genotypes[:, 0]==obs_gen, :] += [g_cost[(pred_gen, obs_gen)] for pred_gen in pred_gens]\n",
    "\n",
    "        # dad\n",
    "        if s[2] == 0 and s[3] == 0:\n",
    "            pred_gens = anc_variants[:, 2] + anc_variants[:, 3]\n",
    "        elif s[2] == 0:\n",
    "            pred_gens = 2*anc_variants[:, 2]\n",
    "        elif s[3] == 0:\n",
    "            pred_gens = 2*anc_variants[:, 3]\n",
    "        else:\n",
    "            pred_gens = -1*np.ones((anc_variants.shape[0],))\n",
    "        for obs_gen in [-1, 0, 1, 2]:\n",
    "            state_losses[genotypes[:, 1]==obs_gen, :] += [g_cost[(pred_gen, obs_gen)] for pred_gen in pred_gens]\n",
    "\n",
    "        # children\n",
    "        for index in range(m-2):\n",
    "            mat, pat = s[(4+(2*index)):(6+(2*index))]\n",
    "            \n",
    "            mat_del = s[mat]\n",
    "            pat_del = s[2+pat]\n",
    "\n",
    "            if mat_del == 0 and pat_del == 0:\n",
    "                pred_gens = anc_variants[:, mat] + anc_variants[:, 2+pat]\n",
    "            elif mat_del == 0:\n",
    "                pred_gens = 2*anc_variants[:, mat]\n",
    "            elif pat_del == 0:\n",
    "                pred_gens = 2*anc_variants[:, 2+pat]\n",
    "            else:\n",
    "                pred_gens = -1*np.ones((anc_variants.shape[0],))\n",
    "                \n",
    "            for obs_gen in [-1, 0, 1, 2]:\n",
    "                state_losses[genotypes[:, 2+index]==obs_gen, :] += [g_cost[(pred_gen, obs_gen)] for pred_gen in pred_gens]\n",
    "\n",
    "        losses[i, :] = np.min(state_losses, axis=1)\n",
    "\n",
    "    print('losses', losses.shape, losses)\n",
    "\n",
    "    # pull genotype data for this family\n",
    "    family_genotypes = whole_chrom[:m, :]\n",
    "    pos_to_genindex = np.asarray([genotype_to_index[tuple(x)] for x in family_genotypes.T])\n",
    "\n",
    "    # viterbi\n",
    "    v_cost = np.zeros((p, n+1), dtype=int)\n",
    "\n",
    "    # forward sweep\n",
    "    prev_time = time.time()\n",
    "    v_cost[:, 0] = [2*s[4]+s[5] for s in inheritance_states]\n",
    "    for j in range(n): \n",
    "        v_cost[:, j+1] = np.min(v_cost[transitions, j] + transition_costs, axis=1) + losses[:, pos_to_genindex[j]]\n",
    "    print('Forward sweep complete', time.time()-prev_time, 'sec') \n",
    "\n",
    "    # backward sweep\n",
    "    prev_time = time.time()\n",
    "\n",
    "    # choose best path\n",
    "    k = np.argmin(v_cost[:, n])\n",
    "    print('Num solutions', np.sum(v_cost[:, n]==v_cost[k, n]))\n",
    "    paths = [k]\n",
    "    prev_state = tuple(inheritance_states[k, :])\n",
    "    prev_state_end = n-1\n",
    "\n",
    "    num_forks = 0\n",
    "    index = n\n",
    "    while index > 0:\n",
    "        # traceback\n",
    "        total_cost = v_cost[transitions[paths, :], index-1] + transition_costs[paths, :]\n",
    "        min_value = np.min(total_cost, axis=1)\n",
    "        new_states = set()\n",
    "        for i, k in enumerate(paths):\n",
    "            # get best tracebacks\n",
    "            min_indices = transitions[k, np.where(total_cost[i, :] <= min_value[i])[0]]\t\n",
    "            new_states.update(min_indices.tolist())\n",
    "        new_states = list(new_states)\n",
    "\n",
    "        # combine into a single state (with missing values)\n",
    "        new_state = tuple(inheritance_states[new_states[0], :])\n",
    "        if len(new_states) > 1:\n",
    "            num_forks += 1\n",
    "            for k in new_states[1:]:\n",
    "                new_state = tuple(['*' if x != y else x for x, y in zip(new_state, tuple(inheritance_states[k, :]))])\n",
    "\n",
    "        # write to file\n",
    "        if prev_state != new_state:\n",
    "            start_index, end_index = index, prev_state_end\n",
    "            del_state = [0 if s == '*' else s for s in prev_state[:4]]\n",
    "                \n",
    "            deletions[m, 0, start_index:(end_index+1)] = sum(del_state[:2])\n",
    "            deletions[m, 1, start_index:(end_index+1)] = sum(del_state[2:4])\n",
    "            \n",
    "            anc_dels[m, :, start_index:(end_index+1)] = np.outer(del_state, np.ones((end_index-start_index+1,)))\n",
    "            \n",
    "            for k in range(m-2):\n",
    "                mat, pat = prev_state[(4+(2*k)):(6+(2*k))]\n",
    "            \n",
    "                if mat != '*' and pat != '*':\n",
    "                    deletions[m, k+2, start_index:(end_index+1)] = (del_state[mat]+del_state[2+pat])\n",
    "                    anc_inh[m, mat, start_index:(end_index+1)] += 1\n",
    "                    inh_state[m, k, 0, start_index:(end_index+1)] = mat\n",
    "                    inh_state[m, k, 1, start_index:(end_index+1)] = pat\n",
    "                    anc_inh[m, 2+pat, start_index:(end_index+1)] += 1\n",
    "                elif (mat == '*') and (pat != '*') and (del_state[0] == del_state[1]):\n",
    "                    deletions[m, k+2, start_index:(end_index+1)] = (del_state[0]+del_state[2+pat])\n",
    "                    inh_state[m, k, 1, start_index:(end_index+1)] = pat\n",
    "                elif (pat == '*') and (mat != '*') and (del_state[2] == del_state[3]):\n",
    "                    deletions[m, k+2, start_index:(end_index+1)] = (del_state[mat]+del_state[2])\n",
    "                    inh_state[m, k, 0, start_index:(end_index+1)] = mat\n",
    "                elif (del_state[0] == del_state[1]) and (del_state[2] == del_state[3]):\n",
    "                    deletions[m, k+2, start_index:(end_index+1)] = (del_state[0]+del_state[2])\n",
    "                \n",
    "            prev_state = new_state\n",
    "            prev_state_end = index-1\n",
    "\n",
    "        index -= 1\n",
    "        paths = list(new_states)\n",
    "\n",
    "    # last state\n",
    "    start_index, end_index = 0, prev_state_end\n",
    "    del_state = [0 if s == '*' else s for s in prev_state[:4]]\n",
    "                \n",
    "    deletions[m, 0, start_index:(end_index+1)] = sum(del_state[:2])\n",
    "    deletions[m, 1, start_index:(end_index+1)] = sum(del_state[2:4])\n",
    "\n",
    "    for k in range(m-2):\n",
    "        mat, pat = prev_state[(4+(2*k)):(6+(2*k))]\n",
    "        if mat != '*' and pat != '*':\n",
    "            deletions[m, k+2, start_index:(end_index+1)] = (del_state[mat]+del_state[2+pat])\n",
    "        elif (mat == '*') and (pat != '*') and (del_state[0] == del_state[1]):\n",
    "            deletions[m, k+2, start_index:(end_index+1)] = (del_state[0]+del_state[2+pat])\n",
    "        elif (pat == '*') and (mat != '*') and (del_state[2] == del_state[3]):\n",
    "            deletions[m, k+2, start_index:(end_index+1)] = (del_state[mat]+del_state[2])\n",
    "        elif (del_state[0] == del_state[1]) and (del_state[2] == del_state[3]):\n",
    "            deletions[m, k+2, start_index:(end_index+1)] = (del_state[0]+del_state[2])\n",
    "    \n",
    "    print('Num positions in fork', num_forks)\n",
    "    print('Backward sweep complete', time.time()-prev_time, 'sec') \n"
   ]
  },
  {
   "cell_type": "code",
   "execution_count": 233,
   "metadata": {},
   "outputs": [],
   "source": [
    "# load whole family phase\n",
    "\n",
    "# pull snp_positions for this chromosome\n",
    "DATA = np.load('%s/chr.%s.deletions.npz' % (phase_dir, chrom))\n",
    "new_snp_positions = np.asarray(sorted(set(DATA['snp_positions'].tolist()) | set(snp_positions.tolist())))\n",
    "pos_to_index = dict([(x, i) for i, x in enumerate(new_snp_positions)])\n",
    "\n",
    "sample_id_to_index = dict([(x, i) for i, x in enumerate(DATA['sample_ids'])])\n",
    "sample_indices = [sample_id_to_index[x] for x in families[fkey]]\n",
    "\n",
    "new_d = -np.ones((len(sample_indices), len(pos_to_index)))\n",
    "new_d[:, [pos_to_index[p] for p in DATA['snp_positions']]] = DATA['deletions'][sample_indices, :]"
   ]
  },
  {
   "cell_type": "code",
   "execution_count": 234,
   "metadata": {
    "collapsed": true
   },
   "outputs": [],
   "source": [
    "# fix up missing deletions where we can\n",
    "\n",
    "# extend first and last calls to end\n",
    "first_nonmissing = np.argmax(new_d != -1, axis=1)\n",
    "last_nonmissing = np.argmax(np.flip(new_d, axis=1) != -1, axis=1)\n",
    "for i, (fnm, lnm) in enumerate(zip(first_nonmissing, last_nonmissing)):\n",
    "    new_d[i, 0:fnm] = 0\n",
    "    new_d[i, (-1-lnm):n] = 0\n",
    "\n",
    "# fill in intermediate missing values\n",
    "miss_start_x, miss_start_y = np.where((new_d[:, :-1] != -1) & (new_d[:, 1:] == -1))\n",
    "miss_end_x, miss_end_y = np.where((new_d[:, :-1] == -1) & (new_d[:, 1:] != -1))\n",
    "\n",
    "assert np.array_equal(miss_start_x, miss_end_x)\n",
    "for i, start, end in zip(miss_start_x, miss_start_y, miss_end_y):\n",
    "    if new_d[i, start] == new_d[i, end+1]:\n",
    "        new_d[i, (start+1):(end+1)] = new_d[i, start]\n",
    "deletions[7, :, :] = new_d[:, [pos_to_index[p] for p in snp_positions]]"
   ]
  },
  {
   "cell_type": "code",
   "execution_count": 235,
   "metadata": {},
   "outputs": [
    {
     "data": {
      "image/png": "[encoded data removed]",
      "text/plain": [
       "<matplotlib.figure.Figure at 0x113a9be80>"
      ]
     },
     "metadata": {},
     "output_type": "display_data"
    }
   ],
   "source": [
    "import matplotlib.pyplot as plt\n",
    "\n",
    "plt.figure(figsize=(15, 20))\n",
    "\n",
    "have_del_indices = np.where(np.sum(deletions>0, axis=(0, 1))>0)[0]\n",
    "\n",
    "plt.subplot(7, 1, 1)\n",
    "plt.imshow(whole_chrom[:, have_del_indices], aspect='auto', vmin=-1, vmax=2)\n",
    "\n",
    "for i in range(3, 8):\n",
    "    plt.subplot(7, 1, i-1)\n",
    "    plt.imshow(deletions[i, :, have_del_indices].T, aspect='auto', vmin=-1, vmax=2)\n",
    "\n",
    "plt.show()"
   ]
  },
  {
   "cell_type": "code",
   "execution_count": 240,
   "metadata": {},
   "outputs": [
    {
     "data": {
      "image/png": "[encoded data removed]",
      "text/plain": [
       "<matplotlib.figure.Figure at 0x1105d0da0>"
      ]
     },
     "metadata": {},
     "output_type": "display_data"
    }
   ],
   "source": [
    "plt.figure(figsize=(15, 20))\n",
    "\n",
    "have_del_indices = np.where(np.sum(deletions>0, axis=(0, 1))>0)[0]\n",
    "\n",
    "for i in range(3, 7):\n",
    "    plt.subplot(6, 1, i-2)\n",
    "    plt.imshow(np.vstack((inh_state[i, :, 0, :], inh_state[i, :, 1, :])), aspect='auto', vmin=-1, vmax=1)\n",
    "\n",
    "plt.show()"
   ]
  },
  {
   "cell_type": "code",
   "execution_count": 231,
   "metadata": {},
   "outputs": [
    {
     "name": "stdout",
     "output_type": "stream",
     "text": [
      "3 [[ 11114    452   1031]\n",
      " [   384   6910   3486]\n",
      " [   310   1073 242186]]\n",
      "4 [[ 15922    647    751]\n",
      " [   475  11565   1287]\n",
      " [   895   2214 322172]]\n",
      "5 [[ 19332    344    434]\n",
      " [   315  16223   1159]\n",
      " [   794   2735 403574]]\n",
      "6 [[ 24039      0      0]\n",
      " [     0  21899      0]\n",
      " [     0      0 487954]]\n"
     ]
    },
    {
     "name": "stderr",
     "output_type": "stream",
     "text": [
      "//anaconda/lib/python3.6/site-packages/ipykernel_launcher.py:21: RuntimeWarning: divide by zero encountered in log10\n"
     ]
    },
    {
     "name": "stdout",
     "output_type": "stream",
     "text": [
      "7 [[ 20585    402   3052]\n",
      " [   641  19149   2109]\n",
      " [   458   1233 486263]]\n"
     ]
    },
    {
     "data": {
      "image/png": "[encoded data removed]",
      "text/plain": [
       "<matplotlib.figure.Figure at 0x10fa2b9b0>"
      ]
     },
     "metadata": {},
     "output_type": "display_data"
    }
   ],
   "source": [
    "plt.figure(figsize=(10, 15))\n",
    "s = 1\n",
    "for i in range(3, 8):\n",
    "    contingency = np.asarray([[np.sum((deletions[i, :i, :]==2) & (deletions[6, :i, :]==2)),\n",
    "                   np.sum((deletions[i, :i, :]==1) & (deletions[6, :i, :]==2)),\n",
    "                   np.sum((deletions[i, :i, :]==0) & (deletions[6, :i, :]==2))],\n",
    "                   [np.sum((deletions[i, :i, :]==2) & (deletions[6, :i, :]==1)),\n",
    "                   np.sum((deletions[i, :i, :]==1) & (deletions[6, :i, :]==1)),\n",
    "                   np.sum((deletions[i, :i, :]==0) & (deletions[6, :i, :]==1))],\n",
    "                   [np.sum((deletions[i, :i, :]==2) & (deletions[6, :i, :]==0)),\n",
    "                   np.sum((deletions[i, :i, :]==1) & (deletions[6, :i, :]==0)),\n",
    "                   np.sum((deletions[i, :i, :]==0) & (deletions[6, :i, :]==0))]])\n",
    "                   # 0]]\n",
    "    plt.subplot(6, 3, s)\n",
    "    plt.imshow(contingency/np.sum(contingency, axis=0), vmin=0, vmax=1)\n",
    "    s += 1\n",
    "    plt.subplot(6, 3, s)\n",
    "    plt.imshow((contingency.T/np.sum(contingency, axis=1)).T, vmin=0, vmax=1)\n",
    "    s += 1\n",
    "    plt.subplot(6, 3, s)\n",
    "    plt.imshow(np.log10(contingency), vmin=2, vmax=5)\n",
    "    s += 1\n",
    "    print(i, contingency)\n",
    "plt.show()"
   ]
  },
  {
   "cell_type": "code",
   "execution_count": 226,
   "metadata": {},
   "outputs": [
    {
     "name": "stdout",
     "output_type": "stream",
     "text": [
      "(7, 88982) (7, 88982)\n"
     ]
    }
   ],
   "source": [
    "print(whole_chrom.shape, deletions[7].shape)"
   ]
  },
  {
   "cell_type": "code",
   "execution_count": null,
   "metadata": {
    "collapsed": true
   },
   "outputs": [],
   "source": []
  }
 ],
 "metadata": {
  "kernelspec": {
   "display_name": "Python 3",
   "language": "python",
   "name": "python3"
  },
  "language_info": {
   "codemirror_mode": {
    "name": "ipython",
    "version": 3
   },
   "file_extension": ".py",
   "mimetype": "text/x-python",
   "name": "python",
   "nbconvert_exporter": "python",
   "pygments_lexer": "ipython3",
   "version": "3.6.1"
  }
 },
 "nbformat": 4,
 "nbformat_minor": 2
}
