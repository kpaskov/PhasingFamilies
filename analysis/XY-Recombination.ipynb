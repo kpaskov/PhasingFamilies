{
 "cells": [
  {
   "cell_type": "code",
   "execution_count": 4,
   "metadata": {},
   "outputs": [],
   "source": [
    "from os import listdir\n",
    "from scipy import sparse\n",
    "\n",
    "# pull X genotypes\n",
    "gen_files = sorted([f for f in listdir('split_gen') if 'chr.X' in f and 'gen.npz' in f])\n",
    "X_chrom = sparse.hstack([sparse.load_npz('split_gen/%s' % gen_file) for gen_file in gen_files])\n",
    "\n",
    "# pull Y genotypes\n",
    "gen_files = sorted([f for f in listdir('split_gen') if 'chr.Y' in f and 'gen.npz' in f])\n",
    "Y_chrom = sparse.hstack([sparse.load_npz('split_gen/%s' % gen_file) for gen_file in gen_files])\n",
    "\n",
    "print(X_chrom.shape, Y_chrom.shape)"
   ]
  },
  {
   "cell_type": "code",
   "execution_count": 9,
   "metadata": {},
   "outputs": [
    {
     "name": "stdout",
     "output_type": "stream",
     "text": [
      "(4610, 2965581) (4610, 231075)\n"
     ]
    }
   ],
   "source": [
    "import gzip\n",
    "import numpy as np\n",
    "\n",
    "# get indices and positions of SNPs\n",
    "def get_snp_indices(chrom): \n",
    "    variant_file = 'split_gen/chr.%s.gen.variants.txt.gz' % chrom\n",
    "    snp_indices = []\n",
    "    snp_positions = []\n",
    "    with gzip.open(variant_file, 'rt') as f:\n",
    "        for i, line in enumerate(f):\n",
    "            pieces = line.strip().split('\\t')\n",
    "            if len(pieces[3]) == 1 and len(pieces[4]) == 1 and pieces[3] != '.' and pieces[4] != '.':\n",
    "                snp_indices.append(i)\n",
    "                snp_positions.append(int(pieces[1]))\n",
    "    return snp_indices, np.array(snp_positions)\n",
    "\n",
    "X_snp_indices, X_snp_positions = get_snp_indices('X')\n",
    "Y_snp_indices, Y_snp_positions = get_snp_indices('Y')\n",
    "\n",
    "# Remove non-SNPs\n",
    "X_chrom = X_chrom[:, X_snp_indices]\n",
    "Y_chrom = Y_chrom[:, Y_snp_indices]\n",
    "print(X_chrom.shape, Y_chrom.shape)"
   ]
  },
  {
   "cell_type": "code",
   "execution_count": 39,
   "metadata": {},
   "outputs": [
    {
     "name": "stdout",
     "output_type": "stream",
     "text": [
      "(4610, 95116) (4610, 9674)\n"
     ]
    }
   ],
   "source": [
    "PAR1X = (60001, 2699520)\n",
    "PAR2X = (154931044, 155260560)\n",
    "PAR1Y = (10001, 2649520)\n",
    "PAR2Y = (59034050, 59363566)\n",
    "\n",
    "PAR1X_indices = np.where(np.logical_and(X_snp_positions >= PAR1X[0], X_snp_positions <= PAR1X[1]))[0]\n",
    "PAR2X_indices = np.where(np.logical_and(X_snp_positions >= PAR2X[0], X_snp_positions <= PAR2X[1]))[0]\n",
    "\n",
    "PAR1X_chrom = X_chrom[:, PAR1X_indices]\n",
    "PAR2X_chrom = X_chrom[:, PAR2X_indices]\n",
    "PAR1X_snp_positions = X_snp_positions[PAR1X_indices]\n",
    "PAR2X_snp_positions = X_snp_positions[PAR2X_indices]\n",
    "\n",
    "print(PAR1X_chrom.shape, PAR2X_chrom.shape)"
   ]
  },
  {
   "cell_type": "code",
   "execution_count": 40,
   "metadata": {},
   "outputs": [
    {
     "name": "stdout",
     "output_type": "stream",
     "text": [
      "families with sequence data 886\n",
      "family sizes Counter({4: 436, 5: 356, 6: 57, 3: 18, 7: 13, 9: 4, 10: 1, 8: 1})\n"
     ]
    }
   ],
   "source": [
    "from collections import Counter\n",
    "\n",
    "# pull families with sequence data\n",
    "with open('split_gen/chr.X.gen.samples.txt', 'r') as f:\n",
    "    sample_ids = [line.strip() for line in f]\n",
    "sample_id_to_index = dict([(sample_id, i) for i, sample_id in enumerate(sample_ids)])\n",
    "\n",
    "# pull families from ped file\n",
    "families = dict()\n",
    "with open('160826.ped', 'r') as f:\n",
    "    for line in f:\n",
    "        pieces = line.strip().split('\\t')\n",
    "        fam_id, child_id, f_id, m_id = pieces[0:4]\n",
    "\n",
    "        if child_id in sample_ids and f_id in sample_ids and m_id in sample_ids:\n",
    "            if (fam_id, m_id, f_id) not in families:\n",
    "                families[(fam_id, m_id, f_id)] = [m_id, f_id]\n",
    "            families[(fam_id, m_id, f_id)].append(child_id)\n",
    "\n",
    "family_to_indices = dict([(fid, [sample_id_to_index[x] for x in vs]) for fid, vs in families.items()])\n",
    "family_to_index = dict([(fid, i) for i, fid in enumerate(families.keys())])\n",
    "\n",
    "print('families with sequence data', len(families))\n",
    "print('family sizes', Counter([len(x) for x in families.values()]))"
   ]
  },
  {
   "cell_type": "code",
   "execution_count": 48,
   "metadata": {},
   "outputs": [
    {
     "name": "stdout",
     "output_type": "stream",
     "text": [
      "family ('AU1481', 'AU1481202', 'AU1481201') [2915, 1877, 2916, 2918, 2919]\n",
      "(5, 95116) (5, 9674)\n"
     ]
    }
   ],
   "source": [
    "import random\n",
    "\n",
    "fkey, family_index = random.choice(list(family_to_indices.items()))\n",
    "print('family', fkey, family_index)\n",
    "\n",
    "# filter out family member genotypes\n",
    "ind_indices = family_to_indices[fkey]\n",
    "family_PAR1X = PAR1X_chrom[ind_indices, :].A\n",
    "family_PAR2X = PAR2X_chrom[ind_indices, :].A\n",
    "\n",
    "# remove snps where the whole family is hom ref\n",
    "family_PAR1X_indices = [i for i, x in enumerate(family_PAR1X.T) if tuple(x) != (0,)*m]\n",
    "family_PAR1X = family_PAR1X[:, family_PAR1X_indices]\n",
    "family_PAR1X_snp_positions = PAR1X_snp_positions[family_PAR1X_indices]\n",
    "\n",
    "family_PAR2X_indices = [i for i, x in enumerate(family_PAR2X.T) if tuple(x) != (0,)*m]\n",
    "family_PAR2X = family_PAR2X[:, family_PAR2X_indices]\n",
    "family_PAR2X_snp_positions = PAR2X_snp_positions[family_PAR2X_indices]\n",
    "\n",
    "print(family_PAR1X.shape, family_PAR2X.shape)"
   ]
  },
  {
   "cell_type": "code",
   "execution_count": 49,
   "metadata": {},
   "outputs": [
    {
     "data": {
      "image/png": "[encoded data removed]",
      "text/plain": [
       "<matplotlib.figure.Figure at 0x11d66e4e0>"
      ]
     },
     "metadata": {},
     "output_type": "display_data"
    }
   ],
   "source": [
    "import matplotlib.pyplot as plt\n",
    "plt.figure(figsize=(20, 6))\n",
    "\n",
    "plt.subplot(2, 1, 1)\n",
    "plt.imshow(family_PAR1X[:, 40000:40100])\n",
    "plt.colorbar()\n",
    "\n",
    "plt.subplot(2, 1, 2)\n",
    "plt.imshow(family_PAR2X[:, 4000:4100])\n",
    "plt.colorbar()\n",
    "\n",
    "plt.show()"
   ]
  },
  {
   "cell_type": "code",
   "execution_count": null,
   "metadata": {
    "collapsed": true
   },
   "outputs": [],
   "source": [
    "PAR1X = (60001, 2699520)\n",
    "PAR2X = (154931044, 155260560)\n",
    "PAR1Y = (10001, 2649520)\n",
    "PAR2Y = (59034050, 59363566)"
   ]
  }
 ],
 "metadata": {
  "kernelspec": {
   "display_name": "Python 3",
   "language": "python",
   "name": "python3"
  },
  "language_info": {
   "codemirror_mode": {
    "name": "ipython",
    "version": 3
   },
   "file_extension": ".py",
   "mimetype": "text/x-python",
   "name": "python",
   "nbconvert_exporter": "python",
   "pygments_lexer": "ipython3",
   "version": "3.6.1"
  }
 },
 "nbformat": 4,
 "nbformat_minor": 2
}
