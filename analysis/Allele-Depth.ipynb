{
 "cells": [
  {
   "cell_type": "code",
   "execution_count": 7,
   "metadata": {},
   "outputs": [],
   "source": [
    "import numpy as np\n",
    "import scipy.sparse as sp\n",
    "import matplotlib.pyplot as plt"
   ]
  },
  {
   "cell_type": "code",
   "execution_count": 9,
   "metadata": {},
   "outputs": [],
   "source": [
    "ad1 = sp.load_npz('../split_ad/chr.22.0.ad.npz')"
   ]
  },
  {
   "cell_type": "code",
   "execution_count": 28,
   "metadata": {},
   "outputs": [
    {
     "name": "stdout",
     "output_type": "stream",
     "text": [
      "  (2, 0)\t3\n",
      "  (5, 0)\t4\n",
      "  (7, 0)\t7\n",
      "  (10, 0)\t3\n",
      "  (13, 0)\t6\n",
      "  (14, 0)\t1\n",
      "  (16, 0)\t1\n",
      "  (18, 0)\t3\n",
      "  (20, 0)\t2\n",
      "  (23, 0)\t3\n",
      "  (25, 0)\t2\n",
      "  (26, 0)\t1\n",
      "  (29, 0)\t4\n",
      "  (30, 0)\t3\n",
      "  (33, 0)\t2\n",
      "  (34, 0)\t4\n",
      "  (36, 0)\t2\n",
      "  (38, 0)\t1\n",
      "  (40, 0)\t3\n",
      "  (42, 0)\t4\n",
      "  (44, 0)\t4\n",
      "  (46, 0)\t2\n",
      "  (48, 0)\t4\n",
      "  (0, 1)\t9\n",
      "  (2, 1)\t20\n",
      "  :\t:\n",
      "  (0, 49)\t39\n",
      "  (2, 49)\t64\n",
      "  (4, 49)\t59\n",
      "  (6, 49)\t81\n",
      "  (8, 49)\t37\n",
      "  (10, 49)\t63\n",
      "  (12, 49)\t37\n",
      "  (14, 49)\t35\n",
      "  (16, 49)\t37\n",
      "  (18, 49)\t40\n",
      "  (20, 49)\t44\n",
      "  (22, 49)\t61\n",
      "  (24, 49)\t33\n",
      "  (26, 49)\t28\n",
      "  (28, 49)\t48\n",
      "  (30, 49)\t37\n",
      "  (32, 49)\t39\n",
      "  (34, 49)\t39\n",
      "  (36, 49)\t24\n",
      "  (38, 49)\t33\n",
      "  (40, 49)\t39\n",
      "  (42, 49)\t35\n",
      "  (44, 49)\t28\n",
      "  (46, 49)\t30\n",
      "  (48, 49)\t39\n",
      "(9220, 102301)\n"
     ]
    }
   ],
   "source": [
    "print(ad1[:50, :50])\n",
    "print(ad1.shape)"
   ]
  },
  {
   "cell_type": "code",
   "execution_count": 33,
   "metadata": {},
   "outputs": [
    {
     "data": {
      "image/png": "[encoded data removed]",
      "text/plain": [
       "<Figure size 1080x360 with 2 Axes>"
      ]
     },
     "metadata": {},
     "output_type": "display_data"
    }
   ],
   "source": [
    "plt.figure(figsize=(15, 5))\n",
    "plt.imshow(ad1[:10, 100000:101000].A, aspect='auto')\n",
    "plt.colorbar()\n",
    "plt.show()"
   ]
  },
  {
   "cell_type": "code",
   "execution_count": 17,
   "metadata": {},
   "outputs": [
    {
     "name": "stdout",
     "output_type": "stream",
     "text": [
      "0 255\n"
     ]
    }
   ],
   "source": [
    "print(np.min(ad1), np.max(ad1))"
   ]
  },
  {
   "cell_type": "code",
   "execution_count": 18,
   "metadata": {},
   "outputs": [
    {
     "name": "stdout",
     "output_type": "stream",
     "text": [
      "894869 8\n"
     ]
    }
   ],
   "source": [
    "vsum = np.sum(ad1, axis=0)\n",
    "print(np.max(vsum), np.min(vsum))"
   ]
  },
  {
   "cell_type": "code",
   "execution_count": 20,
   "metadata": {},
   "outputs": [
    {
     "name": "stdout",
     "output_type": "stream",
     "text": [
      "0.5301063971380784\n"
     ]
    }
   ],
   "source": [
    "print(ad1.nnz/(ad1.shape[0]*ad1.shape[1]))"
   ]
  },
  {
   "cell_type": "code",
   "execution_count": null,
   "metadata": {},
   "outputs": [],
   "source": []
  }
 ],
 "metadata": {
  "kernelspec": {
   "display_name": "Python 3",
   "language": "python",
   "name": "python3"
  },
  "language_info": {
   "codemirror_mode": {
    "name": "ipython",
    "version": 3
   },
   "file_extension": ".py",
   "mimetype": "text/x-python",
   "name": "python",
   "nbconvert_exporter": "python",
   "pygments_lexer": "ipython3",
   "version": "3.6.6"
  }
 },
 "nbformat": 4,
 "nbformat_minor": 2
}
