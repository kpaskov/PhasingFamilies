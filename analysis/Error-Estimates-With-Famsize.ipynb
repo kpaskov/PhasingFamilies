{
 "cells": [
  {
   "cell_type": "code",
   "execution_count": null,
   "metadata": {},
   "outputs": [],
   "source": [
    "\n",
    "\n",
    "# pull families and figure out how many non-identical kids they have\n",
    "family_to_individuals = dict()\n",
    "families_left_out = set()\n",
    "\n",
    "for j in family_sizes:\n",
    "\twith open('%s/chr.%s.familysize.%d.families.txt' % (phase_dir, chrom, j), 'r') as f:\n",
    "\t\tnext(f) # skip header\n",
    "\t\tfor line in f:\n",
    "\t\t\tpieces = line.strip().split('\\t')\n",
    "\t\t\tfamily_key = pieces[0]\n",
    "\t\t\tindividuals = pieces[1:(1+j)]\n",
    "\n",
    "\t\t\tif np.all([x not in identicals for x in individuals[2:]]):\n",
    "\t\t\t\tfamily_to_individuals[family_key] = individuals\n",
    "\t\t\telse:\n",
    "\t\t\t\tfamilies_left_out.add(family_key)\n",
    "print('families', len(family_to_individuals))\n",
    "print('families removed due to identicals', len(families_left_out))"
   ]
  }
 ],
 "metadata": {
  "kernelspec": {
   "display_name": "Python 3",
   "language": "python",
   "name": "python3"
  },
  "language_info": {
   "codemirror_mode": {
    "name": "ipython",
    "version": 3
   },
   "file_extension": ".py",
   "mimetype": "text/x-python",
   "name": "python",
   "nbconvert_exporter": "python",
   "pygments_lexer": "ipython3",
   "version": "3.7.3"
  }
 },
 "nbformat": 4,
 "nbformat_minor": 2
}
