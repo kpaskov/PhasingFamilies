{
 "cells": [
  {
   "cell_type": "code",
   "execution_count": 72,
   "metadata": {},
   "outputs": [
    {
     "data": {
      "text/plain": [
       "<module 'viterbi' from '/Users/kelley/Projects/PhasingFamilies/phase/viterbi.py'>"
      ]
     },
     "execution_count": 72,
     "metadata": {},
     "output_type": "execute_result"
    }
   ],
   "source": [
    "import sys\n",
    "import json\n",
    "from os import listdir\n",
    "from itertools import product\n",
    "import importlib\n",
    "import matplotlib.pyplot as plt\n",
    "import numpy as np\n",
    "\n",
    "import input_output\n",
    "importlib.reload(input_output)\n",
    "import inheritance_states\n",
    "importlib.reload(inheritance_states)\n",
    "import transition_matrices\n",
    "importlib.reload(transition_matrices)\n",
    "import genotypes\n",
    "importlib.reload(genotypes)\n",
    "import losses\n",
    "importlib.reload(losses)\n",
    "import viterbi\n",
    "importlib.reload(viterbi)"
   ]
  },
  {
   "cell_type": "code",
   "execution_count": 2,
   "metadata": {},
   "outputs": [],
   "source": [
    "# Read in command line arguments\n",
    "chrom = '10'\n",
    "#ped_file = '../../DATA/platinum/platinum6.ped'\n",
    "#ped_file = '../data/Ancestry Data Files/AncestryDNA.ped'\n",
    "#ped_file = '../data/spark.ped.quads.ped'\n",
    "#ped_file = '../data/spark.ped'\n",
    "#\n",
    "#data_dir = '../split_gen_ancestry'\n",
    "#param_file = '../parameter_estimation/params/ancestry_params_ext.json'\n",
    "#data_dir = '../split_gen_spark'\n",
    "#param_file = '../parameter_estimation/params/spark_params_ext.json'\n",
    "#detect_denovos = False\n",
    "\n",
    "#data_dir = '../../DATA/spark/genotypes'\n",
    "#param_file = '../params/spark_params.json'\n",
    "#ped_file = '../../DATA/spark/spark.ped'\n",
    "#detect_denovos = False\n",
    "#detect_deletions = True\n",
    "#num_loss_regions = 1\n",
    "\n",
    "#data_dir = '../../DATA/platinum/genotypes'\n",
    "#param_file = '../params/platinum_params.json'\n",
    "#ped_file = '../../DATA/platinum/platinum6.ped'\n",
    "#detect_denovos = False\n",
    "#detect_deletions = True\n",
    "#num_loss_regions = 2\n",
    "\n",
    "data_dir = '../../DATA/ihart.ms2/genotypes'\n",
    "param_file = '../params/ihart.ms2_params.json'\n",
    "ped_file = '../../DATA/ihart.ms2/ihart.ped'\n",
    "detect_deletions = True\n",
    "detect_duplications = False\n",
    "num_loss_regions = 2\n",
    "\n",
    "#data_dir = '../../DATA/ssc.hg38/genotypes/pilot'\n",
    "#param_file = '../params/ssc.hg38_pilot_params.json'\n",
    "#ped_file = '../../DATA/ssc.hg38/ssc.ped'\n",
    "#detect_deletions = True\n",
    "#detect_duplications = False\n",
    "#num_loss_regions = 2\n",
    "\n",
    "#data_dir = '../../DATA/mssng/genotypes'\n",
    "#param_file = '../params/mssng_params.json'\n",
    "#ped_file = '../../DATA/mssng/mssng.ped'\n",
    "#detect_denovos = False\n",
    "#detect_deletions = True\n",
    "#detect_duplications = False\n",
    "#num_loss_regions = 2\n",
    "\n",
    "#data_dir = '../split_gen_ihart_23andme'\n",
    "#param_file = '../parameter_estimation/23andme_params.json'\n",
    "\n",
    "#data_dir = '../split_gen_ihart_chip'\n",
    "#param_file = '../parameter_estimation/ihart_chip_params.json'\n",
    "\n",
    "batch_size = None\n",
    "batch_num = None\n",
    "batch_offset = None\n",
    "\n",
    "# set up filenames\n",
    "sample_file = '%s/chr.%s.gen.samples.txt' % (data_dir, chrom)\n",
    "coord_file = '%s/chr.%s.gen.coordinates.npy' % (data_dir,  chrom)\n",
    "gen_files = sorted([f for f in listdir(data_dir) if ('chr.%s.' % chrom) in f and 'gen.npz' in f])\n",
    "\n",
    "with open('%s/info.json' % data_dir, 'r') as f:\n",
    "    assembly = json.load(f)['assembly']\n",
    "    \n",
    "if param_file is not None:\n",
    "    with open(param_file, 'r') as f:\n",
    "        params = json.load(f)\n",
    "else:\n",
    "    params = estimate_parameters.error_parameters(data_dir, ped_file, chrom)"
   ]
  },
  {
   "cell_type": "code",
   "execution_count": 3,
   "metadata": {},
   "outputs": [
    {
     "name": "stdout",
     "output_type": "stream",
     "text": [
      "af boundaries [4.51544993e+00 4.21441994e+00 3.91338994e+00 3.61235995e+00\n",
      " 3.31132995e+00 3.01029996e+00 2.70926996e+00 2.40823997e+00\n",
      " 2.10720997e+00 1.80617997e+00 1.50514998e+00 1.20411998e+00\n",
      " 9.03089987e-01 6.02059991e-01 5.79919470e-02 2.80287236e-02\n",
      " 1.37882845e-02 6.83942453e-03 3.40624869e-03 1.69978488e-03\n",
      " 8.49060841e-04 4.24322928e-04 2.12109641e-04 1.06041871e-04\n",
      " 5.30176991e-05 2.65080405e-05 1.32538180e-05]\n"
     ]
    }
   ],
   "source": [
    "if assembly == '37':\n",
    "    max_af_cost = np.log10(15708*2/3)\n",
    "    \n",
    "else:\n",
    "    max_af_cost = np.log10(71702*2/3)\n",
    "\n",
    "af_boundaries = np.arange(-np.log10(0.25), max_af_cost, np.log10(2)).tolist()\n",
    "af_boundaries.extend([-np.log10(1-(10.0**-x)) for x in af_boundaries[1:]])\n",
    "af_boundaries = np.array(sorted(af_boundaries, reverse=True))\n",
    "print('af boundaries', af_boundaries)"
   ]
  },
  {
   "cell_type": "code",
   "execution_count": 84,
   "metadata": {},
   "outputs": [
    {
     "name": "stdout",
     "output_type": "stream",
     "text": [
      "families pulled 1002\n"
     ]
    }
   ],
   "source": [
    "# pull families of interest\n",
    "families = input_output.pull_families(ped_file)"
   ]
  },
  {
   "cell_type": "code",
   "execution_count": 206,
   "metadata": {},
   "outputs": [
    {
     "name": "stdout",
     "output_type": "stream",
     "text": [
      "family AU3052 5\n"
     ]
    }
   ],
   "source": [
    "import random\n",
    "\n",
    "# ('AU3912', 'AU3912202', 'AU3912201')\n",
    "\n",
    "# ()'AU1453', 'AU1453202', 'AU1453201')\n",
    "#fkey = ('AU1047', 'AU1047212', 'AU1047211')\n",
    "#fkey = ('AU4093', 'AU4093202', 'AU4093201')\n",
    "#fkey = ('AU2757', 'AU2757202', 'AU2757201')\n",
    "#fkey = ('AU0808', 'AU080801', 'AU080802')\n",
    "#fkey = [k[0] for k in families_of_this_size if 'SF0010543' in k[0]][0]\n",
    "#fkey = ('AU0356', 'AU035601', 'AU035602')\n",
    "#fkey = ('AU1314', 'AU1314202', 'AU1314201')\n",
    "#fkey = ('AU1388', 'AU1388202', 'AU1388201')\n",
    "#fkey = ('AU2125', 'AU2125202', 'AU2125201')\n",
    "#fkey = ('11002', '11002.mo', '11002.fa')\n",
    "\n",
    "#fkey = ('SF0000027.SP0000034.SP0000063', 'SP0000051', 'SP0000241')\n",
    "#inds = [k[1] for k in families_of_this_size if k[0]==fkey][0]\n",
    "\n",
    "family = random.choice([x for x in families if len(x)==5])\n",
    "#family = [x for x in families if x.id=='AU0001'][0]\n",
    "m = len(family)\n",
    "print('family', family, m)"
   ]
  },
  {
   "cell_type": "code",
   "execution_count": 207,
   "metadata": {},
   "outputs": [
    {
     "name": "stdout",
     "output_type": "stream",
     "text": [
      "['AU3052202', 'AU3052201', 'AU3052303', 'AU3052302', 'AU3052301']\n"
     ]
    }
   ],
   "source": [
    "print(family.individuals)"
   ]
  },
  {
   "cell_type": "code",
   "execution_count": 210,
   "metadata": {},
   "outputs": [
    {
     "name": "stdout",
     "output_type": "stream",
     "text": [
      "[[0, 1], [0, 1, 3], [0, 1, 3, 4], [0, 1, 3, 4, 5]]\n",
      "fixed []\n",
      "inheritance states (12032, 11)\n",
      "transitions (12032, 26)\n"
     ]
    }
   ],
   "source": [
    "importlib.reload(transition_matrices)\n",
    "importlib.reload(inheritance_states)\n",
    "\n",
    "# create inheritance states\n",
    "states = inheritance_states.InheritanceStates(family, detect_deletions, detect_deletions, detect_duplications, detect_duplications, num_loss_regions)\n",
    "\n",
    "# create transition matrix\n",
    "transitions = transition_matrices.TransitionMatrix(states, params)\n"
   ]
  },
  {
   "cell_type": "code",
   "execution_count": 211,
   "metadata": {},
   "outputs": [
    {
     "name": "stdout",
     "output_type": "stream",
     "text": [
      "no data []\n",
      "AU3052202\n",
      "\t0/0\t0/1\t1/1\t./.\n",
      "0/0\t0.0001-0.0011\t4.6017-3.2131\t6.1779-3.9176\t3.9212-2.7612\n",
      "0/1\t2.6995-1.7235\t0.0014-0.0171\t2.9897-1.8849\t3.5891-2.1759\n",
      "1/1\t4.8343-3.0836\t3.3580-1.9973\t0.0004-0.0069\t3.3142-2.3208\n",
      "-/0\t0.0001-0.0011\t4.6017-3.2131\t6.1779-3.9176\t3.9212-2.7612\n",
      "-/1\t4.8343-3.0836\t3.3580-1.9973\t0.0004-0.0069\t3.3142-2.3208\n",
      "-/-\t3.3580-1.9973\t5.4846-3.5491\t4.6017-3.2131\t0.0002-0.0048\n",
      "AU3052201\n",
      "\t0/0\t0/1\t1/1\t./.\n",
      "0/0\t0.0001-0.0011\t4.6017-3.2131\t6.1779-3.9176\t3.9212-2.7612\n",
      "0/1\t2.6995-1.7235\t0.0014-0.0171\t2.9897-1.8849\t3.5891-2.1759\n",
      "1/1\t4.8343-3.0836\t3.3580-1.9973\t0.0004-0.0069\t3.3142-2.3208\n",
      "-/0\t0.0001-0.0011\t4.6017-3.2131\t6.1779-3.9176\t3.9212-2.7612\n",
      "-/1\t4.8343-3.0836\t3.3580-1.9973\t0.0004-0.0069\t3.3142-2.3208\n",
      "-/-\t3.3580-1.9973\t5.4846-3.5491\t4.6017-3.2131\t0.0002-0.0048\n",
      "AU3052303\n",
      "\t0/0\t0/1\t1/1\t./.\n",
      "0/0\t0.0001-0.0011\t4.6120-3.2256\t6.1348-4.0146\t3.9212-2.7237\n",
      "0/1\t2.4837-1.5413\t0.0023-0.0253\t2.7657-1.7718\t3.4032-1.9631\n",
      "1/1\t4.8343-3.0836\t3.3081-1.9278\t0.0004-0.0083\t3.3142-2.2051\n",
      "-/0\t0.0001-0.0011\t4.6120-3.2256\t6.1348-4.0146\t3.9212-2.7237\n",
      "-/1\t4.8343-3.0836\t3.3081-1.9278\t0.0004-0.0083\t3.3142-2.2051\n",
      "-/-\t3.3081-1.9278\t5.4846-3.5491\t4.6120-3.2256\t0.0002-0.0055\n",
      "AU3052302\n",
      "\t0/0\t0/1\t1/1\t./.\n",
      "0/0\t0.0001-0.0010\t4.5698-3.2131\t6.2027-3.9176\t4.0441-2.8129\n",
      "0/1\t2.7648-1.7928\t0.0013-0.0151\t2.9943-1.9399\t3.6026-2.1763\n",
      "1/1\t4.9140-3.5616\t3.3860-1.9973\t0.0003-0.0064\t3.5157-2.3648\n",
      "-/0\t0.0001-0.0010\t4.5698-3.2131\t6.2027-3.9176\t4.0441-2.8129\n",
      "-/1\t4.9140-3.5616\t3.3860-1.9973\t0.0003-0.0064\t3.5157-2.3648\n",
      "-/-\t3.3860-1.9973\t5.5584-3.7396\t4.5698-3.2131\t0.0002-0.0047\n",
      "AU3052301\n",
      "\t0/0\t0/1\t1/1\t./.\n",
      "0/0\t0.0001-0.0011\t4.6017-3.2016\t6.1779-3.9072\t3.9098-2.7612\n",
      "0/1\t2.6995-1.7235\t0.0014-0.0171\t2.9897-1.8849\t3.5891-2.1759\n",
      "1/1\t4.5918-3.0760\t3.3580-2.0200\t0.0004-0.0066\t3.2976-2.3208\n",
      "-/0\t0.0001-0.0011\t4.6017-3.2016\t6.1779-3.9072\t3.9098-2.7612\n",
      "-/1\t4.5918-3.0760\t3.3580-2.0200\t0.0004-0.0066\t3.2976-2.3208\n",
      "-/-\t3.3580-2.0200\t5.3849-3.4916\t4.6017-3.2016\t0.0002-0.0046\n",
      "[4.51544993e+00 4.21441994e+00 3.91338994e+00 3.61235995e+00\n",
      " 3.31132995e+00 3.01029996e+00 2.70926996e+00 2.40823997e+00\n",
      " 2.10720997e+00 1.80617997e+00 1.50514998e+00 1.20411998e+00\n",
      " 9.03089987e-01 6.02059991e-01 5.79919470e-02 2.80287236e-02\n",
      " 1.37882845e-02 6.83942453e-03 3.40624869e-03 1.69978488e-03\n",
      " 8.49060841e-04 4.24322928e-04 2.12109641e-04 1.06041871e-04\n",
      " 5.30176991e-05 2.65080405e-05 1.32538180e-05]\n",
      "alt costs [4.51544993e+00 4.21441994e+00 3.91338994e+00 3.61235995e+00\n",
      " 3.31132995e+00 3.01029996e+00 2.70926996e+00 2.40823997e+00\n",
      " 2.10720997e+00 1.80617997e+00 1.50514998e+00 1.20411998e+00\n",
      " 9.03089987e-01 6.02059991e-01 3.01029996e-01 5.79919470e-02\n",
      " 2.80287236e-02 1.37882845e-02 6.83942453e-03 3.40624869e-03\n",
      " 1.69978488e-03 8.49060841e-04 4.24322928e-04 2.12109641e-04\n",
      " 1.06041871e-04 5.30176991e-05 2.65080405e-05 1.32538180e-05]\n",
      "ref costs [1.32538180e-05 2.65080405e-05 5.30176991e-05 1.06041871e-04\n",
      " 2.12109641e-04 4.24322928e-04 8.49060841e-04 1.69978488e-03\n",
      " 3.40624869e-03 6.83942453e-03 1.37882845e-02 2.80287236e-02\n",
      " 5.79919470e-02 1.24938737e-01 3.01029996e-01 9.03089987e-01\n",
      " 1.20411998e+00 1.50514998e+00 1.80617997e+00 2.10720997e+00\n",
      " 2.40823997e+00 2.70926996e+00 3.01029996e+00 3.31132995e+00\n",
      " 3.61235995e+00 3.91338994e+00 4.21441994e+00 4.51544993e+00]\n",
      "perfect matches 328\n",
      "perfect_match_indices (12032, 16) 1.540096 MB\n",
      "perfect_match_allele_counts (6, 12032, 16) 1.155072 MB\n",
      "not_filler (12032, 16) 0.192512 MB\n"
     ]
    }
   ],
   "source": [
    "importlib.reload(losses)\n",
    "import losses\n",
    "\n",
    "# create loss function\n",
    "loss = losses.LazyLoss(states, family, params, num_loss_regions, af_boundaries)\n",
    "\n",
    "#indices = [x[6]==1 and x[7]==1 for x in loss.loss_states]\n",
    "#print(np.sum(indices)/len(indices))\n",
    "#loss.losses[indices, :] += 0.001\n",
    "\n",
    "#for s, l1, l2, l3, l4 in zip(states, loss((0,)*m), loss((-1,)*m), loss((-2,)*m), loss((1, 0, 1, 1, 0))):\n",
    "#    print(s, l1, l2, l3, l4)\n",
    "\n",
    "#l = loss((1, 0, 1, 1, 0))\n",
    "#for s in loss.loss_states:\n",
    "#    s = np.asarray(s)\n",
    "#    i = states.index(tuple(s))\n",
    "#    if np.any(s[:4] == 2):\n",
    "#        new_state = s.copy()\n",
    "#        new_state[s==2] = 1\n",
    "#        state_index = states.index(tuple(new_state))\n",
    "#        if l[i] != l[state_index]:\n",
    "#            print(s, new_state, l[i], l[state_index])\n",
    "        #print(sorted(set(loss.perfect_match_indices[loss.loss_state_to_index[tuple(s)]])))\n",
    "        #print(sorted(set(loss.perfect_match_indices[loss.loss_state_to_index[tuple(new_state)]])))\n",
    "#print(loss((1, 2, 1, 0)))\n",
    "#print(loss.get_parental_variants((1, 1, 1, 1, 1, 0, 1, 1, 1, 0), (1, 2, 1, 0, 1)))\n",
    "#print(loss.get_parental_variants((1, 1, 1, 1, 1, 0, 1, 1, 1, 0), (2, 1, 2, 1, 2)))"
   ]
  },
  {
   "cell_type": "code",
   "execution_count": 212,
   "metadata": {
    "scrolled": true
   },
   "outputs": [
    {
     "name": "stdout",
     "output_type": "stream",
     "text": [
      "14 14 14\n",
      "af_boundaries [4.51544993e+00 4.21441994e+00 3.91338994e+00 3.61235995e+00\n",
      " 3.31132995e+00 3.01029996e+00 2.70926996e+00 2.40823997e+00\n",
      " 2.10720997e+00 1.80617997e+00 1.50514998e+00 1.20411998e+00\n",
      " 9.03089987e-01 6.02059991e-01 5.79919470e-02 2.80287236e-02\n",
      " 1.37882845e-02 6.83942453e-03 3.40624869e-03 1.69978488e-03\n",
      " 8.49060841e-04 4.24322928e-04 2.12109641e-04 1.06041871e-04\n",
      " 5.30176991e-05 2.65080405e-05 1.32538180e-05]\n",
      "(5, 224573) (224573,) (224573,) (224574,)\n",
      "(5, 224573) (224573,)\n",
      "0\n",
      "genotypes pulled (6, 446068)\n",
      "cached losses (12032, 641) already_calculated 0\n",
      "losses (12032, 641) 61.700096 MB\n",
      "Data pulled\n"
     ]
    }
   ],
   "source": [
    "# pull genotype data for this family\n",
    "family_genotypes, family_snp_positions, mult_factor = input_output.pull_gen_data_for_individuals(data_dir, af_boundaries, assembly, chrom, family.individuals)\n",
    "loss.set_cache(family_genotypes)\n",
    "print('Data pulled')"
   ]
  },
  {
   "cell_type": "code",
   "execution_count": null,
   "metadata": {},
   "outputs": [],
   "source": [
    "importlib.reload(viterbi)\n",
    "\n",
    "# forward sweep\n",
    "v_cost = viterbi.viterbi_forward_sweep(family_genotypes, family_snp_positions, mult_factor, states, transitions, loss)\n",
    "\n",
    "\n"
   ]
  },
  {
   "cell_type": "code",
   "execution_count": null,
   "metadata": {},
   "outputs": [],
   "source": [
    "importlib.reload(viterbi)\n",
    "\n",
    "# backward sweep\n",
    "final_states = viterbi.viterbi_backward_sweep(v_cost, states, transitions)\n"
   ]
  },
  {
   "cell_type": "code",
   "execution_count": 213,
   "metadata": {},
   "outputs": [
    {
     "name": "stdout",
     "output_type": "stream",
     "text": [
      "v_path (12032, 446068) 5367.090176 MB\n"
     ]
    },
    {
     "ename": "KeyboardInterrupt",
     "evalue": "",
     "output_type": "error",
     "traceback": [
      "\u001b[0;31m---------------------------------------------------------------------------\u001b[0m",
      "\u001b[0;31mKeyboardInterrupt\u001b[0m                         Traceback (most recent call last)",
      "\u001b[0;32m<ipython-input-213-8781364654e7>\u001b[0m in \u001b[0;36m<module>\u001b[0;34m\u001b[0m\n\u001b[1;32m      1\u001b[0m \u001b[0mimportlib\u001b[0m\u001b[0;34m.\u001b[0m\u001b[0mreload\u001b[0m\u001b[0;34m(\u001b[0m\u001b[0mviterbi\u001b[0m\u001b[0;34m)\u001b[0m\u001b[0;34m\u001b[0m\u001b[0;34m\u001b[0m\u001b[0m\n\u001b[1;32m      2\u001b[0m \u001b[0;34m\u001b[0m\u001b[0m\n\u001b[0;32m----> 3\u001b[0;31m \u001b[0mv_path_new\u001b[0m\u001b[0;34m,\u001b[0m \u001b[0mv_cost_new\u001b[0m \u001b[0;34m=\u001b[0m \u001b[0mviterbi\u001b[0m\u001b[0;34m.\u001b[0m\u001b[0mviterbi_forward_sweep_low_memory\u001b[0m\u001b[0;34m(\u001b[0m\u001b[0mfamily_genotypes\u001b[0m\u001b[0;34m,\u001b[0m \u001b[0mfamily_snp_positions\u001b[0m\u001b[0;34m,\u001b[0m \u001b[0mmult_factor\u001b[0m\u001b[0;34m,\u001b[0m \u001b[0mstates\u001b[0m\u001b[0;34m,\u001b[0m \u001b[0mtransitions\u001b[0m\u001b[0;34m,\u001b[0m \u001b[0mloss\u001b[0m\u001b[0;34m)\u001b[0m\u001b[0;34m\u001b[0m\u001b[0;34m\u001b[0m\u001b[0m\n\u001b[0m",
      "\u001b[0;32m~/Projects/PhasingFamilies/phase/viterbi.py\u001b[0m in \u001b[0;36mviterbi_forward_sweep_low_memory\u001b[0;34m(family_genotypes, family_snp_positions, mult_factor, states, transition_matrix, loss, atol)\u001b[0m\n\u001b[1;32m     53\u001b[0m \u001b[0;34m\u001b[0m\u001b[0m\n\u001b[1;32m     54\u001b[0m                 \u001b[0mnp\u001b[0m\u001b[0;34m.\u001b[0m\u001b[0mrandom\u001b[0m\u001b[0;34m.\u001b[0m\u001b[0mshuffle\u001b[0m\u001b[0;34m(\u001b[0m\u001b[0mindices\u001b[0m\u001b[0;34m)\u001b[0m\u001b[0;34m\u001b[0m\u001b[0;34m\u001b[0m\u001b[0m\n\u001b[0;32m---> 55\u001b[0;31m                 \u001b[0mv_path\u001b[0m\u001b[0;34m[\u001b[0m\u001b[0;34m:\u001b[0m\u001b[0;34m,\u001b[0m \u001b[0mj\u001b[0m\u001b[0;34m]\u001b[0m \u001b[0;34m=\u001b[0m \u001b[0mindices\u001b[0m\u001b[0;34m[\u001b[0m\u001b[0mnp\u001b[0m\u001b[0;34m.\u001b[0m\u001b[0margmax\u001b[0m\u001b[0;34m(\u001b[0m\u001b[0mnp\u001b[0m\u001b[0;34m.\u001b[0m\u001b[0misclose\u001b[0m\u001b[0;34m(\u001b[0m\u001b[0mpath_cost\u001b[0m\u001b[0;34m[\u001b[0m\u001b[0;34m:\u001b[0m\u001b[0;34m,\u001b[0m \u001b[0mindices\u001b[0m\u001b[0;34m]\u001b[0m\u001b[0;34m,\u001b[0m \u001b[0mmin_path_cost\u001b[0m\u001b[0;34m,\u001b[0m \u001b[0mrtol\u001b[0m\u001b[0;34m=\u001b[0m\u001b[0;36m0\u001b[0m\u001b[0;34m,\u001b[0m \u001b[0matol\u001b[0m\u001b[0;34m=\u001b[0m\u001b[0matol\u001b[0m\u001b[0;34m)\u001b[0m\u001b[0;34m,\u001b[0m \u001b[0maxis\u001b[0m\u001b[0;34m=\u001b[0m\u001b[0;36m1\u001b[0m\u001b[0;34m)\u001b[0m\u001b[0;34m]\u001b[0m\u001b[0;34m\u001b[0m\u001b[0;34m\u001b[0m\u001b[0m\n\u001b[0m\u001b[1;32m     56\u001b[0m                 \u001b[0;31m#v_path[:, j] = np.argmax(np.isclose(path_cost, min_path_cost, rtol=0, atol=0.1), axis=1)\u001b[0m\u001b[0;34m\u001b[0m\u001b[0;34m\u001b[0m\u001b[0;34m\u001b[0m\u001b[0m\n\u001b[1;32m     57\u001b[0m \u001b[0;34m\u001b[0m\u001b[0m\n",
      "\u001b[0;32m//anaconda3/lib/python3.7/site-packages/numpy/core/numeric.py\u001b[0m in \u001b[0;36misclose\u001b[0;34m(a, b, rtol, atol, equal_nan)\u001b[0m\n\u001b[1;32m   2522\u001b[0m     \u001b[0myfin\u001b[0m \u001b[0;34m=\u001b[0m \u001b[0misfinite\u001b[0m\u001b[0;34m(\u001b[0m\u001b[0my\u001b[0m\u001b[0;34m)\u001b[0m\u001b[0;34m\u001b[0m\u001b[0;34m\u001b[0m\u001b[0m\n\u001b[1;32m   2523\u001b[0m     \u001b[0;32mif\u001b[0m \u001b[0mall\u001b[0m\u001b[0;34m(\u001b[0m\u001b[0mxfin\u001b[0m\u001b[0;34m)\u001b[0m \u001b[0;32mand\u001b[0m \u001b[0mall\u001b[0m\u001b[0;34m(\u001b[0m\u001b[0myfin\u001b[0m\u001b[0;34m)\u001b[0m\u001b[0;34m:\u001b[0m\u001b[0;34m\u001b[0m\u001b[0;34m\u001b[0m\u001b[0m\n\u001b[0;32m-> 2524\u001b[0;31m         \u001b[0;32mreturn\u001b[0m \u001b[0mwithin_tol\u001b[0m\u001b[0;34m(\u001b[0m\u001b[0mx\u001b[0m\u001b[0;34m,\u001b[0m \u001b[0my\u001b[0m\u001b[0;34m,\u001b[0m \u001b[0matol\u001b[0m\u001b[0;34m,\u001b[0m \u001b[0mrtol\u001b[0m\u001b[0;34m)\u001b[0m\u001b[0;34m\u001b[0m\u001b[0;34m\u001b[0m\u001b[0m\n\u001b[0m\u001b[1;32m   2525\u001b[0m     \u001b[0;32melse\u001b[0m\u001b[0;34m:\u001b[0m\u001b[0;34m\u001b[0m\u001b[0;34m\u001b[0m\u001b[0m\n\u001b[1;32m   2526\u001b[0m         \u001b[0mfinite\u001b[0m \u001b[0;34m=\u001b[0m \u001b[0mxfin\u001b[0m \u001b[0;34m&\u001b[0m \u001b[0myfin\u001b[0m\u001b[0;34m\u001b[0m\u001b[0;34m\u001b[0m\u001b[0m\n",
      "\u001b[0;32m//anaconda3/lib/python3.7/site-packages/numpy/core/numeric.py\u001b[0m in \u001b[0;36mwithin_tol\u001b[0;34m(x, y, atol, rtol)\u001b[0m\n\u001b[1;32m   2508\u001b[0m     \u001b[0;32mdef\u001b[0m \u001b[0mwithin_tol\u001b[0m\u001b[0;34m(\u001b[0m\u001b[0mx\u001b[0m\u001b[0;34m,\u001b[0m \u001b[0my\u001b[0m\u001b[0;34m,\u001b[0m \u001b[0matol\u001b[0m\u001b[0;34m,\u001b[0m \u001b[0mrtol\u001b[0m\u001b[0;34m)\u001b[0m\u001b[0;34m:\u001b[0m\u001b[0;34m\u001b[0m\u001b[0;34m\u001b[0m\u001b[0m\n\u001b[1;32m   2509\u001b[0m         \u001b[0;32mwith\u001b[0m \u001b[0merrstate\u001b[0m\u001b[0;34m(\u001b[0m\u001b[0minvalid\u001b[0m\u001b[0;34m=\u001b[0m\u001b[0;34m'ignore'\u001b[0m\u001b[0;34m)\u001b[0m\u001b[0;34m:\u001b[0m\u001b[0;34m\u001b[0m\u001b[0;34m\u001b[0m\u001b[0m\n\u001b[0;32m-> 2510\u001b[0;31m             \u001b[0;32mreturn\u001b[0m \u001b[0mless_equal\u001b[0m\u001b[0;34m(\u001b[0m\u001b[0mabs\u001b[0m\u001b[0;34m(\u001b[0m\u001b[0mx\u001b[0m\u001b[0;34m-\u001b[0m\u001b[0my\u001b[0m\u001b[0;34m)\u001b[0m\u001b[0;34m,\u001b[0m \u001b[0matol\u001b[0m \u001b[0;34m+\u001b[0m \u001b[0mrtol\u001b[0m \u001b[0;34m*\u001b[0m \u001b[0mabs\u001b[0m\u001b[0;34m(\u001b[0m\u001b[0my\u001b[0m\u001b[0;34m)\u001b[0m\u001b[0;34m)\u001b[0m\u001b[0;34m\u001b[0m\u001b[0;34m\u001b[0m\u001b[0m\n\u001b[0m\u001b[1;32m   2511\u001b[0m \u001b[0;34m\u001b[0m\u001b[0m\n\u001b[1;32m   2512\u001b[0m     \u001b[0mx\u001b[0m \u001b[0;34m=\u001b[0m \u001b[0masanyarray\u001b[0m\u001b[0;34m(\u001b[0m\u001b[0ma\u001b[0m\u001b[0;34m)\u001b[0m\u001b[0;34m\u001b[0m\u001b[0;34m\u001b[0m\u001b[0m\n",
      "\u001b[0;31mKeyboardInterrupt\u001b[0m: "
     ]
    }
   ],
   "source": [
    "importlib.reload(viterbi)\n",
    "\n",
    "v_path_new, v_cost_new = viterbi.viterbi_forward_sweep_low_memory(family_genotypes, family_snp_positions, mult_factor, states, transitions, loss)\n"
   ]
  },
  {
   "cell_type": "code",
   "execution_count": null,
   "metadata": {},
   "outputs": [],
   "source": [
    "importlib.reload(viterbi)\n",
    "\n",
    "# backward sweep\n",
    "final_states_new = viterbi.viterbi_backward_sweep_low_memory(v_path_new, v_cost_new, states, transitions)\n"
   ]
  },
  {
   "cell_type": "code",
   "execution_count": 194,
   "metadata": {},
   "outputs": [
    {
     "name": "stdout",
     "output_type": "stream",
     "text": [
      "425839\n",
      "25872\n"
     ]
    }
   ],
   "source": [
    "print(np.sum(np.all(final_states==final_states_new, axis=0)))\n",
    "print(np.sum(~np.all(final_states==final_states_new, axis=0)))\n"
   ]
  },
  {
   "cell_type": "code",
   "execution_count": 190,
   "metadata": {},
   "outputs": [
    {
     "name": "stdout",
     "output_type": "stream",
     "text": [
      "[1 1 1 4 0 1 2 3 0 2 1 2 1]\n",
      "[1 1 1 4 0 1 2 3 0 2 1 2 1]\n"
     ]
    }
   ],
   "source": [
    "print(final_states[:, -1])\n",
    "print(final_states_new[:, -1])"
   ]
  },
  {
   "cell_type": "code",
   "execution_count": 191,
   "metadata": {},
   "outputs": [
    {
     "data": {
      "image/png": "[encoded data removed]",
      "text/plain": [
       "<Figure size 1080x720 with 2 Axes>"
      ]
     },
     "metadata": {
      "needs_background": "light"
     },
     "output_type": "display_data"
    }
   ],
   "source": [
    "final_states_greyed = final_states.copy()\n",
    "final_states_greyed[:, final_states[-1, :]!=0] = -1\n",
    "\n",
    "plt.figure(figsize=(15, 10))\n",
    "ax = plt.subplot(2, 1, 1)\n",
    "plt.imshow(final_states[[0, 1, 2, 3] + \\\n",
    "                               np.arange(8, 4+(2*m), 2).tolist() + \\\n",
    "                               np.arange(9, 4+(2*m), 2).tolist() + [-1], :],\n",
    "           aspect='auto', vmin=-1, vmax=3)\n",
    "plt.yticks(np.arange(final_states.shape[0]-4), \n",
    "           ['m1 del', 'm2 del', 'p1 del', 'p2 del'] + ['child_%d mat' % i for i in range(1, m-1)] + ['child_%d pat' % i for i in range(1, m-1)] + ['is_hts'])\n",
    "\n",
    "final_states_greyed_new = final_states_new.copy()\n",
    "final_states_greyed_new[:, final_states_new[-1, :]!=0] = -1\n",
    "\n",
    "ax = plt.subplot(2, 1, 2)\n",
    "plt.imshow(final_states_new[[0, 1, 2, 3] + \\\n",
    "                               np.arange(8, 4+(2*m), 2).tolist() + \\\n",
    "                               np.arange(9, 4+(2*m), 2).tolist() + [-1], :],\n",
    "           aspect='auto', vmin=-1, vmax=3)\n",
    "plt.yticks(np.arange(final_states.shape[0]-4), \n",
    "           ['m1 del', 'm2 del', 'p1 del', 'p2 del'] + ['child_%d mat' % i for i in range(1, m-1)] + ['child_%d pat' % i for i in range(1, m-1)] + ['is_hts'])\n",
    "\n",
    "#plt.subplot(2, 1, 2, sharex=ax)\n",
    "#plt.fill_between(np.arange(family_snp_positions.shape[0]), 0, (family_snp_positions[:, 0]>=0) & (family_snp_positions[:, 1]<=20500000), alpha=0.5)\n",
    "#plt.fill_between(np.arange(family_snp_positions.shape[0]), 0, (family_snp_positions[:, 0]>=9600000) & (family_snp_positions[:, 1]<=16300000))\n",
    "#plt.fill_between(np.arange(family_snp_positions.shape[0]), 0, (family_snp_positions[:, 1]<=9600000) | (family_snp_positions[:, 0]>=48200000))\n",
    "\n",
    "#plt.xticks(xticks, xlabels, rotation=90)\n",
    "\n",
    "#plt.subplot(3, 1, 3)\n",
    "#plt.plot(np.log2(family_snp_positions[:, 1]-family_snp_positions[:, 0]), marker='.', linestyle='')\n",
    "#plt.plot(c[1:]-c[:-1], marker='.', linestyle='')\n",
    "#plt.plot(num_non_mend, marker='.', linestyle='')\n",
    "#plt.plot(np.convolve(num_non_mend, np.ones((100,)), mode='same'))\n",
    "#plt.plot(np.convolve(num_missing, np.ones((100,)), mode='same'))\n",
    "#plt.scatter(family_snp_positions[:, 0], final_states[-1, :], marker='.')\n",
    "#plt.xticks(family_snp_positions[xticks, 0], xlabels, rotation=90)\n",
    "#for i in np.where(family_snp_positions[:, 1]-family_snp_positions[:, 0] > 10000)[0]:\n",
    "#    plt.plot([family_snp_positions[i, 0], family_snp_positions[i, 1]], [final_states[-1, i], final_states[-1, i]], color='grey')\n",
    "#    #print(family_snp_positions[i, :])\n",
    "\n",
    "#start_pos, end_pos = 3292640, 3293187\n",
    "#plt.xlim(np.searchsorted(family_snp_positions[:, 0], [start_pos-1000000, end_pos+1000000]))\n",
    "plt.tight_layout()\n",
    "plt.show()"
   ]
  },
  {
   "cell_type": "code",
   "execution_count": 26,
   "metadata": {},
   "outputs": [
    {
     "name": "stdout",
     "output_type": "stream",
     "text": [
      "['1', '1']\n"
     ]
    }
   ],
   "source": [
    "sample_id_to_sex = input_output.pull_sex(ped_file)\n",
    "\n",
    "print([sample_id_to_sex[x] for x in family.individuals[2:]])\n"
   ]
  },
  {
   "cell_type": "code",
   "execution_count": 27,
   "metadata": {},
   "outputs": [
    {
     "name": "stdout",
     "output_type": "stream",
     "text": [
      "hard to sequence 0.1280395558306051\n",
      "has haplotype 0.764863096936796\n",
      "has mat haplotype 0.06626755979388385\n",
      "has pat haplotype 0.07410657885032851\n",
      "has both haplotype 0.025100765400191752\n",
      "has cross haplotype 0.5676216800325784\n",
      "has full haplotype 0.031766512859813446\n",
      "m1 deletion 0.00010068523678666593\n",
      "m2 deletion 0.0004832250058519286\n",
      "p1 deletion 7.2788371817112e-05\n",
      "p2 deletion 0.0\n",
      "m1 duplication 0.0\n",
      "m2 duplication 0.0\n",
      "p1 duplication 0.0\n",
      "p2 duplication 0.0\n",
      "has de novo [False False False ... False False False] 0\n"
     ]
    }
   ],
   "source": [
    "is_hts = final_states[-1, :]==1\n",
    "\n",
    "has_m1_deletion = final_states[0, :]==0\n",
    "has_m2_deletion = final_states[1, :]==0\n",
    "has_p1_deletion = final_states[2, :]==0\n",
    "has_p2_deletion = final_states[3, :]==0\n",
    "has_m1_duplication = final_states[0, :]==2\n",
    "has_m2_duplication = final_states[1, :]==2\n",
    "has_p1_duplication = final_states[2, :]==2\n",
    "has_p2_duplication = final_states[3, :]==2\n",
    "\n",
    "has_haplotype = np.any(final_states[:4, :]>2, axis=0)\n",
    "has_full_haplotype = (final_states[1, :]==3) & (final_states[2, :]==4) & (final_states[3, :]==5)\n",
    "has_cross_haplotype = ~has_full_haplotype & ((final_states[2, :]==3) | (final_states[2, :]==4) | (final_states[3, :]==3) | (final_states[3, :]==4))\n",
    "has_maternal_haplotype = ~has_full_haplotype & ~has_cross_haplotype & (final_states[1, :]==3)\n",
    "has_paternal_haplotype = ~has_full_haplotype & ~has_cross_haplotype & (final_states[3, :]==5)\n",
    "has_both_haplotype = ~has_full_haplotype & has_maternal_haplotype & has_paternal_haplotype\n",
    "has_maternal_haplotype = has_maternal_haplotype & ~has_both_haplotype\n",
    "has_paternal_haplotype = has_paternal_haplotype & ~has_both_haplotype\n",
    "\n",
    "m1_is_inherited = np.sum(final_states[np.arange(8, 4+(2*m), 2).tolist() + np.arange(9, 4+(2*m), 2).tolist(), :]==0, axis=0)>0\n",
    "m2_is_inherited = np.sum(final_states[np.arange(8, 4+(2*m), 2).tolist() + np.arange(9, 4+(2*m), 2).tolist(), :]==1, axis=0)>0\n",
    "p1_is_inherited = np.sum(final_states[np.arange(8, 4+(2*m), 2).tolist() + np.arange(9, 4+(2*m), 2).tolist(), :]==2, axis=0)>0\n",
    "p2_is_inherited = np.sum(final_states[np.arange(8, 4+(2*m), 2).tolist() + np.arange(9, 4+(2*m), 2).tolist(), :]==3, axis=0)>0\n",
    "\n",
    "print('hard to sequence', np.sum(mult_factor * is_hts)/np.sum(mult_factor))     \n",
    "print('has haplotype', np.sum(mult_factor * has_haplotype)/np.sum(mult_factor))     \n",
    "print('has mat haplotype', np.sum(mult_factor * has_maternal_haplotype)/np.sum(mult_factor))     \n",
    "print('has pat haplotype', np.sum(mult_factor * has_paternal_haplotype)/np.sum(mult_factor))     \n",
    "print('has both haplotype', np.sum(mult_factor * has_both_haplotype)/np.sum(mult_factor))     \n",
    "print('has cross haplotype', np.sum(mult_factor * has_cross_haplotype)/np.sum(mult_factor))     \n",
    "print('has full haplotype', np.sum(mult_factor * has_full_haplotype)/np.sum(mult_factor))     \n",
    "\n",
    "print('m1 deletion', np.sum(mult_factor * (has_m1_deletion & ~is_hts))/np.sum(mult_factor))\n",
    "print('m2 deletion', np.sum(mult_factor * (has_m2_deletion & ~is_hts))/np.sum(mult_factor))\n",
    "print('p1 deletion', np.sum(mult_factor * (has_p1_deletion & ~is_hts))/np.sum(mult_factor))\n",
    "print('p2 deletion', np.sum(mult_factor * (has_p2_deletion & ~is_hts))/np.sum(mult_factor))\n",
    "\n",
    "print('m1 duplication', np.sum(mult_factor * (has_m1_duplication & ~is_hts))/np.sum(mult_factor))\n",
    "print('m2 duplication', np.sum(mult_factor * (has_m2_duplication & ~is_hts))/np.sum(mult_factor))\n",
    "print('p1 duplication', np.sum(mult_factor * (has_p1_duplication & ~is_hts))/np.sum(mult_factor))\n",
    "print('p2 duplication', np.sum(mult_factor * (has_p2_duplication & ~is_hts))/np.sum(mult_factor))\n",
    "\n",
    "has_denovo = np.any(final_states[4+2*len(family):-1, :]==1, axis=0)\n",
    "print('has de novo', has_denovo, np.sum(has_denovo))\n",
    "\n",
    "## maternal UPD\n",
    "#print('maternal UPD', np.sum(mult_factor * ((has_upd[0, :] | has_upd[1, :]) & ~is_hts)))\n",
    "#print('paternal UPD', np.sum(mult_factor * ((has_upd[2, :] | has_upd[3, :]) & ~is_hts)))#\n",
    "#\n",
    "#for i in range(m-2):\n",
    "#    print('child%d mat upd' % (i+1), np.sum(mult_factor * (has_upd[4+2*i, :] & ~is_hts)))\n",
    "#    print('child%d pat upd' % (i+1), np.sum(mult_factor * (has_upd[5+2*i, :] & ~is_hts)))\n"
   ]
  },
  {
   "cell_type": "code",
   "execution_count": 64,
   "metadata": {},
   "outputs": [
    {
     "name": "stdout",
     "output_type": "stream",
     "text": [
      "[0 5 2 1 6]\n",
      "[3 0 4 1 2] [1 3 4 0 2]\n",
      "[1 0 6 5 2]\n",
      "[0 5 2 1 6]\n"
     ]
    }
   ],
   "source": [
    "a = np.array([0, 5, 2, 1, 6])\n",
    "print(a)\n",
    "\n",
    "indices = np.arange(5)\n",
    "random.shuffle(indices)\n",
    "reverse_indices[indices] = np.arange(5)\n",
    "print(indices, reverse_indices)\n",
    "\n",
    "print(a[indices])\n",
    "print(a[indices][reverse_indices])\n"
   ]
  },
  {
   "cell_type": "code",
   "execution_count": 28,
   "metadata": {},
   "outputs": [
    {
     "name": "stdout",
     "output_type": "stream",
     "text": [
      "0 0\n",
      "[] []\n",
      "hard to seq 0\n",
      "[] []\n"
     ]
    }
   ],
   "source": [
    "event = has_denovo\n",
    "#event = has_upd[6, :]\n",
    "del_start = np.where(~event[:-1] & event[1:])[0]+1\n",
    "del_end = np.where(event[:-1] & ~event[1:])[0]+1\n",
    "\n",
    "print(len(del_start), len(del_end))\n",
    "print(del_start, del_end)\n",
    "\n",
    "# remove events in hard to sequence regions\n",
    "event_is_hts = np.ones((del_start.shape[0],), dtype=bool)\n",
    "for i, (s, e) in enumerate(zip(del_start, del_end)):\n",
    "    event_is_hts[i] = np.all(is_hts[s:e])\n",
    "print('hard to seq', np.sum(event_is_hts))\n",
    "\n",
    "# remove events that aren't inherited\n",
    "#event_is_inherited = np.ones((del_start.shape[0],), dtype=bool)\n",
    "#for i, (s, e) in enumerate(zip(del_start, del_end)):\n",
    "#    event_is_inherited[i] = np.any(event_inherited[s:e])\n",
    "#print('not inherited', np.sum(~event_is_inherited))\n",
    "    \n",
    "#del_start = np.array(del_start)[~event_is_hts & event_is_inherited]\n",
    "#del_end = np.array(del_end)[~event_is_hts & event_is_inherited]\n",
    "#print(len(del_start), len(del_end))\n",
    "\n",
    "print(del_start, del_end)"
   ]
  },
  {
   "cell_type": "code",
   "execution_count": 29,
   "metadata": {
    "scrolled": false
   },
   "outputs": [
    {
     "ename": "IndexError",
     "evalue": "Cannot choose from an empty sequence",
     "output_type": "error",
     "traceback": [
      "\u001b[0;31m---------------------------------------------------------------------------\u001b[0m",
      "\u001b[0;31mIndexError\u001b[0m                                Traceback (most recent call last)",
      "\u001b[0;32m<ipython-input-29-818848fc5610>\u001b[0m in \u001b[0;36m<module>\u001b[0;34m\u001b[0m\n\u001b[0;32m----> 1\u001b[0;31m \u001b[0mdstart\u001b[0m\u001b[0;34m,\u001b[0m \u001b[0mdend\u001b[0m \u001b[0;34m=\u001b[0m \u001b[0mrandom\u001b[0m\u001b[0;34m.\u001b[0m\u001b[0mchoice\u001b[0m\u001b[0;34m(\u001b[0m\u001b[0mlist\u001b[0m\u001b[0;34m(\u001b[0m\u001b[0mzip\u001b[0m\u001b[0;34m(\u001b[0m\u001b[0mdel_start\u001b[0m\u001b[0;34m,\u001b[0m \u001b[0mdel_end\u001b[0m\u001b[0;34m)\u001b[0m\u001b[0;34m)\u001b[0m\u001b[0;34m)\u001b[0m\u001b[0;34m\u001b[0m\u001b[0;34m\u001b[0m\u001b[0m\n\u001b[0m\u001b[1;32m      2\u001b[0m \u001b[0mstart\u001b[0m\u001b[0;34m,\u001b[0m \u001b[0mend\u001b[0m \u001b[0;34m=\u001b[0m \u001b[0mmax\u001b[0m\u001b[0;34m(\u001b[0m\u001b[0;36m0\u001b[0m\u001b[0;34m,\u001b[0m \u001b[0mdstart\u001b[0m\u001b[0;34m-\u001b[0m\u001b[0;36m100\u001b[0m\u001b[0;34m)\u001b[0m\u001b[0;34m,\u001b[0m \u001b[0mmin\u001b[0m\u001b[0;34m(\u001b[0m\u001b[0mdend\u001b[0m\u001b[0;34m+\u001b[0m\u001b[0;36m100\u001b[0m\u001b[0;34m,\u001b[0m \u001b[0mfamily_genotypes\u001b[0m\u001b[0;34m.\u001b[0m\u001b[0mshape\u001b[0m\u001b[0;34m[\u001b[0m\u001b[0;36m1\u001b[0m\u001b[0;34m]\u001b[0m\u001b[0;34m)\u001b[0m\u001b[0;34m\u001b[0m\u001b[0;34m\u001b[0m\u001b[0m\n\u001b[1;32m      3\u001b[0m \u001b[0;34m\u001b[0m\u001b[0m\n\u001b[1;32m      4\u001b[0m \u001b[0mprint\u001b[0m\u001b[0;34m(\u001b[0m\u001b[0mfinal_states\u001b[0m\u001b[0;34m[\u001b[0m\u001b[0;34m:\u001b[0m\u001b[0;34m,\u001b[0m \u001b[0mstart\u001b[0m\u001b[0;34m]\u001b[0m\u001b[0;34m)\u001b[0m\u001b[0;34m\u001b[0m\u001b[0;34m\u001b[0m\u001b[0m\n\u001b[1;32m      5\u001b[0m \u001b[0;31m#print(dstart, dend)\u001b[0m\u001b[0;34m\u001b[0m\u001b[0;34m\u001b[0m\u001b[0;34m\u001b[0m\u001b[0m\n",
      "\u001b[0;32m//anaconda3/lib/python3.7/random.py\u001b[0m in \u001b[0;36mchoice\u001b[0;34m(self, seq)\u001b[0m\n\u001b[1;32m    259\u001b[0m             \u001b[0mi\u001b[0m \u001b[0;34m=\u001b[0m \u001b[0mself\u001b[0m\u001b[0;34m.\u001b[0m\u001b[0m_randbelow\u001b[0m\u001b[0;34m(\u001b[0m\u001b[0mlen\u001b[0m\u001b[0;34m(\u001b[0m\u001b[0mseq\u001b[0m\u001b[0;34m)\u001b[0m\u001b[0;34m)\u001b[0m\u001b[0;34m\u001b[0m\u001b[0;34m\u001b[0m\u001b[0m\n\u001b[1;32m    260\u001b[0m         \u001b[0;32mexcept\u001b[0m \u001b[0mValueError\u001b[0m\u001b[0;34m:\u001b[0m\u001b[0;34m\u001b[0m\u001b[0;34m\u001b[0m\u001b[0m\n\u001b[0;32m--> 261\u001b[0;31m             \u001b[0;32mraise\u001b[0m \u001b[0mIndexError\u001b[0m\u001b[0;34m(\u001b[0m\u001b[0;34m'Cannot choose from an empty sequence'\u001b[0m\u001b[0;34m)\u001b[0m \u001b[0;32mfrom\u001b[0m \u001b[0;32mNone\u001b[0m\u001b[0;34m\u001b[0m\u001b[0;34m\u001b[0m\u001b[0m\n\u001b[0m\u001b[1;32m    262\u001b[0m         \u001b[0;32mreturn\u001b[0m \u001b[0mseq\u001b[0m\u001b[0;34m[\u001b[0m\u001b[0mi\u001b[0m\u001b[0;34m]\u001b[0m\u001b[0;34m\u001b[0m\u001b[0;34m\u001b[0m\u001b[0m\n\u001b[1;32m    263\u001b[0m \u001b[0;34m\u001b[0m\u001b[0m\n",
      "\u001b[0;31mIndexError\u001b[0m: Cannot choose from an empty sequence"
     ]
    }
   ],
   "source": [
    "dstart, dend = random.choice(list(zip(del_start, del_end)))\n",
    "start, end = max(0, dstart-100), min(dend+100, family_genotypes.shape[1])\n",
    "\n",
    "print(final_states[:, start])\n",
    "#print(dstart, dend)\n",
    "#print(family_snp_positions[dstart, :], family_snp_positions[dend, :])\n",
    "#start, end = 168156000, 168172000\n",
    "#start, end = 71706745, 71715561\n",
    "#start, end = 225044, 225185\n",
    "\n",
    "#start, end = 3711060, 3711393\n",
    "#start, end = np.where(family_snp_positions[:, 0]>=start)[0][0], np.where(family_snp_positions[:, 0]<=end)[0][-1]\n",
    "#start, end = max(0, start-100), min(end+100, family_genotypes.shape[1])\n",
    "\n",
    "state_indices_of_interest = []\n",
    "\n",
    "plt.figure(figsize=(15, 10))\n",
    "ax = plt.subplot(4, 1, 1)\n",
    "plt.plot(mult_factor[start:end])\n",
    "homref = np.all(family_genotypes[:-1, start:end]==0, axis=0)\n",
    "plt.plot(np.where(~homref)[0], loss.alt_costs[family_genotypes[-1, start:end]][~homref])\n",
    "plt.plot(np.where(homref)[0], loss.alt_costs[family_genotypes[-1, start:end]][homref])\n",
    "plt.ylim([0, 10])\n",
    "\n",
    "plt.subplot(4, 1, 2, sharex=ax)\n",
    "plt.imshow(family_genotypes[:-1, start:end], aspect='auto', vmin=-3, vmax=2)\n",
    "plt.yticks(np.arange(m), ['mom', 'dad'] + ['child %d' % i for i in range(1, m-1)])\n",
    "\n",
    "plt.subplot(4, 1, 3, sharex=ax)\n",
    "plt.imshow(final_states[[0, 1, 2, 3] + \\\n",
    "                               [4, 5] + np.arange(8, 4+(2*m), 2).tolist() + \\\n",
    "                               [6, 7] + np.arange(9, 4+(2*m), 2).tolist() + [-1], start:end],\n",
    "           aspect='auto', vmin=-1, vmax=3)\n",
    "plt.yticks(np.arange(final_states.shape[0]-8), \n",
    "           ['m1 del', 'm2 del', 'p1 del', 'p2 del', 'm1', 'm2'] + ['child_%d mat' % i for i in range(1, m-1)] + ['p1', 'p2'] + ['child_%d pat' % i for i in range(1, m-1)] + ['is_hts'])\n",
    "\n",
    "plt.subplot(4, 1, 4, sharex=ax)\n",
    "plt.imshow(final_states[np.arange(16, 20).tolist(), start:end],\n",
    "           aspect='auto', vmin=-1, vmax=3)\n",
    "plt.yticks(np.arange(4), \n",
    "           ['child1 mat', 'child1 pat', 'child2 mat', 'child2 pat'])\n",
    "\n",
    "#plt.subplot(4, 1, 4, sharex=ax)\n",
    "#plt.plot([loss(tuple(family_genotypes[:, j]))[states.index(tuple(np.clip(final_states[:, j], 0, None)))] for j in range(start, end)], alpha=0.5)\n",
    "\n",
    "#plt.subplot(5, 1, 5, sharex=ax)\n",
    "#plt.plot([loss(tuple(family_genotypes[:, j]))[states.index(tuple(np.clip(final_states[:, j], 0, None)))] for j in range(start, end)], alpha=0.5)\n",
    "#plt.plot([loss(tuple(family_genotypes[:, j]))[states.index(tuple(np.hstack((np.clip(final_states[:2*m, j], 0, None), [0,]*(2*(m-2)), [np.clip(final_states[-1, j], 0, None)]))))] for j in range(start, end)], alpha=0.5)\n",
    "#plt.plot([loss(tuple(family_genotypes[:, j]))[states.index(tuple(np.hstack(([1,]*4, np.clip(final_states[4:, j], 0, None)))))] for j in range(start, end)], alpha=0.5)\n",
    "#plt.plot([loss(tuple(family_genotypes[:, j]))[states.index((1, 1, 1, 1, 0, 0, 0, 1, 0, 0, 0, 0, 0))] for j in range(start, end)], alpha=0.5)\n",
    "#plt.plot(np.cumsum([loss(tuple(family_genotypes[:, j]))[states.index((1, 1, 1, 1, 0, 0, 0, 0, 0, 1, 0, 0, 0, 0, 0, 0, 0))] for j in range(start, end)]), alpha=0.5)\n",
    "#plt.plot(np.cumsum([loss(tuple(family_genotypes[:, j]))[states.index((1, 1, 1, 1, 0, 0, 0, 1, 0, 0, 0, 1, 0))] for j in range(start, end)]), alpha=0.5)\n",
    "#plt.plot([loss(tuple(family_genotypes[:, j]))[states.index((1, 1, 0, 1, 0, 0, 0, 0, 1, 1, 0))] for j in range(start, end+1)], alpha=0.5)\n",
    "#plt.plot([loss(tuple(family_genotypes[:, j]))[states.index((0, 0, 0, 0, 0, 0, 0, 0, 1, 1, 0))] for j in range(start, end+1)], alpha=0.5)\n",
    "\n",
    "\n",
    "\n",
    "plt.tight_layout()\n",
    "plt.show()"
   ]
  },
  {
   "cell_type": "code",
   "execution_count": 21,
   "metadata": {},
   "outputs": [
    {
     "data": {
      "image/png": "[encoded data removed]",
      "text/plain": [
       "<Figure size 1080x720 with 4 Axes>"
      ]
     },
     "metadata": {
      "needs_background": "light"
     },
     "output_type": "display_data"
    }
   ],
   "source": [
    "plt.figure(figsize=(15, 10))\n",
    "\n",
    "ax = plt.subplot(m, 1, 1)\n",
    "\n",
    "for i in range(4):\n",
    "    #plt.scatter(family_snp_positions[final_states_greyed[i, :] == -1, 0], np.repeat(3-i, np.sum(final_states_greyed[i, :] == -1)), color='blue', alpha=0.5)\n",
    "    plt.scatter(family_snp_positions[final_states_greyed[i, :] == 0, 0], np.repeat(3-i, np.sum(final_states_greyed[i, :] == 0)), color='red', alpha=0.5)\n",
    "plt.title('Deletions')\n",
    "plt.yticks(range(3, -1, -1), ['m1', 'm2', 'p1', 'p2'])\n",
    "\n",
    "for i in range(0, m-2):\n",
    "    plt.subplot(m, 1, i+2, sharex=ax)\n",
    "    indices = (final_states_greyed[4+(2*i), :] == 0) & (final_states_greyed[-1, :] == 0)\n",
    "    plt.scatter(family_snp_positions[indices, 0], np.repeat(0, np.sum(indices)), color='blue', alpha=0.5)\n",
    "    indices = (final_states_greyed[4+(2*i), :] == 1) & (final_states_greyed[-1, :] == 0)\n",
    "    plt.scatter(family_snp_positions[indices, 0], np.repeat(0, np.sum(indices)), color='red', alpha=0.5)\n",
    "\n",
    "    indices = (final_states_greyed[5+(2*i), :] == 0) & (final_states_greyed[-1, :] == 0)\n",
    "    plt.scatter(family_snp_positions[indices, 0], np.repeat(1, np.sum(indices)), color='blue', alpha=0.5)\n",
    "    indices = (final_states_greyed[5+(2*i), :] == 1) & (final_states_greyed[-1, :] == 0)\n",
    "    plt.scatter(family_snp_positions[indices, 0], np.repeat(1, np.sum(indices)), color='red', alpha=0.5)\n",
    "\n",
    "    plt.title('Child%d' % (i+1))\n",
    "    plt.yticks(range(0, 2), ['mat', 'pat'])\n",
    "\n",
    "plt.subplot(m, 1, m, sharex=ax)\n",
    "plt.scatter(family_snp_positions[final_states_greyed[-1, :] == -1, 0], np.repeat(0, np.sum(final_states_greyed[-1, :] == -1)), color='blue', alpha=0.5)\n",
    "plt.scatter(family_snp_positions[final_states_greyed[-1, :] == 1, 0], np.repeat(0, np.sum(final_states_greyed[-1, :] == 1)), color='red', alpha=0.5)\n",
    "plt.title('Hard to sequence')\n",
    "\n",
    "plt.tight_layout()\n",
    "plt.show()\n",
    "\n"
   ]
  },
  {
   "cell_type": "code",
   "execution_count": null,
   "metadata": {},
   "outputs": [],
   "source": [
    "print(family_snp_positions[start, :], family_snp_positions[end, :])"
   ]
  },
  {
   "cell_type": "code",
   "execution_count": null,
   "metadata": {},
   "outputs": [],
   "source": [
    "import numpy as np\n",
    "def estimate_parental_variants(final_states, family_genotypes):\n",
    "    m, n = family_genotypes.shape\n",
    "    parental_variants, cost, blame = -np.ones((4, n), dtype=np.int8), -np.ones((n,), dtype=int), -np.ones((m, n), dtype=float)\n",
    "    has_missing = 0\n",
    "    for i in range(n):\n",
    "        state, gen = final_states[:, i], tuple(family_genotypes[:, i])\n",
    "        \n",
    "        missing_indices = [i for i, x in enumerate(state) if x==-1]\n",
    "        \n",
    "        if len(missing_indices) == 0:\n",
    "            pv, v, b = loss.get_parental_variants(tuple(state), gen)\n",
    "            parental_variants[:, i] = pv\n",
    "            cost[i] = v\n",
    "            blame[:, i] = b\n",
    "        else:\n",
    "            has_missing += 1\n",
    "            all_possible_states = np.tile(state, (pow(2, len(missing_indices)), 1))\n",
    "            all_possible_states[:, missing_indices] = list(product(*[[0, 1]]*len(missing_indices)))\n",
    "\n",
    "            min_v = None\n",
    "            all_pvs, all_bs = [], []\n",
    "            for s in all_possible_states:\n",
    "                pv, v, b = loss.get_parental_variants(tuple(s), gen)\n",
    "                if min_v is None or v < min_v:\n",
    "                    min_v = v\n",
    "                    all_pvs, all_bs = [pv], [b]\n",
    "                elif v == min_v:\n",
    "                    all_pvs.append(pv)\n",
    "                    all_bs.append(b)\n",
    "\n",
    "            all_pvs, all_bs = np.asarray(all_pvs), np.asarray(all_bs)\n",
    "            parental_variants[np.all(all_pvs==-2, axis=0), i] = -2\n",
    "            parental_variants[np.all(all_pvs==0, axis=0), i] = 0\n",
    "            parental_variants[np.all(all_pvs==1, axis=0), i] = 1\n",
    "            cost[i] = min_v\n",
    "            \n",
    "            all_bs = np.sum(all_bs, axis=0)\n",
    "            if min_v == 0:\n",
    "                blame[:, i] = 0\n",
    "            else:\n",
    "                blame[:, i] = min_v*all_bs/np.sum(all_bs)\n",
    "            \n",
    "        if i%10000==0:\n",
    "            print(i, has_missing)\n",
    "    return parental_variants, cost, blame\n",
    "\n",
    "parental_variants, cost, blame = estimate_parental_variants(states, family_genotypes)       "
   ]
  },
  {
   "cell_type": "code",
   "execution_count": null,
   "metadata": {},
   "outputs": [],
   "source": [
    "import time\n",
    "import numpy as np\n",
    "from itertools import product\n",
    "\n",
    "def mask_states(family_genotypes, mult_factor, final_states, inheritance_states, loss, error_rate=0.001, smooth=5000):\n",
    "\n",
    "\tmasked_final_states = np.copy(final_states)\n",
    "\t# Now, do masking\n",
    "\tprev_time = time.time()\n",
    "\tm, n = family_genotypes.shape\n",
    "\tp, state_len = inheritance_states.p, inheritance_states.state_len\n",
    "\n",
    "\tfit = -np.ones((n,), dtype=int)\n",
    "\tprev_state = None\n",
    "\tprev_state_indices = None\n",
    "\tfor j in range(n): \n",
    "\t\tpos_gen = tuple(family_genotypes[:, j])\n",
    "\t\tcurrent_state = tuple(final_states[:, j])\n",
    "\n",
    "\t\tif current_state != prev_state:\n",
    "\t\t\tprev_state = current_state\n",
    "\t\t\tnum_unknowns = len([x for x in current_state if x == -1])\n",
    "\t\t\tif num_unknowns>0:\n",
    "\t\t\t\tprev_state_indices = []\n",
    "\t\t\t\tfor poss_itr in [iter(x) for x in product(*([[0, 1]]*num_unknowns))]:\n",
    "\t\t\t\t\tposs_state = tuple([x if x != -1 else next(poss_itr) for x in current_state])\n",
    "\t\t\t\t\tprev_state_indices.append(inheritance_states.index(poss_state))\n",
    "\t\t\telse:\n",
    "\t\t\t\tprev_state_indices = [inheritance_states.index(tuple(final_states[:, j]))]\n",
    "\n",
    "\t\tfit[j] = mult_factor[j]*(np.min(loss(pos_gen)[prev_state_indices])==1)\n",
    "        \n",
    "\tprint(np.unique(fit, return_counts=True))\n",
    "\n",
    "\n",
    "\tc = np.convolve(fit/m, np.ones(smooth,), mode='same')\n",
    "\tmasked = (c>(error_rate*smooth)).astype(np.int8)\n",
    "\tprint('Percent masked', 100*np.sum(masked)/n)\n",
    "\n",
    "\t# if a parental chromosome isn't inherited, then we don't know if it has a deletion\n",
    "\tmaternal_indices = range(4, state_len, 2)\n",
    "\tpaternal_indices = range(5, state_len, 2)\n",
    "\n",
    "\tm1_ninh = np.all(final_states[maternal_indices, :]!=0, axis=0)\n",
    "\tm2_ninh = np.all(final_states[maternal_indices, :]!=1, axis=0)\n",
    "\tp1_ninh = np.all(final_states[paternal_indices, :]!=0, axis=0)\n",
    "\tp2_ninh = np.all(final_states[paternal_indices, :]!=1, axis=0)\n",
    "\n",
    "\tmasked_final_states[0, m1_ninh] = -1\n",
    "\tmasked_final_states[1, m2_ninh] = -1\n",
    "\tmasked_final_states[2, p1_ninh] = -1\n",
    "\tmasked_final_states[3, p2_ninh] = -1\n",
    "\tmasked_final_states = np.append(masked_final_states, masked[np.newaxis, :], axis=0)\n",
    "\tprint('Percent never inherited', 100*np.sum(m1_ninh)/n, 100*np.sum(m2_ninh)/n, 100*np.sum(p1_ninh)/n, 100*np.sum(p2_ninh)/n)\n",
    "\n",
    "\tprint('Masking complete', time.time()-prev_time, 'sec') \n",
    "\treturn masked_final_states, c"
   ]
  },
  {
   "cell_type": "code",
   "execution_count": null,
   "metadata": {},
   "outputs": [],
   "source": [
    "# mask messy areas\n",
    "masked_final_states, f = mask_states(family_genotypes, mult_factor, final_states, inheritance_states, loss, error_rate=0.01)\n",
    "#masked_final_states[:, masked_final_states[-1, :]==1] = -1"
   ]
  },
  {
   "cell_type": "code",
   "execution_count": null,
   "metadata": {},
   "outputs": [],
   "source": [
    "import matplotlib.pyplot as plt\n",
    "\n",
    "plt.figure(figsize=(15, 5))\n",
    "plt.plot(f/1000)\n",
    "plt.plot(overall)\n",
    "plt.show()"
   ]
  },
  {
   "cell_type": "code",
   "execution_count": null,
   "metadata": {},
   "outputs": [],
   "source": [
    "smooth=5000\n",
    "c = np.convolve(np.sum(parental_variants==-2, axis=0), np.ones(smooth,), mode='same')/(smooth*m)\n",
    "d = np.convolve(np.sum(parental_variants==-1, axis=0), np.ones(smooth,), mode='same')/(smooth*m)\n",
    "\n",
    "plt.figure(figsize=(15, 5))\n",
    "plt.plot(a, label='deletion')\n",
    "plt.plot(b, label='unknown')\n",
    "plt.plot(c, label='deletion')\n",
    "plt.plot(d, label='unknown')\n",
    "#plt.plot(overall)\n",
    "#plt.ylim([0, 0.1])\n",
    "plt.axhline(0.01)\n",
    "plt.legend()\n",
    "plt.show()"
   ]
  },
  {
   "cell_type": "code",
   "execution_count": null,
   "metadata": {},
   "outputs": [],
   "source": [
    "print(np.sum(parental_variants==-1)/(4*parental_variants.shape[1]))"
   ]
  },
  {
   "cell_type": "code",
   "execution_count": null,
   "metadata": {},
   "outputs": [],
   "source": [
    "print(np.sum(blame==0)/(blame.shape[0]*blame.shape[1]))\n",
    "print(np.sum(parental_variants==0)/(parental_variants.shape[0]*parental_variants.shape[1]))\n"
   ]
  },
  {
   "cell_type": "code",
   "execution_count": null,
   "metadata": {},
   "outputs": [],
   "source": [
    "pos_lens = family_snp_positions[:, 1]-family_snp_positions[:, 0]\n",
    "print(pos_lens.shape)\n",
    "print(np.sum(parental_variants!=0))\n",
    "print(np.sum(mult_factor*np.sum(parental_variants!=0, axis=0)))\n",
    "print(np.sum(mult_factor[np.any(parental_variants!=0, axis=0)]))"
   ]
  },
  {
   "cell_type": "code",
   "execution_count": null,
   "metadata": {},
   "outputs": [],
   "source": [
    "import scipy.sparse as sparse\n",
    "\n",
    "chrom_length = chrom_lengths[chrom]\n",
    "nonzeros = np.sum(mult_factor*np.sum(parental_variants!=0, axis=0))\n",
    "data = np.zeros((nonzeros,), dtype=np.int8)\n",
    "row_ind = np.zeros((nonzeros,), dtype=int)\n",
    "col_ind = np.zeros((nonzeros,), dtype=int)\n",
    "\n",
    "data_index = 0\n",
    "for i, j in zip(*np.nonzero(parental_variants)):\n",
    "    pos_start, pos_end = family_snp_positions[j, :]\n",
    "    pos_length = pos_end - pos_start\n",
    "    \n",
    "    data[data_index:(data_index+pos_length)] = parental_variants[i, j]\n",
    "    row_ind[data_index:(data_index+pos_length)] = i\n",
    "    col_ind[data_index:(data_index+pos_length)] = range(pos_start, pos_end)\n",
    "    data_index += pos_length\n",
    "\n",
    "parental_variants_csc = sparse.csc_matrix((data, (row_ind, col_ind)), shape=(4, chrom_length))"
   ]
  },
  {
   "cell_type": "code",
   "execution_count": null,
   "metadata": {},
   "outputs": [],
   "source": [
    "print(np.nonzero(parental_variants)[0].shape)\n",
    "print(data[:5])\n",
    "print(parental_variants_csc.nnz)"
   ]
  },
  {
   "cell_type": "code",
   "execution_count": null,
   "metadata": {},
   "outputs": [],
   "source": [
    "import random\n",
    "j = random.choice(np.where(mult_factor*np.any(parental_variants!=0, axis=0)>1)[0])\n",
    "print(j, family_snp_positions[j, :])\n",
    "print(parental_variants[:, j])\n",
    "print(parental_variants_csc[:, family_snp_positions[j, 0]:family_snp_positions[j, 1]])"
   ]
  },
  {
   "cell_type": "code",
   "execution_count": null,
   "metadata": {},
   "outputs": [],
   "source": [
    "plt.figure(figsize=(15, 5))\n",
    "plt.imshow((parental_variants==-1)[:1000], aspect='auto')\n",
    "plt.show()"
   ]
  },
  {
   "cell_type": "code",
   "execution_count": null,
   "metadata": {},
   "outputs": [],
   "source": [
    "smooth=5000\n",
    "mo = np.convolve(blame[0, :], np.ones(smooth,), mode='same')/smooth\n",
    "d = np.convolve(blame[1, :], np.ones(smooth,), mode='same')/smooth\n",
    "c1 = np.convolve(blame[2, :], np.ones(smooth,), mode='same')/smooth\n",
    "c2 = np.convolve(blame[3, :], np.ones(smooth,), mode='same')/smooth\n",
    "c3 = np.convolve(blame[4, :], np.ones(smooth,), mode='same')/smooth\n",
    "overall = np.convolve(np.sum(blame, axis=0), np.ones(smooth,), mode='same')/smooth"
   ]
  },
  {
   "cell_type": "code",
   "execution_count": null,
   "metadata": {},
   "outputs": [],
   "source": [
    "import matplotlib.pyplot as plt\n",
    "\n",
    "plt.figure(figsize=(15, 7))\n",
    "\n",
    "ax1 = plt.subplot(2, 1, 1)\n",
    "plt.plot(mo, label='mom')\n",
    "plt.plot(d, label='dad')\n",
    "plt.plot(c1, label='child1')\n",
    "plt.plot(c2, label='child2')\n",
    "plt.plot(c3, label='child3')\n",
    "plt.plot(overall, label='overall', color='black')\n",
    "plt.axhline(0.01, color='black')\n",
    "plt.legend()\n",
    "plt.ylim([0, 0.1])\n",
    "\n",
    "all_convolve = np.vstack((mo, d, c1, c2, c3))\n",
    "\n",
    "plt.subplot(2, 1, 2, sharex=ax1)\n",
    "plt.imshow(np.vstack((masked_final_states[-1, :], np.sum(all_convolve>0.01, axis=0)>1)), aspect='auto')\n",
    "\n",
    "plt.show()"
   ]
  },
  {
   "cell_type": "code",
   "execution_count": null,
   "metadata": {},
   "outputs": [],
   "source": []
  },
  {
   "cell_type": "code",
   "execution_count": null,
   "metadata": {},
   "outputs": [],
   "source": [
    "\n",
    "plt.figure(figsize=(15, 10))\n",
    "\n",
    "ax1 = plt.subplot(3, 1, 1)\n",
    "plt.plot(mo, label='mom')\n",
    "plt.plot(d, label='dad')\n",
    "plt.plot(c1, label='child1')\n",
    "plt.plot(c2, label='child2')\n",
    "plt.plot(c3, label='child3')\n",
    "#plt.plot(b)\n",
    "plt.legend()\n",
    "\n",
    "plt.subplot(3, 1, 2, sharex=ax1)\n",
    "plt.imshow(final_states, aspect='auto')\n",
    "\n",
    "plt.subplot(3, 1, 3, sharex=ax1)\n",
    "plt.imshow(masked_final_states, aspect='auto')\n",
    "\n",
    "plt.show()"
   ]
  },
  {
   "cell_type": "code",
   "execution_count": null,
   "metadata": {},
   "outputs": [],
   "source": [
    "smooth=5000\n",
    "mo = np.convolve(blame[0, :], np.ones(smooth,), mode='same')/smooth\n",
    "d = np.convolve(blame[1, :], np.ones(smooth,), mode='same')/smooth\n",
    "c1 = np.convolve(blame[2, :], np.ones(smooth,), mode='same')/smooth\n",
    "c2 = np.convolve(blame[3, :], np.ones(smooth,), mode='same')/smooth\n",
    "c3 = np.convolve(blame[4, :], np.ones(smooth,), mode='same')/smooth\n",
    "overall = np.convolve(np.sum(blame, axis=0), np.ones(smooth,), mode='same')/smooth\n",
    "\n",
    "plt.figure(figsize=(15, 10))\n",
    "\n",
    "ax1 = plt.subplot(3, 1, 1)\n",
    "plt.plot(mo, label='mom')\n",
    "plt.plot(d, label='dad')\n",
    "plt.plot(c1, label='child1')\n",
    "plt.plot(c2, label='child2')\n",
    "plt.plot(c3, label='child3')\n",
    "#plt.plot(b)\n",
    "plt.legend()\n",
    "\n",
    "plt.subplot(3, 1, 2, sharex=ax1)\n",
    "plt.imshow(final_states, aspect='auto')\n",
    "\n",
    "plt.subplot(3, 1, 3, sharex=ax1)\n",
    "plt.imshow(masked_final_states, aspect='auto')\n",
    "\n",
    "plt.show()"
   ]
  },
  {
   "cell_type": "code",
   "execution_count": null,
   "metadata": {},
   "outputs": [],
   "source": [
    "m = 5\n",
    "smooth = 5000"
   ]
  },
  {
   "cell_type": "code",
   "execution_count": null,
   "metadata": {},
   "outputs": [],
   "source": [
    "# family-wise unphased mendelian\n",
    "unique_gens, indices = np.unique(family_genotypes, axis=1, return_inverse=True)\n",
    "\n",
    "parents_to_children_with_del = {\n",
    "    (-1, -1): [-1],\n",
    "    (-1, 0): [-1, 0],\n",
    "    (-1, 1): [0, 2],\n",
    "    (-1, 2): [-1, 2],\n",
    "    (0, 0): [-1, 0],\n",
    "    (0, 1): [0, 1, 2],\n",
    "    (0, 2): [-1, 0, 1, 2],\n",
    "    (1, 1): [0, 1, 2],\n",
    "    (1, 2): [0, 1, 2],\n",
    "    (2, 2): [-1, 2]\n",
    "    \n",
    "}\n",
    "\n",
    "parents_to_children_without_del = {\n",
    "    (0, 0): [0],\n",
    "    (0, 1): [0, 1],\n",
    "    (0, 2): [1],\n",
    "    (1, 1): [0, 1, 2],\n",
    "    (1, 2): [1, 2],\n",
    "    (2, 2): [2]\n",
    "    \n",
    "}\n",
    "parental_genotypes = list(product(*[[0, 1, 2]]*2))\n",
    "\n",
    "# without del\n",
    "trio_perfect_match_gens_nodel = set()\n",
    "trios_could_be_mendelian = np.zeros((family_genotypes.shape[1],), dtype=int)\n",
    "for pg in parental_genotypes:\n",
    "    trio_perfect_match_gens_nodel.update([pg + cg for cg in product(*[parents_to_children_without_del[(min(pg), max(pg))]]*(m-2))])\n",
    "\n",
    "for i, gen in enumerate(unique_gens.T):\n",
    "    missing_indices = [i for i, x in enumerate(gen) if x==-1]\n",
    "    all_possible_gens = np.tile(gen, (pow(4, len(missing_indices)), 1))\n",
    "    all_possible_gens[:, missing_indices] = list(product(*[[-1, 0, 1, 2]]*len(missing_indices)))\n",
    "    #print(all_possible_gens)\n",
    "    \n",
    "    if np.any([tuple(g) in trio_perfect_match_gens_nodel for g in all_possible_gens]):\n",
    "        trios_could_be_mendelian[indices==i] = 1\n",
    "\n"
   ]
  },
  {
   "cell_type": "code",
   "execution_count": null,
   "metadata": {},
   "outputs": [],
   "source": [
    "print(len(trio_perfect_match_gens_del), len(trio_perfect_match_gens_nodel))"
   ]
  },
  {
   "cell_type": "code",
   "execution_count": null,
   "metadata": {},
   "outputs": [],
   "source": [
    "smooth = 500*4\n",
    "smoothed_cost = np.convolve(cost>0, np.ones(smooth,), mode='same')/smooth\n",
    "smoothed_md_nodel = np.convolve(1-trios_could_be_mendelian, np.ones(smooth,), mode='same')/smooth\n",
    "smoothed_final = np.convolve((cost>0) - 1 + trios_could_be_mendelian, np.ones(smooth,), mode='same')/smooth\n",
    "\n",
    "plt.figure(figsize=(15, 10))\n",
    "\n",
    "ax1 = plt.subplot(2, 1, 1)\n",
    "plt.plot(smoothed_md_nodel, label='unphased mendelian no del', alpha=0.5)\n",
    "plt.plot(smoothed_cost, label='phased family mendelian', alpha=0.5)\n",
    "plt.plot(smoothed_cost-smoothed_md_nodel)\n",
    "plt.plot(smoothed_final)\n",
    "\n",
    "#plt.plot(mo, label='mom')\n",
    "#plt.plot(d, label='dad')\n",
    "#plt.plot(c1, label='child1')\n",
    "#plt.plot(c2, label='child2')\n",
    "#plt.plot(c3, label='child3')\n",
    "plt.axhline(0.01)\n",
    "plt.legend()\n",
    "\n",
    "to_plot = []\n",
    "for smooth in [1, 50, 100, 500, 1000, 5000]:\n",
    "    smooth = smooth*4\n",
    "    smoothed_cost = np.convolve(cost>0, np.ones(smooth,), mode='same')/smooth\n",
    "    smoothed_md_nodel = np.convolve(1-trios_could_be_mendelian, np.ones(smooth,), mode='same')/smooth\n",
    "    to_plot.append(smoothed_cost-smoothed_md_nodel>0.01)\n",
    "\n",
    "\n",
    "plt.subplot(2, 1, 2, sharex=ax1)\n",
    "plt.imshow(np.vstack((final_states, to_plot[0], to_plot[1], to_plot[2], to_plot[3], to_plot[4], to_plot[5])), aspect='auto')\n",
    "\n",
    "plt.show()"
   ]
  },
  {
   "cell_type": "code",
   "execution_count": null,
   "metadata": {},
   "outputs": [],
   "source": [
    "print(np.sum(1-trios_could_be_mendelian)/2/trios_could_be_mendelian.shape)\n",
    "print(np.sum(cost>0)/2/cost.shape)\n",
    "print((np.sum(parental_variants[:, cost==0]==-1) + m*np.sum(cost!=0))/2/(m*cost.shape[0]))"
   ]
  },
  {
   "cell_type": "code",
   "execution_count": null,
   "metadata": {},
   "outputs": [],
   "source": [
    "print(np.sum(smoothed_md_del > 0.01)/smoothed_md_del.shape)\n",
    "\n",
    "plt.figure(figsize=(15, 5))\n",
    "plt.hist(smoothed_md_del, bins=70)\n",
    "plt.xlim([0, 0.1])\n",
    "plt.show()"
   ]
  },
  {
   "cell_type": "code",
   "execution_count": null,
   "metadata": {},
   "outputs": [],
   "source": [
    "\n",
    "smooth=5000\n",
    "#mo = np.convolve(blame[0, :], np.ones(smooth,), mode='same')/smooth\n",
    "#d = np.convolve(blame[1, :], np.ones(smooth,), mode='same')/smooth\n",
    "#c1 = np.convolve(blame[2, :], np.ones(smooth,), mode='same')/smooth\n",
    "#c2 = np.convolve(blame[3, :], np.ones(smooth,), mode='same')/smooth\n",
    "#c3 = np.convolve(blame[4, :], np.ones(smooth,), mode='same')/smooth\n",
    "#overall = np.convolve(np.sum(blame, axis=0), np.ones(smooth,), mode='same')/smooth\n",
    "\n",
    "\n",
    "\n",
    "plt.figure(figsize=(15, 10))\n",
    "\n",
    "ax1 = plt.subplot(2, 1, 1)\n",
    "plt.plot(mo, label='mom')\n",
    "plt.plot(d, label='dad')\n",
    "plt.plot(c1, label='child1')\n",
    "plt.plot(c2, label='child2')\n",
    "plt.plot(c3, label='child3')\n",
    "#plt.plot(b)\n",
    "plt.legend()\n",
    "\n",
    "plt.subplot(2, 1, 2, sharex=ax1)\n",
    "plt.imshow(final_states, aspect='auto')\n",
    "\n",
    "plt.show()"
   ]
  },
  {
   "cell_type": "code",
   "execution_count": null,
   "metadata": {},
   "outputs": [],
   "source": [
    "print(np.sum(blame[0, :]==1), np.sum(blame[1, :]==1))\n",
    "print(np.sum(blame[2, :]==1), np.sum(blame[3, :]==1), np.sum(blame[4, :]==1))"
   ]
  },
  {
   "cell_type": "code",
   "execution_count": null,
   "metadata": {},
   "outputs": [],
   "source": [
    "print('hello')"
   ]
  },
  {
   "cell_type": "code",
   "execution_count": null,
   "metadata": {},
   "outputs": [],
   "source": [
    "smooth=500\n",
    "mo = np.convolve(blame[0, :], np.ones(smooth,), mode='same')/smooth\n",
    "d = np.convolve(blame[1, :], np.ones(smooth,), mode='same')/smooth\n",
    "c1 = np.convolve(blame[2, :], np.ones(smooth,), mode='same')/smooth\n",
    "c2 = np.convolve(blame[3, :], np.ones(smooth,), mode='same')/smooth\n",
    "c3 = np.convolve(blame[4, :], np.ones(smooth,), mode='same')/smooth\n",
    "\n",
    "\n",
    "plt.figure(figsize=(15, 5))\n",
    "\n",
    "plt.plot(mo, label='mom')\n",
    "plt.plot(d, label='dad')\n",
    "plt.plot(c1, label='child1')\n",
    "plt.plot(c2, label='child2')\n",
    "plt.plot(c3, label='child3')\n",
    "plt.legend()\n",
    "plt.show()"
   ]
  },
  {
   "cell_type": "code",
   "execution_count": null,
   "metadata": {},
   "outputs": [],
   "source": [
    "plt.figure(figsize=(15, 5))\n",
    "plt.imshow(final_states, aspect='auto')\n",
    "plt.show()\n",
    "print(np.sum(np.any(final_states[:, 1:] != final_states[:, :-1], axis=0)))"
   ]
  },
  {
   "cell_type": "code",
   "execution_count": null,
   "metadata": {},
   "outputs": [],
   "source": [
    "plt.figure(figsize=(15, 5))\n",
    "plt.imshow(masked_final_states, aspect='auto')\n",
    "plt.show()\n",
    "print(np.sum(np.any(masked_final_states[4:, 1:] != masked_final_states[4:, :-1], axis=0)))"
   ]
  },
  {
   "cell_type": "code",
   "execution_count": null,
   "metadata": {},
   "outputs": [],
   "source": [
    "plt.figure(figsize=(15, 5))\n",
    "plt.imshow(family_genotypes[:50000, :], aspect='auto')\n",
    "plt.show()\n"
   ]
  },
  {
   "cell_type": "code",
   "execution_count": null,
   "metadata": {},
   "outputs": [],
   "source": [
    "plt.figure(figsize=(15, 5))\n",
    "plt.imshow(final_states, aspect='auto')\n",
    "plt.show()\n"
   ]
  },
  {
   "cell_type": "code",
   "execution_count": null,
   "metadata": {},
   "outputs": [],
   "source": [
    "import numpy as np\n",
    "print(np.sum((family_genotypes[2, :]==1) & (family_genotypes[[0, 1, 3], :]==0)))\n",
    "print(np.sum((family_genotypes[3, :]==1) & (family_genotypes[[0, 1, 2], :]==0)))"
   ]
  },
  {
   "cell_type": "code",
   "execution_count": null,
   "metadata": {},
   "outputs": [],
   "source": [
    "print(wgs_data.chrom_length)"
   ]
  },
  {
   "cell_type": "code",
   "execution_count": null,
   "metadata": {},
   "outputs": [],
   "source": [
    "93326/family_genotypes.shape[1]"
   ]
  },
  {
   "cell_type": "code",
   "execution_count": null,
   "metadata": {},
   "outputs": [],
   "source": [
    "print(np.sum((family_genotypes[2, :]==1) & np.all(family_genotypes[[0, 1, 3], :]==0, axis=0))/family_genotypes.shape[1])\n",
    "print(np.sum((family_genotypes[3, :]==1) & np.all(family_genotypes[[0, 1, 2], :]==0, axis=0))/family_genotypes.shape[1])"
   ]
  },
  {
   "cell_type": "code",
   "execution_count": null,
   "metadata": {},
   "outputs": [],
   "source": [
    "print(np.sum(np.all(family_genotypes==0, axis=0))/family_genotypes.shape[1])"
   ]
  },
  {
   "cell_type": "code",
   "execution_count": null,
   "metadata": {},
   "outputs": [],
   "source": []
  }
 ],
 "metadata": {
  "kernelspec": {
   "display_name": "Python 3",
   "language": "python",
   "name": "python3"
  },
  "language_info": {
   "codemirror_mode": {
    "name": "ipython",
    "version": 3
   },
   "file_extension": ".py",
   "mimetype": "text/x-python",
   "name": "python",
   "nbconvert_exporter": "python",
   "pygments_lexer": "ipython3",
   "version": "3.7.3"
  }
 },
 "nbformat": 4,
 "nbformat_minor": 2
}
