{
 "cells": [
  {
   "cell_type": "code",
   "execution_count": 19,
   "metadata": {},
   "outputs": [
    {
     "data": {
      "text/plain": [
       "<module 'viterbi' from '/Users/kelley/Projects/PhasingFamilies/phase/viterbi.py'>"
      ]
     },
     "execution_count": 19,
     "metadata": {},
     "output_type": "execute_result"
    }
   ],
   "source": [
    "import sys\n",
    "import json\n",
    "from os import listdir\n",
    "from itertools import product\n",
    "import importlib\n",
    "import matplotlib.pyplot as plt\n",
    "import numpy as np\n",
    "\n",
    "import input_output\n",
    "importlib.reload(input_output)\n",
    "import inheritance_states\n",
    "importlib.reload(inheritance_states)\n",
    "import transition_matrices\n",
    "importlib.reload(transition_matrices)\n",
    "import genotypes\n",
    "importlib.reload(genotypes)\n",
    "import losses\n",
    "importlib.reload(losses)\n",
    "import viterbi\n",
    "importlib.reload(viterbi)"
   ]
  },
  {
   "cell_type": "code",
   "execution_count": 95,
   "metadata": {},
   "outputs": [],
   "source": [
    "# Read in command line arguments\n",
    "chrom = 'X'\n",
    "#ped_file = '../../DATA/platinum/platinum6.ped'\n",
    "#ped_file = '../data/Ancestry Data Files/AncestryDNA.ped'\n",
    "#ped_file = '../data/spark.ped.quads.ped'\n",
    "#ped_file = '../data/spark.ped'\n",
    "#\n",
    "#data_dir = '../split_gen_ancestry'\n",
    "#param_file = '../parameter_estimation/params/ancestry_params_ext.json'\n",
    "#data_dir = '../split_gen_spark'\n",
    "#param_file = '../parameter_estimation/params/spark_params_ext.json'\n",
    "#detect_denovos = False\n",
    "\n",
    "#data_dir = '../../DATA/spark/genotypes'\n",
    "#param_file = '../params/spark_params.json'\n",
    "#ped_file = '../../DATA/spark/spark.ped'\n",
    "#detect_denovos = False\n",
    "#detect_deletions = True\n",
    "#num_loss_regions = 1\n",
    "\n",
    "#data_dir = '../../DATA/platinum/genotypes'\n",
    "#param_file = '../params/platinum_params.json'\n",
    "#ped_file = '../../DATA/platinum/platinum6.ped'\n",
    "#detect_denovos = False\n",
    "#detect_deletions = True\n",
    "#num_loss_regions = 2\n",
    "\n",
    "#data_dir = '../../DATA/ihart.ms2/genotypes'\n",
    "#param_file = '../params/ihart.ms2_params.json'\n",
    "#ped_file = '../../DATA/ihart.ms2/ihart.ped'\n",
    "#detect_deletions = True\n",
    "#detect_duplications = False\n",
    "#num_loss_regions = 2\n",
    "\n",
    "data_dir = '../../DATA/ihart.ms2/genotypes'\n",
    "param_file = '../params/ihart.ms2_quads_params.json'\n",
    "ped_file = '../../DATA/ihart.ms2/ihart.ped.quads.ped'\n",
    "#detect_deletions = True\n",
    "#detect_duplications = False\n",
    "#num_loss_regions = 2\n",
    "\n",
    "#data_dir = '../../DATA/ssc.hg38/genotypes/phase1-4'\n",
    "#param_file = '../params/ssc.hg38_phase1-4_params.json'\n",
    "#ped_file = '../../DATA/ssc.hg38/ssc.ped'\n",
    "detect_deletions = True\n",
    "detect_upd = False\n",
    "detect_duplications = False\n",
    "num_loss_regions = 2\n",
    "detect_consanguinity=False\n",
    "\n",
    "#data_dir = '../../DATA/spark.exome/genotypes'\n",
    "#param_file = '../params/spark.exome_quads_missing_parent_params.json'\n",
    "#ped_file = '../../DATA/spark.exome/spark.ped.quads.ped'\n",
    "#detect_deletions = False\n",
    "#detect_duplications = False\n",
    "#detect_haplotypes = False\n",
    "#num_loss_regions = 2\n",
    "\n",
    "#data_dir = '../../DATA/ssc/genotypes'\n",
    "#param_file = '../params/ssc_params.json'\n",
    "#ped_file = '../../DATA/ssc/ssc.ped'\n",
    "#detect_deletions = True\n",
    "#detect_duplications = False\n",
    "#num_loss_regions = 2\n",
    "#detect_consanguinity = False\n",
    "\n",
    "#data_dir = '../../DATA/mssng/genotypes'\n",
    "#param_file = '../params/mssng_params.json'\n",
    "#ped_file = '../../DATA/mssng/mssng.ped'\n",
    "#detect_denovos = False\n",
    "#detect_deletions = True\n",
    "#detect_duplications = False\n",
    "#num_loss_regions = 2\n",
    "\n",
    "#data_dir = '../split_gen_ihart_23andme'\n",
    "#param_file = '../parameter_estimation/23andme_params.json'\n",
    "\n",
    "#data_dir = '../split_gen_ihart_chip'\n",
    "#param_file = '../parameter_estimation/ihart_chip_params.json'\n",
    "\n",
    "batch_size = None\n",
    "batch_num = None\n",
    "batch_offset = None\n",
    "\n",
    "# set up filenames\n",
    "sample_file = '%s/chr.%s.gen.samples.txt' % (data_dir, chrom)\n",
    "coord_file = '%s/chr.%s.gen.coordinates.npy' % (data_dir,  chrom)\n",
    "gen_files = sorted([f for f in listdir(data_dir) if ('chr.%s.' % chrom) in f and 'gen.npz' in f])\n",
    "\n",
    "with open('%s/info.json' % data_dir, 'r') as f:\n",
    "    assembly = json.load(f)['assembly']\n",
    "    \n",
    "if param_file is not None:\n",
    "    with open(param_file, 'r') as f:\n",
    "        params = json.load(f)\n",
    "else:\n",
    "    params = estimate_parameters.error_parameters(data_dir, ped_file, chrom)"
   ]
  },
  {
   "cell_type": "code",
   "execution_count": 96,
   "metadata": {},
   "outputs": [
    {
     "name": "stdout",
     "output_type": "stream",
     "text": [
      "families pulled 2391\n"
     ]
    }
   ],
   "source": [
    "# pull families of interest\n",
    "families = input_output.pull_families(ped_file, data_dir)"
   ]
  },
  {
   "cell_type": "code",
   "execution_count": 190,
   "metadata": {},
   "outputs": [
    {
     "name": "stdout",
     "output_type": "stream",
     "text": [
      "family AU1768.AU1768301.AU1768302 4\n"
     ]
    }
   ],
   "source": [
    "import random\n",
    "\n",
    "# ('AU3912', 'AU3912202', 'AU3912201')\n",
    "\n",
    "# ()'AU1453', 'AU1453202', 'AU1453201')\n",
    "#fkey = ('AU1047', 'AU1047212', 'AU1047211')\n",
    "#fkey = ('AU4093', 'AU4093202', 'AU4093201')\n",
    "#fkey = ('AU2757', 'AU2757202', 'AU2757201')\n",
    "#fkey = ('AU0808', 'AU080801', 'AU080802')\n",
    "#fkey = [k[0] for k in families_of_this_size if 'SF0010543' in k[0]][0]\n",
    "#fkey = ('AU0356', 'AU035601', 'AU035602')\n",
    "#fkey = ('AU1314', 'AU1314202', 'AU1314201')\n",
    "#fkey = ('AU1388', 'AU1388202', 'AU1388201')\n",
    "#fkey = ('AU2125', 'AU2125202', 'AU2125201')\n",
    "#fkey = ('11002', '11002.mo', '11002.fa')\n",
    "\n",
    "#fkey = ('SF0000027.SP0000034.SP0000063', 'SP0000051', 'SP0000241')\n",
    "#inds = [k[1] for k in families_of_this_size if k[0]==fkey][0]\n",
    "\n",
    "family = random.choice([x for x in families])\n",
    "#family = [x for x in families if x.id=='AU1325.AU1325301.AU1325304'][0]\n",
    "m = len(family)\n",
    "print('family', family, m)"
   ]
  },
  {
   "cell_type": "code",
   "execution_count": 191,
   "metadata": {},
   "outputs": [
    {
     "name": "stdout",
     "output_type": "stream",
     "text": [
      "['AU1768202', 'AU1768201', 'AU1768301', 'AU1768302']\n"
     ]
    }
   ],
   "source": [
    "print(family.individuals)"
   ]
  },
  {
   "cell_type": "code",
   "execution_count": 192,
   "metadata": {},
   "outputs": [
    {
     "name": "stdout",
     "output_type": "stream",
     "text": [
      "['2', '1']\n"
     ]
    }
   ],
   "source": [
    "sample_id_to_sex = input_output.pull_sex(ped_file)\n",
    "\n",
    "print([sample_id_to_sex[x] for x in family.individuals[2:]])\n"
   ]
  },
  {
   "cell_type": "code",
   "execution_count": 193,
   "metadata": {},
   "outputs": [],
   "source": [
    "# if we're modeling parental consanguinity, we can only work with nuclear families \n",
    "if detect_consanguinity:\n",
    "    assert family.num_ancestors()==2\n",
    "    assert len(family.ordered_couples)==1\n",
    "\n",
    "    family.add_child(family.mat_ancestors[0], 'mat_shared_ancestor', 'pat_shared_ancestor')\n",
    "    family.add_child(family.pat_ancestors[0], 'mat_shared_ancestor', 'pat_shared_ancestor')\n"
   ]
  },
  {
   "cell_type": "code",
   "execution_count": 194,
   "metadata": {},
   "outputs": [
    {
     "name": "stdout",
     "output_type": "stream",
     "text": [
      "inherited del options 16\n",
      "fixed [('AU1768301', 'pat'), ('AU1768301', 'mat')]\n",
      "phase options 4\n",
      "mat denovo del options 1\n",
      "pat denovo del options 1\n",
      "loss options 2\n",
      "removing isodisomy if other parental chrom has deletion 0\n",
      "inheritance states 128\n",
      "transitions (128, 8)\n",
      "transitions (128, 7)\n"
     ]
    }
   ],
   "source": [
    "importlib.reload(transition_matrices)\n",
    "importlib.reload(inheritance_states)\n",
    "\n",
    "# create inheritance states\n",
    "states = inheritance_states.InheritanceStates(family, detect_deletions, detect_deletions, detect_upd, num_loss_regions)\n",
    "\n",
    "# create transition matrix\n",
    "transitions = transition_matrices.TransitionMatrix(states, params)\n",
    "transitionsX = transition_matrices.TransitionMatrixX(states, params)\n"
   ]
  },
  {
   "cell_type": "code",
   "execution_count": 195,
   "metadata": {},
   "outputs": [
    {
     "name": "stdout",
     "output_type": "stream",
     "text": [
      "no data []\n",
      "AU1768202\n",
      "\t0/0\t0/1\t1/1\t./.\n",
      "0/0\t0.0001-0.0032\t4.6768-2.5776\t5.7369-3.2404\t3.5225-2.3753\n",
      "0/1\t3.4809-1.4847\t0.0005-0.0506\t3.3386-1.2772\t3.5351-1.6139\n",
      "1/1\t3.7868-1.8504\t3.7327-2.4149\t0.0004-0.0083\t3.2639-3.0483\n",
      "-/0\t0.0001-0.0032\t4.6768-2.5776\t5.7369-3.2404\t3.5225-2.3753\n",
      "-/1\t3.7868-1.8504\t3.7327-2.4149\t0.0004-0.0083\t3.2639-3.0483\n",
      "-/-\t3.7327-2.4149\t4.7618-2.5454\t4.6768-2.5776\t0.0001-0.0041\n",
      "AU1768201\n",
      "\t0/0\t0/1\t1/1\t./.\n",
      "0/0\t0.0001-0.0034\t4.6768-2.5776\t5.4077-3.2370\t3.6292-2.3449\n",
      "0/1\t4.0915-1.3167\t0.0003-0.0513\t3.4173-1.3865\t3.6754-1.6540\n",
      "1/1\t3.5197-1.6923\t3.7327-2.4149\t0.0004-0.0119\t3.2886-2.5497\n",
      "-/0\t0.0001-0.0034\t4.6768-2.5776\t5.4077-3.2370\t3.6292-2.3449\n",
      "-/1\t3.5197-1.6923\t3.7327-2.4149\t0.0004-0.0119\t3.2886-2.5497\n",
      "-/-\t3.7327-2.4149\t4.4637-2.4647\t4.6768-2.5776\t0.0001-0.0043\n",
      "AU1768301\n",
      "\t0/0\t0/1\t1/1\t./.\n",
      "0/0\t0.0001-0.0028\t4.7931-2.6441\t5.6813-3.1927\t3.8034-2.4510\n",
      "0/1\t2.8971-2.4865\t0.0010-0.0169\t3.0756-1.6183\t3.6111-1.9679\n",
      "1/1\t4.8875-2.0305\t3.9018-2.5615\t0.0001-0.0075\t3.7709-2.3004\n",
      "-/0\t0.0001-0.0028\t4.7931-2.6441\t5.6813-3.1927\t3.8034-2.4510\n",
      "-/1\t4.8875-2.0305\t3.9018-2.5615\t0.0001-0.0075\t3.7709-2.3004\n",
      "-/-\t3.9018-2.5615\t5.2844-2.6116\t4.7931-2.6441\t0.0001-0.0033\n",
      "AU1768302\n",
      "\t0/0\t0/1\t1/1\t./.\n",
      "0/0\t0.0001-0.0031\t4.5605-2.5112\t6.2595-3.2427\t4.0259-2.4729\n",
      "0/1\t2.7374-1.8776\t0.0012-0.0176\t3.0500-1.8106\t3.9718-1.9566\n",
      "1/1\t5.3108-2.1160\t3.5636-2.2683\t0.0002-0.0092\t3.7794-2.1065\n",
      "-/0\t0.0001-0.0031\t4.5605-2.5112\t6.2595-3.2427\t4.0259-2.4729\n",
      "-/1\t5.3108-2.1160\t3.5636-2.2683\t0.0002-0.0092\t3.7794-2.1065\n",
      "-/-\t3.5636-2.2683\t5.7852-2.6793\t4.5605-2.5112\t0.0001-0.0046\n",
      "perfect matches 110\n",
      "perfect_match_indices (128, 16) 0.016384 MB\n",
      "not_filler (128, 16) 0.002048 MB\n"
     ]
    }
   ],
   "source": [
    "importlib.reload(losses)\n",
    "import losses\n",
    "\n",
    "# create loss function\n",
    "loss = losses.LazyLoss(states, family, params, num_loss_regions)\n",
    "\n",
    "#indices = [x[6]==1 and x[7]==1 for x in loss.loss_states]\n",
    "#print(np.sum(indices)/len(indices))\n",
    "#loss.losses[indices, :] += 0.001\n",
    "\n",
    "#for s, l1, l2, l3, l4 in zip(states, loss((0,)*m), loss((-1,)*m), loss((-2,)*m), loss((1, 0, 1, 1, 0))):\n",
    "#    print(s, l1, l2, l3, l4)\n",
    "\n",
    "#l = loss((1, 0, 1, 1, 0))\n",
    "#for s in loss.loss_states:\n",
    "#    s = np.asarray(s)\n",
    "#    i = states.index(tuple(s))\n",
    "#    if np.any(s[:4] == 2):\n",
    "#        new_state = s.copy()\n",
    "#        new_state[s==2] = 1\n",
    "#        state_index = states.index(tuple(new_state))\n",
    "#        if l[i] != l[state_index]:\n",
    "#            print(s, new_state, l[i], l[state_index])\n",
    "        #print(sorted(set(loss.perfect_match_indices[loss.loss_state_to_index[tuple(s)]])))\n",
    "        #print(sorted(set(loss.perfect_match_indices[loss.loss_state_to_index[tuple(new_state)]])))\n",
    "#print(loss((1, 2, 1, 0)))\n",
    "#print(loss.get_parental_variants((1, 1, 1, 1, 1, 0, 1, 1, 1, 0), (1, 2, 1, 0, 1)))\n",
    "#print(loss.get_parental_variants((1, 1, 1, 1, 1, 0, 1, 1, 1, 0), (2, 1, 2, 1, 2)))"
   ]
  },
  {
   "cell_type": "code",
   "execution_count": 196,
   "metadata": {
    "scrolled": true
   },
   "outputs": [
    {
     "name": "stdout",
     "output_type": "stream",
     "text": [
      "(4, 133191) (133191,) (133192,)\n",
      "genotypes pulled (4, 264508)\n",
      "cached losses (128, 86) already_calculated 0\n",
      "losses (128, 86) 0.088064 MB\n",
      "Data pulled\n"
     ]
    }
   ],
   "source": [
    "# pull genotype data for this family\n",
    "family_genotypes, family_snp_positions, mult_factor = input_output.pull_gen_data_for_individuals(data_dir, assembly, chrom, family.individuals)\n",
    "loss.set_cache(family_genotypes)\n",
    "print('Data pulled')"
   ]
  },
  {
   "cell_type": "code",
   "execution_count": 197,
   "metadata": {},
   "outputs": [
    {
     "name": "stdout",
     "output_type": "stream",
     "text": [
      "v_cost (128, 264508) 270.856192 MB\n",
      "transition_matrix (128, 8)\n",
      "ok starts 8\n",
      "Forward sweep complete 19.110728979110718 sec\n",
      "final_states (13, 264508) 3.438604 MB\n",
      "Num solutions (1,) 4214.242112756995\n",
      "Num forks 275\n",
      "Backward sweep complete 166.18564295768738 sec\n"
     ]
    }
   ],
   "source": [
    "importlib.reload(viterbi)\n",
    "importlib.reload(losses)\n",
    "\n",
    "if chrom == 'X':\n",
    "    # forward sweep\n",
    "    v_cost = viterbi.viterbi_forward_sweep_X(family_genotypes, family_snp_positions, mult_factor, states, transitions, transitionsX, loss, assembly)\n",
    "    # backward sweep\n",
    "    final_states, cost, ancestral_variants = viterbi.viterbi_backward_sweep_X(v_cost, family_genotypes, family_snp_positions, mult_factor, states, transitions, transitionsX, loss, assembly)\n",
    "\n",
    "else:\n",
    "    # forward sweep\n",
    "    v_cost = viterbi.viterbi_forward_sweep(family_genotypes, mult_factor, states, transitions, loss)\n",
    "    # backward sweep\n",
    "    final_states, cost, ancestral_variants = viterbi.viterbi_backward_sweep(v_cost, family_genotypes, mult_factor, states, transitions, loss)\n",
    "\n",
    "\n"
   ]
  },
  {
   "cell_type": "code",
   "execution_count": 198,
   "metadata": {},
   "outputs": [],
   "source": [
    "#importlib.reload(viterbi)#\n",
    "#\n",
    "#v_path_new, v_cost_new = viterbi.viterbi_forward_sweep_low_memory(family_genotypes, family_snp_positions, mult_factor, states, transitions, loss)\n"
   ]
  },
  {
   "cell_type": "code",
   "execution_count": 199,
   "metadata": {},
   "outputs": [],
   "source": [
    "#importlib.reload(viterbi)\n",
    "#\n",
    "## backward sweep\n",
    "#final_states_new = viterbi.viterbi_backward_sweep_low_memory(v_path_new, v_cost_new, states, transitions)\n"
   ]
  },
  {
   "cell_type": "code",
   "execution_count": 200,
   "metadata": {},
   "outputs": [],
   "source": [
    "#print(np.sum(np.all(final_states==final_states_new, axis=0)))\n",
    "#print(np.sum(~np.all(final_states==final_states_new, axis=0)))\n"
   ]
  },
  {
   "cell_type": "code",
   "execution_count": 201,
   "metadata": {},
   "outputs": [],
   "source": [
    "#print(final_states[:, -1])\n",
    "#print(final_states_new[:, -1])"
   ]
  },
  {
   "cell_type": "code",
   "execution_count": 202,
   "metadata": {},
   "outputs": [
    {
     "name": "stdout",
     "output_type": "stream",
     "text": [
      "['AU1768202', 'AU1768201', 'AU1768301', 'AU1768302']\n",
      "3\n",
      "(13, 264508)\n"
     ]
    }
   ],
   "source": [
    "print(family.individuals)\n",
    "print(np.max(final_states))\n",
    "print(final_states.shape)"
   ]
  },
  {
   "cell_type": "code",
   "execution_count": 203,
   "metadata": {},
   "outputs": [
    {
     "name": "stdout",
     "output_type": "stream",
     "text": [
      "((0, 0, 0, 0), (1, 1, 1, 1), (1, 1, 1, 1), (None, None, 0, 0), (None, None, 0, 0), 0)\n",
      "{4}\n",
      "[1 1 1 1 0 1 2 3 0 2 0 2 1]\n"
     ]
    }
   ],
   "source": [
    "print(states[0])\n",
    "print(states.get_maternal_recombination_neighbors(states[0]))\n",
    "print(final_states[:, 0])"
   ]
  },
  {
   "cell_type": "code",
   "execution_count": 204,
   "metadata": {},
   "outputs": [
    {
     "data": {
      "image/png": "[encoded data removed]",
      "text/plain": [
       "<Figure size 1080x720 with 1 Axes>"
      ]
     },
     "metadata": {
      "needs_background": "light"
     },
     "output_type": "display_data"
    }
   ],
   "source": [
    "m = len(family)\n",
    "final_states_greyed = final_states.copy()\n",
    "final_states_greyed[:, final_states[-1, :]!=0] = -1\n",
    "\n",
    "plt.figure(figsize=(15, 10))\n",
    "ax = plt.subplot(2, 1, 1)\n",
    "plt.imshow(final_states[[0, 1, 2, 3] + \\\n",
    "                               np.arange(8, 4+(2*m)).tolist() + [-1], :],\n",
    "           aspect='auto', vmin=-1, vmax=3)\n",
    "plt.yticks(np.arange(1+2*m), \n",
    "           ['m1 del', 'm2 del', 'p1 del', 'p2 del'] + ['mat', 'pat']*2 + ['is_hts'])\n",
    "\n",
    "#ax = plt.subplot(2, 1, 2)\n",
    "#plt.imshow(final_states[np.arange(4+(2*m), 4+(4*m)).tolist(), :], aspect='auto', vmin=-1, vmax=3)\n",
    "\n",
    "\n",
    "#final_states_greyed_new = final_states_new.copy()\n",
    "#final_states_greyed_new[:, final_states_new[-1, :]!=0] = -1#\n",
    "#\n",
    "#ax = plt.subplot(2, 1, 2)\n",
    "#plt.imshow(final_states_new[[0, 1, 2, 3] + \\\n",
    "#                               np.arange(8, 4+(2*m), 2).tolist() + \\\n",
    "#                               np.arange(9, 4+(2*m), 2).tolist() + [-1], :],\n",
    "#           aspect='auto', vmin=-1, vmax=3)\n",
    "#plt.yticks(np.arange(final_states.shape[0]-4), \n",
    "#           ['m1 del', 'm2 del', 'p1 del', 'p2 del'] + ['child_%d mat' % i for i in range(1, m-1)] + ['child_%d pat' % i for i in range(1, m-1)] + ['is_hts'])\n",
    "\n",
    "#plt.subplot(2, 1, 2, sharex=ax)\n",
    "#plt.fill_between(np.arange(family_snp_positions.shape[0]), 0, (family_snp_positions[:, 0]>=0) & (family_snp_positions[:, 1]<=20500000), alpha=0.5)\n",
    "#plt.fill_between(np.arange(family_snp_positions.shape[0]), 0, (family_snp_positions[:, 0]>=9600000) & (family_snp_positions[:, 1]<=16300000))\n",
    "#plt.fill_between(np.arange(family_snp_positions.shape[0]), 0, (family_snp_positions[:, 1]<=9600000) | (family_snp_positions[:, 0]>=48200000))\n",
    "\n",
    "#plt.xticks(xticks, xlabels, rotation=90)\n",
    "\n",
    "#plt.subplot(3, 1, 3)\n",
    "#plt.plot(np.log2(family_snp_positions[:, 1]-family_snp_positions[:, 0]), marker='.', linestyle='')\n",
    "#plt.plot(c[1:]-c[:-1], marker='.', linestyle='')\n",
    "#plt.plot(num_non_mend, marker='.', linestyle='')\n",
    "#plt.plot(np.convolve(num_non_mend, np.ones((100,)), mode='same'))\n",
    "#plt.plot(np.convolve(num_missing, np.ones((100,)), mode='same'))\n",
    "#plt.scatter(family_snp_positions[:, 0], final_states[-1, :], marker='.')\n",
    "#plt.xticks(family_snp_positions[xticks, 0], xlabels, rotation=90)\n",
    "#for i in np.where(family_snp_positions[:, 1]-family_snp_positions[:, 0] > 10000)[0]:\n",
    "#    plt.plot([family_snp_positions[i, 0], family_snp_positions[i, 1]], [final_states[-1, i], final_states[-1, i]], color='grey')\n",
    "#    #print(family_snp_positions[i, :])\n",
    "\n",
    "#start_pos, end_pos = 3292640, 3293187\n",
    "#plt.xlim(np.searchsorted(family_snp_positions[:, 0], [start_pos-1000000, end_pos+1000000]))\n",
    "plt.tight_layout()\n",
    "plt.show()"
   ]
  },
  {
   "cell_type": "code",
   "execution_count": 205,
   "metadata": {},
   "outputs": [
    {
     "data": {
      "image/png": "[encoded data removed]",
      "text/plain": [
       "<Figure size 1080x720 with 1 Axes>"
      ]
     },
     "metadata": {
      "needs_background": "light"
     },
     "output_type": "display_data"
    }
   ],
   "source": [
    "m = len(family)\n",
    "final_states_greyed = final_states.copy()\n",
    "final_states_greyed[:, final_states[-1, :]!=0] = -1\n",
    "\n",
    "plt.figure(figsize=(15, 10))\n",
    "ax = plt.subplot(2, 1, 1)\n",
    "plt.imshow(final_states[[0, 1, 2, 3] + \\\n",
    "                               np.arange(8, 4+(2*m)).tolist() + [-1], :],\n",
    "           aspect='auto', vmin=-1, vmax=3)\n",
    "plt.yticks(np.arange(1+2*m), \n",
    "           ['m1 del', 'm2 del', 'p1 del', 'p2 del'] + ['mat', 'pat']*2 + ['is_hts'])\n",
    "plt.show()"
   ]
  },
  {
   "cell_type": "code",
   "execution_count": 206,
   "metadata": {},
   "outputs": [
    {
     "name": "stdout",
     "output_type": "stream",
     "text": [
      "['2', '1']\n",
      "['AU1768202', 'AU1768201', 'AU1768301', 'AU1768302']\n"
     ]
    }
   ],
   "source": [
    "sample_id_to_sex = input_output.pull_sex(ped_file)\n",
    "\n",
    "print([sample_id_to_sex[x] for x in family.individuals[2:]])\n",
    "print(family.individuals)\n"
   ]
  },
  {
   "cell_type": "code",
   "execution_count": 148,
   "metadata": {},
   "outputs": [
    {
     "name": "stdout",
     "output_type": "stream",
     "text": [
      "hard to sequence 0.00388577639539038\n",
      "m1 deletion 0.0\n",
      "m2 deletion 0.0\n",
      "p1 deletion 0.9633646121026797\n",
      "p2 deletion 0.0\n",
      "has_upd 0.0\n"
     ]
    }
   ],
   "source": [
    "is_hts = final_states[-1, :]==1\n",
    "\n",
    "has_m1_deletion = final_states[0, :]==0\n",
    "has_m2_deletion = final_states[1, :]==0\n",
    "has_p1_deletion = final_states[2, :]==0\n",
    "has_p2_deletion = final_states[3, :]==0\n",
    "\n",
    "m1_is_inherited = np.sum(final_states[np.arange(8, 4+(2*m), 2).tolist() + np.arange(9, 4+(2*m), 2).tolist(), :]==0, axis=0)>0\n",
    "m2_is_inherited = np.sum(final_states[np.arange(8, 4+(2*m), 2).tolist() + np.arange(9, 4+(2*m), 2).tolist(), :]==1, axis=0)>0\n",
    "p1_is_inherited = np.sum(final_states[np.arange(8, 4+(2*m), 2).tolist() + np.arange(9, 4+(2*m), 2).tolist(), :]==2, axis=0)>0\n",
    "p2_is_inherited = np.sum(final_states[np.arange(8, 4+(2*m), 2).tolist() + np.arange(9, 4+(2*m), 2).tolist(), :]==3, axis=0)>0\n",
    "\n",
    "has_upd = np.any((final_states[np.arange(8, 4+(2*m), 2), :]==2) | \\\n",
    "                 (final_states[np.arange(8, 4+(2*m), 2), :]==3) | \\\n",
    "                 (final_states[np.arange(9, 4+(2*m), 2), :]==0) | \\\n",
    "                 (final_states[np.arange(9, 4+(2*m), 2), :]==1), axis=0)\n",
    "print('hard to sequence', np.sum(mult_factor * is_hts)/np.sum(mult_factor))     \n",
    "\n",
    "print('m1 deletion', np.sum(mult_factor * (has_m1_deletion & ~is_hts))/np.sum(mult_factor))\n",
    "print('m2 deletion', np.sum(mult_factor * (has_m2_deletion & ~is_hts))/np.sum(mult_factor))\n",
    "print('p1 deletion', np.sum(mult_factor * (has_p1_deletion & ~is_hts))/np.sum(mult_factor))\n",
    "print('p2 deletion', np.sum(mult_factor * (has_p2_deletion & ~is_hts))/np.sum(mult_factor))\n",
    "\n",
    "print('has_upd', np.sum(mult_factor * (has_upd & ~is_hts))/np.sum(mult_factor))\n",
    "\n",
    "#has_denovo = np.any(final_states[np.arange(4+(2*m), 4+(4*m)), :]==0, axis=0)\n",
    "#print('has de novo', np.sum(has_denovo))\n",
    "\n",
    "## maternal UPD\n",
    "#print('maternal UPD', np.sum(mult_factor * ((has_upd[0, :] | has_upd[1, :]) & ~is_hts)))\n",
    "#print('paternal UPD', np.sum(mult_factor * ((has_upd[2, :] | has_upd[3, :]) & ~is_hts)))#\n",
    "#\n",
    "#for i in range(m-2):\n",
    "#    print('child%d mat upd' % (i+1), np.sum(mult_factor * (has_upd[4+2*i, :] & ~is_hts)))\n",
    "#    print('child%d pat upd' % (i+1), np.sum(mult_factor * (has_upd[5+2*i, :] & ~is_hts)))\n"
   ]
  },
  {
   "cell_type": "code",
   "execution_count": 149,
   "metadata": {},
   "outputs": [
    {
     "name": "stdout",
     "output_type": "stream",
     "text": [
      "0 0\n",
      "[] []\n",
      "[] []\n"
     ]
    }
   ],
   "source": [
    "event = has_upd\n",
    "#event = has_upd[6, :]\n",
    "del_start = np.where(~event[:-1] & event[1:])[0]+1\n",
    "del_end = np.where(event[:-1] & ~event[1:])[0]+1\n",
    "\n",
    "print(len(del_start), len(del_end))\n",
    "print(del_start, del_end)\n",
    "\n",
    "# remove events in hard to sequence regions\n",
    "#event_is_hts = np.ones((del_start.shape[0],), dtype=bool)\n",
    "#for i, (s, e) in enumerate(zip(del_start, del_end)):\n",
    "#    event_is_hts[i] = np.all(is_hts[s:e])\n",
    "#print('hard to seq', np.sum(event_is_hts))\n",
    "\n",
    "# remove events that aren't inherited\n",
    "#event_is_inherited = np.ones((del_start.shape[0],), dtype=bool)\n",
    "#for i, (s, e) in enumerate(zip(del_start, del_end)):\n",
    "#    event_is_inherited[i] = np.any(event_inherited[s:e])\n",
    "#print('not inherited', np.sum(~event_is_inherited))\n",
    "    \n",
    "#del_start = np.array(del_start)[~event_is_hts]\n",
    "#del_end = np.array(del_end)[~event_is_hts]\n",
    "#print(len(del_start), len(del_end))\n",
    "\n",
    "print(del_start, del_end)"
   ]
  },
  {
   "cell_type": "code",
   "execution_count": 152,
   "metadata": {
    "scrolled": false
   },
   "outputs": [
    {
     "name": "stderr",
     "output_type": "stream",
     "text": [
      "//anaconda3/lib/python3.7/site-packages/ipykernel/__main__.py:18: RuntimeWarning: divide by zero encountered in log10\n"
     ]
    },
    {
     "data": {
      "image/png": "[encoded data removed]",
      "text/plain": [
       "<Figure size 1080x720 with 3 Axes>"
      ]
     },
     "metadata": {
      "needs_background": "light"
     },
     "output_type": "display_data"
    }
   ],
   "source": [
    "#dstart, dend = random.choice(list(zip(del_start, del_end)))\n",
    "#print(family_snp_positions[dstart, 0], family_snp_positions[dend, 1], family_snp_positions[dend, 1]-family_snp_positions[dstart, 0])\n",
    "#start, end = max(0, dstart-100), min(dend+100, family_genotypes.shape[1])\n",
    "#start, end = start+5500, start+6000\n",
    "\n",
    "#print(final_states[:, start])\n",
    "#print(dstart, dend)\n",
    "#print(family_snp_positions[dstart, :], family_snp_positions[dend, :])\n",
    "\n",
    "start, end = 58712800, 102709091\n",
    "start, end = np.where(family_snp_positions[:, 0]>=start)[0][0], np.where(family_snp_positions[:, 0]<=end)[0][-1]\n",
    "start, end = max(0, start-100), min(end+100, family_genotypes.shape[1])\n",
    "\n",
    "state_indices_of_interest = []\n",
    "\n",
    "plt.figure(figsize=(15, 10))\n",
    "ax = plt.subplot(4, 1, 1)\n",
    "plt.plot(np.log10(mult_factor[start:end]))\n",
    "homref = np.all(family_genotypes[:, start:end]==0, axis=0)\n",
    "#plt.plot(np.where(~homref)[0], loss.alt_costs[family_genotypes[-1, start:end]][~homref])\n",
    "#plt.plot(np.where(homref)[0], loss.alt_costs[family_genotypes[-1, start:end]][homref])\n",
    "#plt.ylim([0, 10])\n",
    "\n",
    "plt.subplot(4, 1, 2, sharex=ax)\n",
    "plt.imshow(family_genotypes[:, start:end], aspect='auto', vmin=-3, vmax=2)\n",
    "plt.yticks(np.arange(m), ['mom', 'dad'] + ['child %d' % i for i in range(1, m-1)])\n",
    "\n",
    "plt.subplot(4, 1, 3, sharex=ax)\n",
    "plt.imshow(final_states[[0, 1, 2, 3] + \\\n",
    "                               np.arange(8, 4+(2*m)).tolist() + [-1], start:end],\n",
    "           aspect='auto', vmin=-1, vmax=3)\n",
    "plt.yticks(np.arange(1+2*m), \n",
    "           ['m1 del', 'm2 del', 'p1 del', 'p2 del'] + ['mat', 'pat']*(m-2) + ['is_hts'])\n",
    "\n",
    "#ax = plt.subplot(4, 1, 4)\n",
    "#plt.imshow(final_states[np.arange(4+(2*m), 4+(4*m)).tolist(), start:end], aspect='auto', vmin=-1, vmax=3)\n",
    "\n",
    "#plt.subplot(4, 1, 4, sharex=ax)\n",
    "#plt.imshow(final_states[np.arange(16, 20).tolist(), start:end],\n",
    "#           aspect='auto', vmin=-1, vmax=3)\n",
    "#plt.yticks(np.arange(4), \n",
    "#           ['child1 mat', 'child1 pat', 'child2 mat', 'child2 pat'])\n",
    "\n",
    "#plt.subplot(4, 1, 4, sharex=ax)\n",
    "#plt.plot([loss(tuple(family_genotypes[:, j]))[states.index(tuple(np.clip(final_states[:, j], 0, None)))] for j in range(start, end)], alpha=0.5)\n",
    "\n",
    "#plt.subplot(5, 1, 5, sharex=ax)\n",
    "#plt.plot([loss(tuple(family_genotypes[:, j]))[states.index(tuple(np.clip(final_states[:, j], 0, None)))] for j in range(start, end)], alpha=0.5)\n",
    "#plt.plot([loss(tuple(family_genotypes[:, j]))[states.index(tuple(np.hstack((np.clip(final_states[:2*m, j], 0, None), [0,]*(2*(m-2)), [np.clip(final_states[-1, j], 0, None)]))))] for j in range(start, end)], alpha=0.5)\n",
    "#plt.plot([loss(tuple(family_genotypes[:, j]))[states.index(tuple(np.hstack(([1,]*4, np.clip(final_states[4:, j], 0, None)))))] for j in range(start, end)], alpha=0.5)\n",
    "#plt.plot([loss(tuple(family_genotypes[:, j]))[states.index((1, 1, 1, 1, 0, 0, 0, 1, 0, 0, 0, 0, 0))] for j in range(start, end)], alpha=0.5)\n",
    "#plt.plot(np.cumsum([loss(tuple(family_genotypes[:, j]))[states.index((1, 1, 1, 1, 0, 0, 0, 0, 0, 1, 0, 0, 0, 0, 0, 0, 0))] for j in range(start, end)]), alpha=0.5)\n",
    "#plt.plot(np.cumsum([loss(tuple(family_genotypes[:, j]))[states.index((1, 1, 1, 1, 0, 0, 0, 1, 0, 0, 0, 1, 0))] for j in range(start, end)]), alpha=0.5)\n",
    "#plt.plot([loss(tuple(family_genotypes[:, j]))[states.index((1, 1, 0, 1, 0, 0, 0, 0, 1, 1, 0))] for j in range(start, end+1)], alpha=0.5)\n",
    "#plt.plot([loss(tuple(family_genotypes[:, j]))[states.index((0, 0, 0, 0, 0, 0, 0, 0, 1, 1, 0))] for j in range(start, end+1)], alpha=0.5)\n",
    "\n",
    "\n",
    "\n",
    "plt.tight_layout()\n",
    "plt.show()"
   ]
  },
  {
   "cell_type": "code",
   "execution_count": null,
   "metadata": {},
   "outputs": [],
   "source": [
    "g = family_genotypes[:, start:end]\n",
    "mf = mult_factor[start:end]\n",
    "print(g[:, mf>4])"
   ]
  },
  {
   "cell_type": "code",
   "execution_count": null,
   "metadata": {},
   "outputs": [],
   "source": [
    "print(loss(np.zeros((m,))))"
   ]
  },
  {
   "cell_type": "code",
   "execution_count": null,
   "metadata": {},
   "outputs": [],
   "source": [
    "plt.figure(figsize=(15, 10))\n",
    "\n",
    "ax = plt.subplot(m, 1, 1)\n",
    "\n",
    "for i in range(4):\n",
    "    #plt.scatter(family_snp_positions[final_states_greyed[i, :] == -1, 0], np.repeat(3-i, np.sum(final_states_greyed[i, :] == -1)), color='blue', alpha=0.5)\n",
    "    plt.scatter(family_snp_positions[final_states_greyed[i, :] == 0, 0], np.repeat(3-i, np.sum(final_states_greyed[i, :] == 0)), color='red', alpha=0.5)\n",
    "plt.title('Deletions')\n",
    "plt.yticks(range(3, -1, -1), ['m1', 'm2', 'p1', 'p2'])\n",
    "\n",
    "for i in range(0, m-2):\n",
    "    plt.subplot(m, 1, i+2, sharex=ax)\n",
    "    indices = (final_states_greyed[4+(2*i), :] == 0) & (final_states_greyed[-1, :] == 0)\n",
    "    plt.scatter(family_snp_positions[indices, 0], np.repeat(0, np.sum(indices)), color='blue', alpha=0.5)\n",
    "    indices = (final_states_greyed[4+(2*i), :] == 1) & (final_states_greyed[-1, :] == 0)\n",
    "    plt.scatter(family_snp_positions[indices, 0], np.repeat(0, np.sum(indices)), color='red', alpha=0.5)\n",
    "\n",
    "    indices = (final_states_greyed[5+(2*i), :] == 0) & (final_states_greyed[-1, :] == 0)\n",
    "    plt.scatter(family_snp_positions[indices, 0], np.repeat(1, np.sum(indices)), color='blue', alpha=0.5)\n",
    "    indices = (final_states_greyed[5+(2*i), :] == 1) & (final_states_greyed[-1, :] == 0)\n",
    "    plt.scatter(family_snp_positions[indices, 0], np.repeat(1, np.sum(indices)), color='red', alpha=0.5)\n",
    "\n",
    "    plt.title('Child%d' % (i+1))\n",
    "    plt.yticks(range(0, 2), ['mat', 'pat'])\n",
    "\n",
    "plt.subplot(m, 1, m, sharex=ax)\n",
    "plt.scatter(family_snp_positions[final_states_greyed[-1, :] == -1, 0], np.repeat(0, np.sum(final_states_greyed[-1, :] == -1)), color='blue', alpha=0.5)\n",
    "plt.scatter(family_snp_positions[final_states_greyed[-1, :] == 1, 0], np.repeat(0, np.sum(final_states_greyed[-1, :] == 1)), color='red', alpha=0.5)\n",
    "plt.title('Hard to sequence')\n",
    "\n",
    "plt.tight_layout()\n",
    "plt.show()\n",
    "\n"
   ]
  },
  {
   "cell_type": "code",
   "execution_count": null,
   "metadata": {},
   "outputs": [],
   "source": [
    "print(family_snp_positions[start, :], family_snp_positions[end, :])"
   ]
  },
  {
   "cell_type": "code",
   "execution_count": null,
   "metadata": {},
   "outputs": [],
   "source": [
    "import numpy as np\n",
    "def estimate_parental_variants(final_states, family_genotypes):\n",
    "    m, n = family_genotypes.shape\n",
    "    parental_variants, cost, blame = -np.ones((4, n), dtype=np.int8), -np.ones((n,), dtype=int), -np.ones((m, n), dtype=float)\n",
    "    has_missing = 0\n",
    "    for i in range(n):\n",
    "        state, gen = final_states[:, i], tuple(family_genotypes[:, i])\n",
    "        \n",
    "        missing_indices = [i for i, x in enumerate(state) if x==-1]\n",
    "        \n",
    "        if len(missing_indices) == 0:\n",
    "            pv, v, b = loss.get_parental_variants(tuple(state), gen)\n",
    "            parental_variants[:, i] = pv\n",
    "            cost[i] = v\n",
    "            blame[:, i] = b\n",
    "        else:\n",
    "            has_missing += 1\n",
    "            all_possible_states = np.tile(state, (pow(2, len(missing_indices)), 1))\n",
    "            all_possible_states[:, missing_indices] = list(product(*[[0, 1]]*len(missing_indices)))\n",
    "\n",
    "            min_v = None\n",
    "            all_pvs, all_bs = [], []\n",
    "            for s in all_possible_states:\n",
    "                pv, v, b = loss.get_parental_variants(tuple(s), gen)\n",
    "                if min_v is None or v < min_v:\n",
    "                    min_v = v\n",
    "                    all_pvs, all_bs = [pv], [b]\n",
    "                elif v == min_v:\n",
    "                    all_pvs.append(pv)\n",
    "                    all_bs.append(b)\n",
    "\n",
    "            all_pvs, all_bs = np.asarray(all_pvs), np.asarray(all_bs)\n",
    "            parental_variants[np.all(all_pvs==-2, axis=0), i] = -2\n",
    "            parental_variants[np.all(all_pvs==0, axis=0), i] = 0\n",
    "            parental_variants[np.all(all_pvs==1, axis=0), i] = 1\n",
    "            cost[i] = min_v\n",
    "            \n",
    "            all_bs = np.sum(all_bs, axis=0)\n",
    "            if min_v == 0:\n",
    "                blame[:, i] = 0\n",
    "            else:\n",
    "                blame[:, i] = min_v*all_bs/np.sum(all_bs)\n",
    "            \n",
    "        if i%10000==0:\n",
    "            print(i, has_missing)\n",
    "    return parental_variants, cost, blame\n",
    "\n",
    "parental_variants, cost, blame = estimate_parental_variants(states, family_genotypes)       "
   ]
  },
  {
   "cell_type": "code",
   "execution_count": null,
   "metadata": {},
   "outputs": [],
   "source": [
    "import time\n",
    "import numpy as np\n",
    "from itertools import product\n",
    "\n",
    "def mask_states(family_genotypes, mult_factor, final_states, inheritance_states, loss, error_rate=0.001, smooth=5000):\n",
    "\n",
    "\tmasked_final_states = np.copy(final_states)\n",
    "\t# Now, do masking\n",
    "\tprev_time = time.time()\n",
    "\tm, n = family_genotypes.shape\n",
    "\tp, state_len = inheritance_states.p, inheritance_states.state_len\n",
    "\n",
    "\tfit = -np.ones((n,), dtype=int)\n",
    "\tprev_state = None\n",
    "\tprev_state_indices = None\n",
    "\tfor j in range(n): \n",
    "\t\tpos_gen = tuple(family_genotypes[:, j])\n",
    "\t\tcurrent_state = tuple(final_states[:, j])\n",
    "\n",
    "\t\tif current_state != prev_state:\n",
    "\t\t\tprev_state = current_state\n",
    "\t\t\tnum_unknowns = len([x for x in current_state if x == -1])\n",
    "\t\t\tif num_unknowns>0:\n",
    "\t\t\t\tprev_state_indices = []\n",
    "\t\t\t\tfor poss_itr in [iter(x) for x in product(*([[0, 1]]*num_unknowns))]:\n",
    "\t\t\t\t\tposs_state = tuple([x if x != -1 else next(poss_itr) for x in current_state])\n",
    "\t\t\t\t\tprev_state_indices.append(inheritance_states.index(poss_state))\n",
    "\t\t\telse:\n",
    "\t\t\t\tprev_state_indices = [inheritance_states.index(tuple(final_states[:, j]))]\n",
    "\n",
    "\t\tfit[j] = mult_factor[j]*(np.min(loss(pos_gen)[prev_state_indices])==1)\n",
    "        \n",
    "\tprint(np.unique(fit, return_counts=True))\n",
    "\n",
    "\n",
    "\tc = np.convolve(fit/m, np.ones(smooth,), mode='same')\n",
    "\tmasked = (c>(error_rate*smooth)).astype(np.int8)\n",
    "\tprint('Percent masked', 100*np.sum(masked)/n)\n",
    "\n",
    "\t# if a parental chromosome isn't inherited, then we don't know if it has a deletion\n",
    "\tmaternal_indices = range(4, state_len, 2)\n",
    "\tpaternal_indices = range(5, state_len, 2)\n",
    "\n",
    "\tm1_ninh = np.all(final_states[maternal_indices, :]!=0, axis=0)\n",
    "\tm2_ninh = np.all(final_states[maternal_indices, :]!=1, axis=0)\n",
    "\tp1_ninh = np.all(final_states[paternal_indices, :]!=0, axis=0)\n",
    "\tp2_ninh = np.all(final_states[paternal_indices, :]!=1, axis=0)\n",
    "\n",
    "\tmasked_final_states[0, m1_ninh] = -1\n",
    "\tmasked_final_states[1, m2_ninh] = -1\n",
    "\tmasked_final_states[2, p1_ninh] = -1\n",
    "\tmasked_final_states[3, p2_ninh] = -1\n",
    "\tmasked_final_states = np.append(masked_final_states, masked[np.newaxis, :], axis=0)\n",
    "\tprint('Percent never inherited', 100*np.sum(m1_ninh)/n, 100*np.sum(m2_ninh)/n, 100*np.sum(p1_ninh)/n, 100*np.sum(p2_ninh)/n)\n",
    "\n",
    "\tprint('Masking complete', time.time()-prev_time, 'sec') \n",
    "\treturn masked_final_states, c"
   ]
  },
  {
   "cell_type": "code",
   "execution_count": null,
   "metadata": {},
   "outputs": [],
   "source": [
    "# mask messy areas\n",
    "masked_final_states, f = mask_states(family_genotypes, mult_factor, final_states, inheritance_states, loss, error_rate=0.01)\n",
    "#masked_final_states[:, masked_final_states[-1, :]==1] = -1"
   ]
  },
  {
   "cell_type": "code",
   "execution_count": null,
   "metadata": {},
   "outputs": [],
   "source": [
    "import matplotlib.pyplot as plt\n",
    "\n",
    "plt.figure(figsize=(15, 5))\n",
    "plt.plot(f/1000)\n",
    "plt.plot(overall)\n",
    "plt.show()"
   ]
  },
  {
   "cell_type": "code",
   "execution_count": null,
   "metadata": {},
   "outputs": [],
   "source": [
    "smooth=5000\n",
    "c = np.convolve(np.sum(parental_variants==-2, axis=0), np.ones(smooth,), mode='same')/(smooth*m)\n",
    "d = np.convolve(np.sum(parental_variants==-1, axis=0), np.ones(smooth,), mode='same')/(smooth*m)\n",
    "\n",
    "plt.figure(figsize=(15, 5))\n",
    "plt.plot(a, label='deletion')\n",
    "plt.plot(b, label='unknown')\n",
    "plt.plot(c, label='deletion')\n",
    "plt.plot(d, label='unknown')\n",
    "#plt.plot(overall)\n",
    "#plt.ylim([0, 0.1])\n",
    "plt.axhline(0.01)\n",
    "plt.legend()\n",
    "plt.show()"
   ]
  },
  {
   "cell_type": "code",
   "execution_count": null,
   "metadata": {},
   "outputs": [],
   "source": [
    "print(np.sum(parental_variants==-1)/(4*parental_variants.shape[1]))"
   ]
  },
  {
   "cell_type": "code",
   "execution_count": null,
   "metadata": {},
   "outputs": [],
   "source": [
    "print(np.sum(blame==0)/(blame.shape[0]*blame.shape[1]))\n",
    "print(np.sum(parental_variants==0)/(parental_variants.shape[0]*parental_variants.shape[1]))\n"
   ]
  },
  {
   "cell_type": "code",
   "execution_count": null,
   "metadata": {},
   "outputs": [],
   "source": [
    "pos_lens = family_snp_positions[:, 1]-family_snp_positions[:, 0]\n",
    "print(pos_lens.shape)\n",
    "print(np.sum(parental_variants!=0))\n",
    "print(np.sum(mult_factor*np.sum(parental_variants!=0, axis=0)))\n",
    "print(np.sum(mult_factor[np.any(parental_variants!=0, axis=0)]))"
   ]
  },
  {
   "cell_type": "code",
   "execution_count": null,
   "metadata": {},
   "outputs": [],
   "source": [
    "import scipy.sparse as sparse\n",
    "\n",
    "chrom_length = chrom_lengths[chrom]\n",
    "nonzeros = np.sum(mult_factor*np.sum(parental_variants!=0, axis=0))\n",
    "data = np.zeros((nonzeros,), dtype=np.int8)\n",
    "row_ind = np.zeros((nonzeros,), dtype=int)\n",
    "col_ind = np.zeros((nonzeros,), dtype=int)\n",
    "\n",
    "data_index = 0\n",
    "for i, j in zip(*np.nonzero(parental_variants)):\n",
    "    pos_start, pos_end = family_snp_positions[j, :]\n",
    "    pos_length = pos_end - pos_start\n",
    "    \n",
    "    data[data_index:(data_index+pos_length)] = parental_variants[i, j]\n",
    "    row_ind[data_index:(data_index+pos_length)] = i\n",
    "    col_ind[data_index:(data_index+pos_length)] = range(pos_start, pos_end)\n",
    "    data_index += pos_length\n",
    "\n",
    "parental_variants_csc = sparse.csc_matrix((data, (row_ind, col_ind)), shape=(4, chrom_length))"
   ]
  },
  {
   "cell_type": "code",
   "execution_count": null,
   "metadata": {},
   "outputs": [],
   "source": [
    "print(np.nonzero(parental_variants)[0].shape)\n",
    "print(data[:5])\n",
    "print(parental_variants_csc.nnz)"
   ]
  },
  {
   "cell_type": "code",
   "execution_count": null,
   "metadata": {},
   "outputs": [],
   "source": [
    "import random\n",
    "j = random.choice(np.where(mult_factor*np.any(parental_variants!=0, axis=0)>1)[0])\n",
    "print(j, family_snp_positions[j, :])\n",
    "print(parental_variants[:, j])\n",
    "print(parental_variants_csc[:, family_snp_positions[j, 0]:family_snp_positions[j, 1]])"
   ]
  },
  {
   "cell_type": "code",
   "execution_count": null,
   "metadata": {},
   "outputs": [],
   "source": [
    "plt.figure(figsize=(15, 5))\n",
    "plt.imshow((parental_variants==-1)[:1000], aspect='auto')\n",
    "plt.show()"
   ]
  },
  {
   "cell_type": "code",
   "execution_count": null,
   "metadata": {},
   "outputs": [],
   "source": [
    "smooth=5000\n",
    "mo = np.convolve(blame[0, :], np.ones(smooth,), mode='same')/smooth\n",
    "d = np.convolve(blame[1, :], np.ones(smooth,), mode='same')/smooth\n",
    "c1 = np.convolve(blame[2, :], np.ones(smooth,), mode='same')/smooth\n",
    "c2 = np.convolve(blame[3, :], np.ones(smooth,), mode='same')/smooth\n",
    "c3 = np.convolve(blame[4, :], np.ones(smooth,), mode='same')/smooth\n",
    "overall = np.convolve(np.sum(blame, axis=0), np.ones(smooth,), mode='same')/smooth"
   ]
  },
  {
   "cell_type": "code",
   "execution_count": null,
   "metadata": {},
   "outputs": [],
   "source": [
    "import matplotlib.pyplot as plt\n",
    "\n",
    "plt.figure(figsize=(15, 7))\n",
    "\n",
    "ax1 = plt.subplot(2, 1, 1)\n",
    "plt.plot(mo, label='mom')\n",
    "plt.plot(d, label='dad')\n",
    "plt.plot(c1, label='child1')\n",
    "plt.plot(c2, label='child2')\n",
    "plt.plot(c3, label='child3')\n",
    "plt.plot(overall, label='overall', color='black')\n",
    "plt.axhline(0.01, color='black')\n",
    "plt.legend()\n",
    "plt.ylim([0, 0.1])\n",
    "\n",
    "all_convolve = np.vstack((mo, d, c1, c2, c3))\n",
    "\n",
    "plt.subplot(2, 1, 2, sharex=ax1)\n",
    "plt.imshow(np.vstack((masked_final_states[-1, :], np.sum(all_convolve>0.01, axis=0)>1)), aspect='auto')\n",
    "\n",
    "plt.show()"
   ]
  },
  {
   "cell_type": "code",
   "execution_count": null,
   "metadata": {},
   "outputs": [],
   "source": []
  },
  {
   "cell_type": "code",
   "execution_count": null,
   "metadata": {},
   "outputs": [],
   "source": [
    "\n",
    "plt.figure(figsize=(15, 10))\n",
    "\n",
    "ax1 = plt.subplot(3, 1, 1)\n",
    "plt.plot(mo, label='mom')\n",
    "plt.plot(d, label='dad')\n",
    "plt.plot(c1, label='child1')\n",
    "plt.plot(c2, label='child2')\n",
    "plt.plot(c3, label='child3')\n",
    "#plt.plot(b)\n",
    "plt.legend()\n",
    "\n",
    "plt.subplot(3, 1, 2, sharex=ax1)\n",
    "plt.imshow(final_states, aspect='auto')\n",
    "\n",
    "plt.subplot(3, 1, 3, sharex=ax1)\n",
    "plt.imshow(masked_final_states, aspect='auto')\n",
    "\n",
    "plt.show()"
   ]
  },
  {
   "cell_type": "code",
   "execution_count": null,
   "metadata": {},
   "outputs": [],
   "source": [
    "smooth=5000\n",
    "mo = np.convolve(blame[0, :], np.ones(smooth,), mode='same')/smooth\n",
    "d = np.convolve(blame[1, :], np.ones(smooth,), mode='same')/smooth\n",
    "c1 = np.convolve(blame[2, :], np.ones(smooth,), mode='same')/smooth\n",
    "c2 = np.convolve(blame[3, :], np.ones(smooth,), mode='same')/smooth\n",
    "c3 = np.convolve(blame[4, :], np.ones(smooth,), mode='same')/smooth\n",
    "overall = np.convolve(np.sum(blame, axis=0), np.ones(smooth,), mode='same')/smooth\n",
    "\n",
    "plt.figure(figsize=(15, 10))\n",
    "\n",
    "ax1 = plt.subplot(3, 1, 1)\n",
    "plt.plot(mo, label='mom')\n",
    "plt.plot(d, label='dad')\n",
    "plt.plot(c1, label='child1')\n",
    "plt.plot(c2, label='child2')\n",
    "plt.plot(c3, label='child3')\n",
    "#plt.plot(b)\n",
    "plt.legend()\n",
    "\n",
    "plt.subplot(3, 1, 2, sharex=ax1)\n",
    "plt.imshow(final_states, aspect='auto')\n",
    "\n",
    "plt.subplot(3, 1, 3, sharex=ax1)\n",
    "plt.imshow(masked_final_states, aspect='auto')\n",
    "\n",
    "plt.show()"
   ]
  },
  {
   "cell_type": "code",
   "execution_count": null,
   "metadata": {},
   "outputs": [],
   "source": [
    "m = 5\n",
    "smooth = 5000"
   ]
  },
  {
   "cell_type": "code",
   "execution_count": null,
   "metadata": {},
   "outputs": [],
   "source": [
    "# family-wise unphased mendelian\n",
    "unique_gens, indices = np.unique(family_genotypes, axis=1, return_inverse=True)\n",
    "\n",
    "parents_to_children_with_del = {\n",
    "    (-1, -1): [-1],\n",
    "    (-1, 0): [-1, 0],\n",
    "    (-1, 1): [0, 2],\n",
    "    (-1, 2): [-1, 2],\n",
    "    (0, 0): [-1, 0],\n",
    "    (0, 1): [0, 1, 2],\n",
    "    (0, 2): [-1, 0, 1, 2],\n",
    "    (1, 1): [0, 1, 2],\n",
    "    (1, 2): [0, 1, 2],\n",
    "    (2, 2): [-1, 2]\n",
    "    \n",
    "}\n",
    "\n",
    "parents_to_children_without_del = {\n",
    "    (0, 0): [0],\n",
    "    (0, 1): [0, 1],\n",
    "    (0, 2): [1],\n",
    "    (1, 1): [0, 1, 2],\n",
    "    (1, 2): [1, 2],\n",
    "    (2, 2): [2]\n",
    "    \n",
    "}\n",
    "parental_genotypes = list(product(*[[0, 1, 2]]*2))\n",
    "\n",
    "# without del\n",
    "trio_perfect_match_gens_nodel = set()\n",
    "trios_could_be_mendelian = np.zeros((family_genotypes.shape[1],), dtype=int)\n",
    "for pg in parental_genotypes:\n",
    "    trio_perfect_match_gens_nodel.update([pg + cg for cg in product(*[parents_to_children_without_del[(min(pg), max(pg))]]*(m-2))])\n",
    "\n",
    "for i, gen in enumerate(unique_gens.T):\n",
    "    missing_indices = [i for i, x in enumerate(gen) if x==-1]\n",
    "    all_possible_gens = np.tile(gen, (pow(4, len(missing_indices)), 1))\n",
    "    all_possible_gens[:, missing_indices] = list(product(*[[-1, 0, 1, 2]]*len(missing_indices)))\n",
    "    #print(all_possible_gens)\n",
    "    \n",
    "    if np.any([tuple(g) in trio_perfect_match_gens_nodel for g in all_possible_gens]):\n",
    "        trios_could_be_mendelian[indices==i] = 1\n",
    "\n"
   ]
  },
  {
   "cell_type": "code",
   "execution_count": null,
   "metadata": {},
   "outputs": [],
   "source": [
    "print(len(trio_perfect_match_gens_del), len(trio_perfect_match_gens_nodel))"
   ]
  },
  {
   "cell_type": "code",
   "execution_count": null,
   "metadata": {},
   "outputs": [],
   "source": [
    "smooth = 500*4\n",
    "smoothed_cost = np.convolve(cost>0, np.ones(smooth,), mode='same')/smooth\n",
    "smoothed_md_nodel = np.convolve(1-trios_could_be_mendelian, np.ones(smooth,), mode='same')/smooth\n",
    "smoothed_final = np.convolve((cost>0) - 1 + trios_could_be_mendelian, np.ones(smooth,), mode='same')/smooth\n",
    "\n",
    "plt.figure(figsize=(15, 10))\n",
    "\n",
    "ax1 = plt.subplot(2, 1, 1)\n",
    "plt.plot(smoothed_md_nodel, label='unphased mendelian no del', alpha=0.5)\n",
    "plt.plot(smoothed_cost, label='phased family mendelian', alpha=0.5)\n",
    "plt.plot(smoothed_cost-smoothed_md_nodel)\n",
    "plt.plot(smoothed_final)\n",
    "\n",
    "#plt.plot(mo, label='mom')\n",
    "#plt.plot(d, label='dad')\n",
    "#plt.plot(c1, label='child1')\n",
    "#plt.plot(c2, label='child2')\n",
    "#plt.plot(c3, label='child3')\n",
    "plt.axhline(0.01)\n",
    "plt.legend()\n",
    "\n",
    "to_plot = []\n",
    "for smooth in [1, 50, 100, 500, 1000, 5000]:\n",
    "    smooth = smooth*4\n",
    "    smoothed_cost = np.convolve(cost>0, np.ones(smooth,), mode='same')/smooth\n",
    "    smoothed_md_nodel = np.convolve(1-trios_could_be_mendelian, np.ones(smooth,), mode='same')/smooth\n",
    "    to_plot.append(smoothed_cost-smoothed_md_nodel>0.01)\n",
    "\n",
    "\n",
    "plt.subplot(2, 1, 2, sharex=ax1)\n",
    "plt.imshow(np.vstack((final_states, to_plot[0], to_plot[1], to_plot[2], to_plot[3], to_plot[4], to_plot[5])), aspect='auto')\n",
    "\n",
    "plt.show()"
   ]
  },
  {
   "cell_type": "code",
   "execution_count": null,
   "metadata": {},
   "outputs": [],
   "source": [
    "print(np.sum(1-trios_could_be_mendelian)/2/trios_could_be_mendelian.shape)\n",
    "print(np.sum(cost>0)/2/cost.shape)\n",
    "print((np.sum(parental_variants[:, cost==0]==-1) + m*np.sum(cost!=0))/2/(m*cost.shape[0]))"
   ]
  },
  {
   "cell_type": "code",
   "execution_count": null,
   "metadata": {},
   "outputs": [],
   "source": [
    "print(np.sum(smoothed_md_del > 0.01)/smoothed_md_del.shape)\n",
    "\n",
    "plt.figure(figsize=(15, 5))\n",
    "plt.hist(smoothed_md_del, bins=70)\n",
    "plt.xlim([0, 0.1])\n",
    "plt.show()"
   ]
  },
  {
   "cell_type": "code",
   "execution_count": null,
   "metadata": {},
   "outputs": [],
   "source": [
    "\n",
    "smooth=5000\n",
    "#mo = np.convolve(blame[0, :], np.ones(smooth,), mode='same')/smooth\n",
    "#d = np.convolve(blame[1, :], np.ones(smooth,), mode='same')/smooth\n",
    "#c1 = np.convolve(blame[2, :], np.ones(smooth,), mode='same')/smooth\n",
    "#c2 = np.convolve(blame[3, :], np.ones(smooth,), mode='same')/smooth\n",
    "#c3 = np.convolve(blame[4, :], np.ones(smooth,), mode='same')/smooth\n",
    "#overall = np.convolve(np.sum(blame, axis=0), np.ones(smooth,), mode='same')/smooth\n",
    "\n",
    "\n",
    "\n",
    "plt.figure(figsize=(15, 10))\n",
    "\n",
    "ax1 = plt.subplot(2, 1, 1)\n",
    "plt.plot(mo, label='mom')\n",
    "plt.plot(d, label='dad')\n",
    "plt.plot(c1, label='child1')\n",
    "plt.plot(c2, label='child2')\n",
    "plt.plot(c3, label='child3')\n",
    "#plt.plot(b)\n",
    "plt.legend()\n",
    "\n",
    "plt.subplot(2, 1, 2, sharex=ax1)\n",
    "plt.imshow(final_states, aspect='auto')\n",
    "\n",
    "plt.show()"
   ]
  },
  {
   "cell_type": "code",
   "execution_count": null,
   "metadata": {},
   "outputs": [],
   "source": [
    "print(np.sum(blame[0, :]==1), np.sum(blame[1, :]==1))\n",
    "print(np.sum(blame[2, :]==1), np.sum(blame[3, :]==1), np.sum(blame[4, :]==1))"
   ]
  },
  {
   "cell_type": "code",
   "execution_count": null,
   "metadata": {},
   "outputs": [],
   "source": [
    "print('hello')"
   ]
  },
  {
   "cell_type": "code",
   "execution_count": null,
   "metadata": {},
   "outputs": [],
   "source": [
    "smooth=500\n",
    "mo = np.convolve(blame[0, :], np.ones(smooth,), mode='same')/smooth\n",
    "d = np.convolve(blame[1, :], np.ones(smooth,), mode='same')/smooth\n",
    "c1 = np.convolve(blame[2, :], np.ones(smooth,), mode='same')/smooth\n",
    "c2 = np.convolve(blame[3, :], np.ones(smooth,), mode='same')/smooth\n",
    "c3 = np.convolve(blame[4, :], np.ones(smooth,), mode='same')/smooth\n",
    "\n",
    "\n",
    "plt.figure(figsize=(15, 5))\n",
    "\n",
    "plt.plot(mo, label='mom')\n",
    "plt.plot(d, label='dad')\n",
    "plt.plot(c1, label='child1')\n",
    "plt.plot(c2, label='child2')\n",
    "plt.plot(c3, label='child3')\n",
    "plt.legend()\n",
    "plt.show()"
   ]
  },
  {
   "cell_type": "code",
   "execution_count": null,
   "metadata": {},
   "outputs": [],
   "source": [
    "plt.figure(figsize=(15, 5))\n",
    "plt.imshow(final_states, aspect='auto')\n",
    "plt.show()\n",
    "print(np.sum(np.any(final_states[:, 1:] != final_states[:, :-1], axis=0)))"
   ]
  },
  {
   "cell_type": "code",
   "execution_count": null,
   "metadata": {},
   "outputs": [],
   "source": [
    "plt.figure(figsize=(15, 5))\n",
    "plt.imshow(masked_final_states, aspect='auto')\n",
    "plt.show()\n",
    "print(np.sum(np.any(masked_final_states[4:, 1:] != masked_final_states[4:, :-1], axis=0)))"
   ]
  },
  {
   "cell_type": "code",
   "execution_count": null,
   "metadata": {},
   "outputs": [],
   "source": [
    "plt.figure(figsize=(15, 5))\n",
    "plt.imshow(family_genotypes[:50000, :], aspect='auto')\n",
    "plt.show()\n"
   ]
  },
  {
   "cell_type": "code",
   "execution_count": null,
   "metadata": {},
   "outputs": [],
   "source": [
    "plt.figure(figsize=(15, 5))\n",
    "plt.imshow(final_states, aspect='auto')\n",
    "plt.show()\n"
   ]
  },
  {
   "cell_type": "code",
   "execution_count": null,
   "metadata": {},
   "outputs": [],
   "source": [
    "import numpy as np\n",
    "print(np.sum((family_genotypes[2, :]==1) & (family_genotypes[[0, 1, 3], :]==0)))\n",
    "print(np.sum((family_genotypes[3, :]==1) & (family_genotypes[[0, 1, 2], :]==0)))"
   ]
  },
  {
   "cell_type": "code",
   "execution_count": null,
   "metadata": {},
   "outputs": [],
   "source": [
    "print(wgs_data.chrom_length)"
   ]
  },
  {
   "cell_type": "code",
   "execution_count": null,
   "metadata": {},
   "outputs": [],
   "source": [
    "93326/family_genotypes.shape[1]"
   ]
  },
  {
   "cell_type": "code",
   "execution_count": null,
   "metadata": {},
   "outputs": [],
   "source": [
    "print(np.sum((family_genotypes[2, :]==1) & np.all(family_genotypes[[0, 1, 3], :]==0, axis=0))/family_genotypes.shape[1])\n",
    "print(np.sum((family_genotypes[3, :]==1) & np.all(family_genotypes[[0, 1, 2], :]==0, axis=0))/family_genotypes.shape[1])"
   ]
  },
  {
   "cell_type": "code",
   "execution_count": null,
   "metadata": {},
   "outputs": [],
   "source": [
    "print(np.sum(np.all(family_genotypes==0, axis=0))/family_genotypes.shape[1])"
   ]
  },
  {
   "cell_type": "code",
   "execution_count": null,
   "metadata": {},
   "outputs": [],
   "source": []
  }
 ],
 "metadata": {
  "kernelspec": {
   "display_name": "Python 3",
   "language": "python",
   "name": "python3"
  },
  "language_info": {
   "codemirror_mode": {
    "name": "ipython",
    "version": 3
   },
   "file_extension": ".py",
   "mimetype": "text/x-python",
   "name": "python",
   "nbconvert_exporter": "python",
   "pygments_lexer": "ipython3",
   "version": "3.7.3"
  }
 },
 "nbformat": 4,
 "nbformat_minor": 2
}
