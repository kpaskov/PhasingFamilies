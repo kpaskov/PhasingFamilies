{
 "cells": [
  {
   "cell_type": "code",
   "execution_count": 5,
   "metadata": {},
   "outputs": [],
   "source": [
    "from os import listdir\n",
    "import numpy as np"
   ]
  },
  {
   "cell_type": "code",
   "execution_count": 6,
   "metadata": {},
   "outputs": [],
   "source": [
    "phase_dir = '../phased_spark_quads'\n",
    "chroms = [str(x) for x in range(1, 23)]\n",
    "max_end_pos = None"
   ]
  },
  {
   "cell_type": "code",
   "execution_count": 9,
   "metadata": {},
   "outputs": [
    {
     "name": "stdout",
     "output_type": "stream",
     "text": [
      "Families passed 4060\n"
     ]
    }
   ],
   "source": [
    "is_ok = 0\n",
    "for filename in listdir(phase_dir):\n",
    "    if filename.endswith('.phased.txt'):\n",
    "        has_chrom = np.zeros((len(chroms),), dtype=bool)\n",
    "        end_pos = -np.ones((len(chroms),), dtype=int)\n",
    "        with open('%s/%s' % (phase_dir, filename), 'r')  as f:\n",
    "            next(f) # skip header\n",
    "            for line in f:\n",
    "                pieces = line.strip().split('\\t')\n",
    "                line_chrom = pieces[0][3:]\n",
    "                if line_chrom in chroms:\n",
    "                    chrom_index = chroms.index(line_chrom)\n",
    "                    has_chrom[chrom_index] = True\n",
    "                    end_pos[chrom_index] = np.maximum(end_pos[chrom_index], int(pieces[-1]))\n",
    "        \n",
    "        if max_end_pos is None:\n",
    "            max_end_pos = end_pos\n",
    "            \n",
    "        if np.any(~has_chrom):\n",
    "            print('Missing chrom', filename)\n",
    "        elif np.any(max_end_pos != end_pos):\n",
    "            print('Chromosome ends early', filename, \n",
    "                  [chroms[i] for i in np.where(max_end_pos != end_pos)[0]])\n",
    "        else:\n",
    "            is_ok += 1\n",
    "print('Families passed', is_ok)\n"
   ]
  }
 ],
 "metadata": {
  "kernelspec": {
   "display_name": "Python 3",
   "language": "python",
   "name": "python3"
  },
  "language_info": {
   "codemirror_mode": {
    "name": "ipython",
    "version": 3
   },
   "file_extension": ".py",
   "mimetype": "text/x-python",
   "name": "python",
   "nbconvert_exporter": "python",
   "pygments_lexer": "ipython3",
   "version": "3.7.3"
  }
 },
 "nbformat": 4,
 "nbformat_minor": 2
}
