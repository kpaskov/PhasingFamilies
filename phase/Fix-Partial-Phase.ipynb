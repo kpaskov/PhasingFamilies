{
 "cells": [
  {
   "cell_type": "code",
   "execution_count": 12,
   "metadata": {},
   "outputs": [],
   "source": [
    "from os import listdir\n",
    "import numpy as np\n",
    "import matplotlib.pyplot as plt"
   ]
  },
  {
   "cell_type": "code",
   "execution_count": 4,
   "metadata": {},
   "outputs": [],
   "source": [
    "phase_dir = '../phased_ihart'\n",
    "chroms = [str(x) for x in range(1, 23)]\n",
    "max_end_pos = None"
   ]
  },
  {
   "cell_type": "code",
   "execution_count": 6,
   "metadata": {},
   "outputs": [
    {
     "name": "stdout",
     "output_type": "stream",
     "text": [
      "Missing chrom AU0453.phased.txt\n",
      "Missing chrom AU1921.phased.txt\n",
      "Missing chrom AU1072.phased.txt\n",
      "Empty file AU1397.phased.txt\n",
      "Missing chrom AU1397.phased.txt\n",
      "Empty file AU3779.phased.txt\n",
      "Missing chrom AU3779.phased.txt\n",
      "Missing chrom AU0897.phased.txt\n",
      "Families passed 858\n"
     ]
    }
   ],
   "source": [
    "is_ok = 0\n",
    "for filename in listdir(phase_dir):\n",
    "    if filename.endswith('.phased.txt'):\n",
    "        has_chrom = np.zeros((len(chroms),), dtype=bool)\n",
    "        end_pos = -np.ones((len(chroms),), dtype=int)\n",
    "        with open('%s/%s' % (phase_dir, filename), 'r')  as f:\n",
    "            try:\n",
    "                next(f) # skip header\n",
    "                for line in f:\n",
    "                    pieces = line.strip().split('\\t')\n",
    "                    line_chrom = pieces[0][3:]\n",
    "                    if line_chrom in chroms:\n",
    "                        chrom_index = chroms.index(line_chrom)\n",
    "                        has_chrom[chrom_index] = True\n",
    "                        end_pos[chrom_index] = np.maximum(end_pos[chrom_index], int(pieces[-1]))\n",
    "            except:\n",
    "                print('Empty file', filename)\n",
    "        \n",
    "        if max_end_pos is None:\n",
    "            max_end_pos = end_pos\n",
    "            \n",
    "        if np.any(~has_chrom):\n",
    "            print('Missing chrom', filename)\n",
    "        elif np.any(max_end_pos != end_pos):\n",
    "            print('Chromosome ends early', filename, \n",
    "                  [chroms[i] for i in np.where(max_end_pos != end_pos)[0]])\n",
    "        else:\n",
    "            is_ok += 1\n",
    "print('Families passed', is_ok)\n"
   ]
  },
  {
   "cell_type": "code",
   "execution_count": 10,
   "metadata": {},
   "outputs": [],
   "source": [
    "file_to_uncertain = dict()\n",
    "for filename in listdir(phase_dir):\n",
    "    if filename.endswith('.phased.txt'):\n",
    "        states = []\n",
    "        with open('%s/%s' % (phase_dir, filename), 'r')  as f:\n",
    "            header = next(f).strip().split('\\t')[1:-2] # skip header\n",
    "            states = []\n",
    "            chroms = []\n",
    "            starts, ends = [], []\n",
    "            for line in f:\n",
    "                pieces = line.strip().split('\\t')\n",
    "                chroms.append(int(pieces[0][3:]))\n",
    "                states.append(list(map(int, pieces[1:-2])))\n",
    "                start, end = int(pieces[-2]), int(pieces[-1])\n",
    "                starts.append(start)\n",
    "                ends.append(end)\n",
    "                assert len(states[-1]) == len(header)\n",
    "        states = np.array(states).T\n",
    "        chroms = np.array(chroms)\n",
    "        starts = np.array(starts)\n",
    "        ends = np.array(ends)\n",
    "        mult = ends-starts\n",
    "        file_to_uncertain[filename] = np.sum(mult[np.any(states==-1, axis=0)])/np.sum(mult)\n"
   ]
  },
  {
   "cell_type": "code",
   "execution_count": 17,
   "metadata": {},
   "outputs": [
    {
     "data": {
      "image/png": "[encoded data removed]",
      "text/plain": [
       "<Figure size 432x288 with 1 Axes>"
      ]
     },
     "metadata": {
      "needs_background": "light"
     },
     "output_type": "display_data"
    }
   ],
   "source": [
    "plt.hist(file_to_uncertain.values(), alpha=0.5, bins=np.arange(0, 0.03, 0.001))\n",
    "plt.show()"
   ]
  },
  {
   "cell_type": "code",
   "execution_count": null,
   "metadata": {},
   "outputs": [],
   "source": []
  }
 ],
 "metadata": {
  "kernelspec": {
   "display_name": "Python 3",
   "language": "python",
   "name": "python3"
  }
 },
 "nbformat": 4,
 "nbformat_minor": 2
}
