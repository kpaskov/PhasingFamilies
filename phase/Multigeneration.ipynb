{
 "cells": [
  {
   "cell_type": "code",
   "execution_count": 1,
   "metadata": {},
   "outputs": [
    {
     "data": {
      "text/plain": [
       "<module 'viterbi' from '/Users/kelley/Projects/PhasingFamilies/phase/viterbi.py'>"
      ]
     },
     "execution_count": 1,
     "metadata": {},
     "output_type": "execute_result"
    }
   ],
   "source": [
    "import sys\n",
    "import json\n",
    "from os import listdir\n",
    "from itertools import product\n",
    "import importlib\n",
    "import matplotlib.pyplot as plt\n",
    "import numpy as np\n",
    "\n",
    "import input_output\n",
    "importlib.reload(input_output)\n",
    "import inheritance_states\n",
    "importlib.reload(inheritance_states)\n",
    "import transition_matrices\n",
    "importlib.reload(transition_matrices)\n",
    "import genotypes\n",
    "importlib.reload(genotypes)\n",
    "import losses\n",
    "importlib.reload(losses)\n",
    "import viterbi\n",
    "importlib.reload(viterbi)"
   ]
  },
  {
   "cell_type": "code",
   "execution_count": 2,
   "metadata": {},
   "outputs": [],
   "source": [
    "# Read in command line arguments\n",
    "chrom = 'X'\n",
    "ped_file = '../data/v34.vcf.ped'\n",
    "#ped_file = '../data/Ancestry Data Files/AncestryDNA.ped'\n",
    "#ped_file = '../data/spark.ped.quads.ped'\n",
    "#ped_file = '../data/spark.ped'\n",
    "#\n",
    "#data_dir = '../split_gen_ancestry'\n",
    "#param_file = '../parameter_estimation/params/ancestry_params_ext.json'\n",
    "#data_dir = '../split_gen_spark'\n",
    "#param_file = '../parameter_estimation/params/spark_params_ext.json'\n",
    "#assembly = '38'\n",
    "#detect_denovos = False\n",
    "\n",
    "data_dir = '../split_gen_ihart'\n",
    "param_file = '../parameter_estimation/params/ihart_multiloss_params.json'\n",
    "num_loss_regions = 2\n",
    "assembly = '37'\n",
    "detect_deletions = True\n",
    "\n",
    "#data_dir = '../split_gen_ihart_23andme'\n",
    "#param_file = '../parameter_estimation/23andme_params.json'\n",
    "\n",
    "#data_dir = '../split_gen_ihart_chip'\n",
    "#param_file = '../parameter_estimation/ihart_chip_params.json'\n",
    "\n",
    "batch_size = None\n",
    "batch_num = None\n",
    "batch_offset = None\n",
    "\n",
    "# set up filenames\n",
    "sample_file = '%s/chr.%s.gen.samples.txt' % (data_dir, chrom)\n",
    "coord_file = '%s/chr.%s.gen.coordinates.npy' % (data_dir,  chrom)\n",
    "gen_files = sorted([f for f in listdir(data_dir) if ('chr.%s.' % chrom) in f and 'gen.npz' in f])\n",
    "\n",
    "if param_file is not None:\n",
    "    with open(param_file, 'r') as f:\n",
    "        params = json.load(f)\n",
    "else:\n",
    "    params = estimate_parameters.error_parameters(data_dir, ped_file, chrom)"
   ]
  },
  {
   "cell_type": "code",
   "execution_count": 3,
   "metadata": {},
   "outputs": [
    {
     "name": "stdout",
     "output_type": "stream",
     "text": [
      "families pulled 869\n"
     ]
    }
   ],
   "source": [
    "# pull families of interest\n",
    "families = input_output.pull_families(sample_file, ped_file)"
   ]
  },
  {
   "cell_type": "code",
   "execution_count": 20,
   "metadata": {},
   "outputs": [
    {
     "name": "stdout",
     "output_type": "stream",
     "text": [
      "family AU0895 ['AU0895202', 'AU0895201', 'AU0895301', 'AU0895305', 'AU0895302']\n"
     ]
    }
   ],
   "source": [
    "import random\n",
    "\n",
    "family = random.choice(families)\n",
    "#family = [f for f in families if f.id=='AU0197'][0]\n",
    "print('family', family.id, family.individuals)"
   ]
  },
  {
   "cell_type": "code",
   "execution_count": 21,
   "metadata": {},
   "outputs": [
    {
     "name": "stdout",
     "output_type": "stream",
     "text": [
      "genotypes (993, 5)\n"
     ]
    }
   ],
   "source": [
    "# create genotypes\n",
    "gens = genotypes.Genotypes(len(family))"
   ]
  },
  {
   "cell_type": "code",
   "execution_count": 32,
   "metadata": {},
   "outputs": [
    {
     "name": "stdout",
     "output_type": "stream",
     "text": [
      "inheritance states (512, 11)\n",
      "transitions (512, 21)\n",
      "AU0895202\t0/0\t\t0/1\t\t1/1\t\t./.\n",
      "0/0\t0.00-0.00\t3.80-2.50\t5.86-5.85\t3.43-2.24\n",
      "0/1\t2.26-1.33\t0.00-0.04\t2.76-1.79\t3.20-1.82\n",
      "1/1\t5.72-3.89\t3.57-2.07\t0.00-0.01\t3.28-2.40\n",
      "-/0\t0.00-0.00\t3.80-2.50\t5.86-5.85\t3.43-2.24\n",
      "-/1\t5.72-3.89\t3.57-2.07\t0.00-0.01\t3.28-2.40\n",
      "-/-\t3.57-2.07\t5.79-4.87\t3.80-2.50\t0.00-0.00\n",
      "AU0895201\t0/0\t\t0/1\t\t1/1\t\t./.\n",
      "0/0\t0.00-0.00\t3.80-2.50\t5.74-5.37\t3.48-2.27\n",
      "0/1\t2.26-1.33\t0.00-0.04\t2.86-1.75\t3.13-1.76\n",
      "1/1\t5.75-3.90\t3.57-2.07\t0.00-0.01\t3.47-2.47\n",
      "-/0\t0.00-0.00\t3.80-2.50\t5.74-5.37\t3.48-2.27\n",
      "-/1\t5.75-3.90\t3.57-2.07\t0.00-0.01\t3.47-2.47\n",
      "-/-\t3.57-2.07\t5.75-4.63\t3.80-2.50\t0.00-0.00\n",
      "AU0895301\t0/0\t\t0/1\t\t1/1\t\t./.\n",
      "0/0\t0.00-0.00\t3.82-2.50\t5.86-4.18\t3.57-2.27\n",
      "0/1\t2.83-2.01\t0.00-0.01\t3.41-2.12\t3.46-2.16\n",
      "1/1\t4.81-3.19\t3.63-2.11\t0.00-0.01\t3.42-2.30\n",
      "-/0\t0.00-0.00\t3.82-2.50\t5.86-4.18\t3.57-2.27\n",
      "-/1\t4.81-3.19\t3.63-2.11\t0.00-0.01\t3.42-2.30\n",
      "-/-\t3.63-2.11\t5.33-3.68\t3.82-2.50\t0.00-0.00\n",
      "AU0895305\t0/0\t\t0/1\t\t1/1\t\t./.\n",
      "0/0\t0.00-0.00\t3.73-2.48\t5.90-4.21\t3.52-2.25\n",
      "0/1\t2.99-1.97\t0.00-0.01\t3.56-2.06\t3.50-2.30\n",
      "1/1\t4.68-3.09\t3.42-1.97\t0.00-0.01\t3.36-2.18\n",
      "-/0\t0.00-0.00\t3.73-2.48\t5.90-4.21\t3.52-2.25\n",
      "-/1\t4.68-3.09\t3.42-1.97\t0.00-0.01\t3.36-2.18\n",
      "-/-\t3.42-1.97\t5.29-3.65\t3.73-2.48\t0.00-0.01\n",
      "AU0895302\t0/0\t\t0/1\t\t1/1\t\t./.\n",
      "0/0\t0.00-0.00\t3.80-2.65\t5.56-4.23\t3.48-2.19\n",
      "0/1\t2.78-1.79\t0.00-0.01\t3.12-2.09\t3.29-2.10\n",
      "1/1\t4.64-2.95\t3.57-2.07\t0.00-0.01\t3.31-2.03\n",
      "-/0\t0.00-0.00\t3.80-2.65\t5.56-4.23\t3.48-2.19\n",
      "-/1\t4.64-2.95\t3.57-2.07\t0.00-0.01\t3.31-2.03\n",
      "-/-\t3.57-2.07\t5.10-3.59\t3.80-2.65\t0.00-0.00\n",
      "losses (512, 993)\n",
      "perfect matches 618\n",
      "perfect_match_indices (512, 16)\n"
     ]
    }
   ],
   "source": [
    "importlib.reload(inheritance_states)\n",
    "importlib.reload(transition_matrices)\n",
    "importlib.reload(losses)\n",
    "\n",
    "# create inheritance states\n",
    "if chrom == 'X':\n",
    "    states = inheritance_states.InheritanceStates(family, detect_deletions, True, num_loss_regions)\n",
    "else:\n",
    "    states = inheritance_states.InheritanceStates(family, detect_deletions, detect_deletions, num_loss_regions)\n",
    "\n",
    "# create transition matrix\n",
    "transitions = transition_matrices.TransitionMatrix(states, params)\n",
    "                \n",
    "# create loss function\n",
    "loss = losses.LazyLoss(states, gens, family, params, num_loss_regions)\n"
   ]
  },
  {
   "cell_type": "code",
   "execution_count": 33,
   "metadata": {},
   "outputs": [
    {
     "name": "stdout",
     "output_type": "stream",
     "text": [
      "chrom shape only SNPs (2853735,)\n"
     ]
    }
   ],
   "source": [
    "import input_output\n",
    "importlib.reload(input_output)\n",
    "\n",
    "# get ready to pull processed WGS data \n",
    "wgs_data = input_output.WGSData(data_dir, gen_files, coord_file, sample_file, ped_file, chrom, assembly)"
   ]
  },
  {
   "cell_type": "code",
   "execution_count": 34,
   "metadata": {
    "scrolled": true
   },
   "outputs": [
    {
     "name": "stdout",
     "output_type": "stream",
     "text": [
      "all homref 0.9523431573008706\n",
      "all homref or missing 0.9523431573008706\n",
      "n 269204\n",
      "[[        1     60215]\n",
      " [    60215     60216]\n",
      " [    60216     60336]\n",
      " ...\n",
      " [155255095 155259521]\n",
      " [155259521 155259522]\n",
      " [155259522 155270560]]\n",
      "[[        1     60215]\n",
      " [    60215     60216]\n",
      " [    60216     60336]\n",
      " ...\n",
      " [155255095 155259521]\n",
      " [155259521 155259522]\n",
      " [155259522 155270560]]\n",
      "[19  1 12 ... 34  1 10]\n",
      "Data pulled\n"
     ]
    }
   ],
   "source": [
    "# pull genotype data for this family\n",
    "family_genotypes, family_snp_positions, mult_factor = wgs_data.pull_data_for_individuals(family.individuals)\n",
    "print('Data pulled')"
   ]
  },
  {
   "cell_type": "code",
   "execution_count": 35,
   "metadata": {},
   "outputs": [
    {
     "name": "stdout",
     "output_type": "stream",
     "text": [
      "Forward sweep complete 38.480562925338745 sec\n"
     ]
    }
   ],
   "source": [
    "# forward sweep\n",
    "v_cost = viterbi.viterbi_forward_sweep(family_genotypes, family_snp_positions, mult_factor, states, transitions, loss)\n",
    "\n",
    "\n"
   ]
  },
  {
   "cell_type": "code",
   "execution_count": 36,
   "metadata": {},
   "outputs": [
    {
     "name": "stdout",
     "output_type": "stream",
     "text": [
      "[[           inf 3.05716085e+01 1.00452362e+01 ... 3.54986417e+04\n",
      "  3.55228371e+04 3.54995116e+04]\n",
      " [           inf 2.38382441e+01 9.91603397e+00 ... 3.54923661e+04\n",
      "  3.55096975e+04 3.54932730e+04]\n",
      " [           inf 3.05716085e+01 1.00452362e+01 ... 3.54993225e+04\n",
      "  3.55246678e+04 3.55031104e+04]\n",
      " ...\n",
      " [3.62356600e-01 4.29837052e-01 6.58694594e-01 ... 3.54823219e+04\n",
      "  3.54845251e+04 3.54847158e+04]\n",
      " [1.95280001e-02 2.53428314e-02 3.76770468e-02 ... 3.54911954e+04\n",
      "  3.54941901e+04 3.54942004e+04]\n",
      " [3.62356600e-01 4.29837052e-01 6.58694594e-01 ... 3.54862728e+04\n",
      "  3.54883450e+04 3.54885357e+04]]\n"
     ]
    }
   ],
   "source": [
    "print(v_cost)"
   ]
  },
  {
   "cell_type": "code",
   "execution_count": 37,
   "metadata": {},
   "outputs": [
    {
     "name": "stdout",
     "output_type": "stream",
     "text": [
      "Num solutions (1,) 35476.171607204225 (array([1, 1, 1, 1, 0, 0, 0, 1, 0, 0, 1], dtype=int8),)\n",
      "(1,)\n",
      "Num positions in fork 5268\n",
      "Backward sweep complete 42.19959807395935 sec\n"
     ]
    }
   ],
   "source": [
    "importlib.reload(viterbi)\n",
    "\n",
    "# backward sweep\n",
    "final_states = viterbi.viterbi_backward_sweep(v_cost, states, transitions)\n"
   ]
  },
  {
   "cell_type": "code",
   "execution_count": 38,
   "metadata": {},
   "outputs": [
    {
     "name": "stdout",
     "output_type": "stream",
     "text": [
      "[1 1 1 1 0 1 2 3 0 2 1 2 1 2 0]\n",
      "[1 1 1 1 0 1 2 3 0 2 1 2 1 2 0]\n",
      "[1 1 1 1 0 1 2 3 0 2 0 3 0 2 1]\n",
      "[1 1 1 1 0 1 2 3 0 2 0 3 0 2 1]\n"
     ]
    }
   ],
   "source": [
    "print(final_states[:, 0])\n",
    "print(final_states[:, 1])\n",
    "\n",
    "print(final_states[:, -2])\n",
    "print(final_states[:, -1])"
   ]
  },
  {
   "cell_type": "code",
   "execution_count": 39,
   "metadata": {},
   "outputs": [
    {
     "name": "stdout",
     "output_type": "stream",
     "text": [
      "152\n",
      "49\n",
      "239680\n",
      "131\n",
      "269204\n",
      "0\n"
     ]
    }
   ],
   "source": [
    "print(np.sum(final_states[0, :]==0))\n",
    "print(np.sum(final_states[1, :]==0))\n",
    "print(np.sum(final_states[2, :]==0))\n",
    "print(np.sum(final_states[3, :]==0))\n",
    "print(np.sum(final_states[4, :]==0))\n",
    "print(np.sum(final_states[5, :]==0))"
   ]
  },
  {
   "cell_type": "code",
   "execution_count": 40,
   "metadata": {},
   "outputs": [
    {
     "data": {
      "image/png": "[encoded data removed]",
      "text/plain": [
       "<Figure size 1080x504 with 1 Axes>"
      ]
     },
     "metadata": {
      "needs_background": "light"
     },
     "output_type": "display_data"
    }
   ],
   "source": [
    "final_states_greyed = final_states.copy()\n",
    "final_states_greyed[:, final_states[-1, :]!=0] = -1\n",
    "\n",
    "plt.figure(figsize=(15, 7))\n",
    "plt.imshow(final_states, aspect='auto', vmin=-1)\n",
    "plt.yticks(np.arange(final_states.shape[0]), \n",
    "           ['m%d_del' % i for i in range(1, 2*len(family.mat_ancestors)+1)] + ['p%d_del' % i for i in range(1, 2*len(family.pat_ancestors)+1)] + \\\n",
    "           sum([['%s_mat' % x,'%s_pat' % x] for x in family.individuals], []) + ['loss_region'])\n",
    "\n",
    "#plt.subplot(2, 1, 2, sharex=ax)\n",
    "#plt.fill_between(np.arange(family_snp_positions.shape[0]), 0, (family_snp_positions[:, 0]>=0) & (family_snp_positions[:, 1]<=20500000), alpha=0.5)\n",
    "#plt.fill_between(np.arange(family_snp_positions.shape[0]), 0, (family_snp_positions[:, 0]>=9600000) & (family_snp_positions[:, 1]<=16300000))\n",
    "#plt.fill_between(np.arange(family_snp_positions.shape[0]), 0, (family_snp_positions[:, 1]<=9600000) | (family_snp_positions[:, 0]>=48200000))\n",
    "\n",
    "#plt.xticks(xticks, xlabels, rotation=90)\n",
    "\n",
    "#plt.subplot(3, 1, 3)\n",
    "#plt.plot(np.log2(family_snp_positions[:, 1]-family_snp_positions[:, 0]), marker='.', linestyle='')\n",
    "#plt.plot(c[1:]-c[:-1], marker='.', linestyle='')\n",
    "#plt.plot(num_non_mend, marker='.', linestyle='')\n",
    "#plt.plot(np.convolve(num_non_mend, np.ones((100,)), mode='same'))\n",
    "#plt.plot(np.convolve(num_missing, np.ones((100,)), mode='same'))\n",
    "#plt.scatter(family_snp_positions[:, 0], final_states[-1, :], marker='.')\n",
    "#plt.xticks(family_snp_positions[xticks, 0], xlabels, rotation=90)\n",
    "#for i in np.where(family_snp_positions[:, 1]-family_snp_positions[:, 0] > 10000)[0]:\n",
    "#    plt.plot([family_snp_positions[i, 0], family_snp_positions[i, 1]], [final_states[-1, i], final_states[-1, i]], color='grey')\n",
    "#    #print(family_snp_positions[i, :])\n",
    "plt.tight_layout()\n",
    "plt.show()"
   ]
  },
  {
   "cell_type": "code",
   "execution_count": 31,
   "metadata": {},
   "outputs": [
    {
     "name": "stdout",
     "output_type": "stream",
     "text": [
      "['2', '1', '1', '2', '1']\n"
     ]
    }
   ],
   "source": [
    "sample_id_to_sex = input_output.pull_sex(ped_file)\n",
    "\n",
    "print([sample_id_to_sex[x] for x in family.individuals])\n"
   ]
  },
  {
   "cell_type": "code",
   "execution_count": 17,
   "metadata": {},
   "outputs": [
    {
     "data": {
      "image/png": "[encoded data removed]",
      "text/plain": [
       "<Figure size 1080x360 with 1 Axes>"
      ]
     },
     "metadata": {
      "needs_background": "light"
     },
     "output_type": "display_data"
    }
   ],
   "source": [
    "final_states_greyed = final_states.copy()\n",
    "final_states_greyed[:, final_states[-1, :]!=0] = -1\n",
    "\n",
    "plt.figure(figsize=(15, 5))\n",
    "plt.imshow(final_states[2*family.num_ancestors():-1], aspect='auto', vmin=-1)\n",
    "plt.yticks(np.arange(final_states.shape[0]-2*family.num_ancestors()-1), \n",
    "           sum([['%s_mat' % x,'%s_pat' % x] for x in family.individuals], []))\n",
    "\n",
    "#plt.subplot(2, 1, 2, sharex=ax)\n",
    "#plt.fill_between(np.arange(family_snp_positions.shape[0]), 0, (family_snp_positions[:, 0]>=0) & (family_snp_positions[:, 1]<=20500000), alpha=0.5)\n",
    "#plt.fill_between(np.arange(family_snp_positions.shape[0]), 0, (family_snp_positions[:, 0]>=9600000) & (family_snp_positions[:, 1]<=16300000))\n",
    "#plt.fill_between(np.arange(family_snp_positions.shape[0]), 0, (family_snp_positions[:, 1]<=9600000) | (family_snp_positions[:, 0]>=48200000))\n",
    "\n",
    "#plt.xticks(xticks, xlabels, rotation=90)\n",
    "\n",
    "#plt.subplot(3, 1, 3)\n",
    "#plt.plot(np.log2(family_snp_positions[:, 1]-family_snp_positions[:, 0]), marker='.', linestyle='')\n",
    "#plt.plot(c[1:]-c[:-1], marker='.', linestyle='')\n",
    "#plt.plot(num_non_mend, marker='.', linestyle='')\n",
    "#plt.plot(np.convolve(num_non_mend, np.ones((100,)), mode='same'))\n",
    "#plt.plot(np.convolve(num_missing, np.ones((100,)), mode='same'))\n",
    "#plt.scatter(family_snp_positions[:, 0], final_states[-1, :], marker='.')\n",
    "#plt.xticks(family_snp_positions[xticks, 0], xlabels, rotation=90)\n",
    "#for i in np.where(family_snp_positions[:, 1]-family_snp_positions[:, 0] > 10000)[0]:\n",
    "#    plt.plot([family_snp_positions[i, 0], family_snp_positions[i, 1]], [final_states[-1, i], final_states[-1, i]], color='grey')\n",
    "#    #print(family_snp_positions[i, :])\n",
    "plt.tight_layout()\n",
    "plt.show()"
   ]
  },
  {
   "cell_type": "code",
   "execution_count": 488,
   "metadata": {},
   "outputs": [
    {
     "name": "stdout",
     "output_type": "stream",
     "text": [
      "AU0197\tAU019701\tAU019702\tAU019704\tAU019703\tAU019706\tAU019705\n",
      "Write to file complete\n"
     ]
    }
   ],
   "source": [
    "importlib.reload(input_output)\n",
    "\n",
    "with open('../phased_ihart/chr.%s.%s.phased.txt' % (chrom, family.id), 'w+') as phasef:\n",
    "    phasef.write('\\t'.join(['family'] + \\\n",
    "                           ['m%d_del' % i for i in range(1, 2*len(family.mat_ancestors)+1)] + \\\n",
    "                           ['p%d_del' % i for i in range(1, 2*len(family.pat_ancestors)+1)] + \\\n",
    "                           sum([['%s_mat' % x, '%s_pat' % x] for x in family.individuals], []) + \\\n",
    "                           ['loss_region', 'start_pos', 'end_pos']) + '\\n')\n",
    "    input_output.write_to_file(sys.stdout, phasef, family, final_states, family_snp_positions)\n",
    "\n",
    "\n"
   ]
  },
  {
   "cell_type": "code",
   "execution_count": 418,
   "metadata": {},
   "outputs": [
    {
     "name": "stdout",
     "output_type": "stream",
     "text": [
      "hard to sequence 0.016453760486423802\n",
      "m1 deletion 165\n",
      "m2 deletion 506\n",
      "p1 deletion 336\n",
      "p2 deletion 231\n",
      "maternal UPD 1505748\n",
      "paternal UPD 1506305\n",
      "child1 mat upd 1506305\n",
      "child1 pat upd 1506305\n",
      "child2 mat upd 1506305\n",
      "child2 pat upd 1506305\n",
      "child3 mat upd 0\n",
      "child3 pat upd 0\n",
      "child4 mat upd 0\n",
      "child4 pat upd 1506305\n"
     ]
    }
   ],
   "source": [
    "is_hts = final_states[-1, :]==1\n",
    "has_m1_deletion = final_states[0, :]==0\n",
    "has_m2_deletion = final_states[1, :]==0\n",
    "has_p1_deletion = final_states[2, :]==0\n",
    "has_p2_deletion = final_states[3, :]==0\n",
    "\n",
    "preferred_phase_options = [[0, -1], [1, -1], [2, -1], [3, -1], [0, -1], [2, -1]] + [[0, 1, -1], [2, 3, -1]]*(m-3)\n",
    "\n",
    "has_upd = np.zeros((2*m, final_states.shape[1]), dtype=bool)\n",
    "for i in range(m):\n",
    "    has_upd[2*i, :] = ~np.isin(final_states[4+2*i, :], preferred_phase_options[2*i])\n",
    "    has_upd[2*i + 1, :] = ~np.isin(final_states[5+2*i, :], preferred_phase_options[2*i + 1])\n",
    "\n",
    "print('hard to sequence', np.sum(mult_factor * is_hts)/np.sum(mult_factor))     \n",
    "\n",
    "print('m1 deletion', np.sum(mult_factor * (has_m1_deletion & ~is_hts)))\n",
    "print('m2 deletion', np.sum(mult_factor * (has_m2_deletion & ~is_hts)))\n",
    "print('p1 deletion', np.sum(mult_factor * (has_p1_deletion & ~is_hts)))\n",
    "print('p2 deletion', np.sum(mult_factor * (has_p2_deletion & ~is_hts)))\n",
    "\n",
    "# maternal UPD\n",
    "print('maternal UPD', np.sum(mult_factor * ((has_upd[0, :] | has_upd[1, :]) & ~is_hts)))\n",
    "print('paternal UPD', np.sum(mult_factor * ((has_upd[2, :] | has_upd[3, :]) & ~is_hts)))\n",
    "\n",
    "for i in range(m-2):\n",
    "    print('child%d mat upd' % (i+1), np.sum(mult_factor * (has_upd[4+2*i, :] & ~is_hts)))\n",
    "    print('child%d pat upd' % (i+1), np.sum(mult_factor * (has_upd[5+2*i, :] & ~is_hts)))\n"
   ]
  },
  {
   "cell_type": "code",
   "execution_count": 419,
   "metadata": {},
   "outputs": [
    {
     "name": "stdout",
     "output_type": "stream",
     "text": [
      "0 0\n",
      "[] []\n",
      "hard to seq []\n",
      "[] []\n"
     ]
    }
   ],
   "source": [
    "#event = has_p1_deletion & ~is_hts\n",
    "event = has_upd[6, :]\n",
    "del_start = np.where(~event[:-1] & event[1:])[0]+1\n",
    "del_end = np.where(event[:-1] & ~event[1:])[0]+1\n",
    "\n",
    "print(len(del_start), len(del_end))\n",
    "print(del_start, del_end)\n",
    "\n",
    "# remove events in hard to sequence regions\n",
    "event_is_hts = np.ones((del_start.shape[0],), dtype=bool)\n",
    "for i, (s, e) in enumerate(zip(del_start, del_end)):\n",
    "    event_is_hts[i] = np.any(is_hts[s:e])\n",
    "print('hard to seq', event_is_hts)\n",
    "    \n",
    "#del_start = np.array(del_start)[~event_is_hts]\n",
    "#del_end = np.array(del_end)[~event_is_hts]\n",
    "#print(len(del_start), len(del_end))\n",
    "\n",
    "print(del_start, del_end)"
   ]
  },
  {
   "cell_type": "code",
   "execution_count": 420,
   "metadata": {
    "scrolled": false
   },
   "outputs": [
    {
     "ename": "IndexError",
     "evalue": "Cannot choose from an empty sequence",
     "output_type": "error",
     "traceback": [
      "\u001b[0;31m---------------------------------------------------------------------------\u001b[0m",
      "\u001b[0;31mIndexError\u001b[0m                                Traceback (most recent call last)",
      "\u001b[0;32m<ipython-input-420-fa31ac5b6176>\u001b[0m in \u001b[0;36m<module>\u001b[0;34m\u001b[0m\n\u001b[0;32m----> 1\u001b[0;31m \u001b[0mdstart\u001b[0m\u001b[0;34m,\u001b[0m \u001b[0mdend\u001b[0m \u001b[0;34m=\u001b[0m \u001b[0mrandom\u001b[0m\u001b[0;34m.\u001b[0m\u001b[0mchoice\u001b[0m\u001b[0;34m(\u001b[0m\u001b[0mlist\u001b[0m\u001b[0;34m(\u001b[0m\u001b[0mzip\u001b[0m\u001b[0;34m(\u001b[0m\u001b[0mdel_start\u001b[0m\u001b[0;34m,\u001b[0m \u001b[0mdel_end\u001b[0m\u001b[0;34m)\u001b[0m\u001b[0;34m)\u001b[0m\u001b[0;34m)\u001b[0m\u001b[0;34m\u001b[0m\u001b[0;34m\u001b[0m\u001b[0m\n\u001b[0m\u001b[1;32m      2\u001b[0m \u001b[0mstart\u001b[0m\u001b[0;34m,\u001b[0m \u001b[0mend\u001b[0m \u001b[0;34m=\u001b[0m \u001b[0mmax\u001b[0m\u001b[0;34m(\u001b[0m\u001b[0;36m0\u001b[0m\u001b[0;34m,\u001b[0m \u001b[0mdstart\u001b[0m\u001b[0;34m-\u001b[0m\u001b[0;36m100\u001b[0m\u001b[0;34m)\u001b[0m\u001b[0;34m,\u001b[0m \u001b[0mmin\u001b[0m\u001b[0;34m(\u001b[0m\u001b[0mdend\u001b[0m\u001b[0;34m+\u001b[0m\u001b[0;36m100\u001b[0m\u001b[0;34m,\u001b[0m \u001b[0mfamily_genotypes\u001b[0m\u001b[0;34m.\u001b[0m\u001b[0mshape\u001b[0m\u001b[0;34m[\u001b[0m\u001b[0;36m1\u001b[0m\u001b[0;34m]\u001b[0m\u001b[0;34m)\u001b[0m\u001b[0;34m\u001b[0m\u001b[0;34m\u001b[0m\u001b[0m\n\u001b[1;32m      3\u001b[0m \u001b[0;34m\u001b[0m\u001b[0m\n\u001b[1;32m      4\u001b[0m \u001b[0mprint\u001b[0m\u001b[0;34m(\u001b[0m\u001b[0mfinal_states\u001b[0m\u001b[0;34m[\u001b[0m\u001b[0;34m:\u001b[0m\u001b[0;34m,\u001b[0m \u001b[0mstart\u001b[0m\u001b[0;34m]\u001b[0m\u001b[0;34m)\u001b[0m\u001b[0;34m\u001b[0m\u001b[0;34m\u001b[0m\u001b[0m\n\u001b[1;32m      5\u001b[0m \u001b[0;31m#print(dstart, dend)\u001b[0m\u001b[0;34m\u001b[0m\u001b[0;34m\u001b[0m\u001b[0;34m\u001b[0m\u001b[0m\n",
      "\u001b[0;32m//anaconda3/lib/python3.7/random.py\u001b[0m in \u001b[0;36mchoice\u001b[0;34m(self, seq)\u001b[0m\n\u001b[1;32m    259\u001b[0m             \u001b[0mi\u001b[0m \u001b[0;34m=\u001b[0m \u001b[0mself\u001b[0m\u001b[0;34m.\u001b[0m\u001b[0m_randbelow\u001b[0m\u001b[0;34m(\u001b[0m\u001b[0mlen\u001b[0m\u001b[0;34m(\u001b[0m\u001b[0mseq\u001b[0m\u001b[0;34m)\u001b[0m\u001b[0;34m)\u001b[0m\u001b[0;34m\u001b[0m\u001b[0;34m\u001b[0m\u001b[0m\n\u001b[1;32m    260\u001b[0m         \u001b[0;32mexcept\u001b[0m \u001b[0mValueError\u001b[0m\u001b[0;34m:\u001b[0m\u001b[0;34m\u001b[0m\u001b[0;34m\u001b[0m\u001b[0m\n\u001b[0;32m--> 261\u001b[0;31m             \u001b[0;32mraise\u001b[0m \u001b[0mIndexError\u001b[0m\u001b[0;34m(\u001b[0m\u001b[0;34m'Cannot choose from an empty sequence'\u001b[0m\u001b[0;34m)\u001b[0m \u001b[0;32mfrom\u001b[0m \u001b[0;32mNone\u001b[0m\u001b[0;34m\u001b[0m\u001b[0;34m\u001b[0m\u001b[0m\n\u001b[0m\u001b[1;32m    262\u001b[0m         \u001b[0;32mreturn\u001b[0m \u001b[0mseq\u001b[0m\u001b[0;34m[\u001b[0m\u001b[0mi\u001b[0m\u001b[0;34m]\u001b[0m\u001b[0;34m\u001b[0m\u001b[0;34m\u001b[0m\u001b[0m\n\u001b[1;32m    263\u001b[0m \u001b[0;34m\u001b[0m\u001b[0m\n",
      "\u001b[0;31mIndexError\u001b[0m: Cannot choose from an empty sequence"
     ]
    }
   ],
   "source": [
    "dstart, dend = random.choice(list(zip(del_start, del_end)))\n",
    "start, end = max(0, dstart-100), min(dend+100, family_genotypes.shape[1])\n",
    "\n",
    "print(final_states[:, start])\n",
    "#print(dstart, dend)\n",
    "#print(family_snp_positions[dstart, :], family_snp_positions[dend, :])\n",
    "#start, end = 168156000, 168172000\n",
    "#start, end = 71706745, 71715561\n",
    "#start, end = 225044, 225185\n",
    "\n",
    "#start, end = 3711060, 3711393\n",
    "#start, end = np.where(family_snp_positions[:, 0]>=start)[0][0], np.where(family_snp_positions[:, 0]<=end)[0][-1]\n",
    "#start, end = max(0, start-100), min(end+100, family_genotypes.shape[1])\n",
    "\n",
    "state_indices_of_interest = []\n",
    "\n",
    "plt.figure(figsize=(15, 10))\n",
    "ax = plt.subplot(4, 1, 1)\n",
    "plt.plot(mult_factor[start:end])\n",
    "\n",
    "plt.subplot(4, 1, 2, sharex=ax)\n",
    "plt.imshow(family_genotypes[:, start:end], aspect='auto', vmin=-3, vmax=2)\n",
    "plt.yticks(np.arange(m), ['mom', 'dad'] + ['child %d' % i for i in range(1, m-1)])\n",
    "\n",
    "plt.subplot(4, 1, 3, sharex=ax)\n",
    "plt.imshow(final_states[[0, 1, 2, 3] + \\\n",
    "                               [4, 5] + np.arange(8, 4+(2*m), 2).tolist() + \\\n",
    "                               [6, 7] + np.arange(9, 4+(2*m), 2).tolist() + [-1], start:end],\n",
    "           aspect='auto', vmin=-1, vmax=3)\n",
    "plt.yticks(np.arange(final_states.shape[0]), \n",
    "           ['m1 del', 'm2 del', 'p1 del', 'p2 del', 'm1', 'm2'] + ['child_%d mat' % i for i in range(1, m-1)] + ['p1', 'p2'] + ['child_%d pat' % i for i in range(1, m-1)] + ['is_hts'])\n",
    "\n",
    "#plt.subplot(4, 1, 4, sharex=ax)\n",
    "#plt.plot([loss(tuple(family_genotypes[:, j]))[states.index(tuple(np.clip(final_states[:, j], 0, None)))] for j in range(start, end)], alpha=0.5)\n",
    "\n",
    "#plt.subplot(5, 1, 5, sharex=ax)\n",
    "#plt.plot([loss(tuple(family_genotypes[:, j]))[states.index(tuple(np.clip(final_states[:, j], 0, None)))] for j in range(start, end)], alpha=0.5)\n",
    "#plt.plot([loss(tuple(family_genotypes[:, j]))[states.index(tuple(np.hstack((np.clip(final_states[:2*m, j], 0, None), [0,]*(2*(m-2)), [np.clip(final_states[-1, j], 0, None)]))))] for j in range(start, end)], alpha=0.5)\n",
    "#plt.plot([loss(tuple(family_genotypes[:, j]))[states.index(tuple(np.hstack(([1,]*4, np.clip(final_states[4:, j], 0, None)))))] for j in range(start, end)], alpha=0.5)\n",
    "#plt.plot([loss(tuple(family_genotypes[:, j]))[states.index((1, 1, 1, 1, 0, 0, 0, 1, 0, 0, 0, 0, 0))] for j in range(start, end)], alpha=0.5)\n",
    "#plt.plot(np.cumsum([loss(tuple(family_genotypes[:, j]))[states.index((1, 1, 1, 1, 0, 0, 0, 0, 0, 1, 0, 0, 0, 0, 0, 0, 0))] for j in range(start, end)]), alpha=0.5)\n",
    "#plt.plot(np.cumsum([loss(tuple(family_genotypes[:, j]))[states.index((1, 1, 1, 1, 0, 0, 0, 1, 0, 0, 0, 1, 0))] for j in range(start, end)]), alpha=0.5)\n",
    "#plt.plot([loss(tuple(family_genotypes[:, j]))[states.index((1, 1, 0, 1, 0, 0, 0, 0, 1, 1, 0))] for j in range(start, end+1)], alpha=0.5)\n",
    "#plt.plot([loss(tuple(family_genotypes[:, j]))[states.index((0, 0, 0, 0, 0, 0, 0, 0, 1, 1, 0))] for j in range(start, end+1)], alpha=0.5)\n",
    "\n",
    "\n",
    "\n",
    "plt.tight_layout()\n",
    "plt.show()"
   ]
  },
  {
   "cell_type": "code",
   "execution_count": null,
   "metadata": {},
   "outputs": [],
   "source": [
    "plt.figure(figsize=(15, 3))\n",
    "plt.imshow(family_genotypes[:, start:end], aspect='auto', vmin=-3, vmax=2)\n",
    "plt.show()"
   ]
  },
  {
   "cell_type": "code",
   "execution_count": null,
   "metadata": {},
   "outputs": [],
   "source": [
    "markers = []\n",
    "labels = []\n",
    "with open('../data/cytoBand.txt', 'r') as f:\n",
    "    for line in f:\n",
    "        pieces = line.strip().split('\\t')\n",
    "        if pieces[0][3:] == chrom:\n",
    "            markers.append(int(pieces[1]))\n",
    "            labels.append(chrom + pieces[3])\n",
    "\n",
    "plt.figure(figsize=(15, 3))\n",
    "x = sum([[s-1, s, e, e+1] for s, e in zip(family_snp_positions[del_start, 0], family_snp_positions[del_end, 1])], [])\n",
    "y = sum([[0, 1, 1, 0] for s, e in zip(del_start, del_end)], [])\n",
    "plt.plot(x, y)\n",
    "plt.xticks([x for x in markers if x>= plt.xlim()[0] and x<=plt.xlim()[1]], \n",
    "           [l for x, l in zip(markers, labels) if x>= plt.xlim()[0] and x<=plt.xlim()[1]], rotation=90)\n",
    "plt.show()"
   ]
  },
  {
   "cell_type": "code",
   "execution_count": null,
   "metadata": {},
   "outputs": [],
   "source": [
    "print(inds)"
   ]
  },
  {
   "cell_type": "code",
   "execution_count": null,
   "metadata": {},
   "outputs": [],
   "source": [
    "plt.figure(figsize=(15, 10))\n",
    "\n",
    "ax = plt.subplot(m, 1, 1)\n",
    "\n",
    "for i in range(4):\n",
    "    #plt.scatter(family_snp_positions[final_states_greyed[i, :] == -1, 0], np.repeat(3-i, np.sum(final_states_greyed[i, :] == -1)), color='blue', alpha=0.5)\n",
    "    plt.scatter(family_snp_positions[final_states_greyed[i, :] == 0, 0], np.repeat(3-i, np.sum(final_states_greyed[i, :] == 0)), color='red', alpha=0.5)\n",
    "plt.title('Deletions')\n",
    "plt.yticks(range(3, -1, -1), ['m1', 'm2', 'p1', 'p2'])\n",
    "\n",
    "for i in range(0, m-2):\n",
    "    plt.subplot(m, 1, i+2, sharex=ax)\n",
    "    indices = (final_states_greyed[4+(2*i), :] == 0) & (final_states_greyed[-1, :] == 0)\n",
    "    plt.scatter(family_snp_positions[indices, 0], np.repeat(0, np.sum(indices)), color='blue', alpha=0.5)\n",
    "    indices = (final_states_greyed[4+(2*i), :] == 1) & (final_states_greyed[-1, :] == 0)\n",
    "    plt.scatter(family_snp_positions[indices, 0], np.repeat(0, np.sum(indices)), color='red', alpha=0.5)\n",
    "\n",
    "    indices = (final_states_greyed[5+(2*i), :] == 0) & (final_states_greyed[-1, :] == 0)\n",
    "    plt.scatter(family_snp_positions[indices, 0], np.repeat(1, np.sum(indices)), color='blue', alpha=0.5)\n",
    "    indices = (final_states_greyed[5+(2*i), :] == 1) & (final_states_greyed[-1, :] == 0)\n",
    "    plt.scatter(family_snp_positions[indices, 0], np.repeat(1, np.sum(indices)), color='red', alpha=0.5)\n",
    "\n",
    "    plt.title('Child%d' % (i+1))\n",
    "    plt.yticks(range(0, 2), ['mat', 'pat'])\n",
    "\n",
    "plt.subplot(m, 1, m, sharex=ax)\n",
    "plt.scatter(family_snp_positions[final_states_greyed[-1, :] == -1, 0], np.repeat(0, np.sum(final_states_greyed[-1, :] == -1)), color='blue', alpha=0.5)\n",
    "plt.scatter(family_snp_positions[final_states_greyed[-1, :] == 1, 0], np.repeat(0, np.sum(final_states_greyed[-1, :] == 1)), color='red', alpha=0.5)\n",
    "plt.title('Hard to sequence')\n",
    "\n",
    "plt.tight_layout()\n",
    "plt.show()\n",
    "\n"
   ]
  },
  {
   "cell_type": "code",
   "execution_count": null,
   "metadata": {},
   "outputs": [],
   "source": [
    "print(family_snp_positions[start, :], family_snp_positions[end, :])"
   ]
  },
  {
   "cell_type": "code",
   "execution_count": null,
   "metadata": {},
   "outputs": [],
   "source": [
    "import numpy as np\n",
    "def estimate_parental_variants(final_states, family_genotypes):\n",
    "    m, n = family_genotypes.shape\n",
    "    parental_variants, cost, blame = -np.ones((4, n), dtype=np.int8), -np.ones((n,), dtype=int), -np.ones((m, n), dtype=float)\n",
    "    has_missing = 0\n",
    "    for i in range(n):\n",
    "        state, gen = final_states[:, i], tuple(family_genotypes[:, i])\n",
    "        \n",
    "        missing_indices = [i for i, x in enumerate(state) if x==-1]\n",
    "        \n",
    "        if len(missing_indices) == 0:\n",
    "            pv, v, b = loss.get_parental_variants(tuple(state), gen)\n",
    "            parental_variants[:, i] = pv\n",
    "            cost[i] = v\n",
    "            blame[:, i] = b\n",
    "        else:\n",
    "            has_missing += 1\n",
    "            all_possible_states = np.tile(state, (pow(2, len(missing_indices)), 1))\n",
    "            all_possible_states[:, missing_indices] = list(product(*[[0, 1]]*len(missing_indices)))\n",
    "\n",
    "            min_v = None\n",
    "            all_pvs, all_bs = [], []\n",
    "            for s in all_possible_states:\n",
    "                pv, v, b = loss.get_parental_variants(tuple(s), gen)\n",
    "                if min_v is None or v < min_v:\n",
    "                    min_v = v\n",
    "                    all_pvs, all_bs = [pv], [b]\n",
    "                elif v == min_v:\n",
    "                    all_pvs.append(pv)\n",
    "                    all_bs.append(b)\n",
    "\n",
    "            all_pvs, all_bs = np.asarray(all_pvs), np.asarray(all_bs)\n",
    "            parental_variants[np.all(all_pvs==-2, axis=0), i] = -2\n",
    "            parental_variants[np.all(all_pvs==0, axis=0), i] = 0\n",
    "            parental_variants[np.all(all_pvs==1, axis=0), i] = 1\n",
    "            cost[i] = min_v\n",
    "            \n",
    "            all_bs = np.sum(all_bs, axis=0)\n",
    "            if min_v == 0:\n",
    "                blame[:, i] = 0\n",
    "            else:\n",
    "                blame[:, i] = min_v*all_bs/np.sum(all_bs)\n",
    "            \n",
    "        if i%10000==0:\n",
    "            print(i, has_missing)\n",
    "    return parental_variants, cost, blame\n",
    "\n",
    "parental_variants, cost, blame = estimate_parental_variants(states, family_genotypes)       "
   ]
  },
  {
   "cell_type": "code",
   "execution_count": null,
   "metadata": {},
   "outputs": [],
   "source": [
    "import time\n",
    "import numpy as np\n",
    "from itertools import product\n",
    "\n",
    "def mask_states(family_genotypes, mult_factor, final_states, inheritance_states, loss, error_rate=0.001, smooth=5000):\n",
    "\n",
    "\tmasked_final_states = np.copy(final_states)\n",
    "\t# Now, do masking\n",
    "\tprev_time = time.time()\n",
    "\tm, n = family_genotypes.shape\n",
    "\tp, state_len = inheritance_states.p, inheritance_states.state_len\n",
    "\n",
    "\tfit = -np.ones((n,), dtype=int)\n",
    "\tprev_state = None\n",
    "\tprev_state_indices = None\n",
    "\tfor j in range(n): \n",
    "\t\tpos_gen = tuple(family_genotypes[:, j])\n",
    "\t\tcurrent_state = tuple(final_states[:, j])\n",
    "\n",
    "\t\tif current_state != prev_state:\n",
    "\t\t\tprev_state = current_state\n",
    "\t\t\tnum_unknowns = len([x for x in current_state if x == -1])\n",
    "\t\t\tif num_unknowns>0:\n",
    "\t\t\t\tprev_state_indices = []\n",
    "\t\t\t\tfor poss_itr in [iter(x) for x in product(*([[0, 1]]*num_unknowns))]:\n",
    "\t\t\t\t\tposs_state = tuple([x if x != -1 else next(poss_itr) for x in current_state])\n",
    "\t\t\t\t\tprev_state_indices.append(inheritance_states.index(poss_state))\n",
    "\t\t\telse:\n",
    "\t\t\t\tprev_state_indices = [inheritance_states.index(tuple(final_states[:, j]))]\n",
    "\n",
    "\t\tfit[j] = mult_factor[j]*(np.min(loss(pos_gen)[prev_state_indices])==1)\n",
    "        \n",
    "\tprint(np.unique(fit, return_counts=True))\n",
    "\n",
    "\n",
    "\tc = np.convolve(fit/m, np.ones(smooth,), mode='same')\n",
    "\tmasked = (c>(error_rate*smooth)).astype(np.int8)\n",
    "\tprint('Percent masked', 100*np.sum(masked)/n)\n",
    "\n",
    "\t# if a parental chromosome isn't inherited, then we don't know if it has a deletion\n",
    "\tmaternal_indices = range(4, state_len, 2)\n",
    "\tpaternal_indices = range(5, state_len, 2)\n",
    "\n",
    "\tm1_ninh = np.all(final_states[maternal_indices, :]!=0, axis=0)\n",
    "\tm2_ninh = np.all(final_states[maternal_indices, :]!=1, axis=0)\n",
    "\tp1_ninh = np.all(final_states[paternal_indices, :]!=0, axis=0)\n",
    "\tp2_ninh = np.all(final_states[paternal_indices, :]!=1, axis=0)\n",
    "\n",
    "\tmasked_final_states[0, m1_ninh] = -1\n",
    "\tmasked_final_states[1, m2_ninh] = -1\n",
    "\tmasked_final_states[2, p1_ninh] = -1\n",
    "\tmasked_final_states[3, p2_ninh] = -1\n",
    "\tmasked_final_states = np.append(masked_final_states, masked[np.newaxis, :], axis=0)\n",
    "\tprint('Percent never inherited', 100*np.sum(m1_ninh)/n, 100*np.sum(m2_ninh)/n, 100*np.sum(p1_ninh)/n, 100*np.sum(p2_ninh)/n)\n",
    "\n",
    "\tprint('Masking complete', time.time()-prev_time, 'sec') \n",
    "\treturn masked_final_states, c"
   ]
  },
  {
   "cell_type": "code",
   "execution_count": null,
   "metadata": {},
   "outputs": [],
   "source": [
    "# mask messy areas\n",
    "masked_final_states, f = mask_states(family_genotypes, mult_factor, final_states, inheritance_states, loss, error_rate=0.01)\n",
    "#masked_final_states[:, masked_final_states[-1, :]==1] = -1"
   ]
  },
  {
   "cell_type": "code",
   "execution_count": null,
   "metadata": {},
   "outputs": [],
   "source": [
    "import matplotlib.pyplot as plt\n",
    "\n",
    "plt.figure(figsize=(15, 5))\n",
    "plt.plot(f/1000)\n",
    "plt.plot(overall)\n",
    "plt.show()"
   ]
  },
  {
   "cell_type": "code",
   "execution_count": null,
   "metadata": {},
   "outputs": [],
   "source": [
    "smooth=5000\n",
    "c = np.convolve(np.sum(parental_variants==-2, axis=0), np.ones(smooth,), mode='same')/(smooth*m)\n",
    "d = np.convolve(np.sum(parental_variants==-1, axis=0), np.ones(smooth,), mode='same')/(smooth*m)\n",
    "\n",
    "plt.figure(figsize=(15, 5))\n",
    "plt.plot(a, label='deletion')\n",
    "plt.plot(b, label='unknown')\n",
    "plt.plot(c, label='deletion')\n",
    "plt.plot(d, label='unknown')\n",
    "#plt.plot(overall)\n",
    "#plt.ylim([0, 0.1])\n",
    "plt.axhline(0.01)\n",
    "plt.legend()\n",
    "plt.show()"
   ]
  },
  {
   "cell_type": "code",
   "execution_count": null,
   "metadata": {},
   "outputs": [],
   "source": [
    "print(np.sum(parental_variants==-1)/(4*parental_variants.shape[1]))"
   ]
  },
  {
   "cell_type": "code",
   "execution_count": null,
   "metadata": {},
   "outputs": [],
   "source": [
    "print(np.sum(blame==0)/(blame.shape[0]*blame.shape[1]))\n",
    "print(np.sum(parental_variants==0)/(parental_variants.shape[0]*parental_variants.shape[1]))\n"
   ]
  },
  {
   "cell_type": "code",
   "execution_count": null,
   "metadata": {},
   "outputs": [],
   "source": [
    "pos_lens = family_snp_positions[:, 1]-family_snp_positions[:, 0]\n",
    "print(pos_lens.shape)\n",
    "print(np.sum(parental_variants!=0))\n",
    "print(np.sum(mult_factor*np.sum(parental_variants!=0, axis=0)))\n",
    "print(np.sum(mult_factor[np.any(parental_variants!=0, axis=0)]))"
   ]
  },
  {
   "cell_type": "code",
   "execution_count": null,
   "metadata": {},
   "outputs": [],
   "source": [
    "import scipy.sparse as sparse\n",
    "\n",
    "chrom_length = chrom_lengths[chrom]\n",
    "nonzeros = np.sum(mult_factor*np.sum(parental_variants!=0, axis=0))\n",
    "data = np.zeros((nonzeros,), dtype=np.int8)\n",
    "row_ind = np.zeros((nonzeros,), dtype=int)\n",
    "col_ind = np.zeros((nonzeros,), dtype=int)\n",
    "\n",
    "data_index = 0\n",
    "for i, j in zip(*np.nonzero(parental_variants)):\n",
    "    pos_start, pos_end = family_snp_positions[j, :]\n",
    "    pos_length = pos_end - pos_start\n",
    "    \n",
    "    data[data_index:(data_index+pos_length)] = parental_variants[i, j]\n",
    "    row_ind[data_index:(data_index+pos_length)] = i\n",
    "    col_ind[data_index:(data_index+pos_length)] = range(pos_start, pos_end)\n",
    "    data_index += pos_length\n",
    "\n",
    "parental_variants_csc = sparse.csc_matrix((data, (row_ind, col_ind)), shape=(4, chrom_length))"
   ]
  },
  {
   "cell_type": "code",
   "execution_count": null,
   "metadata": {},
   "outputs": [],
   "source": [
    "print(np.nonzero(parental_variants)[0].shape)\n",
    "print(data[:5])\n",
    "print(parental_variants_csc.nnz)"
   ]
  },
  {
   "cell_type": "code",
   "execution_count": null,
   "metadata": {},
   "outputs": [],
   "source": [
    "import random\n",
    "j = random.choice(np.where(mult_factor*np.any(parental_variants!=0, axis=0)>1)[0])\n",
    "print(j, family_snp_positions[j, :])\n",
    "print(parental_variants[:, j])\n",
    "print(parental_variants_csc[:, family_snp_positions[j, 0]:family_snp_positions[j, 1]])"
   ]
  },
  {
   "cell_type": "code",
   "execution_count": null,
   "metadata": {},
   "outputs": [],
   "source": [
    "plt.figure(figsize=(15, 5))\n",
    "plt.imshow((parental_variants==-1)[:1000], aspect='auto')\n",
    "plt.show()"
   ]
  },
  {
   "cell_type": "code",
   "execution_count": null,
   "metadata": {},
   "outputs": [],
   "source": [
    "smooth=5000\n",
    "mo = np.convolve(blame[0, :], np.ones(smooth,), mode='same')/smooth\n",
    "d = np.convolve(blame[1, :], np.ones(smooth,), mode='same')/smooth\n",
    "c1 = np.convolve(blame[2, :], np.ones(smooth,), mode='same')/smooth\n",
    "c2 = np.convolve(blame[3, :], np.ones(smooth,), mode='same')/smooth\n",
    "c3 = np.convolve(blame[4, :], np.ones(smooth,), mode='same')/smooth\n",
    "overall = np.convolve(np.sum(blame, axis=0), np.ones(smooth,), mode='same')/smooth"
   ]
  },
  {
   "cell_type": "code",
   "execution_count": null,
   "metadata": {},
   "outputs": [],
   "source": [
    "import matplotlib.pyplot as plt\n",
    "\n",
    "plt.figure(figsize=(15, 7))\n",
    "\n",
    "ax1 = plt.subplot(2, 1, 1)\n",
    "plt.plot(mo, label='mom')\n",
    "plt.plot(d, label='dad')\n",
    "plt.plot(c1, label='child1')\n",
    "plt.plot(c2, label='child2')\n",
    "plt.plot(c3, label='child3')\n",
    "plt.plot(overall, label='overall', color='black')\n",
    "plt.axhline(0.01, color='black')\n",
    "plt.legend()\n",
    "plt.ylim([0, 0.1])\n",
    "\n",
    "all_convolve = np.vstack((mo, d, c1, c2, c3))\n",
    "\n",
    "plt.subplot(2, 1, 2, sharex=ax1)\n",
    "plt.imshow(np.vstack((masked_final_states[-1, :], np.sum(all_convolve>0.01, axis=0)>1)), aspect='auto')\n",
    "\n",
    "plt.show()"
   ]
  },
  {
   "cell_type": "code",
   "execution_count": null,
   "metadata": {},
   "outputs": [],
   "source": []
  },
  {
   "cell_type": "code",
   "execution_count": null,
   "metadata": {},
   "outputs": [],
   "source": [
    "\n",
    "plt.figure(figsize=(15, 10))\n",
    "\n",
    "ax1 = plt.subplot(3, 1, 1)\n",
    "plt.plot(mo, label='mom')\n",
    "plt.plot(d, label='dad')\n",
    "plt.plot(c1, label='child1')\n",
    "plt.plot(c2, label='child2')\n",
    "plt.plot(c3, label='child3')\n",
    "#plt.plot(b)\n",
    "plt.legend()\n",
    "\n",
    "plt.subplot(3, 1, 2, sharex=ax1)\n",
    "plt.imshow(final_states, aspect='auto')\n",
    "\n",
    "plt.subplot(3, 1, 3, sharex=ax1)\n",
    "plt.imshow(masked_final_states, aspect='auto')\n",
    "\n",
    "plt.show()"
   ]
  },
  {
   "cell_type": "code",
   "execution_count": null,
   "metadata": {},
   "outputs": [],
   "source": [
    "smooth=5000\n",
    "mo = np.convolve(blame[0, :], np.ones(smooth,), mode='same')/smooth\n",
    "d = np.convolve(blame[1, :], np.ones(smooth,), mode='same')/smooth\n",
    "c1 = np.convolve(blame[2, :], np.ones(smooth,), mode='same')/smooth\n",
    "c2 = np.convolve(blame[3, :], np.ones(smooth,), mode='same')/smooth\n",
    "c3 = np.convolve(blame[4, :], np.ones(smooth,), mode='same')/smooth\n",
    "overall = np.convolve(np.sum(blame, axis=0), np.ones(smooth,), mode='same')/smooth\n",
    "\n",
    "plt.figure(figsize=(15, 10))\n",
    "\n",
    "ax1 = plt.subplot(3, 1, 1)\n",
    "plt.plot(mo, label='mom')\n",
    "plt.plot(d, label='dad')\n",
    "plt.plot(c1, label='child1')\n",
    "plt.plot(c2, label='child2')\n",
    "plt.plot(c3, label='child3')\n",
    "#plt.plot(b)\n",
    "plt.legend()\n",
    "\n",
    "plt.subplot(3, 1, 2, sharex=ax1)\n",
    "plt.imshow(final_states, aspect='auto')\n",
    "\n",
    "plt.subplot(3, 1, 3, sharex=ax1)\n",
    "plt.imshow(masked_final_states, aspect='auto')\n",
    "\n",
    "plt.show()"
   ]
  },
  {
   "cell_type": "code",
   "execution_count": null,
   "metadata": {},
   "outputs": [],
   "source": [
    "m = 5\n",
    "smooth = 5000"
   ]
  },
  {
   "cell_type": "code",
   "execution_count": null,
   "metadata": {},
   "outputs": [],
   "source": [
    "# family-wise unphased mendelian\n",
    "unique_gens, indices = np.unique(family_genotypes, axis=1, return_inverse=True)\n",
    "\n",
    "parents_to_children_with_del = {\n",
    "    (-1, -1): [-1],\n",
    "    (-1, 0): [-1, 0],\n",
    "    (-1, 1): [0, 2],\n",
    "    (-1, 2): [-1, 2],\n",
    "    (0, 0): [-1, 0],\n",
    "    (0, 1): [0, 1, 2],\n",
    "    (0, 2): [-1, 0, 1, 2],\n",
    "    (1, 1): [0, 1, 2],\n",
    "    (1, 2): [0, 1, 2],\n",
    "    (2, 2): [-1, 2]\n",
    "    \n",
    "}\n",
    "\n",
    "parents_to_children_without_del = {\n",
    "    (0, 0): [0],\n",
    "    (0, 1): [0, 1],\n",
    "    (0, 2): [1],\n",
    "    (1, 1): [0, 1, 2],\n",
    "    (1, 2): [1, 2],\n",
    "    (2, 2): [2]\n",
    "    \n",
    "}\n",
    "parental_genotypes = list(product(*[[0, 1, 2]]*2))\n",
    "\n",
    "# without del\n",
    "trio_perfect_match_gens_nodel = set()\n",
    "trios_could_be_mendelian = np.zeros((family_genotypes.shape[1],), dtype=int)\n",
    "for pg in parental_genotypes:\n",
    "    trio_perfect_match_gens_nodel.update([pg + cg for cg in product(*[parents_to_children_without_del[(min(pg), max(pg))]]*(m-2))])\n",
    "\n",
    "for i, gen in enumerate(unique_gens.T):\n",
    "    missing_indices = [i for i, x in enumerate(gen) if x==-1]\n",
    "    all_possible_gens = np.tile(gen, (pow(4, len(missing_indices)), 1))\n",
    "    all_possible_gens[:, missing_indices] = list(product(*[[-1, 0, 1, 2]]*len(missing_indices)))\n",
    "    #print(all_possible_gens)\n",
    "    \n",
    "    if np.any([tuple(g) in trio_perfect_match_gens_nodel for g in all_possible_gens]):\n",
    "        trios_could_be_mendelian[indices==i] = 1\n",
    "\n"
   ]
  },
  {
   "cell_type": "code",
   "execution_count": null,
   "metadata": {},
   "outputs": [],
   "source": [
    "print(len(trio_perfect_match_gens_del), len(trio_perfect_match_gens_nodel))"
   ]
  },
  {
   "cell_type": "code",
   "execution_count": null,
   "metadata": {},
   "outputs": [],
   "source": [
    "smooth = 500*4\n",
    "smoothed_cost = np.convolve(cost>0, np.ones(smooth,), mode='same')/smooth\n",
    "smoothed_md_nodel = np.convolve(1-trios_could_be_mendelian, np.ones(smooth,), mode='same')/smooth\n",
    "smoothed_final = np.convolve((cost>0) - 1 + trios_could_be_mendelian, np.ones(smooth,), mode='same')/smooth\n",
    "\n",
    "plt.figure(figsize=(15, 10))\n",
    "\n",
    "ax1 = plt.subplot(2, 1, 1)\n",
    "plt.plot(smoothed_md_nodel, label='unphased mendelian no del', alpha=0.5)\n",
    "plt.plot(smoothed_cost, label='phased family mendelian', alpha=0.5)\n",
    "plt.plot(smoothed_cost-smoothed_md_nodel)\n",
    "plt.plot(smoothed_final)\n",
    "\n",
    "#plt.plot(mo, label='mom')\n",
    "#plt.plot(d, label='dad')\n",
    "#plt.plot(c1, label='child1')\n",
    "#plt.plot(c2, label='child2')\n",
    "#plt.plot(c3, label='child3')\n",
    "plt.axhline(0.01)\n",
    "plt.legend()\n",
    "\n",
    "to_plot = []\n",
    "for smooth in [1, 50, 100, 500, 1000, 5000]:\n",
    "    smooth = smooth*4\n",
    "    smoothed_cost = np.convolve(cost>0, np.ones(smooth,), mode='same')/smooth\n",
    "    smoothed_md_nodel = np.convolve(1-trios_could_be_mendelian, np.ones(smooth,), mode='same')/smooth\n",
    "    to_plot.append(smoothed_cost-smoothed_md_nodel>0.01)\n",
    "\n",
    "\n",
    "plt.subplot(2, 1, 2, sharex=ax1)\n",
    "plt.imshow(np.vstack((final_states, to_plot[0], to_plot[1], to_plot[2], to_plot[3], to_plot[4], to_plot[5])), aspect='auto')\n",
    "\n",
    "plt.show()"
   ]
  },
  {
   "cell_type": "code",
   "execution_count": null,
   "metadata": {},
   "outputs": [],
   "source": [
    "print(np.sum(1-trios_could_be_mendelian)/2/trios_could_be_mendelian.shape)\n",
    "print(np.sum(cost>0)/2/cost.shape)\n",
    "print((np.sum(parental_variants[:, cost==0]==-1) + m*np.sum(cost!=0))/2/(m*cost.shape[0]))"
   ]
  },
  {
   "cell_type": "code",
   "execution_count": null,
   "metadata": {},
   "outputs": [],
   "source": [
    "print(np.sum(smoothed_md_del > 0.01)/smoothed_md_del.shape)\n",
    "\n",
    "plt.figure(figsize=(15, 5))\n",
    "plt.hist(smoothed_md_del, bins=70)\n",
    "plt.xlim([0, 0.1])\n",
    "plt.show()"
   ]
  },
  {
   "cell_type": "code",
   "execution_count": null,
   "metadata": {},
   "outputs": [],
   "source": [
    "\n",
    "smooth=5000\n",
    "#mo = np.convolve(blame[0, :], np.ones(smooth,), mode='same')/smooth\n",
    "#d = np.convolve(blame[1, :], np.ones(smooth,), mode='same')/smooth\n",
    "#c1 = np.convolve(blame[2, :], np.ones(smooth,), mode='same')/smooth\n",
    "#c2 = np.convolve(blame[3, :], np.ones(smooth,), mode='same')/smooth\n",
    "#c3 = np.convolve(blame[4, :], np.ones(smooth,), mode='same')/smooth\n",
    "#overall = np.convolve(np.sum(blame, axis=0), np.ones(smooth,), mode='same')/smooth\n",
    "\n",
    "\n",
    "\n",
    "plt.figure(figsize=(15, 10))\n",
    "\n",
    "ax1 = plt.subplot(2, 1, 1)\n",
    "plt.plot(mo, label='mom')\n",
    "plt.plot(d, label='dad')\n",
    "plt.plot(c1, label='child1')\n",
    "plt.plot(c2, label='child2')\n",
    "plt.plot(c3, label='child3')\n",
    "#plt.plot(b)\n",
    "plt.legend()\n",
    "\n",
    "plt.subplot(2, 1, 2, sharex=ax1)\n",
    "plt.imshow(final_states, aspect='auto')\n",
    "\n",
    "plt.show()"
   ]
  },
  {
   "cell_type": "code",
   "execution_count": null,
   "metadata": {},
   "outputs": [],
   "source": [
    "print(np.sum(blame[0, :]==1), np.sum(blame[1, :]==1))\n",
    "print(np.sum(blame[2, :]==1), np.sum(blame[3, :]==1), np.sum(blame[4, :]==1))"
   ]
  },
  {
   "cell_type": "code",
   "execution_count": null,
   "metadata": {},
   "outputs": [],
   "source": [
    "print('hello')"
   ]
  },
  {
   "cell_type": "code",
   "execution_count": null,
   "metadata": {},
   "outputs": [],
   "source": [
    "smooth=500\n",
    "mo = np.convolve(blame[0, :], np.ones(smooth,), mode='same')/smooth\n",
    "d = np.convolve(blame[1, :], np.ones(smooth,), mode='same')/smooth\n",
    "c1 = np.convolve(blame[2, :], np.ones(smooth,), mode='same')/smooth\n",
    "c2 = np.convolve(blame[3, :], np.ones(smooth,), mode='same')/smooth\n",
    "c3 = np.convolve(blame[4, :], np.ones(smooth,), mode='same')/smooth\n",
    "\n",
    "\n",
    "plt.figure(figsize=(15, 5))\n",
    "\n",
    "plt.plot(mo, label='mom')\n",
    "plt.plot(d, label='dad')\n",
    "plt.plot(c1, label='child1')\n",
    "plt.plot(c2, label='child2')\n",
    "plt.plot(c3, label='child3')\n",
    "plt.legend()\n",
    "plt.show()"
   ]
  },
  {
   "cell_type": "code",
   "execution_count": null,
   "metadata": {},
   "outputs": [],
   "source": [
    "plt.figure(figsize=(15, 5))\n",
    "plt.imshow(final_states, aspect='auto')\n",
    "plt.show()\n",
    "print(np.sum(np.any(final_states[:, 1:] != final_states[:, :-1], axis=0)))"
   ]
  },
  {
   "cell_type": "code",
   "execution_count": null,
   "metadata": {},
   "outputs": [],
   "source": [
    "plt.figure(figsize=(15, 5))\n",
    "plt.imshow(masked_final_states, aspect='auto')\n",
    "plt.show()\n",
    "print(np.sum(np.any(masked_final_states[4:, 1:] != masked_final_states[4:, :-1], axis=0)))"
   ]
  },
  {
   "cell_type": "code",
   "execution_count": null,
   "metadata": {},
   "outputs": [],
   "source": [
    "plt.figure(figsize=(15, 5))\n",
    "plt.imshow(family_genotypes[:50000, :], aspect='auto')\n",
    "plt.show()\n"
   ]
  },
  {
   "cell_type": "code",
   "execution_count": null,
   "metadata": {},
   "outputs": [],
   "source": [
    "plt.figure(figsize=(15, 5))\n",
    "plt.imshow(final_states, aspect='auto')\n",
    "plt.show()\n"
   ]
  },
  {
   "cell_type": "code",
   "execution_count": null,
   "metadata": {},
   "outputs": [],
   "source": [
    "import numpy as np\n",
    "print(np.sum((family_genotypes[2, :]==1) & (family_genotypes[[0, 1, 3], :]==0)))\n",
    "print(np.sum((family_genotypes[3, :]==1) & (family_genotypes[[0, 1, 2], :]==0)))"
   ]
  },
  {
   "cell_type": "code",
   "execution_count": null,
   "metadata": {},
   "outputs": [],
   "source": [
    "print(wgs_data.chrom_length)"
   ]
  },
  {
   "cell_type": "code",
   "execution_count": null,
   "metadata": {},
   "outputs": [],
   "source": [
    "93326/family_genotypes.shape[1]"
   ]
  },
  {
   "cell_type": "code",
   "execution_count": null,
   "metadata": {},
   "outputs": [],
   "source": [
    "print(np.sum((family_genotypes[2, :]==1) & np.all(family_genotypes[[0, 1, 3], :]==0, axis=0))/family_genotypes.shape[1])\n",
    "print(np.sum((family_genotypes[3, :]==1) & np.all(family_genotypes[[0, 1, 2], :]==0, axis=0))/family_genotypes.shape[1])"
   ]
  },
  {
   "cell_type": "code",
   "execution_count": null,
   "metadata": {},
   "outputs": [],
   "source": [
    "print(np.sum(np.all(family_genotypes==0, axis=0))/family_genotypes.shape[1])"
   ]
  },
  {
   "cell_type": "code",
   "execution_count": null,
   "metadata": {},
   "outputs": [],
   "source": []
  }
 ],
 "metadata": {
  "kernelspec": {
   "display_name": "Python 3",
   "language": "python",
   "name": "python3"
  },
  "language_info": {
   "codemirror_mode": {
    "name": "ipython",
    "version": 3
   },
   "file_extension": ".py",
   "mimetype": "text/x-python",
   "name": "python",
   "nbconvert_exporter": "python",
   "pygments_lexer": "ipython3",
   "version": "3.7.3"
  }
 },
 "nbformat": 4,
 "nbformat_minor": 2
}
