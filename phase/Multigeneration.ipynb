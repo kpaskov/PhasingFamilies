{
 "cells": [
  {
   "cell_type": "code",
   "execution_count": 1110,
   "metadata": {},
   "outputs": [
    {
     "data": {
      "text/plain": [
       "<module 'viterbi' from '/Users/kelley/Projects/PhasingFamilies/phase/viterbi.py'>"
      ]
     },
     "execution_count": 1110,
     "metadata": {},
     "output_type": "execute_result"
    }
   ],
   "source": [
    "import sys\n",
    "import json\n",
    "from os import listdir\n",
    "from itertools import product\n",
    "import importlib\n",
    "import matplotlib.pyplot as plt\n",
    "import numpy as np\n",
    "\n",
    "import input_output\n",
    "importlib.reload(input_output)\n",
    "import inheritance_states\n",
    "importlib.reload(inheritance_states)\n",
    "import transition_matrices\n",
    "importlib.reload(transition_matrices)\n",
    "import genotypes\n",
    "importlib.reload(genotypes)\n",
    "import losses\n",
    "importlib.reload(losses)\n",
    "import viterbi\n",
    "importlib.reload(viterbi)"
   ]
  },
  {
   "cell_type": "code",
   "execution_count": 1255,
   "metadata": {},
   "outputs": [],
   "source": [
    "# Read in command line arguments\n",
    "chrom = '5'\n",
    "\n",
    "data_dir = '../../DATA/ihart/genotypes'\n",
    "ped_file = '../../DATA/ihart/ihart.ped'\n",
    "param_file = '../params/ihart_multiloss_params.json'\n",
    "num_loss_regions = 2\n",
    "assembly = '37'\n",
    "\n",
    "#data_dir = '../../DATA/spark/genotypes'\n",
    "#ped_file = '../../DATA/spark/spark.ped.quads.ped'\n",
    "#param_file = '../params/spark_quads_multiloss_params.json'\n",
    "#num_loss_regions = 1\n",
    "#assembly = '38'\n",
    "\n",
    "#data_dir = '../../DATA/ancestry/genotypes'\n",
    "#ped_file = '../../DATA/ancestry/ancestry.ped'\n",
    "#param_file = '../params/ancestry_multiloss_params.json'\n",
    "#num_loss_regions = 1\n",
    "#assembly = '37'\n",
    "\n",
    "detect_deletions = False\n",
    "detect_consanguinity = False\n",
    "\n",
    "# set up filenames\n",
    "sample_file = '%s/chr.%s.gen.samples.txt' % (data_dir, chrom)\n",
    "coord_file = '%s/chr.%s.gen.coordinates.npy' % (data_dir,  chrom)\n",
    "gen_files = sorted([f for f in listdir(data_dir) if ('chr.%s.' % chrom) in f and 'gen.npz' in f])\n",
    "\n",
    "with open(param_file, 'r') as f: \n",
    "    params = json.load(f)"
   ]
  },
  {
   "cell_type": "code",
   "execution_count": 1256,
   "metadata": {},
   "outputs": [],
   "source": [
    "#params['-log10(P[maternal_crossover])'] = 100\n",
    "#params['-log10(P[paternal_crossover])'] = 100"
   ]
  },
  {
   "cell_type": "code",
   "execution_count": 1257,
   "metadata": {},
   "outputs": [
    {
     "name": "stdout",
     "output_type": "stream",
     "text": [
      "families pulled 1002\n"
     ]
    }
   ],
   "source": [
    "# pull families of interest\n",
    "families = input_output.pull_families(ped_file)"
   ]
  },
  {
   "cell_type": "code",
   "execution_count": 1258,
   "metadata": {},
   "outputs": [],
   "source": [
    "# make sure at least one individual has genetic data (chromosome 1 chosen arbitrarily)\n",
    "sample_file = '%s/chr.%s.gen.samples.txt' % (data_dir, chrom)\n",
    "with open(sample_file, 'r') as f:\n",
    "    sample_ids = set([line.strip() for line in f])\n",
    "families = [x for x in families if len(set(x.individuals) & sample_ids)>0]"
   ]
  },
  {
   "cell_type": "code",
   "execution_count": 1259,
   "metadata": {},
   "outputs": [
    {
     "name": "stdout",
     "output_type": "stream",
     "text": [
      "unrelated individuals in dataset 2110\n"
     ]
    }
   ],
   "source": [
    "num_unrelated_individuals = sum([f.num_ancestors() for f in families])\n",
    "print('unrelated individuals in dataset', num_unrelated_individuals)\n"
   ]
  },
  {
   "cell_type": "code",
   "execution_count": 1260,
   "metadata": {},
   "outputs": [
    {
     "name": "stdout",
     "output_type": "stream",
     "text": [
      "[3.01029996e+00 2.70926996e+00 2.40823997e+00 2.10720997e+00\n",
      " 1.80617997e+00 1.50514998e+00 1.20411998e+00 9.03089987e-01\n",
      " 6.02059991e-01 5.79919470e-02 2.80287236e-02 1.37882845e-02\n",
      " 6.83942453e-03 3.40624869e-03 1.69978488e-03 8.49060841e-04\n",
      " 4.24322928e-04]\n"
     ]
    }
   ],
   "source": [
    "af_boundaries = np.arange(-np.log10(0.25), np.log10(2*num_unrelated_individuals/3), np.log10(2)).tolist() # use rule of 3; we can't differentiate allele frequencies any smaller than 3/(2*num unrelated individuals).\n",
    "af_boundaries.extend([-np.log10(1-(10.0**-x)) for x in af_boundaries[1:]])\n",
    "af_boundaries = np.array(sorted(af_boundaries, reverse=True))\n",
    "print(af_boundaries)\n"
   ]
  },
  {
   "cell_type": "code",
   "execution_count": 1261,
   "metadata": {},
   "outputs": [
    {
     "name": "stdout",
     "output_type": "stream",
     "text": [
      "1001\n"
     ]
    }
   ],
   "source": [
    "# if we're detecting consanguinity, restrict to nuclear families\n",
    "if detect_consanguinity:\n",
    "    families = [x for x in families if x.num_ancestors()==2 and len(x.ordered_couples)==1]\n",
    "    \n",
    "    # to detect consanguinity, model a shared ancestor\n",
    "    for family in families:\n",
    "        family.add_child(family.mat_ancestors[0], 'mat_shared_ancestor', 'pat_shared_ancestor')\n",
    "        family.add_child(family.pat_ancestors[0], 'mat_shared_ancestor', 'pat_shared_ancestor')\n",
    "    \n",
    "print(len(families))"
   ]
  },
  {
   "cell_type": "code",
   "execution_count": 1262,
   "metadata": {},
   "outputs": [
    {
     "name": "stdout",
     "output_type": "stream",
     "text": [
      "family AU1182 ['AU1182202', 'AU1182201', 'AU1182301', 'AU1182302']\n",
      "dict_items([(('AU1182202', 'AU1182201'), ['AU1182301', 'AU1182302'])])\n"
     ]
    }
   ],
   "source": [
    "import random\n",
    "\n",
    "\n",
    "family = random.choice(families)\n",
    "#family = [f for f in families if f.id=='SF0006106'][0]\n",
    "#family = [f for f in families if f.id=='AU0197'][0]\n",
    "print('family', family.id, family.individuals)\n",
    "print(family.parents_to_children.items())"
   ]
  },
  {
   "cell_type": "code",
   "execution_count": 1263,
   "metadata": {
    "scrolled": true
   },
   "outputs": [
    {
     "name": "stdout",
     "output_type": "stream",
     "text": [
      "fixed [('AU1182301', 'mat'), ('AU1182301', 'pat')]\n",
      "inheritance states (8, 9)\n",
      "transitions (8, 4)\n"
     ]
    }
   ],
   "source": [
    "importlib.reload(inheritance_states)\n",
    "importlib.reload(transition_matrices)\n",
    "\n",
    "# create inheritance states\n",
    "if chrom == 'X':\n",
    "    states = inheritance_states.InheritanceStates(family, detect_deletions, True, num_loss_regions)\n",
    "else:\n",
    "    states = inheritance_states.InheritanceStates(family, detect_deletions, detect_deletions, num_loss_regions)\n",
    "\n",
    "# create transition matrix\n",
    "transitions = transition_matrices.TransitionMatrix(states, params)\n",
    "                "
   ]
  },
  {
   "cell_type": "code",
   "execution_count": 1264,
   "metadata": {},
   "outputs": [
    {
     "name": "stdout",
     "output_type": "stream",
     "text": [
      "no data []\n",
      "AU1182202\n",
      "\t0/0\t0/1\t1/1\t./.\n",
      "0/0\t0.0003-0.0021\t3.7797-2.9377\t6.2588-4.5864\t3.3307-2.4480\n",
      "0/1\t2.4032-1.7956\t0.0024-0.0146\t2.9304-2.0056\t3.4276-2.1389\n",
      "1/1\t5.5250-3.9316\t3.5655-2.0974\t0.0004-0.0046\t3.1780-2.6192\n",
      "-/0\t0.0003-0.0021\t3.7797-2.9377\t6.2588-4.5864\t3.3307-2.4480\n",
      "-/1\t5.5250-3.9316\t3.5655-2.0974\t0.0004-0.0046\t3.1780-2.6192\n",
      "-/-\t3.5655-2.0974\t5.8919-4.2590\t3.7797-2.9377\t0.0002-0.0040\n",
      "AU1182201\n",
      "\t0/0\t0/1\t1/1\t./.\n",
      "0/0\t0.0002-0.0019\t3.7797-2.9377\t5.1829-4.5281\t3.5031-2.4842\n",
      "0/1\t2.5056-1.8465\t0.0017-0.0137\t3.3388-2.0423\t3.4315-2.1094\n",
      "1/1\t5.4120-3.9227\t3.5655-2.0974\t0.0003-0.0048\t3.4444-2.5325\n",
      "-/0\t0.0002-0.0019\t3.7797-2.9377\t5.1829-4.5281\t3.5031-2.4842\n",
      "-/1\t5.4120-3.9227\t3.5655-2.0974\t0.0003-0.0048\t3.4444-2.5325\n",
      "-/-\t3.5655-2.0974\t5.2975-4.2254\t3.7797-2.9377\t0.0002-0.0040\n",
      "AU1182301\n",
      "\t0/0\t0/1\t1/1\t./.\n",
      "0/0\t0.0002-0.0016\t3.7901-2.9481\t5.8289-4.3790\t3.7088-2.5837\n",
      "0/1\t2.9638-2.8237\t0.0006-0.0027\t5.3265-2.9033\t3.7364-2.4684\n",
      "1/1\t4.6734-3.5014\t3.5480-2.1034\t0.0003-0.0048\t3.5301-2.5647\n",
      "-/0\t0.0002-0.0016\t3.7901-2.9481\t5.8289-4.3790\t3.7088-2.5837\n",
      "-/1\t4.6734-3.5014\t3.5480-2.1034\t0.0003-0.0048\t3.5301-2.5647\n",
      "-/-\t3.5480-2.1034\t5.2512-3.9402\t3.7901-2.9481\t0.0002-0.0040\n",
      "AU1182302\n",
      "\t0/0\t0/1\t1/1\t./.\n",
      "0/0\t0.0002-0.0021\t3.7693-2.9273\t5.6620-4.4015\t3.5986-2.4399\n",
      "0/1\t2.8699-2.4437\t0.0009-0.0044\t3.6645-2.6921\t3.3667-2.3426\n",
      "1/1\t4.3449-3.1744\t3.5830-2.0915\t0.0005-0.0058\t3.1246-2.3393\n",
      "-/0\t0.0002-0.0021\t3.7693-2.9273\t5.6620-4.4015\t3.5986-2.4399\n",
      "-/1\t4.3449-3.1744\t3.5830-2.0915\t0.0005-0.0058\t3.1246-2.3393\n",
      "-/-\t3.5830-2.0915\t5.0035-3.7879\t3.7693-2.9273\t0.0002-0.0041\n",
      "[3.01029996e+00 2.70926996e+00 2.40823997e+00 2.10720997e+00\n",
      " 1.80617997e+00 1.50514998e+00 1.20411998e+00 9.03089987e-01\n",
      " 6.02059991e-01 5.79919470e-02 2.80287236e-02 1.37882845e-02\n",
      " 6.83942453e-03 3.40624869e-03 1.69978488e-03 8.49060841e-04\n",
      " 4.24322928e-04]\n",
      "alt costs [3.01029996e+00 2.70926996e+00 2.40823997e+00 2.10720997e+00\n",
      " 1.80617997e+00 1.50514998e+00 1.20411998e+00 9.03089987e-01\n",
      " 6.02059991e-01 3.01029996e-01 5.79919470e-02 2.80287236e-02\n",
      " 1.37882845e-02 6.83942453e-03 3.40624869e-03 1.69978488e-03\n",
      " 8.49060841e-04 4.24322928e-04]\n",
      "ref costs [4.24322928e-04 8.49060841e-04 1.69978488e-03 3.40624869e-03\n",
      " 6.83942453e-03 1.37882845e-02 2.80287236e-02 5.79919470e-02\n",
      " 1.24938737e-01 3.01029996e-01 9.03089987e-01 1.20411998e+00\n",
      " 1.50514998e+00 1.80617997e+00 2.10720997e+00 2.40823997e+00\n",
      " 2.70926996e+00 3.01029996e+00]\n",
      "miss costs [0.30103 0.30103 0.30103 0.30103 0.30103 0.30103 0.30103 0.30103 0.30103\n",
      " 0.30103 0.30103 0.30103 0.30103 0.30103 0.30103 0.30103 0.30103 0.30103]\n",
      "perfect matches 29\n",
      "perfect_match_indices (8, 16)\n"
     ]
    }
   ],
   "source": [
    "importlib.reload(losses)\n",
    "\n",
    "# create loss function\n",
    "loss = losses.LazyLoss(states, family, params, num_loss_regions, af_boundaries)\n"
   ]
  },
  {
   "cell_type": "code",
   "execution_count": 1265,
   "metadata": {},
   "outputs": [],
   "source": [
    "#af_index = random.choice(np.arange(1, len(af_boundaries)))\n",
    "#total_prob = np.zeros((states.num_states,))\n",
    "#for gen in np.array(list(product(*([[0, 1, 2, -1]]*len(family)) + [[af_index]]))):\n",
    "#    if np.all(gen[:-1]==0) or np.any(gen[:-1]>0):\n",
    "#        total_prob += np.power(10, -loss(gen))\n",
    "#        \n",
    "#assert np.all(np.isclose(total_prob, 1))"
   ]
  },
  {
   "cell_type": "code",
   "execution_count": 1266,
   "metadata": {},
   "outputs": [
    {
     "name": "stdout",
     "output_type": "stream",
     "text": [
      "(4, 4522196) (4522196,)\n",
      "genotypes pulled (5, 578266) [[0 0 0 ... 0 1 0]\n",
      " [0 2 0 ... 0 0 0]\n",
      " [0 1 0 ... 0 1 0]\n",
      " [0 2 0 ... 0 1 0]\n",
      " [0 9 0 ... 0 8 0]]\n",
      "Data pulled\n"
     ]
    }
   ],
   "source": [
    "import input_output\n",
    "importlib.reload(input_output)\n",
    "\n",
    "# pull genotype data for this family\n",
    "family_genotypes, family_snp_positions, mult_factor = input_output.pull_gen_data_for_individuals(data_dir, af_boundaries, assembly, chrom, family.individuals)\n",
    "print('Data pulled')\n",
    "\n"
   ]
  },
  {
   "cell_type": "code",
   "execution_count": 1267,
   "metadata": {},
   "outputs": [
    {
     "data": {
      "image/png": "[encoded data removed]",
      "text/plain": [
       "<Figure size 432x288 with 1 Axes>"
      ]
     },
     "metadata": {
      "needs_background": "light"
     },
     "output_type": "display_data"
    }
   ],
   "source": [
    "plt.hist(family_genotypes[-1, mult_factor==0], alpha=0.5, bins=np.arange(len(af_boundaries)+1), log=True)\n",
    "plt.hist(family_genotypes[-1, (mult_factor>0) & ~np.all(family_genotypes[:-1, :]==0, axis=0)], alpha=0.5, bins=np.arange(len(af_boundaries)+1), log=True)\n",
    "plt.hist(family_genotypes[-1, (mult_factor>0) & np.all(family_genotypes[:-1, :]==0, axis=0)], alpha=0.5, bins=np.arange(len(af_boundaries)+1), log=True)\n",
    "plt.xticks(np.arange(len(af_boundaries)), ['%0.3f' % 10.0**-x for x in af_boundaries], rotation=90)\n",
    "plt.show()"
   ]
  },
  {
   "cell_type": "code",
   "execution_count": 1268,
   "metadata": {},
   "outputs": [
    {
     "name": "stdout",
     "output_type": "stream",
     "text": [
      "cached losses (8, 361) already_calculated 0\n"
     ]
    }
   ],
   "source": [
    "loss.set_cache(family_genotypes)\n"
   ]
  },
  {
   "cell_type": "code",
   "execution_count": 1269,
   "metadata": {},
   "outputs": [
    {
     "name": "stdout",
     "output_type": "stream",
     "text": [
      "Forward sweep complete 31.392361879348755 sec\n"
     ]
    }
   ],
   "source": [
    "importlib.reload(viterbi)\n",
    "\n",
    "# forward sweep\n",
    "v_cost = viterbi.viterbi_forward_sweep(family_genotypes, family_snp_positions, mult_factor, states, transitions, loss)\n",
    "\n",
    "\n"
   ]
  },
  {
   "cell_type": "code",
   "execution_count": null,
   "metadata": {},
   "outputs": [
    {
     "name": "stdout",
     "output_type": "stream",
     "text": [
      "Num solutions (1,) 355694.9379153761 (array([1, 1, 1, 1, 0, 0, 0, 1, 1], dtype=int8),)\n"
     ]
    }
   ],
   "source": [
    "importlib.reload(viterbi)\n",
    "\n",
    "# backward sweep\n",
    "final_states = viterbi.viterbi_backward_sweep(v_cost, states, transitions)\n"
   ]
  },
  {
   "cell_type": "code",
   "execution_count": null,
   "metadata": {},
   "outputs": [],
   "source": [
    "final_states_greyed = final_states.copy()\n",
    "final_states_greyed[:, final_states[-1, :]==1] = -1\n",
    "\n",
    "plt.figure(figsize=(15, 7))\n",
    "plt.imshow(final_states, aspect='auto', vmin=-1)\n",
    "plt.yticks(np.arange(final_states.shape[0]), \n",
    "           ['m%d_del' % i for i in range(1, 2*len(family.mat_ancestors)+1)] + ['p%d_del' % i for i in range(1, 2*len(family.pat_ancestors)+1)] + \\\n",
    "           sum([['%s_mat' % x,'%s_pat' % x] for x in family.individuals], []) + ['loss_region'])\n",
    "\n",
    "#plt.subplot(2, 1, 2, sharex=ax)\n",
    "#plt.fill_between(np.arange(family_snp_positions.shape[0]), 0, (family_snp_positions[:, 0]>=0) & (family_snp_positions[:, 1]<=20500000), alpha=0.5)\n",
    "#plt.fill_between(np.arange(family_snp_positions.shape[0]), 0, (family_snp_positions[:, 0]>=9600000) & (family_snp_positions[:, 1]<=16300000))\n",
    "#plt.fill_between(np.arange(family_snp_positions.shape[0]), 0, (family_snp_positions[:, 1]<=9600000) | (family_snp_positions[:, 0]>=48200000))\n",
    "\n",
    "#plt.xticks(xticks, xlabels, rotation=90)\n",
    "\n",
    "#plt.subplot(3, 1, 3)\n",
    "#plt.plot(np.log2(family_snp_positions[:, 1]-family_snp_positions[:, 0]), marker='.', linestyle='')\n",
    "#plt.plot(c[1:]-c[:-1], marker='.', linestyle='')\n",
    "#plt.plot(num_non_mend, marker='.', linestyle='')\n",
    "#plt.plot(np.convolve(num_non_mend, np.ones((100,)), mode='same'))\n",
    "#plt.plot(np.convolve(num_missing, np.ones((100,)), mode='same'))\n",
    "#plt.scatter(family_snp_positions[:, 0], final_states[-1, :], marker='.')\n",
    "#plt.xticks(family_snp_positions[xticks, 0], xlabels, rotation=90)\n",
    "#for i in np.where(family_snp_positions[:, 1]-family_snp_positions[:, 0] > 10000)[0]:\n",
    "#    plt.plot([family_snp_positions[i, 0], family_snp_positions[i, 1]], [final_states[-1, i], final_states[-1, i]], color='grey')\n",
    "#    #print(family_snp_positions[i, :])\n",
    "plt.tight_layout()\n",
    "plt.show()"
   ]
  },
  {
   "cell_type": "code",
   "execution_count": 1235,
   "metadata": {},
   "outputs": [
    {
     "data": {
      "text/plain": [
       "0.9848221970034028"
      ]
     },
     "execution_count": 1235,
     "metadata": {},
     "output_type": "execute_result"
    }
   ],
   "source": [
    "np.sum((final_states[-1, :]!=1)*mult_factor)/np.sum(mult_factor)\n"
   ]
  },
  {
   "cell_type": "code",
   "execution_count": 1203,
   "metadata": {},
   "outputs": [
    {
     "name": "stdout",
     "output_type": "stream",
     "text": [
      "267\n"
     ]
    }
   ],
   "source": [
    "print(np.sum((final_states[10, :400000]==0) & (final_states[-1, :400000]!=1)))"
   ]
  },
  {
   "cell_type": "code",
   "execution_count": 56,
   "metadata": {},
   "outputs": [
    {
     "name": "stdout",
     "output_type": "stream",
     "text": [
      "0.08166433284944095\n",
      "0.3331245744530517\n"
     ]
    }
   ],
   "source": [
    "print(np.sum((final_states[10, :]==0)*mult_factor)/np.sum(mult_factor))\n",
    "print(np.sum((final_states[11, :]==2)*mult_factor)/np.sum(mult_factor))\n"
   ]
  },
  {
   "cell_type": "code",
   "execution_count": 1206,
   "metadata": {},
   "outputs": [
    {
     "data": {
      "image/png": "[encoded data removed]",
      "text/plain": [
       "<Figure size 1080x360 with 1 Axes>"
      ]
     },
     "metadata": {
      "needs_background": "light"
     },
     "output_type": "display_data"
    }
   ],
   "source": [
    "plt.figure(figsize=(15, 5))\n",
    "indices = (final_states[10, :400000]==0) & (final_states[-1, :400000]!=1)\n",
    "plt.imshow(family_genotypes[:, :400000][:-1, indices], aspect='auto', vmin=-1, vmax=2)\n",
    "plt.show()"
   ]
  },
  {
   "cell_type": "code",
   "execution_count": null,
   "metadata": {},
   "outputs": [],
   "source": []
  }
 ],
 "metadata": {
  "kernelspec": {
   "display_name": "Python 3",
   "language": "python",
   "name": "python3"
  },
  "language_info": {
   "codemirror_mode": {
    "name": "ipython",
    "version": 3
   },
   "file_extension": ".py",
   "mimetype": "text/x-python",
   "name": "python",
   "nbconvert_exporter": "python",
   "pygments_lexer": "ipython3",
   "version": "3.7.3"
  }
 },
 "nbformat": 4,
 "nbformat_minor": 2
}
