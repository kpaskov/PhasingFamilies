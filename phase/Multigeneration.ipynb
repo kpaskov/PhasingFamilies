{
 "cells": [
  {
   "cell_type": "code",
   "execution_count": 13,
   "metadata": {},
   "outputs": [
    {
     "data": {
      "text/plain": [
       "<module 'viterbi' from '/Users/kelley/Projects/PhasingFamilies/phase/viterbi.py'>"
      ]
     },
     "execution_count": 13,
     "metadata": {},
     "output_type": "execute_result"
    }
   ],
   "source": [
    "import sys\n",
    "import json\n",
    "from os import listdir\n",
    "from itertools import product\n",
    "import importlib\n",
    "import matplotlib.pyplot as plt\n",
    "import numpy as np\n",
    "\n",
    "import input_output\n",
    "importlib.reload(input_output)\n",
    "import inheritance_states\n",
    "importlib.reload(inheritance_states)\n",
    "import transition_matrices\n",
    "importlib.reload(transition_matrices)\n",
    "import genotypes\n",
    "importlib.reload(genotypes)\n",
    "import losses\n",
    "importlib.reload(losses)\n",
    "import viterbi\n",
    "importlib.reload(viterbi)"
   ]
  },
  {
   "cell_type": "code",
   "execution_count": 32,
   "metadata": {},
   "outputs": [],
   "source": [
    "# Read in command line arguments\n",
    "chrom = '6'\n",
    "\n",
    "#data_dir = '../../DATA/ssc.hg38/genotypes/phase2'\n",
    "#ped_file = '../../DATA/ssc.hg38/ssc.ped'\n",
    "#param_file = '../params/ssc.hg38_phase2_multiloss_params.json'\n",
    "#num_loss_regions = 2\n",
    "#assembly = '38'\n",
    "#max_af_cost = 3#np.log10(2*71000/3)\n",
    "#print(max_af_cost)\n",
    "\n",
    "data_dir = '../../DATA/spark/genotypes'\n",
    "ped_file = '../../DATA/spark/spark.ped.quads.ped'\n",
    "param_file = '../params/spark_quads_multiloss_params.json'\n",
    "num_loss_regions = 1\n",
    "assembly = '38'\n",
    "max_af_cost = 4.7\n",
    "\n",
    "#data_dir = '../../DATA/ancestry/genotypes'\n",
    "#ped_file = '../../DATA/ancestry/ancestry.ped'\n",
    "#param_file = '../params/ancestry_multiloss_params.json'\n",
    "#num_loss_regions = 1\n",
    "#assembly = '37'\n",
    "\n",
    "detect_deletions = False\n",
    "detect_consanguinity = False\n",
    "\n",
    "# set up filenames\n",
    "sample_file = '%s/chr.%s.gen.samples.txt' % (data_dir, chrom)\n",
    "coord_file = '%s/chr.%s.gen.coordinates.npy' % (data_dir,  chrom)\n",
    "gen_files = sorted([f for f in listdir(data_dir) if ('chr.%s.' % chrom) in f and 'gen.npz' in f])\n",
    "\n",
    "with open(param_file, 'r') as f: \n",
    "    params = json.load(f)"
   ]
  },
  {
   "cell_type": "code",
   "execution_count": 33,
   "metadata": {},
   "outputs": [],
   "source": [
    "#params['-log10(P[maternal_crossover])'] = 100\n",
    "#params['-log10(P[paternal_crossover])'] = 100"
   ]
  },
  {
   "cell_type": "code",
   "execution_count": 34,
   "metadata": {},
   "outputs": [
    {
     "name": "stdout",
     "output_type": "stream",
     "text": [
      "families pulled 15055\n"
     ]
    }
   ],
   "source": [
    "# pull families of interest\n",
    "families = input_output.pull_families(ped_file)"
   ]
  },
  {
   "cell_type": "code",
   "execution_count": 35,
   "metadata": {},
   "outputs": [
    {
     "name": "stdout",
     "output_type": "stream",
     "text": [
      "SF0000027.SP0000027.SP0000034\n"
     ]
    }
   ],
   "source": [
    "print(families[0])"
   ]
  },
  {
   "cell_type": "code",
   "execution_count": 36,
   "metadata": {},
   "outputs": [
    {
     "name": "stdout",
     "output_type": "stream",
     "text": [
      "4166 have genomic data and parameters\n"
     ]
    }
   ],
   "source": [
    "# make sure at least one individual has genetic data (chromosome 1 chosen arbitrarily)\n",
    "sample_file = '%s/samples.json' % data_dir\n",
    "with open(sample_file, 'r') as f:\n",
    "\tsample_ids = set(json.load(f))\n",
    "\n",
    "for family in families:\n",
    "\tto_be_removed = [x for x in family.individuals if x not in sample_ids or (x not in params and '%s.%s' % (family.id, x) not in params)]\n",
    "\tfamily.prune(to_be_removed)\n",
    "    \n",
    "families = [x for x in families if x.num_descendents()>0]\n",
    "print(len(families), 'have genomic data and parameters')"
   ]
  },
  {
   "cell_type": "code",
   "execution_count": 37,
   "metadata": {},
   "outputs": [
    {
     "name": "stdout",
     "output_type": "stream",
     "text": [
      "[4.51544993e+00 4.21441994e+00 3.91338994e+00 3.61235995e+00\n",
      " 3.31132995e+00 3.01029996e+00 2.70926996e+00 2.40823997e+00\n",
      " 2.10720997e+00 1.80617997e+00 1.50514998e+00 1.20411998e+00\n",
      " 9.03089987e-01 6.02059991e-01 5.79919470e-02 2.80287236e-02\n",
      " 1.37882845e-02 6.83942453e-03 3.40624869e-03 1.69978488e-03\n",
      " 8.49060841e-04 4.24322928e-04 2.12109641e-04 1.06041871e-04\n",
      " 5.30176991e-05 2.65080405e-05 1.32538180e-05]\n"
     ]
    }
   ],
   "source": [
    "af_boundaries = np.arange(-np.log10(0.25), max_af_cost, np.log10(2)).tolist() # use rule of 3; we can't differentiate allele frequencies any smaller than 3/(2*num unrelated individuals).\n",
    "af_boundaries.extend([-np.log10(1-(10.0**-x)) for x in af_boundaries[1:]])\n",
    "af_boundaries = np.array(sorted(af_boundaries, reverse=True))\n",
    "print(af_boundaries)\n"
   ]
  },
  {
   "cell_type": "code",
   "execution_count": 38,
   "metadata": {},
   "outputs": [
    {
     "name": "stdout",
     "output_type": "stream",
     "text": [
      "4166\n"
     ]
    }
   ],
   "source": [
    "# if we're detecting consanguinity, restrict to nuclear families\n",
    "if detect_consanguinity:\n",
    "    families = [x for x in families if x.num_ancestors()==2 and len(x.ordered_couples)==1]\n",
    "    \n",
    "    # to detect consanguinity, model a shared ancestor\n",
    "    for family in families:\n",
    "        family.add_child(family.mat_ancestors[0], 'mat_shared_ancestor', 'pat_shared_ancestor')\n",
    "        family.add_child(family.pat_ancestors[0], 'mat_shared_ancestor', 'pat_shared_ancestor')\n",
    "    \n",
    "print(len(families))"
   ]
  },
  {
   "cell_type": "code",
   "execution_count": 46,
   "metadata": {},
   "outputs": [
    {
     "name": "stdout",
     "output_type": "stream",
     "text": [
      "family SF0087131.SP0087131.SP0087132 ['SP0087130', 'SP0088101', 'SP0087132', 'SP0087131']\n",
      "dict_items([(('SP0087130', 'SP0088101'), ['SP0087132', 'SP0087131'])])\n"
     ]
    }
   ],
   "source": [
    "import random\n",
    "\n",
    "\n",
    "#family = random.choice(families)\n",
    "#family = [f for f in families if f.id=='13949'][0]\n",
    "family = [f for f in families if f.id=='SF0087131.SP0087131.SP0087132'][0]\n",
    "print('family', family.id, family.individuals)\n",
    "print(family.parents_to_children.items())"
   ]
  },
  {
   "cell_type": "code",
   "execution_count": 47,
   "metadata": {
    "scrolled": true
   },
   "outputs": [
    {
     "name": "stdout",
     "output_type": "stream",
     "text": [
      "fixed [('SP0087132', 'mat'), ('SP0087132', 'pat')]\n",
      "inheritance states (4, 9)\n",
      "transitions (4, 3)\n"
     ]
    }
   ],
   "source": [
    "importlib.reload(inheritance_states)\n",
    "importlib.reload(transition_matrices)\n",
    "\n",
    "# create inheritance states\n",
    "if chrom == 'X':\n",
    "    states = inheritance_states.InheritanceStates(family, detect_deletions, True, num_loss_regions)\n",
    "else:\n",
    "    states = inheritance_states.InheritanceStates(family, detect_deletions, detect_deletions, num_loss_regions)\n",
    "\n",
    "# create transition matrix\n",
    "transitions = transition_matrices.TransitionMatrix(states, params)\n",
    "                "
   ]
  },
  {
   "cell_type": "code",
   "execution_count": 48,
   "metadata": {},
   "outputs": [
    {
     "name": "stdout",
     "output_type": "stream",
     "text": [
      "no data []\n",
      "SP0087130\n",
      "\t0/0\t0/1\t1/1\t./.\n",
      "0/0\t0.0019\t3.7350\t5.0129\t2.3756\n",
      "0/1\t4.5039\t0.0024\t4.1775\t2.2702\n",
      "1/1\t3.3367\t2.8939\t0.0040\t2.1321\n",
      "-/0\t0.0019\t3.7350\t5.0129\t2.3756\n",
      "-/1\t3.3367\t2.8939\t0.0040\t2.1321\n",
      "-/-\t2.8939\t4.1748\t3.7350\t0.0007\n",
      "SP0088101\n",
      "\t0/0\t0/1\t1/1\t./.\n",
      "0/0\t0.0009\t3.7350\t4.7723\t2.7238\n",
      "0/1\t4.5030\t0.0016\t4.5055\t2.4415\n",
      "1/1\t3.3971\t2.8939\t0.0021\t2.5108\n",
      "-/0\t0.0009\t3.7350\t4.7723\t2.7238\n",
      "-/1\t3.3971\t2.8939\t0.0021\t2.5108\n",
      "-/-\t2.8939\t4.0847\t3.7350\t0.0007\n",
      "SP0087132\n",
      "\t0/0\t0/1\t1/1\t./.\n",
      "0/0\t0.0132\t2.9996\t5.3611\t1.5397\n",
      "0/1\t3.3792\t0.0073\t3.7876\t1.7909\n",
      "1/1\t3.7784\t2.6196\t0.0216\t1.3379\n",
      "-/0\t0.0132\t2.9996\t5.3611\t1.5397\n",
      "-/1\t3.7784\t2.6196\t0.0216\t1.3379\n",
      "-/-\t2.6196\t4.5698\t2.9996\t0.0015\n",
      "SP0087131\n",
      "\t0/0\t0/1\t1/1\t./.\n",
      "0/0\t0.0009\t4.4705\t5.3618\t2.6881\n",
      "0/1\t3.5460\t0.0018\t4.5597\t2.4262\n",
      "1/1\t3.7785\t3.1681\t0.0016\t2.5308\n",
      "-/0\t0.0009\t4.4705\t5.3618\t2.6881\n",
      "-/1\t3.7785\t3.1681\t0.0016\t2.5308\n",
      "-/-\t3.1681\t4.5702\t4.4705\t0.0003\n",
      "[4.51544993e+00 4.21441994e+00 3.91338994e+00 3.61235995e+00\n",
      " 3.31132995e+00 3.01029996e+00 2.70926996e+00 2.40823997e+00\n",
      " 2.10720997e+00 1.80617997e+00 1.50514998e+00 1.20411998e+00\n",
      " 9.03089987e-01 6.02059991e-01 5.79919470e-02 2.80287236e-02\n",
      " 1.37882845e-02 6.83942453e-03 3.40624869e-03 1.69978488e-03\n",
      " 8.49060841e-04 4.24322928e-04 2.12109641e-04 1.06041871e-04\n",
      " 5.30176991e-05 2.65080405e-05 1.32538180e-05]\n",
      "alt costs [4.51544993e+00 4.21441994e+00 3.91338994e+00 3.61235995e+00\n",
      " 3.31132995e+00 3.01029996e+00 2.70926996e+00 2.40823997e+00\n",
      " 2.10720997e+00 1.80617997e+00 1.50514998e+00 1.20411998e+00\n",
      " 9.03089987e-01 6.02059991e-01 3.01029996e-01 5.79919470e-02\n",
      " 2.80287236e-02 1.37882845e-02 6.83942453e-03 3.40624869e-03\n",
      " 1.69978488e-03 8.49060841e-04 4.24322928e-04 2.12109641e-04\n",
      " 1.06041871e-04 5.30176991e-05 2.65080405e-05 1.32538180e-05]\n",
      "ref costs [1.32538180e-05 2.65080405e-05 5.30176991e-05 1.06041871e-04\n",
      " 2.12109641e-04 4.24322928e-04 8.49060841e-04 1.69978488e-03\n",
      " 3.40624869e-03 6.83942453e-03 1.37882845e-02 2.80287236e-02\n",
      " 5.79919470e-02 1.24938737e-01 3.01029996e-01 9.03089987e-01\n",
      " 1.20411998e+00 1.50514998e+00 1.80617997e+00 2.10720997e+00\n",
      " 2.40823997e+00 2.70926996e+00 3.01029996e+00 3.31132995e+00\n",
      " 3.61235995e+00 3.91338994e+00 4.21441994e+00 4.51544993e+00]\n",
      "miss costs [0.30103 0.30103 0.30103 0.30103 0.30103 0.30103 0.30103 0.30103 0.30103\n",
      " 0.30103 0.30103 0.30103 0.30103 0.30103 0.30103 0.30103 0.30103 0.30103\n",
      " 0.30103 0.30103 0.30103 0.30103 0.30103 0.30103 0.30103 0.30103 0.30103\n",
      " 0.30103]\n",
      "perfect matches 29\n",
      "perfect_match_indices (4, 16)\n"
     ]
    }
   ],
   "source": [
    "importlib.reload(losses)\n",
    "\n",
    "# create loss function\n",
    "loss = losses.LazyLoss(states, family, params, num_loss_regions, af_boundaries)\n"
   ]
  },
  {
   "cell_type": "code",
   "execution_count": 49,
   "metadata": {},
   "outputs": [],
   "source": [
    "#af_index = random.choice(np.arange(1, len(af_boundaries)))\n",
    "#total_prob = np.zeros((states.num_states,))\n",
    "#for gen in np.array(list(product(*([[0, 1, 2, -1]]*len(family)) + [[af_index]]))):\n",
    "#    if np.all(gen[:-1]==0) or np.any(gen[:-1]>0):\n",
    "#        total_prob += np.power(10, -loss(gen))\n",
    "#        \n",
    "#assert np.all(np.isclose(total_prob, 1))"
   ]
  },
  {
   "cell_type": "code",
   "execution_count": 60,
   "metadata": {},
   "outputs": [
    {
     "name": "stdout",
     "output_type": "stream",
     "text": [
      "1 1 1\n",
      "(4, 13887) (13887,) (13887,) (13888,)\n",
      "(4, 13887) (13887,)\n",
      "[[39066297 39066296]]\n"
     ]
    },
    {
     "ename": "AssertionError",
     "evalue": "",
     "output_type": "error",
     "traceback": [
      "\u001b[0;31m---------------------------------------------------------------------------\u001b[0m",
      "\u001b[0;31mAssertionError\u001b[0m                            Traceback (most recent call last)",
      "\u001b[0;32m<ipython-input-60-12d33c8905b5>\u001b[0m in \u001b[0;36m<module>\u001b[0;34m\u001b[0m\n\u001b[1;32m      3\u001b[0m \u001b[0;34m\u001b[0m\u001b[0m\n\u001b[1;32m      4\u001b[0m \u001b[0;31m# pull genotype data for this family\u001b[0m\u001b[0;34m\u001b[0m\u001b[0;34m\u001b[0m\u001b[0;34m\u001b[0m\u001b[0m\n\u001b[0;32m----> 5\u001b[0;31m \u001b[0mfamily_genotypes\u001b[0m\u001b[0;34m,\u001b[0m \u001b[0mfamily_snp_positions\u001b[0m\u001b[0;34m,\u001b[0m \u001b[0mmult_factor\u001b[0m \u001b[0;34m=\u001b[0m \u001b[0minput_output\u001b[0m\u001b[0;34m.\u001b[0m\u001b[0mpull_gen_data_for_individuals\u001b[0m\u001b[0;34m(\u001b[0m\u001b[0mdata_dir\u001b[0m\u001b[0;34m,\u001b[0m \u001b[0maf_boundaries\u001b[0m\u001b[0;34m,\u001b[0m \u001b[0massembly\u001b[0m\u001b[0;34m,\u001b[0m \u001b[0mchrom\u001b[0m\u001b[0;34m,\u001b[0m \u001b[0mfamily\u001b[0m\u001b[0;34m.\u001b[0m\u001b[0mindividuals\u001b[0m\u001b[0;34m)\u001b[0m\u001b[0;34m\u001b[0m\u001b[0;34m\u001b[0m\u001b[0m\n\u001b[0m\u001b[1;32m      6\u001b[0m \u001b[0mprint\u001b[0m\u001b[0;34m(\u001b[0m\u001b[0;34m'Data pulled'\u001b[0m\u001b[0;34m)\u001b[0m\u001b[0;34m\u001b[0m\u001b[0;34m\u001b[0m\u001b[0m\n\u001b[1;32m      7\u001b[0m \u001b[0;34m\u001b[0m\u001b[0m\n",
      "\u001b[0;32m~/Projects/PhasingFamilies/phase/input_output.py\u001b[0m in \u001b[0;36mpull_gen_data_for_individuals\u001b[0;34m(data_dir, af_boundaries, assembly, chrom, individuals)\u001b[0m\n\u001b[1;32m    327\u001b[0m \u001b[0;34m\u001b[0m\u001b[0m\n\u001b[1;32m    328\u001b[0m         \u001b[0mprint\u001b[0m\u001b[0;34m(\u001b[0m\u001b[0mfamily_snp_positions\u001b[0m\u001b[0;34m[\u001b[0m\u001b[0mfamily_snp_positions\u001b[0m\u001b[0;34m[\u001b[0m\u001b[0;34m:\u001b[0m\u001b[0;34m,\u001b[0m \u001b[0;36m1\u001b[0m\u001b[0;34m]\u001b[0m \u001b[0;34m<\u001b[0m \u001b[0mfamily_snp_positions\u001b[0m\u001b[0;34m[\u001b[0m\u001b[0;34m:\u001b[0m\u001b[0;34m,\u001b[0m \u001b[0;36m0\u001b[0m\u001b[0;34m]\u001b[0m\u001b[0;34m,\u001b[0m \u001b[0;34m:\u001b[0m\u001b[0;34m]\u001b[0m\u001b[0;34m)\u001b[0m\u001b[0;34m\u001b[0m\u001b[0;34m\u001b[0m\u001b[0m\n\u001b[0;32m--> 329\u001b[0;31m         \u001b[0;32massert\u001b[0m \u001b[0mnp\u001b[0m\u001b[0;34m.\u001b[0m\u001b[0mall\u001b[0m\u001b[0;34m(\u001b[0m\u001b[0mfamily_snp_positions\u001b[0m\u001b[0;34m[\u001b[0m\u001b[0;34m:\u001b[0m\u001b[0;34m,\u001b[0m \u001b[0;36m1\u001b[0m\u001b[0;34m]\u001b[0m \u001b[0;34m>=\u001b[0m \u001b[0mfamily_snp_positions\u001b[0m\u001b[0;34m[\u001b[0m\u001b[0;34m:\u001b[0m\u001b[0;34m,\u001b[0m \u001b[0;36m0\u001b[0m\u001b[0;34m]\u001b[0m\u001b[0;34m)\u001b[0m\u001b[0;34m\u001b[0m\u001b[0;34m\u001b[0m\u001b[0m\n\u001b[0m\u001b[1;32m    330\u001b[0m \u001b[0;34m\u001b[0m\u001b[0m\n\u001b[1;32m    331\u001b[0m         \u001b[0;31m# remove unnecessary intervals\u001b[0m\u001b[0;34m\u001b[0m\u001b[0;34m\u001b[0m\u001b[0;34m\u001b[0m\u001b[0m\n",
      "\u001b[0;31mAssertionError\u001b[0m: "
     ]
    }
   ],
   "source": [
    "import input_output\n",
    "importlib.reload(input_output)\n",
    "\n",
    "# pull genotype data for this family\n",
    "family_genotypes, family_snp_positions, mult_factor = input_output.pull_gen_data_for_individuals(data_dir, af_boundaries, assembly, chrom, family.individuals)\n",
    "print('Data pulled')\n",
    "\n"
   ]
  },
  {
   "cell_type": "code",
   "execution_count": 44,
   "metadata": {},
   "outputs": [
    {
     "name": "stdout",
     "output_type": "stream",
     "text": [
      "23900\n"
     ]
    }
   ],
   "source": [
    "print(np.sum(mult_factor!=0))"
   ]
  },
  {
   "cell_type": "code",
   "execution_count": 45,
   "metadata": {},
   "outputs": [
    {
     "data": {
      "image/png": "[encoded data removed]",
      "text/plain": [
       "<Figure size 432x288 with 1 Axes>"
      ]
     },
     "metadata": {
      "needs_background": "light"
     },
     "output_type": "display_data"
    }
   ],
   "source": [
    "plt.hist(family_genotypes[-1, mult_factor==0], alpha=0.5, bins=np.arange(len(af_boundaries)+1), log=True)\n",
    "plt.hist(family_genotypes[-1, (mult_factor>0) & ~np.all(family_genotypes[:-1, :]==0, axis=0)], alpha=0.5, bins=np.arange(len(af_boundaries)+1), log=True)\n",
    "plt.hist(family_genotypes[-1, (mult_factor>0) & np.all(family_genotypes[:-1, :]==0, axis=0)], alpha=0.5, bins=np.arange(len(af_boundaries)+1), log=True)\n",
    "plt.xticks(np.arange(len(af_boundaries)), ['%0.3f' % 10.0**-x for x in af_boundaries], rotation=90)\n",
    "plt.show()"
   ]
  },
  {
   "cell_type": "code",
   "execution_count": 28,
   "metadata": {},
   "outputs": [
    {
     "name": "stdout",
     "output_type": "stream",
     "text": [
      "cached losses (4, 106) already_calculated 0\n"
     ]
    }
   ],
   "source": [
    "loss.set_cache(family_genotypes)\n"
   ]
  },
  {
   "cell_type": "code",
   "execution_count": 29,
   "metadata": {},
   "outputs": [
    {
     "name": "stdout",
     "output_type": "stream",
     "text": [
      "Forward sweep complete 1.0008161067962646 sec\n"
     ]
    }
   ],
   "source": [
    "importlib.reload(viterbi)\n",
    "\n",
    "# forward sweep\n",
    "v_cost = viterbi.viterbi_forward_sweep(family_genotypes, family_snp_positions, mult_factor, states, transitions, loss)\n",
    "\n",
    "# Forward sweep complete 30.899459838867188 sec\n",
    "# Forward sweep complete 95.2498619556427 sec\n",
    "\n"
   ]
  },
  {
   "cell_type": "code",
   "execution_count": 30,
   "metadata": {},
   "outputs": [
    {
     "name": "stdout",
     "output_type": "stream",
     "text": [
      "Num solutions (1,) 11344.25814757685 (array([1, 1, 1, 1, 0, 0, 0, 1, 0], dtype=int8),)\n",
      "Num forks 42\n",
      "Backward sweep complete 1.8930130004882812 sec\n"
     ]
    }
   ],
   "source": [
    "importlib.reload(viterbi)\n",
    "\n",
    "# backward sweep\n",
    "final_states = viterbi.viterbi_backward_sweep(v_cost, states, transitions)\n",
    "\n",
    "# Backward sweep complete 64.39986205101013 sec\n",
    "\n",
    "#Num forks 1029\n",
    "#Backward sweep complete 23.799263954162598 sec\n"
   ]
  },
  {
   "cell_type": "code",
   "execution_count": 31,
   "metadata": {},
   "outputs": [
    {
     "data": {
      "image/png": "[encoded data removed]",
      "text/plain": [
       "<Figure size 1080x504 with 1 Axes>"
      ]
     },
     "metadata": {
      "needs_background": "light"
     },
     "output_type": "display_data"
    }
   ],
   "source": [
    "final_states_greyed = final_states.copy()\n",
    "final_states_greyed[:, final_states[-1, :]==1] = -1\n",
    "\n",
    "plt.figure(figsize=(15, 7))\n",
    "plt.imshow(final_states, aspect='auto', vmin=-1)\n",
    "plt.yticks(np.arange(final_states.shape[0]), \n",
    "           ['m%d_del' % i for i in range(1, 2*len(family.mat_ancestors)+1)] + ['p%d_del' % i for i in range(1, 2*len(family.pat_ancestors)+1)] + \\\n",
    "           sum([['%s_mat' % x,'%s_pat' % x] for x in family.individuals], []) + ['loss_region'])\n",
    "\n",
    "#plt.subplot(2, 1, 2, sharex=ax)\n",
    "#plt.fill_between(np.arange(family_snp_positions.shape[0]), 0, (family_snp_positions[:, 0]>=0) & (family_snp_positions[:, 1]<=20500000), alpha=0.5)\n",
    "#plt.fill_between(np.arange(family_snp_positions.shape[0]), 0, (family_snp_positions[:, 0]>=9600000) & (family_snp_positions[:, 1]<=16300000))\n",
    "#plt.fill_between(np.arange(family_snp_positions.shape[0]), 0, (family_snp_positions[:, 1]<=9600000) | (family_snp_positions[:, 0]>=48200000))\n",
    "\n",
    "#plt.xticks(xticks, xlabels, rotation=90)\n",
    "\n",
    "#plt.subplot(3, 1, 3)\n",
    "#plt.plot(np.log2(family_snp_positions[:, 1]-family_snp_positions[:, 0]), marker='.', linestyle='')\n",
    "#plt.plot(c[1:]-c[:-1], marker='.', linestyle='')\n",
    "#plt.plot(num_non_mend, marker='.', linestyle='')\n",
    "#plt.plot(np.convolve(num_non_mend, np.ones((100,)), mode='same'))\n",
    "#plt.plot(np.convolve(num_missing, np.ones((100,)), mode='same'))\n",
    "#plt.scatter(family_snp_positions[:, 0], final_states[-1, :], marker='.')\n",
    "#plt.xticks(family_snp_positions[xticks, 0], xlabels, rotation=90)\n",
    "#for i in np.where(family_snp_positions[:, 1]-family_snp_positions[:, 0] > 10000)[0]:\n",
    "#    plt.plot([family_snp_positions[i, 0], family_snp_positions[i, 1]], [final_states[-1, i], final_states[-1, i]], color='grey')\n",
    "#    #print(family_snp_positions[i, :])\n",
    "plt.tight_layout()\n",
    "plt.show()"
   ]
  },
  {
   "cell_type": "code",
   "execution_count": null,
   "metadata": {},
   "outputs": [],
   "source": [
    "cyto = []\n",
    "with open('../data/cytoBand%s.txt' % assembly, 'r') as f:\n",
    "    for line in f:\n",
    "        pieces = line.strip().split('\\t')\n",
    "        if pieces[0] == 'chr%s'%chrom:\n",
    "            cyto.append((int(pieces[1]), int(pieces[2]), pieces[3]))\n",
    "            \n",
    "            prop_cycle = plt.rcParams['axes.prop_cycle']\n",
    "colors = prop_cycle.by_key()['color']\n",
    "colors[-1] = 'black'\n",
    "\n",
    "indices = np.arange(2*family.num_ancestors(), final_states.shape[0]-1)\n",
    "\n",
    "plt.figure(figsize=(15, 5))\n",
    "for i, j in enumerate(indices):    \n",
    "    a = np.zeros((2*final_states.shape[1],), dtype=int)\n",
    "    b = np.zeros((2*final_states.shape[1],), dtype=float)\n",
    "    a[0::2] = family_snp_positions[:, 0]\n",
    "    a[1::2] = family_snp_positions[:, 1]\n",
    "    b[0::2] = final_states_greyed[j, :]\n",
    "    b[1::2] = final_states_greyed[j, :]\n",
    "\n",
    "    for m in [0, 1, 2, 3, -1]:\n",
    "        c = np.zeros((a.shape[0],), dtype=float)\n",
    "        c[b==m] = -i\n",
    "        c[b!=m] = np.nan\n",
    "        plt.fill_between(a, c-0.4, c+0.4, color=colors[m])\n",
    "plt.yticks(np.arange(0, -len(indices), -1), sum([['%s_mat' % x,'%s_pat' % x] for x in family.individuals], []))\n",
    "plt.xticks([x[0] for x in cyto], [x[2] for x in cyto], rotation=90)\n",
    "\n",
    "#plt.xlim([1, 1000000])\n",
    "plt.tight_layout()\n",
    "plt.show()"
   ]
  },
  {
   "cell_type": "code",
   "execution_count": null,
   "metadata": {},
   "outputs": [],
   "source": [
    "np.sum((final_states[-1, :]==0)*mult_factor)/np.sum(mult_factor)\n"
   ]
  },
  {
   "cell_type": "code",
   "execution_count": null,
   "metadata": {},
   "outputs": [],
   "source": [
    "print(np.sum((final_states[10, :400000]==0) & (final_states[-1, :400000]!=1)))"
   ]
  },
  {
   "cell_type": "code",
   "execution_count": null,
   "metadata": {},
   "outputs": [],
   "source": [
    "print(np.sum((final_states[10, :]==0)*mult_factor)/np.sum(mult_factor))\n",
    "print(np.sum((final_states[11, :]==2)*mult_factor)/np.sum(mult_factor))\n"
   ]
  },
  {
   "cell_type": "code",
   "execution_count": null,
   "metadata": {},
   "outputs": [],
   "source": [
    "plt.figure(figsize=(15, 5))\n",
    "indices = (final_states[10, :400000]==0) & (final_states[-1, :400000]!=1)\n",
    "plt.imshow(family_genotypes[:, :400000][:-1, indices], aspect='auto', vmin=-1, vmax=2)\n",
    "plt.show()"
   ]
  },
  {
   "cell_type": "code",
   "execution_count": null,
   "metadata": {},
   "outputs": [],
   "source": []
  }
 ],
 "metadata": {
  "kernelspec": {
   "display_name": "Python 3",
   "language": "python",
   "name": "python3"
  },
  "language_info": {
   "codemirror_mode": {
    "name": "ipython",
    "version": 3
   },
   "file_extension": ".py",
   "mimetype": "text/x-python",
   "name": "python",
   "nbconvert_exporter": "python",
   "pygments_lexer": "ipython3",
   "version": "3.7.3"
  }
 },
 "nbformat": 4,
 "nbformat_minor": 2
}
