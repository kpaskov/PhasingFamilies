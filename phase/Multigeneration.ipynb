{
 "cells": [
  {
   "cell_type": "code",
   "execution_count": 79,
   "metadata": {},
   "outputs": [
    {
     "data": {
      "text/plain": [
       "<module 'viterbi' from '/Users/kelley/Projects/PhasingFamilies/phase/viterbi.py'>"
      ]
     },
     "execution_count": 79,
     "metadata": {},
     "output_type": "execute_result"
    }
   ],
   "source": [
    "import sys\n",
    "import json\n",
    "from os import listdir\n",
    "from itertools import product\n",
    "import importlib\n",
    "import matplotlib.pyplot as plt\n",
    "import numpy as np\n",
    "\n",
    "import input_output\n",
    "importlib.reload(input_output)\n",
    "import inheritance_states\n",
    "importlib.reload(inheritance_states)\n",
    "import transition_matrices\n",
    "importlib.reload(transition_matrices)\n",
    "import genotypes\n",
    "importlib.reload(genotypes)\n",
    "import losses\n",
    "importlib.reload(losses)\n",
    "import viterbi\n",
    "importlib.reload(viterbi)"
   ]
  },
  {
   "cell_type": "code",
   "execution_count": 205,
   "metadata": {},
   "outputs": [
    {
     "name": "stdout",
     "output_type": "stream",
     "text": [
      "3\n"
     ]
    }
   ],
   "source": [
    "# Read in command line arguments\n",
    "chrom = '12'\n",
    "\n",
    "data_dir = '../../DATA/ihart/genotypes'\n",
    "ped_file = '../../DATA/ihart/ihart.ped'\n",
    "param_file = '../params/ihart_multiloss_params.json'\n",
    "num_loss_regions = 2\n",
    "assembly = '37'\n",
    "max_af_cost = 3#np.log10(2*71000/3)\n",
    "print(max_af_cost)\n",
    "\n",
    "#data_dir = '../../DATA/spark/genotypes'\n",
    "#ped_file = '../../DATA/spark/spark.ped.quads.ped'\n",
    "#param_file = '../params/spark_quads_multiloss_params.json'\n",
    "#num_loss_regions = 1\n",
    "#assembly = '38'\n",
    "\n",
    "#data_dir = '../../DATA/ancestry/genotypes'\n",
    "#ped_file = '../../DATA/ancestry/ancestry.ped'\n",
    "#param_file = '../params/ancestry_multiloss_params.json'\n",
    "#num_loss_regions = 1\n",
    "#assembly = '37'\n",
    "\n",
    "detect_deletions = False\n",
    "detect_consanguinity = False\n",
    "\n",
    "# set up filenames\n",
    "sample_file = '%s/chr.%s.gen.samples.txt' % (data_dir, chrom)\n",
    "coord_file = '%s/chr.%s.gen.coordinates.npy' % (data_dir,  chrom)\n",
    "gen_files = sorted([f for f in listdir(data_dir) if ('chr.%s.' % chrom) in f and 'gen.npz' in f])\n",
    "\n",
    "with open(param_file, 'r') as f: \n",
    "    params = json.load(f)"
   ]
  },
  {
   "cell_type": "code",
   "execution_count": 206,
   "metadata": {},
   "outputs": [],
   "source": [
    "#params['-log10(P[maternal_crossover])'] = 100\n",
    "#params['-log10(P[paternal_crossover])'] = 100"
   ]
  },
  {
   "cell_type": "code",
   "execution_count": 207,
   "metadata": {},
   "outputs": [
    {
     "name": "stdout",
     "output_type": "stream",
     "text": [
      "families pulled 1002\n"
     ]
    }
   ],
   "source": [
    "# pull families of interest\n",
    "families = input_output.pull_families(ped_file)"
   ]
  },
  {
   "cell_type": "code",
   "execution_count": 208,
   "metadata": {},
   "outputs": [
    {
     "name": "stdout",
     "output_type": "stream",
     "text": [
      "AU0001\n"
     ]
    }
   ],
   "source": [
    "print(families[0])"
   ]
  },
  {
   "cell_type": "code",
   "execution_count": 209,
   "metadata": {},
   "outputs": [
    {
     "name": "stdout",
     "output_type": "stream",
     "text": [
      "864 have genomic data and parameters\n"
     ]
    }
   ],
   "source": [
    "# make sure at least one individual has genetic data (chromosome 1 chosen arbitrarily)\n",
    "sample_file = '%s/samples.json' % data_dir\n",
    "with open(sample_file, 'r') as f:\n",
    "\tsample_ids = set(json.load(f))\n",
    "\n",
    "for family in families:\n",
    "\tto_be_removed = [x for x in family.individuals if x not in sample_ids or (x not in params and '%s.%s' % (family.id, x) not in params)]\n",
    "\tfamily.prune(to_be_removed)\n",
    "    \n",
    "families = [x for x in families if x.num_descendents()>0]\n",
    "print(len(families), 'have genomic data and parameters')"
   ]
  },
  {
   "cell_type": "code",
   "execution_count": 210,
   "metadata": {},
   "outputs": [
    {
     "name": "stdout",
     "output_type": "stream",
     "text": [
      "[2.70926996e+00 2.40823997e+00 2.10720997e+00 1.80617997e+00\n",
      " 1.50514998e+00 1.20411998e+00 9.03089987e-01 6.02059991e-01\n",
      " 5.79919470e-02 2.80287236e-02 1.37882845e-02 6.83942453e-03\n",
      " 3.40624869e-03 1.69978488e-03 8.49060841e-04]\n"
     ]
    }
   ],
   "source": [
    "af_boundaries = np.arange(-np.log10(0.25), max_af_cost, np.log10(2)).tolist() # use rule of 3; we can't differentiate allele frequencies any smaller than 3/(2*num unrelated individuals).\n",
    "af_boundaries.extend([-np.log10(1-(10.0**-x)) for x in af_boundaries[1:]])\n",
    "af_boundaries = np.array(sorted(af_boundaries, reverse=True))\n",
    "print(af_boundaries)\n"
   ]
  },
  {
   "cell_type": "code",
   "execution_count": 211,
   "metadata": {},
   "outputs": [
    {
     "name": "stdout",
     "output_type": "stream",
     "text": [
      "864\n"
     ]
    }
   ],
   "source": [
    "# if we're detecting consanguinity, restrict to nuclear families\n",
    "if detect_consanguinity:\n",
    "    families = [x for x in families if x.num_ancestors()==2 and len(x.ordered_couples)==1]\n",
    "    \n",
    "    # to detect consanguinity, model a shared ancestor\n",
    "    for family in families:\n",
    "        family.add_child(family.mat_ancestors[0], 'mat_shared_ancestor', 'pat_shared_ancestor')\n",
    "        family.add_child(family.pat_ancestors[0], 'mat_shared_ancestor', 'pat_shared_ancestor')\n",
    "    \n",
    "print(len(families))"
   ]
  },
  {
   "cell_type": "code",
   "execution_count": 212,
   "metadata": {},
   "outputs": [
    {
     "name": "stdout",
     "output_type": "stream",
     "text": [
      "family AU1891 ['AU1891202', 'AU1891201', 'AU1891301', 'AU1891303', 'AU1891302']\n",
      "dict_items([(('AU1891202', 'AU1891201'), ['AU1891301', 'AU1891303', 'AU1891302'])])\n"
     ]
    }
   ],
   "source": [
    "import random\n",
    "\n",
    "\n",
    "family = random.choice(families)\n",
    "#family = [f for f in families if f.id=='SF0006106'][0]\n",
    "#family = [f for f in families if f.id=='AU0364'][0]\n",
    "print('family', family.id, family.individuals)\n",
    "print(family.parents_to_children.items())"
   ]
  },
  {
   "cell_type": "code",
   "execution_count": 213,
   "metadata": {
    "scrolled": true
   },
   "outputs": [
    {
     "name": "stdout",
     "output_type": "stream",
     "text": [
      "fixed [('AU1891301', 'mat'), ('AU1891301', 'pat')]\n",
      "inheritance states (32, 11)\n",
      "transitions (32, 8)\n"
     ]
    }
   ],
   "source": [
    "importlib.reload(inheritance_states)\n",
    "importlib.reload(transition_matrices)\n",
    "\n",
    "# create inheritance states\n",
    "if chrom == 'X':\n",
    "    states = inheritance_states.InheritanceStates(family, detect_deletions, True, num_loss_regions)\n",
    "else:\n",
    "    states = inheritance_states.InheritanceStates(family, detect_deletions, detect_deletions, num_loss_regions)\n",
    "\n",
    "# create transition matrix\n",
    "transitions = transition_matrices.TransitionMatrix(states, params)\n",
    "                "
   ]
  },
  {
   "cell_type": "code",
   "execution_count": 214,
   "metadata": {},
   "outputs": [
    {
     "name": "stdout",
     "output_type": "stream",
     "text": [
      "no data []\n",
      "AU1891202\n",
      "\t0/0\t0/1\t1/1\t./.\n",
      "0/0\t0.0002-0.0020\t3.8991-2.8576\t5.7175-4.4639\t3.4714-2.5061\n",
      "0/1\t2.3937-1.7036\t0.0025-0.0159\t2.9192-2.0717\t3.3008-2.1122\n",
      "1/1\t5.7982-3.9470\t3.7639-2.2254\t0.0002-0.0038\t3.4451-2.5694\n",
      "-/0\t0.0002-0.0020\t3.8991-2.8576\t5.7175-4.4639\t3.4714-2.5061\n",
      "-/1\t5.7982-3.9470\t3.7639-2.2254\t0.0002-0.0038\t3.4451-2.5694\n",
      "-/-\t3.7639-2.2254\t5.7578-4.2054\t3.8991-2.8576\t0.0001-0.0032\n",
      "AU1891201\n",
      "\t0/0\t0/1\t1/1\t./.\n",
      "0/0\t0.0002-0.0021\t3.8991-2.8576\t5.7229-4.6973\t3.4700-2.4559\n",
      "0/1\t2.3212-1.5553\t0.0028-0.0203\t2.9485-1.9857\t3.2126-2.1232\n",
      "1/1\t5.7990-3.9434\t3.7639-2.2254\t0.0002-0.0041\t3.5032-2.4910\n",
      "-/0\t0.0002-0.0021\t3.8991-2.8576\t5.7229-4.6973\t3.4700-2.4559\n",
      "-/1\t5.7990-3.9434\t3.7639-2.2254\t0.0002-0.0041\t3.5032-2.4910\n",
      "-/-\t3.7639-2.2254\t5.7609-4.3204\t3.8991-2.8576\t0.0001-0.0032\n",
      "AU1891301\n",
      "\t0/0\t0/1\t1/1\t./.\n",
      "0/0\t0.0001-0.0017\t3.9325-2.8576\t5.8417-4.3693\t3.6943-2.5915\n",
      "0/1\t3.1881-2.5649\t0.0004-0.0029\t3.9644-3.1469\t3.7882-2.5021\n",
      "1/1\t4.8524-3.2866\t3.7095-2.2254\t0.0002-0.0036\t3.5049-2.7249\n",
      "-/0\t0.0001-0.0017\t3.9325-2.8576\t5.8417-4.3693\t3.6943-2.5915\n",
      "-/1\t4.8524-3.2866\t3.7095-2.2254\t0.0002-0.0036\t3.5049-2.7249\n",
      "-/-\t3.7095-2.2254\t5.3471-3.8279\t3.9325-2.8576\t0.0001-0.0033\n",
      "AU1891303\n",
      "\t0/0\t0/1\t1/1\t./.\n",
      "0/0\t0.0001-0.0017\t3.8991-2.8704\t6.1059-4.5303\t3.7641-2.5820\n",
      "0/1\t3.4749-2.6000\t0.0003-0.0032\t4.0569-2.8198\t3.6754-2.4808\n",
      "1/1\t5.5916-3.5172\t3.7793-2.2576\t0.0002-0.0039\t3.6876-2.5059\n",
      "-/0\t0.0001-0.0017\t3.8991-2.8704\t6.1059-4.5303\t3.7641-2.5820\n",
      "-/1\t5.5916-3.5172\t3.7793-2.2576\t0.0002-0.0039\t3.6876-2.5059\n",
      "-/-\t3.7793-2.2576\t5.8487-4.0237\t3.8991-2.8704\t0.0001-0.0030\n",
      "AU1891302\n",
      "\t0/0\t0/1\t1/1\t./.\n",
      "0/0\t0.0001-0.0019\t3.8470-2.8320\t6.1267-4.5411\t3.6968-2.5395\n",
      "0/1\t3.1239-2.7859\t0.0004-0.0027\t5.8080-2.9518\t3.8018-2.4770\n",
      "1/1\t5.2745-3.2077\t3.7639-2.1445\t0.0002-0.0044\t3.6115-2.6356\n",
      "-/0\t0.0001-0.0019\t3.8470-2.8320\t6.1267-4.5411\t3.6968-2.5395\n",
      "-/1\t5.2745-3.2077\t3.7639-2.1445\t0.0002-0.0044\t3.6115-2.6356\n",
      "-/-\t3.7639-2.1445\t5.7006-3.8744\t3.8470-2.8320\t0.0001-0.0038\n",
      "[2.70926996e+00 2.40823997e+00 2.10720997e+00 1.80617997e+00\n",
      " 1.50514998e+00 1.20411998e+00 9.03089987e-01 6.02059991e-01\n",
      " 5.79919470e-02 2.80287236e-02 1.37882845e-02 6.83942453e-03\n",
      " 3.40624869e-03 1.69978488e-03 8.49060841e-04]\n",
      "alt costs [2.70926996e+00 2.40823997e+00 2.10720997e+00 1.80617997e+00\n",
      " 1.50514998e+00 1.20411998e+00 9.03089987e-01 6.02059991e-01\n",
      " 3.01029996e-01 5.79919470e-02 2.80287236e-02 1.37882845e-02\n",
      " 6.83942453e-03 3.40624869e-03 1.69978488e-03 8.49060841e-04]\n",
      "ref costs [8.49060841e-04 1.69978488e-03 3.40624869e-03 6.83942453e-03\n",
      " 1.37882845e-02 2.80287236e-02 5.79919470e-02 1.24938737e-01\n",
      " 3.01029996e-01 9.03089987e-01 1.20411998e+00 1.50514998e+00\n",
      " 1.80617997e+00 2.10720997e+00 2.40823997e+00 2.70926996e+00]\n",
      "miss costs [0.30103 0.30103 0.30103 0.30103 0.30103 0.30103 0.30103 0.30103 0.30103\n",
      " 0.30103 0.30103 0.30103 0.30103 0.30103 0.30103 0.30103]\n",
      "perfect matches 63\n",
      "perfect_match_indices (32, 16)\n"
     ]
    }
   ],
   "source": [
    "importlib.reload(losses)\n",
    "\n",
    "# create loss function\n",
    "loss = losses.LazyLoss(states, family, params, num_loss_regions, af_boundaries)\n"
   ]
  },
  {
   "cell_type": "code",
   "execution_count": 215,
   "metadata": {},
   "outputs": [],
   "source": [
    "#af_index = random.choice(np.arange(1, len(af_boundaries)))\n",
    "#total_prob = np.zeros((states.num_states,))\n",
    "#for gen in np.array(list(product(*([[0, 1, 2, -1]]*len(family)) + [[af_index]]))):\n",
    "#    if np.all(gen[:-1]==0) or np.any(gen[:-1]>0):\n",
    "#        total_prob += np.power(10, -loss(gen))\n",
    "#        \n",
    "#assert np.all(np.isclose(total_prob, 1))"
   ]
  },
  {
   "cell_type": "code",
   "execution_count": 297,
   "metadata": {},
   "outputs": [
    {
     "name": "stdout",
     "output_type": "stream",
     "text": [
      "(5, 222395) (222395,)\n",
      "3269385\n",
      "3269385 3269385\n",
      "genotypes pulled (6, 440826) [[0 1 0 ... 0 2 0]\n",
      " [0 1 0 ... 0 2 0]\n",
      " [0 1 0 ... 0 2 0]\n",
      " [0 1 0 ... 0 2 0]\n",
      " [0 1 0 ... 0 2 0]\n",
      " [0 8 0 ... 0 8 0]]\n",
      "Data pulled\n"
     ]
    }
   ],
   "source": [
    "import input_output\n",
    "importlib.reload(input_output)\n",
    "\n",
    "# pull genotype data for this family\n",
    "family_genotypes, family_snp_positions, mult_factor = input_output.pull_gen_data_for_individuals(data_dir, af_boundaries, assembly, chrom, family.individuals)\n",
    "print('Data pulled')\n",
    "\n"
   ]
  },
  {
   "cell_type": "code",
   "execution_count": 298,
   "metadata": {},
   "outputs": [],
   "source": [
    "assert np.all(old_mult_factor==mult_factor)"
   ]
  },
  {
   "cell_type": "code",
   "execution_count": 302,
   "metadata": {},
   "outputs": [
    {
     "name": "stdout",
     "output_type": "stream",
     "text": [
      "416807\n"
     ]
    }
   ],
   "source": [
    "print(np.sum(mult_factor!=0))"
   ]
  },
  {
   "cell_type": "code",
   "execution_count": 291,
   "metadata": {},
   "outputs": [
    {
     "name": "stdout",
     "output_type": "stream",
     "text": [
      "3269385\n",
      "133851894\n"
     ]
    }
   ],
   "source": [
    "print(np.sum(old_mult_factor))\n",
    "print(np.sum(mult_factor))"
   ]
  },
  {
   "cell_type": "code",
   "execution_count": 266,
   "metadata": {},
   "outputs": [
    {
     "name": "stderr",
     "output_type": "stream",
     "text": [
      "/Users/kelley/Projects/PhasingFamilies/phase/input_output.py:261: RuntimeWarning: divide by zero encountered in log10\n",
      "  is_snp = coords[:, 2]==1\n"
     ]
    },
    {
     "name": "stdout",
     "output_type": "stream",
     "text": [
      "(5, 3269385) (3269385,)\n",
      "genotypes pulled (6, 440826) [[0 1 0 ... 0 2 0]\n",
      " [0 1 0 ... 0 2 0]\n",
      " [0 1 0 ... 0 2 0]\n",
      " [0 1 0 ... 0 2 0]\n",
      " [0 1 0 ... 0 2 0]\n",
      " [0 8 0 ... 0 8 0]]\n"
     ]
    }
   ],
   "source": [
    "import input_output\n",
    "importlib.reload(input_output)\n",
    "\n",
    "old_family_genotypes, old_family_snp_positions, old_mult_factor = input_output.pull_gen_data_for_individuals(data_dir, af_boundaries, assembly, chrom, family.individuals)\n"
   ]
  },
  {
   "cell_type": "code",
   "execution_count": 275,
   "metadata": {},
   "outputs": [
    {
     "name": "stdout",
     "output_type": "stream",
     "text": [
      "[60844     1   570     1   270     1    12     1   256     1    25     1\n",
      "   138     1     9     1   172     1    32     1]\n",
      "[34  1 36  1 16  1  0  1  9  1  2  1  7  1  0  1  7  1  1  1]\n"
     ]
    }
   ],
   "source": [
    "print(mult_factor[:20])\n",
    "print(old_mult_factor[:20])"
   ]
  },
  {
   "cell_type": "code",
   "execution_count": null,
   "metadata": {},
   "outputs": [],
   "source": []
  },
  {
   "cell_type": "code",
   "execution_count": 274,
   "metadata": {},
   "outputs": [
    {
     "data": {
      "image/png": "[encoded data removed]",
      "text/plain": [
       "<Figure size 432x288 with 1 Axes>"
      ]
     },
     "metadata": {
      "needs_background": "light"
     },
     "output_type": "display_data"
    }
   ],
   "source": [
    "plt.hist(np.log10(mult_factor), bins=np.arange(0, 7, 0.5), alpha=0.5)\n",
    "plt.hist(np.log10(np.clip(old_mult_factor, 1, None)), bins=np.arange(0, 7, 0.5), alpha=0.5)\n",
    "\n",
    "plt.show()"
   ]
  },
  {
   "cell_type": "code",
   "execution_count": 284,
   "metadata": {},
   "outputs": [
    {
     "data": {
      "image/png": "[encoded data removed]",
      "text/plain": [
       "<Figure size 432x288 with 1 Axes>"
      ]
     },
     "metadata": {
      "needs_background": "light"
     },
     "output_type": "display_data"
    }
   ],
   "source": [
    "plt.hist(family_genotypes[-1, :], bins=np.arange(len(af_boundaries)))\n",
    "plt.show()"
   ]
  },
  {
   "cell_type": "code",
   "execution_count": 259,
   "metadata": {},
   "outputs": [
    {
     "name": "stderr",
     "output_type": "stream",
     "text": [
      "//anaconda3/lib/python3.7/site-packages/ipykernel/__main__.py:1: UserWarning: Data has no positive values, and therefore cannot be log-scaled.\n",
      "  if __name__ == '__main__':\n"
     ]
    },
    {
     "data": {
      "image/png": "[encoded data removed]",
      "text/plain": [
       "<Figure size 432x288 with 1 Axes>"
      ]
     },
     "metadata": {
      "needs_background": "light"
     },
     "output_type": "display_data"
    }
   ],
   "source": [
    "plt.hist(family_genotypes[-1, mult_factor==0], alpha=0.5, bins=np.arange(len(af_boundaries)+1), log=True)\n",
    "plt.hist(family_genotypes[-1, (mult_factor>0) & ~np.all(family_genotypes[:-1, :]==0, axis=0)], alpha=0.5, bins=np.arange(len(af_boundaries)+1), log=True)\n",
    "plt.hist(family_genotypes[-1, (mult_factor>0) & np.all(family_genotypes[:-1, :]==0, axis=0)], alpha=0.5, bins=np.arange(len(af_boundaries)+1), log=True)\n",
    "plt.xticks(np.arange(len(af_boundaries)), ['%0.3f' % 10.0**-x for x in af_boundaries], rotation=90)\n",
    "plt.show()"
   ]
  },
  {
   "cell_type": "code",
   "execution_count": 260,
   "metadata": {},
   "outputs": [
    {
     "name": "stdout",
     "output_type": "stream",
     "text": [
      "cached losses (32, 548) already_calculated 547\n"
     ]
    }
   ],
   "source": [
    "loss.set_cache(family_genotypes)\n"
   ]
  },
  {
   "cell_type": "code",
   "execution_count": 261,
   "metadata": {},
   "outputs": [
    {
     "name": "stdout",
     "output_type": "stream",
     "text": [
      "Forward sweep complete 24.350751876831055 sec\n"
     ]
    }
   ],
   "source": [
    "importlib.reload(viterbi)\n",
    "\n",
    "# forward sweep\n",
    "v_cost = viterbi.viterbi_forward_sweep(family_genotypes, family_snp_positions, mult_factor, states, transitions, loss)\n",
    "\n",
    "# Forward sweep complete 30.899459838867188 sec\n",
    "# Forward sweep complete 95.2498619556427 sec\n",
    "\n"
   ]
  },
  {
   "cell_type": "code",
   "execution_count": 262,
   "metadata": {},
   "outputs": [
    {
     "name": "stdout",
     "output_type": "stream",
     "text": [
      "Num solutions (1,) 760258.4630143022 (array([1, 1, 1, 1, 0, 0, 0, 0, 0, 0, 0], dtype=int8),)\n",
      "Num forks 1553\n",
      "Backward sweep complete 47.848753929138184 sec\n"
     ]
    }
   ],
   "source": [
    "importlib.reload(viterbi)\n",
    "\n",
    "# backward sweep\n",
    "final_states = viterbi.viterbi_backward_sweep(v_cost, states, transitions)\n",
    "\n",
    "# Backward sweep complete 64.39986205101013 sec\n",
    "\n",
    "#Num forks 1029\n",
    "#Backward sweep complete 23.799263954162598 sec\n"
   ]
  },
  {
   "cell_type": "code",
   "execution_count": 263,
   "metadata": {},
   "outputs": [
    {
     "data": {
      "image/png": "[encoded data removed]",
      "text/plain": [
       "<Figure size 1080x504 with 1 Axes>"
      ]
     },
     "metadata": {
      "needs_background": "light"
     },
     "output_type": "display_data"
    }
   ],
   "source": [
    "final_states_greyed = final_states.copy()\n",
    "final_states_greyed[:, final_states[-1, :]==1] = -1\n",
    "\n",
    "plt.figure(figsize=(15, 7))\n",
    "plt.imshow(final_states, aspect='auto', vmin=-1)\n",
    "plt.yticks(np.arange(final_states.shape[0]), \n",
    "           ['m%d_del' % i for i in range(1, 2*len(family.mat_ancestors)+1)] + ['p%d_del' % i for i in range(1, 2*len(family.pat_ancestors)+1)] + \\\n",
    "           sum([['%s_mat' % x,'%s_pat' % x] for x in family.individuals], []) + ['loss_region'])\n",
    "\n",
    "#plt.subplot(2, 1, 2, sharex=ax)\n",
    "#plt.fill_between(np.arange(family_snp_positions.shape[0]), 0, (family_snp_positions[:, 0]>=0) & (family_snp_positions[:, 1]<=20500000), alpha=0.5)\n",
    "#plt.fill_between(np.arange(family_snp_positions.shape[0]), 0, (family_snp_positions[:, 0]>=9600000) & (family_snp_positions[:, 1]<=16300000))\n",
    "#plt.fill_between(np.arange(family_snp_positions.shape[0]), 0, (family_snp_positions[:, 1]<=9600000) | (family_snp_positions[:, 0]>=48200000))\n",
    "\n",
    "#plt.xticks(xticks, xlabels, rotation=90)\n",
    "\n",
    "#plt.subplot(3, 1, 3)\n",
    "#plt.plot(np.log2(family_snp_positions[:, 1]-family_snp_positions[:, 0]), marker='.', linestyle='')\n",
    "#plt.plot(c[1:]-c[:-1], marker='.', linestyle='')\n",
    "#plt.plot(num_non_mend, marker='.', linestyle='')\n",
    "#plt.plot(np.convolve(num_non_mend, np.ones((100,)), mode='same'))\n",
    "#plt.plot(np.convolve(num_missing, np.ones((100,)), mode='same'))\n",
    "#plt.scatter(family_snp_positions[:, 0], final_states[-1, :], marker='.')\n",
    "#plt.xticks(family_snp_positions[xticks, 0], xlabels, rotation=90)\n",
    "#for i in np.where(family_snp_positions[:, 1]-family_snp_positions[:, 0] > 10000)[0]:\n",
    "#    plt.plot([family_snp_positions[i, 0], family_snp_positions[i, 1]], [final_states[-1, i], final_states[-1, i]], color='grey')\n",
    "#    #print(family_snp_positions[i, :])\n",
    "plt.tight_layout()\n",
    "plt.show()"
   ]
  },
  {
   "cell_type": "code",
   "execution_count": 264,
   "metadata": {},
   "outputs": [
    {
     "data": {
      "image/png": "[encoded data removed]",
      "text/plain": [
       "<Figure size 1080x360 with 1 Axes>"
      ]
     },
     "metadata": {
      "needs_background": "light"
     },
     "output_type": "display_data"
    }
   ],
   "source": [
    "cyto = []\n",
    "with open('../data/cytoBand%s.txt' % assembly, 'r') as f:\n",
    "    for line in f:\n",
    "        pieces = line.strip().split('\\t')\n",
    "        if pieces[0] == 'chr%s'%chrom:\n",
    "            cyto.append((int(pieces[1]), int(pieces[2]), pieces[3]))\n",
    "            \n",
    "            prop_cycle = plt.rcParams['axes.prop_cycle']\n",
    "colors = prop_cycle.by_key()['color']\n",
    "colors[-1] = 'black'\n",
    "\n",
    "indices = np.arange(2*family.num_ancestors(), final_states.shape[0]-1)\n",
    "\n",
    "plt.figure(figsize=(15, 5))\n",
    "for i, j in enumerate(indices):    \n",
    "    a = np.zeros((2*final_states.shape[1],), dtype=int)\n",
    "    b = np.zeros((2*final_states.shape[1],), dtype=float)\n",
    "    a[0::2] = family_snp_positions[:, 0]\n",
    "    a[1::2] = family_snp_positions[:, 1]\n",
    "    b[0::2] = final_states_greyed[j, :]\n",
    "    b[1::2] = final_states_greyed[j, :]\n",
    "\n",
    "    for m in [0, 1, 2, 3, -1]:\n",
    "        c = np.zeros((a.shape[0],), dtype=float)\n",
    "        c[b==m] = -i\n",
    "        c[b!=m] = np.nan\n",
    "        plt.fill_between(a, c-0.4, c+0.4, color=colors[m])\n",
    "plt.yticks(np.arange(0, -len(indices), -1), sum([['%s_mat' % x,'%s_pat' % x] for x in family.individuals], []))\n",
    "plt.xticks([x[0] for x in cyto], [x[2] for x in cyto], rotation=90)\n",
    "\n",
    "#plt.xlim([1, 1000000])\n",
    "plt.tight_layout()\n",
    "plt.show()"
   ]
  },
  {
   "cell_type": "code",
   "execution_count": 265,
   "metadata": {},
   "outputs": [
    {
     "data": {
      "text/plain": [
       "0.9991909341230539"
      ]
     },
     "execution_count": 265,
     "metadata": {},
     "output_type": "execute_result"
    }
   ],
   "source": [
    "np.sum((final_states[-1, :]==0)*mult_factor)/np.sum(mult_factor)\n"
   ]
  },
  {
   "cell_type": "code",
   "execution_count": 138,
   "metadata": {},
   "outputs": [
    {
     "name": "stdout",
     "output_type": "stream",
     "text": [
      "0\n"
     ]
    }
   ],
   "source": [
    "print(np.sum((final_states[10, :400000]==0) & (final_states[-1, :400000]!=1)))"
   ]
  },
  {
   "cell_type": "code",
   "execution_count": 139,
   "metadata": {},
   "outputs": [
    {
     "name": "stdout",
     "output_type": "stream",
     "text": [
      "0.10983447899347346\n",
      "0.12437650445442588\n"
     ]
    }
   ],
   "source": [
    "print(np.sum((final_states[10, :]==0)*mult_factor)/np.sum(mult_factor))\n",
    "print(np.sum((final_states[11, :]==2)*mult_factor)/np.sum(mult_factor))\n"
   ]
  },
  {
   "cell_type": "code",
   "execution_count": 140,
   "metadata": {},
   "outputs": [
    {
     "name": "stderr",
     "output_type": "stream",
     "text": [
      "//anaconda3/lib/python3.7/site-packages/ipykernel/__main__.py:3: UserWarning: Attempting to set identical left == right == -0.5 results in singular transformations; automatically expanding.\n",
      "  app.launch_new_instance()\n"
     ]
    },
    {
     "data": {
      "image/png": "[encoded data removed]",
      "text/plain": [
       "<Figure size 1080x360 with 1 Axes>"
      ]
     },
     "metadata": {
      "needs_background": "light"
     },
     "output_type": "display_data"
    }
   ],
   "source": [
    "plt.figure(figsize=(15, 5))\n",
    "indices = (final_states[10, :400000]==0) & (final_states[-1, :400000]!=1)\n",
    "plt.imshow(family_genotypes[:, :400000][:-1, indices], aspect='auto', vmin=-1, vmax=2)\n",
    "plt.show()"
   ]
  },
  {
   "cell_type": "code",
   "execution_count": null,
   "metadata": {},
   "outputs": [],
   "source": []
  }
 ],
 "metadata": {
  "kernelspec": {
   "display_name": "Python 3",
   "language": "python",
   "name": "python3"
  },
  "language_info": {
   "codemirror_mode": {
    "name": "ipython",
    "version": 3
   },
   "file_extension": ".py",
   "mimetype": "text/x-python",
   "name": "python",
   "nbconvert_exporter": "python",
   "pygments_lexer": "ipython3",
   "version": "3.7.3"
  }
 },
 "nbformat": 4,
 "nbformat_minor": 2
}
