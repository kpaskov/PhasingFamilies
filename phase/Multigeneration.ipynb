{
 "cells": [
  {
   "cell_type": "code",
   "execution_count": 985,
   "metadata": {},
   "outputs": [
    {
     "data": {
      "text/plain": [
       "<module 'viterbi' from '/Users/kelley/Projects/PhasingFamilies/phase/viterbi.py'>"
      ]
     },
     "execution_count": 985,
     "metadata": {},
     "output_type": "execute_result"
    }
   ],
   "source": [
    "import sys\n",
    "import json\n",
    "from os import listdir\n",
    "from itertools import product\n",
    "import importlib\n",
    "import matplotlib.pyplot as plt\n",
    "import numpy as np\n",
    "\n",
    "import input_output\n",
    "importlib.reload(input_output)\n",
    "import inheritance_states\n",
    "importlib.reload(inheritance_states)\n",
    "import transition_matrices\n",
    "importlib.reload(transition_matrices)\n",
    "import genotypes\n",
    "importlib.reload(genotypes)\n",
    "import losses\n",
    "importlib.reload(losses)\n",
    "import viterbi\n",
    "importlib.reload(viterbi)"
   ]
  },
  {
   "cell_type": "code",
   "execution_count": 1090,
   "metadata": {},
   "outputs": [],
   "source": [
    "# Read in command line arguments\n",
    "chrom = '22'\n",
    "\n",
    "data_dir = '../../DATA/ihart/genotypes'\n",
    "param_file = '../params/ihart_multiloss_params.json'\n",
    "num_loss_regions = 2\n",
    "assembly = '37'\n",
    "ped_file = '../../DATA/ihart/ihart.ped'\n",
    "###detect_deletions = False\n",
    "###ped_file = '../../DATA/ihart/ihart.ped'\n",
    "\n",
    "#data_dir = '../../DATA/spark/genotypes'\n",
    "#ped_file = '../../DATA/spark/spark.ped.quads.ped'\n",
    "#param_file = '../params/spark_quads_multiloss_params.json'\n",
    "#num_loss_regions = 1\n",
    "#assembly = '38'\n",
    "\n",
    "#data_dir = '../../DATA/ancestry/genotypes'\n",
    "#ped_file = '../../DATA/ancestry/ancestry.ped'\n",
    "#param_file = '../params/ancestry_multiloss_params.json'\n",
    "#num_loss_regions = 1\n",
    "#assembly = '37'\n",
    "\n",
    "detect_deletions = False\n",
    "detect_consanguinity = True\n",
    "\n",
    "# set up filenames\n",
    "sample_file = '%s/chr.%s.gen.samples.txt' % (data_dir, chrom)\n",
    "coord_file = '%s/chr.%s.gen.coordinates.npy' % (data_dir,  chrom)\n",
    "gen_files = sorted([f for f in listdir(data_dir) if ('chr.%s.' % chrom) in f and 'gen.npz' in f])\n",
    "\n",
    "with open(param_file, 'r') as f: \n",
    "    params = json.load(f)"
   ]
  },
  {
   "cell_type": "code",
   "execution_count": 1091,
   "metadata": {},
   "outputs": [],
   "source": [
    "#params['-log10(P[maternal_crossover])'] = 20\n",
    "#params['-log10(P[paternal_crossover])'] = 20"
   ]
  },
  {
   "cell_type": "code",
   "execution_count": 1092,
   "metadata": {},
   "outputs": [
    {
     "name": "stdout",
     "output_type": "stream",
     "text": [
      "families pulled 1002\n"
     ]
    }
   ],
   "source": [
    "# pull families of interest\n",
    "families = input_output.pull_families(ped_file)"
   ]
  },
  {
   "cell_type": "code",
   "execution_count": 1093,
   "metadata": {},
   "outputs": [],
   "source": [
    "# make sure at least one individual has genetic data (chromosome 1 chosen arbitrarily)\n",
    "sample_file = '%s/chr.%s.gen.samples.txt' % (data_dir, chrom)\n",
    "with open(sample_file, 'r') as f:\n",
    "    sample_ids = set([line.strip() for line in f])\n",
    "families = [x for x in families if len(set(x.individuals) & sample_ids)>0]"
   ]
  },
  {
   "cell_type": "code",
   "execution_count": 1094,
   "metadata": {},
   "outputs": [
    {
     "name": "stdout",
     "output_type": "stream",
     "text": [
      "unrelated individuals in dataset 2110\n"
     ]
    }
   ],
   "source": [
    "num_unrelated_individuals = sum([f.num_ancestors() for f in families])\n",
    "print('unrelated individuals in dataset', num_unrelated_individuals)\n"
   ]
  },
  {
   "cell_type": "code",
   "execution_count": 1095,
   "metadata": {},
   "outputs": [
    {
     "name": "stdout",
     "output_type": "stream",
     "text": [
      "[3.01029996e+00 2.70926996e+00 2.40823997e+00 2.10720997e+00\n",
      " 1.80617997e+00 1.50514998e+00 1.20411998e+00 9.03089987e-01\n",
      " 6.02059991e-01 5.79919470e-02 2.80287236e-02 1.37882845e-02\n",
      " 6.83942453e-03 3.40624869e-03 1.69978488e-03 8.49060841e-04\n",
      " 4.24322928e-04]\n"
     ]
    }
   ],
   "source": [
    "af_boundaries = np.arange(-np.log10(0.25), np.log10(2*num_unrelated_individuals/3), np.log10(2)).tolist() # use rule of 3; we can't differentiate allele frequencies any smaller than 3/(2*num unrelated individuals).\n",
    "af_boundaries.extend([-np.log10(1-(10.0**-x)) for x in af_boundaries[1:]])\n",
    "af_boundaries = np.array(sorted(af_boundaries, reverse=True))\n",
    "print(af_boundaries)\n"
   ]
  },
  {
   "cell_type": "code",
   "execution_count": 1096,
   "metadata": {},
   "outputs": [
    {
     "name": "stdout",
     "output_type": "stream",
     "text": [
      "912\n"
     ]
    }
   ],
   "source": [
    "# if we're detecting consanguinity, restrict to nuclear families\n",
    "if detect_consanguinity:\n",
    "    families = [x for x in families if x.num_ancestors()==2 and len(x.ordered_couples)==1]\n",
    "    \n",
    "    # to detect consanguinity, model a shared ancestor\n",
    "    for family in families:\n",
    "        family.add_child(family.mat_ancestors[0], 'mat_shared_ancestor', 'pat_shared_ancestor')\n",
    "        family.add_child(family.pat_ancestors[0], 'mat_shared_ancestor', 'pat_shared_ancestor')\n",
    "    \n",
    "print(len(families))"
   ]
  },
  {
   "cell_type": "code",
   "execution_count": 1097,
   "metadata": {},
   "outputs": [
    {
     "name": "stdout",
     "output_type": "stream",
     "text": [
      "family AU3199 ['mat_shared_ancestor', 'pat_shared_ancestor', 'AU3199201', 'AU3199202', 'AU3199301', 'AU3199303', 'AU3199302']\n",
      "dict_items([(('AU3199202', 'AU3199201'), ['AU3199301', 'AU3199303', 'AU3199302']), (('mat_shared_ancestor', 'pat_shared_ancestor'), ['AU3199201', 'AU3199202'])])\n"
     ]
    }
   ],
   "source": [
    "import random\n",
    "\n",
    "\n",
    "#family = random.choice(families)\n",
    "#family = [f for f in families if f.id=='SF0006106.SP0006106.SP0006171'][0]\n",
    "family = [f for f in families if f.id=='AU3199'][0]\n",
    "print('family', family.id, family.individuals)\n",
    "print(family.parents_to_children.items())"
   ]
  },
  {
   "cell_type": "code",
   "execution_count": 1098,
   "metadata": {
    "scrolled": true
   },
   "outputs": [
    {
     "name": "stdout",
     "output_type": "stream",
     "text": [
      "fixed [('AU3199201', 'mat'), ('AU3199201', 'pat'), ('AU3199301', 'mat'), ('AU3199301', 'pat')]\n",
      "inheritance states (128, 15)\n",
      "transitions (128, 10)\n"
     ]
    }
   ],
   "source": [
    "importlib.reload(inheritance_states)\n",
    "importlib.reload(transition_matrices)\n",
    "\n",
    "# create inheritance states\n",
    "if chrom == 'X':\n",
    "    states = inheritance_states.InheritanceStates(family, detect_deletions, True, num_loss_regions)\n",
    "else:\n",
    "    states = inheritance_states.InheritanceStates(family, detect_deletions, detect_deletions, num_loss_regions)\n",
    "\n",
    "# create transition matrix\n",
    "transitions = transition_matrices.TransitionMatrix(states, params)\n",
    "                "
   ]
  },
  {
   "cell_type": "code",
   "execution_count": 1099,
   "metadata": {},
   "outputs": [
    {
     "name": "stdout",
     "output_type": "stream",
     "text": [
      "no data ['mat_shared_ancestor', 'pat_shared_ancestor']\n",
      "mat_shared_ancestor\n",
      "\t0/0\t0/1\t1/1\t./.\n",
      "0/0\t0.0000-0.0000\tinf-inf\tinf-inf\tinf-inf\n",
      "0/1\t0.0000-0.0000\tinf-inf\tinf-inf\tinf-inf\n",
      "1/1\t0.0000-0.0000\tinf-inf\tinf-inf\tinf-inf\n",
      "-/0\t0.0000-0.0000\tinf-inf\tinf-inf\tinf-inf\n",
      "-/1\t0.0000-0.0000\tinf-inf\tinf-inf\tinf-inf\n",
      "-/-\t0.0000-0.0000\tinf-inf\tinf-inf\tinf-inf\n",
      "pat_shared_ancestor\n",
      "\t0/0\t0/1\t1/1\t./.\n",
      "0/0\t0.0000-0.0000\tinf-inf\tinf-inf\tinf-inf\n",
      "0/1\t0.0000-0.0000\tinf-inf\tinf-inf\tinf-inf\n",
      "1/1\t0.0000-0.0000\tinf-inf\tinf-inf\tinf-inf\n",
      "-/0\t0.0000-0.0000\tinf-inf\tinf-inf\tinf-inf\n",
      "-/1\t0.0000-0.0000\tinf-inf\tinf-inf\tinf-inf\n",
      "-/-\t0.0000-0.0000\tinf-inf\tinf-inf\tinf-inf\n",
      "AU3199201\n",
      "\t0/0\t0/1\t1/1\t./.\n",
      "0/0\t0.0002-0.0018\t3.8935-2.8384\t6.3639-4.6802\t3.6229-2.5731\n",
      "0/1\t2.4576-1.6787\t0.0020-0.0155\t3.0860-2.1661\t3.4899-2.1317\n",
      "1/1\t5.7983-3.9423\t3.5920-2.1406\t0.0002-0.0042\t3.5134-2.6602\n",
      "-/0\t0.0002-0.0018\t3.8935-2.8384\t6.3639-4.6802\t3.6229-2.5731\n",
      "-/1\t5.7983-3.9423\t3.5920-2.1406\t0.0002-0.0042\t3.5134-2.6602\n",
      "-/-\t3.5920-2.1406\t6.0811-4.3113\t3.8935-2.8384\t0.0002-0.0038\n",
      "AU3199202\n",
      "\t0/0\t0/1\t1/1\t./.\n",
      "0/0\t0.0002-0.0019\t3.8935-2.8384\t5.8065-4.5720\t3.5497-2.5343\n",
      "0/1\t2.3138-1.6460\t0.0027-0.0166\t2.9925-2.0849\t3.4097-2.1802\n",
      "1/1\t5.7908-3.9452\t3.5920-2.1406\t0.0003-0.0039\t3.4094-2.7934\n",
      "-/0\t0.0002-0.0019\t3.8935-2.8384\t5.8065-4.5720\t3.5497-2.5343\n",
      "-/1\t5.7908-3.9452\t3.5920-2.1406\t0.0003-0.0039\t3.4094-2.7934\n",
      "-/-\t3.5920-2.1406\t5.7987-4.2586\t3.8935-2.8384\t0.0002-0.0038\n",
      "AU3199301\n",
      "\t0/0\t0/1\t1/1\t./.\n",
      "0/0\t0.0002-0.0021\t3.9041-2.8384\t5.9276-4.5634\t3.5965-2.4723\n",
      "0/1\t3.1386-2.3541\t0.0004-0.0042\t5.6888-3.0626\t3.6941-2.3720\n",
      "1/1\t5.4166-3.5489\t3.5920-2.1373\t0.0003-0.0048\t3.4156-2.4563\n",
      "-/0\t0.0002-0.0021\t3.9041-2.8384\t5.9276-4.5634\t3.5965-2.4723\n",
      "-/1\t5.4166-3.5489\t3.5920-2.1373\t0.0003-0.0048\t3.4156-2.4563\n",
      "-/-\t3.5920-2.1373\t5.6721-4.0561\t3.9041-2.8384\t0.0002-0.0039\n",
      "AU3199303\n",
      "\t0/0\t0/1\t1/1\t./.\n",
      "0/0\t0.0001-0.0017\t3.8599-2.8551\t6.0193-4.6102\t3.7095-2.6132\n",
      "0/1\t3.0037-2.7334\t0.0005-0.0026\t5.6716-3.0519\t3.8279-2.4839\n",
      "1/1\t4.8196-3.4925\t3.4593-2.1684\t0.0003-0.0040\t3.6244-2.6865\n",
      "-/0\t0.0001-0.0017\t3.8599-2.8551\t6.0193-4.6102\t3.7095-2.6132\n",
      "-/1\t4.8196-3.4925\t3.4593-2.1684\t0.0003-0.0040\t3.6244-2.6865\n",
      "-/-\t3.4593-2.1684\t5.4195-4.0513\t3.8599-2.8551\t0.0002-0.0036\n",
      "AU3199302\n",
      "\t0/0\t0/1\t1/1\t./.\n",
      "0/0\t0.0002-0.0020\t3.8935-2.8380\t5.8076-4.4555\t3.5370-2.4955\n",
      "0/1\t3.5006-3.3327\t0.0002-0.0023\t5.7164-3.9440\t3.7406-2.3274\n",
      "1/1\t4.9838-3.6982\t3.6019-2.1406\t0.0002-0.0041\t3.5826-2.6947\n",
      "-/0\t0.0002-0.0020\t3.8935-2.8380\t5.8076-4.4555\t3.5370-2.4955\n",
      "-/1\t4.9838-3.6982\t3.6019-2.1406\t0.0002-0.0041\t3.5826-2.6947\n",
      "-/-\t3.6019-2.1406\t5.3957-4.0769\t3.8935-2.8380\t0.0002-0.0038\n",
      "[3.01029996e+00 2.70926996e+00 2.40823997e+00 2.10720997e+00\n",
      " 1.80617997e+00 1.50514998e+00 1.20411998e+00 9.03089987e-01\n",
      " 6.02059991e-01 5.79919470e-02 2.80287236e-02 1.37882845e-02\n",
      " 6.83942453e-03 3.40624869e-03 1.69978488e-03 8.49060841e-04\n",
      " 4.24322928e-04]\n",
      "alt costs [3.01029996e+00 2.70926996e+00 2.40823997e+00 2.10720997e+00\n",
      " 1.80617997e+00 1.50514998e+00 1.20411998e+00 9.03089987e-01\n",
      " 6.02059991e-01 3.01029996e-01 5.79919470e-02 2.80287236e-02\n",
      " 1.37882845e-02 6.83942453e-03 3.40624869e-03 1.69978488e-03\n",
      " 8.49060841e-04 4.24322928e-04]\n",
      "ref costs [4.24322928e-04 8.49060841e-04 1.69978488e-03 3.40624869e-03\n",
      " 6.83942453e-03 1.37882845e-02 2.80287236e-02 5.79919470e-02\n",
      " 1.24938737e-01 3.01029996e-01 9.03089987e-01 1.20411998e+00\n",
      " 1.50514998e+00 1.80617997e+00 2.10720997e+00 2.40823997e+00\n",
      " 2.70926996e+00 3.01029996e+00]\n",
      "miss costs [0.30103 0.30103 0.30103 0.30103 0.30103 0.30103 0.30103 0.30103 0.30103\n",
      " 0.30103 0.30103 0.30103 0.30103 0.30103 0.30103 0.30103 0.30103 0.30103]\n",
      "perfect matches 155\n",
      "perfect_match_indices (128, 16)\n"
     ]
    }
   ],
   "source": [
    "importlib.reload(losses)\n",
    "\n",
    "# create loss function\n",
    "loss = losses.LazyLoss(states, family, params, num_loss_regions, af_boundaries)\n"
   ]
  },
  {
   "cell_type": "code",
   "execution_count": 1100,
   "metadata": {},
   "outputs": [],
   "source": [
    "#af_index = random.choice(np.arange(1, len(af_boundaries)))\n",
    "#total_prob = np.zeros((states.num_states,))\n",
    "#for gen in np.array(list(product(*([[0, 1, 2, -1]]*len(family)) + [[af_index]]))):\n",
    "#    if np.all(gen[:-1]==0) or np.any(gen[:-1]>0):\n",
    "#        total_prob += np.power(10, -loss(gen))\n",
    "#        \n",
    "#assert np.all(np.isclose(total_prob, 1))"
   ]
  },
  {
   "cell_type": "code",
   "execution_count": 1101,
   "metadata": {},
   "outputs": [
    {
     "name": "stdout",
     "output_type": "stream",
     "text": [
      "(5, 934092) (934092,)\n",
      "genotypes pulled (8, 576653) [[0 0 0 ... 0 0 0]\n",
      " [0 0 0 ... 0 0 0]\n",
      " [0 0 0 ... 0 0 0]\n",
      " ...\n",
      " [0 0 0 ... 0 0 0]\n",
      " [0 0 0 ... 0 0 0]\n",
      " [0 2 0 ... 0 2 0]]\n",
      "Data pulled\n"
     ]
    }
   ],
   "source": [
    "import input_output\n",
    "importlib.reload(input_output)\n",
    "\n",
    "# pull genotype data for this family\n",
    "family_genotypes, family_snp_positions, mult_factor = input_output.pull_gen_data_for_individuals(data_dir, af_boundaries, assembly, chrom, family.individuals)\n",
    "print('Data pulled')\n",
    "\n"
   ]
  },
  {
   "cell_type": "code",
   "execution_count": 1102,
   "metadata": {},
   "outputs": [
    {
     "data": {
      "image/png": "[encoded data removed]",
      "text/plain": [
       "<Figure size 432x288 with 1 Axes>"
      ]
     },
     "metadata": {
      "needs_background": "light"
     },
     "output_type": "display_data"
    }
   ],
   "source": [
    "plt.hist(family_genotypes[-1, mult_factor==0], alpha=0.5, bins=np.arange(len(af_boundaries)+1), log=True)\n",
    "plt.hist(family_genotypes[-1, (mult_factor>0) & ~np.all(family_genotypes[:-1, :]==0, axis=0)], alpha=0.5, bins=np.arange(len(af_boundaries)+1), log=True)\n",
    "plt.hist(family_genotypes[-1, (mult_factor>0) & np.all(family_genotypes[:-1, :]==0, axis=0)], alpha=0.5, bins=np.arange(len(af_boundaries)+1), log=True)\n",
    "plt.xticks(np.arange(len(af_boundaries)), ['%0.3f' % 10.0**-x for x in af_boundaries], rotation=90)\n",
    "plt.show()"
   ]
  },
  {
   "cell_type": "code",
   "execution_count": 1103,
   "metadata": {},
   "outputs": [
    {
     "name": "stdout",
     "output_type": "stream",
     "text": [
      "cached losses (128, 380) already_calculated 0\n"
     ]
    }
   ],
   "source": [
    "loss.set_cache(family_genotypes)\n"
   ]
  },
  {
   "cell_type": "code",
   "execution_count": null,
   "metadata": {},
   "outputs": [],
   "source": [
    "importlib.reload(viterbi)\n",
    "\n",
    "# forward sweep\n",
    "v_cost = viterbi.viterbi_forward_sweep(family_genotypes, family_snp_positions, mult_factor, states, transitions, loss)\n",
    "\n",
    "\n"
   ]
  },
  {
   "cell_type": "code",
   "execution_count": null,
   "metadata": {},
   "outputs": [],
   "source": [
    "importlib.reload(viterbi)\n",
    "\n",
    "# backward sweep\n",
    "final_states = viterbi.viterbi_backward_sweep(v_cost, states, transitions)\n"
   ]
  },
  {
   "cell_type": "code",
   "execution_count": null,
   "metadata": {},
   "outputs": [],
   "source": [
    "final_states_greyed = final_states.copy()\n",
    "final_states_greyed[:, final_states[-1, :]!=0] = -1\n",
    "\n",
    "plt.figure(figsize=(15, 7))\n",
    "plt.imshow(final_states, aspect='auto', vmin=-1)\n",
    "plt.yticks(np.arange(final_states.shape[0]), \n",
    "           ['m%d_del' % i for i in range(1, 2*len(family.mat_ancestors)+1)] + ['p%d_del' % i for i in range(1, 2*len(family.pat_ancestors)+1)] + \\\n",
    "           sum([['%s_mat' % x,'%s_pat' % x] for x in family.individuals], []) + ['loss_region'])\n",
    "\n",
    "#plt.subplot(2, 1, 2, sharex=ax)\n",
    "#plt.fill_between(np.arange(family_snp_positions.shape[0]), 0, (family_snp_positions[:, 0]>=0) & (family_snp_positions[:, 1]<=20500000), alpha=0.5)\n",
    "#plt.fill_between(np.arange(family_snp_positions.shape[0]), 0, (family_snp_positions[:, 0]>=9600000) & (family_snp_positions[:, 1]<=16300000))\n",
    "#plt.fill_between(np.arange(family_snp_positions.shape[0]), 0, (family_snp_positions[:, 1]<=9600000) | (family_snp_positions[:, 0]>=48200000))\n",
    "\n",
    "#plt.xticks(xticks, xlabels, rotation=90)\n",
    "\n",
    "#plt.subplot(3, 1, 3)\n",
    "#plt.plot(np.log2(family_snp_positions[:, 1]-family_snp_positions[:, 0]), marker='.', linestyle='')\n",
    "#plt.plot(c[1:]-c[:-1], marker='.', linestyle='')\n",
    "#plt.plot(num_non_mend, marker='.', linestyle='')\n",
    "#plt.plot(np.convolve(num_non_mend, np.ones((100,)), mode='same'))\n",
    "#plt.plot(np.convolve(num_missing, np.ones((100,)), mode='same'))\n",
    "#plt.scatter(family_snp_positions[:, 0], final_states[-1, :], marker='.')\n",
    "#plt.xticks(family_snp_positions[xticks, 0], xlabels, rotation=90)\n",
    "#for i in np.where(family_snp_positions[:, 1]-family_snp_positions[:, 0] > 10000)[0]:\n",
    "#    plt.plot([family_snp_positions[i, 0], family_snp_positions[i, 1]], [final_states[-1, i], final_states[-1, i]], color='grey')\n",
    "#    #print(family_snp_positions[i, :])\n",
    "plt.tight_layout()\n",
    "plt.show()"
   ]
  },
  {
   "cell_type": "code",
   "execution_count": 1088,
   "metadata": {},
   "outputs": [
    {
     "data": {
      "text/plain": [
       "0.7820610817778121"
      ]
     },
     "execution_count": 1088,
     "metadata": {},
     "output_type": "execute_result"
    }
   ],
   "source": [
    "np.sum((final_states[-1, :]!=0)*mult_factor)/np.sum(mult_factor)\n"
   ]
  },
  {
   "cell_type": "code",
   "execution_count": 56,
   "metadata": {},
   "outputs": [
    {
     "name": "stdout",
     "output_type": "stream",
     "text": [
      "0.08166433284944095\n",
      "0.3331245744530517\n"
     ]
    }
   ],
   "source": [
    "print(np.sum((final_states[10, :]==0)*mult_factor)/np.sum(mult_factor))\n",
    "print(np.sum((final_states[11, :]==2)*mult_factor)/np.sum(mult_factor))\n"
   ]
  },
  {
   "cell_type": "code",
   "execution_count": 598,
   "metadata": {},
   "outputs": [
    {
     "data": {
      "image/png": "[encoded data removed]",
      "text/plain": [
       "<Figure size 1080x360 with 1 Axes>"
      ]
     },
     "metadata": {
      "needs_background": "light"
     },
     "output_type": "display_data"
    }
   ],
   "source": [
    "plt.figure(figsize=(15, 5))\n",
    "indices = final_states[3, :]==0\n",
    "plt.imshow(family_genotypes[2:-1, indices], aspect='auto', vmin=-1, vmax=2)\n",
    "plt.show()"
   ]
  },
  {
   "cell_type": "code",
   "execution_count": null,
   "metadata": {},
   "outputs": [],
   "source": []
  }
 ],
 "metadata": {
  "kernelspec": {
   "display_name": "Python 3",
   "language": "python",
   "name": "python3"
  },
  "language_info": {
   "codemirror_mode": {
    "name": "ipython",
    "version": 3
   },
   "file_extension": ".py",
   "mimetype": "text/x-python",
   "name": "python",
   "nbconvert_exporter": "python",
   "pygments_lexer": "ipython3",
   "version": "3.7.3"
  }
 },
 "nbformat": 4,
 "nbformat_minor": 2
}
