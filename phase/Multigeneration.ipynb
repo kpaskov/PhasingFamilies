{
 "cells": [
  {
   "cell_type": "code",
   "execution_count": 1,
   "metadata": {},
   "outputs": [
    {
     "data": {
      "text/plain": [
       "<module 'viterbi' from '/Users/kelley/Projects/PhasingFamilies/phase/viterbi.py'>"
      ]
     },
     "execution_count": 1,
     "metadata": {},
     "output_type": "execute_result"
    }
   ],
   "source": [
    "import sys\n",
    "import json\n",
    "from os import listdir\n",
    "from itertools import product\n",
    "import importlib\n",
    "import matplotlib.pyplot as plt\n",
    "import numpy as np\n",
    "\n",
    "import input_output\n",
    "importlib.reload(input_output)\n",
    "import inheritance_states\n",
    "importlib.reload(inheritance_states)\n",
    "import transition_matrices\n",
    "importlib.reload(transition_matrices)\n",
    "import genotypes\n",
    "importlib.reload(genotypes)\n",
    "import losses\n",
    "importlib.reload(losses)\n",
    "import viterbi\n",
    "importlib.reload(viterbi)"
   ]
  },
  {
   "cell_type": "code",
   "execution_count": 122,
   "metadata": {},
   "outputs": [
    {
     "name": "stdout",
     "output_type": "stream",
     "text": [
      "4.675167089663394\n"
     ]
    }
   ],
   "source": [
    "# Read in command line arguments\n",
    "chrom = '10'\n",
    "\n",
    "#data_dir = '../../DATA/ssc.hg38/genotypes/phase2'\n",
    "#ped_file = '../../DATA/ssc.hg38/ssc.ped'\n",
    "#param_file = '../params/ssc.hg38_phase2_multiloss_params.json'\n",
    "#num_loss_regions = 2\n",
    "#assembly = '38'\n",
    "#max_af_cost = np.log10(2*71000/3)\n",
    "#print(max_af_cost)\n",
    "\n",
    "data_dir = '../../DATA/mssng/genotypes'\n",
    "ped_file = '../../DATA/mssng/mssng.ped.quads.ped'\n",
    "param_file = '../params/mssng_quads_multiloss_params.json'\n",
    "num_loss_regions = 2\n",
    "assembly = '38'\n",
    "max_af_cost = np.log10(2*71000/3)\n",
    "print(max_af_cost)\n",
    "\n",
    "\n",
    "#data_dir = '../../DATA/spark.exome/genotypes'\n",
    "#ped_file = '../../DATA/spark.exome/spark.ped.quads.ped'\n",
    "#param_file = '../params/spark.exome_quads_multiloss_params.json'\n",
    "#num_loss_regions = 1\n",
    "#assembly = '38'\n",
    "#max_af_cost = np.log10(2*71000/3)\n",
    "#print(max_af_cost)\n",
    "\n",
    "#data_dir = '../../DATA/ancestry/genotypes'\n",
    "#ped_file = '../../DATA/ancestry/ancestry.ped.quads.ped'\n",
    "#param_file = '../params/ancestry_quads_multiloss_params.json'\n",
    "#num_loss_regions = 1\n",
    "#assembly = '37'\n",
    "#max_af_cost = 4.7\n",
    "\n",
    "#data_dir = '../../DATA/ancestry/genotypes'\n",
    "#ped_file = '../../DATA/ancestry/ancestry.ped'\n",
    "#param_file = '../params/ancestry_multiloss_params.json'\n",
    "#num_loss_regions = 1\n",
    "#assembly = '37'\n",
    "\n",
    "detect_deletions = True\n",
    "detect_consanguinity = False\n",
    "\n",
    "# set up filenames\n",
    "coord_file = '%s/chr.%s.gen.coordinates.npy' % (data_dir,  chrom)\n",
    "gen_files = sorted([f for f in listdir(data_dir) if ('chr.%s.' % chrom) in f and 'gen.npz' in f])\n",
    "\n",
    "with open(param_file, 'r') as f: \n",
    "    params = json.load(f)"
   ]
  },
  {
   "cell_type": "code",
   "execution_count": 123,
   "metadata": {},
   "outputs": [],
   "source": [
    "#params['-log10(P[maternal_crossover])'] = 100\n",
    "#params['-log10(P[paternal_crossover])'] = 100"
   ]
  },
  {
   "cell_type": "code",
   "execution_count": 124,
   "metadata": {},
   "outputs": [
    {
     "name": "stdout",
     "output_type": "stream",
     "text": [
      "families pulled 806\n"
     ]
    }
   ],
   "source": [
    "# pull families of interest\n",
    "families = input_output.pull_families(ped_file)"
   ]
  },
  {
   "cell_type": "code",
   "execution_count": 125,
   "metadata": {},
   "outputs": [
    {
     "name": "stdout",
     "output_type": "stream",
     "text": [
      "1-0059.1-0059-003A.1-0059-004\n"
     ]
    }
   ],
   "source": [
    "print(families[0])"
   ]
  },
  {
   "cell_type": "code",
   "execution_count": 126,
   "metadata": {},
   "outputs": [
    {
     "name": "stdout",
     "output_type": "stream",
     "text": [
      "770 have genomic data and parameters\n"
     ]
    }
   ],
   "source": [
    "# make sure at least one individual has genetic data (chromosome 1 chosen arbitrarily)\n",
    "sample_file = '%s/samples.json' % data_dir\n",
    "with open(sample_file, 'r') as f:\n",
    "\tsample_ids = set(json.load(f))\n",
    "\n",
    "for family in families:\n",
    "\tto_be_removed = [x for x in family.individuals if x not in sample_ids or (x not in params and '%s.%s' % (family.id, x) not in params)]\n",
    "\tfamily.prune(to_be_removed)\n",
    "    \n",
    "families = [x for x in families if x.num_descendents()>0]\n",
    "print(len(families), 'have genomic data and parameters')"
   ]
  },
  {
   "cell_type": "code",
   "execution_count": 127,
   "metadata": {},
   "outputs": [
    {
     "name": "stdout",
     "output_type": "stream",
     "text": [
      "[4.51544993e+00 4.21441994e+00 3.91338994e+00 3.61235995e+00\n",
      " 3.31132995e+00 3.01029996e+00 2.70926996e+00 2.40823997e+00\n",
      " 2.10720997e+00 1.80617997e+00 1.50514998e+00 1.20411998e+00\n",
      " 9.03089987e-01 6.02059991e-01 5.79919470e-02 2.80287236e-02\n",
      " 1.37882845e-02 6.83942453e-03 3.40624869e-03 1.69978488e-03\n",
      " 8.49060841e-04 4.24322928e-04 2.12109641e-04 1.06041871e-04\n",
      " 5.30176991e-05 2.65080405e-05 1.32538180e-05]\n"
     ]
    }
   ],
   "source": [
    "af_boundaries = np.arange(-np.log10(0.25), max_af_cost, np.log10(2)).tolist() # use rule of 3; we can't differentiate allele frequencies any smaller than 3/(2*num unrelated individuals).\n",
    "af_boundaries.extend([-np.log10(1-(10.0**-x)) for x in af_boundaries[1:]])\n",
    "af_boundaries = np.array(sorted(af_boundaries, reverse=True))\n",
    "print(af_boundaries)\n"
   ]
  },
  {
   "cell_type": "code",
   "execution_count": 128,
   "metadata": {},
   "outputs": [
    {
     "name": "stdout",
     "output_type": "stream",
     "text": [
      "770\n"
     ]
    }
   ],
   "source": [
    "# if we're detecting consanguinity, restrict to nuclear families\n",
    "if detect_consanguinity:\n",
    "    families = [x for x in families if x.num_ancestors()==2 and len(x.ordered_couples)==1]\n",
    "    \n",
    "    # to detect consanguinity, model a shared ancestor\n",
    "    for family in families:\n",
    "        family.add_child(family.mat_ancestors[0], 'mat_shared_ancestor', 'pat_shared_ancestor')\n",
    "        family.add_child(family.pat_ancestors[0], 'mat_shared_ancestor', 'pat_shared_ancestor')\n",
    "    \n",
    "print(len(families))"
   ]
  },
  {
   "cell_type": "code",
   "execution_count": 156,
   "metadata": {},
   "outputs": [
    {
     "name": "stdout",
     "output_type": "stream",
     "text": [
      "family MSSNG00439-003.MSSNG00439-003.MSSNG00439-004 ['MSSNG00439-001', 'MSSNG00439-002', 'MSSNG00439-004', 'MSSNG00439-003']\n",
      "dict_items([(('MSSNG00439-001', 'MSSNG00439-002'), ['MSSNG00439-004', 'MSSNG00439-003'])])\n"
     ]
    }
   ],
   "source": [
    "import random\n",
    "\n",
    "\n",
    "family = random.choice(families)\n",
    "#family = [f for f in families if f.id=='13949'][0]\n",
    "#family = [f for f in families if f.id=='FAM_1049.1049_NT_1.1049_NT_2'][0]\n",
    "print('family', family.id, family.individuals)\n",
    "print(family.parents_to_children.items())"
   ]
  },
  {
   "cell_type": "code",
   "execution_count": 157,
   "metadata": {
    "scrolled": true
   },
   "outputs": [
    {
     "name": "stdout",
     "output_type": "stream",
     "text": [
      "fixed [('MSSNG00439-004', 'mat'), ('MSSNG00439-004', 'pat')]\n",
      "inheritance states (128, 9)\n",
      "transitions (128, 19)\n"
     ]
    }
   ],
   "source": [
    "importlib.reload(inheritance_states)\n",
    "importlib.reload(transition_matrices)\n",
    "\n",
    "# create inheritance states\n",
    "if chrom == 'X':\n",
    "    states = inheritance_states.InheritanceStates(family, detect_deletions, True, num_loss_regions)\n",
    "else:\n",
    "    states = inheritance_states.InheritanceStates(family, detect_deletions, detect_deletions, num_loss_regions)\n",
    "\n",
    "# create transition matrix\n",
    "transitions = transition_matrices.TransitionMatrix(states, params)\n",
    "                "
   ]
  },
  {
   "cell_type": "code",
   "execution_count": 158,
   "metadata": {},
   "outputs": [
    {
     "name": "stdout",
     "output_type": "stream",
     "text": [
      "no data []\n",
      "MSSNG00439-001\n",
      "\t0/0\t0/1\t1/1\t./.\n",
      "0/0\t0.0001-0.0006\t4.4264-4.1920\t5.7283-5.0213\t3.9969-2.8797\n",
      "0/1\t3.1750-3.0342\t0.0005-0.0012\t3.8483-4.2729\t3.5074-2.7770\n",
      "1/1\t3.3338-2.8939\t4.2768-4.0244\t0.0003-0.0010\t3.7087-3.0496\n",
      "-/0\t0.0001-0.0006\t4.4264-4.1920\t5.7283-5.0213\t3.9969-2.8797\n",
      "-/1\t3.3338-2.8939\t4.2768-4.0244\t0.0003-0.0010\t3.7087-3.0496\n",
      "-/-\t4.2768-4.0244\t4.5310-3.9576\t4.4264-4.1920\t0.0001-0.0001\n",
      "MSSNG00439-002\n",
      "\t0/0\t0/1\t1/1\t./.\n",
      "0/0\t0.0001-0.0003\t4.4264-4.1920\t6.0525-6.3088\t3.8810-3.1323\n",
      "0/1\t2.8501-1.7714\t0.0009-0.0122\t3.2812-2.0364\t3.7059-2.8210\n",
      "1/1\t4.7768-4.2243\t4.2768-4.0244\t0.0002-0.0005\t3.4168-2.9890\n",
      "-/0\t0.0001-0.0003\t4.4264-4.1920\t6.0525-6.3088\t3.8810-3.1323\n",
      "-/1\t4.7768-4.2243\t4.2768-4.0244\t0.0002-0.0005\t3.4168-2.9890\n",
      "-/-\t4.2768-4.0244\t5.4147-5.2666\t4.4264-4.1920\t0.0000-0.0001\n",
      "MSSNG00439-004\n",
      "\t0/0\t0/1\t1/1\t./.\n",
      "0/0\t0.0001-0.0007\t4.3665-4.1807\t6.7626-5.3146\t3.9212-2.7845\n",
      "0/1\t3.0136-2.1402\t0.0007-0.0050\t3.5181-2.8885\t3.6167-2.5459\n",
      "1/1\t5.1887-3.8001\t4.3418-4.0239\t0.0001-0.0011\t3.6333-2.6323\n",
      "-/0\t0.0001-0.0007\t4.3665-4.1807\t6.7626-5.3146\t3.9212-2.7845\n",
      "-/1\t5.1887-3.8001\t4.3418-4.0239\t0.0001-0.0011\t3.6333-2.6323\n",
      "-/-\t4.3418-4.0239\t5.9757-4.5573\t4.3665-4.1807\t0.0000-0.0001\n",
      "MSSNG00439-003\n",
      "\t0/0\t0/1\t1/1\t./.\n",
      "0/0\t0.0001-0.0004\t4.4862-4.2033\t6.2993-5.8168\t4.0488-3.0551\n",
      "0/1\t2.9924-2.5335\t0.0008-0.0025\t3.3264-2.6797\t3.5968-3.1726\n",
      "1/1\t4.9953-4.2022\t4.2117-4.0249\t0.0001-0.0003\t3.5671-3.2399\n",
      "-/0\t0.0001-0.0004\t4.4862-4.2033\t6.2993-5.8168\t4.0488-3.0551\n",
      "-/1\t4.9953-4.2022\t4.2117-4.0249\t0.0001-0.0003\t3.5671-3.2399\n",
      "-/-\t4.2117-4.0249\t5.6473-5.0095\t4.4862-4.2033\t0.0000-0.0001\n",
      "[4.51544993e+00 4.21441994e+00 3.91338994e+00 3.61235995e+00\n",
      " 3.31132995e+00 3.01029996e+00 2.70926996e+00 2.40823997e+00\n",
      " 2.10720997e+00 1.80617997e+00 1.50514998e+00 1.20411998e+00\n",
      " 9.03089987e-01 6.02059991e-01 5.79919470e-02 2.80287236e-02\n",
      " 1.37882845e-02 6.83942453e-03 3.40624869e-03 1.69978488e-03\n",
      " 8.49060841e-04 4.24322928e-04 2.12109641e-04 1.06041871e-04\n",
      " 5.30176991e-05 2.65080405e-05 1.32538180e-05]\n",
      "alt costs [4.51544993e+00 4.21441994e+00 3.91338994e+00 3.61235995e+00\n",
      " 3.31132995e+00 3.01029996e+00 2.70926996e+00 2.40823997e+00\n",
      " 2.10720997e+00 1.80617997e+00 1.50514998e+00 1.20411998e+00\n",
      " 9.03089987e-01 6.02059991e-01 3.01029996e-01 5.79919470e-02\n",
      " 2.80287236e-02 1.37882845e-02 6.83942453e-03 3.40624869e-03\n",
      " 1.69978488e-03 8.49060841e-04 4.24322928e-04 2.12109641e-04\n",
      " 1.06041871e-04 5.30176991e-05 2.65080405e-05 1.32538180e-05]\n",
      "ref costs [1.32538180e-05 2.65080405e-05 5.30176991e-05 1.06041871e-04\n",
      " 2.12109641e-04 4.24322928e-04 8.49060841e-04 1.69978488e-03\n",
      " 3.40624869e-03 6.83942453e-03 1.37882845e-02 2.80287236e-02\n",
      " 5.79919470e-02 1.24938737e-01 3.01029996e-01 9.03089987e-01\n",
      " 1.20411998e+00 1.50514998e+00 1.80617997e+00 2.10720997e+00\n",
      " 2.40823997e+00 2.70926996e+00 3.01029996e+00 3.31132995e+00\n",
      " 3.61235995e+00 3.91338994e+00 4.21441994e+00 4.51544993e+00]\n",
      "miss costs [0.30103 0.30103 0.30103 0.30103 0.30103 0.30103 0.30103 0.30103 0.30103\n",
      " 0.30103 0.30103 0.30103 0.30103 0.30103 0.30103 0.30103 0.30103 0.30103\n",
      " 0.30103 0.30103 0.30103 0.30103 0.30103 0.30103 0.30103 0.30103 0.30103\n",
      " 0.30103]\n",
      "perfect matches 204\n",
      "perfect_match_indices (128, 16)\n"
     ]
    }
   ],
   "source": [
    "importlib.reload(losses)\n",
    "\n",
    "# create loss function\n",
    "loss = losses.LazyLoss(states, family, params, num_loss_regions, af_boundaries)\n"
   ]
  },
  {
   "cell_type": "code",
   "execution_count": 159,
   "metadata": {},
   "outputs": [],
   "source": [
    "#af_index = random.choice(np.arange(1, len(af_boundaries)))\n",
    "#total_prob = np.zeros((states.num_states,))\n",
    "#for gen in np.array(list(product(*([[0, 1, 2, -1]]*len(family)) + [[af_index]]))):\n",
    "#    if np.all(gen[:-1]==0) or np.any(gen[:-1]>0):\n",
    "#        total_prob += np.power(10, -loss(gen))\n",
    "#        \n",
    "#assert np.all(np.isclose(total_prob, 1))"
   ]
  },
  {
   "cell_type": "code",
   "execution_count": 160,
   "metadata": {},
   "outputs": [
    {
     "name": "stdout",
     "output_type": "stream",
     "text": [
      "14 14 14\n",
      "af_boundaries [4.51544993e+00 4.21441994e+00 3.91338994e+00 3.61235995e+00\n",
      " 3.31132995e+00 3.01029996e+00 2.70926996e+00 2.40823997e+00\n",
      " 2.10720997e+00 1.80617997e+00 1.50514998e+00 1.20411998e+00\n",
      " 9.03089987e-01 6.02059991e-01 5.79919470e-02 2.80287236e-02\n",
      " 1.37882845e-02 6.83942453e-03 3.40624869e-03 1.69978488e-03\n",
      " 8.49060841e-04 4.24322928e-04 2.12109641e-04 1.06041871e-04\n",
      " 5.30176991e-05 2.65080405e-05 1.32538180e-05]\n",
      "(4, 229688) (229688,) (229688,) (229689,)\n",
      "(4, 229688) (229688,)\n",
      "0\n",
      "genotypes pulled (5, 456155)\n",
      "Data pulled\n"
     ]
    }
   ],
   "source": [
    "import input_output\n",
    "importlib.reload(input_output)\n",
    "\n",
    "# pull genotype data for this family\n",
    "family_genotypes, family_snp_positions, mult_factor = input_output.pull_gen_data_for_individuals(data_dir, af_boundaries, assembly, chrom, family.individuals)\n",
    "print('Data pulled')\n",
    "\n"
   ]
  },
  {
   "cell_type": "code",
   "execution_count": 161,
   "metadata": {},
   "outputs": [
    {
     "data": {
      "image/png": "[encoded data removed]",
      "text/plain": [
       "<Figure size 1080x360 with 1 Axes>"
      ]
     },
     "metadata": {
      "needs_background": "light"
     },
     "output_type": "display_data"
    }
   ],
   "source": [
    "plt.figure(figsize=(15, 5))\n",
    "plt.imshow(family_genotypes[:-1, (family_snp_positions[:, 1]>=125500000) & (family_snp_positions[:, 0]<=125700000)], aspect='auto', vmin=-1, vmax=2)\n",
    "plt.show()\n"
   ]
  },
  {
   "cell_type": "code",
   "execution_count": 162,
   "metadata": {},
   "outputs": [
    {
     "name": "stdout",
     "output_type": "stream",
     "text": [
      "442668\n"
     ]
    }
   ],
   "source": [
    "print(np.sum(mult_factor!=0))"
   ]
  },
  {
   "cell_type": "code",
   "execution_count": 163,
   "metadata": {},
   "outputs": [
    {
     "data": {
      "image/png": "[encoded data removed]",
      "text/plain": [
       "<Figure size 432x288 with 1 Axes>"
      ]
     },
     "metadata": {
      "needs_background": "light"
     },
     "output_type": "display_data"
    }
   ],
   "source": [
    "plt.hist(family_genotypes[-1, mult_factor==0], alpha=0.5, bins=np.arange(len(af_boundaries)+1), log=True)\n",
    "plt.hist(family_genotypes[-1, (mult_factor>0) & ~np.all(family_genotypes[:-1, :]==0, axis=0)], alpha=0.5, bins=np.arange(len(af_boundaries)+1), log=True)\n",
    "plt.hist(family_genotypes[-1, (mult_factor>0) & np.all(family_genotypes[:-1, :]==0, axis=0)], alpha=0.5, bins=np.arange(len(af_boundaries)+1), log=True)\n",
    "plt.xticks(np.arange(len(af_boundaries)), ['%0.3f' % 10.0**-x for x in af_boundaries], rotation=90)\n",
    "plt.show()"
   ]
  },
  {
   "cell_type": "code",
   "execution_count": 164,
   "metadata": {},
   "outputs": [
    {
     "name": "stdout",
     "output_type": "stream",
     "text": [
      "cached losses (128, 399) already_calculated 0\n"
     ]
    }
   ],
   "source": [
    "loss.set_cache(family_genotypes)\n"
   ]
  },
  {
   "cell_type": "code",
   "execution_count": 165,
   "metadata": {},
   "outputs": [
    {
     "name": "stdout",
     "output_type": "stream",
     "text": [
      "Forward sweep complete 41.707732915878296 sec\n"
     ]
    }
   ],
   "source": [
    "importlib.reload(viterbi)\n",
    "\n",
    "# forward sweep\n",
    "v_cost = viterbi.viterbi_forward_sweep(family_genotypes, family_snp_positions, mult_factor, states, transitions, loss)\n",
    "\n",
    "# Forward sweep complete 30.899459838867188 sec\n",
    "# Forward sweep complete 95.2498619556427 sec\n",
    "\n"
   ]
  },
  {
   "cell_type": "code",
   "execution_count": 166,
   "metadata": {},
   "outputs": [
    {
     "name": "stdout",
     "output_type": "stream",
     "text": [
      "Num solutions (1,) 289688.61890187085 (array([1, 1, 1, 1, 0, 0, 0, 1, 1], dtype=int8),)\n",
      "Num forks 5659\n",
      "Backward sweep complete 49.633235931396484 sec\n"
     ]
    }
   ],
   "source": [
    "importlib.reload(viterbi)\n",
    "\n",
    "# backward sweep\n",
    "final_states = viterbi.viterbi_backward_sweep(v_cost, states, transitions)\n",
    "\n",
    "# Backward sweep complete 64.39986205101013 sec\n",
    "\n",
    "#Num forks 1029\n",
    "#Backward sweep complete 23.799263954162598 sec\n"
   ]
  },
  {
   "cell_type": "code",
   "execution_count": 167,
   "metadata": {},
   "outputs": [
    {
     "data": {
      "image/png": "[encoded data removed]",
      "text/plain": [
       "<Figure size 1080x504 with 1 Axes>"
      ]
     },
     "metadata": {
      "needs_background": "light"
     },
     "output_type": "display_data"
    }
   ],
   "source": [
    "final_states_greyed = final_states.copy()\n",
    "final_states_greyed[:, final_states[-1, :]==1] = -1\n",
    "\n",
    "plt.figure(figsize=(15, 7))\n",
    "plt.imshow(final_states, aspect='auto', vmin=-1)\n",
    "plt.yticks(np.arange(final_states.shape[0]), \n",
    "           ['m%d_del' % i for i in range(1, 2*len(family.mat_ancestors)+1)] + ['p%d_del' % i for i in range(1, 2*len(family.pat_ancestors)+1)] + \\\n",
    "           sum([['%s_mat' % x,'%s_pat' % x] for x in family.individuals], []) + ['loss_region'])\n",
    "\n",
    "#plt.subplot(2, 1, 2, sharex=ax)\n",
    "#plt.fill_between(np.arange(family_snp_positions.shape[0]), 0, (family_snp_positions[:, 0]>=0) & (family_snp_positions[:, 1]<=20500000), alpha=0.5)\n",
    "#plt.fill_between(np.arange(family_snp_positions.shape[0]), 0, (family_snp_positions[:, 0]>=9600000) & (family_snp_positions[:, 1]<=16300000))\n",
    "#plt.fill_between(np.arange(family_snp_positions.shape[0]), 0, (family_snp_positions[:, 1]<=9600000) | (family_snp_positions[:, 0]>=48200000))\n",
    "\n",
    "#plt.xticks(xticks, xlabels, rotation=90)\n",
    "\n",
    "#plt.subplot(3, 1, 3)\n",
    "#plt.plot(np.log2(family_snp_positions[:, 1]-family_snp_positions[:, 0]), marker='.', linestyle='')\n",
    "#plt.plot(c[1:]-c[:-1], marker='.', linestyle='')\n",
    "#plt.plot(num_non_mend, marker='.', linestyle='')\n",
    "#plt.plot(np.convolve(num_non_mend, np.ones((100,)), mode='same'))\n",
    "#plt.plot(np.convolve(num_missing, np.ones((100,)), mode='same'))\n",
    "#plt.scatter(family_snp_positions[:, 0], final_states[-1, :], marker='.')\n",
    "#plt.xticks(family_snp_positions[xticks, 0], xlabels, rotation=90)\n",
    "#for i in np.where(family_snp_positions[:, 1]-family_snp_positions[:, 0] > 10000)[0]:\n",
    "#    plt.plot([family_snp_positions[i, 0], family_snp_positions[i, 1]], [final_states[-1, i], final_states[-1, i]], color='grey')\n",
    "#    #print(family_snp_positions[i, :])\n",
    "plt.tight_layout()\n",
    "plt.show()"
   ]
  },
  {
   "cell_type": "code",
   "execution_count": 168,
   "metadata": {},
   "outputs": [
    {
     "data": {
      "image/png": "[encoded data removed]",
      "text/plain": [
       "<Figure size 1080x360 with 1 Axes>"
      ]
     },
     "metadata": {
      "needs_background": "light"
     },
     "output_type": "display_data"
    }
   ],
   "source": [
    "cyto = []\n",
    "with open('../data/cytoBand%s.txt' % assembly, 'r') as f:\n",
    "    for line in f:\n",
    "        pieces = line.strip().split('\\t')\n",
    "        if pieces[0] == 'chr%s'%chrom:\n",
    "            cyto.append((int(pieces[1]), int(pieces[2]), pieces[3]))\n",
    "            \n",
    "            prop_cycle = plt.rcParams['axes.prop_cycle']\n",
    "colors = prop_cycle.by_key()['color']\n",
    "colors[-1] = 'black'\n",
    "\n",
    "#indices = np.arange(2*family.num_ancestors(), final_states.shape[0]-1)\n",
    "indices = np.arange(final_states.shape[0])\n",
    "\n",
    "plt.figure(figsize=(15, 5))\n",
    "\n",
    "for i, j in enumerate(indices):    \n",
    "    a = np.zeros((2*final_states.shape[1],), dtype=int)\n",
    "    b = np.zeros((2*final_states.shape[1],), dtype=float)\n",
    "    a[0::2] = family_snp_positions[:, 0]\n",
    "    a[1::2] = family_snp_positions[:, 1]\n",
    "    b[0::2] = final_states[j, :]\n",
    "    b[1::2] = final_states[j, :]\n",
    "\n",
    "    for m in [0, 1, 2, 3, -1]:\n",
    "        c = np.zeros((a.shape[0],), dtype=float)\n",
    "        c[b==m] = -i\n",
    "        c[b!=m] = np.nan\n",
    "        if j<4:\n",
    "            plt.fill_between(a, c-0.4, c+0.4, color='black' if m==0 else 'white')\n",
    "        elif j==final_states.shape[0]-1:\n",
    "            plt.fill_between(a, c-0.4, c+0.4, color='black' if m==1 else 'white')\n",
    "        else:\n",
    "            plt.fill_between(a, c-0.4, c+0.4, color=colors[m])\n",
    "plt.yticks(np.arange(0, -len(indices), -1), sum([['%s_mat' % x,'%s_pat' % x] for x in family.individuals], []))\n",
    "#plt.xticks([x[0] for x in cyto], [x[2] for x in cyto], rotation=90)\n",
    "\n",
    "plt.xlim([125500000, 126500000])\n",
    "plt.tight_layout()\n",
    "plt.show()"
   ]
  },
  {
   "cell_type": "code",
   "execution_count": null,
   "metadata": {},
   "outputs": [],
   "source": [
    "input_output.write_to_file(sys.stdout, chrom, family, final_states, family_snp_positions)"
   ]
  },
  {
   "cell_type": "code",
   "execution_count": 212,
   "metadata": {},
   "outputs": [
    {
     "ename": "ValueError",
     "evalue": "operands could not be broadcast together with shapes (49964,) (46357,) ",
     "output_type": "error",
     "traceback": [
      "\u001b[0;31m---------------------------------------------------------------------------\u001b[0m",
      "\u001b[0;31mValueError\u001b[0m                                Traceback (most recent call last)",
      "\u001b[0;32m<ipython-input-212-9d7e76d1ee62>\u001b[0m in \u001b[0;36m<module>\u001b[0;34m\u001b[0m\n\u001b[0;32m----> 1\u001b[0;31m \u001b[0mnp\u001b[0m\u001b[0;34m.\u001b[0m\u001b[0msum\u001b[0m\u001b[0;34m(\u001b[0m\u001b[0;34m(\u001b[0m\u001b[0mfinal_states\u001b[0m\u001b[0;34m[\u001b[0m\u001b[0;34m-\u001b[0m\u001b[0;36m1\u001b[0m\u001b[0;34m,\u001b[0m \u001b[0;34m:\u001b[0m\u001b[0;34m]\u001b[0m\u001b[0;34m==\u001b[0m\u001b[0;36m0\u001b[0m\u001b[0;34m)\u001b[0m\u001b[0;34m*\u001b[0m\u001b[0mmult_factor\u001b[0m\u001b[0;34m)\u001b[0m\u001b[0;34m/\u001b[0m\u001b[0mnp\u001b[0m\u001b[0;34m.\u001b[0m\u001b[0msum\u001b[0m\u001b[0;34m(\u001b[0m\u001b[0mmult_factor\u001b[0m\u001b[0;34m)\u001b[0m\u001b[0;34m\u001b[0m\u001b[0;34m\u001b[0m\u001b[0m\n\u001b[0m",
      "\u001b[0;31mValueError\u001b[0m: operands could not be broadcast together with shapes (49964,) (46357,) "
     ]
    }
   ],
   "source": [
    "np.sum((final_states[-1, :]==0)*mult_factor)/np.sum(mult_factor)\n"
   ]
  },
  {
   "cell_type": "code",
   "execution_count": 96,
   "metadata": {},
   "outputs": [
    {
     "name": "stdout",
     "output_type": "stream",
     "text": [
      "46091\n"
     ]
    }
   ],
   "source": [
    "print(np.sum((final_states[10, :400000]==0) & (final_states[-1, :400000]!=1)))"
   ]
  },
  {
   "cell_type": "code",
   "execution_count": 97,
   "metadata": {},
   "outputs": [
    {
     "name": "stdout",
     "output_type": "stream",
     "text": [
      "0.6276088485890722\n",
      "0.9802235597592434\n"
     ]
    }
   ],
   "source": [
    "print(np.sum((final_states[10, :]==0)*mult_factor)/np.sum(mult_factor))\n",
    "print(np.sum((final_states[11, :]==2)*mult_factor)/np.sum(mult_factor))\n"
   ]
  },
  {
   "cell_type": "code",
   "execution_count": 98,
   "metadata": {},
   "outputs": [
    {
     "data": {
      "image/png": "[encoded data removed]",
      "text/plain": [
       "<Figure size 1080x360 with 1 Axes>"
      ]
     },
     "metadata": {
      "needs_background": "light"
     },
     "output_type": "display_data"
    }
   ],
   "source": [
    "plt.figure(figsize=(15, 5))\n",
    "indices = (final_states[10, :400000]==0) & (final_states[-1, :400000]!=1)\n",
    "plt.imshow(family_genotypes[:, :400000][:-1, indices], aspect='auto', vmin=-1, vmax=2)\n",
    "plt.show()"
   ]
  },
  {
   "cell_type": "code",
   "execution_count": null,
   "metadata": {},
   "outputs": [],
   "source": []
  }
 ],
 "metadata": {
  "kernelspec": {
   "display_name": "Python 3",
   "language": "python",
   "name": "python3"
  },
  "language_info": {
   "codemirror_mode": {
    "name": "ipython",
    "version": 3
   },
   "file_extension": ".py",
   "mimetype": "text/x-python",
   "name": "python",
   "nbconvert_exporter": "python",
   "pygments_lexer": "ipython3",
   "version": "3.7.3"
  }
 },
 "nbformat": 4,
 "nbformat_minor": 2
}
