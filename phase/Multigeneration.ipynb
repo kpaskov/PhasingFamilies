{
 "cells": [
  {
   "cell_type": "code",
   "execution_count": 985,
   "metadata": {},
   "outputs": [
    {
     "data": {
      "text/plain": [
       "<module 'viterbi' from '/Users/kelley/Projects/PhasingFamilies/phase/viterbi.py'>"
      ]
     },
     "execution_count": 985,
     "metadata": {},
     "output_type": "execute_result"
    }
   ],
   "source": [
    "import sys\n",
    "import json\n",
    "from os import listdir\n",
    "from itertools import product\n",
    "import importlib\n",
    "import matplotlib.pyplot as plt\n",
    "import numpy as np\n",
    "\n",
    "import input_output\n",
    "importlib.reload(input_output)\n",
    "import inheritance_states\n",
    "importlib.reload(inheritance_states)\n",
    "import transition_matrices\n",
    "importlib.reload(transition_matrices)\n",
    "import genotypes\n",
    "importlib.reload(genotypes)\n",
    "import losses\n",
    "importlib.reload(losses)\n",
    "import viterbi\n",
    "importlib.reload(viterbi)"
   ]
  },
  {
   "cell_type": "code",
   "execution_count": 984,
   "metadata": {},
   "outputs": [],
   "source": [
    "# Read in command line arguments\n",
    "chrom = '5'\n",
    "\n",
    "data_dir = '../../DATA/ihart/genotypes'\n",
    "param_file = '../params/ihart_multiloss_params.json'\n",
    "num_loss_regions = 2\n",
    "assembly = '37'\n",
    "ped_file = '../../DATA/ihart/ihart.ped'\n",
    "###detect_deletions = False\n",
    "###ped_file = '../../DATA/ihart/ihart.ped'\n",
    "\n",
    "#data_dir = '../../DATA/spark/genotypes'\n",
    "#ped_file = '../../DATA/spark/spark.ped.quads.ped'\n",
    "#param_file = '../params/spark_quads_multiloss_params.json'\n",
    "#num_loss_regions = 1\n",
    "#assembly = '38'\n",
    "\n",
    "#data_dir = '../../DATA/ancestry/genotypes'\n",
    "#ped_file = '../../DATA/ancestry/ancestry.ped'\n",
    "#param_file = '../params/ancestry_multiloss_params.json'\n",
    "#num_loss_regions = 1\n",
    "#assembly = '37'\n",
    "\n",
    "detect_deletions = False\n",
    "detect_consanguinity = False\n",
    "\n",
    "# set up filenames\n",
    "sample_file = '%s/chr.%s.gen.samples.txt' % (data_dir, chrom)\n",
    "coord_file = '%s/chr.%s.gen.coordinates.npy' % (data_dir,  chrom)\n",
    "gen_files = sorted([f for f in listdir(data_dir) if ('chr.%s.' % chrom) in f and 'gen.npz' in f])\n",
    "\n",
    "with open(param_file, 'r') as f: \n",
    "    params = json.load(f)"
   ]
  },
  {
   "cell_type": "code",
   "execution_count": 901,
   "metadata": {},
   "outputs": [],
   "source": [
    "#params['-log10(P[maternal_crossover])'] = 100\n",
    "#params['-log10(P[paternal_crossover])'] = 100"
   ]
  },
  {
   "cell_type": "code",
   "execution_count": 902,
   "metadata": {},
   "outputs": [
    {
     "name": "stdout",
     "output_type": "stream",
     "text": [
      "families pulled 1002\n"
     ]
    }
   ],
   "source": [
    "# pull families of interest\n",
    "families = input_output.pull_families(ped_file)"
   ]
  },
  {
   "cell_type": "code",
   "execution_count": 905,
   "metadata": {},
   "outputs": [],
   "source": [
    "# make sure at least one individual has genetic data (chromosome 1 chosen arbitrarily)\n",
    "sample_file = '%s/chr.%s.gen.samples.txt' % (data_dir, chrom)\n",
    "with open(sample_file, 'r') as f:\n",
    "    sample_ids = set([line.strip() for line in f])\n",
    "families = [x for x in families if len(set(x.individuals) & sample_ids)>0]"
   ]
  },
  {
   "cell_type": "code",
   "execution_count": 906,
   "metadata": {},
   "outputs": [
    {
     "name": "stdout",
     "output_type": "stream",
     "text": [
      "unrelated individuals in dataset 2110\n"
     ]
    }
   ],
   "source": [
    "num_unrelated_individuals = sum([f.num_ancestors() for f in families])\n",
    "print('unrelated individuals in dataset', num_unrelated_individuals)\n"
   ]
  },
  {
   "cell_type": "code",
   "execution_count": 940,
   "metadata": {},
   "outputs": [
    {
     "name": "stdout",
     "output_type": "stream",
     "text": [
      "[3.01029996e+00 2.70926996e+00 2.40823997e+00 2.10720997e+00\n",
      " 1.80617997e+00 1.50514998e+00 1.20411998e+00 9.03089987e-01\n",
      " 6.02059991e-01 5.79919470e-02 2.80287236e-02 1.37882845e-02\n",
      " 6.83942453e-03 3.40624869e-03 1.69978488e-03 8.49060841e-04\n",
      " 4.24322928e-04]\n"
     ]
    }
   ],
   "source": [
    "af_boundaries = np.arange(-np.log10(0.25), np.log10(2*num_unrelated_individuals/3), np.log10(2)).tolist() # use rule of 3; we can't differentiate allele frequencies any smaller than 3/(2*num unrelated individuals).\n",
    "af_boundaries.extend([-np.log10(1-(10.0**-x)) for x in af_boundaries[1:]])\n",
    "af_boundaries = np.array(sorted(af_boundaries, reverse=True))\n",
    "print(af_boundaries)\n"
   ]
  },
  {
   "cell_type": "code",
   "execution_count": 930,
   "metadata": {},
   "outputs": [
    {
     "name": "stdout",
     "output_type": "stream",
     "text": [
      "1001\n"
     ]
    }
   ],
   "source": [
    "# if we're detecting consanguinity, restrict to nuclear families\n",
    "if detect_consanguinity:\n",
    "    families = [x for x in families if x.num_ancestors()==2 and len(x.ordered_couples)==1]\n",
    "    \n",
    "    # to detect consanguinity, model a shared ancestor\n",
    "    for family in families:\n",
    "        family.add_child(family.mat_ancestors[0], 'mat_shared_ancestor', 'pat_shared_ancestor')\n",
    "        family.add_child(family.pat_ancestors[0], 'mat_shared_ancestor', 'pat_shared_ancestor')\n",
    "    \n",
    "print(len(families))"
   ]
  },
  {
   "cell_type": "code",
   "execution_count": 969,
   "metadata": {},
   "outputs": [
    {
     "name": "stdout",
     "output_type": "stream",
     "text": [
      "family AU0803 ['AU0803202', 'AU0803201', 'AU0803301', 'AU0803302']\n",
      "dict_items([(('AU0803202', 'AU0803201'), ['AU0803301', 'AU0803302'])])\n"
     ]
    }
   ],
   "source": [
    "import random\n",
    "\n",
    "\n",
    "family = random.choice(families)\n",
    "#family = [f for f in families if f.id=='SF0006106.SP0006106.SP0006171'][0]\n",
    "#family = [f for f in families if f.id=='AU0358'][0]\n",
    "print('family', family.id, family.individuals)\n",
    "print(family.parents_to_children.items())"
   ]
  },
  {
   "cell_type": "code",
   "execution_count": 1014,
   "metadata": {
    "scrolled": true
   },
   "outputs": [
    {
     "name": "stdout",
     "output_type": "stream",
     "text": [
      "fixed [('AU0803301', 'mat'), ('AU0803301', 'pat')]\n",
      "inheritance states (8, 9)\n",
      "transitions (8, 4)\n"
     ]
    }
   ],
   "source": [
    "importlib.reload(inheritance_states)\n",
    "importlib.reload(transition_matrices)\n",
    "\n",
    "# create inheritance states\n",
    "if chrom == 'X':\n",
    "    states = inheritance_states.InheritanceStates(family, detect_deletions, True, num_loss_regions)\n",
    "else:\n",
    "    states = inheritance_states.InheritanceStates(family, detect_deletions, detect_deletions, num_loss_regions)\n",
    "\n",
    "# create transition matrix\n",
    "transitions = transition_matrices.TransitionMatrix(states, params)\n",
    "                "
   ]
  },
  {
   "cell_type": "code",
   "execution_count": 1004,
   "metadata": {},
   "outputs": [
    {
     "name": "stdout",
     "output_type": "stream",
     "text": [
      "no data []\n",
      "AU0803202\n",
      "\t0/0\t0/1\t1/1\t./.\n",
      "0/0\t0.0003-0.0051\t3.6932-2.4070\t5.2070-5.0961\t3.3659-2.1136\n",
      "0/1\t2.2455-1.2430\t0.0036-0.0459\t2.8723-1.8223\t2.9155-1.5510\n",
      "1/1\t4.3699-3.9090\t3.5939-1.9151\t0.0003-0.0075\t3.3686-2.3187\n",
      "-/0\t0.0003-0.0051\t3.6932-2.4070\t5.2070-5.0961\t3.3659-2.1136\n",
      "-/1\t4.3699-3.9090\t3.5939-1.9151\t0.0003-0.0075\t3.3686-2.3187\n",
      "-/-\t3.5939-1.9151\t4.7885-4.5025\t3.6932-2.4070\t0.0002-0.0071\n",
      "AU0803201\n",
      "\t0/0\t0/1\t1/1\t./.\n",
      "0/0\t0.0004-0.0072\t3.6932-2.4070\t5.3305-4.9474\t3.1980-1.9046\n",
      "0/1\t2.2926-1.1930\t0.0032-0.0569\t2.9771-1.7124\t2.9644-1.4064\n",
      "1/1\t5.4057-3.8954\t3.5939-1.9151\t0.0005-0.0086\t3.0752-2.1318\n",
      "-/0\t0.0004-0.0072\t3.6932-2.4070\t5.3305-4.9474\t3.1980-1.9046\n",
      "-/1\t5.4057-3.8954\t3.5939-1.9151\t0.0005-0.0086\t3.0752-2.1318\n",
      "-/-\t3.5939-1.9151\t5.3681-4.4214\t3.6932-2.4070\t0.0002-0.0071\n",
      "AU0803301\n",
      "\t0/0\t0/1\t1/1\t./.\n",
      "0/0\t0.0003-0.0047\t3.6454-2.3929\t5.7456-4.1542\t3.4422-2.1843\n",
      "0/1\t2.9112-1.8858\t0.0008-0.0120\t3.8781-2.3291\t3.4244-2.0178\n",
      "1/1\t4.9496-3.0785\t3.5527-1.9727\t0.0003-0.0080\t3.4192-2.1659\n",
      "-/0\t0.0003-0.0047\t3.6454-2.3929\t5.7456-4.1542\t3.4422-2.1843\n",
      "-/1\t4.9496-3.0785\t3.5527-1.9727\t0.0003-0.0080\t3.4192-2.1659\n",
      "-/-\t3.5527-1.9727\t5.3476-3.6163\t3.6454-2.3929\t0.0002-0.0065\n",
      "AU0803302\n",
      "\t0/0\t0/1\t1/1\t./.\n",
      "0/0\t0.0002-0.0049\t3.7409-2.4211\t5.7789-4.1820\t3.4210-2.1373\n",
      "0/1\t2.7385-1.6748\t0.0012-0.0184\t3.7251-2.1976\t3.1921-1.8547\n",
      "1/1\t4.9513-3.4038\t3.6351-1.8575\t0.0004-0.0104\t3.2490-2.0314\n",
      "-/0\t0.0002-0.0049\t3.7409-2.4211\t5.7789-4.1820\t3.4210-2.1373\n",
      "-/1\t4.9513-3.4038\t3.6351-1.8575\t0.0004-0.0104\t3.2490-2.0314\n",
      "-/-\t3.6351-1.8575\t5.3651-3.7929\t3.7409-2.4211\t0.0002-0.0078\n",
      "[3.01029996e+00 2.70926996e+00 2.40823997e+00 2.10720997e+00\n",
      " 1.80617997e+00 1.50514998e+00 1.20411998e+00 9.03089987e-01\n",
      " 6.02059991e-01 5.79919470e-02 2.80287236e-02 1.37882845e-02\n",
      " 6.83942453e-03 3.40624869e-03 1.69978488e-03 8.49060841e-04\n",
      " 4.24322928e-04]\n",
      "alt costs [3.01029996e+00 2.70926996e+00 2.40823997e+00 2.10720997e+00\n",
      " 1.80617997e+00 1.50514998e+00 1.20411998e+00 9.03089987e-01\n",
      " 6.02059991e-01 3.01029996e-01 5.79919470e-02 2.80287236e-02\n",
      " 1.37882845e-02 6.83942453e-03 3.40624869e-03 1.69978488e-03\n",
      " 8.49060841e-04 4.24322928e-04]\n",
      "ref costs [4.24322928e-04 8.49060841e-04 1.69978488e-03 3.40624869e-03\n",
      " 6.83942453e-03 1.37882845e-02 2.80287236e-02 5.79919470e-02\n",
      " 1.24938737e-01 3.01029996e-01 9.03089987e-01 1.20411998e+00\n",
      " 1.50514998e+00 1.80617997e+00 2.10720997e+00 2.40823997e+00\n",
      " 2.70926996e+00 3.01029996e+00]\n",
      "miss costs [0.30103 0.30103 0.30103 0.30103 0.30103 0.30103 0.30103 0.30103 0.30103\n",
      " 0.30103 0.30103 0.30103 0.30103 0.30103 0.30103 0.30103 0.30103 0.30103]\n",
      "perfect matches 29\n",
      "perfect_match_indices (8, 16)\n"
     ]
    }
   ],
   "source": [
    "importlib.reload(losses)\n",
    "\n",
    "# create loss function\n",
    "loss = losses.LazyLoss(states, family, params, num_loss_regions, af_boundaries)\n"
   ]
  },
  {
   "cell_type": "code",
   "execution_count": 1005,
   "metadata": {},
   "outputs": [],
   "source": [
    "af_index = random.choice(np.arange(1, len(af_boundaries)))\n",
    "total_prob = np.zeros((states.num_states,))\n",
    "for gen in np.array(list(product(*([[0, 1, 2, -1]]*len(family)) + [[af_index]]))):\n",
    "    if np.all(gen[:-1]==0) or np.any(gen[:-1]>0):\n",
    "        total_prob += np.power(10, -loss(gen))\n",
    "        \n",
    "assert np.all(np.isclose(total_prob, 1))"
   ]
  },
  {
   "cell_type": "code",
   "execution_count": 1006,
   "metadata": {},
   "outputs": [
    {
     "name": "stdout",
     "output_type": "stream",
     "text": [
      "(4, 4522196) (4522196,)\n",
      "genotypes pulled (5, 2628791) [[0 0 0 ... 0 1 0]\n",
      " [0 0 0 ... 0 1 0]\n",
      " [0 0 0 ... 0 1 0]\n",
      " [0 0 0 ... 0 1 0]\n",
      " [0 9 0 ... 0 8 0]]\n",
      "Data pulled\n"
     ]
    }
   ],
   "source": [
    "import input_output\n",
    "importlib.reload(input_output)\n",
    "\n",
    "# pull genotype data for this family\n",
    "family_genotypes, family_snp_positions, mult_factor = input_output.pull_gen_data_for_individuals(data_dir, af_boundaries, assembly, chrom, family.individuals)\n",
    "print('Data pulled')\n",
    "\n"
   ]
  },
  {
   "cell_type": "code",
   "execution_count": 1007,
   "metadata": {},
   "outputs": [
    {
     "name": "stdout",
     "output_type": "stream",
     "text": [
      "cached losses (8, 515) already_calculated 0\n"
     ]
    }
   ],
   "source": [
    "loss.set_cache(family_genotypes)\n"
   ]
  },
  {
   "cell_type": "code",
   "execution_count": 1008,
   "metadata": {},
   "outputs": [
    {
     "data": {
      "text/plain": [
       "array([0.00205118, 0.00850509, 0.0020538 , 0.00854662, 0.0020541 ,\n",
       "       0.00853935, 0.00205671, 0.00858088])"
      ]
     },
     "execution_count": 1008,
     "metadata": {},
     "output_type": "execute_result"
    }
   ],
   "source": [
    "loss(np.zeros((len(family)+1,), dtype=int))"
   ]
  },
  {
   "cell_type": "code",
   "execution_count": 1019,
   "metadata": {},
   "outputs": [
    {
     "name": "stdout",
     "output_type": "stream",
     "text": [
      "Forward sweep complete 137.29558897018433 sec\n"
     ]
    }
   ],
   "source": [
    "importlib.reload(viterbi)\n",
    "\n",
    "# forward sweep\n",
    "v_cost = viterbi.viterbi_forward_sweep(family_genotypes, family_snp_positions, mult_factor, states, transitions, loss)\n",
    "\n",
    "\n"
   ]
  },
  {
   "cell_type": "code",
   "execution_count": 1010,
   "metadata": {},
   "outputs": [
    {
     "name": "stdout",
     "output_type": "stream",
     "text": [
      "Num solutions (1,) 440474.6066895136 (array([1, 1, 1, 1, 0, 0, 1, 0, 0], dtype=int8),)\n",
      "(1,)\n",
      "Num positions in fork 19284\n",
      "Backward sweep complete 301.3729159832001 sec\n"
     ]
    }
   ],
   "source": [
    "importlib.reload(viterbi)\n",
    "\n",
    "# backward sweep\n",
    "final_states = viterbi.viterbi_backward_sweep(v_cost, states, transitions)\n"
   ]
  },
  {
   "cell_type": "code",
   "execution_count": 1020,
   "metadata": {},
   "outputs": [
    {
     "name": "stdout",
     "output_type": "stream",
     "text": [
      "Num solutions (1,) 440474.6066895136 (array([1, 1, 1, 1, 0, 0, 1, 0, 0], dtype=int8),)\n",
      "Num forks 19284\n",
      "Backward sweep complete 280.73376393318176 sec\n"
     ]
    }
   ],
   "source": [
    "importlib.reload(viterbi)\n",
    "\n",
    "# backward sweep\n",
    "final_states = viterbi.viterbi_backward_sweep(v_cost, states, transitions)\n"
   ]
  },
  {
   "cell_type": "code",
   "execution_count": 1011,
   "metadata": {},
   "outputs": [
    {
     "data": {
      "image/png": "[encoded data removed]",
      "text/plain": [
       "<Figure size 1080x504 with 1 Axes>"
      ]
     },
     "metadata": {
      "needs_background": "light"
     },
     "output_type": "display_data"
    }
   ],
   "source": [
    "final_states_greyed = final_states.copy()\n",
    "final_states_greyed[:, final_states[-1, :]!=0] = -1\n",
    "\n",
    "plt.figure(figsize=(15, 7))\n",
    "plt.imshow(final_states, aspect='auto', vmin=-1)\n",
    "plt.yticks(np.arange(final_states.shape[0]), \n",
    "           ['m%d_del' % i for i in range(1, 2*len(family.mat_ancestors)+1)] + ['p%d_del' % i for i in range(1, 2*len(family.pat_ancestors)+1)] + \\\n",
    "           sum([['%s_mat' % x,'%s_pat' % x] for x in family.individuals], []) + ['loss_region'])\n",
    "\n",
    "#plt.subplot(2, 1, 2, sharex=ax)\n",
    "#plt.fill_between(np.arange(family_snp_positions.shape[0]), 0, (family_snp_positions[:, 0]>=0) & (family_snp_positions[:, 1]<=20500000), alpha=0.5)\n",
    "#plt.fill_between(np.arange(family_snp_positions.shape[0]), 0, (family_snp_positions[:, 0]>=9600000) & (family_snp_positions[:, 1]<=16300000))\n",
    "#plt.fill_between(np.arange(family_snp_positions.shape[0]), 0, (family_snp_positions[:, 1]<=9600000) | (family_snp_positions[:, 0]>=48200000))\n",
    "\n",
    "#plt.xticks(xticks, xlabels, rotation=90)\n",
    "\n",
    "#plt.subplot(3, 1, 3)\n",
    "#plt.plot(np.log2(family_snp_positions[:, 1]-family_snp_positions[:, 0]), marker='.', linestyle='')\n",
    "#plt.plot(c[1:]-c[:-1], marker='.', linestyle='')\n",
    "#plt.plot(num_non_mend, marker='.', linestyle='')\n",
    "#plt.plot(np.convolve(num_non_mend, np.ones((100,)), mode='same'))\n",
    "#plt.plot(np.convolve(num_missing, np.ones((100,)), mode='same'))\n",
    "#plt.scatter(family_snp_positions[:, 0], final_states[-1, :], marker='.')\n",
    "#plt.xticks(family_snp_positions[xticks, 0], xlabels, rotation=90)\n",
    "#for i in np.where(family_snp_positions[:, 1]-family_snp_positions[:, 0] > 10000)[0]:\n",
    "#    plt.plot([family_snp_positions[i, 0], family_snp_positions[i, 1]], [final_states[-1, i], final_states[-1, i]], color='grey')\n",
    "#    #print(family_snp_positions[i, :])\n",
    "plt.tight_layout()\n",
    "plt.show()"
   ]
  },
  {
   "cell_type": "code",
   "execution_count": null,
   "metadata": {},
   "outputs": [],
   "source": []
  },
  {
   "cell_type": "code",
   "execution_count": 981,
   "metadata": {},
   "outputs": [
    {
     "data": {
      "text/plain": [
       "0.0"
      ]
     },
     "execution_count": 981,
     "metadata": {},
     "output_type": "execute_result"
    }
   ],
   "source": [
    "np.sum((final_states[-1, :]==0)*mult_factor)/np.sum(mult_factor)\n"
   ]
  },
  {
   "cell_type": "code",
   "execution_count": 56,
   "metadata": {},
   "outputs": [
    {
     "name": "stdout",
     "output_type": "stream",
     "text": [
      "0.08166433284944095\n",
      "0.3331245744530517\n"
     ]
    }
   ],
   "source": [
    "print(np.sum((final_states[10, :]==0)*mult_factor)/np.sum(mult_factor))\n",
    "print(np.sum((final_states[11, :]==2)*mult_factor)/np.sum(mult_factor))\n"
   ]
  },
  {
   "cell_type": "code",
   "execution_count": 598,
   "metadata": {},
   "outputs": [
    {
     "data": {
      "image/png": "[encoded data removed]",
      "text/plain": [
       "<Figure size 1080x360 with 1 Axes>"
      ]
     },
     "metadata": {
      "needs_background": "light"
     },
     "output_type": "display_data"
    }
   ],
   "source": [
    "plt.figure(figsize=(15, 5))\n",
    "indices = final_states[3, :]==0\n",
    "plt.imshow(family_genotypes[2:-1, indices], aspect='auto', vmin=-1, vmax=2)\n",
    "plt.show()"
   ]
  },
  {
   "cell_type": "code",
   "execution_count": null,
   "metadata": {},
   "outputs": [],
   "source": []
  }
 ],
 "metadata": {
  "kernelspec": {
   "display_name": "Python 3",
   "language": "python",
   "name": "python3"
  },
  "language_info": {
   "codemirror_mode": {
    "name": "ipython",
    "version": 3
   },
   "file_extension": ".py",
   "mimetype": "text/x-python",
   "name": "python",
   "nbconvert_exporter": "python",
   "pygments_lexer": "ipython3",
   "version": "3.7.3"
  }
 },
 "nbformat": 4,
 "nbformat_minor": 2
}
