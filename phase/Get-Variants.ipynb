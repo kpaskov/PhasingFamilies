{
 "cells": [
  {
   "cell_type": "code",
   "execution_count": 2,
   "metadata": {},
   "outputs": [],
   "source": [
    "import numpy as np\n",
    "\n",
    "import sys\n",
    "from os import listdir\n",
    "from itertools import product\n",
    "\n",
    "from inheritance_states import AutosomalInheritanceStates\n",
    "from input_output import WGSData, write_to_file, pull_families\n",
    "from transition_matrices import AutosomalTransitionMatrix\n",
    "from genotypes import Genotypes\n",
    "from losses import LazyLoss\n",
    "from viterbi import viterbi_forward_sweep_autosomes, viterbi_backward_sweep_autosomes\n",
    "from mask import mask_states"
   ]
  },
  {
   "cell_type": "code",
   "execution_count": 3,
   "metadata": {},
   "outputs": [],
   "source": [
    "# Read in command line arguments\n",
    "chrom = '15'\n",
    "m = 4\n",
    "ped_file = '../data/160826.ped.quads.ped'\n",
    "data_dir = '../split_gen_miss'\n",
    "batch_size = None\n",
    "batch_num = None\n",
    "batch_offset = None\n",
    "\n",
    "# set up filenames\n",
    "sample_file = '%s/chr.%s.gen.samples.txt' % (data_dir, chrom)\n",
    "coord_file = '%s/chr.%s.gen.coordinates.npy' % (data_dir,  chrom)\n",
    "gen_files = sorted([f for f in listdir(data_dir) if ('chr.%s' % chrom) in f and 'gen.npz' in f])\n"
   ]
  },
  {
   "cell_type": "code",
   "execution_count": 4,
   "metadata": {},
   "outputs": [
    {
     "name": "stdout",
     "output_type": "stream",
     "text": [
      "families with sequence data 2055\n",
      "families of size 4: 2049\n",
      "families pulled 4: 2049\n"
     ]
    }
   ],
   "source": [
    "# pull families of interest\n",
    "families_of_this_size = pull_families(sample_file, ped_file, m, batch_size, batch_offset)"
   ]
  },
  {
   "cell_type": "code",
   "execution_count": 5,
   "metadata": {},
   "outputs": [
    {
     "name": "stdout",
     "output_type": "stream",
     "text": [
      "inheritance states (64, 8)\n",
      "transitions (64, 18)\n",
      "genotypes (256, 4)\n",
      "perfect matches (110, 4)\n",
      "chrom shape only SNPs (2164322,)\n"
     ]
    }
   ],
   "source": [
    "shift_costs = [10]*4 + [500]*(2*(m-2))\n",
    "\n",
    "# create inheritance states\n",
    "inheritance_states = AutosomalInheritanceStates(m)\n",
    "\n",
    "# create transition matrix\n",
    "transition_matrix = AutosomalTransitionMatrix(inheritance_states, shift_costs)\n",
    "\n",
    "# create genotypes\n",
    "genotypes = Genotypes(m)\n",
    "\n",
    "# create loss function\n",
    "loss = LazyLoss(m, inheritance_states, genotypes)\n",
    "\n",
    "# get ready to pull processed WGS data \n",
    "wgs_data = WGSData(data_dir, gen_files, coord_file, sample_file, chrom)"
   ]
  },
  {
   "cell_type": "code",
   "execution_count": null,
   "metadata": {},
   "outputs": [],
   "source": []
  },
  {
   "cell_type": "code",
   "execution_count": 6,
   "metadata": {},
   "outputs": [
    {
     "name": "stdout",
     "output_type": "stream",
     "text": [
      "family ('AU0012.AU001203.AU001204', 'AU001201', 'AU001202') ['AU001201', 'AU001202', 'AU001204', 'AU001203']\n"
     ]
    }
   ],
   "source": [
    "import random\n",
    "\n",
    "#fkey, inds = random.choice(families_of_this_size)\n",
    "fkey, inds = [x for x in families_of_this_size if x[0] == ('AU0012.AU001203.AU001204', 'AU001201', 'AU001202')][0]\n",
    "print('family', fkey, inds)"
   ]
  },
  {
   "cell_type": "code",
   "execution_count": null,
   "metadata": {},
   "outputs": [],
   "source": [
    "# pull genotype data for this family\n",
    "family_genotypes, family_snp_positions, mult_factor = wgs_data.pull_data_for_individuals(inds)\n",
    "print('Data pulled')\n",
    "\n",
    "# forward sweep\n",
    "v_cost = viterbi_forward_sweep_autosomes(family_genotypes, family_snp_positions, mult_factor, inheritance_states, transition_matrix, loss)\n",
    "\n",
    "# backward sweep\n",
    "final_states = viterbi_backward_sweep_autosomes(v_cost, inheritance_states, transition_matrix)\n"
   ]
  }
 ],
 "metadata": {
  "kernelspec": {
   "display_name": "Python 3",
   "language": "python",
   "name": "python3"
  },
  "language_info": {
   "codemirror_mode": {
    "name": "ipython",
    "version": 3
   },
   "file_extension": ".py",
   "mimetype": "text/x-python",
   "name": "python",
   "nbconvert_exporter": "python",
   "pygments_lexer": "ipython3",
   "version": "3.6.6"
  }
 },
 "nbformat": 4,
 "nbformat_minor": 2
}
