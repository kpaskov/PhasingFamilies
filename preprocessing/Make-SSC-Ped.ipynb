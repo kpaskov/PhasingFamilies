{
 "cells": [
  {
   "cell_type": "code",
   "execution_count": 3,
   "metadata": {},
   "outputs": [],
   "source": [
    "import gzip\n",
    "from collections import defaultdict"
   ]
  },
  {
   "cell_type": "markdown",
   "metadata": {},
   "source": [
    "# Original SSC"
   ]
  },
  {
   "cell_type": "code",
   "execution_count": 7,
   "metadata": {},
   "outputs": [],
   "source": [
    "vcf_file = '../data/ssc.MT.vcf.bgz'"
   ]
  },
  {
   "cell_type": "code",
   "execution_count": 8,
   "metadata": {},
   "outputs": [
    {
     "name": "stdout",
     "output_type": "stream",
     "text": [
      "2076\n"
     ]
    }
   ],
   "source": [
    "# Pull data from vcf\n",
    "with gzip.open(vcf_file, 'rt') as f:\n",
    "    # Skip header\n",
    "    line = next(f)\n",
    "    while line.startswith('##'):\n",
    "        line = next(f)\n",
    "\n",
    "    # Pull sample_ids and write to file\n",
    "    sample_ids = line.strip().split('\\t')[9:]\n",
    "print(len(sample_ids))"
   ]
  },
  {
   "cell_type": "code",
   "execution_count": 9,
   "metadata": {},
   "outputs": [
    {
     "name": "stdout",
     "output_type": "stream",
     "text": [
      "['14109.mo', '13750.s1', '11420.s1', '11328.p1', '11006.p1']\n"
     ]
    }
   ],
   "source": [
    "print(sample_ids[:5])"
   ]
  },
  {
   "cell_type": "code",
   "execution_count": 5,
   "metadata": {},
   "outputs": [
    {
     "name": "stdout",
     "output_type": "stream",
     "text": [
      "519\n"
     ]
    }
   ],
   "source": [
    "family_ids = sorted(set([x[:-3] for x in sample_ids]))\n",
    "print(len(family_ids))"
   ]
  },
  {
   "cell_type": "code",
   "execution_count": null,
   "metadata": {},
   "outputs": [],
   "source": [
    "\n",
    "# write to file\n",
    "with open('data/ssc.ped', 'w+'):\n",
    "    "
   ]
  },
  {
   "cell_type": "markdown",
   "metadata": {},
   "source": [
    "# New SSC"
   ]
  },
  {
   "cell_type": "code",
   "execution_count": 56,
   "metadata": {},
   "outputs": [],
   "source": [
    "section = 'phase2'\n",
    "vcf_file = '../data/Y.%s.HG38toHG19.vcf.gz' % section"
   ]
  },
  {
   "cell_type": "code",
   "execution_count": 57,
   "metadata": {},
   "outputs": [
    {
     "name": "stdout",
     "output_type": "stream",
     "text": [
      "2368\n"
     ]
    }
   ],
   "source": [
    "# Pull data from vcf\n",
    "with gzip.open(vcf_file, 'rt') as f:\n",
    "    # Skip header\n",
    "    line = next(f)\n",
    "    while line.startswith('##'):\n",
    "        line = next(f)\n",
    "\n",
    "    # Pull sample_ids and write to file\n",
    "    sample_ids = line.strip().split('\\t')[9:]\n",
    "print(len(sample_ids))"
   ]
  },
  {
   "cell_type": "code",
   "execution_count": 58,
   "metadata": {},
   "outputs": [
    {
     "name": "stdout",
     "output_type": "stream",
     "text": [
      "['SS0012980', 'SS0012982', 'SS0012989', 'SS0012997', 'SS0013001']\n"
     ]
    }
   ],
   "source": [
    "print(sample_ids[:5])"
   ]
  },
  {
   "cell_type": "code",
   "execution_count": 59,
   "metadata": {},
   "outputs": [],
   "source": [
    "sample_id_to_family_role = dict()\n",
    "with open('../data/ssc.id_map.from.ssc-wgs38', 'r') as f:\n",
    "    for line in f:\n",
    "        pieces = line.strip().split('\\t')\n",
    "        sample_id_to_family_role[pieces[1]] = tuple(pieces[0].split('.'))"
   ]
  },
  {
   "cell_type": "code",
   "execution_count": 60,
   "metadata": {},
   "outputs": [
    {
     "name": "stdout",
     "output_type": "stream",
     "text": [
      "0 missing sample ids\n"
     ]
    }
   ],
   "source": [
    "role_to_index = {'mo': 0, 'fa': 1, 'p1': 2, 's1': 3, 's2': 4, 's3': 5}\n",
    "\n",
    "# mom_id, dad_id, proband_id, sibling_id\n",
    "family_to_inds = defaultdict(lambda: [None, None, None, None, None, None])\n",
    "missing_sample_ids = []\n",
    "for sample_id in sample_ids:\n",
    "    if sample_id in sample_id_to_family_role:\n",
    "        family, role = sample_id_to_family_role[sample_id]\n",
    "        family_to_inds[family][role_to_index[role]] = sample_id\n",
    "    else:\n",
    "        missing_sample_ids.append(sample_id)\n",
    "        #print('%s not found' % sample_id)\n",
    "print('%d missing sample ids' % len(missing_sample_ids))"
   ]
  },
  {
   "cell_type": "code",
   "execution_count": null,
   "metadata": {},
   "outputs": [],
   "source": [
    "with open('../data/ssc_%s.ped' % section, '')"
   ]
  },
  {
   "cell_type": "markdown",
   "metadata": {},
   "source": [
    "# SSC HG38"
   ]
  },
  {
   "cell_type": "code",
   "execution_count": 8,
   "metadata": {},
   "outputs": [],
   "source": [
    "family_to_inds = defaultdict(lambda: [None, None, None, None])\n",
    "role_to_index = {'mo': 0, 'fa': 1, 'p1': 2, 's1': 3}\n",
    "with open('../data/ssc.id_map.from.repository', 'r') as f:\n",
    "    for line in f:\n",
    "        pieces = line.strip().split('\\t')\n",
    "        family_key, role = pieces[1].split('.')\n",
    "        if role in role_to_index:\n",
    "            family_to_inds[family_key][role_to_index[role]] = pieces[0]\n"
   ]
  },
  {
   "cell_type": "code",
   "execution_count": 10,
   "metadata": {},
   "outputs": [],
   "source": [
    "with open('../data/ssc.hg38.ped', 'w+') as f:\n",
    "    for family, inds in family_to_inds.items():\n",
    "        if inds[0] is not None:\n",
    "            f.write('\\t'.join([family, inds[0], '0', '0', '2', '1']) + '\\n')\n",
    "        if inds[1] is not None:\n",
    "            f.write('\\t'.join([family, inds[1], '0', '0', '1', '1']) + '\\n')\n",
    "        if inds[2] is not None:\n",
    "            f.write('\\t'.join([family, inds[2], \n",
    "                               '0' if inds[1] is None else inds[1], \n",
    "                               '0' if inds[0] is None else inds[0], '.', '2']) + '\\n')\n",
    "        if inds[3] is not None:\n",
    "            f.write('\\t'.join([family, inds[3], \n",
    "                               '0' if inds[1] is None else inds[1], \n",
    "                               '0' if inds[0] is None else inds[0], '.', '1']) + '\\n')\n",
    "            "
   ]
  },
  {
   "cell_type": "code",
   "execution_count": null,
   "metadata": {},
   "outputs": [],
   "source": []
  }
 ],
 "metadata": {
  "kernelspec": {
   "display_name": "Python 3",
   "language": "python",
   "name": "python3"
  },
  "language_info": {
   "codemirror_mode": {
    "name": "ipython",
    "version": 3
   },
   "file_extension": ".py",
   "mimetype": "text/x-python",
   "name": "python",
   "nbconvert_exporter": "python",
   "pygments_lexer": "ipython3",
   "version": "3.7.3"
  }
 },
 "nbformat": 4,
 "nbformat_minor": 2
}
