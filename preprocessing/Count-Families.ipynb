{
 "cells": [
  {
   "cell_type": "code",
   "execution_count": 6,
   "metadata": {},
   "outputs": [],
   "source": [
    "from collections import defaultdict\n",
    "import json"
   ]
  },
  {
   "cell_type": "code",
   "execution_count": 62,
   "metadata": {},
   "outputs": [
    {
     "name": "stdout",
     "output_type": "stream",
     "text": [
      "families 2391\n",
      "families 2389\n"
     ]
    }
   ],
   "source": [
    "#ped_file = '../../DATA/ssc.hg38/ssc.ped'\n",
    "#data_samples = ['../../DATA/ssc.hg38/genotypes/phase1-1/samples.json',\n",
    "#                '../../DATA/ssc.hg38/genotypes/phase1-2/samples.json',\n",
    "#                '../../DATA/ssc.hg38/genotypes/phase1-3/samples.json',\n",
    "#                '../../DATA/ssc.hg38/genotypes/phase1-4/samples.json',\n",
    "#                '../../DATA/ssc.hg38/genotypes/phase1-5/samples.json',\n",
    "#               '../../DATA/ssc.hg38/genotypes/phase1-7/samples.json',\n",
    "#                '../../DATA/ssc.hg38/genotypes/phase2/samples.json',\n",
    "#                '../../DATA/ssc.hg38/genotypes/phase2_B01/samples.json',\n",
    "#                '../../DATA/ssc.hg38/genotypes/phase2_Replacements/samples.json',\n",
    "#                '../../DATA/ssc.hg38/genotypes/phase3_1/samples.json',\n",
    "#                '../../DATA/ssc.hg38/genotypes/phase3_1_B02/samples.json',\n",
    "#                '../../DATA/ssc.hg38/genotypes/phase3_2/samples.json',\n",
    "#                '../../DATA/ssc.hg38/genotypes/phase4/samples.json',\n",
    "#                '../../DATA/ssc.hg38/genotypes/pilot/samples.json']\n",
    "\n",
    "#ped_file = '../../DATA/ancestry/ancestry.ped.quads.ped'\n",
    "#data_samples = ['../../DATA/ancestry/genotypes/samples.json']\n",
    "\n",
    "#ped_file = '../../DATA/mssng/mssng.ped'\n",
    "#data_samples = ['../../DATA/mssng/genotypes/samples.json']\n",
    "\n",
    "ped_file = '../../DATA/ihart.ms2/ihart.ped.quads.ped'\n",
    "data_samples = ['../../DATA/ihart.ms2/genotypes/samples.json']\n",
    "\n",
    "#ped_file = '../../DATA/spark/sparkfam.ped.quads.ped'\n",
    "#data_samples = ['../../DATA/spark/genotypes/wes1_array/samples.json',\n",
    "#                '../../DATA/spark/genotypes/wes2_array/samples.json',\n",
    "#                '../../DATA/spark/genotypes/wes3_array/samples.json',\n",
    "#                '../../DATA/spark/genotypes/wgs1_b01_array/samples.json',\n",
    "#                '../../DATA/spark/genotypes/wgs1_b02_array/samples.json',\n",
    "#                '../../DATA/spark/genotypes/wgs2_array/samples.json',\n",
    "#                '../../DATA/spark/genotypes/wgs3_array/samples.json',\n",
    "#                \n",
    "#               ]\n",
    "                \n",
    "\n",
    "family_to_inds = defaultdict(set)\n",
    "\n",
    "with open(ped_file, 'r') as f:\n",
    "    for line in f:\n",
    "        pieces = line.strip().split()\n",
    "        \n",
    "        if len(pieces) >= 6:\n",
    "            fam_id, child_id, f_id, m_id = pieces[:4]\n",
    "            \n",
    "            if m_id != '0' and f_id != '0':\n",
    "                family_to_inds[fam_id].add(child_id)\n",
    "\n",
    "samples = set()\n",
    "for data_sample in data_samples:\n",
    "    with open(data_sample, 'r') as f:\n",
    "        samples |= set(json.load(f))\n",
    "        \n",
    "    \n",
    "print('families', len([x for x, inds in family_to_inds.items() if len(samples & inds)>=1]))\n",
    "print('families', len([x for x, inds in family_to_inds.items() if len(samples & inds)>=2]))"
   ]
  },
  {
   "cell_type": "code",
   "execution_count": null,
   "metadata": {},
   "outputs": [],
   "source": []
  }
 ],
 "metadata": {
  "kernelspec": {
   "display_name": "Python 3",
   "language": "python",
   "name": "python3"
  },
  "language_info": {
   "codemirror_mode": {
    "name": "ipython",
    "version": 3
   },
   "file_extension": ".py",
   "mimetype": "text/x-python",
   "name": "python",
   "nbconvert_exporter": "python",
   "pygments_lexer": "ipython3",
   "version": "3.7.3"
  }
 },
 "nbformat": 4,
 "nbformat_minor": 2
}
