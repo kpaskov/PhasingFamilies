{
 "cells": [
  {
   "cell_type": "code",
   "execution_count": 1,
   "metadata": {},
   "outputs": [],
   "source": [
    "from collections import defaultdict\n",
    "import numpy as np\n",
    "from scipy.sparse import csc_matrix, save_npz\n",
    "import time\n",
    "import gzip\n",
    "from itertools import product\n",
    "import sys"
   ]
  },
  {
   "cell_type": "code",
   "execution_count": 2,
   "metadata": {},
   "outputs": [],
   "source": [
    "# Pull arguments\n",
    "vcf_file = '../split_gen_ihart_chip/merge_w2w3w4w5w6w1_trial1_recode_remove_fams_vcf.vcf.gz'\n",
    "out_file = '../data/chip_positions.txt'"
   ]
  },
  {
   "cell_type": "code",
   "execution_count": 12,
   "metadata": {},
   "outputs": [],
   "source": [
    "# Pull data from vcf\n",
    "with gzip.open(vcf_file, 'rt') as f, \\\n",
    "    open(out_file, 'w+') as outf:\n",
    "    \n",
    "    # Skip header\n",
    "    line = next(f)\n",
    "    while line.startswith('##'):\n",
    "        line = next(f)\n",
    "\n",
    "    line = next(f)\n",
    "    for line in f:\n",
    "        pieces = line.split('\\t', maxsplit=3)\n",
    "        chrom, pos = pieces[:2]\n",
    "        if chrom != '0':\n",
    "            outf.write('-\\t%s\\t%s\\n' % (chrom, pos))\n",
    "\n"
   ]
  },
  {
   "cell_type": "code",
   "execution_count": null,
   "metadata": {},
   "outputs": [],
   "source": []
  }
 ],
 "metadata": {
  "kernelspec": {
   "display_name": "Python 3",
   "language": "python",
   "name": "python3"
  },
  "language_info": {
   "codemirror_mode": {
    "name": "ipython",
    "version": 3
   },
   "file_extension": ".py",
   "mimetype": "text/x-python",
   "name": "python",
   "nbconvert_exporter": "python",
   "pygments_lexer": "ipython3",
   "version": "3.6.7"
  }
 },
 "nbformat": 4,
 "nbformat_minor": 2
}
