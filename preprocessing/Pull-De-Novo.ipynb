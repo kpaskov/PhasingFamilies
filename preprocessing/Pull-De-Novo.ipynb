{
 "cells": [
  {
   "cell_type": "code",
   "execution_count": 9,
   "id": "085e5180",
   "metadata": {},
   "outputs": [],
   "source": [
    "from collections import namedtuple, defaultdict, Counter\n",
    "import json\n",
    "import numpy as np\n",
    "import matplotlib.pyplot as plt\n",
    "import gzip\n",
    "from os import listdir\n",
    "from scipy import sparse"
   ]
  },
  {
   "cell_type": "code",
   "execution_count": 30,
   "id": "4dfd680b",
   "metadata": {},
   "outputs": [],
   "source": [
    "data_dir = '../../DATA/ssc.hg38'\n",
    "ped_file = '../../DATA/ssc.hg38/ssc.ped'\n",
    "\n",
    "#data_dir = '../../DATA/platinum'\n",
    "#ped_file = '../../DATA/platinum/platinum.ped'"
   ]
  },
  {
   "cell_type": "code",
   "execution_count": 31,
   "id": "8b304a46",
   "metadata": {},
   "outputs": [
    {
     "name": "stdout",
     "output_type": "stream",
     "text": [
      "children 4330\n"
     ]
    }
   ],
   "source": [
    "sample_file = '%s/genotypes/samples.json' % data_dir\n",
    "# pull samples\n",
    "with open(sample_file, 'r') as f:\n",
    "    individuals = json.load(f)\n",
    "sample_id_to_index = dict([(sample_id, i) for i, sample_id in enumerate(individuals)])\n",
    "\n",
    "child_to_mother = dict()\n",
    "child_to_father = dict()\n",
    "child_to_phen = dict()\n",
    "with open(ped_file, 'r') as f:\n",
    "    for line in f:\n",
    "        pieces = line.strip().split('\\t')\n",
    "        if len(pieces) < 6:\n",
    "            print('ped parsing error', line)\n",
    "        else:\n",
    "            fam_id, child_id, f_id, m_id, _, phen = pieces[0:6]\n",
    "                \n",
    "            if f_id != '0' and f_id in sample_id_to_index:\n",
    "                child_to_father[child_id] = f_id\n",
    "            if m_id != '0' and m_id in sample_id_to_index:\n",
    "                child_to_mother[child_id] = m_id\n",
    "                    \n",
    "            child_to_phen[child_id] = phen\n",
    "            \n",
    "children = sorted(set(child_to_mother.keys()) & set(child_to_father.keys() & set(sample_id_to_index.keys())))\n",
    "print('children', len(children))\n",
    "\n",
    "child_indices = [sample_id_to_index[x] for x in children]\n",
    "father_indices = np.array([sample_id_to_index[child_to_father[x]] for x in children], dtype=int)\n",
    "mother_indices = np.array([sample_id_to_index[child_to_mother[x]] for x in children], dtype=int)"
   ]
  },
  {
   "cell_type": "code",
   "execution_count": 32,
   "id": "cf5caa50",
   "metadata": {},
   "outputs": [
    {
     "name": "stdout",
     "output_type": "stream",
     "text": [
      "chr.10.0.gen.npz\n",
      "de novos 105816\n",
      "chr.10.1.gen.npz\n",
      "de novos 110626\n",
      "chr.10.2.gen.npz\n",
      "de novos 118637\n",
      "chr.10.3.gen.npz\n",
      "de novos 238674\n",
      "chr.10.4.gen.npz\n",
      "de novos 794448\n",
      "chr.10.5.gen.npz\n"
     ]
    },
    {
     "ename": "KeyboardInterrupt",
     "evalue": "",
     "output_type": "error",
     "traceback": [
      "\u001b[0;31m---------------------------------------------------------------------------\u001b[0m",
      "\u001b[0;31mKeyboardInterrupt\u001b[0m                         Traceback (most recent call last)",
      "\u001b[0;32m/var/folders/hp/72rjd_x140qf9f9d9f4hy40c0000gp/T/ipykernel_56958/3393213044.py\u001b[0m in \u001b[0;36m<module>\u001b[0;34m\u001b[0m\n\u001b[1;32m     37\u001b[0m \u001b[0;34m\u001b[0m\u001b[0m\n\u001b[1;32m     38\u001b[0m             indices = ((gen[mother_indices[possible_denovo_children], possible_denovo_positions]==0) & \\\n\u001b[0;32m---> 39\u001b[0;31m                       \u001b[0;34m(\u001b[0m\u001b[0mgen\u001b[0m\u001b[0;34m[\u001b[0m\u001b[0mfather_indices\u001b[0m\u001b[0;34m[\u001b[0m\u001b[0mpossible_denovo_children\u001b[0m\u001b[0;34m]\u001b[0m\u001b[0;34m,\u001b[0m \u001b[0mpossible_denovo_positions\u001b[0m\u001b[0;34m]\u001b[0m\u001b[0;34m==\u001b[0m\u001b[0;36m0\u001b[0m\u001b[0;34m)\u001b[0m \u001b[0;34m&\u001b[0m\u001b[0;31m \u001b[0m\u001b[0;31m\\\u001b[0m\u001b[0;34m\u001b[0m\u001b[0;34m\u001b[0m\u001b[0m\n\u001b[0m\u001b[1;32m     40\u001b[0m                       is_ok[possible_denovo_positions]).A.flatten()\n\u001b[1;32m     41\u001b[0m             \u001b[0mprint\u001b[0m\u001b[0;34m(\u001b[0m\u001b[0;34m'de novos'\u001b[0m\u001b[0;34m,\u001b[0m \u001b[0mnp\u001b[0m\u001b[0;34m.\u001b[0m\u001b[0msum\u001b[0m\u001b[0;34m(\u001b[0m\u001b[0mindices\u001b[0m\u001b[0;34m)\u001b[0m\u001b[0;34m)\u001b[0m\u001b[0;34m\u001b[0m\u001b[0;34m\u001b[0m\u001b[0m\n",
      "\u001b[0;32m~/opt/anaconda3/lib/python3.9/site-packages/scipy/sparse/_index.py\u001b[0m in \u001b[0;36m__getitem__\u001b[0;34m(self, key)\u001b[0m\n\u001b[1;32m     92\u001b[0m         \u001b[0;32mif\u001b[0m \u001b[0mrow\u001b[0m\u001b[0;34m.\u001b[0m\u001b[0msize\u001b[0m \u001b[0;34m==\u001b[0m \u001b[0;36m0\u001b[0m\u001b[0;34m:\u001b[0m\u001b[0;34m\u001b[0m\u001b[0;34m\u001b[0m\u001b[0m\n\u001b[1;32m     93\u001b[0m             \u001b[0;32mreturn\u001b[0m \u001b[0mself\u001b[0m\u001b[0;34m.\u001b[0m\u001b[0m__class__\u001b[0m\u001b[0;34m(\u001b[0m\u001b[0mnp\u001b[0m\u001b[0;34m.\u001b[0m\u001b[0matleast_2d\u001b[0m\u001b[0;34m(\u001b[0m\u001b[0mrow\u001b[0m\u001b[0;34m)\u001b[0m\u001b[0;34m.\u001b[0m\u001b[0mshape\u001b[0m\u001b[0;34m,\u001b[0m \u001b[0mdtype\u001b[0m\u001b[0;34m=\u001b[0m\u001b[0mself\u001b[0m\u001b[0;34m.\u001b[0m\u001b[0mdtype\u001b[0m\u001b[0;34m)\u001b[0m\u001b[0;34m\u001b[0m\u001b[0;34m\u001b[0m\u001b[0m\n\u001b[0;32m---> 94\u001b[0;31m         \u001b[0;32mreturn\u001b[0m \u001b[0mself\u001b[0m\u001b[0;34m.\u001b[0m\u001b[0m_get_arrayXarray\u001b[0m\u001b[0;34m(\u001b[0m\u001b[0mrow\u001b[0m\u001b[0;34m,\u001b[0m \u001b[0mcol\u001b[0m\u001b[0;34m)\u001b[0m\u001b[0;34m\u001b[0m\u001b[0;34m\u001b[0m\u001b[0m\n\u001b[0m\u001b[1;32m     95\u001b[0m \u001b[0;34m\u001b[0m\u001b[0m\n\u001b[1;32m     96\u001b[0m     \u001b[0;32mdef\u001b[0m \u001b[0m__setitem__\u001b[0m\u001b[0;34m(\u001b[0m\u001b[0mself\u001b[0m\u001b[0;34m,\u001b[0m \u001b[0mkey\u001b[0m\u001b[0;34m,\u001b[0m \u001b[0mx\u001b[0m\u001b[0;34m)\u001b[0m\u001b[0;34m:\u001b[0m\u001b[0;34m\u001b[0m\u001b[0;34m\u001b[0m\u001b[0m\n",
      "\u001b[0;32m~/opt/anaconda3/lib/python3.9/site-packages/scipy/sparse/_compressed.py\u001b[0m in \u001b[0;36m_get_arrayXarray\u001b[0;34m(self, row, col)\u001b[0m\n\u001b[1;32m    675\u001b[0m \u001b[0;34m\u001b[0m\u001b[0m\n\u001b[1;32m    676\u001b[0m         \u001b[0mval\u001b[0m \u001b[0;34m=\u001b[0m \u001b[0mnp\u001b[0m\u001b[0;34m.\u001b[0m\u001b[0mempty\u001b[0m\u001b[0;34m(\u001b[0m\u001b[0mmajor\u001b[0m\u001b[0;34m.\u001b[0m\u001b[0msize\u001b[0m\u001b[0;34m,\u001b[0m \u001b[0mdtype\u001b[0m\u001b[0;34m=\u001b[0m\u001b[0mself\u001b[0m\u001b[0;34m.\u001b[0m\u001b[0mdtype\u001b[0m\u001b[0;34m)\u001b[0m\u001b[0;34m\u001b[0m\u001b[0;34m\u001b[0m\u001b[0m\n\u001b[0;32m--> 677\u001b[0;31m         csr_sample_values(M, N, self.indptr, self.indices, self.data,\n\u001b[0m\u001b[1;32m    678\u001b[0m                           major.size, major.ravel(), minor.ravel(), val)\n\u001b[1;32m    679\u001b[0m         \u001b[0;32mif\u001b[0m \u001b[0mmajor\u001b[0m\u001b[0;34m.\u001b[0m\u001b[0mndim\u001b[0m \u001b[0;34m==\u001b[0m \u001b[0;36m1\u001b[0m\u001b[0;34m:\u001b[0m\u001b[0;34m\u001b[0m\u001b[0;34m\u001b[0m\u001b[0m\n",
      "\u001b[0;31mKeyboardInterrupt\u001b[0m: "
     ]
    }
   ],
   "source": [
    "with open('possible_denovo_ssc.txt', 'w+') as f:\n",
    "    f.write('\\t'.join(['chrom', 'pos', 'child', 'AF', 'VCF']) + '\\n')\n",
    "    #for chrom in [str(x) for x in range(1, 23)]:\n",
    "    for chrom in ['10']:\n",
    "        gen_files = sorted([f for f in listdir('%s/genotypes' % data_dir) if ('chr.%s.' % chrom) in f and 'gen.npz' in f], key=lambda x: int(x.split('.')[2]))\n",
    "        coord_files = sorted([f for f in listdir('%s/genotypes' % data_dir) if ('chr.%s.' % chrom) in f and 'gen.coordinates.npy' in f], key=lambda x: int(x.split('.')[2]))\n",
    "        annot_files = sorted([f for f in listdir('%s/genotypes' % data_dir) if ('chr.%s.' % chrom) in f and 'gen.variants.txt.gz' in f], key=lambda x: int(x.split('.')[2]))\n",
    "        assert len(gen_files) == len(coord_files)\n",
    "        assert len(gen_files) == len(annot_files)\n",
    "\n",
    "        for gen_file, coord_file, annot_file in zip(gen_files, coord_files, annot_files):\n",
    "            print(gen_file)\n",
    "            with gzip.open('%s/genotypes/%s' % (data_dir, annot_file), 'rt') as annot_f:\n",
    "                annotations = [line for line in annot_f]\n",
    "\n",
    "            af = [dict([tuple(y.split('=')) for y in x.strip().split()[7].split(';') if '=' in y]).get('AF', np.nan) for x in annotations]\n",
    "            af = np.array([float(x) if ',' not in x else np.nan for x in af])\n",
    "\n",
    "            coords = np.load('%s/genotypes/%s' % (data_dir, coord_file))\n",
    "            gen = sparse.load_npz('%s/genotypes/%s' % (data_dir, gen_file))\n",
    "\n",
    "            poss = coords[:, 1]\n",
    "            is_snp = coords[:, 2]==1\n",
    "\n",
    "            #remove indels\n",
    "            is_ok = is_snp\n",
    "\n",
    "            # remove multiallelic sites\n",
    "            multi_indices = np.where(coords[1:, 1]==coords[:-1, 1])[0]\n",
    "            is_ok[multi_indices] = False\n",
    "            is_ok[multi_indices+1] = False\n",
    "\n",
    "            # remove AF > 0.01\n",
    "            is_ok[af>0.01] = False        \n",
    "\n",
    "            possible_denovo_children, possible_denovo_positions = (gen[child_indices, :]==1).nonzero()\n",
    "            \n",
    "            indices = ((gen[mother_indices[possible_denovo_children], possible_denovo_positions]==0) & \\\n",
    "                      (gen[father_indices[possible_denovo_children], possible_denovo_positions]==0) & \\\n",
    "                      is_ok[possible_denovo_positions]).A.flatten()\n",
    "            print('de novos', np.sum(indices))\n",
    "\n",
    "            for child_index, index in zip(possible_denovo_children[indices], possible_denovo_positions[indices]):\n",
    "                f.write('%s\\t%s' % (children[child_index], annotations[index]))\n",
    "\n",
    "        "
   ]
  },
  {
   "cell_type": "code",
   "execution_count": null,
   "id": "dd2c8db5",
   "metadata": {},
   "outputs": [],
   "source": []
  }
 ],
 "metadata": {
  "kernelspec": {
   "display_name": "Python [conda env:root] *",
   "language": "python",
   "name": "conda-root-py"
  },
  "language_info": {
   "codemirror_mode": {
    "name": "ipython",
    "version": 3
   },
   "file_extension": ".py",
   "mimetype": "text/x-python",
   "name": "python",
   "nbconvert_exporter": "python",
   "pygments_lexer": "ipython3",
   "version": "3.9.13"
  }
 },
 "nbformat": 4,
 "nbformat_minor": 5
}
