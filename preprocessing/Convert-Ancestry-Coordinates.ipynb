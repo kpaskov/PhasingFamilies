{
 "cells": [
  {
   "cell_type": "code",
   "execution_count": 15,
   "metadata": {},
   "outputs": [],
   "source": [
    "import numpy as np\n",
    "from os import listdir\n",
    "import json\n",
    "import scipy.sparse as sparse"
   ]
  },
  {
   "cell_type": "code",
   "execution_count": 61,
   "metadata": {},
   "outputs": [],
   "source": [
    "orig_data_dir = '../../DATA/ancestry/genotypes'\n",
    "new_data_dir = '../../DATA/ancestry/genotypes38'\n",
    "dataset_name = 'ancestry'\n",
    "\n",
    "#orig_data_dir = '../../DATA/spark/genotypes/wgs1_b01_array'\n",
    "#new_data_dir = '../../DATA/spark/genotypes/wgs1_b01_array38'\n",
    "#dataset_name = 'spark_wgs1_b01_array'\n",
    "\n",
    "#orig_data_dir = '../../DATA/ihart.chip/genotypes'\n",
    "#new_data_dir = '../../DATA/ihart.chip/genotypes38'\n",
    "#dataset_name = 'ihart.chip'"
   ]
  },
  {
   "cell_type": "code",
   "execution_count": 62,
   "metadata": {},
   "outputs": [],
   "source": [
    "with open('../data/%s37.bed' % dataset_name, 'w+') as f:\n",
    "    for chrom in [str(x) for x in range(1, 23)]:\n",
    "        coords = np.load('%s/chr.%s.0.gen.coordinates.npy' % (orig_data_dir, chrom), 'r')\n",
    "        for i in range(coords.shape[0]):\n",
    "            f.write('chr%s\\t%d\\t%d\\t%d\\n' % (chrom, coords[i, 1]-1, coords[i, 1], i))\n",
    "        "
   ]
  },
  {
   "cell_type": "code",
   "execution_count": 63,
   "metadata": {},
   "outputs": [
    {
     "name": "stdout",
     "output_type": "stream",
     "text": [
      "saving 1 removing 0 positions that do not map removing 0 positions that map to the same place (50552, 4) 817342\n",
      "saving 2 removing 0 positions that do not map removing 0 positions that map to the same place (54719, 4) 15673\n",
      "saving 3 removing 0 positions that do not map removing 0 positions that map to the same place (43186, 4) 19367\n",
      "saving 4 removing 0 positions that do not map removing 0 positions that map to the same place (36866, 4) 71675\n",
      "saving 5 removing 0 positions that do not map removing 0 positions that map to the same place (38798, 4) 38142\n",
      "saving 6 removing 0 positions that do not map removing 0 positions that map to the same place (43325, 4) 149637\n",
      "saving 7 removing 36 positions that do not map removing 0 positions that map to the same place (34573, 4) 42921\n",
      "saving 8 removing 17 positions that do not map removing 0 positions that map to the same place (32952, 4) 214985\n",
      "saving 9 removing 0 positions that do not map removing 0 positions that map to the same place (29623, 4) 46588\n",
      "saving 10 removing 0 positions that do not map removing 0 positions that map to the same place (32779, 4) 47305\n",
      "saving 11 removing 0 positions that do not map removing 0 positions that map to the same place (32503, 4) 193809\n",
      "saving 12 removing 0 positions that do not map removing 0 positions that map to the same place (31280, 4) 79120\n",
      "saving 13 removing 0 positions that do not map removing 0 positions that map to the same place (24617, 4) 18547811\n",
      "saving 14 removing 0 positions that do not map removing 0 positions that map to the same place (21134, 4) 18343798\n",
      "saving 15 removing 0 positions that do not map removing 0 positions that map to the same place (21341, 4) 19822806\n",
      "saving 16 removing 0 positions that do not map removing 0 positions that map to the same place (23332, 4) 51264\n",
      "saving 17 removing 0 positions that do not map removing 0 positions that map to the same place (22629, 4) 158757\n",
      "saving 18 removing 0 positions that do not map removing 0 positions that map to the same place (18987, 4) 13035\n",
      "saving 19 removing 0 positions that do not map removing 0 positions that map to the same place (16969, 4) 249358\n",
      "saving 20 removing 0 positions that do not map removing 0 positions that map to the same place (18077, 4) 82591\n",
      "saving 21 removing 0 positions that do not map removing 0 positions that map to the same place (10170, 4) 10510533\n",
      "saving 22 removing 0 positions that do not map removing 0 positions that map to the same place (10986, 4) 16389162\n"
     ]
    }
   ],
   "source": [
    "chrom_to_coords = dict([(str(chrom), np.load('%s/chr.%d.0.gen.coordinates.npy' % (orig_data_dir, chrom))) for chrom in range(1, 23)])\n",
    "for chrom, coords in chrom_to_coords.items():\n",
    "    coords[:, 1] = 0\n",
    "\n",
    "with open('../data/%s38.bed' % dataset_name, 'r') as f:\n",
    "    for line in f:\n",
    "        pieces = line.strip().split('\\t')\n",
    "        chrom = pieces[0][3:]\n",
    "        if chrom in chrom_to_coords38:\n",
    "            chrom_to_coords[chrom][int(pieces[3]), 1] = int(pieces[2])+1\n",
    "        \n",
    "with open('%s/info.json' % orig_data_dir, 'r') as f:\n",
    "    info = json.load(f)\n",
    "    info['assembly'] = '38'\n",
    "    \n",
    "with open('%s/info.json' % new_data_dir, 'w+') as f:\n",
    "    json.dump(info, f)\n",
    "    \n",
    "with open('%s/samples.json' % orig_data_dir, 'r') as f:\n",
    "    samples = json.load(f)\n",
    "    \n",
    "with open('%s/samples.json' % new_data_dir, 'w+') as f:\n",
    "    json.dump(samples, f)\n",
    "    \n",
    "for chrom in [str(x) for x in range(1, 23)]:\n",
    "    print('saving', chrom, end=' ')\n",
    "    \n",
    "    gen = sparse.load_npz('%s/chr.%s.0.gen.npz' % (orig_data_dir, chrom))\n",
    "    coords = chrom_to_coords[chrom]\n",
    "    \n",
    "    # remove positions that don't map\n",
    "    indices = coords[:, 1]!=0\n",
    "    gen = gen[:, indices]\n",
    "    coords = coords[indices, :]\n",
    "    print('removing %d positions that do not map' % np.sum(~indices), end=' ')\n",
    "        \n",
    "    # reorder and remove positions that didn't map\n",
    "    indices = np.argsort(coords[:, 1])\n",
    "    coords = coords[indices, :]\n",
    "    gen = gen[:, indices]\n",
    "    \n",
    "    # remove positions that map to the same place\n",
    "    to_be_removed = np.zeros((coords.shape[0],), dtype=bool)\n",
    "    to_be_removed[np.where(coords[1:, 1]==coords[:-1, 1])[0]+1] = True\n",
    "    print('removing %d positions that map to the same place' % np.sum(to_be_removed), end=' ')\n",
    "    coords = coords[~to_be_removed, :]\n",
    "    gen = gen[:, ~to_be_removed]\n",
    "    \n",
    "    assert np.all(coords[1:, 1] > coords[:-1, 1])\n",
    "    print(coords.shape, np.min(coords[:, 1]))\n",
    "    \n",
    "    sparse.save_npz('%s/chr.%s.0.gen.npz' % (new_data_dir, chrom), gen)\n",
    "    np.save('%s/chr.%s.0.gen.coordinates.npy' % (new_data_dir, chrom), coords)\n",
    "    "
   ]
  },
  {
   "cell_type": "code",
   "execution_count": null,
   "metadata": {},
   "outputs": [],
   "source": []
  }
 ],
 "metadata": {
  "kernelspec": {
   "display_name": "Python 3",
   "language": "python",
   "name": "python3"
  },
  "language_info": {
   "codemirror_mode": {
    "name": "ipython",
    "version": 3
   },
   "file_extension": ".py",
   "mimetype": "text/x-python",
   "name": "python",
   "nbconvert_exporter": "python",
   "pygments_lexer": "ipython3",
   "version": "3.7.3"
  }
 },
 "nbformat": 4,
 "nbformat_minor": 2
}
