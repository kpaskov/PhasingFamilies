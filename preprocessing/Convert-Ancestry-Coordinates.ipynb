{
 "cells": [
  {
   "cell_type": "code",
   "execution_count": 13,
   "metadata": {},
   "outputs": [],
   "source": [
    "import numpy as np\n",
    "from os import listdir\n",
    "import json\n",
    "import scipy.sparse as sparse"
   ]
  },
  {
   "cell_type": "code",
   "execution_count": 14,
   "metadata": {},
   "outputs": [],
   "source": [
    "orig_data_dir = '../../DATA/ancestry/genotypes'\n",
    "new_data_dir = '../../DATA/ancestry/genotypes38'\n",
    "dataset_name = 'ancestry'\n",
    "\n",
    "#orig_data_dir = '../../DATA/spark/genotypes/wgs1_b02_array'\n",
    "#new_data_dir = '../../DATA/spark/genotypes/wgs1_b02_array38'\n",
    "#dataset_name = 'spark_wgs1_b02_array'\n",
    "\n",
    "#orig_data_dir = '../../DATA/ihart.chip/genotypes'\n",
    "#new_data_dir = '../../DATA/ihart.chip/genotypes38'\n",
    "#dataset_name = 'ihart.chip'\n",
    "\n",
    "chroms = [str(x) for x in range(1, 23)] + ['X', 'Y']"
   ]
  },
  {
   "cell_type": "code",
   "execution_count": 15,
   "metadata": {},
   "outputs": [],
   "source": [
    "with open('../data/%s37.bed' % dataset_name, 'w+') as f:\n",
    "    for chrom in chroms:\n",
    "        coords = np.load('%s/chr.%s.0.gen.coordinates.npy' % (orig_data_dir, chrom), 'r')\n",
    "        for i in range(coords.shape[0]):\n",
    "            f.write('chr%s\\t%d\\t%d\\t%d\\n' % (chrom, coords[i, 1]-1, coords[i, 1], i))\n",
    "        "
   ]
  },
  {
   "cell_type": "code",
   "execution_count": 12,
   "metadata": {},
   "outputs": [
    {
     "name": "stdout",
     "output_type": "stream",
     "text": [
      "saving 1 removing 22 positions that do not map removing 723 positions that map to the same place (49113, 4) 634039\n",
      "saving 2 removing 3 positions that do not map removing 550 positions that map to the same place (41937, 4) 33013\n",
      "saving 3 removing 8 positions that do not map removing 458 positions that map to the same place (35394, 4) 25221\n",
      "saving 4 removing 2 positions that do not map removing 399 positions that map to the same place (29196, 4) 60163\n",
      "saving 5 removing 0 positions that do not map removing 439 positions that map to the same place (29400, 4) 38142\n",
      "saving 6 removing 4 positions that do not map removing 702 positions that map to the same place (34020, 4) 204073\n",
      "saving 7 removing 45 positions that do not map removing 369 positions that map to the same place (27522, 4) 44936\n",
      "saving 8 removing 22 positions that do not map removing 315 positions that map to the same place (24339, 4) 213227\n",
      "saving 9 removing 10 positions that do not map removing 309 positions that map to the same place (23021, 4) 185633\n",
      "saving 10 removing 4 positions that do not map removing 351 positions that map to the same place (24484, 4) 67995\n",
      "saving 11 removing 9 positions that do not map removing 448 positions that map to the same place (30470, 4) 193147\n",
      "saving 12 removing 4 positions that do not map removing 367 positions that map to the same place (27010, 4) 82454\n",
      "saving 13 removing 1 positions that do not map removing 183 positions that map to the same place (15289, 4) 18547811\n",
      "saving 14 removing 19 positions that do not map removing 231 positions that map to the same place (17429, 4) 18602047\n",
      "saving 15 removing 0 positions that do not map removing 216 positions that map to the same place (17266, 4) 19956120\n",
      "saving 16 removing 0 positions that do not map removing 267 positions that map to the same place (19767, 4) 45255\n",
      "saving 17 removing 19 positions that do not map removing 283 positions that map to the same place (21659, 4) 158757\n",
      "saving 18 removing 0 positions that do not map removing 160 positions that map to the same place (12221, 4) 13035\n",
      "saving 19 removing 36 positions that do not map removing 334 positions that map to the same place (22063, 4) 249358\n",
      "saving 20 removing 0 positions that do not map removing 179 positions that map to the same place (13600, 4) 82604\n",
      "saving 21 removing 4 positions that do not map removing 94 positions that map to the same place (7037, 4) 10413735\n",
      "saving 22 removing 5 positions that do not map removing 94 positions that map to the same place (9385, 4) 15473565\n",
      "saving X removing 27 positions that do not map removing 172 positions that map to the same place (13097, 4) 2782117\n",
      "saving Y removing 1 positions that do not map removing 3 positions that map to the same place (2163, 4) 2787140\n"
     ]
    }
   ],
   "source": [
    "chrom_to_coords = dict([(str(chrom), np.load('%s/chr.%s.0.gen.coordinates.npy' % (orig_data_dir, chrom))) for chrom in chroms])\n",
    "for chrom, coords in chrom_to_coords.items():\n",
    "    coords[:, 1] = 0\n",
    "\n",
    "with open('../data/%s38.bed' % dataset_name, 'r') as f:\n",
    "    for line in f:\n",
    "        pieces = line.strip().split('\\t')\n",
    "        chrom = pieces[0][3:]\n",
    "        if chrom in chrom_to_coords:\n",
    "            chrom_to_coords[chrom][int(pieces[3]), 1] = int(pieces[2])+1\n",
    "        \n",
    "with open('%s/info.json' % orig_data_dir, 'r') as f:\n",
    "    info = json.load(f)\n",
    "    info['assembly'] = '38'\n",
    "    \n",
    "with open('%s/info.json' % new_data_dir, 'w+') as f:\n",
    "    json.dump(info, f)\n",
    "    \n",
    "with open('%s/samples.json' % orig_data_dir, 'r') as f:\n",
    "    samples = json.load(f)\n",
    "    \n",
    "with open('%s/samples.json' % new_data_dir, 'w+') as f:\n",
    "    json.dump(samples, f)\n",
    "    \n",
    "for chrom in chroms:\n",
    "    print('saving', chrom, end=' ')\n",
    "    \n",
    "    gen = sparse.load_npz('%s/chr.%s.0.gen.npz' % (orig_data_dir, chrom))\n",
    "    coords = chrom_to_coords[chrom]\n",
    "    \n",
    "    # remove positions that don't map\n",
    "    indices = coords[:, 1]!=0\n",
    "    gen = gen[:, indices]\n",
    "    coords = coords[indices, :]\n",
    "    print('removing %d positions that do not map' % np.sum(~indices), end=' ')\n",
    "        \n",
    "    # reorder and remove positions that didn't map\n",
    "    indices = np.argsort(coords[:, 1])\n",
    "    coords = coords[indices, :]\n",
    "    gen = gen[:, indices]\n",
    "    \n",
    "    # remove positions that map to the same place\n",
    "    to_be_removed = np.zeros((coords.shape[0],), dtype=bool)\n",
    "    to_be_removed[np.where(coords[1:, 1]==coords[:-1, 1])[0]+1] = True\n",
    "    print('removing %d positions that map to the same place' % np.sum(to_be_removed), end=' ')\n",
    "    coords = coords[~to_be_removed, :]\n",
    "    gen = gen[:, ~to_be_removed]\n",
    "    \n",
    "    assert np.all(coords[1:, 1] > coords[:-1, 1])\n",
    "    print(coords.shape, np.min(coords[:, 1]))\n",
    "    \n",
    "    # set everything to pass\n",
    "    coords[:, 3] = 1\n",
    "    \n",
    "    sparse.save_npz('%s/chr.%s.0.gen.npz' % (new_data_dir, chrom), gen)\n",
    "    np.save('%s/chr.%s.0.gen.coordinates.npy' % (new_data_dir, chrom), coords)\n",
    "    "
   ]
  },
  {
   "cell_type": "code",
   "execution_count": null,
   "metadata": {},
   "outputs": [],
   "source": []
  }
 ],
 "metadata": {
  "kernelspec": {
   "display_name": "Python 3",
   "language": "python",
   "name": "python3"
  },
  "language_info": {
   "codemirror_mode": {
    "name": "ipython",
    "version": 3
   },
   "file_extension": ".py",
   "mimetype": "text/x-python",
   "name": "python",
   "nbconvert_exporter": "python",
   "pygments_lexer": "ipython3",
   "version": "3.7.3"
  }
 },
 "nbformat": 4,
 "nbformat_minor": 2
}
