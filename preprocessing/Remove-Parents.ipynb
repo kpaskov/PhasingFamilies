{
 "cells": [
  {
   "cell_type": "code",
   "execution_count": 11,
   "metadata": {},
   "outputs": [],
   "source": [
    "from scipy.sparse import save_npz, load_npz, hstack\n",
    "from os import listdir\n"
   ]
  },
  {
   "cell_type": "code",
   "execution_count": 1,
   "metadata": {},
   "outputs": [],
   "source": [
    "# this code is used to remove all genotype information for parents in a dataset\n",
    "# this allows us to test phasing algorithm when parental data is missing"
   ]
  },
  {
   "cell_type": "code",
   "execution_count": 3,
   "metadata": {},
   "outputs": [],
   "source": [
    "data_dir = '../split_gen_spark_exome_pilot_noparents'\n",
    "ped_file = '../data/spark_jae.ped'\n",
    "\n",
    "chroms = [str(x) for x in range(1, 23)] + ['X', 'Y']"
   ]
  },
  {
   "cell_type": "code",
   "execution_count": 6,
   "metadata": {},
   "outputs": [],
   "source": [
    "# read samples\n",
    "sample_file = '%s/chr.%s.gen.samples.txt' % (data_dir, chroms[0])\n",
    "with open(sample_file, 'r') as f:\n",
    "    sample_id_to_index = dict([(line.strip(), i) for i, line in enumerate(f)])"
   ]
  },
  {
   "cell_type": "code",
   "execution_count": 7,
   "metadata": {},
   "outputs": [
    {
     "name": "stdout",
     "output_type": "stream",
     "text": [
      "parents 914 children 465 overlap 0\n"
     ]
    }
   ],
   "source": [
    "# read family structure\n",
    "parents = set()\n",
    "children = set()\n",
    "with open(ped_file, 'r') as f:\n",
    "    for line in f:\n",
    "        fam_id, ind_id, dad_id, mom_id, sex, disease_status = line.strip().split('\\t')[:6]\n",
    "        # sex: 1=male, 2=female\n",
    "        # disease status: 1=unaffected, 2=affected\n",
    "        if dad_id != '0' and dad_id in sample_id_to_index:\n",
    "            parents.add(dad_id)\n",
    "        if mom_id != '0' and mom_id in sample_id_to_index:\n",
    "            parents.add(mom_id)\n",
    "        if (dad_id != '0' or mom_id != '0') and ind_id in sample_id_to_index:\n",
    "            children.add(ind_id)\n",
    "            \n",
    "print('parents', len(parents), 'children', len(children), 'overlap', len(parents & children))"
   ]
  },
  {
   "cell_type": "code",
   "execution_count": 14,
   "metadata": {},
   "outputs": [
    {
     "name": "stdout",
     "output_type": "stream",
     "text": [
      "1 2 3 4 5 6 7 8 9 10 11 12 13 14 15 16 17 18 19 20 21 22 X Y "
     ]
    }
   ],
   "source": [
    "# this code could be improved since changing sparsity structure of a csr/csc matrix is expensive\n",
    "\n",
    "parent_indices = [sample_id_to_index[x] for x in parents]\n",
    "\n",
    "for chrom in chroms:\n",
    "    print(chrom, end=' ')\n",
    "    # load genotypes\n",
    "    gen_files = sorted([f for f in listdir(data_dir) if ('chr.%s.' % chrom) in f and 'gen.npz' in f])\n",
    "\n",
    "    # Pull data together\n",
    "    A = hstack([load_npz('%s/%s' % (data_dir, gen_file)) for gen_file in gen_files])\n",
    "    \n",
    "    # remove parental data\n",
    "    A[parent_indices, :] = 0\n",
    "    \n",
    "    save_npz('%s/chr.%s.gen' % (data_dir, chrom), A)\n",
    "    \n",
    "    "
   ]
  },
  {
   "cell_type": "code",
   "execution_count": null,
   "metadata": {},
   "outputs": [],
   "source": []
  }
 ],
 "metadata": {
  "kernelspec": {
   "display_name": "Python 3",
   "language": "python",
   "name": "python3"
  },
  "language_info": {
   "codemirror_mode": {
    "name": "ipython",
    "version": 3
   },
   "file_extension": ".py",
   "mimetype": "text/x-python",
   "name": "python",
   "nbconvert_exporter": "python",
   "pygments_lexer": "ipython3",
   "version": "3.7.3"
  }
 },
 "nbformat": 4,
 "nbformat_minor": 2
}
