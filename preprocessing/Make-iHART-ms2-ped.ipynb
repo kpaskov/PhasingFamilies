{
 "cells": [
  {
   "cell_type": "code",
   "execution_count": 11,
   "metadata": {},
   "outputs": [],
   "source": [
    "old_sample_id_to_new = dict()\n",
    "with open('../data/170925.iHART.db.csv', 'r') as f:\n",
    "    next(f) # skip header\n",
    "    for line in f:\n",
    "        pieces = line.strip().split(',')\n",
    "        if len(pieces)>3:\n",
    "            old_sample_id_to_new[pieces[2]] = pieces[1]\n",
    "        "
   ]
  },
  {
   "cell_type": "code",
   "execution_count": 13,
   "metadata": {},
   "outputs": [],
   "source": [
    "with open('../../DATA/ihart/ihart.ped', 'r') as f, open('../../DATA/ihart.ms2/ihart.ped', 'w+') as outf:\n",
    "    for line in f:\n",
    "        pieces = line.strip().split('\\t')\n",
    "        if (pieces[1] in old_sample_id_to_new) and (pieces[2] in old_sample_id_to_new or pieces[2]=='0') and (pieces[3] in old_sample_id_to_new or pieces[2]=='0'):\n",
    "            pieces[1] = '0' if pieces[1] == '0' else old_sample_id_to_new[pieces[1]]\n",
    "            pieces[2] = '0' if pieces[2] == '0' else old_sample_id_to_new[pieces[2]]\n",
    "            pieces[3] = '0' if pieces[3] == '0' else old_sample_id_to_new[pieces[3]]\n",
    "            outf.write('\\t'.join(pieces) + '\\n')\n",
    "            \n",
    "            "
   ]
  },
  {
   "cell_type": "code",
   "execution_count": null,
   "metadata": {},
   "outputs": [],
   "source": []
  }
 ],
 "metadata": {
  "kernelspec": {
   "display_name": "Python 3",
   "language": "python",
   "name": "python3"
  },
  "language_info": {
   "codemirror_mode": {
    "name": "ipython",
    "version": 3
   },
   "file_extension": ".py",
   "mimetype": "text/x-python",
   "name": "python",
   "nbconvert_exporter": "python",
   "pygments_lexer": "ipython3",
   "version": "3.7.3"
  }
 },
 "nbformat": 4,
 "nbformat_minor": 2
}
