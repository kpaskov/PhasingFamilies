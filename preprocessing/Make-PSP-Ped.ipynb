{
 "cells": [
  {
   "cell_type": "code",
   "execution_count": 1,
   "metadata": {},
   "outputs": [],
   "source": [
    "sexcheck_file = '../data/psp.X.nonPAR.pass.biSNP.sexcheck'"
   ]
  },
  {
   "cell_type": "code",
   "execution_count": 5,
   "metadata": {},
   "outputs": [],
   "source": [
    "with open(sexcheck_file, 'r') as f, open('../data/psp.ped', 'w+') as outf:\n",
    "    next(f) # remove header\n",
    "    for line in f:\n",
    "        pieces = line.strip().split()\n",
    "        outf.write('%s\\t%s\\t%s\\t%s\\t%s\\t%s\\n' % (pieces[0], pieces[1], '0', '0', pieces[3], '2'))"
   ]
  }
 ],
 "metadata": {
  "kernelspec": {
   "display_name": "Python 3",
   "language": "python",
   "name": "python3"
  },
  "language_info": {
   "codemirror_mode": {
    "name": "ipython",
    "version": 3
   },
   "file_extension": ".py",
   "mimetype": "text/x-python",
   "name": "python",
   "nbconvert_exporter": "python",
   "pygments_lexer": "ipython3",
   "version": "3.6.7"
  }
 },
 "nbformat": 4,
 "nbformat_minor": 2
}
