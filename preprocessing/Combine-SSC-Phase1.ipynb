{
 "cells": [
  {
   "cell_type": "code",
   "execution_count": 1,
   "metadata": {},
   "outputs": [],
   "source": [
    "import numpy as np\n",
    "import scipy.sparse as sparse\n",
    "from os import listdir\n",
    "import gzip"
   ]
  },
  {
   "cell_type": "code",
   "execution_count": 18,
   "metadata": {},
   "outputs": [],
   "source": [
    "id_map = dict()\n",
    "\n",
    "with open('../data/ssc.id_map.from.repository', 'r') as f:\n",
    "    for line in f:\n",
    "        pieces = line.strip().split('\\t')\n",
    "        id_map[pieces[1]] = pieces[0]\n",
    "        \n",
    "id_map['0'] = '0'"
   ]
  },
  {
   "cell_type": "code",
   "execution_count": 19,
   "metadata": {},
   "outputs": [
    {
     "name": "stdout",
     "output_type": "stream",
     "text": [
      "['12347', 'SSC04851', '0', '0', '1', '1']\n"
     ]
    }
   ],
   "source": [
    "with open('../data/ssc.ped', 'r') as f, open('../data/ssc.hg38.ped', 'w+') as outf:\n",
    "    for line in f:\n",
    "        pieces = line.strip().split('\\t')\n",
    "        if pieces[1] in id_map and pieces[2] in id_map and pieces[3] in id_map:\n",
    "            pieces[1], pieces[2], pieces[3] = id_map[pieces[1]], id_map[pieces[2]], id_map[pieces[3]]\n",
    "            outf.write('\\t'.join(pieces) + '\\n')\n",
    "        else:\n",
    "            print(pieces)"
   ]
  },
  {
   "cell_type": "code",
   "execution_count": null,
   "metadata": {},
   "outputs": [],
   "source": []
  }
 ],
 "metadata": {
  "kernelspec": {
   "display_name": "Python 3",
   "language": "python",
   "name": "python3"
  },
  "language_info": {
   "codemirror_mode": {
    "name": "ipython",
    "version": 3
   },
   "file_extension": ".py",
   "mimetype": "text/x-python",
   "name": "python",
   "nbconvert_exporter": "python",
   "pygments_lexer": "ipython3",
   "version": "3.7.3"
  }
 },
 "nbformat": 4,
 "nbformat_minor": 2
}
