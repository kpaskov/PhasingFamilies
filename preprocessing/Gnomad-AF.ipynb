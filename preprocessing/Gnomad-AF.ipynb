{
 "cells": [
  {
   "cell_type": "code",
   "execution_count": 83,
   "metadata": {},
   "outputs": [],
   "source": [
    "import numpy as np\n",
    "import argparse\n",
    "import json\n",
    "from pysam import VariantFile, TabixFile\n",
    "import gzip\n",
    "import matplotlib.pyplot as plt\n",
    "from collections import defaultdict\n",
    "import random\n",
    "import scipy.sparse as sparse"
   ]
  },
  {
   "cell_type": "code",
   "execution_count": 69,
   "metadata": {},
   "outputs": [],
   "source": [
    "chrom = '22'\n",
    "batch_num = 1\n",
    "data_dir = '../../DATA/ihart.ms2/genotypes/01'\n",
    "gnomad_vcf_file = '../data/gnomad.genomes.r3.0.sites.chr22.vcf.bgz'\n",
    "ped_file = '../../DATA/ihart.ms2/ihart.ped'"
   ]
  },
  {
   "cell_type": "code",
   "execution_count": 42,
   "metadata": {},
   "outputs": [],
   "source": [
    "with open('%s/info.json' % data_dir, 'r') as f:\n",
    "\tinfo = json.load(f)\n",
    "\tbatch_size = info['batch_size']\n",
    "\tassembly = info['assembly']\n",
    "\n",
    "with open('../data/chrom_lengths%s.json' % assembly, 'r') as f:\n",
    "\tchrom_length = json.load(f)[chrom]"
   ]
  },
  {
   "cell_type": "code",
   "execution_count": 47,
   "metadata": {},
   "outputs": [
    {
     "name": "stdout",
     "output_type": "stream",
     "text": [
      "(376146,)\n"
     ]
    }
   ],
   "source": [
    "# pull positions of interest\n",
    "coord_file = '%s/chr.%s.%d.gen.coordinates.npy' % (data_dir, chrom, batch_num)\n",
    "pos_data = np.load(coord_file)\n",
    "if pos_data.shape[0]>0:\n",
    "    positions = pos_data[:, 1]\n",
    "    is_snp = pos_data[:, 2].astype(bool)\n",
    "    is_pass = pos_data[:, 3].astype(bool)\n",
    "    assert np.all(pos_data[is_snp][1:, 1]>pos_data[is_snp][:-1, 1])\n",
    "else:\n",
    "    positions = np.zeros((0,), dtype=int)\n",
    "print(positions.shape)"
   ]
  },
  {
   "cell_type": "code",
   "execution_count": 48,
   "metadata": {},
   "outputs": [
    {
     "name": "stdout",
     "output_type": "stream",
     "text": [
      "376146 376146\n"
     ]
    }
   ],
   "source": [
    "refs, alts = [], []\n",
    "with gzip.open('%s/chr.%s.%d.gen.variants.txt.gz' % (data_dir, chrom, batch_num), 'rt') as f:\n",
    "    for line in f:\n",
    "        pieces = line.strip().split('\\t', maxsplit=5)\n",
    "        refs.append(pieces[3])\n",
    "        alts.append(pieces[4])\n",
    "print(len(refs), len(alts))"
   ]
  },
  {
   "cell_type": "code",
   "execution_count": 124,
   "metadata": {},
   "outputs": [],
   "source": [
    "def pull_af_from_info(info):\n",
    "\taf = -1\n",
    "\tfor entry in info:\n",
    "\t\tif entry.startswith('AF='):\n",
    "\t\t\taf = float(entry[3:])\n",
    "\t\t\tbreak\n",
    "\treturn af\n",
    "\n",
    "def pull_af_from_gnomad(records, positions, refs, alts):\n",
    "    position_ref_alt_to_index = dict([((x, r, a), i) for i, (x, r, a) in enumerate(zip(positions, refs, alts))])\n",
    "    afs = np.zeros((len(positions),))\n",
    "    for line in records:\n",
    "        pieces = line.strip().split('\\t')\n",
    "        info = pieces[7].strip().split(';')\n",
    "        key = (int(pieces[1]), pieces[3], pieces[4])\n",
    "        if key in position_ref_alt_to_index:\n",
    "            afs[position_ref_alt_to_index[key]] = pull_af_from_info(info)\n",
    "    return np.clip(np.array(afs), 3/71702, 1-(3/71702))\n"
   ]
  },
  {
   "cell_type": "code",
   "execution_count": 125,
   "metadata": {},
   "outputs": [
    {
     "name": "stdout",
     "output_type": "stream",
     "text": [
      "Interval 10000000 20000000\n"
     ]
    }
   ],
   "source": [
    "# load AF from appropriate section of gnomad vcf_file\n",
    "if positions.shape[0]>0:\n",
    "    vcf = TabixFile(gnomad_vcf_file, parser=None)\n",
    "    if batch_size is not None:\n",
    "        start_pos, end_pos = batch_num*batch_size, (batch_num+1)*batch_size\n",
    "        print('Interval', start_pos, end_pos)\n",
    "        gnomad_afs = pull_af_from_gnomad(vcf.fetch(reference='chr%s' % chrom, start=start_pos, end=end_pos),\n",
    "                                        positions, refs, alts)\n",
    "    else:\n",
    "        gnomad_afs = pull_af_from_gnomad(vcf.fetch(reference='chr%s' % chrom),\n",
    "                                                          positions, refs, alts)\n"
   ]
  },
  {
   "cell_type": "code",
   "execution_count": 126,
   "metadata": {},
   "outputs": [
    {
     "data": {
      "image/png": "[encoded data removed]",
      "text/plain": [
       "<Figure size 432x288 with 1 Axes>"
      ]
     },
     "metadata": {
      "needs_background": "light"
     },
     "output_type": "display_data"
    }
   ],
   "source": [
    "plt.hist(-np.log10(gnomad_afs[is_snp]), alpha=0.5, bins=np.arange(0, 6, 0.2))\n",
    "plt.hist(-np.log10(gnomad_afs[~is_snp]), alpha=0.5, bins=np.arange(0, 6, 0.2))\n",
    "plt.show()"
   ]
  },
  {
   "cell_type": "code",
   "execution_count": 89,
   "metadata": {},
   "outputs": [
    {
     "name": "stdout",
     "output_type": "stream",
     "text": [
      "families pulled 881\n",
      "ancestors 1789\n"
     ]
    }
   ],
   "source": [
    "class Family():\n",
    "\tdef __init__(self, famkey):\n",
    "\t\tself.id = famkey\n",
    "\t\tself.parents_to_children = defaultdict(list)\n",
    "\t\tself.mat_ancestors = []\n",
    "\t\tself.pat_ancestors = []\n",
    "\t\tself.descendents = []\n",
    "\t\tself.ordered_couples = []\n",
    "\t\tself.individuals = []\n",
    "\n",
    "\tdef add_child(self, child_id, mother_id, father_id):\n",
    "\t\tif child_id in self.mat_ancestors:\n",
    "\t\t\tself.mat_ancestors.remove(child_id)\n",
    "\t\tif child_id in self.pat_ancestors:\n",
    "\t\t\tself.pat_ancestors.remove(child_id)\n",
    "\n",
    "\t\tif mother_id not in self.individuals:\n",
    "\t\t\tself.mat_ancestors.append(mother_id)\n",
    "\t\tif father_id not in self.individuals:\n",
    "\t\t\tself.pat_ancestors.append(father_id)\n",
    "\t\tself.parents_to_children[(mother_id, father_id)].append(child_id)\n",
    "\t\trandom.shuffle(self.parents_to_children[(mother_id, father_id)])\n",
    "\n",
    "\t\tself._reset_individuals()\n",
    "\n",
    "\tdef get_parents(self, child_id):\n",
    "\t\tfor ((mom, dad), children) in self.parents_to_children:\n",
    "\t\t\tif child_id in children:\n",
    "\t\t\t\treturn (mom, dad)\n",
    "\t\treturn None\n",
    "\n",
    "\tdef _reset_individuals(self):\n",
    "\t\tself.descendents = []\n",
    "\t\tself.ordered_couples = []\n",
    "\t\tparents = set(self.parents_to_children.keys())\n",
    "\t\twhile len(parents) > 0:\n",
    "\t\t\talready_added = set()\n",
    "\t\t\tfor mom, dad in parents:\n",
    "\t\t\t\tif (mom in self.mat_ancestors or mom in self.descendents) and (dad in self.pat_ancestors or dad in self.descendents):\n",
    "\t\t\t\t\tself.ordered_couples.append((mom, dad))\n",
    "\t\t\t\t\tself.descendents.extend(self.parents_to_children[(mom, dad)])\n",
    "\t\t\t\t\talready_added.add((mom, dad))\n",
    "\t\t\tparents = parents - already_added\n",
    "\t\t\tif len(already_added) == 0:\n",
    "\t\t\t\traise Exception('Circular pedigree.')\n",
    "\t\tself.individuals = self.mat_ancestors + self.pat_ancestors + self.descendents\n",
    "\n",
    "\tdef __lt__(self, other):\n",
    "\t\treturn self.id < other.id\n",
    "\n",
    "\tdef __eq__(self, other):\n",
    "\t\treturn self.id == other.id\n",
    "\n",
    "\tdef __hash__(self):\n",
    "\t\treturn hash(self.id)\n",
    "\n",
    "\tdef __len__(self):\n",
    "\t\treturn len(self.individuals)\n",
    "\n",
    "\tdef __str__(self):\n",
    "\t\treturn self.id\n",
    "\n",
    "\tdef num_ancestors(self):\n",
    "\t\treturn len(self.mat_ancestors) + len(self.pat_ancestors)\n",
    "\n",
    "\tdef num_descendents(self):\n",
    "\t\treturn len(self.descendents)\n",
    "\n",
    "\n",
    "def pull_families(ped_file):\n",
    "\t# pull families from ped file\n",
    "\tfamilies = dict()\n",
    "\twith open(ped_file, 'r') as f:\t\n",
    "\t\tfor line in f:\n",
    "\t\t\tpieces = line.strip().split('\\t')\n",
    "\t\t\tif len(pieces) < 4:\n",
    "\t\t\t\tprint('ped parsing error', line)\n",
    "\t\t\telse:\n",
    "\t\t\t\tfam_id, child_id, f_id, m_id = pieces[0:4]\n",
    "\n",
    "\t\t\t\tif f_id != '0' and m_id != '0':\n",
    "\t\t\t\t\tif fam_id not in families:\n",
    "\t\t\t\t\t\tfamilies[fam_id] = Family(fam_id)\n",
    "\t\t\t\t\tfamilies[fam_id].add_child(child_id, m_id, f_id)\n",
    "\tfamilies = sorted([x for x in families.values()])\n",
    "\t\t\n",
    "\tprint('families pulled %d' % len(families))\n",
    "\treturn families\n",
    "\n",
    "families = pull_families(ped_file)\n",
    "ancestors = sorted(sum([x.mat_ancestors + x.pat_ancestors for x in families], []))\n",
    "print('ancestors', len(ancestors))"
   ]
  },
  {
   "cell_type": "code",
   "execution_count": 90,
   "metadata": {},
   "outputs": [],
   "source": [
    "# pull samples\n",
    "sample_file = '%s/chr.%s.gen.samples.txt' % (data_dir, chrom)\n",
    "with open(sample_file, 'r') as f:\n",
    "    sample_ids = [line.strip() for line in f]\n",
    "sample_id_to_index = dict([(sample_id, i) for i, sample_id in enumerate(sample_ids)])\n",
    "ind_indices = [sample_id_to_index[x] for x in ancestors if x in sample_id_to_index]  \n",
    "\n",
    "# pull genotypes\n",
    "data = sparse.load_npz('%s/chr.%s.%d.gen.npz' % (data_dir, chrom, batch_num))[ind_indices, :]\n",
    "num_het = (data==1).sum(axis=0).A.flatten()\n",
    "num_homalt = (data==2).sum(axis=0).A.flatten()\n",
    "num_missing = (data<0).sum(axis=0).A.flatten()\n",
    "num_homref = len(ind_indices) - num_het - num_homalt - num_missing\n",
    "assert np.all(num_homref >= 0)\n",
    "\n",
    "af = np.zeros((data.shape[1],))\n",
    "all_missing = (num_homref + num_het + num_homalt) == 0\n",
    "af[~all_missing] = (num_het[~all_missing] + 2*num_homalt[~all_missing])/(2*num_homref[~all_missing] + 2*num_het[~all_missing] + 2*num_homalt[~all_missing])\n"
   ]
  },
  {
   "cell_type": "code",
   "execution_count": 92,
   "metadata": {},
   "outputs": [
    {
     "name": "stdout",
     "output_type": "stream",
     "text": [
      "29 376117\n"
     ]
    }
   ],
   "source": [
    "print(np.sum(all_missing), np.sum(~all_missing))"
   ]
  },
  {
   "cell_type": "code",
   "execution_count": 117,
   "metadata": {},
   "outputs": [
    {
     "name": "stderr",
     "output_type": "stream",
     "text": [
      "//anaconda3/lib/python3.7/site-packages/ipykernel/__main__.py:2: RuntimeWarning: divide by zero encountered in log10\n",
      "  from ipykernel import kernelapp as app\n"
     ]
    },
    {
     "data": {
      "image/png": "[encoded data removed]",
      "text/plain": [
       "<Figure size 432x288 with 1 Axes>"
      ]
     },
     "metadata": {
      "needs_background": "light"
     },
     "output_type": "display_data"
    }
   ],
   "source": [
    "plt.hexbin(-np.log10(gnomad_afs[is_snp]), \n",
    "            np.clip(-np.log10(af[is_snp]), 0, 6), bins='log', gridsize=30)#, alpha=0.01, marker='.')\n",
    "#plt.scatter(np.clip(-np.log10(gnomad_afs[~is_snp]), 0, 5), \n",
    "#            np.clip(-np.log10(af[~is_snp]), 0, 5), alpha=0.1, marker='.')\n",
    "plt.plot([0, 6], [0, 6], color='black', linestyle='--')\n",
    "plt.xlabel('gnomAD -log10(AF)')\n",
    "plt.ylabel('iHART.ms2 -log10(AF)')\n",
    "\n",
    "plt.show()"
   ]
  },
  {
   "cell_type": "code",
   "execution_count": null,
   "metadata": {},
   "outputs": [],
   "source": []
  }
 ],
 "metadata": {
  "kernelspec": {
   "display_name": "Python 3",
   "language": "python",
   "name": "python3"
  },
  "language_info": {
   "codemirror_mode": {
    "name": "ipython",
    "version": 3
   },
   "file_extension": ".py",
   "mimetype": "text/x-python",
   "name": "python",
   "nbconvert_exporter": "python",
   "pygments_lexer": "ipython3",
   "version": "3.7.3"
  }
 },
 "nbformat": 4,
 "nbformat_minor": 2
}
