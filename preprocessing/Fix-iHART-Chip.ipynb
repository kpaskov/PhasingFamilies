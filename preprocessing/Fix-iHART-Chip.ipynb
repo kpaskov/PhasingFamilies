{
 "cells": [
  {
   "cell_type": "code",
   "execution_count": 1,
   "metadata": {},
   "outputs": [],
   "source": [
    "chroms = [str(x) for x in range(1, 23)]\n",
    "\n",
    "for chrom in chroms:\n",
    "    lines = []\n",
    "    with open('../split_gen_ihart_chip/chr.%s.gen.samples.txt' % chrom, 'r') as f:\n",
    "        for line in f:\n",
    "            lines.append('_'.join(line.split('_')[1:]))\n",
    "    with open('../split_gen_ihart_chip/chr.%s.gen.samples.txt' % chrom, 'w+') as f:\n",
    "        for line in lines:\n",
    "            f.write(line)"
   ]
  },
  {
   "cell_type": "code",
   "execution_count": null,
   "metadata": {},
   "outputs": [],
   "source": []
  }
 ],
 "metadata": {
  "kernelspec": {
   "display_name": "Python 3",
   "language": "python",
   "name": "python3"
  },
  "language_info": {
   "codemirror_mode": {
    "name": "ipython",
    "version": 3
   },
   "file_extension": ".py",
   "mimetype": "text/x-python",
   "name": "python",
   "nbconvert_exporter": "python",
   "pygments_lexer": "ipython3",
   "version": "3.7.3"
  }
 },
 "nbformat": 4,
 "nbformat_minor": 2
}
