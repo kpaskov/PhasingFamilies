{
 "cells": [
  {
   "cell_type": "code",
   "execution_count": 36,
   "metadata": {},
   "outputs": [],
   "source": [
    "import numpy as np\n",
    "from collections import Counter\n",
    "from scipy.sparse import csc_matrix, save_npz\n"
   ]
  },
  {
   "cell_type": "code",
   "execution_count": 12,
   "metadata": {},
   "outputs": [
    {
     "name": "stdout",
     "output_type": "stream",
     "text": [
      "individuals 91\n"
     ]
    }
   ],
   "source": [
    "# read .ped\n",
    "individuals = set()\n",
    "with open('../data/Ancestry Data files/AncestryDNA.ped', 'r') as f:\n",
    "    next(f) # skip header\n",
    "    for line in f:\n",
    "        individuals.add(line.strip().split()[1])\n",
    "        individuals.add(line.strip().split()[2])\n",
    "        individuals.add(line.strip().split()[3])\n",
    "individuals = sorted(individuals)\n",
    "individual_to_index = dict([(x, i) for i, x in enumerate(individuals)])\n",
    "print('individuals', len(individuals))"
   ]
  },
  {
   "cell_type": "code",
   "execution_count": 20,
   "metadata": {},
   "outputs": [
    {
     "name": "stdout",
     "output_type": "stream",
     "text": [
      "positions 676594\n"
     ]
    }
   ],
   "source": [
    "# pull positions\n",
    "positions = []\n",
    "with open('../data/Ancestry Data files/%s.txt' % individuals[0], 'r') as f:\n",
    "    line = next(f)\n",
    "    while line.startswith('#'):\n",
    "        line = next(f)\n",
    "    for line in f:\n",
    "        pieces = line.strip().split('\\t')\n",
    "        positions.append((int(pieces[1]), int(pieces[2])))\n",
    "        \n",
    "# remove positions that occur multiple times (CNV probes)\n",
    "positions = sorted([k for k, v in Counter(positions).items() if v==1])\n",
    "print('positions', len(positions))\n",
    "\n"
   ]
  },
  {
   "cell_type": "code",
   "execution_count": 28,
   "metadata": {},
   "outputs": [
    {
     "name": "stdout",
     "output_type": "stream",
     "text": [
      "chr1 50552\n",
      "chr2 54719\n",
      "chr3 43186\n",
      "chr4 36866\n",
      "chr5 38798\n",
      "chr6 43325\n",
      "chr7 34609\n",
      "chrX 25178\n",
      "chr8 32969\n",
      "chr9 29623\n",
      "chr10 32779\n",
      "chr11 32503\n",
      "chr12 31280\n",
      "chr13 24617\n",
      "chr14 21134\n",
      "chr15 21341\n",
      "chr16 23332\n",
      "chr17 22629\n",
      "chr18 18987\n",
      "chr20 18077\n",
      "chrY 0\n",
      "chr19 16969\n",
      "chr22 10986\n",
      "chr21 10170\n",
      "chr6_ssto_hap7 0\n",
      "chr6_mcf_hap5 0\n",
      "chr6_cox_hap2 0\n",
      "chr6_mann_hap4 0\n",
      "chr6_apd_hap1 0\n",
      "chr6_qbl_hap6 0\n",
      "chr6_dbb_hap3 0\n",
      "chr17_ctg5_hap1 0\n",
      "chr4_ctg9_hap1 0\n",
      "chr1_gl000192_random 0\n",
      "chrUn_gl000225 0\n",
      "chr4_gl000194_random 0\n",
      "chr4_gl000193_random 0\n",
      "chr9_gl000200_random 0\n",
      "chrUn_gl000222 0\n",
      "chrUn_gl000212 0\n",
      "chr7_gl000195_random 0\n",
      "chrUn_gl000223 0\n",
      "chrUn_gl000224 0\n",
      "chrUn_gl000219 0\n",
      "chr17_gl000205_random 0\n",
      "chrUn_gl000215 0\n",
      "chrUn_gl000216 0\n",
      "chrUn_gl000217 0\n",
      "chr9_gl000199_random 0\n",
      "chrUn_gl000211 0\n",
      "chrUn_gl000213 0\n",
      "chrUn_gl000220 0\n",
      "chrUn_gl000218 0\n",
      "chr19_gl000209_random 0\n",
      "chrUn_gl000221 0\n",
      "chrUn_gl000214 0\n",
      "chrUn_gl000228 0\n",
      "chrUn_gl000227 0\n",
      "chr1_gl000191_random 0\n",
      "chr19_gl000208_random 0\n",
      "chr9_gl000198_random 0\n",
      "chr17_gl000204_random 0\n",
      "chrUn_gl000233 0\n",
      "chrUn_gl000237 0\n",
      "chrUn_gl000230 0\n",
      "chrUn_gl000242 0\n",
      "chrUn_gl000243 0\n",
      "chrUn_gl000241 0\n",
      "chrUn_gl000236 0\n",
      "chrUn_gl000240 0\n",
      "chr17_gl000206_random 0\n",
      "chrUn_gl000232 0\n",
      "chrUn_gl000234 0\n",
      "chr11_gl000202_random 0\n",
      "chrUn_gl000238 0\n",
      "chrUn_gl000244 0\n",
      "chrUn_gl000248 0\n",
      "chr8_gl000196_random 0\n",
      "chrUn_gl000249 0\n",
      "chrUn_gl000246 0\n",
      "chr17_gl000203_random 0\n",
      "chr8_gl000197_random 0\n",
      "chrUn_gl000245 0\n",
      "chrUn_gl000247 0\n",
      "chr9_gl000201_random 0\n",
      "chrUn_gl000235 0\n",
      "chrUn_gl000239 0\n",
      "chr21_gl000210_random 0\n",
      "chrUn_gl000231 0\n",
      "chrUn_gl000229 0\n",
      "chrM 0\n",
      "chrUn_gl000226 0\n",
      "chr18_gl000207_random 0\n"
     ]
    }
   ],
   "source": [
    "# pull reference at these positions\n",
    "chrom_to_int = dict([('chr%d' % d, d) for d in range(1, 23)])\n",
    "chrom_to_int['chrX'] = 23\n",
    "\n",
    "chrom = None\n",
    "pos_to_ref = dict()\n",
    "with open('../data/hg19.fa', 'r') as f:\n",
    "    for line in f:\n",
    "        if line.startswith('>'):\n",
    "            if chrom is not None:\n",
    "                for p in pos:\n",
    "                    assert (chrom_to_int[chrom], p) in pos_to_ref\n",
    "            \n",
    "            # pull out data\n",
    "            chrom = line.strip()[1:]\n",
    "            pos = [] if chrom not in chrom_to_int else [x[1] for x in positions if x[0] == chrom_to_int[chrom]]\n",
    "            pos_index = 0\n",
    "            current_pos = 1\n",
    "            print(chrom, len(pos))\n",
    "        else:\n",
    "            line = line.strip()\n",
    "            if pos_index == len(pos):\n",
    "                # we're done with positions for this chromosome\n",
    "                pass\n",
    "            elif current_pos + len(line) <= pos[pos_index]:\n",
    "                # no positions of interest here\n",
    "                pass\n",
    "            else:\n",
    "                while pos_index < len(pos) and pos[pos_index]-current_pos < len(line):\n",
    "                    pos_to_ref[(chrom_to_int[chrom], pos[pos_index])] = line[pos[pos_index]-current_pos]\n",
    "                    pos_index += 1\n",
    "            current_pos += len(line)\n",
    "                \n"
   ]
  },
  {
   "cell_type": "code",
   "execution_count": 51,
   "metadata": {},
   "outputs": [
    {
     "name": "stdout",
     "output_type": "stream",
     "text": [
      "chr1\n",
      "missing individuals 0.8571428571428571\n",
      "missing variants 0.009831460674157303\n",
      "chr2\n",
      "missing individuals 0.8571428571428571\n",
      "missing variants 0.016612145689796964\n",
      "chr3\n",
      "missing individuals 0.8571428571428571\n",
      "missing variants 0.010697911360163017\n",
      "chr4\n",
      "missing individuals 0.8571428571428571\n",
      "missing variants 0.00463842022459719\n",
      "chr5\n",
      "missing individuals 0.8571428571428571\n",
      "missing variants 0.010541780504149698\n",
      "chr6\n",
      "missing individuals 0.8571428571428571\n",
      "missing variants 0.006970571263704558\n",
      "chr7\n",
      "missing individuals 0.8571428571428571\n",
      "missing variants 0.009390620936750556\n",
      "chr8\n",
      "missing individuals 0.8571428571428571\n",
      "missing variants 0.006551609087324457\n",
      "chr9\n",
      "missing individuals 0.8571428571428571\n",
      "missing variants 0.008135570333862202\n",
      "chr10\n",
      "missing individuals 0.8571428571428571\n",
      "missing variants 0.006528570121114128\n",
      "chr11\n",
      "missing individuals 0.8571428571428571\n",
      "missing variants 0.016521551856751686\n",
      "chr12\n",
      "missing individuals 0.8571428571428571\n",
      "missing variants 0.010805626598465474\n",
      "chr13\n",
      "missing individuals 0.8571428571428571\n",
      "missing variants 0.03229475565666003\n",
      "chr14\n",
      "missing individuals 0.8571428571428571\n",
      "missing variants 0.00600927415538942\n",
      "chr15\n",
      "missing individuals 0.8571428571428571\n",
      "missing variants 0.014385455227027787\n",
      "chr16\n",
      "missing individuals 0.8571428571428571\n",
      "missing variants 0.012472141265215154\n",
      "chr17\n",
      "missing individuals 0.8461538461538461\n",
      "missing variants 0.04140704405850899\n",
      "chr18\n",
      "missing individuals 0.8571428571428571\n",
      "missing variants 0.005003423394954442\n",
      "chr19\n",
      "missing individuals 0.8571428571428571\n",
      "missing variants 0.01155047439448406\n",
      "chr20\n",
      "missing individuals 0.8571428571428571\n",
      "missing variants 0.0041489185152403605\n",
      "chr21\n",
      "missing individuals 0.8571428571428571\n",
      "missing variants 0.005506391347099311\n",
      "chr22\n",
      "missing individuals 0.8571428571428571\n",
      "missing variants 0.008465319497542327\n",
      "chrX\n",
      "missing individuals 0.8461538461538461\n",
      "missing variants 0.02827865596949718\n"
     ]
    }
   ],
   "source": [
    "ns = {'A', 'C', 'G', 'T'}\n",
    "def find_genotype(ref, allele1, allele2):\n",
    "    if allele1 in ns and allele2 in ns and ref in ns:\n",
    "        return (allele1 == ref) + (allele2 == ref)\n",
    "    return -1\n",
    "\n",
    "for chrom, chrom_int in chrom_to_int.items():\n",
    "    print(chrom)\n",
    "    poss = [x[1] for x in positions if x[0] == chrom_int]\n",
    "    pos_to_index = dict([(x, i) for i, x in enumerate(poss)])\n",
    "    coordinates = np.zeros((len(poss), 4), dtype=int)\n",
    "    coordinates[:, 0] = chrom_int\n",
    "    coordinates[:, 1] = poss\n",
    "    coordinates[:, 2:] = 1\n",
    "    \n",
    "    \n",
    "    gen = -np.ones((len(individuals), len(poss)), dtype=np.int8)\n",
    "    for i, individual in enumerate(individuals):\n",
    "        try:\n",
    "            with open('../data/Ancestry Data files/%s.txt' % individual, 'r') as f:\n",
    "                line = next(f)\n",
    "                while line.startswith('#'):\n",
    "                    line = next(f)\n",
    "                for line in f:\n",
    "                    pieces = line.strip().split('\\t')\n",
    "                    pos = int(pieces[2])\n",
    "                    if int(pieces[1]) == chrom_int and pos in pos_to_index:\n",
    "                        ref = pos_to_ref[(chrom_int, pos)].upper()\n",
    "                        gen[i, pos_to_index[pos]] = find_genotype(ref, pieces[3], pieces[4])\n",
    "        except FileNotFoundError:\n",
    "            pass\n",
    "\n",
    "    # throw out individuals where more than 10% of variants are missing\n",
    "    ind_indices = np.sum(gen==-1, axis=1)/len(poss) < 0.1\n",
    "    individuals = [ind for ind, include in zip(individuals, ind_indices)]\n",
    "    gen = gen[ind_indices, :]\n",
    "    print('missing individuals', np.sum(~ind_indices)/len(individuals))\n",
    "\n",
    "    # throw out sites where more than 10% of individuals are missing\n",
    "    coordinates[np.sum(gen==-1, axis=0)/len(individuals) >= 0.1, 3] = 0\n",
    "    print('missing variants', np.sum(coordinates[:, 3]==0)/len(poss))\n",
    "    \n",
    "\n",
    "    save_npz('../split_gen_ancestry/chr.%s.gen' % (str(chrom_int) if chrom_int < 23 else 'X'), csc_matrix(gen))\n",
    "    np.save('../split_gen_ancestry/chr.%s.gen.coordinates' % (str(chrom_int) if chrom_int < 23 else 'X'), coordinates)\n",
    "    \n",
    "    with open('../split_gen_ancestry/chr.%s.gen.samples.txt' % (str(chrom_int) if chrom_int < 23 else 'X'), 'w+') as f:\n",
    "        for individual, include in zip(individuals, ind_indices):\n",
    "            if include:\n",
    "                f.write(individual + '\\n')\n",
    "            \n",
    "    "
   ]
  },
  {
   "cell_type": "code",
   "execution_count": 45,
   "metadata": {},
   "outputs": [
    {
     "name": "stdout",
     "output_type": "stream",
     "text": [
      "missing variants 1.0\n",
      "missing individuals 1.0\n"
     ]
    }
   ],
   "source": [
    "coordinates[np.sum(gen==-1, axis=0)/len(individuals) >= 0.1, 3] = 0\n",
    "print('missing variants', np.sum(coordinates[:, 3]==0)/coordinates.shape[0])\n",
    "    \n",
    "# throw out individuals where more than 10% of variants are missing\n",
    "ind_indices = np.sum(gen==-1, axis=1)/len(poss) < 0.1\n",
    "print('missing individuals', np.sum(coordinates[:, 3]==0)/coordinates.shape[0])\n"
   ]
  },
  {
   "cell_type": "code",
   "execution_count": 49,
   "metadata": {},
   "outputs": [
    {
     "name": "stdout",
     "output_type": "stream",
     "text": [
      "(54719,)\n"
     ]
    }
   ],
   "source": [
    "print(np.sum(gen==-1, axis=0)/len(individuals))"
   ]
  },
  {
   "cell_type": "code",
   "execution_count": 50,
   "metadata": {},
   "outputs": [
    {
     "name": "stdout",
     "output_type": "stream",
     "text": [
      "[0.01794623 0.01712385 0.02236883 0.01719695 0.0169411  0.01805589\n",
      " 0.01666697 0.0167949  1.         1.         0.01699592 1.\n",
      " 1.         0.0167949  0.01697765 1.         0.01684972 0.02618834\n",
      " 0.01734315 0.01688627 0.02657212 0.01688627 0.06933606 1.\n",
      " 0.01869552 1.         0.01681317 1.         0.01805589 0.01860414\n",
      " 0.01781831 0.01776348 0.01688627 0.01692282 0.01732488 0.01807416\n",
      " 1.         0.01761728 0.019591   0.01748935 0.01743453 0.0170873\n",
      " 0.0167949  0.01695937 0.0170142  0.02001133 0.02140024 0.01743453\n",
      " 0.01727005 1.         1.         0.016868   0.01697765 0.01772693\n",
      " 0.01666697 0.01913412 0.01706903 0.01725178 0.01728833 0.01703248\n",
      " 0.01725178 0.0293134  1.         0.01732488 0.01758073 0.02713865\n",
      " 0.01666697 0.02083371 0.02352017 0.01792796 0.0173797  0.01732488\n",
      " 0.01721523 0.01725178 0.01721523 0.01725178 0.02024891 0.01752591\n",
      " 0.01759901 0.01774521 0.0169411  0.01721523 0.0166487  0.01759901\n",
      " 1.         0.0174528  0.01681317 0.02103474 0.0190793  0.01747108\n",
      " 1.        ]\n"
     ]
    }
   ],
   "source": [
    "print(np.sum(gen==-1, axis=1)/len(poss))"
   ]
  },
  {
   "cell_type": "code",
   "execution_count": null,
   "metadata": {},
   "outputs": [],
   "source": []
  }
 ],
 "metadata": {
  "kernelspec": {
   "display_name": "Python 3",
   "language": "python",
   "name": "python3"
  },
  "language_info": {
   "codemirror_mode": {
    "name": "ipython",
    "version": 3
   },
   "file_extension": ".py",
   "mimetype": "text/x-python",
   "name": "python",
   "nbconvert_exporter": "python",
   "pygments_lexer": "ipython3",
   "version": "3.7.3"
  }
 },
 "nbformat": 4,
 "nbformat_minor": 2
}
