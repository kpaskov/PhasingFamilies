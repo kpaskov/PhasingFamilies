{
 "cells": [
  {
   "cell_type": "code",
   "execution_count": 7,
   "metadata": {},
   "outputs": [],
   "source": [
    "import numpy as np\n",
    "from collections import Counter, defaultdict\n",
    "from scipy.sparse import csc_matrix, save_npz, load_npz\n",
    "from itertools import combinations\n",
    "import matplotlib.pyplot as plt\n",
    "import json\n",
    "import random\n",
    "from os import listdir, path"
   ]
  },
  {
   "cell_type": "code",
   "execution_count": 8,
   "metadata": {},
   "outputs": [
    {
     "name": "stdout",
     "output_type": "stream",
     "text": [
      "individuals 481\n",
      "multiples {'1180_ASD_1', 'CDI076_ASD_1', 'ARI079_ASD_1'}\n"
     ]
    }
   ],
   "source": [
    "# read .ped\n",
    "individuals = set()\n",
    "multiples = set()\n",
    "with open('../../DATA/ancestry/ancestry.ped', 'r') as f:\n",
    "    next(f) # skip header\n",
    "    for line in f:\n",
    "        pieces = line.strip().split()\n",
    "        \n",
    "        if pieces[1] in individuals:\n",
    "            multiples.add(pieces[1])\n",
    "        individuals.add(pieces[1])\n",
    "        individuals.add(pieces[2])\n",
    "        individuals.add(pieces[3])\n",
    "        \n",
    "        \n",
    "individuals = sorted(individuals)\n",
    "individual_to_index = dict([(x, i) for i, x in enumerate(individuals)])\n",
    "print('individuals', len(individuals))\n",
    "print('multiples', multiples)"
   ]
  },
  {
   "cell_type": "code",
   "execution_count": 19,
   "metadata": {},
   "outputs": [
    {
     "name": "stdout",
     "output_type": "stream",
     "text": [
      "missing from .ped\n",
      "['CDI315_NT_2.txt', '1410_NT_1.txt', 'CDI315_NT_1.txt', 'CDI251_ASD_1.txt', '0783_NT_1.txt', '700000_ASD_1.txt', 'CDI329_ASD_1.txt', '1179_NT_1.txt', 'CDI329_NT_1.txt', 'CWR007_ASD_1.txt', '1369_NT_1.txt', 'CDI185_ASD_1.txt', 'CDI026_ASD_1.txt', '1179_NT_2.txt', '1369_ASD_1.txt', '1369_NT_2.txt', 'CWI041_NT_1.txt', 'ARI155_NT_1.txt', '1410_ASD_1.txt', '041_NT_1.txt', 'CDI026_NT_1.txt', 'CDI026_NT_3.txt', '041_NT_3.txt', '0783_ASD_1.txt', 'CDI076_ASD_2.txt', 'ARI155_NT_2.txt', '1012_ASD_2.txt', '1180_NT_1.txt', '041_NT_2.txt', 'CDI185_NT_1.txt', 'ARI155_ASD_1.txt', 'CDI315_ASD_1.txt', '041_ASD_1.txt', 'CDI185_NT_2.txt', 'CDI364_ASD_2.txt', 'CWR007_NT_1.txt', 'CWI041_ASD_1.txt', 'CDI251_NT_1.txt', 'ARI079_NT_1.txt', '700000_NT_1.txt', '1179_ASD_1.txt', 'CDI364_ASD_1.txt', 'CWR007_NT_2.txt']\n"
     ]
    }
   ],
   "source": [
    "print('missing from .ped')\n",
    "\n",
    "missing_from_ped = []\n",
    "for filename in listdir('../data/Ancestry Data files'):\n",
    "    if filename.endswith('txt') and filename[:-4] not in individuals and filename != 'ancestry.ped.txt':\n",
    "        try:\n",
    "            if 'NT' in filename:\n",
    "                fam, phen, num = filename.split('_')\n",
    "                #f.write('\\t'.join(['FAM_%s' % fam, \n",
    "                #                   '_'.join([fam, phen, num]), \n",
    "                #                   '%s_DAD' % fam,\n",
    "                #                   '%s_MOM' % fam,\n",
    "                #                   '*',\n",
    "                #                   '1']) + '\\n')\n",
    "                #print(filename, 'adding %s to ped' % '_'.join([fam, phen, num]))\n",
    "                missing_from_ped.append(filename)\n",
    "            elif 'ASD' in filename:\n",
    "                fam, phen, num = filename.split('_')\n",
    "                #f.write('\\t'.join(['FAM_%s' % fam, \n",
    "                #                   '_'.join([fam, phen, num]), \n",
    "                #                   '%s_DAD' % fam,\n",
    "                #                   '%s_MOM' % fam,\n",
    "                #                   '*',\n",
    "                #                   '2']) + '\\n')\n",
    "                #print(filename, 'adding %s to ped' % '_'.join([fam, phen, num]))\n",
    "                missing_from_ped.append(filename)\n",
    "                \n",
    "        except ValueError:\n",
    "            print(filename)\n",
    "print(missing_from_ped)"
   ]
  },
  {
   "cell_type": "code",
   "execution_count": 20,
   "metadata": {},
   "outputs": [
    {
     "name": "stdout",
     "output_type": "stream",
     "text": [
      "ERROR FAM_ARI022\tARI022_ASD_1\tARI022_DAD\tARI022_MOM\t1\t1\n",
      "\n",
      "ERROR FAM_1180\t1180_ASD_1\t1180_DAD\t1180_MOM\t2\t1\n",
      "\n",
      "ERROR FAM_ARI079\tARI079_ASD_1\tARI079_DAD\tARI079_MOM\t2\t1\n",
      "\n"
     ]
    }
   ],
   "source": [
    "# check that everything matches\n",
    "with open('../../DATA/ancestry/ancestry.ped', 'r') as f:\n",
    "    next(f) # skip header\n",
    "    for line in f:\n",
    "        pieces = line.strip().split()\n",
    "        #print(pieces)\n",
    "        fam, phen, num = pieces[1].split('_')\n",
    "        try:\n",
    "            assert pieces[0][4:] == fam\n",
    "            assert pieces[2] == '%s_DAD' % fam\n",
    "            assert pieces[3] == '%s_MOM' % fam\n",
    "            if phen == 'ASD':\n",
    "                assert pieces[5] == '2'\n",
    "            elif phen == 'NT':\n",
    "                assert pieces[5] == '1'\n",
    "        except AssertionError:\n",
    "            print('ERROR', line)"
   ]
  },
  {
   "cell_type": "code",
   "execution_count": 22,
   "metadata": {},
   "outputs": [
    {
     "name": "stdout",
     "output_type": "stream",
     "text": [
      "missing data 1625_DAD\n",
      "missing data CDI076_DAD\n"
     ]
    }
   ],
   "source": [
    "# see if we're missing data for anyone\n",
    "for ind in individuals:\n",
    "    if not path.isfile('../data/Ancestry Data files/%s.txt' % ind):\n",
    "        print('missing data', ind)"
   ]
  },
  {
   "cell_type": "code",
   "execution_count": 23,
   "metadata": {},
   "outputs": [
    {
     "name": "stdout",
     "output_type": "stream",
     "text": [
      "positions 676594\n"
     ]
    }
   ],
   "source": [
    "# pull positions\n",
    "positions = []\n",
    "with open('../data/Ancestry Data files/%s.txt' % individuals[0], 'r') as f:\n",
    "    line = next(f)\n",
    "    while line.startswith('#'):\n",
    "        line = next(f)\n",
    "    for line in f:\n",
    "        pieces = line.strip().split('\\t')\n",
    "        positions.append((int(pieces[1]), int(pieces[2])))\n",
    "        \n",
    "# remove positions that occur multiple times (CNV probes)\n",
    "positions = sorted([k for k, v in Counter(positions).items() if v==1])\n",
    "print('positions', len(positions))\n",
    "\n"
   ]
  },
  {
   "cell_type": "code",
   "execution_count": 24,
   "metadata": {},
   "outputs": [],
   "source": [
    "positions_set = set(positions)"
   ]
  },
  {
   "cell_type": "code",
   "execution_count": 25,
   "metadata": {},
   "outputs": [
    {
     "name": "stdout",
     "output_type": "stream",
     "text": [
      "chr1 50552\n",
      "chr2 54719\n",
      "chr3 43186\n",
      "chr4 36866\n"
     ]
    },
    {
     "ename": "KeyboardInterrupt",
     "evalue": "",
     "output_type": "error",
     "traceback": [
      "\u001b[0;31m---------------------------------------------------------------------------\u001b[0m",
      "\u001b[0;31mKeyboardInterrupt\u001b[0m                         Traceback (most recent call last)",
      "\u001b[0;32m<ipython-input-25-c0bb8fce3dba>\u001b[0m in \u001b[0;36m<module>\u001b[0;34m\u001b[0m\n\u001b[1;32m      6\u001b[0m \u001b[0mpos_to_ref\u001b[0m \u001b[0;34m=\u001b[0m \u001b[0mdict\u001b[0m\u001b[0;34m(\u001b[0m\u001b[0;34m)\u001b[0m\u001b[0;34m\u001b[0m\u001b[0;34m\u001b[0m\u001b[0m\n\u001b[1;32m      7\u001b[0m \u001b[0;32mwith\u001b[0m \u001b[0mopen\u001b[0m\u001b[0;34m(\u001b[0m\u001b[0;34m'../data/hg19.fa'\u001b[0m\u001b[0;34m,\u001b[0m \u001b[0;34m'r'\u001b[0m\u001b[0;34m)\u001b[0m \u001b[0;32mas\u001b[0m \u001b[0mf\u001b[0m\u001b[0;34m:\u001b[0m\u001b[0;34m\u001b[0m\u001b[0;34m\u001b[0m\u001b[0m\n\u001b[0;32m----> 8\u001b[0;31m     \u001b[0;32mfor\u001b[0m \u001b[0mline\u001b[0m \u001b[0;32min\u001b[0m \u001b[0mf\u001b[0m\u001b[0;34m:\u001b[0m\u001b[0;34m\u001b[0m\u001b[0;34m\u001b[0m\u001b[0m\n\u001b[0m\u001b[1;32m      9\u001b[0m         \u001b[0;32mif\u001b[0m \u001b[0mline\u001b[0m\u001b[0;34m.\u001b[0m\u001b[0mstartswith\u001b[0m\u001b[0;34m(\u001b[0m\u001b[0;34m'>'\u001b[0m\u001b[0;34m)\u001b[0m\u001b[0;34m:\u001b[0m\u001b[0;34m\u001b[0m\u001b[0;34m\u001b[0m\u001b[0m\n\u001b[1;32m     10\u001b[0m             \u001b[0;32mif\u001b[0m \u001b[0mchrom\u001b[0m \u001b[0;32mis\u001b[0m \u001b[0;32mnot\u001b[0m \u001b[0;32mNone\u001b[0m\u001b[0;34m:\u001b[0m\u001b[0;34m\u001b[0m\u001b[0;34m\u001b[0m\u001b[0m\n",
      "\u001b[0;32m//anaconda3/lib/python3.7/codecs.py\u001b[0m in \u001b[0;36mdecode\u001b[0;34m(self, input, final)\u001b[0m\n\u001b[1;32m    320\u001b[0m         \u001b[0;31m# decode input (taking the buffer into account)\u001b[0m\u001b[0;34m\u001b[0m\u001b[0;34m\u001b[0m\u001b[0;34m\u001b[0m\u001b[0m\n\u001b[1;32m    321\u001b[0m         \u001b[0mdata\u001b[0m \u001b[0;34m=\u001b[0m \u001b[0mself\u001b[0m\u001b[0;34m.\u001b[0m\u001b[0mbuffer\u001b[0m \u001b[0;34m+\u001b[0m \u001b[0minput\u001b[0m\u001b[0;34m\u001b[0m\u001b[0;34m\u001b[0m\u001b[0m\n\u001b[0;32m--> 322\u001b[0;31m         \u001b[0;34m(\u001b[0m\u001b[0mresult\u001b[0m\u001b[0;34m,\u001b[0m \u001b[0mconsumed\u001b[0m\u001b[0;34m)\u001b[0m \u001b[0;34m=\u001b[0m \u001b[0mself\u001b[0m\u001b[0;34m.\u001b[0m\u001b[0m_buffer_decode\u001b[0m\u001b[0;34m(\u001b[0m\u001b[0mdata\u001b[0m\u001b[0;34m,\u001b[0m \u001b[0mself\u001b[0m\u001b[0;34m.\u001b[0m\u001b[0merrors\u001b[0m\u001b[0;34m,\u001b[0m \u001b[0mfinal\u001b[0m\u001b[0;34m)\u001b[0m\u001b[0;34m\u001b[0m\u001b[0;34m\u001b[0m\u001b[0m\n\u001b[0m\u001b[1;32m    323\u001b[0m         \u001b[0;31m# keep undecoded input until the next call\u001b[0m\u001b[0;34m\u001b[0m\u001b[0;34m\u001b[0m\u001b[0;34m\u001b[0m\u001b[0m\n\u001b[1;32m    324\u001b[0m         \u001b[0mself\u001b[0m\u001b[0;34m.\u001b[0m\u001b[0mbuffer\u001b[0m \u001b[0;34m=\u001b[0m \u001b[0mdata\u001b[0m\u001b[0;34m[\u001b[0m\u001b[0mconsumed\u001b[0m\u001b[0;34m:\u001b[0m\u001b[0;34m]\u001b[0m\u001b[0;34m\u001b[0m\u001b[0;34m\u001b[0m\u001b[0m\n",
      "\u001b[0;31mKeyboardInterrupt\u001b[0m: "
     ]
    }
   ],
   "source": [
    "# pull reference at these positions\n",
    "chrom_to_int = dict([('chr%d' % d, d) for d in range(1, 23)])\n",
    "chrom_to_int['chrX'] = 23\n",
    "\n",
    "chrom = None\n",
    "pos_to_ref = dict()\n",
    "with open('../data/hg19.fa', 'r') as f:\n",
    "    for line in f:\n",
    "        if line.startswith('>'):\n",
    "            if chrom is not None:\n",
    "                for p in pos:\n",
    "                    assert (chrom_to_int[chrom], p) in pos_to_ref\n",
    "            \n",
    "            # pull out data\n",
    "            chrom = line.strip()[1:]\n",
    "            pos = [] if chrom not in chrom_to_int else [x[1] for x in positions if x[0] == chrom_to_int[chrom]]\n",
    "            pos_index = 0\n",
    "            current_pos = 1\n",
    "            print(chrom, len(pos))\n",
    "        else:\n",
    "            line = line.strip()\n",
    "            if pos_index == len(pos):\n",
    "                # we're done with positions for this chromosome\n",
    "                pass\n",
    "            elif current_pos + len(line) <= pos[pos_index]:\n",
    "                # no positions of interest here\n",
    "                pass\n",
    "            else:\n",
    "                while pos_index < len(pos) and pos[pos_index]-current_pos < len(line):\n",
    "                    pos_to_ref[(chrom_to_int[chrom], pos[pos_index])] = line[pos[pos_index]-current_pos]\n",
    "                    pos_index += 1\n",
    "            current_pos += len(line)\n",
    "                \n"
   ]
  },
  {
   "cell_type": "code",
   "execution_count": null,
   "metadata": {},
   "outputs": [],
   "source": [
    "print(len(individuals))"
   ]
  },
  {
   "cell_type": "code",
   "execution_count": null,
   "metadata": {},
   "outputs": [],
   "source": [
    "ns = {'A', 'C', 'G', 'T'}\n",
    "def find_genotype(ref, allele1, allele2):\n",
    "    if allele1 in ns and allele2 in ns and ref in ns:\n",
    "        return (allele1 != ref) + (allele2 != ref)\n",
    "    return -1\n",
    "\n",
    "def pull_ancestry_data(individual):\n",
    "    chroms, positions, genotypes = [], [], []\n",
    "    try:\n",
    "        with open('../data/Ancestry Data files/%s.txt' % individual, 'r') as f:\n",
    "            line = next(f)\n",
    "            while line.startswith('#'):\n",
    "                line = next(f)\n",
    "            assert line == 'rsid\\tchromosome\\tposition\\tallele1\\tallele2\\n'\n",
    "            for line in f:\n",
    "                pieces = line.strip().split('\\t')\n",
    "                if len(pieces) >= 5:\n",
    "                    chrom_int = int(pieces[1])\n",
    "                    pos = int(pieces[2])\n",
    "                    if (chrom_int, pos) in positions_set and (chrom_int, pos) in pos_to_ref:\n",
    "                        ref = pos_to_ref[(chrom_int, pos)].upper()\n",
    "                        genotype = find_genotype(ref, pieces[3], pieces[4])\n",
    "\n",
    "                        chroms.append(chrom_int)\n",
    "                        positions.append(pos)\n",
    "                        genotypes.append(genotype)\n",
    "                elif len(pieces) < 5:\n",
    "                    print(pieces)\n",
    "    except FileNotFoundError:\n",
    "        print('File not found', individual)\n",
    "    return np.array(chroms), np.array(positions), np.array(genotypes)\n",
    "    "
   ]
  },
  {
   "cell_type": "code",
   "execution_count": null,
   "metadata": {},
   "outputs": [],
   "source": [
    "ancestry_data = dict()\n",
    "for ind in individuals:\n",
    "    print(ind, end=' ')\n",
    "    ancestry_data[ind] = pull_ancestry_data(ind)"
   ]
  },
  {
   "cell_type": "code",
   "execution_count": null,
   "metadata": {},
   "outputs": [],
   "source": [
    "print(positions[:1])"
   ]
  },
  {
   "cell_type": "code",
   "execution_count": null,
   "metadata": {},
   "outputs": [],
   "source": [
    "for chrom, chrom_int in chrom_to_int.items():\n",
    "    print(chrom)\n",
    "    poss = [x[1] for x in positions if x[0] == chrom_int]\n",
    "    pos_to_index = dict([(x, i) for i, x in enumerate(poss)])\n",
    "    coordinates = np.zeros((len(poss), 4), dtype=int)\n",
    "    coordinates[:, 0] = chrom_int\n",
    "    coordinates[:, 1] = poss\n",
    "    coordinates[:, 2:] = 1\n",
    "\n",
    "\n",
    "    gen = -np.ones((len(individuals), len(poss)), dtype=np.int8)\n",
    "    for i, individual in enumerate(individuals):\n",
    "        if i%100==0:\n",
    "            print(i, end=' ')\n",
    "        ind_chroms, ind_positions, ind_genotypes = ancestry_data[individual]\n",
    "        to_include = (ind_chroms == chrom_int)\n",
    "        ind_positions = ind_positions[to_include]\n",
    "        ind_genotypes = ind_genotypes[to_include]\n",
    "        to_include = np.array([(x in pos_to_index) for x in ind_positions])\n",
    "        if np.sum(to_include)>0:\n",
    "            gen[i, np.array([pos_to_index[x] for x in ind_positions if x in pos_to_index])] = ind_genotypes[to_include]\n",
    "\n",
    "    # throw out individuals where more than 10% of variants are missing\n",
    "    #ind_indices = np.sum(gen==-1, axis=1)/len(poss) < 0.1\n",
    "    #individuals = [ind for ind, include in zip(individuals, ind_indices)]\n",
    "    #gen = gen[ind_indices, :]\n",
    "    #print('missing individuals', np.sum(~ind_indices)/len(individuals))\n",
    "    \n",
    "    if chrom != 'chrX':\n",
    "        # throw out sites where more than 10% of individuals are missing\n",
    "        coordinates[np.sum(gen==-1, axis=0)/len(individuals) >= 0.1, 3] = 0\n",
    "        print('missing variants', np.sum(coordinates[:, 3]==0)/len(poss))\n",
    "\n",
    "\n",
    "    save_npz('../../DATA/ancestry/genotypes/chr.%s.0.gen' % (str(chrom_int) if chrom_int < 23 else 'X'), csc_matrix(gen))\n",
    "    np.save('../../DATA/ancestry/genotypes/chr.%s.0.gen.coordinates' % (str(chrom_int) if chrom_int < 23 else 'X'), coordinates)\n"
   ]
  },
  {
   "cell_type": "code",
   "execution_count": 199,
   "metadata": {},
   "outputs": [],
   "source": [
    "from itertools import compress\n",
    "import json\n",
    "\n",
    "with open('../../DATA/ancestry/genotypes/samples.json', 'w+') as f:\n",
    "    json.dump(individuals, f)\n",
    "    \n",
    "with open('../../DATA/ancestry/genotypes/info.json', 'w+') as f:\n",
    "    json.dump({\n",
    "                    \"assembly\": \"37\",\n",
    "                    \"vcf_directory\": \"Ancestry Data files\",\n",
    "                    \"batch_size\": -1\n",
    "              }, f)\n"
   ]
  },
  {
   "cell_type": "code",
   "execution_count": 200,
   "metadata": {},
   "outputs": [
    {
     "name": "stdout",
     "output_type": "stream",
     "text": [
      "457 (457, 25178)\n"
     ]
    }
   ],
   "source": [
    "print(len(individuals), gen.shape)"
   ]
  },
  {
   "cell_type": "markdown",
   "metadata": {},
   "source": [
    "# Pull data"
   ]
  },
  {
   "cell_type": "code",
   "execution_count": 213,
   "metadata": {},
   "outputs": [
    {
     "name": "stdout",
     "output_type": "stream",
     "text": [
      "457 (457, 674629) (674629, 4) (674629,)\n"
     ]
    }
   ],
   "source": [
    "chroms = [str(x) for x in range(1, 23)] + ['X']\n",
    "all_coords = []\n",
    "all_gens = []\n",
    "all_afs = []\n",
    "\n",
    "for chrom in chroms:\n",
    "    all_gens.append(load_npz('../../DATA/ancestry/genotypes/chr.%s.0.gen.npz' % chrom).A)\n",
    "    all_coords.append(np.load('../../DATA/ancestry/genotypes/chr.%s.0.gen.coordinates.npy' % chrom))\n",
    "    all_afs.append(np.load('../../DATA/ancestry/genotypes/chr.%s.0.gen.af.npy' % chrom))\n",
    "\n",
    "coordinates = np.vstack(all_coords)\n",
    "gen = np.hstack(all_gens)\n",
    "afs = np.hstack(all_afs)\n",
    "\n",
    "with open('../../DATA/ancestry/genotypes/samples.json', 'r') as f:\n",
    "    individuals = json.load(f)\n",
    "    \n",
    "print(len(individuals), gen.shape, coordinates.shape, afs.shape)\n",
    "                      \n",
    "individual_to_index = dict([(x, i) for i, x in enumerate(individuals)])"
   ]
  },
  {
   "cell_type": "markdown",
   "metadata": {},
   "source": [
    "# Check sex"
   ]
  },
  {
   "cell_type": "code",
   "execution_count": 202,
   "metadata": {},
   "outputs": [],
   "source": [
    "parents_to_children = defaultdict(list)\n",
    "individual_to_sex = dict()\n",
    "with open('../../DATA/ancestry/ancestry.ped', 'r') as f:\n",
    "    for line in f:\n",
    "        pieces = line.strip().split()\n",
    "        parents_to_children[(pieces[3], pieces[2])].append(pieces[1])\n",
    "        individual_to_sex[pieces[1]] = pieces[4]\n",
    "        individual_to_sex[pieces[2]] = '1'\n",
    "        individual_to_sex[pieces[3]] = '2'"
   ]
  },
  {
   "cell_type": "code",
   "execution_count": 203,
   "metadata": {},
   "outputs": [
    {
     "data": {
      "image/png": "[encoded data removed]",
      "text/plain": [
       "<Figure size 432x288 with 1 Axes>"
      ]
     },
     "metadata": {
      "needs_background": "light"
     },
     "output_type": "display_data"
    }
   ],
   "source": [
    "num_X_hets = np.sum(gen[:, coordinates[:, 0]==23]==1, axis=1)\n",
    "num_X_homalts = np.sum(gen[:, coordinates[:, 0]==23]==2, axis=1)\n",
    "plt.scatter(num_X_hets[[i for i, x in enumerate(individuals) if individual_to_sex[x]=='1']],\n",
    "            num_X_homalts[[i for i, x in enumerate(individuals) if individual_to_sex[x]=='1']],\n",
    "            label='male', alpha=0.5)\n",
    "plt.scatter(num_X_hets[[i for i, x in enumerate(individuals) if individual_to_sex[x]=='2']],\n",
    "            num_X_homalts[[i for i, x in enumerate(individuals) if individual_to_sex[x]=='2']],\n",
    "            label='female', alpha=0.5)\n",
    "plt.xlabel('X-hets')\n",
    "plt.ylabel('X-homalts')\n",
    "plt.show()"
   ]
  },
  {
   "cell_type": "markdown",
   "metadata": {},
   "source": [
    "# Check relationships"
   ]
  },
  {
   "cell_type": "code",
   "execution_count": 204,
   "metadata": {},
   "outputs": [],
   "source": [
    "moms, dads, childs = [], [], []\n",
    "mom_indices, dad_indices, child_indices = [], [], []\n",
    "for (mom, dad), children in parents_to_children.items():\n",
    "    for child in children:\n",
    "        if mom in individual_to_index and dad in individual_to_index and child in individual_to_index:\n",
    "            mom_indices.append(individual_to_index[mom])\n",
    "            dad_indices.append(individual_to_index[dad])\n",
    "            child_indices.append(individual_to_index[child])\n",
    "            \n",
    "            moms.append(mom)\n",
    "            dads.append(dad)\n",
    "            childs.append(child)\n"
   ]
  },
  {
   "cell_type": "code",
   "execution_count": 205,
   "metadata": {},
   "outputs": [
    {
     "name": "stdout",
     "output_type": "stream",
     "text": [
      "(457, 649451)\n"
     ]
    },
    {
     "name": "stderr",
     "output_type": "stream",
     "text": [
      "//anaconda3/lib/python3.7/site-packages/ipykernel/__main__.py:10: RuntimeWarning: invalid value encountered in true_divide\n"
     ]
    },
    {
     "data": {
      "image/png": "[encoded data removed]",
      "text/plain": [
       "<Figure size 432x288 with 1 Axes>"
      ]
     },
     "metadata": {
      "needs_background": "light"
     },
     "output_type": "display_data"
    }
   ],
   "source": [
    "autosomal_gen = gen[:, coordinates[:, 0]<23]\n",
    "print(autosomal_gen.shape)\n",
    "\n",
    "num_mom_errors = np.sum((autosomal_gen[mom_indices, :]==0) & (autosomal_gen[child_indices, :]==2), axis=1)\n",
    "num_mom_errors += np.sum((autosomal_gen[mom_indices, :]==2) & (autosomal_gen[child_indices, :]==0), axis=1)\n",
    "num_mom_errors = num_mom_errors/np.sum((autosomal_gen[mom_indices, :]>=0) & (autosomal_gen[child_indices, :]>=0), axis=1)\n",
    "\n",
    "num_dad_errors = np.sum((autosomal_gen[dad_indices, :]==0) & (autosomal_gen[child_indices, :]==2), axis=1)\n",
    "num_dad_errors += np.sum((autosomal_gen[dad_indices, :]==2) & (autosomal_gen[child_indices, :]==0), axis=1)\n",
    "num_dad_errors = num_dad_errors/np.sum((autosomal_gen[dad_indices, :]>=0) & (autosomal_gen[child_indices, :]>=0), axis=1)\n",
    "\n",
    "plt.scatter(num_mom_errors, num_dad_errors)\n",
    "plt.show()"
   ]
  },
  {
   "cell_type": "code",
   "execution_count": 206,
   "metadata": {},
   "outputs": [
    {
     "name": "stderr",
     "output_type": "stream",
     "text": [
      "//anaconda3/lib/python3.7/site-packages/ipykernel/__main__.py:14: RuntimeWarning: invalid value encountered in long_scalars\n"
     ]
    }
   ],
   "source": [
    "num_sib_errors = []\n",
    "num_unrelated_errors = []\n",
    "for (mom, dad), children in parents_to_children.items():\n",
    "    for child1, child2 in combinations(children, 2):\n",
    "        if child1 in individual_to_index and child2 in individual_to_index:\n",
    "            child1_index, child2_index = individual_to_index[child1], individual_to_index[child2]\n",
    "            num_sib_err = np.sum((autosomal_gen[child1_index, :]==0) & (autosomal_gen[child2_index, :]==2))\n",
    "            num_sib_err += np.sum((autosomal_gen[child1_index, :]==2) & (autosomal_gen[child2_index, :]==0))\n",
    "            num_sib_errors.append(num_sib_err/np.sum((autosomal_gen[child1_index, :]>=0) & (autosomal_gen[child2_index, :]>=0)))\n",
    "    if mom in individual_to_index and dad in individual_to_index:\n",
    "        mom_index, dad_index = individual_to_index[mom], individual_to_index[dad]\n",
    "        num_unrel_err = np.sum((autosomal_gen[mom_index, :]==0) & (autosomal_gen[dad_index, :]==2))\n",
    "        num_unrel_err += np.sum((autosomal_gen[mom_index, :]==2) & (autosomal_gen[dad_index, :]==0))\n",
    "        num_unrelated_errors.append(num_unrel_err/np.sum((autosomal_gen[mom_index, :]>=0) & (autosomal_gen[dad_index, :]>=0)))\n",
    "\n",
    "num_sib_errors = np.array(num_sib_errors)\n",
    "num_unrelated_errors = np.array(num_unrelated_errors)\n"
   ]
  },
  {
   "cell_type": "code",
   "execution_count": 207,
   "metadata": {},
   "outputs": [
    {
     "data": {
      "image/png": "[encoded data removed]",
      "text/plain": [
       "<Figure size 1080x360 with 1 Axes>"
      ]
     },
     "metadata": {
      "needs_background": "light"
     },
     "output_type": "display_data"
    }
   ],
   "source": [
    "plt.figure(figsize=(15, 5))\n",
    "\n",
    "plt.hist(np.clip(num_sib_errors, 0, 0.07), alpha=0.5, bins=np.arange(0, 0.071, 0.001), density=True)\n",
    "plt.hist(np.clip(num_unrelated_errors, 0, 0.07), alpha=0.5, bins=np.arange(0, 0.071, 0.001), density=True)\n",
    "plt.hist(np.clip(num_mom_errors, 0, 0.07), bins=np.arange(0, 0.071, 0.001), density=True)\n",
    "plt.hist(np.clip(num_dad_errors, 0, 0.07), bins=np.arange(0, 0.071, 0.001), density=True)\n",
    "plt.show()"
   ]
  },
  {
   "cell_type": "code",
   "execution_count": 208,
   "metadata": {},
   "outputs": [
    {
     "name": "stdout",
     "output_type": "stream",
     "text": [
      "moms\n",
      "['CDI315_MOM']\n",
      "['CDI315_NT_2']\n",
      "dads\n",
      "['1152_DAD', '1461_DAD', '1672_DAD', '1410_DAD']\n",
      "['1152_NT_1', '1461_ASD_2', '1672_ASD_1', '1410_ASD_1']\n"
     ]
    },
    {
     "name": "stderr",
     "output_type": "stream",
     "text": [
      "//anaconda3/lib/python3.7/site-packages/ipykernel/__main__.py:6: RuntimeWarning: invalid value encountered in greater\n",
      "//anaconda3/lib/python3.7/site-packages/ipykernel/__main__.py:7: RuntimeWarning: invalid value encountered in greater\n"
     ]
    }
   ],
   "source": [
    "print('moms')\n",
    "print([moms[i] for i in np.where(num_mom_errors>0.01)[0]])\n",
    "print([childs[i] for i in np.where(num_mom_errors>0.01)[0]])\n",
    "\n",
    "print('dads')\n",
    "print([dads[i] for i in np.where(num_dad_errors>0.01)[0]])\n",
    "print([childs[i] for i in np.where(num_dad_errors>0.01)[0]])"
   ]
  },
  {
   "cell_type": "code",
   "execution_count": 209,
   "metadata": {},
   "outputs": [
    {
     "data": {
      "image/png": "[encoded data removed]",
      "text/plain": [
       "<Figure size 1080x360 with 1 Axes>"
      ]
     },
     "metadata": {
      "needs_background": "light"
     },
     "output_type": "display_data"
    }
   ],
   "source": [
    "plt.figure(figsize=(15, 5))\n",
    "\n",
    "plt.hist(np.clip(num_mom_errors[['1152' in mom for mom in moms]], 0, 0.07), bins=np.arange(0, 0.071, 0.001))\n",
    "plt.hist(np.clip(num_dad_errors[['1152' in dad for dad in dads]], 0, 0.07), bins=np.arange(0, 0.071, 0.001))\n",
    "plt.show()"
   ]
  },
  {
   "cell_type": "code",
   "execution_count": 210,
   "metadata": {},
   "outputs": [
    {
     "data": {
      "image/png": "[encoded data removed]",
      "text/plain": [
       "<Figure size 1080x360 with 1 Axes>"
      ]
     },
     "metadata": {
      "needs_background": "light"
     },
     "output_type": "display_data"
    }
   ],
   "source": [
    "plt.figure(figsize=(15, 5))\n",
    "\n",
    "plt.hist(np.clip(num_mom_errors[['1461' in mom for mom in moms]], 0, 0.07), bins=np.arange(0, 0.071, 0.001))\n",
    "plt.hist(np.clip(num_dad_errors[['1461' in dad for dad in dads]], 0, 0.07), bins=np.arange(0, 0.071, 0.001))\n",
    "plt.show()"
   ]
  },
  {
   "cell_type": "code",
   "execution_count": null,
   "metadata": {},
   "outputs": [],
   "source": []
  }
 ],
 "metadata": {
  "kernelspec": {
   "display_name": "Python 3",
   "language": "python",
   "name": "python3"
  },
  "language_info": {
   "codemirror_mode": {
    "name": "ipython",
    "version": 3
   },
   "file_extension": ".py",
   "mimetype": "text/x-python",
   "name": "python",
   "nbconvert_exporter": "python",
   "pygments_lexer": "ipython3",
   "version": "3.7.3"
  }
 },
 "nbformat": 4,
 "nbformat_minor": 2
}
