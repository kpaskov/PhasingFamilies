{
 "cells": [
  {
   "cell_type": "code",
   "execution_count": 32,
   "metadata": {},
   "outputs": [],
   "source": [
    "import numpy as np\n",
    "from collections import Counter, defaultdict\n",
    "from scipy.sparse import csc_matrix, save_npz, load_npz\n",
    "from itertools import combinations\n",
    "import matplotlib.pyplot as plt\n",
    "import json\n",
    "import random"
   ]
  },
  {
   "cell_type": "code",
   "execution_count": null,
   "metadata": {},
   "outputs": [],
   "source": [
    "# read .ped\n",
    "individuals = set()\n",
    "with open('../../DATA/ancestry/ancestry.ped', 'r') as f:\n",
    "    next(f) # skip header\n",
    "    for line in f:\n",
    "        individuals.add(line.strip().split()[1])\n",
    "        individuals.add(line.strip().split()[2])\n",
    "        individuals.add(line.strip().split()[3])\n",
    "individuals = sorted(individuals)\n",
    "individual_to_index = dict([(x, i) for i, x in enumerate(individuals)])\n",
    "print('individuals', len(individuals))"
   ]
  },
  {
   "cell_type": "code",
   "execution_count": null,
   "metadata": {},
   "outputs": [],
   "source": [
    "# pull positions\n",
    "positions = []\n",
    "with open('../data/Ancestry Data files/%s.txt' % individuals[0], 'r') as f:\n",
    "    line = next(f)\n",
    "    while line.startswith('#'):\n",
    "        line = next(f)\n",
    "    for line in f:\n",
    "        pieces = line.strip().split('\\t')\n",
    "        positions.append((int(pieces[1]), int(pieces[2])))\n",
    "        \n",
    "# remove positions that occur multiple times (CNV probes)\n",
    "positions = sorted([k for k, v in Counter(positions).items() if v==1])\n",
    "print('positions', len(positions))\n",
    "\n"
   ]
  },
  {
   "cell_type": "code",
   "execution_count": null,
   "metadata": {},
   "outputs": [],
   "source": [
    "# pull reference at these positions\n",
    "chrom_to_int = dict([('chr%d' % d, d) for d in range(1, 23)])\n",
    "chrom_to_int['chrX'] = 23\n",
    "\n",
    "chrom = None\n",
    "pos_to_ref = dict()\n",
    "with open('../data/hg19.fa', 'r') as f:\n",
    "    for line in f:\n",
    "        if line.startswith('>'):\n",
    "            if chrom is not None:\n",
    "                for p in pos:\n",
    "                    assert (chrom_to_int[chrom], p) in pos_to_ref\n",
    "            \n",
    "            # pull out data\n",
    "            chrom = line.strip()[1:]\n",
    "            pos = [] if chrom not in chrom_to_int else [x[1] for x in positions if x[0] == chrom_to_int[chrom]]\n",
    "            pos_index = 0\n",
    "            current_pos = 1\n",
    "            print(chrom, len(pos))\n",
    "        else:\n",
    "            line = line.strip()\n",
    "            if pos_index == len(pos):\n",
    "                # we're done with positions for this chromosome\n",
    "                pass\n",
    "            elif current_pos + len(line) <= pos[pos_index]:\n",
    "                # no positions of interest here\n",
    "                pass\n",
    "            else:\n",
    "                while pos_index < len(pos) and pos[pos_index]-current_pos < len(line):\n",
    "                    pos_to_ref[(chrom_to_int[chrom], pos[pos_index])] = line[pos[pos_index]-current_pos]\n",
    "                    pos_index += 1\n",
    "            current_pos += len(line)\n",
    "                \n"
   ]
  },
  {
   "cell_type": "code",
   "execution_count": null,
   "metadata": {},
   "outputs": [],
   "source": [
    "print(len(individuals))"
   ]
  },
  {
   "cell_type": "code",
   "execution_count": null,
   "metadata": {},
   "outputs": [],
   "source": [
    "ns = {'A', 'C', 'G', 'T'}\n",
    "def find_genotype(ref, allele1, allele2):\n",
    "    if allele1 in ns and allele2 in ns and ref in ns:\n",
    "        return (allele1 != ref) + (allele2 != ref)\n",
    "    return -1\n",
    "\n",
    "for chrom, chrom_int in chrom_to_int.items():\n",
    "    if chrom != 'chrX':\n",
    "        print(chrom)\n",
    "        poss = [x[1] for x in positions if x[0] == chrom_int]\n",
    "        pos_to_index = dict([(x, i) for i, x in enumerate(poss)])\n",
    "        coordinates = np.zeros((len(poss), 4), dtype=int)\n",
    "        coordinates[:, 0] = chrom_int\n",
    "        coordinates[:, 1] = poss\n",
    "        coordinates[:, 2:] = 1\n",
    "\n",
    "\n",
    "        gen = -np.ones((len(individuals), len(poss)), dtype=np.int8)\n",
    "        for i, individual in enumerate(individuals):\n",
    "            print(individual, end=' ')\n",
    "            try:\n",
    "                with open('../data/Ancestry Data files/%s.txt' % individual, 'r') as f:\n",
    "                    line = next(f)\n",
    "                    while line.startswith('#'):\n",
    "                        line = next(f)\n",
    "                    for line in f:\n",
    "                        pieces = line.strip().split('\\t')\n",
    "                        if len(pieces) >= 5:\n",
    "                            pos = int(pieces[2])\n",
    "                            if int(pieces[1]) == chrom_int and pos in pos_to_index:\n",
    "                                ref = pos_to_ref[(chrom_int, pos)].upper()\n",
    "                                gen[i, pos_to_index[pos]] = find_genotype(ref, pieces[3], pieces[4])\n",
    "                        else:\n",
    "                            print(pieces)\n",
    "            except FileNotFoundError:\n",
    "                print('File not found', individual)\n",
    "\n",
    "        # throw out individuals where more than 10% of variants are missing\n",
    "        #ind_indices = np.sum(gen==-1, axis=1)/len(poss) < 0.1\n",
    "        #individuals = [ind for ind, include in zip(individuals, ind_indices)]\n",
    "        #gen = gen[ind_indices, :]\n",
    "        #print('missing individuals', np.sum(~ind_indices)/len(individuals))\n",
    "\n",
    "        # throw out sites where more than 10% of individuals are missing\n",
    "        coordinates[np.sum(gen==-1, axis=0)/len(individuals) >= 0.1, 3] = 0\n",
    "        print('missing variants', np.sum(coordinates[:, 3]==0)/len(poss))\n",
    "\n",
    "\n",
    "        save_npz('../../DATA/ancestry/genotypes/chr.%s.0.gen' % (str(chrom_int) if chrom_int < 23 else 'X'), csc_matrix(gen))\n",
    "        np.save('../../DATA/ancestry/genotypes/chr.%s.0.gen.coordinates' % (str(chrom_int) if chrom_int < 23 else 'X'), coordinates)\n"
   ]
  },
  {
   "cell_type": "code",
   "execution_count": null,
   "metadata": {},
   "outputs": [],
   "source": [
    "from itertools import compress\n",
    "import json\n",
    "\n",
    "with open('../../DATA/ancestry/genotypes/samples.json', 'w+') as f:\n",
    "    json.dump(individuals, f)\n",
    "    \n",
    "with open('../../DATA/ancestry/genotypes/info.json', 'w+') as f:\n",
    "    json.dump({\n",
    "                    \"assembly\": \"37\",\n",
    "                    \"vcf_directory\": \"Ancestry Data files\",\n",
    "                    \"batch_size\": -1\n",
    "              }, f)\n"
   ]
  },
  {
   "cell_type": "code",
   "execution_count": null,
   "metadata": {},
   "outputs": [],
   "source": [
    "print(len(individuals), gen.shape)"
   ]
  },
  {
   "cell_type": "markdown",
   "metadata": {},
   "source": [
    "# Pull data"
   ]
  },
  {
   "cell_type": "code",
   "execution_count": 16,
   "metadata": {},
   "outputs": [],
   "source": [
    "chroms = [str(x) for x in range(1, 23)] + ['X']\n",
    "all_coords = []\n",
    "all_gens = []\n",
    "\n",
    "for chrom in chroms:\n",
    "    all_gens.append(load_npz('../../DATA/ancestry/genotypes/chr.%s.0.gen.npz' % chrom).A)\n",
    "    all_coords.append(np.load('../../DATA/ancestry/genotypes/chr.%s.0.gen.coordinates.npy' % chrom))\n",
    "\n",
    "coordinates = np.vstack(all_coords)\n",
    "gen = np.hstack(all_gens)\n",
    "\n",
    "with open('../../DATA/ancestry/genotypes/samples.json', 'r') as f:\n",
    "    individuals = json.load(f)\n",
    "                      \n",
    "individual_to_index = dict([(x, i) for i, x in enumerate(individuals)])"
   ]
  },
  {
   "cell_type": "markdown",
   "metadata": {},
   "source": [
    "# Check sex"
   ]
  },
  {
   "cell_type": "code",
   "execution_count": 17,
   "metadata": {},
   "outputs": [],
   "source": [
    "parents_to_children = defaultdict(list)\n",
    "individual_to_sex = dict()\n",
    "with open('../../DATA/ancestry/ancestry.ped', 'r') as f:\n",
    "    for line in f:\n",
    "        pieces = line.strip().split('\\t')\n",
    "        parents_to_children[(pieces[3], pieces[2])].append(pieces[1])\n",
    "        individual_to_sex[pieces[1]] = pieces[4]\n",
    "        individual_to_sex[pieces[2]] = '1'\n",
    "        individual_to_sex[pieces[3]] = '2'"
   ]
  },
  {
   "cell_type": "code",
   "execution_count": 18,
   "metadata": {},
   "outputs": [
    {
     "data": {
      "image/png": "[encoded data removed]",
      "text/plain": [
       "<Figure size 432x288 with 1 Axes>"
      ]
     },
     "metadata": {
      "needs_background": "light"
     },
     "output_type": "display_data"
    }
   ],
   "source": [
    "num_X_hets = np.sum(gen[:, coordinates[:, 0]==23]==1, axis=1)\n",
    "num_X_homalts = np.sum(gen[:, coordinates[:, 0]==23]==2, axis=1)\n",
    "plt.scatter(num_X_hets[[i for i, x in enumerate(individuals) if individual_to_sex[x]=='1']],\n",
    "            num_X_homalts[[i for i, x in enumerate(individuals) if individual_to_sex[x]=='1']],\n",
    "            label='male', alpha=0.5)\n",
    "plt.scatter(num_X_hets[[i for i, x in enumerate(individuals) if individual_to_sex[x]=='2']],\n",
    "            num_X_homalts[[i for i, x in enumerate(individuals) if individual_to_sex[x]=='2']],\n",
    "            label='female', alpha=0.5)\n",
    "plt.xlabel('X-hets')\n",
    "plt.ylabel('X-homalts')\n",
    "plt.show()"
   ]
  },
  {
   "cell_type": "markdown",
   "metadata": {},
   "source": [
    "# Check relationships"
   ]
  },
  {
   "cell_type": "code",
   "execution_count": 19,
   "metadata": {},
   "outputs": [],
   "source": [
    "moms, dads, childs = [], [], []\n",
    "mom_indices, dad_indices, child_indices = [], [], []\n",
    "for (mom, dad), children in parents_to_children.items():\n",
    "    for child in children:\n",
    "        if mom in individual_to_index and dad in individual_to_index and child in individual_to_index:\n",
    "            mom_indices.append(individual_to_index[mom])\n",
    "            dad_indices.append(individual_to_index[dad])\n",
    "            child_indices.append(individual_to_index[child])\n",
    "            \n",
    "            moms.append(mom)\n",
    "            dads.append(dad)\n",
    "            childs.append(child)\n"
   ]
  },
  {
   "cell_type": "code",
   "execution_count": 43,
   "metadata": {},
   "outputs": [
    {
     "name": "stdout",
     "output_type": "stream",
     "text": [
      "(205, 649451)\n"
     ]
    },
    {
     "name": "stderr",
     "output_type": "stream",
     "text": [
      "//anaconda3/lib/python3.7/site-packages/ipykernel/__main__.py:6: RuntimeWarning: invalid value encountered in true_divide\n",
      "//anaconda3/lib/python3.7/site-packages/ipykernel/__main__.py:10: RuntimeWarning: invalid value encountered in true_divide\n"
     ]
    },
    {
     "data": {
      "image/png": "[encoded data removed]",
      "text/plain": [
       "<Figure size 432x288 with 1 Axes>"
      ]
     },
     "metadata": {
      "needs_background": "light"
     },
     "output_type": "display_data"
    }
   ],
   "source": [
    "autosomal_gen = gen[:, coordinates[:, 0]<23]\n",
    "print(autosomal_gen.shape)\n",
    "\n",
    "num_mom_errors = np.sum((autosomal_gen[mom_indices, :]==0) & (autosomal_gen[child_indices, :]==2), axis=1)\n",
    "num_mom_errors += np.sum((autosomal_gen[mom_indices, :]==2) & (autosomal_gen[child_indices, :]==0), axis=1)\n",
    "num_mom_errors = num_mom_errors/np.sum((autosomal_gen[mom_indices, :]>=0) & (autosomal_gen[child_indices, :]>=0), axis=1)\n",
    "\n",
    "num_dad_errors = np.sum((autosomal_gen[dad_indices, :]==0) & (autosomal_gen[child_indices, :]==2), axis=1)\n",
    "num_dad_errors += np.sum((autosomal_gen[dad_indices, :]==2) & (autosomal_gen[child_indices, :]==0), axis=1)\n",
    "num_dad_errors = num_dad_errors/np.sum((autosomal_gen[dad_indices, :]>=0) & (autosomal_gen[child_indices, :]>=0), axis=1)\n",
    "\n",
    "plt.scatter(num_mom_errors, num_dad_errors)\n",
    "plt.show()"
   ]
  },
  {
   "cell_type": "code",
   "execution_count": 44,
   "metadata": {},
   "outputs": [
    {
     "name": "stderr",
     "output_type": "stream",
     "text": [
      "//anaconda3/lib/python3.7/site-packages/ipykernel/__main__.py:14: RuntimeWarning: invalid value encountered in long_scalars\n"
     ]
    }
   ],
   "source": [
    "num_sib_errors = []\n",
    "num_unrelated_errors = []\n",
    "for (mom, dad), children in parents_to_children.items():\n",
    "    for child1, child2 in combinations(children, 2):\n",
    "        if child1 in individual_to_index and child2 in individual_to_index:\n",
    "            child1_index, child2_index = individual_to_index[child1], individual_to_index[child2]\n",
    "            num_sib_err = np.sum((autosomal_gen[child1_index, :]==0) & (autosomal_gen[child2_index, :]==2))\n",
    "            num_sib_err += np.sum((autosomal_gen[child1_index, :]==2) & (autosomal_gen[child2_index, :]==0))\n",
    "            num_sib_errors.append(num_sib_err/np.sum((autosomal_gen[child1_index, :]>=0) & (autosomal_gen[child2_index, :]>=0)))\n",
    "    if mom in individual_to_index and dad in individual_to_index:\n",
    "        mom_index, dad_index = individual_to_index[mom], individual_to_index[dad]\n",
    "        num_unrel_err = np.sum((autosomal_gen[mom_index, :]==0) & (autosomal_gen[dad_index, :]==2))\n",
    "        num_unrel_err += np.sum((autosomal_gen[mom_index, :]==2) & (autosomal_gen[dad_index, :]==0))\n",
    "        num_unrelated_errors.append(num_unrel_err/np.sum((autosomal_gen[mom_index, :]>=0) & (autosomal_gen[dad_index, :]>=0)))\n",
    "\n",
    "num_sib_errors = np.array(num_sib_errors)\n",
    "num_unrelated_errors = np.array(num_unrelated_errors)\n"
   ]
  },
  {
   "cell_type": "code",
   "execution_count": 47,
   "metadata": {},
   "outputs": [
    {
     "data": {
      "image/png": "[encoded data removed]",
      "text/plain": [
       "<Figure size 1080x360 with 1 Axes>"
      ]
     },
     "metadata": {
      "needs_background": "light"
     },
     "output_type": "display_data"
    }
   ],
   "source": [
    "plt.figure(figsize=(15, 5))\n",
    "\n",
    "plt.hist(np.clip(num_sib_errors, 0, 0.07), alpha=0.5, bins=np.arange(0, 0.071, 0.001), density=True)\n",
    "plt.hist(np.clip(num_unrelated_errors, 0, 0.07), alpha=0.5, bins=np.arange(0, 0.071, 0.001), density=True)\n",
    "plt.hist(np.clip(num_mom_errors, 0, 0.07), bins=np.arange(0, 0.071, 0.001), density=True)\n",
    "plt.hist(np.clip(num_dad_errors, 0, 0.07), bins=np.arange(0, 0.071, 0.001), density=True)\n",
    "plt.show()"
   ]
  },
  {
   "cell_type": "code",
   "execution_count": 49,
   "metadata": {},
   "outputs": [
    {
     "name": "stdout",
     "output_type": "stream",
     "text": [
      "moms\n",
      "[]\n",
      "[]\n",
      "dads\n",
      "['1152_DAD', '1461_DAD']\n",
      "['1152_NT_1', '1461_ASD_2']\n"
     ]
    },
    {
     "name": "stderr",
     "output_type": "stream",
     "text": [
      "//anaconda3/lib/python3.7/site-packages/ipykernel/__main__.py:2: RuntimeWarning: invalid value encountered in greater\n",
      "  from ipykernel import kernelapp as app\n",
      "//anaconda3/lib/python3.7/site-packages/ipykernel/__main__.py:3: RuntimeWarning: invalid value encountered in greater\n",
      "  app.launch_new_instance()\n",
      "//anaconda3/lib/python3.7/site-packages/ipykernel/__main__.py:6: RuntimeWarning: invalid value encountered in greater\n",
      "//anaconda3/lib/python3.7/site-packages/ipykernel/__main__.py:7: RuntimeWarning: invalid value encountered in greater\n"
     ]
    }
   ],
   "source": [
    "print('moms')\n",
    "print([moms[i] for i in np.where(num_mom_errors>0.01)[0]])\n",
    "print([childs[i] for i in np.where(num_mom_errors>0.01)[0]])\n",
    "\n",
    "print('dads')\n",
    "print([dads[i] for i in np.where(num_dad_errors>0.01)[0]])\n",
    "print([childs[i] for i in np.where(num_dad_errors>0.01)[0]])"
   ]
  },
  {
   "cell_type": "code",
   "execution_count": 51,
   "metadata": {},
   "outputs": [
    {
     "data": {
      "image/png": "[encoded data removed]",
      "text/plain": [
       "<Figure size 1080x360 with 1 Axes>"
      ]
     },
     "metadata": {
      "needs_background": "light"
     },
     "output_type": "display_data"
    }
   ],
   "source": [
    "plt.figure(figsize=(15, 5))\n",
    "\n",
    "plt.hist(np.clip(num_mom_errors[['1152' in mom for mom in moms]], 0, 0.07), bins=np.arange(0, 0.071, 0.001))\n",
    "plt.hist(np.clip(num_dad_errors[['1152' in dad for dad in dads]], 0, 0.07), bins=np.arange(0, 0.071, 0.001))\n",
    "plt.show()"
   ]
  },
  {
   "cell_type": "code",
   "execution_count": 52,
   "metadata": {},
   "outputs": [
    {
     "data": {
      "image/png": "[encoded data removed]",
      "text/plain": [
       "<Figure size 1080x360 with 1 Axes>"
      ]
     },
     "metadata": {
      "needs_background": "light"
     },
     "output_type": "display_data"
    }
   ],
   "source": [
    "plt.figure(figsize=(15, 5))\n",
    "\n",
    "plt.hist(np.clip(num_mom_errors[['1461' in mom for mom in moms]], 0, 0.07), bins=np.arange(0, 0.071, 0.001))\n",
    "plt.hist(np.clip(num_dad_errors[['1461' in dad for dad in dads]], 0, 0.07), bins=np.arange(0, 0.071, 0.001))\n",
    "plt.show()"
   ]
  },
  {
   "cell_type": "code",
   "execution_count": null,
   "metadata": {},
   "outputs": [],
   "source": [
    "rels = list(combinations(individuals, 2))\n",
    "num_errors = -np.ones((len(rels),))\n",
    "for i, (ind1, ind2) in enumerate(rels):\n",
    "    num_errors[i] = np.sum((autosomal_gen[indices, :][]==0) & (autosomal_gen[individual_to_index[ind2], :]==2))\n",
    "    num_errors[i] += np.sum((autosomal_gen[individual_to_index[ind1], :]==2) & (autosomal_gen[individual_to_index[ind2], :]==0))\n",
    "    "
   ]
  },
  {
   "cell_type": "code",
   "execution_count": null,
   "metadata": {},
   "outputs": [],
   "source": [
    "plt.figure(figsize=(15, 5))\n",
    "plt.hist(num_errors, bins=np.arange(0, 1, 0.01))\n",
    "plt.show()"
   ]
  },
  {
   "cell_type": "code",
   "execution_count": null,
   "metadata": {},
   "outputs": [],
   "source": [
    "print(num_errors[num_errors<0])"
   ]
  },
  {
   "cell_type": "code",
   "execution_count": null,
   "metadata": {},
   "outputs": [],
   "source": []
  }
 ],
 "metadata": {
  "kernelspec": {
   "display_name": "Python 3",
   "language": "python",
   "name": "python3"
  },
  "language_info": {
   "codemirror_mode": {
    "name": "ipython",
    "version": 3
   },
   "file_extension": ".py",
   "mimetype": "text/x-python",
   "name": "python",
   "nbconvert_exporter": "python",
   "pygments_lexer": "ipython3",
   "version": "3.7.3"
  }
 },
 "nbformat": 4,
 "nbformat_minor": 2
}
