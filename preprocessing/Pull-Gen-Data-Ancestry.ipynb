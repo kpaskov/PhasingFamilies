{
 "cells": [
  {
   "cell_type": "code",
   "execution_count": 32,
   "metadata": {},
   "outputs": [],
   "source": [
    "import numpy as np\n",
    "from collections import Counter, defaultdict\n",
    "from scipy.sparse import csc_matrix, save_npz, load_npz\n",
    "from itertools import combinations\n",
    "import matplotlib.pyplot as plt\n",
    "import json\n",
    "import random\n",
    "from os import listdir, path"
   ]
  },
  {
   "cell_type": "code",
   "execution_count": 33,
   "metadata": {},
   "outputs": [
    {
     "name": "stdout",
     "output_type": "stream",
     "text": [
      "individuals 783\n",
      "multiples set()\n"
     ]
    }
   ],
   "source": [
    "# read .ped\n",
    "individuals = set()\n",
    "multiples = set()\n",
    "with open('../../DATA/ancestry/ancestry.ped', 'r') as f:\n",
    "    next(f) # skip header\n",
    "    for line in f:\n",
    "        pieces = line.strip().split()\n",
    "        \n",
    "        if pieces[1] in individuals:\n",
    "            multiples.add(pieces[1])\n",
    "        individuals.add(pieces[1])\n",
    "        individuals.add(pieces[2])\n",
    "        individuals.add(pieces[3])\n",
    "        \n",
    "        \n",
    "individuals = sorted(individuals)\n",
    "individual_to_index = dict([(x, i) for i, x in enumerate(individuals)])\n",
    "print('individuals', len(individuals))\n",
    "print('multiples', multiples)"
   ]
  },
  {
   "cell_type": "code",
   "execution_count": 34,
   "metadata": {},
   "outputs": [
    {
     "name": "stdout",
     "output_type": "stream",
     "text": [
      "missing from .ped\n",
      "CDI1314_NONASD_1.txt adding CDI1314_NONASD_1 to ped\n",
      "['CDI1314_NONASD_1.txt']\n"
     ]
    }
   ],
   "source": [
    "print('missing from .ped')\n",
    "\n",
    "missing_from_ped = []\n",
    "with open('../../DATA/ancestry/ancestry.ped', 'a') as f:\n",
    "\n",
    "    for filename in listdir('../data/Ancestry Data files'):\n",
    "        if filename.endswith('txt') and filename[:-4] not in individuals and filename != 'ancestry.ped.txt':\n",
    "            try:\n",
    "                if 'NT' in filename:\n",
    "                    fam, phen, num = filename[:-4].split('_')\n",
    "                    f.write('\\t'.join(['FAM_%s' % fam, \n",
    "                                       '_'.join([fam, phen, num]), \n",
    "                                       '%s_DAD' % fam,\n",
    "                                       '%s_MOM' % fam,\n",
    "                                       '*',\n",
    "                                       '1']) + '\\n')\n",
    "                    print(filename, 'adding %s to ped' % '_'.join([fam, phen, num]))\n",
    "                    missing_from_ped.append(filename)\n",
    "                elif 'ASD' in filename:\n",
    "                    fam, phen, num = filename[:-4].split('_')\n",
    "                    f.write('\\t'.join(['FAM_%s' % fam, \n",
    "                                       '_'.join([fam, phen, num]), \n",
    "                                       '%s_DAD' % fam,\n",
    "                                       '%s_MOM' % fam,\n",
    "                                       '*',\n",
    "                                       '2']) + '\\n')\n",
    "                    print(filename, 'adding %s to ped' % '_'.join([fam, phen, num]))\n",
    "                    missing_from_ped.append(filename)\n",
    "\n",
    "            except ValueError:\n",
    "                print(filename)\n",
    "print(missing_from_ped)"
   ]
  },
  {
   "cell_type": "code",
   "execution_count": 35,
   "metadata": {},
   "outputs": [],
   "source": [
    "# check that everything matches\n",
    "with open('../../DATA/ancestry/ancestry.ped', 'r') as f:\n",
    "    next(f) # skip header\n",
    "    for line in f:\n",
    "        pieces = line.strip().split()\n",
    "        #print(pieces)\n",
    "        fam, phen, num = pieces[1].split('_')\n",
    "        try:\n",
    "            assert pieces[0][4:] == fam\n",
    "            assert pieces[2] == '%s_DAD' % fam\n",
    "            assert pieces[3] == '%s_MOM' % fam\n",
    "            if phen == 'ASD':\n",
    "                assert pieces[5] == '2'\n",
    "            elif phen == 'NT':\n",
    "                assert pieces[5] == '1'\n",
    "        except AssertionError:\n",
    "            print('ERROR', line)"
   ]
  },
  {
   "cell_type": "code",
   "execution_count": 36,
   "metadata": {},
   "outputs": [
    {
     "name": "stdout",
     "output_type": "stream",
     "text": [
      "missing data 1582_ASD_1\n",
      "missing data 1625_DAD\n",
      "missing data ARI019a_DAD\n",
      "missing data CDI076_DAD\n",
      "missing data CDI1329a_DAD\n",
      "missing data CWM91_ASD_1\n",
      "missing data MM2000_DAD\n"
     ]
    }
   ],
   "source": [
    "# see if we're missing data for anyone\n",
    "for ind in individuals:\n",
    "    if not path.isfile('../data/Ancestry Data files/%s.txt' % ind):\n",
    "        print('missing data', ind)"
   ]
  },
  {
   "cell_type": "code",
   "execution_count": 40,
   "metadata": {},
   "outputs": [
    {
     "name": "stdout",
     "output_type": "stream",
     "text": [
      "positions 676594\n"
     ]
    }
   ],
   "source": [
    "# pull positions\n",
    "positions = []\n",
    "with open('../data/Ancestry Data files/%s.txt' % individuals[0], 'r') as f:\n",
    "    line = next(f)\n",
    "    while line.startswith('#'):\n",
    "        line = next(f)\n",
    "    for line in f:\n",
    "        pieces = line.strip().split('\\t')\n",
    "        positions.append((int(pieces[1]), int(pieces[2])))\n",
    "        \n",
    "# remove positions that occur multiple times (CNV probes)\n",
    "positions = sorted([k for k, v in Counter(positions).items() if v==1])\n",
    "print('positions', len(positions))\n",
    "\n"
   ]
  },
  {
   "cell_type": "code",
   "execution_count": 41,
   "metadata": {},
   "outputs": [],
   "source": [
    "positions_set = set(positions)"
   ]
  },
  {
   "cell_type": "code",
   "execution_count": 42,
   "metadata": {},
   "outputs": [
    {
     "name": "stdout",
     "output_type": "stream",
     "text": [
      "chr1 50552\n",
      "chr2 54719\n",
      "chr3 43186\n",
      "chr4 36866\n",
      "chr5 38798\n",
      "chr6 43325\n",
      "chr7 34609\n",
      "chrX 25178\n",
      "chr8 32969\n",
      "chr9 29623\n",
      "chr10 32779\n",
      "chr11 32503\n",
      "chr12 31280\n",
      "chr13 24617\n",
      "chr14 21134\n",
      "chr15 21341\n",
      "chr16 23332\n",
      "chr17 22629\n",
      "chr18 18987\n",
      "chr20 18077\n",
      "chrY 1668\n",
      "chr19 16969\n",
      "chr22 10986\n",
      "chr21 10170\n",
      "chr6_ssto_hap7 0\n",
      "chr6_mcf_hap5 0\n",
      "chr6_cox_hap2 0\n",
      "chr6_mann_hap4 0\n",
      "chr6_apd_hap1 0\n",
      "chr6_qbl_hap6 0\n",
      "chr6_dbb_hap3 0\n",
      "chr17_ctg5_hap1 0\n",
      "chr4_ctg9_hap1 0\n",
      "chr1_gl000192_random 0\n",
      "chrUn_gl000225 0\n",
      "chr4_gl000194_random 0\n",
      "chr4_gl000193_random 0\n",
      "chr9_gl000200_random 0\n",
      "chrUn_gl000222 0\n",
      "chrUn_gl000212 0\n",
      "chr7_gl000195_random 0\n",
      "chrUn_gl000223 0\n",
      "chrUn_gl000224 0\n",
      "chrUn_gl000219 0\n",
      "chr17_gl000205_random 0\n",
      "chrUn_gl000215 0\n",
      "chrUn_gl000216 0\n",
      "chrUn_gl000217 0\n",
      "chr9_gl000199_random 0\n",
      "chrUn_gl000211 0\n",
      "chrUn_gl000213 0\n",
      "chrUn_gl000220 0\n",
      "chrUn_gl000218 0\n",
      "chr19_gl000209_random 0\n",
      "chrUn_gl000221 0\n",
      "chrUn_gl000214 0\n",
      "chrUn_gl000228 0\n",
      "chrUn_gl000227 0\n",
      "chr1_gl000191_random 0\n",
      "chr19_gl000208_random 0\n",
      "chr9_gl000198_random 0\n",
      "chr17_gl000204_random 0\n",
      "chrUn_gl000233 0\n",
      "chrUn_gl000237 0\n",
      "chrUn_gl000230 0\n",
      "chrUn_gl000242 0\n",
      "chrUn_gl000243 0\n",
      "chrUn_gl000241 0\n",
      "chrUn_gl000236 0\n",
      "chrUn_gl000240 0\n",
      "chr17_gl000206_random 0\n",
      "chrUn_gl000232 0\n",
      "chrUn_gl000234 0\n",
      "chr11_gl000202_random 0\n",
      "chrUn_gl000238 0\n",
      "chrUn_gl000244 0\n",
      "chrUn_gl000248 0\n",
      "chr8_gl000196_random 0\n",
      "chrUn_gl000249 0\n",
      "chrUn_gl000246 0\n",
      "chr17_gl000203_random 0\n",
      "chr8_gl000197_random 0\n",
      "chrUn_gl000245 0\n",
      "chrUn_gl000247 0\n",
      "chr9_gl000201_random 0\n",
      "chrUn_gl000235 0\n",
      "chrUn_gl000239 0\n",
      "chr21_gl000210_random 0\n",
      "chrUn_gl000231 0\n",
      "chrUn_gl000229 0\n",
      "chrM 0\n",
      "chrUn_gl000226 0\n",
      "chr18_gl000207_random 0\n"
     ]
    }
   ],
   "source": [
    "# pull reference at these positions\n",
    "chrom_to_int = dict([('chr%d' % d, d) for d in range(1, 23)])\n",
    "chrom_to_int['chrX'] = 23\n",
    "chrom_to_int['chrY'] = 24\n",
    "\n",
    "chrom = None\n",
    "pos_to_ref = dict()\n",
    "with open('../data/hg19.fa', 'r') as f:\n",
    "    for line in f:\n",
    "        if line.startswith('>'):\n",
    "            if chrom is not None:\n",
    "                for p in pos:\n",
    "                    assert (chrom_to_int[chrom], p) in pos_to_ref\n",
    "            \n",
    "            # pull out data\n",
    "            chrom = line.strip()[1:]\n",
    "            pos = [] if chrom not in chrom_to_int else [x[1] for x in positions if x[0] == chrom_to_int[chrom]]\n",
    "            pos_index = 0\n",
    "            current_pos = 1\n",
    "            print(chrom, len(pos))\n",
    "        else:\n",
    "            line = line.strip()\n",
    "            if pos_index == len(pos):\n",
    "                # we're done with positions for this chromosome\n",
    "                pass\n",
    "            elif current_pos + len(line) <= pos[pos_index]:\n",
    "                # no positions of interest here\n",
    "                pass\n",
    "            else:\n",
    "                while pos_index < len(pos) and pos[pos_index]-current_pos < len(line):\n",
    "                    pos_to_ref[(chrom_to_int[chrom], pos[pos_index])] = line[pos[pos_index]-current_pos]\n",
    "                    pos_index += 1\n",
    "            current_pos += len(line)\n",
    "                \n"
   ]
  },
  {
   "cell_type": "code",
   "execution_count": 43,
   "metadata": {},
   "outputs": [
    {
     "name": "stdout",
     "output_type": "stream",
     "text": [
      "783\n"
     ]
    }
   ],
   "source": [
    "print(len(individuals))"
   ]
  },
  {
   "cell_type": "code",
   "execution_count": 44,
   "metadata": {},
   "outputs": [],
   "source": [
    "ns = {'A', 'C', 'G', 'T'}\n",
    "def find_genotype(ref, allele1, allele2):\n",
    "    if allele1 in ns and allele2 in ns and ref in ns:\n",
    "        return (allele1 != ref) + (allele2 != ref)\n",
    "    return -1\n",
    "\n",
    "def pull_ancestry_data(individual):\n",
    "    chroms, positions, genotypes = [], [], []\n",
    "    try:\n",
    "        with open('../data/Ancestry Data files/%s.txt' % individual, 'r') as f:\n",
    "            line = next(f)\n",
    "            while line.startswith('#'):\n",
    "                line = next(f)\n",
    "            assert line == 'rsid\\tchromosome\\tposition\\tallele1\\tallele2\\n'\n",
    "            for line in f:\n",
    "                pieces = line.strip().split('\\t')\n",
    "                if len(pieces) >= 5:\n",
    "                    chrom_int = int(pieces[1])\n",
    "                    pos = int(pieces[2])\n",
    "                    if (chrom_int, pos) in positions_set and (chrom_int, pos) in pos_to_ref:\n",
    "                        ref = pos_to_ref[(chrom_int, pos)].upper()\n",
    "                        genotype = find_genotype(ref, pieces[3], pieces[4])\n",
    "\n",
    "                        chroms.append(chrom_int)\n",
    "                        positions.append(pos)\n",
    "                        genotypes.append(genotype)\n",
    "                elif len(pieces) < 5:\n",
    "                    print(pieces)\n",
    "    except FileNotFoundError:\n",
    "        print('File not found', individual)\n",
    "    return np.array(chroms), np.array(positions), np.array(genotypes)\n",
    "    "
   ]
  },
  {
   "cell_type": "code",
   "execution_count": 46,
   "metadata": {},
   "outputs": [
    {
     "name": "stdout",
     "output_type": "stream",
     "text": [
      "041_ASD_1 041_DAD 041_MOM 041_NT_1 041_NT_2 041_NT_3 072_ASD_1 072_DAD 072_MOM 072_NT_1 0783_ASD_1 0783_DAD 0783_MOM 0783_NT_1 1012_ASD_1 1012_ASD_2 1012_DAD 1012_MOM 1012_NT_1 1030_DAD 1030_MOM 1030_NT_1 1030_NT_2 1031_ASD_1 1031_DAD 1031_MOM 1031_NT_1 1031_NT_2 1035_ASD_1 1035_DAD 1035_MOM 1035_NT_1 1035_NT_2 1039_ASD_1 1039_DAD 1039_MOM 1039_NT_1 1046_ASD_1 1046_ASD_2 1046_DAD 1046_MOM 1046_NT_1 1047_ASD_1 1047_DAD 1047_MOM 1048_ASD_1 1048_DAD 1048_MOM 1048_NT_1 1049_DAD 1049_MOM 1049_NT_1 1049_NT_2 1052_ASD_1 1052_DAD 1052_MOM 1052_NT_1 1053_ASD_1 1053_DAD 1053_MOM 1053_NT_1 1053_NT_2 1055_ASD_1 1055_DAD 1055_MOM 1055_NT_1 1059_ASD_1 1059_DAD 1059_MOM 1059_NT_1 1060_ASD_1 1060_DAD 1060_MOM 1060_NT_1 1065_ASD_1 1065_ASD_2 1065_DAD 1065_MOM 1065_NT_1 1068_ASD_1 1068_DAD 1068_MOM 1068_NT_1 1070_ASD_1 1070_DAD 1070_MOM 1070_NT_1 1079_ASD_1 1079_DAD 1079_MOM 1079_NT_1 1080_ASD_1 1080_DAD 1080_MOM 1080_NT_1 1081_ASD_1 1081_DAD 1081_MOM 1082_ASD_1 1082_DAD 1082_MOM 1082_NT_1 1087a_ASD_1 1087a_DAD 1087a_MOM 1087a_NT_1 1093_ASD_1 1093_DAD 1093_MOM 1093_NT_1 1094_ASD_1 1094_DAD 1094_MOM 1094_NT_1 1103_ASD_1 1103_DAD 1103_MOM 1103_NT_1 1108_ASD_1 1108_DAD 1108_MOM 1108_NT_1 1111_ASD_1 1111_DAD 1111_MOM 1111_NT_1 1112_DAD 1112_MOM 1112_NT_1 1114_ASD_1 1114_DAD 1114_MOM 1114_NT_1 1115_ASD_1 1115_DAD 1115_MOM 1115_NT_1 1115_NT_2 1116_ASD_1 1116_DAD 1116_MOM 1116_NT_1 1118_ASD_1 1118_DAD 1118_MOM 1118_NT_1 1118_NT_2 1118_NT_3 1118_NT_4 1121_ASD_1 1121_DAD 1121_MOM 1121_NT_1 1121_NT_2 1121_NT_3 1152_ASD_1 1152_ASD_2 1152_DAD 1152_MOM 1152_NT_1 1152_NT_2 1157_ASD_1 1157_ASD_2 1157_DAD 1157_MOM 1157_NT_1 1157_NT_2 1179_ASD_1 1179_DAD 1179_MOM 1179_NT_1 1179_NT_2 1180_ASD_1 1180_DAD 1180_MOM 1180_NT_1 1186_ASD_1 1186_ASD_2 1186_DAD 1186_MOM 1186_NT_1 1207_ASD_1 1207_DAD 1207_MOM 1207_NT_1 1207_NT_2 1207_NT_3 1216_ASD_1 1216_DAD 1216_MOM 1216_NT_1 1219_ASD_1 1219_ASD_2 1219_DAD 1219_MOM 1219_NT_1 1242_ASD_1 1242_DAD 1242_MOM 1242_NT_1 1277_ASD_1 1277_DAD 1277_MOM 1277_NT_1 1278_ASD_1 1278_DAD 1278_MOM 1278_NT_1 1289_ASD_2 1289_DAD 1289_MOM 1289_NT_1 1289_NT_2 1310_ASD_1 1310_ASD_2 1310_DAD 1310_MOM 1310_NT_1 1329_ASD_1 1329_DAD 1329_MOM 1329_NT_1 1332_DAD 1332_MOM 1332_NT_1 1333_ASD_1 1333_DAD 1333_MOM 1333_NT_1 1334_ASD_1 1334_DAD 1334_MOM 1334_NT_1 1362_ASD_1 1362_ASD_2 1362_DAD 1362_MOM 1362_NT_1 1369_ASD_1 1369_DAD 1369_MOM 1369_NT_1 1369_NT_2 1378_ASD_1 1378_DAD 1378_MOM 1378_NT_1 1378_NT_2 1378_NT_3 1390_ASD_1 1390_DAD 1390_MOM 1390_NT_1 1396_ASD_1 1396_DAD 1396_MOM 1396_NT_2 1410_ASD_1 1410_DAD 1410_MOM 1410_NT_1 1419_ASD_1 1419_DAD 1419_MOM 1419_NT_1 1419_NT_2 1449_ASD_1 1449_DAD 1449_MOM 1449_NT_1 1449_NT_2 1449_NT_3 1449_NT_4 1461_ASD_1 1461_ASD_2 1461_DAD 1461_MOM 1461_NT_1 1476_ASD_1 1476_DAD 1476_MOM 1476_NT_1 1482_ASD_1 1482_DAD 1482_MOM 1482_NT_1 1488_ASD_1 1488_DAD 1488_MOM 1488_NT_1 1512_ASD_1 1512_DAD 1512_MOM 1512_NT_1 1543_ASD_1 1543_DAD 1543_MOM 1543_NT_1 1543_NT_2 1543_NT_3 1555_ASD_1 1555_DAD 1555_MOM 1555_NT_1 1555_NT_2 1572_ASD_1 1572_DAD 1572_MOM 1572_NT_1 1582_ASD_1 File not found 1582_ASD_1\n",
      "1582_DAD 1582_MOM 1582_NT_1 1582_NT_2 1594_ASD_1 1594_DAD 1594_MOM 1594_NT_1 1611_ASD_1 1611_DAD 1611_MOM 1611_NT_1 1619_ASD_1 1619_DAD 1619_MOM 1619_NT_1 1625_ASD_1 1625_ASD_2 1625_DAD File not found 1625_DAD\n",
      "1625_MOM 1625_NT_1 1625_NT_2 1631_ASD_1 1631_ASD_2 1631_DAD 1631_MOM 1631_NT_1 1631_NT_2 1643_ASD_1 1643_DAD 1643_MOM 1643_NT_1 1644_ASD_1 1644_DAD 1644_MOM 1644_NT_1 1644_NT_2 1644_NT_3 1672_ASD_1 1672_ASD_2 1672_DAD 1672_MOM 1672_NT_1 1689_ASD_1 1689_DAD 1689_MOM 1689_NT_1 1695_ASD_1 1695_DAD 1695_MOM 1695_NT_1 1704_ASD_1 1704_ASD_2 1704_DAD 1704_MOM 1718_ASD_1 1718_ASD_2 1718_ASD_3 1718_DAD 1718_MOM 1718_NT_1 1725_ASD_1 1725_ASD_2 1725_DAD 1725_MOM 2000000_ASD_1 2000000_ASD_2 2000000_DAD 2000000_MOM 276_ASD_1 276_DAD 276_MOM 276_NT_1 320_ASD_1 320_DAD 320_MOM 320_NT_1 60000_ASD_1 60000_DAD 60000_MOM 60000_NT_1 60000_NT_2 700000_ASD_1 700000_DAD 700000_MOM 700000_NT_1 750_DAD 750_MOM 750_NT_2 800000_ASD_1 800000_DAD 800000_MOM 800000_NT_1 807_ASD_1 807_DAD 807_MOM 807_NT_1 844_ASD_1 844_ASD_2 844_DAD 844_MOM 844_NT_1 844_NT_2 868a_ASD_1 868a_DAD 868a_MOM 868a_NT_1 868a_NT_2 868a_NT_3 868a_NT_4 875a_ASD_1 875a_DAD 875a_MOM 875a_NT_1 A10000_ASD_1 A10000_DAD A10000_MOM A10000_NT_1 A10000_NT_2 A10000_NT_3 ARI002_ASD_1 ARI002_DAD ARI002_MOM ARI011_ASD_1 ARI011_DAD ARI011_MOM ARI011_NT_1 ARI013_ASD_1 ARI013_DAD ARI013_MOM ARI013_NT_1 ARI018_ASD_1 ARI018_DAD ARI018_MOM ARI018_NT_1 ARI019a_ASD_1 ARI019a_DAD File not found ARI019a_DAD\n",
      "ARI019a_MOM ARI019a_NT_1 ARI022_ASD_1 ARI022_DAD ARI022_MOM ARI022_NT_1 ARI022_NT_2 ARI022_NT_3 ARI037_ASD_1 ARI037_DAD ARI037_MOM ARI037_NT_1 ARI037_NT_2 ARI063_ASD_1 ARI063_DAD ARI063_MOM ARI063_NT_1 ARI063_NT_2 ARI070a_ASD_1 ARI070a_DAD ARI070a_MOM ARI070a_NT_1 ARI079_ASD_1 ARI079_DAD ARI079_MOM ARI079_NT_1 ARI092_ASD_1 ARI092_DAD ARI092_MOM ARI092_NT_1 ARI101_ASD_1 ARI101_DAD ARI101_MOM ARI101_NT_1 ARI116_ASD_1 ARI116_DAD ARI116_MOM ARI116_NT_1 ARI119_ASD_1 ARI119_ASD_2 ARI119_DAD ARI119_MOM ARI155_ASD_1 ARI155_DAD ARI155_MOM ARI155_NT_1 ARI155_NT_2 ARI190_ASD_1 ARI190_DAD ARI190_MOM ARI190_NT_1 CDI005_ASD_1 CDI005_ASD_2 CDI005_DAD CDI005_MOM CDI024_ASD_1 CDI024_DAD CDI024_MOM CDI024_NT_1 CDI026_ASD_1 CDI026_DAD CDI026_MOM CDI026_NT_1 CDI026_NT_2 CDI026_NT_3 CDI027_ASD_1 CDI027_DAD CDI027_MOM CDI027_NT_1 CDI047_ASD_1 CDI047_DAD CDI047_MOM CDI047_NT_1 CDI047_NT_2 CDI065_ASD_1 CDI065_DAD CDI065_MOM CDI065_NT_1 CDI069_ASD_1 CDI069_DAD CDI069_MOM CDI069_NT_1 CDI075_ASD_1 CDI075_DAD CDI075_MOM CDI075_NT_1 CDI075_NT_2 CDI075_NT_3 CDI075_NT_4 CDI076_ASD_1 CDI076_ASD_2 CDI076_DAD File not found CDI076_DAD\n",
      "CDI076_MOM CDI086_ASD_1 CDI086_ASD_2 CDI086_DAD CDI086_MOM CDI108_ASD_1 CDI108_ASD_2 CDI108_DAD CDI108_MOM CDI113_ASD_1 CDI113_DAD CDI113_MOM CDI113_NT_1 CDI125a_ASD_1 CDI125a_DAD CDI125a_MOM CDI125a_NT_1 CDI1278_DAD CDI1278_MOM CDI1278_NT_1 CDI1314_ASD_1 CDI1314_DAD CDI1314_MOM CDI1314_NT_1 CDI1315a_ASD_1 CDI1315a_DAD CDI1315a_MOM CDI1315a_NT_1 CDI1329a_ASD_1 CDI1329a_DAD File not found CDI1329a_DAD\n",
      "CDI1329a_MOM CDI1329a_NT_1 CDI150_ASD_1 CDI150_DAD CDI150_MOM CDI150_NT_1 CDI150_NT_2 CDI161_ASD_1 CDI161_DAD CDI161_MOM CDI185_ASD_1 CDI185_DAD CDI185_MOM CDI185_NT_1 CDI185_NT_2 CDI199a_ASD_1 CDI199a_DAD CDI199a_MOM CDI199a_NT_1 CDI251_ASD_1 CDI251_DAD CDI251_MOM CDI251_NT_1 CDI255_ASD_1 CDI255_DAD CDI255_MOM CDI255_NT_1 CDI268_ASD_1 CDI268_ASD_2 CDI268_DAD CDI268_MOM CDI285a_ASD_1 CDI285a_DAD CDI285a_MOM CDI285a_NT_1 CDI294_ASD_1 CDI294_ASD_2 CDI294_ASD_3 CDI294_DAD CDI294_MOM CDI314_ASD_1 CDI314_ASD_2 CDI314_DAD CDI314_MOM CDI315_ASD_1 CDI315_DAD CDI315_MOM CDI315_NT_1 CDI315_NT_2 CDI326_ASD_1 CDI326_DAD CDI326_MOM CDI326_NT_1 CDI329_ASD_1 CDI329_DAD CDI329_MOM CDI329_NT_1 CDI348_ASD_1 CDI348_DAD CDI348_MOM CDI348_NT_1 CDI354_ASD_1 CDI354_ASD_2 CDI354_DAD CDI354_MOM CDI355_ASD_1 CDI355_DAD CDI355_MOM CDI355_NT_1 CDI357_ASD_1 CDI357_DAD CDI357_MOM CDI357_NT_1 CDI363_ASD_1 CDI363_DAD CDI363_MOM CDI363_NT_1 CDI364_ASD_1 CDI364_ASD_2 CDI364_DAD CDI364_MOM CWI007_ASD_1 CWI007_DAD CWI007_MOM CWI007_NT_1 CWI015_ASD_1 CWI015_DAD CWI015_MOM CWI015_NT_1 CWI023_ASD_1 CWI023_DAD CWI023_MOM CWI023_NT_1 CWI023_NT_2 CWI040_ASD_2 CWI040_DAD CWI040_MOM CWI041_ASD_1 CWI041_DAD CWI041_MOM CWI041_NT_1 CWI042_ASD_1 CWI042_ASD_2 CWI042_DAD CWI042_MOM CWI062_ASD_1 CWI062_DAD CWI062_MOM CWI062_NT_1 CWI074_ASD_1 CWI074_DAD CWI074_MOM CWI074_NT_1 CWI093a_ASD_1 CWI093a_DAD CWI093a_MOM CWI093a_NT_1 CWI093a_NT_2 CWI098_ASD_1 CWI098_DAD CWI098_MOM CWI098_NT_1 CWI098_NT_2 CWI106_DAD CWI106_MOM CWI106_NT_1 CWI117_ASD_1 CWI117_DAD CWI117_MOM CWI117_NT_1 CWI117_NT_2 CWI117_NT_3 CWM001_ASD_1 CWM001_DAD CWM001_MOM CWM001_NT_1 CWM001_NT_2 CWM036_ASD_1 CWM036_ASD_2 CWM036_ASD_3 CWM036_DAD CWM036_MOM CWM036_NT_1 CWM036_NT_2 CWM058_ASD_1 CWM058_DAD CWM058_MOM CWM058_NT_1 CWM91_ASD_1 File not found CWM91_ASD_1\n"
     ]
    },
    {
     "name": "stdout",
     "output_type": "stream",
     "text": [
      "CWM91_DAD CWM91_MOM CWM91_NT_1 CWM91_NT_2 CWM91_NT_3 CWM92_ASD_1 CWM92_DAD CWM92_MOM CWM92_NT_1 CWR007_ASD_1 CWR007_DAD CWR007_MOM CWR007_NT_1 CWR007_NT_2 CWR019_ASD_1 CWR019_DAD CWR019_MOM CWR019_NT_1 CWR058_ASD_1 CWR058_DAD CWR058_MOM CWR058_NT_1 CWR065_ASD_1 CWR065_DAD CWR065_MOM CWR065_NT_1 CWR065_NT_2 CWR081_ASD_1 CWR081_DAD CWR081_MOM CWR081_NT_1 CWR125a_ASD_1 CWR125a_ASD_2 CWR125a_DAD CWR125a_MOM CWR125a_NT_1 CWR161_ASD_1 CWR161_DAD CWR161_MOM CWR161_NT_1 CWR175_ASD_1 CWR175_DAD CWR175_MOM CWR175_NT_1 CWR256_ASD_1 CWR256_DAD CWR256_MOM CWR256_NT_1 CWR256_NT_2 CWR285_ASD_1 CWR285_ASD_2 CWR285_DAD CWR285_MOM CWR285_NT_1 CWR285_NT_2 CWR285_NT_3 MM2000_ASD_1 MM2000_DAD File not found MM2000_DAD\n",
      "MM2000_MOM MM2000_NT_1 MM2000_NT_2 r2000_ASD_1 r2000_DAD r2000_MOM r2000_NT_1 "
     ]
    }
   ],
   "source": [
    "ancestry_data = dict()\n",
    "for ind in individuals:\n",
    "    print(ind, end=' ')\n",
    "    ancestry_data[ind] = pull_ancestry_data(ind)"
   ]
  },
  {
   "cell_type": "code",
   "execution_count": 47,
   "metadata": {},
   "outputs": [
    {
     "name": "stdout",
     "output_type": "stream",
     "text": [
      "[(1, 752721)]\n"
     ]
    }
   ],
   "source": [
    "print(positions[:1])"
   ]
  },
  {
   "cell_type": "code",
   "execution_count": 48,
   "metadata": {},
   "outputs": [
    {
     "name": "stdout",
     "output_type": "stream",
     "text": [
      "chr1\n",
      "0 100 200 300 400 500 600 700 missing variants 0.009930368729229309\n",
      "chr2\n",
      "0 100 200 300 400 500 600 700 missing variants 0.01681317275535006\n",
      "chr3\n",
      "0 100 200 300 400 500 600 700 missing variants 0.010883156578520818\n",
      "chr4\n",
      "0 100 200 300 400 500 600 700 missing variants 0.005045299191667118\n",
      "chr5\n",
      "0 100 200 300 400 500 600 700 missing variants 0.010876849322130006\n",
      "chr6\n",
      "0 100 200 300 400 500 600 700 missing variants 0.007224466243508367\n",
      "chr7\n",
      "0 100 200 300 400 500 600 700 missing variants 0.009679563119419804\n",
      "chr8\n",
      "0 100 200 300 400 500 600 700 missing variants 0.006612272134429312\n",
      "chr9\n",
      "0 100 200 300 400 500 600 700 missing variants 0.008405630759882524\n",
      "chr10\n",
      "0 100 200 300 400 500 600 700 missing variants 0.006742121480215992\n",
      "chr11\n",
      "0 100 200 300 400 500 600 700 missing variants 0.016736916592314556\n",
      "chr12\n",
      "0 100 200 300 400 500 600 700 missing variants 0.011317135549872123\n",
      "chr13\n",
      "0 100 200 300 400 500 600 700 missing variants 0.0328228460007312\n",
      "chr14\n",
      "0 100 200 300 400 500 600 700 missing variants 0.006056591274723195\n",
      "chr15\n",
      "0 100 200 300 400 500 600 700 missing variants 0.014479171547725036\n",
      "chr16\n",
      "0 100 200 300 400 500 600 700 missing variants 0.012729298817075262\n",
      "chr17\n",
      "0 100 200 300 400 500 600 700 missing variants 0.0415396173052278\n",
      "chr18\n",
      "0 100 200 300 400 500 600 700 missing variants 0.005319429083056828\n",
      "chr19\n",
      "0 100 200 300 400 500 600 700 missing variants 0.01155047439448406\n",
      "chr20\n",
      "0 100 200 300 400 500 600 700 missing variants 0.004204237428776899\n",
      "chr21\n",
      "0 100 200 300 400 500 600 700 missing variants 0.0058013765978367745\n",
      "chr22\n",
      "0 100 200 300 400 500 600 700 missing variants 0.008465319497542327\n",
      "chrX\n",
      "0 100 200 300 400 500 600 700 chrY\n",
      "0 100 200 300 400 500 600 700 missing variants 0.9982014388489209\n"
     ]
    }
   ],
   "source": [
    "for chrom, chrom_int in chrom_to_int.items():\n",
    "    print(chrom)\n",
    "    poss = [x[1] for x in positions if x[0] == chrom_int]\n",
    "    pos_to_index = dict([(x, i) for i, x in enumerate(poss)])\n",
    "    coordinates = np.zeros((len(poss), 4), dtype=int)\n",
    "    coordinates[:, 0] = chrom_int\n",
    "    coordinates[:, 1] = poss\n",
    "    coordinates[:, 2:] = 1\n",
    "\n",
    "\n",
    "    gen = -np.ones((len(individuals), len(poss)), dtype=np.int8)\n",
    "    for i, individual in enumerate(individuals):\n",
    "        if i%100==0:\n",
    "            print(i, end=' ')\n",
    "        ind_chroms, ind_positions, ind_genotypes = ancestry_data[individual]\n",
    "        to_include = (ind_chroms == chrom_int)\n",
    "        ind_positions = ind_positions[to_include]\n",
    "        ind_genotypes = ind_genotypes[to_include]\n",
    "        to_include = np.array([(x in pos_to_index) for x in ind_positions])\n",
    "        if np.sum(to_include)>0:\n",
    "            gen[i, np.array([pos_to_index[x] for x in ind_positions if x in pos_to_index])] = ind_genotypes[to_include]\n",
    "\n",
    "    # throw out individuals where more than 10% of variants are missing\n",
    "    #ind_indices = np.sum(gen==-1, axis=1)/len(poss) < 0.1\n",
    "    #individuals = [ind for ind, include in zip(individuals, ind_indices)]\n",
    "    #gen = gen[ind_indices, :]\n",
    "    #print('missing individuals', np.sum(~ind_indices)/len(individuals))\n",
    "    \n",
    "    if chrom != 'chrX':\n",
    "        # throw out sites where more than 10% of individuals are missing\n",
    "        coordinates[np.sum(gen==-1, axis=0)/len(individuals) >= 0.1, 3] = 0\n",
    "        print('missing variants', np.sum(coordinates[:, 3]==0)/len(poss))\n",
    "\n",
    "\n",
    "    save_npz('../../DATA/ancestry/genotypes/chr.%s.0.gen' % (str(chrom_int) if chrom_int < 23 else 'X' if chrom_int==23 else 'Y'), csc_matrix(gen))\n",
    "    np.save('../../DATA/ancestry/genotypes/chr.%s.0.gen.coordinates' % (str(chrom_int) if chrom_int < 23 else 'X' if chrom_int==23 else 'Y'), coordinates)\n"
   ]
  },
  {
   "cell_type": "code",
   "execution_count": 49,
   "metadata": {},
   "outputs": [],
   "source": [
    "from itertools import compress\n",
    "import json\n",
    "\n",
    "with open('../../DATA/ancestry/genotypes/samples.json', 'w+') as f:\n",
    "    json.dump(individuals, f)\n",
    "    \n",
    "with open('../../DATA/ancestry/genotypes/info.json', 'w+') as f:\n",
    "    json.dump({\n",
    "                    \"assembly\": \"37\",\n",
    "                    \"vcf_directory\": \"Ancestry Data files\",\n",
    "                    \"batch_size\": -1\n",
    "              }, f)\n"
   ]
  },
  {
   "cell_type": "code",
   "execution_count": 50,
   "metadata": {},
   "outputs": [
    {
     "name": "stdout",
     "output_type": "stream",
     "text": [
      "783 (783, 1668)\n"
     ]
    }
   ],
   "source": [
    "print(len(individuals), gen.shape)"
   ]
  },
  {
   "cell_type": "markdown",
   "metadata": {},
   "source": [
    "# Pull data"
   ]
  },
  {
   "cell_type": "code",
   "execution_count": 53,
   "metadata": {},
   "outputs": [
    {
     "name": "stdout",
     "output_type": "stream",
     "text": [
      "783 (783, 676297) (676297, 4)\n"
     ]
    }
   ],
   "source": [
    "chroms = [str(x) for x in range(1, 23)] + ['X', 'Y']\n",
    "all_coords = []\n",
    "all_gens = []\n",
    "\n",
    "for chrom in chroms:\n",
    "    all_gens.append(load_npz('../../DATA/ancestry/genotypes/chr.%s.0.gen.npz' % chrom).A)\n",
    "    all_coords.append(np.load('../../DATA/ancestry/genotypes/chr.%s.0.gen.coordinates.npy' % chrom))\n",
    "\n",
    "coordinates = np.vstack(all_coords)\n",
    "gen = np.hstack(all_gens)\n",
    "\n",
    "with open('../../DATA/ancestry/genotypes/samples.json', 'r') as f:\n",
    "    individuals = json.load(f)\n",
    "    \n",
    "print(len(individuals), gen.shape, coordinates.shape)\n",
    "                      \n",
    "individual_to_index = dict([(x, i) for i, x in enumerate(individuals)])"
   ]
  },
  {
   "cell_type": "markdown",
   "metadata": {},
   "source": [
    "# Check sex"
   ]
  },
  {
   "cell_type": "code",
   "execution_count": 70,
   "metadata": {},
   "outputs": [],
   "source": [
    "parents_to_children = defaultdict(list)\n",
    "individual_to_sex = dict()\n",
    "with open('../../DATA/ancestry/ancestry.ped', 'r') as f:\n",
    "    for line in f:\n",
    "        pieces = line.strip().split()\n",
    "        parents_to_children[(pieces[3], pieces[2])].append(pieces[1])\n",
    "        individual_to_sex[pieces[1]] = pieces[4]\n",
    "        individual_to_sex[pieces[2]] = '1'\n",
    "        individual_to_sex[pieces[3]] = '2'"
   ]
  },
  {
   "cell_type": "code",
   "execution_count": 71,
   "metadata": {},
   "outputs": [],
   "source": [
    "is_m = np.array([individual_to_sex[x]=='1' for x in individuals])\n",
    "is_f = np.array([individual_to_sex[x]=='2' for x in individuals])"
   ]
  },
  {
   "cell_type": "code",
   "execution_count": 72,
   "metadata": {},
   "outputs": [
    {
     "data": {
      "image/png": "[encoded data removed]",
      "text/plain": [
       "<Figure size 432x288 with 1 Axes>"
      ]
     },
     "metadata": {
      "needs_background": "light"
     },
     "output_type": "display_data"
    }
   ],
   "source": [
    "num_X_hets = np.sum(gen[:, coordinates[:, 0]==23]==1, axis=1)\n",
    "num_X_homalts = np.sum(gen[:, coordinates[:, 0]==23]==2, axis=1)\n",
    "plt.scatter(num_X_hets[is_m],\n",
    "            num_X_homalts[is_m],\n",
    "            label='male', alpha=0.5, marker='.')\n",
    "plt.scatter(num_X_hets[is_f],\n",
    "            num_X_homalts[is_f],\n",
    "            label='female', alpha=0.5, marker='.')\n",
    "plt.xlabel('X-hets')\n",
    "plt.ylabel('X-homalts')\n",
    "plt.show()"
   ]
  },
  {
   "cell_type": "code",
   "execution_count": 73,
   "metadata": {},
   "outputs": [
    {
     "name": "stdout",
     "output_type": "stream",
     "text": [
      "labelled F, should be M []\n",
      "labelled M, should be F []\n",
      "missing sex, should be M []\n",
      "missing sex, should be F []\n"
     ]
    }
   ],
   "source": [
    "print('labelled F, should be M',\n",
    "      [individuals[i] for i in np.where((num_X_homalts>1000) & (num_X_hets < 1000) & is_f)[0]])\n",
    "print('labelled M, should be F',\n",
    "      [individuals[i] for i in np.where((num_X_homalts>1000) & (num_X_hets > 1000) & is_m)[0]])\n",
    "print('missing sex, should be M',\n",
    "      [individuals[i] for i in np.where((num_X_homalts>1000) & (num_X_hets < 1000) & ~(is_m | is_f))[0]])\n",
    "print('missing sex, should be F',\n",
    "      [individuals[i] for i in np.where((num_X_homalts>1000) & (num_X_hets > 1000) & ~(is_m | is_f))[0]])"
   ]
  },
  {
   "cell_type": "markdown",
   "metadata": {},
   "source": [
    "# Check relationships"
   ]
  },
  {
   "cell_type": "code",
   "execution_count": 74,
   "metadata": {},
   "outputs": [],
   "source": [
    "moms, dads, childs = [], [], []\n",
    "mom_indices, dad_indices, child_indices = [], [], []\n",
    "for (mom, dad), children in parents_to_children.items():\n",
    "    for child in children:\n",
    "        if mom in individual_to_index and dad in individual_to_index and child in individual_to_index:\n",
    "            mom_indices.append(individual_to_index[mom])\n",
    "            dad_indices.append(individual_to_index[dad])\n",
    "            child_indices.append(individual_to_index[child])\n",
    "            \n",
    "            moms.append(mom)\n",
    "            dads.append(dad)\n",
    "            childs.append(child)\n"
   ]
  },
  {
   "cell_type": "code",
   "execution_count": 75,
   "metadata": {},
   "outputs": [
    {
     "name": "stdout",
     "output_type": "stream",
     "text": [
      "(783, 649451)\n"
     ]
    },
    {
     "name": "stderr",
     "output_type": "stream",
     "text": [
      "//anaconda3/lib/python3.7/site-packages/ipykernel/__main__.py:6: RuntimeWarning: invalid value encountered in true_divide\n",
      "//anaconda3/lib/python3.7/site-packages/ipykernel/__main__.py:10: RuntimeWarning: invalid value encountered in true_divide\n"
     ]
    },
    {
     "data": {
      "image/png": "[encoded data removed]",
      "text/plain": [
       "<Figure size 432x288 with 1 Axes>"
      ]
     },
     "metadata": {
      "needs_background": "light"
     },
     "output_type": "display_data"
    }
   ],
   "source": [
    "autosomal_gen = gen[:, coordinates[:, 0]<23]\n",
    "print(autosomal_gen.shape)\n",
    "\n",
    "num_mom_errors = np.sum((autosomal_gen[mom_indices, :]==0) & (autosomal_gen[child_indices, :]==2), axis=1)\n",
    "num_mom_errors += np.sum((autosomal_gen[mom_indices, :]==2) & (autosomal_gen[child_indices, :]==0), axis=1)\n",
    "num_mom_errors = num_mom_errors/np.sum((autosomal_gen[mom_indices, :]>=0) & (autosomal_gen[child_indices, :]>=0), axis=1)\n",
    "\n",
    "num_dad_errors = np.sum((autosomal_gen[dad_indices, :]==0) & (autosomal_gen[child_indices, :]==2), axis=1)\n",
    "num_dad_errors += np.sum((autosomal_gen[dad_indices, :]==2) & (autosomal_gen[child_indices, :]==0), axis=1)\n",
    "num_dad_errors = num_dad_errors/np.sum((autosomal_gen[dad_indices, :]>=0) & (autosomal_gen[child_indices, :]>=0), axis=1)\n",
    "\n",
    "plt.scatter(num_mom_errors, num_dad_errors)\n",
    "plt.show()"
   ]
  },
  {
   "cell_type": "code",
   "execution_count": 76,
   "metadata": {},
   "outputs": [
    {
     "name": "stderr",
     "output_type": "stream",
     "text": [
      "//anaconda3/lib/python3.7/site-packages/ipykernel/__main__.py:14: RuntimeWarning: invalid value encountered in long_scalars\n",
      "//anaconda3/lib/python3.7/site-packages/ipykernel/__main__.py:9: RuntimeWarning: invalid value encountered in long_scalars\n"
     ]
    }
   ],
   "source": [
    "num_sib_errors = []\n",
    "num_unrelated_errors = []\n",
    "for (mom, dad), children in parents_to_children.items():\n",
    "    for child1, child2 in combinations(children, 2):\n",
    "        if child1 in individual_to_index and child2 in individual_to_index:\n",
    "            child1_index, child2_index = individual_to_index[child1], individual_to_index[child2]\n",
    "            num_sib_err = np.sum((autosomal_gen[child1_index, :]==0) & (autosomal_gen[child2_index, :]==2))\n",
    "            num_sib_err += np.sum((autosomal_gen[child1_index, :]==2) & (autosomal_gen[child2_index, :]==0))\n",
    "            num_sib_errors.append(num_sib_err/np.sum((autosomal_gen[child1_index, :]>=0) & (autosomal_gen[child2_index, :]>=0)))\n",
    "    if mom in individual_to_index and dad in individual_to_index:\n",
    "        mom_index, dad_index = individual_to_index[mom], individual_to_index[dad]\n",
    "        num_unrel_err = np.sum((autosomal_gen[mom_index, :]==0) & (autosomal_gen[dad_index, :]==2))\n",
    "        num_unrel_err += np.sum((autosomal_gen[mom_index, :]==2) & (autosomal_gen[dad_index, :]==0))\n",
    "        num_unrelated_errors.append(num_unrel_err/np.sum((autosomal_gen[mom_index, :]>=0) & (autosomal_gen[dad_index, :]>=0)))\n",
    "\n",
    "num_sib_errors = np.array(num_sib_errors)\n",
    "num_unrelated_errors = np.array(num_unrelated_errors)\n"
   ]
  },
  {
   "cell_type": "code",
   "execution_count": 77,
   "metadata": {},
   "outputs": [
    {
     "data": {
      "image/png": "[encoded data removed]",
      "text/plain": [
       "<Figure size 1080x360 with 1 Axes>"
      ]
     },
     "metadata": {
      "needs_background": "light"
     },
     "output_type": "display_data"
    }
   ],
   "source": [
    "plt.figure(figsize=(15, 5))\n",
    "\n",
    "plt.hist(np.clip(num_sib_errors, 0, 0.07), alpha=0.5, bins=np.arange(0, 0.071, 0.001), density=True)\n",
    "plt.hist(np.clip(num_unrelated_errors, 0, 0.07), alpha=0.5, bins=np.arange(0, 0.071, 0.001), density=True)\n",
    "plt.hist(np.clip(num_mom_errors, 0, 0.07), bins=np.arange(0, 0.071, 0.001), density=True)\n",
    "plt.hist(np.clip(num_dad_errors, 0, 0.07), bins=np.arange(0, 0.071, 0.001), density=True)\n",
    "plt.show()"
   ]
  },
  {
   "cell_type": "code",
   "execution_count": 78,
   "metadata": {},
   "outputs": [
    {
     "name": "stdout",
     "output_type": "stream",
     "text": [
      "moms\n",
      "['1482_MOM', '1482_MOM', 'CDI315_MOM', 'CWM92_MOM']\n",
      "['1482_ASD_1', '1482_NT_1', 'CDI315_NT_2', 'CWM92_ASD_1']\n",
      "dads\n",
      "['1152_DAD', '1461_DAD', '1672_DAD', 'CDI268_DAD', 'CDI314_DAD', '1410_DAD', '1378_DAD', 'CWM92_DAD', 'CWI117_DAD', 'CWI117_DAD']\n",
      "['1152_NT_1', '1461_ASD_2', '1672_ASD_1', 'CDI268_ASD_2', 'CDI314_ASD_1', '1410_ASD_1', '1378_NT_1', 'CWM92_NT_1', 'CWI117_NT_1', 'CWI117_NT_2']\n"
     ]
    },
    {
     "name": "stderr",
     "output_type": "stream",
     "text": [
      "//anaconda3/lib/python3.7/site-packages/ipykernel/__main__.py:2: RuntimeWarning: invalid value encountered in greater\n",
      "  from ipykernel import kernelapp as app\n",
      "//anaconda3/lib/python3.7/site-packages/ipykernel/__main__.py:3: RuntimeWarning: invalid value encountered in greater\n",
      "  app.launch_new_instance()\n",
      "//anaconda3/lib/python3.7/site-packages/ipykernel/__main__.py:6: RuntimeWarning: invalid value encountered in greater\n",
      "//anaconda3/lib/python3.7/site-packages/ipykernel/__main__.py:7: RuntimeWarning: invalid value encountered in greater\n"
     ]
    }
   ],
   "source": [
    "print('moms')\n",
    "print([moms[i] for i in np.where(num_mom_errors>0.01)[0]])\n",
    "print([childs[i] for i in np.where(num_mom_errors>0.01)[0]])\n",
    "\n",
    "print('dads')\n",
    "print([dads[i] for i in np.where(num_dad_errors>0.01)[0]])\n",
    "print([childs[i] for i in np.where(num_dad_errors>0.01)[0]])"
   ]
  },
  {
   "cell_type": "code",
   "execution_count": 79,
   "metadata": {},
   "outputs": [
    {
     "data": {
      "image/png": "[encoded data removed]",
      "text/plain": [
       "<Figure size 1080x360 with 1 Axes>"
      ]
     },
     "metadata": {
      "needs_background": "light"
     },
     "output_type": "display_data"
    }
   ],
   "source": [
    "plt.figure(figsize=(15, 5))\n",
    "\n",
    "plt.hist(np.clip(num_mom_errors[['1152' in mom for mom in moms]], 0, 0.07), bins=np.arange(0, 0.071, 0.001))\n",
    "plt.hist(np.clip(num_dad_errors[['1152' in dad for dad in dads]], 0, 0.07), bins=np.arange(0, 0.071, 0.001))\n",
    "plt.show()"
   ]
  },
  {
   "cell_type": "code",
   "execution_count": 80,
   "metadata": {},
   "outputs": [
    {
     "data": {
      "image/png": "[encoded data removed]",
      "text/plain": [
       "<Figure size 1080x360 with 1 Axes>"
      ]
     },
     "metadata": {
      "needs_background": "light"
     },
     "output_type": "display_data"
    }
   ],
   "source": [
    "plt.figure(figsize=(15, 5))\n",
    "\n",
    "plt.hist(np.clip(num_mom_errors[['1461' in mom for mom in moms]], 0, 0.07), bins=np.arange(0, 0.071, 0.001))\n",
    "plt.hist(np.clip(num_dad_errors[['1461' in dad for dad in dads]], 0, 0.07), bins=np.arange(0, 0.071, 0.001))\n",
    "plt.show()"
   ]
  },
  {
   "cell_type": "code",
   "execution_count": null,
   "metadata": {},
   "outputs": [],
   "source": []
  }
 ],
 "metadata": {
  "kernelspec": {
   "display_name": "Python 3",
   "language": "python",
   "name": "python3"
  },
  "language_info": {
   "codemirror_mode": {
    "name": "ipython",
    "version": 3
   },
   "file_extension": ".py",
   "mimetype": "text/x-python",
   "name": "python",
   "nbconvert_exporter": "python",
   "pygments_lexer": "ipython3",
   "version": "3.7.3"
  }
 },
 "nbformat": 4,
 "nbformat_minor": 2
}
