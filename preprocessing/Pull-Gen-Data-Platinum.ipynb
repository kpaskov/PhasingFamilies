{
 "cells": [
  {
   "cell_type": "code",
   "execution_count": 3,
   "metadata": {},
   "outputs": [],
   "source": [
    "from collections import defaultdict\n",
    "import numpy as np\n",
    "from scipy.sparse import csc_matrix, save_npz, load_npz\n",
    "import time\n",
    "import gzip\n",
    "from itertools import product\n",
    "import json"
   ]
  },
  {
   "cell_type": "code",
   "execution_count": 4,
   "metadata": {},
   "outputs": [],
   "source": [
    "# Pull arguments\n",
    "reference = 'hg19'\n",
    "vcf_files = ['../data/GenotypeFiles/High_Confidence_Calls_HG19.vcf.gz', \n",
    "             '../data/GenotypeFiles/manuscript_supplement_filtered_ped_consistent.vcf.gz',\n",
    "             '../data/GenotypeFiles/manuscript_supplement_hq_fails.vcf.gz']\n",
    "out_dir = '../../DATA/platinum/genotypes'\n",
    "maxsize = 500000000"
   ]
  },
  {
   "cell_type": "code",
   "execution_count": 5,
   "metadata": {},
   "outputs": [],
   "source": [
    "with open('%s/info.json' % out_dir, 'w+') as f:\n",
    "    json.dump({\n",
    "        \"assembly\": \"37\",\n",
    "        \"batch_size\": -1,\n",
    "        \"vcf_directory\": \"/scratch/PI/dpwall/DATA/platinumGenomes/GenotypeFiles\"\n",
    "    }, f)\n"
   ]
  },
  {
   "cell_type": "code",
   "execution_count": 8,
   "metadata": {},
   "outputs": [
    {
     "name": "stdout",
     "output_type": "stream",
     "text": [
      "Num individuals with genomic data 13\n"
     ]
    }
   ],
   "source": [
    "# pull sample_ids and write to file\n",
    "chrom = 'chr1'\n",
    "with gzip.open(vcf_files[0], 'rt') as f:\n",
    "    # Skip header\n",
    "    line = next(f)\n",
    "    while line.startswith('##'):\n",
    "        line = next(f)\n",
    "\n",
    "with open('%s/samples.json' % out_dir, 'w+') as sample_f:\n",
    "    sample_ids = line.strip().split('\\t')[9:]\n",
    "    json.dump(sample_ids, sample_f)\n",
    "\n",
    "sample_id_to_index = dict([(x, i) for i, x in enumerate(sample_ids)])\n",
    "m = len(sample_ids)\n",
    "print('Num individuals with genomic data', len(sample_ids))"
   ]
  },
  {
   "cell_type": "code",
   "execution_count": 16,
   "metadata": {},
   "outputs": [
    {
     "name": "stdout",
     "output_type": "stream",
     "text": [
      "../data/GenotypeFiles/High_Confidence_Calls_HG19.vcf.gz\n",
      "../data/GenotypeFiles/manuscript_supplement_filtered_ped_consistent.vcf.gz\n",
      "../data/GenotypeFiles/manuscript_supplement_hq_fails.vcf.gz\n",
      "0 127699\n",
      "(13, 127699)\n",
      "Completed in  14.43817687034607 sec\n"
     ]
    }
   ],
   "source": [
    "\n",
    "#for chrom in ['chr%d' % c for c in range(1, 23)]:\n",
    "for chrom in ['chrX']:\n",
    "    chrom_int = 23 if chrom=='chrX' else 24 if chrom=='chrY' else int(chrom[3:])\n",
    "\n",
    "    t0 = time.time()\n",
    "\n",
    "    with gzip.open(vcf_files[0], 'rt') as f:\n",
    "        # Skip header\n",
    "        line = next(f)\n",
    "        while line.startswith('##'):\n",
    "            line = next(f)\n",
    "\n",
    "    # Pull data from vcf\n",
    "    variant_info = []\n",
    "    chrom_coord = []\n",
    "\n",
    "    # Pull genotypes from vcf\n",
    "    m = len(sample_ids)\n",
    "    data, indices, indptr = np.zeros((maxsize,), dtype=np.int8), np.zeros((maxsize,), dtype=int), [0]\n",
    "    gen_mapping = {'./.': -1, '0/0': 0, '0|0': 0, '0/1': 1, '0|1': 1, '1/0': 1, '1|0': 1, '1/1': 2, '1|1': 2}\n",
    "    index, num_lines = 0, 0\n",
    "    \n",
    "    refs = []\n",
    "    alts = []\n",
    "\n",
    "    for vcf_file in vcf_files:\n",
    "        print(vcf_file)\n",
    "        with gzip.open(vcf_file, 'rt') as f:\n",
    "\n",
    "            # Skip header\n",
    "            line = next(f)\n",
    "            while line.startswith('##'):\n",
    "                line = next(f)\n",
    "\n",
    "            sample_ids = line.strip().split('\\t')[9:]\n",
    "            col_indices = [sample_id_to_index[x] for x in sample_ids]\n",
    "\n",
    "            line = next(f)\n",
    "            for line in f:\n",
    "                pieces = line.split('\\t', maxsplit=1)\n",
    "\n",
    "                if pieces[0] == chrom:\n",
    "                    pieces = line.strip().split('\\t')\n",
    "                    _, pos, _, ref, alt = pieces[:5]\n",
    "                    is_biallelic_snp = len(ref) == 1 and len(alt) == 1 and ref != '.' and alt != '.'\n",
    "                    \n",
    "                    if is_biallelic_snp and 'bwa_gatk' in pieces[7]:\n",
    "                        refs.append(ref)\n",
    "                        alts.append(alt)\n",
    "                        fmt = pieces[8].strip().split(':')\n",
    "\n",
    "                        # Write variant to file\n",
    "                        variant_info.append('\\t'.join(pieces[:9]) + '\\n')\n",
    "                        chrom_coord.append((chrom_int, int(pos), is_biallelic_snp, True))\n",
    "\n",
    "                        # Pull out genotypes\n",
    "                        gen_index = fmt.index('GT')\n",
    "                        for i, piece in zip(col_indices, pieces[9:]):\n",
    "                            segment = piece.split(':', maxsplit=gen_index+1)\n",
    "                            gt = gen_mapping.get(segment[gen_index], -1) # For now we mark multi-base loci as unknown\n",
    "\n",
    "                            if gt != 0:\n",
    "                                indices[index] = i\n",
    "                                data[index] = gt\n",
    "                                index += 1\n",
    "                        indptr.append(index)\n",
    "                        num_lines += 1\n",
    "\n",
    "    # reorder since data is coming from multiple files\n",
    "    chrom_coord = np.asarray(chrom_coord, dtype=int)\n",
    "    ordered_indices = np.argsort(chrom_coord[:, 1])\n",
    "\n",
    "    chrom_coord = chrom_coord[ordered_indices, :]\n",
    "    gen = csc_matrix((data[:index], indices[:index], indptr), shape=(m, num_lines), dtype=np.int8)[:, ordered_indices]\n",
    "    refs = [refs[i] for i in ordered_indices]\n",
    "    alts = [alts[i] for i in ordered_indices]\n",
    "    \n",
    "    # remove sites with same alt and genotypes\n",
    "    keep_site = np.ones((chrom_coord.shape[0],), dtype=bool)\n",
    "    for i in np.where(chrom_coord[:-1, 1] == chrom_coord[1:, 1])[0]:\n",
    "        # positions are the same\n",
    "        if alts[i] == alts[i+1] and np.all(gen[:, i].A.flatten() == gen[:, i+1].A.flatten()):\n",
    "            keep_site[i+1] = False\n",
    "        elif alts[i] != alts[i+1]:\n",
    "            keep_site[i] = False\n",
    "            keep_site[i+1] = False\n",
    "            print(chrom_coord[i, 1], 'Alt mismatch', alts[i], alts[i+1], refs[i], refs[i+1])\n",
    "        else:\n",
    "            keep_site[i] = False\n",
    "            keep_site[i+1] = False\n",
    "            print(chrom_coord[i, 1], 'Gens mismatch', gen[:, i].A.flatten(), gen[:, i+1].A.flatten())\n",
    "    print(np.sum(chrom_coord[:-1, 1] == chrom_coord[1:, 1]), chrom_coord.shape[0])\n",
    "    \n",
    "    with gzip.open('%s/chr.%s.0.gen.variants.txt.gz' % (out_dir, chrom[3:]), 'wt') as variant_f:\n",
    "        for i, keep in zip(ordered_indices, keep_site):\n",
    "            if keep:\n",
    "                variant_f.write(variant_info[i])\n",
    "\n",
    "    # Save to file\n",
    "    print(gen.shape)\n",
    "    save_npz('%s/chr.%s.0.gen' % (out_dir, chrom[3:]), gen[:, keep_site])\n",
    "    np.save('%s/chr.%s.0.gen.coordinates' % (out_dir, chrom[3:]), chrom_coord[keep_site, :])\n",
    "\n",
    "    print('Completed in ', time.time()-t0, 'sec')\n"
   ]
  },
  {
   "cell_type": "code",
   "execution_count": 17,
   "metadata": {},
   "outputs": [],
   "source": [
    "chrom_coord = np.load('%s/chr.X.0.gen.coordinates.npy' % out_dir)\n",
    "gen_data = load_npz('%s/chr.X.0.gen.npz' % out_dir)\n"
   ]
  },
  {
   "cell_type": "code",
   "execution_count": 18,
   "metadata": {},
   "outputs": [
    {
     "name": "stdout",
     "output_type": "stream",
     "text": [
      "(13, 127699) (127699, 4)\n"
     ]
    }
   ],
   "source": [
    "print(gen_data.shape, chrom_coord.shape)"
   ]
  },
  {
   "cell_type": "code",
   "execution_count": 19,
   "metadata": {},
   "outputs": [
    {
     "name": "stdout",
     "output_type": "stream",
     "text": [
      "[[       23   1330888         1         1]\n",
      " [       23   1351716         1         1]\n",
      " [       23   1351760         1         1]\n",
      " ...\n",
      " [       23 154927199         1         1]\n",
      " [       23 154927581         1         1]\n",
      " [       23 154929412         1         1]]\n"
     ]
    }
   ],
   "source": [
    "print(chrom_coord)"
   ]
  },
  {
   "cell_type": "code",
   "execution_count": 25,
   "metadata": {},
   "outputs": [
    {
     "data": {
      "image/png": "[encoded data removed]",
      "text/plain": [
       "<Figure size 1080x360 with 1 Axes>"
      ]
     },
     "metadata": {
      "needs_background": "light"
     },
     "output_type": "display_data"
    }
   ],
   "source": [
    "import matplotlib.pyplot as plt\n",
    "plt.figure(figsize=(15, 5))\n",
    "plt.imshow(gen_data[:, :1000].A, aspect='auto', vmin=-1, vmax=2)\n",
    "plt.show()"
   ]
  },
  {
   "cell_type": "code",
   "execution_count": null,
   "metadata": {},
   "outputs": [],
   "source": [
    "for i in range(1, chrom_coord.shape[0]):\n",
    "    if chrom_coord[i] == chrom_coord[i-1]:\n",
    "        print(chrom_coord[i-1], chrom_coord[i])\n",
    "        print(gen_data[:, i-1:i+1].A)"
   ]
  },
  {
   "cell_type": "code",
   "execution_count": null,
   "metadata": {},
   "outputs": [],
   "source": []
  }
 ],
 "metadata": {
  "kernelspec": {
   "display_name": "Python 3",
   "language": "python",
   "name": "python3"
  },
  "language_info": {
   "codemirror_mode": {
    "name": "ipython",
    "version": 3
   },
   "file_extension": ".py",
   "mimetype": "text/x-python",
   "name": "python",
   "nbconvert_exporter": "python",
   "pygments_lexer": "ipython3",
   "version": "3.9.13"
  }
 },
 "nbformat": 4,
 "nbformat_minor": 2
}
