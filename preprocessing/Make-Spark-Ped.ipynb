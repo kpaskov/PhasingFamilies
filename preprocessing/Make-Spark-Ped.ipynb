{
 "cells": [
  {
   "cell_type": "code",
   "execution_count": 3,
   "metadata": {},
   "outputs": [],
   "source": [
    "with open('../data/SPARK.pruned.fam', 'r') as f, open('../data/spark.ped', 'w+') as outf:\n",
    "    for line in f:\n",
    "        fam_id, child_id, dad_id, mom_id, sex, affected = line.strip().split(' ')\n",
    "        child_id = '%s_%s' % (fam_id, child_id)\n",
    "        if dad_id != '0':\n",
    "            dad_id = '%s_%s' % (fam_id, dad_id)\n",
    "        if mom_id != '0':\n",
    "            mom_id = '%s_%s' % (fam_id, mom_id)\n",
    "        outf.write('\\t'.join([fam_id, child_id, dad_id, mom_id, sex, affected]) + '\\n')\n",
    "        \n",
    "        \n",
    "        \n",
    "        "
   ]
  },
  {
   "cell_type": "code",
   "execution_count": null,
   "metadata": {},
   "outputs": [],
   "source": []
  }
 ],
 "metadata": {
  "kernelspec": {
   "display_name": "Python 3",
   "language": "python",
   "name": "python3"
  },
  "language_info": {
   "codemirror_mode": {
    "name": "ipython",
    "version": 3
   },
   "file_extension": ".py",
   "mimetype": "text/x-python",
   "name": "python",
   "nbconvert_exporter": "python",
   "pygments_lexer": "ipython3",
   "version": "3.6.7"
  }
 },
 "nbformat": 4,
 "nbformat_minor": 2
}
