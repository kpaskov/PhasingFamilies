{
 "cells": [
  {
   "cell_type": "code",
   "execution_count": 35,
   "metadata": {},
   "outputs": [],
   "source": [
    "import csv\n",
    "from collections import Counter, defaultdict"
   ]
  },
  {
   "cell_type": "code",
   "execution_count": 3,
   "metadata": {},
   "outputs": [],
   "source": [
    "with open('../data/SPARK.pruned.fam', 'r') as f, open('../data/spark.ped', 'w+') as outf:\n",
    "    for line in f:\n",
    "        fam_id, child_id, dad_id, mom_id, sex, affected = line.strip().split(' ')\n",
    "        child_id = '%s_%s' % (fam_id, child_id)\n",
    "        if dad_id != '0':\n",
    "            dad_id = '%s_%s' % (fam_id, dad_id)\n",
    "        if mom_id != '0':\n",
    "            mom_id = '%s_%s' % (fam_id, mom_id)\n",
    "        outf.write('\\t'.join([fam_id, child_id, dad_id, mom_id, sex, affected]) + '\\n')\n",
    "        \n",
    "        \n",
    "        \n",
    "        "
   ]
  },
  {
   "cell_type": "code",
   "execution_count": 38,
   "metadata": {},
   "outputs": [],
   "source": [
    "# make peds per race\n",
    "\n",
    "def pull_race(filename):\n",
    "    sample_to_race = dict()\n",
    "    with open(filename, 'r') as f:\n",
    "        reader = csv.reader(f)\n",
    "        header = next(reader)\n",
    "        race_indices = [(header.index('race_asian'), 'asian'),\n",
    "                        (header.index('race_african_amer'), 'african_amer'),\n",
    "                        (header.index('race_native_amer'), 'native_amer'),\n",
    "                        (header.index('race_native_hawaiian'), 'native_hawaiian'),\n",
    "                        (header.index('race_white'), 'white'),\n",
    "                        (header.index('race_other'), 'other'),\n",
    "                        (header.index('race_more_than_one_calc'), 'more_than_one')]\n",
    "        for pieces in reader:\n",
    "            race = 'unknown'\n",
    "            for index, r in race_indices:\n",
    "                if pieces[index] == '1':\n",
    "                    race = r\n",
    "                sample_to_race['%s_%s' % (pieces[3], pieces[0])] = race\n",
    "    return sample_to_race\n",
    "\n",
    "sample_to_race = pull_race('../data/bghx_adult.csv')\n",
    "sample_to_race.update(pull_race('../data/bghx_child.csv'))"
   ]
  },
  {
   "cell_type": "code",
   "execution_count": 39,
   "metadata": {},
   "outputs": [
    {
     "name": "stdout",
     "output_type": "stream",
     "text": [
      "Counter({'white': 19652, 'more_than_one': 2603, 'african_amer': 1233, 'other': 893, 'asian': 490, 'native_amer': 127, 'unknown': 114, 'native_hawaiian': 24})\n"
     ]
    }
   ],
   "source": [
    "print(Counter(sample_to_race.values()))"
   ]
  },
  {
   "cell_type": "code",
   "execution_count": 40,
   "metadata": {},
   "outputs": [],
   "source": [
    "family_to_race = dict()\n",
    "with open('../data/spark.ped', 'r') as f:\n",
    "    for line in f:\n",
    "        pieces = line.strip().split('\\t')\n",
    "        fam_id, samp_id = pieces[0], pieces[1]\n",
    "        if samp_id in sample_to_race:\n",
    "            if fam_id in family_to_race:\n",
    "                if family_to_race[fam_id] != sample_to_race[samp_id]:\n",
    "                    family_to_race[fam_id] = 'more_than_one'\n",
    "            else:\n",
    "                family_to_race[fam_id] = sample_to_race[samp_id]"
   ]
  },
  {
   "cell_type": "code",
   "execution_count": 42,
   "metadata": {},
   "outputs": [],
   "source": [
    "for race in set(family_to_race.values()):\n",
    "    with open('../data/spark.ped', 'r') as f, open('../data/spark_%s.ped' % race, 'w+') as outf:\n",
    "        for line in f:\n",
    "            pieces = line.strip().split('\\t')\n",
    "            fam_id = pieces[0]\n",
    "            if (fam_id in family_to_race and family_to_race[fam_id] == race) or (race == 'unknown' and fam_id not in family_to_race):\n",
    "                outf.write(line)\n",
    "                \n",
    "                \n",
    "                "
   ]
  },
  {
   "cell_type": "code",
   "execution_count": null,
   "metadata": {},
   "outputs": [],
   "source": []
  }
 ],
 "metadata": {
  "kernelspec": {
   "display_name": "Python 3",
   "language": "python",
   "name": "python3"
  },
  "language_info": {
   "codemirror_mode": {
    "name": "ipython",
    "version": 3
   },
   "file_extension": ".py",
   "mimetype": "text/x-python",
   "name": "python",
   "nbconvert_exporter": "python",
   "pygments_lexer": "ipython3",
   "version": "3.7.3"
  }
 },
 "nbformat": 4,
 "nbformat_minor": 2
}
