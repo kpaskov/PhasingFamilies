{
 "cells": [
  {
   "cell_type": "code",
   "execution_count": 32,
   "metadata": {},
   "outputs": [],
   "source": [
    "import csv\n",
    "from collections import Counter, defaultdict\n",
    "import scipy.special"
   ]
  },
  {
   "cell_type": "code",
   "execution_count": 9,
   "metadata": {},
   "outputs": [],
   "source": [
    "sample_to_sex, sample_to_role, sample_to_asd = dict(), dict(), dict()\n",
    "family_to_individuals = defaultdict(list)\n",
    "\n",
    "with open('../phenotypes/spark/individuals.csv', 'r') as f:\n",
    "    reader = csv.reader(f)\n",
    "    header = next(reader)\n",
    "    ind_index = header.index('subject_sp_id')\n",
    "    family_index = header.index('family_id')\n",
    "    sex_index = header.index('sex')\n",
    "    asd_index = header.index('asd')\n",
    "    role_index = header.index('role')\n",
    "    \n",
    "    for pieces  in reader:\n",
    "        ind_id = pieces[ind_index]\n",
    "        sample_to_sex[ind_id] = '2' if pieces[sex_index]=='Female' else '1' if pieces[sex_index]=='Male' else '-1'\n",
    "        sample_to_role[ind_id] = pieces[role_index]\n",
    "        sample_to_asd[ind_id] = '2' if pieces[asd_index]=='TRUE' else '1' if pieces[asd_index]=='FALSE' else '-1'\n",
    "        family_to_individuals[pieces[family_index]].append(ind_id)\n"
   ]
  },
  {
   "cell_type": "code",
   "execution_count": 27,
   "metadata": {},
   "outputs": [],
   "source": [
    "import json\n",
    "with open('../../DATA/spark/genotypes/samples.json', 'r') as f:\n",
    "    spark_exome_samples = set(json.load(f))"
   ]
  },
  {
   "cell_type": "code",
   "execution_count": 34,
   "metadata": {},
   "outputs": [
    {
     "name": "stdout",
     "output_type": "stream",
     "text": [
      "parents ok 32478 no parents 4556 no mother 4225 no father 40096 multiple mothers 0 multiple fathers 0\n",
      "parents ok 15043.0 no parents 703.0 no mother 1579.0 no father 16170.0\n"
     ]
    }
   ],
   "source": [
    "no_mother, no_father, multiple_mothers, multiple_fathers = 0, 0, 0, 0\n",
    "no_parents = 0\n",
    "parents_ok = 0\n",
    "\n",
    "no_mother_sibpairs, no_father_sibpairs, no_parents_sibpairs, parents_ok_sibpairs = 0, 0, 0, 0\n",
    "with open('../../DATA/spark/spark.ped', 'w+') as f:\n",
    "    for fam, inds in family_to_individuals.items():\n",
    "        mothers = [x for x in inds if sample_to_role[x]=='Mother']\n",
    "        fathers = [x for x in inds if sample_to_role[x]=='Father']\n",
    "        children = [x for x in inds if sample_to_role[x]=='Proband' or sample_to_role[x]=='Sibling']\n",
    "\n",
    "        if len(mothers)==0 and len(fathers)==0:\n",
    "            no_parents += len(children)\n",
    "            no_parents_sibpairs += scipy.special.comb(len(children), 2)\n",
    "            mother_id, father_id = '0', '0'\n",
    "        else:\n",
    "            if len(mothers)==0:\n",
    "                no_mother += len(children)\n",
    "                no_mother_sibpairs += scipy.special.comb(len(children), 2)\n",
    "                mother_id = '0'\n",
    "            elif len(mothers)==1:\n",
    "                mother_id = mothers[0]\n",
    "            else:\n",
    "                multiple_mothers += len(children)\n",
    "                mother_id = '0'\n",
    "\n",
    "            if len(fathers)==0:\n",
    "                no_father += len(children)\n",
    "                no_father_sibpairs += scipy.special.comb(len(children), 2)\n",
    "                father_id = '0'\n",
    "            elif len(fathers)==1:\n",
    "                father_id = fathers[0]\n",
    "            else:\n",
    "                multiple_fathers += len(children)\n",
    "                father_id = '0'\n",
    "                    \n",
    "        if mother_id != '0' and father_id != '0':\n",
    "            parents_ok += len(children)\n",
    "            parents_ok_sibpairs += scipy.special.comb(len(children), 2)\n",
    "                \n",
    "        for child in children:\n",
    "            f.write('\\t'.join([fam, child, father_id, mother_id, sample_to_sex[child], sample_to_asd[child]]) + '\\n')\n",
    "            \n",
    "print('parents ok', parents_ok, 'no parents', no_parents, 'no mother', no_mother, 'no father', no_father, 'multiple mothers', multiple_mothers, 'multiple fathers', multiple_fathers )\n",
    "print('parents ok', parents_ok_sibpairs, 'no parents', no_parents_sibpairs, 'no mother', no_mother_sibpairs, 'no father', no_father_sibpairs )\n",
    "\n",
    "# no parents 39 no mother 187 no father 2442 multiple mothers 0 multiple fathers 0          "
   ]
  },
  {
   "cell_type": "code",
   "execution_count": null,
   "metadata": {},
   "outputs": [],
   "source": []
  }
 ],
 "metadata": {
  "kernelspec": {
   "display_name": "Python 3",
   "language": "python",
   "name": "python3"
  },
  "language_info": {
   "codemirror_mode": {
    "name": "ipython",
    "version": 3
   },
   "file_extension": ".py",
   "mimetype": "text/x-python",
   "name": "python",
   "nbconvert_exporter": "python",
   "pygments_lexer": "ipython3",
   "version": "3.7.3"
  }
 },
 "nbformat": 4,
 "nbformat_minor": 2
}
