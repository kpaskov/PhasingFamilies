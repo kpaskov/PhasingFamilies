{
 "cells": [
  {
   "cell_type": "code",
   "execution_count": 126,
   "id": "956dc38f",
   "metadata": {},
   "outputs": [],
   "source": [
    "import numpy as np\n",
    "import matplotlib.pyplot as plt\n",
    "import json\n",
    "from collections import Counter\n",
    "\n",
    "\n",
    "import sys\n",
    "sys.path.append('../')\n",
    "sys.path.append('../phase')\n",
    "from phase.input_output import PhaseData\n",
    "from phase.qc import OutlierDetector"
   ]
  },
  {
   "cell_type": "code",
   "execution_count": 127,
   "id": "74787f78",
   "metadata": {},
   "outputs": [],
   "source": [
    "data_dir = '../../DATA/ssc.hg38'\n",
    "#data_dir = '../../DATA/platinum_sim'\n",
    "#phase_name = 'X'\n",
    "phase_name = None\n",
    "#phase_name = 'noDEL'\n",
    "\n",
    "colors = ['#4db6acff', '#ef6c00ff', '#b3a77dff', '#695d46ff', '#ce93d8ff', '#009668ff', ]"
   ]
  },
  {
   "cell_type": "code",
   "execution_count": 128,
   "id": "3e002f9c",
   "metadata": {},
   "outputs": [
    {
     "name": "stdout",
     "output_type": "stream",
     "text": [
      "sibpairs 1932\n",
      "crossovers 263558\n"
     ]
    }
   ],
   "source": [
    "phase_data = PhaseData(data_dir, phase_name)\n",
    "sibpairs = phase_data.get_sibpairs()\n",
    "print('sibpairs', len(sibpairs))\n",
    "\n",
    "crossovers = phase_data.get_crossovers()\n",
    "print('crossovers', len(crossovers))"
   ]
  },
  {
   "cell_type": "code",
   "execution_count": 129,
   "id": "2732dd2a",
   "metadata": {},
   "outputs": [],
   "source": [
    "crossover_lengths = np.array([co['end_pos']-co['start_pos'] for co in crossovers])\n",
    "is_mat = np.array([co['is_mat'] for co in crossovers])\n",
    "is_hts = np.array([co['is_hts'] for co in crossovers])"
   ]
  },
  {
   "cell_type": "code",
   "execution_count": 133,
   "id": "6e256104",
   "metadata": {},
   "outputs": [
    {
     "name": "stdout",
     "output_type": "stream",
     "text": [
      "['SSC03070', 'SSC02497', 'SSC02729', 'SSC00003', 'SSC00936', 'SSC00798', 'SSC02852', 'SSC00827', 'SSC02333', 'SSC00180', 'SSC02646', 'SSC00901', 'SSC00428', 'SSC01958', 'SSC01121', 'SSC00317', 'SSC00542', 'SSC02078', 'SSC02142', 'SSC00081', 'SSC01957', 'SSC00543', 'SSC00056', 'SSC00975', 'SSC09982', 'SSC00904', 'SSC00342', 'SSC02077', 'SSC00699', 'SSC00678', 'SSC02165', 'SSC02361', 'SSC02876', 'SSC01951', 'SSC02643', 'SSC02037', 'SSC00227', 'SSC00160', 'SSC00727', 'SSC02484', 'SSC03135', 'SSC02013', 'SSC00029', 'SSC00035', 'SSC02839', 'SSC02293', 'SSC02564', 'SSC00009', 'SSC00902', 'SSC02062', 'SSC02644', 'SSC02629', 'SSC02645', 'SSC02884', 'SSC02725', 'SSC00875', 'SSC00828', 'SSC01045', 'SSC02197', 'SSC03712', 'SSC01000', 'SSC02554', 'SSC01100', 'SSC00803', 'SSC00251', 'SSC04432', 'SSC00344', 'SSC00800', 'SSC03133', 'SSC02015', 'SSC02140', 'SSC00426', 'SSC03440', 'SSC00769', 'SSC00468', 'SS0013029', 'SSC00129', 'SSC01276', 'SSC02676', 'SSC02198', 'SSC02681', 'SSC03274', 'SSC02384', 'SSC00802', 'SSC01976', 'SSC00077', 'SSC00573', 'SSC00749', 'SSC00504', 'SSC00366', 'SSC00517', 'SSC00607', 'SSC00998', 'SSC00475', 'SSC02533', 'SSC02683', 'SSC00668', 'SSC00460', 'SSC01108', 'SSC02405', 'SSC00527', 'SSC02190', 'SSC00826', 'SSC02532', 'SSC02179', 'SSC00097', 'SSC02726', 'SSC02027', 'SSC02800', 'SSC00676', 'SSC02627', 'SSC02461', 'SSC02050', 'SSC00345', 'SSC00575', 'SSC03000', 'SSC02383', 'SSC02582', 'SSC00295', 'SSC02781', 'SSC00263', 'SSC02460', 'SSC00590', 'SSC02862', 'SSC02434', 'SSC02945', 'SSC02097', 'SSC00882', 'SSC00679', 'SSC00933', 'SSC00440', 'SSC02051', 'SSC02529', 'SSC02043', 'SSC00953', 'SSC02408', 'SSC02971', 'SSC00650', 'SSC00977', 'SSC02782', 'SS0012982', 'SSC02000', 'SSC02076', 'SSC03111', 'SSC02819', 'SSC02600', 'SSC02002', 'SSC02677', 'SSC02291', 'SSC02095', 'SSC02825', 'SSC02559', 'SSC02450', 'SSC02229', 'SSC00111', 'SSC02060', 'SSC02061', 'SSC02407', 'SSC00379', 'SSC00260', 'SSC01109', 'SSC01972', 'SSC02394', 'SSC00534', 'SSC02409', 'SSC00883', 'SSC02678', 'SSC00315', 'SS0013018', 'SSC02193', 'SSC00314', 'SSC02799', 'SSC00648', 'SSC00089', 'SSC00391', 'SSC00843', 'SSC02838', 'SSC00181', 'SSC00098', 'SSC02580', 'SSC00591', 'SSC02230', 'SSC02675', 'SSC02464', 'SSC01033', 'SSC00505', 'SSC02200', 'SSC00296', 'SSC02534', 'SSC01031', 'SSC02128', 'SSC02780', 'SSC00934', 'SSC02094', 'SSC01116', 'SSC02406', 'SSC00093', 'SSC02072', 'SSC00728', 'SSC00881', 'SSC01127', 'SSC03016', 'SSC01105', 'SSC01941', 'SSC00935', 'SSC02684', 'SSC02256', 'SSC00770', 'SSC00509', 'SSC02908', 'SSC02602', 'SSC00625', 'SSC00605', 'SSC01107', 'SSC02216', 'SSC02599', 'SS0013012', 'SSC00539', 'SSC00448', 'SSC02127', 'SSC00418', 'SSC00764', 'SSC02982', 'SSC00617', 'SSC02496', 'SSC00332', 'SSC02495', 'SSC00592', 'SSC00852', 'SSC00269', 'SSC02956', 'SSC00452', 'SSC00346', 'SSC02255', 'SSC02840', 'SSC00636', 'SSC02926', 'SSC00417', 'SSC02281', 'SSC02332', 'SSC02358', 'SSC00392', 'SSC00237', 'SSC02938', 'SSC02328', 'SSC02530', 'SSC00137', 'SSC02601', 'SSC03198', 'SSC02682', 'SSC02143', 'SSC00316', 'SSC00331', 'SSC00357', 'SSC03376', 'SSC02362', 'SSC02963', 'SSC00526', 'SSC00777', 'SSC01991', 'SSC00759', 'SSC00549', 'SSC00115', 'SSC02734', 'SSC00680', 'SSC00518', 'SSC02393', 'SSC00048', 'SSC00225', 'SSC02180', 'SSC01001', 'SSC04791', 'SSC02433', 'SSC02099', 'SSC02382', 'SSC00146', 'SSC00558', 'SSC00851', 'SSC00927', 'SSC00173', 'SSC02001', 'SSC00649', 'SSC03214', 'SSC00962', 'SSC00461', 'SSC02313', 'SSC00608', 'SSC02049', 'SSC02402', 'SSC00011', 'SSC00899', 'SSC02501', 'SSC02139', 'SSC02329', 'SSC00259', 'SSC00669', 'SSC00849', 'SSC02626', 'SSC02124', 'SSC02859', 'SSC01981', 'SSC02319', 'SSC00226', 'SSC01959', 'SSC00624', 'SSC02035', 'SSC00172', 'SSC00848', 'SSC03014', 'SSC00661', 'SSC02730', 'SSC03113', 'SSC02860', 'SSC02889', 'SSC02331', 'SSC02887', 'SSC03094', 'SSC03419', 'SSC03013', 'SSC02779', 'SSC03039', 'SSC03066', 'SSC03223', 'SSC00604', 'SSC02851', 'SSC03004', 'SSC03394', 'SSC02164', 'SSC06880', 'SSC04674', 'SSC04312', 'SSC03540', 'SSC02962', 'SSC03943', 'SSC03294', 'SSC03032', 'SSC03203', 'SSC02330', 'SSC03408', 'SSC03085', 'SSC03262', 'SSC02888', 'SSC02952', 'SSC03293', 'SSC02579', 'SSC03248', 'SSC03170', 'SSC03158', 'SSC03326', 'SSC03002', 'SSC03932', 'SSC04044', 'SSC03676', 'SSC03053', 'SSC03441', 'SSC04794', 'SSC03350', 'SSC03213', 'SSC05630', 'SSC03766', 'SSC03114', 'SSC03417', 'SSC03003', 'SSC03064', 'SSC03247', 'SSC03474', 'SSC03173', 'SSC03134', 'SSC03344', 'SSC03284', 'SSC03348', 'SSC03650', 'SSC03788', 'SSC03648', 'SSC03538', 'SSC03297', 'SSC02890', 'SSC03232', 'SSC03040', 'SSC03249', 'SSC05464', 'SSC05340', 'SSC03715', 'SSC03054', 'SSC02658', 'SSC03487', 'SSC07401', 'SSC03674', 'SSC02909', 'SSC03761', 'SSC03288', 'SSC02989', 'SSC03033', 'SSC03063', 'SSC04811', 'SSC03132', 'SSC03910', 'SSC03157', 'SSC03711', 'SSC03177', 'SSC03389', 'SSC03231', 'SSC03095', 'SSC03573', 'SSC03295', 'SSC03520', 'SSC04515', 'SSC04908', 'SSC03753', 'SSC03375', 'SSC03789', 'SSC03922', 'SSC03652', 'SSC03596', 'SSC04654', 'SSC03817', 'SSC03420', 'SSC03535', 'SSC03472', 'SSC03619', 'SSC04165', 'SSC03647', 'SSC03716', 'SSC04304', 'SSC03396', 'SSC04242', 'SSC03637', 'SSC03421', 'SSC03501', 'SSC03175', 'SSC03765', 'SSC03947', 'SSC05002', 'SSC03623', 'SSC03718', 'SSC03790', 'SSC03867', 'SSC04031', 'SSC03678', 'SSC03521', 'SSC03606', 'SSC03503', 'SSC03988', 'SSC03574', 'SSC05551', 'SSC04966', 'SSC03603', 'SSC03595', 'SSC04193', 'SSC11716', 'SSC03636', 'SSC03374', 'SSC03827', 'SSC03651', 'SSC04166', 'SSC03714', 'SSC04857', 'SSC04194', 'SSC04456', 'SSC03861', 'SSC04243', 'SSC03518', 'SSC07586', 'SSC04732', 'SSC03346', 'SSC03987', 'SSC04754', 'SSC03713', 'SSC03774', 'SSC03345', 'SSC04632', 'SSC03602', 'SSC04850', 'SSC03909', 'SSC05875', 'SSC03846', 'SSC03793', 'SSC05086', 'SSC12283', 'SSC03972', 'SSC03561', 'SSC04381', 'SSC04809', 'SSC04393', 'SSC05752', 'SSC12385', 'SSC05087', 'SSC05123', 'SSC03958', 'SSC04102', 'SSC03973', 'SSC03891', 'SSC04121', 'SSC04083', 'SSC03911', 'SSC03870', 'SSC04394', 'SSC04259', 'SSC04535', 'SSC04081', 'SS0012980', 'SSC03933', 'SSC06038', 'SS0012999', 'SSC04167', 'SSC03892', 'SSC05166', 'SSC04457', 'SSC04278', 'SSC03992', 'SSC04218', 'SSC04656', 'SSC04082', 'SSC04213', 'SSC04149', 'SSC04293', 'SSC04015', 'SSC04950', 'SSC04392', 'SSC03959', 'SSC04733', 'SSC04756', 'SSC06165', 'SSC04305', 'SSC04589', 'SSC04655', 'SSC04348', 'SSC04399', 'SSC04103', 'SSC04266', 'SSC04085', 'SSC04046', 'SSC04538', 'SSC04233', 'SSC04967', 'SSC04232', 'SSC04071', 'SSC04692', 'SSC05414', 'SSC05027', 'SSC04104', 'SSC04202', 'SSC04536', 'SSC04643', 'SSC04878', 'SSC04368', 'SSC04230', 'SSC05197', 'SSC04292', 'SSC04351', 'SSC04105', 'SSC04516', 'SSC04382', 'SSC05250', 'SSC04265', 'SSC05773', 'SSC04564', 'SSC04565', 'SSC04633', 'SSC04587', 'SSC06186', 'SSC04460', 'SSC04398', 'SSC05431', 'SSC10851', 'SSC04431', 'SSC04755', 'SSC06404', 'SSC04322', 'SSC04037', 'SSC04490', 'SSC04501', 'SSC04673', 'SSC06244', 'SSC04911', 'SSC04635', 'SSC04537', 'SSC04465', 'SSC04397', 'SSC04350', 'SSC04562', 'SS0013020', 'SSC04687', 'SSC04592', 'SSC04320', 'SSC05168', 'SSC04395', 'SSC05299', 'SSC04419', 'SSC04367', 'SSC04042', 'SSC04063', 'SSC04434', 'SSC04624', 'SSC04672', 'SSC04902', 'SSC03990', 'SSC04499', 'SSC04566', 'SSC04517', 'SSC04041', 'SSC04464', 'SSC04498', 'SSC04583', 'SSC04518', 'SSC05169', 'SSC05088', 'SSC04462', 'SSC04890', 'SSC05432', 'SSC05707', 'SSC05125', 'SSC06968', 'SSC04851', 'SSC05568', 'SSC04704', 'SSC04693', 'SSC04859', 'SSC05513', 'SSC05595', 'SSC04840', 'SSC05436', 'SSC05572', 'SSC05260', 'SSC04996', 'SSC05232', 'SSC05030', 'SSC05300', 'SSC05089', 'SSC05051', 'SSC05171', 'SSC05395', 'SSC05321', 'SSC05149', 'SSC05866', 'SSC04780', 'SSC04826', 'SSC04016', 'SSC04349', 'SSC04838', 'SSC04932', 'SSC05813', 'SSC04941', 'SSC05064', 'SSC05628', 'SSC04721', 'SSC05066', 'SSC04792', 'SSC06431', 'SSC04977', 'SSC05091', 'SSC04927', 'SSC05235', 'SSC05285', 'SSC06157', 'SSC05092', 'SSC05433', 'SSC05251', 'SSC09045', 'SSC04979', 'SSC05150', 'SSC05995', 'SSC05996', 'SSC05136', 'SSC05077', 'SSC05470', 'SSC05026', 'SSC05416', 'SSC06388', 'SSC04978', 'SSC05298', 'SSC05156', 'SSC05627', 'SSC05497', 'SSC05286', 'SSC05945', 'SSC05828', 'SSC05007', 'SSC05590', 'SSC05512', 'SSC05301', 'SSC05882', 'SSC05413', 'SSC05029', 'SSC05065', 'SSC05631', 'SSC04999', 'SSC05233', 'SSC05090', 'SSC06545', 'SSC05415', 'SSC07140', 'SSC05655', 'SSC04747', 'SSC05657', 'SSC07798', 'SSC05435', 'SSC05794', 'SSC05124', 'SSC05778', 'SSC06156', 'SSC06711', 'SSC05373', 'SSC05275', 'SSC08003', 'SSC05598', 'SSC06041', 'SSC06387', 'SSC05514', 'SSC05569', 'SSC05371', 'SSC06477', 'SSC05552', 'SSC05418', 'SSC05234', 'SSC05170', 'SSC06657', 'SSC06116', 'SSC05516', 'SSC05659', 'SSC05325', 'SSC05058', 'SSC05599', 'SSC06115', 'SSC05895', 'SSC05198', 'SSC05396', 'SSC05554', 'SSC06174', 'SSC05370', 'SSC05143', 'SSC05465', 'SSC05597', 'SSC05540', 'SSC04796', 'SSC05629', 'SSC05372', 'SSC05224', 'SSC05323', 'SSC05963', 'SSC06720', 'SSC05351', 'SSC05670', 'SSC05515', 'SSC06056', 'SSC05665', 'SSC06117', 'SSC06905', 'SSC05172', 'SSC06246', 'SSC06546', 'SSC05684', 'SSC05463', 'SSC05664', 'SSC05784', 'SSC05349', 'SSC06069', 'SSC05468', 'SSC05437', 'SSC09430', 'SSC05812', 'SSC04928', 'SSC05872', 'SSC05990', 'SSC05755', 'SSC06114', 'SSC05392', 'SSC06263', 'SSC06947', 'SSC05462', 'SSC06309', 'SSC06389', 'SSC06406', 'SSC06366', 'SSC05826', 'SSC05469', 'SSC05671', 'SSC05600', 'SSC05947', 'SSC05849', 'SSC06612', 'SSC05594', 'SSC06433', 'SSC05570', 'SSC05971', 'SSC07045', 'SSC05553', 'SSC06683', 'SSC05006', 'SSC05830', 'SSC05767', 'SSC06416', 'SSC05726', 'SSC05918', 'SSC04942', 'SSC05994', 'SSC05797', 'SSC06229', 'SSC06095', 'SSC07046', 'SSC06364', 'SSC05931', 'SSC06072', 'SSC07098', 'SSC06014', 'SSC07207', 'SSC08564', 'SSC06173', 'SSC05861', 'SSC06078', 'SSC06202', 'SSC06042', 'SSC05814', 'SSC05972', 'SSC06297', 'SSC06607', 'SSC06567', 'SSC06470', 'SSC06219', 'SSC06092', 'SSC06030', 'SSC05894', 'SSC06091', 'SSC06111', 'SSC04989', 'SSC06434', 'SSC06020', 'SSC05919', 'SSC06500', 'SSC05973', 'SSC05827', 'SSC06203', 'SSC06096', 'SSC05893', 'SSC07183', 'SSC07230', 'SSC07229', 'SSC06345', 'SSC06132', 'SSC06435', 'SSC11078', 'SSC06080', 'SSC06853', 'SSC06327', 'SSC06501', 'SSC06044', 'SSC06611', 'SSC06346', 'SSC05829', 'SSC06286', 'SSC06131', 'SSC05709', 'SSC06842', 'SSC06326', 'SSC05743', 'SSC06452', 'SSC06601', 'SSC06166', 'SSC07141', 'SSC06134', 'SSC06825', 'SSC06562', 'SSC06266', 'SSC06699', 'SSC06308', 'SSC06242', 'SSC06772', 'SSC05997', 'SSC06079', 'SSC06522', 'SSC06474', 'SSC06417', 'SSC06268', 'SSC06231', 'SSC06659', 'SSC06653', 'SSC06307', 'SSC07099', 'SSC06615', 'SSC06476', 'SSC07047', 'SSC06453', 'SSC06362', 'SSC06608', 'SSC06471', 'SSC06323', 'SSC06405', 'SSC06418', 'SSC06969', 'SSC06175', 'SSC06563', 'SSC07095', 'SSC06984', 'SSC06324', 'SSC06243', 'SSC06525', 'SSC06966', 'SSC06472', 'SSC06363', 'SSC06544', 'SSC06614', 'SSC06754', 'SSC06610', 'SSC09117', 'SSC06658', 'SSC06569', 'SSC06597', 'SSC06187', 'SSC06454', 'SSC06655', 'SSC08464', 'SSC06502', 'SSC06654', 'SSC07364', 'SSC06526', 'SSC07122', 'SSC06432', 'SSC07251', 'SSC07029', 'SSC06347', 'SSC06722', 'SSC06684', 'SSC06883', 'SSC06568', 'SSC06523', 'SSC06473', 'SSC06189', 'SSC06524', 'SSC06299', 'SSC06712', 'SSC05729', 'SSC07063', 'SSC06499', 'SSC06609', 'SSC06827', 'SSC06787', 'SSC06810', 'SSC07324', 'SSC07444', 'SSC07406', 'SSC07605', 'SSC07733', 'SSC07163', 'SSC06809', 'SSC06995', 'SSC07550', 'SSC06755', 'SSC07526', 'SSC07073', 'SSC07669', 'SSC07138', 'SSC07501', 'SSC07044', 'SSC06886', 'SSC05692', 'SSC06956', 'SSC07026', 'SSC07064', 'SSC07684', 'SSC07281', 'SSC06613', 'SSC06800', 'SSC06147', 'SSC07013', 'SSC07089', 'SSC06736', 'SSC06868', 'SSC07078', 'SSC06773', 'SS0013023', 'SSC07048', 'SSC06877', 'SSC06994', 'SSC06826', 'SSC06932', 'SSC07523', 'SSC06904', 'SSC06985', 'SSC07303', 'SSC07302', 'SSC06938', 'SSC07627', 'SSC07101', 'SSC07097', 'SSC07135', 'SSC07264', 'SSC07239', 'SSC06970', 'SSC09140', 'SSC07759', 'SSC07139', 'SSC07096', 'SSC07185', 'SSC07015', 'SSC07006', 'SSC08500', 'SSC06922', 'SSC07284', 'SSC07394', 'SSC07144', 'SSC07569', 'SSC07279', 'SSC07502', 'SSC07209', 'SSC07392', 'SSC07370', 'SSC07715', 'SSC10147', 'SSC07551', 'SSC07466', 'SSC12757', 'SSC07016', 'SSC07304', 'SSC07503', 'SSC07100', 'SSC07184', 'SSC07265', 'SSC09305', 'SSC07439', 'SSC07796', 'SSC07158', 'SSC09281', 'SSC07261', 'SSC08042', 'SSC06844', 'SSC07418', 'SSC06854', 'SSC07170', 'SSC08404', 'SSC06884', 'SSC06888', 'SSC07327', 'SSC07171', 'SSC08052', 'SSC06937', 'SSC07619', 'SSC07326', 'SSC07827', 'SSC08123', 'SSC07467', 'SSC07420', 'SSC07079', 'SSC07028', 'SSC06920', 'SSC08406', 'SSC07468', 'SS0013013', 'SSC07249', 'SSC07238', 'SSC07587', 'SSC07685', 'SSC07250', 'SSC07325', 'SSC07441', 'SSC08665', 'SSC07343', 'SS0013009', 'SSC07552', 'SSC10795', 'SSC07341', 'SSC07305', 'SSC06957', 'SSC07614', 'SS0013040', 'SSC07211', 'SSC07570', 'SSC07443', 'SSC07391', 'SSC07263', 'SSC07471', 'SSC07202', 'SSC07767', 'SSC07282', 'SSC07340', 'SSC07280', 'SSC07065', 'SSC07822', 'SSC07646', 'SSC07734', 'SSC07924', 'SSC07782', 'SSC07585', 'SSC07716', 'SSC07758', 'SSC07470', 'SSC07637', 'SSC07950', 'SSC07604', 'SSC07542', 'SSC08102', 'SSC07987', 'SSC07458', 'SSC07528', 'SSC07201', 'SSC07440', 'SSC08124', 'SSC06322', 'SSC08552', 'SSC09220', 'SSC07901', 'SSC07624', 'SSC07461', 'SSC07524', 'SSC07553', 'SSC08122', 'SSC08473', 'SSC08002', 'SSC08333', 'SSC08246', 'SSC07932', 'SSC08194', 'SSC07951', 'SSC07969', 'SSC08104', 'SSC07687', 'SSC07968', 'SSC07843', 'SSC07797', 'SSC07572', 'SSC08245', 'SSC07699', 'SS0012989', 'SSC07799', 'SSC07999', 'SSC07933', 'SSC08101', 'SSC07630', 'SSC08423', 'SSC08373', 'SSC07842', 'SSC07718', 'SSC08168', 'SSC08307', 'SSC08058', 'SSC07671', 'SSC08242', 'SSC08169', 'SSC08396', 'SSC07777', 'SSC08077', 'SSC08040', 'SSC08217', 'SSC08031', 'SSC08243', 'SSC08089', 'SSC07826', 'SSC07749', 'SSC07929', 'SSC08364', 'SSC08141', 'SSC07993', 'SSC07869', 'SSC08263', 'SSC08103', 'SSC07934', 'SSC08165', 'SSC07815', 'SSC07870', 'SSC07657', 'SSC08407', 'SSC08284', 'SSC08001', 'SSC07880', 'SSC08167', 'SSC08351', 'SSC08151', 'SSC08166', 'SSC07902', 'SSC08041', 'SSC08444', 'SSC08292', 'SSC08266', 'SSC08372', 'SSC06986', 'SSC08032', 'SSC08907', 'SSC08349', 'SSC08812', 'SSC08235', 'SSC07998', 'SSC08192', 'SSC08567', 'SSC08593', 'SSC08463', 'SSC08477', 'SSC08628', 'SSC08078', 'SSC08659', 'SSC09103', 'SSC08767', 'SSC07953', 'SSC08153', 'SSC08592', 'SS0013036', 'SSC08334', 'SSC08424', 'SSC08289', 'SSC08261', 'SSC08980', 'SSC08501', 'SSC08936', 'SSC07864', 'SSC08722', 'SSC08057', 'SSC08684', 'SSC07971', 'SSC08405', 'SSC08446', 'SSC08551', 'SSC08518', 'SSC08937', 'SSC08871', 'SSC08290', 'SSC08655', 'SSC08362', 'SSC07789', 'SSC08721', 'SSC09108', 'SSC09090', 'SSC08191', 'SSC08637', 'SSC08054', 'SSC09193', 'SSC08800', 'SSC08208', 'SSC09194', 'SSC08425', 'SSC08125', 'SSC08218', 'SSC08146', 'SSC08715', 'SSC08502', 'SSC08756', 'SSC08581', 'SSC07859', 'SSC08599', 'SSC09241', 'SSC08844', 'SSC08992', 'SSC08768', 'SSC09470', 'SSC08995', 'SSC08625', 'SSC08739', 'SSC09141', 'SSC09446', 'SSC08582', 'SSC09226', 'SSC09359', 'SSC08864', 'SSC08374', 'SSC09456', 'SSC09262', 'SSC09282', 'SSC09116', 'SSC08952', 'SSC08664', 'SSC08750', 'SSC09447', 'SSC08732', 'SSC09346', 'SS0012979', 'SSC08869', 'SSC08638', 'SSC09405', 'SSC08843', 'SSC09195', 'SSC08606', 'SSC08951', 'SSC09307', 'SSC08841', 'SSC09033', 'SSC08761', 'SSC09057', 'SSC08566', 'SSC08663', 'SSC07970', 'SSC09015', 'SSC08798', 'SSC08954', 'SSC09172', 'SSC08882', 'SSC09225', 'SS0013019', 'SSC09448', 'SSC09185', 'SSC08640', 'SSC08530', 'SS0013025', 'SSC09224', 'SSC08909', 'SSC09089', 'SSC09133', 'SSC09509', 'SSC09492', 'SSC09154', 'SSC08627', 'SSC08994', 'SSC09323', 'SSC09306', 'SSC09153', 'SSC09115', 'SSC08475', 'SSC08827', 'SSC08908', 'SSC09118', 'SSC09521', 'SSC09360', 'SSC09785', 'SSC09054', 'SSC08955', 'SSC08056', 'SSC09155', 'SSC08541', 'SSC08906', 'SSC09055', 'SSC09560', 'SSC08799', 'SSC09383', 'SSC09802', 'SSC09449', 'SSC08053', 'SSC08681', 'SSC09499', 'SSC08550', 'SSC09403', 'SSC08935', 'SSC09402', 'SSC09044', 'SSC09669', 'SSC09242', 'SSC09216', 'SSC08540', 'SSC09284', 'SSC09204', 'SSC08883', 'SSC08953', 'SSC09431', 'SSC08755', 'SSC09168', 'SSC08783', 'SSC09156', 'SSC08607', 'SSC09364', 'SSC08996', 'SSC09467', 'SSC08826', 'SSC08927', 'SSC09498', 'SSC09554', 'SSC09582', 'SSC09326', 'SSC09491', 'SSC09358', 'SSC09279', 'SSC09343', 'SSC09634', 'SSC10181', 'SSC09846', 'SSC09552', 'SSC09724', 'SSC09938', 'SSC09624', 'SSC08683', 'SSC10084', 'SSC09856', 'SSC10108', 'SSC09590', 'SSC09875', 'SSC09720', 'SSC09749', 'SSC09754', 'SSC10003', 'SSC09980', 'SSC09837', 'SSC09976', 'SSC09941', 'SSC10123', 'SSC09822', 'SSC10172', 'SSC10036', 'SSC09940', 'SSC09641', 'SSC09546', 'SSC09967', 'SSC10148', 'SSC09519', 'SSC10001', 'SSC10098', 'SSC10211', 'SSC09283', 'SSC10120', 'SSC10052', 'SSC09872', 'SSC09771', 'SSC09694', 'SSC09808', 'SSC09585', 'SSC09781', 'SSC09939', 'SSC09584', 'SSC09518', 'SSC10017', 'SSC09569', 'SSC09642', 'SSC09542', 'SSC09780', 'SSC09874', 'SSC10243', 'SSC10124', 'SSC10085', 'SSC09824', 'SSC10197', 'SSC09904', 'SSC09687', 'SSC09613', 'SSC10194', 'SSC09666', 'SSC09614', 'SSC09845', 'SSC09758', 'SSC09017', 'SSC09784', 'SSC09929', 'SSC09823', 'SSC10320', 'SSC10306', 'SSC09978', 'SSC10212', 'SSC09756', 'SSC10360', 'SSC10334', 'SSC09894', 'SSC10362', 'SSC10335', 'SSC10125', 'SSC10361', 'SSC09755', 'SSC10260', 'SSC09205', 'SSC10182', 'SSC08710', 'SSC10293', 'SSC10010', 'SSC10236', 'SSC10447', 'SSC09844', 'SSC09977', 'SSC10347', 'SSC10053', 'SSC10288', 'SSC10285', 'SSC10020', 'SSC10031', 'SSC10269', 'SSC10286', 'SSC09587', 'SSC09809', 'SSC10359', 'SSC10289', 'SSC09649', 'SSC09871', 'SSC10121', 'SSC10171', 'SSC10271', 'SSC10391', 'SSC10390', 'SSC10386', 'SSC10290', 'SSC09520', 'SSC10095', 'SSC10122', 'SSC10364', 'SSC10270', 'SSC10259', 'SSC09707', 'SSC10385', 'SSC10210', 'SSC09896', 'SSC10235', 'SSC10056', 'SSC08945', 'SSC10145', 'SSC10388', 'SSC10015', 'SSC09586', 'SSC10777', 'SSC10599', 'SSC10709', 'SSC10536', 'SSC10956', 'SSC10749', 'SSC10566', 'SSC10495', 'SSC10483', 'SSC10534', 'SSC10663', 'SSC10925', 'SSC10550', 'SSC10509', 'SSC10521', 'SSC10778', 'SSC10662', 'SSC10614', 'SSC10707', 'SSC11008', 'SSC10598', 'SSC10615', 'SSC10671', 'SSC10510', 'SSC11098', 'SSC11092', 'SSC11111', 'SSC11110', 'SSC10588', 'SSC10511', 'SSC10601', 'SSC10758', 'SSC10929', 'SSC10901', 'SSC11183', 'SSC10693', 'SSC10416', 'SSC10730', 'SSC10654', 'SSC10635', 'SSC10109', 'SSC10801', 'SSC10853', 'SSC09514', 'SSC10708', 'SSC10658', 'SSC10246', 'SSC10933', 'SSC10389', 'SSC10463', 'SSC10584', 'SSC11085', 'SSC10776', 'SSC09651', 'SSC10689', 'SSC10932', 'SSC10968', 'SSC10957', 'SSC10431', 'SSC10589', 'SSC10811', 'SSC10695', 'SSC10535', 'SSC10836', 'SSC10568', 'SSC10903', 'SSC10935', 'SSC10930', 'SSC10563', 'SSC10706', 'SSC10856', 'SSC10551', 'SSC10126', 'SSC10852', 'SSC10728', 'SSC10462', 'SSC10854', 'SSC11147', 'SSC10970', 'SSC10674', 'SSC11031', 'SSC10814', 'SSC10503', 'SSC11148', 'SSC11202', 'SSC10810', 'SSC11185', 'SSC11010', 'SSC11055', 'SSC10812', 'SSC11047', 'SSC10879', 'SSC11200', 'SSC10829', 'SSC11174', 'SSC10624', 'SSC10475', 'SSC10917', 'SSC10729', 'SSC10694', 'SSC10928', 'SSC11230', 'SSC10722', 'SSC11054', 'SSC10292', 'SSC10567', 'SSC11006', 'SSC11199', 'SSC11000', 'SSC10918', 'SSC10985', 'SSC11115', 'SSC11113', 'SSC11086', 'SSC10623', 'SSC10642', 'SSC10880', 'SSC11109', 'SSC11053', 'SSC11164', 'SSC10653', 'SSC11099', 'SSC10622', 'SSC10477', 'SSC10759', 'SSC10756', 'SSC11114', 'SSC10831', 'SSC11112', 'SSC10984', 'SSC11044', 'SSC10774', 'SSC10846', 'SSC11186', 'SSC10855', 'SSC11033', 'SSC10578', 'SSC10900', 'SSC10429', 'SSC11149', 'SSC10634', 'SSC10533', 'SSC11201', 'SSC10878', 'SSC10934', 'SSC10971', 'SSC11064', 'SSC10794', 'SSC10876', 'SSC11492', 'SSC11251', 'SSC11300', 'SSC11853', 'SSC11829', 'SSC11591', 'SSC11731', 'SSC11785', 'SSC11493', 'SSC11404', 'SSC11745', 'SSC11871', 'SSC11525', 'SSC09681', 'SSC11480', 'SSC11607', 'SSC11725', 'SSC11852', 'SSC11631', 'SSC11558', 'SSC11401', 'SSC11980', 'SSC11313', 'SSC11946', 'SSC11792', 'SSC11732', 'SSC11761', 'SSC11403', 'SSC11436', 'SSC11394', 'SSC11231', 'SSC11568', 'SSC11994', 'SSC11413', 'SSC11437', 'SSC11810', 'SSC10643', 'SSC11936', 'SSC11438', 'SSC11608', 'SSC11682', 'SSC11483', 'SSC11456', 'SSC11642', 'SSC11484', 'SSC11556', 'SSC11557', 'SSC11753', 'SSC11373', 'SSC11512', 'SSC11440', 'SSC11328', 'SSC11347', 'SSC11286', 'SSC11826', 'SSC11872', 'SSC11684', 'SSC11356', 'SSC11311', 'SSC11502', 'SSC10775', 'SSC11232', 'SSC11746', 'SSC11350', 'SSC11434', 'SSC11501', 'SSC11363', 'SSC11660', 'SSC11439', 'SSC11827', 'SSC11371', 'SSC11592', 'SSC11730', 'SSC11312', 'SSC11860', 'SSC11527', 'SSC11773', 'SSC12049', 'SSC11463', 'SSC09918', 'SSC11717', 'SSC11993', 'SSC12037', 'SSC11830', 'SSC11912', 'SSC11911', 'SSC10342', 'SSC11809', 'SSC11369', 'SSC12048', 'SSC11895', 'SSC11341', 'SSC11301', 'SSC11811', 'SSC11758', 'SSC11861', 'SSC11705', 'SSC11602', 'SSC11615', 'SSC11658', 'SSC11979', 'SSC11659', 'SSC11868', 'SSC11569', 'SSC11250', 'SSC12015', 'SSC11759', 'SSC11869', 'SSC11465', 'SSC11203', 'SSC11163', 'SSC11329', 'SSC11728', 'SSC12036', 'SSC11528', 'SSC11926', 'SSC11873', 'SSC11965', 'SSC11925', 'SSC12057', 'SSC11570', 'SSC11265', 'SSC11325', 'SSC11370', 'SSC11414', 'SSC11825', 'SSC11757', 'SSC11954', 'SSC11905', 'SSC11991', 'SSC11524', 'SSC11572', 'SSC11221', 'SSC11661', 'SSC11990', 'SSC11870', 'SSC12016', 'SSC11511', 'SSC11571', 'SSC12058', 'SSC11274', 'SSC11639', 'SSC11555', 'SSC11549', 'SSC11617', 'SSC12347', 'SSC12473', 'SSC12444', 'SSC12537', 'SSC12284', 'SSC12620', 'SSC12450', 'SSC12240', 'SSC12643', 'SSC12131', 'SSC12116', 'SSC12329', 'SSC12227', 'SSC12538', 'SSC12660', 'SSC12613', 'SSC12364', 'SSC12727', 'SSC12269', 'SSC12539', 'SSC12310', 'SSC12017', 'SSC12188', 'SSC12086', 'SSC12879', 'SSC12556', 'SSC12724', 'SSC12143', 'SSC12564', 'SSC12877', 'SSC12409', 'SSC12687', 'SSC12285', 'SSC12041', 'SSC12583', 'SSC12663', 'SSC11798', 'SSC12311', 'SSC12702', 'SSC12270', 'SSC12695', 'SSC12208', 'SSC12286', 'SSC12703', 'SSC11326', 'SSC12252', 'SSC12489', 'SSC12093', 'SSC12172', 'SSC12153', 'SSC12399', 'SSC12475', 'SSC12632', 'SSC12573', 'SSC12723', 'SSC12060', 'SSC12642', 'SSC12253', 'SSC12518', 'SSC12199', 'SSC12609', 'SSC12614', 'SSC12507', 'SSC12059', 'SSC12109', 'SSC12333', 'SSC12662', 'SSC12592', 'SSC12517', 'SSC12411', 'SSC12280', 'SSC12018', 'SSC12238', 'SSC12130', 'SSC12423', 'SSC12307', 'SSC12309', 'SSC12102', 'SSC12641', 'SSC12593', 'SSC12939', 'SSC12397', 'SSC12618', 'SSC12933', 'SSC12348', 'SSC12194', 'SSC12825', 'SSC12374', 'SSC12391', 'SSC12914', 'SSC12438', 'SSC12536', 'SSC12555', 'SSC12331', 'SSC12721', 'SSC12424', 'SSC12684', 'SSC12759', 'SSC12760', 'SSC12079', 'SSC12631', 'SSC12447', 'SSC12300', 'SSC12132', 'SSC12362', 'SSC11933', 'SSC12661', 'SSC12701', 'SSC12800', 'SSC12582', 'SSC12826', 'SSC12878', 'SSC12853', 'SSC12094', 'SSC12781', 'SSC12921', 'SSC12180', 'SSC12349', 'SSC12865', 'SSC12519', 'SSC12150', 'SSC12080', 'SSC12758', 'SSC12801', 'SSC12205', 'SSC12798', 'SSC12729', 'SSC12892', 'SSC12372', 'SSC12392', 'SSC12567', 'SSC12940', 'SSC12398', 'SSC12346', 'SSC12894', 'SSC12705', 'SSC12779', 'SSC12601', 'SSC12506', 'SSC12895', 'SSC12207', 'SSC12799', 'SSC12824', 'SSC12226', 'SSC12505', 'SSC12193', 'SSC12722', 'SSC12117', 'SSC12762', 'SSC12959', 'SSC12823', 'SSC12953']\n"
     ]
    },
    {
     "ename": "KeyError",
     "evalue": "'maternal_crossovers'",
     "output_type": "error",
     "traceback": [
      "\u001b[0;31m---------------------------------------------------------------------------\u001b[0m",
      "\u001b[0;31mKeyError\u001b[0m                                  Traceback (most recent call last)",
      "\u001b[0;32m/var/folders/hp/72rjd_x140qf9f9d9f4hy40c0000gp/T/ipykernel_57558/82169589.py\u001b[0m in \u001b[0;36m<module>\u001b[0;34m\u001b[0m\n\u001b[1;32m      1\u001b[0m \u001b[0mprint\u001b[0m\u001b[0;34m(\u001b[0m\u001b[0;34m[\u001b[0m\u001b[0mx\u001b[0m\u001b[0;34m[\u001b[0m\u001b[0;34m'sibling1'\u001b[0m\u001b[0;34m]\u001b[0m \u001b[0;32mfor\u001b[0m \u001b[0mx\u001b[0m \u001b[0;32min\u001b[0m \u001b[0msibpairs\u001b[0m \u001b[0;32mif\u001b[0m \u001b[0;34m'maternal_crossovers'\u001b[0m \u001b[0;32mnot\u001b[0m \u001b[0;32min\u001b[0m \u001b[0mx\u001b[0m\u001b[0;34m]\u001b[0m\u001b[0;34m)\u001b[0m\u001b[0;34m\u001b[0m\u001b[0;34m\u001b[0m\u001b[0m\n\u001b[1;32m      2\u001b[0m \u001b[0;34m\u001b[0m\u001b[0m\n\u001b[0;32m----> 3\u001b[0;31m \u001b[0mmat_crossovers\u001b[0m \u001b[0;34m=\u001b[0m \u001b[0mnp\u001b[0m\u001b[0;34m.\u001b[0m\u001b[0marray\u001b[0m\u001b[0;34m(\u001b[0m\u001b[0;34m[\u001b[0m\u001b[0mx\u001b[0m\u001b[0;34m[\u001b[0m\u001b[0;34m'maternal_crossovers'\u001b[0m\u001b[0;34m]\u001b[0m \u001b[0;32mfor\u001b[0m \u001b[0mx\u001b[0m \u001b[0;32min\u001b[0m \u001b[0msibpairs\u001b[0m \u001b[0;32mif\u001b[0m \u001b[0mx\u001b[0m\u001b[0;34m[\u001b[0m\u001b[0;34m'is_fully_phased'\u001b[0m\u001b[0;34m]\u001b[0m\u001b[0;34m]\u001b[0m\u001b[0;34m)\u001b[0m\u001b[0;34m\u001b[0m\u001b[0;34m\u001b[0m\u001b[0m\n\u001b[0m\u001b[1;32m      4\u001b[0m \u001b[0mpat_crossovers\u001b[0m \u001b[0;34m=\u001b[0m \u001b[0mnp\u001b[0m\u001b[0;34m.\u001b[0m\u001b[0marray\u001b[0m\u001b[0;34m(\u001b[0m\u001b[0;34m[\u001b[0m\u001b[0mx\u001b[0m\u001b[0;34m[\u001b[0m\u001b[0;34m'paternal_crossovers'\u001b[0m\u001b[0;34m]\u001b[0m \u001b[0;32mfor\u001b[0m \u001b[0mx\u001b[0m \u001b[0;32min\u001b[0m \u001b[0msibpairs\u001b[0m \u001b[0;32mif\u001b[0m \u001b[0mx\u001b[0m\u001b[0;34m[\u001b[0m\u001b[0;34m'is_fully_phased'\u001b[0m\u001b[0;34m]\u001b[0m\u001b[0;34m]\u001b[0m\u001b[0;34m)\u001b[0m\u001b[0;34m\u001b[0m\u001b[0;34m\u001b[0m\u001b[0m\n\u001b[1;32m      5\u001b[0m \u001b[0;34m\u001b[0m\u001b[0m\n",
      "\u001b[0;32m/var/folders/hp/72rjd_x140qf9f9d9f4hy40c0000gp/T/ipykernel_57558/82169589.py\u001b[0m in \u001b[0;36m<listcomp>\u001b[0;34m(.0)\u001b[0m\n\u001b[1;32m      1\u001b[0m \u001b[0mprint\u001b[0m\u001b[0;34m(\u001b[0m\u001b[0;34m[\u001b[0m\u001b[0mx\u001b[0m\u001b[0;34m[\u001b[0m\u001b[0;34m'sibling1'\u001b[0m\u001b[0;34m]\u001b[0m \u001b[0;32mfor\u001b[0m \u001b[0mx\u001b[0m \u001b[0;32min\u001b[0m \u001b[0msibpairs\u001b[0m \u001b[0;32mif\u001b[0m \u001b[0;34m'maternal_crossovers'\u001b[0m \u001b[0;32mnot\u001b[0m \u001b[0;32min\u001b[0m \u001b[0mx\u001b[0m\u001b[0;34m]\u001b[0m\u001b[0;34m)\u001b[0m\u001b[0;34m\u001b[0m\u001b[0;34m\u001b[0m\u001b[0m\n\u001b[1;32m      2\u001b[0m \u001b[0;34m\u001b[0m\u001b[0m\n\u001b[0;32m----> 3\u001b[0;31m \u001b[0mmat_crossovers\u001b[0m \u001b[0;34m=\u001b[0m \u001b[0mnp\u001b[0m\u001b[0;34m.\u001b[0m\u001b[0marray\u001b[0m\u001b[0;34m(\u001b[0m\u001b[0;34m[\u001b[0m\u001b[0mx\u001b[0m\u001b[0;34m[\u001b[0m\u001b[0;34m'maternal_crossovers'\u001b[0m\u001b[0;34m]\u001b[0m \u001b[0;32mfor\u001b[0m \u001b[0mx\u001b[0m \u001b[0;32min\u001b[0m \u001b[0msibpairs\u001b[0m \u001b[0;32mif\u001b[0m \u001b[0mx\u001b[0m\u001b[0;34m[\u001b[0m\u001b[0;34m'is_fully_phased'\u001b[0m\u001b[0;34m]\u001b[0m\u001b[0;34m]\u001b[0m\u001b[0;34m)\u001b[0m\u001b[0;34m\u001b[0m\u001b[0;34m\u001b[0m\u001b[0m\n\u001b[0m\u001b[1;32m      4\u001b[0m \u001b[0mpat_crossovers\u001b[0m \u001b[0;34m=\u001b[0m \u001b[0mnp\u001b[0m\u001b[0;34m.\u001b[0m\u001b[0marray\u001b[0m\u001b[0;34m(\u001b[0m\u001b[0;34m[\u001b[0m\u001b[0mx\u001b[0m\u001b[0;34m[\u001b[0m\u001b[0;34m'paternal_crossovers'\u001b[0m\u001b[0;34m]\u001b[0m \u001b[0;32mfor\u001b[0m \u001b[0mx\u001b[0m \u001b[0;32min\u001b[0m \u001b[0msibpairs\u001b[0m \u001b[0;32mif\u001b[0m \u001b[0mx\u001b[0m\u001b[0;34m[\u001b[0m\u001b[0;34m'is_fully_phased'\u001b[0m\u001b[0;34m]\u001b[0m\u001b[0;34m]\u001b[0m\u001b[0;34m)\u001b[0m\u001b[0;34m\u001b[0m\u001b[0;34m\u001b[0m\u001b[0m\n\u001b[1;32m      5\u001b[0m \u001b[0;34m\u001b[0m\u001b[0m\n",
      "\u001b[0;31mKeyError\u001b[0m: 'maternal_crossovers'"
     ]
    }
   ],
   "source": [
    "mat_crossovers = np.array([x['maternal_crossovers'] for x in sibpairs if x['is_fully_phased']])\n",
    "pat_crossovers = np.array([x['paternal_crossovers'] for x in sibpairs if x['is_fully_phased']])\n",
    "\n",
    "is_ibd_outlier = np.array([x['is_ibd_outlier'] for x in sibpairs if x['is_fully_phased']], dtype=bool)\n",
    "is_outlier = np.array([x['is_crossover_outlier'] for x in sibpairs if x['is_fully_phased']], dtype=bool)\n",
    "\n",
    "print('outliers', np.sum(is_outlier))\n",
    "\n",
    "x_min, x_max = np.min(mat_crossovers[~is_ibd_outlier])-5, np.max(mat_crossovers[~is_ibd_outlier])+5\n",
    "y_min, y_max = np.min(pat_crossovers[~is_ibd_outlier])-5, np.max(pat_crossovers[~is_ibd_outlier])+5\n"
   ]
  },
  {
   "cell_type": "code",
   "execution_count": null,
   "id": "1c8d389a",
   "metadata": {},
   "outputs": [],
   "source": [
    "plt.hist(np.log10(crossover_lengths), \n",
    "         alpha=0.5, bins=np.arange(0, 8, 0.1), color=colors[4])\n",
    "plt.hist(np.log10(crossover_lengths[is_hts & is_mat]), \n",
    "         alpha=0.5, bins=np.arange(0, 8, 0.1))\n",
    "plt.hist(np.log10(crossover_lengths[is_hts & ~is_mat]), \n",
    "         alpha=0.5, bins=np.arange(0, 8, 0.1))\n",
    "\n",
    "plt.xlabel('Crossover resolution in bp', fontsize=18)\n",
    "plt.xticks(np.arange(0, 9), ['1' if i==0 else '$10^{%d}$' % i for i in np.arange(0, 9)], fontsize=15)\n",
    "plt.yticks([])\n",
    "plt.show()"
   ]
  },
  {
   "cell_type": "code",
   "execution_count": null,
   "id": "4ade6f56",
   "metadata": {},
   "outputs": [],
   "source": [
    "plt.figure(figsize=(15, 5))\n",
    "plt.subplot(1, 2, 1)\n",
    "plt.hist(mat_crossovers, bins=np.arange(max(x_max, y_max)), alpha=0.5, label='maternal', log=True)\n",
    "plt.hist(pat_crossovers, bins=np.arange(max(x_max, y_max)), alpha=0.5, label='paternal', log=True)\n",
    "plt.hist(mat_crossovers[is_outlier], bins=np.arange(max(x_max, y_max)), color='red', log=True)\n",
    "plt.hist(pat_crossovers[is_outlier], bins=np.arange(max(x_max, y_max)), color='red', log=True)\n",
    "plt.legend()\n",
    "\n",
    "plt.subplot(1, 2, 2)\n",
    "plt.hist(mat_crossovers[~is_outlier], bins=np.arange(np.min(pat_crossovers[~is_outlier])-1, np.max(mat_crossovers[~is_outlier])+1), \n",
    "         alpha=0.5, label='maternal')\n",
    "plt.hist(pat_crossovers[~is_outlier], bins=np.arange(np.min(pat_crossovers[~is_outlier])-1, np.max(mat_crossovers[~is_outlier])+1), \n",
    "         alpha=0.5, label='paternal')\n",
    "plt.legend()\n",
    "plt.show()"
   ]
  },
  {
   "cell_type": "code",
   "execution_count": null,
   "id": "93160ee3",
   "metadata": {},
   "outputs": [],
   "source": [
    "plt.hist(mat_crossovers[~is_outlier], bins=np.arange(np.min(pat_crossovers[~is_outlier])-1, np.max(mat_crossovers[~is_outlier])+1, 1), \n",
    "         alpha=0.5, label='maternal', color=colors[0])\n",
    "plt.hist(pat_crossovers[~is_outlier], bins=np.arange(np.min(pat_crossovers[~is_outlier])-1, np.max(mat_crossovers[~is_outlier])+1, 1), \n",
    "         alpha=0.5, label='paternal', color=colors[1])\n",
    "plt.legend(fontsize=15)\n",
    "plt.xlabel('Crossovers per family', fontsize=18)\n",
    "plt.xticks(fontsize=15)\n",
    "plt.ylabel('Families', fontsize=18)\n",
    "plt.yticks(fontsize=15)\n",
    "\n",
    "if phase_name is None:\n",
    "    plt.axvline(84, color='black', linestyle='--')\n",
    "    plt.axvline(56, color='black', linestyle='--')\n",
    "\n",
    "plt.savefig('../plots/crossover_count.png', bbox_inches=\"tight\")\n"
   ]
  },
  {
   "cell_type": "code",
   "execution_count": null,
   "id": "30e641ad",
   "metadata": {},
   "outputs": [],
   "source": [
    "print(np.median(mat_crossovers[~is_outlier]))\n",
    "print(np.median(pat_crossovers[~is_outlier]))\n",
    "\n",
    "print(np.mean(mat_crossovers[~is_outlier]))\n",
    "print(np.mean(pat_crossovers[~is_outlier]))"
   ]
  },
  {
   "cell_type": "code",
   "execution_count": null,
   "id": "61e930c3",
   "metadata": {},
   "outputs": [],
   "source": [
    "is_way_out = (mat_crossovers > 3*np.median(mat_crossovers)) | (pat_crossovers > 3*np.median(pat_crossovers))\n",
    "detector = OutlierDetector(mat_crossovers[~is_ibd_outlier & ~is_way_out], \n",
    "                           pat_crossovers[~is_ibd_outlier & ~is_way_out], 10)\n",
    "scores = detector.score_samples(mat_crossovers, pat_crossovers)\n",
    "outlier_cutoff, m, b = detector.outlier_cutoff, detector.m, detector.b\n",
    "bins = detector.bins\n",
    "\n",
    "plt.figure(figsize=(15, 5))\n",
    "plt.subplot(1, 3, 1)\n",
    "plt.hist(np.clip(scores, min(bins[0], outlier_cutoff), bins[-1]), bins=bins, log=True)\n",
    "plt.hist(np.clip(scores[is_outlier], min(bins[0], outlier_cutoff), bins[-1]), bins=bins, log=True, color='red')\n",
    "plt.plot([outlier_cutoff, bins[-1]], [np.exp(m*outlier_cutoff+b), np.exp(m*bins[-1]+b)])\n",
    "plt.axvline(outlier_cutoff)\n",
    "\n",
    "plt.subplot(1, 3, 2)\n",
    "xintervals = np.arange(x_min, x_max)\n",
    "yintervals = np.arange(y_min, y_max)\n",
    "gridx, gridy = np.meshgrid(xintervals, yintervals)\n",
    "predict = detector.score_samples(gridx.flatten(), gridy.flatten())\n",
    "plt.contour(xintervals, yintervals, predict.reshape(len(yintervals), len(xintervals)))\n",
    "\n",
    "plt.scatter(mat_crossovers, pat_crossovers, marker='.', alpha=0.25)\n",
    "plt.scatter(mat_crossovers[is_outlier], pat_crossovers[is_outlier], marker='.', color='red')\n",
    "plt.xlabel('Maternal Crossovers')\n",
    "plt.ylabel('Paternal Crossovers')\n",
    "\n",
    "plt.subplot(1, 3, 3)\n",
    "xintervals = np.arange(np.min(mat_crossovers[~is_outlier])-10, np.max(mat_crossovers[~is_outlier])+10)\n",
    "yintervals = np.arange(np.min(pat_crossovers[~is_outlier])-10, np.max(pat_crossovers[~is_outlier])+10)\n",
    "gridx, gridy = np.meshgrid(xintervals, yintervals)\n",
    "predict = detector.score_samples(gridx.flatten(), gridy.flatten())\n",
    "plt.contour(xintervals, yintervals, predict.reshape(len(yintervals), len(xintervals)))\n",
    "\n",
    "plt.scatter(mat_crossovers[~is_outlier], pat_crossovers[~is_outlier], marker='.', alpha=0.25)\n",
    "plt.xlabel('Maternal Crossovers')\n",
    "plt.ylabel('Paternal Crossovers')\n",
    "\n",
    "plt.show()"
   ]
  },
  {
   "cell_type": "code",
   "execution_count": null,
   "id": "058d17f1",
   "metadata": {},
   "outputs": [],
   "source": [
    "print(mat_crossovers[is_outlier])\n",
    "print(pat_crossovers[is_outlier])\n",
    "print(scores[is_outlier])"
   ]
  },
  {
   "cell_type": "code",
   "execution_count": null,
   "id": "a463009e",
   "metadata": {},
   "outputs": [],
   "source": [
    "print(np.max(mat_crossovers[~is_outlier]))"
   ]
  },
  {
   "cell_type": "code",
   "execution_count": 113,
   "id": "9ccfaa1c",
   "metadata": {},
   "outputs": [
    {
     "name": "stdout",
     "output_type": "stream",
     "text": [
      "Counter({'1': 2367, '7': 1941, '17': 1502, '12': 1376, '16': 1265, '2': 1200, '15': 1061, '10': 882, '9': 860, '11': 741, '3': 674, '8': 630, '19': 619, '6': 596, '20': 517, '22': 507, '18': 447, '4': 387, '5': 355, '13': 231, '14': 175, '21': 92})\n"
     ]
    }
   ],
   "source": [
    "print(Counter([x['chrom'] for x in crossovers if x['is_hts']]))"
   ]
  },
  {
   "cell_type": "code",
   "execution_count": null,
   "id": "7c4badf5",
   "metadata": {},
   "outputs": [],
   "source": []
  },
  {
   "cell_type": "code",
   "execution_count": null,
   "id": "651dba9c",
   "metadata": {},
   "outputs": [],
   "source": []
  }
 ],
 "metadata": {
  "kernelspec": {
   "display_name": "Python 3",
   "language": "python",
   "name": "python3"
  },
  "language_info": {
   "codemirror_mode": {
    "name": "ipython",
    "version": 3
   },
   "file_extension": ".py",
   "mimetype": "text/x-python",
   "name": "python",
   "nbconvert_exporter": "python",
   "pygments_lexer": "ipython3",
   "version": "3.9.13"
  }
 },
 "nbformat": 4,
 "nbformat_minor": 5
}
