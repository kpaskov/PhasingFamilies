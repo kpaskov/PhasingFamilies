{
 "cells": [
  {
   "cell_type": "markdown",
   "metadata": {},
   "source": [
    "# Prep data"
   ]
  },
  {
   "cell_type": "code",
   "execution_count": 1,
   "metadata": {
    "collapsed": true
   },
   "outputs": [],
   "source": [
    "import sys\n",
    "import time\n",
    "from os import listdir\n",
    "import gzip\n",
    "\n",
    "from collections import Counter, defaultdict\n",
    "from itertools import chain, product\n",
    "\n",
    "import numpy as np\n",
    "from scipy import sparse\n",
    "import random"
   ]
  },
  {
   "cell_type": "code",
   "execution_count": 2,
   "metadata": {
    "collapsed": true
   },
   "outputs": [],
   "source": [
    "chrom = '22'\n",
    "#chrom = '18'\n",
    "family_size_param = 'all'\n",
    "ped_file = '160826.ped'\n",
    "data_dir = 'split_gen'\n",
    "sample_file = '%s/chr.%s.gen.samples.txt' % (data_dir, chrom)\n",
    "variant_file = '%s/chr.%s.gen.variants.txt.gz' % (data_dir, chrom)\n",
    "gen_files = sorted([f for f in listdir('split_gen') if ('chr.%s' % ('X' if chrom.startswith('PAR') else chrom)) in f and 'gen.npz' in f])\n"
   ]
  },
  {
   "cell_type": "code",
   "execution_count": 3,
   "metadata": {
    "collapsed": true
   },
   "outputs": [],
   "source": [
    "g_cost = {\n",
    "\t(-2, -2): 0,\n",
    "\t(-2, -1): 0,\n",
    "\t(-2, 0): 1,\n",
    "\t(-2, 1): 2,\n",
    "\t(-2, 2): 2,\n",
    "\t(0, -2): 100,\n",
    "\t(0, -1): 0,\n",
    "\t(0, 0): 0,\n",
    "\t(0, 1): 1,\n",
    "\t(0, 2): 2,\n",
    "\t(1, -2): 100,\n",
    "\t(1, -1): 0,\n",
    "\t(1, 0): 1,\n",
    "\t(1, 1): 0,\n",
    "\t(1, 2): 1,\n",
    "\t(2, -2): 100,\n",
    "\t(2, -1): 0,\n",
    "\t(2, 0): 2,\n",
    "\t(2, 1): 1,\n",
    "\t(2, 2): 0\n",
    "}\n",
    "\n",
    "PAR1X = (60001, 2699520)\n",
    "PAR2X = (154931044, 155260560)"
   ]
  },
  {
   "cell_type": "code",
   "execution_count": 4,
   "metadata": {},
   "outputs": [
    {
     "name": "stdout",
     "output_type": "stream",
     "text": [
      "families with sequence data 886\n",
      "family sizes Counter({4: 436, 5: 356, 6: 57, 3: 18, 7: 13, 9: 4, 10: 1, 8: 1})\n"
     ]
    }
   ],
   "source": [
    "# pull families with sequence data\n",
    "with open(sample_file, 'r') as f:\n",
    "\tsample_ids = [line.strip() for line in f]\n",
    "sample_id_to_index = dict([(sample_id, i) for i, sample_id in enumerate(sample_ids)])\n",
    "\n",
    "# pull families from ped file\n",
    "families = dict()\n",
    "with open(ped_file, 'r') as f:\n",
    "    for line in f:\n",
    "        pieces = line.strip().split('\\t')\n",
    "        fam_id, child_id, f_id, m_id = pieces[0:4]\n",
    "\n",
    "        if child_id in sample_ids and f_id in sample_ids and m_id in sample_ids:\n",
    "        \tif (fam_id, m_id, f_id) not in families:\n",
    "        \t\tfamilies[(fam_id, m_id, f_id)] = [m_id, f_id]\n",
    "        \tfamilies[(fam_id, m_id, f_id)].append(child_id)\n",
    "\n",
    "family_to_indices = dict([(fid, [sample_id_to_index[x] for x in vs]) for fid, vs in families.items()])\n",
    "family_to_index = dict([(fid, i) for i, fid in enumerate(families.keys())])\n",
    "\n",
    "print('families with sequence data', len(families))\n",
    "print('family sizes', Counter([len(x) for x in families.values()]))"
   ]
  },
  {
   "cell_type": "code",
   "execution_count": 5,
   "metadata": {},
   "outputs": [
    {
     "name": "stdout",
     "output_type": "stream",
     "text": [
      "ancestral variants (16, 4)\n"
     ]
    }
   ],
   "source": [
    "# ancestral_variants (m1, m2, p1, p2)\n",
    "anc_variants = np.array(list(product(*[[0, 1]]*4)), dtype=np.int8)\n",
    "anc_variant_to_index = dict([(tuple(x), i) for i, x in enumerate(anc_variants)])\n",
    "print('ancestral variants', anc_variants.shape)"
   ]
  },
  {
   "cell_type": "code",
   "execution_count": 6,
   "metadata": {},
   "outputs": [
    {
     "name": "stdout",
     "output_type": "stream",
     "text": [
      "chrom shape 4610 1096535 <class 'scipy.sparse.csc.csc_matrix'>\n"
     ]
    }
   ],
   "source": [
    "# pull genotype data from .npz\n",
    "whole_chrom = sparse.hstack([sparse.load_npz('split_gen/%s' % gen_file) for gen_file in gen_files])\n",
    "m, n = whole_chrom.shape\n",
    "print('chrom shape', m, n, type(whole_chrom))"
   ]
  },
  {
   "cell_type": "code",
   "execution_count": 10,
   "metadata": {
    "collapsed": true
   },
   "outputs": [],
   "source": [
    "# If we're looking at one of the PAR, restrict X to appropriate region\n",
    "if chrom == 'PAR1':\n",
    "\tPAR1X_indices = np.where(np.logical_and(snp_positions >= PAR1X[0], snp_positions <= PAR1X[1]))[0]\n",
    "\twhole_chrom = whole_chrom[:, PAR1X_indices]\n",
    "\tsnp_positions = snp_positions[PAR1X_indices]\n",
    "elif chrom == 'PAR2':\n",
    "\tPAR2X_indices = np.where(np.logical_and(snp_positions >= PAR2X[0], snp_positions <= PAR2X[1]))[0]\n",
    "\twhole_chrom = whole_chrom[:, PAR2X_indices]\n",
    "\tsnp_positions = snp_positions[PAR2X_indices]"
   ]
  },
  {
   "cell_type": "code",
   "execution_count": 54,
   "metadata": {},
   "outputs": [],
   "source": [
    "# Change long stretches of missing values to -2 = deleted region\n",
    "is_neg = (whole_chrom == -1).A\n",
    "x, y = np.where(is_neg[:, :-4] & is_neg[:, 1:-3] & is_neg[:, 2:-2] & is_neg[:, 3:-1] & is_neg[:, 4:])\n",
    "whole_chrom[x, y+2] = -2\n",
    "print('Changed %0.2f of missing to deleted' % (x.shape[0]/np.sum(is_neg)))"
   ]
  },
  {
   "cell_type": "code",
   "execution_count": 15,
   "metadata": {},
   "outputs": [
    {
     "name": "stdout",
     "output_type": "stream",
     "text": [
      "('AU1644', 'AU1644202', 'AU1644203') 5\n"
     ]
    }
   ],
   "source": [
    "family = random.choice(list(family_to_indices.keys()))\n",
    "m = len(family_to_indices[family])\n",
    "print(family, m)"
   ]
  },
  {
   "cell_type": "code",
   "execution_count": 16,
   "metadata": {},
   "outputs": [
    {
     "name": "stdout",
     "output_type": "stream",
     "text": [
      "inheritance states (1024, 10)\n"
     ]
    }
   ],
   "source": [
    "# inheritance states\n",
    "#\n",
    "# for parents:\n",
    "# (0, 0) -> normal\n",
    "# (0, 1) -> deletion on parental2\n",
    "# (1, 0) -> deletion on parental1\n",
    "# (1, 1) -> deletion on parental1 and parental2\n",
    "# \n",
    "# for children:\n",
    "# (0, 0) -> m1p1\n",
    "# (0, 1) -> m1p2\n",
    "# (1, 0) -> m2p1\n",
    "# (1, 1) -> m2p2\n",
    "\n",
    "inheritance_states = np.array(list(product(*[[0, 1]]*(2*m))), dtype=np.int8)\n",
    "state_to_index = dict([(tuple(x), i) for i, x in enumerate(inheritance_states)])\n",
    "p = inheritance_states.shape[0]\n",
    "print('inheritance states', inheritance_states.shape)"
   ]
  },
  {
   "cell_type": "code",
   "execution_count": 17,
   "metadata": {},
   "outputs": [
    {
     "name": "stdout",
     "output_type": "stream",
     "text": [
      "genotypes (3125, 5)\n"
     ]
    }
   ],
   "source": [
    "# genotypes\n",
    "genotypes = np.array(list(product(*[[-2, -1, 0, 1, 2]]*m)), dtype=np.int8)\n",
    "genotype_to_index = dict([(tuple(x), i) for i, x in enumerate(genotypes)])\n",
    "q = genotypes.shape[0]\n",
    "print('genotypes', genotypes.shape)"
   ]
  },
  {
   "cell_type": "code",
   "execution_count": 18,
   "metadata": {},
   "outputs": [
    {
     "name": "stdout",
     "output_type": "stream",
     "text": [
      "transitions (1024, 11)\n"
     ]
    }
   ],
   "source": [
    "# transition matrix\n",
    "# only allow one shift at a time\n",
    "shift_costs = [20]*4 + [500]*(2*(m-2))\n",
    "\n",
    "transitions = [[i] for i in range(p)]\n",
    "transition_costs = [[0] for i in range(p)]\n",
    "for i, state in enumerate(inheritance_states):\n",
    "    for j in range(len(shift_costs)):\n",
    "        for k in range(state[j]):\n",
    "            new_state = tuple(k if i == j else x for i, x in enumerate(state))\n",
    "            if new_state in state_to_index:\n",
    "                new_index = state_to_index[new_state]\n",
    "                transitions[i].append(new_index)\n",
    "                transition_costs[i].append(shift_costs[j])\n",
    "                transitions[new_index].append(i)\n",
    "                transition_costs[new_index].append(shift_costs[j])\n",
    "            \n",
    "transitions = np.array(transitions)\n",
    "transition_costs = np.array(transition_costs)\n",
    "print('transitions', transitions.shape)"
   ]
  },
  {
   "cell_type": "code",
   "execution_count": 32,
   "metadata": {},
   "outputs": [
    {
     "name": "stdout",
     "output_type": "stream",
     "text": [
      "losses (1024, 3125) [[500 400 400 ...,   2   1   0]\n",
      " [500 400 400 ...,   2   1   0]\n",
      " [500 400 400 ...,   2   1   0]\n",
      " ..., \n",
      " [  0   0   1 ...,   9  10  10]\n",
      " [  0   0   1 ...,   9  10  10]\n",
      " [  0   0   1 ...,   9  10  10]]\n"
     ]
    }
   ],
   "source": [
    "# loss matrix\n",
    "losses = np.zeros((p, q), dtype=np.int16)\n",
    "for i, s in enumerate(inheritance_states):\n",
    "\tstate_losses = np.zeros((q, anc_variants.shape[0]), dtype=np.int16)\n",
    "\n",
    "\t# mom\n",
    "\tif s[0] == 0 and s[1] == 0:\n",
    "\t\tpred_gens = anc_variants[:, 0] + anc_variants[:, 1]\n",
    "\telif s[0] == 0:\n",
    "\t\tpred_gens = 2*anc_variants[:, 0]\n",
    "\telif s[1] == 0:\n",
    "\t\tpred_gens = 2*anc_variants[:, 1]\n",
    "\telse:\n",
    "\t\tpred_gens = -2*np.ones((anc_variants.shape[0],))\n",
    "\tfor obs_gen in [-2, -1, 0, 1, 2]:\n",
    "\t\tstate_losses[genotypes[:, 0]==obs_gen, :] += [g_cost[(pred_gen, obs_gen)] for pred_gen in pred_gens]\n",
    "        \n",
    "\t# dad\n",
    "\tif s[2] == 0 and s[3] == 0:\n",
    "\t\tpred_gens = anc_variants[:, 2] + anc_variants[:, 3]\n",
    "\telif s[2] == 0:\n",
    "\t\tpred_gens = 2*anc_variants[:, 2]\n",
    "\telif s[3] == 0:\n",
    "\t\tpred_gens = 2*anc_variants[:, 3]\n",
    "\telse:\n",
    "\t\tpred_gens = -2*np.ones((anc_variants.shape[0],))\n",
    "\tfor obs_gen in [-2, -1, 0, 1, 2]:\n",
    "\t\tstate_losses[genotypes[:, 1]==obs_gen, :] += [g_cost[(pred_gen, obs_gen)] for pred_gen in pred_gens]\n",
    "      \n",
    "\t# children\n",
    "\tfor index in range(m-2):\n",
    "\t\tmat, pat = s[(4+(2*index)):(6+(2*index))]\n",
    "\n",
    "\t\tif s[mat] == 0 and s[2+pat] == 0:\n",
    "\t\t\tpred_gens = anc_variants[:, mat] + anc_variants[:, 2+pat]\n",
    "\t\telif s[mat] == 0:\n",
    "\t\t\tpred_gens = 2*anc_variants[:, mat]\n",
    "\t\telif s[2+pat] == 0:\n",
    "\t\t\tpred_gens = 2*anc_variants[:, 2+pat]\n",
    "\t\telse:\n",
    "\t\t\tpred_gens = -2*np.ones((anc_variants.shape[0],))\n",
    "\t\tfor obs_gen in [-2, -1, 0, 1, 2]:\n",
    "\t\t\tstate_losses[genotypes[:, 2+index]==obs_gen, :] += [g_cost[(pred_gen, obs_gen)] for pred_gen in pred_gens]\n",
    "\n",
    "\tlosses[i, :] = np.min(state_losses, axis=1)\n",
    "\n",
    "print('losses', losses.shape, losses)"
   ]
  },
  {
   "cell_type": "code",
   "execution_count": 33,
   "metadata": {},
   "outputs": [
    {
     "data": {
      "image/png": "[encoded data removed]",
      "text/plain": [
       "<matplotlib.figure.Figure at 0x11b20e6a0>"
      ]
     },
     "metadata": {},
     "output_type": "display_data"
    }
   ],
   "source": [
    "import matplotlib.pyplot as plt\n",
    "\n",
    "plt.imshow(losses)\n",
    "plt.colorbar()\n",
    "plt.show()"
   ]
  },
  {
   "cell_type": "code",
   "execution_count": 651,
   "metadata": {},
   "outputs": [
    {
     "name": "stdout",
     "output_type": "stream",
     "text": [
      "[[0], [0, 1], [0, 1], [0, 1], [0, 1], [0, 1], [0, 1], [0, 1], [0, 1]]\n",
      "(256, 9)\n"
     ]
    }
   ],
   "source": [
    "from sklearn.utils.extmath import cartesian\n",
    "\n",
    "# generate all possible inheritance states\n",
    "\n",
    "# for family:\n",
    "# (0) -> normal\n",
    "# (1) -> het\n",
    "#\n",
    "# for parents:\n",
    "# (0, 0) -> normal\n",
    "# (0, 1) -> deletion on parental2\n",
    "# (1, 0) -> deletion on parental1\n",
    "# (1, 1) -> deletion on parental1 and parental2\n",
    "# \n",
    "# for children:\n",
    "# (0, 0) -> m1p1\n",
    "# (0, 1) -> m1p2\n",
    "# (1, 0) -> m2p1\n",
    "# (1, 1) -> m2p2\n",
    "\n",
    "cart_list = [[0]] + [[0, 1]]*4 + [[0, 1]]*(2*m-4)\n",
    "print(cart_list)\n",
    "inheritance_states = np.array(cartesian(cart_list), dtype=np.int8)\n",
    "\n",
    "state_to_index = dict([(tuple(x), i) for i, x in enumerate(inheritance_states)])\n",
    "p = inheritance_states.shape[0]\n",
    "print(inheritance_states.shape)\n"
   ]
  },
  {
   "cell_type": "code",
   "execution_count": 652,
   "metadata": {},
   "outputs": [
    {
     "name": "stdout",
     "output_type": "stream",
     "text": [
      "[[-1, 0, 1, 2], [-1, 0, 1, 2], [-1, 0, 1, 2], [-1, 0, 1, 2]]\n",
      "(256, 4)\n",
      "Counter({6: 56, 7: 56, 8: 49, 5: 32, 9: 28, 4: 16, 10: 14, 11: 4, 12: 1})\n"
     ]
    }
   ],
   "source": [
    "from collections import defaultdict, Counter\n",
    "\n",
    "# generate all possible genotypes\n",
    "cart_list = [[-1, 0, 1, 2]]*m\n",
    "print(cart_list)\n",
    "genotypes = np.array(cartesian(cart_list), dtype=np.int8)\n",
    "genotype_to_index = dict([(tuple(x), i) for i, x in enumerate(genotypes)])\n",
    "q = genotypes.shape[0]\n",
    "print(genotypes.shape)\n",
    "\n",
    "\n",
    "g_neighbors = {0: [1],\n",
    "               1: [0, 2],\n",
    "               2: [1],\n",
    "               -1: [0, 1, 2]}\n",
    "\n",
    "g_equivalents = {0: [0, -1],\n",
    "                 1: [1, -1],\n",
    "                 2: [2, -1],\n",
    "                -1: [-1]}\n",
    "\n",
    "g_hsr_equivalents = {0: [0, -1],\n",
    "                     1: [1, -1, 0, 2],\n",
    "                     2: [2, -1],\n",
    "                    -1: [-1]}\n",
    "\n",
    "# map genotypes to neighbors and equivalents\n",
    "genotype_to_neighbors = []\n",
    "genotype_to_equivalents = []\n",
    "genotype_to_hsr_equivalents = []\n",
    "\n",
    "for g in genotypes:\n",
    "    neighbor_gs = []\n",
    "    for j in range(m):\n",
    "        for new_entry in g_neighbors[g[j]]:\n",
    "            new_genotype = tuple(new_entry if k == j else x for k, x in enumerate(g))\n",
    "            neighbor_gs.append(genotype_to_index[new_genotype])\n",
    "    genotype_to_neighbors.append(neighbor_gs)   \n",
    "    \n",
    "    genotype_to_equivalents.append([genotype_to_index[tuple(x)] for x in cartesian([g_equivalents[x] for x in g])]) \n",
    "    genotype_to_het_equivalents.append([genotype_to_index[tuple(x)] for x in cartesian([g_het_equivalents[x] for x in g])])  \n",
    "    genotype_to_hsr_equivalents.append([genotype_to_index[tuple(x)] for x in cartesian([g_hsr_equivalents[x] for x in g])])  \n",
    "    \n",
    "print(Counter([len(x) for x in genotype_to_neighbors]))"
   ]
  },
  {
   "cell_type": "code",
   "execution_count": 653,
   "metadata": {},
   "outputs": [
    {
     "name": "stdout",
     "output_type": "stream",
     "text": [
      "[ 2  2 -1  1]\n",
      "[[ 2  2 -1  1]\n",
      " [ 2  2 -1 -1]\n",
      " [ 2 -1 -1  1]\n",
      " [ 2 -1 -1 -1]\n",
      " [-1  2 -1  1]\n",
      " [-1  2 -1 -1]\n",
      " [-1 -1 -1  1]\n",
      " [-1 -1 -1 -1]]\n",
      "[[ 1  2 -1  1]\n",
      " [ 2  1 -1  1]\n",
      " [ 2  2  0  1]\n",
      " [ 2  2  1  1]\n",
      " [ 2  2  2  1]\n",
      " [ 2  2 -1  0]\n",
      " [ 2  2 -1  2]]\n"
     ]
    }
   ],
   "source": [
    "import random\n",
    "g = random.randint(0, genotypes.shape[0])\n",
    "print(genotypes[g, :])\n",
    "print(genotypes[genotype_to_equivalents[g], :])\n",
    "print(genotypes[genotype_to_neighbors[g], :])"
   ]
  },
  {
   "cell_type": "code",
   "execution_count": 654,
   "metadata": {},
   "outputs": [
    {
     "name": "stdout",
     "output_type": "stream",
     "text": [
      "(16, 4)\n"
     ]
    }
   ],
   "source": [
    "# generate all possible ancestral_variants\n",
    "anc_variants = np.array(cartesian([[0, 1]]*4))\n",
    "anc_variant_to_index = dict([(tuple(x), i) for i, x in enumerate(anc_variants)])\n",
    "print(anc_variants.shape)"
   ]
  },
  {
   "cell_type": "markdown",
   "metadata": {},
   "source": [
    "# Prep transition matrix and cost matrix"
   ]
  },
  {
   "cell_type": "code",
   "execution_count": 655,
   "metadata": {},
   "outputs": [
    {
     "name": "stdout",
     "output_type": "stream",
     "text": [
      "(256, 9)\n"
     ]
    }
   ],
   "source": [
    "from collections import defaultdict, Counter\n",
    "\n",
    "# transition matrix\n",
    "# only allow one shift at a time\n",
    "shift_costs = [10] + [10]*4 + [200]*(2*(m-2))\n",
    "\n",
    "valid_transitions = [[i] for i in range(p)]\n",
    "transition_costs = [[0] for i in range(p)]\n",
    "for i, state in enumerate(inheritance_states):\n",
    "    for j in range(len(shift_costs)):\n",
    "        for k in range(state[j]):\n",
    "            new_state = tuple(k if i == j else x for i, x in enumerate(state))\n",
    "            if new_state in state_to_index:\n",
    "                new_index = state_to_index[new_state]\n",
    "                valid_transitions[i].append(new_index)\n",
    "                transition_costs[i].append(shift_costs[j])\n",
    "                valid_transitions[new_index].append(i)\n",
    "                transition_costs[new_index].append(shift_costs[j])\n",
    "            \n",
    "restricted_transitions = np.array(valid_transitions)\n",
    "restricted_transition_cost = np.array(transition_costs)\n",
    "print(restricted_transitions.shape)"
   ]
  },
  {
   "cell_type": "code",
   "execution_count": 656,
   "metadata": {},
   "outputs": [
    {
     "name": "stdout",
     "output_type": "stream",
     "text": [
      "[[0 0 0 ..., 0 0 0]\n",
      " [0 0 0 ..., 0 0 0]\n",
      " [0 0 0 ..., 0 0 0]\n",
      " ..., \n",
      " [0 0 0 ..., 0 0 0]\n",
      " [0 0 0 ..., 0 0 0]\n",
      " [0 0 0 ..., 0 0 0]]\n"
     ]
    }
   ],
   "source": [
    "pos_transition_cost = np.asarray([[inheritance_states[to_state, 0] != 0 and inheritance_states[from_state, 0] != 0 for from_state in x] for to_state, x in enumerate(valid_transitions)], dtype=int)\n",
    "print(pos_transition_cost)"
   ]
  },
  {
   "cell_type": "code",
   "execution_count": 657,
   "metadata": {},
   "outputs": [
    {
     "name": "stdout",
     "output_type": "stream",
     "text": [
      "[[1 1 1 ..., 1 1 1]\n",
      " [1 1 1 ..., 1 1 1]\n",
      " [1 1 1 ..., 1 1 1]\n",
      " ..., \n",
      " [1 1 1 ..., 1 1 1]\n",
      " [1 1 1 ..., 1 1 1]\n",
      " [1 1 1 ..., 1 1 1]]\n"
     ]
    }
   ],
   "source": [
    "miss_transition_cost = np.asarray([[inheritance_states[to_state, 0] == 0 and inheritance_states[from_state, 0] == 0 for from_state in x] for to_state, x in enumerate(valid_transitions)], dtype=int)\n",
    "print(miss_transition_cost)"
   ]
  },
  {
   "cell_type": "code",
   "execution_count": 658,
   "metadata": {},
   "outputs": [
    {
     "name": "stdout",
     "output_type": "stream",
     "text": [
      "0.0\n"
     ]
    }
   ],
   "source": [
    "from itertools import chain\n",
    "\n",
    "# loss matrix\n",
    "losses = np.zeros((p, q)) - 1\n",
    "\n",
    "for i, s in enumerate(inheritance_states):\n",
    "    \n",
    "    # what genotypes can be validly produced from this inheritance state?          \n",
    "    valid_genotypes = np.zeros((anc_variants.shape[0], m), dtype=int)\n",
    "        \n",
    "    # mom\n",
    "    if s[1] == 0 and s[2] == 0:\n",
    "        valid_genotypes[:, 0] = anc_variants[:, 0] + anc_variants[:, 1]\n",
    "    elif s[1] == 0:\n",
    "        valid_genotypes[:, 0] = 2*anc_variants[:, 0]\n",
    "    elif s[2] == 0:\n",
    "        valid_genotypes[:, 0] = 2*anc_variants[:, 1]\n",
    "    else:\n",
    "        valid_genotypes[:, 0] = -1\n",
    "            \n",
    "    # dad\n",
    "    if s[3] == 0 and s[4] == 0:\n",
    "        valid_genotypes[:, 1] = anc_variants[:, 2] + anc_variants[:, 3]\n",
    "    elif s[3] == 0:\n",
    "        valid_genotypes[:, 1] = 2*anc_variants[:, 2]\n",
    "    elif s[4] == 0:\n",
    "        valid_genotypes[:, 1] = 2*anc_variants[:, 3]\n",
    "    else:\n",
    "        valid_genotypes[:, 1] = -1\n",
    "        \n",
    "    # children\n",
    "    for index in range(m-2):\n",
    "        mat, pat = s[(5+(2*index)):(7+(2*index))]\n",
    "        \n",
    "        if s[1+mat] == 0 and s[3+pat] == 0:\n",
    "            valid_genotypes[:, 2+index] = anc_variants[:, mat] + anc_variants[:, 2+pat]\n",
    "        elif s[1+mat] == 0:\n",
    "            valid_genotypes[:, 2+index] = 2*anc_variants[:, mat]\n",
    "        elif s[3+pat] == 0:\n",
    "            valid_genotypes[:, 2+index] = 2*anc_variants[:, 2+pat]\n",
    "        else:\n",
    "            valid_genotypes[:, 2+index] = -1\n",
    "\n",
    "    valid_genotypes = set([genotype_to_index[tuple(x)] for x in valid_genotypes]) \n",
    "    \n",
    "    if s[0] == 0:\n",
    "        equimap = genotype_to_equivalents\n",
    "    elif s[0] == 1:\n",
    "        # in a hard to sequence region, -1s are ok\n",
    "        equimap = genotype_to_hsr_equivalents\n",
    "\n",
    "    # breadth first search to fill in loss for this state\n",
    "    current_cost = 0\n",
    "    while len(valid_genotypes) > 0:\n",
    "        # add equivalents\n",
    "        valid_genotypes = valid_genotypes | set(chain.from_iterable([equimap[x] for x in valid_genotypes]))\n",
    "\n",
    "        next_gen = set()\n",
    "        for g in valid_genotypes:\n",
    "            # fill in loss matrix\n",
    "            if losses[i, g] == -1:\n",
    "                losses[i, g] = current_cost\n",
    "\n",
    "                # pull next generation\n",
    "                next_gen.update([ng for ng in genotype_to_neighbors[g] if losses[i, ng] == -1])\n",
    "\n",
    "        valid_genotypes = next_gen\n",
    "        current_cost += 1  \n",
    "        \n",
    "losses[inheritance_states[:, 0] == 1, 1:] += 2\n",
    "    \n",
    "                \n",
    "# Check if we've missed some\n",
    "print(np.sum(losses == -1)/(losses.shape[0]*losses.shape[1]))"
   ]
  },
  {
   "cell_type": "code",
   "execution_count": 659,
   "metadata": {},
   "outputs": [
    {
     "name": "stderr",
     "output_type": "stream",
     "text": [
      "//anaconda/lib/python3.6/site-packages/matplotlib/axes/_base.py:3193: UserWarning: Attempting to set identical bottom==top results\n",
      "in singular transformations; automatically expanding.\n",
      "bottom=-0.5, top=-0.5\n",
      "  'bottom=%s, top=%s') % (bottom, top))\n"
     ]
    },
    {
     "data": {
      "image/png": "[encoded data removed]",
      "text/plain": [
       "<matplotlib.figure.Figure at 0x110067198>"
      ]
     },
     "metadata": {},
     "output_type": "display_data"
    }
   ],
   "source": [
    "import matplotlib.pyplot as plt\n",
    "\n",
    "plt.figure(figsize=(20, 10))\n",
    "\n",
    "plt.subplot(1, 2, 1)\n",
    "plt.imshow(losses[inheritance_states[:, 0] == 0, :])\n",
    "plt.colorbar()\n",
    "\n",
    "plt.subplot(1, 2, 2)\n",
    "plt.imshow(losses[inheritance_states[:, 0] == 1, :])\n",
    "plt.colorbar()\n",
    "\n",
    "plt.show()"
   ]
  },
  {
   "cell_type": "markdown",
   "metadata": {},
   "source": [
    "# Viterbi"
   ]
  },
  {
   "cell_type": "code",
   "execution_count": 660,
   "metadata": {
    "collapsed": true
   },
   "outputs": [],
   "source": [
    "v_cost = np.zeros((p, n+2), dtype=int)\n",
    "v_traceback = np.zeros((p, n+2), dtype=int)"
   ]
  },
  {
   "cell_type": "code",
   "execution_count": 661,
   "metadata": {},
   "outputs": [
    {
     "name": "stdout",
     "output_type": "stream",
     "text": [
      "0\n",
      "Forward sweep complete 11.004208087921143 sec\n"
     ]
    }
   ],
   "source": [
    "import time\n",
    "\n",
    "# forward sweep\n",
    "prev_time = time.time()\n",
    "pos_to_genindex = [genotype_to_index[tuple(x)] for x in family_genotypes.T]\n",
    "\n",
    "v_traceback[:, 0] = -1\n",
    "for j in range(n): \n",
    "    \n",
    "    total_cost = v_cost[restricted_transitions, j] + restricted_transition_cost #\\\n",
    "    #    + (normal_to_normal_cost[j]*pos_transition_cost) \\\n",
    "    #    + (missing_to_missing_cost[j]*miss_transition_cost)\n",
    "    min_index = np.argmin(total_cost, axis=1)\n",
    "    v_traceback[:, j+1] = restricted_transitions[range(p), min_index]\n",
    "    v_cost[:, j+1] = total_cost[range(p), min_index] + losses[:, pos_to_genindex[j]]\n",
    "\n",
    "    if j % 100000 == 0:\n",
    "        print(j)\n",
    "\n",
    "# last step\n",
    "total_cost = v_cost[restricted_transitions, n] + restricted_transition_cost #\\\n",
    "   #     + (normal_to_normal_cost[n]*pos_transition_cost) \\\n",
    "   #     + (missing_to_missing_cost[n]*miss_transition_cost)\n",
    "min_index = np.argmin(total_cost, axis=1)\n",
    "v_traceback[:, n+1] = restricted_transitions[range(p), min_index]\n",
    "v_cost[:, n+1] = total_cost[range(p), min_index]\n",
    "    \n",
    "print('Forward sweep complete', time.time()-prev_time, 'sec') "
   ]
  },
  {
   "cell_type": "code",
   "execution_count": 662,
   "metadata": {},
   "outputs": [
    {
     "name": "stdout",
     "output_type": "stream",
     "text": [
      "[6483 6682 6298 6485 6682 6483 6485 6298 6298 6485 6483 6682 6485 6298 6682\n",
      " 6483 6493 6691 6308 6494 6692 6492 6495 6307 6308 6494 6493 6691 6495 6307\n",
      " 6692 6492 6492 6692 6307 6495 6691 6493 6494 6308 6307 6495 6492 6692 6494\n",
      " 6308 6691 6493 6502 6701 6317 6504 6701 6502 6504 6317 6317 6504 6502 6701\n",
      " 6504 6317 6701 6502 6493 6692 6308 6495 6692 6493 6495 6308 6307 6494 6493\n",
      " 6692 6494 6307 6692 6493 6503 6701 6318 6504 6702 6502 6505 6317 6317 6503\n",
      " 6503 6701 6504 6317 6702 6502 6502 6702 6317 6505 6701 6503 6504 6318 6317\n",
      " 6504 6502 6702 6503 6317 6701 6503 6513 6712 6328 6515 6712 6513 6515 6328\n",
      " 6327 6513 6513 6712 6513 6327 6712 6513 6493 6692 6307 6494 6692 6493 6494\n",
      " 6307 6308 6495 6493 6692 6495 6308 6692 6493 6503 6701 6317 6503 6702 6502\n",
      " 6504 6317 6318 6504 6503 6701 6505 6317 6702 6502 6502 6702 6317 6504 6701\n",
      " 6503 6503 6317 6317 6505 6502 6702 6504 6318 6701 6503 6513 6712 6327 6513\n",
      " 6712 6513 6513 6327 6328 6515 6513 6712 6515 6328 6712 6513 6504 6703 6317\n",
      " 6504 6703 6504 6504 6317 6317 6504 6504 6703 6504 6317 6703 6504 6514 6712\n",
      " 6327 6513 6713 6513 6514 6327 6327 6513 6514 6712 6514 6327 6713 6513 6513\n",
      " 6713 6327 6514 6712 6514 6513 6327 6327 6514 6513 6713 6513 6327 6712 6514\n",
      " 6524 6723 6337 6524 6723 6524 6524 6337 6337 6524 6524 6723 6524 6337 6723\n",
      " 6524]\n"
     ]
    }
   ],
   "source": [
    "print(v_cost[:, n+1])"
   ]
  },
  {
   "cell_type": "code",
   "execution_count": 663,
   "metadata": {},
   "outputs": [
    {
     "name": "stdout",
     "output_type": "stream",
     "text": [
      "[(6298, 4), (6307, 8), (6308, 8), (6317, 20), (6318, 4), (6327, 12), (6328, 4), (6337, 4), (6483, 4), (6485, 4), (6492, 4), (6493, 12), (6494, 8), (6495, 8), (6502, 12), (6503, 12), (6504, 20), (6505, 4), (6513, 20), (6514, 8), (6515, 4), (6524, 8), (6682, 4), (6691, 4), (6692, 12), (6701, 12), (6702, 8), (6703, 4), (6712, 12), (6713, 4), (6723, 4)]\n",
      "Backward sweep complete 0.07342100143432617 sec\n",
      "[0 0 0 ..., 2 2 2]\n"
     ]
    }
   ],
   "source": [
    "# Backward sweep\n",
    "prev_time = time.time()\n",
    "index = n+1\n",
    "k = np.argmin(v_cost[:, index])\n",
    "print(list(zip(*np.unique(v_cost[:, index], return_counts=True))))\n",
    "\n",
    "final_states = np.zeros((n+2,), dtype=int)\n",
    "while index >= 0:\n",
    "    final_states[index] = k    \n",
    "    k = v_traceback[k, index]\n",
    "    index -= 1\n",
    "    \n",
    "print('Backward sweep complete', time.time()-prev_time, 'sec') \n",
    "print(final_states)"
   ]
  },
  {
   "cell_type": "code",
   "execution_count": 664,
   "metadata": {},
   "outputs": [
    {
     "data": {
      "image/png": "[encoded data removed]",
      "text/plain": [
       "<matplotlib.figure.Figure at 0x120cce9b0>"
      ]
     },
     "metadata": {},
     "output_type": "display_data"
    }
   ],
   "source": [
    "plt.plot(final_states)\n",
    "plt.show()"
   ]
  },
  {
   "cell_type": "code",
   "execution_count": 665,
   "metadata": {},
   "outputs": [
    {
     "name": "stdout",
     "output_type": "stream",
     "text": [
      "[0 0 1 ..., 0 1 0]\n"
     ]
    }
   ],
   "source": [
    "final_loss = np.zeros((n+2,), dtype=int)\n",
    "final_loss[1:-1] = losses[final_states[1:-1], pos_to_genindex]\n",
    "\n",
    "for i in range(1, n+2):\n",
    "    from_state = final_states[i-1]\n",
    "    to_state = final_states[i]\n",
    "    \n",
    "    #if inheritance_states[from_state][0] == 0 and inheritance_states[to_state][0] == 0:\n",
    "    #    final_loss[i] += normal_to_normal_cost[i-1]\n",
    "    #elif inheritance_states[from_state][0] == 1 and inheritance_states[to_state][0] == 1:\n",
    "    #    final_loss[i] += missing_to_missing_cost[i-1]\n",
    "        \n",
    "print(final_loss)"
   ]
  },
  {
   "cell_type": "code",
   "execution_count": 666,
   "metadata": {},
   "outputs": [
    {
     "data": {
      "image/png": "[encoded data removed]",
      "text/plain": [
       "<matplotlib.figure.Figure at 0x120c5acc0>"
      ]
     },
     "metadata": {},
     "output_type": "display_data"
    }
   ],
   "source": [
    "plt.plot(final_loss)\n",
    "plt.show()"
   ]
  },
  {
   "cell_type": "code",
   "execution_count": 667,
   "metadata": {},
   "outputs": [
    {
     "name": "stdout",
     "output_type": "stream",
     "text": [
      "0\n",
      "[0 0 0 0 0 0 0 0 0] [0 0 0 0 0 0 0 1 0]\n"
     ]
    }
   ],
   "source": [
    "print(v_cost[final_states[1], 1])\n",
    "print(inheritance_states[final_states[0]], inheritance_states[final_states[-1]])"
   ]
  },
  {
   "cell_type": "code",
   "execution_count": 668,
   "metadata": {},
   "outputs": [
    {
     "name": "stdout",
     "output_type": "stream",
     "text": [
      "[ 9809  9810 31999 32000 32430]\n",
      "[ 9809  9810 31999 32000 32430] [ 0  2  2 34 34]\n"
     ]
    },
    {
     "data": {
      "image/png": "[encoded data removed]",
      "text/plain": [
       "<matplotlib.figure.Figure at 0x11c3bada0>"
      ]
     },
     "metadata": {},
     "output_type": "display_data"
    }
   ],
   "source": [
    "xs = np.where(final_states[1:]-final_states[:-1] != 0)[0]\n",
    "xs = np.concatenate((xs, xs[:-1]+1))\n",
    "xs = np.sort(xs)\n",
    "print(xs)\n",
    "ys = final_states[xs]\n",
    "pos = [sum([len(x) for x in refseq]) if x==n else family_snp_positions[x] for x in xs]\n",
    "\n",
    "print(xs, ys)\n",
    "\n",
    "plt.figure(figsize=(15, 5))\n",
    "plt.plot(pos, ys)\n",
    "plt.show()"
   ]
  },
  {
   "cell_type": "code",
   "execution_count": 669,
   "metadata": {},
   "outputs": [
    {
     "name": "stdout",
     "output_type": "stream",
     "text": [
      "9809\t(0, 0, 0, 0, 0, 0, 0, 0, 0)\n",
      "9810\t(0, 0, 0, 0, 0, 0, 0, 1, 0)\n",
      "31999\t(0, 0, 0, 0, 0, 0, 0, 1, 0)\n",
      "32000\t(0, 0, 0, 1, 0, 0, 0, 1, 0)\n",
      "32430\t(0, 0, 0, 1, 0, 0, 0, 1, 0)\n"
     ]
    }
   ],
   "source": [
    "print('\\n'.join(['%d\\t%s'  % (x, str(tuple(inheritance_states[y, :]))) for x, y in zip(xs[:20], ys[:20])]))"
   ]
  },
  {
   "cell_type": "code",
   "execution_count": 631,
   "metadata": {},
   "outputs": [
    {
     "data": {
      "image/png": "[encoded data removed]",
      "text/plain": [
       "<matplotlib.figure.Figure at 0x11c503b70>"
      ]
     },
     "metadata": {},
     "output_type": "display_data"
    }
   ],
   "source": [
    "# Children\n",
    "plt.figure(figsize=(15, 5))\n",
    "for i in range(m-2):\n",
    "    plt.subplot(3, 1, 1)\n",
    "    plt.plot(pos, [inheritance_states[y, 5 + (i*2)] for y in ys], label='child %d' % (i+1))\n",
    "    \n",
    "    plt.subplot(3, 1, 2)\n",
    "    plt.plot(pos, [inheritance_states[y, 6 + (i*2)] for y in ys], label='child %d' % (i+1))\n",
    "\n",
    "plt.subplot(3, 1, 3)\n",
    "plt.plot(pos, [inheritance_states[y, 0] for y in ys])\n",
    "\n",
    "plt.subplot(3, 1, 1)\n",
    "plt.legend()\n",
    "plt.subplot(3, 1, 2)\n",
    "plt.legend()\n",
    "plt.show()\n",
    "    "
   ]
  },
  {
   "cell_type": "code",
   "execution_count": 632,
   "metadata": {},
   "outputs": [
    {
     "data": {
      "image/png": "[encoded data removed]",
      "text/plain": [
       "<matplotlib.figure.Figure at 0x129a1d470>"
      ]
     },
     "metadata": {},
     "output_type": "display_data"
    }
   ],
   "source": [
    "# Parents\n",
    "plt.figure(figsize=(15, 5))\n",
    "\n",
    "plt.subplot(3, 1, 1)\n",
    "plt.plot(pos, [inheritance_states[y, 1]+2 for y in ys], label='mat1')\n",
    "plt.plot(pos, [inheritance_states[y, 2] for y in ys], label='mat2')\n",
    "plt.legend()\n",
    "\n",
    "plt.subplot(3, 1, 2)\n",
    "plt.plot(pos, [inheritance_states[y, 3]+2 for y in ys], label='pat1')\n",
    "plt.plot(pos, [inheritance_states[y, 4] for y in ys], label='pat2')\n",
    "plt.legend()\n",
    "\n",
    "plt.subplot(3, 1, 3)\n",
    "plt.plot(pos, [inheritance_states[y, 0] for y in ys])\n",
    "\n",
    "plt.show()"
   ]
  },
  {
   "cell_type": "code",
   "execution_count": 633,
   "metadata": {},
   "outputs": [
    {
     "data": {
      "image/png": "[encoded data removed]",
      "text/plain": [
       "<matplotlib.figure.Figure at 0x10ee37b70>"
      ]
     },
     "metadata": {},
     "output_type": "display_data"
    }
   ],
   "source": [
    "c = 100000\n",
    "\n",
    "plt.figure(figsize=(15, 5))\n",
    "plt.plot(family_snp_positions, 1000*sparse_convolve(family_snp_positions, final_loss[1:-1], c)/(c*m))\n",
    "#plt.ylabel('Errors per person per kilobase (smoothed)')\n",
    "#plt.plot(family_snp_positions, np.convolve(complex_model_final_loss, np.ones((c,))/(m*c), mode='same'))\n",
    "\n",
    "#plt.plot(family_snp_positions, 100*sparse_convolve(family_snp_positions, np.sum(family_genotypes == -1, axis=0), c)/(c*m))\n",
    "#plt.plot(family_snp_positions, np.convolve(np.sum(family_genotypes == -1, axis=0), np.ones((c,))/(m*c), mode='same'))\n",
    "#plt.plot(np.convolve(simple_model_final_loss, np.ones((c,))/(m*c), mode='same'))\n",
    "plt.show()"
   ]
  },
  {
   "cell_type": "code",
   "execution_count": 53,
   "metadata": {
    "collapsed": true
   },
   "outputs": [],
   "source": [
    "def sparse_convolve(pos, vs, c):\n",
    "    new_signal = np.zeros(pos.shape)\n",
    "   \n",
    "    current_index = 0\n",
    "    start_index = 0\n",
    "    running_sum = 0\n",
    "            \n",
    "    for end_position, v in zip(pos, vs):\n",
    "        if end_position - pos[current_index] > c:\n",
    "            new_signal[current_index] = running_sum\n",
    "            current_index += 1\n",
    "            \n",
    "            # clean up end\n",
    "            while pos[current_index] - pos[start_index] > c:\n",
    "                running_sum -= vs[start_index]\n",
    "                start_index += 1\n",
    "            \n",
    "        running_sum += v\n",
    "        \n",
    "    for current_index in range(current_index, pos.shape[0]):\n",
    "        new_signal[current_index] = running_sum        \n",
    "            \n",
    "        # clean up end\n",
    "        while pos[current_index] - pos[start_index] > c:\n",
    "            running_sum -= vs[start_index]\n",
    "            start_index += 1\n",
    "            \n",
    "    return new_signal\n",
    "        "
   ]
  },
  {
   "cell_type": "code",
   "execution_count": 634,
   "metadata": {},
   "outputs": [
    {
     "name": "stdout",
     "output_type": "stream",
     "text": [
      "(59218,)\n",
      "[[0 0 0 1 0 0 0 0 0 1 1]]\n",
      "[[0 0 1 1 0 0 0 0 0 1 1]]\n",
      "[[0 0 0 1 0 0 0 0 0 1 1]\n",
      " [0 0 1 1 0 0 0 0 0 1 1]]\n"
     ]
    },
    {
     "data": {
      "image/png": "[encoded data removed]",
      "text/plain": [
       "<matplotlib.figure.Figure at 0x10e0d5630>"
      ]
     },
     "metadata": {},
     "output_type": "display_data"
    }
   ],
   "source": [
    "# take a look at deletions\n",
    "deletion_indices = np.where(np.any(inheritance_states[final_states, 1:5] == 1, axis=1))[0]\n",
    "print(deletion_indices.shape)\n",
    "\n",
    "plt.figure(figsize=(20, 5))\n",
    "\n",
    "plt.subplot(3, 1, 1)\n",
    "plt.imshow(family_genotypes[:, 30000:30100])\n",
    "plt.colorbar()\n",
    "print(inheritance_states[np.unique(final_states[30000:30100]), :])\n",
    "\n",
    "\n",
    "plt.subplot(3, 1, 2)\n",
    "plt.imshow(family_genotypes[:, (deletion_indices[100]-100):deletion_indices[100]])\n",
    "plt.colorbar()\n",
    "\n",
    "print(inheritance_states[np.unique(final_states[deletion_indices[100:200]]), :])\n",
    "\n",
    "print(inheritance_states[np.unique(final_states[(deletion_indices[100]-100):(deletion_indices[100])]), :])\n",
    "\n",
    "plt.show()"
   ]
  },
  {
   "cell_type": "code",
   "execution_count": 534,
   "metadata": {},
   "outputs": [
    {
     "name": "stdout",
     "output_type": "stream",
     "text": [
      "3035200 - 3050544\n",
      "[[0 0 0 0 0 0 0 1 0 0 0]]\n"
     ]
    },
    {
     "data": {
      "image/png": "[encoded data removed]",
      "text/plain": [
       "<matplotlib.figure.Figure at 0x10ee31e48>"
      ]
     },
     "metadata": {},
     "output_type": "display_data"
    },
    {
     "data": {
      "image/png": "[encoded data removed]",
      "text/plain": [
       "<matplotlib.figure.Figure at 0x10ee37b00>"
      ]
     },
     "metadata": {},
     "output_type": "display_data"
    }
   ],
   "source": [
    "# take a look at bad regions\n",
    "bad_regions = np.where(1000*sparse_convolve(family_snp_positions, final_loss, c)/(c*m) >= .1)[0]\n",
    "\n",
    "# take a look at deletions\n",
    "deletion_indices = np.where(np.any(inheritance_states[final_states, 1:5] == 1, axis=1))[0]\n",
    "\n",
    "plt.figure(figsize=(20, 5))\n",
    "\n",
    "start, end = 0, 100\n",
    "plt.subplot(1, 1, 1)\n",
    "plt.imshow(family_genotypes[:, bad_regions[start:end]])\n",
    "plt.colorbar()\n",
    "\n",
    "#plt.subplot(3, 1, 2)\n",
    "#plt.imshow(family_genotypes[:, (bad_regions[0]-100):bad_regions[0]])\n",
    "#plt.colorbar()\n",
    "\n",
    "print(family_snp_positions[bad_regions[start]], '-', family_snp_positions[bad_regions[end]])\n",
    "print(inheritance_states[np.unique(final_states[bad_regions[start:end]]), :])\n",
    "\n",
    "#print(inheritance_states[np.unique(final_states[(bad_regions[0]-100):(bad_regions[0])]), :])\n",
    "\n",
    "plt.show()\n"
   ]
  },
  {
   "cell_type": "code",
   "execution_count": 137,
   "metadata": {},
   "outputs": [
    {
     "ename": "ValueError",
     "evalue": "v cannot be empty",
     "output_type": "error",
     "traceback": [
      "\u001b[0;31m---------------------------------------------------------------------------\u001b[0m",
      "\u001b[0;31mValueError\u001b[0m                                Traceback (most recent call last)",
      "\u001b[0;32m<ipython-input-137-eaf1db58569c>\u001b[0m in \u001b[0;36m<module>\u001b[0;34m()\u001b[0m\n\u001b[1;32m      5\u001b[0m \u001b[0mbest_indices\u001b[0m \u001b[0;34m=\u001b[0m \u001b[0mtotal_state_cost\u001b[0m\u001b[0;34m.\u001b[0m\u001b[0margsort\u001b[0m\u001b[0;34m(\u001b[0m\u001b[0;34m)\u001b[0m\u001b[0;34m[\u001b[0m\u001b[0;34m:\u001b[0m\u001b[0;36m5\u001b[0m\u001b[0;34m]\u001b[0m\u001b[0;34m\u001b[0m\u001b[0m\n\u001b[1;32m      6\u001b[0m \u001b[0;32mfor\u001b[0m \u001b[0mi\u001b[0m \u001b[0;32min\u001b[0m \u001b[0mbest_indices\u001b[0m\u001b[0;34m:\u001b[0m\u001b[0;34m\u001b[0m\u001b[0m\n\u001b[0;32m----> 7\u001b[0;31m     \u001b[0mplt\u001b[0m\u001b[0;34m.\u001b[0m\u001b[0mplot\u001b[0m\u001b[0;34m(\u001b[0m\u001b[0mnp\u001b[0m\u001b[0;34m.\u001b[0m\u001b[0mconvolve\u001b[0m\u001b[0;34m(\u001b[0m\u001b[0mbad_region_loss\u001b[0m\u001b[0;34m[\u001b[0m\u001b[0mi\u001b[0m\u001b[0;34m,\u001b[0m \u001b[0;34m:\u001b[0m\u001b[0;34m]\u001b[0m\u001b[0;34m,\u001b[0m \u001b[0mnp\u001b[0m\u001b[0;34m.\u001b[0m\u001b[0mones\u001b[0m\u001b[0;34m(\u001b[0m\u001b[0;34m(\u001b[0m\u001b[0;36m10\u001b[0m\u001b[0;34m,\u001b[0m\u001b[0;34m)\u001b[0m\u001b[0;34m)\u001b[0m\u001b[0;34m/\u001b[0m\u001b[0;36m10\u001b[0m\u001b[0;34m,\u001b[0m \u001b[0mmode\u001b[0m\u001b[0;34m=\u001b[0m\u001b[0;34m'same'\u001b[0m\u001b[0;34m)\u001b[0m\u001b[0;34m,\u001b[0m \u001b[0mlabel\u001b[0m\u001b[0;34m=\u001b[0m\u001b[0mstr\u001b[0m\u001b[0;34m(\u001b[0m\u001b[0mtuple\u001b[0m\u001b[0;34m(\u001b[0m\u001b[0minheritance_states\u001b[0m\u001b[0;34m[\u001b[0m\u001b[0mi\u001b[0m\u001b[0;34m,\u001b[0m \u001b[0;34m:\u001b[0m\u001b[0;34m]\u001b[0m\u001b[0;34m)\u001b[0m\u001b[0;34m)\u001b[0m\u001b[0;34m)\u001b[0m\u001b[0;34m\u001b[0m\u001b[0m\n\u001b[0m\u001b[1;32m      8\u001b[0m \u001b[0;34m\u001b[0m\u001b[0m\n\u001b[1;32m      9\u001b[0m \u001b[0minterest_index\u001b[0m \u001b[0;34m=\u001b[0m \u001b[0mstate_to_index\u001b[0m\u001b[0;34m[\u001b[0m\u001b[0;34m(\u001b[0m\u001b[0;36m1\u001b[0m\u001b[0;34m,\u001b[0m\u001b[0;34m)\u001b[0m \u001b[0;34m+\u001b[0m \u001b[0;34m(\u001b[0m\u001b[0;36m0\u001b[0m\u001b[0;34m,\u001b[0m\u001b[0;34m)\u001b[0m\u001b[0;34m*\u001b[0m\u001b[0;34m(\u001b[0m\u001b[0;36m2\u001b[0m\u001b[0;34m*\u001b[0m\u001b[0mm\u001b[0m\u001b[0;34m)\u001b[0m\u001b[0;34m]\u001b[0m\u001b[0;34m\u001b[0m\u001b[0m\n",
      "\u001b[0;32m//anaconda/lib/python3.6/site-packages/numpy/core/numeric.py\u001b[0m in \u001b[0;36mconvolve\u001b[0;34m(a, v, mode)\u001b[0m\n\u001b[1;32m   1069\u001b[0m         \u001b[0;32mraise\u001b[0m \u001b[0mValueError\u001b[0m\u001b[0;34m(\u001b[0m\u001b[0;34m'a cannot be empty'\u001b[0m\u001b[0;34m)\u001b[0m\u001b[0;34m\u001b[0m\u001b[0m\n\u001b[1;32m   1070\u001b[0m     \u001b[0;32mif\u001b[0m \u001b[0mlen\u001b[0m\u001b[0;34m(\u001b[0m\u001b[0mv\u001b[0m\u001b[0;34m)\u001b[0m \u001b[0;34m==\u001b[0m \u001b[0;36m0\u001b[0m\u001b[0;34m:\u001b[0m\u001b[0;34m\u001b[0m\u001b[0m\n\u001b[0;32m-> 1071\u001b[0;31m         \u001b[0;32mraise\u001b[0m \u001b[0mValueError\u001b[0m\u001b[0;34m(\u001b[0m\u001b[0;34m'v cannot be empty'\u001b[0m\u001b[0;34m)\u001b[0m\u001b[0;34m\u001b[0m\u001b[0m\n\u001b[0m\u001b[1;32m   1072\u001b[0m     \u001b[0mmode\u001b[0m \u001b[0;34m=\u001b[0m \u001b[0m_mode_from_name\u001b[0m\u001b[0;34m(\u001b[0m\u001b[0mmode\u001b[0m\u001b[0;34m)\u001b[0m\u001b[0;34m\u001b[0m\u001b[0m\n\u001b[1;32m   1073\u001b[0m     \u001b[0;32mreturn\u001b[0m \u001b[0mmultiarray\u001b[0m\u001b[0;34m.\u001b[0m\u001b[0mcorrelate\u001b[0m\u001b[0;34m(\u001b[0m\u001b[0ma\u001b[0m\u001b[0;34m,\u001b[0m \u001b[0mv\u001b[0m\u001b[0;34m[\u001b[0m\u001b[0;34m:\u001b[0m\u001b[0;34m:\u001b[0m\u001b[0;34m-\u001b[0m\u001b[0;36m1\u001b[0m\u001b[0;34m]\u001b[0m\u001b[0;34m,\u001b[0m \u001b[0mmode\u001b[0m\u001b[0;34m)\u001b[0m\u001b[0;34m\u001b[0m\u001b[0m\n",
      "\u001b[0;31mValueError\u001b[0m: v cannot be empty"
     ]
    }
   ],
   "source": [
    "plt.figure(figsize=(10, 5))\n",
    "bad_region_loss = losses[:, np.array(pos_to_genindex)[bad_regions[200:300]]]\n",
    "total_state_cost = np.sum(bad_region_loss, axis=1)\n",
    "\n",
    "best_indices = total_state_cost.argsort()[:5]\n",
    "for i in best_indices:\n",
    "    plt.plot(np.convolve(bad_region_loss[i, :], np.ones((10,))/10, mode='same'), label=str(tuple(inheritance_states[i, :])))\n",
    "\n",
    "interest_index = state_to_index[(1,) + (0,)*(2*m)]\n",
    "plt.plot(np.convolve(bad_region_loss[interest_index, :], np.ones((10,))/10, mode='same'), label=str(tuple(inheritance_states[interest_index, :])))\n",
    "plt.legend()\n",
    "plt.show()"
   ]
  },
  {
   "cell_type": "code",
   "execution_count": 676,
   "metadata": {},
   "outputs": [
    {
     "name": "stdout",
     "output_type": "stream",
     "text": [
      "[(0, 'm'), (0, 'p'), (1, 'm'), (1, 'p'), (2, 'm'), (2, 'p')]\n"
     ]
    }
   ],
   "source": [
    "from itertools import product\n",
    "family_size=5\n",
    "print(list(product(range(family_size-2), ['m', 'p'])))"
   ]
  },
  {
   "cell_type": "code",
   "execution_count": null,
   "metadata": {
    "collapsed": true
   },
   "outputs": [],
   "source": []
  }
 ],
 "metadata": {
  "kernelspec": {
   "display_name": "Python 3",
   "language": "python",
   "name": "python3"
  },
  "language_info": {
   "codemirror_mode": {
    "name": "ipython",
    "version": 3
   },
   "file_extension": ".py",
   "mimetype": "text/x-python",
   "name": "python",
   "nbconvert_exporter": "python",
   "pygments_lexer": "ipython3",
   "version": "3.6.1"
  }
 },
 "nbformat": 4,
 "nbformat_minor": 2
}
