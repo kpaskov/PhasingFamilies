{
 "cells": [
  {
   "cell_type": "code",
   "execution_count": 34,
   "metadata": {},
   "outputs": [],
   "source": [
    "twin_file = '../sibpair_similarity/spark_exome_identicals.txt'\n",
    "ped_file = '../data/spark_jae_adj.ped'\n",
    "out_file = '../data/spark_exome.split.identicals.ped'"
   ]
  },
  {
   "cell_type": "code",
   "execution_count": 35,
   "metadata": {},
   "outputs": [],
   "source": [
    "samples_of_interest = set()\n",
    "with open(twin_file, 'r') as f:\n",
    "    for line in f:\n",
    "        individuals = [x.split('_')[-1] for x in line.strip().split('\\t')]\n",
    "        samples_of_interest.update(individuals)"
   ]
  },
  {
   "cell_type": "code",
   "execution_count": 36,
   "metadata": {},
   "outputs": [],
   "source": [
    "family_to_children = dict()\n",
    "sample_to_line = dict()\n",
    "with open(ped_file, 'r') as f:\n",
    "    for line in f:\n",
    "        pieces = line.strip().split('\\t')\n",
    "        family_key = (pieces[0], pieces[2], pieces[3])\n",
    "        if family_key not in family_to_children:\n",
    "            family_to_children[family_key] = set()\n",
    "        family_to_children[family_key].add(pieces[1])\n",
    "        sample_to_line[pieces[1]] = pieces"
   ]
  },
  {
   "cell_type": "code",
   "execution_count": 37,
   "metadata": {},
   "outputs": [],
   "source": [
    "with open(out_file, 'w+') as f:\n",
    "    for (family_key, father_id, mother_id), children in family_to_children.items():\n",
    "        identicals = children & samples_of_interest\n",
    "        if len(identicals) > 0:\n",
    "            # this family has identicals, create a family for each one\n",
    "            nonidentical_children = children - samples_of_interest\n",
    "            for identical in identicals:\n",
    "                new_family_key = '%s.%s' % (family_key, identical)\n",
    "                for sample_id in [father_id, mother_id, identical] + list(nonidentical_children):\n",
    "                    f.write('\\t'.join([new_family_key] + sample_to_line[sample_id][1:]) + '\\n')"
   ]
  },
  {
   "cell_type": "code",
   "execution_count": null,
   "metadata": {},
   "outputs": [],
   "source": []
  }
 ],
 "metadata": {
  "kernelspec": {
   "display_name": "Python 3",
   "language": "python",
   "name": "python3"
  },
  "language_info": {
   "codemirror_mode": {
    "name": "ipython",
    "version": 3
   },
   "file_extension": ".py",
   "mimetype": "text/x-python",
   "name": "python",
   "nbconvert_exporter": "python",
   "pygments_lexer": "ipython3",
   "version": "3.7.3"
  }
 },
 "nbformat": 4,
 "nbformat_minor": 2
}
