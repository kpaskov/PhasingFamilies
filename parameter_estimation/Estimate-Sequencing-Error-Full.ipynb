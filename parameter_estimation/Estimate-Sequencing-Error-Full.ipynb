{
 "cells": [
  {
   "cell_type": "code",
   "execution_count": 23,
   "metadata": {},
   "outputs": [],
   "source": [
    "import sys\n",
    "import numpy as np\n",
    "import scipy.stats\n",
    "from itertools import product\n",
    "import cvxpy as cp\n",
    "from collections import Counter, defaultdict\n",
    "import json\n",
    "import random\n",
    "\n",
    "# Pull genotypes for a chromosome\n",
    "data_dir = '../split_gen_ihart'\n",
    "chroms = [str(i) for i in range(1, 23)] + ['X', 'Y']\n",
    "ped_file = '../data/v34.vcf.ped'"
   ]
  },
  {
   "cell_type": "markdown",
   "metadata": {},
   "source": [
    "# Basic info"
   ]
  },
  {
   "cell_type": "code",
   "execution_count": 2,
   "metadata": {},
   "outputs": [],
   "source": [
    "chrom_lengths = {\n",
    "\t'1': 225934550,\n",
    "\t'2': 238204522,\n",
    "\t'3': 194797140,\n",
    "\t'4': 188042934,\n",
    "\t'5': 177695260,\n",
    "\t'6': 167395067,\n",
    "\t'7': 155536559,\n",
    "\t'8': 142964911,\n",
    "\t'9': 120626573,\n",
    "\t'10': 131314747,\n",
    "\t'11': 131169619,\n",
    "\t'12': 130481395,\n",
    "\t'13': 95589878,\n",
    "\t'14': 88289540,\n",
    "\t'15': 81694769,\n",
    "\t'16': 78884753,\n",
    "\t'17': 78129607,\n",
    "\t'18': 74661510,\n",
    "\t'19': 56060841,\n",
    "\t'20': 59505520,\n",
    "\t'21': 35134224,\n",
    "\t'22': 34894566,\n",
    "\t'X': 151100560,\n",
    "\t'Y': 25653566\n",
    "}"
   ]
  },
  {
   "cell_type": "code",
   "execution_count": 42,
   "metadata": {},
   "outputs": [],
   "source": [
    "gens = ['0/0', '0/1', '1/1', '-/0', '-/1', '-/-']\n",
    "obs = ['0/0', '0/1', '1/1', './.']\n",
    "\n",
    "gen_to_obs = dict([(0, 0), (1, 1), (2, 2), (3, 0), (4, 2), (5, 3)])\n",
    "obs_to_gen = dict([(0, 0), (1, 1), (2, 2), (3, 5)])"
   ]
  },
  {
   "cell_type": "code",
   "execution_count": 5,
   "metadata": {},
   "outputs": [],
   "source": [
    "mendelian_trios = {\n",
    "    (0, 0, 0), \n",
    "    (0, 1, 0), (0, 1, 1),\n",
    "    (0, 2, 1),\n",
    "    (0, 3, 0), (0, 3, 3),\n",
    "    (0, 4, 1), (0, 4, 3),\n",
    "    (0, 5, 3),\n",
    "    (1, 0, 0), (1, 0, 1),\n",
    "    (1, 1, 0), (1, 1, 1), (1, 1, 2),\n",
    "    (1, 2, 1), (1, 2, 2),\n",
    "    (1, 3, 0), (1, 3, 1), (1, 3, 3), (1, 3, 4),\n",
    "    (1, 4, 1), (1, 4, 2), (1, 4, 3), (1, 4, 4),\n",
    "    (1, 5, 3), (1, 5, 4),\n",
    "    (2, 0, 1),\n",
    "    (2, 1, 1), (2, 1, 2),\n",
    "    (2, 2, 2),\n",
    "    (2, 3, 1), (2, 3, 4),\n",
    "    (2, 4, 2), (2, 4, 4),\n",
    "    (2, 5, 4),\n",
    "    (3, 0, 0), (3, 0, 3),\n",
    "    (3, 1, 0), (3, 1, 1), (3, 1, 3), (3, 1, 4),\n",
    "    (3, 2, 1), (3, 2, 4),\n",
    "    (3, 3, 0), (3, 3, 3), (3, 3, 5),\n",
    "    (3, 4, 1), (3, 4, 3), (3, 4, 4), (3, 4, 5),\n",
    "    (3, 5, 3), (3, 5, 5),\n",
    "    (4, 0, 1), (4, 0, 3),\n",
    "    (4, 1, 1), (4, 1, 2), (4, 1, 3), (4, 1, 4),\n",
    "    (4, 2, 2), (4, 2, 4),\n",
    "    (4, 3, 1), (4, 3, 3), (4, 3, 4), (4, 3, 5),\n",
    "    (4, 4, 2), (4, 4, 4), (4, 4, 5),\n",
    "    (4, 5, 4), (4, 5, 5),\n",
    "    (5, 0, 3),\n",
    "    (5, 1, 3), (5, 1, 4),\n",
    "    (5, 2, 4),\n",
    "    (5, 3, 3), (5, 3, 5),\n",
    "    (5, 4, 4), (5, 4, 5),\n",
    "    (5, 5, 5)\n",
    "}"
   ]
  },
  {
   "cell_type": "markdown",
   "metadata": {},
   "source": [
    "# pull data\n"
   ]
  },
  {
   "cell_type": "code",
   "execution_count": 7,
   "metadata": {},
   "outputs": [
    {
     "name": "stdout",
     "output_type": "stream",
     "text": [
      "pulled sex for 4858 inds\n"
     ]
    }
   ],
   "source": [
    "sample_id_to_sex = dict()\n",
    "with open(ped_file, 'r') as f:\n",
    "    for line in f:\n",
    "        pieces = line.strip().split('\\t')\n",
    "        fam_id, child_id, f_id, m_id = pieces[0:4]\n",
    "\n",
    "        sample_id_to_sex[m_id] = '2'\n",
    "        sample_id_to_sex[f_id] = '1'\n",
    "        if len(pieces) > 4:\n",
    "            sample_id_to_sex[child_id] = pieces[4]\n",
    "            \n",
    "print('pulled sex for %d inds' % len(sample_id_to_sex))\n"
   ]
  },
  {
   "cell_type": "code",
   "execution_count": 30,
   "metadata": {},
   "outputs": [
    {
     "name": "stdout",
     "output_type": "stream",
     "text": [
      "1 2 3 4 5 6 7 8 9 10 11 12 13 14 15 16 17 18 19 20 21 22 X Y Families of each size Counter({4: 436, 5: 357, 6: 56, 3: 18, 7: 13})\n",
      "Families 880\n"
     ]
    }
   ],
   "source": [
    "family_to_counts = defaultdict(list)\n",
    "family_to_inds = dict()\n",
    "for i, chrom in enumerate(chroms):\n",
    "    print(chrom, end=' ')\n",
    "    \n",
    "    with open('%s/chr.%s.famgen.counts.txt' % (data_dir, chrom), 'r') as f:\n",
    "        for line in f:\n",
    "            pieces = line.strip().split('\\t')\n",
    "            famkey, inds = pieces[:2]\n",
    "            \n",
    "            if 'ssc' in data_dir:\n",
    "                # unfortunately, ssc uses . in their sample names\n",
    "                inds = inds.split('.')\n",
    "                inds = ['%s.%s' % (inds[i], inds[i+1]) for i in range(0, len(inds), 2)]\n",
    "            else:\n",
    "                inds = inds.split('.')\n",
    "\n",
    "            m = len(inds)\n",
    "\n",
    "            if m<=7:\n",
    "                if famkey not in family_to_inds:\n",
    "                    family_to_inds[famkey] = inds\n",
    "                else:\n",
    "                    assert family_to_inds[famkey] == inds\n",
    "                \n",
    "                counts = np.zeros((len(obs),)*m, dtype=int)\n",
    "                for g, c in zip(product(list(range(len(obs))), repeat=m), pieces[2:]):\n",
    "                    counts[g] = int(c)\n",
    "                    \n",
    "                family_to_counts[famkey].append(counts)\n",
    "\n",
    "print('Families of each size', Counter([len(inds) for fkey, inds in family_to_inds.items()]))\n",
    "famkeys = sorted(set([x[0] for x in family_chrom_to_counts.keys()]))\n",
    "famkeys = [k for k in famkeys if np.all([ind in sample_id_to_sex for ind in family_to_inds[k]])]\n",
    "print('Families', len(famkeys))\n"
   ]
  },
  {
   "cell_type": "markdown",
   "metadata": {},
   "source": [
    "# Error graph"
   ]
  },
  {
   "cell_type": "code",
   "execution_count": 150,
   "metadata": {},
   "outputs": [],
   "source": [
    "def create_error_graph(errors, famgens, famobss):\n",
    "    error_to_pairs = defaultdict(list)       \n",
    "    famobs_to_index = dict([(x, i) for i, x in enumerate(famobss)])\n",
    "    \n",
    "    for i, famgen in enumerate(famgens):\n",
    "        famobs = [gen_to_obs[gen] for gen in famgen]\n",
    "        for j in range(famsize):\n",
    "            for o in range(len(obs)):\n",
    "                new_famobs = tuple([o if k==j else famobs[k] for k in range(famsize)])\n",
    "                if new_famobs in famobs_to_index:\n",
    "                    error_to_pairs[(j, famgen[j], o)].append((i, famobs_to_index[new_famobs]))\n",
    "    return error_to_pairs"
   ]
  },
  {
   "cell_type": "markdown",
   "metadata": {},
   "source": [
    "# Poisson Regression"
   ]
  },
  {
   "cell_type": "code",
   "execution_count": 155,
   "metadata": {},
   "outputs": [],
   "source": [
    "def rmse(predictions, targets):\n",
    "    return np.sqrt(np.mean((predictions-targets)**2))\n",
    "\n",
    "def estimate_error_rates(error_to_pairs, obs_counts, gen_counts, errors, famgens, famobss):\n",
    "    error_to_index = dict([(x, i) for i, x in enumerate(errors)])\n",
    "    \n",
    "    # (famobs x errors) (errors) = (famobs)\n",
    "    X = np.zeros((len(famobss), len(errors)))    \n",
    "    for error, gen_obs_pairs in error_to_pairs.items():\n",
    "        error_index = error_to_index[error]\n",
    "        for gen_index, obs_index in gen_obs_pairs:\n",
    "            X[obs_index, error_index] += gen_counts[gen_index]\n",
    "                \n",
    "    #status, error_rates, exp, obs, = poisson_regression(X, obs_counts)\n",
    "    \n",
    "    # cvxpy\n",
    "    alpha = 1.0/np.max(X)\n",
    "    n = cp.Variable(X.shape[1])\n",
    "    mu = np.sum(alpha*X, axis=0)\n",
    "    objective = cp.Minimize(mu*n - alpha*obs_counts*cp.log(alpha*X*n))\n",
    "    \n",
    "    constraints = [n>=0, n<=1]\n",
    "    #for i in np.arange(0, len(errors), 4):\n",
    "    #    constraints.append(cp.sum(n[(4*i):(4*(i+1))]) == 1)\n",
    "    prob = cp.Problem(objective, constraints)\n",
    "    \n",
    "    result = prob.solve(solver='ECOS', max_iters=1000)\n",
    "    print(prob.status)\n",
    "    \n",
    "    error_rates = np.asarray([v for v in n.value])\n",
    "    \n",
    "    plt.loglog(X.dot(error_rates), obs_counts, linewidth=0, marker='.')\n",
    "    plt.show()\n",
    "    \n",
    "    print('updated error_rates, RMSE:', rmse(X.dot(error_rates), obs_counts))\n",
    "    return error_rates\n",
    "        "
   ]
  },
  {
   "cell_type": "code",
   "execution_count": 156,
   "metadata": {},
   "outputs": [],
   "source": [
    "def estimate_gen_counts(error_to_pairs, obs_counts, error_rates, errors, famgens, famobss):\n",
    "    error_to_index = dict([(x, i) for i, x in enumerate(errors)])\n",
    "    \n",
    "    # (famobs x famgens) (famgens) = (famobs)\n",
    "    X = np.zeros((len(famobss), len(famgens)))    \n",
    "    for error, gen_obs_pairs in error_to_pairs.items():\n",
    "        error_index = error_to_index[error]\n",
    "        for gen_index, obs_index in gen_obs_pairs:\n",
    "            X[obs_index, gen_index] += error_rates[error_index]\n",
    "            \n",
    "    # cvxpy\n",
    "    alpha = 1.0/np.max(X)\n",
    "    n = cp.Variable(X.shape[1])\n",
    "    mu = np.sum(alpha*X, axis=0)\n",
    "    objective = cp.Minimize(mu*n - alpha*obs_counts*cp.log(alpha*X*n))\n",
    "    \n",
    "    constraints = [n>=0]\n",
    "    prob = cp.Problem(objective, constraints)\n",
    "    \n",
    "    result = prob.solve(solver='ECOS', max_iters=1000)\n",
    "    print(prob.status)\n",
    "    \n",
    "    gen_counts = np.asarray([v for v in n.value])\n",
    "    \n",
    "    plt.loglog(X.dot(gen_counts), obs_counts, linewidth=0, marker='.')\n",
    "    plt.show()\n",
    "                \n",
    "    print('updated gen_counts, RMSE:', rmse(X.dot(gen_counts), obs_counts))\n",
    "    return gen_counts\n",
    "        "
   ]
  },
  {
   "cell_type": "code",
   "execution_count": 165,
   "metadata": {},
   "outputs": [
    {
     "name": "stdout",
     "output_type": "stream",
     "text": [
      "AU0184.AU018401.AU018402 4\n",
      "errors 96\n",
      "famgens 204\n",
      "famobs 240\n",
      "optimal_inaccurate\n"
     ]
    },
    {
     "data": {
      "image/png": "[encoded data removed]",
      "text/plain": [
       "<Figure size 432x288 with 1 Axes>"
      ]
     },
     "metadata": {
      "needs_background": "light"
     },
     "output_type": "display_data"
    },
    {
     "name": "stdout",
     "output_type": "stream",
     "text": [
      "updated error_rates, RMSE: 1645.7716702973134\n",
      "optimal_inaccurate\n"
     ]
    },
    {
     "data": {
      "image/png": "[encoded data removed]",
      "text/plain": [
       "<Figure size 432x288 with 1 Axes>"
      ]
     },
     "metadata": {
      "needs_background": "light"
     },
     "output_type": "display_data"
    },
    {
     "name": "stdout",
     "output_type": "stream",
     "text": [
      "updated gen_counts, RMSE: 1650.741582252381\n"
     ]
    }
   ],
   "source": [
    "#famkey = random.choice(famkeys)\n",
    "famsize = len(family_to_inds[famkey])\n",
    "print(famkey, famsize)\n",
    "\n",
    "fam_counts = np.sum(family_to_counts[famkey], axis=0)\n",
    "\n",
    "errors = list(product(range(famsize), range(len(gens)), range(len(obs))))\n",
    "print('errors', len(errors))\n",
    "\n",
    "famgens = []\n",
    "for famgen in product(range(len(gens)), repeat=famsize):\n",
    "    is_mendelian = True\n",
    "    for child_index in range(2, famsize):\n",
    "        if (famgen[0], famgen[1], famgen[child_index]) not in mendelian_trios:\n",
    "            is_mendelian = False\n",
    "    if is_mendelian:\n",
    "        famgens.append(famgen)\n",
    "print('famgens', len(famgens))\n",
    "\n",
    "famobss = [x for x in list(product(range(len(obs)), repeat=famsize)) if len([y for y in x if y != 0 and y != 3])>0]\n",
    "print('famobs', len(famobss))\n",
    "\n",
    "obs_counts = np.array([fam_counts[x] for x in famobss])\n",
    "gen_counts = np.zeros((len(famgens),))\n",
    "\n",
    "famgen_to_index = dict([(x, i) for i, x in enumerate(famgens)])\n",
    "for i, famobs in enumerate(famobss):\n",
    "    famgen = tuple([obs_to_gen[x] for x in famobs])\n",
    "    if famgen in famgen_to_index:\n",
    "        gen_counts[famgen_to_index[famgen]] += obs_counts[i]\n",
    "\n",
    "error_to_pairs = create_error_graph(errors, famgens, famobss)\n",
    "\n",
    "error_rates = estimate_error_rates(error_to_pairs, obs_counts, gen_counts, errors, famgens, famobss)\n",
    "gen_counts = estimate_gen_counts(error_to_pairs, obs_counts, error_rates, errors, famgens, famobss)\n",
    "\n",
    "#error_rates = estimate_error_rates(error_to_pairs, obs_counts, gen_counts, errors, famgens, famobss)\n",
    "#gen_counts = estimate_gen_counts(error_to_pairs, obs_counts, error_rates, errors, famgens, famobss)\n",
    "\n",
    "#error_rates = estimate_error_rates(error_to_pairs, obs_counts, gen_counts, errors, famgens, famobss)\n",
    "#gen_counts = estimate_gen_counts(error_to_pairs, obs_counts, error_rates, errors, famgens, famobss)\n",
    "\n",
    "#error_rates = estimate_error_rates(error_to_pairs, obs_counts, gen_counts, errors, famgens, famobss)\n",
    "#gen_counts = estimate_gen_counts(error_to_pairs, obs_counts, error_rates, errors, famgens, famobss)\n"
   ]
  },
  {
   "cell_type": "code",
   "execution_count": 166,
   "metadata": {},
   "outputs": [
    {
     "data": {
      "image/png": "[encoded data removed]",
      "text/plain": [
       "<Figure size 1080x720 with 6 Axes>"
      ]
     },
     "metadata": {
      "needs_background": "light"
     },
     "output_type": "display_data"
    }
   ],
   "source": [
    "import matplotlib.pyplot as plt\n",
    "\n",
    "plt.figure(figsize=(15, 10))\n",
    "\n",
    "ax = plt.subplot(2, 3, 1)\n",
    "for i, o in enumerate(obs):\n",
    "    plt.plot(np.log10([rate for error, rate in zip(errors, error_rates) if error[1]==0 and error[2]==i]), label=o)\n",
    "plt.legend()\n",
    "\n",
    "plt.subplot(2, 3, 2, sharey=ax)\n",
    "for i, o in enumerate(obs):\n",
    "    plt.plot(np.log10([rate for error, rate in zip(errors, error_rates) if error[1]==1 and error[2]==i]), label=o)\n",
    "plt.legend()\n",
    "    \n",
    "plt.subplot(2, 3, 3, sharey=ax)\n",
    "for i, o in enumerate(obs):\n",
    "    plt.plot(np.log10([rate for error, rate in zip(errors, error_rates) if error[1]==2 and error[2]==i]), label=o)\n",
    "plt.legend()\n",
    "    \n",
    "plt.subplot(2, 3, 4, sharey=ax)\n",
    "for i, o in enumerate(obs):\n",
    "    plt.plot(np.log10([rate for error, rate in zip(errors, error_rates) if error[1]==3 and error[2]==i]), label=o)\n",
    "plt.legend()\n",
    "\n",
    "plt.subplot(2, 3, 5, sharey=ax)\n",
    "for i, o in enumerate(obs):\n",
    "    plt.plot(np.log10([rate for error, rate in zip(errors, error_rates) if error[1]==4 and error[2]==i]), label=o)\n",
    "plt.legend()\n",
    "\n",
    "plt.subplot(2, 3, 6, sharey=ax)\n",
    "for i, o in enumerate(obs):\n",
    "    plt.plot(np.log10([rate for error, rate in zip(errors, error_rates) if error[1]==5 and error[2]==i]), label=o)\n",
    "plt.legend()\n",
    "\n",
    "plt.show()"
   ]
  },
  {
   "cell_type": "code",
   "execution_count": null,
   "metadata": {},
   "outputs": [],
   "source": [
    "import matplotlib.pyplot as plt\n",
    "\n",
    "plt.figure(figsize=(15, 10))\n",
    "\n",
    "ax = plt.subplot(2, 3, 1)\n",
    "for i, o in enumerate(obs):\n",
    "    plt.plot(np.log10([rate for error, rate in zip(errors, error_rates) if error[1]==0 and error[2]==i]), label=o)\n",
    "plt.legend()\n",
    "\n",
    "plt.subplot(2, 3, 2, sharey=ax)\n",
    "for i, o in enumerate(obs):\n",
    "    plt.plot(np.log10([rate for error, rate in zip(errors, error_rates) if error[1]==1 and error[2]==i]), label=o)\n",
    "plt.legend()\n",
    "    \n",
    "plt.subplot(2, 3, 3, sharey=ax)\n",
    "for i, o in enumerate(obs):\n",
    "    plt.plot(np.log10([rate for error, rate in zip(errors, error_rates) if error[1]==2 and error[2]==i]), label=o)\n",
    "plt.legend()\n",
    "    \n",
    "plt.subplot(2, 3, 4, sharey=ax)\n",
    "for i, o in enumerate(obs):\n",
    "    plt.plot(np.log10([rate for error, rate in zip(errors, error_rates) if error[1]==3 and error[2]==i]), label=o)\n",
    "plt.legend()\n",
    "\n",
    "plt.subplot(2, 3, 5, sharey=ax)\n",
    "for i, o in enumerate(obs):\n",
    "    plt.plot(np.log10([rate for error, rate in zip(errors, error_rates) if error[1]==4 and error[2]==i]), label=o)\n",
    "plt.legend()\n",
    "\n",
    "plt.subplot(2, 3, 6, sharey=ax)\n",
    "for i, o in enumerate(obs):\n",
    "    plt.plot(np.log10([rate for error, rate in zip(errors, error_rates) if error[1]==5 and error[2]==i]), label=o)\n",
    "plt.legend()\n",
    "\n",
    "plt.show()"
   ]
  }
 ],
 "metadata": {
  "kernelspec": {
   "display_name": "Python 3",
   "language": "python",
   "name": "python3"
  },
  "language_info": {
   "codemirror_mode": {
    "name": "ipython",
    "version": 3
   },
   "file_extension": ".py",
   "mimetype": "text/x-python",
   "name": "python",
   "nbconvert_exporter": "python",
   "pygments_lexer": "ipython3",
   "version": "3.7.3"
  }
 },
 "nbformat": 4,
 "nbformat_minor": 2
}
