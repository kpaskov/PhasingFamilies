{
 "cells": [
  {
   "cell_type": "code",
   "execution_count": 2,
   "metadata": {},
   "outputs": [],
   "source": [
    "from collections import namedtuple"
   ]
  },
  {
   "cell_type": "code",
   "execution_count": 3,
   "metadata": {},
   "outputs": [],
   "source": [
    "Region = namedtuple('Region', ['chrom', 'start', 'end'])\n",
    "regions = []\n",
    "with open('../data/VCRome_2.1_design_files/VCRome_2_1_hg38_primary_targets_liftover.bed', 'r') as f:\n",
    "    for line in f:\n",
    "        pieces = line.strip().split('\\t')\n",
    "        chrom, start_pos, end_pos = pieces[0], int(pieces[1]), int(pieces[2])\n",
    "        regions.append(Region(chrom, start_pos, end_pos))\n",
    "regions = sorted(regions, key=lambda x: (x.chrom, x.start))\n",
    "\n",
    "with open('../data/VCRome_2.1_design_files/VCRome_2_1_hg38_primary_targets_liftover_ordered.bed', 'w+') as f:\n",
    "    for region in regions:\n",
    "        f.write('%s\\t%d\\t%d\\n' % region)"
   ]
  },
  {
   "cell_type": "code",
   "execution_count": 11,
   "metadata": {},
   "outputs": [
    {
     "name": "stdout",
     "output_type": "stream",
     "text": [
      "8.982637\n"
     ]
    }
   ],
   "source": [
    "w_start = 50\n",
    "w_end = 75\n",
    "\n",
    "# create new regions\n",
    "new_regions = []\n",
    "if regions[0].start-w_start > 0:\n",
    "    new_regions.append(Region(regions[0].chrom, max(0, regions[0].start-w_end), regions[0].start-w_start))\n",
    "\n",
    "prev_chrom, prev_end_pos = regions[0].chrom, regions[0].end\n",
    "for region in regions[1:]:\n",
    "    if prev_chrom == region.chrom:\n",
    "        if region.start - prev_end_pos <= 2*w_start:\n",
    "            pass\n",
    "        elif region.start - prev_end_pos <= 2*w_end:\n",
    "            new_regions.append(Region(region.chrom, prev_end_pos+w_start, region.start-w_start))\n",
    "        else:\n",
    "            new_regions.append(Region(region.chrom, prev_end_pos+w_start, prev_end_pos+w_end))\n",
    "            new_regions.append(Region(region.chrom, region.start-w_end, region.start-w_start))\n",
    "    else:\n",
    "        new_regions.append(Region(prev_chrom, prev_end_pos+w_start, prev_end_pos+w_end))\n",
    "        if region.start-w_start > 0:\n",
    "            new_regions.append(Region(region.chrom, max(0, region.start-w_end), region.start-w_start))\n",
    "    prev_chrom, prev_end_pos = region.chrom, region.end\n",
    "new_regions.append(Region(region.chrom, prev_end_pos+w_start, prev_end_pos+w_end))\n",
    "\n",
    "# check regions for consistency\n",
    "total = 0\n",
    "for i in range(len(new_regions)):\n",
    "    #print(regions[i])\n",
    "    assert new_regions[i].end > new_regions[i].start\n",
    "    if i != 0 and new_regions[i].chrom == new_regions[i-1].chrom:\n",
    "        assert new_regions[i].end > new_regions[i-1].start\n",
    "    total += new_regions[i].end - new_regions[i].start\n",
    "print(total/1000000)\n",
    "           \n",
    "# write to file\n",
    "with open('../data/VCRome_2.1_design_files/VCRome_2_1_hg38_primary_targets_liftover_%d_%d.bed' % (w_start, w_end), 'w+') as f:\n",
    "    for region in new_regions:\n",
    "        f.write('%s\\t%d\\t%d\\n' % region)\n",
    "\n",
    "\n"
   ]
  },
  {
   "cell_type": "code",
   "execution_count": null,
   "metadata": {},
   "outputs": [],
   "source": []
  }
 ],
 "metadata": {
  "kernelspec": {
   "display_name": "Python 3",
   "language": "python",
   "name": "python3"
  }
 },
 "nbformat": 4,
 "nbformat_minor": 2
}
