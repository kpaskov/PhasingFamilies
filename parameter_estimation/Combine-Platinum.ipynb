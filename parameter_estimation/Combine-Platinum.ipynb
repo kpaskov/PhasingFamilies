{
 "cells": [
  {
   "cell_type": "code",
   "execution_count": 16,
   "metadata": {},
   "outputs": [],
   "source": [
    "import json\n",
    "import numpy as np\n",
    "from itertools import product"
   ]
  },
  {
   "cell_type": "code",
   "execution_count": 17,
   "metadata": {},
   "outputs": [],
   "source": [
    "with open('params/platinum6_params.json', 'r') as f:\n",
    "    params = json.load(f)\n",
    "    \n",
    "gens = ['0/0', '0/1', '1/1', '-/0', '-/1', '-/-']\n",
    "obss = ['0/0', '0/1', '1/1', './.']"
   ]
  },
  {
   "cell_type": "code",
   "execution_count": 24,
   "metadata": {},
   "outputs": [],
   "source": [
    "ind_to_emission = defaultdict(list)\n",
    "\n",
    "new_params = dict()\n",
    "for k, v in params.items():\n",
    "    if isinstance(v, dict):\n",
    "        ind_id = k.split('.')[-1]\n",
    "        \n",
    "        emission_params = np.zeros((len(gens)*len(obss),))\n",
    "        for i, (gen, obs) in enumerate(product(gens, obss)):\n",
    "            emission_params[i] = v['-log10(P[obs=%s|true_gen=%s])' % (obs, gen)]\n",
    "        ind_to_emission[ind_id].append(emission_params)\n",
    "    else:\n",
    "        new_params[k] = v\n"
   ]
  },
  {
   "cell_type": "code",
   "execution_count": 26,
   "metadata": {},
   "outputs": [
    {
     "name": "stderr",
     "output_type": "stream",
     "text": [
      "//anaconda3/lib/python3.7/site-packages/numpy/lib/function_base.py:3405: RuntimeWarning: All-NaN slice encountered\n",
      "  r = func(a, **kwargs)\n"
     ]
    }
   ],
   "source": [
    "for ind_id, emission_params in ind_to_emission.items():\n",
    "    new_params[ind_id] = dict()\n",
    "    emission_params = np.array(emission_params)\n",
    "    for (gen, obs), e in zip(product(gens, obss), np.nanmedian(emission_params, axis=0)):\n",
    "        new_params[ind_id]['-log10(P[obs=%s|true_gen=%s])' % (obs, gen)] = e"
   ]
  },
  {
   "cell_type": "code",
   "execution_count": 29,
   "metadata": {},
   "outputs": [],
   "source": [
    "with open('params/platinum_params.json', 'w+') as f:\n",
    "    json.dump(new_params, f, indent=4)"
   ]
  },
  {
   "cell_type": "code",
   "execution_count": null,
   "metadata": {},
   "outputs": [],
   "source": []
  }
 ],
 "metadata": {
  "kernelspec": {
   "display_name": "Python 3",
   "language": "python",
   "name": "python3"
  },
  "language_info": {
   "codemirror_mode": {
    "name": "ipython",
    "version": 3
   },
   "file_extension": ".py",
   "mimetype": "text/x-python",
   "name": "python",
   "nbconvert_exporter": "python",
   "pygments_lexer": "ipython3",
   "version": "3.7.3"
  }
 },
 "nbformat": 4,
 "nbformat_minor": 2
}
