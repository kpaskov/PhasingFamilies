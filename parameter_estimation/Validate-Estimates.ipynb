{
 "cells": [
  {
   "cell_type": "code",
   "execution_count": 23,
   "metadata": {},
   "outputs": [],
   "source": [
    "import sys\n",
    "from itertools import product\n",
    "from os import listdir\n",
    "import numpy as np\n",
    "import scipy.sparse as sparse\n",
    "import json\n",
    "\n",
    "# Pull genotypes for a chromosome\n",
    "famkey = 'AU3702'\n",
    "lcl_id = 'AU3702307_LCL'\n",
    "wb_id = 'AU3702307'\n",
    "data_dir = '../split_gen_ihart'\n",
    "\n",
    "param_file = '%s_params.json' % famkey\n",
    "sample_file = '%s/chr.1.gen.samples.txt' % (data_dir)\n",
    "\n",
    "chroms = [str(x) for x in range(1, 23)] + ['X', 'Y']"
   ]
  },
  {
   "cell_type": "code",
   "execution_count": 4,
   "metadata": {},
   "outputs": [],
   "source": [
    "# pull families with sequence data\n",
    "with open(sample_file, 'r') as f:\n",
    "    sample_id_to_index = dict([(line.strip(), i) for i, line in enumerate(f)])\n",
    "\n",
    "lcl_index, wb_index = sample_id_to_index[lcl_id], sample_id_to_index[wb_id]"
   ]
  },
  {
   "cell_type": "code",
   "execution_count": 20,
   "metadata": {},
   "outputs": [],
   "source": [
    "chrom_lengths = {\n",
    "\t'1': 225934550,\n",
    "\t'2': 238204522,\n",
    "\t'3': 194797140,\n",
    "\t'4': 188042934,\n",
    "\t'5': 177695260,\n",
    "\t'6': 167395067,\n",
    "\t'7': 155536559,\n",
    "\t'8': 142964911,\n",
    "\t'9': 120626573,\n",
    "\t'10': 131314747,\n",
    "\t'11': 131169619,\n",
    "\t'12': 130481395,\n",
    "\t'13': 95589878,\n",
    "\t'14': 88289540,\n",
    "\t'15': 81694769,\n",
    "\t'16': 78884753,\n",
    "\t'17': 78129607,\n",
    "\t'18': 74661510,\n",
    "\t'19': 56060841,\n",
    "\t'20': 59505520,\n",
    "\t'21': 35134224,\n",
    "\t'22': 34894566,\n",
    "\t'X': 151100560,\n",
    "\t'Y': 25653566\n",
    "}"
   ]
  },
  {
   "cell_type": "markdown",
   "metadata": {},
   "source": [
    "# Compare error rates\n"
   ]
  },
  {
   "cell_type": "code",
   "execution_count": 46,
   "metadata": {},
   "outputs": [
    {
     "name": "stdout",
     "output_type": "stream",
     "text": [
      "1 (2, 5734832)\n",
      "2 (2, 6130682)\n",
      "3 (2, 5004468)\n",
      "4 (2, 5057877)\n",
      "5 (2, 4605420)\n",
      "6 (2, 4331684)\n",
      "7 (2, 4190321)\n",
      "8 (2, 3992696)\n",
      "9 (2, 3305436)\n",
      "10 (2, 3463889)\n",
      "11 (2, 3473317)\n",
      "12 (2, 3317019)\n",
      "13 (2, 2475224)\n",
      "14 (2, 2344178)\n",
      "15 (2, 2164322)\n",
      "16 (2, 2420607)\n",
      "17 (2, 2023375)\n",
      "18 (2, 1951594)\n",
      "19 (2, 1625347)\n",
      "20 (2, 1567602)\n",
      "21 (2, 1055547)\n",
      "22 (2, 1004649)\n",
      "X (2, 2965581)\n",
      "Y (2, 231075)\n"
     ]
    }
   ],
   "source": [
    "indices = [lcl_index, wb_index]\n",
    "all_gens = [None for _ in chroms]\n",
    "all_positions = [None for _ in chroms]\n",
    "num_calls = [None for _ in chroms]\n",
    "for i, chrom in enumerate(chroms):\n",
    "    print(chrom, end=' ')\n",
    "    try:\n",
    "        gen_files = sorted([f for f in listdir(data_dir) if ('chr.%s.' % chrom) in f and 'gen.npz' in f])\n",
    "\n",
    "        # pull snp positions\n",
    "        pos_data = np.load('%s/chr.%s.gen.coordinates.npy' % (data_dir, chrom))\n",
    "        snp_positions = pos_data[:, 1]\n",
    "        is_snp = pos_data[:, 2].astype(bool)\n",
    "\n",
    "        # Pull data together\n",
    "        A = sparse.hstack([sparse.load_npz('%s/%s' % (data_dir, gen_file))[indices, :] for gen_file in gen_files])\n",
    "\n",
    "        # filter out snps\n",
    "        A = A[:, is_snp].A\n",
    "        snp_positions = snp_positions[is_snp]\n",
    "        num_calls[i] = snp_positions.shape[0]\n",
    "\n",
    "        # don't need low coverage flag on missing values\n",
    "        A[A<0] = -1\n",
    "\n",
    "        print(A.shape)\n",
    "        all_gens[i] = A\n",
    "        all_positions[i] = snp_positions\n",
    "    except Exception as e:\n",
    "        print('Error')\n",
    "        print(e)"
   ]
  },
  {
   "cell_type": "code",
   "execution_count": 6,
   "metadata": {},
   "outputs": [
    {
     "name": "stdout",
     "output_type": "stream",
     "text": [
      "(2, 278530)\n"
     ]
    }
   ],
   "source": [
    "chrom = '4'\n",
    "i = 3\n",
    "\n",
    "gen_files = sorted([f for f in listdir(data_dir) if ('chr.%s.' % chrom) in f and 'gen.npz' in f])\n",
    "\n",
    "# pull snp positions\n",
    "pos_data = np.load('%s/chr.%s.gen.coordinates.npy' % (data_dir, chrom))\n",
    "snp_positions = pos_data[:, 1]\n",
    "is_snp = pos_data[:, 2].astype(bool)\n",
    "\n",
    "# Pull data together\n",
    "A = sparse.hstack([sparse.load_npz('%s/%s' % (data_dir, gen_file))[indices, :] for gen_file in gen_files])\n",
    "        \n",
    "# filter out snps\n",
    "A = A[:, is_snp].A\n",
    "snp_positions = snp_positions[is_snp]\n",
    "num_calls[i] = snp_positions.shape[0]\n",
    "\n",
    "# don't need low coverage flag on missing values\n",
    "A[A<0] = -1\n",
    "\n",
    "print(A.shape)\n",
    "all_gens[i] = A\n",
    "all_positions[i] = snp_positions"
   ]
  },
  {
   "cell_type": "code",
   "execution_count": 32,
   "metadata": {},
   "outputs": [
    {
     "name": "stdout",
     "output_type": "stream",
     "text": [
      "1 2 3 4 5 6 7 8 9 10 11 12 13 14 15 16 17 18 19 20 21 22 X Y [[2.25594045e+08 7.27900000e+03 6.10000000e+01 9.39800000e+03]\n",
      " [6.75300000e+03 1.89674000e+05 4.02000000e+02 4.02000000e+02]\n",
      " [5.30000000e+01 3.57000000e+02 1.04480000e+05 3.99000000e+02]\n",
      " [6.26500000e+03 1.87000000e+02 3.68000000e+02 1.44270000e+04]]\n"
     ]
    }
   ],
   "source": [
    "# chrom, lcl (0, 1, 2, -1), wb (0, 1, 2, -1)\n",
    "counts = np.zeros((len(chroms), 4, 4))\n",
    "for i, chrom in enumerate(chroms):\n",
    "    print(chrom, end=' ')\n",
    "    gs, cs = np.unique(all_gens[i], axis=1, return_counts=True)\n",
    "    for gen, count in zip(gs.T, cs.T):\n",
    "        counts[i, gen[0], gen[1]] = count\n",
    "    counts[i, 0, 0] = chrom_lengths[chrom] - np.sum(counts[i, :, :])\n",
    "print(counts[0])"
   ]
  },
  {
   "cell_type": "code",
   "execution_count": 33,
   "metadata": {},
   "outputs": [
    {
     "name": "stdout",
     "output_type": "stream",
     "text": [
      "[[9.98949563e-01 7.71608472e-03 2.26819669e-05 9.97584318e-01\n",
      "  3.84917882e-05 3.85445141e-02]\n",
      " [4.07205020e-04 9.90027132e-01 6.39089941e-04 8.47573951e-04\n",
      "  8.57735391e-03 3.71904073e-04]\n",
      " [4.86238045e-06 1.13453203e-03 9.98586574e-01 1.13894827e-05\n",
      "  9.89520733e-01 3.63110746e-03]\n",
      " [6.38369861e-04 1.12225093e-03 7.51653970e-04 1.55671834e-03\n",
      "  1.86342178e-03 9.57452474e-01]]\n"
     ]
    }
   ],
   "source": [
    "# obs, true\n",
    "error_rate = np.zeros((4, 6))\n",
    "with open(param_file, 'r') as f:\n",
    "    params = json.load(f)\n",
    "\n",
    "for i, obs in enumerate(['0/0', '0/1', '1/1', './.']):\n",
    "    for j, true_gen in enumerate(['0/0', '0/1', '1/1', '-/0', '-/1', '-/-']):\n",
    "        error_rate[i, j] = np.power(10.0, -params[\"-log10(P[obs=%s|true_gen=%s])\" % (obs, true_gen)])\n",
    "print(error_rate)"
   ]
  },
  {
   "cell_type": "code",
   "execution_count": 43,
   "metadata": {},
   "outputs": [
    {
     "name": "stdout",
     "output_type": "stream",
     "text": [
      "[(0, 1), (0, 2), (1, 0), (1, 2), (2, 0), (2, 1)]\n"
     ]
    }
   ],
   "source": [
    "#lcl, wb\n",
    "error_types = [(a, b) for a, b in product([0, 1, 2], repeat=2) if a!=b]\n",
    "print(error_types)\n",
    "    \n",
    "# chrom, lcl, wb\n",
    "exp = np.zeros((len(chroms), 4, 4))\n",
    "for i, chrom in enumerate(chroms):\n",
    "    if chrom != 'X' and chrom != 'Y':\n",
    "        for lcl_gen, wb_gen in error_types:\n",
    "            # first, let's say LCL is correct, and the WB is the error\n",
    "            exp[i, lcl_gen, wb_gen] = counts[i, lcl_gen, lcl_gen]*error_rate[wb_gen, lcl_gen]\n",
    "            exp[i, lcl_gen, wb_gen] += counts[i, wb_gen, wb_gen]*error_rate[lcl_gen, wb_gen]\n",
    "\n",
    "            \n",
    "            "
   ]
  },
  {
   "cell_type": "code",
   "execution_count": 44,
   "metadata": {},
   "outputs": [
    {
     "name": "stdout",
     "output_type": "stream",
     "text": [
      "(24, 4, 4) (24, 4, 4)\n"
     ]
    }
   ],
   "source": [
    "print(counts.shape, exp.shape)"
   ]
  },
  {
   "cell_type": "code",
   "execution_count": 45,
   "metadata": {},
   "outputs": [
    {
     "data": {
      "image/png": "[encoded data removed]",
      "text/plain": [
       "<Figure size 1080x1080 with 6 Axes>"
      ]
     },
     "metadata": {},
     "output_type": "display_data"
    }
   ],
   "source": [
    "import matplotlib.pyplot as plt\n",
    "\n",
    "plt.figure(figsize=(15, 15))\n",
    "\n",
    "for i, (lcl_gen, wb_gen) in enumerate(error_types):\n",
    "    plt.subplot(4, 3, i+1)\n",
    "    plt.scatter(counts[:, lcl_gen, wb_gen], exp[:, lcl_gen, wb_gen])\n",
    "    plt.xlabel('Observed')\n",
    "    plt.ylabel('Expected')\n",
    "    plt.title('LCL: %d, WB: %d' % (lcl_gen, wb_gen))\n",
    "    \n",
    "plt.tight_layout()\n",
    "plt.show()"
   ]
  },
  {
   "cell_type": "code",
   "execution_count": null,
   "metadata": {},
   "outputs": [],
   "source": []
  }
 ],
 "metadata": {
  "kernelspec": {
   "display_name": "Python 3",
   "language": "python",
   "name": "python3"
  },
  "language_info": {
   "codemirror_mode": {
    "name": "ipython",
    "version": 3
   },
   "file_extension": ".py",
   "mimetype": "text/x-python",
   "name": "python",
   "nbconvert_exporter": "python",
   "pygments_lexer": "ipython3",
   "version": "3.6.7"
  }
 },
 "nbformat": 4,
 "nbformat_minor": 2
}
