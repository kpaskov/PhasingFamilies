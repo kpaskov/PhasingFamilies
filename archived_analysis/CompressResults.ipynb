{
 "cells": [
  {
   "cell_type": "code",
   "execution_count": 2,
   "metadata": {},
   "outputs": [],
   "source": [
    "import numpy as np"
   ]
  },
  {
   "cell_type": "code",
   "execution_count": 34,
   "metadata": {},
   "outputs": [],
   "source": [
    "def compress_file(filename):\n",
    "    with open(filename, 'r') as f:\n",
    "        header = next(f).strip().split('\\t')\n",
    "        # check that we have a typical nuclear family structure\n",
    "        if tuple(header[1:5]) == ('m1_del', 'm2_del', 'p1_del', 'p2_del'):\n",
    "            individuals = [header[i][:-4] for i in range(5, len(header)-3, 2)]\n",
    "        else:\n",
    "            raise Exception('Not a simple nuclear family.')\n",
    "                            \n",
    "        # pull phase\n",
    "        chroms = []\n",
    "        start_positions, end_positions = [], []\n",
    "        states = []\n",
    "        for line in f:\n",
    "            pieces = line.strip().split('\\t')\n",
    "            chroms.append(pieces[0][3:])\n",
    "            start_positions.append(int(pieces[-2]))\n",
    "            end_positions.append(int(pieces[-1]))\n",
    "            states.append([int(x) for x in pieces[1:-2]])\n",
    "                \n",
    "    chroms = np.array(chroms)\n",
    "    start_positions = np.array(start_positions)\n",
    "    end_positions = np.array(end_positions)\n",
    "    states = np.array(states, dtype=np.int8)\n",
    "    \n",
    "    all_chroms = chroms[[0] + (np.where(chroms[1:]!=chroms[:-1])[0]+1).tolist()]\n",
    "    print(all_chroms)\n",
    "    \n",
    "    with open('%s.compressed.txt' % filename, 'w+') as phasef:\n",
    "        for chrom in all_chroms:\n",
    "            chrom_states = states[chroms==chrom, :].T\n",
    "            for i in range(4):\n",
    "                chrom_states[i, chrom_states[i, :]>1] = 1\n",
    "\n",
    "            chrom_start_positions = start_positions[chroms==chrom]\n",
    "            chrom_end_positions = end_positions[chroms==chrom]\n",
    "\n",
    "            # write final states to file\n",
    "            change_indices = [-1] + np.where(np.any(chrom_states[:, 1:]!=chrom_states[:, :-1], axis=0))[0].tolist() + [chrom_states.shape[1]-1]\n",
    "            for j in range(1, len(change_indices)):\n",
    "                s_start, s_end = change_indices[j-1]+1, change_indices[j]\n",
    "                assert np.all(chrom_states[:, s_start] == chrom_states[:, s_end])\n",
    "                phasef.write('%s\\t%s\\t%d\\t%d\\n' % (\n",
    "                            'chr' + chrom, \n",
    "                            '\\t'.join(map(str, chrom_states[:, s_start])), \n",
    "                            chrom_start_positions[s_start], chrom_end_positions[s_end]))\n",
    "\n",
    "    print('Write to file complete')"
   ]
  },
  {
   "cell_type": "code",
   "execution_count": 35,
   "metadata": {},
   "outputs": [
    {
     "name": "stdout",
     "output_type": "stream",
     "text": [
      "['1' '2' '3' '4' '5' '6' '7' '8' '9' '10' '11' '12' '13' '14' '15' '16'\n",
      " '17' '18' '19' '20' '21' '22']\n",
      "Write to file complete\n"
     ]
    }
   ],
   "source": [
    "compress_file('../phased_mssng_quads_del/MSSNG00439-003.MSSNG00439-003.MSSNG00439-004.phased.txt')"
   ]
  },
  {
   "cell_type": "code",
   "execution_count": null,
   "metadata": {},
   "outputs": [],
   "source": []
  }
 ],
 "metadata": {
  "kernelspec": {
   "display_name": "Python 3",
   "language": "python",
   "name": "python3"
  },
  "language_info": {
   "codemirror_mode": {
    "name": "ipython",
    "version": 3
   },
   "file_extension": ".py",
   "mimetype": "text/x-python",
   "name": "python",
   "nbconvert_exporter": "python",
   "pygments_lexer": "ipython3",
   "version": "3.7.3"
  }
 },
 "nbformat": 4,
 "nbformat_minor": 2
}
