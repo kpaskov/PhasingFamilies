{
 "cells": [
  {
   "cell_type": "code",
   "execution_count": 2,
   "metadata": {},
   "outputs": [
    {
     "name": "stdout",
     "output_type": "stream",
     "text": [
      "[[2.74652308e-08]\n",
      " [2.85638777e-02]\n",
      " [2.75725989e-08]\n",
      " [4.78319436e-08]\n",
      " [2.63772742e-09]\n",
      " [1.49296787e-01]\n",
      " [1.19197012e-07]\n",
      " [2.09644973e-08]\n",
      " [2.46747598e-01]\n",
      " [5.78236593e-01]\n",
      " [5.29014714e-09]\n",
      " [1.01716256e-03]\n",
      " [8.73735490e-09]\n",
      " [2.26771054e-01]\n",
      " [1.37216315e-08]\n",
      " [2.10136926e-08]\n",
      " [4.08406457e-08]\n",
      " [4.52408177e-09]\n",
      " [2.55073731e-08]\n",
      " [6.32803288e-09]]\n",
      "[[2.50930786e+00]\n",
      " [2.67843812e-06]\n",
      " [2.78353157e+00]\n",
      " [1.79423617e+00]\n",
      " [1.30858969e+01]\n",
      " [5.59967336e-07]\n",
      " [7.37035770e-01]\n",
      " [3.35348867e+00]\n",
      " [3.53776686e-07]\n",
      " [1.58359789e-07]\n",
      " [8.93824713e+00]\n",
      " [3.08617390e-04]\n",
      " [7.02959474e+00]\n",
      " [3.97062919e-07]\n",
      " [4.71054027e+00]\n",
      " [3.18864113e+00]\n",
      " [2.06076796e+00]\n",
      " [1.00817336e+01]\n",
      " [3.04814645e+00]\n",
      " [8.53266394e+00]]\n"
     ]
    }
   ],
   "source": [
    "import cvxpy as cp\n",
    "import numpy as np\n",
    "\n",
    "# Problem data.\n",
    "\n",
    "Y = np.asarray([[1, 1, 0, 0], [0, 0, 1, 1], [1, 0, 1, 0], [0, 1, 1, 0], [1, 0, 0, 1]])\n",
    "r = np.asarray([25, 50, 25, 25, 25])\n",
    "a = np.asarray([25, 0, 25, 25, 25])\n",
    "m = Y.shape[0]\n",
    "\n",
    "# Construct the problem.\n",
    "R = cp.Variable((m, 4))\n",
    "A = cp.Variable((m, 4))\n",
    "\n",
    "objective = cp.Minimize(cp.sum_squares(A*x - b))\n",
    "constraints = [0 <= x, x <= 1]\n",
    "prob = cp.Problem(objective, constraints)\n",
    "\n",
    "# The optimal objective value is returned by `prob.solve()`.\n",
    "result = prob.solve()\n",
    "# The optimal value for x is stored in `x.value`.\n",
    "print(x.value)\n",
    "# The optimal Lagrange multiplier for a constraint is stored in\n",
    "# `constraint.dual_value`.\n",
    "print(constraints[0].dual_value)"
   ]
  },
  {
   "cell_type": "code",
   "execution_count": null,
   "metadata": {},
   "outputs": [],
   "source": []
  }
 ],
 "metadata": {
  "kernelspec": {
   "display_name": "Python 3",
   "language": "python",
   "name": "python3"
  },
  "language_info": {
   "codemirror_mode": {
    "name": "ipython",
    "version": 3
   },
   "file_extension": ".py",
   "mimetype": "text/x-python",
   "name": "python",
   "nbconvert_exporter": "python",
   "pygments_lexer": "ipython3",
   "version": "3.6.6"
  }
 },
 "nbformat": 4,
 "nbformat_minor": 2
}
