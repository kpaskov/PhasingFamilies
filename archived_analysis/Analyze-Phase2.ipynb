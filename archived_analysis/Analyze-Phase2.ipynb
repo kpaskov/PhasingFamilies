{
 "cells": [
  {
   "cell_type": "code",
   "execution_count": 1,
   "metadata": {
    "collapsed": true
   },
   "outputs": [],
   "source": [
    "from collections import namedtuple\n",
    "Deletion = namedtuple('Deletion', ['family', 'chrom', \n",
    "                                   'start_pos', 'end_pos', 'start_index', 'end_index', 'length',\n",
    "                                   'individuals',\n",
    "                                   'doubledel', 'singledel', 'nodel',\n",
    "                                   'mat_del', 'pat_del',\n",
    "                                   'no_mat_del', 'no_pat_del',\n",
    "                                   'mom_del', 'dad_del'])\n"
   ]
  },
  {
   "cell_type": "code",
   "execution_count": 65,
   "metadata": {
    "collapsed": true
   },
   "outputs": [],
   "source": [
    "family_sizes = [3, 4, 5]\n",
    "phase_dir = '../phased_unknown_cutoff'\n",
    "data_dir = '../split_gen_miss'\n",
    "#phase_dir = '../phased_ssc'\n",
    "#data_dir = '../split_gen_miss_ssc'"
   ]
  },
  {
   "cell_type": "code",
   "execution_count": 66,
   "metadata": {},
   "outputs": [
    {
     "name": "stdout",
     "output_type": "stream",
     "text": [
      "22\n",
      "Num families with all chroms 89\n"
     ]
    }
   ],
   "source": [
    "import numpy as np\n",
    "from collections import defaultdict\n",
    "\n",
    "# pull families with data for all chromosomes\n",
    "all_positions = set()\n",
    "family_to_chroms = defaultdict(set)\n",
    "family_to_num_dels = defaultdict(int)\n",
    "family_chrom_to_num_dels = defaultdict(int)\n",
    "family_to_individuals = dict()\n",
    "chroms = [22]#range(1, 23)\n",
    "for chrom in chroms:\n",
    "    print(chrom)\n",
    "\n",
    "    for j in family_sizes:\n",
    "        try:\n",
    "            with open('%s/chr.%s.familysize.%d.phased.txt' % (phase_dir, chrom, j), 'r')  as f:\n",
    "                next(f) # skip header\n",
    "                for line in f:\n",
    "                    pieces = line.strip().split('\\t')\n",
    "                    family_key = pieces[0]\n",
    "                    inheritance_state = [int(x) for x in pieces[1:(1+(j*2))]]\n",
    "                    start_pos, end_pos = [int(x) for x in pieces[(1+(j*2)):(3+(j*2))]]\n",
    "                    all_positions.add((chrom, start_pos))\n",
    "                    all_positions.add((chrom, end_pos))\n",
    "                    family_to_chroms[family_key].add(chrom)\n",
    "                    \n",
    "                    num_dels = len([x for x in inheritance_state[:4] if x == 0])\n",
    "                    family_to_num_dels[family_key] += num_dels \n",
    "                    family_chrom_to_num_dels[(family_key, chrom)] += num_dels\n",
    "        except FileNotFoundError:\n",
    "            print('File not found', 'chrom', chrom, 'family size', j)\n",
    "        except StopIteration:\n",
    "            print('File empty', 'chrom', chrom, 'family size', j)\n",
    "    \n",
    "pos_to_index = dict([(x, i) for i, x in enumerate(sorted(all_positions))])\n",
    "max_index = len(pos_to_index)\n",
    "\n",
    "have_all_chroms = set([k for k, v in family_to_chroms.items() if len(v)==len(chroms) and k.split('.')[0]])\n",
    "print('Num families with all chroms', len(have_all_chroms))\n"
   ]
  },
  {
   "cell_type": "code",
   "execution_count": 67,
   "metadata": {},
   "outputs": [],
   "source": [
    "family_to_individuals = dict()\n",
    "\n",
    "for chrom in chroms:\n",
    "    for j in family_sizes:\n",
    "        try:\n",
    "            with open('%s/chr.%s.familysize.%d.families.txt' % (phase_dir, chrom, j), 'r')  as f:\n",
    "                next(f) # skip header\n",
    "                for line in f:\n",
    "                    pieces = line.strip().split('\\t')\n",
    "                    family_key = pieces[0]\n",
    "                    family_to_individuals[family_key] = pieces[1:(1+j)]\n",
    "        except FileNotFoundError:\n",
    "            print('File not found', 'chrom', chrom, 'fammily size', j)\n",
    "        except StopIteration:\n",
    "            print('File empty', 'chrom', chrom, 'family size', j)\n"
   ]
  },
  {
   "cell_type": "code",
   "execution_count": 68,
   "metadata": {},
   "outputs": [
    {
     "name": "stdout",
     "output_type": "stream",
     "text": [
      "min length 0 max length 47 avg 2.6741573033707864 median 1.0\n",
      "[('AU1495303.AU1495202.AU1495201', 3, 47), ('AU0148.AU014801.AU014802', 5, 10), ('AU0133.AU013301.AU013302', 4, 9), ('AU0247.AU024701.AU024702', 4, 8), ('AU0268.AU026801.AU026802', 4, 7), ('AU0358.AU035804.AU035803', 4, 7), ('AU0022.AU002201.AU002202', 5, 7), ('AU0306.AU030601.AU030602', 4, 6), ('AU0350.AU035001.AU035002', 4, 6), ('AU0531.AU0531202.AU0531201', 4, 6)]\n"
     ]
    },
    {
     "data": {
      "image/png": "[encoded data removed]",
      "text/plain": [
       "<Figure size 1080x360 with 1 Axes>"
      ]
     },
     "metadata": {},
     "output_type": "display_data"
    }
   ],
   "source": [
    "import matplotlib.pyplot as plt\n",
    "import math\n",
    "\n",
    "plt.figure(figsize=(15, 5))\n",
    "base = 1.4\n",
    "\n",
    "max_length = max(family_to_num_dels.values()) \n",
    "min_length = min(family_to_num_dels.values()) \n",
    "mean_length = np.mean(list(family_to_num_dels.values()))\n",
    "median_length = np.median(list(family_to_num_dels.values()))\n",
    "print('min length', min_length, 'max length', max_length, 'avg', mean_length, 'median', median_length)\n",
    "families = list(family_to_num_dels.keys())\n",
    "print(sorted(list(zip(families, \n",
    "                      [len(family_to_individuals[k]) for k in families],\n",
    "                     [family_to_num_dels[k] for k in families])), key=lambda x: family_to_num_dels[x[0]], reverse=True)[:10])\n",
    "\n",
    "plt.hist(family_to_num_dels.values(), bins=[pow(base, i) for i in range(math.ceil(math.log(max_length, base))+1)], alpha=0.5)\n",
    "\n",
    "plt.gca().set_xscale(\"log\")\n",
    "\n",
    "plt.show()"
   ]
  },
  {
   "cell_type": "code",
   "execution_count": 69,
   "metadata": {},
   "outputs": [
    {
     "name": "stdout",
     "output_type": "stream",
     "text": [
      "min length 0 max length 47 avg 2.6741573033707864 median 1.0\n",
      "1\n"
     ]
    },
    {
     "data": {
      "image/png": "[encoded data removed]",
      "text/plain": [
       "<Figure size 1080x360 with 1 Axes>"
      ]
     },
     "metadata": {},
     "output_type": "display_data"
    }
   ],
   "source": [
    "import matplotlib.pyplot as plt\n",
    "import math\n",
    "\n",
    "plt.figure(figsize=(15, 5))\n",
    "base = 1.4\n",
    "\n",
    "max_length = max(family_chrom_to_num_dels.values()) \n",
    "min_length = min(family_chrom_to_num_dels.values()) \n",
    "mean_length = np.mean(list(family_chrom_to_num_dels.values()))\n",
    "median_length = np.median(list(family_chrom_to_num_dels.values()))\n",
    "print('min length', min_length, 'max length', max_length, 'avg', mean_length, 'median', median_length)\n",
    "famchroms = list([(k, c) for k, c in family_chrom_to_num_dels.keys()])\n",
    "so = sorted(list(zip(famchroms, \n",
    "                      [len(family_to_individuals[k]) for k, c in famchroms],\n",
    "                     [family_chrom_to_num_dels[k] for k in famchroms])), \n",
    "             key=lambda x: family_chrom_to_num_dels[x[0]], reverse=True)\n",
    "\n",
    "\n",
    "#print(so[:50])\n",
    "print(len(set([x[0][0] for x in so if x[2]>10])))\n",
    "\n",
    "plt.hist([family_chrom_to_num_dels[k] for k in family_chrom_to_num_dels.keys()], bins=50)#, bins=[pow(base, i) for i in range(math.ceil(math.log(max_length, base))+1)], alpha=0.5)\n",
    "\n",
    "#plt.gca().set_xscale(\"log\")\n",
    "\n",
    "plt.show()"
   ]
  },
  {
   "cell_type": "code",
   "execution_count": 58,
   "metadata": {},
   "outputs": [
    {
     "name": "stdout",
     "output_type": "stream",
     "text": [
      "AU1495303.AU1495202.AU1495201\n",
      "AU0012.AU001201.AU001202\n",
      "AU0095.AU009501.AU009502\n",
      "AU0329.AU032901.AU032902\n",
      "AU0782.AU0782202.AU0782201\n",
      "AU0828.AU082801.AU082802\n",
      "AU0866.AU0866202.AU0866201\n",
      "AU0923.AU0923202.AU0923201\n",
      "AU0941.AU0941202.AU0941201\n",
      "AU0951.AU0951202.AU0951201\n",
      "AU1221.AU1221202.AU1221201\n",
      "AU0714.AU0714202.AU0714201\n",
      "AU0959.AU0959202.AU0959201\n",
      "AU1070.AU1070202.AU1070201\n",
      "AU1103.AU1103202.AU1103201\n",
      "AU1177.AU1177202.AU1177201\n",
      "AU1178.AU1178202.AU1178201\n",
      "AU1197.AU1197202.AU1197201\n",
      "AU1299.AU1299202.AU1299201\n",
      "AU1342.AU1342202.AU1342201\n",
      "AU1437.AU1437202.AU1437201\n",
      "AU1529.AU1529202.AU1529201\n",
      "AU1544.AU1544202.AU1544201\n",
      "AU1296.AU1296202.AU1296201\n",
      "AU1441.AU1441202.AU1441201\n",
      "AU1508.AU1508202.AU1508201\n",
      "AU1641.AU1641202.AU1641201\n",
      "AU1692.AU1692202.AU1692201\n",
      "AU1890.AU1890202.AU1890201\n",
      "AU1965.AU1965202.AU1965201\n",
      "AU1977.AU1977202.AU1977201\n",
      "AU3303.AU3303202.AU3303201\n",
      "AU1623.AU1623202.AU1623201\n",
      "AU2172.AU2172202.AU2172201\n",
      "AU2752.AU2752202.AU2752201\n",
      "AU3347.AU3347202.AU3347201\n",
      "AU3551.AU3551202.AU3551201\n",
      "AU0262.AU026201.AU026202\n",
      "AU0289.AU028901.AU028902\n",
      "AU0453.AU045301.AU045302\n",
      "AU0620.AU062001.AU062002\n",
      "AU0665.AU066501.AU066502\n",
      "AU0868.AU086801.AU086802\n",
      "AU0897.AU0897202.AU0897201\n",
      "AU0905.AU0905202.AU0905201\n",
      "AU0918.AU0918202.AU0918201\n",
      "AU0930.AU0930101.AU0930102\n",
      "AU0952.AU0952202.AU0952201\n",
      "AU0995.AU0995202.AU0995201\n",
      "AU1244.AU1244202.AU1244201\n",
      "AU1298.AU1298202.AU1298201\n",
      "AU1346.AU1346202.AU1346201\n",
      "AU1399.AU1399202.AU1399201\n",
      "AU1464.AU1464202.AU1464201\n",
      "AU1497.AU1497202.AU1497201\n",
      "AU0093.AU0093202.AU0093201\n",
      "AU0226.AU0226202.AU0226201\n",
      "AU0316.AU0316202.AU0316201\n",
      "AU0958.AU0958202.AU0958201\n",
      "AU1482.AU1482202.AU1482201\n",
      "AU1495.AU1495202.AU1495201\n",
      "AU1638.AU1638202.AU1638201\n",
      "AU1680.AU1680202.AU1680201\n",
      "AU1684.AU1684202.AU1684201\n",
      "AU1686.AU1686202.AU1686201\n",
      "AU1730.AU1730202.AU1730201\n",
      "AU1733.AU1733202.AU1733201\n",
      "AU1822.AU1822202.AU1822201\n",
      "68\n"
     ]
    }
   ],
   "source": [
    "f = 0\n",
    "for fam in families:\n",
    "    c = [family_chrom_to_num_dels[(fam, c)] for c in chroms]\n",
    "    if max(c) > 15:\n",
    "        print(fam)\n",
    "        f += 1\n",
    "print(f)"
   ]
  },
  {
   "cell_type": "code",
   "execution_count": 55,
   "metadata": {},
   "outputs": [
    {
     "data": {
      "image/png": "[encoded data removed]",
      "text/plain": [
       "<Figure size 432x288 with 1 Axes>"
      ]
     },
     "metadata": {},
     "output_type": "display_data"
    }
   ],
   "source": [
    "import random\n",
    "\n",
    "fam = 'AU0012.AU001201.AU001202'\n",
    "#fam = random.choice(families)\n",
    "plt.hist([family_chrom_to_num_dels[(fam, c)] for c in chroms])\n",
    "plt.show()"
   ]
  },
  {
   "cell_type": "code",
   "execution_count": 37,
   "metadata": {},
   "outputs": [
    {
     "name": "stdout",
     "output_type": "stream",
     "text": [
      "Num families with monozygotic multiples 96\n"
     ]
    }
   ],
   "source": [
    "# pull monozygotic mutiples\n",
    "monozygotic_multiple_families = set()\n",
    "with open('../data/160826.iHART.db.query.csv', 'r') as f:\n",
    "    next(f)\n",
    "    for line in f:\n",
    "        pieces = line.split(',')\n",
    "        if 'MZ' in pieces[11]:\n",
    "            monozygotic_multiple_families.add(pieces[3])\n",
    "print('Num families with monozygotic multiples', len(monozygotic_multiple_families))\n"
   ]
  },
  {
   "cell_type": "code",
   "execution_count": null,
   "metadata": {
    "collapsed": true
   },
   "outputs": [],
   "source": []
  }
 ],
 "metadata": {
  "kernelspec": {
   "display_name": "Python 3",
   "language": "python",
   "name": "python3"
  },
  "language_info": {
   "codemirror_mode": {
    "name": "ipython",
    "version": 3
   },
   "file_extension": ".py",
   "mimetype": "text/x-python",
   "name": "python",
   "nbconvert_exporter": "python",
   "pygments_lexer": "ipython3",
   "version": "3.6.1"
  }
 },
 "nbformat": 4,
 "nbformat_minor": 2
}
