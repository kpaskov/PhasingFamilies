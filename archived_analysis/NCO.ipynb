{
 "cells": [
  {
   "cell_type": "code",
   "execution_count": 1,
   "metadata": {},
   "outputs": [],
   "source": [
    "import os\n",
    "import json\n",
    "from collections import defaultdict\n",
    "import matplotlib.pyplot as plt\n",
    "import numpy as np\n",
    "import scipy.stats as stats\n",
    "from itertools import combinations"
   ]
  },
  {
   "cell_type": "code",
   "execution_count": 66,
   "metadata": {},
   "outputs": [],
   "source": [
    "#phase_dir = '../phased_spark'\n",
    "#assembly = '38'\n",
    "\n",
    "#sample_to_age = dict()\n",
    "#with open('../phenotypes/basic_medical_screening.csv', 'r') as f:\n",
    "#    next(f) # skip header\n",
    "#    for line in f:\n",
    "#        pieces = line.strip().split(',')\n",
    "#        sample_to_age[pieces[0]] = int(pieces[8])\n",
    "        \n",
    "\n",
    "#phase_dir = '../phased_ihart'\n",
    "#assembly = '37'\n",
    "\n",
    "phase_dirs = ['../phased_ssc.hg38', '../phased_mssng_quads', '../phased_ihart.ms2_quads']\n",
    "#phase_dirs = ['../phased_ihart.ms2_quads']\n",
    "#phase_dirs = ['../phased_mssng_quads']\n",
    "assembly = '38'"
   ]
  },
  {
   "cell_type": "code",
   "execution_count": 69,
   "metadata": {},
   "outputs": [
    {
     "name": "stdout",
     "output_type": "stream",
     "text": [
      "../phased_ssc.hg38\n",
      "Are they related? 12970.gene_conversions.json\n",
      "Are they related? 13949.gene_conversions.json\n",
      "Are they related? 13976.gene_conversions.json\n",
      "Are they related? 14357.gene_conversions.json\n",
      "Are they related? 14655.gene_conversions.json\n",
      "1921\n",
      "../phased_mssng_quads\n",
      "736\n",
      "../phased_ihart.ms2_quads\n",
      "Are they related? AU0832.AU083203.AU083204.gene_conversions.json\n",
      "Are they related? AU0866.AU0866301.AU0866302.gene_conversions.json\n",
      "Are they related? AU0905.AU0905301.AU0905302.gene_conversions.json\n",
      "Are they related? AU0905.AU0905301.AU0905303.gene_conversions.json\n",
      "Are they related? AU0923.AU0923301.AU0923302.gene_conversions.json\n",
      "Are they related? AU0941.AU0941301.AU0941302.gene_conversions.json\n",
      "Are they related? AU0951.AU0951301.AU0951302.gene_conversions.json\n",
      "1984\n"
     ]
    }
   ],
   "source": [
    "def pull_crossovers(phase_dir):\n",
    "    child_to_crossovers = defaultdict(list)\n",
    "    print(phase_dir)\n",
    "    for file in sorted(os.listdir(phase_dir)):\n",
    "        if file.endswith('.gene_conversions.json'):\n",
    "            with open('%s/%s' % (phase_dir, file), 'r') as f:\n",
    "                cos = json.load(f)\n",
    "                if len(cos)<250:\n",
    "                    for co in cos:\n",
    "                        child_to_crossovers[tuple(co['child'])].append(co)\n",
    "                else:\n",
    "                    print('Are they related?', file)\n",
    "    print(len(child_to_crossovers))\n",
    "    return child_to_crossovers\n",
    "            \n",
    "crossovers = [pull_crossovers(phase_dir) for phase_dir in phase_dirs]"
   ]
  },
  {
   "cell_type": "code",
   "execution_count": 72,
   "metadata": {},
   "outputs": [],
   "source": [
    "def pull_nco_lens(child_to_crossovers):\n",
    "    nco_lens_mat, nco_lens_pat = [], []\n",
    "    already_included = set()\n",
    "    for child, ncos in child_to_crossovers.items():\n",
    "        if child[0] not in already_included and child[1] not in already_included:\n",
    "            for co in ncos:\n",
    "                #length = np.mean(co['recombinations'][-1][2:4])-np.mean(co['recombinations'][0][2:4])\n",
    "                length = co['recombinations'][-1][2]-co['recombinations'][0][3]\n",
    "                if co['is_mat']:\n",
    "                    nco_lens_mat.append(length)\n",
    "                if co['is_pat']:\n",
    "                    nco_lens_pat.append(length)\n",
    "    return np.array(nco_lens_mat), np.array(nco_lens_pat)\n",
    "                \n",
    "nco_lens = [pull_nco_lens(c) for c in crossovers]\n"
   ]
  },
  {
   "cell_type": "code",
   "execution_count": 73,
   "metadata": {},
   "outputs": [
    {
     "name": "stderr",
     "output_type": "stream",
     "text": [
      "//anaconda3/lib/python3.7/site-packages/ipykernel/__main__.py:7: RuntimeWarning: divide by zero encountered in log10\n",
      "//anaconda3/lib/python3.7/site-packages/ipykernel/__main__.py:9: RuntimeWarning: divide by zero encountered in log10\n",
      "//anaconda3/lib/python3.7/site-packages/ipykernel/__main__.py:6: MatplotlibDeprecationWarning: Adding an axes using the same arguments as a previous axes currently reuses the earlier instance.  In a future version, a new instance will always be created and returned.  Meanwhile, this warning can be suppressed, and the future behavior ensured, by passing a unique label to each axes instance.\n",
      "//anaconda3/lib/python3.7/site-packages/ipykernel/__main__.py:8: MatplotlibDeprecationWarning: Adding an axes using the same arguments as a previous axes currently reuses the earlier instance.  In a future version, a new instance will always be created and returned.  Meanwhile, this warning can be suppressed, and the future behavior ensured, by passing a unique label to each axes instance.\n"
     ]
    },
    {
     "data": {
      "image/png": "[encoded data removed]",
      "text/plain": [
       "<Figure size 1080x360 with 2 Axes>"
      ]
     },
     "metadata": {
      "needs_background": "light"
     },
     "output_type": "display_data"
    }
   ],
   "source": [
    "bins=np.arange(0, 10, 0.1)\n",
    "\n",
    "plt.figure(figsize=(15, 5))\n",
    "\n",
    "for nco_lens_mat, nco_lens_pat in nco_lens:\n",
    "    plt.subplot(1, 2, 1)\n",
    "    plt.hist(np.log10(nco_lens_mat), alpha=0.5, bins=bins, label='mat')\n",
    "    plt.subplot(1, 2, 2)\n",
    "    plt.hist(np.log10(nco_lens_pat), alpha=0.5, bins=bins, label='pat')\n",
    "\n",
    "plt.tight_layout()\n",
    "plt.show()"
   ]
  },
  {
   "cell_type": "code",
   "execution_count": 53,
   "metadata": {},
   "outputs": [],
   "source": [
    "child_to_affected = dict()\n",
    "with open('../../DATA/ihart.ms2/ihart.ped.quads.ped', 'r') as f:\n",
    "    for line in f:\n",
    "        pieces = line.strip().split('\\t')\n",
    "        child_to_affected[pieces[1]] = pieces[5]"
   ]
  },
  {
   "cell_type": "code",
   "execution_count": 54,
   "metadata": {},
   "outputs": [
    {
     "ename": "SyntaxError",
     "evalue": "unexpected EOF while parsing (<ipython-input-54-d4c59ffae753>, line 5)",
     "output_type": "error",
     "traceback": [
      "\u001b[0;36m  File \u001b[0;32m\"<ipython-input-54-d4c59ffae753>\"\u001b[0;36m, line \u001b[0;32m5\u001b[0m\n\u001b[0;31m    \u001b[0m\n\u001b[0m    ^\u001b[0m\n\u001b[0;31mSyntaxError\u001b[0m\u001b[0;31m:\u001b[0m unexpected EOF while parsing\n"
     ]
    }
   ],
   "source": [
    "nco_lens_mat, nco_lens_pat = [], []\n",
    "already_included = set()\n",
    "for child, ncos in child_to_crossovers.items():\n",
    "    if child[0] not in already_included and child[1] not in already_included:\n",
    "        "
   ]
  },
  {
   "cell_type": "code",
   "execution_count": null,
   "metadata": {},
   "outputs": [],
   "source": []
  }
 ],
 "metadata": {
  "kernelspec": {
   "display_name": "Python 3",
   "language": "python",
   "name": "python3"
  },
  "language_info": {
   "codemirror_mode": {
    "name": "ipython",
    "version": 3
   },
   "file_extension": ".py",
   "mimetype": "text/x-python",
   "name": "python",
   "nbconvert_exporter": "python",
   "pygments_lexer": "ipython3",
   "version": "3.7.3"
  }
 },
 "nbformat": 4,
 "nbformat_minor": 2
}
