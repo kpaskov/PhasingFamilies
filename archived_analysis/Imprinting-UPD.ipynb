{
 "cells": [
  {
   "cell_type": "code",
   "execution_count": 210,
   "metadata": {},
   "outputs": [],
   "source": [
    "import json\n",
    "import numpy as np\n",
    "import matplotlib.pyplot as plt\n",
    "import scipy.stats as stats\n",
    "from collections import defaultdict"
   ]
  },
  {
   "cell_type": "code",
   "execution_count": 211,
   "metadata": {},
   "outputs": [],
   "source": [
    "dataset_name = '../recomb_ssc.hg38_upd'\n",
    "ped_file = '../../DATA/ssc.hg38/ssc.ped'\n",
    "\n",
    "#dataset_name = '../recomb_ihart.ms2_upd'\n",
    "#ped_file = '../../DATA/ihart.ms2/ihart.ped.quads.ped'"
   ]
  },
  {
   "cell_type": "code",
   "execution_count": 212,
   "metadata": {},
   "outputs": [
    {
     "name": "stdout",
     "output_type": "stream",
     "text": [
      "ped loaded\n",
      "children 9371\n"
     ]
    }
   ],
   "source": [
    "# pull affected status\n",
    "# (0=unknown; 1=unaffected; 2=affected)\n",
    "child_id_to_affected = dict()\n",
    "child_id_to_sex = dict()\n",
    "with open(ped_file, 'r') as f:\n",
    "    for line in f:\n",
    "        pieces = line.strip().split('\\t')\n",
    "        if len(pieces) >= 6:\n",
    "            fam_id, child_id, f_id, m_id, sex, disease_status = pieces[0:6]\n",
    "            if 'ssc' in ped_file:\n",
    "                child_id = child_id.replace('.', '_')\n",
    "            child_id_to_affected[child_id] = disease_status\n",
    "            child_id_to_sex[child_id] = sex\n",
    "\n",
    "\n",
    "print('ped loaded')\n",
    "print('children', len(child_id_to_affected))\n"
   ]
  },
  {
   "cell_type": "code",
   "execution_count": 213,
   "metadata": {},
   "outputs": [],
   "source": [
    "with open('%s/upds.json' % dataset_name, 'r') as f:\n",
    "    #upds = [x for x in json.load(f) if x['chrom'] != 'X']\n",
    "    upds = json.load(f)"
   ]
  },
  {
   "cell_type": "code",
   "execution_count": 214,
   "metadata": {},
   "outputs": [],
   "source": [
    "with open('%s/deletions.json' % dataset_name, 'r') as f:\n",
    "    #deletions = [x for x in json.load(f) if x['chrom'] != 'X']\n",
    "    deletions = json.load(f)"
   ]
  },
  {
   "cell_type": "code",
   "execution_count": 215,
   "metadata": {},
   "outputs": [],
   "source": [
    "with open('%s/sibpairs.json' % dataset_name, 'r') as f:\n",
    "    sibpairs = json.load(f)\n",
    "    \n",
    "child_to_sib = dict()\n",
    "for sibpair in sibpairs:\n",
    "    child_to_sib[(sibpair['family'], sibpair['sibling1'])] = sibpair['sibling2']\n",
    "    child_to_sib[(sibpair['family'], sibpair['sibling2'])] = sibpair['sibling1']"
   ]
  },
  {
   "cell_type": "code",
   "execution_count": 216,
   "metadata": {},
   "outputs": [
    {
     "name": "stdout",
     "output_type": "stream",
     "text": [
      "37823\n"
     ]
    }
   ],
   "source": [
    "print(len([d for d in deletions if d['chrom']=='X']))"
   ]
  },
  {
   "cell_type": "code",
   "execution_count": 217,
   "metadata": {},
   "outputs": [
    {
     "name": "stdout",
     "output_type": "stream",
     "text": [
      "1\n",
      "2\n",
      "3\n",
      "4\n",
      "5\n",
      "6\n",
      "7\n",
      "8\n",
      "9\n",
      "10\n",
      "11\n",
      "12\n",
      "13\n",
      "14\n",
      "15\n",
      "16\n",
      "17\n",
      "18\n",
      "19\n",
      "20\n",
      "21\n",
      "22\n"
     ]
    }
   ],
   "source": [
    "# interval, het_upd/iso_upd/del, mat/pat, nt/aut\n",
    "all_counts = []\n",
    "all_positions = []\n",
    "all_chroms = []\n",
    "for i, chrom in enumerate([str(x) for x in range(1, 23)]):\n",
    "    print(chrom)\n",
    "    chrom_upds = [x for x in upds if x['chrom']==chrom]\n",
    "    chrom_dels = [x for x in deletions if x['chrom']==chrom]\n",
    "\n",
    "    positions = set()\n",
    "    for upd in chrom_upds:\n",
    "        positions.add(upd['start_pos'])\n",
    "        positions.add(upd['start_pos']-1)\n",
    "        positions.add(upd['end_pos'])\n",
    "        positions.add(upd['end_pos']-1)\n",
    "\n",
    "    for d in chrom_dels:\n",
    "        positions.add(d['start_pos'])\n",
    "        positions.add(d['start_pos']-1)\n",
    "        positions.add(d['end_pos'])\n",
    "        positions.add(d['end_pos']-1)\n",
    "\n",
    "    positions = np.array(sorted(positions))\n",
    "    pos_to_index = dict([(x, i) for i, x in enumerate(positions)])\n",
    "\n",
    "    # interval, het_upd/iso_upd/del, mat/pat, nt/aut, MM/FM/MF/FF\n",
    "    counts = np.zeros((len(positions), 3, 2, 2, 4))\n",
    "\n",
    "    for upd in chrom_upds:\n",
    "        counts[pos_to_index[upd['start_pos']]:pos_to_index[upd['end_pos']], int(upd['is_isodisomy']), int(upd['is_mat']), \n",
    "               int(child_id_to_affected[upd['child']]=='2'),\n",
    "               int(child_id_to_sex[upd['child']]=='2') + 2*int(child_id_to_sex[child_to_sib[(upd['family'], upd['child'])]]=='2')] += 1\n",
    "\n",
    "    for d in chrom_dels:\n",
    "        for child in d['trans']:\n",
    "            counts[pos_to_index[d['start_pos']]:pos_to_index[d['end_pos']], 2, int(d['is_pat']), \n",
    "                   int(child_id_to_affected[child]=='2'),\n",
    "                   int(child_id_to_sex[child]=='2') + 2*int(child_id_to_sex[child_to_sib[(d['family'], child)]]=='2')] += 1\n",
    "\n",
    "    all_counts.append(counts)\n",
    "    all_positions.append(positions)\n",
    "    all_chroms.append(np.array([i+1]*len(positions)))\n",
    "    \n",
    "all_counts = np.vstack(all_counts)\n",
    "all_positions = np.hstack(all_positions)\n",
    "all_chroms = np.hstack(all_chroms)\n",
    "            \n",
    "            "
   ]
  },
  {
   "cell_type": "code",
   "execution_count": 218,
   "metadata": {},
   "outputs": [
    {
     "data": {
      "image/png": "[encoded data removed]",
      "text/plain": [
       "<Figure size 1080x360 with 3 Axes>"
      ]
     },
     "metadata": {
      "needs_background": "light"
     },
     "output_type": "display_data"
    }
   ],
   "source": [
    "plt.figure(figsize=(15, 5))\n",
    "for i in range(3):\n",
    "    plt.subplot(1, 3, i+1)\n",
    "    plt.hist(np.clip(np.sum(all_counts[:, i, 0, 0, :], axis=1), None, 10), alpha=0.5, bins=np.arange(0, 11))\n",
    "    plt.hist(np.clip(np.sum(all_counts[:, i, 0, 1, :], axis=1), None, 10), alpha=0.5, bins=np.arange(0, 11))\n",
    "plt.show()"
   ]
  },
  {
   "cell_type": "code",
   "execution_count": 221,
   "metadata": {},
   "outputs": [
    {
     "data": {
      "image/png": "[encoded data removed]",
      "text/plain": [
       "<Figure size 1080x360 with 4 Axes>"
      ]
     },
     "metadata": {
      "needs_background": "light"
     },
     "output_type": "display_data"
    }
   ],
   "source": [
    "plt.figure(figsize=(15, 5))\n",
    "ax = plt.subplot(1, 4, 1)\n",
    "plt.hist(np.clip(np.sum(all_counts[:, :, :, 0, 0], axis=(1, 2)), None, 10), alpha=0.5, bins=np.arange(0, 11))\n",
    "plt.hist(np.clip(np.sum(all_counts[:, :, :, 1, 0], axis=(1, 2)), None, 10), alpha=0.5, bins=np.arange(0, 11))\n",
    "plt.subplot(1, 4, 2, sharey=ax)\n",
    "plt.hist(np.clip(np.sum(all_counts[:, :, :, 0, 1], axis=(1, 2)), None, 10), alpha=0.5, bins=np.arange(0, 11))\n",
    "plt.hist(np.clip(np.sum(all_counts[:, :, :, 1, 1], axis=(1, 2)), None, 10), alpha=0.5, bins=np.arange(0, 11))\n",
    "plt.subplot(1, 4, 3, sharey=ax)\n",
    "plt.hist(np.clip(np.sum(all_counts[:, :, :, 0, 2], axis=(1, 2)), None, 10), alpha=0.5, bins=np.arange(0, 11))\n",
    "plt.hist(np.clip(np.sum(all_counts[:, :, :, 1, 2], axis=(1, 2)), None, 10), alpha=0.5, bins=np.arange(0, 11))\n",
    "plt.subplot(1, 4, 4, sharey=ax)\n",
    "plt.hist(np.clip(np.sum(all_counts[:, :, :, 0, 3], axis=(1, 2)), None, 10), alpha=0.5, bins=np.arange(0, 11))\n",
    "plt.hist(np.clip(np.sum(all_counts[:, :, :, 1, 3], axis=(1, 2)), None, 10), alpha=0.5, bins=np.arange(0, 11))\n",
    "\n",
    "plt.tight_layout()\n",
    "plt.show()"
   ]
  },
  {
   "cell_type": "code",
   "execution_count": 220,
   "metadata": {},
   "outputs": [
    {
     "ename": "KeyboardInterrupt",
     "evalue": "",
     "output_type": "error",
     "traceback": [
      "\u001b[0;31m---------------------------------------------------------------------------\u001b[0m",
      "\u001b[0;31mKeyboardInterrupt\u001b[0m                         Traceback (most recent call last)",
      "\u001b[0;32m<ipython-input-220-f85a3487cd4e>\u001b[0m in \u001b[0;36m<module>\u001b[0;34m\u001b[0m\n\u001b[1;32m     10\u001b[0m \u001b[0;34m\u001b[0m\u001b[0m\n\u001b[1;32m     11\u001b[0m         \u001b[0;31m# pat\u001b[0m\u001b[0;34m\u001b[0m\u001b[0;34m\u001b[0m\u001b[0;34m\u001b[0m\u001b[0m\n\u001b[0;32m---> 12\u001b[0;31m         \u001b[0mpvalue\u001b[0m \u001b[0;34m=\u001b[0m \u001b[0mstats\u001b[0m\u001b[0;34m.\u001b[0m\u001b[0mbinom_test\u001b[0m\u001b[0;34m(\u001b[0m\u001b[0mnp\u001b[0m\u001b[0;34m.\u001b[0m\u001b[0msum\u001b[0m\u001b[0;34m(\u001b[0m\u001b[0mall_counts\u001b[0m\u001b[0;34m[\u001b[0m\u001b[0mi\u001b[0m\u001b[0;34m,\u001b[0m \u001b[0;34m:\u001b[0m\u001b[0;34m,\u001b[0m \u001b[0;36m1\u001b[0m\u001b[0;34m,\u001b[0m \u001b[0;34m:\u001b[0m\u001b[0;34m,\u001b[0m \u001b[0mj\u001b[0m\u001b[0;34m]\u001b[0m\u001b[0;34m,\u001b[0m \u001b[0maxis\u001b[0m\u001b[0;34m=\u001b[0m\u001b[0;36m0\u001b[0m\u001b[0;34m)\u001b[0m\u001b[0;34m,\u001b[0m \u001b[0malternative\u001b[0m\u001b[0;34m=\u001b[0m\u001b[0;34m'less'\u001b[0m\u001b[0;34m)\u001b[0m\u001b[0;34m\u001b[0m\u001b[0;34m\u001b[0m\u001b[0m\n\u001b[0m\u001b[1;32m     13\u001b[0m         \u001b[0;31m#if pvalue < 10**-10:\u001b[0m\u001b[0;34m\u001b[0m\u001b[0;34m\u001b[0m\u001b[0;34m\u001b[0m\u001b[0m\n\u001b[1;32m     14\u001b[0m         \u001b[0;31m#    print('pat M', all_chroms[i], all_positions[i], all_positions[i+1], pvalue)\u001b[0m\u001b[0;34m\u001b[0m\u001b[0;34m\u001b[0m\u001b[0;34m\u001b[0m\u001b[0m\n",
      "\u001b[0;32m//anaconda3/lib/python3.7/site-packages/scipy/stats/morestats.py\u001b[0m in \u001b[0;36mbinom_test\u001b[0;34m(x, n, p, alternative)\u001b[0m\n\u001b[1;32m   2422\u001b[0m \u001b[0;34m\u001b[0m\u001b[0m\n\u001b[1;32m   2423\u001b[0m     \u001b[0;32mif\u001b[0m \u001b[0malternative\u001b[0m \u001b[0;34m==\u001b[0m \u001b[0;34m'less'\u001b[0m\u001b[0;34m:\u001b[0m\u001b[0;34m\u001b[0m\u001b[0;34m\u001b[0m\u001b[0m\n\u001b[0;32m-> 2424\u001b[0;31m         \u001b[0mpval\u001b[0m \u001b[0;34m=\u001b[0m \u001b[0mdistributions\u001b[0m\u001b[0;34m.\u001b[0m\u001b[0mbinom\u001b[0m\u001b[0;34m.\u001b[0m\u001b[0mcdf\u001b[0m\u001b[0;34m(\u001b[0m\u001b[0mx\u001b[0m\u001b[0;34m,\u001b[0m \u001b[0mn\u001b[0m\u001b[0;34m,\u001b[0m \u001b[0mp\u001b[0m\u001b[0;34m)\u001b[0m\u001b[0;34m\u001b[0m\u001b[0;34m\u001b[0m\u001b[0m\n\u001b[0m\u001b[1;32m   2425\u001b[0m         \u001b[0;32mreturn\u001b[0m \u001b[0mpval\u001b[0m\u001b[0;34m\u001b[0m\u001b[0;34m\u001b[0m\u001b[0m\n\u001b[1;32m   2426\u001b[0m \u001b[0;34m\u001b[0m\u001b[0m\n",
      "\u001b[0;32m//anaconda3/lib/python3.7/site-packages/scipy/stats/_distn_infrastructure.py\u001b[0m in \u001b[0;36mcdf\u001b[0;34m(self, k, *args, **kwds)\u001b[0m\n\u001b[1;32m   3028\u001b[0m \u001b[0;34m\u001b[0m\u001b[0m\n\u001b[1;32m   3029\u001b[0m         \u001b[0;32mif\u001b[0m \u001b[0mnp\u001b[0m\u001b[0;34m.\u001b[0m\u001b[0many\u001b[0m\u001b[0;34m(\u001b[0m\u001b[0mcond\u001b[0m\u001b[0;34m)\u001b[0m\u001b[0;34m:\u001b[0m\u001b[0;34m\u001b[0m\u001b[0;34m\u001b[0m\u001b[0m\n\u001b[0;32m-> 3030\u001b[0;31m             \u001b[0mgoodargs\u001b[0m \u001b[0;34m=\u001b[0m \u001b[0margsreduce\u001b[0m\u001b[0;34m(\u001b[0m\u001b[0mcond\u001b[0m\u001b[0;34m,\u001b[0m \u001b[0;34m*\u001b[0m\u001b[0;34m(\u001b[0m\u001b[0;34m(\u001b[0m\u001b[0mk\u001b[0m\u001b[0;34m,\u001b[0m\u001b[0;34m)\u001b[0m\u001b[0;34m+\u001b[0m\u001b[0margs\u001b[0m\u001b[0;34m)\u001b[0m\u001b[0;34m)\u001b[0m\u001b[0;34m\u001b[0m\u001b[0;34m\u001b[0m\u001b[0m\n\u001b[0m\u001b[1;32m   3031\u001b[0m             \u001b[0mplace\u001b[0m\u001b[0;34m(\u001b[0m\u001b[0moutput\u001b[0m\u001b[0;34m,\u001b[0m \u001b[0mcond\u001b[0m\u001b[0;34m,\u001b[0m \u001b[0mnp\u001b[0m\u001b[0;34m.\u001b[0m\u001b[0mclip\u001b[0m\u001b[0;34m(\u001b[0m\u001b[0mself\u001b[0m\u001b[0;34m.\u001b[0m\u001b[0m_cdf\u001b[0m\u001b[0;34m(\u001b[0m\u001b[0;34m*\u001b[0m\u001b[0mgoodargs\u001b[0m\u001b[0;34m)\u001b[0m\u001b[0;34m,\u001b[0m \u001b[0;36m0\u001b[0m\u001b[0;34m,\u001b[0m \u001b[0;36m1\u001b[0m\u001b[0;34m)\u001b[0m\u001b[0;34m)\u001b[0m\u001b[0;34m\u001b[0m\u001b[0;34m\u001b[0m\u001b[0m\n\u001b[1;32m   3032\u001b[0m         \u001b[0;32mif\u001b[0m \u001b[0moutput\u001b[0m\u001b[0;34m.\u001b[0m\u001b[0mndim\u001b[0m \u001b[0;34m==\u001b[0m \u001b[0;36m0\u001b[0m\u001b[0;34m:\u001b[0m\u001b[0;34m\u001b[0m\u001b[0;34m\u001b[0m\u001b[0m\n",
      "\u001b[0;32m//anaconda3/lib/python3.7/site-packages/scipy/stats/_distn_infrastructure.py\u001b[0m in \u001b[0;36margsreduce\u001b[0;34m(cond, *args)\u001b[0m\n\u001b[1;32m    543\u001b[0m         \u001b[0mnewargs\u001b[0m \u001b[0;34m=\u001b[0m \u001b[0;34m[\u001b[0m\u001b[0mnewargs\u001b[0m\u001b[0;34m,\u001b[0m \u001b[0;34m]\u001b[0m\u001b[0;34m\u001b[0m\u001b[0;34m\u001b[0m\u001b[0m\n\u001b[1;32m    544\u001b[0m     \u001b[0mexpand_arr\u001b[0m \u001b[0;34m=\u001b[0m \u001b[0;34m(\u001b[0m\u001b[0mcond\u001b[0m \u001b[0;34m==\u001b[0m \u001b[0mcond\u001b[0m\u001b[0;34m)\u001b[0m\u001b[0;34m\u001b[0m\u001b[0;34m\u001b[0m\u001b[0m\n\u001b[0;32m--> 545\u001b[0;31m     \u001b[0;32mreturn\u001b[0m \u001b[0;34m[\u001b[0m\u001b[0mnp\u001b[0m\u001b[0;34m.\u001b[0m\u001b[0mextract\u001b[0m\u001b[0;34m(\u001b[0m\u001b[0mcond\u001b[0m\u001b[0;34m,\u001b[0m \u001b[0marr1\u001b[0m \u001b[0;34m*\u001b[0m \u001b[0mexpand_arr\u001b[0m\u001b[0;34m)\u001b[0m \u001b[0;32mfor\u001b[0m \u001b[0marr1\u001b[0m \u001b[0;32min\u001b[0m \u001b[0mnewargs\u001b[0m\u001b[0;34m]\u001b[0m\u001b[0;34m\u001b[0m\u001b[0;34m\u001b[0m\u001b[0m\n\u001b[0m\u001b[1;32m    546\u001b[0m \u001b[0;34m\u001b[0m\u001b[0m\n\u001b[1;32m    547\u001b[0m \u001b[0;34m\u001b[0m\u001b[0m\n",
      "\u001b[0;32m//anaconda3/lib/python3.7/site-packages/scipy/stats/_distn_infrastructure.py\u001b[0m in \u001b[0;36m<listcomp>\u001b[0;34m(.0)\u001b[0m\n\u001b[1;32m    543\u001b[0m         \u001b[0mnewargs\u001b[0m \u001b[0;34m=\u001b[0m \u001b[0;34m[\u001b[0m\u001b[0mnewargs\u001b[0m\u001b[0;34m,\u001b[0m \u001b[0;34m]\u001b[0m\u001b[0;34m\u001b[0m\u001b[0;34m\u001b[0m\u001b[0m\n\u001b[1;32m    544\u001b[0m     \u001b[0mexpand_arr\u001b[0m \u001b[0;34m=\u001b[0m \u001b[0;34m(\u001b[0m\u001b[0mcond\u001b[0m \u001b[0;34m==\u001b[0m \u001b[0mcond\u001b[0m\u001b[0;34m)\u001b[0m\u001b[0;34m\u001b[0m\u001b[0;34m\u001b[0m\u001b[0m\n\u001b[0;32m--> 545\u001b[0;31m     \u001b[0;32mreturn\u001b[0m \u001b[0;34m[\u001b[0m\u001b[0mnp\u001b[0m\u001b[0;34m.\u001b[0m\u001b[0mextract\u001b[0m\u001b[0;34m(\u001b[0m\u001b[0mcond\u001b[0m\u001b[0;34m,\u001b[0m \u001b[0marr1\u001b[0m \u001b[0;34m*\u001b[0m \u001b[0mexpand_arr\u001b[0m\u001b[0;34m)\u001b[0m \u001b[0;32mfor\u001b[0m \u001b[0marr1\u001b[0m \u001b[0;32min\u001b[0m \u001b[0mnewargs\u001b[0m\u001b[0;34m]\u001b[0m\u001b[0;34m\u001b[0m\u001b[0;34m\u001b[0m\u001b[0m\n\u001b[0m\u001b[1;32m    546\u001b[0m \u001b[0;34m\u001b[0m\u001b[0m\n\u001b[1;32m    547\u001b[0m \u001b[0;34m\u001b[0m\u001b[0m\n",
      "\u001b[0;32m//anaconda3/lib/python3.7/site-packages/numpy/lib/function_base.py\u001b[0m in \u001b[0;36mextract\u001b[0;34m(condition, arr)\u001b[0m\n\u001b[1;32m   1675\u001b[0m \u001b[0;34m\u001b[0m\u001b[0m\n\u001b[1;32m   1676\u001b[0m     \"\"\"\n\u001b[0;32m-> 1677\u001b[0;31m     \u001b[0;32mreturn\u001b[0m \u001b[0m_nx\u001b[0m\u001b[0;34m.\u001b[0m\u001b[0mtake\u001b[0m\u001b[0;34m(\u001b[0m\u001b[0mravel\u001b[0m\u001b[0;34m(\u001b[0m\u001b[0marr\u001b[0m\u001b[0;34m)\u001b[0m\u001b[0;34m,\u001b[0m \u001b[0mnonzero\u001b[0m\u001b[0;34m(\u001b[0m\u001b[0mravel\u001b[0m\u001b[0;34m(\u001b[0m\u001b[0mcondition\u001b[0m\u001b[0;34m)\u001b[0m\u001b[0;34m)\u001b[0m\u001b[0;34m[\u001b[0m\u001b[0;36m0\u001b[0m\u001b[0;34m]\u001b[0m\u001b[0;34m)\u001b[0m\u001b[0;34m\u001b[0m\u001b[0;34m\u001b[0m\u001b[0m\n\u001b[0m\u001b[1;32m   1678\u001b[0m \u001b[0;34m\u001b[0m\u001b[0m\n\u001b[1;32m   1679\u001b[0m \u001b[0;34m\u001b[0m\u001b[0m\n",
      "\u001b[0;32m//anaconda3/lib/python3.7/site-packages/numpy/core/fromnumeric.py\u001b[0m in \u001b[0;36mravel\u001b[0;34m(a, order)\u001b[0m\n\u001b[1;32m   1685\u001b[0m         \u001b[0;32mreturn\u001b[0m \u001b[0masarray\u001b[0m\u001b[0;34m(\u001b[0m\u001b[0ma\u001b[0m\u001b[0;34m)\u001b[0m\u001b[0;34m.\u001b[0m\u001b[0mravel\u001b[0m\u001b[0;34m(\u001b[0m\u001b[0morder\u001b[0m\u001b[0;34m=\u001b[0m\u001b[0morder\u001b[0m\u001b[0;34m)\u001b[0m\u001b[0;34m\u001b[0m\u001b[0;34m\u001b[0m\u001b[0m\n\u001b[1;32m   1686\u001b[0m     \u001b[0;32melse\u001b[0m\u001b[0;34m:\u001b[0m\u001b[0;34m\u001b[0m\u001b[0;34m\u001b[0m\u001b[0m\n\u001b[0;32m-> 1687\u001b[0;31m         \u001b[0;32mreturn\u001b[0m \u001b[0masanyarray\u001b[0m\u001b[0;34m(\u001b[0m\u001b[0ma\u001b[0m\u001b[0;34m)\u001b[0m\u001b[0;34m.\u001b[0m\u001b[0mravel\u001b[0m\u001b[0;34m(\u001b[0m\u001b[0morder\u001b[0m\u001b[0;34m=\u001b[0m\u001b[0morder\u001b[0m\u001b[0;34m)\u001b[0m\u001b[0;34m\u001b[0m\u001b[0;34m\u001b[0m\u001b[0m\n\u001b[0m\u001b[1;32m   1688\u001b[0m \u001b[0;34m\u001b[0m\u001b[0m\n\u001b[1;32m   1689\u001b[0m \u001b[0;34m\u001b[0m\u001b[0m\n",
      "\u001b[0;31mKeyboardInterrupt\u001b[0m: "
     ]
    }
   ],
   "source": [
    "# interval, mat/pat, MM/FM/MF/FF\n",
    "pvalues = np.ones((all_counts.shape[0], 2, 4))\n",
    "for i in np.arange(len(all_positions)):\n",
    "    for j in range(4):\n",
    "        # mat\n",
    "        pvalue = stats.binom_test(np.sum(all_counts[i, :, 0, :, j], axis=0), alternative='less')\n",
    "        #if pvalue < 10**-10:\n",
    "        #    print('mat M', all_chroms[i], all_positions[i], all_positions[i+1], pvalue, np.sum(all_counts[i, :, 0, :, 0], axis=0))\n",
    "        pvalues[i, 0, j] = pvalue\n",
    "\n",
    "        # pat\n",
    "        pvalue = stats.binom_test(np.sum(all_counts[i, :, 1, :, j], axis=0), alternative='less')\n",
    "        #if pvalue < 10**-10:\n",
    "        #    print('pat M', all_chroms[i], all_positions[i], all_positions[i+1], pvalue)\n",
    "        pvalues[i, 1, j] = pvalue\n",
    "    "
   ]
  },
  {
   "cell_type": "code",
   "execution_count": null,
   "metadata": {},
   "outputs": [],
   "source": [
    "plt.figure(figsize=(15, 5))\n",
    "plt.subplot(1, 4, 1)\n",
    "plt.hist(np.clip(np.log10(pvalues[:, 0, 0]), -10, None), alpha=0.5, bins=np.arange(-10, 0.2, 0.2), log=True)\n",
    "plt.hist(np.clip(np.log10(pvalues[:, 1, 0]), -10, None), alpha=0.5, bins=np.arange(-10, 0.2, 0.2), log=True)\n",
    "plt.axvline(np.log10(0.05/pvalues.shape[0]))\n",
    "\n",
    "plt.subplot(1, 4, 2)\n",
    "plt.hist(np.clip(np.log10(pvalues[:, 0, 1]), -10, None), alpha=0.5, bins=np.arange(-10, 0.2, 0.2), log=True)\n",
    "plt.hist(np.clip(np.log10(pvalues[:, 1, 1]), -10, None), alpha=0.5, bins=np.arange(-10, 0.2, 0.2), log=True)\n",
    "plt.axvline(np.log10(0.05/pvalues.shape[0]))\n",
    "\n",
    "plt.subplot(1, 4, 3)\n",
    "plt.hist(np.clip(np.log10(pvalues[:, 0, 2]), -10, None), alpha=0.5, bins=np.arange(-10, 0.2, 0.2), log=True)\n",
    "plt.hist(np.clip(np.log10(pvalues[:, 1, 2]), -10, None), alpha=0.5, bins=np.arange(-10, 0.2, 0.2), log=True)\n",
    "plt.axvline(np.log10(0.05/pvalues.shape[0]))\n",
    "\n",
    "plt.subplot(1, 4, 4)\n",
    "plt.hist(np.clip(np.log10(pvalues[:, 0, 3]), -10, None), alpha=0.5, bins=np.arange(-10, 0.2, 0.2), log=True)\n",
    "plt.hist(np.clip(np.log10(pvalues[:, 1, 3]), -10, None), alpha=0.5, bins=np.arange(-10, 0.2, 0.2), log=True)\n",
    "plt.axvline(np.log10(0.05/pvalues.shape[0]))\n",
    "\n",
    "plt.show()"
   ]
  },
  {
   "cell_type": "code",
   "execution_count": null,
   "metadata": {},
   "outputs": [],
   "source": [
    "# try grouping regions"
   ]
  },
  {
   "cell_type": "code",
   "execution_count": null,
   "metadata": {},
   "outputs": [],
   "source": [
    "# het_upd/iso_upd/del, MM/MF/FM/FF, nt/aut\n",
    "del_to_count = defaultdict(lambda : np.zeros((3, 4, 2), dtype=int))\n",
    "for chrom in [str(x) for x in range(1, 23)] + ['X']:\n",
    "    print(chrom, end=' ')\n",
    "    chrom_upds = [x for x in upds if x['chrom']==str(chrom)]\n",
    "    chrom_dels = [x for x in deletions if x['chrom']==str(chrom)]\n",
    "    \n",
    "    for i, upd in enumerate(chrom_upds):\n",
    "        has_match = False\n",
    "        length = upd['end_pos'] - upd['start_pos']\n",
    "        key = ('upd', chrom, upd['start_pos'], upd['end_pos'], i, upd['is_pat'])\n",
    "        for upd2 in chrom_upds[i+1:]:\n",
    "            if (upd['is_mat'] == upd2['is_mat']) and (min(upd['end_pos'], upd2['end_pos']) - max(upd['start_pos'], upd2['start_pos']) > 0.5*length):\n",
    "                del_to_count[key][int(upd2['is_isodisomy']), \n",
    "                                  int(child_id_to_sex[upd2['child']]=='2') + 2*int(child_id_to_sex[child_to_sib[(upd2['family'], upd2['child'])]]=='2'),\n",
    "                                  int(child_id_to_affected[upd2['child']]=='2')] += 1\n",
    "                has_match = True\n",
    "        for d in chrom_dels:\n",
    "            if (upd['is_mat'] != d['is_mat']) and (min(upd['end_pos'], d['end_pos']) - max(upd['start_pos'], d['start_pos']) > 0.5*length):\n",
    "                for child in d['trans']:\n",
    "                    del_to_count[key][2, \n",
    "                                      int(child_id_to_sex[child]=='2') + 2*int(child_id_to_sex[child_to_sib[(d['family'], child)]]=='2'),\n",
    "                                      int(child_id_to_affected[child]=='2')] += 1\n",
    "                has_match = True\n",
    "        if has_match:\n",
    "            del_to_count[key][int(upd['is_isodisomy']), \n",
    "                              int(child_id_to_sex[upd['child']]=='2') + 2*int(child_id_to_sex[child_to_sib[(upd['family'], upd['child'])]]=='2'),\n",
    "                              int(child_id_to_affected[upd['child']]=='2')] += 1\n"
   ]
  },
  {
   "cell_type": "code",
   "execution_count": null,
   "metadata": {},
   "outputs": [],
   "source": [
    "keys = sorted(del_to_count.keys())\n",
    "group_pvalues = np.ones((len(del_to_count), 4))\n",
    "for i, key in enumerate(keys):\n",
    "    counts = del_to_count[key]\n",
    "    for j in range(4):\n",
    "    \n",
    "        pvalue = stats.binom_test(np.sum(counts[:, j, :], axis=0), alternative='less')\n",
    "        #if pvalue < 0.05/len(group_pvalues):\n",
    "        #   print(key, pvalue)\n",
    "        #    print(counts)\n",
    "        group_pvalues[i, j] = pvalue\n",
    "    \n",
    "    "
   ]
  },
  {
   "cell_type": "code",
   "execution_count": null,
   "metadata": {},
   "outputs": [],
   "source": [
    "# MM/FM/MF/FF\n",
    "\n",
    "plt.hist(np.clip(np.log10(group_pvalues[:, 0]), -8, None), alpha=0.5, bins=np.arange(-8, 0, 0.2), log=True, label='MM')\n",
    "plt.hist(np.clip(np.log10(group_pvalues[:, 1]), -8, None), alpha=0.5, bins=np.arange(-8, 0, 0.2), log=True, label='FM')\n",
    "plt.hist(np.clip(np.log10(group_pvalues[:, 2]), -8, None), alpha=0.5, bins=np.arange(-8, 0, 0.2), log=True, label='MF')\n",
    "plt.hist(np.clip(np.log10(group_pvalues[:, 3]), -8, None), alpha=0.5, bins=np.arange(-8, 0, 0.2), log=True, label='FF')\n",
    "plt.axvline(np.log10(0.05/group_pvalues.shape[0]))\n",
    "plt.legend()\n",
    "plt.show()"
   ]
  },
  {
   "cell_type": "code",
   "execution_count": null,
   "metadata": {},
   "outputs": [],
   "source": []
  },
  {
   "cell_type": "code",
   "execution_count": null,
   "metadata": {},
   "outputs": [],
   "source": []
  },
  {
   "cell_type": "code",
   "execution_count": null,
   "metadata": {},
   "outputs": [],
   "source": []
  }
 ],
 "metadata": {
  "kernelspec": {
   "display_name": "Python 3",
   "language": "python",
   "name": "python3"
  },
  "language_info": {
   "codemirror_mode": {
    "name": "ipython",
    "version": 3
   },
   "file_extension": ".py",
   "mimetype": "text/x-python",
   "name": "python",
   "nbconvert_exporter": "python",
   "pygments_lexer": "ipython3",
   "version": "3.7.3"
  }
 },
 "nbformat": 4,
 "nbformat_minor": 2
}
