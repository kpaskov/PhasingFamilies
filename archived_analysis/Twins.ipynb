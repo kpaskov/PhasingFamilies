{
 "cells": [
  {
   "cell_type": "code",
   "execution_count": 1,
   "metadata": {
    "collapsed": true
   },
   "outputs": [],
   "source": [
    "from collections import defaultdict, Counter\n",
    "import numpy as np\n",
    "import math\n",
    "import matplotlib.pyplot as plt\n",
    "import matplotlib\n",
    "import random"
   ]
  },
  {
   "cell_type": "code",
   "execution_count": 2,
   "metadata": {
    "collapsed": true
   },
   "outputs": [],
   "source": [
    "chroms = range(1, 23)\n",
    "\n",
    "family_sizes = [3, 4, 5, 6]\n",
    "phase_dir = '../phased'\n",
    "data_dir = '../split_gen_miss'\n",
    "\n",
    "#family_sizes = [4]\n",
    "#phase_dir = '../phased_ssc'\n",
    "#data_dir = '../split_gen_miss_ssc'"
   ]
  },
  {
   "cell_type": "code",
   "execution_count": 3,
   "metadata": {
    "collapsed": true
   },
   "outputs": [],
   "source": [
    "ped_files = ['../data/160826.ped', '../data/ssc.ped']\n",
    "# Affection (0=unknown; 1=unaffected; 2=affected)\n",
    "child_id_to_affected = dict()\n",
    "child_id_to_sex = dict()\n",
    "\n",
    "for ped_file in ped_files:\n",
    "    with open(ped_file, 'r') as f:\n",
    "        for line in f:\n",
    "            pieces = line.strip().split('\\t')\n",
    "            if len(pieces) >= 6:\n",
    "                fam_id, child_id, f_id, m_id, sex, disease_status = pieces[0:6]\n",
    "                child_id_to_affected[child_id] = disease_status\n",
    "                child_id_to_sex[child_id] = sex"
   ]
  },
  {
   "cell_type": "code",
   "execution_count": 4,
   "metadata": {},
   "outputs": [
    {
     "name": "stdout",
     "output_type": "stream",
     "text": [
      "Mono multiples 96\n"
     ]
    }
   ],
   "source": [
    "monozygotic_multiple_families = set()\n",
    "with open('../data/160826.iHART.db.query.csv', 'r') as f:\n",
    "    next(f)\n",
    "    for line in f:\n",
    "        pieces = line.split(',')\n",
    "        if 'MZ' in pieces[11]:\n",
    "            monozygotic_multiple_families.add(pieces[3])\n",
    "print('Mono multiples', len(monozygotic_multiple_families))"
   ]
  },
  {
   "cell_type": "code",
   "execution_count": 8,
   "metadata": {},
   "outputs": [
    {
     "name": "stdout",
     "output_type": "stream",
     "text": [
      "1 2 3 4 5 6 7 8 9 10 11 12 13 14 15 16 17 18 19 20 21 22 Families with all chroms 866\n"
     ]
    }
   ],
   "source": [
    "family_to_chroms = defaultdict(set)\n",
    "family_to_individuals = dict()\n",
    "for chrom in chroms:\n",
    "    print(chrom, end=' ')\n",
    "\n",
    "    for j in family_sizes:\n",
    "        try:\n",
    "            with open('%s/chr.%s.familysize.%d.families.txt' % (phase_dir, chrom, j), 'r') as f:\n",
    "                next(f) # skip header\n",
    "                for line in f:\n",
    "                    pieces = line.strip().split('\\t')\n",
    "                    family_key = pieces[0]\n",
    "                    family_to_chroms[family_key].add(chrom)\n",
    "                    family_to_individuals[family_key] = pieces[1:(1+j)]\n",
    "        except FileNotFoundError:\n",
    "            print('File not found', 'chrom', chrom, 'family size', j)\n",
    "        except StopIteration:\n",
    "            print('File empty', 'chrom', chrom, 'family size', j)\n",
    "            \n",
    "families_with_all_chroms = set([k for k, v in family_to_chroms.items() if len(v)==len(chroms)])\n",
    "print('Families with all chroms', len(families_with_all_chroms))"
   ]
  },
  {
   "cell_type": "code",
   "execution_count": 43,
   "metadata": {},
   "outputs": [
    {
     "name": "stdout",
     "output_type": "stream",
     "text": [
      "Families with LCL 12\n",
      "Final families 80\n"
     ]
    }
   ],
   "source": [
    "families_with_lcl = set([x for x, inds in family_to_individuals.items() if len([y for y in inds if 'LCL' in y]) > 0])\n",
    "print('Families with LCL', len(families_with_lcl))\n",
    "\n",
    "families_to_include = [x for x in families_with_all_chroms if x.split('.')[0] in monozygotic_multiple_families and x not in families_with_lcl]\n",
    "print('Final families', len(families_to_include))"
   ]
  },
  {
   "cell_type": "code",
   "execution_count": 44,
   "metadata": {},
   "outputs": [
    {
     "name": "stdout",
     "output_type": "stream",
     "text": [
      "AU1419.AU1419202.AU1419201\n",
      "['AU1419202', 'AU1419201', 'AU1419302', 'AU1419301', 'AU1419303']\n"
     ]
    }
   ],
   "source": [
    "family = random.choice(families_to_include)\n",
    "inds = family_to_individuals[family]\n",
    "print(family)\n",
    "print(inds)"
   ]
  },
  {
   "cell_type": "code",
   "execution_count": 45,
   "metadata": {},
   "outputs": [
    {
     "name": "stdout",
     "output_type": "stream",
     "text": [
      "1 2 3 4 5 6 7 8 9 10 11 12 13 14 15 16 17 18 19 20 21 22 "
     ]
    }
   ],
   "source": [
    "from collections import defaultdict\n",
    "\n",
    "# load deletions from all chromosomes\n",
    "states = []\n",
    "positions = []\n",
    "\n",
    "id_to_index = dict()\n",
    "for chrom in chroms:\n",
    "    print(chrom, end=' ')\n",
    "    \n",
    "    for j in family_sizes:\n",
    "        try:\n",
    "            with open('%s/chr.%s.familysize.%d.families.txt' % (phase_dir, chrom, j), 'r')  as f:\n",
    "                next(f) # skip header\n",
    "                num_fams_of_size = 0\n",
    "                for line in f:\n",
    "                    pieces = line.strip().split('\\t')\n",
    "                    family_key = pieces[0]\n",
    "                    if family_key == family:\n",
    "                        id_to_index = dict([(x, i) for i, x in enumerate(pieces[1:(1+j)])])\n",
    "\n",
    "            # load deletions\n",
    "            family_to_states = defaultdict(list)\n",
    "            family_to_pos = defaultdict(list)\n",
    "            with open('%s/chr.%s.familysize.%d.phased.masked.txt' % (phase_dir, chrom, j), 'r')  as f:\n",
    "                next(f) # skip header\n",
    "\n",
    "                for line in f:\n",
    "                    pieces = line.strip().split('\\t')\n",
    "                    family_key = pieces[0]\n",
    "                    if family_key == family:\n",
    "                        inheritance_state = [int(x) for x in pieces[1:(2+(j*2))]]\n",
    "                        start_pos, end_pos = [int(x) for x in pieces[(2+(j*2)):(4+(j*2))]]\n",
    "\n",
    "                        positions.append((start_pos, end_pos))\n",
    "                        \n",
    "                        reordered_state = sum([inheritance_state[(2*id_to_index[ind]):((2*id_to_index[ind])+2)] for ind in inds], []) + [inheritance_state[-1]]\n",
    "                        states.append(reordered_state)\n",
    "                \n",
    "        except FileNotFoundError:\n",
    "            print('File not found', 'chrom', chrom, 'fammily size', j)\n",
    "        except StopIteration:\n",
    "            print('File empty', 'chrom', chrom, 'family size', j)"
   ]
  },
  {
   "cell_type": "code",
   "execution_count": 46,
   "metadata": {},
   "outputs": [
    {
     "data": {
      "image/png": "[encoded data removed]",
      "text/plain": [
       "<Figure size 1080x360 with 1 Axes>"
      ]
     },
     "metadata": {},
     "output_type": "display_data"
    }
   ],
   "source": [
    "states = np.asarray(states).T\n",
    "\n",
    "plt.figure(figsize=(15, 5))\n",
    "plt.imshow(states[:, states[-1, :]==0], aspect='auto')\n",
    "plt.show()"
   ]
  },
  {
   "cell_type": "code",
   "execution_count": null,
   "metadata": {
    "collapsed": true
   },
   "outputs": [],
   "source": []
  }
 ],
 "metadata": {
  "kernelspec": {
   "display_name": "Python 3",
   "language": "python",
   "name": "python3"
  },
  "language_info": {
   "codemirror_mode": {
    "name": "ipython",
    "version": 3
   },
   "file_extension": ".py",
   "mimetype": "text/x-python",
   "name": "python",
   "nbconvert_exporter": "python",
   "pygments_lexer": "ipython3",
   "version": "3.6.1"
  }
 },
 "nbformat": 4,
 "nbformat_minor": 2
}
