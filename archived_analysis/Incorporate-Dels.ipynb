{
 "cells": [
  {
   "cell_type": "code",
   "execution_count": 4,
   "metadata": {
    "collapsed": true
   },
   "outputs": [],
   "source": [
    "chrom = '22' #sys.argv[1]\n",
    "data_dir = '../split_gen' #sys.argv[2]\n",
    "\n",
    "variant_file = '%s/chr.%s.gen.variants.txt.gz' % (data_dir, chrom)"
   ]
  },
  {
   "cell_type": "code",
   "execution_count": 7,
   "metadata": {},
   "outputs": [
    {
     "name": "stdout",
     "output_type": "stream",
     "text": [
      "Deleted positions 326891 SNP positions 1004649\n"
     ]
    }
   ],
   "source": [
    "import gzip\n",
    "import numpy as np\n",
    "\n",
    "# pull snp, del indices and positions\n",
    "positions = []\n",
    "snp_indices = []\n",
    "del_indices = []\n",
    "del_lengths = []\n",
    "with gzip.open(variant_file, 'rt') as f:\n",
    "    for i, line in enumerate(f):\n",
    "        pieces = line.strip().split('\\t')\n",
    "        ref, alt = pieces[3], pieces[4]\n",
    "        if len(ref) == 1 and len(alt) == 1 and ref != '.' and alt != '.':\n",
    "            snp_indices.append(i)\n",
    "        elif len(ref) > len(alt) and len(alt) == 1 and ref != '.' and alt != '.':\n",
    "        \tdel_indices.append(i)\n",
    "        \tdel_lengths.append(len(ref)-1)\n",
    "        positions.append(int(pieces[1]))\n",
    "positions = np.array(positions)\n",
    "snp_positions = positions[snp_indices]\n",
    "\n",
    "del_positions = set()\n",
    "for index, length in zip(del_indices, del_lengths):\n",
    "\tstart_pos = positions[index]+1\n",
    "\tend_pos = start_pos+length\n",
    "\tdel_positions.update(range(start_pos, end_pos))\n",
    "del_positions = np.asarray(sorted(del_positions))\n",
    "\n",
    "print('Deleted positions', len(del_positions), 'SNP positions', len(snp_positions))"
   ]
  },
  {
   "cell_type": "code",
   "execution_count": 11,
   "metadata": {},
   "outputs": [
    {
     "name": "stdout",
     "output_type": "stream",
     "text": [
      "start 16050036 end 51244530\n",
      "m old_n 1096535 new_n 1329620\n"
     ]
    },
    {
     "ename": "KeyboardInterrupt",
     "evalue": "",
     "output_type": "error",
     "traceback": [
      "\u001b[0;31m---------------------------------------------------------------------------\u001b[0m",
      "\u001b[0;31mKeyboardInterrupt\u001b[0m                         Traceback (most recent call last)",
      "\u001b[0;32m<ipython-input-11-cf4e988db4fb>\u001b[0m in \u001b[0;36m<module>\u001b[0;34m()\u001b[0m\n\u001b[1;32m     25\u001b[0m \u001b[0;34m\u001b[0m\u001b[0m\n\u001b[1;32m     26\u001b[0m \u001b[0;31m# fill in snps\u001b[0m\u001b[0;34m\u001b[0m\u001b[0;34m\u001b[0m\u001b[0m\n\u001b[0;32m---> 27\u001b[0;31m \u001b[0mfull_subchrom\u001b[0m\u001b[0;34m[\u001b[0m\u001b[0;34m:\u001b[0m\u001b[0;34m,\u001b[0m \u001b[0mnew_snp_indices\u001b[0m\u001b[0;34m]\u001b[0m \u001b[0;34m=\u001b[0m \u001b[0msubchrom\u001b[0m\u001b[0;34m[\u001b[0m\u001b[0;34m:\u001b[0m\u001b[0;34m,\u001b[0m \u001b[0mold_snp_indices\u001b[0m\u001b[0;34m]\u001b[0m\u001b[0;34m.\u001b[0m\u001b[0mA\u001b[0m\u001b[0;34m\u001b[0m\u001b[0m\n\u001b[0m\u001b[1;32m     28\u001b[0m \u001b[0;34m\u001b[0m\u001b[0m\n\u001b[1;32m     29\u001b[0m \u001b[0;31m# fill in dels\u001b[0m\u001b[0;34m\u001b[0m\u001b[0;34m\u001b[0m\u001b[0m\n",
      "\u001b[0;31mKeyboardInterrupt\u001b[0m: "
     ]
    }
   ],
   "source": [
    "from os import listdir\n",
    "from scipy import sparse\n",
    "\n",
    "# load genotype data\n",
    "gen_files = sorted([f for f in listdir(data_dir) if ('chr.%s' % chrom) in f and 'gen.npz' in f])\n",
    "gen_file = gen_files[0]\n",
    "start_index = 0\n",
    "\n",
    "subchrom = sparse.load_npz('%s/%s' % (data_dir, gen_file))\n",
    "m, n = subchrom.shape\n",
    "start_pos, end_pos = positions[start_index], positions[-1]+1 if start_index+n+1 >= positions.shape[0] else positions[start_index+n+1]\n",
    "print('start', start_pos, 'end', end_pos)\n",
    "\n",
    "sub_snppos = snp_positions[(snp_positions>=start_pos) & (snp_positions < end_pos)].tolist()\n",
    "sub_delpos = del_positions[(del_positions>=start_pos) & (del_positions < end_pos)].tolist()\n",
    "ordered_positions = sorted(set(sub_snppos + sub_delpos))\n",
    "pos_to_index = dict([(x, i) for i, x in enumerate(ordered_positions)])\n",
    "old_n, n = n, len(ordered_positions)\n",
    "print('m', 'old_n', old_n, 'new_n', n)\n",
    "\n",
    "old_snp_indices = [x for x in snp_indices if positions[x] >= start_pos and positions[x] < end_pos]\n",
    "new_snp_indices = [pos_to_index[positions[x]] for x in old_snp_indices]\n",
    "\n",
    "full_subchrom = -np.ones((m, n), dtype=np.int8)"
   ]
  },
  {
   "cell_type": "code",
   "execution_count": null,
   "metadata": {
    "collapsed": true
   },
   "outputs": [],
   "source": [
    "# fill in snps\n",
    "full_subchrom[:, new_snp_indices] = subchrom[:, old_snp_indices].A"
   ]
  },
  {
   "cell_type": "code",
   "execution_count": null,
   "metadata": {
    "collapsed": true
   },
   "outputs": [],
   "source": [
    "# fill in dels\n"
   ]
  },
  {
   "cell_type": "code",
   "execution_count": null,
   "metadata": {
    "collapsed": true
   },
   "outputs": [],
   "source": [
    "import matplotlib.pyplot as plt\n",
    "\n",
    "plt.subplot(2, 1, 1)\n",
    "plt.imshow(chrom_interest.A[:, is_del], aspect='auto', vmax=2, vmin=-1)\n",
    "plt.subplot(2, 1, 2)\n",
    "plt.imshow(chrom_interest.A[:, ~np.asarray(is_del)], aspect='auto', vmax=2, vmin=-1)\n",
    "\n",
    "plt.show()"
   ]
  }
 ],
 "metadata": {
  "kernelspec": {
   "display_name": "Python 3",
   "language": "python",
   "name": "python3"
  },
  "language_info": {
   "codemirror_mode": {
    "name": "ipython",
    "version": 3
   },
   "file_extension": ".py",
   "mimetype": "text/x-python",
   "name": "python",
   "nbconvert_exporter": "python",
   "pygments_lexer": "ipython3",
   "version": "3.6.1"
  }
 },
 "nbformat": 4,
 "nbformat_minor": 2
}
