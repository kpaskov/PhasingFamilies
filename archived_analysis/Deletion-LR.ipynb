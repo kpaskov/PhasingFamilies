{
 "cells": [
  {
   "cell_type": "code",
   "execution_count": 17,
   "metadata": {},
   "outputs": [],
   "source": [
    "import numpy as np\n",
    "import json\n",
    "import matplotlib.pyplot as plt"
   ]
  },
  {
   "cell_type": "code",
   "execution_count": 11,
   "metadata": {},
   "outputs": [],
   "source": [
    "chroms = [str(x) for x in range(1, 23)]\n",
    "#chroms = ['X']\n",
    "deletion_dir = '../deletions_ihart_asym_dd'\n",
    "data_dir = '../split_gen_ihart'\n",
    "phase_dir = '../phased_ihart'"
   ]
  },
  {
   "cell_type": "code",
   "execution_count": 22,
   "metadata": {},
   "outputs": [
    {
     "name": "stdout",
     "output_type": "stream",
     "text": [
      "(14888, 4)\n"
     ]
    }
   ],
   "source": [
    "pos = np.load('../split_gen_spark/chr.20.gen.coordinates.npy')\n",
    "print(pos.shape)"
   ]
  },
  {
   "cell_type": "code",
   "execution_count": 12,
   "metadata": {},
   "outputs": [],
   "source": [
    "with open('%s/chr.1.gen.samples.txt' % data_dir, 'r') as f:\n",
    "    sample_id_to_index = dict([(x.strip(), i) for i, x in enumerate(f)])"
   ]
  },
  {
   "cell_type": "code",
   "execution_count": 14,
   "metadata": {},
   "outputs": [
    {
     "name": "stdout",
     "output_type": "stream",
     "text": [
      "1 2 3 4 5 6 7 8 9 10 11 12 13 14 15 16 17 18 19 20 21 22 "
     ]
    }
   ],
   "source": [
    "# load data\n",
    "deletions = []\n",
    "has_deletion = []\n",
    "\n",
    "for chrom in chroms:\n",
    "    print(chrom, end=' ')\n",
    "    with open('%s/chr.%s.collections.json' % (deletion_dir, chrom), 'r') as f:\n",
    "        collections = json.load(f)\n",
    "        for c in collections:\n",
    "            deletions.append(c['deletion'])\n",
    "            \n",
    "            maternal_deletions = sum([[sample_id_to_index[x] for x in d['trans']] for d in c['matches'] if d['is_mat']], [])\n",
    "            paternal_deletions = sum([[sample_id_to_index[x] for x in d['trans']] for d in c['matches'] if d['is_pat']], [])\n",
    "            \n",
    "            if len(maternal_deletions) > 0:\n",
    "                deletions.append((c['deletion'], True))\n",
    "                has_deletion.append(maternal_deletions)\n",
    "            if len(paternal_deletions) > 0:\n",
    "                deletions.append((c['deletion'], False))\n",
    "                has_deletion.append(paternal_deletions)\n",
    "\n",
    "        "
   ]
  },
  {
   "cell_type": "code",
   "execution_count": 15,
   "metadata": {},
   "outputs": [
    {
     "name": "stdout",
     "output_type": "stream",
     "text": [
      "(1924, 405492)\n"
     ]
    }
   ],
   "source": [
    "X = np.zeros((len(sample_id_to_index), len(deletions)), dtype=bool)\n",
    "for i, indices in enumerate(has_deletion):\n",
    "    X[indices, i] = True\n",
    "\n",
    "X = X[np.sum(X, axis=1)>0, :]\n",
    "print(X.shape)"
   ]
  },
  {
   "cell_type": "code",
   "execution_count": 20,
   "metadata": {},
   "outputs": [
    {
     "data": {
      "image/png": "[encoded data removed]",
      "text/plain": [
       "<Figure size 432x288 with 1 Axes>"
      ]
     },
     "metadata": {
      "needs_background": "light"
     },
     "output_type": "display_data"
    }
   ],
   "source": [
    "plt.hist(np.sum(X, axis=0), bins=np.arange(0, X.shape[0]), log=True)\n",
    "plt.show()"
   ]
  },
  {
   "cell_type": "code",
   "execution_count": null,
   "metadata": {},
   "outputs": [],
   "source": []
  }
 ],
 "metadata": {
  "kernelspec": {
   "display_name": "Python 3",
   "language": "python",
   "name": "python3"
  },
  "language_info": {
   "codemirror_mode": {
    "name": "ipython",
    "version": 3
   },
   "file_extension": ".py",
   "mimetype": "text/x-python",
   "name": "python",
   "nbconvert_exporter": "python",
   "pygments_lexer": "ipython3",
   "version": "3.7.3"
  }
 },
 "nbformat": 4,
 "nbformat_minor": 2
}
