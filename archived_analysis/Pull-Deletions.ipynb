{
 "cells": [
  {
   "cell_type": "code",
   "execution_count": 179,
   "metadata": {},
   "outputs": [],
   "source": [
    "import json\n",
    "import numpy as np\n",
    "import scipy.sparse as sparse\n",
    "from os import listdir\n",
    "import matplotlib.pyplot as plt"
   ]
  },
  {
   "cell_type": "code",
   "execution_count": 180,
   "metadata": {},
   "outputs": [],
   "source": [
    "deletion_file = '../deletions_to_validate/platinum.json'\n",
    "data_dir = '../split_gen_platinum'"
   ]
  },
  {
   "cell_type": "code",
   "execution_count": 181,
   "metadata": {},
   "outputs": [],
   "source": [
    "with open(deletion_file, 'r') as f:\n",
    "    deletions = json.load(f)\n"
   ]
  },
  {
   "cell_type": "code",
   "execution_count": 244,
   "metadata": {},
   "outputs": [],
   "source": [
    "deletion_index = 4\n",
    "deletion = deletions[deletion_index]\n",
    "fr_left, fr_right = 15, 15"
   ]
  },
  {
   "cell_type": "code",
   "execution_count": 245,
   "metadata": {},
   "outputs": [
    {
     "name": "stdout",
     "output_type": "stream",
     "text": [
      "2:53165520-53170718\n"
     ]
    }
   ],
   "source": [
    "individuals = [deletion['mother'], deletion['father']] + deletion['trans'] + deletion['notrans']\n",
    "chrom = deletion['chrom']\n",
    "start_pos = deletion['start_pos']\n",
    "end_pos = deletion['end_pos']\n",
    "print('%s:%d-%d' % (chrom, start_pos, end_pos))"
   ]
  },
  {
   "cell_type": "code",
   "execution_count": 246,
   "metadata": {},
   "outputs": [
    {
     "name": "stdout",
     "output_type": "stream",
     "text": [
      "Sites pulled from vcf: 423601\n"
     ]
    }
   ],
   "source": [
    "# read samples\n",
    "sample_file = '%s/chr.%s.gen.samples.txt' % (data_dir, chrom)\n",
    "with open(sample_file, 'r') as f:\n",
    "    sample_id_to_index = dict([(line.strip(), i) for i, line in enumerate(f)])\n",
    "family_indices = np.array([sample_id_to_index[x] for x in individuals])\n",
    "    \n",
    "# load genotypes\n",
    "gen_files = sorted([f for f in listdir(data_dir) if ('chr.%s.' % chrom) in f and 'gen.npz' in f])\n",
    "\n",
    "# pull snp positions\n",
    "pos_data = np.load('%s/chr.%s.gen.coordinates.npy' % (data_dir, chrom))\n",
    "snp_positions = pos_data[:, 1]\n",
    "is_snp = pos_data[:, 2].astype(bool)\n",
    "is_pass = pos_data[:, 3].astype(bool)\n",
    "is_in_region = (snp_positions >= start_pos) & (snp_positions <= end_pos)\n",
    "start_index = np.where(~is_in_region[:-1] & is_in_region[1:])[0][0]+1\n",
    "end_index = np.where(is_in_region[:-1] & ~is_in_region[1:])[0][0]\n",
    "is_in_region[start_index-fr_left:start_index] = True\n",
    "is_in_region[end_index:end_index+fr_right] = True\n",
    "\n",
    "print('Sites pulled from vcf:', snp_positions.shape[0])\n",
    "\n",
    "# Pull data together\n",
    "#A = sparse.hstack([sparse.load_npz('%s/%s' % (data_dir, gen_file))[family_indices, :] for gen_file in gen_files])\n",
    "A = sparse.hstack([sparse.load_npz('%s/%s' % (data_dir, gen_file)) for gen_file in gen_files])\n",
    "\n",
    "# only look at snps that PASS GATK filter\n",
    "A = A[:, is_snp & is_pass & is_in_region]\n",
    "snp_positions = snp_positions[is_snp & is_pass & is_in_region]\n",
    "\n",
    "# sparse to dense\n",
    "A = A.A"
   ]
  },
  {
   "cell_type": "code",
   "execution_count": 247,
   "metadata": {},
   "outputs": [
    {
     "name": "stdout",
     "output_type": "stream",
     "text": [
      "14\n",
      "(33, 1)\n"
     ]
    }
   ],
   "source": [
    "indices = np.any(A[:, 1:] != A[:, :-1], axis=0).tolist() + [True]\n",
    "print(np.sum(indices))\n",
    "print(((snp_positions >= start_pos) & (snp_positions <= end_pos))[:, np.newaxis].shape)\n"
   ]
  },
  {
   "cell_type": "code",
   "execution_count": 248,
   "metadata": {},
   "outputs": [],
   "source": [
    "family_has_deletion = np.zeros((3, snp_positions.shape[0]))\n",
    "with open('../deletions_ihart/chr.%s.deletions.json' % chrom, 'r') as f:\n",
    "    all_deletions = json.load(f)\n",
    "    for d in all_deletions:\n",
    "        if deletion['family'] == d['family'] and np.sum((snp_positions >= d['start_pos']) & (snp_positions <= d['end_pos'])):\n",
    "            print(d)\n",
    "            if d['is_mat'] and not d['is_denovo']:\n",
    "                family_has_deletion[0, (snp_positions >= d['start_pos']) & (snp_positions <= d['end_pos'])] += 1\n",
    "            elif d['is_pat'] and not d['is_denovo']:\n",
    "                family_has_deletion[1, (snp_positions >= d['start_pos']) & (snp_positions <= d['end_pos'])] += 1\n",
    "            elif d['is_denovo']:\n",
    "                family_has_deletion[2, (snp_positions >= d['start_pos']) & (snp_positions <= d['end_pos'])] += 1"
   ]
  },
  {
   "cell_type": "code",
   "execution_count": 249,
   "metadata": {},
   "outputs": [
    {
     "data": {
      "image/png": "[encoded data removed]",
      "text/plain": [
       "<Figure size 1080x360 with 1 Axes>"
      ]
     },
     "metadata": {
      "needs_background": "light"
     },
     "output_type": "display_data"
    }
   ],
   "source": [
    "plt.figure(figsize=(15, 5))\n",
    "indices = np.any(A[:, 1:] != A[:, :-1], axis=0).tolist() + [True]\n",
    "plt.imshow(np.vstack((2*((snp_positions >= start_pos) & (snp_positions <= end_pos))[np.newaxis, :], A)), \n",
    "           aspect='auto', vmin=-1, vmax=2)\n",
    "plt.xticks(plt.xlim(), [snp_positions[0], snp_positions[1]])\n",
    "plt.show()"
   ]
  },
  {
   "cell_type": "code",
   "execution_count": 96,
   "metadata": {},
   "outputs": [
    {
     "name": "stdout",
     "output_type": "stream",
     "text": [
      "is_mat? True \n",
      "transmitted to 2 children\n"
     ]
    }
   ],
   "source": [
    "print('is_mat?', deletion['is_mat'], '\\ntransmitted to %d children' % len(deletion['trans']))"
   ]
  },
  {
   "cell_type": "code",
   "execution_count": null,
   "metadata": {},
   "outputs": [],
   "source": []
  },
  {
   "cell_type": "code",
   "execution_count": null,
   "metadata": {},
   "outputs": [],
   "source": []
  }
 ],
 "metadata": {
  "kernelspec": {
   "display_name": "Python 3",
   "language": "python",
   "name": "python3"
  },
  "language_info": {
   "codemirror_mode": {
    "name": "ipython",
    "version": 3
   },
   "file_extension": ".py",
   "mimetype": "text/x-python",
   "name": "python",
   "nbconvert_exporter": "python",
   "pygments_lexer": "ipython3",
   "version": "3.7.3"
  }
 },
 "nbformat": 4,
 "nbformat_minor": 2
}
