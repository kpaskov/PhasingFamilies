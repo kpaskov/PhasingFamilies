{
 "cells": [
  {
   "cell_type": "code",
   "execution_count": 1,
   "metadata": {},
   "outputs": [],
   "source": [
    "import json\n",
    "from collections import defaultdict, Counter\n",
    "import numpy as np\n",
    "from os import listdir\n",
    "import matplotlib.pyplot as plt\n",
    "import scipy.stats as stats\n",
    "import gzip\n",
    "import scipy.sparse as sparse\n",
    "import statsmodels.api as sm\n",
    "import random\n",
    "from sklearn.metrics import precision_recall_curve, roc_curve\n",
    "from itertools import combinations, product\n",
    "import matplotlib\n",
    "import csv"
   ]
  },
  {
   "cell_type": "code",
   "execution_count": 6,
   "metadata": {},
   "outputs": [],
   "source": [
    "#ped_file = '../../DATA/ihart.ms2/ihart.ped'\n",
    "#phase_dir = '../recomb_ihart.ms2'\n",
    "\n",
    "ped_files = ['../../DATA/ssc.hg38/ssc.ped']\n",
    "phase_dirs = ['../recomb_ssc.hg38']\n",
    "\n",
    "#ped_files = ['../../DATA/ihart.ms2/ihart.ped',\n",
    "#            '../../DATA/ssc.hg38/ssc.ped']\n",
    "#phase_dirs = ['../recomb_ihart.ms2', '../recomb_ssc.hg38']\n",
    "\n",
    "#ped_file = '../../DATA/spark/sparkfam.ped'\n",
    "#phase_dir = '../recomb_spark'\n",
    "\n",
    "colors=['#ef6c00', '#4db6ac', '#ce93d8ff']\n"
   ]
  },
  {
   "cell_type": "code",
   "execution_count": 7,
   "metadata": {},
   "outputs": [
    {
     "name": "stdout",
     "output_type": "stream",
     "text": [
      "ped loaded\n",
      "children 9371\n"
     ]
    }
   ],
   "source": [
    "# pull affected status\n",
    "# (0=unknown; 1=unaffected; 2=affected)\n",
    "child_id_to_affected = dict()\n",
    "child_id_to_sex = dict()\n",
    "for ped_file in ped_files:\n",
    "    with open(ped_file, 'r') as f:\n",
    "        for line in f:\n",
    "            pieces = line.strip().split('\\t')\n",
    "            if len(pieces) >= 6:\n",
    "                fam_id, child_id, f_id, m_id, sex, disease_status = pieces[0:6]\n",
    "                if 'ssc' in ped_file:\n",
    "                    child_id = child_id.replace('.', '_')\n",
    "                child_id_to_affected[child_id] = disease_status\n",
    "                child_id_to_sex[child_id] = sex\n",
    "\n",
    "\n",
    "print('ped loaded')\n",
    "print('children', len(child_id_to_affected))\n",
    "\n",
    "\n"
   ]
  },
  {
   "cell_type": "code",
   "execution_count": 8,
   "metadata": {},
   "outputs": [
    {
     "name": "stdout",
     "output_type": "stream",
     "text": [
      "remaining deletions 308269\n",
      "remaining deletions 308269\n",
      "remaining deletions 187225\n"
     ]
    }
   ],
   "source": [
    "deletions = []\n",
    "for phase_dir in phase_dirs:\n",
    "    with open('%s/deletions.json' % phase_dir) as f:\n",
    "        deletions.extend(json.load(f))\n",
    "\n",
    "# filter deletions\n",
    "deletions = [d for d in deletions if d['length']>=1000]\n",
    "print('remaining deletions', len(deletions))\n",
    "\n",
    "deletions = [d for d in deletions if d['is_inherited']]\n",
    "print('remaining deletions', len(deletions))\n",
    "    \n",
    "deletions = [d for d in deletions if not d['is_hts']]\n",
    "print('remaining deletions', len(deletions))"
   ]
  },
  {
   "cell_type": "code",
   "execution_count": 9,
   "metadata": {},
   "outputs": [],
   "source": [
    "child_to_deletions = defaultdict(int)\n",
    "\n",
    "for d in deletions:\n",
    "    for child in d['trans']:\n",
    "        child_to_deletions[(d['family'], child)] += d['length']"
   ]
  },
  {
   "cell_type": "code",
   "execution_count": 10,
   "metadata": {},
   "outputs": [],
   "source": [
    "children = sorted(set([child for fam, child in child_to_deletions.keys()]))\n",
    "child_to_index = dict([(x, i) for i, x in enumerate(children)])\n",
    "is_aff = np.array([child_id_to_affected[child]=='2' for child in children])\n",
    "is_ssc = np.array(['SSC' in child for child in children])\n",
    "\n",
    "child_deletions = np.zeros((len(children),))\n",
    "child_to_fam = dict()\n",
    "for (fam, child), d in child_to_deletions.items():\n",
    "    index = child_to_index[child]\n",
    "    if child_deletions[index] == 0:\n",
    "        child_deletions[index] = d\n",
    "        child_to_fam[child] = fam"
   ]
  },
  {
   "cell_type": "code",
   "execution_count": 11,
   "metadata": {},
   "outputs": [
    {
     "data": {
      "image/png": "[encoded data removed]",
      "text/plain": [
       "<Figure size 432x288 with 1 Axes>"
      ]
     },
     "metadata": {
      "needs_background": "light"
     },
     "output_type": "display_data"
    }
   ],
   "source": [
    "plt.hist(np.clip(child_deletions[is_ssc]/1000000, 0, 6), alpha=0.5, bins=np.arange(0, 6.1, 0.1))\n",
    "plt.hist(np.clip(child_deletions[~is_ssc]/1000000, 0, 6), alpha=0.5, bins=np.arange(0, 6.1, 0.1))\n",
    "\n",
    "plt.show()"
   ]
  },
  {
   "cell_type": "code",
   "execution_count": 12,
   "metadata": {},
   "outputs": [
    {
     "name": "stdout",
     "output_type": "stream",
     "text": [
      "['individual', 'measure', 'communication_standard', 'communication_sum', 'community_age_equiv', 'community_raw_score', 'community_v_score', 'composite_standard_score', 'coping_age_equiv', 'coping_raw_score', 'coping_v_score', 'dls_standard', 'dls_sum', 'domestic_age_equiv', 'domestic_raw_score', 'domestic_v_score', 'express_age_equiv', 'expressive_raw_score', 'express_v_score', 'fine_age_equiv', 'fine_raw_score', 'fine_v_score', 'gross_age_equiv', 'gross_raw_score', 'gross_v_score', 'ir_age_equiv', 'ir_raw_score', 'ir_v_score', 'maladaptive_ex_raw_score_index', 'maladaptive_ex_v_score', 'maladaptive_int_raw_score_index', 'maladaptive_int_v_score', 'motor_skills_standard', 'motor_skills_sum', 'personal_age_equiv', 'personal_raw_score', 'personal_v_score', 'plt_age_equiv', 'plt_raw_score', 'plt_v_score', 'receptive_age_equiv', 'receptive_raw_score', 'receptive_v_score', 'soc_standard', 'soc_sum', 'sum_standard', 'written_age_equiv', 'written_raw_score', 'written_v_score']\n",
      "['individual', 'measure', 'communication_standard', 'communication_sum', 'community_age_equiv', 'community_raw_score', 'community_v_score', 'composite_standard_score', 'coping_age_equiv', 'coping_raw_score', 'coping_v_score', 'dls_standard', 'dls_sum', 'domestic_age_equiv', 'domestic_raw_score', 'domestic_v_score', 'express_age_equiv', 'expressive_raw_score', 'express_v_score', 'fine_age_equiv', 'fine_raw_score', 'fine_v_score', 'gross_age_equiv', 'gross_raw_score', 'gross_v_score', 'ir_age_equiv', 'ir_raw_score', 'ir_v_score', 'maladaptive_ex_raw_score_index', 'maladaptive_ex_v_score', 'maladaptive_int_raw_score_index', 'maladaptive_int_v_score', 'motor_skills_standard', 'motor_skills_sum', 'personal_age_equiv', 'personal_raw_score', 'personal_v_score', 'plt_age_equiv', 'plt_raw_score', 'plt_v_score', 'receptive_age_equiv', 'receptive_raw_score', 'receptive_v_score', 'soc_standard', 'soc_sum', 'sum_standard', 'written_age_equiv', 'written_raw_score', 'written_v_score']\n",
      "[0.00052687 0.00052687 0.00052687 0.        ]\n"
     ]
    }
   ],
   "source": [
    "child_phen = np.zeros((len(children), 4))\n",
    "child_to_index.update([(fam + ('.p1' if is_aff[i] else '.s1'), i) for i, child in enumerate(children)])\n",
    "\n",
    "#with open('../phenotypes/ssc/designated.unaffected.sibling.data/ssc_commonly_used.csv', 'r') as f:\n",
    "with open('../phenotypes/ssc/designated.unaffected.sibling.data/vineland_ii.csv', 'r') as f:\n",
    "    reader = csv.reader(f)\n",
    "    header = next(reader)\n",
    "    print(header)\n",
    "    \n",
    "    # 'vabs_ii_communication', 'vabs_ii_dls_standard', 'vabs_ii_motor_skills', 'vabs_ii_soc_standard'\n",
    "    phen_indices = [header.index('communication_standard'), header.index('dls_standard'), header.index('soc_standard'), header.index('motor_skills_standard')]\n",
    "    for pieces in reader:\n",
    "        if pieces[0] in child_to_index:\n",
    "            child_phen[child_to_index[pieces[0]], :] = [0 if pieces[phen_index]=='' or pieces[phen_index]=='-1' else float(pieces[phen_index]) for phen_index in phen_indices]\n",
    "            \n",
    "        \n",
    "with open('../phenotypes/ssc/proband.data/vineland_ii.csv', 'r') as f:\n",
    "    reader = csv.reader(f)\n",
    "    header = next(reader)\n",
    "    print(header)\n",
    "    \n",
    "    # 'vabs_ii_communication', 'vabs_ii_dls_standard', 'vabs_ii_motor_skills', 'vabs_ii_soc_standard'\n",
    "    phen_indices = [header.index('communication_standard'), header.index('dls_standard'), header.index('soc_standard'), header.index('motor_skills_standard')]\n",
    "    for pieces in reader:\n",
    "        if pieces[0] in child_to_index:\n",
    "            child_phen[child_to_index[pieces[0]], :] = [0 if pieces[phen_index]=='' or pieces[phen_index]=='-1' else float(pieces[phen_index]) for phen_index in phen_indices]\n",
    "            \n",
    "    \n",
    "print(np.sum(child_phen[is_ssc]!=0, axis=0)/np.sum(is_ssc))\n"
   ]
  },
  {
   "cell_type": "code",
   "execution_count": 13,
   "metadata": {},
   "outputs": [
    {
     "name": "stdout",
     "output_type": "stream",
     "text": [
      "['FormID', 'Version', 'PatientNum', 'ProjectNum', 'ProjectName', 'Gender', 'Individual ID', 'data_entry_date', 'original_source_name', ' original_source_id', 'AU/Family ID', 'NDAR_GUID', 'Status', 'InterviewMonth', 'InterviewDay', 'InterviewYear', 'age', 'Interviewernum', 'Interviewer_Org', 'Validated', 'Receptive_Raw_Score_Vine2', 'Receptive_v_Scale_Score', 'Receptive_90_CI', 'Receptive_Adaptive_Level', 'Receptive_Age_Equiv_Year_EQ_LT_GT', 'Receptive_Age_Equiv_Year', 'Receptive_Age_Equivalent_Month', 'Receptive_Age_Equivalent_Cmb', 'Receptive_Score_Minus_Median', 'Receptive_S_W', 'Expressive_Raw_Score_Vine2', 'Expressive_v_Scale_Score', 'Expressive_90_CI', 'Expressive_Adaptive_Level', 'Expressive_Age_Equiv_Year_EQ_LT_GT', 'Expressive_Age_Equiv_Year', 'Expressive_Age_Equivalent_Mont', 'Expressive_Age_Equivalent_cmb', 'Expressive_Score_Minus_Median', 'Expressive_S_W', 'Written_Raw_Score_Vine2', 'Written_v_Scale_Score', 'Written_90_CI', 'Written_Adaptive_Level', 'Written_Age_Equiv_Year_EQ_LT_GT', 'Written_Age_Equiv_Year', 'Written_Age_Equivalent_Month', 'Written_Age_Equivalent_Cmb', 'Written_Score_Minus_Median', 'Written_S_W', 'Communication_v_Scale_Sum', 'Comm_Standard_Score_EQ_LT_GT', 'Comm_Standard_Score', 'Comm_Standard_Cmb', 'Communication_90_CI', 'Comm_Percentile_Rank_EQ_LT_GT', 'Comm_Percentile_Rank', 'Comm_Percentile_Rank_Cmb', 'Comm_Adaptive_Level', 'Comm_Stanine', 'Communication_Score_Minus_Medi', 'Communication_S_W', 'Personal_Raw_Score_Vine2', 'Personal_v_Scale_Score', 'Personal_90_CI', 'Personal_Adaptive_Level', 'Personal_Age_Equivalent_EQ_LT_GT', 'Personal_Age_Equivalent_Year', 'Personal_Age_Equivalent_Month', 'Personal_Age_Equivalent_Cmb', 'Personal_Score_Minus_Median', 'Personal_S_W', 'Domestic_Raw_Score_Vine2', 'Domestic_v_Scale_Score', 'Domestic_90_CI', 'Domestic_Adaptive_Level', 'Domestic_Age_Equiv_EQ_LT_GT', 'Domestic_Age_Equiv_Year', 'Domestic_Age_Equiv_Month', 'Domestic_Age_Equiv_Cmb', 'Domestic_Score_Minus_Median', 'Domestic_S_W', 'Community_Raw_Score_Vine2', 'Community_v_Scale_Score', 'Community_90_CI', 'Community_Adaptive_Level', 'Community_Age_Equiv_EQ_LT_GT', 'Community_Age_Equiv_Year', 'Community_Age_Equiv_Month', 'Community_Age_Equiv_Cmb', 'Community_Score_Minus_Median', 'Community_S_W', 'DLS_v_Scale_Sum', 'DLS_Standard_Score_EQ_LT_GT', 'DLS_Standard_Score', 'DLS_Standard_Score_Cmb', 'DLS_90_CI', 'DLS_Percentile_Rank_EQ_LT_GT', 'DLS_Percentile_Rank', 'DLS_Percentile_Rank_Cmb', 'DLS_Adaptive_Level', 'DLS_Stanine', 'DLS_Score_Minus_Median', 'DLS_S_W', 'IR_Raw_Score_Vine2', 'IR_v_Scale_Score', 'IR_90_CI', 'IR_Adaptive_Level', 'IR_Age_Equiv_EQ_LT_GT', 'IR_Age_Equiv_Year', 'IR_Age_Equiv_Month', 'IR_Age_Equiv_Cmb', 'IR_Score_Minus_Median', 'IR_S_W', 'PLT_Raw_Score_Vine2', 'PLT_v_Scale_Score', 'PLT_90_CI', 'PLT_Adaptive_Level', 'PLT_Age_Equiv_EQ_LT_GT', 'PLT_Age_Equiv_Year', 'PLT_Age_Equiv_Month', 'PLT_Age_Equiv_Cmb', 'PLT_Score_Minus_Median', 'PLT_S_W', 'Coping_Raw_Score_Vine2', 'Coping_v_Scale_Score', 'Coping_90_CI', 'Coping_Adaptive_Level', 'Coping_Age_Equiv_EQ_LT_GT', 'Coping_Age_Equiv_Year', 'Coping_Age_Equiv_Month', 'Coping_Age_Equiv_Cmb', 'Coping_Score_Minus_Median', 'Coping_S_W', 'Soc_v_Scale_Sum', 'Soc_Standard_Score_EQ_LT_GT', 'Soc_Standard_Score', 'Soc_Standard_Score_Cmb', 'Soc_90_CI', 'Soc_Percentile_Rank_EQ_LT_GT', 'Soc_Percentile_Rank', 'Soc_Percentile_Rank_Cmb', 'Soc_Adaptive_Level', 'Soc_Stanine', 'Soc_Score_Minus_Median', 'Soc_S_W', 'Gross_Raw_Score_Vine2', 'Gross_v_Scale_Score', 'Gross_90_CI', 'Gross_Adaptive_Level', 'Gross_Age_Equiv_EQ_LT_GT', 'Gross_Age_Equiv_Year', 'Gross_Age_Equiv_Month', 'Gross_Age_Equiv_Cmb', 'Gross_Score_Minus_Median', 'Gross_S_W', 'Fine_Raw_Score_Vine2', 'Fine_v_Scale_Score', 'Fine_90_CI', 'Fine_Adaptive_Level', 'Fine_Age_Equiv_EQ_LT_GT', 'Fine_Age_Equiv_Year', 'Fine_Age_Equiv_Month', 'Fine_Age_Equiv_Cmb', 'Fine_Score_Minus_Median', 'Fine_S_W', 'Motor_Skills_v_Scale_Sum', 'Motor_Skills_Standard_Score_EQ_LT_GT', 'Motor_Skills_Standard_Score', 'Motor_Skills_Standard_Cmb', 'Motot_Skills_90_CI', 'Motor_Skills_Percentile_Rank_EQ_LT_GT', 'Motor_Skills_Percentile_Rank', 'Motor_Skills_Percentile_Cmb', 'Motor_Skills_Adaptive_Level', 'Motor_Skills_Stanine', 'Motor_Skills_Score_Minus_Median', 'Motor_Skills_S_W', 'Composite_v_Scale_Sum', 'Composite_Standard_Score_EQ_LT_GT', 'Composite_Standard_Score', 'Composite_Standard_Cmb', 'Composite_90_CI', 'Composite_Percentile_Rank_EQ_LT_GT', 'Composite_Percentile_Rank', 'Composite_Percentile_Rank_Cmb', 'Composite_Adaptive_Level', 'Composite_Stanine', 'Vineland_Comments', 'Comm_Raw_Score', 'Band_of_Error_Low', 'Band_of_Error_High', 'Comm_Age_Equivalent_Year_EQ_LT_GT', 'Comm_Age_Equivalent_Year', 'Comm_Age_Equivalent_Month', 'Comm_Age_Equivalent_Cmb', 'Receptive_Raw_Score', 'Expressive_Raw_Score', 'Written_Raw_Score', 'DLS_Raw_Score', 'DLS_Band_of_Error_Low', 'DLS_Band_of_Error_High', 'DLS_Age_Equivalent_EQ_LT_GT', 'DLS_Age_Equivalent_Year', 'DLS_Age_Equivalent_Month', 'DLS_Age_Equivalent_Cmb', 'Personal_Raw_Score', 'Domestic_Raw_Score', 'Community_Raw_Score', 'Soc_Raw_Score', 'Soc_Band_of_Error_Low', 'Soc_Band_of_Error_High', 'Soc_Age_Equivalent_EQ_LT_GT', 'Soc_Age_Equivalent_Year', 'Soc_Age_Equivalent_Month', 'Soc_Age_Equivalent_Cmb', 'IR_Raw_Score', 'PLT_Raw_Score', 'Coping_Raw_Score', 'Motor_Skills_Raw_Score', 'Motor_Skills_Band_of_Error_Low', 'Motor_Skills_Band_of_Error_Hig', 'Motor_Skills_Age_Equiv_EQ_LT_GT', 'Motor_Skills_Age_Equiv_Year', 'Motor_Skills_Age_Equivalent_Mo', 'Motor_Skills_Age_Equiv_Cmb', 'Gross_Raw_Score', 'Fine_Raw_Score', 'Composite_Band_of_Error_Low', 'Composite_Band_of_Error_High', 'Composite_Age_Equivalent_EQ_LT_GT', 'Composite_Age_Equivalent_Year', 'Composite_Age_Equivalent_Month', 'Composite_Age_Equivalent_Cmb']\n",
      "[0. 0. 0. 0.]\n"
     ]
    }
   ],
   "source": [
    "with open('../phenotypes/ihart/Vineland/VINE1.csv', 'r', encoding = \"ISO-8859-1\") as f:\n",
    "    reader = csv.reader(f)\n",
    "    header = next(reader)\n",
    "    print(header)\n",
    "    \n",
    "    # 'vabs_ii_communication', 'vabs_ii_dls_standard', 'vabs_ii_motor_skills', 'vabs_ii_soc_standard'\n",
    "    phen_indices = [header.index('Comm_Standard_Score'), header.index('DLS_Standard_Score'), header.index('Soc_Standard_Score'), header.index('Motor_Skills_Standard_Score')]\n",
    "    for pieces in reader:\n",
    "        if pieces[6] in child_to_index:\n",
    "            child_phen[child_to_index[pieces[6]], :] = [0 if pieces[phen_index]=='' or pieces[phen_index]=='-1' else float(pieces[phen_index]) for phen_index in phen_indices]\n",
    "            \n",
    "print(np.sum(child_phen[~is_ssc]!=0, axis=0)/np.sum(~is_ssc))\n"
   ]
  },
  {
   "cell_type": "code",
   "execution_count": 14,
   "metadata": {},
   "outputs": [
    {
     "name": "stderr",
     "output_type": "stream",
     "text": [
      "//anaconda3/lib/python3.7/site-packages/statsmodels/nonparametric/smoothers_lowess.py:215: RuntimeWarning: invalid value encountered in true_divide\n",
      "  frac=frac, it=it, delta=delta, given_xvals=False)\n"
     ]
    },
    {
     "ename": "ValueError",
     "evalue": "x and y must have length at least 2.",
     "output_type": "error",
     "traceback": [
      "\u001b[0;31m---------------------------------------------------------------------------\u001b[0m",
      "\u001b[0;31mValueError\u001b[0m                                Traceback (most recent call last)",
      "\u001b[0;32m<ipython-input-14-7f7ba5f1c8e9>\u001b[0m in \u001b[0;36m<module>\u001b[0;34m\u001b[0m\n\u001b[1;32m     15\u001b[0m                                 child_deletions[indices]/1000000, return_sorted=True)\n\u001b[1;32m     16\u001b[0m     plt.plot(l[:, 0], l[:, 1], linewidth=3, label='total (r=%0.2f\\npvalue=%0.3f)' % stats.pearsonr(child_deletions[indices]/1000000, \n\u001b[0;32m---> 17\u001b[0;31m                                                                                                    child_phen[indices, i]),\n\u001b[0m\u001b[1;32m     18\u001b[0m             color=colors[2])\n\u001b[1;32m     19\u001b[0m \u001b[0;34m\u001b[0m\u001b[0m\n",
      "\u001b[0;32m//anaconda3/lib/python3.7/site-packages/scipy/stats/stats.py\u001b[0m in \u001b[0;36mpearsonr\u001b[0;34m(x, y)\u001b[0m\n\u001b[1;32m   3390\u001b[0m \u001b[0;34m\u001b[0m\u001b[0m\n\u001b[1;32m   3391\u001b[0m     \u001b[0;32mif\u001b[0m \u001b[0mn\u001b[0m \u001b[0;34m<\u001b[0m \u001b[0;36m2\u001b[0m\u001b[0;34m:\u001b[0m\u001b[0;34m\u001b[0m\u001b[0;34m\u001b[0m\u001b[0m\n\u001b[0;32m-> 3392\u001b[0;31m         \u001b[0;32mraise\u001b[0m \u001b[0mValueError\u001b[0m\u001b[0;34m(\u001b[0m\u001b[0;34m'x and y must have length at least 2.'\u001b[0m\u001b[0;34m)\u001b[0m\u001b[0;34m\u001b[0m\u001b[0;34m\u001b[0m\u001b[0m\n\u001b[0m\u001b[1;32m   3393\u001b[0m \u001b[0;34m\u001b[0m\u001b[0m\n\u001b[1;32m   3394\u001b[0m     \u001b[0mx\u001b[0m \u001b[0;34m=\u001b[0m \u001b[0mnp\u001b[0m\u001b[0;34m.\u001b[0m\u001b[0masarray\u001b[0m\u001b[0;34m(\u001b[0m\u001b[0mx\u001b[0m\u001b[0;34m)\u001b[0m\u001b[0;34m\u001b[0m\u001b[0;34m\u001b[0m\u001b[0m\n",
      "\u001b[0;31mValueError\u001b[0m: x and y must have length at least 2."
     ]
    },
    {
     "data": {
      "image/png": "[encoded data removed]",
      "text/plain": [
       "<Figure size 1080x720 with 1 Axes>"
      ]
     },
     "metadata": {
      "needs_background": "light"
     },
     "output_type": "display_data"
    }
   ],
   "source": [
    "fig=plt.figure(figsize=(15, 10))\n",
    "\n",
    "titles = ['Communication', 'Daily Living Skills', 'Social']\n",
    "#titles = ['Aware', 'Cog', 'Comm', 'Motiv', 'Manner']\n",
    "\n",
    "ax = plt.subplot(2, 3, 1)\n",
    "for i in range(3):\n",
    "    plt.subplot(2, 3, i+1, sharex=ax, sharey=ax)\n",
    "\n",
    "    indices = (child_phen[:, i]!=0) & is_aff & is_ssc\n",
    "    plt.scatter(child_deletions[indices]/1000000,\n",
    "                child_phen[indices, i],\n",
    "                marker='.', alpha=0.5, color=colors[2])\n",
    "    l = sm.nonparametric.lowess(child_phen[indices, i], \n",
    "                                child_deletions[indices]/1000000, return_sorted=True)\n",
    "    plt.plot(l[:, 0], l[:, 1], linewidth=3, label='total (r=%0.2f\\npvalue=%0.3f)' % stats.pearsonr(child_deletions[indices]/1000000, \n",
    "                                                                                                   child_phen[indices, i]),\n",
    "            color=colors[2])\n",
    "    \n",
    "    indices = (child_phen[:, i]!=0) & ~is_aff & is_ssc\n",
    "    plt.scatter(child_deletions[indices]/1000000,\n",
    "                child_phen[indices, i],\n",
    "                marker='.', alpha=0.5, color=colors[1])\n",
    "    l = sm.nonparametric.lowess(child_phen[indices, i], \n",
    "                                child_deletions[indices], return_sorted=True)\n",
    "    plt.plot(l[:, 0], l[:, 1], linewidth=3, label='total (r=%0.2f\\npvalue=%0.3f)' % stats.pearsonr(child_deletions[indices]/1000000, \n",
    "                                                                                                   child_phen[indices, i]),\n",
    "            color=colors[1])\n",
    "    plt.title(titles[i])\n",
    "    plt.legend()\n",
    "    #plt.axhline(100, color='black', linestyle='--')\n",
    "    #plt.xlabel('Inherited deletions shared\\nwith autistic sibling (in Mbp)')\n",
    "    #plt.ylabel('Vineland II subscore\\nof neurotypical child')\n",
    "        \n",
    "        \n",
    "    plt.subplot(2, 3, i+4, sharex=ax, sharey=ax)\n",
    "\n",
    "    indices = (child_phen[:, i]!=0) & is_aff & ~is_ssc\n",
    "    plt.scatter(child_deletions[indices]/1000000,\n",
    "                child_phen[indices, i],\n",
    "                marker='.', alpha=0.5, color=colors[2])\n",
    "    l = sm.nonparametric.lowess(child_phen[indices, i], \n",
    "                                child_deletions[indices]/1000000, return_sorted=True)\n",
    "    plt.plot(l[:, 0], l[:, 1], linewidth=3, label='total (r=%0.2f\\npvalue=%0.3f)' % stats.pearsonr(child_deletions[indices]/1000000, \n",
    "                                                                                                   child_phen[indices, i]),\n",
    "            color=colors[2])\n",
    "    \n",
    "    indices = (child_phen[:, i]!=0) & ~is_aff & ~is_ssc\n",
    "    plt.scatter(child_deletions[indices]/1000000,\n",
    "                child_phen[indices, i],\n",
    "                marker='.', alpha=0.5, color=colors[1])\n",
    "    l = sm.nonparametric.lowess(child_phen[indices, i], \n",
    "                                child_deletions[indices]/1000000, return_sorted=True)\n",
    "    plt.plot(l[:, 0], l[:, 1], linewidth=3, label='total (r=%0.2f\\npvalue=%0.3f)' % stats.pearsonr(child_deletions[indices]/1000000, \n",
    "                                                                                                   child_phen[indices, i]),\n",
    "            color=colors[1])\n",
    "    plt.title(titles[i])\n",
    "    plt.legend()\n",
    "    #plt.axhline(100, color='black', linestyle='--')\n",
    "    #plt.xlabel('Inherited deletions shared\\nwith autistic sibling (in Mbp)')\n",
    "    #plt.ylabel('Vineland II subscore\\nof neurotypical child')\n",
    "        \n",
    "\n",
    "plt.tight_layout()\n",
    "plt.savefig('../plots/subclinical.png', dpi=fig.dpi, bbox_inches='tight')\n",
    "\n",
    "#plt.show()"
   ]
  },
  {
   "cell_type": "code",
   "execution_count": 15,
   "metadata": {},
   "outputs": [
    {
     "name": "stdout",
     "output_type": "stream",
     "text": [
      "0\n"
     ]
    },
    {
     "ename": "NameError",
     "evalue": "name 'nt_phen' is not defined",
     "output_type": "error",
     "traceback": [
      "\u001b[0;31m---------------------------------------------------------------------------\u001b[0m",
      "\u001b[0;31mNameError\u001b[0m                                 Traceback (most recent call last)",
      "\u001b[0;32m<ipython-input-15-cd00cc81be3a>\u001b[0m in \u001b[0;36m<module>\u001b[0;34m\u001b[0m\n\u001b[1;32m      6\u001b[0m \u001b[0;32mfor\u001b[0m \u001b[0mi\u001b[0m \u001b[0;32min\u001b[0m \u001b[0mrange\u001b[0m\u001b[0;34m(\u001b[0m\u001b[0;36m3\u001b[0m\u001b[0;34m)\u001b[0m\u001b[0;34m:\u001b[0m\u001b[0;34m\u001b[0m\u001b[0;34m\u001b[0m\u001b[0m\n\u001b[1;32m      7\u001b[0m     \u001b[0mprint\u001b[0m\u001b[0;34m(\u001b[0m\u001b[0mi\u001b[0m\u001b[0;34m)\u001b[0m\u001b[0;34m\u001b[0m\u001b[0;34m\u001b[0m\u001b[0m\n\u001b[0;32m----> 8\u001b[0;31m     \u001b[0mindices\u001b[0m \u001b[0;34m=\u001b[0m \u001b[0;34m(\u001b[0m\u001b[0mnt_phen\u001b[0m\u001b[0;34m[\u001b[0m\u001b[0;34m:\u001b[0m\u001b[0;34m,\u001b[0m \u001b[0mi\u001b[0m\u001b[0;34m]\u001b[0m\u001b[0;34m!=\u001b[0m\u001b[0;36m0\u001b[0m\u001b[0;34m)\u001b[0m \u001b[0;34m&\u001b[0m \u001b[0;34m(\u001b[0m\u001b[0maut_phen\u001b[0m\u001b[0;34m[\u001b[0m\u001b[0;34m:\u001b[0m\u001b[0;34m,\u001b[0m \u001b[0mi\u001b[0m\u001b[0;34m]\u001b[0m\u001b[0;34m!=\u001b[0m\u001b[0;36m0\u001b[0m\u001b[0;34m)\u001b[0m \u001b[0;34m&\u001b[0m \u001b[0;34m~\u001b[0m\u001b[0mis_outlier\u001b[0m\u001b[0;34m\u001b[0m\u001b[0;34m\u001b[0m\u001b[0m\n\u001b[0m\u001b[1;32m      9\u001b[0m \u001b[0;34m\u001b[0m\u001b[0m\n\u001b[1;32m     10\u001b[0m     \u001b[0;32mfor\u001b[0m \u001b[0mj\u001b[0m \u001b[0;32min\u001b[0m \u001b[0mrange\u001b[0m\u001b[0;34m(\u001b[0m\u001b[0mnum_bootstraps\u001b[0m\u001b[0;34m)\u001b[0m\u001b[0;34m:\u001b[0m\u001b[0;34m\u001b[0m\u001b[0;34m\u001b[0m\u001b[0m\n",
      "\u001b[0;31mNameError\u001b[0m: name 'nt_phen' is not defined"
     ]
    }
   ],
   "source": [
    "intervals = np.arange(0, 2.0, 0.05)\n",
    "num_bootstraps = 100\n",
    "bootstraps = np.zeros((len(intervals), 3, 3, num_bootstraps))\n",
    "# bootstrap conf intervals\n",
    "\n",
    "for i in range(3):\n",
    "    print(i)\n",
    "    indices = (nt_phen[:, i]!=0) & (aut_phen[:, i]!=0) & ~is_outlier\n",
    "    \n",
    "    for j in range(num_bootstraps):\n",
    "        boot_ind = np.random.choice(np.where(indices)[0], size=len(indices), replace=True)\n",
    "        #bootstraps[:, i, 0, j] = sm.nonparametric.lowess(nt_phen[boot_ind, i], deletions_match[boot_ind, 0]/1000000, xvals=intervals)\n",
    "        #bootstraps[:, i, 1, j] = sm.nonparametric.lowess(nt_phen[boot_ind, i], deletions_match[boot_ind, 1]/1000000, xvals=intervals)\n",
    "        #bootstraps[:, i, 2, j] = sm.nonparametric.lowess(nt_phen[boot_ind, i], np.sum(deletions_match[boot_ind, :], axis=1)/1000000, xvals=intervals)\n",
    "        \n",
    "        bootstraps[:, i, 0, j] = sm.nonparametric.lowess(nt_phen[boot_ind, i], deletions_match[boot_ind, 0]/1000000, xvals=intervals)\n",
    "        bootstraps[:, i, 1, j] = sm.nonparametric.lowess(nt_phen[boot_ind, i], deletions_match[boot_ind, 1]/1000000, xvals=intervals)\n",
    "        bootstraps[:, i, 2, j] = sm.nonparametric.lowess(nt_phen[boot_ind, i], np.sum(deletions_match[boot_ind, :], axis=1)/1000000, xvals=intervals)\n",
    "        \n",
    "        \n",
    "        "
   ]
  },
  {
   "cell_type": "code",
   "execution_count": 16,
   "metadata": {},
   "outputs": [
    {
     "ename": "NameError",
     "evalue": "name 'nt_phen' is not defined",
     "output_type": "error",
     "traceback": [
      "\u001b[0;31m---------------------------------------------------------------------------\u001b[0m",
      "\u001b[0;31mNameError\u001b[0m                                 Traceback (most recent call last)",
      "\u001b[0;32m<ipython-input-16-6fc1015e2cf5>\u001b[0m in \u001b[0;36m<module>\u001b[0;34m\u001b[0m\n\u001b[1;32m     10\u001b[0m \u001b[0;34m\u001b[0m\u001b[0m\n\u001b[1;32m     11\u001b[0m \u001b[0mplt\u001b[0m\u001b[0;34m.\u001b[0m\u001b[0msubplot\u001b[0m\u001b[0;34m(\u001b[0m\u001b[0;36m1\u001b[0m\u001b[0;34m,\u001b[0m \u001b[0;36m3\u001b[0m\u001b[0;34m,\u001b[0m \u001b[0;36m1\u001b[0m\u001b[0;34m,\u001b[0m \u001b[0msharex\u001b[0m\u001b[0;34m=\u001b[0m\u001b[0max\u001b[0m\u001b[0;34m,\u001b[0m \u001b[0msharey\u001b[0m\u001b[0;34m=\u001b[0m\u001b[0max\u001b[0m\u001b[0;34m)\u001b[0m\u001b[0;34m\u001b[0m\u001b[0;34m\u001b[0m\u001b[0m\n\u001b[0;32m---> 12\u001b[0;31m \u001b[0mindices\u001b[0m \u001b[0;34m=\u001b[0m \u001b[0;34m(\u001b[0m\u001b[0mnt_phen\u001b[0m\u001b[0;34m[\u001b[0m\u001b[0;34m:\u001b[0m\u001b[0;34m,\u001b[0m \u001b[0mi\u001b[0m\u001b[0;34m]\u001b[0m\u001b[0;34m!=\u001b[0m\u001b[0;36m0\u001b[0m\u001b[0;34m)\u001b[0m \u001b[0;34m&\u001b[0m \u001b[0;34m~\u001b[0m\u001b[0mis_outlier\u001b[0m\u001b[0;34m\u001b[0m\u001b[0;34m\u001b[0m\u001b[0m\n\u001b[0m\u001b[1;32m     13\u001b[0m plt.scatter(deletions_match[indices, 1]/1000000, nt_phen[indices, i], \n\u001b[1;32m     14\u001b[0m                 marker='.', alpha=0.5, color=colors[1])\n",
      "\u001b[0;31mNameError\u001b[0m: name 'nt_phen' is not defined"
     ]
    },
    {
     "data": {
      "image/png": "[encoded data removed]",
      "text/plain": [
       "<Figure size 1080x360 with 1 Axes>"
      ]
     },
     "metadata": {
      "needs_background": "light"
     },
     "output_type": "display_data"
    }
   ],
   "source": [
    "import matplotlib\n",
    "matplotlib.rcParams.update({'font.size': 16})\n",
    "\n",
    "fig=plt.figure(figsize=(15, 5))\n",
    "\n",
    "titles = ['Communication', 'Daily Living Skills', 'Social']\n",
    "i = 1\n",
    "\n",
    "ax = plt.subplot(1, 3, 1)\n",
    "\n",
    "plt.subplot(1, 3, 1, sharex=ax, sharey=ax)\n",
    "indices = (nt_phen[:, i]!=0) & ~is_outlier\n",
    "plt.scatter(deletions_match[indices, 1]/1000000, nt_phen[indices, i], \n",
    "                marker='.', alpha=0.5, color=colors[1])\n",
    "        \n",
    "l = sm.nonparametric.lowess(nt_phen[indices, i], deletions_match[indices, 1]/1000000, return_sorted=True)\n",
    "end_index = np.searchsorted(intervals, l[-1, 0])+1\n",
    "plt.plot(l[:, 0], l[:, 1], linewidth=3,\n",
    "                color=colors[1])\n",
    "plt.fill_between(intervals[:end_index], np.quantile(bootstraps[:end_index, i, 1, :], 0.95, axis=1),\n",
    "                    np.quantile(bootstraps[:end_index, i, 1, :], 0.05, axis=1), alpha=0.25, color=colors[1])\n",
    "    \n",
    "#plt.legend()\n",
    "#plt.axhline(100, color='black', linestyle='--')\n",
    "plt.text(0, 70, 'r:%0.2f; pvalue: %0.3f' % stats.pearsonr(deletions_match[indices, 1]/1000000, nt_phen[indices, i]))\n",
    "plt.title('Paternal') \n",
    "plt.xlabel('Inherited deletions shared\\nwith autistic sibling (in Mbp)')\n",
    "plt.ylabel('Daily living skills subscore\\nof neurotypical child')\n",
    "    \n",
    "\n",
    "plt.subplot(1, 3, 2, sharex=ax, sharey=ax)\n",
    "\n",
    "plt.scatter(deletions_match[indices, 0]/1000000, nt_phen[indices, i], \n",
    "                marker='.', alpha=0.5, color=colors[1])\n",
    "    \n",
    "    \n",
    "l = sm.nonparametric.lowess(nt_phen[indices, i], deletions_match[indices, 0]/1000000, return_sorted=True)\n",
    "end_index = np.searchsorted(intervals, l[-1, 0])+1\n",
    "plt.plot(l[:, 0], l[:, 1], linewidth=3, label='mat (r=%0.2f\\npvalue=%0.3f)' % stats.pearsonr(deletions_match[indices, 0]/1000000, nt_phen[indices, i]),\n",
    "            color=colors[1])\n",
    "plt.fill_between(intervals[:end_index], np.quantile(bootstraps[:end_index, i, 0, :], 0.95, axis=1),\n",
    "                    np.quantile(bootstraps[:end_index, i, 0, :], 0.05, axis=1), alpha=0.25, color=colors[1])\n",
    "    \n",
    "plt.text(0, 70, 'r: %0.2f; pvalue: %0.3f' % stats.pearsonr(deletions_match[indices, 0]/1000000, nt_phen[indices, i]))\n",
    "plt.title('Maternal') \n",
    "#plt.legend()\n",
    "#plt.axhline(100, color='black', linestyle='--')\n",
    "plt.xlabel('Inherited deletions shared\\nwith autistic sibling (in Mbp)')\n",
    "#plt.ylabel('Vineland II subscore\\nof neurotypical child')\n",
    "    \n",
    "plt.subplot(1, 3, 3, sharex=ax, sharey=ax)\n",
    "plt.scatter(np.sum(deletions_match[indices, :], axis=1)/1000000, nt_phen[indices, i], \n",
    "                marker='.', alpha=0.5, color=colors[1])\n",
    "l = sm.nonparametric.lowess(nt_phen[indices, i], np.sum(deletions_match[indices, :], axis=1)/1000000, return_sorted=True)\n",
    "end_index = np.searchsorted(intervals, l[-1, 0])+1\n",
    "plt.plot(l[:, 0], l[:, 1], linewidth=3, label='total (r=%0.2f\\npvalue=%0.3f)' % stats.pearsonr(np.sum(deletions_match[indices, :], axis=1)/1000000, nt_phen[indices, i]),\n",
    "            color=colors[1])\n",
    "plt.fill_between(intervals[:end_index], np.quantile(bootstraps[:end_index, i, 2, :], 0.95, axis=1),\n",
    "                    np.quantile(bootstraps[:end_index, i, 2, :], 0.05, axis=1), alpha=0.25, color=colors[1])\n",
    "    \n",
    "    \n",
    "plt.text(0, 70, 'r: %0.2f; pvalue: %0.3f' % stats.pearsonr(np.sum(deletions_match[indices, :], axis=1)/1000000, nt_phen[indices, i]))\n",
    "#plt.legend()\n",
    "#plt.axhline(100, color='black', linestyle='--')\n",
    "plt.title('Total')\n",
    "plt.xlabel('Inherited deletions shared\\nwith autistic sibling (in Mbp)')\n",
    "#plt.ylabel('Vineland II subscore\\nof neurotypical child')\n",
    "        \n",
    "\n",
    "#plt.tight_layout()\n",
    "plt.savefig('../plots/subclinical.png', dpi=fig.dpi, bbox_inches='tight')\n",
    "\n",
    "#plt.show()"
   ]
  },
  {
   "cell_type": "code",
   "execution_count": 102,
   "metadata": {},
   "outputs": [
    {
     "data": {
      "image/png": "[encoded data removed]",
      "text/plain": [
       "<Figure size 432x288 with 1 Axes>"
      ]
     },
     "metadata": {
      "needs_background": "light"
     },
     "output_type": "display_data"
    }
   ],
   "source": [
    "i = 1\n",
    "indices = (nt_phen[:, i]!=0) & (aut_phen[:, i]!=0) & ~is_outlier\n",
    "\n",
    "plt.scatter(np.sum(deletions_match[indices, :], axis=1)/1000000, aut_phen[indices, i]+nt_phen[indices, i],\n",
    "           marker='.', alpha=0.5)\n",
    "plt.show()"
   ]
  },
  {
   "cell_type": "code",
   "execution_count": 101,
   "metadata": {},
   "outputs": [
    {
     "name": "stdout",
     "output_type": "stream",
     "text": [
      "                            OLS Regression Results                            \n",
      "==============================================================================\n",
      "Dep. Variable:                      y   R-squared:                       0.016\n",
      "Model:                            OLS   Adj. R-squared:                  0.010\n",
      "Method:                 Least Squares   F-statistic:                     2.640\n",
      "Date:                Tue, 07 Dec 2021   Prob (F-statistic):             0.0329\n",
      "Time:                        15:36:41   Log-Likelihood:                -3175.1\n",
      "No. Observations:                 637   AIC:                             6360.\n",
      "Df Residuals:                     632   BIC:                             6382.\n",
      "Df Model:                           4                                         \n",
      "Covariance Type:            nonrobust                                         \n",
      "==============================================================================\n",
      "                 coef    std err          t      P>|t|      [0.025      0.975]\n",
      "------------------------------------------------------------------------------\n",
      "x1             8.1294     30.427      0.267      0.789     -51.622      67.881\n",
      "x2           -15.6204     21.781     -0.717      0.474     -58.392      27.152\n",
      "x3             6.3561      3.604      1.764      0.078      -0.720      13.433\n",
      "x4            13.2692      4.787      2.772      0.006       3.870      22.669\n",
      "const        122.9515     18.205      6.754      0.000      87.202     158.701\n",
      "==============================================================================\n",
      "Omnibus:                       20.803   Durbin-Watson:                   1.263\n",
      "Prob(Omnibus):                  0.000   Jarque-Bera (JB):               22.324\n",
      "Skew:                          -0.453   Prob(JB):                     1.42e-05\n",
      "Kurtosis:                       2.862   Cond. No.                         33.5\n",
      "==============================================================================\n",
      "\n",
      "Notes:\n",
      "[1] Standard Errors assume that the covariance matrix of the errors is correctly specified.\n"
     ]
    }
   ],
   "source": [
    "i = 1\n",
    "indices = (nt_phen[:, i]!=0) & (aut_phen[:, i]!=0) & ~is_outlier\n",
    "X = np.hstack((sim[indices, :], deletions_match[indices, :]/1000000, np.ones((np.sum(indices), 1))))\n",
    "y = aut_phen[indices, i]+nt_phen[indices, i]\n",
    "\n",
    "model = sm.OLS(y, X)\n",
    "result = model.fit()\n",
    "print(result.summary())"
   ]
  },
  {
   "cell_type": "code",
   "execution_count": 114,
   "metadata": {},
   "outputs": [
    {
     "name": "stdout",
     "output_type": "stream",
     "text": [
      "                            OLS Regression Results                            \n",
      "==============================================================================\n",
      "Dep. Variable:                      y   R-squared:                       0.013\n",
      "Model:                            OLS   Adj. R-squared:                  0.008\n",
      "Method:                 Least Squares   F-statistic:                     2.688\n",
      "Date:                Tue, 07 Dec 2021   Prob (F-statistic):             0.0135\n",
      "Time:                        15:49:12   Log-Likelihood:                -5668.5\n",
      "No. Observations:                1274   AIC:                         1.135e+04\n",
      "Df Residuals:                    1267   BIC:                         1.139e+04\n",
      "Df Model:                           6                                         \n",
      "Covariance Type:            nonrobust                                         \n",
      "==============================================================================\n",
      "                 coef    std err          t      P>|t|      [0.025      0.975]\n",
      "------------------------------------------------------------------------------\n",
      "x1             2.9430     12.689      0.232      0.817     -21.951      27.837\n",
      "x2            -8.8556      9.117     -0.971      0.332     -26.741       9.030\n",
      "x3         -1.075e-06    1.9e-06     -0.565      0.572   -4.81e-06    2.66e-06\n",
      "x4         -1.753e-06   2.78e-06     -0.630      0.529   -7.21e-06    3.71e-06\n",
      "x5             4.1893      2.379      1.761      0.079      -0.478       8.857\n",
      "x6             8.4514      3.460      2.443      0.015       1.664      15.239\n",
      "const         63.3913      7.874      8.051      0.000      47.943      78.839\n",
      "==============================================================================\n",
      "Omnibus:                       41.954   Durbin-Watson:                   1.477\n",
      "Prob(Omnibus):                  0.000   Jarque-Bera (JB):               44.165\n",
      "Skew:                          -0.438   Prob(JB):                     2.57e-10\n",
      "Kurtosis:                       2.747   Cond. No.                     2.72e+07\n",
      "==============================================================================\n",
      "\n",
      "Notes:\n",
      "[1] Standard Errors assume that the covariance matrix of the errors is correctly specified.\n",
      "[2] The condition number is large, 2.72e+07. This might indicate that there are\n",
      "strong multicollinearity or other numerical problems.\n"
     ]
    }
   ],
   "source": [
    "i = 1\n",
    "indices = (nt_phen[:, i]!=0) & (aut_phen[:, i]!=0) & ~is_outlier\n",
    "X = np.hstack((np.vstack((sim[indices, :], sim[indices, :])), \n",
    "                np.vstack((deletions_child[indices, :, 0], deletions_child[indices, :, 1])), \n",
    "                np.vstack((deletions_match[indices, :]/1000000, deletions_match[indices, :]/1000000)),\n",
    "                np.ones((2*np.sum(indices), 1))))\n",
    "y = np.hstack((aut_phen[indices, i], nt_phen[indices, i]))\n",
    "\n",
    "model = sm.OLS(y, X)\n",
    "result = model.fit()\n",
    "print(result.summary())"
   ]
  },
  {
   "cell_type": "code",
   "execution_count": 122,
   "metadata": {},
   "outputs": [
    {
     "name": "stdout",
     "output_type": "stream",
     "text": [
      "                            OLS Regression Results                            \n",
      "==============================================================================\n",
      "Dep. Variable:                      y   R-squared:                       0.005\n",
      "Model:                            OLS   Adj. R-squared:                  0.004\n",
      "Method:                 Least Squares   F-statistic:                     5.835\n",
      "Date:                Tue, 07 Dec 2021   Prob (F-statistic):             0.0158\n",
      "Time:                        15:53:29   Log-Likelihood:                -5673.6\n",
      "No. Observations:                1274   AIC:                         1.135e+04\n",
      "Df Residuals:                    1272   BIC:                         1.136e+04\n",
      "Df Model:                           1                                         \n",
      "Covariance Type:            nonrobust                                         \n",
      "==============================================================================\n",
      "                 coef    std err          t      P>|t|      [0.025      0.975]\n",
      "------------------------------------------------------------------------------\n",
      "x1             2.3628      0.978      2.416      0.016       0.444       4.282\n",
      "const         60.2829      1.523     39.586      0.000      57.295      63.270\n",
      "==============================================================================\n",
      "Omnibus:                       42.500   Durbin-Watson:                   1.462\n",
      "Prob(Omnibus):                  0.000   Jarque-Bera (JB):               44.889\n",
      "Skew:                          -0.443   Prob(JB):                     1.79e-10\n",
      "Kurtosis:                       2.752   Cond. No.                         5.57\n",
      "==============================================================================\n",
      "\n",
      "Notes:\n",
      "[1] Standard Errors assume that the covariance matrix of the errors is correctly specified.\n"
     ]
    }
   ],
   "source": [
    "i = 1\n",
    "indices = (nt_phen[:, i]!=0) & (aut_phen[:, i]!=0) & ~is_outlier\n",
    "X = np.hstack((#np.vstack((sim[indices, :], sim[indices, :])), \n",
    "                np.vstack((np.sum(deletions_child[indices, :, 0], axis=1)[:, np.newaxis]/1000000, \n",
    "                           np.sum(deletions_child[indices, :, 1], axis=1)[:, np.newaxis]/1000000)), \n",
    "                #np.vstack((deletions_match[indices, :]/1000000, deletions_match[indices, :]/1000000)),\n",
    "                np.ones((2*np.sum(indices), 1))))\n",
    "y = np.hstack((aut_phen[indices, i], nt_phen[indices, i]))\n",
    "\n",
    "model = sm.OLS(y, X)\n",
    "result = model.fit()\n",
    "print(result.summary())"
   ]
  },
  {
   "cell_type": "code",
   "execution_count": 267,
   "metadata": {},
   "outputs": [
    {
     "name": "stdout",
     "output_type": "stream",
     "text": [
      "('AU0012.AU001203.AU001204', ('AU001203', 'AU001204'))\n"
     ]
    }
   ],
   "source": [
    "print(sibpairs[0])"
   ]
  },
  {
   "cell_type": "code",
   "execution_count": 1,
   "metadata": {},
   "outputs": [
    {
     "ename": "NameError",
     "evalue": "name 'child_phen' is not defined",
     "output_type": "error",
     "traceback": [
      "\u001b[0;31m---------------------------------------------------------------------------\u001b[0m",
      "\u001b[0;31mNameError\u001b[0m                                 Traceback (most recent call last)",
      "\u001b[0;32m<ipython-input-1-07f49d5f5434>\u001b[0m in \u001b[0;36m<module>\u001b[0;34m\u001b[0m\n\u001b[1;32m      1\u001b[0m \u001b[0mi\u001b[0m \u001b[0;34m=\u001b[0m \u001b[0;36m1\u001b[0m\u001b[0;34m\u001b[0m\u001b[0;34m\u001b[0m\u001b[0m\n\u001b[0;32m----> 2\u001b[0;31m \u001b[0mindices\u001b[0m \u001b[0;34m=\u001b[0m \u001b[0;34m(\u001b[0m\u001b[0mchild_phen\u001b[0m\u001b[0;34m[\u001b[0m\u001b[0;34m:\u001b[0m\u001b[0;34m,\u001b[0m \u001b[0mi\u001b[0m\u001b[0;34m]\u001b[0m\u001b[0;34m!=\u001b[0m\u001b[0;36m0\u001b[0m\u001b[0;34m)\u001b[0m \u001b[0;34m&\u001b[0m \u001b[0;34m~\u001b[0m\u001b[0mis_ssc\u001b[0m\u001b[0;34m\u001b[0m\u001b[0;34m\u001b[0m\u001b[0m\n\u001b[0m\u001b[1;32m      3\u001b[0m X = np.hstack((#sim[indices, :], \n\u001b[1;32m      4\u001b[0m                 \u001b[0;31m#np.sum(deletions_child[indices, :, 0]-deletions_match[indices, :], axis=1)[:, np.newaxis]/1000000,\u001b[0m\u001b[0;34m\u001b[0m\u001b[0;34m\u001b[0m\u001b[0;34m\u001b[0m\u001b[0m\n\u001b[1;32m      5\u001b[0m                 \u001b[0;31m#np.sum(deletions_child[indices, :, 1]-deletions_match[indices, :], axis=1)[:, np.newaxis]/1000000,\u001b[0m\u001b[0;34m\u001b[0m\u001b[0;34m\u001b[0m\u001b[0;34m\u001b[0m\u001b[0m\n",
      "\u001b[0;31mNameError\u001b[0m: name 'child_phen' is not defined"
     ]
    }
   ],
   "source": [
    "i = 1\n",
    "indices = (child_phen[:, i]!=0) & ~is_ssc\n",
    "X = np.hstack((#sim[indices, :], \n",
    "                #np.sum(deletions_child[indices, :, 0]-deletions_match[indices, :], axis=1)[:, np.newaxis]/1000000,\n",
    "                #np.sum(deletions_child[indices, :, 1]-deletions_match[indices, :], axis=1)[:, np.newaxis]/1000000,\n",
    "                np.sum(child_deletions[indices, :], axis=1)[:, np.newaxis]/1000000,\n",
    "                is_aut[indices, np.newaxis],\n",
    "                np.ones((np.sum(indices), 1))))\n",
    "y = child_phen[indices, i]\n",
    "\n",
    "model = sm.OLS(y, X)\n",
    "result = model.fit()\n",
    "print(result.summary())"
   ]
  },
  {
   "cell_type": "code",
   "execution_count": 13,
   "metadata": {},
   "outputs": [
    {
     "ename": "AxisError",
     "evalue": "axis 1 is out of bounds for array of dimension 1",
     "output_type": "error",
     "traceback": [
      "\u001b[0;31m---------------------------------------------------------------------------\u001b[0m",
      "\u001b[0;31mAxisError\u001b[0m                                 Traceback (most recent call last)",
      "\u001b[0;32m<ipython-input-13-79b83c19f185>\u001b[0m in \u001b[0;36m<module>\u001b[0;34m\u001b[0m\n\u001b[0;32m----> 1\u001b[0;31m \u001b[0mplt\u001b[0m\u001b[0;34m.\u001b[0m\u001b[0mhist\u001b[0m\u001b[0;34m(\u001b[0m\u001b[0mnp\u001b[0m\u001b[0;34m.\u001b[0m\u001b[0msum\u001b[0m\u001b[0;34m(\u001b[0m\u001b[0mchild_deletions\u001b[0m\u001b[0;34m[\u001b[0m\u001b[0mis_ssc\u001b[0m\u001b[0;34m]\u001b[0m\u001b[0;34m,\u001b[0m \u001b[0maxis\u001b[0m\u001b[0;34m=\u001b[0m\u001b[0;36m1\u001b[0m\u001b[0;34m)\u001b[0m\u001b[0;34m[\u001b[0m\u001b[0;34m:\u001b[0m\u001b[0;34m,\u001b[0m \u001b[0mnp\u001b[0m\u001b[0;34m.\u001b[0m\u001b[0mnewaxis\u001b[0m\u001b[0;34m]\u001b[0m\u001b[0;34m/\u001b[0m\u001b[0;36m1000000\u001b[0m\u001b[0;34m,\u001b[0m \u001b[0mbins\u001b[0m\u001b[0;34m=\u001b[0m\u001b[0mnp\u001b[0m\u001b[0;34m.\u001b[0m\u001b[0marange\u001b[0m\u001b[0;34m(\u001b[0m\u001b[0;36m0\u001b[0m\u001b[0;34m,\u001b[0m \u001b[0;36m8\u001b[0m\u001b[0;34m,\u001b[0m \u001b[0;36m0.1\u001b[0m\u001b[0;34m)\u001b[0m\u001b[0;34m,\u001b[0m \u001b[0malpha\u001b[0m\u001b[0;34m=\u001b[0m\u001b[0;36m0.5\u001b[0m\u001b[0;34m)\u001b[0m\u001b[0;34m\u001b[0m\u001b[0;34m\u001b[0m\u001b[0m\n\u001b[0m\u001b[1;32m      2\u001b[0m \u001b[0mplt\u001b[0m\u001b[0;34m.\u001b[0m\u001b[0mhist\u001b[0m\u001b[0;34m(\u001b[0m\u001b[0mnp\u001b[0m\u001b[0;34m.\u001b[0m\u001b[0msum\u001b[0m\u001b[0;34m(\u001b[0m\u001b[0mchild_deletions\u001b[0m\u001b[0;34m[\u001b[0m\u001b[0;34m~\u001b[0m\u001b[0mis_ssc\u001b[0m\u001b[0;34m]\u001b[0m\u001b[0;34m,\u001b[0m \u001b[0maxis\u001b[0m\u001b[0;34m=\u001b[0m\u001b[0;36m1\u001b[0m\u001b[0;34m)\u001b[0m\u001b[0;34m[\u001b[0m\u001b[0;34m:\u001b[0m\u001b[0;34m,\u001b[0m \u001b[0mnp\u001b[0m\u001b[0;34m.\u001b[0m\u001b[0mnewaxis\u001b[0m\u001b[0;34m]\u001b[0m\u001b[0;34m/\u001b[0m\u001b[0;36m1000000\u001b[0m\u001b[0;34m,\u001b[0m \u001b[0mbins\u001b[0m\u001b[0;34m=\u001b[0m\u001b[0mnp\u001b[0m\u001b[0;34m.\u001b[0m\u001b[0marange\u001b[0m\u001b[0;34m(\u001b[0m\u001b[0;36m0\u001b[0m\u001b[0;34m,\u001b[0m \u001b[0;36m8\u001b[0m\u001b[0;34m,\u001b[0m \u001b[0;36m0.1\u001b[0m\u001b[0;34m)\u001b[0m\u001b[0;34m,\u001b[0m \u001b[0malpha\u001b[0m\u001b[0;34m=\u001b[0m\u001b[0;36m0.5\u001b[0m\u001b[0;34m)\u001b[0m\u001b[0;34m\u001b[0m\u001b[0;34m\u001b[0m\u001b[0m\n\u001b[1;32m      3\u001b[0m \u001b[0mplt\u001b[0m\u001b[0;34m.\u001b[0m\u001b[0mshow\u001b[0m\u001b[0;34m(\u001b[0m\u001b[0;34m)\u001b[0m\u001b[0;34m\u001b[0m\u001b[0;34m\u001b[0m\u001b[0m\n",
      "\u001b[0;32m//anaconda3/lib/python3.7/site-packages/numpy/core/fromnumeric.py\u001b[0m in \u001b[0;36msum\u001b[0;34m(a, axis, dtype, out, keepdims, initial)\u001b[0m\n\u001b[1;32m   2074\u001b[0m \u001b[0;34m\u001b[0m\u001b[0m\n\u001b[1;32m   2075\u001b[0m     return _wrapreduction(a, np.add, 'sum', axis, dtype, out, keepdims=keepdims,\n\u001b[0;32m-> 2076\u001b[0;31m                           initial=initial)\n\u001b[0m\u001b[1;32m   2077\u001b[0m \u001b[0;34m\u001b[0m\u001b[0m\n\u001b[1;32m   2078\u001b[0m \u001b[0;34m\u001b[0m\u001b[0m\n",
      "\u001b[0;32m//anaconda3/lib/python3.7/site-packages/numpy/core/fromnumeric.py\u001b[0m in \u001b[0;36m_wrapreduction\u001b[0;34m(obj, ufunc, method, axis, dtype, out, **kwargs)\u001b[0m\n\u001b[1;32m     84\u001b[0m                 \u001b[0;32mreturn\u001b[0m \u001b[0mreduction\u001b[0m\u001b[0;34m(\u001b[0m\u001b[0maxis\u001b[0m\u001b[0;34m=\u001b[0m\u001b[0maxis\u001b[0m\u001b[0;34m,\u001b[0m \u001b[0mout\u001b[0m\u001b[0;34m=\u001b[0m\u001b[0mout\u001b[0m\u001b[0;34m,\u001b[0m \u001b[0;34m**\u001b[0m\u001b[0mpasskwargs\u001b[0m\u001b[0;34m)\u001b[0m\u001b[0;34m\u001b[0m\u001b[0;34m\u001b[0m\u001b[0m\n\u001b[1;32m     85\u001b[0m \u001b[0;34m\u001b[0m\u001b[0m\n\u001b[0;32m---> 86\u001b[0;31m     \u001b[0;32mreturn\u001b[0m \u001b[0mufunc\u001b[0m\u001b[0;34m.\u001b[0m\u001b[0mreduce\u001b[0m\u001b[0;34m(\u001b[0m\u001b[0mobj\u001b[0m\u001b[0;34m,\u001b[0m \u001b[0maxis\u001b[0m\u001b[0;34m,\u001b[0m \u001b[0mdtype\u001b[0m\u001b[0;34m,\u001b[0m \u001b[0mout\u001b[0m\u001b[0;34m,\u001b[0m \u001b[0;34m**\u001b[0m\u001b[0mpasskwargs\u001b[0m\u001b[0;34m)\u001b[0m\u001b[0;34m\u001b[0m\u001b[0;34m\u001b[0m\u001b[0m\n\u001b[0m\u001b[1;32m     87\u001b[0m \u001b[0;34m\u001b[0m\u001b[0m\n\u001b[1;32m     88\u001b[0m \u001b[0;34m\u001b[0m\u001b[0m\n",
      "\u001b[0;31mAxisError\u001b[0m: axis 1 is out of bounds for array of dimension 1"
     ]
    }
   ],
   "source": [
    "plt.hist(np.sum(child_deletions[is_ssc], axis=1)[:, np.newaxis]/1000000, bins=np.arange(0, 8, 0.1), alpha=0.5)\n",
    "plt.hist(np.sum(child_deletions[~is_ssc], axis=1)[:, np.newaxis]/1000000, bins=np.arange(0, 8, 0.1), alpha=0.5)\n",
    "plt.show()"
   ]
  },
  {
   "cell_type": "code",
   "execution_count": 645,
   "metadata": {},
   "outputs": [
    {
     "data": {
      "image/png": "[encoded data removed]",
      "text/plain": [
       "<Figure size 432x288 with 1 Axes>"
      ]
     },
     "metadata": {
      "needs_background": "light"
     },
     "output_type": "display_data"
    }
   ],
   "source": [
    "plt.hist(child_phen[is_ssc & is_aut & (child_phen[:, i] != 0), i], alpha=0.5, bins=np.arange(20, 130, 10))\n",
    "plt.hist(child_phen[~is_ssc & is_aut & (child_phen[:, i] != 0), i], alpha=0.5, bins=np.arange(20, 130, 10))\n",
    "plt.show()"
   ]
  },
  {
   "cell_type": "code",
   "execution_count": 646,
   "metadata": {},
   "outputs": [
    {
     "data": {
      "image/png": "[encoded data removed]",
      "text/plain": [
       "<Figure size 432x288 with 1 Axes>"
      ]
     },
     "metadata": {
      "needs_background": "light"
     },
     "output_type": "display_data"
    }
   ],
   "source": [
    "plt.hist(child_phen[is_ssc & ~is_aut & (child_phen[:, i] != 0), i], alpha=0.5, bins=np.arange(20, 130, 10))\n",
    "plt.hist(child_phen[~is_ssc & ~is_aut & (child_phen[:, i] != 0), i], alpha=0.5, bins=np.arange(20, 130, 10))\n",
    "plt.show()"
   ]
  },
  {
   "cell_type": "code",
   "execution_count": null,
   "metadata": {},
   "outputs": [],
   "source": []
  }
 ],
 "metadata": {
  "kernelspec": {
   "display_name": "Python 3",
   "language": "python",
   "name": "python3"
  },
  "language_info": {
   "codemirror_mode": {
    "name": "ipython",
    "version": 3
   },
   "file_extension": ".py",
   "mimetype": "text/x-python",
   "name": "python",
   "nbconvert_exporter": "python",
   "pygments_lexer": "ipython3",
   "version": "3.7.3"
  }
 },
 "nbformat": 4,
 "nbformat_minor": 2
}
