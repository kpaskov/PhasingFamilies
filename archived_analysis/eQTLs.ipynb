{
 "cells": [
  {
   "cell_type": "code",
   "execution_count": 42,
   "metadata": {},
   "outputs": [],
   "source": [
    "import csv\n",
    "from os import listdir\n",
    "import json\n",
    "import numpy as np\n",
    "import scipy.sparse as sparse\n",
    "import matplotlib.pyplot as plt\n",
    "from collections import defaultdict\n",
    "import scipy.stats as stats"
   ]
  },
  {
   "cell_type": "code",
   "execution_count": 82,
   "metadata": {},
   "outputs": [
    {
     "name": "stdout",
     "output_type": "stream",
     "text": [
      "57\n"
     ]
    }
   ],
   "source": [
    "zeb1_eqtls = []\n",
    "with open('../data/GTEx_ZEB1.csv', 'r') as f:\n",
    "    reader = csv.reader(f)\n",
    "    next(reader) # skip header\n",
    "    for pieces in reader:\n",
    "        chrom, pos, ref, alt, build = pieces[2].split('_')\n",
    "        if chrom == 'chr10' and len(ref) == 1 and len(alt) == 1 and 'Brain' in pieces[6] and '38' in build:\n",
    "            zeb1_eqtls.append((pos, ref, alt))\n",
    "\n",
    "ctbp2_eqtls = []\n",
    "with open('../data/GTEx_CTBP2.csv', 'r') as f:\n",
    "    reader = csv.reader(f)\n",
    "    next(reader) # skip header\n",
    "    for pieces in reader:\n",
    "        chrom, pos, ref, alt, build = pieces[2].split('_')\n",
    "        if chrom == 'chr10' and len(ref) == 1 and len(alt) == 1 and 'Brain' in pieces[6] and '38' in build:\n",
    "            ctbp2_eqtls.append((pos, ref, alt))\n",
    "\n",
    "pos_of_interest = sorted(set([x[0] for x in zeb1_eqtls] + [x[0] for x in ctbp2_eqtls]))\n",
    "print(len(pos_of_interest))"
   ]
  },
  {
   "cell_type": "code",
   "execution_count": 83,
   "metadata": {},
   "outputs": [
    {
     "name": "stdout",
     "output_type": "stream",
     "text": [
      "['124969506', '124995565', '124997347', '124999801', '125000399', '125001814', '125002350', '125003624', '125007278', '125007927', '125008517', '125008641', '125016518', '125016689', '125018107', '125018613', '125018843', '125019312', '125019625', '125020214', '125022085', '125022222', '125022538', '125024046', '125025631', '125026145', '125026397', '125027777', '125028278', '125028301', '125028763', '125029781', '125030791', '125031007', '125031135', '125031264', '125031719', '125032872', '125033116', '125033385', '125033925', '125033966', '125037511', '125037766', '125037989', '125039834', '125041922', '125043167', '125045409', '125045546', '125049902', '125049964', '125603226', '30949274', '30951246', '31144345', '32291277']\n"
     ]
    }
   ],
   "source": [
    "print(pos_of_interest)"
   ]
  },
  {
   "cell_type": "code",
   "execution_count": 84,
   "metadata": {},
   "outputs": [],
   "source": [
    "chrom = '10'\n",
    "\n",
    "data_dirs = [\n",
    "             '../../DATA/ssc.hg38/genotypes/phase1-1',\n",
    "             '../../DATA/ssc.hg38/genotypes/phase1-2',\n",
    "             '../../DATA/ssc.hg38/genotypes/phase1-3',\n",
    "             '../../DATA/ssc.hg38/genotypes/phase1-4',\n",
    "             '../../DATA/ssc.hg38/genotypes/phase1-5',\n",
    "             '../../DATA/ssc.hg38/genotypes/phase1-7',\n",
    "             '../../DATA/ssc.hg38/genotypes/phase2',\n",
    "             '../../DATA/ssc.hg38/genotypes/phase2_B01',\n",
    "             '../../DATA/ssc.hg38/genotypes/phase2_Replacements',\n",
    "             '../../DATA/ssc.hg38/genotypes/phase3_1',\n",
    "             '../../DATA/ssc.hg38/genotypes/phase3_1_B02',\n",
    "             '../../DATA/ssc.hg38/genotypes/phase3_2',\n",
    "             '../../DATA/ssc.hg38/genotypes/phase4',\n",
    "             '../../DATA/ssc.hg38/genotypes/pilot'\n",
    "            ]\n",
    "ped_file = '../../DATA/ssc.hg38/ssc.ped'"
   ]
  },
  {
   "cell_type": "code",
   "execution_count": 154,
   "metadata": {},
   "outputs": [],
   "source": [
    "chrom = '10'\n",
    "\n",
    "data_dirs = [\n",
    "             '../../DATA/ihart.ms2/genotypes',\n",
    "            ]\n",
    "ped_file = '../../DATA/ihart.ms2/ihart.ped'"
   ]
  },
  {
   "cell_type": "code",
   "execution_count": 155,
   "metadata": {},
   "outputs": [
    {
     "name": "stdout",
     "output_type": "stream",
     "text": [
      "../../DATA/ihart.ms2/genotypes\n",
      "(4610, 11663)\n"
     ]
    }
   ],
   "source": [
    "all_gen_data = []\n",
    "all_sample_ids = []\n",
    "for data_dir in data_dirs:\n",
    "    print(data_dir)\n",
    "    gen_files = sorted([f for f in listdir(data_dir) if ('chr.%s.' % chrom) in f and 'gen.npz' in f], key=lambda x: int(x.split('.')[2]))\n",
    "    coord_files = sorted([f for f in listdir(data_dir) if ('chr.%s.' % chrom) in f and 'gen.coordinates.npy' in f], key=lambda x: int(x.split('.')[2]))\n",
    "    af_files = sorted([f for f in listdir(data_dir) if ('chr.%s.' % chrom) in f and 'gen.af.npy' in f], key=lambda x: int(x.split('.')[2]))\n",
    "    assert len(coord_files) == len(af_files)\n",
    "\n",
    "    snp_positions, afs, gens = [], [], []\n",
    "    for gen_file, coord_file, af_file in zip(gen_files, coord_files, af_files):\n",
    "        coords = np.load('%s/%s' % (data_dir, coord_file))\n",
    "        if coords.shape[0]>0:\n",
    "            poss = coords[:, 1]\n",
    "            is_snp = coords[:, 2]==1\n",
    "            is_pass = coords[:, 3]==1\n",
    "            has_data = np.where(is_snp & is_pass & (poss>=125500000) & (poss<=126000000))[0]\n",
    "            if np.sum(has_data)>0:\n",
    "                af = np.load('%s/%s' % (data_dir, af_file))\n",
    "                gen = sparse.load_npz('%s/%s' % (data_dir, gen_file))[:, has_data].A\n",
    "                \n",
    "                snp_positions.append(poss[has_data])\n",
    "                afs.append(-np.log10(af[has_data]))\n",
    "                gens.append(gen)\n",
    "    with open('%s/samples.json' % data_dir, 'r') as f:\n",
    "        sample_ids = json.load(f)\n",
    "    all_sample_ids.extend(sample_ids)\n",
    "\n",
    "    gens = np.hstack(gens)\n",
    "    snp_positions = np.hstack(snp_positions)\n",
    "    afs = np.hstack(afs)\n",
    "    all_gen_data.append(gens)\n",
    "    print(gens.shape)\n",
    "    "
   ]
  },
  {
   "cell_type": "code",
   "execution_count": 156,
   "metadata": {},
   "outputs": [],
   "source": [
    "all_gen_data = np.vstack(all_gen_data)"
   ]
  },
  {
   "cell_type": "code",
   "execution_count": 157,
   "metadata": {},
   "outputs": [
    {
     "name": "stdout",
     "output_type": "stream",
     "text": [
      "(4610, 11663) 4610\n"
     ]
    }
   ],
   "source": [
    "has_data = np.any(all_gen_data>=0, axis=1)\n",
    "all_gen_data = all_gen_data[has_data, :]\n",
    "sample_ids = [sample_ids[i] for i in np.where(has_data)[0]]\n",
    "print(all_gen_data.shape, len(sample_ids))"
   ]
  },
  {
   "cell_type": "code",
   "execution_count": 158,
   "metadata": {},
   "outputs": [
    {
     "data": {
      "text/plain": [
       "(array([-1,  0,  1,  2], dtype=int8),\n",
       " array([    2968, 51680918,  1347916,   734628]))"
      ]
     },
     "execution_count": 158,
     "metadata": {},
     "output_type": "execute_result"
    }
   ],
   "source": [
    "np.unique(all_gen_data, return_counts=True)"
   ]
  },
  {
   "cell_type": "code",
   "execution_count": 159,
   "metadata": {},
   "outputs": [
    {
     "data": {
      "image/png": "[encoded data removed]",
      "text/plain": [
       "<Figure size 432x288 with 1 Axes>"
      ]
     },
     "metadata": {
      "needs_background": "light"
     },
     "output_type": "display_data"
    }
   ],
   "source": [
    "plt.imshow(all_gen_data, aspect='auto')\n",
    "plt.show()"
   ]
  },
  {
   "cell_type": "code",
   "execution_count": 185,
   "metadata": {},
   "outputs": [
    {
     "name": "stdout",
     "output_type": "stream",
     "text": [
      "885 2293\n"
     ]
    }
   ],
   "source": [
    "parents_to_children = defaultdict(list)\n",
    "child_to_autism = dict()\n",
    "with open(ped_file, 'r') as f:\n",
    "    for line in f:\n",
    "        pieces = line.strip().split('\\t')\n",
    "        if pieces[1] in all_sample_ids and pieces[2] in all_sample_ids and pieces[3] in all_sample_ids:\n",
    "            parents_to_children[(pieces[3], pieces[2])].append(pieces[1])\n",
    "            child_to_autism[pieces[1]] = pieces[5]\n",
    "print(len(parents_to_children), len(child_to_autism))"
   ]
  },
  {
   "cell_type": "code",
   "execution_count": 186,
   "metadata": {},
   "outputs": [],
   "source": [
    "# TDT\n",
    "sample_id_to_index = dict([(x, i) for i, x in enumerate(all_sample_ids)])\n",
    "\n",
    "# pos, typ/aut, mat/pat\n",
    "trans, notrans = np.zeros((all_gen_data.shape[1], 2, 2), dtype=int), np.zeros((all_gen_data.shape[1], 2, 2), dtype=int)\n",
    "\n",
    "for (mom, dad), children in parents_to_children.items():\n",
    "    mom_gen = all_gen_data[sample_id_to_index[mom], :]\n",
    "    dad_gen = all_gen_data[sample_id_to_index[dad], :]\n",
    "    \n",
    "    for child in children:\n",
    "        child_gen = all_gen_data[sample_id_to_index[child], :]\n",
    "        trans[:, int(child_to_autism[child]=='2'), 0] += (mom_gen==1) & (dad_gen==0) & (child_gen==1)\n",
    "        trans[:, int(child_to_autism[child]=='2'), 0] += (mom_gen==1) & (dad_gen==2) & (child_gen==2)\n",
    "        notrans[:, int(child_to_autism[child]=='2'), 0] += (mom_gen==1) & (dad_gen==0) & (child_gen==0)\n",
    "        notrans[:, int(child_to_autism[child]=='2'), 0] += (mom_gen==1) & (dad_gen==2) & (child_gen==1)\n",
    "            \n",
    "        trans[:, int(child_to_autism[child]=='2'), 1] += (dad_gen==1) & (mom_gen==0) & (child_gen==1)\n",
    "        trans[:, int(child_to_autism[child]=='2'), 1] += (dad_gen==1) & (mom_gen==2) & (child_gen==2)\n",
    "        notrans[:, int(child_to_autism[child]=='2'), 1] += (dad_gen==1) & (mom_gen==0) & (child_gen==0)\n",
    "        notrans[:, int(child_to_autism[child]=='2'), 1] += (dad_gen==1) & (mom_gen==2) & (child_gen==1)\n",
    "            \n",
    "        #trans[:, int(child_to_autism[child]=='2'), ?] += (dad_gen==1) & (mom_gen==1) & (child_gen==1)\n",
    "        trans[:, int(child_to_autism[child]=='2'), 0] += (dad_gen==1) & (mom_gen==1) & (child_gen==2)\n",
    "        trans[:, int(child_to_autism[child]=='2'), 1] += (dad_gen==1) & (mom_gen==1) & (child_gen==2)\n",
    "        #notrans[:, int(child_to_autism[child]=='2'), ?] += (dad_gen==1) & (mom_gen==1) & (child_gen==1)\n",
    "        notrans[:, int(child_to_autism[child]=='2'), 0] += (dad_gen==1) & (mom_gen==1) & (child_gen==0)\n",
    "        notrans[:, int(child_to_autism[child]=='2'), 1] += (dad_gen==1) & (mom_gen==1) & (child_gen==0)\n",
    "       "
   ]
  },
  {
   "cell_type": "code",
   "execution_count": 194,
   "metadata": {},
   "outputs": [],
   "source": [
    "# pos, typ/aut, mat/pat/both\n",
    "pvalues = np.ones((all_gen_data.shape[1], 2, 3))\n",
    "for i in range(all_gen_data.shape[1]):\n",
    "    #pvalues[i] = stats.chi2_contingency([[trans_aut[i], notrans_aut[i]], [\n",
    "    #                               trans_typ[i], notrans_typ[i]]])[1]\n",
    "    pvalues[i, 0, 0] = stats.binom_test(trans[i, 0, 0], trans[i, 0, 0]+notrans[i, 0, 0])\n",
    "    pvalues[i, 0, 1] = stats.binom_test(trans[i, 0, 1], trans[i, 0, 1]+notrans[i, 0, 1])\n",
    "    pvalues[i, 0, 2] = stats.binom_test(trans[i, 0, 0]+trans[i, 0, 1], trans[i, 0, 0]+notrans[i, 0, 0]+trans[i, 0, 1]+notrans[i, 0, 1])\n",
    "    pvalues[i, 1, 0] = stats.binom_test(trans[i, 1, 0], trans[i, 1, 0]+notrans[i, 1, 0])\n",
    "    pvalues[i, 1, 1] = stats.binom_test(trans[i, 1, 1], trans[i, 1, 1]+notrans[i, 1, 1])\n",
    "    pvalues[i, 1, 2] = stats.binom_test(trans[i, 1, 0]+trans[i, 1, 1], trans[i, 1, 0]+notrans[i, 1, 0]+trans[i, 1, 1]+notrans[i, 1, 1])\n",
    "    \n",
    "    try:\n",
    "        chi_pvalues[i] = stats.chi2_contingency([[trans[i, 0, 0]+trans[i, 0, 1], \n",
    "                                              trans[i, 1, 0]+trans[i, 1, 1]],\n",
    "                                             [notrans[i, 0, 0]+notrans[i, 0, 1], \n",
    "                                              notrans[i, 1, 0]+notrans[i, 1, 1]]])[1]\n",
    "    except:\n",
    "        pass\n",
    "                                             \n",
    "                                             "
   ]
  },
  {
   "cell_type": "code",
   "execution_count": 188,
   "metadata": {},
   "outputs": [],
   "source": [
    "chi_pvalues = np.ones((all_gen_data.shape[1],))\n",
    "for i in range(all_gen_data.shape[1]):\n",
    "    if np.sum(trans[i, :, :]) + np.sum(notrans[i, :, :]) > 10:\n",
    "        try:\n",
    "            chi_pvalues[i] = stats.chi2_contingency([[trans[i, 0, 0]+trans[i, 0, 1], \n",
    "                                                  trans[i, 1, 0]+trans[i, 1, 1]],\n",
    "                                                 [notrans[i, 0, 0]+notrans[i, 0, 1], \n",
    "                                                  notrans[i, 1, 0]+notrans[i, 1, 1]]])[1]\n",
    "        except:\n",
    "            pass"
   ]
  },
  {
   "cell_type": "code",
   "execution_count": 189,
   "metadata": {},
   "outputs": [
    {
     "name": "stdout",
     "output_type": "stream",
     "text": [
      "0.03294946386390068\n",
      "46652.0\n",
      "46652.0\n"
     ]
    }
   ],
   "source": [
    "print(np.nanmin(chi_pvalues)*np.sum(chi_pvalues != 1))\n",
    "print(np.min(pvalues[:, 0, 2])*all_gen_data.shape[1]*4)\n",
    "print(np.min(pvalues[:, 1, 2])*all_gen_data.shape[1]*4)"
   ]
  },
  {
   "cell_type": "code",
   "execution_count": 195,
   "metadata": {},
   "outputs": [
    {
     "name": "stdout",
     "output_type": "stream",
     "text": [
      "[125515660 125569189 125569358 125618955 125636160 125834787 125890568\n",
      " 125890669 125891677 125892110 125892562 125892576 125892579 125892678\n",
      " 125892798 125893135 125903099 125906520 125906524 125906526 125906527\n",
      " 125908951 125908954 125918557 125918560 125919198 125936437 125964189\n",
      " 125964190]\n"
     ]
    }
   ],
   "source": [
    "indices = np.any(pvalues[:, :, 2]<0.05/(all_gen_data.shape[1]*2), axis=1)\n",
    "print(snp_positions[indices])"
   ]
  },
  {
   "cell_type": "code",
   "execution_count": 196,
   "metadata": {},
   "outputs": [
    {
     "data": {
      "image/png": "[encoded data removed]",
      "text/plain": [
       "<Figure size 1080x360 with 1 Axes>"
      ]
     },
     "metadata": {
      "needs_background": "light"
     },
     "output_type": "display_data"
    }
   ],
   "source": [
    "plt.figure(figsize=(15, 5))\n",
    "plt.imshow(all_gen_data[:, indices], aspect='auto')\n",
    "plt.show()"
   ]
  },
  {
   "cell_type": "code",
   "execution_count": 192,
   "metadata": {},
   "outputs": [
    {
     "data": {
      "image/png": "[encoded data removed]",
      "text/plain": [
       "<Figure size 1080x360 with 1 Axes>"
      ]
     },
     "metadata": {
      "needs_background": "light"
     },
     "output_type": "display_data"
    }
   ],
   "source": [
    "plt.figure(figsize=(15, 5))\n",
    "#plt.plot(snp_positions, -np.log10(pvalues[:, 0, 2]), alpha=0.5)\n",
    "plt.plot(snp_positions, -np.log10(chi_pvalues), alpha=0.5)\n",
    "plt.show()"
   ]
  },
  {
   "cell_type": "code",
   "execution_count": 193,
   "metadata": {},
   "outputs": [
    {
     "name": "stdout",
     "output_type": "stream",
     "text": [
      "125515660\n"
     ]
    }
   ],
   "source": [
    "print(snp_positions[np.nanargmin(chi_pvalues)])"
   ]
  },
  {
   "cell_type": "code",
   "execution_count": 153,
   "metadata": {},
   "outputs": [
    {
     "name": "stdout",
     "output_type": "stream",
     "text": [
      "125817251\n"
     ]
    }
   ],
   "source": [
    "print(snp_positions[np.nanargmin(chi_pvalues)])"
   ]
  },
  {
   "cell_type": "code",
   "execution_count": 198,
   "metadata": {},
   "outputs": [
    {
     "data": {
      "text/plain": [
       "<matplotlib.collections.PathCollection at 0x1124202b0>"
      ]
     },
     "execution_count": 198,
     "metadata": {},
     "output_type": "execute_result"
    },
    {
     "data": {
      "image/png": "[encoded data removed]",
      "text/plain": [
       "<Figure size 432x288 with 1 Axes>"
      ]
     },
     "metadata": {
      "needs_background": "light"
     },
     "output_type": "display_data"
    }
   ],
   "source": [
    "plt.scatter(np.clip(-np.log10(pvalues[:, 0, 2]), 0, 10), \n",
    "            np.clip(-np.log10(pvalues[:, 1, 2]), 0, 10))"
   ]
  },
  {
   "cell_type": "code",
   "execution_count": null,
   "metadata": {},
   "outputs": [],
   "source": []
  }
 ],
 "metadata": {
  "kernelspec": {
   "display_name": "Python 3",
   "language": "python",
   "name": "python3"
  },
  "language_info": {
   "codemirror_mode": {
    "name": "ipython",
    "version": 3
   },
   "file_extension": ".py",
   "mimetype": "text/x-python",
   "name": "python",
   "nbconvert_exporter": "python",
   "pygments_lexer": "ipython3",
   "version": "3.7.3"
  }
 },
 "nbformat": 4,
 "nbformat_minor": 2
}
